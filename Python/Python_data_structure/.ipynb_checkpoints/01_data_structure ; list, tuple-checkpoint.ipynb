{
 "cells": [
  {
   "cell_type": "markdown",
   "metadata": {},
   "source": [
    "# 자료구조01"
   ]
  },
  {
   "cell_type": "markdown",
   "metadata": {},
   "source": [
    "### 파이썬에서 배열은 list 혹은 tuple로 구현가능\n",
    "\n",
    "- 1. 동적 언어 => 다른 타입의 객체가 담길 수 있다\n",
    "- 2. 배열의 크기또한 처음부터 고정시켜줄 필요가 없다\n",
    "\n",
    "#### 자바와의 차이점\n",
    "``` int [] list1 = new int [5]; ```\n",
    "- 1. 정적 언어 => 다른 타입의 객체가 담길 수 없다\n",
    "- 2. 배열의 크기를 지정해줘야한다  \n",
    "- 3. 위의 정적 배열의 불편함을 해결하기 위해서 자바는 collection type의 arraylist를 지원한다\n",
    "\n",
    "### List is mutable object whereas tuple is immutable\n",
    "- 리스트는 선언후에 개별 아이템을 바뀔 수 있지만, 튜플은 바꿀 수 없다"
   ]
  },
  {
   "cell_type": "markdown",
   "metadata": {},
   "source": [
    "#### List 선언하는 방법\n",
    "1. [] \n",
    "2. list()\n",
    "3. str.split() => 최소단위는 공백이다\n",
    "4. list() + range() 활용 => 주로 연속된 정수를 표현하고 싶을때 사용 "
   ]
  },
  {
   "cell_type": "code",
   "execution_count": 5,
   "metadata": {},
   "outputs": [
    {
     "name": "stdout",
     "output_type": "stream",
     "text": [
      "[1, 2, 3]\n",
      "[]\n"
     ]
    }
   ],
   "source": [
    "a = [1,2,3]\n",
    "print(a) # 자바에서는 객체의 주소가 나오지만 파이썬에서는 출력된다\n",
    "\n",
    "b = []   # 비어있는 객체도 선언할 수 있다\n",
    "print(b)"
   ]
  },
  {
   "cell_type": "code",
   "execution_count": 14,
   "metadata": {},
   "outputs": [
    {
     "name": "stdout",
     "output_type": "stream",
     "text": [
      "[]\n",
      "['a', 'b', 'c']\n",
      "[1, 2, 3]\n",
      "[1, 2, 3]\n"
     ]
    }
   ],
   "source": [
    "a = list()\n",
    "print(a)\n",
    "b = list(\"abc\")\n",
    "print(b)\n",
    "c = list([1,2,3])\n",
    "print(c)\n",
    "d = list((1,2,3))\n",
    "print(d)"
   ]
  },
  {
   "cell_type": "code",
   "execution_count": 16,
   "metadata": {},
   "outputs": [
    {
     "name": "stdout",
     "output_type": "stream",
     "text": [
      "['a', 'b', 'c']\n",
      "['I', 'love', 'you']\n"
     ]
    }
   ],
   "source": [
    "a = \"a b c\"\n",
    "print(a.split())\n",
    "b = \"I love you\"\n",
    "print(b.split())"
   ]
  },
  {
   "cell_type": "code",
   "execution_count": 21,
   "metadata": {},
   "outputs": [
    {
     "name": "stdout",
     "output_type": "stream",
     "text": [
      "[0, 1, 2, 3, 4, 5, 6, 7, 8, 9]\n",
      "[1, 2, 3, 4, 5, 6, 7, 8, 9]\n",
      "[1, 3, 5, 7, 9]\n"
     ]
    }
   ],
   "source": [
    "a = list(range(10)) # 0부터 9까지\n",
    "print(a)\n",
    "b = list(range(1,10)) # 1에서 9까지\n",
    "print(b)\n",
    "c = list(range(1,10,2)) # 1 3 5 7 9\n",
    "print(c)"
   ]
  },
  {
   "cell_type": "markdown",
   "metadata": {},
   "source": [
    "#### List에서 원소의 갯수를 고정시켜주지 않아도 객체가 생긴다 하지만 강제로 갯수를 고정시켜주고 싶을때가 있다\n",
    "- 생성시 값을 다 넣어준다면 문제가 되지 않는다\n",
    "- 처음 생성시 비어있는데 원소의 갯수를 지정해주고 싶을때 문제가 발생 => None활용"
   ]
  },
  {
   "cell_type": "code",
   "execution_count": 24,
   "metadata": {},
   "outputs": [
    {
     "name": "stdout",
     "output_type": "stream",
     "text": [
      "[None]\n",
      "[None, None]\n",
      "[None, None, None, None, None, None, None, None, None, None]\n"
     ]
    }
   ],
   "source": [
    "a = [None]\n",
    "print(a)\n",
    "b = [None,None]\n",
    "print(b)\n",
    "c = [None]*10\n",
    "print(c)"
   ]
  },
  {
   "cell_type": "markdown",
   "metadata": {},
   "source": [
    "#### Indexing and Slicing\n",
    "- List는 인덱싱 슬라이싱 둘다 가능\n",
    "- index number 0부터 시작\n",
    "- 음수 index도 지원함 -1이 가장 마지막을 지칭"
   ]
  },
  {
   "cell_type": "code",
   "execution_count": 44,
   "metadata": {},
   "outputs": [
    {
     "name": "stdout",
     "output_type": "stream",
     "text": [
      "[0, 1, 2, 3, 4, 5, 6, 7, 8, 9]\n",
      "0\n",
      "[0, 1, 2, 3]\n"
     ]
    }
   ],
   "source": [
    "a = list(range(0,10))\n",
    "print(a)\n",
    "print(a[0])\n",
    "print(a[0:4]) # 0th ~ 3th까지"
   ]
  },
  {
   "cell_type": "markdown",
   "metadata": {},
   "source": [
    "#### Slicing의 규칙\n",
    "- [i:j:k]\n",
    "- i가 시작 j-1까지 K개씩 건너가며\n",
    "- i 가 비어있으면 => 0\n",
    "- j 가 비어있으면 => len(list)\n",
    "- i j 가 음수일수 있다\n",
    "- k 가 -1 이면 역으로 출력한다  => 이때는 i j 도 역으로 생각하자"
   ]
  },
  {
   "cell_type": "code",
   "execution_count": 66,
   "metadata": {},
   "outputs": [
    {
     "name": "stdout",
     "output_type": "stream",
     "text": [
      "[0, 1, 2, 3, 4, 5, 6, 7, 8, 9, 10]\n",
      "[0, 1, 2, 3, 4, 5, 6, 7, 8, 9, 10]\n",
      "[0, 1, 2, 3, 4]\n",
      "[3, 4, 5, 6, 7, 8, 9, 10]\n",
      "[0, 2, 4, 6, 8, 10]\n",
      "[8, 9, 10]\n",
      "[0, 1, 2, 3, 4, 5, 6, 7]\n",
      "[10, 9, 8, 7, 6, 5, 4, 3, 2, 1, 0]\n",
      "[10, 9, 8, 7, 6, 5]\n"
     ]
    }
   ],
   "source": [
    "a = list(range(11))\n",
    "print(a)\n",
    "print(a[:])  # 전부 다\n",
    "print(a[:5]) # 처음부터 5전까지, 혹은 처음부터 5개\n",
    "print(a[3:]) # 3부터 끝까지\n",
    "print(a[::2]) # 0 2 4 ..\n",
    "\n",
    "print(a[-3:]) # j 에 len(a) 들어가진다\n",
    "print(a[:-3]) # i 에 0이 들어가진다\n",
    "\n",
    "print(a[::-1]) # i = len(a) j =0\n",
    "print(a[10:4:-1])\n",
    "\n"
   ]
  },
  {
   "cell_type": "markdown",
   "metadata": {},
   "source": [
    "#### Mutable vs Immutable\n",
    "- Mutable : List Dict ...\n",
    "- Immutable : String Int Tuple ..."
   ]
  },
  {
   "cell_type": "code",
   "execution_count": 37,
   "metadata": {},
   "outputs": [
    {
     "name": "stdout",
     "output_type": "stream",
     "text": [
      "H\n",
      "ello\n"
     ]
    }
   ],
   "source": [
    "# String\n",
    "# 인덱싱과 슬리이싱은 가능하다\n",
    "# 하지만 immutable이기 때문에 item assignment 불가능하다\n",
    "a = \"Hello python\"\n",
    "print(a[0])\n",
    "print(a[1:5])\n",
    "\n",
    "# a[0] = J 에러 발생 : python does not support item assignment for String"
   ]
  },
  {
   "cell_type": "code",
   "execution_count": 41,
   "metadata": {},
   "outputs": [
    {
     "name": "stdout",
     "output_type": "stream",
     "text": [
      "Hello python\n"
     ]
    }
   ],
   "source": [
    "# replace로 바꿔줄수 있다\n",
    "# 하지만 replace는 바꾼 Stirng을 return할뿐 원래의 스트링 객체는 당연히 그대로다\n",
    "a.replace(\"H\",\"J\")\n",
    "print(a)"
   ]
  },
  {
   "cell_type": "code",
   "execution_count": 82,
   "metadata": {},
   "outputs": [
    {
     "name": "stdout",
     "output_type": "stream",
     "text": [
      "[2, 2, 3]\n",
      "[1, 3]\n",
      "[1, 2, 3]\n",
      "[1, 2, 3, 4, 5, 6, 7, 8, 9]\n",
      "['a', 'b', 'c', 4, 5, 6, 7, 8, 9]\n"
     ]
    }
   ],
   "source": [
    "# List는 Mutable 하기때문에 당연히 item assignment 가능하다\n",
    "a = [1,2,3]\n",
    "a[0] = 2\n",
    "print(a)\n",
    "\n",
    "# slicing을 통해서도 item(s) assignment 가능하다\n",
    "# 위에서 list()를 사용할 수 있었던 타입들로도 가능하다\n",
    "# 정적인 파이썬의 리스트 특성상 꼭 갯수를 맞춰서 assign 할 필요도 없다 => index자동 조절\n",
    "# 타입도 당연히 맞출 필요가 없다\n",
    "a[0:3] = (1,3)\n",
    "print(a)\n",
    "a[0:3] = [1,2,3]\n",
    "print(a)\n",
    "a[0:3] = range(1,10)\n",
    "print(a)\n",
    "a[0:3] = \"abc\"\n",
    "print(a)"
   ]
  },
  {
   "cell_type": "markdown",
   "metadata": {},
   "source": [
    "#### List 내장함수"
   ]
  }
 ],
 "metadata": {
  "kernelspec": {
   "display_name": "Python 3",
   "language": "python",
   "name": "python3"
  },
  "language_info": {
   "codemirror_mode": {
    "name": "ipython",
    "version": 3
   },
   "file_extension": ".py",
   "mimetype": "text/x-python",
   "name": "python",
   "nbconvert_exporter": "python",
   "pygments_lexer": "ipython3",
   "version": "3.8.5"
  }
 },
 "nbformat": 4,
 "nbformat_minor": 4
}
