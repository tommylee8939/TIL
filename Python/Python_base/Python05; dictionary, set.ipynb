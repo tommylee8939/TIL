{
 "cells": [
  {
   "cell_type": "markdown",
   "metadata": {},
   "source": [
    "##  Python05; dictionary, set"
   ]
  },
  {
   "cell_type": "markdown",
   "metadata": {},
   "source": [
    "### dictionary 타입의 특징 \n",
    "- 순서 없다\n",
    "- mutable한 객체\n",
    "- iterable 객체다 단 키값이 기준이다\n",
    "- 키 와 값이 한쌍으로 저장된다\n",
    "- 키는 중복된 값을 가질 수 없다\n",
    "- 선언하는 방식\n",
    "    1. {키:값,키:값,,,}\n",
    "    2. dict([(키,값),(키,값)],,,)\n",
    "    3. dict(zip())\n",
    "- 값에는 모든 데이터 타입 사용 가능 \n",
    "- 키에는 hashable한 타입 즉 immutable한 타입만 들어갈수 있다"
   ]
  },
  {
   "cell_type": "markdown",
   "metadata": {},
   "source": [
    "#### 1. dictionary 선언"
   ]
  },
  {
   "cell_type": "code",
   "execution_count": 14,
   "metadata": {},
   "outputs": [
    {
     "name": "stdout",
     "output_type": "stream",
     "text": [
      "{'name': 'kanghee', 'age': 23}\n",
      "{1: 'kanghee', 2: 23}\n",
      "{(1, 1): 'kanghee', (1, 2): 23}\n",
      "{range(0, 4): 'kanghee', range(0, 10): 23}\n",
      "{'name': 'kanghee', 'age': 23}\n"
     ]
    }
   ],
   "source": [
    "# hashable 한 타입 다 키로 사용 가능\n",
    "dict01 = {'name':'kanghee','age':23}\n",
    "print(dict01)\n",
    "dict01 = {1:'kanghee',2:23}\n",
    "print(dict01)\n",
    "dict01 = {(1,1):'kanghee',(1,2):23}\n",
    "print(dict01)\n",
    "dict01 = {range(4):'kanghee',range(10):23}\n",
    "print(dict01)\n"
   ]
  },
  {
   "cell_type": "code",
   "execution_count": 75,
   "metadata": {},
   "outputs": [
    {
     "name": "stdout",
     "output_type": "stream",
     "text": [
      "{'name': 'kanghee', 1: 23}\n",
      "{'name': 'kanghee', 1: 23}\n",
      "{'name': 'kanghee', 1: 23}\n",
      "{1: 'a', 2: 'b', 3: 'c'}\n"
     ]
    }
   ],
   "source": [
    "# dict함수 이용\n",
    "dict01 = dict([('name','kanghee'),(1,23)])\n",
    "print(dict01)\n",
    "\n",
    "dict02 = dict([['name','kanghee'],[1,23]])\n",
    "print(dict02)\n",
    "\n",
    "dict03 = dict((['name','kanghee'],[1,23]))\n",
    "print(dict03)\n",
    "\n",
    "# zip함수 이용하여 선언 가능\n",
    "# 아래 zip 함수 설명 참조\n",
    "print(dict(zip ([1,2,3],('a','b','c'))))"
   ]
  },
  {
   "cell_type": "code",
   "execution_count": 5,
   "metadata": {},
   "outputs": [
    {
     "name": "stdout",
     "output_type": "stream",
     "text": [
      "{}\n",
      "{}\n"
     ]
    }
   ],
   "source": [
    "# 빈 딕셔너리도 생성가능 \n",
    "dict01 = {}\n",
    "dict02 = dict()\n",
    "print(dict01)\n",
    "print(dict02)"
   ]
  },
  {
   "cell_type": "markdown",
   "metadata": {},
   "source": [
    "#### ⭐️zip⭐️\n",
    "- iterable한 객체에 사용 가능하다\n",
    "- iterable한 두 객체를 쌍으로 묶어 zip 타입으로 반환한다\n",
    "- zip타입을 다시 list tuple 등의 함수를 이용해서 형변환이 가능하다\n",
    "- 참고로 dict를 iterable 한 객체로 사용시 key값이 사용된다"
   ]
  },
  {
   "cell_type": "code",
   "execution_count": 40,
   "metadata": {},
   "outputs": [
    {
     "name": "stdout",
     "output_type": "stream",
     "text": [
      "<zip object at 0x7f82b80875c0>\n",
      "<class 'zip'>\n",
      "[(1, 'a'), (2, 'b'), (3, 'c')]\n",
      "((1, 'a'), (2, 'b'), (3, 'c'))\n",
      "{1: 'a', 2: 'b', 3: 'c'}\n",
      "{(3, 'c'), (2, 'b'), (1, 'a')}\n",
      "{(3, 'c'), (1, 'a')}\n"
     ]
    }
   ],
   "source": [
    "print(zip ([1,2,3],('a','b','c')))\n",
    "print(type(zip ([1,2,3],('a','b','c'))))\n",
    "\n",
    "print(list(zip ([1,2,3],('a','b','c'))))\n",
    "print(tuple(zip ([1,2,3],('a','b','c'))))\n",
    "print(dict(zip ([1,2,3],('a','b','c'))))\n",
    "print(set(zip ([1,2,3],('a','b','c')))) \n",
    "print(set(zip ([1,1,3],('a','a','c'))))  # 집합이기때문에 중복이 있으면 알아서 컷"
   ]
  },
  {
   "cell_type": "markdown",
   "metadata": {},
   "source": [
    "#### 2. dictionary 값에 접근하기\n",
    "- dict[key] 사용"
   ]
  },
  {
   "cell_type": "code",
   "execution_count": 42,
   "metadata": {},
   "outputs": [
    {
     "name": "stdout",
     "output_type": "stream",
     "text": [
      "a\n",
      "b\n",
      "c\n"
     ]
    }
   ],
   "source": [
    "dict01 = dict(zip ([1,'2',(1,2)],('a','b','c')))\n",
    "print(dict01[1])\n",
    "print(dict01['2'])\n",
    "print(dict01[(1,2)])"
   ]
  },
  {
   "cell_type": "markdown",
   "metadata": {},
   "source": [
    "#### 3. dictionary 값 수정하기\n",
    "- dict는 mutable 객체 이기때문에 가능하다"
   ]
  },
  {
   "cell_type": "code",
   "execution_count": 44,
   "metadata": {},
   "outputs": [
    {
     "name": "stdout",
     "output_type": "stream",
     "text": [
      "{1: 1000, '2': 'b', (1, 2): 'c'}\n"
     ]
    }
   ],
   "source": [
    "dict01 = dict(zip ([1,'2',(1,2)],('a','b','c')))\n",
    "dict01[1]=1000\n",
    "print(dict01)"
   ]
  },
  {
   "cell_type": "code",
   "execution_count": 45,
   "metadata": {},
   "outputs": [
    {
     "name": "stdout",
     "output_type": "stream",
     "text": [
      "{1: 'a', '2': 'b', (1, 2): 'c', 4: 1000}\n"
     ]
    }
   ],
   "source": [
    "# 기존에 없는 키값을 이요하면 키:값 이 추가된다\n",
    "dict01 = dict(zip ([1,'2',(1,2)],('a','b','c')))\n",
    "dict01[4]=1000\n",
    "print(dict01)"
   ]
  },
  {
   "cell_type": "markdown",
   "metadata": {},
   "source": [
    "#### 4. dictionary + in 연산자\n",
    "- in 연자는 iterable 객체라고 앞장에서 배웠다\n",
    "- dictionary를 iterbale 객체로 볼때는 키값이 기준이다"
   ]
  },
  {
   "cell_type": "code",
   "execution_count": 48,
   "metadata": {},
   "outputs": [
    {
     "name": "stdout",
     "output_type": "stream",
     "text": [
      "False\n",
      "True\n"
     ]
    }
   ],
   "source": [
    "dict01 = dict(zip ([1,2,3],('a','b','c')))\n",
    "print('a' in dict01) # False다 \n",
    "print(1 in dict01)"
   ]
  },
  {
   "cell_type": "markdown",
   "metadata": {},
   "source": [
    "#### len()함수\n",
    "- 키의 갯수를 알려준다"
   ]
  },
  {
   "cell_type": "code",
   "execution_count": 50,
   "metadata": {},
   "outputs": [
    {
     "name": "stdout",
     "output_type": "stream",
     "text": [
      "3\n"
     ]
    }
   ],
   "source": [
    "dict01 = dict(zip ([1,2,3],('a','b','c')))\n",
    "print(len(dict01))"
   ]
  },
  {
   "cell_type": "markdown",
   "metadata": {},
   "source": [
    "### 📎 dictionary 내장함수"
   ]
  },
  {
   "cell_type": "markdown",
   "metadata": {},
   "source": [
    "#### 1.setdefault()\n",
    "- setdefault(key) value 인자가 생략되어있으면 값에 default로 None이 할당\n",
    "- setdefault(key,value)"
   ]
  },
  {
   "cell_type": "code",
   "execution_count": 66,
   "metadata": {},
   "outputs": [
    {
     "name": "stdout",
     "output_type": "stream",
     "text": [
      "{1: 'a', '2': 'b', 3: None, 4: None, '5': 5}\n"
     ]
    }
   ],
   "source": [
    "a = {1:'a','2':'b'}\n",
    "a.setdefault(3)\n",
    "a.setdefault(4)\n",
    "a.setdefault('5',5)\n",
    "print(a)"
   ]
  },
  {
   "cell_type": "code",
   "execution_count": 71,
   "metadata": {},
   "outputs": [
    {
     "name": "stdout",
     "output_type": "stream",
     "text": [
      "{1: 'a', '2': 'b'}\n"
     ]
    }
   ],
   "source": [
    "# update기능은 수행하지 못한다\n",
    "a = {1:'a','2':'b'}\n",
    "a.setdefault(1,10)\n",
    "print(a)"
   ]
  },
  {
   "cell_type": "markdown",
   "metadata": {},
   "source": [
    "#### 2. update()\n",
    "- update(dict타입)\n",
    "- update(iterable 객체) \n",
    "- iterable객체 안에 키,값 형식이면 다 괜찮다 ; 위에서 dict()를 이용한 선언 방식 참조하자"
   ]
  },
  {
   "cell_type": "code",
   "execution_count": 77,
   "metadata": {},
   "outputs": [
    {
     "name": "stdout",
     "output_type": "stream",
     "text": [
      "{1: 3, '2': 'b', 3: 5}\n"
     ]
    }
   ],
   "source": [
    "a = {1:'a','2':'b'}\n",
    "a.update({1:3})\n",
    "a.update({3:5})\n",
    "print(a)"
   ]
  },
  {
   "cell_type": "code",
   "execution_count": 79,
   "metadata": {},
   "outputs": [
    {
     "name": "stdout",
     "output_type": "stream",
     "text": [
      "{1: 1, '2': 'b', 3: 5}\n",
      "{1: 1, '2': 'b', 3: 5}\n"
     ]
    }
   ],
   "source": [
    "a = {1:'a','2':'b'}\n",
    "a.update([[1,1],[3,5]])\n",
    "print(a)\n",
    "\n",
    "a = {1:'a','2':'b'}\n",
    "a.update(zip([1,3],(1,5)))\n",
    "print(a)"
   ]
  },
  {
   "cell_type": "markdown",
   "metadata": {},
   "source": [
    "#### 3.pop()\n",
    "- pop(key) : 키에 해당하는 키-값 삭제 후 반환 \n",
    "- pop(key,default) : 키에 해당한 키-값 삭제후 반환, 키가 존재하지 않으며 defualt값 반환"
   ]
  },
  {
   "cell_type": "code",
   "execution_count": 81,
   "metadata": {},
   "outputs": [
    {
     "name": "stdout",
     "output_type": "stream",
     "text": [
      "a\n",
      "{'2': 'b'}\n"
     ]
    }
   ],
   "source": [
    "a = {1:'a','2':'b'}\n",
    "print(a.pop(1))\n",
    "print(a)"
   ]
  },
  {
   "cell_type": "code",
   "execution_count": 82,
   "metadata": {},
   "outputs": [
    {
     "ename": "KeyError",
     "evalue": "3",
     "output_type": "error",
     "traceback": [
      "\u001b[0;31m---------------------------------------------------------------------------\u001b[0m",
      "\u001b[0;31mKeyError\u001b[0m                                  Traceback (most recent call last)",
      "\u001b[0;32m<ipython-input-82-cfd82cec1e9f>\u001b[0m in \u001b[0;36m<module>\u001b[0;34m\u001b[0m\n\u001b[1;32m      1\u001b[0m \u001b[0ma\u001b[0m \u001b[0;34m=\u001b[0m \u001b[0;34m{\u001b[0m\u001b[0;36m1\u001b[0m\u001b[0;34m:\u001b[0m\u001b[0;34m'a'\u001b[0m\u001b[0;34m,\u001b[0m\u001b[0;34m'2'\u001b[0m\u001b[0;34m:\u001b[0m\u001b[0;34m'b'\u001b[0m\u001b[0;34m}\u001b[0m\u001b[0;34m\u001b[0m\u001b[0;34m\u001b[0m\u001b[0m\n\u001b[0;32m----> 2\u001b[0;31m \u001b[0mprint\u001b[0m\u001b[0;34m(\u001b[0m\u001b[0ma\u001b[0m\u001b[0;34m.\u001b[0m\u001b[0mpop\u001b[0m\u001b[0;34m(\u001b[0m\u001b[0;36m3\u001b[0m\u001b[0;34m)\u001b[0m\u001b[0;34m)\u001b[0m\u001b[0;34m\u001b[0m\u001b[0;34m\u001b[0m\u001b[0m\n\u001b[0m\u001b[1;32m      3\u001b[0m \u001b[0mprint\u001b[0m\u001b[0;34m(\u001b[0m\u001b[0ma\u001b[0m\u001b[0;34m)\u001b[0m\u001b[0;34m\u001b[0m\u001b[0;34m\u001b[0m\u001b[0m\n",
      "\u001b[0;31mKeyError\u001b[0m: 3"
     ]
    }
   ],
   "source": [
    "a = {1:'a','2':'b'}\n",
    "print(a.pop(3)) # key error\n",
    "print(a)"
   ]
  },
  {
   "cell_type": "code",
   "execution_count": 83,
   "metadata": {},
   "outputs": [
    {
     "name": "stdout",
     "output_type": "stream",
     "text": [
      "None\n",
      "{1: 'a', '2': 'b'}\n"
     ]
    }
   ],
   "source": [
    "a = {1:'a','2':'b'}\n",
    "print(a.pop(3,None)) # key error\n",
    "print(a)"
   ]
  },
  {
   "cell_type": "markdown",
   "metadata": {},
   "source": [
    "#### 4. popitem()\n",
    "- 마지막 키-값을 삭제후 이를 tuple로 반환\n",
    "- 3.5이하 버저에서는 임의의 쌍을 삭제 후 반환"
   ]
  },
  {
   "cell_type": "code",
   "execution_count": 86,
   "metadata": {},
   "outputs": [
    {
     "name": "stdout",
     "output_type": "stream",
     "text": [
      "(4, 'd')\n",
      "(3, 'c')\n",
      "('2', 'b')\n"
     ]
    }
   ],
   "source": [
    "a = {1:'a','2':'b',3:'c',4:'d'}\n",
    "print(a.popitem())\n",
    "print(a.popitem())\n",
    "print(a.popitem())"
   ]
  },
  {
   "cell_type": "markdown",
   "metadata": {},
   "source": [
    "#### 5.get()\n",
    "- get(key) : key에 해당하는 값을 반환 \n",
    "- get(key,default) : key에 해당하는 값을 반환 , 키가 없을시 default value반환"
   ]
  },
  {
   "cell_type": "code",
   "execution_count": 87,
   "metadata": {},
   "outputs": [
    {
     "name": "stdout",
     "output_type": "stream",
     "text": [
      "a\n",
      "0\n"
     ]
    }
   ],
   "source": [
    "a = {1:'a','2':'b',3:'c',4:'d'}\n",
    "print(a.get(1))\n",
    "print(a.get(5,0))"
   ]
  },
  {
   "cell_type": "markdown",
   "metadata": {},
   "source": [
    "#### 6. items() keys() values()\n",
    "- 키 혹은 아이템 혹은 키-아이템 쌍을 모두 반환하는 함수다 \n",
    "- 반환 값들의 type을 주의깊게 살펴보자"
   ]
  },
  {
   "cell_type": "code",
   "execution_count": 90,
   "metadata": {},
   "outputs": [
    {
     "name": "stdout",
     "output_type": "stream",
     "text": [
      "dict_values(['a', 'b', 'c', 'd'])\n",
      "dict_keys([1, '2', 3, 4])\n",
      "dict_items([(1, 'a'), ('2', 'b'), (3, 'c'), (4, 'd')])\n"
     ]
    }
   ],
   "source": [
    "a = {1:'a','2':'b',3:'c',4:'d'}\n",
    "print(a.values())\n",
    "print(a.keys())\n",
    "print(a.items())\n"
   ]
  },
  {
   "cell_type": "code",
   "execution_count": 92,
   "metadata": {},
   "outputs": [
    {
     "name": "stdout",
     "output_type": "stream",
     "text": [
      "<class 'dict_values'>\n",
      "<class 'dict_keys'>\n",
      "<class 'dict_items'>\n"
     ]
    }
   ],
   "source": [
    "a = {1:'a','2':'b',3:'c',4:'d'}\n",
    "print(type(a.values()))\n",
    "print(type(a.keys()))\n",
    "print(type(a.items()))\n",
    "\n",
    "# 이 3개의 타입모두 iterable객체다 => for문 사용 가능"
   ]
  },
  {
   "cell_type": "markdown",
   "metadata": {},
   "source": [
    "#### 7.fromkeys()\n",
    "- dict.keys() 형식으로 사용\n",
    "- fromkeys(keys) \n",
    "- fromkeys(keys,value)"
   ]
  },
  {
   "cell_type": "code",
   "execution_count": 98,
   "metadata": {},
   "outputs": [
    {
     "name": "stdout",
     "output_type": "stream",
     "text": [
      "{1: None, 2: None, 3: None, 4: None}\n",
      "{1: None, 2: None, 3: None, 4: None}\n",
      "{'a': None, 'b': None, 'c': None, 'd': None}\n"
     ]
    }
   ],
   "source": [
    "# keys에 iterable 객체\n",
    "keys1=[1,2,3,4]\n",
    "keys2=(1,2,3,4)\n",
    "keys3='abcd'\n",
    "print(dict.fromkeys(keys1)) # 값이 default로 None\n",
    "print(dict.fromkeys(keys2))\n",
    "print(dict.fromkeys(keys3))"
   ]
  },
  {
   "cell_type": "code",
   "execution_count": 100,
   "metadata": {},
   "outputs": [
    {
     "name": "stdout",
     "output_type": "stream",
     "text": [
      "{1: None, 2: None, 3: None, 4: None}\n",
      "{1: 100, 2: 100, 3: 100, 4: 100}\n"
     ]
    }
   ],
   "source": [
    "keys1=[1,2,3,4]\n",
    "print(dict.fromkeys(keys1))\n",
    "print(dict.fromkeys(keys1,100)) #값이 다 100으로 채워진다"
   ]
  },
  {
   "cell_type": "markdown",
   "metadata": {},
   "source": [
    "#### 7.copy()\n",
    "- 04장 list챕터에서 보았던것 처러 멤버함수 copy는 shallow copy 즉 얕은 복사이다"
   ]
  },
  {
   "cell_type": "code",
   "execution_count": 133,
   "metadata": {},
   "outputs": [
    {
     "name": "stdout",
     "output_type": "stream",
     "text": [
      "False\n",
      "{1: 'a', 2: 'b', 3: 'c', 4: [10, 2, 3]}\n",
      "{1: 'a', 2: 'b', 3: 'c', 4: [10, 2, 3]}\n",
      "{1: 'a', 2: 'b', 3: 'c', 4: [10, 2, 3]}\n",
      "{1: 'a', 2: 'b', 3: 'c', 4: [1, 2, 3]}\n"
     ]
    }
   ],
   "source": [
    "dict01 = {1:'a',2:'b',3:'c',4:[1,2,3]}\n",
    "dict02 = dict01.copy()\n",
    "print(dict01 is dict02) # 다른 주소에 저장이 되긴 한다\n",
    "\n",
    "# 하지만 내부적으로 원소가 같은 주소를 갖기때문에 영향을 받는다\n",
    "dict01[4][0]=10\n",
    "print(dict01)\n",
    "print(dict02)\n",
    "\n",
    "\n",
    "import copy\n",
    "dict01 = {1:'a',2:'b',3:'c',4:[1,2,3]}\n",
    "dict02 = copy.deepcopy(dict01)\n",
    "dict01[4][0]=10\n",
    "print(dict01)\n",
    "print(dict02) # 영향을 받지 않는다"
   ]
  },
  {
   "cell_type": "markdown",
   "metadata": {},
   "source": [
    "### 📎dict + for문"
   ]
  },
  {
   "cell_type": "code",
   "execution_count": 106,
   "metadata": {},
   "outputs": [
    {
     "name": "stdout",
     "output_type": "stream",
     "text": [
      "1\n",
      "2\n",
      "3\n",
      "1\n",
      "2\n",
      "3\n"
     ]
    }
   ],
   "source": [
    "# 반복문으로 key값 출력\n",
    "for i in {1:'a',2:'b',3:'c'}:\n",
    "    print(i)\n",
    "\n",
    "dict01 = {1:'a',2:'b',3:'c'}\n",
    "for i in dict01.keys():\n",
    "    print(i)"
   ]
  },
  {
   "cell_type": "code",
   "execution_count": 105,
   "metadata": {},
   "outputs": [
    {
     "name": "stdout",
     "output_type": "stream",
     "text": [
      "a\n",
      "b\n",
      "c\n",
      "a\n",
      "b\n",
      "c\n"
     ]
    }
   ],
   "source": [
    "# 반복문으로 value만 출력\n",
    "dict01 = {1:'a',2:'b',3:'c'}\n",
    "for i in dict01:\n",
    "    print(dict01.get(i))\n",
    "\n",
    "\n",
    "for i in dict01.values():\n",
    "    print(i)"
   ]
  },
  {
   "cell_type": "code",
   "execution_count": 112,
   "metadata": {},
   "outputs": [
    {
     "name": "stdout",
     "output_type": "stream",
     "text": [
      "1 a\n",
      "2 b\n",
      "3 c\n",
      "1 a\n",
      "2 b\n",
      "3 c\n"
     ]
    }
   ],
   "source": [
    "# 반복문으로 key value 쌍 출력\n",
    "dict01 = {1:'a',2:'b',3:'c'}\n",
    "for key in dict01:\n",
    "    print(key,dict01.get(key))\n",
    "\n",
    "for key,value in dict01.items(): # iterable객체는 tuple unpacking 가능\n",
    "    print(key,value)"
   ]
  },
  {
   "cell_type": "markdown",
   "metadata": {},
   "source": [
    "#### ⭐️주의⭐️\n",
    "- dict 자체를 iterable 객체로 볼때, key이 기준이다\n",
    "- 아래의 코드는 error"
   ]
  },
  {
   "cell_type": "code",
   "execution_count": 111,
   "metadata": {},
   "outputs": [
    {
     "ename": "TypeError",
     "evalue": "cannot unpack non-iterable int object",
     "output_type": "error",
     "traceback": [
      "\u001b[0;31m---------------------------------------------------------------------------\u001b[0m",
      "\u001b[0;31mTypeError\u001b[0m                                 Traceback (most recent call last)",
      "\u001b[0;32m<ipython-input-111-65d74195404e>\u001b[0m in \u001b[0;36m<module>\u001b[0;34m\u001b[0m\n\u001b[0;32m----> 1\u001b[0;31m \u001b[0;32mfor\u001b[0m \u001b[0mkey\u001b[0m\u001b[0;34m,\u001b[0m\u001b[0mvalue\u001b[0m \u001b[0;32min\u001b[0m \u001b[0mdict01\u001b[0m\u001b[0;34m:\u001b[0m\u001b[0;34m\u001b[0m\u001b[0;34m\u001b[0m\u001b[0m\n\u001b[0m\u001b[1;32m      2\u001b[0m     \u001b[0mprint\u001b[0m\u001b[0;34m(\u001b[0m\u001b[0mkey\u001b[0m\u001b[0;34m,\u001b[0m\u001b[0mvalue\u001b[0m\u001b[0;34m)\u001b[0m\u001b[0;34m\u001b[0m\u001b[0;34m\u001b[0m\u001b[0m\n",
      "\u001b[0;31mTypeError\u001b[0m: cannot unpack non-iterable int object"
     ]
    }
   ],
   "source": [
    "for key,value in dict01:\n",
    "    print(key,value)"
   ]
  },
  {
   "cell_type": "markdown",
   "metadata": {},
   "source": [
    "### 📎딕셔너리 표현식\n",
    "- {실행문 for 키:값 in 딕셔너리}\n",
    "- 주의할것은 실행문안에 형식이 키:값 은 최소한으로 유지해 주어야한다"
   ]
  },
  {
   "cell_type": "code",
   "execution_count": 124,
   "metadata": {},
   "outputs": [
    {
     "name": "stdout",
     "output_type": "stream",
     "text": [
      "{1: 'a', 4: 'b', 9: 'c'}\n",
      "{1: 'a!', 2: 'b!', 3: 'c!'}\n"
     ]
    }
   ],
   "source": [
    "dict01 = {1:'a',2:'b',3:'c'}\n",
    "print({key**2:value for key,value in dict01.items()})\n",
    "print({key:value+\"!\" for key,value in dict01.items()})"
   ]
  },
  {
   "cell_type": "code",
   "execution_count": 122,
   "metadata": {},
   "outputs": [
    {
     "name": "stdout",
     "output_type": "stream",
     "text": [
      "{1: None, 2: None, 3: None, 4: None, 5: None}\n",
      "{3: None, 4: None, 5: None, 6: None, 7: None}\n",
      "{1: 10, 2: 10, 3: 10, 4: 10, 5: 10}\n"
     ]
    }
   ],
   "source": [
    "keys = [1,2,3,4,5]\n",
    "print({key:value for key,value in dict.fromkeys(keys).items()})\n",
    "print({key+2:value for key,value in dict.fromkeys(keys).items()})\n",
    "print({key:10 for key in dict.fromkeys(keys)})"
   ]
  },
  {
   "cell_type": "code",
   "execution_count": 126,
   "metadata": {},
   "outputs": [
    {
     "name": "stdout",
     "output_type": "stream",
     "text": [
      "{'b': 2, 'd': 4}\n"
     ]
    }
   ],
   "source": [
    "# 조건문 함께 사용가능\n",
    "# value가 짝수인것만 가져오자\n",
    "dict01 = {'a':1,'b':2,'c':3,'d':4}\n",
    "print({key:value for key,value in dict01.items() if value%2==0})\n"
   ]
  },
  {
   "cell_type": "markdown",
   "metadata": {},
   "source": [
    "### Set 타입의 특징\n",
    "- 순서 없다\n",
    "- mutable 객체다\n",
    "- immutable한 데이터 타입만 담을 수 있다\n",
    "- 중복된 값을 허용하지 않는다\n",
    "- iterable 객체다\n",
    "- 선언하는 방법\n",
    "    1. {값,값,값}\n",
    "    2. set(iterable 객체);set(str) set(ragne) set(list) set(tuple),,,"
   ]
  },
  {
   "cell_type": "code",
   "execution_count": 139,
   "metadata": {},
   "outputs": [
    {
     "name": "stdout",
     "output_type": "stream",
     "text": [
      "{'banana', 'melon', 'apple'}\n",
      "{'p', 'e', 'a', 'l'}\n",
      "{0, 1, 2, 3, 4, 5, 6, 7, 8, 9}\n",
      "{1, 2, 3}\n"
     ]
    }
   ],
   "source": [
    "# 중복 허용하지 않음\n",
    "set01={'apple','banana','melon','apple'}\n",
    "print(set01)\n",
    "\n",
    "set02 = set('apple')\n",
    "print(set02)\n",
    "\n",
    "set03 = set(range(10))\n",
    "print(set03)\n",
    "\n",
    "set04 = set([1,2,3,1,2,3,1])\n",
    "print(set04)"
   ]
  },
  {
   "cell_type": "code",
   "execution_count": 141,
   "metadata": {},
   "outputs": [
    {
     "name": "stdout",
     "output_type": "stream",
     "text": [
      "set()\n",
      "<class 'set'>\n",
      "{}\n",
      "<class 'dict'>\n"
     ]
    }
   ],
   "source": [
    "# 비어있는 set\n",
    "set01 = set()\n",
    "print(set01)\n",
    "print(type(set01))\n",
    "\n",
    "set02 = {}   # dict로 인식한다\n",
    "print(set02)\n",
    "print(type(set02))"
   ]
  },
  {
   "cell_type": "markdown",
   "metadata": {},
   "source": [
    "#### set + in 연산자"
   ]
  },
  {
   "cell_type": "code",
   "execution_count": 143,
   "metadata": {},
   "outputs": [
    {
     "name": "stdout",
     "output_type": "stream",
     "text": [
      "True\n"
     ]
    }
   ],
   "source": [
    "set02 = set('apple')\n",
    "print('a' in set02)"
   ]
  },
  {
   "cell_type": "markdown",
   "metadata": {},
   "source": [
    "### 📎집합연산자\n",
    "- | (합집합)\n",
    "- & (교집합)\n",
    "- \\- (차집합)\n",
    "- ^ (대칭차집합)"
   ]
  },
  {
   "cell_type": "code",
   "execution_count": 152,
   "metadata": {},
   "outputs": [
    {
     "name": "stdout",
     "output_type": "stream",
     "text": [
      "{1, 2, 3, 4, 5, 6}\n",
      "{1, 2, 3, 4, 5, 6}\n"
     ]
    }
   ],
   "source": [
    "set01 ={1,2,3,4}\n",
    "set02 = {3,4,5,6}\n",
    "print(set01|set02)\n",
    "print(set01.union(set02))"
   ]
  },
  {
   "cell_type": "code",
   "execution_count": 153,
   "metadata": {},
   "outputs": [
    {
     "name": "stdout",
     "output_type": "stream",
     "text": [
      "{3, 4}\n",
      "{3, 4}\n"
     ]
    }
   ],
   "source": [
    "set01 ={1,2,3,4}\n",
    "set02 = {3,4,5,6}\n",
    "print(set01&set02)\n",
    "print(set01.intersection(set02))"
   ]
  },
  {
   "cell_type": "code",
   "execution_count": 154,
   "metadata": {},
   "outputs": [
    {
     "name": "stdout",
     "output_type": "stream",
     "text": [
      "{1, 2}\n",
      "{1, 2}\n"
     ]
    }
   ],
   "source": [
    "set01 ={1,2,3,4}\n",
    "set02 = {3,4,5,6}\n",
    "print(set01-set02)\n",
    "print(set01.difference(set02))"
   ]
  },
  {
   "cell_type": "code",
   "execution_count": 155,
   "metadata": {},
   "outputs": [
    {
     "name": "stdout",
     "output_type": "stream",
     "text": [
      "{1, 2, 5, 6}\n",
      "{1, 2, 5, 6}\n"
     ]
    }
   ],
   "source": [
    "set01 ={1,2,3,4}\n",
    "set02 = {3,4,5,6}\n",
    "print(set01^set02)\n",
    "print(set01.symmetric_difference(set02))"
   ]
  },
  {
   "cell_type": "code",
   "execution_count": 159,
   "metadata": {},
   "outputs": [
    {
     "name": "stdout",
     "output_type": "stream",
     "text": [
      "{1, 2, 3, 4, 5, 6}\n",
      "{3, 4}\n",
      "{1, 2}\n",
      "{1, 2, 5, 6}\n"
     ]
    }
   ],
   "source": [
    "# 할당을 위해선 값을 새로운 변수에 저장하던지 기존의 set을 업데이트 시켜주어야 한다\n",
    "set01 ={1,2,3,4}\n",
    "set02 = {3,4,5,6}\n",
    "set01.update(set02)\n",
    "print(set01)\n",
    "\n",
    "set01 ={1,2,3,4}\n",
    "set02 = {3,4,5,6}\n",
    "set01.intersection_update(set02)\n",
    "print(set01)\n",
    "\n",
    "set01 ={1,2,3,4}\n",
    "set02 = {3,4,5,6}\n",
    "set01.difference_update(set02)\n",
    "print(set01)\n",
    "\n",
    "set01 ={1,2,3,4}\n",
    "set02 = {3,4,5,6}\n",
    "set01.symmetric_difference_update(set02)\n",
    "print(set01)"
   ]
  },
  {
   "cell_type": "code",
   "execution_count": null,
   "metadata": {},
   "outputs": [],
   "source": [
    "# 파이썬 스럽게 할당도 가능하다\n",
    "set01 ={1,2,3,4}\n",
    "set02 = {3,4,5,6}\n",
    "set01|=set02\n",
    "print(set01)"
   ]
  },
  {
   "cell_type": "markdown",
   "metadata": {},
   "source": [
    "#### 추가적인 집합연산\n",
    "- <= (부분집합)\n",
    "- \\> (상위집합)\n",
    "- 교집합의 유무"
   ]
  },
  {
   "cell_type": "code",
   "execution_count": 170,
   "metadata": {},
   "outputs": [
    {
     "name": "stdout",
     "output_type": "stream",
     "text": [
      "True\n",
      "True\n",
      "False\n"
     ]
    }
   ],
   "source": [
    "# 부분집합 \n",
    "# set01 가 set02의 부분집합인지 확인\n",
    "set01 ={1,2,4}\n",
    "set02 = {1,2,3,4}\n",
    "print(set01<=set02)\n",
    "print(set01.issubset(set02))\n",
    "\n",
    "\n",
    "set01 ={1,2,3,4}\n",
    "set02 = {1,2,3,4}\n",
    "print(set01<set02) # 진부분집합인지 확인"
   ]
  },
  {
   "cell_type": "code",
   "execution_count": 173,
   "metadata": {},
   "outputs": [
    {
     "name": "stdout",
     "output_type": "stream",
     "text": [
      "True\n",
      "True\n"
     ]
    }
   ],
   "source": [
    "# 상위집합\n",
    "set01 ={1,2,3,4}\n",
    "set02 = {1,2,3}\n",
    "\n",
    "print(set01>=set02)\n",
    "print(set01.issuperset(set02))"
   ]
  },
  {
   "cell_type": "code",
   "execution_count": 175,
   "metadata": {},
   "outputs": [
    {
     "name": "stdout",
     "output_type": "stream",
     "text": [
      "False\n"
     ]
    }
   ],
   "source": [
    "# 교집합\n",
    "set01 ={1,2,3,4}\n",
    "set02 = {3,4,5,6}\n",
    "print(set01.isdisjoint(set02)) # False 나오면 교집합 없다"
   ]
  },
  {
   "cell_type": "markdown",
   "metadata": {},
   "source": [
    "### 📎집합 조작하기"
   ]
  },
  {
   "cell_type": "markdown",
   "metadata": {},
   "source": [
    "#### 1.add(값)"
   ]
  },
  {
   "cell_type": "code",
   "execution_count": 176,
   "metadata": {},
   "outputs": [
    {
     "name": "stdout",
     "output_type": "stream",
     "text": [
      "{1, 2, 3, 4, 5}\n"
     ]
    }
   ],
   "source": [
    "set01 ={1,2,3,4}\n",
    "set01.add(1)\n",
    "set01.add(5)\n",
    "print(set01)"
   ]
  },
  {
   "cell_type": "markdown",
   "metadata": {},
   "source": [
    "#### 2.remove(값)"
   ]
  },
  {
   "cell_type": "code",
   "execution_count": 179,
   "metadata": {},
   "outputs": [
    {
     "name": "stdout",
     "output_type": "stream",
     "text": [
      "{2, 3, 4}\n"
     ]
    }
   ],
   "source": [
    "set01 ={1,2,3,4}\n",
    "set01.remove(1)\n",
    "print(set01)\n",
    "# 없는 값 지우려면 에러난다"
   ]
  },
  {
   "cell_type": "markdown",
   "metadata": {},
   "source": [
    "#### 3.discard"
   ]
  },
  {
   "cell_type": "markdown",
   "metadata": {},
   "source": [
    "#### 4.pop"
   ]
  },
  {
   "cell_type": "markdown",
   "metadata": {},
   "source": [
    "#### 5.clear"
   ]
  },
  {
   "cell_type": "markdown",
   "metadata": {},
   "source": [
    "#### 6.copy"
   ]
  },
  {
   "cell_type": "code",
   "execution_count": null,
   "metadata": {},
   "outputs": [],
   "source": []
  },
  {
   "cell_type": "code",
   "execution_count": null,
   "metadata": {},
   "outputs": [],
   "source": []
  }
 ],
 "metadata": {
  "kernelspec": {
   "display_name": "Python 3",
   "language": "python",
   "name": "python3"
  },
  "language_info": {
   "codemirror_mode": {
    "name": "ipython",
    "version": 3
   },
   "file_extension": ".py",
   "mimetype": "text/x-python",
   "name": "python",
   "nbconvert_exporter": "python",
   "pygments_lexer": "ipython3",
   "version": "3.8.5"
  }
 },
 "nbformat": 4,
 "nbformat_minor": 4
}
