{
 "cells": [
  {
   "cell_type": "markdown",
   "metadata": {},
   "source": [
    "##  Python05; dictionary, set"
   ]
  },
  {
   "cell_type": "markdown",
   "metadata": {},
   "source": [
    "### dictionary 타입의 특징 \n",
    "- mutable한 객체\n",
    "- 키 와 값이 한쌍으로 저장된다\n",
    "- 키는 중복된 값을 가질 수 없다\n",
    "- 선언하는 방식\n",
    "    1. {키:값,키:값,,,}\n",
    "    2. dict([(키,값),(키,값)],,,)\n",
    "    3. dict(zip())\n",
    "- 값에는 모든 데이터 타입 사용 가능 \n",
    "- 키에는 hashable한 타입 즉 immutable한 타입만 들어갈수 있다"
   ]
  },
  {
   "cell_type": "code",
   "execution_count": 14,
   "metadata": {},
   "outputs": [
    {
     "name": "stdout",
     "output_type": "stream",
     "text": [
      "{'name': 'kanghee', 'age': 23}\n",
      "{1: 'kanghee', 2: 23}\n",
      "{(1, 1): 'kanghee', (1, 2): 23}\n",
      "{range(0, 4): 'kanghee', range(0, 10): 23}\n",
      "{'name': 'kanghee', 'age': 23}\n"
     ]
    }
   ],
   "source": [
    "# hashable 한 타입 다 키로 사용 가능\n",
    "dict01 = {'name':'kanghee','age':23}\n",
    "print(dict01)\n",
    "dict01 = {1:'kanghee',2:23}\n",
    "print(dict01)\n",
    "dict01 = {(1,1):'kanghee',(1,2):23}\n",
    "print(dict01)\n",
    "dict01 = {range(4):'kanghee',range(10):23}\n",
    "print(dict01)\n"
   ]
  },
  {
   "cell_type": "code",
   "execution_count": 18,
   "metadata": {},
   "outputs": [
    {
     "name": "stdout",
     "output_type": "stream",
     "text": [
      "{'name': 'kanghee', 1: 23}\n"
     ]
    }
   ],
   "source": [
    "# dict함수 이용\n",
    "dict02 = dict([('name','kanghee'),(1,23)])\n",
    "print(dict02)"
   ]
  },
  {
   "cell_type": "code",
   "execution_count": 5,
   "metadata": {},
   "outputs": [
    {
     "name": "stdout",
     "output_type": "stream",
     "text": [
      "{}\n",
      "{}\n"
     ]
    }
   ],
   "source": [
    "# 빈 딕셔너리도 생성가능 \n",
    "dict01 = {}\n",
    "dict02 = dict()\n",
    "print(dict01)\n",
    "print(dict02)"
   ]
  },
  {
   "cell_type": "code",
   "execution_count": 39,
   "metadata": {},
   "outputs": [
    {
     "name": "stdout",
     "output_type": "stream",
     "text": [
      "{1: 'a', 2: 'b', 3: 'c'}\n"
     ]
    }
   ],
   "source": [
    "# zip함수 이용하여 선언 가능\n",
    "# 아래 zip 함수 설명 참조\n",
    "print(dict(zip ([1,2,3],('a','b','c'))))"
   ]
  },
  {
   "cell_type": "markdown",
   "metadata": {},
   "source": [
    "#### ⭐️zip⭐️\n",
    "- iterable한 객체에 사용 가능하다\n",
    "- iterable한 두 객체를 쌍으로 묶어 zip 타입으로 반환한다\n",
    "- zip타입을 다시 list tuple 등의 함수를 이용해서 형변환이 가능하다\n",
    "- 참고로 dict를 iterable 한 객체로 사용시 key값이 사용된다"
   ]
  },
  {
   "cell_type": "code",
   "execution_count": 40,
   "metadata": {},
   "outputs": [
    {
     "name": "stdout",
     "output_type": "stream",
     "text": [
      "<zip object at 0x7f82b80875c0>\n",
      "<class 'zip'>\n",
      "[(1, 'a'), (2, 'b'), (3, 'c')]\n",
      "((1, 'a'), (2, 'b'), (3, 'c'))\n",
      "{1: 'a', 2: 'b', 3: 'c'}\n",
      "{(3, 'c'), (2, 'b'), (1, 'a')}\n",
      "{(3, 'c'), (1, 'a')}\n"
     ]
    }
   ],
   "source": [
    "print(zip ([1,2,3],('a','b','c')))\n",
    "print(type(zip ([1,2,3],('a','b','c'))))\n",
    "\n",
    "print(list(zip ([1,2,3],('a','b','c'))))\n",
    "print(tuple(zip ([1,2,3],('a','b','c'))))\n",
    "print(dict(zip ([1,2,3],('a','b','c'))))\n",
    "print(set(zip ([1,2,3],('a','b','c')))) \n",
    "print(set(zip ([1,1,3],('a','a','c'))))  # 집합이기때문에 중복이 있으면 알아서 컷"
   ]
  },
  {
   "cell_type": "markdown",
   "metadata": {},
   "source": [
    "#### dictionary 값에 접근하기\n",
    "- dict[key] 사용"
   ]
  },
  {
   "cell_type": "code",
   "execution_count": 42,
   "metadata": {},
   "outputs": [
    {
     "name": "stdout",
     "output_type": "stream",
     "text": [
      "a\n",
      "b\n",
      "c\n"
     ]
    }
   ],
   "source": [
    "dict01 = dict(zip ([1,'2',(1,2)],('a','b','c')))\n",
    "print(dict01[1])\n",
    "print(dict01['2'])\n",
    "print(dict01[(1,2)])"
   ]
  },
  {
   "cell_type": "markdown",
   "metadata": {},
   "source": [
    "#### dictionary 값 수정하기\n",
    "- dict는 mutable 객체 이기때문에 가능하다"
   ]
  },
  {
   "cell_type": "code",
   "execution_count": 44,
   "metadata": {},
   "outputs": [
    {
     "name": "stdout",
     "output_type": "stream",
     "text": [
      "{1: 1000, '2': 'b', (1, 2): 'c'}\n"
     ]
    }
   ],
   "source": [
    "dict01 = dict(zip ([1,'2',(1,2)],('a','b','c')))\n",
    "dict01[1]=1000\n",
    "print(dict01)"
   ]
  },
  {
   "cell_type": "code",
   "execution_count": 45,
   "metadata": {},
   "outputs": [
    {
     "name": "stdout",
     "output_type": "stream",
     "text": [
      "{1: 'a', '2': 'b', (1, 2): 'c', 4: 1000}\n"
     ]
    }
   ],
   "source": [
    "# 기존에 없는 키값을 이요하면 키:값 이 추가된다\n",
    "dict01 = dict(zip ([1,'2',(1,2)],('a','b','c')))\n",
    "dict01[4]=1000\n",
    "print(dict01)"
   ]
  },
  {
   "cell_type": "markdown",
   "metadata": {},
   "source": [
    "#### dictionary + in 연산자\n",
    "- in 연자는 iterable 객체라고 앞장에서 배웠다\n",
    "- dictionary를 iterbale 객체로 볼때는 키값이 기준이다"
   ]
  },
  {
   "cell_type": "code",
   "execution_count": 48,
   "metadata": {},
   "outputs": [
    {
     "name": "stdout",
     "output_type": "stream",
     "text": [
      "False\n",
      "True\n"
     ]
    }
   ],
   "source": [
    "dict01 = dict(zip ([1,2,3],('a','b','c')))\n",
    "print('a' in dict01) # False다 \n",
    "print(1 in dict01)"
   ]
  },
  {
   "cell_type": "markdown",
   "metadata": {},
   "source": [
    "#### len()함수\n",
    "- 키의 갯수를 알려준다"
   ]
  },
  {
   "cell_type": "code",
   "execution_count": 50,
   "metadata": {},
   "outputs": [
    {
     "name": "stdout",
     "output_type": "stream",
     "text": [
      "3\n"
     ]
    }
   ],
   "source": [
    "dict01 = dict(zip ([1,2,3],('a','b','c')))\n",
    "print(len(dict01))"
   ]
  },
  {
   "cell_type": "code",
   "execution_count": null,
   "metadata": {},
   "outputs": [],
   "source": []
  },
  {
   "cell_type": "code",
   "execution_count": 61,
   "metadata": {},
   "outputs": [],
   "source": [
    "### dictionary 내장함수"
   ]
  },
  {
   "cell_type": "code",
   "execution_count": 60,
   "metadata": {},
   "outputs": [
    {
     "name": "stdout",
     "output_type": "stream",
     "text": [
      "{'a': 2, 2: 'b', 3: 'c'}\n",
      "{'a': 2, 2: 'b', 3: 'c', 1: None}\n"
     ]
    }
   ],
   "source": [
    "dict01 = dict(zip (['a',2,3],('a','b','c')))\n",
    "dict01.update(a=2)\n",
    "print(dict01)\n",
    "dict01.setdefault(1)\n",
    "print(dict01)"
   ]
  },
  {
   "cell_type": "code",
   "execution_count": null,
   "metadata": {},
   "outputs": [],
   "source": []
  }
 ],
 "metadata": {
  "kernelspec": {
   "display_name": "Python 3",
   "language": "python",
   "name": "python3"
  },
  "language_info": {
   "codemirror_mode": {
    "name": "ipython",
    "version": 3
   },
   "file_extension": ".py",
   "mimetype": "text/x-python",
   "name": "python",
   "nbconvert_exporter": "python",
   "pygments_lexer": "ipython3",
   "version": "3.8.5"
  }
 },
 "nbformat": 4,
 "nbformat_minor": 4
}
