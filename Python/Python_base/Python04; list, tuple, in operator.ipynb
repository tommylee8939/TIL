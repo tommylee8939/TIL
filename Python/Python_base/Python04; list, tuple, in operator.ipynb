{
 "cells": [
  {
   "cell_type": "markdown",
   "metadata": {},
   "source": [
    "## Python04; list, tuple, in"
   ]
  },
  {
   "cell_type": "markdown",
   "metadata": {},
   "source": [
    "### list 타입의 특징\n",
    "- sequentail type\n",
    "- mutable 객체다\n",
    "- 리스트 타입은 파이썬의 모든 데이터 타입을 저장한다\n",
    "- 다른 언어에서 배웠던 배열이랑 다르다\n",
    "    1. interpreter 언어이기 때문에 size를 미리 선언할 필요 없다\n",
    "    2. 하나가 아닌 여러개의 데이터 타입을 동시에 저장가능하다\n",
    "- 선언하는 방법\n",
    "    1. [value,value,value,value,,,]\n",
    "    2. list(1 arguement) ; ex) list(range) list(str) ..."
   ]
  },
  {
   "cell_type": "markdown",
   "metadata": {},
   "source": [
    "#### ⭐️주의⭐️\n",
    "- 리스트 자체가 mutable한 객체이지만 리스트 안에 객체가 immutable일 경우 똑같이 수정 불가다"
   ]
  },
  {
   "cell_type": "code",
   "execution_count": 109,
   "metadata": {},
   "outputs": [
    {
     "name": "stdout",
     "output_type": "stream",
     "text": [
      "[10, 2, 3, [1, 2]]\n",
      "[10, 2, 3, [1, 10]]\n"
     ]
    },
    {
     "ename": "TypeError",
     "evalue": "'tuple' object does not support item assignment",
     "output_type": "error",
     "traceback": [
      "\u001b[0;31m---------------------------------------------------------------------------\u001b[0m",
      "\u001b[0;31mTypeError\u001b[0m                                 Traceback (most recent call last)",
      "\u001b[0;32m<ipython-input-109-6bcc7c95499e>\u001b[0m in \u001b[0;36m<module>\u001b[0;34m\u001b[0m\n\u001b[1;32m      6\u001b[0m \u001b[0;34m\u001b[0m\u001b[0m\n\u001b[1;32m      7\u001b[0m \u001b[0ma\u001b[0m\u001b[0;34m=\u001b[0m \u001b[0;34m[\u001b[0m\u001b[0;36m1\u001b[0m\u001b[0;34m,\u001b[0m\u001b[0;36m2\u001b[0m\u001b[0;34m,\u001b[0m\u001b[0;36m3\u001b[0m\u001b[0;34m,\u001b[0m\u001b[0;34m(\u001b[0m\u001b[0;36m1\u001b[0m\u001b[0;34m,\u001b[0m\u001b[0;36m2\u001b[0m\u001b[0;34m)\u001b[0m\u001b[0;34m]\u001b[0m\u001b[0;34m\u001b[0m\u001b[0;34m\u001b[0m\u001b[0m\n\u001b[0;32m----> 8\u001b[0;31m \u001b[0ma\u001b[0m\u001b[0;34m[\u001b[0m\u001b[0;36m3\u001b[0m\u001b[0;34m]\u001b[0m\u001b[0;34m[\u001b[0m\u001b[0;36m1\u001b[0m\u001b[0;34m]\u001b[0m\u001b[0;34m=\u001b[0m\u001b[0;36m10\u001b[0m  \u001b[0;31m# error\u001b[0m\u001b[0;34m\u001b[0m\u001b[0;34m\u001b[0m\u001b[0m\n\u001b[0m",
      "\u001b[0;31mTypeError\u001b[0m: 'tuple' object does not support item assignment"
     ]
    }
   ],
   "source": [
    "a = [1,2,3,[1,2]]\n",
    "a[0]=10\n",
    "print(a) # mutable 객체\n",
    "a[3][1]=10\n",
    "print(a)\n",
    "\n",
    "a= [1,2,3,(1,2)]\n",
    "a[3][1]=10  # error"
   ]
  },
  {
   "cell_type": "markdown",
   "metadata": {},
   "source": [
    "### 📎 리스트 조작하기\n",
    "- 다양한 리스트의 멤버 함수에 대해 알아보자\n",
    "- 리스트는 기본적으로 mutabale한 객체이기 때문에 조작시 값이 변경되고 주소값은 변하지 않는다"
   ]
  },
  {
   "cell_type": "markdown",
   "metadata": {},
   "source": [
    "#### 1. append( ) extend( ) insert( )\n",
    "- append(): 리스트 끝에 원소 추가 \n",
    "- extend(리스트): 리스트끝에 다른 리스트를 연결\n",
    "- insert(index,요소): 지정된 index에 요소 추가\n",
    "- 02장에서 보았던 것처럼 slicing과 indexing으로도 값을 할당할수 있다(mutable객체이기 때문)"
   ]
  },
  {
   "cell_type": "code",
   "execution_count": 4,
   "metadata": {},
   "outputs": [
    {
     "name": "stdout",
     "output_type": "stream",
     "text": [
      "[1, 2, 3, 4] , 리스트의 길이는 4\n",
      "[1, 2, 3, 4, [4, 5]] , 리스트의 길이는 5\n"
     ]
    }
   ],
   "source": [
    "# append()\n",
    "a = [1,2,3]\n",
    "a.append(4)\n",
    "print(a,', 리스트의 길이는',len(a))\n",
    "a.append([4,5])\n",
    "print(a,', 리스트의 길이는',len(a)) #[4,5] 자체가 하나의 원소로 들어감"
   ]
  },
  {
   "cell_type": "code",
   "execution_count": 6,
   "metadata": {},
   "outputs": [
    {
     "name": "stdout",
     "output_type": "stream",
     "text": [
      "[1, 2, 3, 4, 5, 6] , 리스트의 길이는 6\n"
     ]
    }
   ],
   "source": [
    "# extend\n",
    "a = [1,2,3]\n",
    "a.extend([4,5,6])\n",
    "print(a,', 리스트의 길이는',len(a))"
   ]
  },
  {
   "cell_type": "code",
   "execution_count": 10,
   "metadata": {},
   "outputs": [
    {
     "name": "stdout",
     "output_type": "stream",
     "text": [
      "[1, 1.5, 2, 3] , 리스트의 길이는 4\n",
      "[1, 1.5, [1.6, 1.7, 1.8, 1.9], 2, 3] , 리스트의 길이는 5\n"
     ]
    }
   ],
   "source": [
    "# insert\n",
    "a = [1,2,3]\n",
    "a.insert(1,1.5)\n",
    "print(a,', 리스트의 길이는',len(a))\n",
    "a.insert(2,[1.6,1.7,1.8,1.9])\n",
    "print(a,', 리스트의 길이는',len(a)) #[1.6,1.7,1.8,1.9] 자체가 하나의 원소로 삽입됨"
   ]
  },
  {
   "cell_type": "markdown",
   "metadata": {},
   "source": [
    "#### 2. pop() remove()\n",
    "- pop(): 마지막 요소 또는 특정 인덱스의 요소를 삭제하고 값을 return함\n",
    "- remove(원소): 특정 원소를 찾아서 삭제"
   ]
  },
  {
   "cell_type": "code",
   "execution_count": 14,
   "metadata": {},
   "outputs": [
    {
     "name": "stdout",
     "output_type": "stream",
     "text": [
      "지원진 원소는 3\n",
      "지원진 원소는 1\n"
     ]
    }
   ],
   "source": [
    "#pop()\n",
    "#인자가 없으면 마지막 index의 원소를 삭제하고 반환\n",
    "a = [1,2,3]\n",
    "deleted = a.pop()\n",
    "print('지원진 원소는',deleted)\n",
    "\n",
    "a = [1,2,3]\n",
    "deleted = a.pop(0)\n",
    "print('지원진 원소는',deleted)"
   ]
  },
  {
   "cell_type": "code",
   "execution_count": 20,
   "metadata": {},
   "outputs": [
    {
     "name": "stdout",
     "output_type": "stream",
     "text": [
      "[2, 3]\n"
     ]
    },
    {
     "ename": "ValueError",
     "evalue": "list.remove(x): x not in list",
     "output_type": "error",
     "traceback": [
      "\u001b[0;31m---------------------------------------------------------------------------\u001b[0m",
      "\u001b[0;31mValueError\u001b[0m                                Traceback (most recent call last)",
      "\u001b[0;32m<ipython-input-20-98a6400beab0>\u001b[0m in \u001b[0;36m<module>\u001b[0;34m\u001b[0m\n\u001b[1;32m      6\u001b[0m \u001b[0;34m\u001b[0m\u001b[0m\n\u001b[1;32m      7\u001b[0m \u001b[0ma\u001b[0m \u001b[0;34m=\u001b[0m \u001b[0;34m[\u001b[0m\u001b[0;36m1\u001b[0m\u001b[0;34m,\u001b[0m\u001b[0;36m2\u001b[0m\u001b[0;34m,\u001b[0m\u001b[0;36m3\u001b[0m\u001b[0;34m]\u001b[0m\u001b[0;34m\u001b[0m\u001b[0;34m\u001b[0m\u001b[0m\n\u001b[0;32m----> 8\u001b[0;31m \u001b[0ma\u001b[0m\u001b[0;34m.\u001b[0m\u001b[0mremove\u001b[0m\u001b[0;34m(\u001b[0m\u001b[0;36m4\u001b[0m\u001b[0;34m)\u001b[0m  \u001b[0;31m# error발생 : list.remove(x): x not in list\u001b[0m\u001b[0;34m\u001b[0m\u001b[0;34m\u001b[0m\u001b[0m\n\u001b[0m\u001b[1;32m      9\u001b[0m \u001b[0mprint\u001b[0m\u001b[0;34m(\u001b[0m\u001b[0ma\u001b[0m\u001b[0;34m)\u001b[0m\u001b[0;34m\u001b[0m\u001b[0;34m\u001b[0m\u001b[0m\n",
      "\u001b[0;31mValueError\u001b[0m: list.remove(x): x not in list"
     ]
    }
   ],
   "source": [
    "# remove()\n",
    "# 반환값 없는 함수다\n",
    "a = [1,2,3]\n",
    "a.remove(1)\n",
    "print(a)\n",
    "\n",
    "a = [1,2,3]\n",
    "a.remove(4)  # error발생 : list.remove(x): x not in list\n",
    "print(a) \n"
   ]
  },
  {
   "cell_type": "markdown",
   "metadata": {},
   "source": [
    "#### 3.index(값)\n",
    "- 특정 원소의 index를 반환해준다\n",
    "- 같은 원소가 여러개 있을시 처음 찾은 인덱스를 반환"
   ]
  },
  {
   "cell_type": "code",
   "execution_count": 22,
   "metadata": {},
   "outputs": [
    {
     "name": "stdout",
     "output_type": "stream",
     "text": [
      "0\n",
      "2\n"
     ]
    }
   ],
   "source": [
    "a = [1,2,3,1,1,1]\n",
    "idx = a.index(1)\n",
    "print(idx)\n",
    "idx = a.index(3)\n",
    "print(idx)"
   ]
  },
  {
   "cell_type": "markdown",
   "metadata": {},
   "source": [
    "#### 4.reverse()\n",
    "- 리스트의 순서를 역으로 뒤집는다\n",
    "- 정렬과는 다르다"
   ]
  },
  {
   "cell_type": "code",
   "execution_count": 25,
   "metadata": {},
   "outputs": [
    {
     "name": "stdout",
     "output_type": "stream",
     "text": [
      "[9, 8, 7, 6, 5, 4, 3, 2, 1, 0]\n",
      "[10, 3, 2, 6, 1, 5, 2, 4, 1]\n"
     ]
    }
   ],
   "source": [
    "a= list(range(10))\n",
    "a.reverse()\n",
    "print(a)\n",
    "\n",
    "a= [1,4,2,5,1,6,2,3,10]\n",
    "a.reverse()\n",
    "print(a)"
   ]
  },
  {
   "cell_type": "markdown",
   "metadata": {},
   "source": [
    "#### 5. sort()\n",
    "- 오름차순 정렬\n",
    "- reverse = Ture 설정시 내림차순 정렬"
   ]
  },
  {
   "cell_type": "code",
   "execution_count": 29,
   "metadata": {},
   "outputs": [
    {
     "name": "stdout",
     "output_type": "stream",
     "text": [
      "[1, 1, 1, 2, 3, 3, 4, 5]\n",
      "[5, 4, 3, 3, 2, 1, 1, 1]\n"
     ]
    }
   ],
   "source": [
    "a=[1,2,3,1,5,1,3,4]\n",
    "a.sort()\n",
    "print(a)\n",
    "\n",
    "a=[1,2,3,1,5,1,3,4]\n",
    "a.sort(reverse=True)\n",
    "print(a)"
   ]
  },
  {
   "cell_type": "markdown",
   "metadata": {},
   "source": [
    "#### ⭐️sort vs sorted⭐️\n",
    "- sort()는 list의 멤버 함수\n",
    "- sorted() 내장 함수"
   ]
  },
  {
   "cell_type": "code",
   "execution_count": 35,
   "metadata": {},
   "outputs": [
    {
     "name": "stdout",
     "output_type": "stream",
     "text": [
      "[1, 1, 1, 2, 3, 3, 4, 5]\n",
      "[1, 2, 3, 1, 5, 1, 3, 4]\n"
     ]
    }
   ],
   "source": [
    "a=[1,2,3,1,5,1,3,4]\n",
    "print(sorted(a)) # 새로운 리스트로 반환한다\n",
    "print(a) # 멤버함수와 다르게 리스트 자체를 변경시키지 않는다"
   ]
  },
  {
   "cell_type": "markdown",
   "metadata": {},
   "source": [
    "#### 6.clear()\n",
    "- 리스트 안에 모든 요소 삭제"
   ]
  },
  {
   "cell_type": "code",
   "execution_count": 36,
   "metadata": {},
   "outputs": [
    {
     "name": "stdout",
     "output_type": "stream",
     "text": [
      "[]\n"
     ]
    }
   ],
   "source": [
    "a = [1,2,3,4,5]\n",
    "a.clear()\n",
    "print(a)"
   ]
  },
  {
   "cell_type": "markdown",
   "metadata": {},
   "source": [
    "#### 7.copy()\n",
    "- 리스트의 원소 값을 복사해 새로운 리스트로 반환\n",
    "- 기존 리스트와 새로 만들어진 리스트의 주소값은 다르다. 하지만 내부적으로 원소의 주소는 같다(얕은복사)\n"
   ]
  },
  {
   "cell_type": "code",
   "execution_count": 38,
   "metadata": {},
   "outputs": [
    {
     "name": "stdout",
     "output_type": "stream",
     "text": [
      "[1, 2, 3, 4, 5]\n",
      "[1, 2, 3, 4, 5]\n"
     ]
    }
   ],
   "source": [
    "a = [1,2,3,4,5]\n",
    "b = a\n",
    "print(b)\n",
    "\n",
    "a = [1,2,3,4,5]\n",
    "b = a.copy()\n",
    "print(b)"
   ]
  },
  {
   "cell_type": "code",
   "execution_count": 61,
   "metadata": {},
   "outputs": [
    {
     "name": "stdout",
     "output_type": "stream",
     "text": [
      "a의 주소: 140314602897600\n",
      "b의 주소: 140314602897600\n",
      "[1, 2, 3, 4, 5, 6]\n",
      "[1, 2, 3, 4, 5, 6]\n",
      "--------------------\n",
      "a의 주소: 140314604505920\n",
      "b의 주소: 140314604489152\n",
      "[1, 2, 3, 4, 5, 6]\n",
      "[1, 2, 3, 4, 5]\n",
      "[1, 2, 3, [3, 2, 1]]\n",
      "[1, 2, 3, [3, 2, 1]]\n"
     ]
    }
   ],
   "source": [
    "# 위의 두 출력물은 동일한 결과를 출력한다 차이점은 무엇일까?\n",
    "a = [1,2,3,4,5]\n",
    "b = a\n",
    "print('a의 주소:',id(a))\n",
    "print('b의 주소:',id(b)) \n",
    "#동일한 주솟값을 갖는다=> 이 경우 리스트가 mutable한 객체이기 때문에 a 또는 b에서 리스트를 \n",
    "#조작할시 모두 영향을 받는다\n",
    "a.append(6)\n",
    "print(a)\n",
    "print(b)\n",
    "print('-'*20)\n",
    "\n",
    "\n",
    "a = [1,2,3,4,5]\n",
    "b = a.copy()\n",
    "print('a의 주소:',id(a))\n",
    "print('b의 주소:',id(b)) \n",
    "# b는 새로운 주솟값 => 객체의 주소가 다름으로 영향을 받지 않는다\n",
    "a.append(6)\n",
    "print(a)\n",
    "print(b)\n",
    "\n",
    "# 문제는 내부적으로 원소의 주소값이 같다는것이다\n",
    "a = [1,2,3,[1,2,3]]\n",
    "b = a.copy()\n",
    "\n",
    "a[3].reverse()\n",
    "print(a)\n",
    "print(b)\n"
   ]
  },
  {
   "cell_type": "markdown",
   "metadata": {},
   "source": [
    "#### ⭐️깊은복사 vs 얕은복사⭐️\n",
    "- 타 언어와 동일하게 일반적인 얕은 복사는 참조 복사다.\n",
    "- 하지만 파이썬 에서는 mutable 객체에서 멤버함수 copy를 제공하는데\n",
    "    1. mutable 객체의 멤버 함수 copy()\n",
    "    2. copy moudule의 copy.copy()\n",
    "- 깊은 복사는 값 자체를 복사하여 새로운 객체를 반환하는 복사이다\n",
    "    1. copy module의 copy.deepcopy()"
   ]
  },
  {
   "cell_type": "code",
   "execution_count": 46,
   "metadata": {},
   "outputs": [
    {
     "name": "stdout",
     "output_type": "stream",
     "text": [
      "140314601474368\n",
      "140314601474368\n",
      "140314601790256\n",
      "140314601790256\n"
     ]
    }
   ],
   "source": [
    "# 얕은 복사\n",
    "a = [1,2,3]\n",
    "b = a\n",
    "print(id(a))\n",
    "print(id(b))\n",
    "\n",
    "a = 'Hello python'\n",
    "b = a\n",
    "print(id(a))\n",
    "print(id(b))"
   ]
  },
  {
   "cell_type": "code",
   "execution_count": 67,
   "metadata": {},
   "outputs": [
    {
     "name": "stdout",
     "output_type": "stream",
     "text": [
      "140314611916736\n",
      "140314611915392\n",
      "4378777952\n",
      "4378777952\n",
      "[1, 2, 3, [3, 2, 1]]\n",
      "[1, 2, 3, [3, 2, 1]]\n",
      "[3, 2, 3, [1, 2, 3]]\n",
      "[1, 2, 3, [1, 2, 3]]\n"
     ]
    }
   ],
   "source": [
    "# 얕은 복사\n",
    "# 아래의 예제는 언뜻보면 깊은 복사 같지만 얕은 복사이다\n",
    "a = [1,2,3,[1,2,3]]\n",
    "b = a[:]\n",
    "print(id(a))\n",
    "print(id(b)) \n",
    " \n",
    "# a b의 객체의 주소 자체는 다르다 그러나 원소의 주소가 같다\n",
    "print(id(a[0]))\n",
    "print(id(b[0]))\n",
    "\n",
    "a[3].reverse()\n",
    "print(a)\n",
    "print(b) # 원소의 주소가 같기 때문에 영향을 받는다\n",
    "\n",
    "\n",
    "# 값을 일일히 재할당해주면 문제가 없어지지만\n",
    "# 원소하나씩 재할당 해주는건 매우 비효율적이다\n",
    "b[0] = 1 # 재할당해도 주소값이 같을 수는 있는데 이는 파이썬의 효율적인 메모리 관리 때문인다 이점은 무시해도 된다\n",
    "a[0]=3\n",
    "\n",
    "a[3].reverse()\n",
    "print(a)\n",
    "print(b)\n"
   ]
  },
  {
   "cell_type": "code",
   "execution_count": 66,
   "metadata": {},
   "outputs": [
    {
     "name": "stdout",
     "output_type": "stream",
     "text": [
      "[3, 2, 3, [3, 2, 1]]\n",
      "[1, 2, 3, [1, 2, 3]]\n"
     ]
    }
   ],
   "source": [
    "# 깊은 복사\n",
    "# import copy로 copy module 사용해도 된다 copy.deepcopy함수 사용\n",
    "\n",
    "import copy\n",
    "\n",
    "a = [1,2,3,[1,2,3]]\n",
    "b = copy.deepcopy(a)\n",
    "\n",
    "a[0] = 3\n",
    "a[3].reverse()\n",
    "\n",
    "print(a)\n",
    "print(b) # 전혀 영향을 주지 않는다\n",
    "\n"
   ]
  },
  {
   "cell_type": "markdown",
   "metadata": {},
   "source": [
    "### 📎 in 연산자\n",
    "- 값이 해당 데이터 타입에 들어있는지 논리값으로 반환해줌\n",
    "- iterable 객체에 사용 가능 \n",
    "- iterable 객체는 string, range, list ,tuple, dict, set\n",
    "- 다만 dict는 in 사용시 key값을 의미함(다음 장에서 dict 설명)"
   ]
  },
  {
   "cell_type": "code",
   "execution_count": 73,
   "metadata": {},
   "outputs": [
    {
     "name": "stdout",
     "output_type": "stream",
     "text": [
      "True\n",
      "True\n",
      "True\n",
      "False\n",
      "True\n"
     ]
    }
   ],
   "source": [
    "print('a' in 'abc')\n",
    "print('b' in ['a','b','c'])\n",
    "print(0 in range(10))\n",
    "print( (1,2) in (1,2))\n",
    "print( (1,2) in (1,2,(1,2)))"
   ]
  },
  {
   "cell_type": "markdown",
   "metadata": {},
   "source": [
    "### 📎 for + in \n",
    "- for문은 반복문을 의미한다(for문 챕터 참고)\n",
    "- for a in iterable 객체 형식으로 사용"
   ]
  },
  {
   "cell_type": "code",
   "execution_count": 75,
   "metadata": {},
   "outputs": [
    {
     "name": "stdout",
     "output_type": "stream",
     "text": [
      "0+1+2+3+4+5+6+7+8+9+"
     ]
    }
   ],
   "source": [
    "for i in range(10):\n",
    "    print(i,end='+')"
   ]
  },
  {
   "cell_type": "code",
   "execution_count": 76,
   "metadata": {},
   "outputs": [
    {
     "name": "stdout",
     "output_type": "stream",
     "text": [
      "1\n",
      "2\n",
      "3\n",
      "4\n"
     ]
    }
   ],
   "source": [
    "for i in [1,2,3,4]:\n",
    "    print(i)"
   ]
  },
  {
   "cell_type": "markdown",
   "metadata": {},
   "source": [
    "### 📎 리스트 표현식\n",
    "- [실행문 for 변수 in 열거형객체]\n",
    "- list(실행문 for 변수 in 열거형객체)\n",
    "- [실행문 for 변수 in 열거형객체 if 조건식]\n",
    "- 열거형 객체는 iterable 객체를 의미한다"
   ]
  },
  {
   "cell_type": "code",
   "execution_count": 77,
   "metadata": {},
   "outputs": [
    {
     "name": "stdout",
     "output_type": "stream",
     "text": [
      "[0, 1, 2, 3, 4, 5, 6, 7, 8, 9]\n",
      "[0, 1, 2, 3, 4, 5, 6, 7, 8, 9]\n"
     ]
    }
   ],
   "source": [
    "a = list(range(10))\n",
    "b = [c for c in range(10)]\n",
    "print(a)\n",
    "print(b)"
   ]
  },
  {
   "cell_type": "code",
   "execution_count": 80,
   "metadata": {},
   "outputs": [
    {
     "name": "stdout",
     "output_type": "stream",
     "text": [
      "[0, 1, 4, 9, 16, 25, 36, 49, 64, 81]\n"
     ]
    }
   ],
   "source": [
    "# 식을 조작 가능\n",
    "a = [i**2 for i in range(10)]\n",
    "print(a)"
   ]
  },
  {
   "cell_type": "code",
   "execution_count": 82,
   "metadata": {},
   "outputs": [
    {
     "name": "stdout",
     "output_type": "stream",
     "text": [
      "[1, 2, 3, 4]\n"
     ]
    }
   ],
   "source": [
    "a = [1.1,2.1,3.3,4.2]\n",
    "a = [int(i) for i in a] # 다 정수로 변환시켰다\n",
    "print(a)"
   ]
  },
  {
   "cell_type": "code",
   "execution_count": 85,
   "metadata": {},
   "outputs": [
    {
     "name": "stdout",
     "output_type": "stream",
     "text": [
      "[3, 6, 9, 12, 15, 18, 21, 24, 27, 30, 33, 36, 39, 42, 45, 48, 51, 54, 57, 60, 63, 66, 69, 72, 75, 78, 81, 84, 87, 90, 93, 96, 99]\n"
     ]
    }
   ],
   "source": [
    "# 조건을 줄수도 있다\n",
    "# range 함수를이용해서 1~100에서 3의 배수만 출력해본다면\n",
    "print([i for i in list(range(1,101)) if i%3==0 ])"
   ]
  },
  {
   "cell_type": "markdown",
   "metadata": {},
   "source": [
    "### tuple 타입의 특징\n",
    "- seqential type이다\n",
    "- immutbale 객체\n",
    "- 모든 데이터 타입 저장한다\n",
    "- 리스트와의 차이점은? : 튜플에 저장되어있는 값은 수정 변경 할수 없다\n",
    "- 선언하는 법 \n",
    "    1. (값,값,값,,,)\n",
    "    2. tuple(1 argument); ex) tuple(str) tuple(range) tuple(list)..."
   ]
  },
  {
   "cell_type": "markdown",
   "metadata": {},
   "source": [
    "### 📎 튜플 조작하기"
   ]
  },
  {
   "cell_type": "code",
   "execution_count": 96,
   "metadata": {},
   "outputs": [
    {
     "name": "stdout",
     "output_type": "stream",
     "text": [
      "2\n",
      "5\n",
      "0\n"
     ]
    }
   ],
   "source": [
    "# index(값)\n",
    "a = (1,2,3,4,5)\n",
    "print(a.index(3))\n",
    "# print(a.index(6))  error : tuple.index(x): x not in tuple\n",
    "\n",
    "# count(값)\n",
    "a = (1,2,3,4,5,1,2,3,1,1,1)\n",
    "print(a.count(1))\n",
    "print(a.count(10)) # 없는 값이니깐 count 는 0개다\n"
   ]
  },
  {
   "cell_type": "markdown",
   "metadata": {},
   "source": [
    "### 📎 튜플 표현식\n",
    "- tuple(실행문 for 변수 in 열거형객체)\n",
    "- tuple(실행문 for 변수 in 열거형객체 if 조건식)\n",
    "- 반드시 tuple() 함수 이용 그냥 ()만 사용하면 원하는 결과 x\n",
    "- 열거형 객체는 iterable 객체를 의미한다"
   ]
  },
  {
   "cell_type": "code",
   "execution_count": 87,
   "metadata": {},
   "outputs": [
    {
     "name": "stdout",
     "output_type": "stream",
     "text": [
      "(3, 6, 9, 12, 15, 18, 21, 24, 27, 30, 33, 36, 39, 42, 45, 48, 51, 54, 57, 60, 63, 66, 69, 72, 75, 78, 81, 84, 87, 90, 93, 96, 99)\n"
     ]
    }
   ],
   "source": [
    "a= tuple(i for i in list(range(1,101)) if i%3==0 )\n",
    "print(a)"
   ]
  },
  {
   "cell_type": "markdown",
   "metadata": {},
   "source": [
    "### 📎 튜플 unpacking\n",
    "- 튜플에서 가장 중요하다\n",
    "- 나중에 함수 단원에서 반환값을 여러개로 지정할때 매우 유용하게 사용된다"
   ]
  },
  {
   "cell_type": "code",
   "execution_count": 98,
   "metadata": {
    "scrolled": true
   },
   "outputs": [
    {
     "name": "stdout",
     "output_type": "stream",
     "text": [
      "(1, 2, 3)\n",
      "<class 'tuple'>\n"
     ]
    }
   ],
   "source": [
    "a = 1,2,3\n",
    "print(a)\n",
    "print(type(a)) # 자동적으로 tuple로 인식한다"
   ]
  },
  {
   "cell_type": "code",
   "execution_count": 102,
   "metadata": {},
   "outputs": [
    {
     "name": "stdout",
     "output_type": "stream",
     "text": [
      "1\n",
      "<class 'int'>\n",
      "2\n",
      "<class 'int'>\n",
      "3\n",
      "<class 'int'>\n"
     ]
    }
   ],
   "source": [
    "a,b,c = (1,2,3)\n",
    "print(a)\n",
    "print(type(a))\n",
    "print(b)\n",
    "print(type(b))\n",
    "print(c)\n",
    "print(type(c))"
   ]
  },
  {
   "cell_type": "code",
   "execution_count": 101,
   "metadata": {},
   "outputs": [
    {
     "name": "stdout",
     "output_type": "stream",
     "text": [
      "1\n",
      "<class 'int'>\n",
      "2\n",
      "<class 'int'>\n",
      "3\n",
      "<class 'int'>\n"
     ]
    }
   ],
   "source": [
    "a,b,c = (1,2,3)\n",
    "print(a)\n",
    "print(type(a))\n",
    "print(b)\n",
    "print(type(b))\n",
    "print(c)\n",
    "print(type(c))"
   ]
  },
  {
   "cell_type": "code",
   "execution_count": 135,
   "metadata": {},
   "outputs": [
    {
     "name": "stdout",
     "output_type": "stream",
     "text": [
      "0 1 2 3\n",
      "1 2 3 4\n",
      "a b c d\n"
     ]
    },
    {
     "ename": "ValueError",
     "evalue": "not enough values to unpack (expected 4, got 3)",
     "output_type": "error",
     "traceback": [
      "\u001b[0;31m---------------------------------------------------------------------------\u001b[0m",
      "\u001b[0;31mValueError\u001b[0m                                Traceback (most recent call last)",
      "\u001b[0;32m<ipython-input-135-d8dead5468e9>\u001b[0m in \u001b[0;36m<module>\u001b[0;34m\u001b[0m\n\u001b[1;32m     13\u001b[0m \u001b[0;31m# too many values to unpack (expected 4)\u001b[0m\u001b[0;34m\u001b[0m\u001b[0;34m\u001b[0m\u001b[0;34m\u001b[0m\u001b[0m\n\u001b[1;32m     14\u001b[0m \u001b[0;31m# 혹은  not enough values to unpack (expected 4, got 3)\u001b[0m\u001b[0;34m\u001b[0m\u001b[0;34m\u001b[0m\u001b[0;34m\u001b[0m\u001b[0m\n\u001b[0;32m---> 15\u001b[0;31m \u001b[0ma\u001b[0m\u001b[0;34m,\u001b[0m\u001b[0mb\u001b[0m\u001b[0;34m,\u001b[0m\u001b[0mc\u001b[0m\u001b[0;34m,\u001b[0m\u001b[0md\u001b[0m\u001b[0;34m=\u001b[0m \u001b[0;34m'abe'\u001b[0m\u001b[0;34m\u001b[0m\u001b[0;34m\u001b[0m\u001b[0m\n\u001b[0m\u001b[1;32m     16\u001b[0m \u001b[0mprint\u001b[0m\u001b[0;34m(\u001b[0m\u001b[0ma\u001b[0m\u001b[0;34m,\u001b[0m\u001b[0mb\u001b[0m\u001b[0;34m,\u001b[0m\u001b[0mc\u001b[0m\u001b[0;34m,\u001b[0m\u001b[0md\u001b[0m\u001b[0;34m)\u001b[0m\u001b[0;34m\u001b[0m\u001b[0;34m\u001b[0m\u001b[0m\n",
      "\u001b[0;31mValueError\u001b[0m: not enough values to unpack (expected 4, got 3)"
     ]
    }
   ],
   "source": [
    "# iterable객체는 자동으로 tuple unpacking이 된다\n",
    "a,b,c,d=range(4)\n",
    "print(a,b,c,d)\n",
    "\n",
    "a,b,c,d= [1,2,3,4]\n",
    "print(a,b,c,d)\n",
    "\n",
    "a,b,c,d= 'abcd'\n",
    "print(a,b,c,d)\n",
    "\n",
    "# 단 반드시 길이가 같아야한다\n",
    "# 다음과 같은 에러 발생\n",
    "# too many values to unpack (expected 4)\n",
    "# 혹은  not enough values to unpack (expected 4, got 3)\n",
    "a,b,c,d= 'abe'\n",
    "print(a,b,c,d)"
   ]
  },
  {
   "cell_type": "markdown",
   "metadata": {},
   "source": [
    "### 📎 2차원 리스트 혹은 튜플\n",
    "- list= [[값,값,,,],[값,값,,,]\n",
    "- list= ((값,값,,,),(값,값,,,))"
   ]
  },
  {
   "cell_type": "code",
   "execution_count": 112,
   "metadata": {},
   "outputs": [
    {
     "name": "stdout",
     "output_type": "stream",
     "text": [
      "[1, 2]\n",
      "[2, 3]\n",
      "[4, 5]\n"
     ]
    }
   ],
   "source": [
    "a = [[1,2],[2,3],[4,5]]\n",
    "print(a[0])\n",
    "print(a[1])\n",
    "print(a[2])"
   ]
  },
  {
   "cell_type": "code",
   "execution_count": 113,
   "metadata": {},
   "outputs": [
    {
     "name": "stdout",
     "output_type": "stream",
     "text": [
      "(1, 2)\n",
      "(2, 3)\n",
      "(4, 5)\n"
     ]
    }
   ],
   "source": [
    "a = ((1,2),(2,3),(4,5))\n",
    "print(a[0])\n",
    "print(a[1])\n",
    "print(a[2])"
   ]
  },
  {
   "cell_type": "code",
   "execution_count": 116,
   "metadata": {},
   "outputs": [
    {
     "name": "stdout",
     "output_type": "stream",
     "text": [
      "1 2\n"
     ]
    }
   ],
   "source": [
    "a = [[1,2],[2,3],[4,5]]\n",
    "print(a[0][0],a[0][1])"
   ]
  },
  {
   "cell_type": "code",
   "execution_count": 127,
   "metadata": {},
   "outputs": [
    {
     "name": "stdout",
     "output_type": "stream",
     "text": [
      "1\n"
     ]
    }
   ],
   "source": [
    "a = [1,2,3,4]\n",
    "a,b,c,d = a 자동으로 unpacking이 되내\n",
    "print(a)"
   ]
  },
  {
   "cell_type": "code",
   "execution_count": 136,
   "metadata": {},
   "outputs": [
    {
     "name": "stdout",
     "output_type": "stream",
     "text": [
      "1 2\n",
      "2 3\n",
      "4 5\n",
      "1 2\n",
      "2 3\n"
     ]
    },
    {
     "ename": "ValueError",
     "evalue": "too many values to unpack (expected 2)",
     "output_type": "error",
     "traceback": [
      "\u001b[0;31m---------------------------------------------------------------------------\u001b[0m",
      "\u001b[0;31mValueError\u001b[0m                                Traceback (most recent call last)",
      "\u001b[0;32m<ipython-input-136-fc59ceb82a05>\u001b[0m in \u001b[0;36m<module>\u001b[0;34m\u001b[0m\n\u001b[1;32m      6\u001b[0m \u001b[0;34m\u001b[0m\u001b[0m\n\u001b[1;32m      7\u001b[0m \u001b[0ma\u001b[0m \u001b[0;34m=\u001b[0m \u001b[0;34m[\u001b[0m\u001b[0;34m[\u001b[0m\u001b[0;36m1\u001b[0m\u001b[0;34m,\u001b[0m\u001b[0;36m2\u001b[0m\u001b[0;34m]\u001b[0m\u001b[0;34m,\u001b[0m\u001b[0;34m[\u001b[0m\u001b[0;36m2\u001b[0m\u001b[0;34m,\u001b[0m\u001b[0;36m3\u001b[0m\u001b[0;34m]\u001b[0m\u001b[0;34m,\u001b[0m\u001b[0;34m[\u001b[0m\u001b[0;36m4\u001b[0m\u001b[0;34m,\u001b[0m\u001b[0;36m1\u001b[0m\u001b[0;34m,\u001b[0m\u001b[0;36m3\u001b[0m\u001b[0;34m]\u001b[0m\u001b[0;34m]\u001b[0m \u001b[0;31m# unpacking 조건이 맞아야한다\u001b[0m\u001b[0;34m\u001b[0m\u001b[0;34m\u001b[0m\u001b[0m\n\u001b[0;32m----> 8\u001b[0;31m \u001b[0;32mfor\u001b[0m \u001b[0mi\u001b[0m\u001b[0;34m,\u001b[0m\u001b[0mj\u001b[0m \u001b[0;32min\u001b[0m \u001b[0ma\u001b[0m\u001b[0;34m:\u001b[0m\u001b[0;34m\u001b[0m\u001b[0;34m\u001b[0m\u001b[0m\n\u001b[0m\u001b[1;32m      9\u001b[0m     \u001b[0mprint\u001b[0m\u001b[0;34m(\u001b[0m\u001b[0mi\u001b[0m\u001b[0;34m,\u001b[0m\u001b[0mj\u001b[0m\u001b[0;34m)\u001b[0m\u001b[0;34m\u001b[0m\u001b[0;34m\u001b[0m\u001b[0m\n",
      "\u001b[0;31mValueError\u001b[0m: too many values to unpack (expected 2)"
     ]
    }
   ],
   "source": [
    "# for문을 이용해서 동시 출력이 가능하다 \n",
    "a = [[1,2],[2,3],[4,5]]\n",
    "for i,j in a:        # i,j 가 자동으로 unpacking 된다\n",
    "    print(i,j)\n",
    "\n",
    "    \n",
    "a = [[1,2],[2,3],[4,1,3]] # unpacking 조건이 맞아야한다\n",
    "for i,j in a:\n",
    "    print(i,j)"
   ]
  }
 ],
 "metadata": {
  "kernelspec": {
   "display_name": "Python 3",
   "language": "python",
   "name": "python3"
  },
  "language_info": {
   "codemirror_mode": {
    "name": "ipython",
    "version": 3
   },
   "file_extension": ".py",
   "mimetype": "text/x-python",
   "name": "python",
   "nbconvert_exporter": "python",
   "pygments_lexer": "ipython3",
   "version": "3.8.5"
  }
 },
 "nbformat": 4,
 "nbformat_minor": 4
}
