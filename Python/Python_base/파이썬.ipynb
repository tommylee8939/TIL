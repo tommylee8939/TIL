{
 "cells": [
  {
   "cell_type": "markdown",
   "metadata": {},
   "source": [
    "- 파이썬의 sequential types 총 7개 그중 list tuple string range\n",
    "    1. indexing slicing 가능\n",
    "    \n",
    "    \n",
    "- In Python, the easiest way to search for an object is to use Membership Operators - named that way because they allow us to determine whether a given object is a member in a collection.These operators can be used with any iterable data structure in Python, including Strings, Lists, and Tuples.\n",
    "    1. in 연산자 사용 가능\n",
    "    2. string, range, list ,tuple, dict, set 다 interator 객체 가지고있음\n",
    "    3. 다만 dict는 in 사용시 key값을 의미함 \n",
    "\n",
    "\n",
    "- mutable immutable 객체 : list set dict 만 mutable하다\n",
    "    - 수정이 가능\n",
    "\n",
    "- collection type 주의사항 (list ,tuple,dict,set)\n",
    "    1. list랑 tuple은 다 담을 수 있다\n",
    "    2. dict는 value 다 담을 수 있다. 단 key에는 immutable (unhashable)\n",
    "    3. set 은 immuetable 타입만 담을수 있다\n",
    "    \n",
    "    \n",
    "- 객체 주소\n",
    "    1. 객체 주소는 일반적으로 변수마다 달라야 하는게 맞지\n",
    "        - 메모리 효울성을 위해 자주 사용하는 int string 등은 다른 변수에 선언해도 주소값이 같은 경우가 존재한다. ex) a = b= 1 주소값 같음 a= b= 300주소 다름\n",
    "    2. reference한 경우에는 같겠지 => 하지만 후에 참조 선언한 변수를 조작\n",
    "        - immutable인 경우 주소값 달라짐\n",
    "        - mutable인 경우 주소값 그대로에 참조받은 변수까지 영향을 받음"
   ]
  },
  {
   "cell_type": "code",
   "execution_count": 14,
   "metadata": {},
   "outputs": [
    {
     "ename": "TypeError",
     "evalue": "unhashable type: 'set'",
     "output_type": "error",
     "traceback": [
      "\u001b[0;31m---------------------------------------------------------------------------\u001b[0m",
      "\u001b[0;31mTypeError\u001b[0m                                 Traceback (most recent call last)",
      "\u001b[0;32m<ipython-input-14-c7df7a01875a>\u001b[0m in \u001b[0;36m<module>\u001b[0;34m\u001b[0m\n\u001b[0;32m----> 1\u001b[0;31m \u001b[0;34m{\u001b[0m\u001b[0;36m1\u001b[0m\u001b[0;34m,\u001b[0m\u001b[0;34m{\u001b[0m\u001b[0;36m1\u001b[0m\u001b[0;34m,\u001b[0m\u001b[0;36m2\u001b[0m\u001b[0;34m}\u001b[0m\u001b[0;34m}\u001b[0m\u001b[0;34m\u001b[0m\u001b[0;34m\u001b[0m\u001b[0m\n\u001b[0m",
      "\u001b[0;31mTypeError\u001b[0m: unhashable type: 'set'"
     ]
    }
   ],
   "source": []
  },
  {
   "cell_type": "code",
   "execution_count": null,
   "metadata": {},
   "outputs": [],
   "source": []
  },
  {
   "cell_type": "code",
   "execution_count": 3,
   "metadata": {},
   "outputs": [
    {
     "data": {
      "text/plain": [
       "range(1, 5)"
      ]
     },
     "execution_count": 3,
     "metadata": {},
     "output_type": "execute_result"
    }
   ],
   "source": [
    "a = range(10)\n",
    "a[1:5]"
   ]
  },
  {
   "cell_type": "code",
   "execution_count": 9,
   "metadata": {},
   "outputs": [
    {
     "name": "stdout",
     "output_type": "stream",
     "text": [
      "['__and__', '__class__', '__contains__', '__delattr__', '__dir__', '__doc__', '__eq__', '__format__', '__ge__', '__getattribute__', '__gt__', '__hash__', '__iand__', '__init__', '__init_subclass__', '__ior__', '__isub__', '__iter__', '__ixor__', '__le__', '__len__', '__lt__', '__ne__', '__new__', '__or__', '__rand__', '__reduce__', '__reduce_ex__', '__repr__', '__ror__', '__rsub__', '__rxor__', '__setattr__', '__sizeof__', '__str__', '__sub__', '__subclasshook__', '__xor__', 'add', 'clear', 'copy', 'difference', 'difference_update', 'discard', 'intersection', 'intersection_update', 'isdisjoint', 'issubset', 'issuperset', 'pop', 'remove', 'symmetric_difference', 'symmetric_difference_update', 'union', 'update']\n"
     ]
    }
   ],
   "source": [
    "a = set([1,2,3])\n",
    "print(dir(a))\n",
    "\n",
    "a = [1,2,3]\n"
   ]
  },
  {
   "cell_type": "code",
   "execution_count": null,
   "metadata": {},
   "outputs": [],
   "source": []
  }
 ],
 "metadata": {
  "kernelspec": {
   "display_name": "Python 3",
   "language": "python",
   "name": "python3"
  },
  "language_info": {
   "codemirror_mode": {
    "name": "ipython",
    "version": 3
   },
   "file_extension": ".py",
   "mimetype": "text/x-python",
   "name": "python",
   "nbconvert_exporter": "python",
   "pygments_lexer": "ipython3",
   "version": "3.8.5"
  }
 },
 "nbformat": 4,
 "nbformat_minor": 4
}
