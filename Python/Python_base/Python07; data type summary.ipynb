{
 "cells": [
  {
   "cell_type": "markdown",
   "metadata": {},
   "source": [
    "- 파이썬의 sequential types 총 7개 그중 list tuple string range\n",
    "    1. indexing 가능\n",
    "    2. slicing 가능\n",
    "    \n",
    "    \n",
    "- In Python, the easiest way to search for an object is to use Membership Operators - named that way because they allow us to determine whether a given object is a member in a collection.These operators can be used with any iterable data structure in Python, including Strings, Lists, and Tuples.\n",
    "    1. in 연산자 사용 가능\n",
    "    2. string, range, list ,tuple, dict, set 다 interator 객체 가지고있음\n",
    "    3. 다만 dict는 in 사용시 key값을 의미함 \n",
    "\n",
    "\n",
    "- mutable immutable 객체 : list set dict 만 mutable하다\n",
    "    - 수정이 가능\n",
    "\n",
    "\n",
    "- collection type 주의사항 (list ,tuple,dict,set)\n",
    "    1. list랑 tuple은 다 담을 수 있다\n",
    "    2. dict는 value 다 담을 수 있다. 단 key에는 immutable (unhashable)\n",
    "    3. set 은 immuetable 타입만 담을수 있다\n",
    "    \n",
    "    \n",
    "- 객체 주소\n",
    "    1. 객체 주소는 일반적으로 변수마다 달라야 하는게 맞지\n",
    "        - 메모리 효울성을 위해 자주 사용하는 int string 등은 다른 변수에 선언해도 주소값이 같은 경우가 존재한다. ex) a = b= 1 주소값 같음 a= b= 300주소 다름\n",
    "    2. reference한 경우에는 같겠지\n",
    "        - immutable인 경우 한쪽 수정시 주소값 달라짐 (재할당)\n",
    "        - mutable인 경우 주소값 그대로에 참조받은 변수까지 영향을 받음"
   ]
  }
 ],
 "metadata": {
  "kernelspec": {
   "display_name": "Python 3",
   "language": "python",
   "name": "python3"
  },
  "language_info": {
   "codemirror_mode": {
    "name": "ipython",
    "version": 3
   },
   "file_extension": ".py",
   "mimetype": "text/x-python",
   "name": "python",
   "nbconvert_exporter": "python",
   "pygments_lexer": "ipython3",
   "version": "3.8.5"
  }
 },
 "nbformat": 4,
 "nbformat_minor": 4
}
