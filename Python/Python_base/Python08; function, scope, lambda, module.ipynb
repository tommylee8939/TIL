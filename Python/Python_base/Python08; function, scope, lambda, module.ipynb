{
 "cells": [
  {
   "cell_type": "markdown",
   "metadata": {},
   "source": [
    "## Python08; function, lambda, module"
   ]
  },
  {
   "cell_type": "markdown",
   "metadata": {},
   "source": [
    "### 📎function\n",
    "- def 함수명():\n",
    "- 인자가 반드시 있어야 되는건 아니다\n",
    "- interpreter 언이이기 때문에 line by line 실행 된다 따라서 미리 함수가 선언되어있어야함\n",
    "- 아니면 import 하면 된다"
   ]
  },
  {
   "cell_type": "code",
   "execution_count": 1,
   "metadata": {},
   "outputs": [
    {
     "name": "stdout",
     "output_type": "stream",
     "text": [
      "Hello python\n"
     ]
    }
   ],
   "source": [
    "def hello():\n",
    "    print('Hello python')\n",
    "    \n",
    "hello()"
   ]
  },
  {
   "cell_type": "code",
   "execution_count": 3,
   "metadata": {},
   "outputs": [],
   "source": [
    "def add(a,b):\n",
    "    a+b\n",
    "    \n",
    "add(1,3) # 아무일도 일어나지 않는다"
   ]
  },
  {
   "cell_type": "code",
   "execution_count": 4,
   "metadata": {},
   "outputs": [
    {
     "name": "stdout",
     "output_type": "stream",
     "text": [
      "4\n"
     ]
    }
   ],
   "source": [
    "def add(a,b):\n",
    "    print(a+b)\n",
    "    \n",
    "add(1,3)"
   ]
  },
  {
   "cell_type": "code",
   "execution_count": 5,
   "metadata": {},
   "outputs": [
    {
     "name": "stdout",
     "output_type": "stream",
     "text": [
      "4\n"
     ]
    }
   ],
   "source": [
    "# return : 결과를 반환하기\n",
    "def add(a,b):\n",
    "    return a+b\n",
    "    \n",
    "result = add(1,3)\n",
    "print(result)"
   ]
  },
  {
   "cell_type": "markdown",
   "metadata": {},
   "source": [
    "#### ⭐️매개변수에 초기값 설정할수 있다\n",
    "- 초기값이 설정되어있는 매개변수는 인자가 들어오지 않으면 초기값이 자동으로 사용된다\n",
    "- 초기값이 있더라도 값이 들어오면 해당 값이 전달된다\n",
    "- 주의할 점은 함수 선언시 초기값이 있는 매개변수는 맨 뒤로 가야된다"
   ]
  },
  {
   "cell_type": "code",
   "execution_count": 23,
   "metadata": {},
   "outputs": [
    {
     "name": "stdout",
     "output_type": "stream",
     "text": [
      "kanghee 25 Seoul\n",
      "kanghee seoul Seoul\n"
     ]
    }
   ],
   "source": [
    "def info(name,age,address = 'Seoul'):\n",
    "    print(name,age,address)\n",
    "    \n",
    "info('kanghee',25)\n",
    "info('kanghee','seoul')"
   ]
  },
  {
   "cell_type": "code",
   "execution_count": 25,
   "metadata": {},
   "outputs": [
    {
     "ename": "SyntaxError",
     "evalue": "non-default argument follows default argument (<ipython-input-25-b3b5707cdf45>, line 2)",
     "output_type": "error",
     "traceback": [
      "\u001b[0;36m  File \u001b[0;32m\"<ipython-input-25-b3b5707cdf45>\"\u001b[0;36m, line \u001b[0;32m2\u001b[0m\n\u001b[0;31m    def info(address = 'Seoul',name,age):\u001b[0m\n\u001b[0m             ^\u001b[0m\n\u001b[0;31mSyntaxError\u001b[0m\u001b[0;31m:\u001b[0m non-default argument follows default argument\n"
     ]
    }
   ],
   "source": [
    "# 에러 초기값 설정된 매개변수는 뒤로 가야된다\n",
    "def info(address = 'Seoul',name,age):\n",
    "    print(name,age,address)"
   ]
  },
  {
   "cell_type": "markdown",
   "metadata": {},
   "source": [
    "#### ⭐️return 값 여러개 받기"
   ]
  },
  {
   "cell_type": "code",
   "execution_count": 9,
   "metadata": {},
   "outputs": [
    {
     "name": "stdout",
     "output_type": "stream",
     "text": [
      "21 9 90 2.5\n"
     ]
    }
   ],
   "source": [
    "def four_fundemental(a,b):\n",
    "    return a+b,a-b,a*b,a/b # 자동으로 tuple로 인식\n",
    "\n",
    "a,b,c,d = four_fundemental(15,6)\n",
    "print(a,b,c,d)"
   ]
  },
  {
   "cell_type": "markdown",
   "metadata": {},
   "source": [
    "### 📎가변인자\n",
    "- 파이썬의 내장된 print 함수를 보면 인자를 가변적으로 받는다\n",
    "\n",
    "- def 함수명(*인자이름) 형식상 *args를 주로 사용\n",
    "- 함수를 정의할때 *args 인자는 함수 내에서 튜플로 인식된다\n",
    "- \\*\\*를 활용한 키워드 가변 인자도 가능하다 def 함수명(\\*\\*kwargs)\n",
    "- 함수를 정의할때 \\*\\*kwargs는 함수 내에서 딕셔너리로 인식된다"
   ]
  },
  {
   "cell_type": "code",
   "execution_count": 29,
   "metadata": {},
   "outputs": [
    {
     "name": "stdout",
     "output_type": "stream",
     "text": [
      "1 2 2 3 \n",
      "1 \n",
      "\n"
     ]
    }
   ],
   "source": [
    "# 주로 형식상 arg, arguments의 줄인말을 사용한다\n",
    "def my_print(*args):\n",
    "    for arg in args:\n",
    "        print(arg,end=' ')\n",
    "    print()\n",
    "    \n",
    "my_print(1,2,2,3)\n",
    "my_print(1)\n",
    "my_print()"
   ]
  },
  {
   "cell_type": "code",
   "execution_count": 34,
   "metadata": {},
   "outputs": [
    {
     "name": "stdout",
     "output_type": "stream",
     "text": [
      "This is fixed 1 and 2 2 3 \n",
      "This is fixed 1 and (2, 2, 3) \n",
      "This is fixed 1 and \n"
     ]
    }
   ],
   "source": [
    "# 가변인자와 고정인자를 함께 사용할수있나? => 가능하다\n",
    "# 가변인자는 고정인자보다 뒤에 와야한다\n",
    "def my_print(fixed,*args):\n",
    "    print(f'This is fixed {fixed} ',end='and ')\n",
    "    for arg in args:\n",
    "        print(arg,end=' ')\n",
    "    print()\n",
    "\n",
    "my_print(1,2,2,3)\n",
    "my_print(1,(2,2,3)) #(2,2,3)을 하나의 인자로 인식한다\n",
    "my_print(1)\n"
   ]
  },
  {
   "cell_type": "code",
   "execution_count": 38,
   "metadata": {},
   "outputs": [
    {
     "name": "stdout",
     "output_type": "stream",
     "text": [
      "{'a': 1, 'b': 2, 'c': 30, 'd': 40}\n"
     ]
    }
   ],
   "source": [
    "# 예시로 dict에서 update함수가 대표적인 키워드 가변인자 사용한 예이다\n",
    "dict01 = {'a':1,'b':2,'c':3}\n",
    "dict01.update(c=30,d=40)    # 이때 키값이 c d는 무조건 문자열로 사용되는거다\n",
    "print(dict01)"
   ]
  },
  {
   "cell_type": "code",
   "execution_count": 42,
   "metadata": {},
   "outputs": [
    {
     "name": "stdout",
     "output_type": "stream",
     "text": [
      "key : name, value : kanghee\n",
      "key : address, value : seoul\n",
      "key : phone, value : 9191919\n"
     ]
    }
   ],
   "source": [
    "def my_print(**kwargs):\n",
    "    for key,value in kwargs.items():\n",
    "        print(f'key : {key}, value : {value}')\n",
    "        \n",
    "my_print(name = 'kanghee',address='seoul',phone=9191919)"
   ]
  },
  {
   "cell_type": "markdown",
   "metadata": {},
   "source": [
    "### 📎함수의 인자를 넣는 방식"
   ]
  },
  {
   "cell_type": "markdown",
   "metadata": {},
   "source": [
    "#### ⭐️ 1.위치 인수로 인수를 넣는 방식\n",
    "- 함수에 인수를 순서대로 넣는 방식\n",
    "- 순서가 달라지면 당연히 결과값이 달라질수 있다"
   ]
  },
  {
   "cell_type": "code",
   "execution_count": 12,
   "metadata": {},
   "outputs": [
    {
     "name": "stdout",
     "output_type": "stream",
     "text": [
      "1 다음 2 다음 3\n",
      "2 다음 1 다음 3\n"
     ]
    }
   ],
   "source": [
    "def my_print(a,b,c):\n",
    "    print(a,b,c,sep=' 다음 ')\n",
    "\n",
    "my_print(1,2,3)\n",
    "my_print(2,1,3)"
   ]
  },
  {
   "cell_type": "markdown",
   "metadata": {},
   "source": [
    "#### ⭐️ 2.unpakcing 활용하여 인수를 넣는 방식\n",
    "- 결과적으로는 위치 인수로 인자가 들어간다\n",
    "- iterable 객체 unpakcing 해서 인자로 사용하는 방식이다\n",
    "- 인자앞에 * 사용"
   ]
  },
  {
   "cell_type": "code",
   "execution_count": 17,
   "metadata": {},
   "outputs": [
    {
     "name": "stdout",
     "output_type": "stream",
     "text": [
      "0 다음 1 다음 2\n",
      "10 다음 9 다음 2\n",
      "a 다음 b 다음 c\n"
     ]
    }
   ],
   "source": [
    "def my_print(a,b,c):\n",
    "    print(a,b,c,sep=' 다음 ')\n",
    "    \n",
    "args = range(3)\n",
    "my_print(*args)\n",
    "\n",
    "args = [10,9,2]\n",
    "my_print(*args)\n",
    "\n",
    "my_print(*{'a':None,'b':None,'c':None})"
   ]
  },
  {
   "cell_type": "markdown",
   "metadata": {},
   "source": [
    "#### ⭐️ 3.keyword를 사용하여 인수를 넣는 방식\n",
    "- 인자의 순서가 의미가 없어진다\n",
    "- 키워드 순서에 맞게 알아서 정렬된다"
   ]
  },
  {
   "cell_type": "code",
   "execution_count": 18,
   "metadata": {},
   "outputs": [
    {
     "name": "stdout",
     "output_type": "stream",
     "text": [
      "1 다음 2 다음 3\n"
     ]
    }
   ],
   "source": [
    "def my_print(a,b,c):\n",
    "    print(a,b,c,sep=' 다음 ')\n",
    "    \n",
    "my_print(b=2,c=3,a=1)\n"
   ]
  },
  {
   "cell_type": "markdown",
   "metadata": {},
   "source": [
    "### 📎Scope"
   ]
  },
  {
   "cell_type": "code",
   "execution_count": null,
   "metadata": {},
   "outputs": [],
   "source": []
  },
  {
   "cell_type": "markdown",
   "metadata": {},
   "source": [
    "### 📎lambda expression\n",
    "- lambda 인자 : 구현부"
   ]
  },
  {
   "cell_type": "code",
   "execution_count": 44,
   "metadata": {},
   "outputs": [
    {
     "name": "stdout",
     "output_type": "stream",
     "text": [
      "4\n"
     ]
    }
   ],
   "source": [
    "testFunc = lambda x : x**2\n",
    "print(testFunc(2))"
   ]
  },
  {
   "cell_type": "code",
   "execution_count": 46,
   "metadata": {},
   "outputs": [
    {
     "data": {
      "text/plain": [
       "4"
      ]
     },
     "execution_count": 46,
     "metadata": {},
     "output_type": "execute_result"
    }
   ],
   "source": [
    "# 바로 사용도 가능하다\n",
    "(lambda x : x**2)(2)"
   ]
  },
  {
   "cell_type": "code",
   "execution_count": null,
   "metadata": {},
   "outputs": [],
   "source": [
    "# lambda안에 조건문 사용하기\n",
    "# 반드시 if else 형식이어야 한다"
   ]
  },
  {
   "cell_type": "markdown",
   "metadata": {},
   "source": [
    "### 📎Interpreter 언어의 특징\n",
    "- 함수 자체를 인자로 사용 가능하다\n",
    "- 함수 자체를 변수에 담을수 있다"
   ]
  },
  {
   "cell_type": "code",
   "execution_count": 50,
   "metadata": {},
   "outputs": [
    {
     "name": "stdout",
     "output_type": "stream",
     "text": [
      "100\n"
     ]
    }
   ],
   "source": [
    "def my_print(a,func):\n",
    "    print(func(a))\n",
    "    \n",
    "def my_square(a):\n",
    "    return a**2\n",
    "\n",
    "my_print(10,my_square)"
   ]
  },
  {
   "cell_type": "code",
   "execution_count": 51,
   "metadata": {},
   "outputs": [
    {
     "name": "stdout",
     "output_type": "stream",
     "text": [
      "4\n"
     ]
    }
   ],
   "source": [
    "def add(a,b):\n",
    "    return a+b\n",
    "\n",
    "# add라는 함수는 스크립트가 실행될때 add라는 이름이 -> 실제 함수를 가르키고 있는 형태이다\n",
    "replace = add      # 이제 replace가 add(a,b) 라는 함수 객체를 가르킨다\n",
    "print(replace(1,3))"
   ]
  },
  {
   "cell_type": "markdown",
   "metadata": {},
   "source": [
    "### 📎Module and Package\n",
    "- .py 스크립트 파일 하나를 파이썬 에서는 모듈이라고 부른다\n",
    "- 모듈 안에는 각종 변수 함수 클래스가 있을수 있다\n",
    "- 패키지는 여러 모듈을 엮은것이다\n"
   ]
  },
  {
   "cell_type": "markdown",
   "metadata": {},
   "source": [
    "#### 1. module 및 module에 정의된 변수,함수,객체 가져오기\n",
    "- import module\n",
    "- import module1,module2\n",
    "- import module.변수\n",
    "- import module.함수\n",
    "- import module.클래스\n",
    "- import package.module\n",
    "- ,,, 여러가지 가능"
   ]
  },
  {
   "cell_type": "markdown",
   "metadata": {},
   "source": [
    "#### 2. from ; from 을 사용해서 부분적으로 가져올수 있다\n",
    "- from module import *\n",
    "- from package import module\n",
    "- from package.module import 함수\n",
    "- from package.module import 함수,변수,클래스,,"
   ]
  },
  {
   "cell_type": "markdown",
   "metadata": {},
   "source": [
    "#### ⭐️ 마지막에 무엇을 정확히 import 했느냐에 따라 접근이 다르다"
   ]
  },
  {
   "cell_type": "code",
   "execution_count": 58,
   "metadata": {},
   "outputs": [
    {
     "data": {
      "text/plain": [
       "3.141592653589793"
      ]
     },
     "execution_count": 58,
     "metadata": {},
     "output_type": "execute_result"
    }
   ],
   "source": [
    "import math        # 모듈을 import \n",
    "math.pi"
   ]
  },
  {
   "cell_type": "code",
   "execution_count": 59,
   "metadata": {},
   "outputs": [
    {
     "data": {
      "text/plain": [
       "3.141592653589793"
      ]
     },
     "execution_count": 59,
     "metadata": {},
     "output_type": "execute_result"
    }
   ],
   "source": [
    "from math import * # 모듈 안에 전부 다 import\n",
    "pi"
   ]
  },
  {
   "cell_type": "code",
   "execution_count": 64,
   "metadata": {},
   "outputs": [
    {
     "data": {
      "text/plain": [
       "<urllib.request.Request at 0x7fda823ae2b0>"
      ]
     },
     "execution_count": 64,
     "metadata": {},
     "output_type": "execute_result"
    }
   ],
   "source": [
    "import urllib     # package전체 import\n",
    "urllib.request.Request('http://www.google.com') # package.module.func"
   ]
  }
 ],
 "metadata": {
  "kernelspec": {
   "display_name": "Python 3",
   "language": "python",
   "name": "python3"
  },
  "language_info": {
   "codemirror_mode": {
    "name": "ipython",
    "version": 3
   },
   "file_extension": ".py",
   "mimetype": "text/x-python",
   "name": "python",
   "nbconvert_exporter": "python",
   "pygments_lexer": "ipython3",
   "version": "3.8.5"
  }
 },
 "nbformat": 4,
 "nbformat_minor": 4
}
