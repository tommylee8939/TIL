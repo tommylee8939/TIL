{
 "cells": [
  {
   "cell_type": "markdown",
   "metadata": {},
   "source": [
    "## Python07; if, for, while"
   ]
  },
  {
   "cell_type": "markdown",
   "metadata": {},
   "source": [
    "###  ⭐️파이썬만의 특징\n",
    "- 1이 아닌 숫자는 다 True\n",
    "- \"\" () [] {} 0 None 은 다 False 다"
   ]
  },
  {
   "cell_type": "code",
   "execution_count": 12,
   "metadata": {},
   "outputs": [
    {
     "name": "stdout",
     "output_type": "stream",
     "text": [
      "False False False False False\n"
     ]
    }
   ],
   "source": [
    "print(bool([]),bool(()),bool(\"\"),bool(0),bool(None))"
   ]
  },
  {
   "cell_type": "code",
   "execution_count": 13,
   "metadata": {},
   "outputs": [
    {
     "name": "stdout",
     "output_type": "stream",
     "text": [
      "result\n"
     ]
    }
   ],
   "source": [
    "print('result')\n",
    "if \"\":\n",
    "    print('출력')\n",
    "\n",
    "if ():\n",
    "    print('출력')\n",
    "\n",
    "if []:\n",
    "    print('출력')\n",
    "\n",
    "if {}:\n",
    "    print('출력')\n",
    "\n",
    "if 0:\n",
    "    print('출력')\n",
    "\n",
    "if None:\n",
    "    print('출력')\n",
    "\n",
    "\n",
    "# 아무것도 출력되지 않는다 "
   ]
  },
  {
   "cell_type": "code",
   "execution_count": 9,
   "metadata": {},
   "outputs": [
    {
     "name": "stdout",
     "output_type": "stream",
     "text": [
      "result\n",
      "출력\n",
      "출력\n",
      "출력\n",
      "출력\n",
      "출력\n",
      "출력\n"
     ]
    }
   ],
   "source": [
    "print('result')\n",
    "if \"a\":\n",
    "    print('출력')\n",
    "\n",
    "if (1):\n",
    "    print('출력')\n",
    "\n",
    "if [1,2,1]:\n",
    "    print('출력')\n",
    "\n",
    "if {'a':1}:\n",
    "    print('출력')\n",
    "\n",
    "if 1:\n",
    "    print('출력')\n",
    "    \n",
    "if 10000:\n",
    "    print('출력')\n",
    "    \n",
    "# 싹다 출력된다 "
   ]
  },
  {
   "cell_type": "markdown",
   "metadata": {},
   "source": [
    "### 📎if statement\n",
    "- 들여쓰기만 잘하면 된다\n",
    "- if elif else 구조\n",
    "- 논리 연산자=> 여러 조건을 중첩\n",
    "    1. and\n",
    "    2. or"
   ]
  },
  {
   "cell_type": "code",
   "execution_count": 15,
   "metadata": {},
   "outputs": [
    {
     "name": "stdout",
     "output_type": "stream",
     "text": [
      "점수 입력90\n",
      "A 등급\n"
     ]
    }
   ],
   "source": [
    "# if elif else 이용하기\n",
    "# 점수를 입력받아 등급 매기기\n",
    "point = int(input('점수 입력 '))\n",
    "\n",
    "if point<=60:\n",
    "    print('C 등급')\n",
    "elif point<=70:\n",
    "    print('B 등급')\n",
    "else:\n",
    "    print('A 등급')"
   ]
  },
  {
   "cell_type": "code",
   "execution_count": 14,
   "metadata": {
    "scrolled": true
   },
   "outputs": [
    {
     "name": "stdout",
     "output_type": "stream",
     "text": [
      "년도 입력2020\n",
      "윤년\n"
     ]
    }
   ],
   "source": [
    "# 윤년 계산\n",
    "# 조건: 4의배수이면서 100의배수가 아닐때 또는 400의 배수일때 윤년이라고 한다\n",
    "year = int(input('년도 입력 '))\n",
    "if (year%4==0 and year%100 !=0) or year%400 ==0:\n",
    "    print('윤년')\n",
    "else:\n",
    "    print('윤년이 아닙니다')"
   ]
  },
  {
   "cell_type": "markdown",
   "metadata": {},
   "source": [
    "#### ⭐️ 삼항 연산자"
   ]
  },
  {
   "cell_type": "code",
   "execution_count": 18,
   "metadata": {},
   "outputs": [
    {
     "name": "stdout",
     "output_type": "stream",
     "text": [
      "5이상 입니다\n"
     ]
    }
   ],
   "source": [
    "num=6\n",
    "result= print('5이상 입니다') if num>=5 else print('5보다 작습니다')"
   ]
  },
  {
   "cell_type": "code",
   "execution_count": 41,
   "metadata": {},
   "outputs": [
    {
     "name": "stdout",
     "output_type": "stream",
     "text": [
      "M\n"
     ]
    }
   ],
   "source": [
    "# 성별 판별\n",
    "ssn= '111111-1xxxxxx'\n",
    "gender = 'M' if int(ssn[7])==1 or int(ssn[7])==3 else 'F'\n",
    "print(gender)"
   ]
  },
  {
   "cell_type": "code",
   "execution_count": 42,
   "metadata": {},
   "outputs": [
    {
     "name": "stdout",
     "output_type": "stream",
     "text": [
      "정각\n"
     ]
    }
   ],
   "source": [
    "# 시간이 정각인지 아닌지 판별\n",
    "time = '12:00'\n",
    "boolean = '정각' if time[-2:] =='00' else '정각 아님'\n",
    "print(boolean)"
   ]
  },
  {
   "cell_type": "code",
   "execution_count": 47,
   "metadata": {},
   "outputs": [
    {
     "name": "stdout",
     "output_type": "stream",
     "text": [
      "['M', 'F', 'F', 'M', 'F']\n"
     ]
    }
   ],
   "source": [
    "# 남녀를 M F 로 바꾸기\n",
    "# 리스트 coprehension + 3항 연산자 이용\n",
    "list01 = ['남','녀','녀','남','녀']\n",
    "new_list01 = ['M' if a =='남' else 'F'for a in list01]\n",
    "print(new_list01)\n"
   ]
  },
  {
   "cell_type": "markdown",
   "metadata": {},
   "source": [
    "### 📎for statement\n",
    "- 파이썬 for문은 다른 언어의 for문 과는 조금 다르고 더 간편하다\n",
    "- 파이썬에서 for문은 in 연산자를 활용한다\n",
    "- in 연사자를 쓸수 있는 타입은 다 이용 가능하다는 뜻이다. => 주로 sequential type, dict 등등 "
   ]
  },
  {
   "cell_type": "code",
   "execution_count": 44,
   "metadata": {},
   "outputs": [
    {
     "name": "stdout",
     "output_type": "stream",
     "text": [
      "0 1 2 3 4 5 6 7 8 9 "
     ]
    }
   ],
   "source": [
    "for i in range(10):\n",
    "    print(i,end = ' ')"
   ]
  },
  {
   "cell_type": "code",
   "execution_count": 45,
   "metadata": {},
   "outputs": [
    {
     "name": "stdout",
     "output_type": "stream",
     "text": [
      "1 2 3 4 5 "
     ]
    }
   ],
   "source": [
    "for i in [1,2,3,4,5]:\n",
    "    print(i,end=' ')"
   ]
  },
  {
   "cell_type": "code",
   "execution_count": 49,
   "metadata": {},
   "outputs": [
    {
     "name": "stdout",
     "output_type": "stream",
     "text": [
      "2 4 6 8 10 12 14 16 18 20 "
     ]
    }
   ],
   "source": [
    "# 짝수만 출력\n",
    "for i in range(1,21):\n",
    "    if i%2==0:\n",
    "        print(i,end = ' ')"
   ]
  },
  {
   "cell_type": "markdown",
   "metadata": {},
   "source": [
    "#### ⭐️unpacking 이용한 for loop\n",
    "- iterable객체는 자동으로 tuple unpacking이 된다\n",
    "- Unpacking in Python refers to an operation that consists of assigning an iterable of values to a tuple (or list) of variables in a single assignment statement.\n"
   ]
  },
  {
   "cell_type": "code",
   "execution_count": 58,
   "metadata": {},
   "outputs": [
    {
     "name": "stdout",
     "output_type": "stream",
     "text": [
      "a 1\n",
      "b 2\n",
      "c 3\n",
      "dict_items([('a', 1), ('b', 2), ('c', 3)])\n",
      "['__and__', '__class__', '__contains__', '__delattr__', '__dir__', '__doc__', '__eq__', '__format__', '__ge__', '__getattribute__', '__gt__', '__hash__', '__init__', '__init_subclass__', '__iter__', '__le__', '__len__', '__lt__', '__ne__', '__new__', '__or__', '__rand__', '__reduce__', '__reduce_ex__', '__repr__', '__reversed__', '__ror__', '__rsub__', '__rxor__', '__setattr__', '__sizeof__', '__str__', '__sub__', '__subclasshook__', '__xor__', 'isdisjoint']\n"
     ]
    }
   ],
   "source": [
    "tmpDict = {'a':1,'b':2,'c':3}\n",
    "for a,b in tmpDict.items():\n",
    "    print(a,b)\n",
    "    \n",
    "print(tmpDict.items())\n",
    "print(dir(tmpDict.items())) # __iter__"
   ]
  },
  {
   "cell_type": "code",
   "execution_count": 52,
   "metadata": {},
   "outputs": [
    {
     "name": "stdout",
     "output_type": "stream",
     "text": [
      "name kanghee\n",
      "age 20\n",
      "address seoul\n"
     ]
    }
   ],
   "source": [
    "tmpList = [('name','kanghee'),('age',20),('address','seoul')]\n",
    "for a,b in tmpList:\n",
    "    print(a,b)"
   ]
  },
  {
   "cell_type": "code",
   "execution_count": 53,
   "metadata": {},
   "outputs": [
    {
     "name": "stdout",
     "output_type": "stream",
     "text": [
      "name kanghee\n",
      "age 20\n",
      "address seoul\n"
     ]
    }
   ],
   "source": [
    "tmpList = [['name','kanghee'],['age',20],['address','seoul']]\n",
    "for a,b in tmpList:\n",
    "    print(a,b)"
   ]
  },
  {
   "cell_type": "markdown",
   "metadata": {},
   "source": [
    "#### ⭐️ list comprehension\n",
    "- [실행문 for 변수 in 열거형객체]\n",
    "- list(실행문 for 변수 in 열거형객체)"
   ]
  },
  {
   "cell_type": "code",
   "execution_count": 6,
   "metadata": {},
   "outputs": [
    {
     "name": "stdout",
     "output_type": "stream",
     "text": [
      "['study', 'PYTHON', 'language']\n",
      "['I', 'AM', 'PYTHON']\n",
      "['I', 'AM', 'PYTHON']\n"
     ]
    }
   ],
   "source": [
    "tmpList  = ['I','AM','study','PYTHON','language','!']\n",
    "print([s for s in tmpList if len(s)>=3])\n",
    "print([s for s in tmpList if s.isupper()])\n",
    "print(list(s for s in tmpList if s.isupper()))"
   ]
  },
  {
   "cell_type": "markdown",
   "metadata": {},
   "source": [
    "#### ⭐️tuple comprehension\n",
    "- tuple(실행문 for 변수 in 열거형객체)\n",
    "- (실행문 for 변수 in 열거형객체) 이건 아니다"
   ]
  },
  {
   "cell_type": "code",
   "execution_count": 62,
   "metadata": {},
   "outputs": [
    {
     "name": "stdout",
     "output_type": "stream",
     "text": [
      "('study', 'PYTHON', 'language')\n",
      "('I', 'AM', 'PYTHON')\n"
     ]
    }
   ],
   "source": [
    "tmpList  = ['I','AM','study','PYTHON','language','!']\n",
    "print(tuple(s for s in tmpList if len(s)>=3))\n",
    "print(tuple(s for s in tmpList if s.isupper()))"
   ]
  },
  {
   "cell_type": "code",
   "execution_count": 63,
   "metadata": {},
   "outputs": [],
   "source": [
    "# 3항 연산 당연히 가능하다\n",
    "# 대문자로만 이루어져있으면 Upper 아니면 lower 튜플로 반환\n",
    "tmpList  = ['I','AM','study','PYTHON','language','!']\n",
    "tuple('Upif s.insupper() else 'Lower'for s in tmpList)"
   ]
  },
  {
   "cell_type": "markdown",
   "metadata": {},
   "source": [
    "#### ⭐️dictironary comprehension\n",
    "- {실행문 for 키:값 in 열거형객체}\n",
    "- dict(실행문 for 키:값 in 열거형객체)\n",
    "- 주의할것은 실행문안에 형식이 키:값 은 최소한으로 유지해 주어야한다"
   ]
  },
  {
   "cell_type": "code",
   "execution_count": 1,
   "metadata": {},
   "outputs": [
    {
     "name": "stdout",
     "output_type": "stream",
     "text": [
      "{1: 'a', 4: 'b', 9: 'c'}\n"
     ]
    }
   ],
   "source": [
    "dict01 = {1:'a',2:'b',3:'c'}\n",
    "print({key**2:value for key,value in dict01.items()})"
   ]
  },
  {
   "cell_type": "code",
   "execution_count": 12,
   "metadata": {},
   "outputs": [
    {
     "name": "stdout",
     "output_type": "stream",
     "text": [
      "{1: None, 2: None, 3: None, 4: None, 5: None}\n",
      "{1: None, 2: None, 3: None, 4: None, 5: None}\n"
     ]
    }
   ],
   "source": [
    "# key값 이용해서 딕셔너리 만들기\n",
    "keys = [1,2,3,4,5]\n",
    "print(dict.fromkeys(keys))\n",
    "print(dict({key:None for key in keys}))"
   ]
  },
  {
   "cell_type": "markdown",
   "metadata": {},
   "source": [
    "#### ⭐️\\_\\_iter\\_\\_\n",
    "- for 문 실행 원리를 알아보자\n",
    "- for in iterable object"
   ]
  },
  {
   "cell_type": "code",
   "execution_count": 33,
   "metadata": {},
   "outputs": [
    {
     "name": "stdout",
     "output_type": "stream",
     "text": [
      "1\n",
      "2\n",
      "3\n",
      "4\n",
      "5\n"
     ]
    },
    {
     "ename": "StopIteration",
     "evalue": "",
     "output_type": "error",
     "traceback": [
      "\u001b[0;31m---------------------------------------------------------------------------\u001b[0m",
      "\u001b[0;31mStopIteration\u001b[0m                             Traceback (most recent call last)",
      "\u001b[0;32m<ipython-input-33-820de25e390b>\u001b[0m in \u001b[0;36m<module>\u001b[0;34m\u001b[0m\n\u001b[1;32m      6\u001b[0m \u001b[0mprint\u001b[0m\u001b[0;34m(\u001b[0m\u001b[0miterator\u001b[0m\u001b[0;34m.\u001b[0m\u001b[0m__next__\u001b[0m\u001b[0;34m(\u001b[0m\u001b[0;34m)\u001b[0m\u001b[0;34m)\u001b[0m\u001b[0;34m\u001b[0m\u001b[0;34m\u001b[0m\u001b[0m\n\u001b[1;32m      7\u001b[0m \u001b[0mprint\u001b[0m\u001b[0;34m(\u001b[0m\u001b[0miterator\u001b[0m\u001b[0;34m.\u001b[0m\u001b[0m__next__\u001b[0m\u001b[0;34m(\u001b[0m\u001b[0;34m)\u001b[0m\u001b[0;34m)\u001b[0m\u001b[0;34m\u001b[0m\u001b[0;34m\u001b[0m\u001b[0m\n\u001b[0;32m----> 8\u001b[0;31m \u001b[0mprint\u001b[0m\u001b[0;34m(\u001b[0m\u001b[0miterator\u001b[0m\u001b[0;34m.\u001b[0m\u001b[0m__next__\u001b[0m\u001b[0;34m(\u001b[0m\u001b[0;34m)\u001b[0m\u001b[0;34m)\u001b[0m \u001b[0;31m# StopIteration\u001b[0m\u001b[0;34m\u001b[0m\u001b[0;34m\u001b[0m\u001b[0m\n\u001b[0m",
      "\u001b[0;31mStopIteration\u001b[0m: "
     ]
    }
   ],
   "source": [
    "list01 = [1,2,3,4,5]\n",
    "iterator = list01.__iter__()\n",
    "print(iterator.__next__())\n",
    "print(iterator.__next__())\n",
    "print(iterator.__next__())\n",
    "print(iterator.__next__())\n",
    "print(iterator.__next__())\n",
    "print(iterator.__next__()) # StopIteration"
   ]
  },
  {
   "cell_type": "code",
   "execution_count": 35,
   "metadata": {},
   "outputs": [
    {
     "name": "stdout",
     "output_type": "stream",
     "text": [
      "1\n",
      "2\n",
      "3\n",
      "4\n",
      "5\n"
     ]
    }
   ],
   "source": [
    "for i in [1,2,3,4,5]:\n",
    "    print(i)\n",
    "    \n",
    "# [1,2,3,4,5].__iter__() 로 이터레이터를 얻고\n",
    "# __next__() 로 하나씩 꺼내와서 i에 저장\n",
    "# 더이상 꺼내올게 없으면 StopIteration 예외 발생시켜서 종료"
   ]
  },
  {
   "cell_type": "markdown",
   "metadata": {},
   "source": [
    "#### ⭐️enumerate\n",
    "- The enumerate() function takes an iter object and returns an enumerator object\n",
    "- enumerator object has (index , iter object)\n",
    "- 갯수 잘 생각해야 된다 + 형태도 잘 생각해야된다 (0,(1,2)) 는 (i ,(j ,k))로 받아주여함"
   ]
  },
  {
   "cell_type": "code",
   "execution_count": 38,
   "metadata": {},
   "outputs": [
    {
     "name": "stdout",
     "output_type": "stream",
     "text": [
      "0 I\n",
      "1 AM\n",
      "2 study\n",
      "3 PYTHON\n",
      "4 language\n",
      "5 !\n"
     ]
    }
   ],
   "source": [
    "tmpList  = ['I','AM','study','PYTHON','language','!']\n",
    "for idx in range(len(tmpList)):\n",
    "    print(idx,tmpList[idx])"
   ]
  },
  {
   "cell_type": "code",
   "execution_count": 40,
   "metadata": {},
   "outputs": [
    {
     "name": "stdout",
     "output_type": "stream",
     "text": [
      "0 I\n",
      "1 AM\n",
      "2 study\n",
      "3 PYTHON\n",
      "4 language\n",
      "5 !\n"
     ]
    }
   ],
   "source": [
    "# 매우 쉽게 가능\n",
    "for idx,value in enumerate(tmpList):\n",
    "    print(idx,value)\n"
   ]
  },
  {
   "cell_type": "code",
   "execution_count": 61,
   "metadata": {},
   "outputs": [
    {
     "name": "stdout",
     "output_type": "stream",
     "text": [
      "1 a\n",
      "2 b\n"
     ]
    }
   ],
   "source": [
    "for key,value in {'1':'a','2':'b'}.items():\n",
    "    print(key,value)"
   ]
  },
  {
   "cell_type": "code",
   "execution_count": 81,
   "metadata": {},
   "outputs": [
    {
     "name": "stdout",
     "output_type": "stream",
     "text": [
      "0 1\n",
      "1 2\n",
      "(0, (1, 'a'))\n",
      "0 1 a\n",
      "1 2 b\n",
      "0 1 a\n",
      "1 2 b\n"
     ]
    }
   ],
   "source": [
    "for idx,key in enumerate({1:'a',2:'b'}):\n",
    "    print(idx,key)\n",
    "\n",
    "iterator = enumerate({1:'a',2:'b'}.items())\n",
    "print(next(iterator))\n",
    "\n",
    "for idx,(key,value) in enumerate({1:'a',2:'b'}.items()):\n",
    "    print(idx,key,value)\n",
    "\n",
    "for idx, item in enumerate({1:'a',2:'b'}.items()):\n",
    "    key,value = item\n",
    "    print(idx,key,value)"
   ]
  },
  {
   "cell_type": "markdown",
   "metadata": {},
   "source": [
    "### 📎while statement\n"
   ]
  },
  {
   "cell_type": "code",
   "execution_count": 17,
   "metadata": {},
   "outputs": [
    {
     "name": "stdout",
     "output_type": "stream",
     "text": [
      "0 1 2 3 4 5 6 7 8 9 "
     ]
    }
   ],
   "source": [
    "i = 0\n",
    "while i < 10:\n",
    "    print(i,end = ' ')\n",
    "    i+=1"
   ]
  },
  {
   "cell_type": "code",
   "execution_count": null,
   "metadata": {},
   "outputs": [],
   "source": [
    "# 무한 루프\n",
    "'''\n",
    "while True:\n",
    "    print('Hello')\n",
    "\n",
    "while 1:\n",
    "    print('Hello')\n",
    "\n",
    "while [1]:\n",
    "    print('Hello')\n",
    "'''\n",
    "\n",
    "    "
   ]
  },
  {
   "cell_type": "markdown",
   "metadata": {},
   "source": [
    "### 📎break,continue \n",
    "- break: 제어 흐름 중단\n",
    "- continue : 제어 흐름 유지, 코드 실행 건너뜀\n"
   ]
  },
  {
   "cell_type": "code",
   "execution_count": 18,
   "metadata": {},
   "outputs": [
    {
     "name": "stdout",
     "output_type": "stream",
     "text": [
      "0 1 2 3 4 5 6 7 8 9 "
     ]
    }
   ],
   "source": [
    "i = 0\n",
    "while True:\n",
    "    if i == 10:\n",
    "        break\n",
    "    print(i,end=' ')\n",
    "    i+=1\n",
    "    "
   ]
  },
  {
   "cell_type": "code",
   "execution_count": 20,
   "metadata": {},
   "outputs": [
    {
     "name": "stdout",
     "output_type": "stream",
     "text": [
      "1 2 "
     ]
    }
   ],
   "source": [
    "for i in [1,2,34,13,4,1,1,2,2,3]:\n",
    "    if i >20:\n",
    "        break\n",
    "    print(i,end = ' ')"
   ]
  },
  {
   "cell_type": "code",
   "execution_count": 23,
   "metadata": {},
   "outputs": [
    {
     "name": "stdout",
     "output_type": "stream",
     "text": [
      "a b c e "
     ]
    }
   ],
   "source": [
    "#소문자만 출력\n",
    "for c in ['a','b','c','D','e','F']:\n",
    "    if c.isupper():\n",
    "        continue\n",
    "    print(c,end = ' ')"
   ]
  }
 ],
 "metadata": {
  "kernelspec": {
   "display_name": "Python 3",
   "language": "python",
   "name": "python3"
  },
  "language_info": {
   "codemirror_mode": {
    "name": "ipython",
    "version": 3
   },
   "file_extension": ".py",
   "mimetype": "text/x-python",
   "name": "python",
   "nbconvert_exporter": "python",
   "pygments_lexer": "ipython3",
   "version": "3.8.5"
  }
 },
 "nbformat": 4,
 "nbformat_minor": 4
}
