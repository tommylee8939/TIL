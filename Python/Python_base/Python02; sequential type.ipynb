{
 "cells": [
  {
   "cell_type": "markdown",
   "metadata": {},
   "source": [
    "## Python02; sequential type, mutable\n",
    "- 이번 chpater에서는 sequential type의 의미를 알아볼것이다\n",
    "- str,range,list,tuple,dict 이 4가지 타입을 간략하게 살표보고 공통적인 특징을 이해할 것이다\n",
    "- 바로 다음장부터 각 타입에 대해 더욱 자세하게 알아볼 것이다\n",
    "- 또한 mutable 과 immutable 객체의 차이를 알아볼 것이다"
   ]
  },
  {
   "cell_type": "markdown",
   "metadata": {},
   "source": [
    "### 1.str\n",
    "- 문자열은 01장에서 이미 살펴 보았다"
   ]
  },
  {
   "cell_type": "code",
   "execution_count": 3,
   "metadata": {},
   "outputs": [],
   "source": [
    "hell = 'python'"
   ]
  },
  {
   "cell_type": "markdown",
   "metadata": {},
   "source": [
    "### 2.range\n",
    "- range는 연속된 숫자를 생성한다\n",
    "- 선언하는 법\n",
    "    1. range(횟수) => 0,1,2,3,,,,(횟수-1) 까지의 연속된 숫자 \n",
    "    2. range(start,end) => start, start+1,,,,end-1 까지\n",
    "    3. range(start,end,step) => start, start+step, start+step+step,,,end보다 작을때까지"
   ]
  },
  {
   "cell_type": "code",
   "execution_count": 5,
   "metadata": {},
   "outputs": [
    {
     "name": "stdout",
     "output_type": "stream",
     "text": [
      "range(0, 10)\n",
      "<class 'range'>\n"
     ]
    }
   ],
   "source": [
    "print(range(10)) # print를 했을때 range(0,10)이 나왔어도 당황하지 말자\n",
    "print(type(range(10)))"
   ]
  },
  {
   "cell_type": "code",
   "execution_count": 7,
   "metadata": {},
   "outputs": [
    {
     "name": "stdout",
     "output_type": "stream",
     "text": [
      "range(10, 15)\n"
     ]
    }
   ],
   "source": [
    "print(range(10,15))"
   ]
  },
  {
   "cell_type": "code",
   "execution_count": 26,
   "metadata": {},
   "outputs": [
    {
     "name": "stdout",
     "output_type": "stream",
     "text": [
      "range(0, 0)\n"
     ]
    }
   ],
   "source": [
    "# 비어있는 range도 가능하다\n",
    "print(range(0))"
   ]
  },
  {
   "cell_type": "code",
   "execution_count": 14,
   "metadata": {},
   "outputs": [
    {
     "name": "stdout",
     "output_type": "stream",
     "text": [
      "range(1, 10, 2)\n",
      "1 3 5 7 9 "
     ]
    }
   ],
   "source": [
    "print(range(1,10,2))\n",
    "for i in range(1,10,2): # 이 코드는 후에 다시 배울것임으로 range type안에 저장된 값들을 실행시키기 위해 잠시 사용한다\n",
    "    print(i,end=' ')    # 출력결과에서 10이 포함되지 않는것에 유의하자"
   ]
  },
  {
   "cell_type": "code",
   "execution_count": 17,
   "metadata": {},
   "outputs": [
    {
     "name": "stdout",
     "output_type": "stream",
     "text": [
      "range(9, 1, -2)\n",
      "9 7 5 3 "
     ]
    }
   ],
   "source": [
    "# step 을 활용하면 다양하게 값을 저장 가능하다\n",
    "print(range(9,1,-2)) # 역으로 저장도 가능하다\n",
    "for i in range(9,1,-2): # 이 코드는 후에 다시 배울것임으로 range type안에 저장된 값들을 실행시키기 위해 잠시 사용한다\n",
    "    print(i,end=' ') # 출력값을 잘 확인해보자"
   ]
  },
  {
   "cell_type": "markdown",
   "metadata": {},
   "source": [
    "### 3.list\n",
    "- 리스트 타입은 파이썬의 모든 데이터 타입을 저장한다\n",
    "- 다른 언어에서 배웠던 배열이랑 다르다\n",
    "    1. interpreter 언어이기 때문에 size를 미리 선언할 필요 없다\n",
    "    2. 하나가 아닌 여러개의 데이터 타입을 동시에 저장가능하다\n",
    "- 선언하는 방법\n",
    "    1. [value,value,value,value,,,]\n",
    "    2. list(1 arguement) ; ex) list(range) list(str) ..."
   ]
  },
  {
   "cell_type": "code",
   "execution_count": 20,
   "metadata": {},
   "outputs": [
    {
     "name": "stdout",
     "output_type": "stream",
     "text": [
      "[1, 2, 3, 4, 5]\n",
      "[1, 2, 'c', 'ab']\n"
     ]
    }
   ],
   "source": [
    "list01 = [1,2,3,4,5]\n",
    "list02 = [1,2,'c','ab']\n",
    "print(list01)\n",
    "print(list02)"
   ]
  },
  {
   "cell_type": "code",
   "execution_count": 27,
   "metadata": {},
   "outputs": [
    {
     "name": "stdout",
     "output_type": "stream",
     "text": [
      "[]\n",
      "[]\n"
     ]
    }
   ],
   "source": [
    "# 비어 있는 리스트도 선언가능하다\n",
    "a = list()\n",
    "b = list()\n",
    "print(a)\n",
    "print(b)"
   ]
  },
  {
   "cell_type": "code",
   "execution_count": 23,
   "metadata": {},
   "outputs": [
    {
     "name": "stdout",
     "output_type": "stream",
     "text": [
      "['a', 'b', 'c', 'd']\n",
      "[0, 1, 2, 3, 4, 5, 6, 7, 8, 9]\n"
     ]
    }
   ],
   "source": [
    "# list(str)\n",
    "print(list('abcd'))\n",
    "# list(range)\n",
    "print(list(range(10)))"
   ]
  },
  {
   "cell_type": "markdown",
   "metadata": {},
   "source": [
    "### 4.tuple\n",
    "- 모든 데이터 타입 저장한다\n",
    "- 리스트와의 차이점은? : 튜플에 저장되어있는 값은 수정 변경 할수 없다\n",
    "- 선언하는 법 \n",
    "    1. (값,값,값,,,)\n",
    "    2. tuple(1 argument); ex) tuple(str) tuple(range) tuple(list)..."
   ]
  },
  {
   "cell_type": "code",
   "execution_count": 38,
   "metadata": {},
   "outputs": [
    {
     "name": "stdout",
     "output_type": "stream",
     "text": [
      "(1, 2, 3)\n",
      "(1, 'a', 3)\n",
      "(1, 'a', 3, [1, 2, 3], (4, 5))\n"
     ]
    }
   ],
   "source": [
    "tuple01 = (1,2,3)\n",
    "tuple02 = (1,'a',3)\n",
    "tuple03 = (1,'a',3,[1,2,3],(4,5))\n",
    "print(tuple01)\n",
    "print(tuple02)\n",
    "print(tuple03)"
   ]
  },
  {
   "cell_type": "code",
   "execution_count": 39,
   "metadata": {},
   "outputs": [
    {
     "name": "stdout",
     "output_type": "stream",
     "text": [
      "()\n",
      "<class 'tuple'>\n"
     ]
    }
   ],
   "source": [
    "# 비어있는 튜플도 선언 가능하다\n",
    "tuple01 = ()\n",
    "tuple02 = tuple\n",
    "print(tuple01)\n",
    "print(tuple02)"
   ]
  },
  {
   "cell_type": "code",
   "execution_count": 43,
   "metadata": {},
   "outputs": [
    {
     "name": "stdout",
     "output_type": "stream",
     "text": [
      "1\n",
      "<class 'int'>\n",
      "a\n",
      "<class 'str'>\n"
     ]
    }
   ],
   "source": [
    "# 하나 주의해야할 점은 튜플안에 기본 타입의 값이 하나만 존재하는 경우 tuple로 인식 하지 않는다\n",
    "print((1))\n",
    "print(type((1)))\n",
    "print(('a'))\n",
    "print(type(('a')))"
   ]
  },
  {
   "cell_type": "code",
   "execution_count": 32,
   "metadata": {},
   "outputs": [
    {
     "name": "stdout",
     "output_type": "stream",
     "text": [
      "(1, 2, 3, 4, 5, 6, 7, 8, 9)\n",
      "('a', 'b', 'c', 'd', 'e', 'f')\n",
      "(1, 2, 'a', 4, (1, 2, 3), [1, 'a', 3])\n"
     ]
    }
   ],
   "source": [
    "print(tuple(range(1,10)))\n",
    "print(tuple('abcdef'))\n",
    "print(tuple([1,2,'a',4,(1,2,3),[1,'a',3]]))"
   ]
  },
  {
   "cell_type": "markdown",
   "metadata": {},
   "source": [
    "###  Sequential type👍"
   ]
  },
  {
   "cell_type": "markdown",
   "metadata": {},
   "source": [
    "- sequence type => 말 그대로 하나가 아닌 연속적인 값들을 가진다는 의미다\n",
    "- 이해하기 쉽게 파이썬에서는 문자열 'abcde' 를 'a' 'b' 'c' 문자열들의 연속적인 시퀀스로 보는것이다\n",
    "- 공통적인 특징\n",
    "    1. sequential type은 indexing 이 가능하다\n",
    "    2. sequential type은 slicing 이 가능하다\n",
    "    3. \\+ 연산자를 지원한다\n",
    "    4. 길이가 존재한다 => 특정 함수를 이용해서 길이를 구할 수 있다"
   ]
  },
  {
   "cell_type": "markdown",
   "metadata": {},
   "source": [
    "#### 1. indexing이 가능하다\n",
    "- sequence 타입은 연속된 값을 저장하는 데이터 타입임을 위에서 배웠다\n",
    "- 이는 순서가 존재한다는 의미이다\n",
    "- indexing 은 순서에 해당하는 값에 접근을 의미한다\n",
    "- 파이썬의 순서는 1이 아닌 0부터 시작한다\n",
    "- 음수 인덱싱도 존재한다\n",
    "- [순서] 의 형식으로 접근한다\n"
   ]
  },
  {
   "cell_type": "code",
   "execution_count": 59,
   "metadata": {},
   "outputs": [
    {
     "name": "stdout",
     "output_type": "stream",
     "text": [
      "문자열의 첫번째 원소는 a\n",
      "range의 첫번째 원소는 2\n",
      "list의 첫번째 원소는 (1, 2)\n",
      "tuple의 첫번째 원소는 (1, 2)\n"
     ]
    }
   ],
   "source": [
    "# str \n",
    "a='abcd'\n",
    "print('문자열의 첫번째 원소는',a[0])\n",
    "# range\n",
    "a = range(2,10)\n",
    "print('range의 첫번째 원소는',a[0])\n",
    "# list\n",
    "a = [(1,2),1,2,'a']\n",
    "print('list의 첫번째 원소는',a[0])\n",
    "# tuple\n",
    "a = ((1,2),1,2,'a')\n",
    "print('tuple의 첫번째 원소는',a[0])"
   ]
  },
  {
   "cell_type": "code",
   "execution_count": 63,
   "metadata": {},
   "outputs": [
    {
     "name": "stdout",
     "output_type": "stream",
     "text": [
      "문자열의 마지막 원소는 d\n",
      "range의 마지막 원소는 9\n",
      "list의 마지막 원소는 a\n",
      "tuple의 마지막 원소는 a\n"
     ]
    }
   ],
   "source": [
    "# 음수 인덱싱\n",
    "# 파이썬에서는 음수 인덱싱을 지원한다\n",
    "# -1은 뒤에서 첫번째 원소를 => 즉 마지막 원소를 의미한다\n",
    "# -2는 뒤에서 두번째 원소를\n",
    "# str \n",
    "a='abcd'\n",
    "print('문자열의 마지막 원소는',a[-1])\n",
    "# range\n",
    "a = range(2,10)\n",
    "print('range의 마지막 원소는',a[-1])\n",
    "# list\n",
    "a = [(1,2),1,2,'a']\n",
    "print('list의 마지막 원소는',a[-1])\n",
    "# tuple\n",
    "a = ((1,2),1,2,'a')\n",
    "print('tuple의 마지막 원소는',a[-1])"
   ]
  },
  {
   "cell_type": "code",
   "execution_count": 65,
   "metadata": {},
   "outputs": [
    {
     "ename": "IndexError",
     "evalue": "string index out of range",
     "output_type": "error",
     "traceback": [
      "\u001b[0;31m---------------------------------------------------------------------------\u001b[0m",
      "\u001b[0;31mIndexError\u001b[0m                                Traceback (most recent call last)",
      "\u001b[0;32m<ipython-input-65-2f5a642eda3a>\u001b[0m in \u001b[0;36m<module>\u001b[0;34m\u001b[0m\n\u001b[1;32m      3\u001b[0m \u001b[0;31m# 즉 원소의 갯수 범위를 벗어나면 안된다\u001b[0m\u001b[0;34m\u001b[0m\u001b[0;34m\u001b[0m\u001b[0;34m\u001b[0m\u001b[0m\n\u001b[1;32m      4\u001b[0m \u001b[0ma\u001b[0m \u001b[0;34m=\u001b[0m \u001b[0;34m'abc'\u001b[0m\u001b[0;34m\u001b[0m\u001b[0;34m\u001b[0m\u001b[0m\n\u001b[0;32m----> 5\u001b[0;31m \u001b[0ma\u001b[0m\u001b[0;34m[\u001b[0m\u001b[0;36m3\u001b[0m\u001b[0;34m]\u001b[0m\u001b[0;34m\u001b[0m\u001b[0;34m\u001b[0m\u001b[0m\n\u001b[0m",
      "\u001b[0;31mIndexError\u001b[0m: string index out of range"
     ]
    }
   ],
   "source": [
    "# 인덱싱의 범위\n",
    "# 원소가 단 3개 밖에 존재하지 않는데 [3],[4],,,을 입력하면 에러가 발생한다\n",
    "# 즉 원소의 갯수 범위를 벗어나면 안된다\n",
    "a = 'abc'\n",
    "a[3]"
   ]
  },
  {
   "cell_type": "markdown",
   "metadata": {},
   "source": [
    "#### 2.slicing이 가능하다\n",
    "- slicing의 뜻은 베어내다 즉 자료의 일부를 잘란댄다는 뜻이다\n",
    "- indexing은 해당하는 하나의 값에 접근했다면 slicing은 하나 이상의 원소에 접근가능하다\n",
    "- [i:j:k] 형식으로 사용한다 => 위에서 본 range(start,end,step)이랑 비슷하다\n",
    "    1. i는 시작 index\n",
    "    2. j는 끝 index (포함 되지 않는다)\n",
    "    3. k는 step (생략 가능하다, 단 생략시 step=1이다)"
   ]
  },
  {
   "cell_type": "code",
   "execution_count": 70,
   "metadata": {},
   "outputs": [
    {
     "name": "stdout",
     "output_type": "stream",
     "text": [
      "abc\n",
      "a\n",
      "\n"
     ]
    }
   ],
   "source": [
    "a='abcdefg'\n",
    "print(a[0:3])\n",
    "a='abcdefg'\n",
    "print(a[0:1])\n",
    "a='abcdefg'\n",
    "print(a[0:0]) # 아무 값도 출력되지 않는다"
   ]
  },
  {
   "cell_type": "code",
   "execution_count": 74,
   "metadata": {},
   "outputs": [
    {
     "name": "stdout",
     "output_type": "stream",
     "text": [
      "ace\n",
      "ace\n"
     ]
    }
   ],
   "source": [
    "# step의 의미를 이해해보자 \n",
    "# 아래 두 출력물은 동일한 결과를 갖는다\n",
    "a='abcdefg'\n",
    "print(a[0:5:2]) \n",
    "print(a[0],a[2],a[4],sep='')"
   ]
  },
  {
   "cell_type": "markdown",
   "metadata": {},
   "source": [
    "#####  <보충> Slicing의 규칙 심화\n",
    "- [i:j:k]\n",
    "- i가 시작 j-1까지 K개씩 건너가며\n",
    "- i 가 비어있으면 => i=0\n",
    "- j 가 비어있으면 => j=len(list)\n",
    "- i j 가 음수일수 있다\n",
    "- k 가 -1 이면 역으로 출력한다  => 이때는 i j 도 역으로 생각하자"
   ]
  },
  {
   "cell_type": "code",
   "execution_count": 78,
   "metadata": {},
   "outputs": [
    {
     "name": "stdout",
     "output_type": "stream",
     "text": [
      "[0, 1, 2, 3, 4, 5, 6, 7, 8, 9, 10]\n",
      "[0, 1, 2, 3, 4, 5, 6, 7, 8, 9, 10]\n",
      "[0, 1, 2, 3, 4]\n",
      "[3, 4, 5, 6, 7, 8, 9, 10]\n",
      "[0, 2, 4, 6, 8, 10]\n",
      "[8, 9, 10]\n",
      "[0, 1, 2, 3, 4, 5, 6, 7]\n",
      "[10, 9, 8, 7, 6, 5, 4, 3, 2, 1, 0]\n",
      "[10, 9, 8, 7, 6, 5]\n",
      "[]\n",
      "[]\n"
     ]
    }
   ],
   "source": [
    "a = list(range(11))\n",
    "print(a)\n",
    "print(a[:])  # 전부 다\n",
    "print(a[:5]) # 처음부터 5전까지, 혹은 처음부터 5개\n",
    "print(a[3:]) # 3부터 끝까지\n",
    "print(a[::2]) # index가 0 2 4 ..\n",
    "\n",
    "print(a[-3:]) # j 에 len(a) 들어가진다\n",
    "print(a[:-3]) # i 에 0이 들어가진다\n",
    "\n",
    "print(a[::-1]) # i = len(a) j =0\n",
    "print(a[10:4:-1])\n",
    "\n",
    "\n",
    "print(a[0:10:-1]) # 바보같은 코드다 출력 결과 없음\n",
    "print(a[-8:-3:-2]) # 바보같은 코드다 출력 결과 없음\n"
   ]
  },
  {
   "cell_type": "markdown",
   "metadata": {},
   "source": [
    "#### 3. + ,* 연산자 지원한다 \n",
    "- 객체를 연결한다\n",
    "- sequenctial type내에서 같은 type끼리 + 연산자 사용가능하다"
   ]
  },
  {
   "cell_type": "code",
   "execution_count": 84,
   "metadata": {},
   "outputs": [
    {
     "name": "stdout",
     "output_type": "stream",
     "text": [
      "abcdabcdabcdabcdabcdabcdabcdabcdabcdabcd\n",
      "abcdㄱㄴㅊ\n",
      "[1, 2, 3, 1, 2, 3, 1, 2, 3, 1, 2, 3, 1, 2, 3, 1, 2, 3, 1, 2, 3, 1, 2, 3, 1, 2, 3, 1, 2, 3]\n",
      "[1, 2, 3, 1, 2, 3]\n"
     ]
    },
    {
     "ename": "TypeError",
     "evalue": "can only concatenate str (not \"list\") to str",
     "output_type": "error",
     "traceback": [
      "\u001b[0;31m---------------------------------------------------------------------------\u001b[0m",
      "\u001b[0;31mTypeError\u001b[0m                                 Traceback (most recent call last)",
      "\u001b[0;32m<ipython-input-84-cf1f153a530e>\u001b[0m in \u001b[0;36m<module>\u001b[0;34m\u001b[0m\n\u001b[1;32m      9\u001b[0m \u001b[0mprint\u001b[0m\u001b[0;34m(\u001b[0m\u001b[0mlist01\u001b[0m\u001b[0;34m+\u001b[0m\u001b[0mlist02\u001b[0m\u001b[0;34m)\u001b[0m\u001b[0;34m\u001b[0m\u001b[0;34m\u001b[0m\u001b[0m\n\u001b[1;32m     10\u001b[0m \u001b[0;34m\u001b[0m\u001b[0m\n\u001b[0;32m---> 11\u001b[0;31m \u001b[0mprint\u001b[0m\u001b[0;34m(\u001b[0m\u001b[0mstr01\u001b[0m\u001b[0;34m+\u001b[0m\u001b[0mlist01\u001b[0m\u001b[0;34m)\u001b[0m \u001b[0;31m# error 발생\u001b[0m\u001b[0;34m\u001b[0m\u001b[0;34m\u001b[0m\u001b[0m\n\u001b[0m",
      "\u001b[0;31mTypeError\u001b[0m: can only concatenate str (not \"list\") to str"
     ]
    }
   ],
   "source": [
    "str01 = 'abcd'\n",
    "str02 = 'ㄱㄴㅊ'\n",
    "print(str01*10)\n",
    "print(str01+str02)\n",
    "\n",
    "list01 = [1,2,3]\n",
    "list02 = [1,2,3]\n",
    "print(list01*10)\n",
    "print(list01+list02)\n",
    "\n",
    "print(str01+list01) # error 발생"
   ]
  },
  {
   "cell_type": "markdown",
   "metadata": {},
   "source": [
    "#### 4. 길이가 존재한다\n",
    "- len(sequntial type) 함수 이용"
   ]
  },
  {
   "cell_type": "code",
   "execution_count": 86,
   "metadata": {},
   "outputs": [
    {
     "name": "stdout",
     "output_type": "stream",
     "text": [
      "4\n",
      "4\n",
      "4\n",
      "10\n"
     ]
    },
    {
     "ename": "TypeError",
     "evalue": "object of type 'int' has no len()",
     "output_type": "error",
     "traceback": [
      "\u001b[0;31m---------------------------------------------------------------------------\u001b[0m",
      "\u001b[0;31mTypeError\u001b[0m                                 Traceback (most recent call last)",
      "\u001b[0;32m<ipython-input-86-997f024798fd>\u001b[0m in \u001b[0;36m<module>\u001b[0;34m\u001b[0m\n\u001b[1;32m      3\u001b[0m \u001b[0mprint\u001b[0m\u001b[0;34m(\u001b[0m\u001b[0mlen\u001b[0m\u001b[0;34m(\u001b[0m\u001b[0;34m(\u001b[0m\u001b[0;36m1\u001b[0m\u001b[0;34m,\u001b[0m\u001b[0;36m2\u001b[0m\u001b[0;34m,\u001b[0m\u001b[0;34m[\u001b[0m\u001b[0;36m1\u001b[0m\u001b[0;34m,\u001b[0m\u001b[0;36m2\u001b[0m\u001b[0;34m]\u001b[0m\u001b[0;34m,\u001b[0m\u001b[0;36m1\u001b[0m\u001b[0;34m)\u001b[0m\u001b[0;34m)\u001b[0m\u001b[0;34m)\u001b[0m\u001b[0;34m\u001b[0m\u001b[0;34m\u001b[0m\u001b[0m\n\u001b[1;32m      4\u001b[0m \u001b[0mprint\u001b[0m\u001b[0;34m(\u001b[0m\u001b[0mlen\u001b[0m\u001b[0;34m(\u001b[0m\u001b[0mrange\u001b[0m\u001b[0;34m(\u001b[0m\u001b[0;36m10\u001b[0m\u001b[0;34m)\u001b[0m\u001b[0;34m)\u001b[0m\u001b[0;34m)\u001b[0m\u001b[0;34m\u001b[0m\u001b[0;34m\u001b[0m\u001b[0m\n\u001b[0;32m----> 5\u001b[0;31m \u001b[0mprint\u001b[0m\u001b[0;34m(\u001b[0m\u001b[0mlen\u001b[0m\u001b[0;34m(\u001b[0m\u001b[0;36m100000\u001b[0m\u001b[0;34m)\u001b[0m\u001b[0;34m)\u001b[0m \u001b[0;31m# error발생\u001b[0m\u001b[0;34m\u001b[0m\u001b[0;34m\u001b[0m\u001b[0m\n\u001b[0m",
      "\u001b[0;31mTypeError\u001b[0m: object of type 'int' has no len()"
     ]
    }
   ],
   "source": [
    "print(len('abcd'))\n",
    "print(len([1,2,[1,2],(1,2,3)]))\n",
    "print(len((1,2,[1,2],1)))\n",
    "print(len(range(10)))\n",
    "print(len(100000)) # error발생"
   ]
  },
  {
   "cell_type": "markdown",
   "metadata": {},
   "source": [
    "### mutable vs immutblae type\n",
    "- mutable한 객체는 값을 수정(할당) 삭제 할수있다\n",
    "- immutable 한 객체는 값을 수정 삭제(할당) 할 수 없다\n",
    "- mutable한 객체는 list set dict (set 과 dict는 다음장에서 배울것이다)\n",
    "- 나머지는 다 immuatable하다"
   ]
  },
  {
   "cell_type": "markdown",
   "metadata": {},
   "source": [
    "#### 1.mutable한 객체"
   ]
  },
  {
   "cell_type": "code",
   "execution_count": 93,
   "metadata": {},
   "outputs": [
    {
     "name": "stdout",
     "output_type": "stream",
     "text": [
      "[10, 2, 3, 4]\n",
      "[10, 20, 30, 40, 5, 6, 7]\n",
      "[10, 20, 30, 40]\n"
     ]
    },
    {
     "ename": "IndexError",
     "evalue": "list assignment index out of range",
     "output_type": "error",
     "traceback": [
      "\u001b[0;31m---------------------------------------------------------------------------\u001b[0m",
      "\u001b[0;31mIndexError\u001b[0m                                Traceback (most recent call last)",
      "\u001b[0;32m<ipython-input-93-120ac983de4c>\u001b[0m in \u001b[0;36m<module>\u001b[0;34m\u001b[0m\n\u001b[1;32m     20\u001b[0m \u001b[0;31m# 아니면 index out of range error발생\u001b[0m\u001b[0;34m\u001b[0m\u001b[0;34m\u001b[0m\u001b[0;34m\u001b[0m\u001b[0m\n\u001b[1;32m     21\u001b[0m \u001b[0ma\u001b[0m \u001b[0;34m=\u001b[0m \u001b[0;34m[\u001b[0m\u001b[0;34m]\u001b[0m\u001b[0;34m\u001b[0m\u001b[0;34m\u001b[0m\u001b[0m\n\u001b[0;32m---> 22\u001b[0;31m \u001b[0ma\u001b[0m\u001b[0;34m[\u001b[0m\u001b[0;36m0\u001b[0m\u001b[0;34m]\u001b[0m \u001b[0;34m=\u001b[0m \u001b[0;36m10\u001b[0m\u001b[0;34m\u001b[0m\u001b[0;34m\u001b[0m\u001b[0m\n\u001b[0m\u001b[1;32m     23\u001b[0m \u001b[0mprint\u001b[0m\u001b[0;34m(\u001b[0m\u001b[0ma\u001b[0m\u001b[0;34m)\u001b[0m\u001b[0;34m\u001b[0m\u001b[0;34m\u001b[0m\u001b[0m\n",
      "\u001b[0;31mIndexError\u001b[0m: list assignment index out of range"
     ]
    }
   ],
   "source": [
    "# 우리가 배운 sequence 객체중 list는 mutable한 객체다\n",
    "\n",
    "#indexing 활요하여 값을 수정\n",
    "a = [1,2,3,4]\n",
    "a[0] = 10\n",
    "print(a)\n",
    "\n",
    "\n",
    "#slicing 활요하여 값을 수정\n",
    "a = [1,2,3,4,5,6,7]\n",
    "a[0:4] = [10,20,30,40] # index가 자동적으로 조절된다\n",
    "print(a)\n",
    "\n",
    "a = []\n",
    "a[0:4] = [10,20,30,40] # index가 자동적으로 조절된다\n",
    "print(a)\n",
    "\n",
    "\n",
    "# <주의> : indexing으로 접근할땐 index 범위를 그대로 지켜줘야한다\n",
    "# 아니면 index out of range error발생\n",
    "a = []\n",
    "a[0] = 10\n",
    "print(a)"
   ]
  },
  {
   "cell_type": "code",
   "execution_count": 97,
   "metadata": {},
   "outputs": [
    {
     "name": "stdout",
     "output_type": "stream",
     "text": [
      "[2, 3, 4, 5, 6, 7]\n",
      "[2, 3, 4, 5]\n"
     ]
    }
   ],
   "source": [
    "# 우리가 배운 sequence 객체중 list는 mutable한 객체다\n",
    "\n",
    "#값을 삭제 할수도 있다 => del 함수 이용\n",
    "a = [1,2,3,4,5,6,7]\n",
    "del(a[0])\n",
    "print(a)\n",
    "\n",
    "del(a[-1:-3:-1]) #뒤에서 2개 지움\n",
    "print(a)"
   ]
  },
  {
   "cell_type": "markdown",
   "metadata": {},
   "source": [
    "#### 2. immuable한 객체"
   ]
  },
  {
   "cell_type": "code",
   "execution_count": 105,
   "metadata": {},
   "outputs": [
    {
     "ename": "TypeError",
     "evalue": "'str' object doesn't support item deletion",
     "output_type": "error",
     "traceback": [
      "\u001b[0;31m---------------------------------------------------------------------------\u001b[0m",
      "\u001b[0;31mTypeError\u001b[0m                                 Traceback (most recent call last)",
      "\u001b[0;32m<ipython-input-105-d329da99cd33>\u001b[0m in \u001b[0;36m<module>\u001b[0;34m\u001b[0m\n\u001b[1;32m      2\u001b[0m \u001b[0;34m\u001b[0m\u001b[0m\n\u001b[1;32m      3\u001b[0m \u001b[0ma\u001b[0m \u001b[0;34m=\u001b[0m \u001b[0;34m'str'\u001b[0m\u001b[0;34m\u001b[0m\u001b[0;34m\u001b[0m\u001b[0m\n\u001b[0;32m----> 4\u001b[0;31m \u001b[0;32mdel\u001b[0m\u001b[0;34m(\u001b[0m\u001b[0ma\u001b[0m\u001b[0;34m[\u001b[0m\u001b[0;36m0\u001b[0m\u001b[0;34m]\u001b[0m\u001b[0;34m)\u001b[0m       \u001b[0;31m# error :'str' object doesn't support item deletion\u001b[0m\u001b[0;34m\u001b[0m\u001b[0;34m\u001b[0m\u001b[0m\n\u001b[0m\u001b[1;32m      5\u001b[0m \u001b[0ma\u001b[0m\u001b[0;34m[\u001b[0m\u001b[0;36m0\u001b[0m\u001b[0;34m]\u001b[0m\u001b[0;34m=\u001b[0m\u001b[0ma\u001b[0m          \u001b[0;31m# error :'str' object does not support item assignment\u001b[0m\u001b[0;34m\u001b[0m\u001b[0;34m\u001b[0m\u001b[0m\n\u001b[1;32m      6\u001b[0m \u001b[0;34m\u001b[0m\u001b[0m\n",
      "\u001b[0;31mTypeError\u001b[0m: 'str' object doesn't support item deletion"
     ]
    }
   ],
   "source": [
    "# 우리가 배운 sequence 객체중 str range tuple은 모두 immutable하다\n",
    "\n",
    "a = 'str'\n",
    "del(a[0])       # error :'str' object doesn't support item deletion\n",
    "a[0]=a          # error :'str' object does not support item assignment\n",
    "\n",
    "\n",
    "a = (1,2,3,4)\n",
    "del(a[0])        # error :'tuple' object doesn't support item deletion\n",
    "a[0] = 10\n",
    "a[0:2] = (1,20) # error :'tuple' object does not support item assignment\n",
    "\n",
    "\n"
   ]
  },
  {
   "cell_type": "markdown",
   "metadata": {},
   "source": [
    "#### <보충> immuable하나는 의미\n",
    "- 프로그래밍 언어를 처음 공부하는 사람이라면 immutable하다는 의미가 매우 혼란스러울수 있다\n",
    "- 예를들어서 a='str' 를 a = 'atr'로 다시 선언하면 값을 수정하는 것이 아닌가 하는 의문이 들 수 있다\n",
    "- 다음의 내용을 잘 이해해보자\n",
    "    - mutable한 객체는 수정이 이루어져도 객체의 주소값이 동일하다\n",
    "    - immutable한 객체는 수정이 불가능하고 a='atr'과 같이 변수에 값을 다시 선언하는 것은 아예 다른 객체가 생성되는 것이다, 즉 mutable하다는 의미가 아니다"
   ]
  },
  {
   "cell_type": "code",
   "execution_count": 111,
   "metadata": {},
   "outputs": [
    {
     "name": "stdout",
     "output_type": "stream",
     "text": [
      "140227997983232\n",
      "수정\n",
      "140227997983232\n",
      "--------------------\n",
      "140228400872560\n",
      "수정\n",
      "140228421729136\n"
     ]
    }
   ],
   "source": [
    "# 모든 객체는 주소를 가진다\n",
    "\n",
    "# 리스트의 예시를 보자\n",
    "a = [1,2,3]\n",
    "print(id(a))\n",
    "a[0]=4\n",
    "print('수정')\n",
    "print(id(a)) # 수정 전과 수정 후의 주소값이 동일하다\n",
    "\n",
    "print(\"-\"*20)\n",
    "# string의 예시를 보자\n",
    "a = 'str'\n",
    "print(id(a))\n",
    "a = 'atr'\n",
    "print('수정')\n",
    "print(id(a)) # 수정 전과 수정 후의 주소값이 다르다"
   ]
  }
 ],
 "metadata": {
  "kernelspec": {
   "display_name": "Python 3",
   "language": "python",
   "name": "python3"
  },
  "language_info": {
   "codemirror_mode": {
    "name": "ipython",
    "version": 3
   },
   "file_extension": ".py",
   "mimetype": "text/x-python",
   "name": "python",
   "nbconvert_exporter": "python",
   "pygments_lexer": "ipython3",
   "version": "3.8.5"
  }
 },
 "nbformat": 4,
 "nbformat_minor": 4
}
