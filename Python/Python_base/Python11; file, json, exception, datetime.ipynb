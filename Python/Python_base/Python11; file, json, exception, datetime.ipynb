{
 "cells": [
  {
   "cell_type": "markdown",
   "metadata": {},
   "source": [
    "## Python11; file, json, exception, datetime"
   ]
  },
  {
   "cell_type": "markdown",
   "metadata": {},
   "source": [
    "### 📎file 쓰기"
   ]
  },
  {
   "cell_type": "markdown",
   "metadata": {},
   "source": [
    "#### 1. write()"
   ]
  },
  {
   "cell_type": "code",
   "execution_count": 13,
   "metadata": {},
   "outputs": [],
   "source": [
    "file = open('./data/hello1.txt','w') # 폴더는 직접 만들어야 한다\n",
    "file.write('Hello world')\n",
    "file.close()"
   ]
  },
  {
   "cell_type": "code",
   "execution_count": 14,
   "metadata": {},
   "outputs": [],
   "source": [
    "file = open('./data/hello2.txt','w') \n",
    "file.write(\"Hello world\\nHello world\\nHello world\")\n",
    "file.close()"
   ]
  },
  {
   "cell_type": "code",
   "execution_count": 15,
   "metadata": {},
   "outputs": [],
   "source": [
    "file = open('./data/hello3.txt','w') \n",
    "file.write('''Hello world\n",
    "Hello world\n",
    "Hello world''')\n",
    "file.close()"
   ]
  },
  {
   "cell_type": "code",
   "execution_count": 16,
   "metadata": {},
   "outputs": [],
   "source": [
    "list01 = ['Hello World','Hello World','Hello World']\n",
    "file = open('./data/hello4.txt','w')\n",
    "for line in list01:\n",
    "    file.write(line+'\\n')\n",
    "file.close()"
   ]
  },
  {
   "cell_type": "markdown",
   "metadata": {},
   "source": [
    "#### 2. writelines()"
   ]
  },
  {
   "cell_type": "code",
   "execution_count": 17,
   "metadata": {},
   "outputs": [],
   "source": [
    "list01 = ['Hello World','Hello World','Hello World']\n",
    "file = open('./data/hello5.txt','w')\n",
    "file.writelines(list01)\n",
    "file.close()"
   ]
  },
  {
   "cell_type": "code",
   "execution_count": 18,
   "metadata": {},
   "outputs": [],
   "source": [
    "list01 = ['Hello World\\n','Hello World\\n','Hello World\\n']\n",
    "file = open('./data/hello6.txt','w')\n",
    "file.writelines(list01)\n",
    "file.close()"
   ]
  },
  {
   "cell_type": "markdown",
   "metadata": {},
   "source": [
    "### 📎file 읽기"
   ]
  },
  {
   "cell_type": "markdown",
   "metadata": {},
   "source": [
    "#### 1.read()\n",
    "- 전체를 문자열로 읽어옴"
   ]
  },
  {
   "cell_type": "code",
   "execution_count": 20,
   "metadata": {},
   "outputs": [
    {
     "name": "stdout",
     "output_type": "stream",
     "text": [
      "Hello world\n"
     ]
    }
   ],
   "source": [
    "file = open('./data/hello1.txt','r') \n",
    "print(file.read())\n",
    "file.close()"
   ]
  },
  {
   "cell_type": "code",
   "execution_count": 21,
   "metadata": {},
   "outputs": [
    {
     "name": "stdout",
     "output_type": "stream",
     "text": [
      "Hello world\n",
      "Hello world\n",
      "Hello world\n"
     ]
    }
   ],
   "source": [
    "file = open('./data/hello2.txt','r') \n",
    "print(file.read())\n",
    "file.close()"
   ]
  },
  {
   "cell_type": "markdown",
   "metadata": {},
   "source": [
    "#### 2.readline()\n",
    "- 한줄만 읽어옴, 한번 읽으면 buffer에서 없어진다 끝이다"
   ]
  },
  {
   "cell_type": "code",
   "execution_count": 1,
   "metadata": {},
   "outputs": [
    {
     "name": "stdout",
     "output_type": "stream",
     "text": [
      "Hello world\n",
      "\n",
      "Hello world\n",
      "\n"
     ]
    }
   ],
   "source": [
    "file = open('./data/hello2.txt','r') \n",
    "print(file.readline()) #한줄씩 읽는다\n",
    "print(file.readline())\n",
    "file.close()"
   ]
  },
  {
   "cell_type": "markdown",
   "metadata": {},
   "source": [
    "#### ⭐️ while 과 for 활용해서 한줄씩 다 읽어오기"
   ]
  },
  {
   "cell_type": "code",
   "execution_count": 5,
   "metadata": {},
   "outputs": [
    {
     "name": "stdout",
     "output_type": "stream",
     "text": [
      "Hello world\n",
      "\n",
      "Hello world\n",
      "\n",
      "Hello world\n",
      "\n"
     ]
    }
   ],
   "source": [
    "# while \n",
    "file = open('./data/hello2.txt','r') \n",
    "line = None\n",
    "while line !='':\n",
    "    line = file.readline()\n",
    "    print(line)\n",
    "\n",
    "# 불필요 하게 문장마다 \\n 함께 출력된다 => strip으로 지워버리자"
   ]
  },
  {
   "cell_type": "code",
   "execution_count": 4,
   "metadata": {},
   "outputs": [
    {
     "name": "stdout",
     "output_type": "stream",
     "text": [
      "Hello world\n",
      "Hello world\n",
      "Hello world\n",
      "\n"
     ]
    }
   ],
   "source": [
    "# while \n",
    "file = open('./data/hello2.txt','r') \n",
    "line = None\n",
    "while line !='':\n",
    "    line = file.readline()\n",
    "    print(line.strip('\\n'))"
   ]
  },
  {
   "cell_type": "code",
   "execution_count": 8,
   "metadata": {},
   "outputs": [
    {
     "name": "stdout",
     "output_type": "stream",
     "text": [
      "Hello world\n",
      "Hello world\n",
      "Hello world\n"
     ]
    }
   ],
   "source": [
    "# for \n",
    "file = open('./data/hello2.txt','r') \n",
    "for line in file:\n",
    "    print(line.strip('\\n'))"
   ]
  },
  {
   "cell_type": "code",
   "execution_count": 11,
   "metadata": {},
   "outputs": [
    {
     "name": "stdout",
     "output_type": "stream",
     "text": [
      "['_CHUNK_SIZE', '__class__', '__del__', '__delattr__', '__dict__', '__dir__', '__doc__', '__enter__', '__eq__', '__exit__', '__format__', '__ge__', '__getattribute__', '__gt__', '__hash__', '__init__', '__init_subclass__', '__iter__', '__le__', '__lt__', '__ne__', '__new__', '__next__', '__reduce__', '__reduce_ex__', '__repr__', '__setattr__', '__sizeof__', '__str__', '__subclasshook__', '_checkClosed', '_checkReadable', '_checkSeekable', '_checkWritable', '_finalizing', 'buffer', 'close', 'closed', 'detach', 'encoding', 'errors', 'fileno', 'flush', 'isatty', 'line_buffering', 'mode', 'name', 'newlines', 'read', 'readable', 'readline', 'readlines', 'reconfigure', 'seek', 'seekable', 'tell', 'truncate', 'writable', 'write', 'write_through', 'writelines']\n"
     ]
    }
   ],
   "source": [
    "file = open('./data/hello2.txt','r')\n",
    "print(dir(file)) # => inter 존재\n",
    "\n",
    "# file을 iterator 객체로 사용할때 기준은 한줄씩이다"
   ]
  },
  {
   "cell_type": "markdown",
   "metadata": {},
   "source": [
    "#### 3.readlines()\n",
    "- 한줄씩 원소로 list 반환"
   ]
  },
  {
   "cell_type": "code",
   "execution_count": 23,
   "metadata": {
    "scrolled": true
   },
   "outputs": [
    {
     "name": "stdout",
     "output_type": "stream",
     "text": [
      "['Hello world\\n', 'Hello world\\n', 'Hello world']\n"
     ]
    }
   ],
   "source": [
    "file = open('./data/hello2.txt','r') \n",
    "print(file.readlines()) # 한줄씩 list로 반환\n",
    "file.close()"
   ]
  },
  {
   "cell_type": "markdown",
   "metadata": {},
   "source": [
    "#### ⭐️ with open\n",
    "- file 은 사용하고 반드시 close를 해주어한다. 자동으로 되지 않는다\n",
    "- with 구문을 사용하면 자동으로 file.close()가 가능하다"
   ]
  },
  {
   "cell_type": "code",
   "execution_count": 12,
   "metadata": {},
   "outputs": [
    {
     "name": "stdout",
     "output_type": "stream",
     "text": [
      "Hello world\n",
      "Hello world\n",
      "Hello world\n"
     ]
    }
   ],
   "source": [
    "with open('./data/hello2.txt','r') as file:\n",
    "    print(file.read())\n"
   ]
  },
  {
   "cell_type": "markdown",
   "metadata": {},
   "source": [
    "### 📎json file 읽기\n",
    "- 브라우저 상에서 표준 파일 형식이다\n",
    "- dict형식과 유사하게 생겼지만 dict아니다\n",
    "- json -> python의 list or list : decoding 이라고 한다 \n",
    "- python의 list or list  -> json : encoding 이라고 한다"
   ]
  },
  {
   "cell_type": "code",
   "execution_count": 13,
   "metadata": {},
   "outputs": [
    {
     "name": "stdout",
     "output_type": "stream",
     "text": [
      "<class 'str'>\n",
      "{\"id\": \"jslim\", \"pwd\": \"jslim\"}\n",
      "<class 'dict'>\n",
      "{'id': 'jslim', 'pwd': 'jslim'}\n"
     ]
    }
   ],
   "source": [
    "import json as j\n",
    "tmpDict = {'id':'jslim','pwd':'jslim'}\n",
    "\n",
    "# encoding 을 해보자 json.dumps() 함수 사용\n",
    "jsonDic = j.dumps(tmpDict)\n",
    "print(type(jsonDic)) # class str이다 신기하네\n",
    "print(jsonDic)\n",
    "\n",
    "# decoding 을해보자 json.loads() 함수 사용\n",
    "pyDic = j.loads(jsonDic)\n",
    "print(type(pyDic)) # 다시 dict로 만들어줬다\n",
    "print(pyDic)\n",
    "\n"
   ]
  },
  {
   "cell_type": "code",
   "execution_count": 19,
   "metadata": {},
   "outputs": [
    {
     "name": "stdout",
     "output_type": "stream",
     "text": [
      "<class 'dict'>\n",
      "Mozilla/5.0 (Windows NT 6.1; WOW64) AppleWebKit/535.11 (KHTML, like Gecko) Chrome/17.0.963.78 Safari/535.11\n"
     ]
    }
   ],
   "source": [
    "# 실제 json 파일을 한번 열어보자 txt형식으로 되어있기때문에 => open 사용할거다\n",
    "# json을 python dict로 decoding 할거다\n",
    "import json\n",
    "\n",
    "with open('./data/json.txt', 'r', encoding='UTF-8') as file:\n",
    "    lines = file.readlines() # type은 list로 들어온다 => 즉 각 줄이 str 타입으로 list의 원소가 된다\n",
    "    # lines = [json.loads(line) for line in lines]\n",
    "    lines = list(map(json.loads,lines)) # map함수 사용 가능\n",
    "    print(type(lines[0]))\n",
    "    print(lines[0]['a']) # 이제 key에 대한 접근이 가능해진다\n",
    "    '''\n",
    "    lines=[]\n",
    "    for line in file:\n",
    "        lines.append(json.loads(line)\n",
    "    '''"
   ]
  },
  {
   "cell_type": "markdown",
   "metadata": {},
   "source": [
    "### 📎datetime"
   ]
  },
  {
   "cell_type": "code",
   "execution_count": 1,
   "metadata": {},
   "outputs": [
    {
     "name": "stdout",
     "output_type": "stream",
     "text": [
      "2021-07-24\n",
      "2021 7 24\n",
      "2021-07-24 23:16:32.394360\n",
      "2021 7 24\n",
      "23 16 32\n",
      "2021-07-25 01:16:32.394952\n",
      "<class 'datetime.datetime'>\n",
      "2021-07-24 23:18:32.394952\n",
      "2021-07-26 23:16:32.394952\n",
      "<class 'datetime.datetime'>\n",
      "2019-07-16 00:00:00 <class 'datetime.datetime'>\n",
      "2019-07-16 00:00:00 <class 'datetime.datetime'>\n",
      "2021-07-24 23:16:32.396794 <class 'datetime.datetime'>\n",
      "2021-07-24\n",
      "2015-12-20 16:20:03\n"
     ]
    }
   ],
   "source": [
    "from datetime import date,datetime,timedelta\n",
    "print(date.today())\n",
    "print(date.today().year,date.today().month,date.today().day)\n",
    "\n",
    "print(datetime.today())\n",
    "print(datetime.today().year,datetime.today().month,datetime.today().day)\n",
    "print(datetime.today().hour,datetime.today().minute,datetime.today().second)\n",
    "\n",
    "\n",
    "from dateutil.relativedelta import relativedelta\n",
    "\n",
    "days = datetime.today()\n",
    "# time delta 는 H M S 까지 밖에 안됨\n",
    "print(days+timedelta(hours=2))\n",
    "print(type(days+timedelta(hours=2)))\n",
    "\n",
    "# relativedelta\n",
    "print(days+relativedelta(minutes=2))\n",
    "print(days+relativedelta(days=2))\n",
    "print(type(days+relativedelta(days=2))) # 바뀌지 않는다\n",
    "\n",
    "\n",
    "# 특정 날짜객체를 생성\n",
    "from dateutil.parser import parse\n",
    "userDate = parse('2019-7-16')\n",
    "print(userDate,type(userDate))\n",
    "\n",
    "userDate = parse('2019/7/16') # 어느 정도 형식까지는 알아서 parse되는거 같다\n",
    "print(userDate,type(userDate))\n",
    "\n",
    "\n",
    "today = datetime.today()\n",
    "print(today,type(today))\n",
    "\n",
    "# stftime\n",
    "# string formatting\n",
    "# datetime 객체에서 내가 원하는 str추출\n",
    "print(today.strftime('%Y-%m-%d'))\n",
    "\n",
    "# strptime\n",
    "# string parse time\n",
    "# string을 datetime 객체로 pase\n",
    "print(datetime.strptime(\"2015/12/20/16/20/03\",'%Y/%m/%d/%H/%M/%S'))"
   ]
  }
 ],
 "metadata": {
  "kernelspec": {
   "display_name": "Python 3",
   "language": "python",
   "name": "python3"
  },
  "language_info": {
   "codemirror_mode": {
    "name": "ipython",
    "version": 3
   },
   "file_extension": ".py",
   "mimetype": "text/x-python",
   "name": "python",
   "nbconvert_exporter": "python",
   "pygments_lexer": "ipython3",
   "version": "3.8.5"
  }
 },
 "nbformat": 4,
 "nbformat_minor": 4
}
