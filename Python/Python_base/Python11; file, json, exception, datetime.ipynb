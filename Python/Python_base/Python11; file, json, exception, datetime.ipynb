{
 "cells": [
  {
   "cell_type": "markdown",
   "metadata": {},
   "source": [
    "## Python11; file, json, exception, datetime"
   ]
  },
  {
   "cell_type": "markdown",
   "metadata": {},
   "source": [
    "### 📎file 쓰기"
   ]
  },
  {
   "cell_type": "markdown",
   "metadata": {},
   "source": [
    "#### 1. write()"
   ]
  },
  {
   "cell_type": "code",
   "execution_count": 13,
   "metadata": {},
   "outputs": [],
   "source": [
    "file = open('./data/hello1.txt','w') # 폴더는 직접 만들어야 한다\n",
    "file.write('Hello world')\n",
    "file.close()"
   ]
  },
  {
   "cell_type": "code",
   "execution_count": 14,
   "metadata": {},
   "outputs": [],
   "source": [
    "file = open('./data/hello2.txt','w') \n",
    "file.write(\"Hello world\\nHello world\\nHello world\")\n",
    "file.close()"
   ]
  },
  {
   "cell_type": "code",
   "execution_count": 15,
   "metadata": {},
   "outputs": [],
   "source": [
    "file = open('./data/hello3.txt','w') \n",
    "file.write('''Hello world\n",
    "Hello world\n",
    "Hello world''')\n",
    "file.close()"
   ]
  },
  {
   "cell_type": "code",
   "execution_count": 16,
   "metadata": {},
   "outputs": [],
   "source": [
    "list01 = ['Hello World','Hello World','Hello World']\n",
    "file = open('./data/hello4.txt','w')\n",
    "for line in list01:\n",
    "    file.write(line+'\\n')\n",
    "file.close()"
   ]
  },
  {
   "cell_type": "markdown",
   "metadata": {},
   "source": [
    "#### 2. writelines()"
   ]
  },
  {
   "cell_type": "code",
   "execution_count": 17,
   "metadata": {},
   "outputs": [],
   "source": [
    "list01 = ['Hello World','Hello World','Hello World']\n",
    "file = open('./data/hello5.txt','w')\n",
    "file.writelines(list01)\n",
    "file.close()"
   ]
  },
  {
   "cell_type": "code",
   "execution_count": 18,
   "metadata": {},
   "outputs": [],
   "source": [
    "list01 = ['Hello World\\n','Hello World\\n','Hello World\\n']\n",
    "file = open('./data/hello6.txt','w')\n",
    "file.writelines(list01)\n",
    "file.close()"
   ]
  },
  {
   "cell_type": "markdown",
   "metadata": {},
   "source": [
    "### 📎file 읽기"
   ]
  },
  {
   "cell_type": "markdown",
   "metadata": {},
   "source": [
    "#### 1.read()\n",
    "- 전체를 문자열로 읽어옴"
   ]
  },
  {
   "cell_type": "code",
   "execution_count": 20,
   "metadata": {},
   "outputs": [
    {
     "name": "stdout",
     "output_type": "stream",
     "text": [
      "Hello world\n"
     ]
    }
   ],
   "source": [
    "file = open('./data/hello1.txt','r') \n",
    "print(file.read())\n",
    "file.close()"
   ]
  },
  {
   "cell_type": "code",
   "execution_count": 21,
   "metadata": {},
   "outputs": [
    {
     "name": "stdout",
     "output_type": "stream",
     "text": [
      "Hello world\n",
      "Hello world\n",
      "Hello world\n"
     ]
    }
   ],
   "source": [
    "file = open('./data/hello2.txt','r') \n",
    "print(file.read())\n",
    "file.close()"
   ]
  },
  {
   "cell_type": "markdown",
   "metadata": {},
   "source": [
    "#### 2.readline()\n",
    "- 한줄만 읽어옴, 한번 읽으면 buffer에서 없어진다 끝이다"
   ]
  },
  {
   "cell_type": "code",
   "execution_count": 1,
   "metadata": {},
   "outputs": [
    {
     "name": "stdout",
     "output_type": "stream",
     "text": [
      "Hello world\n",
      "\n",
      "Hello world\n",
      "\n"
     ]
    }
   ],
   "source": [
    "file = open('./data/hello2.txt','r') \n",
    "print(file.readline()) #한줄씩 읽는다\n",
    "print(file.readline())\n",
    "file.close()"
   ]
  },
  {
   "cell_type": "markdown",
   "metadata": {},
   "source": [
    "#### ⭐️ while 과 for 활용해서 한줄씩 다 읽어오기"
   ]
  },
  {
   "cell_type": "code",
   "execution_count": 5,
   "metadata": {},
   "outputs": [
    {
     "name": "stdout",
     "output_type": "stream",
     "text": [
      "Hello world\n",
      "\n",
      "Hello world\n",
      "\n",
      "Hello world\n",
      "\n"
     ]
    }
   ],
   "source": [
    "# while \n",
    "file = open('./data/hello2.txt','r') \n",
    "line = None\n",
    "while line !='':\n",
    "    line = file.readline()\n",
    "    print(line)\n",
    "\n",
    "# 불필요 하게 문장마다 \\n 함께 출력된다 => strip으로 지워버리자"
   ]
  },
  {
   "cell_type": "code",
   "execution_count": 4,
   "metadata": {},
   "outputs": [
    {
     "name": "stdout",
     "output_type": "stream",
     "text": [
      "Hello world\n",
      "Hello world\n",
      "Hello world\n",
      "\n"
     ]
    }
   ],
   "source": [
    "# while \n",
    "file = open('./data/hello2.txt','r') \n",
    "line = None\n",
    "while line !='':\n",
    "    line = file.readline()\n",
    "    print(line.strip('\\n'))"
   ]
  },
  {
   "cell_type": "code",
   "execution_count": 8,
   "metadata": {},
   "outputs": [
    {
     "name": "stdout",
     "output_type": "stream",
     "text": [
      "Hello world\n",
      "Hello world\n",
      "Hello world\n"
     ]
    }
   ],
   "source": [
    "# for \n",
    "file = open('./data/hello2.txt','r') \n",
    "for line in file:\n",
    "    print(line.strip('\\n'))"
   ]
  },
  {
   "cell_type": "code",
   "execution_count": 11,
   "metadata": {},
   "outputs": [
    {
     "name": "stdout",
     "output_type": "stream",
     "text": [
      "['_CHUNK_SIZE', '__class__', '__del__', '__delattr__', '__dict__', '__dir__', '__doc__', '__enter__', '__eq__', '__exit__', '__format__', '__ge__', '__getattribute__', '__gt__', '__hash__', '__init__', '__init_subclass__', '__iter__', '__le__', '__lt__', '__ne__', '__new__', '__next__', '__reduce__', '__reduce_ex__', '__repr__', '__setattr__', '__sizeof__', '__str__', '__subclasshook__', '_checkClosed', '_checkReadable', '_checkSeekable', '_checkWritable', '_finalizing', 'buffer', 'close', 'closed', 'detach', 'encoding', 'errors', 'fileno', 'flush', 'isatty', 'line_buffering', 'mode', 'name', 'newlines', 'read', 'readable', 'readline', 'readlines', 'reconfigure', 'seek', 'seekable', 'tell', 'truncate', 'writable', 'write', 'write_through', 'writelines']\n"
     ]
    }
   ],
   "source": [
    "file = open('./data/hello2.txt','r')\n",
    "print(dir(file)) # => inter 존재\n",
    "\n",
    "# file을 iterator 객체로 사용할때 기준은 한줄씩이다"
   ]
  },
  {
   "cell_type": "markdown",
   "metadata": {},
   "source": [
    "#### 3.readlines()\n",
    "- 한줄씩 원소로 list 반환"
   ]
  },
  {
   "cell_type": "code",
   "execution_count": 23,
   "metadata": {
    "scrolled": true
   },
   "outputs": [
    {
     "name": "stdout",
     "output_type": "stream",
     "text": [
      "['Hello world\\n', 'Hello world\\n', 'Hello world']\n"
     ]
    }
   ],
   "source": [
    "file = open('./data/hello2.txt','r') \n",
    "print(file.readlines()) # 한줄씩 list로 반환\n",
    "file.close()"
   ]
  },
  {
   "cell_type": "markdown",
   "metadata": {},
   "source": [
    "#### ⭐️ with open\n",
    "- file 은 사용하고 반드시 close를 해주어한다. 자동으로 되지 않는다\n",
    "- with 구문을 사용하면 자동으로 file.close()가 가능하다"
   ]
  },
  {
   "cell_type": "code",
   "execution_count": 12,
   "metadata": {},
   "outputs": [
    {
     "name": "stdout",
     "output_type": "stream",
     "text": [
      "Hello world\n",
      "Hello world\n",
      "Hello world\n"
     ]
    }
   ],
   "source": [
    "with open('./data/hello2.txt','r') as file:\n",
    "    print(file.read())\n"
   ]
  },
  {
   "cell_type": "markdown",
   "metadata": {},
   "source": [
    "### 📎Exception (예외처리)\n",
    "- 1. 예외(에러)를 무시하기\n",
    "- 2. 예외(에러)를 발생시키기"
   ]
  },
  {
   "cell_type": "markdown",
   "metadata": {},
   "source": [
    "#### 1. 예외를 무시하기\n",
    "- try except else finally\n",
    "- try 구문에는 실행하고자 하는 코드가 들어간다\n",
    "- except 구문에는 예외가 발생했을때 처리하는 코드가 들어간다\n",
    "- else 구문에는 예외가 발생하지 않았을때 처리하는 코드가 들어간다\n",
    "- finally 구문에는 예외의 여부와 관계없이 반드시 실행하고싶은 코드가 들어간다"
   ]
  },
  {
   "cell_type": "code",
   "execution_count": 56,
   "metadata": {},
   "outputs": [
    {
     "ename": "ZeroDivisionError",
     "evalue": "division by zero",
     "output_type": "error",
     "traceback": [
      "\u001b[0;31m---------------------------------------------------------------------------\u001b[0m",
      "\u001b[0;31mZeroDivisionError\u001b[0m                         Traceback (most recent call last)",
      "\u001b[0;32m<ipython-input-56-a0f5157c0574>\u001b[0m in \u001b[0;36m<module>\u001b[0;34m\u001b[0m\n\u001b[1;32m      1\u001b[0m \u001b[0mx\u001b[0m \u001b[0;34m=\u001b[0m \u001b[0;36m1\u001b[0m\u001b[0;34m\u001b[0m\u001b[0;34m\u001b[0m\u001b[0m\n\u001b[1;32m      2\u001b[0m \u001b[0my\u001b[0m \u001b[0;34m=\u001b[0m \u001b[0;36m0\u001b[0m\u001b[0;34m\u001b[0m\u001b[0;34m\u001b[0m\u001b[0m\n\u001b[0;32m----> 3\u001b[0;31m \u001b[0mprint\u001b[0m\u001b[0;34m(\u001b[0m\u001b[0mx\u001b[0m\u001b[0;34m/\u001b[0m\u001b[0my\u001b[0m\u001b[0;34m)\u001b[0m\u001b[0;34m\u001b[0m\u001b[0;34m\u001b[0m\u001b[0m\n\u001b[0m\u001b[1;32m      4\u001b[0m \u001b[0;31m# zeroDivison Error\u001b[0m\u001b[0;34m\u001b[0m\u001b[0;34m\u001b[0m\u001b[0;34m\u001b[0m\u001b[0m\n",
      "\u001b[0;31mZeroDivisionError\u001b[0m: division by zero"
     ]
    }
   ],
   "source": [
    "x = 1\n",
    "y = 0\n",
    "print(x/y)\n",
    "# zeroDivison Error"
   ]
  },
  {
   "cell_type": "code",
   "execution_count": 57,
   "metadata": {},
   "outputs": [
    {
     "name": "stdout",
     "output_type": "stream",
     "text": [
      "예외발생\n"
     ]
    }
   ],
   "source": [
    "try:\n",
    "    x = 1\n",
    "    y = 0\n",
    "    print(x/y) \n",
    "except:\n",
    "    print(\"예외발생\")\n",
    "    "
   ]
  },
  {
   "cell_type": "code",
   "execution_count": 58,
   "metadata": {},
   "outputs": [
    {
     "name": "stdout",
     "output_type": "stream",
     "text": [
      "ZeroDivisionError\n"
     ]
    }
   ],
   "source": [
    "# 예외를 지정해줄수도 있다\n",
    "try:\n",
    "    x = 1\n",
    "    y = 0\n",
    "    print(x/y) \n",
    "except ZeroDivisionError:\n",
    "    print(\"ZeroDivisionError\")"
   ]
  },
  {
   "cell_type": "code",
   "execution_count": 61,
   "metadata": {},
   "outputs": [
    {
     "ename": "NameError",
     "evalue": "name 'z' is not defined",
     "output_type": "error",
     "traceback": [
      "\u001b[0;31m---------------------------------------------------------------------------\u001b[0m",
      "\u001b[0;31mNameError\u001b[0m                                 Traceback (most recent call last)",
      "\u001b[0;32m<ipython-input-61-d076540227e5>\u001b[0m in \u001b[0;36m<module>\u001b[0;34m\u001b[0m\n\u001b[1;32m      3\u001b[0m     \u001b[0mx\u001b[0m \u001b[0;34m=\u001b[0m \u001b[0;36m1\u001b[0m\u001b[0;34m\u001b[0m\u001b[0;34m\u001b[0m\u001b[0m\n\u001b[1;32m      4\u001b[0m     \u001b[0my\u001b[0m \u001b[0;34m=\u001b[0m \u001b[0;36m0\u001b[0m\u001b[0;34m\u001b[0m\u001b[0;34m\u001b[0m\u001b[0m\n\u001b[0;32m----> 5\u001b[0;31m     \u001b[0mprint\u001b[0m\u001b[0;34m(\u001b[0m\u001b[0mz\u001b[0m\u001b[0;34m)\u001b[0m\u001b[0;34m\u001b[0m\u001b[0;34m\u001b[0m\u001b[0m\n\u001b[0m\u001b[1;32m      6\u001b[0m \u001b[0;32mexcept\u001b[0m \u001b[0mZeroDivisionError\u001b[0m\u001b[0;34m:\u001b[0m\u001b[0;34m\u001b[0m\u001b[0;34m\u001b[0m\u001b[0m\n\u001b[1;32m      7\u001b[0m     \u001b[0mprint\u001b[0m\u001b[0;34m(\u001b[0m\u001b[0;34m\"ZeroDivisionError\"\u001b[0m\u001b[0;34m)\u001b[0m\u001b[0;34m\u001b[0m\u001b[0;34m\u001b[0m\u001b[0m\n",
      "\u001b[0;31mNameError\u001b[0m: name 'z' is not defined"
     ]
    }
   ],
   "source": [
    "# 지정한 에러가 아닌 다른 에러가아닌 다른 에러가 발생한다면? => 예외로 처리되지 않는다 \n",
    "try:\n",
    "    x = 1\n",
    "    y = 0\n",
    "    print(z) \n",
    "except ZeroDivisionError:\n",
    "    print(\"ZeroDivisionError\")"
   ]
  },
  {
   "cell_type": "code",
   "execution_count": 66,
   "metadata": {},
   "outputs": [
    {
     "name": "stdout",
     "output_type": "stream",
     "text": [
      "예외 발생\n"
     ]
    }
   ],
   "source": [
    "# 정확한 에러명을 모를땐 최상위 에러인 Exception 사용\n",
    "try:\n",
    "    x = 1\n",
    "    y = 0\n",
    "    print(x/y) \n",
    "except Exception:\n",
    "    print(\"예외 발생\")"
   ]
  },
  {
   "cell_type": "code",
   "execution_count": 62,
   "metadata": {},
   "outputs": [
    {
     "name": "stdout",
     "output_type": "stream",
     "text": [
      "NameError\n"
     ]
    }
   ],
   "source": [
    "# 여러개의 예외처리 가능하다\n",
    "# 해당 에러에 해당하는 excpet 구문이 실행된다\n",
    "try:\n",
    "    x = 1\n",
    "    y = 0\n",
    "    print(z) \n",
    "except NameError:\n",
    "    print(\"NameError\")\n",
    "    \n",
    "except ZeroDivisionError:\n",
    "    print(\"ZeroDivisionError\")"
   ]
  },
  {
   "cell_type": "code",
   "execution_count": 63,
   "metadata": {},
   "outputs": [
    {
     "name": "stdout",
     "output_type": "stream",
     "text": [
      "name 'z' is not defined\n"
     ]
    }
   ],
   "source": [
    "# as 별칭 이용 해서 에러 내용을 쉽게 출력 가능하다\n",
    "try:\n",
    "    x = 1\n",
    "    y = 0\n",
    "    print(z) \n",
    "except NameError as e:\n",
    "    print(e)\n",
    "    \n",
    "except ZeroDivisionError as p:\n",
    "    print(p)"
   ]
  },
  {
   "cell_type": "code",
   "execution_count": 65,
   "metadata": {},
   "outputs": [
    {
     "name": "stdout",
     "output_type": "stream",
     "text": [
      "예외가 발생하지 않음\n"
     ]
    }
   ],
   "source": [
    "# else: 예외가 발생되지 않았을때\n",
    "try:\n",
    "    x = 1\n",
    "    y = 1\n",
    "    x/y\n",
    "except NameError as e:\n",
    "    print(e)\n",
    "else:\n",
    "    print('예외가 발생하지 않음')"
   ]
  },
  {
   "cell_type": "code",
   "execution_count": 69,
   "metadata": {},
   "outputs": [
    {
     "name": "stdout",
     "output_type": "stream",
     "text": [
      "분모 입력2\n",
      "예외가 발생하지 않음\n",
      "종료\n"
     ]
    }
   ],
   "source": [
    "# 예외가 발생 유무 상관없이 실행 코드\n",
    "try:\n",
    "    denominator = int(input('분모 입력'))\n",
    "    result = 10/denominator  \n",
    "except  Exception as e:\n",
    "    print(e)\n",
    "else:\n",
    "    print('예외가 발생하지 않음')\n",
    "finally:\n",
    "    print('종료')"
   ]
  },
  {
   "cell_type": "markdown",
   "metadata": {},
   "source": [
    "### 2. 예외 발생시키기\n",
    "- 특정 상황에서 내가 정의한대로 에러를 발생시키고 싶을때가 있다\n",
    "- 사용자 지정 예외 만들기 \n",
    "    - Exception 클래스를 상속한다\n",
    "    - super().__init__('error message')으로 생성자 호출"
   ]
  },
  {
   "cell_type": "code",
   "execution_count": 72,
   "metadata": {},
   "outputs": [
    {
     "name": "stdout",
     "output_type": "stream",
     "text": [
      "인자가 2의 배수 입니다\n"
     ]
    },
    {
     "ename": "Exception",
     "evalue": "인자는 2의 배수만 입력하시오",
     "output_type": "error",
     "traceback": [
      "\u001b[0;31m---------------------------------------------------------------------------\u001b[0m",
      "\u001b[0;31mException\u001b[0m                                 Traceback (most recent call last)",
      "\u001b[0;32m<ipython-input-72-246ae67af3de>\u001b[0m in \u001b[0;36m<module>\u001b[0;34m\u001b[0m\n\u001b[1;32m      6\u001b[0m \u001b[0;34m\u001b[0m\u001b[0m\n\u001b[1;32m      7\u001b[0m \u001b[0mcallEven\u001b[0m\u001b[0;34m(\u001b[0m\u001b[0;36m2\u001b[0m\u001b[0;34m)\u001b[0m\u001b[0;34m\u001b[0m\u001b[0;34m\u001b[0m\u001b[0m\n\u001b[0;32m----> 8\u001b[0;31m \u001b[0mcallEven\u001b[0m\u001b[0;34m(\u001b[0m\u001b[0;36m3\u001b[0m\u001b[0;34m)\u001b[0m\u001b[0;34m\u001b[0m\u001b[0;34m\u001b[0m\u001b[0m\n\u001b[0m",
      "\u001b[0;32m<ipython-input-72-246ae67af3de>\u001b[0m in \u001b[0;36mcallEven\u001b[0;34m(x)\u001b[0m\n\u001b[1;32m      2\u001b[0m \u001b[0;32mdef\u001b[0m \u001b[0mcallEven\u001b[0m\u001b[0;34m(\u001b[0m\u001b[0mx\u001b[0m\u001b[0;34m)\u001b[0m\u001b[0;34m:\u001b[0m\u001b[0;34m\u001b[0m\u001b[0;34m\u001b[0m\u001b[0m\n\u001b[1;32m      3\u001b[0m     \u001b[0;32mif\u001b[0m \u001b[0mx\u001b[0m \u001b[0;34m%\u001b[0m\u001b[0;36m2\u001b[0m\u001b[0;34m!=\u001b[0m\u001b[0;36m0\u001b[0m\u001b[0;34m:\u001b[0m\u001b[0;34m\u001b[0m\u001b[0;34m\u001b[0m\u001b[0m\n\u001b[0;32m----> 4\u001b[0;31m         \u001b[0;32mraise\u001b[0m \u001b[0mException\u001b[0m\u001b[0;34m(\u001b[0m\u001b[0;34m'인자는 2의 배수만 입력하시오'\u001b[0m\u001b[0;34m)\u001b[0m\u001b[0;34m\u001b[0m\u001b[0;34m\u001b[0m\u001b[0m\n\u001b[0m\u001b[1;32m      5\u001b[0m     \u001b[0mprint\u001b[0m\u001b[0;34m(\u001b[0m\u001b[0;34m'인자가 2의 배수 입니다'\u001b[0m\u001b[0;34m)\u001b[0m\u001b[0;34m\u001b[0m\u001b[0;34m\u001b[0m\u001b[0m\n\u001b[1;32m      6\u001b[0m \u001b[0;34m\u001b[0m\u001b[0m\n",
      "\u001b[0;31mException\u001b[0m: 인자는 2의 배수만 입력하시오"
     ]
    }
   ],
   "source": [
    "#  예를 들어 내가 만든 함수의 인자를 짝수만 받고싶다고 가정하자\n",
    "def callEven(x):\n",
    "    if x %2!=0:\n",
    "        raise Exception('인자는 2의 배수만 입력하시오')\n",
    "    print('인자가 2의 배수 입니다')\n",
    "    \n",
    "callEven(2)\n",
    "callEven(3)"
   ]
  },
  {
   "cell_type": "code",
   "execution_count": 75,
   "metadata": {},
   "outputs": [
    {
     "ename": "MyException",
     "evalue": "this is my error",
     "output_type": "error",
     "traceback": [
      "\u001b[0;31m---------------------------------------------------------------------------\u001b[0m",
      "\u001b[0;31mMyException\u001b[0m                               Traceback (most recent call last)",
      "\u001b[0;32m<ipython-input-75-23106df2868e>\u001b[0m in \u001b[0;36m<module>\u001b[0;34m\u001b[0m\n\u001b[1;32m      9\u001b[0m     \u001b[0mprint\u001b[0m\u001b[0;34m(\u001b[0m\u001b[0;34m'인자가 2의 배수 입니다'\u001b[0m\u001b[0;34m)\u001b[0m\u001b[0;34m\u001b[0m\u001b[0;34m\u001b[0m\u001b[0m\n\u001b[1;32m     10\u001b[0m \u001b[0;34m\u001b[0m\u001b[0m\n\u001b[0;32m---> 11\u001b[0;31m \u001b[0mcallEven\u001b[0m\u001b[0;34m(\u001b[0m\u001b[0;36m3\u001b[0m\u001b[0;34m)\u001b[0m \u001b[0;31m# MyException: this is my error\u001b[0m\u001b[0;34m\u001b[0m\u001b[0;34m\u001b[0m\u001b[0m\n\u001b[0m",
      "\u001b[0;32m<ipython-input-75-23106df2868e>\u001b[0m in \u001b[0;36mcallEven\u001b[0;34m(x)\u001b[0m\n\u001b[1;32m      6\u001b[0m \u001b[0;32mdef\u001b[0m \u001b[0mcallEven\u001b[0m\u001b[0;34m(\u001b[0m\u001b[0mx\u001b[0m\u001b[0;34m)\u001b[0m\u001b[0;34m:\u001b[0m\u001b[0;34m\u001b[0m\u001b[0;34m\u001b[0m\u001b[0m\n\u001b[1;32m      7\u001b[0m     \u001b[0;32mif\u001b[0m \u001b[0mx\u001b[0m \u001b[0;34m%\u001b[0m\u001b[0;36m2\u001b[0m\u001b[0;34m!=\u001b[0m\u001b[0;36m0\u001b[0m\u001b[0;34m:\u001b[0m\u001b[0;34m\u001b[0m\u001b[0;34m\u001b[0m\u001b[0m\n\u001b[0;32m----> 8\u001b[0;31m         \u001b[0;32mraise\u001b[0m \u001b[0mMyException\u001b[0m\u001b[0;34m\u001b[0m\u001b[0;34m\u001b[0m\u001b[0m\n\u001b[0m\u001b[1;32m      9\u001b[0m     \u001b[0mprint\u001b[0m\u001b[0;34m(\u001b[0m\u001b[0;34m'인자가 2의 배수 입니다'\u001b[0m\u001b[0;34m)\u001b[0m\u001b[0;34m\u001b[0m\u001b[0;34m\u001b[0m\u001b[0m\n\u001b[1;32m     10\u001b[0m \u001b[0;34m\u001b[0m\u001b[0m\n",
      "\u001b[0;31mMyException\u001b[0m: this is my error"
     ]
    }
   ],
   "source": [
    "# 사용자 정의 예외를 생성해보자\n",
    "class MyException(Exception):\n",
    "    def __init__(self):\n",
    "        super().__init__('this is my error')\n",
    "        \n",
    "def callEven(x):\n",
    "    if x %2!=0:\n",
    "        raise MyException\n",
    "    print('인자가 2의 배수 입니다')\n",
    "    \n",
    "callEven(3) # MyException: this is my error"
   ]
  },
  {
   "cell_type": "code",
   "execution_count": 76,
   "metadata": {},
   "outputs": [
    {
     "ename": "MyException",
     "evalue": "this is my error",
     "output_type": "error",
     "traceback": [
      "\u001b[0;31m---------------------------------------------------------------------------\u001b[0m",
      "\u001b[0;31mMyException\u001b[0m                               Traceback (most recent call last)",
      "\u001b[0;32m<ipython-input-76-b3c934f36aab>\u001b[0m in \u001b[0;36m<module>\u001b[0;34m\u001b[0m\n\u001b[1;32m      7\u001b[0m         \u001b[0;32mraise\u001b[0m \u001b[0mMyException\u001b[0m\u001b[0;34m(\u001b[0m\u001b[0;34m'this is my error'\u001b[0m\u001b[0;34m)\u001b[0m\u001b[0;34m\u001b[0m\u001b[0;34m\u001b[0m\u001b[0m\n\u001b[1;32m      8\u001b[0m     \u001b[0mprint\u001b[0m\u001b[0;34m(\u001b[0m\u001b[0;34m'인자가 2의 배수 입니다'\u001b[0m\u001b[0;34m)\u001b[0m\u001b[0;34m\u001b[0m\u001b[0;34m\u001b[0m\u001b[0m\n\u001b[0;32m----> 9\u001b[0;31m \u001b[0mcallEven\u001b[0m\u001b[0;34m(\u001b[0m\u001b[0;36m3\u001b[0m\u001b[0;34m)\u001b[0m\u001b[0;34m\u001b[0m\u001b[0;34m\u001b[0m\u001b[0m\n\u001b[0m",
      "\u001b[0;32m<ipython-input-76-b3c934f36aab>\u001b[0m in \u001b[0;36mcallEven\u001b[0;34m(x)\u001b[0m\n\u001b[1;32m      5\u001b[0m \u001b[0;32mdef\u001b[0m \u001b[0mcallEven\u001b[0m\u001b[0;34m(\u001b[0m\u001b[0mx\u001b[0m\u001b[0;34m)\u001b[0m\u001b[0;34m:\u001b[0m\u001b[0;34m\u001b[0m\u001b[0;34m\u001b[0m\u001b[0m\n\u001b[1;32m      6\u001b[0m     \u001b[0;32mif\u001b[0m \u001b[0mx\u001b[0m \u001b[0;34m%\u001b[0m\u001b[0;36m2\u001b[0m\u001b[0;34m!=\u001b[0m\u001b[0;36m0\u001b[0m\u001b[0;34m:\u001b[0m\u001b[0;34m\u001b[0m\u001b[0;34m\u001b[0m\u001b[0m\n\u001b[0;32m----> 7\u001b[0;31m         \u001b[0;32mraise\u001b[0m \u001b[0mMyException\u001b[0m\u001b[0;34m(\u001b[0m\u001b[0;34m'this is my error'\u001b[0m\u001b[0;34m)\u001b[0m\u001b[0;34m\u001b[0m\u001b[0;34m\u001b[0m\u001b[0m\n\u001b[0m\u001b[1;32m      8\u001b[0m     \u001b[0mprint\u001b[0m\u001b[0;34m(\u001b[0m\u001b[0;34m'인자가 2의 배수 입니다'\u001b[0m\u001b[0;34m)\u001b[0m\u001b[0;34m\u001b[0m\u001b[0;34m\u001b[0m\u001b[0m\n\u001b[1;32m      9\u001b[0m \u001b[0mcallEven\u001b[0m\u001b[0;34m(\u001b[0m\u001b[0;36m3\u001b[0m\u001b[0;34m)\u001b[0m\u001b[0;34m\u001b[0m\u001b[0;34m\u001b[0m\u001b[0m\n",
      "\u001b[0;31mMyException\u001b[0m: this is my error"
     ]
    }
   ],
   "source": [
    "# 꼭 생성자를 부를 필요는 없다\n",
    "class MyException(Exception):\n",
    "    pass\n",
    "        \n",
    "def callEven(x):\n",
    "    if x %2!=0:\n",
    "        raise MyException('this is my error')\n",
    "    print('인자가 2의 배수 입니다')\n",
    "callEven(3) "
   ]
  },
  {
   "cell_type": "markdown",
   "metadata": {},
   "source": [
    "### 📎json file 읽기\n",
    "- 브라우저 상에서 표준 파일 형식이다\n",
    "- dict형식과 유사하게 생겼지만 dict아니다\n",
    "- json -> python의 list or list : decoding 이라고 한다 \n",
    "    - 부호화 되어있는 형식을 파이썬의 형식으로 푸는것이라고 이해하자\n",
    "- python의 list or list  -> json : encoding 이라고 한다\n",
    "    - 기호나 수식으로 부호화하는 과정이라고 이해하자"
   ]
  },
  {
   "cell_type": "code",
   "execution_count": 13,
   "metadata": {},
   "outputs": [
    {
     "name": "stdout",
     "output_type": "stream",
     "text": [
      "<class 'str'>\n",
      "{\"id\": \"jslim\", \"pwd\": \"jslim\"}\n",
      "<class 'dict'>\n",
      "{'id': 'jslim', 'pwd': 'jslim'}\n"
     ]
    }
   ],
   "source": [
    "import json as j\n",
    "tmpDict = {'id':'jslim','pwd':'jslim'}\n",
    "\n",
    "# encoding 을 해보자 json.dumps() 함수 사용\n",
    "jsonDic = j.dumps(tmpDict)\n",
    "print(type(jsonDic)) # class str이다 신기하네\n",
    "print(jsonDic)\n",
    "\n",
    "# decoding 을해보자 json.loads() 함수 사용\n",
    "pyDic = j.loads(jsonDic)\n",
    "print(type(pyDic)) # 다시 dict로 만들어줬다\n",
    "print(pyDic)\n"
   ]
  },
  {
   "cell_type": "code",
   "execution_count": 25,
   "metadata": {},
   "outputs": [
    {
     "name": "stdout",
     "output_type": "stream",
     "text": [
      "<class 'str'>\n",
      "[[\"id\", \"jslim\"], [\"pwd\", \"jslim\"]]\n",
      "<class 'list'>\n",
      "[['id', 'jslim'], ['pwd', 'jslim']]\n"
     ]
    }
   ],
   "source": [
    "# 굳이 딕셔너리 형식을 사용하지 않아도 되긴하다\n",
    "import json as j\n",
    "tmplist = [['id','jslim'],['pwd','jslim']]\n",
    "jsonlist = j.dumps(tmplist)\n",
    "print(type(jsonlist))\n",
    "print(jsonlist)\n",
    "\n",
    "\n",
    "pyList = j.loads(jsonlist)\n",
    "print(type(pyList))\n",
    "print(pyList)"
   ]
  },
  {
   "cell_type": "code",
   "execution_count": 19,
   "metadata": {},
   "outputs": [
    {
     "name": "stdout",
     "output_type": "stream",
     "text": [
      "<class 'dict'>\n",
      "Mozilla/5.0 (Windows NT 6.1; WOW64) AppleWebKit/535.11 (KHTML, like Gecko) Chrome/17.0.963.78 Safari/535.11\n"
     ]
    }
   ],
   "source": [
    "# 실제 json 파일을 한번 열어보자 txt형식으로 되어있기때문에 => open 사용할거다\n",
    "# json을 python dict로 decoding 할거다\n",
    "import json\n",
    "\n",
    "with open('./data/json.txt', 'r', encoding='UTF-8') as file:\n",
    "    lines = file.readlines() # type은 list로 들어온다 => 즉 각 줄이 str 타입으로 list의 원소가 된다\n",
    "    # lines = [json.loads(line) for line in lines]\n",
    "    lines = list(map(json.loads,lines)) # map함수 사용 가능\n",
    "    print(type(lines[0]))\n",
    "    print(lines[0]['a']) # 이제 key에 대한 접근이 가능해진다\n",
    "    '''\n",
    "    lines=[]\n",
    "    for line in file:\n",
    "        lines.append(json.loads(line)\n",
    "    '''"
   ]
  },
  {
   "cell_type": "markdown",
   "metadata": {},
   "source": [
    "### 📎datetime\n",
    "- 파이썬에서 날짜 쉽게 사용하도록 도와주는 module 이다"
   ]
  },
  {
   "cell_type": "code",
   "execution_count": 45,
   "metadata": {},
   "outputs": [
    {
     "name": "stdout",
     "output_type": "stream",
     "text": [
      "2021-07-25\n",
      "<class 'datetime.date'>\n",
      "2021 7 25\n",
      "2021-07-25 22:16:02.840040\n",
      "<class 'datetime.datetime'>\n",
      "2021 7 25\n",
      "22 16 2\n"
     ]
    }
   ],
   "source": [
    "from datetime import date,datetime,timedelta       # date datetime timedelta 클래스다 \n",
    " \n",
    "print(date.today())\n",
    "print(type(date.today()))    # datetime.date 객체이다\n",
    "\n",
    "# year month day따로 추출 가능하다\n",
    "print(date.today().year,date.today().month,date.today().day)\n",
    "\n",
    "print(datetime.today())\n",
    "print(type(datetime.today())) # datetime.datetime 객체이다\n",
    "\n",
    "# 추가적으로 시분초 까지 나타낼수 있다\n",
    "print(datetime.today().year,datetime.today().month,datetime.today().day)\n",
    "print(datetime.today().hour,datetime.today().minute,datetime.today().second)\n"
   ]
  },
  {
   "cell_type": "code",
   "execution_count": 41,
   "metadata": {},
   "outputs": [
    {
     "name": "stdout",
     "output_type": "stream",
     "text": [
      "2021-07-25\n",
      "2021년 07월 25일\n",
      "2021-07-25 22:13:20\n"
     ]
    }
   ],
   "source": [
    "# stftime\n",
    "# string formatting\n",
    "# datetime 객체에서 내가 원하는 str추출\n",
    "today = datetime.today() \n",
    "print(today.strftime('%Y-%m-%d'))     # 이형식으로 string으로 뽑아 내겠다는거다\n",
    "print(today.strftime('%Y년 %m월 %d일')) # 이럴때 유용하겠지\n",
    "\n",
    "# strptime\n",
    "# string parse time\n",
    "# string을 datetime 객체로 pase\n",
    "\n",
    "datetime_kor ='2021년 7월 25일 22시 13분 20초' \n",
    "print(datetime.strptime(datetime_kor,'%Y년 %m월 %d일 %H시 %M분 %S초')) # datetime.datetime의 형식으로 출력된다\n"
   ]
  },
  {
   "cell_type": "code",
   "execution_count": 47,
   "metadata": {},
   "outputs": [
    {
     "name": "stdout",
     "output_type": "stream",
     "text": [
      "2019-07-16 00:00:00 <class 'datetime.datetime'>\n",
      "2019-07-16 00:00:00 <class 'datetime.datetime'>\n"
     ]
    },
    {
     "ename": "ParserError",
     "evalue": "Unknown string format: 2019년7월16일",
     "output_type": "error",
     "traceback": [
      "\u001b[0;31m---------------------------------------------------------------------------\u001b[0m",
      "\u001b[0;31mParserError\u001b[0m                               Traceback (most recent call last)",
      "\u001b[0;32m<ipython-input-47-1fd312d6360e>\u001b[0m in \u001b[0;36m<module>\u001b[0;34m\u001b[0m\n\u001b[1;32m     10\u001b[0m \u001b[0mprint\u001b[0m\u001b[0;34m(\u001b[0m\u001b[0muserDate\u001b[0m\u001b[0;34m,\u001b[0m\u001b[0mtype\u001b[0m\u001b[0;34m(\u001b[0m\u001b[0muserDate\u001b[0m\u001b[0;34m)\u001b[0m\u001b[0;34m)\u001b[0m\u001b[0;34m\u001b[0m\u001b[0;34m\u001b[0m\u001b[0m\n\u001b[1;32m     11\u001b[0m \u001b[0;34m\u001b[0m\u001b[0m\n\u001b[0;32m---> 12\u001b[0;31m \u001b[0muserDate\u001b[0m \u001b[0;34m=\u001b[0m \u001b[0mparse\u001b[0m\u001b[0;34m(\u001b[0m\u001b[0;34m'2019년7월16일'\u001b[0m\u001b[0;34m)\u001b[0m \u001b[0;31m# 이런건 안된다\u001b[0m\u001b[0;34m\u001b[0m\u001b[0;34m\u001b[0m\u001b[0m\n\u001b[0m\u001b[1;32m     13\u001b[0m \u001b[0mprint\u001b[0m\u001b[0;34m(\u001b[0m\u001b[0muserDate\u001b[0m\u001b[0;34m,\u001b[0m\u001b[0mtype\u001b[0m\u001b[0;34m(\u001b[0m\u001b[0muserDate\u001b[0m\u001b[0;34m)\u001b[0m\u001b[0;34m)\u001b[0m\u001b[0;34m\u001b[0m\u001b[0;34m\u001b[0m\u001b[0m\n",
      "\u001b[0;32m~/opt/anaconda3/lib/python3.8/site-packages/dateutil/parser/_parser.py\u001b[0m in \u001b[0;36mparse\u001b[0;34m(timestr, parserinfo, **kwargs)\u001b[0m\n\u001b[1;32m   1372\u001b[0m         \u001b[0;32mreturn\u001b[0m \u001b[0mparser\u001b[0m\u001b[0;34m(\u001b[0m\u001b[0mparserinfo\u001b[0m\u001b[0;34m)\u001b[0m\u001b[0;34m.\u001b[0m\u001b[0mparse\u001b[0m\u001b[0;34m(\u001b[0m\u001b[0mtimestr\u001b[0m\u001b[0;34m,\u001b[0m \u001b[0;34m**\u001b[0m\u001b[0mkwargs\u001b[0m\u001b[0;34m)\u001b[0m\u001b[0;34m\u001b[0m\u001b[0;34m\u001b[0m\u001b[0m\n\u001b[1;32m   1373\u001b[0m     \u001b[0;32melse\u001b[0m\u001b[0;34m:\u001b[0m\u001b[0;34m\u001b[0m\u001b[0;34m\u001b[0m\u001b[0m\n\u001b[0;32m-> 1374\u001b[0;31m         \u001b[0;32mreturn\u001b[0m \u001b[0mDEFAULTPARSER\u001b[0m\u001b[0;34m.\u001b[0m\u001b[0mparse\u001b[0m\u001b[0;34m(\u001b[0m\u001b[0mtimestr\u001b[0m\u001b[0;34m,\u001b[0m \u001b[0;34m**\u001b[0m\u001b[0mkwargs\u001b[0m\u001b[0;34m)\u001b[0m\u001b[0;34m\u001b[0m\u001b[0;34m\u001b[0m\u001b[0m\n\u001b[0m\u001b[1;32m   1375\u001b[0m \u001b[0;34m\u001b[0m\u001b[0m\n\u001b[1;32m   1376\u001b[0m \u001b[0;34m\u001b[0m\u001b[0m\n",
      "\u001b[0;32m~/opt/anaconda3/lib/python3.8/site-packages/dateutil/parser/_parser.py\u001b[0m in \u001b[0;36mparse\u001b[0;34m(self, timestr, default, ignoretz, tzinfos, **kwargs)\u001b[0m\n\u001b[1;32m    647\u001b[0m \u001b[0;34m\u001b[0m\u001b[0m\n\u001b[1;32m    648\u001b[0m         \u001b[0;32mif\u001b[0m \u001b[0mres\u001b[0m \u001b[0;32mis\u001b[0m \u001b[0;32mNone\u001b[0m\u001b[0;34m:\u001b[0m\u001b[0;34m\u001b[0m\u001b[0;34m\u001b[0m\u001b[0m\n\u001b[0;32m--> 649\u001b[0;31m             \u001b[0;32mraise\u001b[0m \u001b[0mParserError\u001b[0m\u001b[0;34m(\u001b[0m\u001b[0;34m\"Unknown string format: %s\"\u001b[0m\u001b[0;34m,\u001b[0m \u001b[0mtimestr\u001b[0m\u001b[0;34m)\u001b[0m\u001b[0;34m\u001b[0m\u001b[0;34m\u001b[0m\u001b[0m\n\u001b[0m\u001b[1;32m    650\u001b[0m \u001b[0;34m\u001b[0m\u001b[0m\n\u001b[1;32m    651\u001b[0m         \u001b[0;32mif\u001b[0m \u001b[0mlen\u001b[0m\u001b[0;34m(\u001b[0m\u001b[0mres\u001b[0m\u001b[0;34m)\u001b[0m \u001b[0;34m==\u001b[0m \u001b[0;36m0\u001b[0m\u001b[0;34m:\u001b[0m\u001b[0;34m\u001b[0m\u001b[0;34m\u001b[0m\u001b[0m\n",
      "\u001b[0;31mParserError\u001b[0m: Unknown string format: 2019년7월16일"
     ]
    }
   ],
   "source": [
    "# 그냥 알아두자\n",
    "\n",
    "from dateutil.parser import parse\n",
    "\n",
    "# 특정 날짜객체를 생성\n",
    "userDate = parse('2019-7-16')\n",
    "print(userDate,type(userDate))\n",
    "\n",
    "userDate = parse('2019/7/16') # 어느 정도 형식까지는 알아서 parse되는거 같다\n",
    "print(userDate,type(userDate))\n",
    "\n",
    "userDate = parse('2019년7월16일') # 이런건 안된다\n",
    "print(userDate,type(userDate))"
   ]
  },
  {
   "cell_type": "markdown",
   "metadata": {},
   "source": [
    "#### ⭐️시간 계산하기\n",
    "- 기본적으로는 timedelta 객체를 사용   : H M S 가 최대\n",
    "- 추가적으로 relativedelta 객체를 사용 : Y M D H M S 다 가능\n",
    "- 중요한건 둘다 계산을 해도 타입은 그대로 datetime.datetime 혹은 datetime.date로 유지된다"
   ]
  },
  {
   "cell_type": "code",
   "execution_count": 53,
   "metadata": {},
   "outputs": [
    {
     "name": "stdout",
     "output_type": "stream",
     "text": [
      "2021-07-26 00:19:47.020624\n",
      "<class 'datetime.datetime'>\n",
      "<class 'dateutil.relativedelta.relativedelta'>\n",
      "2021-07-25 22:21:47.020624\n",
      "2021-07-27 22:19:47.020624\n",
      "<class 'datetime.datetime'>\n"
     ]
    }
   ],
   "source": [
    "from datetime import date,datetime,timedelta\n",
    "from dateutil.relativedelta import relativedelta\n",
    "\n",
    "days = datetime.today()\n",
    "\n",
    "# time delta 는 H M S 까지 밖에 안됨\n",
    "print(days+timedelta(hours=2))       # s안붙이면 안된다\n",
    "print(type(days+timedelta(hours=2)))\n",
    "\n",
    "# relativedelta\n",
    "print(type(relativedelta(days=2)))\n",
    "print(days+relativedelta(minutes=2))\n",
    "print(days+relativedelta(days=2))\n",
    "print(type(days+relativedelta(days=2))) # 타입은 그대로"
   ]
  }
 ],
 "metadata": {
  "kernelspec": {
   "display_name": "Python 3",
   "language": "python",
   "name": "python3"
  },
  "language_info": {
   "codemirror_mode": {
    "name": "ipython",
    "version": 3
   },
   "file_extension": ".py",
   "mimetype": "text/x-python",
   "name": "python",
   "nbconvert_exporter": "python",
   "pygments_lexer": "ipython3",
   "version": "3.8.8"
  }
 },
 "nbformat": 4,
 "nbformat_minor": 4
}
