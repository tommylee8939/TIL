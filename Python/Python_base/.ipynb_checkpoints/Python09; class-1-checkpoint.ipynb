{
 "cells": [
  {
   "cell_type": "markdown",
   "metadata": {},
   "source": [
    "## Python09; class-1"
   ]
  },
  {
   "cell_type": "markdown",
   "metadata": {},
   "source": [
    "- 파이썬의 OOP(object oriented programming)에 대해 배워보자 \n",
    "- 자바와 같은 다른 언어를 배웠다면 객체에 대한 이해가 어느정도 있기때문에 파이썬을 이용한 객체 지향이 어렵게 느껴지지는 않을거다. 다만 파이썬은 완벽한 객체 지향 언어라고 보기는 어렵기 때문에 다른 객체지향 프로그래밍들과 다른 특징들이 분명히 있다. 이 챕터에서는 그 차이점까지 함께 살펴보려고 한다"
   ]
  },
  {
   "cell_type": "markdown",
   "metadata": {},
   "source": [
    "### Class\n",
    "- 1.클래스 선언\n",
    "- 2.static vs member\n",
    "- 3.method 선언\n",
    "- 4.static method, class method"
   ]
  },
  {
   "cell_type": "markdown",
   "metadata": {},
   "source": [
    "#### 1. 클래스 선언하기"
   ]
  },
  {
   "cell_type": "code",
   "execution_count": 2,
   "metadata": {},
   "outputs": [],
   "source": [
    "# 클래스 선언하기\n",
    "class Person:\n",
    "    pass\n",
    "\n",
    "a = Person()"
   ]
  },
  {
   "cell_type": "code",
   "execution_count": 4,
   "metadata": {},
   "outputs": [
    {
     "name": "stdout",
     "output_type": "stream",
     "text": [
      "Person의 생성자 입니다\n"
     ]
    }
   ],
   "source": [
    "# 파이썬 클래스 생성자\n",
    "class Student:\n",
    "    def __init__(self):\n",
    "        print('Student의 생성자 입니다')\n",
    "    \n",
    "a = Student()"
   ]
  },
  {
   "cell_type": "code",
   "execution_count": 7,
   "metadata": {},
   "outputs": [
    {
     "name": "stdout",
     "output_type": "stream",
     "text": [
      "Student의 생성자 입니다\n",
      "Hello Python\n"
     ]
    }
   ],
   "source": [
    "class Student:\n",
    "    def __init__(self,msg):\n",
    "        self.msg = msg\n",
    "        print('Student의 생성자 입니다')\n",
    "        print(self.msg)\n",
    "\n",
    "a = Student('Hello Python')"
   ]
  },
  {
   "cell_type": "markdown",
   "metadata": {},
   "source": [
    "#### ⭐️ Person 클래스에서는 생성자가 없었는데?\n",
    "- Person 클래스를 보면 생성자가 존재하지 않는다\n",
    "- 기본적으로 모든 클래스는 최상위 객체는 object를 상속받고 있다\n",
    "- 상속의 뜻은 다음 장에서 배울거다\n",
    "- 현재 정의 클래스에 생성자가 없으면 자동으로 상위 클래스의 생성자를 호출한다\n",
    "- 따라서 Person의 생성자가 없어도 객체를 생성하는데 문제가 없던 거다"
   ]
  },
  {
   "cell_type": "markdown",
   "metadata": {},
   "source": [
    "#### 2. static variable vs member varaible  \n",
    "- static variable(class variable):\n",
    "    1. 클래스 변수는 클래스 선언시 이미 메모리에 저장되며 클래스를 통해 생성된 다른 객체들은 클래스 변수를 공유한다.\n",
    "    2. 클래스 안, 함수(생성자 포함) 외부에 선언한다\n",
    "    3. 다른 함수 내에서 접근시 class 속성으로 접근한다\n",
    "    \n",
    "    \n",
    "- member variable(instance varaible): \n",
    "    1. 멤버 변수는 클래스 선언이 아닌 객체가 생성될때 생성되며 \\_\\_init\\_\\_( ) 생성자 안에 정의된다. \n",
    "    2. member변수를 선언할때는 반드시 self를 이용한다. ex) self.name\n",
    "    3. 다른 함수 내에서 접근시 self를 이용하여 호출한다"
   ]
  },
  {
   "cell_type": "markdown",
   "metadata": {},
   "source": [
    "#### ⭐️ self는 도대체 뭘까?\n",
    "- self는 인스턴스 자기 자신을 의미한다\n",
    "- 자바에서 this의 역할인데 파이썬은 static 혹은 class method를 제외하고 생성자를 포함한 모든 메소드에 self를 강제한다. "
   ]
  },
  {
   "cell_type": "code",
   "execution_count": 9,
   "metadata": {},
   "outputs": [
    {
     "name": "stdout",
     "output_type": "stream",
     "text": [
      "Student의 생성자 입니다\n",
      "Hello instance variable\n",
      "Hello local variable\n"
     ]
    }
   ],
   "source": [
    "class Student:\n",
    "    job = '학생' # static variable\n",
    "    def __init__(self,msg):\n",
    "        self.msg = msg  # instance variable\n",
    "        print('Student의 생성자 입니다')\n",
    "        print(self.msg)\n",
    "        local_msg = 'Hello local variable'\n",
    "        print(local_msg) #local variable\n",
    "\n",
    "a = Student('Hello instance variable')"
   ]
  },
  {
   "cell_type": "code",
   "execution_count": 22,
   "metadata": {},
   "outputs": [
    {
     "name": "stdout",
     "output_type": "stream",
     "text": [
      "static 변수의 값은 학생입니다\n"
     ]
    }
   ],
   "source": [
    "# static 변수를 호출하기\n",
    "class Student:\n",
    "    job = '학생' # static variable\n",
    "    def __init__(self):\n",
    "        print(f'static 변수의 값은 {Student.job}입니다') \n",
    "        \n",
    "# self.job으로 해도 같은 값이 출력되기는 한다.\n",
    "# 바로 위에서 보았듯이 인스턴스를 통해 static 과 member 에 다 접근 가능하기 때문\n",
    "\n",
    "a = Student()"
   ]
  },
  {
   "cell_type": "markdown",
   "metadata": {},
   "source": [
    "#### ⭐️ 보충 \n",
    "- 생성된 인스턴스로 인스턴스 내부에 static 변수와 member 변수 접근 가능하다\n",
    "- 참조변수는 생성된 인스턴스의 주소를 가르킨다\n",
    "- static 변수는 객체 생성없이 클래스에서도 접근 가능하다"
   ]
  },
  {
   "cell_type": "code",
   "execution_count": 21,
   "metadata": {},
   "outputs": [
    {
     "name": "stdout",
     "output_type": "stream",
     "text": [
      "학생\n",
      "Hello instance variable\n",
      "학생\n"
     ]
    }
   ],
   "source": [
    "class Student:\n",
    "    job = '학생' # static variable\n",
    "    def __init__(self,msg):\n",
    "        self.msg = msg  # instance variable\n",
    "        #print('Student의 생성자 입니다')\n",
    "        #print(self.msg)\n",
    "        local_msg = 'Hello local variable'\n",
    "        #print(local_msg) #local variable\n",
    "        \n",
    "# a는 참조 변수\n",
    "a = Student('Hello instance variable') \n",
    "\n",
    "print(a.job)\n",
    "print(a.msg)\n",
    "# print(a.local_msg) #당연히 에러난다 생성자 내부에 지역변수를\n",
    "\n",
    "# static 변수는 Student 객체 생성 없이 클래스에서도 바로 접근 가능하다\n",
    "print(Student.job)"
   ]
  },
  {
   "cell_type": "markdown",
   "metadata": {},
   "source": [
    "#### ⭐️ 보충 ; class varaible과 instance variable의 이름이 같을 경우는?\n",
    "- 일단 바람직한 경우가 아니다\n",
    "- 생성된 객체 입장에서 instance 변수가 class 변수를 덮어써버린다. 즉 생성된 객체는 이제 원래 클래스에서 정의된 static 변수를 잃어버린다\n",
    "- 하지만 클래스 입장에서 static변수가 없어지는것은 아니다. 그대로 있다\n"
   ]
  },
  {
   "cell_type": "code",
   "execution_count": 25,
   "metadata": {},
   "outputs": [
    {
     "name": "stdout",
     "output_type": "stream",
     "text": [
      "중학생\n",
      "고등학생\n"
     ]
    }
   ],
   "source": [
    "class Student:\n",
    "    job = '고등학생' # static variable\n",
    "    def __init__(self,job):\n",
    "        self.job = job\n",
    "\n",
    "a = Student('중학생')\n",
    "\n",
    "print(a.job)\n",
    "print(Student.job)"
   ]
  },
  {
   "cell_type": "code",
   "execution_count": 74,
   "metadata": {},
   "outputs": [
    {
     "name": "stdout",
     "output_type": "stream",
     "text": [
      "학생\n",
      "고등학생\n",
      "학생\n",
      "140598714556016 140598714555248\n",
      "{'job': '고등학생'}\n"
     ]
    }
   ],
   "source": [
    "class Student:\n",
    "    job = '학생'\n",
    "    def __init__(self):\n",
    "        pass\n",
    "\n",
    "a = Student()\n",
    "print(a.job)\n",
    "\n",
    "a.job = '고등학생' # job이라는 insatnce 변수를 생성한다. static 변수가 바뀌는거 아니다\n",
    "print(a.job)\n",
    "print(Student.job)\n",
    "print(id(a.job),id(Student.job)) # 주소도 다르다\n",
    "\n",
    "\n",
    "# 참고 1\n",
    "# __dict__는 선언된 instance 변수를 dict형식으로 보여줌\n",
    "print(a.__dict__)"
   ]
  },
  {
   "cell_type": "markdown",
   "metadata": {},
   "source": [
    "#### 3. method 선언\n",
    "- 함수 단원에서 배웠던 규칙이랑 동일하다\n",
    "- 다만 self가 반드시 첫번째 인자로 강제된다\n",
    "- 인스턴스 변수 호출시 self.instance_variable\n",
    "- 클래스 내 다른 함수 호출시 self.method()"
   ]
  },
  {
   "cell_type": "code",
   "execution_count": 20,
   "metadata": {},
   "outputs": [
    {
     "name": "stdout",
     "output_type": "stream",
     "text": [
      "HELLO PYTHON\n",
      "------------\n",
      "HELLO PYTHON\n",
      "hello python\n"
     ]
    }
   ],
   "source": [
    "class Student:\n",
    "    job = '학생'\n",
    "    def __init__(self,msg):\n",
    "        self.msg = msg\n",
    "        \n",
    "    def upperMsg(self):\n",
    "        print((self.msg.upper()))\n",
    "    \n",
    "    def upperAndLower(self):\n",
    "        self.upperMsg()\n",
    "        print(self.msg.lower())   # 클래스 내 다른 함수에 접근할때도 self로 접근\n",
    "\n",
    "a = Student('Hello Python')\n",
    "a.upperMsg()\n",
    "print(\"-\"*12)\n",
    "a.upperAndLower()"
   ]
  },
  {
   "cell_type": "markdown",
   "metadata": {},
   "source": [
    "#### 4. static method\n",
    "- 정확히 말해 파이썬은 static method의 형식이 두가지이다\n",
    "    1. static method\n",
    "    2. class method\n",
    "- 모든 메서든 self가 강제 된다고 했는데 static method와 class method는 self를 사용하지 않는다\n",
    "- 자바에서도 static method에 인스턴스 변수가 들어가면 error가 발생한다\n",
    "- static 변수와 마찬가지로 클래스가 생성됨가 동시에 메모리에 할당되기 때문에 객체 생성없이 실행이 가능하다"
   ]
  },
  {
   "cell_type": "code",
   "execution_count": 27,
   "metadata": {},
   "outputs": [
    {
     "ename": "TypeError",
     "evalue": "sayhello() takes 0 positional arguments but 1 was given",
     "output_type": "error",
     "traceback": [
      "\u001b[0;31m---------------------------------------------------------------------------\u001b[0m",
      "\u001b[0;31mTypeError\u001b[0m                                 Traceback (most recent call last)",
      "\u001b[0;32m<ipython-input-27-27f59593d178>\u001b[0m in \u001b[0;36m<module>\u001b[0;34m\u001b[0m\n\u001b[1;32m      9\u001b[0m \u001b[0;34m\u001b[0m\u001b[0m\n\u001b[1;32m     10\u001b[0m \u001b[0ma\u001b[0m \u001b[0;34m=\u001b[0m \u001b[0mStudent\u001b[0m\u001b[0;34m(\u001b[0m\u001b[0;34m)\u001b[0m\u001b[0;34m\u001b[0m\u001b[0;34m\u001b[0m\u001b[0m\n\u001b[0;32m---> 11\u001b[0;31m \u001b[0ma\u001b[0m\u001b[0;34m.\u001b[0m\u001b[0msayhello\u001b[0m\u001b[0;34m(\u001b[0m\u001b[0;34m)\u001b[0m\u001b[0;34m\u001b[0m\u001b[0;34m\u001b[0m\u001b[0m\n\u001b[0m\u001b[1;32m     12\u001b[0m \u001b[0ma\u001b[0m\u001b[0;34m.\u001b[0m\u001b[0mprintJob\u001b[0m\u001b[0;34m(\u001b[0m\u001b[0;34m)\u001b[0m\u001b[0;34m\u001b[0m\u001b[0;34m\u001b[0m\u001b[0m\n",
      "\u001b[0;31mTypeError\u001b[0m: sayhello() takes 0 positional arguments but 1 was given"
     ]
    }
   ],
   "source": [
    "class Student:\n",
    "    job = '학생'\n",
    "\n",
    "    def sayhello():\n",
    "        print('hello')\n",
    "    \n",
    "    def printJob():\n",
    "        print(Student.job)\n",
    "\n",
    "a = Student()  \n",
    "a.sayhello()\n",
    "a.printJob()\n",
    "\n",
    "# TypeError: sayhello() takes 0 positional arguments but 1 was given\n",
    "# 나는 분명히 함수에 아무 인자를 넣지 않았는데 이게 무슨 소리지?\n",
    "# 인자가 필요 없다는것을 명시해주어야한다"
   ]
  },
  {
   "cell_type": "code",
   "execution_count": 29,
   "metadata": {},
   "outputs": [
    {
     "name": "stdout",
     "output_type": "stream",
     "text": [
      "hello\n",
      "학생\n"
     ]
    }
   ],
   "source": [
    "class Student:\n",
    "    job = '학생'\n",
    "\n",
    "    @staticmethod\n",
    "    def sayhello():\n",
    "        print('hello')\n",
    "        \n",
    "    @staticmethod\n",
    "    def printJob():\n",
    "        print(Student.job)\n",
    "\n",
    "a = Student()  \n",
    "a.sayhello()\n",
    "a.printJob()\n"
   ]
  },
  {
   "cell_type": "code",
   "execution_count": 33,
   "metadata": {},
   "outputs": [
    {
     "name": "stdout",
     "output_type": "stream",
     "text": [
      "hello\n",
      "학생\n"
     ]
    }
   ],
   "source": [
    "# 그렇다면 classmethod는 무엇일까?\n",
    "class Student:\n",
    "    job = '학생'\n",
    "\n",
    "    @staticmethod\n",
    "    def sayhello():\n",
    "        print('hello')\n",
    "        \n",
    "    @classmethod\n",
    "    def printJob(cls):  # self가 아닌 cls 를 인자로 강제한다. cls는 클래스를 의미함\n",
    "        print(cls.job) \n",
    "        \n",
    "a = Student()  \n",
    "a.sayhello()\n",
    "a.printJob()   \n",
    "\n",
    "# 굳이 classmethod를 사용해야 하는 이유는 무엇일까?\n",
    "# 한 클래스가 Student 클래스를 상속받는 상황을 생각해보자\n",
    "# printJob method를 호출해 class변수로 정의된 job을 출력하고싶다\n",
    "# Student 클래스와 달리 새로운 클래스는 job값이 업데이트 되어있을수 있다\n",
    "# 이때도 printJob으로 업데이트 되어있는 job을 호출하기 위해서는 classmethod가 필요하다"
   ]
  },
  {
   "cell_type": "markdown",
   "metadata": {},
   "source": [
    "### Inheritance\n",
    "- sub class 생성자 없을시 super class 생성자 호출한다\n",
    "- 이 외의 경우에는 직접 호출해야한다\n",
    "- static variable 과 static method는 제약없이 바로 상속되어 가능하다\n",
    "- method override\n",
    "    - 파이썬 에서는 static method도 override 가능"
   ]
  },
  {
   "cell_type": "code",
   "execution_count": 35,
   "metadata": {},
   "outputs": [
    {
     "name": "stdout",
     "output_type": "stream",
     "text": [
      "super class constructor\n"
     ]
    }
   ],
   "source": [
    "class Person:\n",
    "    def  __init__(self):\n",
    "        print('super class constructor')\n",
    "        \n",
    "class Student(Person):\n",
    "    pass\n",
    "\n",
    "a= Student() # sub class 생성자 없기 때문"
   ]
  },
  {
   "cell_type": "code",
   "execution_count": 36,
   "metadata": {},
   "outputs": [
    {
     "name": "stdout",
     "output_type": "stream",
     "text": [
      "sub class constructor\n"
     ]
    }
   ],
   "source": [
    "class Person:\n",
    "    def  __init__(self):\n",
    "        print('super class constructor')\n",
    "        \n",
    "class Student(Person):\n",
    "    def  __init__(self):\n",
    "        print('sub class constructor')\n",
    "        \n",
    "a= Student()  # super class 생정자 호출 x "
   ]
  },
  {
   "cell_type": "markdown",
   "metadata": {},
   "source": [
    "#### ⭐️ 보충\n",
    "- 자바에서는 super 클래스의 default생성자가 있다면 무조건 super class constructor가 자동 호출되었다.\n",
    "- default생성자가 없다면 사용자가 직접 sub class constructor 첫줄에 명시해주어야 오류가 나지 않았다."
   ]
  },
  {
   "cell_type": "code",
   "execution_count": 40,
   "metadata": {},
   "outputs": [
    {
     "name": "stdout",
     "output_type": "stream",
     "text": [
      "super class constructor\n",
      "hello\n",
      "학생\n",
      "학생\n"
     ]
    }
   ],
   "source": [
    "class Student:\n",
    "    job = '학생'\n",
    "    \n",
    "    def  __init__(self):\n",
    "        print('super class constructor')\n",
    "        \n",
    "    @staticmethod\n",
    "    def sayhello():\n",
    "        print('hello')\n",
    "        \n",
    "    @classmethod\n",
    "    def printJob(cls): \n",
    "        print(cls.job) \n",
    "        \n",
    "class CollegeStudent(Student):\n",
    "    pass\n",
    "\n",
    "a = CollegeStudent()\n",
    "a.sayhello()\n",
    "a.printJob()\n",
    "\n",
    "print(a.job) # static variable도 CollegeStudent 클래스가 상속받은것을 알 수 있다"
   ]
  },
  {
   "cell_type": "markdown",
   "metadata": {},
   "source": [
    "#### ⭐️ super class의 생성자가 호출되지 않았을때 에러 발생 가능\n",
    "- 자바에서도 static variable이나 method는 super()생성자가 불리기전에도 이미 상속되어 사용 가능하다. 다만 instance 변수들은 생성자가 불린 이후에 값을 생성자를 통해 할당받거나 초기화 되어서 상속되는거다\n",
    "- 파이썬에서도 생성자가 불리지 않는다면 instance 변수들이 상속되지 않는다"
   ]
  },
  {
   "cell_type": "code",
   "execution_count": 43,
   "metadata": {},
   "outputs": [
    {
     "name": "stdout",
     "output_type": "stream",
     "text": [
      "sub class constructor\n"
     ]
    },
    {
     "ename": "AttributeError",
     "evalue": "'CollegeStudent' object has no attribute 'name'",
     "output_type": "error",
     "traceback": [
      "\u001b[0;31m---------------------------------------------------------------------------\u001b[0m",
      "\u001b[0;31mAttributeError\u001b[0m                            Traceback (most recent call last)",
      "\u001b[0;32m<ipython-input-43-0f2e37170bef>\u001b[0m in \u001b[0;36m<module>\u001b[0;34m\u001b[0m\n\u001b[1;32m     14\u001b[0m \u001b[0;34m\u001b[0m\u001b[0m\n\u001b[1;32m     15\u001b[0m \u001b[0ma\u001b[0m \u001b[0;34m=\u001b[0m \u001b[0mCollegeStudent\u001b[0m\u001b[0;34m(\u001b[0m\u001b[0;34m)\u001b[0m\u001b[0;34m\u001b[0m\u001b[0;34m\u001b[0m\u001b[0m\n\u001b[0;32m---> 16\u001b[0;31m \u001b[0ma\u001b[0m\u001b[0;34m.\u001b[0m\u001b[0mprintName\u001b[0m\u001b[0;34m(\u001b[0m\u001b[0;34m)\u001b[0m\u001b[0;34m\u001b[0m\u001b[0;34m\u001b[0m\u001b[0m\n\u001b[0m\u001b[1;32m     17\u001b[0m \u001b[0;34m\u001b[0m\u001b[0m\n\u001b[1;32m     18\u001b[0m \u001b[0;31m# Error: 'CollegeStudent' object has no attribute 'name'\u001b[0m\u001b[0;34m\u001b[0m\u001b[0;34m\u001b[0m\u001b[0;34m\u001b[0m\u001b[0m\n",
      "\u001b[0;32m<ipython-input-43-0f2e37170bef>\u001b[0m in \u001b[0;36mprintName\u001b[0;34m(self)\u001b[0m\n\u001b[1;32m      7\u001b[0m \u001b[0;34m\u001b[0m\u001b[0m\n\u001b[1;32m      8\u001b[0m     \u001b[0;32mdef\u001b[0m \u001b[0mprintName\u001b[0m\u001b[0;34m(\u001b[0m\u001b[0mself\u001b[0m\u001b[0;34m)\u001b[0m\u001b[0;34m:\u001b[0m\u001b[0;34m\u001b[0m\u001b[0;34m\u001b[0m\u001b[0m\n\u001b[0;32m----> 9\u001b[0;31m         \u001b[0mprint\u001b[0m\u001b[0;34m(\u001b[0m\u001b[0mself\u001b[0m\u001b[0;34m.\u001b[0m\u001b[0mname\u001b[0m\u001b[0;34m)\u001b[0m\u001b[0;34m\u001b[0m\u001b[0;34m\u001b[0m\u001b[0m\n\u001b[0m\u001b[1;32m     10\u001b[0m \u001b[0;34m\u001b[0m\u001b[0m\n\u001b[1;32m     11\u001b[0m \u001b[0;32mclass\u001b[0m \u001b[0mCollegeStudent\u001b[0m\u001b[0;34m(\u001b[0m\u001b[0mStudent\u001b[0m\u001b[0;34m)\u001b[0m\u001b[0;34m:\u001b[0m\u001b[0;34m\u001b[0m\u001b[0;34m\u001b[0m\u001b[0m\n",
      "\u001b[0;31mAttributeError\u001b[0m: 'CollegeStudent' object has no attribute 'name'"
     ]
    }
   ],
   "source": [
    "class Student:\n",
    "    job = '학생'\n",
    "    \n",
    "    def  __init__(self,name):\n",
    "        self.name = name\n",
    "        print('super class constructor')\n",
    "       \n",
    "    def printName(self):\n",
    "        print(self.name)\n",
    "\n",
    "class CollegeStudent(Student):\n",
    "    def  __init__(self):\n",
    "        print('sub class constructor')\n",
    "\n",
    "a = CollegeStudent()\n",
    "a.printName()\n",
    "    \n",
    "# Error: 'CollegeStudent' object has no attribute 'name'"
   ]
  },
  {
   "cell_type": "code",
   "execution_count": 50,
   "metadata": {},
   "outputs": [
    {
     "name": "stdout",
     "output_type": "stream",
     "text": [
      "super class constructor\n",
      "sub class constructor\n",
      "kanghee\n"
     ]
    }
   ],
   "source": [
    "class Student:\n",
    "    job = '학생'\n",
    "    \n",
    "    def  __init__(self,name):\n",
    "        self.name = name\n",
    "        print('super class constructor')\n",
    "       \n",
    "    def printName(self):\n",
    "        print(self.name)\n",
    "\n",
    "class CollegeStudent(Student):\n",
    "    def  __init__(self,name):\n",
    "        super().__init__(name)\n",
    "        print('sub class constructor')\n",
    "\n",
    "a = CollegeStudent('kanghee')\n",
    "a.printName()"
   ]
  },
  {
   "cell_type": "code",
   "execution_count": 52,
   "metadata": {},
   "outputs": [
    {
     "name": "stdout",
     "output_type": "stream",
     "text": [
      "super class constructor\n",
      "sub class constructor\n",
      "kanghee\n",
      "method from sub class\n"
     ]
    }
   ],
   "source": [
    "# method override\n",
    "# 파이썬에서 override 조건은 함수 이름이다. 함수 이름이 같으면 override된다\n",
    "class Student:\n",
    "    job = '학생'\n",
    "    \n",
    "    def  __init__(self,name):\n",
    "        self.name = name\n",
    "        print('super class constructor')\n",
    "       \n",
    "    def printName(self):\n",
    "        print(self.name)\n",
    "        print('method from super class')\n",
    "\n",
    "class CollegeStudent(Student):\n",
    "    def  __init__(self,name):\n",
    "        super().__init__(name)\n",
    "        print('sub class constructor')\n",
    "    \n",
    "    def printName(self):\n",
    "        print(self.name)\n",
    "        print('method from sub class') \n",
    "\n",
    "\n",
    "a = CollegeStudent('kanghee')\n",
    "a.printName()"
   ]
  },
  {
   "cell_type": "code",
   "execution_count": 78,
   "metadata": {},
   "outputs": [
    {
     "name": "stdout",
     "output_type": "stream",
     "text": [
      "super class constructor\n",
      "학생\n",
      "static method from sub\n"
     ]
    }
   ],
   "source": [
    "# static method도 override 될까? 자바에서는 안됬는데\n",
    "# 결론은 된다\n",
    "class Student:\n",
    "    job = '학생'\n",
    "    \n",
    "    def  __init__(self):\n",
    "        print('super class constructor')\n",
    "    \n",
    "    @classmethod\n",
    "    def printJob(cls):\n",
    "        print(cls.job)\n",
    "        print('static method from super')\n",
    "class CollegeStudent(Student):\n",
    "    \n",
    "    @classmethod\n",
    "    def printJob(cls):\n",
    "        print(cls.job)\n",
    "        print('static method from sub')\n",
    "        \n",
    "a = CollegeStudent()\n",
    "a.printJob()        \n"
   ]
  },
  {
   "cell_type": "code",
   "execution_count": 59,
   "metadata": {},
   "outputs": [
    {
     "name": "stdout",
     "output_type": "stream",
     "text": [
      "super class constructor\n",
      "sub class constructor\n",
      "-------------------------\n",
      "kanghee\n",
      "method from super class\n",
      "kanghee\n",
      "method from sub class\n"
     ]
    }
   ],
   "source": [
    "# super class 함수 호출\n",
    "\n",
    "class Student:\n",
    "    job = '학생'\n",
    "    \n",
    "    def  __init__(self,name):\n",
    "        self.name = name\n",
    "        print('super class constructor')\n",
    "       \n",
    "    def printName(self):\n",
    "        print(self.name)\n",
    "        print('method from super class')\n",
    "\n",
    "class CollegeStudent(Student):\n",
    "    def  __init__(self,name):\n",
    "        super().__init__(name)\n",
    "        print('sub class constructor')\n",
    "    \n",
    "    def printName(self):\n",
    "        super().printName()           # 오버라이든 된 super class 함수 호출\n",
    "        print(self.name)\n",
    "        print('method from sub class') \n",
    "\n",
    "\n",
    "a = CollegeStudent('kanghee')\n",
    "print(\"-\"*25)\n",
    "a.printName()"
   ]
  },
  {
   "cell_type": "markdown",
   "metadata": {},
   "source": [
    "### Inheritance 심화\n",
    "- 상속에 있어서 파이썬과 자바의 가장 큰 차이점 => 변수도 overriding 이 가능하다.\n",
    "- 자바에서는 변수는 overriding 이 안되고, sub class에서 같은 이름의 멤버변수 혹은 static 변수가 재정의되면 super 클래스의 동일한 이름의 변수들은 hidden이 된다.\n",
    "- 파이썬은 이를 고려할 필요가 없다"
   ]
  },
  {
   "cell_type": "code",
   "execution_count": 84,
   "metadata": {},
   "outputs": [
    {
     "name": "stdout",
     "output_type": "stream",
     "text": [
      "super class constructor\n",
      "sub class constructor\n",
      "dague\n",
      "info from super\n"
     ]
    }
   ],
   "source": [
    "class Person(object): \n",
    "    \n",
    "    address = 'seoul'\n",
    "    \n",
    "    def __init__(self):\n",
    "        self.info = 'info from super'\n",
    "        print('super class constructor')  \n",
    "        \n",
    "    @classmethod\n",
    "    def printStatic(cls):\n",
    "        print(cls.address)\n",
    "    \n",
    "    def printInfo(self):\n",
    "        print(self.info)\n",
    "    \n",
    "class Student(Person):\n",
    "    \n",
    "    address = 'dague'   # static 변수 재정의 => override 된다\n",
    "                        # Person 클래스 내에서 address는 당연히 그대로다\n",
    "    \n",
    "    def __init__(self):\n",
    "        super().__init__()\n",
    "        self.info = 'info from super' # instane 변수 재정의 => override된다\n",
    "        print('sub class constructor')\n",
    "    \n",
    "    \n",
    "a = Student()\n",
    "\n",
    "a.printStatic() # 자바에서 이렇게 부르면 hiding 에 의해 메소드를 재정의 하지 않는한 seoul 출력함\n",
    "a.printInfo()   # 마찬가지\n"
   ]
  },
  {
   "cell_type": "markdown",
   "metadata": {},
   "source": [
    "#### ⭐️정리 \n",
    "- 파이썬 super.instance_variable 이딴거 없다. 다 subclass에 insatnce variable로 추가될 뿐이다\n",
    "- sub class에 동일한 이름의 static 변수를 추가하면 sub class 의 static 변수로 override된다"
   ]
  },
  {
   "cell_type": "code",
   "execution_count": 90,
   "metadata": {},
   "outputs": [
    {
     "name": "stdout",
     "output_type": "stream",
     "text": [
      "sub class constructor\n",
      "kanghee\n",
      "{'name': 'kanghee'}\n"
     ]
    }
   ],
   "source": [
    "class Student:\n",
    "    job = '학생'\n",
    "    \n",
    "    def  __init__(self,name):\n",
    "        self.name = name\n",
    "        print('super class constructor')\n",
    "       \n",
    "    def printName(self):\n",
    "        print(self.name)\n",
    "\n",
    "class CollegeStudent(Student):\n",
    "    def  __init__(self,name):\n",
    "        # super().__init__(name)\n",
    "        self.name = name #  사실 이렇게 했어도 무방한거다. 그냥 인스터스만 변수만 추가시켜주면 되니깐\n",
    "        print('sub class constructor')\n",
    "\n",
    "a = CollegeStudent('kanghee')\n",
    "a.printName()\n",
    "\n",
    "print(a.__dict__)"
   ]
  },
  {
   "cell_type": "code",
   "execution_count": 89,
   "metadata": {},
   "outputs": [
    {
     "name": "stdout",
     "output_type": "stream",
     "text": [
      "Help on CollegeStudent in module __main__ object:\n",
      "\n",
      "class CollegeStudent(Student)\n",
      " |  CollegeStudent(name)\n",
      " |  \n",
      " |  Method resolution order:\n",
      " |      CollegeStudent\n",
      " |      Student\n",
      " |      builtins.object\n",
      " |  \n",
      " |  Methods defined here:\n",
      " |  \n",
      " |  __init__(self, name)\n",
      " |      Initialize self.  See help(type(self)) for accurate signature.\n",
      " |  \n",
      " |  ----------------------------------------------------------------------\n",
      " |  Methods inherited from Student:\n",
      " |  \n",
      " |  printName(self)\n",
      " |  \n",
      " |  ----------------------------------------------------------------------\n",
      " |  Data descriptors inherited from Student:\n",
      " |  \n",
      " |  __dict__\n",
      " |      dictionary for instance variables (if defined)\n",
      " |  \n",
      " |  __weakref__\n",
      " |      list of weak references to the object (if defined)\n",
      " |  \n",
      " |  ----------------------------------------------------------------------\n",
      " |  Data and other attributes inherited from Student:\n",
      " |  \n",
      " |  job = '학생'\n",
      "\n",
      "{'name': 'kanghee'}\n"
     ]
    }
   ],
   "source": [
    "class Student:\n",
    "    job = '학생'\n",
    "    \n",
    "    def  __init__(self,name):\n",
    "        self.name = name\n",
    "       \n",
    "    def printName(self):\n",
    "        print(self.name)\n",
    "\n",
    "class CollegeStudent(Student):\n",
    "    def  __init__(self,name):\n",
    "        super().__init__(name)\n",
    "\n",
    "a = CollegeStudent('kanghee')\n",
    "help(a)\n",
    "print(a.__dict__) # name이 추가되있다\n",
    "#  Data and other attributes inherited from Student:\n",
    "#  job = '학생'"
   ]
  },
  {
   "cell_type": "code",
   "execution_count": 93,
   "metadata": {},
   "outputs": [
    {
     "name": "stdout",
     "output_type": "stream",
     "text": [
      "Help on CollegeStudent in module __main__ object:\n",
      "\n",
      "class CollegeStudent(Student)\n",
      " |  CollegeStudent(name)\n",
      " |  \n",
      " |  Method resolution order:\n",
      " |      CollegeStudent\n",
      " |      Student\n",
      " |      builtins.object\n",
      " |  \n",
      " |  Methods defined here:\n",
      " |  \n",
      " |  __init__(self, name)\n",
      " |      Initialize self.  See help(type(self)) for accurate signature.\n",
      " |  \n",
      " |  ----------------------------------------------------------------------\n",
      " |  Data and other attributes defined here:\n",
      " |  \n",
      " |  job = '대학생'\n",
      " |  \n",
      " |  ----------------------------------------------------------------------\n",
      " |  Methods inherited from Student:\n",
      " |  \n",
      " |  printName(self)\n",
      " |  \n",
      " |  ----------------------------------------------------------------------\n",
      " |  Data descriptors inherited from Student:\n",
      " |  \n",
      " |  __dict__\n",
      " |      dictionary for instance variables (if defined)\n",
      " |  \n",
      " |  __weakref__\n",
      " |      list of weak references to the object (if defined)\n",
      "\n",
      "{'name': 'kanghee'}\n"
     ]
    }
   ],
   "source": [
    "class Student:\n",
    "    job = '학생'\n",
    "    \n",
    "    def  __init__(self,name):\n",
    "        self.name = name\n",
    "       \n",
    "    def printName(self):\n",
    "        print(self.name)\n",
    "\n",
    "class CollegeStudent(Student):\n",
    "    job = '대학생'\n",
    "    def  __init__(self,name):\n",
    "        super().__init__(name)\n",
    "\n",
    "a = CollegeStudent('kanghee')\n",
    "help(a)\n",
    "print(a.__dict__)\n",
    "# Data and other attributes defined here:\n",
    "# job = '대학생'\n",
    "\n",
    "#  Data and other attributes inherited from Student 이거 더이상 안보인다"
   ]
  }
 ],
 "metadata": {
  "kernelspec": {
   "display_name": "Python 3",
   "language": "python",
   "name": "python3"
  },
  "language_info": {
   "codemirror_mode": {
    "name": "ipython",
    "version": 3
   },
   "file_extension": ".py",
   "mimetype": "text/x-python",
   "name": "python",
   "nbconvert_exporter": "python",
   "pygments_lexer": "ipython3",
   "version": "3.8.5"
  }
 },
 "nbformat": 4,
 "nbformat_minor": 4
}
