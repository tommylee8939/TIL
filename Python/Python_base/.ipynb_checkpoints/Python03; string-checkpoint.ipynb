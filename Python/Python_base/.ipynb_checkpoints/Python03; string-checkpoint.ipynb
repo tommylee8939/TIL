{
 "cells": [
  {
   "cell_type": "markdown",
   "metadata": {},
   "source": [
    "## Python03; string\n",
    "- 이번 챕터에서는 str 타입에 대해 보다 자세히 알아보자"
   ]
  },
  {
   "cell_type": "markdown",
   "metadata": {},
   "source": [
    "### string 타입의 특징\n",
    "- String은 sequence type이다(순서가 있다)\n",
    "- String 은 immutable 객체다\n",
    "\n",
    "- 위 두개의 특징은 02장에서 이미 살펴보았다. 아래의 내용은 02장에서 배운 내용을 정리한것이다"
   ]
  },
  {
   "cell_type": "markdown",
   "metadata": {},
   "source": [
    "###  ⭐️Sequential type⭐️\n",
    "- sequence type => 말 그대로 하나가 아닌 연속적인 값들을 가진다는 의미다\n",
    "- 이해하기 쉽게 파이썬에서는 문자열 'abcde' 를 'a' 'b' 'c' 문자열들의 연속적인 시퀀스로 보는것이다\n",
    "- 공통적인 특징\n",
    "    1. sequential type은 indexing 이 가능하다\n",
    "    2. sequential type은 slicing 이 가능하다\n",
    "    3. \\+ 연산자를 지원한다\n",
    "    4. 길이가 존재한다 => 특정 함수를 이용해서 길이를 구할 수 있다"
   ]
  },
  {
   "cell_type": "markdown",
   "metadata": {},
   "source": [
    "#### 1. indexing이 가능하다\n",
    "- sequence 타입은 연속된 값을 저장하는 데이터 타입임을 위에서 배웠다\n",
    "- 이는 순서가 존재한다는 의미이다\n",
    "- indexing 은 순서에 해당하는 값에 접근을 의미한다\n",
    "- 파이썬의 순서는 1이 아닌 0부터 시작한다\n",
    "- 음수 인덱싱도 존재한다\n",
    "- [순서] 의 형식으로 접근한다\n"
   ]
  },
  {
   "cell_type": "markdown",
   "metadata": {},
   "source": [
    "#### 2.slicing이 가능하다\n",
    "- slicing의 뜻은 베어내다 즉 자료의 일부를 잘란댄다는 뜻이다\n",
    "- indexing은 해당하는 하나의 값에 접근했다면 slicing은 하나 이상의 원소에 접근가능하다\n",
    "- [i:j:k] 형식으로 사용한다 => 위에서 본 range(start,end,step)이랑 비슷하다\n",
    "    1. i는 시작 index\n",
    "    2. j는 끝 index (포함 되지 않는다)\n",
    "    3. k는 step (생략 가능하다, 단 생략시 step=1이다)"
   ]
  },
  {
   "cell_type": "markdown",
   "metadata": {},
   "source": [
    "### ⭐️mutable vs immutblae type⭐️\n",
    "- mutable한 객체는 값을 수정(할당) 삭제 할수있다\n",
    "- immutable 한 객체는 값을 수정 삭제(할당) 할 수 없다\n",
    "- mutable한 객체는 list set dict (set 과 dict는 다음장에서 배울것이다)\n",
    "- 나머지는 다 immuatable하다"
   ]
  },
  {
   "cell_type": "markdown",
   "metadata": {},
   "source": [
    "### 📎 문자열 조작하기\n",
    "- 문자열을 조작하는 여러 멤버 함수(method)가 존재한다\n",
    "- 멤버 함수는 후에 class를 배울때 다시 배우겠지만 str type이 가지고있는 특정 함수들을 말한다 'sampleString'.함수명() 으로 멤버 함수를 사용할 수 있다\n",
    "- 주의해야 할 것은 string 객체는 immutable 하다"
   ]
  },
  {
   "cell_type": "markdown",
   "metadata": {},
   "source": [
    "#### 1. replace('바꿀문자열','새문자열')\n",
    "- 모든 문자열을 새문자열로 바꾼다\n",
    "- 바꿀 문자열과 새 문자열의 길이가 같을 필요는 없다"
   ]
  },
  {
   "cell_type": "code",
   "execution_count": 10,
   "metadata": {},
   "outputs": [
    {
     "name": "stdout",
     "output_type": "stream",
     "text": [
      "Jello Python\n",
      "Helli Pythin\n"
     ]
    }
   ],
   "source": [
    "str01 = 'Hello Python'\n",
    "print(str01.replace('H','J'))\n",
    "print(str01.replace('o','i')) # 모든 문자열 o를 i로 바꾼다"
   ]
  },
  {
   "cell_type": "code",
   "execution_count": 12,
   "metadata": {},
   "outputs": [
    {
     "name": "stdout",
     "output_type": "stream",
     "text": [
      "ello Python\n"
     ]
    }
   ],
   "source": [
    "str01 = 'Hello Python'\n",
    "print(str01.replace('H',''))"
   ]
  },
  {
   "cell_type": "code",
   "execution_count": 9,
   "metadata": {},
   "outputs": [
    {
     "name": "stdout",
     "output_type": "stream",
     "text": [
      "Hello Python\n",
      "Hi Python\n"
     ]
    }
   ],
   "source": [
    "# string은 immutable 객체다\n",
    "# 변수에 저장되어있는 문자열은 바뀌지 않는다\n",
    "str01 = 'Hello Python'\n",
    "str01.replace('Hello','Hi') \n",
    "print(str01)\n",
    "str02 = str01.replace('Hello','Hi') \n",
    "print(str02)\n"
   ]
  },
  {
   "cell_type": "markdown",
   "metadata": {},
   "source": [
    "#### 2. translate(규칙)\n",
    "- 문자 하나를 새로운 문자로 map 할 수 있다\n",
    "- str.maketrans('바꿀문자','새로운문자') 함수로 규칙을 생성해준다\n",
    "- 바꿀문자 갯수랑 새로운 문자 갯수는 동일해야 한다 \n",
    "- str.translate(규칙)"
   ]
  },
  {
   "cell_type": "code",
   "execution_count": 15,
   "metadata": {},
   "outputs": [
    {
     "data": {
      "text/plain": [
       "'ㄱpplㅁ'"
      ]
     },
     "execution_count": 15,
     "metadata": {},
     "output_type": "execute_result"
    }
   ],
   "source": [
    "table = str.maketrans('abcde','ㄱㄴㄷㄹㅁ')\n",
    "'apple'.translate(table)"
   ]
  },
  {
   "cell_type": "markdown",
   "metadata": {},
   "source": [
    "#### 3. split()\n",
    "- 문자열을 분리하여 공백 기준으로 list type으로 반환해준다\n",
    "- 기본 구분자는 공백이지만 sep 옵션으로 구분자 지정 가능\n",
    "- 단 구분자를 '' empty 로 주면 error발생한다 => 이 경우는 list(str)을 이용해라"
   ]
  },
  {
   "cell_type": "code",
   "execution_count": 16,
   "metadata": {},
   "outputs": [
    {
     "name": "stdout",
     "output_type": "stream",
     "text": [
      "['Hello', 'Python']\n"
     ]
    }
   ],
   "source": [
    "print('Hello Python'.split())"
   ]
  },
  {
   "cell_type": "code",
   "execution_count": 22,
   "metadata": {},
   "outputs": [
    {
     "name": "stdout",
     "output_type": "stream",
     "text": [
      "['Hello Python', 'Java', 'C', 'R']\n"
     ]
    }
   ],
   "source": [
    "print('Hello Python, Java, C, R'.split(', '))"
   ]
  },
  {
   "cell_type": "code",
   "execution_count": 20,
   "metadata": {},
   "outputs": [
    {
     "name": "stdout",
     "output_type": "stream",
     "text": [
      "['H', 'e', 'l', 'l', 'o', ' ', 'P', 'y', 't', 'h', 'o', 'n']\n"
     ]
    },
    {
     "ename": "ValueError",
     "evalue": "empty separator",
     "output_type": "error",
     "traceback": [
      "\u001b[0;31m---------------------------------------------------------------------------\u001b[0m",
      "\u001b[0;31mValueError\u001b[0m                                Traceback (most recent call last)",
      "\u001b[0;32m<ipython-input-20-bf43b8781b62>\u001b[0m in \u001b[0;36m<module>\u001b[0;34m\u001b[0m\n\u001b[1;32m      1\u001b[0m \u001b[0mprint\u001b[0m\u001b[0;34m(\u001b[0m\u001b[0mlist\u001b[0m\u001b[0;34m(\u001b[0m\u001b[0;34m'Hello Python'\u001b[0m\u001b[0;34m)\u001b[0m\u001b[0;34m)\u001b[0m\u001b[0;34m\u001b[0m\u001b[0;34m\u001b[0m\u001b[0m\n\u001b[0;32m----> 2\u001b[0;31m \u001b[0mprint\u001b[0m\u001b[0;34m(\u001b[0m\u001b[0;34m'Hello Python'\u001b[0m\u001b[0;34m.\u001b[0m\u001b[0msplit\u001b[0m\u001b[0;34m(\u001b[0m\u001b[0msep\u001b[0m\u001b[0;34m=\u001b[0m\u001b[0;34m''\u001b[0m\u001b[0;34m)\u001b[0m\u001b[0;34m)\u001b[0m\u001b[0;34m\u001b[0m\u001b[0;34m\u001b[0m\u001b[0m\n\u001b[0m",
      "\u001b[0;31mValueError\u001b[0m: empty separator"
     ]
    }
   ],
   "source": [
    "print(list('Hello Python'))\n",
    "print('Hello Python'.split(sep=''))"
   ]
  },
  {
   "cell_type": "markdown",
   "metadata": {},
   "source": [
    "#### 4. join(리스트)\n",
    "- 구분자 문자열을 기준으로 리스트 원소들을 연결하여 문자열을 반환한다 "
   ]
  },
  {
   "cell_type": "code",
   "execution_count": 25,
   "metadata": {},
   "outputs": [
    {
     "name": "stdout",
     "output_type": "stream",
     "text": [
      "apple banana melon lemon\n",
      "<class 'str'>\n",
      "apple.banana.melon.lemon\n",
      "apple,banana,melon,lemon\n"
     ]
    }
   ],
   "source": [
    "print(' '.join(['apple','banana','melon','lemon']))\n",
    "print(type(' '.join(['apple','banana','melon','lemon'])))\n",
    "print('.'.join(['apple','banana','melon','lemon']))\n",
    "print(','.join(['apple','banana','melon','lemon']))"
   ]
  },
  {
   "cell_type": "markdown",
   "metadata": {},
   "source": [
    "#### 5. upper()\n",
    "- 모든 문자를 대문자로 변환"
   ]
  },
  {
   "cell_type": "code",
   "execution_count": 27,
   "metadata": {},
   "outputs": [
    {
     "name": "stdout",
     "output_type": "stream",
     "text": [
      "ABCDEFG\n"
     ]
    }
   ],
   "source": [
    "print('abcDefG'.upper())"
   ]
  },
  {
   "cell_type": "code",
   "execution_count": 1,
   "metadata": {},
   "outputs": [
    {
     "name": "stdout",
     "output_type": "stream",
     "text": [
      "False\n",
      "True\n"
     ]
    }
   ],
   "source": [
    "# isupper()\n",
    "print('abcDefG'.isupper())\n",
    "print('ABDCDDD'.isupper())"
   ]
  },
  {
   "cell_type": "markdown",
   "metadata": {},
   "source": [
    "#### 6. lower()\n",
    "- 모든 문자를 소문자로 변환"
   ]
  },
  {
   "cell_type": "code",
   "execution_count": 28,
   "metadata": {},
   "outputs": [
    {
     "name": "stdout",
     "output_type": "stream",
     "text": [
      "abcdefg\n"
     ]
    }
   ],
   "source": [
    "print('abcDefG'.lower())"
   ]
  },
  {
   "cell_type": "code",
   "execution_count": 2,
   "metadata": {},
   "outputs": [
    {
     "name": "stdout",
     "output_type": "stream",
     "text": [
      "False\n",
      "True\n"
     ]
    }
   ],
   "source": [
    "# islower()\n",
    "print('abcDefG'.islower())\n",
    "print('abcde'.islower())"
   ]
  },
  {
   "cell_type": "markdown",
   "metadata": {},
   "source": [
    "#### 7. lstrip() rstrip() strip()\n",
    "- 위 3개의 함수는 특정방향에서 지정한 문자들을 지워나간다\n",
    "- 지정한 문자를 제외한 문자를 만난다면 종료된다\n",
    "- lstrip 은 왼쪽에서 부터 , rstirp은 오른쪽에서 부터, strip은 양쪽에서\n",
    "- strip() : 인자가 비어있다면 공백을 지운다는 의미\n",
    "- strip('특정 문자') : 특정 문자는 1개가 아닌 여러개도 가능하다"
   ]
  },
  {
   "cell_type": "code",
   "execution_count": 13,
   "metadata": {},
   "outputs": [
    {
     "name": "stdout",
     "output_type": "stream",
     "text": [
      "Hello python \n",
      "Hello python \n",
      " ppapaaaap\n",
      "l plpapaaaap\n"
     ]
    }
   ],
   "source": [
    "print('Hello python '.lstrip()) # 왼쪽에 지울 공백이 없다\n",
    "print(' Hello python '.lstrip())\n",
    "print('pappp ppapaaaap'.lstrip('pa'))\n",
    "print('papppl plpapaaaap'.lstrip('pa'))"
   ]
  },
  {
   "cell_type": "code",
   "execution_count": 16,
   "metadata": {},
   "outputs": [
    {
     "name": "stdout",
     "output_type": "stream",
     "text": [
      "Hello python\n",
      "  Hello python\n",
      "pappp \n",
      "pappp pl\n"
     ]
    }
   ],
   "source": [
    "print('Hello python '.rstrip())\n",
    "print('  Hello python'.rstrip())\n",
    "print('pappp ppapaaaap'.rstrip('pa'))\n",
    "print('pappp plpapaaaap'.rstrip('pa'))"
   ]
  },
  {
   "cell_type": "code",
   "execution_count": 15,
   "metadata": {},
   "outputs": [
    {
     "name": "stdout",
     "output_type": "stream",
     "text": [
      " Hello Python\n",
      "  \n",
      " a \n",
      " pl\n"
     ]
    }
   ],
   "source": [
    "print(' Hello Python    '.rstrip())\n",
    "print('pappp  ppapaaaap'.strip('pa'))\n",
    "print('pappp a ppapaaaap'.strip('pa'))\n",
    "print('pappp plpapaaaap'.strip('pa'))"
   ]
  },
  {
   "cell_type": "markdown",
   "metadata": {},
   "source": [
    "#### 8. ljust(길이) rjust(길이) center(길이)\n",
    "- 공백을 이용하여 문자열을 갯수에 맞게 정렬\n",
    "- ljust: 왼쪽 정렬\n",
    "- rjust: 오른쪽 정렬\n",
    "- center: 가운데 정렬 "
   ]
  },
  {
   "cell_type": "code",
   "execution_count": 18,
   "metadata": {},
   "outputs": [
    {
     "name": "stdout",
     "output_type": "stream",
     "text": [
      "abc\n"
     ]
    }
   ],
   "source": [
    "print('abc'.ljust(2)) # 문자열보다 작은 길이를 인수로 집어넣으면 의미없다"
   ]
  },
  {
   "cell_type": "code",
   "execution_count": 22,
   "metadata": {},
   "outputs": [
    {
     "name": "stdout",
     "output_type": "stream",
     "text": [
      "       abc\n",
      "abc       \n",
      "   abc    \n",
      "   abc   \n"
     ]
    }
   ],
   "source": [
    "print('abc'.rjust(10))\n",
    "print('abc'.ljust(10))\n",
    "print('abc'.center(10))\n",
    "print('abc'.center(9)) "
   ]
  },
  {
   "cell_type": "markdown",
   "metadata": {},
   "source": [
    "#### 9.find() rfind()\n",
    "- 문자열의 위치를 찾아준다\n",
    "- find()는 왼쪽에서 부터 찾아가서 첫번째로 찾은 문자열이 시작하는 index알려준다\n",
    "- find()는 오른쪽에서 부터 찾아가서 첫번째로 찾은 문자열이 시작하는 index알려준다\n",
    "- 없는 문자열을 찾으려하면 -1을 return해준다\n",
    "- index() rindex() 함수도 동일한 기능을 하지만 없는 문자열을 찾으려고 하면 에러발생"
   ]
  },
  {
   "cell_type": "code",
   "execution_count": 32,
   "metadata": {},
   "outputs": [
    {
     "name": "stdout",
     "output_type": "stream",
     "text": [
      "0\n",
      "apple \n"
     ]
    }
   ],
   "source": [
    "str01 = 'apple pineapple apple'\n",
    "print(str01.find('apple')) #0을 return\n",
    "print(str01[0:6])"
   ]
  },
  {
   "cell_type": "code",
   "execution_count": 29,
   "metadata": {},
   "outputs": [
    {
     "name": "stdout",
     "output_type": "stream",
     "text": [
      "16\n",
      "apple\n"
     ]
    }
   ],
   "source": [
    "str01 = 'apple pineapple apple'\n",
    "print(str01.rfind('apple')) #16을 return\n",
    "print(str01[16:])"
   ]
  },
  {
   "cell_type": "code",
   "execution_count": 34,
   "metadata": {},
   "outputs": [
    {
     "name": "stdout",
     "output_type": "stream",
     "text": [
      "-1\n"
     ]
    }
   ],
   "source": [
    "str01 = 'apple pineapple apple'\n",
    "print(str01.find('banana')) #없는 문자열 -1 돌려준다"
   ]
  },
  {
   "cell_type": "markdown",
   "metadata": {},
   "source": [
    "#### 10. count(문자열)\n",
    "- 해당 문자열의 갯수를 count해준다"
   ]
  },
  {
   "cell_type": "code",
   "execution_count": 38,
   "metadata": {},
   "outputs": [
    {
     "name": "stdout",
     "output_type": "stream",
     "text": [
      "2\n",
      "5\n",
      "2\n"
     ]
    }
   ],
   "source": [
    "print('apple pineapple'.count('a'))\n",
    "print('apple pineapple'.count('p'))\n",
    "print('apple pineapple'.count('apple'))"
   ]
  },
  {
   "cell_type": "markdown",
   "metadata": {},
   "source": [
    "### 📎 문자열 서식 지정\n",
    "- 문자열 내부에서 특정 서식을 먼저 지정한 후, 서식에 해당하는 값을 따로 입력해주는 방식이다\n",
    "- ex) 예를들어 학생이름이 '철수' '영희'가 있다고 가정해보자. name01 = '철수' , name01 = '영희'로 지정해두고 print('안녕 {서식}') 를 실행시 {}안게 값이 각각 name01 name02가 되게 한다면 '안녕 철수' , '안녕 영의'를 보다 간편하게 출력할수 있을거다\n",
    "- 두가지 방법 존재 \n",
    "    - format specifier: %s %f %d\n",
    "    - formatting"
   ]
  },
  {
   "cell_type": "markdown",
   "metadata": {},
   "source": [
    "#### 1.format specifier\n",
    "- %로 서식에 들어갈 값을 연결해준다\n",
    "- %s는 문자열 서식을 %d는 정수 서식을 %f는 실수 서식을 의미한다\n"
   ]
  },
  {
   "cell_type": "code",
   "execution_count": 48,
   "metadata": {},
   "outputs": [
    {
     "name": "stdout",
     "output_type": "stream",
     "text": [
      "Helloy python !\n",
      "Helloy 123 !\n",
      "Helloy 123.12 !\n"
     ]
    }
   ],
   "source": [
    "# '%s'%'문자열'\n",
    "# '%s'% 숫자가 되도 str형태로 casting되어서 크게 문제 없다\n",
    "print('Hello %s !'%'python')\n",
    "print('Hello %s !'%123)\n",
    "print('Hello %s !'%123.12)"
   ]
  },
  {
   "cell_type": "code",
   "execution_count": 70,
   "metadata": {},
   "outputs": [
    {
     "name": "stdout",
     "output_type": "stream",
     "text": [
      "Hello python !\n",
      "Hello python !\n"
     ]
    }
   ],
   "source": [
    "a='python'\n",
    "print('Hello %s !'%'python')\n",
    "print('Hello %s !'%a)"
   ]
  },
  {
   "cell_type": "code",
   "execution_count": 128,
   "metadata": {},
   "outputs": [
    {
     "name": "stdout",
     "output_type": "stream",
     "text": [
      "Hello 1234 !\n",
      "Hello 1234 !\n"
     ]
    },
    {
     "ename": "TypeError",
     "evalue": "%d format: a number is required, not str",
     "output_type": "error",
     "traceback": [
      "\u001b[0;31m---------------------------------------------------------------------------\u001b[0m",
      "\u001b[0;31mTypeError\u001b[0m                                 Traceback (most recent call last)",
      "\u001b[0;32m<ipython-input-128-acb93dc7bdcb>\u001b[0m in \u001b[0;36m<module>\u001b[0;34m\u001b[0m\n\u001b[1;32m      3\u001b[0m \u001b[0mprint\u001b[0m\u001b[0;34m(\u001b[0m\u001b[0;34m'Hello %d !'\u001b[0m\u001b[0;34m%\u001b[0m\u001b[0;36m1234.777\u001b[0m\u001b[0;34m)\u001b[0m \u001b[0;31m# int(float)은 버림이다\u001b[0m\u001b[0;34m\u001b[0m\u001b[0;34m\u001b[0m\u001b[0m\n\u001b[1;32m      4\u001b[0m  \u001b[0;31m# error :%d format: a number is required, not str\u001b[0m\u001b[0;34m\u001b[0m\u001b[0;34m\u001b[0m\u001b[0;34m\u001b[0m\u001b[0m\n\u001b[0;32m----> 5\u001b[0;31m \u001b[0mprint\u001b[0m\u001b[0;34m(\u001b[0m\u001b[0;34m'Hello %d !'\u001b[0m\u001b[0;34m%\u001b[0m\u001b[0;34m'1234'\u001b[0m\u001b[0;34m)\u001b[0m\u001b[0;34m\u001b[0m\u001b[0;34m\u001b[0m\u001b[0m\n\u001b[0m",
      "\u001b[0;31mTypeError\u001b[0m: %d format: a number is required, not str"
     ]
    }
   ],
   "source": [
    "# '%d'%숫자\n",
    "print('Hello %d !'%1234)\n",
    "print('Hello %d !'%1234.777) # int(float)은 버림이다\n",
    " # error :%d format: a number is required, not str\n",
    "print('Hello %d !'%'1234') "
   ]
  },
  {
   "cell_type": "code",
   "execution_count": 55,
   "metadata": {},
   "outputs": [
    {
     "name": "stdout",
     "output_type": "stream",
     "text": [
      "Hello 1234.000000 !\n",
      "Hello 1234.123000 !\n",
      "Hello 1234.124 !\n"
     ]
    }
   ],
   "source": [
    "# '%f'%숫자\n",
    "# 자동으로 소숫점 6째자리까지 출력한다\n",
    "print('Hello %f !'%1234) \n",
    "print('Hello %f !'%1234.123)\n",
    "\n",
    "# 소숫점 자리수 지정가능 => 반올림\n",
    "print('Hello %.3f !'%1234.123755678123)"
   ]
  },
  {
   "cell_type": "code",
   "execution_count": 60,
   "metadata": {},
   "outputs": [
    {
     "name": "stdout",
     "output_type": "stream",
     "text": [
      "Hello               python !\n",
      "Hello                 1234 !\n",
      "Hello          1234.123756 !\n",
      "Hello             1234.124 !\n"
     ]
    }
   ],
   "source": [
    "# 문자열 서식의 길이 조절가능\n",
    "print('Hello %20s !'%'python')\n",
    "print('Hello %20d !'%1234)\n",
    "print('Hello %20f !'%1234.123755678123)   # 반올림\n",
    "print('Hello %20.3f !'%1234.123755678123) # 반올림\n"
   ]
  },
  {
   "cell_type": "code",
   "execution_count": 116,
   "metadata": {},
   "outputs": [
    {
     "name": "stdout",
     "output_type": "stream",
     "text": [
      "Hello 00000000000000001234 !\n",
      "Hello 0000000001234.123756 !\n",
      "Hello 0000000000001234.124 !\n"
     ]
    }
   ],
   "source": [
    "#숫자 형식 앞에 0으로 채우기\n",
    "print('Hello %020d !'%1234)\n",
    "print('Hello %020f !'%1234.123755678123)\n",
    "print('Hello %020.3f !'%1234.123755678123)"
   ]
  },
  {
   "cell_type": "code",
   "execution_count": 62,
   "metadata": {},
   "outputs": [
    {
     "name": "stdout",
     "output_type": "stream",
     "text": [
      "Today is    3 April\n"
     ]
    }
   ],
   "source": [
    "# 동이에 여러 서식을 사용 가능하다\n",
    "# 반드시 (,,,)괄호 사용해야 한다\n",
    "print('Today is %4d %s'%(3,'April'))"
   ]
  },
  {
   "cell_type": "markdown",
   "metadata": {},
   "source": [
    "#### 2. formatting\n",
    "- 위 방식보다 아래 방식이 더 유용하다\n",
    "- '{}'.format(값)\n",
    "- 특정 타입의 서식을 미리 지정할 필요가 없다\n",
    "- 값에는 거의 모든 데이터 타입 들어간다, 변수로 저장된 값을 사용해도 된다"
   ]
  },
  {
   "cell_type": "code",
   "execution_count": 69,
   "metadata": {},
   "outputs": [
    {
     "name": "stdout",
     "output_type": "stream",
     "text": [
      "1\n",
      "abc asdf\n",
      "Hello World\n",
      "Hello [1, 2, 3]\n",
      "Hello [range(0, 10)]\n"
     ]
    }
   ],
   "source": [
    "print('{}'.format(1))\n",
    "print('{}'.format('abc asdf'))\n",
    "print('Hello {}'.format('World'))\n",
    "print('Hello {}'.format([1,2,3]))\n",
    "print('Hello {}'.format([range(10)]))"
   ]
  },
  {
   "cell_type": "markdown",
   "metadata": {},
   "source": [
    "#### ⭐️보충\n",
    "- formatting 사용할 수 있는 문법은 아래와 같이 두개가 있다\n",
    "- 전자가 더 최신의 방법이다 python 3.6 이상부터는 전자의 방식이 추천된다. 이유는 {}안에 값이 바로 들어가 있기 때문에 보다 직관적이다"
   ]
  },
  {
   "cell_type": "code",
   "execution_count": 96,
   "metadata": {},
   "outputs": [
    {
     "name": "stdout",
     "output_type": "stream",
     "text": [
      "123\n",
      "123\n",
      "123\n",
      "123\n"
     ]
    }
   ],
   "source": [
    "digit = 123\n",
    "\n",
    "print(f'{digit}')\n",
    "print(f'{123}')\n",
    "\n",
    "print('{}'.format(123))\n",
    "print('{}'.format(digit))\n"
   ]
  },
  {
   "cell_type": "code",
   "execution_count": 81,
   "metadata": {},
   "outputs": [
    {
     "name": "stdout",
     "output_type": "stream",
     "text": [
      "My and name is kanghee and I am 24 years old\n",
      "My and name is kanghee and I am 24 years old\n",
      "My and name is kanghee and I am 24 years old\n"
     ]
    }
   ],
   "source": [
    "# 모두 동일한 방법이다\n",
    "name = 'kanghee'\n",
    "age = 24\n",
    "print('My and name is {} and I am {} years old'.format(name,age))\n",
    "print('My and name is {0} and I am {1} years old'.format(name,age))\n",
    "print('My and name is {name} and I am {age} years old'.format(name='kanghee',age=24))"
   ]
  },
  {
   "cell_type": "code",
   "execution_count": 108,
   "metadata": {},
   "outputs": [
    {
     "name": "stdout",
     "output_type": "stream",
     "text": [
      "My and name is kanghee and I am 24 years old\n",
      "My and name is kanghee and I am 24 years old\n"
     ]
    }
   ],
   "source": [
    "# f-string (python 3.6이상) 으로 더 간단하게 사용가능하다\n",
    "print('My and name is {name} and I am {age} years old'.format(name='kanghee',age=24))\n",
    "\n",
    "#기존 formatting에서는 f-string같이 사용 불가능\n",
    "name = 'kanghee'\n",
    "age = 24\n",
    "print(f'My and name is {name} and I am {age} years old')"
   ]
  },
  {
   "cell_type": "markdown",
   "metadata": {},
   "source": [
    "#### ⭐️보충\n",
    "- {}의 갯수가 format()의 인자보다 많을경우 정확히 어떤값이 들어갈지 명시해주어야 한다\n",
    "- {index}로 명시 가능: 여기서 index는 format(arg0,arg1,arg2,,,)의 인자들의 index를 말한다\n",
    "- {name}으로 명시 가능: 여기서 name은 format(name=arg0,,,) 의 인자들의 인자명을 말한다"
   ]
  },
  {
   "cell_type": "code",
   "execution_count": 93,
   "metadata": {},
   "outputs": [
    {
     "name": "stdout",
     "output_type": "stream",
     "text": [
      "kanghee 24 24\n",
      "24 kanghee 24\n"
     ]
    },
    {
     "ename": "IndexError",
     "evalue": "Replacement index 2 out of range for positional args tuple",
     "output_type": "error",
     "traceback": [
      "\u001b[0;31m---------------------------------------------------------------------------\u001b[0m",
      "\u001b[0;31mIndexError\u001b[0m                                Traceback (most recent call last)",
      "\u001b[0;32m<ipython-input-93-49d94774c621>\u001b[0m in \u001b[0;36m<module>\u001b[0;34m\u001b[0m\n\u001b[1;32m      3\u001b[0m \u001b[0mprint\u001b[0m\u001b[0;34m(\u001b[0m\u001b[0;34m'{0} {1} {1}'\u001b[0m\u001b[0;34m.\u001b[0m\u001b[0mformat\u001b[0m\u001b[0;34m(\u001b[0m\u001b[0mname\u001b[0m\u001b[0;34m,\u001b[0m\u001b[0mage\u001b[0m\u001b[0;34m)\u001b[0m\u001b[0;34m)\u001b[0m\u001b[0;34m\u001b[0m\u001b[0;34m\u001b[0m\u001b[0m\n\u001b[1;32m      4\u001b[0m \u001b[0mprint\u001b[0m\u001b[0;34m(\u001b[0m\u001b[0;34m'{1} {0} {1}'\u001b[0m\u001b[0;34m.\u001b[0m\u001b[0mformat\u001b[0m\u001b[0;34m(\u001b[0m\u001b[0mname\u001b[0m\u001b[0;34m,\u001b[0m\u001b[0mage\u001b[0m\u001b[0;34m)\u001b[0m\u001b[0;34m)\u001b[0m\u001b[0;34m\u001b[0m\u001b[0;34m\u001b[0m\u001b[0m\n\u001b[0;32m----> 5\u001b[0;31m \u001b[0mprint\u001b[0m\u001b[0;34m(\u001b[0m\u001b[0;34m'{} {} {}'\u001b[0m\u001b[0;34m.\u001b[0m\u001b[0mformat\u001b[0m\u001b[0;34m(\u001b[0m\u001b[0mname\u001b[0m\u001b[0;34m,\u001b[0m\u001b[0mage\u001b[0m\u001b[0;34m)\u001b[0m\u001b[0;34m)\u001b[0m \u001b[0;31m# index가 2개밖에 없어서 에러난다\u001b[0m\u001b[0;34m\u001b[0m\u001b[0;34m\u001b[0m\u001b[0m\n\u001b[0m",
      "\u001b[0;31mIndexError\u001b[0m: Replacement index 2 out of range for positional args tuple"
     ]
    }
   ],
   "source": [
    "name = 'kanghee'\n",
    "age = 24\n",
    "print('{0} {1} {1}'.format(name,age))\n",
    "print('{1} {0} {1}'.format(name,age))\n",
    "print('{} {} {}'.format(name,age)) # index가 2개밖에 없어서 에러난다"
   ]
  },
  {
   "cell_type": "code",
   "execution_count": 141,
   "metadata": {},
   "outputs": [
    {
     "name": "stdout",
     "output_type": "stream",
     "text": [
      "9         \n",
      "10\n",
      "        ab\n",
      "10\n",
      "        cd + ab\n",
      "15\n"
     ]
    }
   ],
   "source": [
    "# 정렬하기\n",
    "# {:<갯수} : 왼쪽 정렬\n",
    "str01 = '{:<10}'.format(9)\n",
    "print(str01)\n",
    "print(len(str01))\n",
    "\n",
    "# {:>갯수} : 오른쪽 정렬\n",
    "str02 = '{:>10}'.format('ab')\n",
    "print(str02)\n",
    "print(len(str02))\n",
    "\n",
    "str02 = '{1:>10} + {0}'.format('ab','cd')\n",
    "print(str02)\n",
    "print(len(str02))"
   ]
  },
  {
   "cell_type": "code",
   "execution_count": 139,
   "metadata": {},
   "outputs": [
    {
     "name": "stdout",
     "output_type": "stream",
     "text": [
      "0010\n",
      "0000000000100.000000\n",
      "0000000000100.123000\n",
      "00000000000000100.13\n"
     ]
    }
   ],
   "source": [
    "# 숫자 앞에 0을 넣어 갯수 맞추기 \n",
    "# format specifier처럼 d f를 사용해서 정수 실수 서식 지정 가능\n",
    "# f는 default로 소숫점 6자리 까지 가진다\n",
    "print('{:04d}'.format(10))\n",
    "print('{:020f}'.format(100))\n",
    "print('{:020f}'.format(100.123))\n",
    "print('{:020.2f}'.format(100.128))"
   ]
  }
 ],
 "metadata": {
  "kernelspec": {
   "display_name": "Python 3",
   "language": "python",
   "name": "python3"
  },
  "language_info": {
   "codemirror_mode": {
    "name": "ipython",
    "version": 3
   },
   "file_extension": ".py",
   "mimetype": "text/x-python",
   "name": "python",
   "nbconvert_exporter": "python",
   "pygments_lexer": "ipython3",
   "version": "3.8.5"
  }
 },
 "nbformat": 4,
 "nbformat_minor": 4
}
