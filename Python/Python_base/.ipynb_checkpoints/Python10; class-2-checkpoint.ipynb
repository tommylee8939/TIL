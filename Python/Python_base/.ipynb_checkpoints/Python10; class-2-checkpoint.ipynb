{
 "cells": [
  {
   "cell_type": "markdown",
   "metadata": {},
   "source": [
    "## Python10; class-2"
   ]
  },
  {
   "cell_type": "markdown",
   "metadata": {},
   "source": [
    "### Identifier\n",
    "- 클래스 안에서만 접근할수 있음 (이게 포인트다)\n",
    "- 사실 접근 가능하지만 약속으로 정한거다\n",
    "    1. __  : private (클래스 내에서만 접근해야된다)\n",
    "    2. _ : proteced (클래스 + subclass에서만 접근 가능)\n"
   ]
  },
  {
   "cell_type": "code",
   "execution_count": 132,
   "metadata": {},
   "outputs": [
    {
     "name": "stdout",
     "output_type": "stream",
     "text": [
      "super class constructor\n",
      "seoul\n",
      "info from super\n",
      "{'_Person__info': 'info from super'}\n"
     ]
    },
    {
     "ename": "AttributeError",
     "evalue": "'Person' object has no attribute '__address'",
     "output_type": "error",
     "traceback": [
      "\u001b[0;31m---------------------------------------------------------------------------\u001b[0m",
      "\u001b[0;31mAttributeError\u001b[0m                            Traceback (most recent call last)",
      "\u001b[0;32m<ipython-input-132-2a8d96b54a0c>\u001b[0m in \u001b[0;36m<module>\u001b[0;34m\u001b[0m\n\u001b[1;32m     22\u001b[0m \u001b[0;34m\u001b[0m\u001b[0m\n\u001b[1;32m     23\u001b[0m \u001b[0;31m# 아래 두개 접근 불가다 => Error\u001b[0m\u001b[0;34m\u001b[0m\u001b[0;34m\u001b[0m\u001b[0;34m\u001b[0m\u001b[0m\n\u001b[0;32m---> 24\u001b[0;31m \u001b[0ma\u001b[0m\u001b[0;34m.\u001b[0m\u001b[0m__address\u001b[0m\u001b[0;34m\u001b[0m\u001b[0;34m\u001b[0m\u001b[0m\n\u001b[0m\u001b[1;32m     25\u001b[0m \u001b[0ma\u001b[0m\u001b[0;34m.\u001b[0m\u001b[0m__info\u001b[0m\u001b[0;34m\u001b[0m\u001b[0;34m\u001b[0m\u001b[0m\n",
      "\u001b[0;31mAttributeError\u001b[0m: 'Person' object has no attribute '__address'"
     ]
    }
   ],
   "source": [
    "# private\n",
    "class Person(object): \n",
    "    \n",
    "    __address = 'seoul'\n",
    "    \n",
    "    def __init__(self):\n",
    "        self.__info = 'info from super'\n",
    "        print('super class constructor')  \n",
    "        \n",
    "    @classmethod\n",
    "    def printStatic(cls):\n",
    "        print(cls.__address) # 이렇게 약속하는거 일뿐이다\n",
    "    \n",
    "    def printInfo(self):\n",
    "        print(self.__info)\n",
    "    \n",
    "a = Person()\n",
    "a.printStatic()\n",
    "a.printInfo()\n",
    "\n",
    "print(a.__dict__) # {'_Person__info': 'info from super'}\n",
    "\n",
    "# 아래 두개 접근 불가다 => Error \n",
    "a.__address\n",
    "a.__info "
   ]
  },
  {
   "cell_type": "code",
   "execution_count": 82,
   "metadata": {},
   "outputs": [
    {
     "name": "stdout",
     "output_type": "stream",
     "text": [
      "super class constructor\n",
      "seoul\n",
      "info from super\n",
      "{'_info': 'info from super'}\n",
      "seoul\n",
      "info from super\n"
     ]
    }
   ],
   "source": [
    "# protected\n",
    "class Person(object): \n",
    "    \n",
    "    _address = 'seoul'\n",
    "    \n",
    "    def __init__(self):\n",
    "        self._info = 'info from super'\n",
    "        print('super class constructor')  \n",
    "        \n",
    "    @classmethod\n",
    "    def printStatic(cls):\n",
    "        print(cls._address) # 이렇게 약속하는거 일뿐이다\n",
    "    \n",
    "    def printInfo(self):\n",
    "        print(self._info)\n",
    "    \n",
    "a = Person()\n",
    "a.printStatic()\n",
    "a.printInfo()\n",
    "\n",
    "print(a.__dict__) # {'_info': 'info from super'}\n",
    "\n",
    "# 사실은 이렇게 가능하긴 하다\n",
    "# protected를 클래스 혹은 서브 클래스 내에서만 접근하기로 약속했기때문에\n",
    "# 이렇게 사용하면 안된다\n",
    "\n",
    "print(a._address)\n",
    "print(a._info) "
   ]
  },
  {
   "cell_type": "markdown",
   "metadata": {},
   "source": [
    "### Inheritence with Identifier\n",
    "- 솔직히 좀 개념이 자바에 비해서 견고하지 못하다\n",
    "- Method resolution order 를 생각해야된다"
   ]
  },
  {
   "cell_type": "markdown",
   "metadata": {},
   "source": [
    "#### 1. private 상속"
   ]
  },
  {
   "cell_type": "code",
   "execution_count": 148,
   "metadata": {},
   "outputs": [
    {
     "name": "stdout",
     "output_type": "stream",
     "text": [
      "seoul\n",
      "seoul\n",
      "info from super\n",
      "info from super\n",
      "\n",
      "info from sub\n",
      "daegue\n",
      "\n",
      "{'_Person__info': 'info from super', '_Student__info': 'info from sub'}\n"
     ]
    }
   ],
   "source": [
    "# private 클래스 변수 상속\n",
    "# 상속이 안되어야 정상이다.\n",
    "# 하지만 public method들은 당연히 상속이 된다\n",
    "\n",
    "class Person(object): \n",
    "    \n",
    "    __address = 'seoul'\n",
    "    \n",
    "    def __init__(self):\n",
    "        self.__info = 'info from super'\n",
    "         \n",
    "    @classmethod\n",
    "    def printStatic(cls):\n",
    "        print(Student().__address)  # 여기선 __address 접근 가능 \n",
    "        print(cls.__address)\n",
    "    \n",
    "    def printInfo(self):\n",
    "        print(Student().__info)    # 여기선 __info 접근 가능\n",
    "        print(self.__info) \n",
    "\n",
    "\n",
    "class Student(Person):\n",
    "    __address = 'daegue'           \n",
    "    \n",
    "    def __init__(self):\n",
    "        super().__init__()\n",
    "        self.__info = 'info from sub'\n",
    "        \n",
    "    def printSuperPrivate(self):\n",
    "        print(self.__info )        # Student 내에 즉, '_Student__info'\n",
    "        print(self.__address)      # Student 내에 __address\n",
    "\n",
    "a = Student()\n",
    "\n",
    "a.printStatic() \n",
    "# printStatic() 이 불리는 순서를 한번 생각해보자 MRO\n",
    "# 1. Student 클래스 내에 printStatic이 없다!\n",
    "# 2. Person 클래스 내에 pritnStatic이 호출\n",
    "# 3. Person 클래스 내에서는 self.__address 접근이 가능해진다(private의 정의니깐)\n",
    "\n",
    "a.printInfo()\n",
    "# 같은 원리로 작동한다\n",
    "print()\n",
    "\n",
    "a.printSuperPrivate() \n",
    "\n",
    "print()\n",
    "print(a.__dict__)\n",
    " \n"
   ]
  },
  {
   "cell_type": "markdown",
   "metadata": {},
   "source": [
    "#### 2.protected 상속"
   ]
  },
  {
   "cell_type": "code",
   "execution_count": 150,
   "metadata": {
    "scrolled": false
   },
   "outputs": [
    {
     "name": "stdout",
     "output_type": "stream",
     "text": [
      "info from sub\n",
      "dague\n",
      "info from sub\n",
      "dague\n",
      "\n",
      "{'_info': 'info from sub'}\n"
     ]
    }
   ],
   "source": [
    "# protected 클래스 변수 상속\n",
    "# 상속 된다\n",
    "\n",
    "class Person(object): \n",
    "    \n",
    "    _address = 'seoul'\n",
    "    \n",
    "    def __init__(self):\n",
    "        self._info = 'info from super'\n",
    "         \n",
    "    @classmethod\n",
    "    def printStatic(cls): \n",
    "        print(cls._address)\n",
    "    \n",
    "    def printInfo(self):\n",
    "        print(self._info) \n",
    "\n",
    "\n",
    "class Student(Person):\n",
    "    _address = 'dague'  # 상속된 address overwrite 됨\n",
    "    def __init__(self):\n",
    "        super().__init__()\n",
    "        self._info = 'info from sub'\n",
    "        \n",
    "    def printSuperProtected(self):   # protected는 사용 가능하다\n",
    "        print(self._info)\n",
    "        print(self._address)\n",
    "\n",
    "a = Student()\n",
    "\n",
    "a.printInfo()\n",
    "a.printStatic()\n",
    "a.printSuperProtected()\n",
    "\n",
    "print()\n",
    "print(a.__dict__)        # 상속된게 overwrite 된건다\n"
   ]
  },
  {
   "cell_type": "markdown",
   "metadata": {},
   "source": [
    "### Multiple Inheritence"
   ]
  },
  {
   "cell_type": "code",
   "execution_count": 152,
   "metadata": {},
   "outputs": [
    {
     "name": "stdout",
     "output_type": "stream",
     "text": [
      "안녕하세요 B입니다\n"
     ]
    },
    {
     "data": {
      "text/plain": [
       "[__main__.D, __main__.B, __main__.C, __main__.A, object]"
      ]
     },
     "execution_count": 152,
     "metadata": {},
     "output_type": "execute_result"
    }
   ],
   "source": [
    "class A:\n",
    "    def greeting(self):\n",
    "        print('안녕하세요 A입니다')\n",
    "        \n",
    "class B(A):\n",
    "    def greeting(self):\n",
    "        print('안녕하세요 B입니다')\n",
    "\n",
    "class C(A):\n",
    "    def greeting(self):\n",
    "        print('안녕하세요 C입니다')\n",
    "        \n",
    "class D(B,C):\n",
    "    pass\n",
    "        \n",
    "\n",
    "a = D()\n",
    "a.greeting() # 자동으로 B호출\n",
    "D.mro()"
   ]
  },
  {
   "cell_type": "code",
   "execution_count": 197,
   "metadata": {},
   "outputs": [
    {
     "name": "stdout",
     "output_type": "stream",
     "text": [
      "Constructor B\n"
     ]
    }
   ],
   "source": [
    "class A:\n",
    "    def __init__(self):\n",
    "        print('Constructor A')\n",
    "        \n",
    "    def greeting(self):\n",
    "        print('안녕하세요 A입니다')\n",
    "        \n",
    "class B:\n",
    "    def __init__(self):\n",
    "        print('Constructor B')\n",
    "        \n",
    "    def greeting(self):\n",
    "        print('안녕하세요 B입니다')\n",
    "\n",
    "class C(B,A):\n",
    "    pass\n",
    "\n",
    "a = C()      # 자동으로 B constructor\n"
   ]
  },
  {
   "cell_type": "code",
   "execution_count": 199,
   "metadata": {},
   "outputs": [
    {
     "name": "stdout",
     "output_type": "stream",
     "text": [
      "Constructor B\n"
     ]
    }
   ],
   "source": [
    "class A:\n",
    "    def __init__(self):\n",
    "        print('Constructor A')\n",
    "        \n",
    "    def greeting(self):\n",
    "        print('안녕하세요 A입니다')\n",
    "        \n",
    "class B:\n",
    "    def __init__(self):\n",
    "        print('Constructor B')\n",
    "        \n",
    "    def greeting(self):\n",
    "        print('안녕하세요 B입니다')\n",
    "\n",
    "class C(B,A):\n",
    "    def __init__(self):\n",
    "        super().__init__() # 자동으로 B 생성자\n",
    "\n",
    "a = C()      "
   ]
  }
 ],
 "metadata": {
  "kernelspec": {
   "display_name": "Python 3",
   "language": "python",
   "name": "python3"
  },
  "language_info": {
   "codemirror_mode": {
    "name": "ipython",
    "version": 3
   },
   "file_extension": ".py",
   "mimetype": "text/x-python",
   "name": "python",
   "nbconvert_exporter": "python",
   "pygments_lexer": "ipython3",
   "version": "3.8.5"
  }
 },
 "nbformat": 4,
 "nbformat_minor": 4
}
