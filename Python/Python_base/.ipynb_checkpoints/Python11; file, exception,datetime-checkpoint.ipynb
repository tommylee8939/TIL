{
 "cells": [
  {
   "cell_type": "markdown",
   "metadata": {},
   "source": [
    "### Datetime"
   ]
  },
  {
   "cell_type": "code",
   "execution_count": 1,
   "metadata": {},
   "outputs": [
    {
     "name": "stdout",
     "output_type": "stream",
     "text": [
      "2021-07-24\n",
      "2021 7 24\n",
      "2021-07-24 23:16:32.394360\n",
      "2021 7 24\n",
      "23 16 32\n",
      "2021-07-25 01:16:32.394952\n",
      "<class 'datetime.datetime'>\n",
      "2021-07-24 23:18:32.394952\n",
      "2021-07-26 23:16:32.394952\n",
      "<class 'datetime.datetime'>\n",
      "2019-07-16 00:00:00 <class 'datetime.datetime'>\n",
      "2019-07-16 00:00:00 <class 'datetime.datetime'>\n",
      "2021-07-24 23:16:32.396794 <class 'datetime.datetime'>\n",
      "2021-07-24\n",
      "2015-12-20 16:20:03\n"
     ]
    }
   ],
   "source": [
    "from datetime import date,datetime,timedelta\n",
    "print(date.today())\n",
    "print(date.today().year,date.today().month,date.today().day)\n",
    "\n",
    "print(datetime.today())\n",
    "print(datetime.today().year,datetime.today().month,datetime.today().day)\n",
    "print(datetime.today().hour,datetime.today().minute,datetime.today().second)\n",
    "\n",
    "\n",
    "from dateutil.relativedelta import relativedelta\n",
    "\n",
    "days = datetime.today()\n",
    "# time delta 는 H M S 까지 밖에 안됨\n",
    "print(days+timedelta(hours=2))\n",
    "print(type(days+timedelta(hours=2)))\n",
    "\n",
    "# relativedelta\n",
    "print(days+relativedelta(minutes=2))\n",
    "print(days+relativedelta(days=2))\n",
    "print(type(days+relativedelta(days=2))) # 바뀌지 않는다\n",
    "\n",
    "\n",
    "# 특정 날짜객체를 생성\n",
    "from dateutil.parser import parse\n",
    "userDate = parse('2019-7-16')\n",
    "print(userDate,type(userDate))\n",
    "\n",
    "userDate = parse('2019/7/16') # 어느 정도 형식까지는 알아서 parse되는거 같다\n",
    "print(userDate,type(userDate))\n",
    "\n",
    "\n",
    "today = datetime.today()\n",
    "print(today,type(today))\n",
    "\n",
    "# stftime\n",
    "# string formatting\n",
    "# datetime 객체에서 내가 원하는 str추출\n",
    "print(today.strftime('%Y-%m-%d'))\n",
    "\n",
    "# strptime\n",
    "# string parse time\n",
    "# string을 datetime 객체로 pase\n",
    "print(datetime.strptime(\"2015/12/20/16/20/03\",'%Y/%m/%d/%H/%M/%S'))"
   ]
  }
 ],
 "metadata": {
  "kernelspec": {
   "display_name": "Python 3",
   "language": "python",
   "name": "python3"
  },
  "language_info": {
   "codemirror_mode": {
    "name": "ipython",
    "version": 3
   },
   "file_extension": ".py",
   "mimetype": "text/x-python",
   "name": "python",
   "nbconvert_exporter": "python",
   "pygments_lexer": "ipython3",
   "version": "3.8.5"
  }
 },
 "nbformat": 4,
 "nbformat_minor": 4
}
