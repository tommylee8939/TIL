{
 "cells": [
  {
   "cell_type": "markdown",
   "metadata": {},
   "source": [
    "## Python11; file, json, exception, datetime"
   ]
  },
  {
   "cell_type": "markdown",
   "metadata": {},
   "source": [
    "### 📎file 쓰기"
   ]
  },
  {
   "cell_type": "markdown",
   "metadata": {},
   "source": [
    "#### 1. write()"
   ]
  },
  {
   "cell_type": "code",
   "execution_count": 13,
   "metadata": {},
   "outputs": [],
   "source": [
    "file = open('./data/hello1.txt','w') # 폴더는 직접 만들어야 한다\n",
    "file.write('Hello world')\n",
    "file.close()"
   ]
  },
  {
   "cell_type": "code",
   "execution_count": 14,
   "metadata": {},
   "outputs": [],
   "source": [
    "file = open('./data/hello2.txt','w') \n",
    "file.write(\"Hello world\\nHello world\\nHello world\")\n",
    "file.close()"
   ]
  },
  {
   "cell_type": "code",
   "execution_count": 15,
   "metadata": {},
   "outputs": [],
   "source": [
    "file = open('./data/hello3.txt','w') \n",
    "file.write('''Hello world\n",
    "Hello world\n",
    "Hello world''')\n",
    "file.close()"
   ]
  },
  {
   "cell_type": "code",
   "execution_count": 16,
   "metadata": {},
   "outputs": [],
   "source": [
    "list01 = ['Hello World','Hello World','Hello World']\n",
    "file = open('./data/hello4.txt','w')\n",
    "for line in list01:\n",
    "    file.write(line+'\\n')\n",
    "file.close()"
   ]
  },
  {
   "cell_type": "markdown",
   "metadata": {},
   "source": [
    "#### 2. writelines()"
   ]
  },
  {
   "cell_type": "code",
   "execution_count": 17,
   "metadata": {},
   "outputs": [],
   "source": [
    "list01 = ['Hello World','Hello World','Hello World']\n",
    "file = open('./data/hello5.txt','w')\n",
    "file.writelines(list01)\n",
    "file.close()"
   ]
  },
  {
   "cell_type": "code",
   "execution_count": 18,
   "metadata": {},
   "outputs": [],
   "source": [
    "list01 = ['Hello World\\n','Hello World\\n','Hello World\\n']\n",
    "file = open('./data/hello6.txt','w')\n",
    "file.writelines(list01)\n",
    "file.close()"
   ]
  },
  {
   "cell_type": "markdown",
   "metadata": {},
   "source": [
    "### 📎file 읽기"
   ]
  },
  {
   "cell_type": "markdown",
   "metadata": {},
   "source": [
    "#### 1.read()"
   ]
  },
  {
   "cell_type": "code",
   "execution_count": 20,
   "metadata": {},
   "outputs": [
    {
     "name": "stdout",
     "output_type": "stream",
     "text": [
      "Hello world\n"
     ]
    }
   ],
   "source": [
    "file = open('./data/hello1.txt','r') \n",
    "print(file.read())\n",
    "file.close()"
   ]
  },
  {
   "cell_type": "code",
   "execution_count": 21,
   "metadata": {},
   "outputs": [
    {
     "name": "stdout",
     "output_type": "stream",
     "text": [
      "Hello world\n",
      "Hello world\n",
      "Hello world\n"
     ]
    }
   ],
   "source": [
    "file = open('./data/hello2.txt','r') \n",
    "print(file.read())\n",
    "file.close()"
   ]
  },
  {
   "cell_type": "markdown",
   "metadata": {},
   "source": [
    "#### 2.readline()"
   ]
  },
  {
   "cell_type": "code",
   "execution_count": 22,
   "metadata": {},
   "outputs": [
    {
     "name": "stdout",
     "output_type": "stream",
     "text": [
      "Hello world\n",
      "\n"
     ]
    }
   ],
   "source": [
    "file = open('./data/hello2.txt','r') \n",
    "print(file.readline()) #한줄씩 읽는다\n",
    "file.close()"
   ]
  },
  {
   "cell_type": "markdown",
   "metadata": {},
   "source": [
    "#### 3.readlines()"
   ]
  },
  {
   "cell_type": "code",
   "execution_count": 23,
   "metadata": {
    "scrolled": true
   },
   "outputs": [
    {
     "name": "stdout",
     "output_type": "stream",
     "text": [
      "['Hello world\\n', 'Hello world\\n', 'Hello world']\n"
     ]
    }
   ],
   "source": [
    "file = open('./data/hello2.txt','r') \n",
    "print(file.readlines()) #한줄씩 읽는다\n",
    "file.close()"
   ]
  },
  {
   "cell_type": "markdown",
   "metadata": {},
   "source": [
    "### 📎json file 읽기"
   ]
  },
  {
   "cell_type": "code",
   "execution_count": 24,
   "metadata": {},
   "outputs": [
    {
     "name": "stdout",
     "output_type": "stream",
     "text": [
      "<class 'str'>\n",
      "{\"id\": \"jslim\", \"pwd\": \"jslim\"}\n",
      "<class 'dict'>\n",
      "{'id': 'jslim', 'pwd': 'jslim'}\n",
      "<class 'dict'>\n",
      "Mozilla/5.0 (Windows NT 6.1; WOW64) AppleWebKit/535.11 (KHTML, like Gecko) Chrome/17.0.963.78 Safari/535.11\n"
     ]
    }
   ],
   "source": [
    "# json 형식 사용해보기\n",
    "\n",
    "# josn\n",
    "# 네트워크 상에서 표준으로 사용되는 파일 형식\n",
    "# json -> python의 list or list : decoding\n",
    "# python의 list or list  -> json : encoding\n",
    "\n",
    "import json as j\n",
    "tmpDict = {'id':'jslim','pwd':'jslim'}\n",
    "\n",
    "# encoding 을 해보자\n",
    "jsonDic = j.dumps(tmpDict)\n",
    "print(type(jsonDic)) # class str이다 신기하네\n",
    "print(jsonDic)\n",
    "\n",
    "# decoding 을해보자\n",
    "pyDic = j.loads(jsonDic)\n",
    "print(type(pyDic)) # 다시 dict로 만들어줬다\n",
    "print(pyDic)\n",
    "\n",
    "import json\n",
    "with open('./data/json.txt', 'r', encoding='UTF-8') as file:\n",
    "    lines = file.readlines() # type은 list로 들어온다 => 즉 각 줄이 str 타입으로 list의 원소가 된다\n",
    "    lines = [json.loads(line) for line in lines]\n",
    "    print(type(lines[0]))\n",
    "    print(lines[0]['a']) # 이제 key에 대한 접근이 가능해진다\n",
    "    '''\n",
    "    lines=[]\n",
    "    for line in file:\n",
    "        lines.append(json.loads(line)\n",
    "    '''"
   ]
  },
  {
   "cell_type": "markdown",
   "metadata": {},
   "source": [
    "### 📎datetime"
   ]
  },
  {
   "cell_type": "code",
   "execution_count": 1,
   "metadata": {},
   "outputs": [
    {
     "name": "stdout",
     "output_type": "stream",
     "text": [
      "2021-07-24\n",
      "2021 7 24\n",
      "2021-07-24 23:16:32.394360\n",
      "2021 7 24\n",
      "23 16 32\n",
      "2021-07-25 01:16:32.394952\n",
      "<class 'datetime.datetime'>\n",
      "2021-07-24 23:18:32.394952\n",
      "2021-07-26 23:16:32.394952\n",
      "<class 'datetime.datetime'>\n",
      "2019-07-16 00:00:00 <class 'datetime.datetime'>\n",
      "2019-07-16 00:00:00 <class 'datetime.datetime'>\n",
      "2021-07-24 23:16:32.396794 <class 'datetime.datetime'>\n",
      "2021-07-24\n",
      "2015-12-20 16:20:03\n"
     ]
    }
   ],
   "source": [
    "from datetime import date,datetime,timedelta\n",
    "print(date.today())\n",
    "print(date.today().year,date.today().month,date.today().day)\n",
    "\n",
    "print(datetime.today())\n",
    "print(datetime.today().year,datetime.today().month,datetime.today().day)\n",
    "print(datetime.today().hour,datetime.today().minute,datetime.today().second)\n",
    "\n",
    "\n",
    "from dateutil.relativedelta import relativedelta\n",
    "\n",
    "days = datetime.today()\n",
    "# time delta 는 H M S 까지 밖에 안됨\n",
    "print(days+timedelta(hours=2))\n",
    "print(type(days+timedelta(hours=2)))\n",
    "\n",
    "# relativedelta\n",
    "print(days+relativedelta(minutes=2))\n",
    "print(days+relativedelta(days=2))\n",
    "print(type(days+relativedelta(days=2))) # 바뀌지 않는다\n",
    "\n",
    "\n",
    "# 특정 날짜객체를 생성\n",
    "from dateutil.parser import parse\n",
    "userDate = parse('2019-7-16')\n",
    "print(userDate,type(userDate))\n",
    "\n",
    "userDate = parse('2019/7/16') # 어느 정도 형식까지는 알아서 parse되는거 같다\n",
    "print(userDate,type(userDate))\n",
    "\n",
    "\n",
    "today = datetime.today()\n",
    "print(today,type(today))\n",
    "\n",
    "# stftime\n",
    "# string formatting\n",
    "# datetime 객체에서 내가 원하는 str추출\n",
    "print(today.strftime('%Y-%m-%d'))\n",
    "\n",
    "# strptime\n",
    "# string parse time\n",
    "# string을 datetime 객체로 pase\n",
    "print(datetime.strptime(\"2015/12/20/16/20/03\",'%Y/%m/%d/%H/%M/%S'))"
   ]
  }
 ],
 "metadata": {
  "kernelspec": {
   "display_name": "Python 3",
   "language": "python",
   "name": "python3"
  },
  "language_info": {
   "codemirror_mode": {
    "name": "ipython",
    "version": 3
   },
   "file_extension": ".py",
   "mimetype": "text/x-python",
   "name": "python",
   "nbconvert_exporter": "python",
   "pygments_lexer": "ipython3",
   "version": "3.8.5"
  }
 },
 "nbformat": 4,
 "nbformat_minor": 4
}
