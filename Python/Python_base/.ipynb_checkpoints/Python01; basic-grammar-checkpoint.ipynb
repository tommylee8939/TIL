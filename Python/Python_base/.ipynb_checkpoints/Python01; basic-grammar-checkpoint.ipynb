{
 "cells": [
  {
   "cell_type": "markdown",
   "metadata": {},
   "source": [
    "## Python01; basic-grammar\n",
    "- print 함수\n",
    "- 변수와 타입\n",
    "- 사칙연산\n",
    "- 형변환\n",
    "- input 함수"
   ]
  },
  {
   "cell_type": "markdown",
   "metadata": {},
   "source": [
    "### 주석 처리하는법\n",
    "- \\# =>한줄\n",
    "- ''' ''' =>여러줄 동시 주석\n",
    "- \"\"\" \"\"\" =>여러줄 동시 주석"
   ]
  },
  {
   "cell_type": "code",
   "execution_count": 6,
   "metadata": {},
   "outputs": [
    {
     "data": {
      "text/plain": [
       "'\\n여러줄 주석 처리\\n'"
      ]
     },
     "execution_count": 6,
     "metadata": {},
     "output_type": "execute_result"
    }
   ],
   "source": [
    "# 한줄 주석처리 \n",
    "'''\n",
    "여러줄 주석 처리\n",
    "'''\n",
    "\"\"\"\n",
    "여러줄 주석 처리\n",
    "\"\"\""
   ]
  },
  {
   "cell_type": "markdown",
   "metadata": {},
   "source": [
    "### print 함수\n",
    "- 다른 언어와 달리 매우 간단하다\n",
    "- default로 print()함수가 호출될때마다 행이 바뀐다\n",
    "- print(,,) 인자를 여러개 동시에 출력가능하다(타입에 상관없이)"
   ]
  },
  {
   "cell_type": "code",
   "execution_count": 1,
   "metadata": {},
   "outputs": [
    {
     "name": "stdout",
     "output_type": "stream",
     "text": [
      "Hello Python\n"
     ]
    }
   ],
   "source": [
    "print('Hello Python')"
   ]
  },
  {
   "cell_type": "code",
   "execution_count": 2,
   "metadata": {},
   "outputs": [
    {
     "name": "stdout",
     "output_type": "stream",
     "text": [
      "Hello Python\n",
      "Hello Python\n"
     ]
    }
   ],
   "source": [
    "print('Hello Python')\n",
    "print('Hello Python')"
   ]
  },
  {
   "cell_type": "code",
   "execution_count": 4,
   "metadata": {},
   "outputs": [
    {
     "name": "stdout",
     "output_type": "stream",
     "text": [
      "Hello Python Bye Python\n"
     ]
    }
   ],
   "source": [
    "print('Hello Python',\"Bye Python\")"
   ]
  },
  {
   "cell_type": "markdown",
   "metadata": {},
   "source": [
    "#### print 함수의 인자를 활용해보자\n",
    "- sep\n",
    "- end"
   ]
  },
  {
   "cell_type": "code",
   "execution_count": 10,
   "metadata": {},
   "outputs": [
    {
     "name": "stdout",
     "output_type": "stream",
     "text": [
      "Hello Python1 Hello Python2\n"
     ]
    }
   ],
   "source": [
    "# end 인자를 통해 Hello python1 출력후 줄을 바꾸지 않고 한칸만 띄었다\n",
    "print('Hello Python1',end=' ')\n",
    "print('Hello Python2')"
   ]
  },
  {
   "cell_type": "code",
   "execution_count": 13,
   "metadata": {},
   "outputs": [
    {
     "name": "stdout",
     "output_type": "stream",
     "text": [
      "Hello Python1 + Hello Python2\n",
      "Hello Python1 Hello Python2\n"
     ]
    }
   ],
   "source": [
    "# sep 인자를 통해 여러인자가 출력될때 구분자를 주었다\n",
    "print('Hello Python1','Hello Python2',sep=' + ')\n",
    "print('Hello Python1','Hello Python2')"
   ]
  },
  {
   "cell_type": "code",
   "execution_count": 15,
   "metadata": {},
   "outputs": [
    {
     "name": "stdout",
     "output_type": "stream",
     "text": [
      "1\n",
      "2\n",
      "3\n",
      "1\n",
      "2\n",
      "3\n",
      "1\n",
      "2\n",
      "3\n"
     ]
    }
   ],
   "source": [
    "# 다음 코드는 다 동일한 결과를 출력한다\n",
    "# \\n은 이스케이프 문자로 줄바꿈을 의마하는 문자다\n",
    "print('1','2','3',sep='\\n')\n",
    "\n",
    "print('1\\n2\\n3')\n",
    "\n",
    "print(1)\n",
    "print(2)\n",
    "print(3)"
   ]
  },
  {
   "cell_type": "markdown",
   "metadata": {},
   "source": [
    "### 변수 선언\n",
    "- '=' assign operator 사용\n",
    "- 변수명 = 값 형식으로 선언\n",
    "- 변수명 규칙존재\n",
    "    1. 대소문자 구분 \n",
    "    2. 영문자와 숫자 사용\n",
    "    3. 반드시 문자로 시작\n",
    "    4. 특수문자 사용 불가능\n",
    "    5. 허용되는 특수문자 '_' , '\\$'\n",
    "    6. 파이썬 키워드 예약어 사용 불가"
   ]
  },
  {
   "cell_type": "markdown",
   "metadata": {},
   "source": [
    "#### 변수명 사용 팁\n",
    "- 몇가지 정형화된 형식 존재\n",
    "    1. camelCase : 함수명 혹은 변수명\n",
    "    2. PascalCase : 클래스명\n",
    "    3. snake_case : 변수명"
   ]
  },
  {
   "cell_type": "code",
   "execution_count": 18,
   "metadata": {},
   "outputs": [
    {
     "name": "stdout",
     "output_type": "stream",
     "text": [
      "10\n"
     ]
    }
   ],
   "source": [
    "x=10\n",
    "print(x)"
   ]
  },
  {
   "cell_type": "markdown",
   "metadata": {},
   "source": [
    "#### 변수 여러개 동시 선언도 가능하다"
   ]
  },
  {
   "cell_type": "code",
   "execution_count": 21,
   "metadata": {},
   "outputs": [
    {
     "name": "stdout",
     "output_type": "stream",
     "text": [
      "1 a 3.2\n"
     ]
    }
   ],
   "source": [
    "x,y,z=1,'a',3.2 \n",
    "print(x,y,z)"
   ]
  },
  {
   "cell_type": "markdown",
   "metadata": {},
   "source": [
    "#### 변수의 값이 비어있을수도 있다"
   ]
  },
  {
   "cell_type": "code",
   "execution_count": 23,
   "metadata": {},
   "outputs": [
    {
     "name": "stdout",
     "output_type": "stream",
     "text": [
      "None\n"
     ]
    }
   ],
   "source": [
    "x = None\n",
    "print(x)"
   ]
  },
  {
   "cell_type": "markdown",
   "metadata": {},
   "source": [
    "### 변수의 타입을 알아보자\n",
    "- type함수 이용"
   ]
  },
  {
   "cell_type": "code",
   "execution_count": 25,
   "metadata": {},
   "outputs": [
    {
     "name": "stdout",
     "output_type": "stream",
     "text": [
      "<class 'int'> <class 'float'> <class 'str'>\n"
     ]
    }
   ],
   "source": [
    "a = 1\n",
    "b = 1.1\n",
    "c = 'a'\n",
    "print(type(a),type(b),type(c))"
   ]
  }
 ],
 "metadata": {
  "kernelspec": {
   "display_name": "Python 3",
   "language": "python",
   "name": "python3"
  },
  "language_info": {
   "codemirror_mode": {
    "name": "ipython",
    "version": 3
   },
   "file_extension": ".py",
   "mimetype": "text/x-python",
   "name": "python",
   "nbconvert_exporter": "python",
   "pygments_lexer": "ipython3",
   "version": "3.8.5"
  }
 },
 "nbformat": 4,
 "nbformat_minor": 4
}
