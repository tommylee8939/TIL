{
 "cells": [
  {
   "cell_type": "code",
   "execution_count": null,
   "metadata": {},
   "outputs": [],
   "source": [
    "# 파이썬 객체 기본\n",
    "# instance 변수 클래스 변수\n",
    "# classmethod \n"
   ]
  },
  {
   "cell_type": "code",
   "execution_count": 61,
   "metadata": {},
   "outputs": [
    {
     "name": "stdout",
     "output_type": "stream",
     "text": [
      "kanghee\n"
     ]
    }
   ],
   "source": [
    "# 파이썬 자바와 다르게 클래스 변수, 멤버 변수 다른 공간에 정의\n",
    "\n",
    "class Person(object):\n",
    "    name = 'default_name'\n",
    "    def __init__(self,name,job):\n",
    "        self.name = name\n",
    "        self.job =job\n",
    "    def personInfo(self):\n",
    "        return f'{self.name},{self.job}'\n",
    "\n",
    "# 다른 공간에 정의되기 때문에 가끔 같은 변수 이름을 동시에 사용하는 경우가 있는데 굉장히 바보같은 짓이다\n",
    "# 이렇게 되면 객체 선언후에 변수 우선순위에 의해 객체가 static 변수에 접근이 불가능하다\n",
    "person1 = Person('kanghee','student')\n",
    "print(person1.name) # 무조건 instance 변수 name만 접근 가능\n"
   ]
  },
  {
   "cell_type": "code",
   "execution_count": 71,
   "metadata": {},
   "outputs": [
    {
     "name": "stdout",
     "output_type": "stream",
     "text": [
      "11\n",
      "12\n",
      "4345604800 4345604800 4345604800\n",
      "12\n",
      "100\n",
      "200\n",
      "4345604800 4345607616 4345610816\n"
     ]
    }
   ],
   "source": [
    "class Person(object):\n",
    "    id = 10\n",
    "    def __init__(self,name,job):\n",
    "        Person.id+=1\n",
    "        self.name = name\n",
    "        self.job =job\n",
    "    def personInfo(self):\n",
    "        return f'{self.name},{self.job}'\n",
    "\n",
    "person1 = Person('kanghee','student')\n",
    "print(person1.id)\n",
    "person2 = Person('chulsoo','teacher')\n",
    "print(person2.id)\n",
    "print(id(Person.id),id(person1.id),id(person2.id))\n",
    "\n",
    "# 자바에서는 static 변수에 final 등의 제약이 없는이상 이렇게 수정이 가능했다\n",
    "# 파이썬에서는 객체로부터 접근할때 변수 우선순위\n",
    "# 즉 person1.id = 100은 person1의 인스턴스 변수를 추가하는거다\n",
    "# person1.anything = anything \n",
    "# 역으로 자바에서는 이런식으로 인스턴스 변수 추가 불가능\n",
    "\n",
    "person1.id = 100\n",
    "print(person1.id)\n",
    "person2.id = 200\n",
    "print(person2.id)\n",
    "\n",
    "print(id(Person.id),id(person1.id),id(person2.id)) # 다른 주소다"
   ]
  },
  {
   "cell_type": "code",
   "execution_count": 82,
   "metadata": {
    "scrolled": true
   },
   "outputs": [
    {
     "name": "stdout",
     "output_type": "stream",
     "text": [
      "Student class\n",
      "hello\n"
     ]
    }
   ],
   "source": [
    "#상속\n",
    "#기본적으로 클래스 변수, 클래스 메서드에는 바로 접근 가능\n",
    "#(student 클래스의 생성자만 불림)\n",
    "class Person(object):\n",
    "    \n",
    "    def __init__(self):\n",
    "        self.info = 'nothing'\n",
    "        print('Person class')\n",
    "        \n",
    "    @staticmethod\n",
    "    def sayhello():\n",
    "        print('hello')\n",
    "    \n",
    "class Student(Person):\n",
    "\n",
    "    def __init__(self):\n",
    "        print('Student class')\n",
    "\n",
    "student01 = Student() \n",
    "student01.sayhello()"
   ]
  },
  {
   "cell_type": "code",
   "execution_count": 84,
   "metadata": {},
   "outputs": [
    {
     "name": "stdout",
     "output_type": "stream",
     "text": [
      "Person class\n",
      "hello\n"
     ]
    }
   ],
   "source": [
    "#기본적으로 클래스 변수, 클래스 메서드에는 바로 접근 가능\n",
    "# Person class의 생성자만 불림)\n",
    "\n",
    "class Person(object):\n",
    "    \n",
    "    def __init__(self):\n",
    "        self.info = 'nothing'\n",
    "        print('Person class')\n",
    "        \n",
    "    @staticmethod\n",
    "    def sayhello():\n",
    "        print('hello')\n",
    "    \n",
    "class Student(Person):\n",
    "    pass\n",
    "\n",
    "student01 = Student() \n",
    "student01.sayhello()"
   ]
  },
  {
   "cell_type": "code",
   "execution_count": null,
   "metadata": {},
   "outputs": [],
   "source": [
    "#(student 클래스의 생성자만 불림)\n",
    "# Person class의 생성자만 불림)\n",
    "# 어찌됫던 #기본적으로 클래스 변수, 클래스 메서드에는 바로 접근 가능\n",
    "\n",
    "# 문제는 자바와 다르게 무조건적으로 superclass의 호출이 있어야 하는게 아니다\n",
    "# 자바에서는 자바에서는 상속시 자동으로 default 생성자가 call 된다. 만일 default 생성자가 \n",
    "# 없이 특정 생성자만 존재할시 직접 명시해 주어야 한다 ex) super(a,b)\n",
    "\n",
    "# 파이썬에서는 sub class의 생성자가 없을시 자동으로 super class의 생성자를 부른다\n",
    "# 그 외에 경우에는 자동으로 부르지 않는다"
   ]
  },
  {
   "cell_type": "code",
   "execution_count": 85,
   "metadata": {},
   "outputs": [
    {
     "name": "stdout",
     "output_type": "stream",
     "text": [
      "Student class\n"
     ]
    },
    {
     "ename": "AttributeError",
     "evalue": "'Student' object has no attribute 'info'",
     "output_type": "error",
     "traceback": [
      "\u001b[0;31m---------------------------------------------------------------------------\u001b[0m",
      "\u001b[0;31mAttributeError\u001b[0m                            Traceback (most recent call last)",
      "\u001b[0;32m<ipython-input-85-d5566ceb87ec>\u001b[0m in \u001b[0;36m<module>\u001b[0;34m\u001b[0m\n\u001b[1;32m     17\u001b[0m \u001b[0;34m\u001b[0m\u001b[0m\n\u001b[1;32m     18\u001b[0m \u001b[0mstudent01\u001b[0m \u001b[0;34m=\u001b[0m \u001b[0mStudent\u001b[0m\u001b[0;34m(\u001b[0m\u001b[0;34m)\u001b[0m\u001b[0;34m\u001b[0m\u001b[0;34m\u001b[0m\u001b[0m\n\u001b[0;32m---> 19\u001b[0;31m \u001b[0mprint\u001b[0m\u001b[0;34m(\u001b[0m\u001b[0mstudent01\u001b[0m\u001b[0;34m.\u001b[0m\u001b[0minfo\u001b[0m\u001b[0;34m)\u001b[0m\u001b[0;34m\u001b[0m\u001b[0;34m\u001b[0m\u001b[0m\n\u001b[0m",
      "\u001b[0;31mAttributeError\u001b[0m: 'Student' object has no attribute 'info'"
     ]
    }
   ],
   "source": [
    "# 상속\n",
    "# super 클래스의 insance 변수 혹은 instance method가\n",
    "# superclass의 생성자 호출이 안될시 문제가 발생할 수 있다\n",
    "\n",
    "# 자바에서도 superclass가 호출이 되야지 멤버변수 에 접근이 가능해진다\n",
    "# 자바도 static 값에는 superclass호출전에 접근 가능\n",
    "\n",
    "\n",
    "class Person(object):\n",
    "    def __init__(self):\n",
    "        self.info = 'nothing'\n",
    "        print('Person class')\n",
    "        \n",
    "    @staticmethod\n",
    "    def sayhello():\n",
    "        print('hello')\n",
    "    \n",
    "class Student(Person):\n",
    "\n",
    "    def __init__(self):\n",
    "        print('Student class')\n",
    "\n",
    "student01 = Student() \n",
    "print(student01.info)"
   ]
  },
  {
   "cell_type": "code",
   "execution_count": 91,
   "metadata": {},
   "outputs": [
    {
     "name": "stdout",
     "output_type": "stream",
     "text": [
      "Person class\n",
      "Student class\n",
      "nothing\n",
      "nothing\n"
     ]
    }
   ],
   "source": [
    "# 해결방법1\n",
    "class Person(object):\n",
    "    def __init__(self):\n",
    "        self.info = 'nothing'\n",
    "        print('Person class')\n",
    "        \n",
    "    @staticmethod\n",
    "    def sayhello():\n",
    "        print('hello')\n",
    "        \n",
    "    def printInfo(self):\n",
    "        print(self.info)\n",
    "        \n",
    "class Student(Person):\n",
    "\n",
    "    def __init__(self):\n",
    "        super().__init__()\n",
    "        print('Student class')\n",
    "\n",
    "student01 = Student() \n",
    "print(student01.info)\n",
    "student01.printInfo()"
   ]
  },
  {
   "cell_type": "code",
   "execution_count": 94,
   "metadata": {},
   "outputs": [
    {
     "name": "stdout",
     "output_type": "stream",
     "text": [
      "Student class\n",
      "nothing2\n",
      "nothing2\n"
     ]
    }
   ],
   "source": [
    "# 해결방법2\n",
    "class Person(object):\n",
    "    def __init__(self):\n",
    "        self.info = 'nothing'\n",
    "        print('Person class')\n",
    "        \n",
    "    @staticmethod\n",
    "    def sayhello():\n",
    "        print('hello')\n",
    "    \n",
    "    def printInfo(self):\n",
    "        print(self.info)\n",
    "    \n",
    "class Student(Person):\n",
    "\n",
    "    def __init__(self):\n",
    "        self.info = 'nothing2'\n",
    "        print('Student class')\n",
    "    \n",
    "    def printInfo(self):\n",
    "        super().printInfo()\n",
    "\n",
    "student01 = Student() \n",
    "print(student01.info)\n",
    "student01.printInfo()"
   ]
  },
  {
   "cell_type": "code",
   "execution_count": 74,
   "metadata": {},
   "outputs": [
    {
     "ename": "TypeError",
     "evalue": "__init__() missing 2 required positional arguments: 'name' and 'job'",
     "output_type": "error",
     "traceback": [
      "\u001b[0;31m---------------------------------------------------------------------------\u001b[0m",
      "\u001b[0;31mTypeError\u001b[0m                                 Traceback (most recent call last)",
      "\u001b[0;32m<ipython-input-74-68b534c418b1>\u001b[0m in \u001b[0;36m<module>\u001b[0;34m\u001b[0m\n\u001b[1;32m     16\u001b[0m     \u001b[0;32mpass\u001b[0m\u001b[0;34m\u001b[0m\u001b[0;34m\u001b[0m\u001b[0m\n\u001b[1;32m     17\u001b[0m \u001b[0;34m\u001b[0m\u001b[0m\n\u001b[0;32m---> 18\u001b[0;31m \u001b[0mstudent01\u001b[0m \u001b[0;34m=\u001b[0m \u001b[0mStudent\u001b[0m\u001b[0;34m(\u001b[0m\u001b[0;34m)\u001b[0m\u001b[0;34m\u001b[0m\u001b[0;34m\u001b[0m\u001b[0m\n\u001b[0m\u001b[1;32m     19\u001b[0m \u001b[0;34m\u001b[0m\u001b[0m\n\u001b[1;32m     20\u001b[0m \u001b[0;34m\u001b[0m\u001b[0m\n",
      "\u001b[0;31mTypeError\u001b[0m: __init__() missing 2 required positional arguments: 'name' and 'job'"
     ]
    }
   ],
   "source": [
    "# 상속\n",
    "class Person(object):\n",
    "    \n",
    "    def __init__(self,name,job):\n",
    "        self.name = name\n",
    "        self.job =job\n",
    "        \n",
    "    @staticmethod\n",
    "    def sayhello():\n",
    "        print('hello')\n",
    "        \n",
    "    def personInfo(self):\n",
    "        return f'{self.name},{self.job}'\n",
    "    \n",
    "class Student(Person):\n",
    "    pass\n",
    "\n",
    "student01 = Student() \n",
    "    \n",
    "    "
   ]
  },
  {
   "cell_type": "code",
   "execution_count": null,
   "metadata": {},
   "outputs": [],
   "source": [
    "class Parent(object):\n",
    "    def __init__(self,name,job):\n",
    "        self.name = name\n",
    "        self.job =job\n",
    "        print('super class')\n",
    "    def display(self):\n",
    "        return f'{self.name},{self.job}'\n",
    "\n",
    "\n",
    "class Child01(Parent):\n",
    "    def __init__(self,name,job,age):  # 자동으로 상위클래스 생성자 호출이 안된다\n",
    "        super().__init__(name,job)    # 자바랑 다르게 super() 자체가 consturctor 역할 하지 않는다\n",
    "        self.age = age\n",
    "\n",
    "    def display(self):\n",
    "        return super().display() + f',{self.age}'\n",
    "\n",
    "class Child02(Parent):\n",
    "    def __init__(self,name,job,age):\n",
    "        self.name = name             # 이렇게 만들면 상속 하는 의미가 없다 다 Child02 클래스에 name age 생긴다\n",
    "        self.job = job\n",
    "        self.age = age\n",
    "        print('sub class')\n",
    "    def display(self):\n",
    "        return super().display() + f',{self.age}'"
   ]
  },
  {
   "cell_type": "code",
   "execution_count": 12,
   "metadata": {},
   "outputs": [
    {
     "name": "stdout",
     "output_type": "stream",
     "text": [
      "Parent01 constructor\n",
      "seoul\n",
      "seoul\n"
     ]
    }
   ],
   "source": [
    "class Parent(object):\n",
    "    address = 'seoul'\n",
    "    def __init__(self):\n",
    "        print('Parent01 constructor')\n",
    "    @classmethod\n",
    "    def display(cls):\n",
    "        print(cls.address)\n",
    "    \n",
    "\n",
    "class Child01(Parent):\n",
    "    pass\n",
    "    \n",
    "# super 클래스의 클래스 변수와 클래스 메소드에는     \n",
    "a = Child01()\n",
    "print(a.address)\n",
    "a.display()"
   ]
  },
  {
   "cell_type": "code",
   "execution_count": 16,
   "metadata": {},
   "outputs": [
    {
     "name": "stdout",
     "output_type": "stream",
     "text": [
      "child01 constructor\n",
      "seoul\n",
      "seoul\n"
     ]
    }
   ],
   "source": [
    "class Parent(object):\n",
    "    address = 'seoul'\n",
    "    def __init__(self):\n",
    "        print('Parent01 constructor')\n",
    "    @classmethod\n",
    "    def display(cls):\n",
    "        print(cls.address)\n",
    "\n",
    "\n",
    "class Child01(Parent):\n",
    "    def __init__(self):\n",
    "        print('child01 constructor')\n",
    "        \n",
    "a = Child01()\n",
    "print(a.address)\n",
    "a.display()"
   ]
  },
  {
   "cell_type": "code",
   "execution_count": 53,
   "metadata": {},
   "outputs": [
    {
     "name": "stdout",
     "output_type": "stream",
     "text": [
      "child01 constructor\n",
      "1002\n",
      "1002\n",
      "1002\n",
      "Parent01 constructor\n",
      "1001\n"
     ]
    }
   ],
   "source": [
    "class Parent(object):\n",
    "    id = 1000\n",
    "    def __init__(self):\n",
    "        print('Parent01 constructor')\n",
    "    @classmethod\n",
    "    def display(cls):\n",
    "        print(cls.id)\n",
    "\n",
    "\n",
    "class Child01(Parent):\n",
    "    id = 1002\n",
    "    def __init__(self):\n",
    "        Parent.id+=1\n",
    "        print('child01 constructor')\n",
    "    \n",
    "    @classmethod\n",
    "    def printSuperStatic(cls):\n",
    "        print(cls.id)\n",
    "        \n",
    "a = Child01()\n",
    "\n",
    "print(a.id) # cls 접근이다\n",
    "a.display()    \n",
    "a.printSuperStatic()\n",
    "\n",
    "b = Parent()\n",
    "b.display()"
   ]
  },
  {
   "cell_type": "code",
   "execution_count": 54,
   "metadata": {},
   "outputs": [
    {
     "name": "stdout",
     "output_type": "stream",
     "text": [
      "child01 constructor\n",
      "1001\n",
      "1001\n",
      "1001\n",
      "Parent01 constructor\n",
      "1001\n"
     ]
    }
   ],
   "source": [
    "class Parent(object):\n",
    "    id = 1000\n",
    "    def __init__(self):\n",
    "        print('Parent01 constructor')\n",
    "    @classmethod\n",
    "    def display(cls):\n",
    "        print(cls.id)\n",
    "\n",
    "\n",
    "class Child01(Parent):\n",
    "    def __init__(self):\n",
    "        Parent.id+=1\n",
    "        print('child01 constructor')\n",
    "    @classmethod\n",
    "    def printSuperStatic(cls):\n",
    "        print(cls.id)\n",
    "        \n",
    "a = Child01()\n",
    "\n",
    "print(a.id) # cls 접근이다\n",
    "a.display()    \n",
    "a.printSuperStatic()\n",
    "\n",
    "b = Parent()\n",
    "b.display()"
   ]
  },
  {
   "cell_type": "code",
   "execution_count": 23,
   "metadata": {},
   "outputs": [
    {
     "name": "stdout",
     "output_type": "stream",
     "text": [
      "child01 constructor\n"
     ]
    },
    {
     "ename": "AttributeError",
     "evalue": "'Child01' object has no attribute 'name'",
     "output_type": "error",
     "traceback": [
      "\u001b[0;31m---------------------------------------------------------------------------\u001b[0m",
      "\u001b[0;31mAttributeError\u001b[0m                            Traceback (most recent call last)",
      "\u001b[0;32m<ipython-input-23-27dc7e76cd33>\u001b[0m in \u001b[0;36m<module>\u001b[0;34m\u001b[0m\n\u001b[1;32m     20\u001b[0m \u001b[0;34m\u001b[0m\u001b[0m\n\u001b[1;32m     21\u001b[0m \u001b[0ma\u001b[0m \u001b[0;34m=\u001b[0m \u001b[0mChild01\u001b[0m\u001b[0;34m(\u001b[0m\u001b[0;34m)\u001b[0m\u001b[0;34m\u001b[0m\u001b[0;34m\u001b[0m\u001b[0m\n\u001b[0;32m---> 22\u001b[0;31m \u001b[0ma\u001b[0m\u001b[0;34m.\u001b[0m\u001b[0msayhello\u001b[0m\u001b[0;34m(\u001b[0m\u001b[0;34m)\u001b[0m\u001b[0;34m\u001b[0m\u001b[0;34m\u001b[0m\u001b[0m\n\u001b[0m",
      "\u001b[0;32m<ipython-input-23-27dc7e76cd33>\u001b[0m in \u001b[0;36msayhello\u001b[0;34m(self)\u001b[0m\n\u001b[1;32m      7\u001b[0m     \u001b[0;32mdef\u001b[0m \u001b[0msayhello\u001b[0m\u001b[0;34m(\u001b[0m\u001b[0mself\u001b[0m\u001b[0;34m)\u001b[0m\u001b[0;34m:\u001b[0m\u001b[0;34m\u001b[0m\u001b[0;34m\u001b[0m\u001b[0m\n\u001b[1;32m      8\u001b[0m         \u001b[0mself\u001b[0m\u001b[0;34m.\u001b[0m\u001b[0mhello\u001b[0m \u001b[0;34m=\u001b[0m \u001b[0;34m'hello'\u001b[0m\u001b[0;34m\u001b[0m\u001b[0;34m\u001b[0m\u001b[0m\n\u001b[0;32m----> 9\u001b[0;31m         \u001b[0mprint\u001b[0m\u001b[0;34m(\u001b[0m\u001b[0mself\u001b[0m\u001b[0;34m.\u001b[0m\u001b[0mhello\u001b[0m\u001b[0;34m,\u001b[0m\u001b[0mself\u001b[0m\u001b[0;34m.\u001b[0m\u001b[0mname\u001b[0m\u001b[0;34m)\u001b[0m\u001b[0;34m\u001b[0m\u001b[0;34m\u001b[0m\u001b[0m\n\u001b[0m\u001b[1;32m     10\u001b[0m \u001b[0;34m\u001b[0m\u001b[0m\n\u001b[1;32m     11\u001b[0m     \u001b[0;34m@\u001b[0m\u001b[0mclassmethod\u001b[0m\u001b[0;34m\u001b[0m\u001b[0;34m\u001b[0m\u001b[0m\n",
      "\u001b[0;31mAttributeError\u001b[0m: 'Child01' object has no attribute 'name'"
     ]
    }
   ],
   "source": [
    "class Parent(object):\n",
    "    address = 'seoul'\n",
    "    def __init__(self,name):\n",
    "        self.name = name\n",
    "        print('Parent01 constructor')\n",
    "        \n",
    "    def sayhello(self):\n",
    "        self.hello = 'hello'\n",
    "        print(self.hello,self.name)\n",
    "        \n",
    "    @classmethod\n",
    "    def display(cls):\n",
    "        print(cls.address)\n",
    "\n",
    "\n",
    "class Child01(Parent):\n",
    "    address = 'daegue'\n",
    "    def __init__(self):\n",
    "        print('child01 constructor')\n",
    "        \n",
    "a = Child01()\n",
    "a.sayhello()"
   ]
  },
  {
   "cell_type": "code",
   "execution_count": 27,
   "metadata": {},
   "outputs": [
    {
     "name": "stdout",
     "output_type": "stream",
     "text": [
      "Parent01 constructor\n",
      "child01 constructor\n",
      "seoul\n",
      "hello kanghee\n"
     ]
    }
   ],
   "source": [
    "class Parent(object):\n",
    "    address = 'seoul'\n",
    "    def __init__(self,name,job):\n",
    "        self.name = name\n",
    "        self.job = job\n",
    "        print('Parent01 constructor')\n",
    "        \n",
    "    def sayhello(self):\n",
    "        self.hello = 'hello'\n",
    "        print(self.hello,self.name)\n",
    "        \n",
    "    @classmethod\n",
    "    def display(cls):\n",
    "        print(cls.address)\n",
    "\n",
    "\n",
    "class Child01(Parent):\n",
    "    def __init__(self,name):\n",
    "        super().__init__(name,job='student') #istance 변수중에 바꾸고싶은것도 분명히 있다 \n",
    "        print('child01 constructor')\n",
    "        \n",
    "a = Child01('kanghee')\n",
    "print(a.address)\n",
    "a.sayhello()"
   ]
  },
  {
   "cell_type": "code",
   "execution_count": 31,
   "metadata": {},
   "outputs": [
    {
     "name": "stdout",
     "output_type": "stream",
     "text": [
      "Parent01 constructor\n",
      "child01 constructor\n",
      "1001\n",
      "Parent01 constructor\n",
      "child01 constructor\n",
      "1002\n"
     ]
    }
   ],
   "source": [
    "class Parent(object):\n",
    "    id = 1000\n",
    "    def __init__(self,name,job):\n",
    "        Parent.id+=1\n",
    "        self.id = Parent.id\n",
    "        self.name = name\n",
    "        self.job = job\n",
    "        print('Parent01 constructor')\n",
    "        \n",
    "class Child01(Parent):\n",
    "    def __init__(self,name):\n",
    "        super().__init__(name,job='student') #istance 변수중에 바꾸고싶은것도 분명히 있다 \n",
    "        print('child01 constructor')\n",
    "        \n",
    "a = Child01('kanghee')\n",
    "print(a.id)\n",
    "\n",
    "b = Child01('chulsoo')\n",
    "print(b.id)"
   ]
  },
  {
   "cell_type": "code",
   "execution_count": 32,
   "metadata": {},
   "outputs": [
    {
     "name": "stdout",
     "output_type": "stream",
     "text": [
      "child01 constructor\n",
      "kanghee student\n"
     ]
    }
   ],
   "source": [
    "class Parent(object):\n",
    "    id = 1000\n",
    "    def __init__(self,name,job):\n",
    "        Parent.id+=1\n",
    "        self.id = Parent.id\n",
    "        self.name = name\n",
    "        self.job = job\n",
    "        print('Parent01 constructor')\n",
    "    def display(self):\n",
    "        print(self.name,self.job)\n",
    "        \n",
    "class Child01(Parent):\n",
    "    def __init__(self):\n",
    "        self.name = 'kanghee'\n",
    "        self.job = 'student'\n",
    "        print('child01 constructor')\n",
    "        \n",
    "        \n",
    "a = Child01()\n",
    "a.display()"
   ]
  }
 ],
 "metadata": {
  "kernelspec": {
   "display_name": "Python 3",
   "language": "python",
   "name": "python3"
  },
  "language_info": {
   "codemirror_mode": {
    "name": "ipython",
    "version": 3
   },
   "file_extension": ".py",
   "mimetype": "text/x-python",
   "name": "python",
   "nbconvert_exporter": "python",
   "pygments_lexer": "ipython3",
   "version": "3.8.5"
  }
 },
 "nbformat": 4,
 "nbformat_minor": 4
}
