{
 "cells": [
  {
   "cell_type": "markdown",
   "metadata": {},
   "source": [
    "## Python08; function, lambda, module"
   ]
  },
  {
   "cell_type": "markdown",
   "metadata": {},
   "source": [
    "### 📎function\n",
    "- def 함수명():\n",
    "- 인자가 반드시 있어야 되는건 아니다\n",
    "- interpreter 언이이기 때문에 line by line 실행 된다 따라서 미리 함수가 선언되어있어야함\n",
    "- 아니면 import 하면 된다"
   ]
  },
  {
   "cell_type": "code",
   "execution_count": 1,
   "metadata": {},
   "outputs": [
    {
     "name": "stdout",
     "output_type": "stream",
     "text": [
      "Hello python\n"
     ]
    }
   ],
   "source": [
    "def hello():\n",
    "    print('Hello python')\n",
    "    \n",
    "hello()"
   ]
  },
  {
   "cell_type": "code",
   "execution_count": 3,
   "metadata": {},
   "outputs": [],
   "source": [
    "def add(a,b):\n",
    "    a+b\n",
    "    \n",
    "add(1,3) # 아무일도 일어나지 않는다"
   ]
  },
  {
   "cell_type": "code",
   "execution_count": 4,
   "metadata": {},
   "outputs": [
    {
     "name": "stdout",
     "output_type": "stream",
     "text": [
      "4\n"
     ]
    }
   ],
   "source": [
    "def add(a,b):\n",
    "    print(a+b)\n",
    "    \n",
    "add(1,3)"
   ]
  },
  {
   "cell_type": "code",
   "execution_count": 5,
   "metadata": {},
   "outputs": [
    {
     "name": "stdout",
     "output_type": "stream",
     "text": [
      "4\n"
     ]
    }
   ],
   "source": [
    "# return : 결과를 반환하기\n",
    "def add(a,b):\n",
    "    return a+b\n",
    "    \n",
    "result = add(1,3)\n",
    "print(result)"
   ]
  },
  {
   "cell_type": "markdown",
   "metadata": {},
   "source": [
    "#### ⭐️매개변수에 초기값 설정할수 있다\n",
    "- 초기값이 설정되어있는 매개변수는 인자가 들어오지 않으면 초기값이 자동으로 사용된다\n",
    "- 초기값이 있더라도 값이 들어오면 해당 값이 전달된다\n",
    "- 주의할 점은 함수 선언시 초기값이 있는 매개변수는 맨 뒤로 가야된다"
   ]
  },
  {
   "cell_type": "code",
   "execution_count": 23,
   "metadata": {},
   "outputs": [
    {
     "name": "stdout",
     "output_type": "stream",
     "text": [
      "kanghee 25 Seoul\n",
      "kanghee seoul Seoul\n"
     ]
    }
   ],
   "source": [
    "def info(name,age,address = 'Seoul'):\n",
    "    print(name,age,address)\n",
    "    \n",
    "info('kanghee',25)\n",
    "info('kanghee','seoul')"
   ]
  },
  {
   "cell_type": "code",
   "execution_count": 25,
   "metadata": {},
   "outputs": [
    {
     "ename": "SyntaxError",
     "evalue": "non-default argument follows default argument (<ipython-input-25-b3b5707cdf45>, line 2)",
     "output_type": "error",
     "traceback": [
      "\u001b[0;36m  File \u001b[0;32m\"<ipython-input-25-b3b5707cdf45>\"\u001b[0;36m, line \u001b[0;32m2\u001b[0m\n\u001b[0;31m    def info(address = 'Seoul',name,age):\u001b[0m\n\u001b[0m             ^\u001b[0m\n\u001b[0;31mSyntaxError\u001b[0m\u001b[0;31m:\u001b[0m non-default argument follows default argument\n"
     ]
    }
   ],
   "source": [
    "# 에러 초기값 설정된 매개변수는 뒤로 가야된다\n",
    "def info(address = 'Seoul',name,age):\n",
    "    print(name,age,address)"
   ]
  },
  {
   "cell_type": "markdown",
   "metadata": {},
   "source": [
    "#### ⭐️return 값 여러개 받기"
   ]
  },
  {
   "cell_type": "code",
   "execution_count": 9,
   "metadata": {},
   "outputs": [
    {
     "name": "stdout",
     "output_type": "stream",
     "text": [
      "21 9 90 2.5\n"
     ]
    }
   ],
   "source": [
    "def four_fundemental(a,b):\n",
    "    return a+b,a-b,a*b,a/b # 자동으로 tuple로 인식\n",
    "\n",
    "a,b,c,d = four_fundemental(15,6)\n",
    "print(a,b,c,d)"
   ]
  },
  {
   "cell_type": "markdown",
   "metadata": {},
   "source": [
    "### 📎가변인자\n",
    "- 파이썬의 내장된 print 함수를 보면 인자를 가변적으로 받는다\n",
    "\n",
    "- def 함수명(*인자이름) 형식상 *args를 주로 사용\n",
    "- 함수를 정의할때 *args 인자는 함수 내에서 튜플로 인식된다\n",
    "- \\*\\*를 활용한 키워드 가변 인자도 가능하다 def 함수명(\\*\\*kwargs)\n",
    "- 함수를 정의할때 \\*\\*kwargs는 함수 내에서 딕셔너리로 인식된다"
   ]
  },
  {
   "cell_type": "code",
   "execution_count": 29,
   "metadata": {},
   "outputs": [
    {
     "name": "stdout",
     "output_type": "stream",
     "text": [
      "1 2 2 3 \n",
      "1 \n",
      "\n"
     ]
    }
   ],
   "source": [
    "# 주로 형식상 arg, arguments의 줄인말을 사용한다\n",
    "def my_print(*args):\n",
    "    for arg in args:\n",
    "        print(arg,end=' ')\n",
    "    print()\n",
    "    \n",
    "my_print(1,2,2,3)\n",
    "my_print(1)\n",
    "my_print()"
   ]
  },
  {
   "cell_type": "code",
   "execution_count": 34,
   "metadata": {},
   "outputs": [
    {
     "name": "stdout",
     "output_type": "stream",
     "text": [
      "This is fixed 1 and 2 2 3 \n",
      "This is fixed 1 and (2, 2, 3) \n",
      "This is fixed 1 and \n"
     ]
    }
   ],
   "source": [
    "# 가변인자와 고정인자를 함께 사용할수있나? => 가능하다\n",
    "# 가변인자는 고정인자보다 뒤에 와야한다\n",
    "def my_print(fixed,*args):\n",
    "    print(f'This is fixed {fixed} ',end='and ')\n",
    "    for arg in args:\n",
    "        print(arg,end=' ')\n",
    "    print()\n",
    "\n",
    "my_print(1,2,2,3)\n",
    "my_print(1,(2,2,3)) #(2,2,3)을 하나의 인자로 인식한다\n",
    "my_print(1)\n"
   ]
  },
  {
   "cell_type": "code",
   "execution_count": 38,
   "metadata": {},
   "outputs": [
    {
     "name": "stdout",
     "output_type": "stream",
     "text": [
      "{'a': 1, 'b': 2, 'c': 30, 'd': 40}\n"
     ]
    }
   ],
   "source": [
    "# 예시로 dict에서 update함수가 대표적인 키워드 가변인자 사용한 예이다\n",
    "dict01 = {'a':1,'b':2,'c':3}\n",
    "dict01.update(c=30,d=40)    # 이때 키값이 c d는 무조건 문자열로 사용되는거다\n",
    "print(dict01)"
   ]
  },
  {
   "cell_type": "code",
   "execution_count": 42,
   "metadata": {},
   "outputs": [
    {
     "name": "stdout",
     "output_type": "stream",
     "text": [
      "key : name, value : kanghee\n",
      "key : address, value : seoul\n",
      "key : phone, value : 9191919\n"
     ]
    }
   ],
   "source": [
    "def my_print(**kwargs):\n",
    "    for key,value in kwargs.items():\n",
    "        print(f'key : {key}, value : {value}')\n",
    "        \n",
    "my_print(name = 'kanghee',address='seoul',phone=9191919)"
   ]
  },
  {
   "cell_type": "markdown",
   "metadata": {},
   "source": [
    "### 📎함수의 인자를 넣는 방식"
   ]
  },
  {
   "cell_type": "markdown",
   "metadata": {},
   "source": [
    "#### ⭐️ 1.위치 인수로 인수를 넣는 방식\n",
    "- 함수에 인수를 순서대로 넣는 방식\n",
    "- 순서가 달라지면 당연히 결과값이 달라질수 있다"
   ]
  },
  {
   "cell_type": "code",
   "execution_count": 12,
   "metadata": {},
   "outputs": [
    {
     "name": "stdout",
     "output_type": "stream",
     "text": [
      "1 다음 2 다음 3\n",
      "2 다음 1 다음 3\n"
     ]
    }
   ],
   "source": [
    "def my_print(a,b,c):\n",
    "    print(a,b,c,sep=' 다음 ')\n",
    "\n",
    "my_print(1,2,3)\n",
    "my_print(2,1,3)"
   ]
  },
  {
   "cell_type": "markdown",
   "metadata": {},
   "source": [
    "#### ⭐️ 2.unpakcing 활용하여 인수를 넣는 방식\n",
    "- 결과적으로는 위치 인수로 인자가 들어간다\n",
    "- iterable 객체 unpakcing 해서 인자로 사용하는 방식이다\n",
    "- 인자앞에 * 사용"
   ]
  },
  {
   "cell_type": "code",
   "execution_count": 17,
   "metadata": {},
   "outputs": [
    {
     "name": "stdout",
     "output_type": "stream",
     "text": [
      "0 다음 1 다음 2\n",
      "10 다음 9 다음 2\n",
      "a 다음 b 다음 c\n"
     ]
    }
   ],
   "source": [
    "def my_print(a,b,c):\n",
    "    print(a,b,c,sep=' 다음 ')\n",
    "    \n",
    "args = range(3)\n",
    "my_print(*args)\n",
    "\n",
    "args = [10,9,2]\n",
    "my_print(*args)\n",
    "\n",
    "my_print(*{'a':None,'b':None,'c':None})"
   ]
  },
  {
   "cell_type": "markdown",
   "metadata": {},
   "source": [
    "#### ⭐️ 3.keyword를 사용하여 인수를 넣는 방식\n",
    "- 인자의 순서가 의미가 없어진다\n",
    "- 키워드 순서에 맞게 알아서 정렬된다"
   ]
  },
  {
   "cell_type": "code",
   "execution_count": 18,
   "metadata": {},
   "outputs": [
    {
     "name": "stdout",
     "output_type": "stream",
     "text": [
      "1 다음 2 다음 3\n"
     ]
    }
   ],
   "source": [
    "def my_print(a,b,c):\n",
    "    print(a,b,c,sep=' 다음 ')\n",
    "    \n",
    "my_print(b=2,c=3,a=1)\n"
   ]
  },
  {
   "cell_type": "markdown",
   "metadata": {},
   "source": [
    "### 📎Scope\n",
    "- 지역변수 vs 전역변수 => 같은 이름이라도 다른변수다\n",
    "- 바깥족 함수의 지역변수는 그 안에 속한 모든 함수에서 접근할수 있다"
   ]
  },
  {
   "cell_type": "markdown",
   "metadata": {},
   "source": [
    "#### 지역변수 vs 전역변수 "
   ]
  },
  {
   "cell_type": "code",
   "execution_count": 20,
   "metadata": {},
   "outputs": [
    {
     "name": "stdout",
     "output_type": "stream",
     "text": [
      "5\n",
      "10\n"
     ]
    }
   ],
   "source": [
    "# 전역변수 vs 지역 변수\n",
    "x = 10\n",
    "def myFunc():\n",
    "    x = 5\n",
    "    print(x)\n",
    "    \n",
    "myFunc() \n",
    "print(x)\n",
    "\n",
    "# 결과적으로 함수밖에 x와 함수안에 x는 다른 변수인거다"
   ]
  },
  {
   "cell_type": "code",
   "execution_count": 15,
   "metadata": {},
   "outputs": [
    {
     "name": "stdout",
     "output_type": "stream",
     "text": [
      "5\n",
      "5\n"
     ]
    }
   ],
   "source": [
    "# global \n",
    "x = 10\n",
    "def myFunc():\n",
    "    global x\n",
    "    x = 5\n",
    "    print(x)\n",
    "    \n",
    "myFunc() \n",
    "print(x)"
   ]
  },
  {
   "cell_type": "markdown",
   "metadata": {},
   "source": [
    "#### 바깥족 함수의 지역변수는 그 안에 속한 모든 함수에서 접근할수 있다"
   ]
  },
  {
   "cell_type": "code",
   "execution_count": 22,
   "metadata": {},
   "outputs": [
    {
     "name": "stdout",
     "output_type": "stream",
     "text": [
      "10\n"
     ]
    }
   ],
   "source": [
    "# 함수 안에 함수 사용시\n",
    "def myFunc():\n",
    "    x = 10\n",
    "    def myInnerFunc():\n",
    "        print(x)\n",
    "    myInnerFunc()\n",
    "    \n",
    "\n",
    "myFunc() # inner 함수안에서는 myFunc에 정의된 변수 접근 가능하다\n"
   ]
  },
  {
   "cell_type": "code",
   "execution_count": 24,
   "metadata": {},
   "outputs": [
    {
     "name": "stdout",
     "output_type": "stream",
     "text": [
      "5\n",
      "10\n"
     ]
    }
   ],
   "source": [
    "# inner 함수안에서는 myFunc에 정의된 변수 접근 가능하다\n",
    "# 하지만 여전히 myInnerFunc() 안에 x를 정의하면 지역변수다\n",
    "def myFunc():\n",
    "    x = 10\n",
    "    def myInnerFunc():\n",
    "        x= 5\n",
    "        print(x)\n",
    "    myInnerFunc()\n",
    "    print(x)\n",
    "\n",
    "myFunc()"
   ]
  },
  {
   "cell_type": "code",
   "execution_count": 25,
   "metadata": {},
   "outputs": [
    {
     "name": "stdout",
     "output_type": "stream",
     "text": [
      "5\n",
      "5\n"
     ]
    }
   ],
   "source": [
    "# inner 함수안에서는 myFunc에 정의된 변수 접근 가능하다\n",
    "# 하지만 여전히 myInnerFunc() 안에 x를 정의하면 지역변수다\n",
    "# nolocal 지역변수 을 통해 이를 해결가능\n",
    "def myFunc():\n",
    "    x = 10\n",
    "    def myInnerFunc():\n",
    "        nonlocal x\n",
    "        x = 5\n",
    "        print(x)\n",
    "    myInnerFunc()\n",
    "    print(x)\n",
    "\n",
    "myFunc()"
   ]
  },
  {
   "cell_type": "markdown",
   "metadata": {},
   "source": [
    "#### ⭐️ inner 함수가 여러개일때\n",
    "- A 함수 안에 B함수, B함수 안에 C함수\n",
    "- A 안에서 직접적으로 C호출 불가능, B에만 C호출 가능"
   ]
  },
  {
   "cell_type": "code",
   "execution_count": 31,
   "metadata": {},
   "outputs": [
    {
     "name": "stdout",
     "output_type": "stream",
     "text": [
      "funciton A\n",
      "function C\n",
      "function C\n"
     ]
    }
   ],
   "source": [
    "def A():\n",
    "    print('funciton A')\n",
    "    def B():\n",
    "        print('function C')\n",
    "        def C():\n",
    "            print('function C')\n",
    "        C()\n",
    "    B()\n",
    "A()"
   ]
  },
  {
   "cell_type": "code",
   "execution_count": 34,
   "metadata": {},
   "outputs": [
    {
     "name": "stdout",
     "output_type": "stream",
     "text": [
      "10 10\n",
      "10 12\n",
      "10 12\n"
     ]
    }
   ],
   "source": [
    "# nonlocal 변수를 찾는 순서\n",
    "# 가장 가까운 함수부터\n",
    "def myFunc():\n",
    "    x = 10\n",
    "    y = 10\n",
    "    print(x,y)\n",
    "    def myInner1Func():\n",
    "        y = 12\n",
    "        print(x,y)\n",
    "        def myInner2Func():\n",
    "            nonlocal x\n",
    "            nonlocal y\n",
    "            print(x,y)\n",
    "            \n",
    "        myInner2Func()\n",
    "    myInner1Func()\n",
    "myFunc()"
   ]
  },
  {
   "cell_type": "markdown",
   "metadata": {},
   "source": [
    "### 📎closer\n",
    "- 함수 전체의 환경을 의미한다\n",
    "- 함수 전체의 환경을 담아두었다가 꺼내서 쓸수 있다"
   ]
  },
  {
   "cell_type": "code",
   "execution_count": 47,
   "metadata": {},
   "outputs": [
    {
     "name": "stdout",
     "output_type": "stream",
     "text": [
      "11\n"
     ]
    }
   ],
   "source": [
    "def calc():\n",
    "    a = 3\n",
    "    b = 5\n",
    "    def mul_add(x):\n",
    "        return a*x+b\n",
    "    return mul_add\n",
    "\n",
    "c = calc()  # c = calc와 다르다 => 이건 이름만 바꾸는 느낌\n",
    "\n",
    "print(c(2)) # a = 3 b= 5가 저장되어있다\n",
    "\n",
    "# 함수의 이름이 아닌(calc), 함수 전체의 환경(calc())를 c에 담아두는거다\n",
    "# 이때 c에 저자된 함수가 클로저다"
   ]
  },
  {
   "cell_type": "code",
   "execution_count": 49,
   "metadata": {},
   "outputs": [
    {
     "name": "stdout",
     "output_type": "stream",
     "text": [
      "5\n"
     ]
    }
   ],
   "source": [
    "def calc(a,b):\n",
    "    a = a\n",
    "    b = b\n",
    "    def mul_add(x):\n",
    "        return a*x+b\n",
    "    return mul_add\n",
    "\n",
    "c = calc(1,3)\n",
    "print(c(2))\n"
   ]
  },
  {
   "cell_type": "markdown",
   "metadata": {},
   "source": [
    "### 📎lambda expression\n",
    "- lambda 인자 : 구현부"
   ]
  },
  {
   "cell_type": "code",
   "execution_count": 44,
   "metadata": {},
   "outputs": [
    {
     "name": "stdout",
     "output_type": "stream",
     "text": [
      "4\n"
     ]
    }
   ],
   "source": [
    "testFunc = lambda x : x**2\n",
    "print(testFunc(2))"
   ]
  },
  {
   "cell_type": "code",
   "execution_count": 46,
   "metadata": {},
   "outputs": [
    {
     "data": {
      "text/plain": [
       "4"
      ]
     },
     "execution_count": 46,
     "metadata": {},
     "output_type": "execute_result"
    }
   ],
   "source": [
    "# 바로 사용도 가능하다\n",
    "(lambda x : x**2)(2)"
   ]
  },
  {
   "cell_type": "code",
   "execution_count": 4,
   "metadata": {},
   "outputs": [
    {
     "ename": "SyntaxError",
     "evalue": "invalid syntax (<ipython-input-4-daafc36682be>, line 7)",
     "output_type": "error",
     "traceback": [
      "\u001b[0;36m  File \u001b[0;32m\"<ipython-input-4-daafc36682be>\"\u001b[0;36m, line \u001b[0;32m7\u001b[0m\n\u001b[0;31m    list(map(lambda x: 'even' if x%2==0,a)) # 에러 난다\u001b[0m\n\u001b[0m                                       ^\u001b[0m\n\u001b[0;31mSyntaxError\u001b[0m\u001b[0;31m:\u001b[0m invalid syntax\n"
     ]
    }
   ],
   "source": [
    "# lambda안에 조건문 사용하기\n",
    "# 반드시 if else 형식이어야 한다 3항 연산자 식으로 들어가야한다\n",
    "a = list(range(1,11))\n",
    "result = list(map(lambda x: 'even' if x%2==0 else 'odd',a))\n",
    "print(result )\n",
    "\n",
    "list(map(lambda x: 'even' if x%2==0,a)) # 에러 난다"
   ]
  },
  {
   "cell_type": "code",
   "execution_count": 7,
   "metadata": {},
   "outputs": [
    {
     "name": "stdout",
     "output_type": "stream",
     "text": [
      "['나머지1', '나머지2', '나머지0', '나머지1', '나머지2', '나머지0', '나머지1', '나머지2', '나머지0', '나머지1']\n"
     ]
    }
   ],
   "source": [
    "# 조건이 여러개일때\n",
    "# if else (if else) \n",
    "# 3으로 나눈 나머지 표현\n",
    "a = list(range(1,11))\n",
    "result = list(map(lambda x: '나머지0' if x%3==0 else '나머지1' if x%3==1 else '나머지2',a))\n",
    "print(result )"
   ]
  },
  {
   "cell_type": "markdown",
   "metadata": {},
   "source": [
    "### 📎Interpreter 언어의 특징\n",
    "- 함수 자체를 인자로 사용 가능하다\n",
    "- 함수 자체를 변수에 담을수 있다"
   ]
  },
  {
   "cell_type": "code",
   "execution_count": 50,
   "metadata": {},
   "outputs": [
    {
     "name": "stdout",
     "output_type": "stream",
     "text": [
      "100\n"
     ]
    }
   ],
   "source": [
    "def my_print(a,func):\n",
    "    print(func(a))\n",
    "    \n",
    "def my_square(a):\n",
    "    return a**2\n",
    "\n",
    "my_print(10,my_square)"
   ]
  },
  {
   "cell_type": "code",
   "execution_count": 51,
   "metadata": {},
   "outputs": [
    {
     "name": "stdout",
     "output_type": "stream",
     "text": [
      "4\n"
     ]
    }
   ],
   "source": [
    "def add(a,b):\n",
    "    return a+b\n",
    "\n",
    "# add라는 함수는 스크립트가 실행될때 add라는 이름이 -> 실제 함수를 가르키고 있는 형태이다\n",
    "replace = add      # 이제 replace가 add(a,b) 라는 함수 객체를 가르킨다\n",
    "print(replace(1,3))"
   ]
  },
  {
   "cell_type": "markdown",
   "metadata": {},
   "source": [
    "### 📎Module and Package\n",
    "- .py 스크립트 파일 하나를 파이썬 에서는 모듈이라고 부른다\n",
    "- 모듈 안에는 각종 변수 함수 클래스가 있을수 있다\n",
    "- 패키지는 여러 모듈을 엮은것이다\n"
   ]
  },
  {
   "cell_type": "markdown",
   "metadata": {},
   "source": [
    "#### 1. module 및 module에 정의된 변수,함수,객체 가져오기\n",
    "- import module\n",
    "- import module1,module2\n",
    "- import module.변수\n",
    "- import module.함수\n",
    "- import module.클래스\n",
    "- import package.module\n",
    "- ,,, 여러가지 가능"
   ]
  },
  {
   "cell_type": "markdown",
   "metadata": {},
   "source": [
    "#### 2. from ; from 을 사용해서 부분적으로 가져올수 있다\n",
    "- from module import *\n",
    "- from package import module\n",
    "- from package.module import 함수\n",
    "- from package.module import 함수,변수,클래스,,"
   ]
  },
  {
   "cell_type": "markdown",
   "metadata": {},
   "source": [
    "#### ⭐️ 마지막에 무엇을 정확히 import 했느냐에 따라 접근이 다르다"
   ]
  },
  {
   "cell_type": "code",
   "execution_count": 58,
   "metadata": {},
   "outputs": [
    {
     "data": {
      "text/plain": [
       "3.141592653589793"
      ]
     },
     "execution_count": 58,
     "metadata": {},
     "output_type": "execute_result"
    }
   ],
   "source": [
    "import math        # 모듈을 import \n",
    "math.pi"
   ]
  },
  {
   "cell_type": "code",
   "execution_count": 59,
   "metadata": {},
   "outputs": [
    {
     "data": {
      "text/plain": [
       "3.141592653589793"
      ]
     },
     "execution_count": 59,
     "metadata": {},
     "output_type": "execute_result"
    }
   ],
   "source": [
    "from math import * # 모듈 안에 전부 다 import\n",
    "pi"
   ]
  },
  {
   "cell_type": "code",
   "execution_count": 64,
   "metadata": {},
   "outputs": [
    {
     "data": {
      "text/plain": [
       "<urllib.request.Request at 0x7fda823ae2b0>"
      ]
     },
     "execution_count": 64,
     "metadata": {},
     "output_type": "execute_result"
    }
   ],
   "source": [
    "import urllib     # package전체 import\n",
    "urllib.request.Request('http://www.google.com') # package.module.func"
   ]
  }
 ],
 "metadata": {
  "kernelspec": {
   "display_name": "Python 3",
   "language": "python",
   "name": "python3"
  },
  "language_info": {
   "codemirror_mode": {
    "name": "ipython",
    "version": 3
   },
   "file_extension": ".py",
   "mimetype": "text/x-python",
   "name": "python",
   "nbconvert_exporter": "python",
   "pygments_lexer": "ipython3",
   "version": "3.8.5"
  }
 },
 "nbformat": 4,
 "nbformat_minor": 4
}
