{
 "cells": [
  {
   "cell_type": "code",
   "execution_count": 7,
   "id": "79b3b3c1",
   "metadata": {},
   "outputs": [
    {
     "name": "stdout",
     "output_type": "stream",
     "text": [
      "numpy version  -  1.20.3\n",
      "pandas version -  1.3.2\n",
      "d\n",
      "sklearn version -  0.24.2\n"
     ]
    }
   ],
   "source": [
    "import numpy  as np\n",
    "import pandas as pd\n",
    "import matplotlib.pyplot as plt \n",
    "\n",
    "# seaboarn lib add\n",
    "import seaborn as sns\n",
    "\n",
    "import time\n",
    "\n",
    "%matplotlib inline\n",
    "\n",
    "\n",
    "import json \n",
    "\n",
    "import warnings\n",
    "warnings.filterwarnings(action='ignore')\n",
    "\n",
    "from datetime import date, datetime, timedelta\n",
    "from dateutil.parser import parse\n",
    "\n",
    "\n",
    "print('numpy version  - ' , np.__version__)\n",
    "print('pandas version - ' , pd.__version__)\n",
    "\n",
    "# 한글 폰트 문제 해결\n",
    "import platform\n",
    "\n",
    "from matplotlib import font_manager, rc\n",
    "\n",
    "if platform.system() == 'Darwin':\n",
    "    plt.rc('font', family='AppleGothic')\n",
    "    print('d')\n",
    "elif platform.system() == 'Windows':\n",
    "    path = \"c:/Windows/Fonts/malgun.ttf\"\n",
    "    font_name = font_manager.FontProperties(fname=path).get_name()\n",
    "    plt.rc('font', family=font_name)\n",
    "    print('w')\n",
    "else:\n",
    "    print('Unknown system... sorry~~~~') \n",
    "\n",
    "\n",
    "# 차트 축 <- 음수 부호 지원\n",
    "import matplotlib\n",
    "matplotlib.rcParams['axes.unicode_minus'] = False\n",
    "\n",
    "\n",
    "# ml lib\n",
    "import sklearn\n",
    "from   sklearn.datasets import load_iris , load_breast_cancer, load_digits\n",
    "\n",
    "from   sklearn.model_selection import train_test_split , KFold , StratifiedKFold , cross_val_score , cross_validate , GridSearchCV\n",
    "\n",
    "from   sklearn.tree            import DecisionTreeClassifier\n",
    "from   sklearn.ensemble        import RandomForestClassifier , VotingClassifier\n",
    "from   sklearn.linear_model    import LogisticRegression\n",
    "from   sklearn.svm             import SVC\n",
    "from   sklearn.neighbors       import KNeighborsClassifier\n",
    "\n",
    "from   sklearn.metrics         import accuracy_score , precision_score , recall_score , f1_score , confusion_matrix , make_scorer , precision_recall_curve , roc_curve,roc_auc_score \n",
    "\n",
    "from   sklearn.preprocessing   import LabelEncoder , OneHotEncoder , StandardScaler , MinMaxScaler ,Binarizer\n",
    "from   sklearn.impute          import SimpleImputer\n",
    "\n",
    "from   sklearn.base            import BaseEstimator\n",
    "\n",
    "import missingno as msno \n",
    "\n",
    "import graphviz\n",
    "\n",
    "from IPython.display import Image\n",
    "\n",
    "\n",
    "print('sklearn version - ' , sklearn.__version__)"
   ]
  },
  {
   "cell_type": "markdown",
   "id": "c33c2932",
   "metadata": {},
   "source": [
    "#### voting 연습 \n"
   ]
  },
  {
   "cell_type": "code",
   "execution_count": 65,
   "id": "f131f4f6",
   "metadata": {},
   "outputs": [],
   "source": [
    "mnist = load_digits()"
   ]
  },
  {
   "cell_type": "code",
   "execution_count": 66,
   "id": "6f3b90ad",
   "metadata": {},
   "outputs": [],
   "source": [
    "features = mnist.data\n",
    "labels = mnist.target"
   ]
  },
  {
   "cell_type": "code",
   "execution_count": 67,
   "id": "4252cc08",
   "metadata": {},
   "outputs": [
    {
     "data": {
      "text/plain": [
       "((1797, 64), (1797,))"
      ]
     },
     "execution_count": 67,
     "metadata": {},
     "output_type": "execute_result"
    }
   ],
   "source": [
    "features.shape , labels.shape"
   ]
  },
  {
   "cell_type": "code",
   "execution_count": 68,
   "id": "535db942",
   "metadata": {},
   "outputs": [],
   "source": [
    "dt_model = DecisionTreeClassifier(criterion='entropy',\n",
    "                                  max_depth= 8,\n",
    "                                  max_features= 32,\n",
    "                                  random_state=35)\n",
    "\n",
    "knn_model = KNeighborsClassifier(n_neighbors=299)\n",
    "\n",
    "svm_model = SVC(probability=True)"
   ]
  },
  {
   "cell_type": "code",
   "execution_count": 69,
   "id": "184dc176",
   "metadata": {},
   "outputs": [
    {
     "data": {
      "text/plain": [
       "((1437, 64), (360, 64), (1437,), (360,))"
      ]
     },
     "execution_count": 69,
     "metadata": {},
     "output_type": "execute_result"
    }
   ],
   "source": [
    "X_train, X_test , y_train,y_test = train_test_split(features,labels,test_size=0.2,random_state=100)\n",
    "X_train.shape, X_test.shape ,y_train.shape, y_test.shape"
   ]
  },
  {
   "cell_type": "code",
   "execution_count": 70,
   "id": "889b95e0",
   "metadata": {},
   "outputs": [],
   "source": [
    "def metrics_evaluation(target , prediction) :\n",
    "    print('accuracy:'  , accuracy_score(target , prediction))"
   ]
  },
  {
   "cell_type": "code",
   "execution_count": 71,
   "id": "eb63db8d",
   "metadata": {},
   "outputs": [],
   "source": [
    "dt_model.fit(X_train,y_train)\n",
    "dt_pred = dt_model.predict(X_test)\n",
    "\n",
    "knn_model.fit(X_train,y_train)\n",
    "knn_pred = knn_model.predict(X_test)\n",
    "\n",
    "svm_model.fit(X_train,y_train)\n",
    "svm_pred = svm_model.predict(X_test)"
   ]
  },
  {
   "cell_type": "code",
   "execution_count": 72,
   "id": "ab9c8c63",
   "metadata": {},
   "outputs": [
    {
     "name": "stdout",
     "output_type": "stream",
     "text": [
      "accuracy: 0.8694444444444445\n",
      "accuracy: 0.8555555555555555\n",
      "accuracy: 0.9916666666666667\n"
     ]
    }
   ],
   "source": [
    "metrics_evaluation(y_test,dt_pred)\n",
    "metrics_evaluation(y_test,knn_pred)\n",
    "metrics_evaluation(y_test,svm_pred)\n"
   ]
  },
  {
   "cell_type": "code",
   "execution_count": 76,
   "id": "20e54b7c",
   "metadata": {},
   "outputs": [
    {
     "name": "stdout",
     "output_type": "stream",
     "text": [
      "accuracy: 0.9611111111111111\n"
     ]
    }
   ],
   "source": [
    "hard_voting_model = VotingClassifier(estimators=[('tree',dt_model),('knn',knn_model),('svm',svm_model)],\n",
    "                                weights=[1,1,1],\n",
    "                                voting = 'hard')\n",
    "\n",
    "hard_voting_model.fit(X_train,y_train)\n",
    "hard_voting_pred = hard_voting_model.predict(X_test)\n",
    "metrics_evaluation(y_test,hard_voting_pred)"
   ]
  },
  {
   "cell_type": "code",
   "execution_count": 77,
   "id": "43729753",
   "metadata": {},
   "outputs": [
    {
     "name": "stdout",
     "output_type": "stream",
     "text": [
      "accuracy: 0.9388888888888889\n"
     ]
    }
   ],
   "source": [
    "soft_voting_model = VotingClassifier(estimators=[('tree',dt_model),('knn',knn_model),('svm',svm_model)],\n",
    "                                weights=[1,1,1],\n",
    "                                voting = 'soft')\n",
    "\n",
    "soft_voting_model.fit(X_train,y_train)\n",
    "soft_voting_pred = soft_voting_model.predict(X_test)\n",
    "metrics_evaluation(y_test,soft_voting_pred)"
   ]
  },
  {
   "cell_type": "code",
   "execution_count": 79,
   "id": "4551025c",
   "metadata": {},
   "outputs": [
    {
     "data": {
      "image/png": "[encoded data removed]",
      "text/plain": [
       "<Figure size 1080x360 with 1 Axes>"
      ]
     },
     "metadata": {
      "needs_background": "light"
     },
     "output_type": "display_data"
    }
   ],
   "source": [
    "plt.figure(figsize=(15,5))\n",
    "x = np.arange(5)\n",
    "plt.bar(x,height=[\n",
    "    accuracy_score(y_test,dt_pred),\n",
    "    accuracy_score(y_test,svm_pred),    \n",
    "    accuracy_score(y_test,knn_pred),\n",
    "    accuracy_score(y_test,hard_voting_pred),\n",
    "    accuracy_score(y_test,soft_voting_pred),\n",
    "])\n",
    "plt.xticks(x,['tree','svm','knn','hard','soft'])\n",
    "plt.show()\n",
    "plt.close()"
   ]
  },
  {
   "cell_type": "code",
   "execution_count": null,
   "id": "24f3adc6",
   "metadata": {},
   "outputs": [],
   "source": []
  },
  {
   "cell_type": "code",
   "execution_count": null,
   "id": "8df3e9c2",
   "metadata": {},
   "outputs": [],
   "source": []
  }
 ],
 "metadata": {
  "kernelspec": {
   "display_name": "Python 3 (ipykernel)",
   "language": "python",
   "name": "python3"
  },
  "language_info": {
   "codemirror_mode": {
    "name": "ipython",
    "version": 3
   },
   "file_extension": ".py",
   "mimetype": "text/x-python",
   "name": "python",
   "nbconvert_exporter": "python",
   "pygments_lexer": "ipython3",
   "version": "3.8.2"
  }
 },
 "nbformat": 4,
 "nbformat_minor": 5
}
