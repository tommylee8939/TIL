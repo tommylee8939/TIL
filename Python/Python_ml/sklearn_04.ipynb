{
 "cells": [
  {
   "cell_type": "code",
   "execution_count": null,
   "id": "1364b54c",
   "metadata": {},
   "outputs": [],
   "source": [
    "import numpy as np\n",
    "import pandas as pd\n",
    "\n",
    "%matplotlib inline\n",
    "\n",
    "from datetime import date,datetime,timedelta\n",
    "from dateutil.parser import parse\n",
    "\n",
    "import json\n",
    "import re\n",
    "from glob import glob\n",
    "from IPython.display import Image\n",
    "\n",
    "import seaborn as sns\n",
    "import folium as g\n",
    "\n",
    "import matplotlib.pyplot as plt\n",
    "from matplotlib import rc\n",
    "# 한글 폰트 문제 해결\n",
    "rc('font', family='AppleGothic')\n",
    "# 차트 축 <- 음수 부호 지원\n",
    "plt.rcParams['axes.unicode_minus'] = Falseb"
   ]
  },
  {
   "cell_type": "code",
   "execution_count": 9,
   "id": "9d8195d1",
   "metadata": {},
   "outputs": [],
   "source": [
    "import sklearn\n",
    "from sklearn.datasets import load_iris, load_breast_cancer\n",
    "\n",
    "from sklearn.model_selection import train_test_split,KFold,StratifiedKFold , cross_val_score, cross_validate,GridSearchCV\n",
    "from sklearn.tree import DecisionTreeClassifier\n",
    "\n",
    "from sklearn.metrics import accuracy_score, precision_score, recall_score, f1_score, confusion_matrix\n",
    "\n",
    "from sklearn.preprocessing import LabelEncoder,OneHotEncoder, StandardScaler, MinMaxScaler\n",
    "from sklearn.impute import SimpleImputer\n",
    "import missingno as msno"
   ]
  },
  {
   "cell_type": "markdown",
   "id": "c1410b47",
   "metadata": {},
   "source": [
    "#### 정확도 : 실 데이터와 예측 데이터가 얼마나 같은지를 판단하는 자료\n",
    "\n",
    "- 문제점 : 이진분류의 경우 모델의 성능을 왜곡할수 있다\n",
    "- why?:\n",
    "- solution : f1-score"
   ]
  },
  {
   "cell_type": "markdown",
   "id": "76a65cfc",
   "metadata": {},
   "source": [
    "#### 분류모델 성능평가를 위한 이해 "
   ]
  },
  {
   "cell_type": "code",
   "execution_count": 8,
   "id": "f13065f3",
   "metadata": {},
   "outputs": [
    {
     "name": "stdout",
     "output_type": "stream",
     "text": [
      "TP: 4\n",
      "TN: 2\n",
      "FN: 2\n",
      "FP: 3\n"
     ]
    }
   ],
   "source": [
    "target = [1,0,1,1,1,0,1,0,0,0,1]\n",
    "predict = [1,1,1,1,0,0,0,0,1,1,1]\n",
    "\n",
    "tp = tn = fn = fp = 0\n",
    "for i in range(len(target)):\n",
    "    # TP\n",
    "    if target[i]==1 and predict[i]==1:\n",
    "        tp+=1\n",
    "    # TN\n",
    "    elif target[i]==0 and predict[i]==0:\n",
    "        tn+=1\n",
    "    # FN\n",
    "    elif target[i]==1 and predict[i]==0:\n",
    "        fn+=1\n",
    "    # FP\n",
    "    elif target[i]==0 and predict[i]==1:\n",
    "        fp+=1\n",
    "        \n",
    "print('TP:',tp)\n",
    "print('TN:',tn)\n",
    "print('FN:',fn)\n",
    "print('FP:',fp)"
   ]
  },
  {
   "cell_type": "code",
   "execution_count": 10,
   "id": "0b495190",
   "metadata": {},
   "outputs": [
    {
     "data": {
      "text/plain": [
       "array([[2, 3],\n",
       "       [2, 4]])"
      ]
     },
     "execution_count": 10,
     "metadata": {},
     "output_type": "execute_result"
    }
   ],
   "source": [
    "confusion_matrix(target,predict)"
   ]
  },
  {
   "cell_type": "code",
   "execution_count": 12,
   "id": "5d042238",
   "metadata": {},
   "outputs": [
    {
     "data": {
      "text/plain": [
       "0.5454545454545454"
      ]
     },
     "execution_count": 12,
     "metadata": {},
     "output_type": "execute_result"
    }
   ],
   "source": [
    "accuracy_score(target,predict)"
   ]
  },
  {
   "cell_type": "code",
   "execution_count": 13,
   "id": "a31768d5",
   "metadata": {},
   "outputs": [
    {
     "data": {
      "text/plain": [
       "0.5714285714285714"
      ]
     },
     "execution_count": 13,
     "metadata": {},
     "output_type": "execute_result"
    }
   ],
   "source": [
    "precision_score(target,predict)"
   ]
  },
  {
   "cell_type": "code",
   "execution_count": 14,
   "id": "353b1c7b",
   "metadata": {},
   "outputs": [
    {
     "data": {
      "text/plain": [
       "0.6666666666666666"
      ]
     },
     "execution_count": 14,
     "metadata": {},
     "output_type": "execute_result"
    }
   ],
   "source": [
    "recall_score(target,predict)"
   ]
  },
  {
   "cell_type": "code",
   "execution_count": 11,
   "id": "4b6d229f",
   "metadata": {},
   "outputs": [
    {
     "data": {
      "text/plain": [
       "0.6153846153846153"
      ]
     },
     "execution_count": 11,
     "metadata": {},
     "output_type": "execute_result"
    }
   ],
   "source": [
    "f1_score(target,predict)"
   ]
  },
  {
   "cell_type": "code",
   "execution_count": null,
   "id": "3fb5f564",
   "metadata": {},
   "outputs": [],
   "source": [
    "# 이진분류\n",
    "# 제품을 생상하는 제조공장에서 품질 테스트를 실시하여 불량품을 찾아내고 불량품을 공장으로 돌려보낸다\n",
    "\n",
    "# 품질테스스 결과가 양성 ->불량품을 예측 음성->정상제품으로 예측\n",
    "\n",
    "# TP : 불량품이라고 예측한것중 실제 불량품인것\n",
    "# TN : 정상이라고 에측한것중 실제 정상인것\n",
    "# "
   ]
  }
 ],
 "metadata": {
  "kernelspec": {
   "display_name": "Python 3 (ipykernel)",
   "language": "python",
   "name": "python3"
  },
  "language_info": {
   "codemirror_mode": {
    "name": "ipython",
    "version": 3
   },
   "file_extension": ".py",
   "mimetype": "text/x-python",
   "name": "python",
   "nbconvert_exporter": "python",
   "pygments_lexer": "ipython3",
   "version": "3.8.2"
  }
 },
 "nbformat": 4,
 "nbformat_minor": 5
}
