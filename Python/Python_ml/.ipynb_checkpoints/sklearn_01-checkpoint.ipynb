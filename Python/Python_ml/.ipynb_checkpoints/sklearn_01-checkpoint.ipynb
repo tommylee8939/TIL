{
 "cells": [
  {
   "cell_type": "markdown",
   "id": "b68b91b8",
   "metadata": {},
   "source": [
    "### 머신러닝\n",
    "- 데이터를 기반으로 패터을 학습하고 결과를 추로하는 알고리즘 개념\n",
    "- 지도 학습과 비지도 학습 + 강화학습  \n",
    "- 지도학습 ; 분류, 회귀\n",
    "- 비지도 학습 ; 클러스터링, 차원축소(pca)\n",
    "\n",
    "#### 머신러닝 용어\n",
    "- feature : 데이터의 일반 속성\n",
    "- 레이블, 클래스, 타겟, 결정 : 정답 데이터"
   ]
  },
  {
   "cell_type": "code",
   "execution_count": 15,
   "id": "cd739586",
   "metadata": {},
   "outputs": [],
   "source": [
    "import numpy as np\n",
    "import pandas as pd"
   ]
  },
  {
   "cell_type": "code",
   "execution_count": 123,
   "id": "9dfdd1ca",
   "metadata": {},
   "outputs": [
    {
     "data": {
      "text/plain": [
       "'0.24.2'"
      ]
     },
     "execution_count": 123,
     "metadata": {},
     "output_type": "execute_result"
    }
   ],
   "source": [
    "import sklearn\n",
    "from sklearn.datasets import load_iris\n",
    "\n",
    "from sklearn.model_selection import train_test_split,KFold,StratifiedKFold , cross_val_score, cross_validate\n",
    "from sklearn.tree import DecisionTreeClassifier\n",
    "from sklearn.metrics import accuracy_score\n",
    "sklearn.__version__"
   ]
  },
  {
   "cell_type": "code",
   "execution_count": 6,
   "id": "d5b7b523",
   "metadata": {},
   "outputs": [
    {
     "name": "stdout",
     "output_type": "stream",
     "text": [
      "dict_keys(['data', 'target', 'frame', 'target_names', 'DESCR', 'feature_names', 'filename'])\n"
     ]
    }
   ],
   "source": [
    "iris = load_iris()\n",
    "type(iris)\n",
    "print(iris.keys())"
   ]
  },
  {
   "cell_type": "code",
   "execution_count": 12,
   "id": "f714aaa5",
   "metadata": {},
   "outputs": [
    {
     "name": "stdout",
     "output_type": "stream",
     "text": [
      "[[5.1 3.5 1.4 0.2]\n",
      " [4.9 3.  1.4 0.2]\n",
      " [4.7 3.2 1.3 0.2]\n",
      " [4.6 3.1 1.5 0.2]\n",
      " [5.  3.6 1.4 0.2]\n",
      " [5.4 3.9 1.7 0.4]\n",
      " [4.6 3.4 1.4 0.3]\n",
      " [5.  3.4 1.5 0.2]\n",
      " [4.4 2.9 1.4 0.2]\n",
      " [4.9 3.1 1.5 0.1]\n",
      " [5.4 3.7 1.5 0.2]\n",
      " [4.8 3.4 1.6 0.2]\n",
      " [4.8 3.  1.4 0.1]\n",
      " [4.3 3.  1.1 0.1]\n",
      " [5.8 4.  1.2 0.2]\n",
      " [5.7 4.4 1.5 0.4]\n",
      " [5.4 3.9 1.3 0.4]\n",
      " [5.1 3.5 1.4 0.3]\n",
      " [5.7 3.8 1.7 0.3]\n",
      " [5.1 3.8 1.5 0.3]\n",
      " [5.4 3.4 1.7 0.2]\n",
      " [5.1 3.7 1.5 0.4]\n",
      " [4.6 3.6 1.  0.2]\n",
      " [5.1 3.3 1.7 0.5]\n",
      " [4.8 3.4 1.9 0.2]\n",
      " [5.  3.  1.6 0.2]\n",
      " [5.  3.4 1.6 0.4]\n",
      " [5.2 3.5 1.5 0.2]\n",
      " [5.2 3.4 1.4 0.2]\n",
      " [4.7 3.2 1.6 0.2]\n",
      " [4.8 3.1 1.6 0.2]\n",
      " [5.4 3.4 1.5 0.4]\n",
      " [5.2 4.1 1.5 0.1]\n",
      " [5.5 4.2 1.4 0.2]\n",
      " [4.9 3.1 1.5 0.2]\n",
      " [5.  3.2 1.2 0.2]\n",
      " [5.5 3.5 1.3 0.2]\n",
      " [4.9 3.6 1.4 0.1]\n",
      " [4.4 3.  1.3 0.2]\n",
      " [5.1 3.4 1.5 0.2]\n",
      " [5.  3.5 1.3 0.3]\n",
      " [4.5 2.3 1.3 0.3]\n",
      " [4.4 3.2 1.3 0.2]\n",
      " [5.  3.5 1.6 0.6]\n",
      " [5.1 3.8 1.9 0.4]\n",
      " [4.8 3.  1.4 0.3]\n",
      " [5.1 3.8 1.6 0.2]\n",
      " [4.6 3.2 1.4 0.2]\n",
      " [5.3 3.7 1.5 0.2]\n",
      " [5.  3.3 1.4 0.2]\n",
      " [7.  3.2 4.7 1.4]\n",
      " [6.4 3.2 4.5 1.5]\n",
      " [6.9 3.1 4.9 1.5]\n",
      " [5.5 2.3 4.  1.3]\n",
      " [6.5 2.8 4.6 1.5]\n",
      " [5.7 2.8 4.5 1.3]\n",
      " [6.3 3.3 4.7 1.6]\n",
      " [4.9 2.4 3.3 1. ]\n",
      " [6.6 2.9 4.6 1.3]\n",
      " [5.2 2.7 3.9 1.4]\n",
      " [5.  2.  3.5 1. ]\n",
      " [5.9 3.  4.2 1.5]\n",
      " [6.  2.2 4.  1. ]\n",
      " [6.1 2.9 4.7 1.4]\n",
      " [5.6 2.9 3.6 1.3]\n",
      " [6.7 3.1 4.4 1.4]\n",
      " [5.6 3.  4.5 1.5]\n",
      " [5.8 2.7 4.1 1. ]\n",
      " [6.2 2.2 4.5 1.5]\n",
      " [5.6 2.5 3.9 1.1]\n",
      " [5.9 3.2 4.8 1.8]\n",
      " [6.1 2.8 4.  1.3]\n",
      " [6.3 2.5 4.9 1.5]\n",
      " [6.1 2.8 4.7 1.2]\n",
      " [6.4 2.9 4.3 1.3]\n",
      " [6.6 3.  4.4 1.4]\n",
      " [6.8 2.8 4.8 1.4]\n",
      " [6.7 3.  5.  1.7]\n",
      " [6.  2.9 4.5 1.5]\n",
      " [5.7 2.6 3.5 1. ]\n",
      " [5.5 2.4 3.8 1.1]\n",
      " [5.5 2.4 3.7 1. ]\n",
      " [5.8 2.7 3.9 1.2]\n",
      " [6.  2.7 5.1 1.6]\n",
      " [5.4 3.  4.5 1.5]\n",
      " [6.  3.4 4.5 1.6]\n",
      " [6.7 3.1 4.7 1.5]\n",
      " [6.3 2.3 4.4 1.3]\n",
      " [5.6 3.  4.1 1.3]\n",
      " [5.5 2.5 4.  1.3]\n",
      " [5.5 2.6 4.4 1.2]\n",
      " [6.1 3.  4.6 1.4]\n",
      " [5.8 2.6 4.  1.2]\n",
      " [5.  2.3 3.3 1. ]\n",
      " [5.6 2.7 4.2 1.3]\n",
      " [5.7 3.  4.2 1.2]\n",
      " [5.7 2.9 4.2 1.3]\n",
      " [6.2 2.9 4.3 1.3]\n",
      " [5.1 2.5 3.  1.1]\n",
      " [5.7 2.8 4.1 1.3]\n",
      " [6.3 3.3 6.  2.5]\n",
      " [5.8 2.7 5.1 1.9]\n",
      " [7.1 3.  5.9 2.1]\n",
      " [6.3 2.9 5.6 1.8]\n",
      " [6.5 3.  5.8 2.2]\n",
      " [7.6 3.  6.6 2.1]\n",
      " [4.9 2.5 4.5 1.7]\n",
      " [7.3 2.9 6.3 1.8]\n",
      " [6.7 2.5 5.8 1.8]\n",
      " [7.2 3.6 6.1 2.5]\n",
      " [6.5 3.2 5.1 2. ]\n",
      " [6.4 2.7 5.3 1.9]\n",
      " [6.8 3.  5.5 2.1]\n",
      " [5.7 2.5 5.  2. ]\n",
      " [5.8 2.8 5.1 2.4]\n",
      " [6.4 3.2 5.3 2.3]\n",
      " [6.5 3.  5.5 1.8]\n",
      " [7.7 3.8 6.7 2.2]\n",
      " [7.7 2.6 6.9 2.3]\n",
      " [6.  2.2 5.  1.5]\n",
      " [6.9 3.2 5.7 2.3]\n",
      " [5.6 2.8 4.9 2. ]\n",
      " [7.7 2.8 6.7 2. ]\n",
      " [6.3 2.7 4.9 1.8]\n",
      " [6.7 3.3 5.7 2.1]\n",
      " [7.2 3.2 6.  1.8]\n",
      " [6.2 2.8 4.8 1.8]\n",
      " [6.1 3.  4.9 1.8]\n",
      " [6.4 2.8 5.6 2.1]\n",
      " [7.2 3.  5.8 1.6]\n",
      " [7.4 2.8 6.1 1.9]\n",
      " [7.9 3.8 6.4 2. ]\n",
      " [6.4 2.8 5.6 2.2]\n",
      " [6.3 2.8 5.1 1.5]\n",
      " [6.1 2.6 5.6 1.4]\n",
      " [7.7 3.  6.1 2.3]\n",
      " [6.3 3.4 5.6 2.4]\n",
      " [6.4 3.1 5.5 1.8]\n",
      " [6.  3.  4.8 1.8]\n",
      " [6.9 3.1 5.4 2.1]\n",
      " [6.7 3.1 5.6 2.4]\n",
      " [6.9 3.1 5.1 2.3]\n",
      " [5.8 2.7 5.1 1.9]\n",
      " [6.8 3.2 5.9 2.3]\n",
      " [6.7 3.3 5.7 2.5]\n",
      " [6.7 3.  5.2 2.3]\n",
      " [6.3 2.5 5.  1.9]\n",
      " [6.5 3.  5.2 2. ]\n",
      " [6.2 3.4 5.4 2.3]\n",
      " [5.9 3.  5.1 1.8]]\n",
      "['sepal length (cm)', 'sepal width (cm)', 'petal length (cm)', 'petal width (cm)']\n",
      "['setosa' 'versicolor' 'virginica']\n",
      "[0 0 0 0 0 0 0 0 0 0 0 0 0 0 0 0 0 0 0 0 0 0 0 0 0 0 0 0 0 0 0 0 0 0 0 0 0\n",
      " 0 0 0 0 0 0 0 0 0 0 0 0 0 1 1 1 1 1 1 1 1 1 1 1 1 1 1 1 1 1 1 1 1 1 1 1 1\n",
      " 1 1 1 1 1 1 1 1 1 1 1 1 1 1 1 1 1 1 1 1 1 1 1 1 1 1 2 2 2 2 2 2 2 2 2 2 2\n",
      " 2 2 2 2 2 2 2 2 2 2 2 2 2 2 2 2 2 2 2 2 2 2 2 2 2 2 2 2 2 2 2 2 2 2 2 2 2\n",
      " 2 2]\n"
     ]
    }
   ],
   "source": [
    "print(iris.data)\n",
    "print(iris.feature_names)\n",
    "print(iris.target_names)\n",
    "print(iris.target)\n"
   ]
  },
  {
   "cell_type": "code",
   "execution_count": 45,
   "id": "477805b0",
   "metadata": {},
   "outputs": [
    {
     "data": {
      "text/html": [
       "<div>\n",
       "<style scoped>\n",
       "    .dataframe tbody tr th:only-of-type {\n",
       "        vertical-align: middle;\n",
       "    }\n",
       "\n",
       "    .dataframe tbody tr th {\n",
       "        vertical-align: top;\n",
       "    }\n",
       "\n",
       "    .dataframe thead th {\n",
       "        text-align: right;\n",
       "    }\n",
       "</style>\n",
       "<table border=\"1\" class=\"dataframe\">\n",
       "  <thead>\n",
       "    <tr style=\"text-align: right;\">\n",
       "      <th></th>\n",
       "      <th>sepal length (cm)</th>\n",
       "      <th>sepal width (cm)</th>\n",
       "      <th>petal length (cm)</th>\n",
       "      <th>petal width (cm)</th>\n",
       "      <th>target</th>\n",
       "    </tr>\n",
       "  </thead>\n",
       "  <tbody>\n",
       "    <tr>\n",
       "      <th>0</th>\n",
       "      <td>5.1</td>\n",
       "      <td>3.5</td>\n",
       "      <td>1.4</td>\n",
       "      <td>0.2</td>\n",
       "      <td>0</td>\n",
       "    </tr>\n",
       "    <tr>\n",
       "      <th>1</th>\n",
       "      <td>4.9</td>\n",
       "      <td>3.0</td>\n",
       "      <td>1.4</td>\n",
       "      <td>0.2</td>\n",
       "      <td>0</td>\n",
       "    </tr>\n",
       "    <tr>\n",
       "      <th>2</th>\n",
       "      <td>4.7</td>\n",
       "      <td>3.2</td>\n",
       "      <td>1.3</td>\n",
       "      <td>0.2</td>\n",
       "      <td>0</td>\n",
       "    </tr>\n",
       "    <tr>\n",
       "      <th>3</th>\n",
       "      <td>4.6</td>\n",
       "      <td>3.1</td>\n",
       "      <td>1.5</td>\n",
       "      <td>0.2</td>\n",
       "      <td>0</td>\n",
       "    </tr>\n",
       "    <tr>\n",
       "      <th>4</th>\n",
       "      <td>5.0</td>\n",
       "      <td>3.6</td>\n",
       "      <td>1.4</td>\n",
       "      <td>0.2</td>\n",
       "      <td>0</td>\n",
       "    </tr>\n",
       "    <tr>\n",
       "      <th>...</th>\n",
       "      <td>...</td>\n",
       "      <td>...</td>\n",
       "      <td>...</td>\n",
       "      <td>...</td>\n",
       "      <td>...</td>\n",
       "    </tr>\n",
       "    <tr>\n",
       "      <th>145</th>\n",
       "      <td>6.7</td>\n",
       "      <td>3.0</td>\n",
       "      <td>5.2</td>\n",
       "      <td>2.3</td>\n",
       "      <td>2</td>\n",
       "    </tr>\n",
       "    <tr>\n",
       "      <th>146</th>\n",
       "      <td>6.3</td>\n",
       "      <td>2.5</td>\n",
       "      <td>5.0</td>\n",
       "      <td>1.9</td>\n",
       "      <td>2</td>\n",
       "    </tr>\n",
       "    <tr>\n",
       "      <th>147</th>\n",
       "      <td>6.5</td>\n",
       "      <td>3.0</td>\n",
       "      <td>5.2</td>\n",
       "      <td>2.0</td>\n",
       "      <td>2</td>\n",
       "    </tr>\n",
       "    <tr>\n",
       "      <th>148</th>\n",
       "      <td>6.2</td>\n",
       "      <td>3.4</td>\n",
       "      <td>5.4</td>\n",
       "      <td>2.3</td>\n",
       "      <td>2</td>\n",
       "    </tr>\n",
       "    <tr>\n",
       "      <th>149</th>\n",
       "      <td>5.9</td>\n",
       "      <td>3.0</td>\n",
       "      <td>5.1</td>\n",
       "      <td>1.8</td>\n",
       "      <td>2</td>\n",
       "    </tr>\n",
       "  </tbody>\n",
       "</table>\n",
       "<p>150 rows × 5 columns</p>\n",
       "</div>"
      ],
      "text/plain": [
       "     sepal length (cm)  sepal width (cm)  petal length (cm)  petal width (cm)  \\\n",
       "0                  5.1               3.5                1.4               0.2   \n",
       "1                  4.9               3.0                1.4               0.2   \n",
       "2                  4.7               3.2                1.3               0.2   \n",
       "3                  4.6               3.1                1.5               0.2   \n",
       "4                  5.0               3.6                1.4               0.2   \n",
       "..                 ...               ...                ...               ...   \n",
       "145                6.7               3.0                5.2               2.3   \n",
       "146                6.3               2.5                5.0               1.9   \n",
       "147                6.5               3.0                5.2               2.0   \n",
       "148                6.2               3.4                5.4               2.3   \n",
       "149                5.9               3.0                5.1               1.8   \n",
       "\n",
       "     target  \n",
       "0         0  \n",
       "1         0  \n",
       "2         0  \n",
       "3         0  \n",
       "4         0  \n",
       "..      ...  \n",
       "145       2  \n",
       "146       2  \n",
       "147       2  \n",
       "148       2  \n",
       "149       2  \n",
       "\n",
       "[150 rows x 5 columns]"
      ]
     },
     "execution_count": 45,
     "metadata": {},
     "output_type": "execute_result"
    }
   ],
   "source": [
    "# 데이터 프레임으로 변경\n",
    "iris_df = pd.DataFrame(iris.data,columns = iris.feature_names)\n",
    "iris_df['target'] = iris.target\n",
    "iris_df\n"
   ]
  },
  {
   "cell_type": "markdown",
   "id": "a1343cfc",
   "metadata": {},
   "source": [
    "### supervised learning - classification \n",
    "1. 데이터세트 분리(학습 데이터, 테스트 데이터) -train_test_split()\n",
    "2. 학습 데이터를 기반으로 ml 알고리즘 적용해 학습 모델 만든다  -fit()\n",
    "3. 분류에측 테스트(테스트 데이터) -predict()\n",
    "4. 평가\n",
    "\n",
    "#### 분류 알고리즘\n",
    "- Decision tree\n",
    "- Random forest\n",
    "- GradientBoost\n",
    "- GaussianNB\n",
    "- SVC\n",
    "\n",
    "#### 회귀 알고리즘\n",
    "- LinearRegression\n",
    "- Ridge\n",
    "- Lasso\n",
    "- RandomForestRegression\n",
    "- GradientBoostRegression\n",
    "- logistic"
   ]
  },
  {
   "cell_type": "code",
   "execution_count": 52,
   "id": "ae90fd0e",
   "metadata": {},
   "outputs": [],
   "source": [
    "# split data\n",
    "# tarin_data, test_data\n",
    "X_train,X_test,y_train,y_test = train_test_split(iris.data,\n",
    "                                                 iris.target,\n",
    "                                                 shuffle=False,    # 이거 셔플 안하면 문제생길수있다 아이리스 데이터는 너무 정직하게 50개씩 나열되있기 때문\n",
    "                                                 test_size=0.2,\n",
    "                                                 random_state =10)"
   ]
  },
  {
   "cell_type": "code",
   "execution_count": 36,
   "id": "24e1529f",
   "metadata": {},
   "outputs": [
    {
     "name": "stdout",
     "output_type": "stream",
     "text": [
      "120\n",
      "30\n"
     ]
    }
   ],
   "source": [
    "print(len(X_train)) # 80%\n",
    "print(len(X_test))  # 20%"
   ]
  },
  {
   "cell_type": "code",
   "execution_count": 37,
   "id": "1ebf8c59",
   "metadata": {},
   "outputs": [
    {
     "data": {
      "text/plain": [
       "DecisionTreeClassifier()"
      ]
     },
     "execution_count": 37,
     "metadata": {},
     "output_type": "execute_result"
    }
   ],
   "source": [
    "# select proper model and train\n",
    "# ex) we use decision tree here\n",
    "\n",
    "dtc = DecisionTreeClassifier()\n",
    "dtc.fit(X_train,y_train)"
   ]
  },
  {
   "cell_type": "code",
   "execution_count": 38,
   "id": "09e79745",
   "metadata": {},
   "outputs": [
    {
     "name": "stdout",
     "output_type": "stream",
     "text": [
      "y_test    - [2 2 2 2 2 2 2 2 2 2 2 2 2 2 2 2 2 2 2 2 2 2 2 2 2 2 2 2 2 2]\n",
      "y_predict - [2 1 2 2 2 2 1 1 2 1 2 2 2 1 1 2 2 2 1 2 2 2 2 2 2 2 2 2 2 2]\n"
     ]
    }
   ],
   "source": [
    "# predict\n",
    "y_predict = dtc.predict(X_test)\n",
    "print('y_test    -',y_test)\n",
    "print('y_predict -',y_predict)"
   ]
  },
  {
   "cell_type": "code",
   "execution_count": 40,
   "id": "ad9be74d",
   "metadata": {},
   "outputs": [
    {
     "data": {
      "text/plain": [
       "0.7666666666666667"
      ]
     },
     "execution_count": 40,
     "metadata": {},
     "output_type": "execute_result"
    }
   ],
   "source": [
    "# evaluation\n",
    "accuracy_score(y_test,y_predict)"
   ]
  },
  {
   "cell_type": "markdown",
   "id": "6804eb05",
   "metadata": {},
   "source": [
    "<hr>"
   ]
  },
  {
   "cell_type": "code",
   "execution_count": 56,
   "id": "a81438db",
   "metadata": {},
   "outputs": [
    {
     "data": {
      "text/plain": [
       "0.9333333333333333"
      ]
     },
     "execution_count": 56,
     "metadata": {},
     "output_type": "execute_result"
    }
   ],
   "source": [
    "# data frame을 이용해서 똑같이 해보자\n",
    "X_train,X_test,y_train,y_test = train_test_split(iris_df.drop('target',axis=1),\n",
    "                                                 iris_df['target'],\n",
    "                                                 shuffle=True,    # 이거 셔플 안하면 문제생길수있다 아이리스 데이터는 너무 정직하게 50개씩 나열되있기 때문\n",
    "                                                 test_size=0.2,\n",
    "                                                 random_state =30)\n",
    "\n",
    "\n",
    "dtc = DecisionTreeClassifier()\n",
    "dtc.fit(X_train,y_train)\n",
    "y_predict = dtc.predict(X_test)\n",
    "print(accuracy_score(y_test,y_predict))\n",
    "\n",
    "# 학습 데이터를 가지고 unseen 데이터처럼 사용하게 되면 과적합 \n",
    "y_predict = dtc.predict(X_train)\n",
    "print(accuracy_score(y_train,y_predict))"
   ]
  },
  {
   "cell_type": "markdown",
   "id": "a09b667e",
   "metadata": {},
   "source": [
    "#### 교차 검증(cross validation)\n",
    "- kFold 방식\n",
    "- overfitting 방지"
   ]
  },
  {
   "cell_type": "code",
   "execution_count": 137,
   "id": "6e6f9ee2",
   "metadata": {},
   "outputs": [],
   "source": [
    "fold_iris = load_iris()\n",
    "features = fold_iris.data\n",
    "label = fold_iris.target\n",
    "\n",
    "fold_dt_ctf = DecisionTreeClassifier()"
   ]
  },
  {
   "cell_type": "code",
   "execution_count": 139,
   "id": "81aad643",
   "metadata": {},
   "outputs": [
    {
     "name": "stdout",
     "output_type": "stream",
     "text": [
      "[1 1 1 1 1 1 1 1 1 1 1 1 1 1 1 1 1 1 1 1 1 1 1 1 1 1 1 1 1 1 1 1 1 1 1 1 1\n",
      " 1 1 1 1 1 1 1 1 1 1 1 1 1 2 2 2 2 2 2 2 2 2 2 2 2 2 2 2 2 2 2 2 2 2 2 2 2\n",
      " 2 2 2 2 2 2 2 2 2 2 2 2 2 2 2 2 2 2 2 2 2 2 2 2 2 2]\n",
      "[0 0 0 0 0 0 0 0 0 0 0 0 0 0 0 0 0 0 0 0 0 0 0 0 0 0 0 0 0 0 0 0 0 0 0 0 0\n",
      " 0 0 0 0 0 0 0 0 0 0 0 0 0]\n",
      "1. 교차검증 정확도:0.0, 학습데이터 크기:100, 검증데이터 크기:50\n",
      "[0 0 0 0 0 0 0 0 0 0 0 0 0 0 0 0 0 0 0 0 0 0 0 0 0 0 0 0 0 0 0 0 0 0 0 0 0\n",
      " 0 0 0 0 0 0 0 0 0 0 0 0 0 2 2 2 2 2 2 2 2 2 2 2 2 2 2 2 2 2 2 2 2 2 2 2 2\n",
      " 2 2 2 2 2 2 2 2 2 2 2 2 2 2 2 2 2 2 2 2 2 2 2 2 2 2]\n",
      "[1 1 1 1 1 1 1 1 1 1 1 1 1 1 1 1 1 1 1 1 1 1 1 1 1 1 1 1 1 1 1 1 1 1 1 1 1\n",
      " 1 1 1 1 1 1 1 1 1 1 1 1 1]\n",
      "2. 교차검증 정확도:0.0, 학습데이터 크기:100, 검증데이터 크기:50\n",
      "[0 0 0 0 0 0 0 0 0 0 0 0 0 0 0 0 0 0 0 0 0 0 0 0 0 0 0 0 0 0 0 0 0 0 0 0 0\n",
      " 0 0 0 0 0 0 0 0 0 0 0 0 0 1 1 1 1 1 1 1 1 1 1 1 1 1 1 1 1 1 1 1 1 1 1 1 1\n",
      " 1 1 1 1 1 1 1 1 1 1 1 1 1 1 1 1 1 1 1 1 1 1 1 1 1 1]\n",
      "[2 2 2 2 2 2 2 2 2 2 2 2 2 2 2 2 2 2 2 2 2 2 2 2 2 2 2 2 2 2 2 2 2 2 2 2 2\n",
      " 2 2 2 2 2 2 2 2 2 2 2 2 2]\n",
      "3. 교차검증 정확도:0.0, 학습데이터 크기:100, 검증데이터 크기:50\n",
      "0.0\n"
     ]
    }
   ],
   "source": [
    "cv_accuracy = []\n",
    "kfold = KFold(n_splits=3)\n",
    "\n",
    "n_iter = 0\n",
    "\n",
    "for train_idx, test_idx in kfold.split(features):\n",
    "#     print('train_idx',train_idx)\n",
    "#     print('test_idx',test_idx)\n",
    "    X_train,X_val = features[train_idx],features[test_idx]\n",
    "    y_train,y_val = label[train_idx],label[test_idx]\n",
    "    fold_dt_ctf.fit(X_train,y_train)\n",
    "    fold_predict = fold_dt_ctf.predict(X_val)\n",
    "    # 문제\n",
    "    print(y_train)\n",
    "    print(y_val)\n",
    "    acc = accuracy_score(y_val,fold_predict)\n",
    "    cv_accuracy.append(acc)\n",
    "    n_iter+=1\n",
    "    \n",
    "    print(f'{n_iter}. 교차검증 정확도:{acc}, 학습데이터 크기:{X_train.shape[0]}, 검증데이터 크기:{X_val.shape[0]}')\n",
    "    \n",
    "# 각 폴드별 정확도 평균\n",
    "print(np.mean(cv_accuracy))"
   ]
  },
  {
   "cell_type": "markdown",
   "id": "47ba1828",
   "metadata": {},
   "source": [
    "- 불균형한 분포도를 가진 레이블 데이터 집합을 위한 KFold방식 -> Straighfield KFold\n",
    "- 레이블의 분포를 먼저 고려한 뒤 이 분포와 동일하게 학습 , 검증 데이터 세트로 분할"
   ]
  },
  {
   "cell_type": "code",
   "execution_count": 102,
   "id": "60e31069",
   "metadata": {},
   "outputs": [
    {
     "name": "stdout",
     "output_type": "stream",
     "text": [
      "value counts\n",
      "0    50\n",
      "1    50\n",
      "2    50\n",
      "Name: target, dtype: int64\n"
     ]
    }
   ],
   "source": [
    "# 기존 KFold 방식의 문제점 확인\n",
    "fold_iris_frm = pd.DataFrame(fold_iris.data,columns=fold_iris.feature_names)\n",
    "fold_iris_frm['target'] = fold_iris.target\n",
    "\n",
    "print('value counts')\n",
    "print(fold_iris_frm['target'].value_counts())"
   ]
  },
  {
   "cell_type": "code",
   "execution_count": 107,
   "id": "3e0038cd",
   "metadata": {},
   "outputs": [
    {
     "name": "stdout",
     "output_type": "stream",
     "text": [
      "1    50\n",
      "2    50\n",
      "Name: target, dtype: int64\n",
      "0    50\n",
      "Name: target, dtype: int64\n",
      "\n",
      "0    50\n",
      "2    50\n",
      "Name: target, dtype: int64\n",
      "1    50\n",
      "Name: target, dtype: int64\n",
      "\n",
      "0    50\n",
      "1    50\n",
      "Name: target, dtype: int64\n",
      "2    50\n",
      "Name: target, dtype: int64\n",
      "\n"
     ]
    }
   ],
   "source": [
    "bad_fold_iris = KFold(n_splits=3)\n",
    "n_iter=0\n",
    "for train_idx , test_idx in bad_fold_iris.split(fold_iris_frm):\n",
    "    # print(train_idx,test_idx)\n",
    "    label_train = fold_iris_frm['target'].iloc[train_idx]\n",
    "    label_val = fold_iris_frm['target'].iloc[test_idx]\n",
    "    print(label_train.value_counts())\n",
    "    print(label_val.value_counts())\n",
    "    print()"
   ]
  },
  {
   "cell_type": "code",
   "execution_count": 116,
   "id": "8dbc689b",
   "metadata": {},
   "outputs": [
    {
     "name": "stdout",
     "output_type": "stream",
     "text": [
      "학습 레이블의 분포\n",
      "2    34\n",
      "0    33\n",
      "1    33\n",
      "Name: target, dtype: int64\n",
      "검증 레이블의 분포\n",
      "0    17\n",
      "1    17\n",
      "2    16\n",
      "Name: target, dtype: int64\n",
      "\n",
      "학습 레이블의 분포\n",
      "1    34\n",
      "0    33\n",
      "2    33\n",
      "Name: target, dtype: int64\n",
      "검증 레이블의 분포\n",
      "0    17\n",
      "2    17\n",
      "1    16\n",
      "Name: target, dtype: int64\n",
      "\n",
      "학습 레이블의 분포\n",
      "0    34\n",
      "1    33\n",
      "2    33\n",
      "Name: target, dtype: int64\n",
      "검증 레이블의 분포\n",
      "1    17\n",
      "2    17\n",
      "0    16\n",
      "Name: target, dtype: int64\n",
      "\n"
     ]
    }
   ],
   "source": [
    "# straitifiedKFold\n",
    "\n",
    "skf = StratifiedKFold(n_splits=3)\n",
    "n_iter=0\n",
    "for train_idx , test_idx in skf.split(fold_iris_frm,fold_iris_frm['target']):\n",
    "    # print(train_idx,test_idx)\n",
    "    label_train = fold_iris_frm['target'].iloc[train_idx]\n",
    "    label_val = fold_iris_frm['target'].iloc[test_idx]\n",
    "    print('학습 레이블의 분포')\n",
    "    print(label_train.value_counts())\n",
    "    print('검증 레이블의 분포')\n",
    "    print(label_val.value_counts())\n",
    "    print()"
   ]
  },
  {
   "cell_type": "code",
   "execution_count": 122,
   "id": "fae9971a",
   "metadata": {},
   "outputs": [
    {
     "name": "stdout",
     "output_type": "stream",
     "text": [
      "1. 교차검증 정확도:0.9666666666666667, 학습데이터 크기:120, 검증데이터 크기:30\n",
      "2. 교차검증 정확도:0.9666666666666667, 학습데이터 크기:120, 검증데이터 크기:30\n",
      "3. 교차검증 정확도:0.9, 학습데이터 크기:120, 검증데이터 크기:30\n",
      "4. 교차검증 정확도:0.9333333333333333, 학습데이터 크기:120, 검증데이터 크기:30\n",
      "5. 교차검증 정확도:1.0, 학습데이터 크기:120, 검증데이터 크기:30\n",
      "0.9533333333333334\n"
     ]
    }
   ],
   "source": [
    "# 연습\n",
    "# random_state = 100\n",
    "# StraitifiedKFold 교차검증 진행\n",
    "# 평균 정확도 \n",
    "\n",
    "fold_iris = load_iris()\n",
    "features = fold_iris.data\n",
    "labels = fold_iris.target\n",
    "\n",
    "dt_model = DecisionTreeClassifier(random_state=100)\n",
    "skf = StratifiedKFold(n_splits=5)\n",
    "n_iter=0\n",
    "cv_accuracy = []\n",
    "\n",
    "for train_idx, test_idx in skf.split(features,labels):\n",
    "    \n",
    "    X_train,X_val = features[train_idx],features[test_idx]\n",
    "    y_train,y_val = labels[train_idx],labels[test_idx]\n",
    "    \n",
    "    dt_model.fit(X_train,y_train)\n",
    "    fold_predict = dt_model.predict(X_val)\n",
    "\n",
    "    acc = accuracy_score(y_val,fold_predict)\n",
    "    cv_accuracy.append(acc)\n",
    "    n_iter+=1\n",
    "    \n",
    "    print(f'{n_iter}. 교차검증 정확도:{acc}, 학습데이터 크기:{X_train.shape[0]}, 검증데이터 크기:{X_val.shape[0]}')\n",
    "    \n",
    "# 각 폴드별 정확도 평균\n",
    "print(np.mean(cv_accuracy))"
   ]
  },
  {
   "cell_type": "markdown",
   "id": "b439ad73",
   "metadata": {},
   "source": [
    "- 위 과정을 한번에 수행해주는 함수가 존재: cross_val_score(예측모델,피처세트,레이블,성능평가지표,폴드 수)\n",
    "- 절차 : 폴드설정 -> 반복을 통해서 학습 및 테스트의 인덱스를 추출 -> 학습과 예측"
   ]
  },
  {
   "cell_type": "code",
   "execution_count": 134,
   "id": "15daac02",
   "metadata": {},
   "outputs": [
    {
     "name": "stdout",
     "output_type": "stream",
     "text": [
      "[0.96666667 0.96666667 0.9        0.93333333 1.        ]\n",
      "0.9533333333333334\n",
      "{'fit_time': array([0.00191689, 0.00099826, 0.00101495, 0.00091314, 0.00075388]), 'score_time': array([0.00040507, 0.00030279, 0.00031686, 0.0002718 , 0.00022602]), 'test_score': array([0.96666667, 0.96666667, 0.9       , 0.93333333, 1.        ])}\n",
      "[0.96666667 0.96666667 0.9        0.93333333 1.        ]\n"
     ]
    }
   ],
   "source": [
    "fold_iris = load_iris()\n",
    "features = fold_iris.data\n",
    "labels = fold_iris.target\n",
    "dt_model = DecisionTreeClassifier(random_state=100)\n",
    "\n",
    "# 성능평가 지표로 accuracy 이용\n",
    "\n",
    "scores = cross_val_score(dt_model,features,labels,scoring='accuracy',cv=5)\n",
    "print(scores)\n",
    "print(np.mean(scores))\n",
    "\n",
    "validates = cross_validate(dt_model,features,labels,scoring='accuracy',cv=5)\n",
    "print(validates)\n",
    "print(validates['test_score'])"
   ]
  }
 ],
 "metadata": {
  "kernelspec": {
   "display_name": "Python 3 (ipykernel)",
   "language": "python",
   "name": "python3"
  },
  "language_info": {
   "codemirror_mode": {
    "name": "ipython",
    "version": 3
   },
   "file_extension": ".py",
   "mimetype": "text/x-python",
   "name": "python",
   "nbconvert_exporter": "python",
   "pygments_lexer": "ipython3",
   "version": "3.8.11"
  }
 },
 "nbformat": 4,
 "nbformat_minor": 5
}
