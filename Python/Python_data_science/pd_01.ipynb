{
 "cells": [
  {
   "cell_type": "markdown",
   "metadata": {},
   "source": [
    "## Pandas\n",
    "- 분석할려는 데이터는 Series 또는 DataFrame\n",
    "- Series => 넘파이의 1차원배열과 비슷, 다른점은 각 데이터의 index가 존재"
   ]
  },
  {
   "cell_type": "code",
   "execution_count": 1,
   "metadata": {},
   "outputs": [
    {
     "name": "stdout",
     "output_type": "stream",
     "text": [
      "numpy_version 1.20.3\n",
      "pandas_version 1.3.2\n"
     ]
    }
   ],
   "source": [
    "import numpy as np\n",
    "import pandas as pd\n",
    "import matplotlib as plt\n",
    "\n",
    "print('numpy_version',np.__version__)\n",
    "print('pandas_version',pd.__version__)"
   ]
  },
  {
   "cell_type": "markdown",
   "metadata": {},
   "source": [
    "## Series\n",
    "- 인덱싱된 데이터의 1차원 배열이다"
   ]
  },
  {
   "cell_type": "code",
   "execution_count": 2,
   "metadata": {},
   "outputs": [],
   "source": [
    "def seriesinfo(ary):\n",
    "    print('data \\n',ary)\n",
    "    print('index:',type(ary.index),ary.index)\n",
    "    print('value:',type(ary.values),ary.values)"
   ]
  },
  {
   "cell_type": "markdown",
   "metadata": {},
   "source": [
    "- ndarray와 다른점은 굳이 homogeneous한 배열이 아니여도 된다"
   ]
  },
  {
   "cell_type": "code",
   "execution_count": 7,
   "metadata": {},
   "outputs": [
    {
     "name": "stdout",
     "output_type": "stream",
     "text": [
      "data \n",
      " 0        1\n",
      "1        2\n",
      "2        3\n",
      "3        4\n",
      "4        5\n",
      "5    jslim\n",
      "dtype: object\n",
      "index: <class 'pandas.core.indexes.range.RangeIndex'> RangeIndex(start=0, stop=6, step=1)\n",
      "value: <class 'numpy.ndarray'> [1 2 3 4 5 'jslim']\n"
     ]
    }
   ],
   "source": [
    "ary = pd.Series([1,2,3,4,5,'jslim'],dtype=object)\n",
    "seriesinfo(ary)"
   ]
  },
  {
   "cell_type": "markdown",
   "metadata": {},
   "source": [
    "- 인덱스를 명시 가능하다"
   ]
  },
  {
   "cell_type": "code",
   "execution_count": 4,
   "metadata": {},
   "outputs": [
    {
     "name": "stdout",
     "output_type": "stream",
     "text": [
      "data \n",
      " a    1\n",
      "b    2\n",
      "c    3\n",
      "dtype: int64\n",
      "index: <class 'pandas.core.indexes.base.Index'> Index(['a', 'b', 'c'], dtype='object')\n",
      "value: <class 'numpy.ndarray'> [1 2 3]\n"
     ]
    }
   ],
   "source": [
    "ary = pd.Series({'a':1,'b':2,'c':3})\n",
    "seriesinfo(ary)"
   ]
  },
  {
   "cell_type": "code",
   "execution_count": 6,
   "metadata": {},
   "outputs": [
    {
     "name": "stdout",
     "output_type": "stream",
     "text": [
      "data \n",
      " a        1\n",
      "b        2\n",
      "c        3\n",
      "d    jslim\n",
      "dtype: object\n",
      "index: <class 'pandas.core.indexes.base.Index'> Index(['a', 'b', 'c', 'd'], dtype='object')\n",
      "value: <class 'numpy.ndarray'> [1 2 3 'jslim']\n"
     ]
    }
   ],
   "source": [
    "ary = pd.Series([1,2,3,'jslim'],index=['a','b','c','d'],dtype=object)\n",
    "seriesinfo(ary)"
   ]
  },
  {
   "cell_type": "markdown",
   "metadata": {},
   "source": [
    "### series의 유용한 속성들"
   ]
  },
  {
   "cell_type": "markdown",
   "metadata": {},
   "source": [
    "- values \n",
    "- index"
   ]
  },
  {
   "cell_type": "code",
   "execution_count": 38,
   "metadata": {},
   "outputs": [
    {
     "name": "stdout",
     "output_type": "stream",
     "text": [
      "[0 1 2 3 4]\n",
      "Index(['a', 'b', 'c', 'd', 'e'], dtype='object')\n"
     ]
    }
   ],
   "source": [
    "series01 = pd.Series(range(5),index=['a','b','c','d','e'])\n",
    "print(series01.values)\n",
    "print(series01.index)"
   ]
  },
  {
   "cell_type": "markdown",
   "metadata": {},
   "source": [
    "- name, index.name 속성이 존재한다\n",
    "- name은 Series data 자체의 이름을 의미하고 \n",
    "- index.name 은 시리즈 인덱스의 이름을 의미한다"
   ]
  },
  {
   "cell_type": "code",
   "execution_count": 15,
   "metadata": {},
   "outputs": [
    {
     "name": "stdout",
     "output_type": "stream",
     "text": [
      "0    0\n",
      "1    1\n",
      "2    2\n",
      "3    3\n",
      "4    4\n",
      "dtype: int64\n",
      "문자\n",
      "a    0\n",
      "b    1\n",
      "c    2\n",
      "d    3\n",
      "e    4\n",
      "Name: 숫자, dtype: int64\n"
     ]
    }
   ],
   "source": [
    "ary = pd.Series(range(5))\n",
    "print(ary)\n",
    "ary.name = '숫자'\n",
    "ary.index = ['a','b','c','d','e']\n",
    "ary.index.name = '문자'\n",
    "print(ary)"
   ]
  },
  {
   "cell_type": "markdown",
   "metadata": {},
   "source": [
    "- series.items()"
   ]
  },
  {
   "cell_type": "code",
   "execution_count": 32,
   "metadata": {},
   "outputs": [
    {
     "name": "stdout",
     "output_type": "stream",
     "text": [
      "a 0\n",
      "b 1\n",
      "c 2\n",
      "d 3\n",
      "e 4\n"
     ]
    }
   ],
   "source": [
    "series01 = pd.Series(range(5),index=['a','b','c','d','e'])\n",
    "for value,index in series01.items():\n",
    "    print(value,index)"
   ]
  },
  {
   "cell_type": "markdown",
   "metadata": {},
   "source": [
    "### series 에서 indexing\n",
    "- 정수형 위치 index활용\n",
    "- series의 인덱스의 값을 사용하는 방법"
   ]
  },
  {
   "cell_type": "code",
   "execution_count": 22,
   "metadata": {},
   "outputs": [
    {
     "name": "stdout",
     "output_type": "stream",
     "text": [
      "정수형 인덱스 0\n",
      "인덱스 값 0\n",
      "정수형 인덱스 a    0\n",
      "b    1\n",
      "dtype: int64\n",
      "인덱스 값 a    0\n",
      "b    1\n",
      "dtype: int64\n"
     ]
    }
   ],
   "source": [
    "ary = pd.Series(range(5),index=['a','b','c','d','e'])\n",
    "\n",
    "print('정수형 인덱스',ary[0])\n",
    "print('인덱스 값',ary['a'])\n",
    "\n",
    "print('정수형 인덱스',ary[[0,1]])\n",
    "print('인덱스 값',ary[['a','b']])"
   ]
  },
  {
   "cell_type": "markdown",
   "metadata": {},
   "source": [
    "### Series에서 fancy indexing \n",
    "- 두개 이상의 원소가 선택되면 return type이 series가 된다\n",
    "- 리스트를 이용해서 여러 원소 indexing 가능"
   ]
  },
  {
   "cell_type": "code",
   "execution_count": 30,
   "metadata": {},
   "outputs": [
    {
     "name": "stdout",
     "output_type": "stream",
     "text": [
      "정수형 인덱스 a    0\n",
      "b    1\n",
      "dtype: int64\n",
      "인덱스 값 a    0\n",
      "b    1\n",
      "dtype: int64\n",
      "<class 'pandas.core.series.Series'>\n"
     ]
    }
   ],
   "source": [
    "ary = pd.Series(range(5),index=['a','b','c','d','e'])\n",
    "print('정수형 인덱스',ary[[0,1]])\n",
    "print('인덱스 값',ary[['a','b']])\n",
    "\n",
    "print(type(ary[['a','b']]))"
   ]
  },
  {
   "cell_type": "markdown",
   "metadata": {},
   "source": [
    "### Series에서 boolean indexing"
   ]
  },
  {
   "cell_type": "code",
   "execution_count": 45,
   "metadata": {},
   "outputs": [
    {
     "name": "stdout",
     "output_type": "stream",
     "text": [
      "0    0\n",
      "2    2\n",
      "4    4\n",
      "dtype: int64\n"
     ]
    }
   ],
   "source": [
    "series01 = pd.Series(range(5))\n",
    "print(series01[series01%2==0])"
   ]
  },
  {
   "cell_type": "markdown",
   "metadata": {},
   "source": [
    "### Series에서 slicing\n",
    "- 정수형 슬라이싱은 기존과 동일하다\n",
    "- index 값을 활용한 슬라이싱에서는 'a':'b' a와 b 둘다 포함이다"
   ]
  },
  {
   "cell_type": "code",
   "execution_count": 41,
   "metadata": {},
   "outputs": [
    {
     "name": "stdout",
     "output_type": "stream",
     "text": [
      "정수형 인덱스 a    0\n",
      "b    1\n",
      "c    2\n",
      "dtype: int64\n",
      "인덱스 값 a    0\n",
      "b    1\n",
      "dtype: int64\n"
     ]
    }
   ],
   "source": [
    "ary = pd.Series(range(5),index=['a','b','c','d','e'])\n",
    "print('정수형 인덱스',ary[0:3])\n",
    "print('인덱스 값',ary['a':'b']) "
   ]
  },
  {
   "cell_type": "markdown",
   "metadata": {},
   "source": [
    "### Series끼리의 연산\n",
    "- index를 기준으로 연산이 된다\n",
    "- index가 다른 값의 경우는 NaN으로 표기된다"
   ]
  },
  {
   "cell_type": "code",
   "execution_count": 55,
   "metadata": {},
   "outputs": [],
   "source": [
    "# 평균이 50이고 편차가 5인 정규분포 데이터를 10일간 기록\n",
    "from datetime import date,datetime,timedelta\n",
    "from dateutil.parser import parse\n",
    "\n",
    "days01= [datetime(2021,8,31)+timedelta(days=i) for i in range(10)]\n",
    "data01 = np.random.normal(50,5,10)\n",
    "\n",
    "days02= [datetime(2021,9,3)+timedelta(days=i) for i in range(10)]\n",
    "data02 = np.random.normal(70,5,10)\n",
    "\n",
    "factory01 = pd.Series(data01,index=days01)\n",
    "factory02 = pd.Series(data02,index=days02)"
   ]
  },
  {
   "cell_type": "code",
   "execution_count": 56,
   "metadata": {},
   "outputs": [
    {
     "data": {
      "text/plain": [
       "2021-08-31           NaN\n",
       "2021-09-01           NaN\n",
       "2021-09-02           NaN\n",
       "2021-09-03    119.280921\n",
       "2021-09-04    134.621140\n",
       "2021-09-05    117.349924\n",
       "2021-09-06    126.646308\n",
       "2021-09-07    110.658507\n",
       "2021-09-08    118.115236\n",
       "2021-09-09    110.865389\n",
       "2021-09-10           NaN\n",
       "2021-09-11           NaN\n",
       "2021-09-12           NaN\n",
       "dtype: float64"
      ]
     },
     "execution_count": 56,
     "metadata": {},
     "output_type": "execute_result"
    }
   ],
   "source": [
    "factory01+factory02"
   ]
  },
  {
   "cell_type": "markdown",
   "metadata": {},
   "source": [
    "### update append delete"
   ]
  },
  {
   "cell_type": "code",
   "execution_count": 68,
   "metadata": {},
   "outputs": [],
   "source": [
    "series01 = pd.Series(range(5),index=['a','b','c','d','e'])"
   ]
  },
  {
   "cell_type": "code",
   "execution_count": 77,
   "metadata": {},
   "outputs": [
    {
     "name": "stdout",
     "output_type": "stream",
     "text": [
      "a     100\n",
      "b    2000\n",
      "c    3000\n",
      "d     300\n",
      "e       4\n",
      "dtype: int64\n",
      "a     100\n",
      "b    2000\n",
      "c    3000\n",
      "d     300\n",
      "e       4\n",
      "dtype: int64\n"
     ]
    }
   ],
   "source": [
    "# indexing을 통한 update\n",
    "series01[0] = 100\n",
    "print(series01)\n",
    "series01['d'] = 300\n",
    "print(series01)"
   ]
  },
  {
   "cell_type": "code",
   "execution_count": 72,
   "metadata": {},
   "outputs": [
    {
     "name": "stdout",
     "output_type": "stream",
     "text": [
      "a    1000\n",
      "b    2000\n",
      "c    3000\n",
      "d     300\n",
      "e       4\n",
      "dtype: int64\n"
     ]
    }
   ],
   "source": [
    "# slicing을 통한 update\n",
    "series01[0:3] = [1000,2000,3000]\n",
    "print(series01)"
   ]
  },
  {
   "cell_type": "code",
   "execution_count": 75,
   "metadata": {},
   "outputs": [
    {
     "name": "stdout",
     "output_type": "stream",
     "text": [
      "a     1000\n",
      "b     2000\n",
      "c     3000\n",
      "d      300\n",
      "e        4\n",
      "f    10000\n",
      "dtype: int64\n"
     ]
    }
   ],
   "source": [
    "# append\n",
    "series01['f'] = 10000\n",
    "print(series01)"
   ]
  },
  {
   "cell_type": "code",
   "execution_count": 76,
   "metadata": {},
   "outputs": [
    {
     "name": "stdout",
     "output_type": "stream",
     "text": [
      "a    1000\n",
      "b    2000\n",
      "c    3000\n",
      "d     300\n",
      "e       4\n",
      "dtype: int64\n"
     ]
    }
   ],
   "source": [
    "# del\n",
    "del series01['f']\n",
    "print(series01)"
   ]
  },
  {
   "cell_type": "markdown",
   "metadata": {},
   "source": [
    "### DataFrame\n"
   ]
  },
  {
   "cell_type": "code",
   "execution_count": 102,
   "metadata": {},
   "outputs": [],
   "source": [
    "def dfinfo(df):\n",
    "    display(df)\n",
    "    print('shape:',df.shape)\n",
    "    print('size:',df.size)\n",
    "    print('ndim:',df.ndim)\n",
    "    print('index:',df.index)     # row index\n",
    "    print('columns:',df.columns) # column inex \n",
    "    print('values:\\n',df.values,type(df.values)) #ndarray 형식으로 나온다"
   ]
  },
  {
   "cell_type": "code",
   "execution_count": 101,
   "metadata": {},
   "outputs": [
    {
     "data": {
      "text/html": [
       "<div>\n",
       "<style scoped>\n",
       "    .dataframe tbody tr th:only-of-type {\n",
       "        vertical-align: middle;\n",
       "    }\n",
       "\n",
       "    .dataframe tbody tr th {\n",
       "        vertical-align: top;\n",
       "    }\n",
       "\n",
       "    .dataframe thead th {\n",
       "        text-align: right;\n",
       "    }\n",
       "</style>\n",
       "<table border=\"1\" class=\"dataframe\">\n",
       "  <thead>\n",
       "    <tr style=\"text-align: right;\">\n",
       "      <th></th>\n",
       "      <th>col01</th>\n",
       "      <th>col02</th>\n",
       "      <th>col03</th>\n",
       "      <th>col04</th>\n",
       "    </tr>\n",
       "  </thead>\n",
       "  <tbody>\n",
       "    <tr>\n",
       "      <th>0</th>\n",
       "      <td>1</td>\n",
       "      <td>1</td>\n",
       "      <td>1</td>\n",
       "      <td>1</td>\n",
       "    </tr>\n",
       "    <tr>\n",
       "      <th>1</th>\n",
       "      <td>2</td>\n",
       "      <td>2</td>\n",
       "      <td>2</td>\n",
       "      <td>2</td>\n",
       "    </tr>\n",
       "    <tr>\n",
       "      <th>2</th>\n",
       "      <td>3</td>\n",
       "      <td>3</td>\n",
       "      <td>3</td>\n",
       "      <td>3</td>\n",
       "    </tr>\n",
       "  </tbody>\n",
       "</table>\n",
       "</div>"
      ],
      "text/plain": [
       "   col01  col02  col03  col04\n",
       "0      1      1      1      1\n",
       "1      2      2      2      2\n",
       "2      3      3      3      3"
      ]
     },
     "metadata": {},
     "output_type": "display_data"
    },
    {
     "name": "stdout",
     "output_type": "stream",
     "text": [
      "shape: (3, 4)\n",
      "size: 12\n",
      "ndim: 2\n",
      "index: RangeIndex(start=0, stop=3, step=1)\n",
      "columns: Index(['col01', 'col02', 'col03', 'col04'], dtype='object')\n",
      "values:\n",
      " [[1 1 1 1]\n",
      " [2 2 2 2]\n",
      " [3 3 3 3]] <class 'numpy.ndarray'>\n"
     ]
    }
   ],
   "source": [
    "dict_data = {\n",
    "    'col01': [1,2,3],\n",
    "    'col02': [1,2,3],\n",
    "    'col03': [1,2,3],\n",
    "    'col04': [1,2,3],\n",
    "}\n",
    "df01=pd.DataFrame(dict_data)\n",
    "dfinfo(df01)"
   ]
  },
  {
   "cell_type": "code",
   "execution_count": 110,
   "metadata": {},
   "outputs": [
    {
     "data": {
      "text/html": [
       "<div>\n",
       "<style scoped>\n",
       "    .dataframe tbody tr th:only-of-type {\n",
       "        vertical-align: middle;\n",
       "    }\n",
       "\n",
       "    .dataframe tbody tr th {\n",
       "        vertical-align: top;\n",
       "    }\n",
       "\n",
       "    .dataframe thead th {\n",
       "        text-align: right;\n",
       "    }\n",
       "</style>\n",
       "<table border=\"1\" class=\"dataframe\">\n",
       "  <thead>\n",
       "    <tr style=\"text-align: right;\">\n",
       "      <th></th>\n",
       "      <th>0</th>\n",
       "      <th>1</th>\n",
       "      <th>2</th>\n",
       "    </tr>\n",
       "  </thead>\n",
       "  <tbody>\n",
       "    <tr>\n",
       "      <th>0</th>\n",
       "      <td>20</td>\n",
       "      <td>M</td>\n",
       "      <td>False</td>\n",
       "    </tr>\n",
       "    <tr>\n",
       "      <th>1</th>\n",
       "      <td>34</td>\n",
       "      <td>F</td>\n",
       "      <td>True</td>\n",
       "    </tr>\n",
       "  </tbody>\n",
       "</table>\n",
       "</div>"
      ],
      "text/plain": [
       "    0  1      2\n",
       "0  20  M  False\n",
       "1  34  F   True"
      ]
     },
     "metadata": {},
     "output_type": "display_data"
    }
   ],
   "source": [
    "# 리스트를 이용한 생성 1\n",
    "df01 = pd.DataFrame([[20,'M',False],[34,'F',True]]) # index 와 columns가 자동으로 숫자로 채워진다\n",
    "display(df01)"
   ]
  },
  {
   "cell_type": "code",
   "execution_count": 109,
   "metadata": {},
   "outputs": [
    {
     "data": {
      "text/html": [
       "<div>\n",
       "<style scoped>\n",
       "    .dataframe tbody tr th:only-of-type {\n",
       "        vertical-align: middle;\n",
       "    }\n",
       "\n",
       "    .dataframe tbody tr th {\n",
       "        vertical-align: top;\n",
       "    }\n",
       "\n",
       "    .dataframe thead th {\n",
       "        text-align: right;\n",
       "    }\n",
       "</style>\n",
       "<table border=\"1\" class=\"dataframe\">\n",
       "  <thead>\n",
       "    <tr style=\"text-align: right;\">\n",
       "      <th></th>\n",
       "      <th>나이</th>\n",
       "      <th>성별</th>\n",
       "      <th>결혼</th>\n",
       "    </tr>\n",
       "  </thead>\n",
       "  <tbody>\n",
       "    <tr>\n",
       "      <th>lee</th>\n",
       "      <td>20</td>\n",
       "      <td>M</td>\n",
       "      <td>False</td>\n",
       "    </tr>\n",
       "    <tr>\n",
       "      <th>park</th>\n",
       "      <td>34</td>\n",
       "      <td>F</td>\n",
       "      <td>True</td>\n",
       "    </tr>\n",
       "  </tbody>\n",
       "</table>\n",
       "</div>"
      ],
      "text/plain": [
       "      나이 성별     결혼\n",
       "lee   20  M  False\n",
       "park  34  F   True"
      ]
     },
     "metadata": {},
     "output_type": "display_data"
    }
   ],
   "source": [
    "# 리스트를 이용한 생성 2\n",
    "df01 = pd.DataFrame([[20,'M',False],[34,'F',True]],\n",
    "                   columns=['나이','성별','결혼'],\n",
    "                   index =['lee','park'])\n",
    "display(df01)"
   ]
  },
  {
   "cell_type": "code",
   "execution_count": 113,
   "metadata": {},
   "outputs": [
    {
     "data": {
      "text/html": [
       "<div>\n",
       "<style scoped>\n",
       "    .dataframe tbody tr th:only-of-type {\n",
       "        vertical-align: middle;\n",
       "    }\n",
       "\n",
       "    .dataframe tbody tr th {\n",
       "        vertical-align: top;\n",
       "    }\n",
       "\n",
       "    .dataframe thead th {\n",
       "        text-align: right;\n",
       "    }\n",
       "</style>\n",
       "<table border=\"1\" class=\"dataframe\">\n",
       "  <thead>\n",
       "    <tr style=\"text-align: right;\">\n",
       "      <th></th>\n",
       "      <th>나이</th>\n",
       "      <th>성별</th>\n",
       "      <th>결혼</th>\n",
       "    </tr>\n",
       "  </thead>\n",
       "  <tbody>\n",
       "    <tr>\n",
       "      <th>lee</th>\n",
       "      <td>20</td>\n",
       "      <td>M</td>\n",
       "      <td>False</td>\n",
       "    </tr>\n",
       "    <tr>\n",
       "      <th>park</th>\n",
       "      <td>34</td>\n",
       "      <td>F</td>\n",
       "      <td>True</td>\n",
       "    </tr>\n",
       "  </tbody>\n",
       "</table>\n",
       "</div>"
      ],
      "text/plain": [
       "      나이 성별     결혼\n",
       "lee   20  M  False\n",
       "park  34  F   True"
      ]
     },
     "metadata": {},
     "output_type": "display_data"
    },
    {
     "data": {
      "text/html": [
       "<div>\n",
       "<style scoped>\n",
       "    .dataframe tbody tr th:only-of-type {\n",
       "        vertical-align: middle;\n",
       "    }\n",
       "\n",
       "    .dataframe tbody tr th {\n",
       "        vertical-align: top;\n",
       "    }\n",
       "\n",
       "    .dataframe thead th {\n",
       "        text-align: right;\n",
       "    }\n",
       "</style>\n",
       "<table border=\"1\" class=\"dataframe\">\n",
       "  <thead>\n",
       "    <tr style=\"text-align: right;\">\n",
       "      <th></th>\n",
       "      <th>나이</th>\n",
       "      <th>성별</th>\n",
       "      <th>결혼</th>\n",
       "    </tr>\n",
       "  </thead>\n",
       "  <tbody>\n",
       "    <tr>\n",
       "      <th>lee</th>\n",
       "      <td>20</td>\n",
       "      <td>M</td>\n",
       "      <td>False</td>\n",
       "    </tr>\n",
       "    <tr>\n",
       "      <th>park</th>\n",
       "      <td>34</td>\n",
       "      <td>F</td>\n",
       "      <td>True</td>\n",
       "    </tr>\n",
       "  </tbody>\n",
       "</table>\n",
       "</div>"
      ],
      "text/plain": [
       "      나이 성별     결혼\n",
       "lee   20  M  False\n",
       "park  34  F   True"
      ]
     },
     "metadata": {},
     "output_type": "display_data"
    }
   ],
   "source": [
    "# 튜플도 가능하다\n",
    "df01 = pd.DataFrame([(20,'M',False),(34,'F',True)],\n",
    "                   columns=['나이','성별','결혼'],\n",
    "                   index =['lee','park'])\n",
    "display(df01)\n",
    "\n",
    "df01 = pd.DataFrame(((20,'M',False),(34,'F',True)),\n",
    "                   columns=['나이','성별','결혼'],\n",
    "                   index =['lee','park'])\n",
    "display(df01)"
   ]
  },
  {
   "cell_type": "markdown",
   "metadata": {},
   "source": [
    "- rename 함수"
   ]
  },
  {
   "cell_type": "code",
   "execution_count": 116,
   "metadata": {},
   "outputs": [
    {
     "data": {
      "text/html": [
       "<div>\n",
       "<style scoped>\n",
       "    .dataframe tbody tr th:only-of-type {\n",
       "        vertical-align: middle;\n",
       "    }\n",
       "\n",
       "    .dataframe tbody tr th {\n",
       "        vertical-align: top;\n",
       "    }\n",
       "\n",
       "    .dataframe thead th {\n",
       "        text-align: right;\n",
       "    }\n",
       "</style>\n",
       "<table border=\"1\" class=\"dataframe\">\n",
       "  <thead>\n",
       "    <tr style=\"text-align: right;\">\n",
       "      <th></th>\n",
       "      <th>age</th>\n",
       "      <th>gender</th>\n",
       "      <th>marriage</th>\n",
       "    </tr>\n",
       "  </thead>\n",
       "  <tbody>\n",
       "    <tr>\n",
       "      <th>kim</th>\n",
       "      <td>20</td>\n",
       "      <td>M</td>\n",
       "      <td>False</td>\n",
       "    </tr>\n",
       "    <tr>\n",
       "      <th>kwak</th>\n",
       "      <td>34</td>\n",
       "      <td>F</td>\n",
       "      <td>True</td>\n",
       "    </tr>\n",
       "  </tbody>\n",
       "</table>\n",
       "</div>"
      ],
      "text/plain": [
       "      age gender  marriage\n",
       "kim    20      M     False\n",
       "kwak   34      F      True"
      ]
     },
     "metadata": {},
     "output_type": "display_data"
    }
   ],
   "source": [
    "df01 = pd.DataFrame([[20,'M',False],[34,'F',True]],\n",
    "                   columns=['나이','성별','결혼'],\n",
    "                   index =['lee','park'])\n",
    "df01.rename(columns={'나이':'age', '성별':'gender', '결혼':'marriage'},inplace=True)\n",
    "df01.rename(index={'lee':'kim','park':'kwak'},inplace=True)\n",
    "display(df01)"
   ]
  },
  {
   "cell_type": "code",
   "execution_count": 121,
   "metadata": {
    "scrolled": true
   },
   "outputs": [
    {
     "data": {
      "text/html": [
       "<div>\n",
       "<style scoped>\n",
       "    .dataframe tbody tr th:only-of-type {\n",
       "        vertical-align: middle;\n",
       "    }\n",
       "\n",
       "    .dataframe tbody tr th {\n",
       "        vertical-align: top;\n",
       "    }\n",
       "\n",
       "    .dataframe thead th {\n",
       "        text-align: right;\n",
       "    }\n",
       "</style>\n",
       "<table border=\"1\" class=\"dataframe\">\n",
       "  <thead>\n",
       "    <tr style=\"text-align: right;\">\n",
       "      <th>feature</th>\n",
       "      <th>지역</th>\n",
       "      <th>2014</th>\n",
       "      <th>2016</th>\n",
       "      <th>2018</th>\n",
       "      <th>2021</th>\n",
       "      <th>증가율</th>\n",
       "    </tr>\n",
       "    <tr>\n",
       "      <th>index</th>\n",
       "      <th></th>\n",
       "      <th></th>\n",
       "      <th></th>\n",
       "      <th></th>\n",
       "      <th></th>\n",
       "      <th></th>\n",
       "    </tr>\n",
       "  </thead>\n",
       "  <tbody>\n",
       "    <tr>\n",
       "      <th>0</th>\n",
       "      <td>수도권</td>\n",
       "      <td>5910293</td>\n",
       "      <td>7910293</td>\n",
       "      <td>8910293</td>\n",
       "      <td>9910293</td>\n",
       "      <td>0.2343</td>\n",
       "    </tr>\n",
       "    <tr>\n",
       "      <th>1</th>\n",
       "      <td>경상권</td>\n",
       "      <td>3384050</td>\n",
       "      <td>5384050</td>\n",
       "      <td>7384050</td>\n",
       "      <td>8384050</td>\n",
       "      <td>0.0434</td>\n",
       "    </tr>\n",
       "    <tr>\n",
       "      <th>2</th>\n",
       "      <td>수도권</td>\n",
       "      <td>4938485</td>\n",
       "      <td>7938485</td>\n",
       "      <td>5938485</td>\n",
       "      <td>2938485</td>\n",
       "      <td>0.0944</td>\n",
       "    </tr>\n",
       "    <tr>\n",
       "      <th>3</th>\n",
       "      <td>경상권</td>\n",
       "      <td>4203948</td>\n",
       "      <td>6203948</td>\n",
       "      <td>3203948</td>\n",
       "      <td>1203948</td>\n",
       "      <td>0.0034</td>\n",
       "    </tr>\n",
       "  </tbody>\n",
       "</table>\n",
       "</div>"
      ],
      "text/plain": [
       "feature   지역     2014     2016     2018     2021     증가율\n",
       "index                                                   \n",
       "0        수도권  5910293  7910293  8910293  9910293  0.2343\n",
       "1        경상권  3384050  5384050  7384050  8384050  0.0434\n",
       "2        수도권  4938485  7938485  5938485  2938485  0.0944\n",
       "3        경상권  4203948  6203948  3203948  1203948  0.0034"
      ]
     },
     "metadata": {},
     "output_type": "display_data"
    },
    {
     "name": "stdout",
     "output_type": "stream",
     "text": [
      "shape: (4, 6)\n",
      "size: 24\n",
      "ndim: 2\n",
      "index: RangeIndex(start=0, stop=4, step=1, name='index')\n",
      "columns: Index(['지역', '2014', '2016', '2018', '2021', '증가율'], dtype='object', name='feature')\n",
      "values:\n",
      " [['수도권' 5910293 7910293 8910293 9910293 0.2343]\n",
      " ['경상권' 3384050 5384050 7384050 8384050 0.0434]\n",
      " ['수도권' 4938485 7938485 5938485 2938485 0.0944]\n",
      " ['경상권' 4203948 6203948 3203948 1203948 0.0034]] <class 'numpy.ndarray'>\n"
     ]
    }
   ],
   "source": [
    "# 연습\n",
    "data = {\n",
    "    \"2021\" : [9910293, 8384050, 2938485, 1203948],\n",
    "    \"2018\" : [8910293, 7384050, 5938485, 3203948],\n",
    "    \"2016\" : [7910293, 5384050, 7938485, 6203948],\n",
    "    \"2014\" : [5910293, 3384050, 4938485, 4203948],\n",
    "    \"지역\" : ['수도권' , '경상권' , '수도권' , '경상권'],\n",
    "    \"증가율\" : [0.2343 , 0.0434 , 0.0944 , 0.0034]\n",
    "}\n",
    "# 컬럼의 순서를 바꾸는법 \n",
    "pop_df = pd.DataFrame(data,columns = ['지역','2014','2016','2018','2021','증가율'])\n",
    "pop_df.index.name = 'index'\n",
    "pop_df.columns.name = 'feature'\n",
    "dfinfo(pop_df)"
   ]
  },
  {
   "cell_type": "code",
   "execution_count": 126,
   "metadata": {},
   "outputs": [
    {
     "data": {
      "text/html": [
       "<div>\n",
       "<style scoped>\n",
       "    .dataframe tbody tr th:only-of-type {\n",
       "        vertical-align: middle;\n",
       "    }\n",
       "\n",
       "    .dataframe tbody tr th {\n",
       "        vertical-align: top;\n",
       "    }\n",
       "\n",
       "    .dataframe thead th {\n",
       "        text-align: right;\n",
       "    }\n",
       "</style>\n",
       "<table border=\"1\" class=\"dataframe\">\n",
       "  <thead>\n",
       "    <tr style=\"text-align: right;\">\n",
       "      <th>feature</th>\n",
       "      <th>지역</th>\n",
       "      <th>2014</th>\n",
       "      <th>2016</th>\n",
       "      <th>2018</th>\n",
       "      <th>2021</th>\n",
       "      <th>증가율</th>\n",
       "      <th>합</th>\n",
       "    </tr>\n",
       "    <tr>\n",
       "      <th>index</th>\n",
       "      <th></th>\n",
       "      <th></th>\n",
       "      <th></th>\n",
       "      <th></th>\n",
       "      <th></th>\n",
       "      <th></th>\n",
       "      <th></th>\n",
       "    </tr>\n",
       "  </thead>\n",
       "  <tbody>\n",
       "    <tr>\n",
       "      <th>0</th>\n",
       "      <td>수도권</td>\n",
       "      <td>5910293</td>\n",
       "      <td>7910293</td>\n",
       "      <td>8910293</td>\n",
       "      <td>9910293</td>\n",
       "      <td>0.2343</td>\n",
       "      <td>32641172</td>\n",
       "    </tr>\n",
       "    <tr>\n",
       "      <th>1</th>\n",
       "      <td>경상권</td>\n",
       "      <td>3384050</td>\n",
       "      <td>5384050</td>\n",
       "      <td>7384050</td>\n",
       "      <td>8384050</td>\n",
       "      <td>0.0434</td>\n",
       "      <td>24536200</td>\n",
       "    </tr>\n",
       "    <tr>\n",
       "      <th>2</th>\n",
       "      <td>수도권</td>\n",
       "      <td>4938485</td>\n",
       "      <td>7938485</td>\n",
       "      <td>5938485</td>\n",
       "      <td>2938485</td>\n",
       "      <td>0.0944</td>\n",
       "      <td>21753940</td>\n",
       "    </tr>\n",
       "    <tr>\n",
       "      <th>3</th>\n",
       "      <td>경상권</td>\n",
       "      <td>4203948</td>\n",
       "      <td>6203948</td>\n",
       "      <td>3203948</td>\n",
       "      <td>1203948</td>\n",
       "      <td>0.0034</td>\n",
       "      <td>14815792</td>\n",
       "    </tr>\n",
       "  </tbody>\n",
       "</table>\n",
       "</div>"
      ],
      "text/plain": [
       "feature   지역     2014     2016     2018     2021     증가율         합\n",
       "index                                                             \n",
       "0        수도권  5910293  7910293  8910293  9910293  0.2343  32641172\n",
       "1        경상권  3384050  5384050  7384050  8384050  0.0434  24536200\n",
       "2        수도권  4938485  7938485  5938485  2938485  0.0944  21753940\n",
       "3        경상권  4203948  6203948  3203948  1203948  0.0034  14815792"
      ]
     },
     "metadata": {},
     "output_type": "display_data"
    },
    {
     "data": {
      "text/html": [
       "<div>\n",
       "<style scoped>\n",
       "    .dataframe tbody tr th:only-of-type {\n",
       "        vertical-align: middle;\n",
       "    }\n",
       "\n",
       "    .dataframe tbody tr th {\n",
       "        vertical-align: top;\n",
       "    }\n",
       "\n",
       "    .dataframe thead th {\n",
       "        text-align: right;\n",
       "    }\n",
       "</style>\n",
       "<table border=\"1\" class=\"dataframe\">\n",
       "  <thead>\n",
       "    <tr style=\"text-align: right;\">\n",
       "      <th>feature</th>\n",
       "      <th>지역</th>\n",
       "      <th>2014</th>\n",
       "      <th>2016</th>\n",
       "      <th>2018</th>\n",
       "      <th>2021</th>\n",
       "      <th>증가율</th>\n",
       "    </tr>\n",
       "    <tr>\n",
       "      <th>index</th>\n",
       "      <th></th>\n",
       "      <th></th>\n",
       "      <th></th>\n",
       "      <th></th>\n",
       "      <th></th>\n",
       "      <th></th>\n",
       "    </tr>\n",
       "  </thead>\n",
       "  <tbody>\n",
       "    <tr>\n",
       "      <th>0</th>\n",
       "      <td>수도권</td>\n",
       "      <td>5910293</td>\n",
       "      <td>7910293</td>\n",
       "      <td>8910293</td>\n",
       "      <td>9910293</td>\n",
       "      <td>0.2343</td>\n",
       "    </tr>\n",
       "    <tr>\n",
       "      <th>1</th>\n",
       "      <td>경상권</td>\n",
       "      <td>3384050</td>\n",
       "      <td>5384050</td>\n",
       "      <td>7384050</td>\n",
       "      <td>8384050</td>\n",
       "      <td>0.0434</td>\n",
       "    </tr>\n",
       "    <tr>\n",
       "      <th>2</th>\n",
       "      <td>수도권</td>\n",
       "      <td>4938485</td>\n",
       "      <td>7938485</td>\n",
       "      <td>5938485</td>\n",
       "      <td>2938485</td>\n",
       "      <td>0.0944</td>\n",
       "    </tr>\n",
       "    <tr>\n",
       "      <th>3</th>\n",
       "      <td>경상권</td>\n",
       "      <td>4203948</td>\n",
       "      <td>6203948</td>\n",
       "      <td>3203948</td>\n",
       "      <td>1203948</td>\n",
       "      <td>0.0034</td>\n",
       "    </tr>\n",
       "  </tbody>\n",
       "</table>\n",
       "</div>"
      ],
      "text/plain": [
       "feature   지역     2014     2016     2018     2021     증가율\n",
       "index                                                   \n",
       "0        수도권  5910293  7910293  8910293  9910293  0.2343\n",
       "1        경상권  3384050  5384050  7384050  8384050  0.0434\n",
       "2        수도권  4938485  7938485  5938485  2938485  0.0944\n",
       "3        경상권  4203948  6203948  3203948  1203948  0.0034"
      ]
     },
     "metadata": {},
     "output_type": "display_data"
    }
   ],
   "source": [
    "# 열데이터 추가 삭제\n",
    "pop_df['합'] = pop_df['2014'] +pop_df['2016'] +pop_df['2018'] +pop_df['2021'] \n",
    "\n",
    "display(pop_df)\n",
    "\n",
    "del pop_df['합'] \n",
    "display(pop_df)"
   ]
  },
  {
   "cell_type": "code",
   "execution_count": 133,
   "metadata": {},
   "outputs": [
    {
     "data": {
      "text/html": [
       "<div>\n",
       "<style scoped>\n",
       "    .dataframe tbody tr th:only-of-type {\n",
       "        vertical-align: middle;\n",
       "    }\n",
       "\n",
       "    .dataframe tbody tr th {\n",
       "        vertical-align: top;\n",
       "    }\n",
       "\n",
       "    .dataframe thead th {\n",
       "        text-align: right;\n",
       "    }\n",
       "</style>\n",
       "<table border=\"1\" class=\"dataframe\">\n",
       "  <thead>\n",
       "    <tr style=\"text-align: right;\">\n",
       "      <th>feature</th>\n",
       "      <th>지역</th>\n",
       "      <th>2014</th>\n",
       "      <th>2016</th>\n",
       "      <th>2018</th>\n",
       "      <th>2021</th>\n",
       "      <th>증가율</th>\n",
       "    </tr>\n",
       "    <tr>\n",
       "      <th>index</th>\n",
       "      <th></th>\n",
       "      <th></th>\n",
       "      <th></th>\n",
       "      <th></th>\n",
       "      <th></th>\n",
       "      <th></th>\n",
       "    </tr>\n",
       "  </thead>\n",
       "  <tbody>\n",
       "    <tr>\n",
       "      <th>0</th>\n",
       "      <td>수도권</td>\n",
       "      <td>5910293</td>\n",
       "      <td>7910293</td>\n",
       "      <td>8910293</td>\n",
       "      <td>9910293</td>\n",
       "      <td>0.2343</td>\n",
       "    </tr>\n",
       "    <tr>\n",
       "      <th>1</th>\n",
       "      <td>경상권</td>\n",
       "      <td>3384050</td>\n",
       "      <td>5384050</td>\n",
       "      <td>7384050</td>\n",
       "      <td>8384050</td>\n",
       "      <td>0.0434</td>\n",
       "    </tr>\n",
       "    <tr>\n",
       "      <th>2</th>\n",
       "      <td>수도권</td>\n",
       "      <td>4938485</td>\n",
       "      <td>7938485</td>\n",
       "      <td>5938485</td>\n",
       "      <td>2938485</td>\n",
       "      <td>0.0944</td>\n",
       "    </tr>\n",
       "  </tbody>\n",
       "</table>\n",
       "</div>"
      ],
      "text/plain": [
       "feature   지역     2014     2016     2018     2021     증가율\n",
       "index                                                   \n",
       "0        수도권  5910293  7910293  8910293  9910293  0.2343\n",
       "1        경상권  3384050  5384050  7384050  8384050  0.0434\n",
       "2        수도권  4938485  7938485  5938485  2938485  0.0944"
      ]
     },
     "execution_count": 133,
     "metadata": {},
     "output_type": "execute_result"
    }
   ],
   "source": [
    "# 인덱싱\n",
    "pop_df[0:3]"
   ]
  },
  {
   "cell_type": "code",
   "execution_count": 139,
   "metadata": {},
   "outputs": [
    {
     "data": {
      "text/plain": [
       "index\n",
       "0    9910293\n",
       "3    1203948\n",
       "Name: 2021, dtype: int64"
      ]
     },
     "execution_count": 139,
     "metadata": {},
     "output_type": "execute_result"
    }
   ],
   "source": [
    "pop_df['2021'][[0,3]]"
   ]
  },
  {
   "cell_type": "markdown",
   "metadata": {},
   "source": [
    "#### 해당 url을 이용한 데이터 프레임 생성\n",
    "- http://kobis.or.kr/kobisopenapi/webservice/rest/boxoffice/searchDailyBoxOfficeList.json?key=f5eef3421c602c6cb7ea224104795888&targetDt=20120101"
   ]
  },
  {
   "cell_type": "code",
   "execution_count": 183,
   "metadata": {},
   "outputs": [
    {
     "name": "stdout",
     "output_type": "stream",
     "text": [
      "<http.client.HTTPResponse object at 0x7f906a1769d0>\n",
      "<class 'dict'>\n"
     ]
    },
    {
     "data": {
      "text/html": [
       "<div>\n",
       "<style scoped>\n",
       "    .dataframe tbody tr th:only-of-type {\n",
       "        vertical-align: middle;\n",
       "    }\n",
       "\n",
       "    .dataframe tbody tr th {\n",
       "        vertical-align: top;\n",
       "    }\n",
       "\n",
       "    .dataframe thead th {\n",
       "        text-align: right;\n",
       "    }\n",
       "</style>\n",
       "<table border=\"1\" class=\"dataframe\">\n",
       "  <thead>\n",
       "    <tr style=\"text-align: right;\">\n",
       "      <th></th>\n",
       "      <th>rank</th>\n",
       "      <th>movieNm</th>\n",
       "      <th>salesAmt</th>\n",
       "    </tr>\n",
       "  </thead>\n",
       "  <tbody>\n",
       "    <tr>\n",
       "      <th>0</th>\n",
       "      <td>1</td>\n",
       "      <td>미션임파서블:고스트프로토콜</td>\n",
       "      <td>2776060500</td>\n",
       "    </tr>\n",
       "    <tr>\n",
       "      <th>1</th>\n",
       "      <td>2</td>\n",
       "      <td>마이 웨이</td>\n",
       "      <td>1189058500</td>\n",
       "    </tr>\n",
       "    <tr>\n",
       "      <th>2</th>\n",
       "      <td>3</td>\n",
       "      <td>셜록홈즈 : 그림자 게임</td>\n",
       "      <td>1176022500</td>\n",
       "    </tr>\n",
       "    <tr>\n",
       "      <th>3</th>\n",
       "      <td>4</td>\n",
       "      <td>퍼펙트 게임</td>\n",
       "      <td>644532000</td>\n",
       "    </tr>\n",
       "    <tr>\n",
       "      <th>4</th>\n",
       "      <td>5</td>\n",
       "      <td>프렌즈: 몬스터섬의비밀</td>\n",
       "      <td>436753500</td>\n",
       "    </tr>\n",
       "    <tr>\n",
       "      <th>5</th>\n",
       "      <td>6</td>\n",
       "      <td>라이온 킹</td>\n",
       "      <td>507115500</td>\n",
       "    </tr>\n",
       "    <tr>\n",
       "      <th>6</th>\n",
       "      <td>7</td>\n",
       "      <td>오싹한 연애</td>\n",
       "      <td>344871000</td>\n",
       "    </tr>\n",
       "    <tr>\n",
       "      <th>7</th>\n",
       "      <td>8</td>\n",
       "      <td>극장판 포켓몬스터 베스트 위시「비크티니와 백의 영웅 레시라무」</td>\n",
       "      <td>167809500</td>\n",
       "    </tr>\n",
       "    <tr>\n",
       "      <th>8</th>\n",
       "      <td>9</td>\n",
       "      <td>앨빈과 슈퍼밴드3</td>\n",
       "      <td>137030000</td>\n",
       "    </tr>\n",
       "    <tr>\n",
       "      <th>9</th>\n",
       "      <td>10</td>\n",
       "      <td>극장판 포켓몬스터 베스트 위시 「비크티니와 흑의 영웅 제크로무」</td>\n",
       "      <td>125535500</td>\n",
       "    </tr>\n",
       "  </tbody>\n",
       "</table>\n",
       "</div>"
      ],
      "text/plain": [
       "  rank                              movieNm    salesAmt\n",
       "0    1                       미션임파서블:고스트프로토콜  2776060500\n",
       "1    2                                마이 웨이  1189058500\n",
       "2    3                        셜록홈즈 : 그림자 게임  1176022500\n",
       "3    4                               퍼펙트 게임   644532000\n",
       "4    5                        프렌즈: 몬스터섬의비밀    436753500\n",
       "5    6                                라이온 킹   507115500\n",
       "6    7                               오싹한 연애   344871000\n",
       "7    8   극장판 포켓몬스터 베스트 위시「비크티니와 백의 영웅 레시라무」   167809500\n",
       "8    9                            앨빈과 슈퍼밴드3   137030000\n",
       "9   10  극장판 포켓몬스터 베스트 위시 「비크티니와 흑의 영웅 제크로무」   125535500"
      ]
     },
     "metadata": {},
     "output_type": "display_data"
    }
   ],
   "source": [
    "import json\n",
    "import urllib\n",
    "\n",
    "movie_url = 'http://kobis.or.kr/kobisopenapi/webservice/rest/boxoffice/searchDailyBoxOfficeList.json?key=f5eef3421c602c6cb7ea224104795888&targetDt=20120101'\n",
    "movie_page = urllib.request.urlopen(movie_url)\n",
    "print(movie_page)\n",
    "json_page = json.loads(movie_page.read())\n",
    "print(type(json_page))\n",
    "#print(json_page)\n",
    "#print(json_page['boxOfficeResult']['dailyBoxOfficeList'])\n",
    "\n",
    "# rank movieNm salesAmt 컬럼으로 데이터 프레임\n",
    "#df_movie = pd.DataFrame(json_page['boxOfficeResult']['dailyBoxOfficeList'])[['rank','movieNm','salesAmt']]\n",
    "\n",
    "data = json_page['boxOfficeResult']['dailyBoxOfficeList']\n",
    "rank_list = []\n",
    "title_list = []\n",
    "sales_list = []\n",
    "for temp_dict in data:\n",
    "    rank_list.append(temp_dict['rank'])\n",
    "    title_list.append(temp_dict['movieNm'])\n",
    "    sales_list.append(temp_dict['salesAmt'])\n",
    "\n",
    "movie_data = {\n",
    "    'rank':rank_list,\n",
    "    'movieNm':title_list,\n",
    "    'salesAmt':sales_list\n",
    "}\n",
    "df_movie = pd.DataFrame(movie_data)\n",
    "display(df_movie)\n",
    "\n",
    "# 데이터 타입은\n",
    "df_movie['salesAmt'] = df_movie['salesAmt'].astype(int)"
   ]
  },
  {
   "cell_type": "markdown",
   "metadata": {},
   "source": [
    "#### booklist_json.json 파일로부터 데이터를 읽어들여서 데이터 프레임을 만들어 보자"
   ]
  },
  {
   "cell_type": "code",
   "execution_count": 184,
   "metadata": {},
   "outputs": [
    {
     "data": {
      "text/html": [
       "<div>\n",
       "<style scoped>\n",
       "    .dataframe tbody tr th:only-of-type {\n",
       "        vertical-align: middle;\n",
       "    }\n",
       "\n",
       "    .dataframe tbody tr th {\n",
       "        vertical-align: top;\n",
       "    }\n",
       "\n",
       "    .dataframe thead th {\n",
       "        text-align: right;\n",
       "    }\n",
       "</style>\n",
       "<table border=\"1\" class=\"dataframe\">\n",
       "  <thead>\n",
       "    <tr style=\"text-align: right;\">\n",
       "      <th></th>\n",
       "      <th>bookName</th>\n",
       "      <th>link</th>\n",
       "    </tr>\n",
       "  </thead>\n",
       "  <tbody>\n",
       "    <tr>\n",
       "      <th>0</th>\n",
       "      <td>나는 꼭 필요한 것만 남기기로 했다</td>\n",
       "      <td>http://www.hanbit.co.kr/store/books/look.php?p...</td>\n",
       "    </tr>\n",
       "    <tr>\n",
       "      <th>1</th>\n",
       "      <td>파이썬과 대스크를 활용한 고성능 데이터 분석</td>\n",
       "      <td>http://www.hanbit.co.kr/store/books/look.php?p...</td>\n",
       "    </tr>\n",
       "    <tr>\n",
       "      <th>2</th>\n",
       "      <td>웹어셈블리 인 액션</td>\n",
       "      <td>http://www.hanbit.co.kr/store/books/look.php?p...</td>\n",
       "    </tr>\n",
       "    <tr>\n",
       "      <th>3</th>\n",
       "      <td>쉽게 배워 바로 써먹는 디자인 패턴</td>\n",
       "      <td>http://www.hanbit.co.kr/store/books/look.php?p...</td>\n",
       "    </tr>\n",
       "    <tr>\n",
       "      <th>4</th>\n",
       "      <td>부의 원칙</td>\n",
       "      <td>http://www.hanbit.co.kr/store/books/look.php?p...</td>\n",
       "    </tr>\n",
       "    <tr>\n",
       "      <th>5</th>\n",
       "      <td>만들면서 배우는 픽셀 아트</td>\n",
       "      <td>http://www.hanbit.co.kr/store/books/look.php?p...</td>\n",
       "    </tr>\n",
       "    <tr>\n",
       "      <th>6</th>\n",
       "      <td>초보자를 위한 언리얼 엔진 4 입문</td>\n",
       "      <td>http://www.hanbit.co.kr/store/books/look.php?p...</td>\n",
       "    </tr>\n",
       "    <tr>\n",
       "      <th>7</th>\n",
       "      <td>분산원장 기술</td>\n",
       "      <td>http://www.hanbit.co.kr/store/books/look.php?p...</td>\n",
       "    </tr>\n",
       "    <tr>\n",
       "      <th>8</th>\n",
       "      <td>회사에서 바로 통하는 3ds Max + V-Ray</td>\n",
       "      <td>http://www.hanbit.co.kr/store/books/look.php?p...</td>\n",
       "    </tr>\n",
       "    <tr>\n",
       "      <th>9</th>\n",
       "      <td>재미있고 빠른 한글 쓰기 3권 : 교과서 쉬운 낱말</td>\n",
       "      <td>http://www.hanbit.co.kr/store/books/look.php?p...</td>\n",
       "    </tr>\n",
       "    <tr>\n",
       "      <th>10</th>\n",
       "      <td>나도 초록 식물 잘 키우면 소원이 없겠네</td>\n",
       "      <td>http://www.hanbit.co.kr/store/books/look.php?p...</td>\n",
       "    </tr>\n",
       "    <tr>\n",
       "      <th>11</th>\n",
       "      <td>IT CookBook, 액세스 2019로 배우는 데이터베이스 기초와 실습</td>\n",
       "      <td>http://www.hanbit.co.kr/store/books/look.php?p...</td>\n",
       "    </tr>\n",
       "    <tr>\n",
       "      <th>12</th>\n",
       "      <td>GAN 인 액션</td>\n",
       "      <td>http://www.hanbit.co.kr/store/books/look.php?p...</td>\n",
       "    </tr>\n",
       "    <tr>\n",
       "      <th>13</th>\n",
       "      <td>재미있고 빠른 어휘력 동화 – 아지랑이가 뭐야?</td>\n",
       "      <td>http://www.hanbit.co.kr/store/books/look.php?p...</td>\n",
       "    </tr>\n",
       "    <tr>\n",
       "      <th>14</th>\n",
       "      <td>재미있고 빠른 어휘력 동화 – 많다의 반대가 뭐야?</td>\n",
       "      <td>http://www.hanbit.co.kr/store/books/look.php?p...</td>\n",
       "    </tr>\n",
       "    <tr>\n",
       "      <th>15</th>\n",
       "      <td>만화로 보는 바빌론 부자들의 돈 버는 지혜</td>\n",
       "      <td>http://www.hanbit.co.kr/store/books/look.php?p...</td>\n",
       "    </tr>\n",
       "    <tr>\n",
       "      <th>16</th>\n",
       "      <td>포르잔 C++ 바이블</td>\n",
       "      <td>http://www.hanbit.co.kr/store/books/look.php?p...</td>\n",
       "    </tr>\n",
       "    <tr>\n",
       "      <th>17</th>\n",
       "      <td>청소년 인문학 수업 - 1권</td>\n",
       "      <td>http://www.hanbit.co.kr/store/books/look.php?p...</td>\n",
       "    </tr>\n",
       "    <tr>\n",
       "      <th>18</th>\n",
       "      <td>청소년 인문학 수업 - 2권</td>\n",
       "      <td>http://www.hanbit.co.kr/store/books/look.php?p...</td>\n",
       "    </tr>\n",
       "    <tr>\n",
       "      <th>19</th>\n",
       "      <td>처음 시작하는 파이썬&amp;#40;2판&amp;#41;</td>\n",
       "      <td>http://www.hanbit.co.kr/store/books/look.php?p...</td>\n",
       "    </tr>\n",
       "    <tr>\n",
       "      <th>20</th>\n",
       "      <td>퀀트 전략을 위한 인공지능 트레이딩</td>\n",
       "      <td>http://www.hanbit.co.kr/store/books/look.php?p...</td>\n",
       "    </tr>\n",
       "    <tr>\n",
       "      <th>21</th>\n",
       "      <td>처음 시작하는 딥러닝</td>\n",
       "      <td>http://www.hanbit.co.kr/store/books/look.php?p...</td>\n",
       "    </tr>\n",
       "    <tr>\n",
       "      <th>22</th>\n",
       "      <td>회사에서 바로 통하는 실무 엑셀 매크로&amp;VBA</td>\n",
       "      <td>http://www.hanbit.co.kr/store/books/look.php?p...</td>\n",
       "    </tr>\n",
       "    <tr>\n",
       "      <th>23</th>\n",
       "      <td>게임 오버</td>\n",
       "      <td>http://www.hanbit.co.kr/store/books/look.php?p...</td>\n",
       "    </tr>\n",
       "    <tr>\n",
       "      <th>24</th>\n",
       "      <td>초소형 머신러닝 TinyML</td>\n",
       "      <td>http://www.hanbit.co.kr/store/books/look.php?p...</td>\n",
       "    </tr>\n",
       "    <tr>\n",
       "      <th>25</th>\n",
       "      <td>오늘도 뇌는 거짓말을 한다</td>\n",
       "      <td>http://www.hanbit.co.kr/store/books/look.php?p...</td>\n",
       "    </tr>\n",
       "    <tr>\n",
       "      <th>26</th>\n",
       "      <td>허팝만 따라 해봐! 유튜브 정석</td>\n",
       "      <td>http://www.hanbit.co.kr/store/books/look.php?p...</td>\n",
       "    </tr>\n",
       "    <tr>\n",
       "      <th>27</th>\n",
       "      <td>이것이 취업을 위한 코딩 테스트다 with 파이썬</td>\n",
       "      <td>http://www.hanbit.co.kr/store/books/look.php?p...</td>\n",
       "    </tr>\n",
       "    <tr>\n",
       "      <th>28</th>\n",
       "      <td>딥러닝을 위한 선형대수학</td>\n",
       "      <td>http://www.hanbit.co.kr/store/books/look.php?p...</td>\n",
       "    </tr>\n",
       "    <tr>\n",
       "      <th>29</th>\n",
       "      <td>유닉스의 탄생</td>\n",
       "      <td>http://www.hanbit.co.kr/store/books/look.php?p...</td>\n",
       "    </tr>\n",
       "    <tr>\n",
       "      <th>30</th>\n",
       "      <td>회사에서 바로 통하는  오토캐드 AutoCAD 2021</td>\n",
       "      <td>http://www.hanbit.co.kr/store/books/look.php?p...</td>\n",
       "    </tr>\n",
       "    <tr>\n",
       "      <th>31</th>\n",
       "      <td>IT CookBook, 오라클로 배우는 데이터베이스 개론과 실습&amp;#40;2판&amp;#41;</td>\n",
       "      <td>http://www.hanbit.co.kr/store/books/look.php?p...</td>\n",
       "    </tr>\n",
       "    <tr>\n",
       "      <th>32</th>\n",
       "      <td>별, 걔 다 그립네</td>\n",
       "      <td>http://www.hanbit.co.kr/store/books/look.php?p...</td>\n",
       "    </tr>\n",
       "    <tr>\n",
       "      <th>33</th>\n",
       "      <td>대학을 버려야 대학이 산다</td>\n",
       "      <td>http://www.hanbit.co.kr/store/books/look.php?p...</td>\n",
       "    </tr>\n",
       "    <tr>\n",
       "      <th>34</th>\n",
       "      <td>IT CookBook, 따라 하면서 배우는 사물인터넷</td>\n",
       "      <td>http://www.hanbit.co.kr/store/books/look.php?p...</td>\n",
       "    </tr>\n",
       "    <tr>\n",
       "      <th>35</th>\n",
       "      <td>재미있고 빠른 첫 한글 준비 선 긋기1권 직선∙곡선∙자음∙모음</td>\n",
       "      <td>http://www.hanbit.co.kr/store/books/look.php?p...</td>\n",
       "    </tr>\n",
       "    <tr>\n",
       "      <th>36</th>\n",
       "      <td>재미있고 빠른 첫 한글 4권 쌍자음∙받침</td>\n",
       "      <td>http://www.hanbit.co.kr/store/books/look.php?p...</td>\n",
       "    </tr>\n",
       "    <tr>\n",
       "      <th>37</th>\n",
       "      <td>핸즈온 비지도 학습</td>\n",
       "      <td>http://www.hanbit.co.kr/store/books/look.php?p...</td>\n",
       "    </tr>\n",
       "    <tr>\n",
       "      <th>38</th>\n",
       "      <td>재미있고 빠른 첫 한글 쓰기1권 모음∙자음∙쉬운 낱말</td>\n",
       "      <td>http://www.hanbit.co.kr/store/books/look.php?p...</td>\n",
       "    </tr>\n",
       "    <tr>\n",
       "      <th>39</th>\n",
       "      <td>우리 아이 처음 놀이</td>\n",
       "      <td>http://www.hanbit.co.kr/store/books/look.php?p...</td>\n",
       "    </tr>\n",
       "    <tr>\n",
       "      <th>40</th>\n",
       "      <td>미라클 모닝 기적의 공식&amp;#40;개정판&amp;#41;</td>\n",
       "      <td>http://www.hanbit.co.kr/store/books/look.php?p...</td>\n",
       "    </tr>\n",
       "    <tr>\n",
       "      <th>41</th>\n",
       "      <td>창의적 공학설계&amp;#40;3판&amp;#41;</td>\n",
       "      <td>http://www.hanbit.co.kr/store/books/look.php?p...</td>\n",
       "    </tr>\n",
       "    <tr>\n",
       "      <th>42</th>\n",
       "      <td>R로 하는 다변량 데이터 분석 : 이론부터 실무 활용까지</td>\n",
       "      <td>http://www.hanbit.co.kr/store/books/look.php?p...</td>\n",
       "    </tr>\n",
       "    <tr>\n",
       "      <th>43</th>\n",
       "      <td>공학 핵심수학&amp;#40;2판&amp;#41;  : 기초부터 심화까지 핵심만 쏙쏙</td>\n",
       "      <td>http://www.hanbit.co.kr/store/books/look.php?p...</td>\n",
       "    </tr>\n",
       "    <tr>\n",
       "      <th>44</th>\n",
       "      <td>응용이 보이는 선형대수학 : 파이썬과 함께하는 선형대수학 이론과 응용</td>\n",
       "      <td>http://www.hanbit.co.kr/store/books/look.php?p...</td>\n",
       "    </tr>\n",
       "    <tr>\n",
       "      <th>45</th>\n",
       "      <td>파이썬 증권 데이터 분석</td>\n",
       "      <td>http://www.hanbit.co.kr/store/books/look.php?p...</td>\n",
       "    </tr>\n",
       "    <tr>\n",
       "      <th>46</th>\n",
       "      <td>나의 첫 파이썬&amp;#40;2판&amp;#41;</td>\n",
       "      <td>http://www.hanbit.co.kr/store/books/look.php?p...</td>\n",
       "    </tr>\n",
       "    <tr>\n",
       "      <th>47</th>\n",
       "      <td>나는 왜 네 말이 힘들까</td>\n",
       "      <td>http://www.hanbit.co.kr/store/books/look.php?p...</td>\n",
       "    </tr>\n",
       "    <tr>\n",
       "      <th>48</th>\n",
       "      <td>혼자 공부하는 첫 프로그래밍 with 파이썬</td>\n",
       "      <td>http://www.hanbit.co.kr/store/books/look.php?p...</td>\n",
       "    </tr>\n",
       "    <tr>\n",
       "      <th>49</th>\n",
       "      <td>퇴근길 인문학 수업 : 뉴노멀</td>\n",
       "      <td>http://www.hanbit.co.kr/store/books/look.php?p...</td>\n",
       "    </tr>\n",
       "  </tbody>\n",
       "</table>\n",
       "</div>"
      ],
      "text/plain": [
       "                                           bookName  \\\n",
       "0                               나는 꼭 필요한 것만 남기기로 했다   \n",
       "1                          파이썬과 대스크를 활용한 고성능 데이터 분석   \n",
       "2                                        웹어셈블리 인 액션   \n",
       "3                               쉽게 배워 바로 써먹는 디자인 패턴   \n",
       "4                                             부의 원칙   \n",
       "5                                    만들면서 배우는 픽셀 아트   \n",
       "6                               초보자를 위한 언리얼 엔진 4 입문   \n",
       "7                                           분산원장 기술   \n",
       "8                       회사에서 바로 통하는 3ds Max + V-Ray   \n",
       "9                      재미있고 빠른 한글 쓰기 3권 : 교과서 쉬운 낱말   \n",
       "10                           나도 초록 식물 잘 키우면 소원이 없겠네   \n",
       "11         IT CookBook, 액세스 2019로 배우는 데이터베이스 기초와 실습   \n",
       "12                                         GAN 인 액션   \n",
       "13                       재미있고 빠른 어휘력 동화 – 아지랑이가 뭐야?   \n",
       "14                     재미있고 빠른 어휘력 동화 – 많다의 반대가 뭐야?   \n",
       "15                          만화로 보는 바빌론 부자들의 돈 버는 지혜   \n",
       "16                                      포르잔 C++ 바이블   \n",
       "17                                  청소년 인문학 수업 - 1권   \n",
       "18                                  청소년 인문학 수업 - 2권   \n",
       "19                          처음 시작하는 파이썬&#40;2판&#41;   \n",
       "20                              퀀트 전략을 위한 인공지능 트레이딩   \n",
       "21                                      처음 시작하는 딥러닝   \n",
       "22                        회사에서 바로 통하는 실무 엑셀 매크로&VBA   \n",
       "23                                            게임 오버   \n",
       "24                                  초소형 머신러닝 TinyML   \n",
       "25                                   오늘도 뇌는 거짓말을 한다   \n",
       "26                                허팝만 따라 해봐! 유튜브 정석   \n",
       "27                      이것이 취업을 위한 코딩 테스트다 with 파이썬   \n",
       "28                                    딥러닝을 위한 선형대수학   \n",
       "29                                          유닉스의 탄생   \n",
       "30                   회사에서 바로 통하는  오토캐드 AutoCAD 2021   \n",
       "31  IT CookBook, 오라클로 배우는 데이터베이스 개론과 실습&#40;2판&#41;   \n",
       "32                                       별, 걔 다 그립네   \n",
       "33                                   대학을 버려야 대학이 산다   \n",
       "34                    IT CookBook, 따라 하면서 배우는 사물인터넷   \n",
       "35               재미있고 빠른 첫 한글 준비 선 긋기1권 직선∙곡선∙자음∙모음   \n",
       "36                           재미있고 빠른 첫 한글 4권 쌍자음∙받침   \n",
       "37                                       핸즈온 비지도 학습   \n",
       "38                    재미있고 빠른 첫 한글 쓰기1권 모음∙자음∙쉬운 낱말   \n",
       "39                                      우리 아이 처음 놀이   \n",
       "40                       미라클 모닝 기적의 공식&#40;개정판&#41;   \n",
       "41                             창의적 공학설계&#40;3판&#41;   \n",
       "42                  R로 하는 다변량 데이터 분석 : 이론부터 실무 활용까지   \n",
       "43          공학 핵심수학&#40;2판&#41;  : 기초부터 심화까지 핵심만 쏙쏙   \n",
       "44           응용이 보이는 선형대수학 : 파이썬과 함께하는 선형대수학 이론과 응용   \n",
       "45                                    파이썬 증권 데이터 분석   \n",
       "46                             나의 첫 파이썬&#40;2판&#41;   \n",
       "47                                    나는 왜 네 말이 힘들까   \n",
       "48                         혼자 공부하는 첫 프로그래밍 with 파이썬   \n",
       "49                                 퇴근길 인문학 수업 : 뉴노멀   \n",
       "\n",
       "                                                 link  \n",
       "0   http://www.hanbit.co.kr/store/books/look.php?p...  \n",
       "1   http://www.hanbit.co.kr/store/books/look.php?p...  \n",
       "2   http://www.hanbit.co.kr/store/books/look.php?p...  \n",
       "3   http://www.hanbit.co.kr/store/books/look.php?p...  \n",
       "4   http://www.hanbit.co.kr/store/books/look.php?p...  \n",
       "5   http://www.hanbit.co.kr/store/books/look.php?p...  \n",
       "6   http://www.hanbit.co.kr/store/books/look.php?p...  \n",
       "7   http://www.hanbit.co.kr/store/books/look.php?p...  \n",
       "8   http://www.hanbit.co.kr/store/books/look.php?p...  \n",
       "9   http://www.hanbit.co.kr/store/books/look.php?p...  \n",
       "10  http://www.hanbit.co.kr/store/books/look.php?p...  \n",
       "11  http://www.hanbit.co.kr/store/books/look.php?p...  \n",
       "12  http://www.hanbit.co.kr/store/books/look.php?p...  \n",
       "13  http://www.hanbit.co.kr/store/books/look.php?p...  \n",
       "14  http://www.hanbit.co.kr/store/books/look.php?p...  \n",
       "15  http://www.hanbit.co.kr/store/books/look.php?p...  \n",
       "16  http://www.hanbit.co.kr/store/books/look.php?p...  \n",
       "17  http://www.hanbit.co.kr/store/books/look.php?p...  \n",
       "18  http://www.hanbit.co.kr/store/books/look.php?p...  \n",
       "19  http://www.hanbit.co.kr/store/books/look.php?p...  \n",
       "20  http://www.hanbit.co.kr/store/books/look.php?p...  \n",
       "21  http://www.hanbit.co.kr/store/books/look.php?p...  \n",
       "22  http://www.hanbit.co.kr/store/books/look.php?p...  \n",
       "23  http://www.hanbit.co.kr/store/books/look.php?p...  \n",
       "24  http://www.hanbit.co.kr/store/books/look.php?p...  \n",
       "25  http://www.hanbit.co.kr/store/books/look.php?p...  \n",
       "26  http://www.hanbit.co.kr/store/books/look.php?p...  \n",
       "27  http://www.hanbit.co.kr/store/books/look.php?p...  \n",
       "28  http://www.hanbit.co.kr/store/books/look.php?p...  \n",
       "29  http://www.hanbit.co.kr/store/books/look.php?p...  \n",
       "30  http://www.hanbit.co.kr/store/books/look.php?p...  \n",
       "31  http://www.hanbit.co.kr/store/books/look.php?p...  \n",
       "32  http://www.hanbit.co.kr/store/books/look.php?p...  \n",
       "33  http://www.hanbit.co.kr/store/books/look.php?p...  \n",
       "34  http://www.hanbit.co.kr/store/books/look.php?p...  \n",
       "35  http://www.hanbit.co.kr/store/books/look.php?p...  \n",
       "36  http://www.hanbit.co.kr/store/books/look.php?p...  \n",
       "37  http://www.hanbit.co.kr/store/books/look.php?p...  \n",
       "38  http://www.hanbit.co.kr/store/books/look.php?p...  \n",
       "39  http://www.hanbit.co.kr/store/books/look.php?p...  \n",
       "40  http://www.hanbit.co.kr/store/books/look.php?p...  \n",
       "41  http://www.hanbit.co.kr/store/books/look.php?p...  \n",
       "42  http://www.hanbit.co.kr/store/books/look.php?p...  \n",
       "43  http://www.hanbit.co.kr/store/books/look.php?p...  \n",
       "44  http://www.hanbit.co.kr/store/books/look.php?p...  \n",
       "45  http://www.hanbit.co.kr/store/books/look.php?p...  \n",
       "46  http://www.hanbit.co.kr/store/books/look.php?p...  \n",
       "47  http://www.hanbit.co.kr/store/books/look.php?p...  \n",
       "48  http://www.hanbit.co.kr/store/books/look.php?p...  \n",
       "49  http://www.hanbit.co.kr/store/books/look.php?p...  "
      ]
     },
     "execution_count": 184,
     "metadata": {},
     "output_type": "execute_result"
    }
   ],
   "source": [
    "pd.read_json('/Users/iganghui/TIL/Python/Python_data_science/Data/booklist_json.json')"
   ]
  }
 ],
 "metadata": {
  "kernelspec": {
   "display_name": "Python 3 (ipykernel)",
   "language": "python",
   "name": "python3"
  },
  "language_info": {
   "codemirror_mode": {
    "name": "ipython",
    "version": 3
   },
   "file_extension": ".py",
   "mimetype": "text/x-python",
   "name": "python",
   "nbconvert_exporter": "python",
   "pygments_lexer": "ipython3",
   "version": "3.8.11"
  }
 },
 "nbformat": 4,
 "nbformat_minor": 4
}
