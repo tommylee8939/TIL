{
 "cells": [
  {
   "cell_type": "markdown",
   "metadata": {},
   "source": [
    "## Numpy04; concatenate, split, delete"
   ]
  },
  {
   "cell_type": "code",
   "execution_count": 2,
   "metadata": {},
   "outputs": [],
   "source": [
    "import numpy as np"
   ]
  },
  {
   "cell_type": "markdown",
   "metadata": {},
   "source": [
    "### concatenate\n",
    "- 기본적으로 R에서 생각했던 c() rbind() cbind()의 개념은 버리자\n",
    "- must have same dimension\n",
    "- must have same shape except in the dimension given as axis\n",
    "    - 주어진 axis를 제외한 나머지 차원의 형태가 같아야한다\n",
    "    - Ex) axis = 0 으로 주어졌다면 => (2,3) (,3) 은 가능하다\n",
    "    - Ex) axis = 1 으로 주어졌다면 => (2,3) (2,) 은 가능하다\n",
    " "
   ]
  },
  {
   "cell_type": "markdown",
   "metadata": {},
   "source": [
    "#### 사용방법\n",
    "- concatenate([array,array,,,],axis)\n",
    "- axis option이 가능하다\n",
    "    - 각 축이 0, 1, 2,,, 의 인덱스를 갖게 된다\n",
    "- 동시에 3개 이상 결합도 가능하다"
   ]
  },
  {
   "cell_type": "markdown",
   "metadata": {},
   "source": [
    "#### 다음의 상황은 에러가 발생한다\n",
    "- 차원이 다를경우 => 분명히 차원이 같아야 된다고 했다 \n",
    "- 차원이 다를경우에는 np.hstack np.vstack을  사용하자"
   ]
  },
  {
   "cell_type": "code",
   "execution_count": 11,
   "metadata": {},
   "outputs": [
    {
     "ename": "ValueError",
     "evalue": "all the input arrays must have same number of dimensions, but the array at index 0 has 2 dimension(s) and the array at index 1 has 1 dimension(s)",
     "output_type": "error",
     "traceback": [
      "\u001b[0;31m---------------------------------------------------------------------------\u001b[0m",
      "\u001b[0;31mValueError\u001b[0m                                Traceback (most recent call last)",
      "\u001b[0;32m<ipython-input-11-e7c249fb16f8>\u001b[0m in \u001b[0;36m<module>\u001b[0;34m\u001b[0m\n\u001b[1;32m      1\u001b[0m \u001b[0ma\u001b[0m \u001b[0;34m=\u001b[0m \u001b[0mnp\u001b[0m\u001b[0;34m.\u001b[0m\u001b[0marange\u001b[0m\u001b[0;34m(\u001b[0m\u001b[0;36m10\u001b[0m\u001b[0;34m)\u001b[0m\u001b[0;34m.\u001b[0m\u001b[0mreshape\u001b[0m\u001b[0;34m(\u001b[0m\u001b[0;36m2\u001b[0m\u001b[0;34m,\u001b[0m\u001b[0;36m5\u001b[0m\u001b[0;34m)\u001b[0m\u001b[0;34m\u001b[0m\u001b[0;34m\u001b[0m\u001b[0m\n\u001b[1;32m      2\u001b[0m \u001b[0mb\u001b[0m \u001b[0;34m=\u001b[0m \u001b[0mnp\u001b[0m\u001b[0;34m.\u001b[0m\u001b[0marange\u001b[0m\u001b[0;34m(\u001b[0m\u001b[0;36m5\u001b[0m\u001b[0;34m)\u001b[0m\u001b[0;34m\u001b[0m\u001b[0;34m\u001b[0m\u001b[0m\n\u001b[0;32m----> 3\u001b[0;31m \u001b[0mnp\u001b[0m\u001b[0;34m.\u001b[0m\u001b[0mconcatenate\u001b[0m\u001b[0;34m(\u001b[0m\u001b[0;34m[\u001b[0m\u001b[0ma\u001b[0m\u001b[0;34m,\u001b[0m\u001b[0mb\u001b[0m\u001b[0;34m]\u001b[0m\u001b[0;34m)\u001b[0m\u001b[0;34m\u001b[0m\u001b[0;34m\u001b[0m\u001b[0m\n\u001b[0m",
      "\u001b[0;32m<__array_function__ internals>\u001b[0m in \u001b[0;36mconcatenate\u001b[0;34m(*args, **kwargs)\u001b[0m\n",
      "\u001b[0;31mValueError\u001b[0m: all the input arrays must have same number of dimensions, but the array at index 0 has 2 dimension(s) and the array at index 1 has 1 dimension(s)"
     ]
    }
   ],
   "source": [
    "a = np.arange(10).reshape(2,5)\n",
    "b = np.arange(5)\n",
    "np.concatenate([a,b])"
   ]
  },
  {
   "cell_type": "code",
   "execution_count": 13,
   "metadata": {},
   "outputs": [
    {
     "data": {
      "text/plain": [
       "array([[0, 1, 2, 3, 4],\n",
       "       [5, 6, 7, 8, 9],\n",
       "       [0, 1, 2, 3, 4]])"
      ]
     },
     "execution_count": 13,
     "metadata": {},
     "output_type": "execute_result"
    }
   ],
   "source": [
    "# 행결방법\n",
    "a = np.arange(10).reshape(2,5)\n",
    "b = np.arange(5).reshape(1,5) # 차원을 맞춰주면 가능하다 \n",
    "np.concatenate([a,b])"
   ]
  },
  {
   "cell_type": "markdown",
   "metadata": {},
   "source": [
    "#### aixs의 개념\n",
    "- 가장 중요한건 (면 행 열) 순이다\n",
    "- 2차원에서 axis=0 은 행을 따라 axis=1은 열을 따라 진행한다\n",
    "- 3차원에서 axis=0 은 면을 따라 axis=1 은 행을 따라 axis=2은 열을 따라 진행한다"
   ]
  },
  {
   "cell_type": "code",
   "execution_count": 3,
   "metadata": {},
   "outputs": [
    {
     "name": "stdout",
     "output_type": "stream",
     "text": [
      "[0 1 2 3 4 5 6 7 8 9 0 1 2 3 4 5 6 7 8 9]\n"
     ]
    }
   ],
   "source": [
    "# 1차원\n",
    "# 애초에 차원이 하나밖에 없다 (,n)\n",
    "# 그럼 axis=0밖에 없는거다\n",
    "# axis=0의 방향으로 추가된다\n",
    "a = np.arange(10)\n",
    "b = np.arange(10)\n",
    "print(np.concatenate([a,b]))"
   ]
  },
  {
   "cell_type": "code",
   "execution_count": 6,
   "metadata": {},
   "outputs": [
    {
     "name": "stdout",
     "output_type": "stream",
     "text": [
      "[[0 1 2 3 4]\n",
      " [5 6 7 8 9]\n",
      " [0 1 2 3 4]\n",
      " [5 6 7 8 9]]\n",
      "[[0 1 2 3 4 0 1 2 3 4]\n",
      " [5 6 7 8 9 5 6 7 8 9]]\n"
     ]
    }
   ],
   "source": [
    "# 2차원 끼리\n",
    "a = np.arange(10).reshape(2,5)\n",
    "b = np.arange(10).reshape(2,5)\n",
    "\n",
    "# axis = 0 은 행의 방향을따라 추가한다\n",
    "print(np.concatenate([a,b],axis=0))\n",
    "\n",
    "# axis =1 은 열의 방향을 따라 추가한다\n",
    "print(np.concatenate([a,b],axis=1))"
   ]
  },
  {
   "cell_type": "code",
   "execution_count": 7,
   "metadata": {},
   "outputs": [
    {
     "name": "stdout",
     "output_type": "stream",
     "text": [
      "[[[ 0  1  2  0  1  2]\n",
      "  [ 3  4  5  3  4  5]]\n",
      "\n",
      " [[ 6  7  8  6  7  8]\n",
      "  [ 9 10 11  9 10 11]]]\n",
      "------------------------------\n",
      "[[[ 0  1  2]\n",
      "  [ 3  4  5]\n",
      "  [ 0  1  2]\n",
      "  [ 3  4  5]]\n",
      "\n",
      " [[ 6  7  8]\n",
      "  [ 9 10 11]\n",
      "  [ 6  7  8]\n",
      "  [ 9 10 11]]]\n",
      "------------------------------\n",
      "[[[ 0  1  2]\n",
      "  [ 3  4  5]]\n",
      "\n",
      " [[ 6  7  8]\n",
      "  [ 9 10 11]]\n",
      "\n",
      " [[ 0  1  2]\n",
      "  [ 3  4  5]]\n",
      "\n",
      " [[ 6  7  8]\n",
      "  [ 9 10 11]]]\n"
     ]
    }
   ],
   "source": [
    "# 아래 두개의 데이터은 둘다 3차원 데이터이다\n",
    "a = np.arange(12).reshape(2,2,3)   # 면 행 열 순이다\n",
    "b = np.arange(12).reshape(2,2,3)\n",
    "\n",
    "# axis=2 열을 따라 추가한다\n",
    "print(np.concatenate([a,b],axis=2))\n",
    "print(\"-\"*30)\n",
    "\n",
    "# axis=1은 행을 따라 추가한다\n",
    "print(np.concatenate([a,b],axis=1))\n",
    "print(\"-\"*30)\n",
    "\n",
    "# axis=0은 면을 따라 추가한다\n",
    "print(np.concatenate([a,b],axis=0))\n",
    "\n"
   ]
  },
  {
   "cell_type": "markdown",
   "metadata": {},
   "source": [
    "### np.vstack, np.hstack\n",
    "- np.concatenate처럼 같은 차원일 필요는 없다\n",
    "- 1차원일 경우\n",
    "     - np.hstack의 경우는 그냥 하나의 축을따라 열이 추가된다\n",
    "     - np.vstack의 경우 (1,N) 으로 reshape한 후 행이 추가된다\n",
    "      \n",
    "- 그 외의 경우\n",
    "    - np.hstack의 경우는 열이 추가되기 때문에 행의 길이가 같아야한다\n",
    "    - np.vstack의 경우는 행이 추가되기 때문에 열의 길이가 같아야한다"
   ]
  },
  {
   "cell_type": "code",
   "execution_count": 33,
   "metadata": {},
   "outputs": [
    {
     "name": "stdout",
     "output_type": "stream",
     "text": [
      "[0 1 2 3 4 5 6 7 8 9]\n"
     ]
    }
   ],
   "source": [
    "# hstack(1차원의 경우)\n",
    "a = np.arange(5)\n",
    "b = np.arange(5,10)\n",
    "print(np.hstack([a,b]))\n"
   ]
  },
  {
   "cell_type": "code",
   "execution_count": 31,
   "metadata": {},
   "outputs": [
    {
     "data": {
      "text/plain": [
       "array([[1, 2, 3, 4],\n",
       "       [5, 6, 7, 8]])"
      ]
     },
     "execution_count": 31,
     "metadata": {},
     "output_type": "execute_result"
    }
   ],
   "source": [
    "# hstack\n",
    "# 행의 길이 같아야된다 => 잘생각해보면 행의 길이가 존재하려면 사실 무조건 2차원 이상이다\n",
    "a=np.array([[1],\n",
    "           [5]])\n",
    "b=np.array([[2,3,4],\n",
    "            [6,7,8]])\n",
    "np.hstack([a,b])"
   ]
  },
  {
   "cell_type": "code",
   "execution_count": 35,
   "metadata": {},
   "outputs": [
    {
     "name": "stdout",
     "output_type": "stream",
     "text": [
      "[[0 1 2 3 4]\n",
      " [5 6 7 8 9]]\n"
     ]
    }
   ],
   "source": [
    "# vsatck(1차원일경우)\n",
    "a = np.arange(5)\n",
    "b = np.arange(5,10)\n",
    "print(np.vstack([a,b]))\n"
   ]
  },
  {
   "cell_type": "code",
   "execution_count": 16,
   "metadata": {},
   "outputs": [
    {
     "data": {
      "text/plain": [
       "array([[1, 2, 3],\n",
       "       [4, 5, 6],\n",
       "       [7, 8, 9]])"
      ]
     },
     "execution_count": 16,
     "metadata": {},
     "output_type": "execute_result"
    }
   ],
   "source": [
    "# vstack\n",
    "# 열의 길이가 같아야한다 => 열의 길이가 존재하기 때무네 단순 1차원 벡터도 추가가능한거다\n",
    "a=np.array([1,2,3])    \n",
    "b=np.array([[4,5,6],   \n",
    "            [7,8,9]])\n",
    "\n",
    "np.vstack([a,b])"
   ]
  },
  {
   "cell_type": "markdown",
   "metadata": {},
   "source": [
    "#### r의 cbind와 rbind를 생각해보자"
   ]
  },
  {
   "cell_type": "code",
   "execution_count": 21,
   "metadata": {},
   "outputs": [
    {
     "name": "stdout",
     "output_type": "stream",
     "text": [
      "[[0 1 2 3 4]\n",
      " [5 6 7 8 9]]\n",
      "[[0 5]\n",
      " [1 6]\n",
      " [2 7]\n",
      " [3 8]\n",
      " [4 9]]\n"
     ]
    }
   ],
   "source": [
    "a = np.arange(5)\n",
    "b = np.arange(5,10)\n",
    "\n",
    "# rbind를 하고싶다\n",
    "print(np.vstack([a,b]))\n",
    "\n",
    "# cbind를 하고싶다\n",
    "print(np.hstack([a.reshape(5,1),b.reshape(5,1)]))"
   ]
  },
  {
   "cell_type": "code",
   "execution_count": 25,
   "metadata": {},
   "outputs": [
    {
     "name": "stdout",
     "output_type": "stream",
     "text": [
      "[[ 0  1  2  3  4]\n",
      " [ 5  6  7  8  9]\n",
      " [10 11 12 13 14]\n",
      " [15 16 17 18 19]\n",
      " [20 21 22 23 24]\n",
      " [ 0  1  2  3  4]]\n",
      "[[ 0  1  2  3  4  0]\n",
      " [ 5  6  7  8  9  1]\n",
      " [10 11 12 13 14  2]\n",
      " [15 16 17 18 19  3]\n",
      " [20 21 22 23 24  4]]\n"
     ]
    }
   ],
   "source": [
    "a = np.arange(5)\n",
    "b = np.arange(25).reshape(5,5)\n",
    "\n",
    "# rbind를 하고싶다\n",
    "print(np.vstack([b,a]))\n",
    "\n",
    "# cbind를 하고싶다\n",
    "print(np.hstack([b,a.reshape(5,1)]))"
   ]
  },
  {
   "cell_type": "markdown",
   "metadata": {},
   "source": [
    "### stack\n",
    "- 면을 추가한다고 생가각하자\n",
    "- 행 열의 shpape이 같아야된다"
   ]
  },
  {
   "cell_type": "code",
   "execution_count": 38,
   "metadata": {},
   "outputs": [
    {
     "name": "stdout",
     "output_type": "stream",
     "text": [
      "[[1. 1. 1. 1.]\n",
      " [1. 1. 1. 1.]\n",
      " [1. 1. 1. 1.]]\n",
      "[[0. 0. 0. 0.]\n",
      " [0. 0. 0. 0.]\n",
      " [0. 0. 0. 0.]]\n",
      "stack의 결과는 \n",
      "[[[1. 1. 1. 1.]\n",
      "  [1. 1. 1. 1.]\n",
      "  [1. 1. 1. 1.]]\n",
      "\n",
      " [[0. 0. 0. 0.]\n",
      "  [0. 0. 0. 0.]\n",
      "  [0. 0. 0. 0.]]]\n"
     ]
    }
   ],
   "source": [
    "ary01 = np.ones((3,4))\n",
    "print(ary01)\n",
    "ary02 = np.zeros((3,4))\n",
    "print(ary02)\n",
    "print('stack의 결과는 ')\n",
    "print(np.stack([ary01,ary02]))"
   ]
  },
  {
   "cell_type": "markdown",
   "metadata": {},
   "source": [
    "### tile\n",
    "- size를 지정해서 반복할수있다"
   ]
  },
  {
   "cell_type": "code",
   "execution_count": 39,
   "metadata": {},
   "outputs": [
    {
     "name": "stdout",
     "output_type": "stream",
     "text": [
      "[[1 2 3 1 2 3]\n",
      " [4 5 6 4 5 6]\n",
      " [1 2 3 1 2 3]\n",
      " [4 5 6 4 5 6]\n",
      " [1 2 3 1 2 3]\n",
      " [4 5 6 4 5 6]]\n"
     ]
    }
   ],
   "source": [
    "print(np.tile(np.array([[1,2,3],[4,5,6]]),(3,2)))"
   ]
  },
  {
   "cell_type": "markdown",
   "metadata": {},
   "source": [
    "### np.split\n",
    "- np.split(array,[index,index,index,,,])\n",
    "- [index,index,,,]에서 index는 포함되지 않고 쪼갠다 "
   ]
  },
  {
   "cell_type": "code",
   "execution_count": 48,
   "metadata": {},
   "outputs": [
    {
     "name": "stdout",
     "output_type": "stream",
     "text": [
      "[array([0, 1]), array([2, 3, 4]), array([5, 6, 7, 8, 9]), array([10, 11, 12, 13, 14, 15, 16, 17, 18, 19])]\n"
     ]
    }
   ],
   "source": [
    "x = np.arange(20)\n",
    "print(np.split(x,[2,5,10]))"
   ]
  },
  {
   "cell_type": "markdown",
   "metadata": {},
   "source": [
    "### delete\n",
    "- delete(array,대상,axis)\n",
    "- axis를 따라 대상을 삭제한다\n",
    "- axis를 지정하지 않으면 1차변환 후 삭제\n",
    "- 원본 배열을 변경하지 않고 생로운 배열 return"
   ]
  },
  {
   "cell_type": "code",
   "execution_count": 43,
   "metadata": {},
   "outputs": [
    {
     "name": "stdout",
     "output_type": "stream",
     "text": [
      "[[6 5 6 1]\n",
      " [9 4 7 8]\n",
      " [6 0 2 4]]\n",
      "행을따라 두번째 행 삭제\n",
      "[[6 5 6 1]\n",
      " [6 0 2 4]]\n",
      "행을따라 두번째 열 삭제\n",
      "[[6 6 1]\n",
      " [9 7 8]\n",
      " [6 2 4]]\n"
     ]
    }
   ],
   "source": [
    "array01 = np.random.randint(0,10,size=(3,4))\n",
    "print(array01)\n",
    "\n",
    "# 행을따라 두번째 행 삭제\n",
    "print('행을따라 두번째 행 삭제')\n",
    "print(np.delete(array01,1,0))\n",
    "\n",
    "# 열을따라 두번째 열 삭제\n",
    "print('행을따라 두번째 열 삭제')\n",
    "print(np.delete(array01,1,1))"
   ]
  }
 ],
 "metadata": {
  "kernelspec": {
   "display_name": "Python 3",
   "language": "python",
   "name": "python3"
  },
  "language_info": {
   "codemirror_mode": {
    "name": "ipython",
    "version": 3
   },
   "file_extension": ".py",
   "mimetype": "text/x-python",
   "name": "python",
   "nbconvert_exporter": "python",
   "pygments_lexer": "ipython3",
   "version": "3.8.5"
  }
 },
 "nbformat": 4,
 "nbformat_minor": 4
}
