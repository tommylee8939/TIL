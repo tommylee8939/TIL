{
 "cells": [
  {
   "cell_type": "markdown",
   "id": "96bad0ea",
   "metadata": {},
   "source": [
    "## Pandas03; indexing, slicing, update, append, delete "
   ]
  },
  {
   "cell_type": "code",
   "execution_count": 2,
   "id": "ebe03aad",
   "metadata": {},
   "outputs": [],
   "source": [
    "import numpy as np\n",
    "import pandas as pd"
   ]
  },
  {
   "cell_type": "markdown",
   "id": "21d04c6e",
   "metadata": {},
   "source": [
    "### Series\n",
    "- index를 갖는 1차원 배열이다\n",
    "- index를 key값으로 갖는 딕셔너리 처럼 동작한다\n",
    "- indexing, slicing, masking, fancy indexing 다 가능하다"
   ]
  },
  {
   "cell_type": "code",
   "execution_count": 3,
   "id": "b3ca9fcd",
   "metadata": {},
   "outputs": [
    {
     "data": {
      "text/plain": [
       "a    1\n",
       "b    2\n",
       "c    3\n",
       "d    4\n",
       "dtype: int64"
      ]
     },
     "metadata": {},
     "output_type": "display_data"
    }
   ],
   "source": [
    "s1 = pd.Series([1,2,3,4],index=['a','b','c','d'])\n",
    "display(s1)"
   ]
  },
  {
   "cell_type": "markdown",
   "id": "4106135b",
   "metadata": {},
   "source": [
    "- 1. indexing"
   ]
  },
  {
   "cell_type": "code",
   "execution_count": 5,
   "id": "b4bf54e5",
   "metadata": {},
   "outputs": [
    {
     "name": "stdout",
     "output_type": "stream",
     "text": [
      "1\n",
      "1\n"
     ]
    }
   ],
   "source": [
    "print(s1[0])   # 암묵적 정수 인덱싱 \n",
    "print(s1['a']) # 명시적 인덱싱"
   ]
  },
  {
   "cell_type": "markdown",
   "id": "075f9e8a",
   "metadata": {},
   "source": [
    "- 2. slicing \n",
    "    - 명시적 인덱스로 슬라이싱을 하면 최종 인덱스도 포함된다"
   ]
  },
  {
   "cell_type": "code",
   "execution_count": 9,
   "id": "743d8103",
   "metadata": {},
   "outputs": [
    {
     "name": "stdout",
     "output_type": "stream",
     "text": [
      "a    1\n",
      "b    2\n",
      "dtype: int64\n",
      "a    1\n",
      "b    2\n",
      "c    3\n",
      "dtype: int64\n"
     ]
    }
   ],
   "source": [
    "print(s1[0:2])    # 암묵적 정수 슬라이싱\n",
    "print(s1['a':'c'])# 명시적 인덱스로 슬라이싱"
   ]
  },
  {
   "cell_type": "markdown",
   "id": "1a49b109",
   "metadata": {},
   "source": [
    "- 3. masking(boolean indexing) "
   ]
  },
  {
   "cell_type": "code",
   "execution_count": 11,
   "id": "6fe3fde6",
   "metadata": {},
   "outputs": [
    {
     "name": "stdout",
     "output_type": "stream",
     "text": [
      "c    3\n",
      "d    4\n",
      "dtype: int64\n"
     ]
    }
   ],
   "source": [
    "print(s1[s1>2])"
   ]
  },
  {
   "cell_type": "markdown",
   "id": "acea8f34",
   "metadata": {},
   "source": [
    "- 4. fancy indexing\n",
    "    - 리스트 형식으로 인덱스를 넣어주면 된다"
   ]
  },
  {
   "cell_type": "code",
   "execution_count": 14,
   "id": "ef1ccf54",
   "metadata": {},
   "outputs": [
    {
     "name": "stdout",
     "output_type": "stream",
     "text": [
      "a    1\n",
      "d    4\n",
      "dtype: int64\n",
      "a    1\n",
      "b    2\n",
      "dtype: int64\n"
     ]
    }
   ],
   "source": [
    "print(s1[[0,3]])     # 암묵적 정수 \n",
    "print(s1[['a','b']]) # 명시적 인덱스"
   ]
  },
  {
   "cell_type": "markdown",
   "id": "9bcfe0e1",
   "metadata": {},
   "source": [
    "#### 만약에 암묵적 인덱스와 명시적 인덱스가 같으면?"
   ]
  },
  {
   "cell_type": "code",
   "execution_count": 21,
   "id": "ebc7e100",
   "metadata": {},
   "outputs": [
    {
     "name": "stdout",
     "output_type": "stream",
     "text": [
      "2    20\n",
      "3    30\n",
      "dtype: int64\n",
      "10\n"
     ]
    }
   ],
   "source": [
    "s2 = pd.Series([10,20,30,40],index=[1,2,3,4])\n",
    "print(s2[1:3]) # 암묵적 인덱스를 사용한다\n",
    "print(s2[1])   # 명시적 인덱스를 사용한다"
   ]
  },
  {
   "cell_type": "markdown",
   "id": "a6ea0ab4",
   "metadata": {},
   "source": [
    "### Indexer\n",
    "- 인덱서 속성을 제공해 보다 명확하게 명시적 혹은 암무적 인덱싱을 가능하게 해준다 \n",
    "    - iloc : 암묵적 정수 인덱스를 이용 \n",
    "    - loc  : 명시적 인덱스를 사용"
   ]
  },
  {
   "cell_type": "code",
   "execution_count": 25,
   "id": "cdcbca6c",
   "metadata": {},
   "outputs": [
    {
     "data": {
      "text/plain": [
       "2    20\n",
       "3    30\n",
       "dtype: int64"
      ]
     },
     "execution_count": 25,
     "metadata": {},
     "output_type": "execute_result"
    }
   ],
   "source": [
    "s2 = pd.Series([10,20,30,40],index=[1,2,3,4])\n",
    "s2.iloc[1:3]"
   ]
  },
  {
   "cell_type": "code",
   "execution_count": 35,
   "id": "505d2097",
   "metadata": {},
   "outputs": [
    {
     "data": {
      "text/plain": [
       "1    10\n",
       "2    20\n",
       "3    30\n",
       "dtype: int64"
      ]
     },
     "execution_count": 35,
     "metadata": {},
     "output_type": "execute_result"
    }
   ],
   "source": [
    "s2 = pd.Series([10,20,30,40],index=[1,2,3,4])\n",
    "s2.loc[1:3]"
   ]
  },
  {
   "cell_type": "markdown",
   "id": "8a03ae9d",
   "metadata": {},
   "source": [
    "### DataFrame\n",
    "- index와 column을 갖는 2차원 배열이다\n",
    "- column을 key값으로 갖는 딕셔너리 처럼 동작한다\n",
    "- indexing, slicing, masking, fancy indexing 다 가능하다\n",
    "- 데이터 프레임만의 인덱싱 규칙\n",
    "    - 1. df[0] 암무적 정수 인덱스 불가\n",
    "    - 2. df['col01'] 명시적 인덱스는 열단위 인덱싱\n",
    "    - 3. df[0:3] 슬라이싱은 행단위 인덱싱\n",
    "    - 4. df[boolean mask] boolean 인덱싱은 행단위 인덱싱이다\n",
    "    - 5. df[,] 2차원 인덱싱 없다 => iloc 혹은 loc을 사용하자"
   ]
  },
  {
   "cell_type": "markdown",
   "id": "43d93fc1",
   "metadata": {},
   "source": [
    "#### 1.indexing"
   ]
  },
  {
   "cell_type": "code",
   "execution_count": 3,
   "id": "99d7321f",
   "metadata": {},
   "outputs": [
    {
     "data": {
      "text/html": [
       "<div>\n",
       "<style scoped>\n",
       "    .dataframe tbody tr th:only-of-type {\n",
       "        vertical-align: middle;\n",
       "    }\n",
       "\n",
       "    .dataframe tbody tr th {\n",
       "        vertical-align: top;\n",
       "    }\n",
       "\n",
       "    .dataframe thead th {\n",
       "        text-align: right;\n",
       "    }\n",
       "</style>\n",
       "<table border=\"1\" class=\"dataframe\">\n",
       "  <thead>\n",
       "    <tr style=\"text-align: right;\">\n",
       "      <th></th>\n",
       "      <th>서울</th>\n",
       "      <th>부산</th>\n",
       "      <th>경기</th>\n",
       "      <th>대전</th>\n",
       "    </tr>\n",
       "  </thead>\n",
       "  <tbody>\n",
       "    <tr>\n",
       "      <th>오전</th>\n",
       "      <td>1</td>\n",
       "      <td>2</td>\n",
       "      <td>3</td>\n",
       "      <td>4</td>\n",
       "    </tr>\n",
       "    <tr>\n",
       "      <th>오후</th>\n",
       "      <td>5</td>\n",
       "      <td>6</td>\n",
       "      <td>7</td>\n",
       "      <td>8</td>\n",
       "    </tr>\n",
       "  </tbody>\n",
       "</table>\n",
       "</div>"
      ],
      "text/plain": [
       "    서울  부산  경기  대전\n",
       "오전   1   2   3   4\n",
       "오후   5   6   7   8"
      ]
     },
     "metadata": {},
     "output_type": "display_data"
    }
   ],
   "source": [
    "df01=pd.DataFrame([[1,2,3,4],[5,6,7,8]],columns = ['서울','부산','경기','대전'],index=['오전','오후'])\n",
    "display(df01)"
   ]
  },
  {
   "cell_type": "code",
   "execution_count": null,
   "id": "1f923531",
   "metadata": {},
   "outputs": [],
   "source": [
    "# 암묵적 정수 인덱스 사용 불가\n",
    "# key error\n",
    "df01[0]"
   ]
  },
  {
   "cell_type": "code",
   "execution_count": 9,
   "id": "28339a8c",
   "metadata": {},
   "outputs": [
    {
     "name": "stdout",
     "output_type": "stream",
     "text": [
      "오전    1\n",
      "오후    5\n",
      "Name: 서울, dtype: int64\n"
     ]
    }
   ],
   "source": [
    "# 명시적 인덱스는 열단위 인덱싱이다\n",
    "print(df01['서울'])"
   ]
  },
  {
   "cell_type": "code",
   "execution_count": 44,
   "id": "fc9da597",
   "metadata": {},
   "outputs": [
    {
     "data": {
      "text/plain": [
       "오전    1\n",
       "오후    5\n",
       "Name: 서울, dtype: int64"
      ]
     },
     "execution_count": 44,
     "metadata": {},
     "output_type": "execute_result"
    }
   ],
   "source": [
    "# 파이썬에서 그렇게 추천하지는 않는다\n",
    "# 속성이랑 겹칠수 있기 때문\n",
    "df01.서울"
   ]
  },
  {
   "cell_type": "code",
   "execution_count": 43,
   "id": "3c691e52",
   "metadata": {},
   "outputs": [
    {
     "data": {
      "text/html": [
       "<div>\n",
       "<style scoped>\n",
       "    .dataframe tbody tr th:only-of-type {\n",
       "        vertical-align: middle;\n",
       "    }\n",
       "\n",
       "    .dataframe tbody tr th {\n",
       "        vertical-align: top;\n",
       "    }\n",
       "\n",
       "    .dataframe thead th {\n",
       "        text-align: right;\n",
       "    }\n",
       "</style>\n",
       "<table border=\"1\" class=\"dataframe\">\n",
       "  <thead>\n",
       "    <tr style=\"text-align: right;\">\n",
       "      <th></th>\n",
       "      <th>서울</th>\n",
       "    </tr>\n",
       "  </thead>\n",
       "  <tbody>\n",
       "    <tr>\n",
       "      <th>오전</th>\n",
       "      <td>1</td>\n",
       "    </tr>\n",
       "    <tr>\n",
       "      <th>오후</th>\n",
       "      <td>5</td>\n",
       "    </tr>\n",
       "  </tbody>\n",
       "</table>\n",
       "</div>"
      ],
      "text/plain": [
       "    서울\n",
       "오전   1\n",
       "오후   5"
      ]
     },
     "execution_count": 43,
     "metadata": {},
     "output_type": "execute_result"
    }
   ],
   "source": [
    "# df의 형태를 유지시키고 싶을때\n",
    "df01[['서울']]"
   ]
  },
  {
   "cell_type": "code",
   "execution_count": 10,
   "id": "ce69c749",
   "metadata": {},
   "outputs": [
    {
     "data": {
      "text/html": [
       "<div>\n",
       "<style scoped>\n",
       "    .dataframe tbody tr th:only-of-type {\n",
       "        vertical-align: middle;\n",
       "    }\n",
       "\n",
       "    .dataframe tbody tr th {\n",
       "        vertical-align: top;\n",
       "    }\n",
       "\n",
       "    .dataframe thead th {\n",
       "        text-align: right;\n",
       "    }\n",
       "</style>\n",
       "<table border=\"1\" class=\"dataframe\">\n",
       "  <thead>\n",
       "    <tr style=\"text-align: right;\">\n",
       "      <th></th>\n",
       "      <th>서울</th>\n",
       "      <th>경기</th>\n",
       "    </tr>\n",
       "  </thead>\n",
       "  <tbody>\n",
       "    <tr>\n",
       "      <th>오전</th>\n",
       "      <td>1</td>\n",
       "      <td>3</td>\n",
       "    </tr>\n",
       "    <tr>\n",
       "      <th>오후</th>\n",
       "      <td>5</td>\n",
       "      <td>7</td>\n",
       "    </tr>\n",
       "  </tbody>\n",
       "</table>\n",
       "</div>"
      ],
      "text/plain": [
       "    서울  경기\n",
       "오전   1   3\n",
       "오후   5   7"
      ]
     },
     "metadata": {},
     "output_type": "display_data"
    }
   ],
   "source": [
    "# 명시적 인덱싱 + fancy indexing\n",
    "display(df01[['서울','경기']])"
   ]
  },
  {
   "cell_type": "markdown",
   "id": "45ecbf36",
   "metadata": {},
   "source": [
    "#### 2.slicing => slicing은 row를 기준으로 진행된다"
   ]
  },
  {
   "cell_type": "code",
   "execution_count": 13,
   "id": "04dd2345",
   "metadata": {},
   "outputs": [
    {
     "data": {
      "text/html": [
       "<div>\n",
       "<style scoped>\n",
       "    .dataframe tbody tr th:only-of-type {\n",
       "        vertical-align: middle;\n",
       "    }\n",
       "\n",
       "    .dataframe tbody tr th {\n",
       "        vertical-align: top;\n",
       "    }\n",
       "\n",
       "    .dataframe thead th {\n",
       "        text-align: right;\n",
       "    }\n",
       "</style>\n",
       "<table border=\"1\" class=\"dataframe\">\n",
       "  <thead>\n",
       "    <tr style=\"text-align: right;\">\n",
       "      <th></th>\n",
       "      <th>서울</th>\n",
       "      <th>부산</th>\n",
       "      <th>경기</th>\n",
       "      <th>대전</th>\n",
       "    </tr>\n",
       "  </thead>\n",
       "  <tbody>\n",
       "  </tbody>\n",
       "</table>\n",
       "</div>"
      ],
      "text/plain": [
       "Empty DataFrame\n",
       "Columns: [서울, 부산, 경기, 대전]\n",
       "Index: []"
      ]
     },
     "execution_count": 13,
     "metadata": {},
     "output_type": "execute_result"
    }
   ],
   "source": [
    "# 슬라이싱은 row를 기준으로 인식 => 아무 행도 해당하지 않음\n",
    "df01['서울':'경기']"
   ]
  },
  {
   "cell_type": "code",
   "execution_count": 48,
   "id": "ae186aac",
   "metadata": {},
   "outputs": [
    {
     "data": {
      "text/html": [
       "<div>\n",
       "<style scoped>\n",
       "    .dataframe tbody tr th:only-of-type {\n",
       "        vertical-align: middle;\n",
       "    }\n",
       "\n",
       "    .dataframe tbody tr th {\n",
       "        vertical-align: top;\n",
       "    }\n",
       "\n",
       "    .dataframe thead th {\n",
       "        text-align: right;\n",
       "    }\n",
       "</style>\n",
       "<table border=\"1\" class=\"dataframe\">\n",
       "  <thead>\n",
       "    <tr style=\"text-align: right;\">\n",
       "      <th></th>\n",
       "      <th>서울</th>\n",
       "      <th>부산</th>\n",
       "      <th>경기</th>\n",
       "      <th>대전</th>\n",
       "    </tr>\n",
       "  </thead>\n",
       "  <tbody>\n",
       "    <tr>\n",
       "      <th>오전</th>\n",
       "      <td>1</td>\n",
       "      <td>2</td>\n",
       "      <td>3</td>\n",
       "      <td>4</td>\n",
       "    </tr>\n",
       "  </tbody>\n",
       "</table>\n",
       "</div>"
      ],
      "text/plain": [
       "    서울  부산  경기  대전\n",
       "오전   1   2   3   4"
      ]
     },
     "execution_count": 48,
     "metadata": {},
     "output_type": "execute_result"
    }
   ],
   "source": [
    "df01[0:1]"
   ]
  },
  {
   "cell_type": "markdown",
   "id": "d5e0bdab",
   "metadata": {},
   "source": [
    "#### 3. 2차원 인덱스는 없다 => numpy에서 사용했던 2차원 배열 문법은 없다고 생각하자\n",
    "- indexer (iloc,loc,ix)를 사용하면 가능하다"
   ]
  },
  {
   "cell_type": "code",
   "execution_count": null,
   "id": "09a93973",
   "metadata": {},
   "outputs": [],
   "source": [
    "# key error\n",
    "df01[0,0]\n",
    "# 행 열이 아닌 multiindex로 인식한다\n",
    "df01['오전','경기도']"
   ]
  },
  {
   "cell_type": "markdown",
   "id": "af711e0d",
   "metadata": {},
   "source": [
    "#### 4.indexer \n",
    "    - loc  : 라벨 기반의 2차원 인덱싱 슬라이싱\n",
    "    - iloc : 기본 정수 인덱스 기반의 2차원 인덱싱 슬라이싱\n",
    "- loc iloc는 기본적으로 row indexing이다\n",
    "- loc iloc는 2차원 인덱싱도 가능하다 => 이때 return 타입에 유념"
   ]
  },
  {
   "cell_type": "code",
   "execution_count": 16,
   "id": "56d854cd",
   "metadata": {},
   "outputs": [
    {
     "data": {
      "text/plain": [
       "서울    1\n",
       "부산    2\n",
       "경기    3\n",
       "대전    4\n",
       "Name: 오전, dtype: int64"
      ]
     },
     "metadata": {},
     "output_type": "display_data"
    },
    {
     "data": {
      "text/plain": [
       "서울    1\n",
       "부산    2\n",
       "경기    3\n",
       "대전    4\n",
       "Name: 오전, dtype: int64"
      ]
     },
     "metadata": {},
     "output_type": "display_data"
    }
   ],
   "source": [
    "# loc iloc은 기본적으로 row indexing이다\n",
    "display(df01.loc['오전'])\n",
    "display(df01.iloc[0])"
   ]
  },
  {
   "cell_type": "code",
   "execution_count": 18,
   "id": "982eab15",
   "metadata": {},
   "outputs": [
    {
     "data": {
      "text/plain": [
       "서울    5\n",
       "부산    6\n",
       "경기    7\n",
       "대전    8\n",
       "Name: 오후, dtype: int64"
      ]
     },
     "metadata": {},
     "output_type": "display_data"
    },
    {
     "data": {
      "text/html": [
       "<div>\n",
       "<style scoped>\n",
       "    .dataframe tbody tr th:only-of-type {\n",
       "        vertical-align: middle;\n",
       "    }\n",
       "\n",
       "    .dataframe tbody tr th {\n",
       "        vertical-align: top;\n",
       "    }\n",
       "\n",
       "    .dataframe thead th {\n",
       "        text-align: right;\n",
       "    }\n",
       "</style>\n",
       "<table border=\"1\" class=\"dataframe\">\n",
       "  <thead>\n",
       "    <tr style=\"text-align: right;\">\n",
       "      <th></th>\n",
       "      <th>서울</th>\n",
       "      <th>부산</th>\n",
       "      <th>경기</th>\n",
       "      <th>대전</th>\n",
       "    </tr>\n",
       "  </thead>\n",
       "  <tbody>\n",
       "    <tr>\n",
       "      <th>오후</th>\n",
       "      <td>5</td>\n",
       "      <td>6</td>\n",
       "      <td>7</td>\n",
       "      <td>8</td>\n",
       "    </tr>\n",
       "  </tbody>\n",
       "</table>\n",
       "</div>"
      ],
      "text/plain": [
       "    서울  부산  경기  대전\n",
       "오후   5   6   7   8"
      ]
     },
     "metadata": {},
     "output_type": "display_data"
    }
   ],
   "source": [
    "# 마지막행 출력 \n",
    "display(df01.iloc[-1])\n",
    "display(df01.iloc[[-1]])"
   ]
  },
  {
   "cell_type": "code",
   "execution_count": 95,
   "id": "4ddb43d1",
   "metadata": {},
   "outputs": [
    {
     "data": {
      "text/plain": [
       "1"
      ]
     },
     "metadata": {},
     "output_type": "display_data"
    },
    {
     "data": {
      "text/plain": [
       "오전    1\n",
       "Name: 서울, dtype: int64"
      ]
     },
     "metadata": {},
     "output_type": "display_data"
    },
    {
     "data": {
      "text/plain": [
       "서울    1\n",
       "Name: 오전, dtype: int64"
      ]
     },
     "metadata": {},
     "output_type": "display_data"
    },
    {
     "data": {
      "text/html": [
       "<div>\n",
       "<style scoped>\n",
       "    .dataframe tbody tr th:only-of-type {\n",
       "        vertical-align: middle;\n",
       "    }\n",
       "\n",
       "    .dataframe tbody tr th {\n",
       "        vertical-align: top;\n",
       "    }\n",
       "\n",
       "    .dataframe thead th {\n",
       "        text-align: right;\n",
       "    }\n",
       "</style>\n",
       "<table border=\"1\" class=\"dataframe\">\n",
       "  <thead>\n",
       "    <tr style=\"text-align: right;\">\n",
       "      <th></th>\n",
       "      <th>서울</th>\n",
       "    </tr>\n",
       "  </thead>\n",
       "  <tbody>\n",
       "    <tr>\n",
       "      <th>오전</th>\n",
       "      <td>1</td>\n",
       "    </tr>\n",
       "  </tbody>\n",
       "</table>\n",
       "</div>"
      ],
      "text/plain": [
       "    서울\n",
       "오전   1"
      ]
     },
     "metadata": {},
     "output_type": "display_data"
    }
   ],
   "source": [
    "# 2차원 인덱싱 가능\n",
    "# return type에 유념하자\n",
    "\n",
    "display(df01.iloc[0,0])\n",
    "\n",
    "display(df01.iloc[[0],0])\n",
    "\n",
    "display(df01.iloc[0,[0]])\n",
    "\n",
    "display(df01.iloc[[0],[0]])"
   ]
  },
  {
   "cell_type": "code",
   "execution_count": 112,
   "id": "7fe13049",
   "metadata": {},
   "outputs": [
    {
     "data": {
      "text/plain": [
       "1"
      ]
     },
     "metadata": {},
     "output_type": "display_data"
    },
    {
     "data": {
      "text/plain": [
       "오전    1\n",
       "Name: 서울, dtype: int64"
      ]
     },
     "metadata": {},
     "output_type": "display_data"
    },
    {
     "data": {
      "text/plain": [
       "서울    1\n",
       "Name: 오전, dtype: int64"
      ]
     },
     "metadata": {},
     "output_type": "display_data"
    },
    {
     "data": {
      "text/html": [
       "<div>\n",
       "<style scoped>\n",
       "    .dataframe tbody tr th:only-of-type {\n",
       "        vertical-align: middle;\n",
       "    }\n",
       "\n",
       "    .dataframe tbody tr th {\n",
       "        vertical-align: top;\n",
       "    }\n",
       "\n",
       "    .dataframe thead th {\n",
       "        text-align: right;\n",
       "    }\n",
       "</style>\n",
       "<table border=\"1\" class=\"dataframe\">\n",
       "  <thead>\n",
       "    <tr style=\"text-align: right;\">\n",
       "      <th></th>\n",
       "      <th>서울</th>\n",
       "      <th>부산</th>\n",
       "      <th>경기</th>\n",
       "    </tr>\n",
       "  </thead>\n",
       "  <tbody>\n",
       "    <tr>\n",
       "      <th>오전</th>\n",
       "      <td>1</td>\n",
       "      <td>2</td>\n",
       "      <td>3</td>\n",
       "    </tr>\n",
       "  </tbody>\n",
       "</table>\n",
       "</div>"
      ],
      "text/plain": [
       "    서울  부산  경기\n",
       "오전   1   2   3"
      ]
     },
     "metadata": {},
     "output_type": "display_data"
    }
   ],
   "source": [
    "# 2차원 슬라이싱 가능\n",
    "# return type에 유념하자\n",
    "display(df01.loc['오전','서울'])\n",
    "display(df01.loc[['오전'],'서울'])\n",
    "display(df01.loc['오전',['서울']])\n",
    "display(df01.loc[['오전'],'서울':'경기'])"
   ]
  },
  {
   "cell_type": "code",
   "execution_count": 93,
   "id": "b9333d8d",
   "metadata": {},
   "outputs": [
    {
     "data": {
      "text/html": [
       "<div>\n",
       "<style scoped>\n",
       "    .dataframe tbody tr th:only-of-type {\n",
       "        vertical-align: middle;\n",
       "    }\n",
       "\n",
       "    .dataframe tbody tr th {\n",
       "        vertical-align: top;\n",
       "    }\n",
       "\n",
       "    .dataframe thead th {\n",
       "        text-align: right;\n",
       "    }\n",
       "</style>\n",
       "<table border=\"1\" class=\"dataframe\">\n",
       "  <thead>\n",
       "    <tr style=\"text-align: right;\">\n",
       "      <th></th>\n",
       "      <th>서울</th>\n",
       "      <th>부산</th>\n",
       "      <th>경기</th>\n",
       "    </tr>\n",
       "  </thead>\n",
       "  <tbody>\n",
       "    <tr>\n",
       "      <th>오전</th>\n",
       "      <td>1</td>\n",
       "      <td>2</td>\n",
       "      <td>3</td>\n",
       "    </tr>\n",
       "    <tr>\n",
       "      <th>오후</th>\n",
       "      <td>5</td>\n",
       "      <td>6</td>\n",
       "      <td>7</td>\n",
       "    </tr>\n",
       "  </tbody>\n",
       "</table>\n",
       "</div>"
      ],
      "text/plain": [
       "    서울  부산  경기\n",
       "오전   1   2   3\n",
       "오후   5   6   7"
      ]
     },
     "execution_count": 93,
     "metadata": {},
     "output_type": "execute_result"
    }
   ],
   "source": [
    "# fancy indexing\n",
    "# numpy에서는 이게 안됬었다 => 그때는 np.ix_ 사용햇었다\n",
    "df01.iloc[[0,1],[0,1,2]]"
   ]
  },
  {
   "cell_type": "code",
   "execution_count": 22,
   "id": "e76ffc1d",
   "metadata": {},
   "outputs": [
    {
     "data": {
      "text/html": [
       "<div>\n",
       "<style scoped>\n",
       "    .dataframe tbody tr th:only-of-type {\n",
       "        vertical-align: middle;\n",
       "    }\n",
       "\n",
       "    .dataframe tbody tr th {\n",
       "        vertical-align: top;\n",
       "    }\n",
       "\n",
       "    .dataframe thead th {\n",
       "        text-align: right;\n",
       "    }\n",
       "</style>\n",
       "<table border=\"1\" class=\"dataframe\">\n",
       "  <thead>\n",
       "    <tr style=\"text-align: right;\">\n",
       "      <th></th>\n",
       "      <th>서울</th>\n",
       "      <th>부산</th>\n",
       "      <th>경기</th>\n",
       "      <th>대전</th>\n",
       "    </tr>\n",
       "  </thead>\n",
       "  <tbody>\n",
       "    <tr>\n",
       "      <th>오전</th>\n",
       "      <td>1</td>\n",
       "      <td>2</td>\n",
       "      <td>3</td>\n",
       "      <td>4</td>\n",
       "    </tr>\n",
       "    <tr>\n",
       "      <th>오후</th>\n",
       "      <td>5</td>\n",
       "      <td>6</td>\n",
       "      <td>7</td>\n",
       "      <td>8</td>\n",
       "    </tr>\n",
       "  </tbody>\n",
       "</table>\n",
       "</div>"
      ],
      "text/plain": [
       "    서울  부산  경기  대전\n",
       "오전   1   2   3   4\n",
       "오후   5   6   7   8"
      ]
     },
     "metadata": {},
     "output_type": "display_data"
    },
    {
     "name": "stdout",
     "output_type": "stream",
     "text": [
      "오전    False\n",
      "오후     True\n",
      "Name: 서울, dtype: bool\n"
     ]
    },
    {
     "data": {
      "text/html": [
       "<div>\n",
       "<style scoped>\n",
       "    .dataframe tbody tr th:only-of-type {\n",
       "        vertical-align: middle;\n",
       "    }\n",
       "\n",
       "    .dataframe tbody tr th {\n",
       "        vertical-align: top;\n",
       "    }\n",
       "\n",
       "    .dataframe thead th {\n",
       "        text-align: right;\n",
       "    }\n",
       "</style>\n",
       "<table border=\"1\" class=\"dataframe\">\n",
       "  <thead>\n",
       "    <tr style=\"text-align: right;\">\n",
       "      <th></th>\n",
       "      <th>서울</th>\n",
       "      <th>부산</th>\n",
       "      <th>경기</th>\n",
       "      <th>대전</th>\n",
       "    </tr>\n",
       "  </thead>\n",
       "  <tbody>\n",
       "    <tr>\n",
       "      <th>오후</th>\n",
       "      <td>5</td>\n",
       "      <td>6</td>\n",
       "      <td>7</td>\n",
       "      <td>8</td>\n",
       "    </tr>\n",
       "  </tbody>\n",
       "</table>\n",
       "</div>"
      ],
      "text/plain": [
       "    서울  부산  경기  대전\n",
       "오후   5   6   7   8"
      ]
     },
     "metadata": {},
     "output_type": "display_data"
    }
   ],
   "source": [
    "# loc iloc을 사용하지 않았다\n",
    "# masking\n",
    "display(df01)\n",
    "print(df01['서울']>1)\n",
    "\n",
    "# boolean indexing은 자동으로 row단위로 인식한다\n",
    "display(df01[df01['서울']>1])"
   ]
  },
  {
   "cell_type": "code",
   "execution_count": 23,
   "id": "6670d3b1",
   "metadata": {},
   "outputs": [
    {
     "data": {
      "text/html": [
       "<div>\n",
       "<style scoped>\n",
       "    .dataframe tbody tr th:only-of-type {\n",
       "        vertical-align: middle;\n",
       "    }\n",
       "\n",
       "    .dataframe tbody tr th {\n",
       "        vertical-align: top;\n",
       "    }\n",
       "\n",
       "    .dataframe thead th {\n",
       "        text-align: right;\n",
       "    }\n",
       "</style>\n",
       "<table border=\"1\" class=\"dataframe\">\n",
       "  <thead>\n",
       "    <tr style=\"text-align: right;\">\n",
       "      <th></th>\n",
       "      <th>서울</th>\n",
       "      <th>부산</th>\n",
       "      <th>경기</th>\n",
       "      <th>대전</th>\n",
       "    </tr>\n",
       "  </thead>\n",
       "  <tbody>\n",
       "    <tr>\n",
       "      <th>오전</th>\n",
       "      <td>1</td>\n",
       "      <td>2</td>\n",
       "      <td>3</td>\n",
       "      <td>4</td>\n",
       "    </tr>\n",
       "    <tr>\n",
       "      <th>오후</th>\n",
       "      <td>5</td>\n",
       "      <td>6</td>\n",
       "      <td>7</td>\n",
       "      <td>8</td>\n",
       "    </tr>\n",
       "  </tbody>\n",
       "</table>\n",
       "</div>"
      ],
      "text/plain": [
       "    서울  부산  경기  대전\n",
       "오전   1   2   3   4\n",
       "오후   5   6   7   8"
      ]
     },
     "metadata": {},
     "output_type": "display_data"
    },
    {
     "name": "stdout",
     "output_type": "stream",
     "text": [
      "오전    False\n",
      "오후     True\n",
      "Name: 서울, dtype: bool\n"
     ]
    },
    {
     "data": {
      "text/html": [
       "<div>\n",
       "<style scoped>\n",
       "    .dataframe tbody tr th:only-of-type {\n",
       "        vertical-align: middle;\n",
       "    }\n",
       "\n",
       "    .dataframe tbody tr th {\n",
       "        vertical-align: top;\n",
       "    }\n",
       "\n",
       "    .dataframe thead th {\n",
       "        text-align: right;\n",
       "    }\n",
       "</style>\n",
       "<table border=\"1\" class=\"dataframe\">\n",
       "  <thead>\n",
       "    <tr style=\"text-align: right;\">\n",
       "      <th></th>\n",
       "      <th>서울</th>\n",
       "      <th>부산</th>\n",
       "      <th>경기</th>\n",
       "      <th>대전</th>\n",
       "    </tr>\n",
       "  </thead>\n",
       "  <tbody>\n",
       "    <tr>\n",
       "      <th>오후</th>\n",
       "      <td>5</td>\n",
       "      <td>6</td>\n",
       "      <td>7</td>\n",
       "      <td>8</td>\n",
       "    </tr>\n",
       "  </tbody>\n",
       "</table>\n",
       "</div>"
      ],
      "text/plain": [
       "    서울  부산  경기  대전\n",
       "오후   5   6   7   8"
      ]
     },
     "metadata": {},
     "output_type": "display_data"
    }
   ],
   "source": [
    "# loc iloc을 사용\n",
    "display(df01)\n",
    "print(df01['서울']>1)\n",
    "display(df01.loc[df01['서울']>1,:])"
   ]
  },
  {
   "cell_type": "code",
   "execution_count": 26,
   "id": "ba5446d6",
   "metadata": {},
   "outputs": [
    {
     "data": {
      "text/html": [
       "<div>\n",
       "<style scoped>\n",
       "    .dataframe tbody tr th:only-of-type {\n",
       "        vertical-align: middle;\n",
       "    }\n",
       "\n",
       "    .dataframe tbody tr th {\n",
       "        vertical-align: top;\n",
       "    }\n",
       "\n",
       "    .dataframe thead th {\n",
       "        text-align: right;\n",
       "    }\n",
       "</style>\n",
       "<table border=\"1\" class=\"dataframe\">\n",
       "  <thead>\n",
       "    <tr style=\"text-align: right;\">\n",
       "      <th></th>\n",
       "      <th>서울</th>\n",
       "      <th>부산</th>\n",
       "      <th>경기</th>\n",
       "      <th>대전</th>\n",
       "    </tr>\n",
       "  </thead>\n",
       "  <tbody>\n",
       "    <tr>\n",
       "      <th>오전</th>\n",
       "      <td>1</td>\n",
       "      <td>2</td>\n",
       "      <td>3</td>\n",
       "      <td>4</td>\n",
       "    </tr>\n",
       "    <tr>\n",
       "      <th>오후</th>\n",
       "      <td>5</td>\n",
       "      <td>6</td>\n",
       "      <td>7</td>\n",
       "      <td>8</td>\n",
       "    </tr>\n",
       "  </tbody>\n",
       "</table>\n",
       "</div>"
      ],
      "text/plain": [
       "    서울  부산  경기  대전\n",
       "오전   1   2   3   4\n",
       "오후   5   6   7   8"
      ]
     },
     "metadata": {},
     "output_type": "display_data"
    },
    {
     "name": "stdout",
     "output_type": "stream",
     "text": [
      "오전    False\n",
      "오후     True\n",
      "Name: 서울, dtype: bool\n"
     ]
    },
    {
     "data": {
      "text/html": [
       "<div>\n",
       "<style scoped>\n",
       "    .dataframe tbody tr th:only-of-type {\n",
       "        vertical-align: middle;\n",
       "    }\n",
       "\n",
       "    .dataframe tbody tr th {\n",
       "        vertical-align: top;\n",
       "    }\n",
       "\n",
       "    .dataframe thead th {\n",
       "        text-align: right;\n",
       "    }\n",
       "</style>\n",
       "<table border=\"1\" class=\"dataframe\">\n",
       "  <thead>\n",
       "    <tr style=\"text-align: right;\">\n",
       "      <th></th>\n",
       "      <th>서울</th>\n",
       "      <th>경기</th>\n",
       "    </tr>\n",
       "  </thead>\n",
       "  <tbody>\n",
       "    <tr>\n",
       "      <th>오후</th>\n",
       "      <td>5</td>\n",
       "      <td>7</td>\n",
       "    </tr>\n",
       "  </tbody>\n",
       "</table>\n",
       "</div>"
      ],
      "text/plain": [
       "    서울  경기\n",
       "오후   5   7"
      ]
     },
     "metadata": {},
     "output_type": "display_data"
    }
   ],
   "source": [
    "# loc iloc을 사용\n",
    "display(df01)\n",
    "print(df01['서울']>1)\n",
    "display(df01.loc[df01['서울']>1,['서울','경기']])"
   ]
  }
 ],
 "metadata": {
  "kernelspec": {
   "display_name": "Python 3 (ipykernel)",
   "language": "python",
   "name": "python3"
  },
  "language_info": {
   "codemirror_mode": {
    "name": "ipython",
    "version": 3
   },
   "file_extension": ".py",
   "mimetype": "text/x-python",
   "name": "python",
   "nbconvert_exporter": "python",
   "pygments_lexer": "ipython3",
   "version": "3.8.11"
  }
 },
 "nbformat": 4,
 "nbformat_minor": 5
}
