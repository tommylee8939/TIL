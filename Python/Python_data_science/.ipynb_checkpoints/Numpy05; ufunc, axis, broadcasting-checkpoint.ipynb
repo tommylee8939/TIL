{
 "cells": [
  {
   "cell_type": "markdown",
   "metadata": {},
   "source": [
    "## Numpy05; ufunc, axis , broadcasting"
   ]
  },
  {
   "cell_type": "code",
   "execution_count": 1,
   "metadata": {},
   "outputs": [],
   "source": [
    "import numpy as np"
   ]
  },
  {
   "cell_type": "markdown",
   "metadata": {},
   "source": [
    "### ufunc\n",
    "- R에서 보았던 벡터 연산이라 생각하자\n",
    "- ndarray객체에 대해서 벡터 연산을 지원한다\n",
    "- 파이썬 기본 내장 산술 연산자는 거의 다 된다고 생각하자\n",
    "- 추가적인 함수들은 numpy.org 참고"
   ]
  },
  {
   "cell_type": "code",
   "execution_count": 12,
   "metadata": {},
   "outputs": [
    {
     "name": "stdout",
     "output_type": "stream",
     "text": [
      "[3 4 5 6 7]\n",
      "[-2 -1  0  1  2]\n",
      "[0.25 0.5  0.75 1.   1.25]\n",
      "[ 2  4  6  8 10]\n",
      "[1 0 1 0 1]\n",
      "[-1 -2 -3 -4 -5]\n"
     ]
    }
   ],
   "source": [
    "# scalar와 벡터 연산 \n",
    "ndarray01 = np.array([1,2,3,4,5])\n",
    "\n",
    "print(ndarray01+2)\n",
    "print(ndarray01-3)\n",
    "print(ndarray01/4)\n",
    "print(ndarray01*2)\n",
    "print(ndarray01%2)\n",
    "print(-ndarray01)"
   ]
  },
  {
   "cell_type": "code",
   "execution_count": 15,
   "metadata": {},
   "outputs": [
    {
     "name": "stdout",
     "output_type": "stream",
     "text": [
      "[ 2  4  6  8 10]\n",
      "[0 0 0 0 0]\n",
      "[1. 1. 1. 1. 1.]\n",
      "[ 1  4  9 16 25]\n",
      "[0 0 0 0 0]\n"
     ]
    }
   ],
   "source": [
    "# 벡터와 벡터 연산 \n",
    "ndarray01 = np.array([1,2,3,4,5])\n",
    "\n",
    "print(ndarray01+ndarray01)\n",
    "print(ndarray01-ndarray01)\n",
    "print(ndarray01/ndarray01)\n",
    "print(ndarray01*ndarray01)\n",
    "print(ndarray01%ndarray01)\n"
   ]
  },
  {
   "cell_type": "code",
   "execution_count": 18,
   "metadata": {},
   "outputs": [
    {
     "name": "stdout",
     "output_type": "stream",
     "text": [
      "[ True False False False False]\n",
      "[ True  True  True  True  True]\n",
      "[ True False False False False]\n"
     ]
    }
   ],
   "source": [
    "# 비교연산자도 가능하다\n",
    "ndarray01 = np.array([1,2,3,4,5])\n",
    "print(ndarray01==1)\n",
    "print(ndarray01>=1)\n",
    "print(ndarray01<=1)"
   ]
  },
  {
   "cell_type": "markdown",
   "metadata": {},
   "source": [
    "### 집계함수"
   ]
  },
  {
   "cell_type": "code",
   "execution_count": 42,
   "metadata": {},
   "outputs": [
    {
     "data": {
      "text/plain": [
       "0"
      ]
     },
     "execution_count": 42,
     "metadata": {},
     "output_type": "execute_result"
    }
   ],
   "source": [
    "ndarray01 = np.array([1,2,3,4,5])\n",
    "ndarray01.sum()\n",
    "\n",
    "ndarray01.std()\n",
    "ndarray01.var()\n",
    "ndarray01.mean()\n",
    "ndarray01.min()\n",
    "ndarray01.max()\n",
    "ndarray01.argmax()\n",
    "ndarray01.argmin()"
   ]
  },
  {
   "cell_type": "code",
   "execution_count": 46,
   "metadata": {},
   "outputs": [
    {
     "data": {
      "text/plain": [
       "0"
      ]
     },
     "execution_count": 46,
     "metadata": {},
     "output_type": "execute_result"
    }
   ],
   "source": [
    "np.std(ndarray01)\n",
    "np.var(ndarray01)\n",
    "np.mean(ndarray01)\n",
    "np.median(ndarray01)\n",
    "np.min(ndarray01)\n",
    "np.max(ndarray01)\n",
    "np.argmax(ndarray01)\n",
    "np.argmin(ndarray01)"
   ]
  },
  {
   "cell_type": "code",
   "execution_count": 50,
   "metadata": {},
   "outputs": [
    {
     "name": "stdout",
     "output_type": "stream",
     "text": [
      "[[1 2 3]\n",
      " [4 5 6]]\n",
      "21\n",
      "[5 7 9]\n",
      "[ 6 15]\n"
     ]
    }
   ],
   "source": [
    "# axis를 갖는 집계 함수\n",
    "ndarray01 = np.array([1,2,3,4,5,6]).reshape(2,3)\n",
    "print(ndarray01)\n",
    "print(ndarray01.sum())\n",
    "print(ndarray01.sum(axis=0))\n",
    "print(ndarray01.sum(axis=1))"
   ]
  },
  {
   "cell_type": "code",
   "execution_count": null,
   "metadata": {},
   "outputs": [],
   "source": []
  },
  {
   "cell_type": "markdown",
   "metadata": {},
   "source": [
    "### bool indexing"
   ]
  },
  {
   "cell_type": "code",
   "execution_count": 28,
   "metadata": {},
   "outputs": [
    {
     "data": {
      "text/plain": [
       "array([1, 2, 3, 4, 5])"
      ]
     },
     "execution_count": 28,
     "metadata": {},
     "output_type": "execute_result"
    }
   ],
   "source": [
    "ndarray01 = np.array([1,2,3,4,5])\n",
    "ndarray01[ndarray01>=1]"
   ]
  },
  {
   "cell_type": "markdown",
   "metadata": {},
   "source": [
    "### fancy indexing"
   ]
  },
  {
   "cell_type": "code",
   "execution_count": 27,
   "metadata": {},
   "outputs": [
    {
     "name": "stdout",
     "output_type": "stream",
     "text": [
      "[1 3 4]\n",
      "[3 5]\n"
     ]
    }
   ],
   "source": [
    "ndarray01 = np.array([1,2,3,4,5])\n",
    "index = [0,2,3]\n",
    "print(ndarray01[index])\n",
    "print(ndarray01[[2,4]])"
   ]
  }
 ],
 "metadata": {
  "kernelspec": {
   "display_name": "Python 3",
   "language": "python",
   "name": "python3"
  },
  "language_info": {
   "codemirror_mode": {
    "name": "ipython",
    "version": 3
   },
   "file_extension": ".py",
   "mimetype": "text/x-python",
   "name": "python",
   "nbconvert_exporter": "python",
   "pygments_lexer": "ipython3",
   "version": "3.8.5"
  }
 },
 "nbformat": 4,
 "nbformat_minor": 4
}
