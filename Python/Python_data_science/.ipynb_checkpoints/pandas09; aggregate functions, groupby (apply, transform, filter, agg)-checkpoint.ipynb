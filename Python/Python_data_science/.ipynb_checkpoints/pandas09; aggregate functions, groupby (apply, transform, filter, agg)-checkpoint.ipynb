{
 "cells": [
  {
   "cell_type": "code",
   "execution_count": 1,
   "id": "906d8126",
   "metadata": {},
   "outputs": [],
   "source": [
    "import numpy as np\n",
    "import pandas as pd"
   ]
  },
  {
   "cell_type": "markdown",
   "id": "97540848",
   "metadata": {},
   "source": [
    "### 집계함수"
   ]
  },
  {
   "cell_type": "markdown",
   "id": "95e0826b",
   "metadata": {},
   "source": [
    "### apply"
   ]
  },
  {
   "cell_type": "code",
   "execution_count": 7,
   "id": "a49ff384",
   "metadata": {},
   "outputs": [
    {
     "data": {
      "text/html": [
       "<div>\n",
       "<style scoped>\n",
       "    .dataframe tbody tr th:only-of-type {\n",
       "        vertical-align: middle;\n",
       "    }\n",
       "\n",
       "    .dataframe tbody tr th {\n",
       "        vertical-align: top;\n",
       "    }\n",
       "\n",
       "    .dataframe thead th {\n",
       "        text-align: right;\n",
       "    }\n",
       "</style>\n",
       "<table border=\"1\" class=\"dataframe\">\n",
       "  <thead>\n",
       "    <tr style=\"text-align: right;\">\n",
       "      <th></th>\n",
       "      <th>A</th>\n",
       "      <th>B</th>\n",
       "      <th>C</th>\n",
       "      <th>D</th>\n",
       "    </tr>\n",
       "  </thead>\n",
       "  <tbody>\n",
       "    <tr>\n",
       "      <th>2021-09-02</th>\n",
       "      <td>8</td>\n",
       "      <td>8</td>\n",
       "      <td>3</td>\n",
       "      <td>7</td>\n",
       "    </tr>\n",
       "    <tr>\n",
       "      <th>2021-09-03</th>\n",
       "      <td>7</td>\n",
       "      <td>0</td>\n",
       "      <td>4</td>\n",
       "      <td>2</td>\n",
       "    </tr>\n",
       "    <tr>\n",
       "      <th>2021-09-04</th>\n",
       "      <td>5</td>\n",
       "      <td>2</td>\n",
       "      <td>2</td>\n",
       "      <td>2</td>\n",
       "    </tr>\n",
       "    <tr>\n",
       "      <th>2021-09-05</th>\n",
       "      <td>1</td>\n",
       "      <td>0</td>\n",
       "      <td>8</td>\n",
       "      <td>4</td>\n",
       "    </tr>\n",
       "    <tr>\n",
       "      <th>2021-09-06</th>\n",
       "      <td>0</td>\n",
       "      <td>9</td>\n",
       "      <td>6</td>\n",
       "      <td>2</td>\n",
       "    </tr>\n",
       "    <tr>\n",
       "      <th>2021-09-07</th>\n",
       "      <td>4</td>\n",
       "      <td>1</td>\n",
       "      <td>5</td>\n",
       "      <td>3</td>\n",
       "    </tr>\n",
       "  </tbody>\n",
       "</table>\n",
       "</div>"
      ],
      "text/plain": [
       "            A  B  C  D\n",
       "2021-09-02  8  8  3  7\n",
       "2021-09-03  7  0  4  2\n",
       "2021-09-04  5  2  2  2\n",
       "2021-09-05  1  0  8  4\n",
       "2021-09-06  0  9  6  2\n",
       "2021-09-07  4  1  5  3"
      ]
     },
     "execution_count": 7,
     "metadata": {},
     "output_type": "execute_result"
    }
   ],
   "source": [
    "np.random.seed(100)\n",
    "temp_frm = pd.DataFrame(np.random.randint(0, 10, (6,4)))\n",
    "\n",
    "temp_frm.columns = ['A', 'B', 'C', 'D']\n",
    "temp_frm.index   = pd.date_range('20210902'  , periods=6)\n",
    "temp_frm"
   ]
  },
  {
   "cell_type": "code",
   "execution_count": 6,
   "id": "a6a4a4ce",
   "metadata": {
    "scrolled": true
   },
   "outputs": [
    {
     "name": "stdout",
     "output_type": "stream",
     "text": [
      "2021-09-02    8\n",
      "2021-09-03    7\n",
      "2021-09-04    5\n",
      "2021-09-05    1\n",
      "2021-09-06    0\n",
      "2021-09-07    4\n",
      "Freq: D, Name: A, dtype: int64\n",
      "2021-09-02    8\n",
      "2021-09-03    0\n",
      "2021-09-04    2\n",
      "2021-09-05    0\n",
      "2021-09-06    9\n",
      "2021-09-07    1\n",
      "Freq: D, Name: B, dtype: int64\n",
      "2021-09-02    3\n",
      "2021-09-03    4\n",
      "2021-09-04    2\n",
      "2021-09-05    8\n",
      "2021-09-06    6\n",
      "2021-09-07    5\n",
      "Freq: D, Name: C, dtype: int64\n",
      "2021-09-02    7\n",
      "2021-09-03    2\n",
      "2021-09-04    2\n",
      "2021-09-05    4\n",
      "2021-09-06    2\n",
      "2021-09-07    3\n",
      "Freq: D, Name: D, dtype: int64\n"
     ]
    },
    {
     "data": {
      "text/plain": [
       "A    None\n",
       "B    None\n",
       "C    None\n",
       "D    None\n",
       "dtype: object"
      ]
     },
     "execution_count": 6,
     "metadata": {},
     "output_type": "execute_result"
    }
   ],
   "source": [
    "temp_frm.apply(lambda x:print(x),axis=0)"
   ]
  },
  {
   "cell_type": "code",
   "execution_count": 5,
   "id": "4770201d",
   "metadata": {
    "scrolled": true
   },
   "outputs": [
    {
     "name": "stdout",
     "output_type": "stream",
     "text": [
      "A    8\n",
      "B    8\n",
      "C    3\n",
      "D    7\n",
      "Name: 2021-09-02 00:00:00, dtype: int64\n",
      "A    7\n",
      "B    0\n",
      "C    4\n",
      "D    2\n",
      "Name: 2021-09-03 00:00:00, dtype: int64\n",
      "A    5\n",
      "B    2\n",
      "C    2\n",
      "D    2\n",
      "Name: 2021-09-04 00:00:00, dtype: int64\n",
      "A    1\n",
      "B    0\n",
      "C    8\n",
      "D    4\n",
      "Name: 2021-09-05 00:00:00, dtype: int64\n",
      "A    0\n",
      "B    9\n",
      "C    6\n",
      "D    2\n",
      "Name: 2021-09-06 00:00:00, dtype: int64\n",
      "A    4\n",
      "B    1\n",
      "C    5\n",
      "D    3\n",
      "Name: 2021-09-07 00:00:00, dtype: int64\n"
     ]
    },
    {
     "data": {
      "text/plain": [
       "2021-09-02    None\n",
       "2021-09-03    None\n",
       "2021-09-04    None\n",
       "2021-09-05    None\n",
       "2021-09-06    None\n",
       "2021-09-07    None\n",
       "Freq: D, dtype: object"
      ]
     },
     "execution_count": 5,
     "metadata": {},
     "output_type": "execute_result"
    }
   ],
   "source": [
    "temp_frm.apply(lambda x:print(x),axis=1)"
   ]
  },
  {
   "cell_type": "code",
   "execution_count": 9,
   "id": "d5b1f5a8",
   "metadata": {},
   "outputs": [
    {
     "name": "stdout",
     "output_type": "stream",
     "text": [
      "각 행에 대해서 최대값 - 최소값을 구해서 새로운 열을 추가한다면? - \n",
      "2021-09-02    5\n",
      "2021-09-03    7\n",
      "2021-09-04    3\n",
      "2021-09-05    8\n",
      "2021-09-06    9\n",
      "2021-09-07    4\n",
      "Freq: D, dtype: int64\n",
      "2021-09-02    5\n",
      "2021-09-03    7\n",
      "2021-09-04    3\n",
      "2021-09-05    8\n",
      "2021-09-06    9\n",
      "2021-09-07    4\n",
      "Freq: D, dtype: int64\n"
     ]
    }
   ],
   "source": [
    "print('각 행에 대해서 최대값 - 최소값을 구해서 새로운 열을 추가한다면? - ')\n",
    "print(temp_frm.apply(lambda frm : frm.max() - frm.min() , axis = 1))\n",
    "print(temp_frm.apply(lambda frm : max(frm) - min(frm) , axis = 1))"
   ]
  },
  {
   "cell_type": "markdown",
   "id": "95493162",
   "metadata": {},
   "source": [
    "#### 왜 np.max가 아닌 그냥 max를 썻는데 에러가 발생하지 않을까?\n"
   ]
  },
  {
   "cell_type": "markdown",
   "id": "b53899d6",
   "metadata": {},
   "source": [
    "### groupby"
   ]
  }
 ],
 "metadata": {
  "kernelspec": {
   "display_name": "Python 3 (ipykernel)",
   "language": "python",
   "name": "python3"
  },
  "language_info": {
   "codemirror_mode": {
    "name": "ipython",
    "version": 3
   },
   "file_extension": ".py",
   "mimetype": "text/x-python",
   "name": "python",
   "nbconvert_exporter": "python",
   "pygments_lexer": "ipython3",
   "version": "3.8.11"
  }
 },
 "nbformat": 4,
 "nbformat_minor": 5
}
