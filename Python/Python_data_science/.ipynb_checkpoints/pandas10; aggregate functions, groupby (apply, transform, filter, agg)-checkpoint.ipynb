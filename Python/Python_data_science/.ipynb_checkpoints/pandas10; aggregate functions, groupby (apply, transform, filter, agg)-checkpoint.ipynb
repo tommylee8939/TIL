{
 "cells": [
  {
   "cell_type": "code",
   "execution_count": 2,
   "id": "906d8126",
   "metadata": {},
   "outputs": [],
   "source": [
    "import numpy as np\n",
    "import pandas as pd"
   ]
  },
  {
   "cell_type": "markdown",
   "id": "97540848",
   "metadata": {},
   "source": [
    "### 집계함수\n",
    "- numpy의 집계함수들과 같다\n",
    "- pandas에서 기본적으로 자주 사용하는 집계함수들을 지원한다\n",
    "- DataFrame의 형태에서는 axis 지정해주어야한다\n",
    "- count, first, last, mean, median , min, max, std, var, sum 등등등 지원"
   ]
  },
  {
   "cell_type": "code",
   "execution_count": 25,
   "id": "cfe46c69",
   "metadata": {},
   "outputs": [
    {
     "data": {
      "text/html": [
       "<div>\n",
       "<style scoped>\n",
       "    .dataframe tbody tr th:only-of-type {\n",
       "        vertical-align: middle;\n",
       "    }\n",
       "\n",
       "    .dataframe tbody tr th {\n",
       "        vertical-align: top;\n",
       "    }\n",
       "\n",
       "    .dataframe thead th {\n",
       "        text-align: right;\n",
       "    }\n",
       "</style>\n",
       "<table border=\"1\" class=\"dataframe\">\n",
       "  <thead>\n",
       "    <tr style=\"text-align: right;\">\n",
       "      <th></th>\n",
       "      <th>A</th>\n",
       "      <th>B</th>\n",
       "      <th>C</th>\n",
       "      <th>D</th>\n",
       "    </tr>\n",
       "  </thead>\n",
       "  <tbody>\n",
       "    <tr>\n",
       "      <th>2021-09-02</th>\n",
       "      <td>8</td>\n",
       "      <td>8</td>\n",
       "      <td>3</td>\n",
       "      <td>7</td>\n",
       "    </tr>\n",
       "    <tr>\n",
       "      <th>2021-09-03</th>\n",
       "      <td>7</td>\n",
       "      <td>0</td>\n",
       "      <td>4</td>\n",
       "      <td>2</td>\n",
       "    </tr>\n",
       "    <tr>\n",
       "      <th>2021-09-04</th>\n",
       "      <td>5</td>\n",
       "      <td>2</td>\n",
       "      <td>2</td>\n",
       "      <td>2</td>\n",
       "    </tr>\n",
       "    <tr>\n",
       "      <th>2021-09-05</th>\n",
       "      <td>1</td>\n",
       "      <td>0</td>\n",
       "      <td>8</td>\n",
       "      <td>4</td>\n",
       "    </tr>\n",
       "    <tr>\n",
       "      <th>2021-09-06</th>\n",
       "      <td>0</td>\n",
       "      <td>9</td>\n",
       "      <td>6</td>\n",
       "      <td>2</td>\n",
       "    </tr>\n",
       "    <tr>\n",
       "      <th>2021-09-07</th>\n",
       "      <td>4</td>\n",
       "      <td>1</td>\n",
       "      <td>5</td>\n",
       "      <td>3</td>\n",
       "    </tr>\n",
       "  </tbody>\n",
       "</table>\n",
       "</div>"
      ],
      "text/plain": [
       "            A  B  C  D\n",
       "2021-09-02  8  8  3  7\n",
       "2021-09-03  7  0  4  2\n",
       "2021-09-04  5  2  2  2\n",
       "2021-09-05  1  0  8  4\n",
       "2021-09-06  0  9  6  2\n",
       "2021-09-07  4  1  5  3"
      ]
     },
     "execution_count": 25,
     "metadata": {},
     "output_type": "execute_result"
    }
   ],
   "source": [
    "np.random.seed(100)\n",
    "temp_frm = pd.DataFrame(np.random.randint(0, 10, (6,4)))\n",
    "\n",
    "temp_frm.columns = ['A', 'B', 'C', 'D']\n",
    "temp_frm.index   = pd.date_range('20210902'  , periods=6)\n",
    "temp_frm"
   ]
  },
  {
   "cell_type": "code",
   "execution_count": 30,
   "id": "4a710e39",
   "metadata": {},
   "outputs": [
    {
     "name": "stdout",
     "output_type": "stream",
     "text": [
      "열의 평균\n",
      "A    4.166667\n",
      "B    3.333333\n",
      "C    4.666667\n",
      "D    3.333333\n",
      "dtype: float64\n",
      "********************\n",
      "행의 평균\n",
      "2021-09-02    6.50\n",
      "2021-09-03    3.25\n",
      "2021-09-04    2.75\n",
      "2021-09-05    3.25\n",
      "2021-09-06    4.25\n",
      "2021-09-07    3.25\n",
      "Freq: D, dtype: float64\n",
      "********************\n"
     ]
    }
   ],
   "source": [
    "print('열의 평균')\n",
    "print(temp_frm.mean(axis=0))\n",
    "print('*'*20)\n",
    "print('행의 평균')\n",
    "print(temp_frm.mean(axis=1))\n",
    "print('*'*20)"
   ]
  },
  {
   "cell_type": "code",
   "execution_count": 32,
   "id": "af4a0a4c",
   "metadata": {},
   "outputs": [
    {
     "name": "stdout",
     "output_type": "stream",
     "text": [
      "열의 길이\n",
      "A    6\n",
      "B    6\n",
      "C    6\n",
      "D    6\n",
      "dtype: int64\n",
      "********************\n",
      "행의 길이\n",
      "2021-09-02    4\n",
      "2021-09-03    4\n",
      "2021-09-04    4\n",
      "2021-09-05    4\n",
      "2021-09-06    4\n",
      "2021-09-07    4\n",
      "Freq: D, dtype: int64\n",
      "********************\n"
     ]
    }
   ],
   "source": [
    "print('열의 길이')\n",
    "print(temp_frm.count(axis=0))\n",
    "print('*'*20)\n",
    "print('행의 길이')\n",
    "print(temp_frm.count(axis=1))\n",
    "print('*'*20)"
   ]
  },
  {
   "cell_type": "code",
   "execution_count": 34,
   "id": "bae315cb",
   "metadata": {},
   "outputs": [
    {
     "name": "stdout",
     "output_type": "stream",
     "text": [
      "각 행의 최대\n",
      "2021-09-02    8\n",
      "2021-09-03    7\n",
      "2021-09-04    5\n",
      "2021-09-05    8\n",
      "2021-09-06    9\n",
      "2021-09-07    5\n",
      "Freq: D, dtype: int64\n",
      "********************\n"
     ]
    }
   ],
   "source": [
    "print('각 행의 최대')\n",
    "print(temp_frm.max(axis=1))\n",
    "print('*'*20)"
   ]
  },
  {
   "cell_type": "markdown",
   "id": "95e0826b",
   "metadata": {},
   "source": [
    "### apply\n",
    "- Series에 적용할때는 axis 설정 필요없다 => 모든 element에 함수가 적용된다\n",
    "- DataFrame에 적용될때는 axis 설정 필요\n",
    "    - axis=0 일때는 행을 따라서 함수를 적용\n",
    "    - axis=1 일때는 열을 따라서 함수를 적용\n",
    "- 주로 람다식 혹은 유저가 정의한 함수와 함께 사용"
   ]
  },
  {
   "cell_type": "code",
   "execution_count": 4,
   "id": "b9ef9514",
   "metadata": {},
   "outputs": [
    {
     "name": "stdout",
     "output_type": "stream",
     "text": [
      "0.04988433335603144\n",
      "-0.9759809366886237\n",
      "0.8567473611318734\n",
      "1.2601910890921635\n",
      "-1.1576850722088157\n",
      "-1.2978197284876052\n",
      "1.3417349780210341\n",
      "0.7940639770344269\n",
      "2.386793444612033\n",
      "0.6291152854709319\n"
     ]
    },
    {
     "data": {
      "text/plain": [
       "0    None\n",
       "1    None\n",
       "2    None\n",
       "3    None\n",
       "4    None\n",
       "5    None\n",
       "6    None\n",
       "7    None\n",
       "8    None\n",
       "9    None\n",
       "dtype: object"
      ]
     },
     "execution_count": 4,
     "metadata": {},
     "output_type": "execute_result"
    }
   ],
   "source": [
    "# series 일때\n",
    "pd.Series(np.random.randn(10)).apply(lambda x:print(x))"
   ]
  },
  {
   "cell_type": "code",
   "execution_count": 6,
   "id": "a49ff384",
   "metadata": {},
   "outputs": [
    {
     "data": {
      "text/html": [
       "<div>\n",
       "<style scoped>\n",
       "    .dataframe tbody tr th:only-of-type {\n",
       "        vertical-align: middle;\n",
       "    }\n",
       "\n",
       "    .dataframe tbody tr th {\n",
       "        vertical-align: top;\n",
       "    }\n",
       "\n",
       "    .dataframe thead th {\n",
       "        text-align: right;\n",
       "    }\n",
       "</style>\n",
       "<table border=\"1\" class=\"dataframe\">\n",
       "  <thead>\n",
       "    <tr style=\"text-align: right;\">\n",
       "      <th></th>\n",
       "      <th>A</th>\n",
       "      <th>B</th>\n",
       "      <th>C</th>\n",
       "      <th>D</th>\n",
       "    </tr>\n",
       "  </thead>\n",
       "  <tbody>\n",
       "    <tr>\n",
       "      <th>2021-09-02</th>\n",
       "      <td>8</td>\n",
       "      <td>8</td>\n",
       "      <td>3</td>\n",
       "      <td>7</td>\n",
       "    </tr>\n",
       "    <tr>\n",
       "      <th>2021-09-03</th>\n",
       "      <td>7</td>\n",
       "      <td>0</td>\n",
       "      <td>4</td>\n",
       "      <td>2</td>\n",
       "    </tr>\n",
       "    <tr>\n",
       "      <th>2021-09-04</th>\n",
       "      <td>5</td>\n",
       "      <td>2</td>\n",
       "      <td>2</td>\n",
       "      <td>2</td>\n",
       "    </tr>\n",
       "    <tr>\n",
       "      <th>2021-09-05</th>\n",
       "      <td>1</td>\n",
       "      <td>0</td>\n",
       "      <td>8</td>\n",
       "      <td>4</td>\n",
       "    </tr>\n",
       "    <tr>\n",
       "      <th>2021-09-06</th>\n",
       "      <td>0</td>\n",
       "      <td>9</td>\n",
       "      <td>6</td>\n",
       "      <td>2</td>\n",
       "    </tr>\n",
       "    <tr>\n",
       "      <th>2021-09-07</th>\n",
       "      <td>4</td>\n",
       "      <td>1</td>\n",
       "      <td>5</td>\n",
       "      <td>3</td>\n",
       "    </tr>\n",
       "  </tbody>\n",
       "</table>\n",
       "</div>"
      ],
      "text/plain": [
       "            A  B  C  D\n",
       "2021-09-02  8  8  3  7\n",
       "2021-09-03  7  0  4  2\n",
       "2021-09-04  5  2  2  2\n",
       "2021-09-05  1  0  8  4\n",
       "2021-09-06  0  9  6  2\n",
       "2021-09-07  4  1  5  3"
      ]
     },
     "execution_count": 6,
     "metadata": {},
     "output_type": "execute_result"
    }
   ],
   "source": [
    "np.random.seed(100)\n",
    "temp_frm = pd.DataFrame(np.random.randint(0, 10, (6,4)))\n",
    "\n",
    "temp_frm.columns = ['A', 'B', 'C', 'D']\n",
    "temp_frm.index   = pd.date_range('20210902'  , periods=6)\n",
    "temp_frm"
   ]
  },
  {
   "cell_type": "code",
   "execution_count": 7,
   "id": "a6a4a4ce",
   "metadata": {
    "scrolled": true
   },
   "outputs": [
    {
     "name": "stdout",
     "output_type": "stream",
     "text": [
      "2021-09-02    8\n",
      "2021-09-03    7\n",
      "2021-09-04    5\n",
      "2021-09-05    1\n",
      "2021-09-06    0\n",
      "2021-09-07    4\n",
      "Freq: D, Name: A, dtype: int64\n",
      "2021-09-02    8\n",
      "2021-09-03    0\n",
      "2021-09-04    2\n",
      "2021-09-05    0\n",
      "2021-09-06    9\n",
      "2021-09-07    1\n",
      "Freq: D, Name: B, dtype: int64\n",
      "2021-09-02    3\n",
      "2021-09-03    4\n",
      "2021-09-04    2\n",
      "2021-09-05    8\n",
      "2021-09-06    6\n",
      "2021-09-07    5\n",
      "Freq: D, Name: C, dtype: int64\n",
      "2021-09-02    7\n",
      "2021-09-03    2\n",
      "2021-09-04    2\n",
      "2021-09-05    4\n",
      "2021-09-06    2\n",
      "2021-09-07    3\n",
      "Freq: D, Name: D, dtype: int64\n"
     ]
    },
    {
     "data": {
      "text/plain": [
       "A    None\n",
       "B    None\n",
       "C    None\n",
       "D    None\n",
       "dtype: object"
      ]
     },
     "execution_count": 7,
     "metadata": {},
     "output_type": "execute_result"
    }
   ],
   "source": [
    "# DataFrame이고 axis=0일때\n",
    "temp_frm.apply(lambda x:print(x),axis=0)"
   ]
  },
  {
   "cell_type": "code",
   "execution_count": 8,
   "id": "4770201d",
   "metadata": {
    "scrolled": true
   },
   "outputs": [
    {
     "name": "stdout",
     "output_type": "stream",
     "text": [
      "A    8\n",
      "B    8\n",
      "C    3\n",
      "D    7\n",
      "Name: 2021-09-02 00:00:00, dtype: int64\n",
      "A    7\n",
      "B    0\n",
      "C    4\n",
      "D    2\n",
      "Name: 2021-09-03 00:00:00, dtype: int64\n",
      "A    5\n",
      "B    2\n",
      "C    2\n",
      "D    2\n",
      "Name: 2021-09-04 00:00:00, dtype: int64\n",
      "A    1\n",
      "B    0\n",
      "C    8\n",
      "D    4\n",
      "Name: 2021-09-05 00:00:00, dtype: int64\n",
      "A    0\n",
      "B    9\n",
      "C    6\n",
      "D    2\n",
      "Name: 2021-09-06 00:00:00, dtype: int64\n",
      "A    4\n",
      "B    1\n",
      "C    5\n",
      "D    3\n",
      "Name: 2021-09-07 00:00:00, dtype: int64\n"
     ]
    },
    {
     "data": {
      "text/plain": [
       "2021-09-02    None\n",
       "2021-09-03    None\n",
       "2021-09-04    None\n",
       "2021-09-05    None\n",
       "2021-09-06    None\n",
       "2021-09-07    None\n",
       "Freq: D, dtype: object"
      ]
     },
     "execution_count": 8,
     "metadata": {},
     "output_type": "execute_result"
    }
   ],
   "source": [
    "# DataFrame이고 axis=1일때\n",
    "temp_frm.apply(lambda x:print(x),axis=1)"
   ]
  },
  {
   "cell_type": "code",
   "execution_count": 9,
   "id": "d5b1f5a8",
   "metadata": {},
   "outputs": [
    {
     "name": "stdout",
     "output_type": "stream",
     "text": [
      "각 행에 대해서 최대값 - 최소값을 구해서 새로운 열을 추가한다면? - \n",
      "2021-09-02    5\n",
      "2021-09-03    7\n",
      "2021-09-04    3\n",
      "2021-09-05    8\n",
      "2021-09-06    9\n",
      "2021-09-07    4\n",
      "Freq: D, dtype: int64\n",
      "2021-09-02    5\n",
      "2021-09-03    7\n",
      "2021-09-04    3\n",
      "2021-09-05    8\n",
      "2021-09-06    9\n",
      "2021-09-07    4\n",
      "Freq: D, dtype: int64\n"
     ]
    }
   ],
   "source": [
    "print('각 행에 대해서 최대값 - 최소값을 구해서 새로운 열을 추가한다면? - ')\n",
    "print(temp_frm.apply(lambda frm : frm.max() - frm.min() , axis = 1))\n",
    "print(temp_frm.apply(lambda frm : max(frm) - min(frm) , axis = 1))"
   ]
  },
  {
   "cell_type": "code",
   "execution_count": 15,
   "id": "df4d96ac",
   "metadata": {},
   "outputs": [
    {
     "data": {
      "text/html": [
       "<div>\n",
       "<style scoped>\n",
       "    .dataframe tbody tr th:only-of-type {\n",
       "        vertical-align: middle;\n",
       "    }\n",
       "\n",
       "    .dataframe tbody tr th {\n",
       "        vertical-align: top;\n",
       "    }\n",
       "\n",
       "    .dataframe thead th {\n",
       "        text-align: right;\n",
       "    }\n",
       "</style>\n",
       "<table border=\"1\" class=\"dataframe\">\n",
       "  <thead>\n",
       "    <tr style=\"text-align: right;\">\n",
       "      <th></th>\n",
       "      <th>A</th>\n",
       "      <th>B</th>\n",
       "      <th>C</th>\n",
       "      <th>D</th>\n",
       "    </tr>\n",
       "  </thead>\n",
       "  <tbody>\n",
       "    <tr>\n",
       "      <th>2021-09-02</th>\n",
       "      <td>8</td>\n",
       "      <td>8</td>\n",
       "      <td>3</td>\n",
       "      <td>7</td>\n",
       "    </tr>\n",
       "    <tr>\n",
       "      <th>2021-09-03</th>\n",
       "      <td>7</td>\n",
       "      <td>0</td>\n",
       "      <td>4</td>\n",
       "      <td>2</td>\n",
       "    </tr>\n",
       "    <tr>\n",
       "      <th>2021-09-04</th>\n",
       "      <td>5</td>\n",
       "      <td>2</td>\n",
       "      <td>2</td>\n",
       "      <td>2</td>\n",
       "    </tr>\n",
       "    <tr>\n",
       "      <th>2021-09-05</th>\n",
       "      <td>1</td>\n",
       "      <td>0</td>\n",
       "      <td>8</td>\n",
       "      <td>4</td>\n",
       "    </tr>\n",
       "    <tr>\n",
       "      <th>2021-09-06</th>\n",
       "      <td>0</td>\n",
       "      <td>9</td>\n",
       "      <td>6</td>\n",
       "      <td>2</td>\n",
       "    </tr>\n",
       "    <tr>\n",
       "      <th>2021-09-07</th>\n",
       "      <td>4</td>\n",
       "      <td>1</td>\n",
       "      <td>5</td>\n",
       "      <td>3</td>\n",
       "    </tr>\n",
       "  </tbody>\n",
       "</table>\n",
       "</div>"
      ],
      "text/plain": [
       "            A  B  C  D\n",
       "2021-09-02  8  8  3  7\n",
       "2021-09-03  7  0  4  2\n",
       "2021-09-04  5  2  2  2\n",
       "2021-09-05  1  0  8  4\n",
       "2021-09-06  0  9  6  2\n",
       "2021-09-07  4  1  5  3"
      ]
     },
     "metadata": {},
     "output_type": "display_data"
    },
    {
     "data": {
      "text/plain": [
       "A    8\n",
       "B    9\n",
       "C    8\n",
       "D    7\n",
       "dtype: int64"
      ]
     },
     "execution_count": 15,
     "metadata": {},
     "output_type": "execute_result"
    }
   ],
   "source": [
    "# 연습\n",
    "# 각열에대해 최댓값\n",
    "np.random.seed(100)\n",
    "temp_frm = pd.DataFrame(np.random.randint(0, 10, (6,4)))\n",
    "\n",
    "temp_frm.columns = ['A', 'B', 'C', 'D']\n",
    "temp_frm.index   = pd.date_range('20210902'  , periods=6)\n",
    "display(temp_frm)\n",
    "temp_frm.apply('max',axis=0)"
   ]
  },
  {
   "cell_type": "markdown",
   "id": "ddf623b3",
   "metadata": {},
   "source": [
    "#### 왜 np.max가 아닌 그냥 max를 썻는데 에러가 발생하지 않을까?\n",
    "- pandas에서 지원하는 함수들은 ''를 써도 지원한다"
   ]
  },
  {
   "cell_type": "code",
   "execution_count": 41,
   "id": "bd5fb3d2",
   "metadata": {},
   "outputs": [
    {
     "data": {
      "text/plain": [
       "A    8\n",
       "B    9\n",
       "C    8\n",
       "D    7\n",
       "dtype: int64"
      ]
     },
     "metadata": {},
     "output_type": "display_data"
    },
    {
     "data": {
      "text/plain": [
       "A    8\n",
       "B    9\n",
       "C    8\n",
       "D    7\n",
       "dtype: int64"
      ]
     },
     "metadata": {},
     "output_type": "display_data"
    },
    {
     "data": {
      "text/plain": [
       "A    8\n",
       "B    9\n",
       "C    8\n",
       "D    7\n",
       "dtype: int64"
      ]
     },
     "metadata": {},
     "output_type": "display_data"
    }
   ],
   "source": [
    "display(temp_frm.max(axis=0))\n",
    "display(temp_frm.apply('max',axis=0))\n",
    "display(temp_frm.apply(np.max ,axis=0))"
   ]
  },
  {
   "cell_type": "code",
   "execution_count": 11,
   "id": "feb5f2c0",
   "metadata": {},
   "outputs": [
    {
     "data": {
      "text/html": [
       "<div>\n",
       "<style scoped>\n",
       "    .dataframe tbody tr th:only-of-type {\n",
       "        vertical-align: middle;\n",
       "    }\n",
       "\n",
       "    .dataframe tbody tr th {\n",
       "        vertical-align: top;\n",
       "    }\n",
       "\n",
       "    .dataframe thead th {\n",
       "        text-align: right;\n",
       "    }\n",
       "</style>\n",
       "<table border=\"1\" class=\"dataframe\">\n",
       "  <thead>\n",
       "    <tr style=\"text-align: right;\">\n",
       "      <th></th>\n",
       "      <th>A</th>\n",
       "      <th>B</th>\n",
       "      <th>C</th>\n",
       "      <th>D</th>\n",
       "    </tr>\n",
       "  </thead>\n",
       "  <tbody>\n",
       "    <tr>\n",
       "      <th>2021-09-02</th>\n",
       "      <td>8</td>\n",
       "      <td>8</td>\n",
       "      <td>3</td>\n",
       "      <td>7</td>\n",
       "    </tr>\n",
       "    <tr>\n",
       "      <th>2021-09-03</th>\n",
       "      <td>7</td>\n",
       "      <td>0</td>\n",
       "      <td>4</td>\n",
       "      <td>2</td>\n",
       "    </tr>\n",
       "    <tr>\n",
       "      <th>2021-09-04</th>\n",
       "      <td>5</td>\n",
       "      <td>2</td>\n",
       "      <td>2</td>\n",
       "      <td>2</td>\n",
       "    </tr>\n",
       "    <tr>\n",
       "      <th>2021-09-05</th>\n",
       "      <td>1</td>\n",
       "      <td>0</td>\n",
       "      <td>8</td>\n",
       "      <td>4</td>\n",
       "    </tr>\n",
       "    <tr>\n",
       "      <th>2021-09-06</th>\n",
       "      <td>0</td>\n",
       "      <td>9</td>\n",
       "      <td>6</td>\n",
       "      <td>2</td>\n",
       "    </tr>\n",
       "    <tr>\n",
       "      <th>2021-09-07</th>\n",
       "      <td>4</td>\n",
       "      <td>1</td>\n",
       "      <td>5</td>\n",
       "      <td>3</td>\n",
       "    </tr>\n",
       "  </tbody>\n",
       "</table>\n",
       "</div>"
      ],
      "text/plain": [
       "            A  B  C  D\n",
       "2021-09-02  8  8  3  7\n",
       "2021-09-03  7  0  4  2\n",
       "2021-09-04  5  2  2  2\n",
       "2021-09-05  1  0  8  4\n",
       "2021-09-06  0  9  6  2\n",
       "2021-09-07  4  1  5  3"
      ]
     },
     "metadata": {},
     "output_type": "display_data"
    },
    {
     "data": {
      "text/plain": [
       "2021-09-02    5\n",
       "2021-09-03    7\n",
       "2021-09-04    3\n",
       "2021-09-05    8\n",
       "2021-09-06    9\n",
       "2021-09-07    4\n",
       "Freq: D, dtype: int64"
      ]
     },
     "execution_count": 11,
     "metadata": {},
     "output_type": "execute_result"
    }
   ],
   "source": [
    "# 연습\n",
    "# 각행에대해 최댓값-최솟값을 구해보자\n",
    "np.random.seed(100)\n",
    "temp_frm = pd.DataFrame(np.random.randint(0, 10, (6,4)))\n",
    "\n",
    "temp_frm.columns = ['A', 'B', 'C', 'D']\n",
    "temp_frm.index   = pd.date_range('20210902'  , periods=6)\n",
    "display(temp_frm)\n",
    "temp_frm.apply(lambda x : x.max()-x.min(),axis=1)"
   ]
  },
  {
   "cell_type": "code",
   "execution_count": 14,
   "id": "b011a08c",
   "metadata": {},
   "outputs": [
    {
     "data": {
      "text/html": [
       "<div>\n",
       "<style scoped>\n",
       "    .dataframe tbody tr th:only-of-type {\n",
       "        vertical-align: middle;\n",
       "    }\n",
       "\n",
       "    .dataframe tbody tr th {\n",
       "        vertical-align: top;\n",
       "    }\n",
       "\n",
       "    .dataframe thead th {\n",
       "        text-align: right;\n",
       "    }\n",
       "</style>\n",
       "<table border=\"1\" class=\"dataframe\">\n",
       "  <thead>\n",
       "    <tr style=\"text-align: right;\">\n",
       "      <th></th>\n",
       "      <th>survived</th>\n",
       "      <th>pclass</th>\n",
       "      <th>sex</th>\n",
       "      <th>age</th>\n",
       "      <th>sibsp</th>\n",
       "      <th>parch</th>\n",
       "      <th>fare</th>\n",
       "      <th>embarked</th>\n",
       "      <th>class</th>\n",
       "      <th>who</th>\n",
       "      <th>adult_male</th>\n",
       "      <th>deck</th>\n",
       "      <th>embark_town</th>\n",
       "      <th>alive</th>\n",
       "      <th>alone</th>\n",
       "      <th>adult/child</th>\n",
       "    </tr>\n",
       "  </thead>\n",
       "  <tbody>\n",
       "    <tr>\n",
       "      <th>0</th>\n",
       "      <td>0</td>\n",
       "      <td>3</td>\n",
       "      <td>male</td>\n",
       "      <td>22.0</td>\n",
       "      <td>1</td>\n",
       "      <td>0</td>\n",
       "      <td>7.2500</td>\n",
       "      <td>S</td>\n",
       "      <td>Third</td>\n",
       "      <td>man</td>\n",
       "      <td>True</td>\n",
       "      <td>NaN</td>\n",
       "      <td>Southampton</td>\n",
       "      <td>no</td>\n",
       "      <td>False</td>\n",
       "      <td>성인</td>\n",
       "    </tr>\n",
       "    <tr>\n",
       "      <th>1</th>\n",
       "      <td>1</td>\n",
       "      <td>1</td>\n",
       "      <td>female</td>\n",
       "      <td>38.0</td>\n",
       "      <td>1</td>\n",
       "      <td>0</td>\n",
       "      <td>71.2833</td>\n",
       "      <td>C</td>\n",
       "      <td>First</td>\n",
       "      <td>woman</td>\n",
       "      <td>False</td>\n",
       "      <td>C</td>\n",
       "      <td>Cherbourg</td>\n",
       "      <td>yes</td>\n",
       "      <td>False</td>\n",
       "      <td>성인</td>\n",
       "    </tr>\n",
       "    <tr>\n",
       "      <th>2</th>\n",
       "      <td>1</td>\n",
       "      <td>3</td>\n",
       "      <td>female</td>\n",
       "      <td>26.0</td>\n",
       "      <td>0</td>\n",
       "      <td>0</td>\n",
       "      <td>7.9250</td>\n",
       "      <td>S</td>\n",
       "      <td>Third</td>\n",
       "      <td>woman</td>\n",
       "      <td>False</td>\n",
       "      <td>NaN</td>\n",
       "      <td>Southampton</td>\n",
       "      <td>yes</td>\n",
       "      <td>True</td>\n",
       "      <td>성인</td>\n",
       "    </tr>\n",
       "    <tr>\n",
       "      <th>3</th>\n",
       "      <td>1</td>\n",
       "      <td>1</td>\n",
       "      <td>female</td>\n",
       "      <td>35.0</td>\n",
       "      <td>1</td>\n",
       "      <td>0</td>\n",
       "      <td>53.1000</td>\n",
       "      <td>S</td>\n",
       "      <td>First</td>\n",
       "      <td>woman</td>\n",
       "      <td>False</td>\n",
       "      <td>C</td>\n",
       "      <td>Southampton</td>\n",
       "      <td>yes</td>\n",
       "      <td>False</td>\n",
       "      <td>성인</td>\n",
       "    </tr>\n",
       "    <tr>\n",
       "      <th>4</th>\n",
       "      <td>0</td>\n",
       "      <td>3</td>\n",
       "      <td>male</td>\n",
       "      <td>35.0</td>\n",
       "      <td>0</td>\n",
       "      <td>0</td>\n",
       "      <td>8.0500</td>\n",
       "      <td>S</td>\n",
       "      <td>Third</td>\n",
       "      <td>man</td>\n",
       "      <td>True</td>\n",
       "      <td>NaN</td>\n",
       "      <td>Southampton</td>\n",
       "      <td>no</td>\n",
       "      <td>True</td>\n",
       "      <td>성인</td>\n",
       "    </tr>\n",
       "    <tr>\n",
       "      <th>...</th>\n",
       "      <td>...</td>\n",
       "      <td>...</td>\n",
       "      <td>...</td>\n",
       "      <td>...</td>\n",
       "      <td>...</td>\n",
       "      <td>...</td>\n",
       "      <td>...</td>\n",
       "      <td>...</td>\n",
       "      <td>...</td>\n",
       "      <td>...</td>\n",
       "      <td>...</td>\n",
       "      <td>...</td>\n",
       "      <td>...</td>\n",
       "      <td>...</td>\n",
       "      <td>...</td>\n",
       "      <td>...</td>\n",
       "    </tr>\n",
       "    <tr>\n",
       "      <th>886</th>\n",
       "      <td>0</td>\n",
       "      <td>2</td>\n",
       "      <td>male</td>\n",
       "      <td>27.0</td>\n",
       "      <td>0</td>\n",
       "      <td>0</td>\n",
       "      <td>13.0000</td>\n",
       "      <td>S</td>\n",
       "      <td>Second</td>\n",
       "      <td>man</td>\n",
       "      <td>True</td>\n",
       "      <td>NaN</td>\n",
       "      <td>Southampton</td>\n",
       "      <td>no</td>\n",
       "      <td>True</td>\n",
       "      <td>성인</td>\n",
       "    </tr>\n",
       "    <tr>\n",
       "      <th>887</th>\n",
       "      <td>1</td>\n",
       "      <td>1</td>\n",
       "      <td>female</td>\n",
       "      <td>19.0</td>\n",
       "      <td>0</td>\n",
       "      <td>0</td>\n",
       "      <td>30.0000</td>\n",
       "      <td>S</td>\n",
       "      <td>First</td>\n",
       "      <td>woman</td>\n",
       "      <td>False</td>\n",
       "      <td>B</td>\n",
       "      <td>Southampton</td>\n",
       "      <td>yes</td>\n",
       "      <td>True</td>\n",
       "      <td>성인</td>\n",
       "    </tr>\n",
       "    <tr>\n",
       "      <th>888</th>\n",
       "      <td>0</td>\n",
       "      <td>3</td>\n",
       "      <td>female</td>\n",
       "      <td>NaN</td>\n",
       "      <td>1</td>\n",
       "      <td>2</td>\n",
       "      <td>23.4500</td>\n",
       "      <td>S</td>\n",
       "      <td>Third</td>\n",
       "      <td>woman</td>\n",
       "      <td>False</td>\n",
       "      <td>NaN</td>\n",
       "      <td>Southampton</td>\n",
       "      <td>no</td>\n",
       "      <td>False</td>\n",
       "      <td>미성년자</td>\n",
       "    </tr>\n",
       "    <tr>\n",
       "      <th>889</th>\n",
       "      <td>1</td>\n",
       "      <td>1</td>\n",
       "      <td>male</td>\n",
       "      <td>26.0</td>\n",
       "      <td>0</td>\n",
       "      <td>0</td>\n",
       "      <td>30.0000</td>\n",
       "      <td>C</td>\n",
       "      <td>First</td>\n",
       "      <td>man</td>\n",
       "      <td>True</td>\n",
       "      <td>C</td>\n",
       "      <td>Cherbourg</td>\n",
       "      <td>yes</td>\n",
       "      <td>True</td>\n",
       "      <td>성인</td>\n",
       "    </tr>\n",
       "    <tr>\n",
       "      <th>890</th>\n",
       "      <td>0</td>\n",
       "      <td>3</td>\n",
       "      <td>male</td>\n",
       "      <td>32.0</td>\n",
       "      <td>0</td>\n",
       "      <td>0</td>\n",
       "      <td>7.7500</td>\n",
       "      <td>Q</td>\n",
       "      <td>Third</td>\n",
       "      <td>man</td>\n",
       "      <td>True</td>\n",
       "      <td>NaN</td>\n",
       "      <td>Queenstown</td>\n",
       "      <td>no</td>\n",
       "      <td>True</td>\n",
       "      <td>성인</td>\n",
       "    </tr>\n",
       "  </tbody>\n",
       "</table>\n",
       "<p>891 rows × 16 columns</p>\n",
       "</div>"
      ],
      "text/plain": [
       "     survived  pclass     sex   age  sibsp  parch     fare embarked   class  \\\n",
       "0           0       3    male  22.0      1      0   7.2500        S   Third   \n",
       "1           1       1  female  38.0      1      0  71.2833        C   First   \n",
       "2           1       3  female  26.0      0      0   7.9250        S   Third   \n",
       "3           1       1  female  35.0      1      0  53.1000        S   First   \n",
       "4           0       3    male  35.0      0      0   8.0500        S   Third   \n",
       "..        ...     ...     ...   ...    ...    ...      ...      ...     ...   \n",
       "886         0       2    male  27.0      0      0  13.0000        S  Second   \n",
       "887         1       1  female  19.0      0      0  30.0000        S   First   \n",
       "888         0       3  female   NaN      1      2  23.4500        S   Third   \n",
       "889         1       1    male  26.0      0      0  30.0000        C   First   \n",
       "890         0       3    male  32.0      0      0   7.7500        Q   Third   \n",
       "\n",
       "       who  adult_male deck  embark_town alive  alone adult/child  \n",
       "0      man        True  NaN  Southampton    no  False          성인  \n",
       "1    woman       False    C    Cherbourg   yes  False          성인  \n",
       "2    woman       False  NaN  Southampton   yes   True          성인  \n",
       "3    woman       False    C  Southampton   yes  False          성인  \n",
       "4      man        True  NaN  Southampton    no   True          성인  \n",
       "..     ...         ...  ...          ...   ...    ...         ...  \n",
       "886    man        True  NaN  Southampton    no   True          성인  \n",
       "887  woman       False    B  Southampton   yes   True          성인  \n",
       "888  woman       False  NaN  Southampton    no  False        미성년자  \n",
       "889    man        True    C    Cherbourg   yes   True          성인  \n",
       "890    man        True  NaN   Queenstown    no   True          성인  \n",
       "\n",
       "[891 rows x 16 columns]"
      ]
     },
     "metadata": {},
     "output_type": "display_data"
    }
   ],
   "source": [
    "# age를 기준으로 성인과 미성년자 구분\n",
    "import seaborn as sns\n",
    "datasets = sns.load_dataset('titanic')\n",
    "datasets['adult/child']=datasets.apply(lambda x: '성인' if x['age']>=19 else '미성년자',axis=1)\n",
    "display(datasets)"
   ]
  },
  {
   "cell_type": "code",
   "execution_count": 153,
   "id": "ae614988",
   "metadata": {},
   "outputs": [
    {
     "data": {
      "text/plain": [
       "0      남\n",
       "1      여\n",
       "2      여\n",
       "3      여\n",
       "4      남\n",
       "      ..\n",
       "886    남\n",
       "887    여\n",
       "888    여\n",
       "889    남\n",
       "890    남\n",
       "Name: sex, Length: 891, dtype: object"
      ]
     },
     "execution_count": 153,
     "metadata": {},
     "output_type": "execute_result"
    }
   ],
   "source": [
    "datasets['sex'].replace({'male':'남','female':'여'})"
   ]
  },
  {
   "cell_type": "code",
   "execution_count": 156,
   "id": "224a6955",
   "metadata": {},
   "outputs": [
    {
     "data": {
      "text/plain": [
       "0      남\n",
       "1      여\n",
       "2      여\n",
       "3      여\n",
       "4      남\n",
       "      ..\n",
       "886    남\n",
       "887    여\n",
       "888    여\n",
       "889    남\n",
       "890    남\n",
       "Name: sex, Length: 891, dtype: object"
      ]
     },
     "execution_count": 156,
     "metadata": {},
     "output_type": "execute_result"
    }
   ],
   "source": [
    "datasets['sex'].apply(lambda x:{'male':'남','female':'여'}.get(x))"
   ]
  },
  {
   "cell_type": "code",
   "execution_count": 155,
   "id": "e5fbe341",
   "metadata": {},
   "outputs": [
    {
     "data": {
      "text/plain": [
       "0      남\n",
       "1      여\n",
       "2      여\n",
       "3      여\n",
       "4      남\n",
       "      ..\n",
       "886    남\n",
       "887    여\n",
       "888    여\n",
       "889    남\n",
       "890    남\n",
       "Name: sex, Length: 891, dtype: object"
      ]
     },
     "execution_count": 155,
     "metadata": {},
     "output_type": "execute_result"
    }
   ],
   "source": [
    "datasets['sex'].map(lambda x:{'male':'남','female':'여'}.get(x))"
   ]
  },
  {
   "cell_type": "markdown",
   "id": "c99bb62b",
   "metadata": {},
   "source": [
    "#### 인자를 사용하는 함수는?"
   ]
  },
  {
   "cell_type": "code",
   "execution_count": 16,
   "id": "070b8a18",
   "metadata": {},
   "outputs": [
    {
     "data": {
      "text/html": [
       "<div>\n",
       "<style scoped>\n",
       "    .dataframe tbody tr th:only-of-type {\n",
       "        vertical-align: middle;\n",
       "    }\n",
       "\n",
       "    .dataframe tbody tr th {\n",
       "        vertical-align: top;\n",
       "    }\n",
       "\n",
       "    .dataframe thead th {\n",
       "        text-align: right;\n",
       "    }\n",
       "</style>\n",
       "<table border=\"1\" class=\"dataframe\">\n",
       "  <thead>\n",
       "    <tr style=\"text-align: right;\">\n",
       "      <th></th>\n",
       "      <th>A</th>\n",
       "      <th>B</th>\n",
       "      <th>C</th>\n",
       "      <th>D</th>\n",
       "    </tr>\n",
       "  </thead>\n",
       "  <tbody>\n",
       "    <tr>\n",
       "      <th>2021-09-02</th>\n",
       "      <td>8</td>\n",
       "      <td>8</td>\n",
       "      <td>3</td>\n",
       "      <td>7</td>\n",
       "    </tr>\n",
       "    <tr>\n",
       "      <th>2021-09-03</th>\n",
       "      <td>7</td>\n",
       "      <td>0</td>\n",
       "      <td>4</td>\n",
       "      <td>2</td>\n",
       "    </tr>\n",
       "    <tr>\n",
       "      <th>2021-09-04</th>\n",
       "      <td>5</td>\n",
       "      <td>2</td>\n",
       "      <td>2</td>\n",
       "      <td>2</td>\n",
       "    </tr>\n",
       "    <tr>\n",
       "      <th>2021-09-05</th>\n",
       "      <td>1</td>\n",
       "      <td>0</td>\n",
       "      <td>8</td>\n",
       "      <td>4</td>\n",
       "    </tr>\n",
       "    <tr>\n",
       "      <th>2021-09-06</th>\n",
       "      <td>0</td>\n",
       "      <td>9</td>\n",
       "      <td>6</td>\n",
       "      <td>2</td>\n",
       "    </tr>\n",
       "    <tr>\n",
       "      <th>2021-09-07</th>\n",
       "      <td>4</td>\n",
       "      <td>1</td>\n",
       "      <td>5</td>\n",
       "      <td>3</td>\n",
       "    </tr>\n",
       "  </tbody>\n",
       "</table>\n",
       "</div>"
      ],
      "text/plain": [
       "            A  B  C  D\n",
       "2021-09-02  8  8  3  7\n",
       "2021-09-03  7  0  4  2\n",
       "2021-09-04  5  2  2  2\n",
       "2021-09-05  1  0  8  4\n",
       "2021-09-06  0  9  6  2\n",
       "2021-09-07  4  1  5  3"
      ]
     },
     "metadata": {},
     "output_type": "display_data"
    }
   ],
   "source": [
    "np.random.seed(100)\n",
    "temp_frm = pd.DataFrame(np.random.randint(0, 10, (6,4)))\n",
    "\n",
    "temp_frm.columns = ['A', 'B', 'C', 'D']\n",
    "temp_frm.index   = pd.date_range('20210902'  , periods=6)\n",
    "display(temp_frm)"
   ]
  },
  {
   "cell_type": "code",
   "execution_count": 24,
   "id": "92f90a6f",
   "metadata": {},
   "outputs": [
    {
     "name": "stdout",
     "output_type": "stream",
     "text": [
      "A    5408\n",
      "B    5409\n",
      "C    5408\n",
      "D    5407\n",
      "dtype: int64\n",
      "A    5408\n",
      "B    5409\n",
      "C    5408\n",
      "D    5407\n",
      "dtype: int64\n",
      "A    5408\n",
      "B    5409\n",
      "C    5408\n",
      "D    5407\n",
      "dtype: int64\n"
     ]
    }
   ],
   "source": [
    "def my_max(x,a,b):\n",
    "    return x.max()+a*100+b*1000\n",
    "\n",
    "print(temp_frm.apply(my_max,a=4,b=5))\n",
    "\n",
    "print(temp_frm.apply(lambda x:my_max(x,4,5)))\n",
    "\n",
    "print(temp_frm.apply(my_max,**{'a':4,'b':5}))\n",
    "\n",
    "# print(temp_frm.apply(my_max,**[4,5])) => 이건 mapping 에러난다"
   ]
  },
  {
   "cell_type": "markdown",
   "id": "b53899d6",
   "metadata": {},
   "source": [
    "### groupby\n",
    "- series와 DataFrame 모두 그룹 가능하다\n",
    "- Series는 라벨로 그룹화 가능 DataFrame은 라벨또는 열의 이름으로 가능하다\n",
    "\n",
    "#### 순환 원리\n",
    "- SereisGroupby일 경우에는 그룹에 따라 쪼개진 Series를 순환뒤 합친다\n",
    "- DataFrameGroupby일 경우에는 그룹에 따라 쪼개진 DataFrame을 순환뒤 합친다"
   ]
  },
  {
   "cell_type": "code",
   "execution_count": 42,
   "id": "6db72735",
   "metadata": {},
   "outputs": [
    {
     "data": {
      "text/html": [
       "<div>\n",
       "<style scoped>\n",
       "    .dataframe tbody tr th:only-of-type {\n",
       "        vertical-align: middle;\n",
       "    }\n",
       "\n",
       "    .dataframe tbody tr th {\n",
       "        vertical-align: top;\n",
       "    }\n",
       "\n",
       "    .dataframe thead th {\n",
       "        text-align: right;\n",
       "    }\n",
       "</style>\n",
       "<table border=\"1\" class=\"dataframe\">\n",
       "  <thead>\n",
       "    <tr style=\"text-align: right;\">\n",
       "      <th></th>\n",
       "      <th>학과</th>\n",
       "      <th>학년</th>\n",
       "      <th>이름</th>\n",
       "      <th>학점</th>\n",
       "    </tr>\n",
       "  </thead>\n",
       "  <tbody>\n",
       "    <tr>\n",
       "      <th>0</th>\n",
       "      <td>인공지능</td>\n",
       "      <td>1</td>\n",
       "      <td>섭섭해</td>\n",
       "      <td>2.7</td>\n",
       "    </tr>\n",
       "    <tr>\n",
       "      <th>1</th>\n",
       "      <td>데이터분석</td>\n",
       "      <td>2</td>\n",
       "      <td>최강희</td>\n",
       "      <td>3.5</td>\n",
       "    </tr>\n",
       "    <tr>\n",
       "      <th>2</th>\n",
       "      <td>인공지능</td>\n",
       "      <td>3</td>\n",
       "      <td>김희선</td>\n",
       "      <td>4.5</td>\n",
       "    </tr>\n",
       "    <tr>\n",
       "      <th>3</th>\n",
       "      <td>데이터분석</td>\n",
       "      <td>4</td>\n",
       "      <td>홍길동</td>\n",
       "      <td>3.8</td>\n",
       "    </tr>\n",
       "    <tr>\n",
       "      <th>4</th>\n",
       "      <td>데이터분석</td>\n",
       "      <td>2</td>\n",
       "      <td>신사임당</td>\n",
       "      <td>4.3</td>\n",
       "    </tr>\n",
       "  </tbody>\n",
       "</table>\n",
       "</div>"
      ],
      "text/plain": [
       "      학과  학년    이름   학점\n",
       "0   인공지능   1   섭섭해  2.7\n",
       "1  데이터분석   2   최강희  3.5\n",
       "2   인공지능   3   김희선  4.5\n",
       "3  데이터분석   4   홍길동  3.8\n",
       "4  데이터분석   2  신사임당  4.3"
      ]
     },
     "execution_count": 42,
     "metadata": {},
     "output_type": "execute_result"
    }
   ],
   "source": [
    "group_frm = pd.DataFrame({\n",
    "    '학과' : ['인공지능' , '데이터분석', '인공지능', '데이터분석', '데이터분석'] , \n",
    "    '학년' : [1,2,3,4,2] , \n",
    "    '이름' : ['섭섭해' , '최강희' , '김희선' , '홍길동' , '신사임당'] , \n",
    "    '학점' : [2.7, 3.5, 4.5, 3.8, 4.3]\n",
    "})\n",
    "group_frm"
   ]
  },
  {
   "cell_type": "markdown",
   "id": "cc21290f",
   "metadata": {},
   "source": [
    "#### SeriesGroupBy"
   ]
  },
  {
   "cell_type": "code",
   "execution_count": 55,
   "id": "acb39632",
   "metadata": {},
   "outputs": [
    {
     "data": {
      "text/plain": [
       "<pandas.core.groupby.generic.SeriesGroupBy object at 0x7fd0fb264e80>"
      ]
     },
     "execution_count": 55,
     "metadata": {},
     "output_type": "execute_result"
    }
   ],
   "source": [
    "groupby_series = group_frm['학과'].groupby(group_frm['학과'])\n",
    "groupby_series"
   ]
  },
  {
   "cell_type": "code",
   "execution_count": 57,
   "id": "02c73fd8",
   "metadata": {},
   "outputs": [
    {
     "data": {
      "text/plain": [
       "{'데이터분석': [1, 3, 4], '인공지능': [0, 2]}"
      ]
     },
     "execution_count": 57,
     "metadata": {},
     "output_type": "execute_result"
    }
   ],
   "source": [
    "groupby_series.groups"
   ]
  },
  {
   "cell_type": "code",
   "execution_count": 58,
   "id": "be0bc032",
   "metadata": {},
   "outputs": [
    {
     "data": {
      "text/plain": [
       "0    인공지능\n",
       "2    인공지능\n",
       "Name: 학과, dtype: object"
      ]
     },
     "execution_count": 58,
     "metadata": {},
     "output_type": "execute_result"
    }
   ],
   "source": [
    "groupby_series.get_group('인공지능')"
   ]
  },
  {
   "cell_type": "code",
   "execution_count": 59,
   "id": "3ddb359e",
   "metadata": {},
   "outputs": [
    {
     "data": {
      "text/plain": [
       "1    데이터분석\n",
       "3    데이터분석\n",
       "4    데이터분석\n",
       "Name: 학과, dtype: object"
      ]
     },
     "execution_count": 59,
     "metadata": {},
     "output_type": "execute_result"
    }
   ],
   "source": [
    "groupby_series.get_group('데이터분석')"
   ]
  },
  {
   "cell_type": "code",
   "execution_count": 69,
   "id": "4ace9980",
   "metadata": {},
   "outputs": [
    {
     "data": {
      "text/plain": [
       "{'AI': [0, 2], 'BA': [1, 3, 4]}"
      ]
     },
     "execution_count": 69,
     "metadata": {},
     "output_type": "execute_result"
    }
   ],
   "source": [
    "# label로도 가능하다\n",
    "group_frm['학과'].groupby(['AI','BA','AI','BA','BA']).groups"
   ]
  },
  {
   "cell_type": "code",
   "execution_count": 97,
   "id": "5b1f2ef1",
   "metadata": {},
   "outputs": [
    {
     "name": "stdout",
     "output_type": "stream",
     "text": [
      "1    데이터분석\n",
      "3    데이터분석\n",
      "4    데이터분석\n",
      "Name: 데이터분석, dtype: object\n",
      "0    인공지능\n",
      "2    인공지능\n",
      "Name: 인공지능, dtype: object\n"
     ]
    },
    {
     "data": {
      "text/plain": [
       "학과\n",
       "데이터분석    None\n",
       "인공지능     None\n",
       "Name: 학과, dtype: object"
      ]
     },
     "execution_count": 97,
     "metadata": {},
     "output_type": "execute_result"
    }
   ],
   "source": [
    "# 순환\n",
    "groupby_series.apply(lambda x : print(x))"
   ]
  },
  {
   "cell_type": "code",
   "execution_count": 100,
   "id": "9d9adcb4",
   "metadata": {},
   "outputs": [
    {
     "data": {
      "text/plain": [
       "학과\n",
       "데이터분석    3\n",
       "인공지능     2\n",
       "Name: 학과, dtype: int64"
      ]
     },
     "execution_count": 100,
     "metadata": {},
     "output_type": "execute_result"
    }
   ],
   "source": [
    "groupby_series.apply(lambda x : pd.Series.count(x))"
   ]
  },
  {
   "cell_type": "code",
   "execution_count": 101,
   "id": "0ef9db89",
   "metadata": {},
   "outputs": [
    {
     "data": {
      "text/plain": [
       "학과\n",
       "데이터분석    3\n",
       "인공지능     2\n",
       "Name: 학과, dtype: int64"
      ]
     },
     "execution_count": 101,
     "metadata": {},
     "output_type": "execute_result"
    }
   ],
   "source": [
    "groupby_series.count()"
   ]
  },
  {
   "cell_type": "markdown",
   "id": "178cdc2b",
   "metadata": {},
   "source": [
    "#### DataFrmaeGroupBy"
   ]
  },
  {
   "cell_type": "code",
   "execution_count": 70,
   "id": "252afc3a",
   "metadata": {},
   "outputs": [
    {
     "data": {
      "text/plain": [
       "<pandas.core.groupby.generic.DataFrameGroupBy object at 0x7fd0dbaf2310>"
      ]
     },
     "execution_count": 70,
     "metadata": {},
     "output_type": "execute_result"
    }
   ],
   "source": [
    "groupby_df = group_frm.groupby('학과')\n",
    "groupby_df"
   ]
  },
  {
   "cell_type": "code",
   "execution_count": 71,
   "id": "2562bd78",
   "metadata": {},
   "outputs": [
    {
     "data": {
      "text/plain": [
       "{'데이터분석': [1, 3, 4], '인공지능': [0, 2]}"
      ]
     },
     "execution_count": 71,
     "metadata": {},
     "output_type": "execute_result"
    }
   ],
   "source": [
    "groupby_df.groups"
   ]
  },
  {
   "cell_type": "code",
   "execution_count": 79,
   "id": "fb1860ac",
   "metadata": {},
   "outputs": [
    {
     "data": {
      "text/html": [
       "<div>\n",
       "<style scoped>\n",
       "    .dataframe tbody tr th:only-of-type {\n",
       "        vertical-align: middle;\n",
       "    }\n",
       "\n",
       "    .dataframe tbody tr th {\n",
       "        vertical-align: top;\n",
       "    }\n",
       "\n",
       "    .dataframe thead th {\n",
       "        text-align: right;\n",
       "    }\n",
       "</style>\n",
       "<table border=\"1\" class=\"dataframe\">\n",
       "  <thead>\n",
       "    <tr style=\"text-align: right;\">\n",
       "      <th></th>\n",
       "      <th>학과</th>\n",
       "      <th>학년</th>\n",
       "      <th>이름</th>\n",
       "      <th>학점</th>\n",
       "    </tr>\n",
       "  </thead>\n",
       "  <tbody>\n",
       "    <tr>\n",
       "      <th>1</th>\n",
       "      <td>데이터분석</td>\n",
       "      <td>2</td>\n",
       "      <td>최강희</td>\n",
       "      <td>3.5</td>\n",
       "    </tr>\n",
       "    <tr>\n",
       "      <th>3</th>\n",
       "      <td>데이터분석</td>\n",
       "      <td>4</td>\n",
       "      <td>홍길동</td>\n",
       "      <td>3.8</td>\n",
       "    </tr>\n",
       "    <tr>\n",
       "      <th>4</th>\n",
       "      <td>데이터분석</td>\n",
       "      <td>2</td>\n",
       "      <td>신사임당</td>\n",
       "      <td>4.3</td>\n",
       "    </tr>\n",
       "  </tbody>\n",
       "</table>\n",
       "</div>"
      ],
      "text/plain": [
       "      학과  학년    이름   학점\n",
       "1  데이터분석   2   최강희  3.5\n",
       "3  데이터분석   4   홍길동  3.8\n",
       "4  데이터분석   2  신사임당  4.3"
      ]
     },
     "execution_count": 79,
     "metadata": {},
     "output_type": "execute_result"
    }
   ],
   "source": [
    "# 데이터 분석에 해당하는 df를 가져온다\n",
    "groupby_df.get_group('데이터분석')"
   ]
  },
  {
   "cell_type": "code",
   "execution_count": 108,
   "id": "7de72b34",
   "metadata": {},
   "outputs": [
    {
     "name": "stdout",
     "output_type": "stream",
     "text": [
      "      학과  학년    이름   학점\n",
      "1  데이터분석   2   최강희  3.5\n",
      "3  데이터분석   4   홍길동  3.8\n",
      "4  데이터분석   2  신사임당  4.3\n",
      "     학과  학년   이름   학점\n",
      "0  인공지능   1  섭섭해  2.7\n",
      "2  인공지능   3  김희선  4.5\n"
     ]
    },
    {
     "data": {
      "text/html": [
       "<div>\n",
       "<style scoped>\n",
       "    .dataframe tbody tr th:only-of-type {\n",
       "        vertical-align: middle;\n",
       "    }\n",
       "\n",
       "    .dataframe tbody tr th {\n",
       "        vertical-align: top;\n",
       "    }\n",
       "\n",
       "    .dataframe thead th {\n",
       "        text-align: right;\n",
       "    }\n",
       "</style>\n",
       "<table border=\"1\" class=\"dataframe\">\n",
       "  <thead>\n",
       "    <tr style=\"text-align: right;\">\n",
       "      <th></th>\n",
       "    </tr>\n",
       "  </thead>\n",
       "  <tbody>\n",
       "  </tbody>\n",
       "</table>\n",
       "</div>"
      ],
      "text/plain": [
       "Empty DataFrame\n",
       "Columns: []\n",
       "Index: []"
      ]
     },
     "execution_count": 108,
     "metadata": {},
     "output_type": "execute_result"
    }
   ],
   "source": [
    "# 순환\n",
    "groupby_df.apply(lambda x: print(x))"
   ]
  },
  {
   "cell_type": "code",
   "execution_count": 107,
   "id": "8cf1c8d1",
   "metadata": {},
   "outputs": [
    {
     "name": "stderr",
     "output_type": "stream",
     "text": [
      "/Users/iganghui/opt/anaconda3/lib/python3.8/site-packages/numpy/core/fromnumeric.py:3417: FutureWarning: Dropping of nuisance columns in DataFrame reductions (with 'numeric_only=None') is deprecated; in a future version this will raise TypeError.  Select only valid columns before calling the reduction.\n",
      "  return mean(axis=axis, dtype=dtype, out=out, **kwargs)\n"
     ]
    },
    {
     "data": {
      "text/html": [
       "<div>\n",
       "<style scoped>\n",
       "    .dataframe tbody tr th:only-of-type {\n",
       "        vertical-align: middle;\n",
       "    }\n",
       "\n",
       "    .dataframe tbody tr th {\n",
       "        vertical-align: top;\n",
       "    }\n",
       "\n",
       "    .dataframe thead th {\n",
       "        text-align: right;\n",
       "    }\n",
       "</style>\n",
       "<table border=\"1\" class=\"dataframe\">\n",
       "  <thead>\n",
       "    <tr style=\"text-align: right;\">\n",
       "      <th></th>\n",
       "      <th>학년</th>\n",
       "      <th>학점</th>\n",
       "    </tr>\n",
       "    <tr>\n",
       "      <th>학과</th>\n",
       "      <th></th>\n",
       "      <th></th>\n",
       "    </tr>\n",
       "  </thead>\n",
       "  <tbody>\n",
       "    <tr>\n",
       "      <th>데이터분석</th>\n",
       "      <td>2.666667</td>\n",
       "      <td>3.866667</td>\n",
       "    </tr>\n",
       "    <tr>\n",
       "      <th>인공지능</th>\n",
       "      <td>2.000000</td>\n",
       "      <td>3.600000</td>\n",
       "    </tr>\n",
       "  </tbody>\n",
       "</table>\n",
       "</div>"
      ],
      "text/plain": [
       "             학년        학점\n",
       "학과                       \n",
       "데이터분석  2.666667  3.866667\n",
       "인공지능   2.000000  3.600000"
      ]
     },
     "execution_count": 107,
     "metadata": {},
     "output_type": "execute_result"
    }
   ],
   "source": [
    "groupby_df.apply(lambda x: np.mean(x))"
   ]
  },
  {
   "cell_type": "code",
   "execution_count": 106,
   "id": "87ecf82a",
   "metadata": {},
   "outputs": [
    {
     "data": {
      "text/html": [
       "<div>\n",
       "<style scoped>\n",
       "    .dataframe tbody tr th:only-of-type {\n",
       "        vertical-align: middle;\n",
       "    }\n",
       "\n",
       "    .dataframe tbody tr th {\n",
       "        vertical-align: top;\n",
       "    }\n",
       "\n",
       "    .dataframe thead th {\n",
       "        text-align: right;\n",
       "    }\n",
       "</style>\n",
       "<table border=\"1\" class=\"dataframe\">\n",
       "  <thead>\n",
       "    <tr style=\"text-align: right;\">\n",
       "      <th></th>\n",
       "      <th>학년</th>\n",
       "      <th>학점</th>\n",
       "    </tr>\n",
       "    <tr>\n",
       "      <th>학과</th>\n",
       "      <th></th>\n",
       "      <th></th>\n",
       "    </tr>\n",
       "  </thead>\n",
       "  <tbody>\n",
       "    <tr>\n",
       "      <th>데이터분석</th>\n",
       "      <td>2.666667</td>\n",
       "      <td>3.866667</td>\n",
       "    </tr>\n",
       "    <tr>\n",
       "      <th>인공지능</th>\n",
       "      <td>2.000000</td>\n",
       "      <td>3.600000</td>\n",
       "    </tr>\n",
       "  </tbody>\n",
       "</table>\n",
       "</div>"
      ],
      "text/plain": [
       "             학년        학점\n",
       "학과                       \n",
       "데이터분석  2.666667  3.866667\n",
       "인공지능   2.000000  3.600000"
      ]
     },
     "execution_count": 106,
     "metadata": {},
     "output_type": "execute_result"
    }
   ],
   "source": [
    "groupby_df.mean()"
   ]
  },
  {
   "cell_type": "code",
   "execution_count": 81,
   "id": "abd09298",
   "metadata": {},
   "outputs": [
    {
     "data": {
      "text/plain": [
       "1    2\n",
       "3    4\n",
       "4    2\n",
       "Name: 학년, dtype: int64"
      ]
     },
     "execution_count": 81,
     "metadata": {},
     "output_type": "execute_result"
    }
   ],
   "source": [
    "# 이중 학년에 해당하는 값만도 가져올우 있다\n",
    "groupby_df['학년'].get_group('데이터분석')"
   ]
  },
  {
   "cell_type": "code",
   "execution_count": 83,
   "id": "b6ccada7",
   "metadata": {},
   "outputs": [
    {
     "data": {
      "text/plain": [
       "<pandas.core.groupby.generic.SeriesGroupBy object at 0x7fd0fab176d0>"
      ]
     },
     "execution_count": 83,
     "metadata": {},
     "output_type": "execute_result"
    }
   ],
   "source": [
    "# 잘보면 SeriesGroupBy인걸 알수 있다\n",
    "groupby_df['학년']"
   ]
  },
  {
   "cell_type": "code",
   "execution_count": 110,
   "id": "cc1e975c",
   "metadata": {},
   "outputs": [
    {
     "data": {
      "text/plain": [
       "<pandas.core.groupby.generic.DataFrameGroupBy object at 0x7fd0fad084f0>"
      ]
     },
     "execution_count": 110,
     "metadata": {},
     "output_type": "execute_result"
    }
   ],
   "source": [
    "# 잘보면 DataFrameGroupBy인걸 알수 있다\n",
    "groupby_df[['학년']]"
   ]
  },
  {
   "cell_type": "code",
   "execution_count": 86,
   "id": "f29bc7ab",
   "metadata": {},
   "outputs": [
    {
     "data": {
      "text/plain": [
       "학과\n",
       "데이터분석    3.866667\n",
       "인공지능     3.600000\n",
       "Name: 학점, dtype: float64"
      ]
     },
     "execution_count": 86,
     "metadata": {},
     "output_type": "execute_result"
    }
   ],
   "source": [
    "# 좀더 구체적으로 학과에 따른 학점의 평균만을 구해보자\n",
    "groupby_df['학점'].mean()"
   ]
  },
  {
   "cell_type": "code",
   "execution_count": 88,
   "id": "2d3050b2",
   "metadata": {},
   "outputs": [
    {
     "data": {
      "text/html": [
       "<div>\n",
       "<style scoped>\n",
       "    .dataframe tbody tr th:only-of-type {\n",
       "        vertical-align: middle;\n",
       "    }\n",
       "\n",
       "    .dataframe tbody tr th {\n",
       "        vertical-align: top;\n",
       "    }\n",
       "\n",
       "    .dataframe thead th {\n",
       "        text-align: right;\n",
       "    }\n",
       "</style>\n",
       "<table border=\"1\" class=\"dataframe\">\n",
       "  <thead>\n",
       "    <tr style=\"text-align: right;\">\n",
       "      <th></th>\n",
       "      <th>학점</th>\n",
       "    </tr>\n",
       "    <tr>\n",
       "      <th>학과</th>\n",
       "      <th></th>\n",
       "    </tr>\n",
       "  </thead>\n",
       "  <tbody>\n",
       "    <tr>\n",
       "      <th>데이터분석</th>\n",
       "      <td>3.866667</td>\n",
       "    </tr>\n",
       "    <tr>\n",
       "      <th>인공지능</th>\n",
       "      <td>3.600000</td>\n",
       "    </tr>\n",
       "  </tbody>\n",
       "</table>\n",
       "</div>"
      ],
      "text/plain": [
       "             학점\n",
       "학과             \n",
       "데이터분석  3.866667\n",
       "인공지능   3.600000"
      ]
     },
     "execution_count": 88,
     "metadata": {},
     "output_type": "execute_result"
    }
   ],
   "source": [
    "# # 좀더 구체적으로 학과에 따른 학점의 평균만을 구해보자 반환을 dataframe으로\n",
    "groupby_df[['학점']].mean()"
   ]
  },
  {
   "cell_type": "markdown",
   "id": "50e26a76",
   "metadata": {},
   "source": [
    "### GroupBy 심화\n",
    "- apply transform filter aggregate 함수들을 함께 사용해 보다 효율적인 계산 가능"
   ]
  },
  {
   "cell_type": "code",
   "execution_count": 89,
   "id": "aa776ba1",
   "metadata": {},
   "outputs": [],
   "source": [
    "import seaborn as sns\n",
    "\n",
    "titanic_datasets = sns.load_dataset('titanic')\n",
    "iris_datasets    = sns.load_dataset('iris')"
   ]
  },
  {
   "cell_type": "markdown",
   "id": "f16138ed",
   "metadata": {},
   "source": [
    "#### apply "
   ]
  },
  {
   "cell_type": "code",
   "execution_count": 111,
   "id": "e485712d",
   "metadata": {},
   "outputs": [
    {
     "name": "stdout",
     "output_type": "stream",
     "text": [
      "[문제] iris 종별(species) 가장 큰 값과 가장 작은 값의 비율을 구한다면? - \n"
     ]
    },
    {
     "data": {
      "text/html": [
       "<div>\n",
       "<style scoped>\n",
       "    .dataframe tbody tr th:only-of-type {\n",
       "        vertical-align: middle;\n",
       "    }\n",
       "\n",
       "    .dataframe tbody tr th {\n",
       "        vertical-align: top;\n",
       "    }\n",
       "\n",
       "    .dataframe thead th {\n",
       "        text-align: right;\n",
       "    }\n",
       "</style>\n",
       "<table border=\"1\" class=\"dataframe\">\n",
       "  <thead>\n",
       "    <tr style=\"text-align: right;\">\n",
       "      <th></th>\n",
       "      <th>sepal_length</th>\n",
       "      <th>sepal_width</th>\n",
       "      <th>petal_length</th>\n",
       "      <th>petal_width</th>\n",
       "    </tr>\n",
       "    <tr>\n",
       "      <th>species</th>\n",
       "      <th></th>\n",
       "      <th></th>\n",
       "      <th></th>\n",
       "      <th></th>\n",
       "    </tr>\n",
       "  </thead>\n",
       "  <tbody>\n",
       "    <tr>\n",
       "      <th>setosa</th>\n",
       "      <td>1.5</td>\n",
       "      <td>2.1</td>\n",
       "      <td>0.9</td>\n",
       "      <td>0.5</td>\n",
       "    </tr>\n",
       "    <tr>\n",
       "      <th>versicolor</th>\n",
       "      <td>2.1</td>\n",
       "      <td>1.4</td>\n",
       "      <td>2.1</td>\n",
       "      <td>0.8</td>\n",
       "    </tr>\n",
       "    <tr>\n",
       "      <th>virginica</th>\n",
       "      <td>3.0</td>\n",
       "      <td>1.6</td>\n",
       "      <td>2.4</td>\n",
       "      <td>1.1</td>\n",
       "    </tr>\n",
       "  </tbody>\n",
       "</table>\n",
       "</div>"
      ],
      "text/plain": [
       "            sepal_length  sepal_width  petal_length  petal_width\n",
       "species                                                         \n",
       "setosa               1.5          2.1           0.9          0.5\n",
       "versicolor           2.1          1.4           2.1          0.8\n",
       "virginica            3.0          1.6           2.4          1.1"
      ]
     },
     "execution_count": 111,
     "metadata": {},
     "output_type": "execute_result"
    }
   ],
   "source": [
    "print('[문제] iris 종별(species) 가장 큰 값과 가장 작은 값의 비율을 구한다면? - ')\n",
    "iris_datasets.groupby('species').apply(lambda x : x.max()-x.min())"
   ]
  },
  {
   "cell_type": "code",
   "execution_count": 119,
   "id": "06f6de01",
   "metadata": {},
   "outputs": [
    {
     "name": "stdout",
     "output_type": "stream",
     "text": [
      "[문제] iris 종별(species) 가장 큰 petal_length 3개를 구한다면? - \n"
     ]
    },
    {
     "data": {
      "text/html": [
       "<div>\n",
       "<style scoped>\n",
       "    .dataframe tbody tr th:only-of-type {\n",
       "        vertical-align: middle;\n",
       "    }\n",
       "\n",
       "    .dataframe tbody tr th {\n",
       "        vertical-align: top;\n",
       "    }\n",
       "\n",
       "    .dataframe thead th {\n",
       "        text-align: right;\n",
       "    }\n",
       "</style>\n",
       "<table border=\"1\" class=\"dataframe\">\n",
       "  <thead>\n",
       "    <tr style=\"text-align: right;\">\n",
       "      <th></th>\n",
       "      <th></th>\n",
       "      <th>petal_length</th>\n",
       "    </tr>\n",
       "    <tr>\n",
       "      <th>species</th>\n",
       "      <th></th>\n",
       "      <th></th>\n",
       "    </tr>\n",
       "  </thead>\n",
       "  <tbody>\n",
       "    <tr>\n",
       "      <th rowspan=\"3\" valign=\"top\">setosa</th>\n",
       "      <th>22</th>\n",
       "      <td>1.0</td>\n",
       "    </tr>\n",
       "    <tr>\n",
       "      <th>13</th>\n",
       "      <td>1.1</td>\n",
       "    </tr>\n",
       "    <tr>\n",
       "      <th>14</th>\n",
       "      <td>1.2</td>\n",
       "    </tr>\n",
       "    <tr>\n",
       "      <th rowspan=\"3\" valign=\"top\">versicolor</th>\n",
       "      <th>98</th>\n",
       "      <td>3.0</td>\n",
       "    </tr>\n",
       "    <tr>\n",
       "      <th>93</th>\n",
       "      <td>3.3</td>\n",
       "    </tr>\n",
       "    <tr>\n",
       "      <th>57</th>\n",
       "      <td>3.3</td>\n",
       "    </tr>\n",
       "    <tr>\n",
       "      <th rowspan=\"3\" valign=\"top\">virginica</th>\n",
       "      <th>106</th>\n",
       "      <td>4.5</td>\n",
       "    </tr>\n",
       "    <tr>\n",
       "      <th>138</th>\n",
       "      <td>4.8</td>\n",
       "    </tr>\n",
       "    <tr>\n",
       "      <th>126</th>\n",
       "      <td>4.8</td>\n",
       "    </tr>\n",
       "  </tbody>\n",
       "</table>\n",
       "</div>"
      ],
      "text/plain": [
       "                petal_length\n",
       "species                     \n",
       "setosa     22            1.0\n",
       "           13            1.1\n",
       "           14            1.2\n",
       "versicolor 98            3.0\n",
       "           93            3.3\n",
       "           57            3.3\n",
       "virginica  106           4.5\n",
       "           138           4.8\n",
       "           126           4.8"
      ]
     },
     "execution_count": 119,
     "metadata": {},
     "output_type": "execute_result"
    }
   ],
   "source": [
    "print('[문제] iris 종별(species) 가장 큰 petal_length 3개를 구한다면? - ')\n",
    "iris_datasets.sort_values('petal_length').groupby('species')[['petal_length']].apply(lambda x: x[0:3])"
   ]
  },
  {
   "cell_type": "markdown",
   "id": "ed8f6b34",
   "metadata": {},
   "source": [
    "#### transform\n",
    "- 집계는 일반적으로 데이터의 축소 버전을 반환하지만\n",
    "- 변환은 재결합을 위해 전체 데이터의 변환된 버전을 반환"
   ]
  },
  {
   "cell_type": "code",
   "execution_count": 149,
   "id": "704b0f79",
   "metadata": {},
   "outputs": [
    {
     "data": {
      "text/html": [
       "<div>\n",
       "<style scoped>\n",
       "    .dataframe tbody tr th:only-of-type {\n",
       "        vertical-align: middle;\n",
       "    }\n",
       "\n",
       "    .dataframe tbody tr th {\n",
       "        vertical-align: top;\n",
       "    }\n",
       "\n",
       "    .dataframe thead th {\n",
       "        text-align: right;\n",
       "    }\n",
       "</style>\n",
       "<table border=\"1\" class=\"dataframe\">\n",
       "  <thead>\n",
       "    <tr style=\"text-align: right;\">\n",
       "      <th></th>\n",
       "      <th>sepal_length</th>\n",
       "      <th>sepal_width</th>\n",
       "      <th>petal_length</th>\n",
       "      <th>petal_width</th>\n",
       "    </tr>\n",
       "  </thead>\n",
       "  <tbody>\n",
       "    <tr>\n",
       "      <th>0</th>\n",
       "      <td>1.5</td>\n",
       "      <td>2.1</td>\n",
       "      <td>0.9</td>\n",
       "      <td>0.5</td>\n",
       "    </tr>\n",
       "    <tr>\n",
       "      <th>1</th>\n",
       "      <td>1.5</td>\n",
       "      <td>2.1</td>\n",
       "      <td>0.9</td>\n",
       "      <td>0.5</td>\n",
       "    </tr>\n",
       "    <tr>\n",
       "      <th>2</th>\n",
       "      <td>1.5</td>\n",
       "      <td>2.1</td>\n",
       "      <td>0.9</td>\n",
       "      <td>0.5</td>\n",
       "    </tr>\n",
       "    <tr>\n",
       "      <th>3</th>\n",
       "      <td>1.5</td>\n",
       "      <td>2.1</td>\n",
       "      <td>0.9</td>\n",
       "      <td>0.5</td>\n",
       "    </tr>\n",
       "    <tr>\n",
       "      <th>4</th>\n",
       "      <td>1.5</td>\n",
       "      <td>2.1</td>\n",
       "      <td>0.9</td>\n",
       "      <td>0.5</td>\n",
       "    </tr>\n",
       "    <tr>\n",
       "      <th>...</th>\n",
       "      <td>...</td>\n",
       "      <td>...</td>\n",
       "      <td>...</td>\n",
       "      <td>...</td>\n",
       "    </tr>\n",
       "    <tr>\n",
       "      <th>145</th>\n",
       "      <td>3.0</td>\n",
       "      <td>1.6</td>\n",
       "      <td>2.4</td>\n",
       "      <td>1.1</td>\n",
       "    </tr>\n",
       "    <tr>\n",
       "      <th>146</th>\n",
       "      <td>3.0</td>\n",
       "      <td>1.6</td>\n",
       "      <td>2.4</td>\n",
       "      <td>1.1</td>\n",
       "    </tr>\n",
       "    <tr>\n",
       "      <th>147</th>\n",
       "      <td>3.0</td>\n",
       "      <td>1.6</td>\n",
       "      <td>2.4</td>\n",
       "      <td>1.1</td>\n",
       "    </tr>\n",
       "    <tr>\n",
       "      <th>148</th>\n",
       "      <td>3.0</td>\n",
       "      <td>1.6</td>\n",
       "      <td>2.4</td>\n",
       "      <td>1.1</td>\n",
       "    </tr>\n",
       "    <tr>\n",
       "      <th>149</th>\n",
       "      <td>3.0</td>\n",
       "      <td>1.6</td>\n",
       "      <td>2.4</td>\n",
       "      <td>1.1</td>\n",
       "    </tr>\n",
       "  </tbody>\n",
       "</table>\n",
       "<p>150 rows × 4 columns</p>\n",
       "</div>"
      ],
      "text/plain": [
       "     sepal_length  sepal_width  petal_length  petal_width\n",
       "0             1.5          2.1           0.9          0.5\n",
       "1             1.5          2.1           0.9          0.5\n",
       "2             1.5          2.1           0.9          0.5\n",
       "3             1.5          2.1           0.9          0.5\n",
       "4             1.5          2.1           0.9          0.5\n",
       "..            ...          ...           ...          ...\n",
       "145           3.0          1.6           2.4          1.1\n",
       "146           3.0          1.6           2.4          1.1\n",
       "147           3.0          1.6           2.4          1.1\n",
       "148           3.0          1.6           2.4          1.1\n",
       "149           3.0          1.6           2.4          1.1\n",
       "\n",
       "[150 rows x 4 columns]"
      ]
     },
     "execution_count": 149,
     "metadata": {},
     "output_type": "execute_result"
    }
   ],
   "source": [
    "iris_datasets.groupby('species').transform(lambda x : x.max()-x.min())"
   ]
  },
  {
   "cell_type": "markdown",
   "id": "befb1024",
   "metadata": {},
   "source": [
    "#### agg"
   ]
  },
  {
   "cell_type": "code",
   "execution_count": 123,
   "id": "c1bb181b",
   "metadata": {},
   "outputs": [],
   "source": [
    "titanic_subset_frm = titanic_datasets.loc[ : , ['age', 'sex', 'class', 'fare', 'survived']]\n",
    "class_grp = titanic_subset_frm.groupby(['class'])"
   ]
  },
  {
   "cell_type": "code",
   "execution_count": 125,
   "id": "6868b28d",
   "metadata": {},
   "outputs": [
    {
     "data": {
      "text/html": [
       "<div>\n",
       "<style scoped>\n",
       "    .dataframe tbody tr th:only-of-type {\n",
       "        vertical-align: middle;\n",
       "    }\n",
       "\n",
       "    .dataframe tbody tr th {\n",
       "        vertical-align: top;\n",
       "    }\n",
       "\n",
       "    .dataframe thead th {\n",
       "        text-align: right;\n",
       "    }\n",
       "</style>\n",
       "<table border=\"1\" class=\"dataframe\">\n",
       "  <thead>\n",
       "    <tr style=\"text-align: right;\">\n",
       "      <th></th>\n",
       "      <th>age</th>\n",
       "      <th>fare</th>\n",
       "      <th>survived</th>\n",
       "    </tr>\n",
       "    <tr>\n",
       "      <th>class</th>\n",
       "      <th></th>\n",
       "      <th></th>\n",
       "      <th></th>\n",
       "    </tr>\n",
       "  </thead>\n",
       "  <tbody>\n",
       "    <tr>\n",
       "      <th>First</th>\n",
       "      <td>38.233441</td>\n",
       "      <td>84.154687</td>\n",
       "      <td>0.629630</td>\n",
       "    </tr>\n",
       "    <tr>\n",
       "      <th>Second</th>\n",
       "      <td>29.877630</td>\n",
       "      <td>20.662183</td>\n",
       "      <td>0.472826</td>\n",
       "    </tr>\n",
       "    <tr>\n",
       "      <th>Third</th>\n",
       "      <td>25.140620</td>\n",
       "      <td>13.675550</td>\n",
       "      <td>0.242363</td>\n",
       "    </tr>\n",
       "  </tbody>\n",
       "</table>\n",
       "</div>"
      ],
      "text/plain": [
       "              age       fare  survived\n",
       "class                                 \n",
       "First   38.233441  84.154687  0.629630\n",
       "Second  29.877630  20.662183  0.472826\n",
       "Third   25.140620  13.675550  0.242363"
      ]
     },
     "metadata": {},
     "output_type": "display_data"
    },
    {
     "data": {
      "text/html": [
       "<div>\n",
       "<style scoped>\n",
       "    .dataframe tbody tr th:only-of-type {\n",
       "        vertical-align: middle;\n",
       "    }\n",
       "\n",
       "    .dataframe tbody tr th {\n",
       "        vertical-align: top;\n",
       "    }\n",
       "\n",
       "    .dataframe thead th {\n",
       "        text-align: right;\n",
       "    }\n",
       "</style>\n",
       "<table border=\"1\" class=\"dataframe\">\n",
       "  <thead>\n",
       "    <tr style=\"text-align: right;\">\n",
       "      <th></th>\n",
       "      <th>age</th>\n",
       "      <th>sex</th>\n",
       "      <th>fare</th>\n",
       "      <th>survived</th>\n",
       "    </tr>\n",
       "    <tr>\n",
       "      <th>class</th>\n",
       "      <th></th>\n",
       "      <th></th>\n",
       "      <th></th>\n",
       "      <th></th>\n",
       "    </tr>\n",
       "  </thead>\n",
       "  <tbody>\n",
       "    <tr>\n",
       "      <th>First</th>\n",
       "      <td>80.0</td>\n",
       "      <td>male</td>\n",
       "      <td>512.3292</td>\n",
       "      <td>1</td>\n",
       "    </tr>\n",
       "    <tr>\n",
       "      <th>Second</th>\n",
       "      <td>70.0</td>\n",
       "      <td>male</td>\n",
       "      <td>73.5000</td>\n",
       "      <td>1</td>\n",
       "    </tr>\n",
       "    <tr>\n",
       "      <th>Third</th>\n",
       "      <td>74.0</td>\n",
       "      <td>male</td>\n",
       "      <td>69.5500</td>\n",
       "      <td>1</td>\n",
       "    </tr>\n",
       "  </tbody>\n",
       "</table>\n",
       "</div>"
      ],
      "text/plain": [
       "         age   sex      fare  survived\n",
       "class                                 \n",
       "First   80.0  male  512.3292         1\n",
       "Second  70.0  male   73.5000         1\n",
       "Third   74.0  male   69.5500         1"
      ]
     },
     "metadata": {},
     "output_type": "display_data"
    }
   ],
   "source": [
    "display(class_grp.mean(),class_grp.max()) "
   ]
  },
  {
   "cell_type": "code",
   "execution_count": 127,
   "id": "9142b608",
   "metadata": {},
   "outputs": [
    {
     "data": {
      "text/html": [
       "<div>\n",
       "<style scoped>\n",
       "    .dataframe tbody tr th:only-of-type {\n",
       "        vertical-align: middle;\n",
       "    }\n",
       "\n",
       "    .dataframe tbody tr th {\n",
       "        vertical-align: top;\n",
       "    }\n",
       "\n",
       "    .dataframe thead tr th {\n",
       "        text-align: left;\n",
       "    }\n",
       "\n",
       "    .dataframe thead tr:last-of-type th {\n",
       "        text-align: right;\n",
       "    }\n",
       "</style>\n",
       "<table border=\"1\" class=\"dataframe\">\n",
       "  <thead>\n",
       "    <tr>\n",
       "      <th></th>\n",
       "      <th colspan=\"2\" halign=\"left\">age</th>\n",
       "      <th colspan=\"2\" halign=\"left\">fare</th>\n",
       "      <th colspan=\"2\" halign=\"left\">survived</th>\n",
       "    </tr>\n",
       "    <tr>\n",
       "      <th></th>\n",
       "      <th>mean</th>\n",
       "      <th>sum</th>\n",
       "      <th>mean</th>\n",
       "      <th>sum</th>\n",
       "      <th>mean</th>\n",
       "      <th>sum</th>\n",
       "    </tr>\n",
       "    <tr>\n",
       "      <th>class</th>\n",
       "      <th></th>\n",
       "      <th></th>\n",
       "      <th></th>\n",
       "      <th></th>\n",
       "      <th></th>\n",
       "      <th></th>\n",
       "    </tr>\n",
       "  </thead>\n",
       "  <tbody>\n",
       "    <tr>\n",
       "      <th>First</th>\n",
       "      <td>38.233441</td>\n",
       "      <td>7111.42</td>\n",
       "      <td>84.154687</td>\n",
       "      <td>18177.4125</td>\n",
       "      <td>0.629630</td>\n",
       "      <td>136</td>\n",
       "    </tr>\n",
       "    <tr>\n",
       "      <th>Second</th>\n",
       "      <td>29.877630</td>\n",
       "      <td>5168.83</td>\n",
       "      <td>20.662183</td>\n",
       "      <td>3801.8417</td>\n",
       "      <td>0.472826</td>\n",
       "      <td>87</td>\n",
       "    </tr>\n",
       "    <tr>\n",
       "      <th>Third</th>\n",
       "      <td>25.140620</td>\n",
       "      <td>8924.92</td>\n",
       "      <td>13.675550</td>\n",
       "      <td>6714.6951</td>\n",
       "      <td>0.242363</td>\n",
       "      <td>119</td>\n",
       "    </tr>\n",
       "  </tbody>\n",
       "</table>\n",
       "</div>"
      ],
      "text/plain": [
       "              age                fare              survived     \n",
       "             mean      sum       mean         sum      mean  sum\n",
       "class                                                           \n",
       "First   38.233441  7111.42  84.154687  18177.4125  0.629630  136\n",
       "Second  29.877630  5168.83  20.662183   3801.8417  0.472826   87\n",
       "Third   25.140620  8924.92  13.675550   6714.6951  0.242363  119"
      ]
     },
     "execution_count": 127,
     "metadata": {},
     "output_type": "execute_result"
    }
   ],
   "source": [
    "class_grp.agg([np.mean,np.sum])"
   ]
  },
  {
   "cell_type": "code",
   "execution_count": 134,
   "id": "32b2dedb",
   "metadata": {},
   "outputs": [
    {
     "data": {
      "text/html": [
       "<div>\n",
       "<style scoped>\n",
       "    .dataframe tbody tr th:only-of-type {\n",
       "        vertical-align: middle;\n",
       "    }\n",
       "\n",
       "    .dataframe tbody tr th {\n",
       "        vertical-align: top;\n",
       "    }\n",
       "\n",
       "    .dataframe thead th {\n",
       "        text-align: right;\n",
       "    }\n",
       "</style>\n",
       "<table border=\"1\" class=\"dataframe\">\n",
       "  <thead>\n",
       "    <tr style=\"text-align: right;\">\n",
       "      <th></th>\n",
       "      <th>age</th>\n",
       "      <th>survived</th>\n",
       "    </tr>\n",
       "    <tr>\n",
       "      <th>class</th>\n",
       "      <th></th>\n",
       "      <th></th>\n",
       "    </tr>\n",
       "  </thead>\n",
       "  <tbody>\n",
       "    <tr>\n",
       "      <th>First</th>\n",
       "      <td>7111.42</td>\n",
       "      <td>0.629630</td>\n",
       "    </tr>\n",
       "    <tr>\n",
       "      <th>Second</th>\n",
       "      <td>5168.83</td>\n",
       "      <td>0.472826</td>\n",
       "    </tr>\n",
       "    <tr>\n",
       "      <th>Third</th>\n",
       "      <td>8924.92</td>\n",
       "      <td>0.242363</td>\n",
       "    </tr>\n",
       "  </tbody>\n",
       "</table>\n",
       "</div>"
      ],
      "text/plain": [
       "            age  survived\n",
       "class                    \n",
       "First   7111.42  0.629630\n",
       "Second  5168.83  0.472826\n",
       "Third   8924.92  0.242363"
      ]
     },
     "execution_count": 134,
     "metadata": {},
     "output_type": "execute_result"
    }
   ],
   "source": [
    "# 해당 열에 각기 다른 연산 적용 가능\n",
    "class_grp.agg({'age':np.sum,'survived':np.mean})"
   ]
  },
  {
   "cell_type": "markdown",
   "id": "e924b2d2",
   "metadata": {},
   "source": [
    "#### filter()\n",
    "- 그룹에 대해 조건을 주는거다\n",
    "- 반환값은 조건을 충족시키지 못한 그룹을 제외한 original dataframe이다"
   ]
  },
  {
   "cell_type": "code",
   "execution_count": 146,
   "id": "9d8cafae",
   "metadata": {},
   "outputs": [
    {
     "data": {
      "text/html": [
       "<div>\n",
       "<style scoped>\n",
       "    .dataframe tbody tr th:only-of-type {\n",
       "        vertical-align: middle;\n",
       "    }\n",
       "\n",
       "    .dataframe tbody tr th {\n",
       "        vertical-align: top;\n",
       "    }\n",
       "\n",
       "    .dataframe thead th {\n",
       "        text-align: right;\n",
       "    }\n",
       "</style>\n",
       "<table border=\"1\" class=\"dataframe\">\n",
       "  <thead>\n",
       "    <tr style=\"text-align: right;\">\n",
       "      <th></th>\n",
       "      <th>age</th>\n",
       "      <th>sex</th>\n",
       "      <th>class</th>\n",
       "      <th>fare</th>\n",
       "      <th>survived</th>\n",
       "    </tr>\n",
       "  </thead>\n",
       "  <tbody>\n",
       "    <tr>\n",
       "      <th>1</th>\n",
       "      <td>38.0</td>\n",
       "      <td>female</td>\n",
       "      <td>First</td>\n",
       "      <td>71.2833</td>\n",
       "      <td>1</td>\n",
       "    </tr>\n",
       "    <tr>\n",
       "      <th>3</th>\n",
       "      <td>35.0</td>\n",
       "      <td>female</td>\n",
       "      <td>First</td>\n",
       "      <td>53.1000</td>\n",
       "      <td>1</td>\n",
       "    </tr>\n",
       "    <tr>\n",
       "      <th>6</th>\n",
       "      <td>54.0</td>\n",
       "      <td>male</td>\n",
       "      <td>First</td>\n",
       "      <td>51.8625</td>\n",
       "      <td>0</td>\n",
       "    </tr>\n",
       "    <tr>\n",
       "      <th>11</th>\n",
       "      <td>58.0</td>\n",
       "      <td>female</td>\n",
       "      <td>First</td>\n",
       "      <td>26.5500</td>\n",
       "      <td>1</td>\n",
       "    </tr>\n",
       "    <tr>\n",
       "      <th>23</th>\n",
       "      <td>28.0</td>\n",
       "      <td>male</td>\n",
       "      <td>First</td>\n",
       "      <td>35.5000</td>\n",
       "      <td>1</td>\n",
       "    </tr>\n",
       "    <tr>\n",
       "      <th>...</th>\n",
       "      <td>...</td>\n",
       "      <td>...</td>\n",
       "      <td>...</td>\n",
       "      <td>...</td>\n",
       "      <td>...</td>\n",
       "    </tr>\n",
       "    <tr>\n",
       "      <th>871</th>\n",
       "      <td>47.0</td>\n",
       "      <td>female</td>\n",
       "      <td>First</td>\n",
       "      <td>52.5542</td>\n",
       "      <td>1</td>\n",
       "    </tr>\n",
       "    <tr>\n",
       "      <th>872</th>\n",
       "      <td>33.0</td>\n",
       "      <td>male</td>\n",
       "      <td>First</td>\n",
       "      <td>5.0000</td>\n",
       "      <td>0</td>\n",
       "    </tr>\n",
       "    <tr>\n",
       "      <th>879</th>\n",
       "      <td>56.0</td>\n",
       "      <td>female</td>\n",
       "      <td>First</td>\n",
       "      <td>83.1583</td>\n",
       "      <td>1</td>\n",
       "    </tr>\n",
       "    <tr>\n",
       "      <th>887</th>\n",
       "      <td>19.0</td>\n",
       "      <td>female</td>\n",
       "      <td>First</td>\n",
       "      <td>30.0000</td>\n",
       "      <td>1</td>\n",
       "    </tr>\n",
       "    <tr>\n",
       "      <th>889</th>\n",
       "      <td>26.0</td>\n",
       "      <td>male</td>\n",
       "      <td>First</td>\n",
       "      <td>30.0000</td>\n",
       "      <td>1</td>\n",
       "    </tr>\n",
       "  </tbody>\n",
       "</table>\n",
       "<p>216 rows × 5 columns</p>\n",
       "</div>"
      ],
      "text/plain": [
       "      age     sex  class     fare  survived\n",
       "1    38.0  female  First  71.2833         1\n",
       "3    35.0  female  First  53.1000         1\n",
       "6    54.0    male  First  51.8625         0\n",
       "11   58.0  female  First  26.5500         1\n",
       "23   28.0    male  First  35.5000         1\n",
       "..    ...     ...    ...      ...       ...\n",
       "871  47.0  female  First  52.5542         1\n",
       "872  33.0    male  First   5.0000         0\n",
       "879  56.0  female  First  83.1583         1\n",
       "887  19.0  female  First  30.0000         1\n",
       "889  26.0    male  First  30.0000         1\n",
       "\n",
       "[216 rows x 5 columns]"
      ]
     },
     "execution_count": 146,
     "metadata": {},
     "output_type": "execute_result"
    }
   ],
   "source": [
    "# 생존율이 0.5보다 큰 그룹만 남겨라\n",
    "class_grp.filter(lambda x: x['survived'].mean()>0.5)"
   ]
  }
 ],
 "metadata": {
  "kernelspec": {
   "display_name": "Python 3 (ipykernel)",
   "language": "python",
   "name": "python3"
  },
  "language_info": {
   "codemirror_mode": {
    "name": "ipython",
    "version": 3
   },
   "file_extension": ".py",
   "mimetype": "text/x-python",
   "name": "python",
   "nbconvert_exporter": "python",
   "pygments_lexer": "ipython3",
   "version": "3.8.11"
  }
 },
 "nbformat": 4,
 "nbformat_minor": 5
}
