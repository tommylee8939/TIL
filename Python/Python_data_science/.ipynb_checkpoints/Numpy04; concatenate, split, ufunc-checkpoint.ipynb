{
 "cells": [
  {
   "cell_type": "markdown",
   "metadata": {},
   "source": [
    "## Numpy04; concatenate, split"
   ]
  },
  {
   "cell_type": "code",
   "execution_count": 2,
   "metadata": {},
   "outputs": [],
   "source": [
    "import numpy as np"
   ]
  },
  {
   "cell_type": "markdown",
   "metadata": {},
   "source": [
    "### concatenate\n",
    "- concatenate([array,array,,,])\n",
    "- axis option이 가능하다\n",
    "    - 각 축이 0, 1, 2,,, 의 인덱스를 갖게 된다\n",
    "- 동시에 3개 이상 결합도 가능하다"
   ]
  },
  {
   "cell_type": "code",
   "execution_count": 13,
   "metadata": {},
   "outputs": [
    {
     "name": "stdout",
     "output_type": "stream",
     "text": [
      "[0 1 2 3 4 5 6 7 8 9 0 1 2 3 4 5 6 7 8 9]\n"
     ]
    }
   ],
   "source": [
    "a = np.arange(10)\n",
    "b = np.arange(10)\n",
    "print(np.concatenate([a,b]))"
   ]
  },
  {
   "cell_type": "code",
   "execution_count": 14,
   "metadata": {},
   "outputs": [
    {
     "name": "stdout",
     "output_type": "stream",
     "text": [
      "[[0 1 2 3 4]\n",
      " [5 6 7 8 9]\n",
      " [0 1 2 3 4]\n",
      " [5 6 7 8 9]]\n"
     ]
    }
   ],
   "source": [
    "a = np.arange(10).reshape(2,5)\n",
    "b = np.arange(10).reshape(2,5)\n",
    "print(np.concatenate([a,b]))"
   ]
  },
  {
   "cell_type": "markdown",
   "metadata": {},
   "source": [
    "#### aixs의 개념"
   ]
  },
  {
   "cell_type": "code",
   "execution_count": 35,
   "metadata": {},
   "outputs": [
    {
     "name": "stdout",
     "output_type": "stream",
     "text": [
      "[0 1 2 3 4 5 6 7 8 9 0 1 2 3 4 5 6 7 8 9]\n"
     ]
    }
   ],
   "source": [
    "# 아래 두개의 데이타는 모두 1차원 데이터 이다\n",
    "a = np.arange(10)\n",
    "b = np.arange(10)\n",
    "\n",
    "# default로 axis=0이 들어가있다\n",
    "# axis=0은 1차원 즉 원소단위의 concatenate를 의미한다\n",
    "print(np.concatenate([a,b],axis=0))"
   ]
  },
  {
   "cell_type": "code",
   "execution_count": 44,
   "metadata": {},
   "outputs": [
    {
     "name": "stdout",
     "output_type": "stream",
     "text": [
      "[[0 1 2 3 4 0 1 2 3 4]\n",
      " [5 6 7 8 9 5 6 7 8 9]]\n",
      "[[0 1 2 3 4]\n",
      " [5 6 7 8 9]\n",
      " [0 1 2 3 4]\n",
      " [5 6 7 8 9]]\n",
      "\n"
     ]
    }
   ],
   "source": [
    "# 아래 두개의 데이터은 둘다 2차원 데이터이다\n",
    "a = np.arange(10).reshape(2,5)\n",
    "b = np.arange(10).reshape(2,5)\n",
    "\n",
    "# axis=1은 2차원 즉 열 단위의 concatenate를 의미한다 => 즉 열이 늘어난다\n",
    "print(np.concatenate([a,b],axis=1))\n",
    "\n",
    "# axis=0은 2차원 즉 행 단위의 concatenate를 의미한다 => 즉 행이 늘어난다\n",
    "print(np.concatenate([a,b],axis=0))\n",
    "print()\n"
   ]
  },
  {
   "cell_type": "code",
   "execution_count": 52,
   "metadata": {},
   "outputs": [
    {
     "name": "stdout",
     "output_type": "stream",
     "text": [
      "[[[ 0  1  2]\n",
      "  [ 3  4  5]]\n",
      "\n",
      " [[ 6  7  8]\n",
      "  [ 9 10 11]]]\n"
     ]
    }
   ],
   "source": [
    "print(np.arange(12).reshape(2,2,3) )"
   ]
  },
  {
   "cell_type": "code",
   "execution_count": 53,
   "metadata": {},
   "outputs": [
    {
     "name": "stdout",
     "output_type": "stream",
     "text": [
      "[[[ 0  1  2  0  1  2]\n",
      "  [ 3  4  5  3  4  5]]\n",
      "\n",
      " [[ 6  7  8  6  7  8]\n",
      "  [ 9 10 11  9 10 11]]]\n",
      "------------------------------\n",
      "[[[ 0  1  2]\n",
      "  [ 3  4  5]\n",
      "  [ 0  1  2]\n",
      "  [ 3  4  5]]\n",
      "\n",
      " [[ 6  7  8]\n",
      "  [ 9 10 11]\n",
      "  [ 6  7  8]\n",
      "  [ 9 10 11]]]\n",
      "------------------------------\n",
      "[[[ 0  1  2]\n",
      "  [ 3  4  5]]\n",
      "\n",
      " [[ 6  7  8]\n",
      "  [ 9 10 11]]\n",
      "\n",
      " [[ 0  1  2]\n",
      "  [ 3  4  5]]\n",
      "\n",
      " [[ 6  7  8]\n",
      "  [ 9 10 11]]]\n"
     ]
    }
   ],
   "source": [
    "# 아래 두개의 데이터은 둘다 3차원 데이터이다\n",
    "a = np.arange(12).reshape(2,2,3)   # 면 행 열 순이다\n",
    "b = np.arange(12).reshape(2,2,3)\n",
    "\n",
    "# axis=2은 1차원 즉 열 단위의 concatenate를 의미한다 => 열이 늘어난다\n",
    "# 1차원안에서 0차원 데이터들이 결합\n",
    "print(np.concatenate([a,b],axis=2))\n",
    "print(\"-\"*30)\n",
    "\n",
    "# axis=1은 2차원 즉 행 단위의 concatenate를 의미한다 => 행이 늘어난다\n",
    "# 2차원 안에서 1차원 데이터들이 결합\n",
    "\n",
    "print(np.concatenate([a,b],axis=1))\n",
    "print(\"-\"*30)\n",
    "\n",
    "# axis=0은 3차원 즉 면 단위의 concatenate를 의미한다 => 면이 늘어난다\n",
    "# 3차원 안에서 1차원 데이터들이 결합\n",
    "print(np.concatenate([a,b],axis=0))\n",
    "\n"
   ]
  },
  {
   "cell_type": "markdown",
   "metadata": {},
   "source": [
    "#### np.vstack, np.hstack"
   ]
  },
  {
   "cell_type": "code",
   "execution_count": 32,
   "metadata": {},
   "outputs": [
    {
     "data": {
      "text/plain": [
       "array([[1, 2, 3],\n",
       "       [4, 5, 6],\n",
       "       [7, 8, 9]])"
      ]
     },
     "execution_count": 32,
     "metadata": {},
     "output_type": "execute_result"
    }
   ],
   "source": [
    "a=np.array([1,2,3])    \n",
    "b=np.array([[4,5,6],   \n",
    "            [7,8,9]])\n",
    "\n",
    "np.vstack([a,b])"
   ]
  },
  {
   "cell_type": "code",
   "execution_count": 27,
   "metadata": {},
   "outputs": [
    {
     "data": {
      "text/plain": [
       "array([[1, 2, 3, 4],\n",
       "       [5, 6, 7, 8]])"
      ]
     },
     "execution_count": 27,
     "metadata": {},
     "output_type": "execute_result"
    }
   ],
   "source": [
    "a=np.array([[1],\n",
    "           [5]])\n",
    "b=np.array([[2,3,4],\n",
    "            [6,7,8]])\n",
    "np.hstack([a,b])"
   ]
  },
  {
   "cell_type": "markdown",
   "metadata": {},
   "source": [
    "### np.split\n",
    "- np.split(array,[index,index,index,,,])\n",
    "- [index,index,,,]에서 index는 포함되지 않고 쪼갠다 "
   ]
  },
  {
   "cell_type": "code",
   "execution_count": 48,
   "metadata": {},
   "outputs": [
    {
     "name": "stdout",
     "output_type": "stream",
     "text": [
      "[array([0, 1]), array([2, 3, 4]), array([5, 6, 7, 8, 9]), array([10, 11, 12, 13, 14, 15, 16, 17, 18, 19])]\n"
     ]
    }
   ],
   "source": [
    "x = np.arange(20)\n",
    "print(np.split(x,[2,5,10]))"
   ]
  }
 ],
 "metadata": {
  "kernelspec": {
   "display_name": "Python 3",
   "language": "python",
   "name": "python3"
  },
  "language_info": {
   "codemirror_mode": {
    "name": "ipython",
    "version": 3
   },
   "file_extension": ".py",
   "mimetype": "text/x-python",
   "name": "python",
   "nbconvert_exporter": "python",
   "pygments_lexer": "ipython3",
   "version": "3.8.5"
  }
 },
 "nbformat": 4,
 "nbformat_minor": 4
}
