{
 "cells": [
  {
   "cell_type": "code",
   "execution_count": 1,
   "id": "5053482d",
   "metadata": {},
   "outputs": [],
   "source": [
    "import numpy as np\n",
    "import pandas as pd\n",
    "import matplotlib.pyplot as plt\n",
    "\n",
    "%matplotlib inline\n",
    "\n",
    "from datetime import date,datetime,timedelta\n",
    "from dateutil.parser import parse\n",
    "\n",
    "import json"
   ]
  },
  {
   "cell_type": "code",
   "execution_count": 2,
   "id": "88cc9323",
   "metadata": {},
   "outputs": [],
   "source": [
    "import matplotlib.pyplot as plt\n",
    "from matplotlib import rc\n",
    "\n",
    "# 한글 폰트 문제 해결\n",
    "rc('font', family='AppleGothic')\n",
    "\n",
    "# 차트 축 <- 음수 부호 지원\n",
    "plt.rcParams['axes.unicode_minus'] = False"
   ]
  },
  {
   "cell_type": "code",
   "execution_count": 16,
   "id": "07bff521",
   "metadata": {},
   "outputs": [
    {
     "data": {
      "text/html": [
       "<div>\n",
       "<style scoped>\n",
       "    .dataframe tbody tr th:only-of-type {\n",
       "        vertical-align: middle;\n",
       "    }\n",
       "\n",
       "    .dataframe tbody tr th {\n",
       "        vertical-align: top;\n",
       "    }\n",
       "\n",
       "    .dataframe thead th {\n",
       "        text-align: right;\n",
       "    }\n",
       "</style>\n",
       "<table border=\"1\" class=\"dataframe\">\n",
       "  <thead>\n",
       "    <tr style=\"text-align: right;\">\n",
       "      <th></th>\n",
       "      <th>manufacturer</th>\n",
       "      <th>model</th>\n",
       "      <th>displ</th>\n",
       "      <th>year</th>\n",
       "      <th>cyl</th>\n",
       "      <th>trans</th>\n",
       "      <th>drv</th>\n",
       "      <th>cty</th>\n",
       "      <th>hwy</th>\n",
       "      <th>fl</th>\n",
       "      <th>class</th>\n",
       "    </tr>\n",
       "  </thead>\n",
       "  <tbody>\n",
       "    <tr>\n",
       "      <th>1</th>\n",
       "      <td>audi</td>\n",
       "      <td>a4</td>\n",
       "      <td>1.8</td>\n",
       "      <td>1999</td>\n",
       "      <td>4</td>\n",
       "      <td>auto(l5)</td>\n",
       "      <td>f</td>\n",
       "      <td>18</td>\n",
       "      <td>29</td>\n",
       "      <td>p</td>\n",
       "      <td>compact</td>\n",
       "    </tr>\n",
       "    <tr>\n",
       "      <th>2</th>\n",
       "      <td>audi</td>\n",
       "      <td>a4</td>\n",
       "      <td>1.8</td>\n",
       "      <td>1999</td>\n",
       "      <td>4</td>\n",
       "      <td>manual(m5)</td>\n",
       "      <td>f</td>\n",
       "      <td>21</td>\n",
       "      <td>29</td>\n",
       "      <td>p</td>\n",
       "      <td>compact</td>\n",
       "    </tr>\n",
       "    <tr>\n",
       "      <th>3</th>\n",
       "      <td>audi</td>\n",
       "      <td>a4</td>\n",
       "      <td>2.0</td>\n",
       "      <td>2008</td>\n",
       "      <td>4</td>\n",
       "      <td>manual(m6)</td>\n",
       "      <td>f</td>\n",
       "      <td>20</td>\n",
       "      <td>31</td>\n",
       "      <td>p</td>\n",
       "      <td>compact</td>\n",
       "    </tr>\n",
       "    <tr>\n",
       "      <th>4</th>\n",
       "      <td>audi</td>\n",
       "      <td>a4</td>\n",
       "      <td>2.0</td>\n",
       "      <td>2008</td>\n",
       "      <td>4</td>\n",
       "      <td>auto(av)</td>\n",
       "      <td>f</td>\n",
       "      <td>21</td>\n",
       "      <td>30</td>\n",
       "      <td>p</td>\n",
       "      <td>compact</td>\n",
       "    </tr>\n",
       "    <tr>\n",
       "      <th>5</th>\n",
       "      <td>audi</td>\n",
       "      <td>a4</td>\n",
       "      <td>2.8</td>\n",
       "      <td>1999</td>\n",
       "      <td>6</td>\n",
       "      <td>auto(l5)</td>\n",
       "      <td>f</td>\n",
       "      <td>16</td>\n",
       "      <td>26</td>\n",
       "      <td>p</td>\n",
       "      <td>compact</td>\n",
       "    </tr>\n",
       "    <tr>\n",
       "      <th>...</th>\n",
       "      <td>...</td>\n",
       "      <td>...</td>\n",
       "      <td>...</td>\n",
       "      <td>...</td>\n",
       "      <td>...</td>\n",
       "      <td>...</td>\n",
       "      <td>...</td>\n",
       "      <td>...</td>\n",
       "      <td>...</td>\n",
       "      <td>...</td>\n",
       "      <td>...</td>\n",
       "    </tr>\n",
       "    <tr>\n",
       "      <th>230</th>\n",
       "      <td>volkswagen</td>\n",
       "      <td>passat</td>\n",
       "      <td>2.0</td>\n",
       "      <td>2008</td>\n",
       "      <td>4</td>\n",
       "      <td>auto(s6)</td>\n",
       "      <td>f</td>\n",
       "      <td>19</td>\n",
       "      <td>28</td>\n",
       "      <td>p</td>\n",
       "      <td>midsize</td>\n",
       "    </tr>\n",
       "    <tr>\n",
       "      <th>231</th>\n",
       "      <td>volkswagen</td>\n",
       "      <td>passat</td>\n",
       "      <td>2.0</td>\n",
       "      <td>2008</td>\n",
       "      <td>4</td>\n",
       "      <td>manual(m6)</td>\n",
       "      <td>f</td>\n",
       "      <td>21</td>\n",
       "      <td>29</td>\n",
       "      <td>p</td>\n",
       "      <td>midsize</td>\n",
       "    </tr>\n",
       "    <tr>\n",
       "      <th>232</th>\n",
       "      <td>volkswagen</td>\n",
       "      <td>passat</td>\n",
       "      <td>2.8</td>\n",
       "      <td>1999</td>\n",
       "      <td>6</td>\n",
       "      <td>auto(l5)</td>\n",
       "      <td>f</td>\n",
       "      <td>16</td>\n",
       "      <td>26</td>\n",
       "      <td>p</td>\n",
       "      <td>midsize</td>\n",
       "    </tr>\n",
       "    <tr>\n",
       "      <th>233</th>\n",
       "      <td>volkswagen</td>\n",
       "      <td>passat</td>\n",
       "      <td>2.8</td>\n",
       "      <td>1999</td>\n",
       "      <td>6</td>\n",
       "      <td>manual(m5)</td>\n",
       "      <td>f</td>\n",
       "      <td>18</td>\n",
       "      <td>26</td>\n",
       "      <td>p</td>\n",
       "      <td>midsize</td>\n",
       "    </tr>\n",
       "    <tr>\n",
       "      <th>234</th>\n",
       "      <td>volkswagen</td>\n",
       "      <td>passat</td>\n",
       "      <td>3.6</td>\n",
       "      <td>2008</td>\n",
       "      <td>6</td>\n",
       "      <td>auto(s6)</td>\n",
       "      <td>f</td>\n",
       "      <td>17</td>\n",
       "      <td>26</td>\n",
       "      <td>p</td>\n",
       "      <td>midsize</td>\n",
       "    </tr>\n",
       "  </tbody>\n",
       "</table>\n",
       "<p>234 rows × 11 columns</p>\n",
       "</div>"
      ],
      "text/plain": [
       "    manufacturer   model  displ  year  cyl       trans drv  cty  hwy fl  \\\n",
       "1           audi      a4    1.8  1999    4    auto(l5)   f   18   29  p   \n",
       "2           audi      a4    1.8  1999    4  manual(m5)   f   21   29  p   \n",
       "3           audi      a4    2.0  2008    4  manual(m6)   f   20   31  p   \n",
       "4           audi      a4    2.0  2008    4    auto(av)   f   21   30  p   \n",
       "5           audi      a4    2.8  1999    6    auto(l5)   f   16   26  p   \n",
       "..           ...     ...    ...   ...  ...         ...  ..  ...  ... ..   \n",
       "230   volkswagen  passat    2.0  2008    4    auto(s6)   f   19   28  p   \n",
       "231   volkswagen  passat    2.0  2008    4  manual(m6)   f   21   29  p   \n",
       "232   volkswagen  passat    2.8  1999    6    auto(l5)   f   16   26  p   \n",
       "233   volkswagen  passat    2.8  1999    6  manual(m5)   f   18   26  p   \n",
       "234   volkswagen  passat    3.6  2008    6    auto(s6)   f   17   26  p   \n",
       "\n",
       "       class  \n",
       "1    compact  \n",
       "2    compact  \n",
       "3    compact  \n",
       "4    compact  \n",
       "5    compact  \n",
       "..       ...  \n",
       "230  midsize  \n",
       "231  midsize  \n",
       "232  midsize  \n",
       "233  midsize  \n",
       "234  midsize  \n",
       "\n",
       "[234 rows x 11 columns]"
      ]
     },
     "metadata": {},
     "output_type": "display_data"
    }
   ],
   "source": [
    "dataset = pd.read_excel('/Users/iganghui/TIL/Python/Python_data_science/Data/mpg_visualization.xlsx',index_col=0,header=0)\n",
    "display(dataset)"
   ]
  },
  {
   "cell_type": "code",
   "execution_count": 17,
   "id": "c1514508",
   "metadata": {},
   "outputs": [
    {
     "data": {
      "text/plain": [
       "<AxesSubplot:>"
      ]
     },
     "execution_count": 17,
     "metadata": {},
     "output_type": "execute_result"
    },
    {
     "data": {
      "image/png": "[encoded data removed]",
      "text/plain": [
       "<Figure size 432x288 with 1 Axes>"
      ]
     },
     "metadata": {
      "needs_background": "light"
     },
     "output_type": "display_data"
    }
   ],
   "source": [
    "# 양적 자료의 데이터 분포 확인(boxplot)\n",
    "dataset[['cyl','hwy','cty','displ']].boxplot()"
   ]
  },
  {
   "cell_type": "code",
   "execution_count": 22,
   "id": "485fa103",
   "metadata": {
    "scrolled": true
   },
   "outputs": [
    {
     "data": {
      "text/plain": [
       "model                 \n",
       "caravan 2wd               11\n",
       "ram 1500 pickup 4wd       10\n",
       "civic                      9\n",
       "jetta                      9\n",
       "mustang                    9\n",
       "dakota pickup 4wd          9\n",
       "impreza awd                8\n",
       "grand cherokee 4wd         8\n",
       "a4 quattro                 8\n",
       "camry solara               7\n",
       "a4                         7\n",
       "passat                     7\n",
       "camry                      7\n",
       "durango 4wd                7\n",
       "sonata                     7\n",
       "tiburon                    7\n",
       "f150 pickup 4wd            7\n",
       "toyota tacoma 4wd          7\n",
       "new beetle                 6\n",
       "4runner 4wd                6\n",
       "forester awd               6\n",
       "explorer 4wd               6\n",
       "altima                     6\n",
       "gti                        5\n",
       "c1500 suburban 2wd         5\n",
       "corolla                    5\n",
       "corvette                   5\n",
       "grand prix                 5\n",
       "malibu                     5\n",
       "mountaineer 4wd            4\n",
       "pathfinder 4wd             4\n",
       "range rover                4\n",
       "k1500 tahoe 4wd            4\n",
       "expedition 2wd             3\n",
       "maxima                     3\n",
       "a6 quattro                 3\n",
       "navigator 2wd              3\n",
       "land cruiser wagon 4wd     2\n",
       "dtype: int64"
      ]
     },
     "execution_count": 22,
     "metadata": {},
     "output_type": "execute_result"
    }
   ],
   "source": [
    "# 질적 자료에 대한 데이터 빈도 확인\n",
    "# 제조회사, 모델명, 변속기 종류, 구동방식, 연료종류, 자동차 종류 \n",
    "dataset[['manufacturer']].value_counts()\n",
    "dataset[['model']].value_counts()"
   ]
  },
  {
   "cell_type": "code",
   "execution_count": 15,
   "id": "a3196a41",
   "metadata": {},
   "outputs": [
    {
     "name": "stdout",
     "output_type": "stream",
     "text": [
      "25.96319018404908\n",
      "18.07894736842105\n"
     ]
    }
   ],
   "source": [
    "# 문제01]\n",
    "# 자동차 배기량(displ)에 따라 고속도로 연비(hwy)가 다른지를 알아보자\n",
    "# 배기량이 4 이하인 자동차화 5이상인 자동차 중 어떤 자동차의 고속도로연비가 평균적으로 \n",
    "# 높은지 알아보자\n",
    "\n",
    "print(dataset.query('displ<=4')['hwy'].mean())\n",
    "print(dataset.query('displ>=5')['hwy'].mean())"
   ]
  },
  {
   "cell_type": "code",
   "execution_count": 31,
   "id": "8f811c5d",
   "metadata": {},
   "outputs": [
    {
     "name": "stdout",
     "output_type": "stream",
     "text": [
      "18.529411764705884\n",
      "17.61111111111111\n"
     ]
    }
   ],
   "source": [
    "# 문제 02]\n",
    "# 자동차 제조 회사에 따라 도시 연비가 다른지 알아보려고 한다. \n",
    "# audi와 toyota 중 어느 manufacturer(자동차 제조 회사)의 cty(도시연비)가 평균적으로 더 높은지 알아보시오.\n",
    "\n",
    "print(dataset.query(\"manufacturer=='toyota'\")['cty'].mean())\n",
    "print(dataset.query(\"manufacturer=='audi'\")['cty'].mean())"
   ]
  },
  {
   "cell_type": "code",
   "execution_count": 34,
   "id": "8b64fabe",
   "metadata": {},
   "outputs": [
    {
     "data": {
      "text/plain": [
       "22.50943396226415"
      ]
     },
     "execution_count": 34,
     "metadata": {},
     "output_type": "execute_result"
    }
   ],
   "source": [
    "# 문제 03]\n",
    "# chevrolet, ford, honda 자동차의 고속도로 연비 평균을 알아보려고 한다. \n",
    "# 이 회사들의 데이터를 추출한 후 hwy 전체 평균을 확인하시오.\n",
    "\n",
    "mask = dataset['manufacturer'].isin(['chevrolet','ford','honda'])\n",
    "dataset[mask]['hwy'].mean()"
   ]
  },
  {
   "cell_type": "code",
   "execution_count": 39,
   "id": "48712d74",
   "metadata": {},
   "outputs": [
    {
     "data": {
      "text/html": [
       "<div>\n",
       "<style scoped>\n",
       "    .dataframe tbody tr th:only-of-type {\n",
       "        vertical-align: middle;\n",
       "    }\n",
       "\n",
       "    .dataframe tbody tr th {\n",
       "        vertical-align: top;\n",
       "    }\n",
       "\n",
       "    .dataframe thead th {\n",
       "        text-align: right;\n",
       "    }\n",
       "</style>\n",
       "<table border=\"1\" class=\"dataframe\">\n",
       "  <thead>\n",
       "    <tr style=\"text-align: right;\">\n",
       "      <th></th>\n",
       "      <th>hwy</th>\n",
       "    </tr>\n",
       "    <tr>\n",
       "      <th>drv</th>\n",
       "      <th></th>\n",
       "    </tr>\n",
       "  </thead>\n",
       "  <tbody>\n",
       "    <tr>\n",
       "      <th>4</th>\n",
       "      <td>19.174757</td>\n",
       "    </tr>\n",
       "    <tr>\n",
       "      <th>f</th>\n",
       "      <td>28.160377</td>\n",
       "    </tr>\n",
       "    <tr>\n",
       "      <th>r</th>\n",
       "      <td>21.000000</td>\n",
       "    </tr>\n",
       "  </tbody>\n",
       "</table>\n",
       "</div>"
      ],
      "text/plain": [
       "           hwy\n",
       "drv           \n",
       "4    19.174757\n",
       "f    28.160377\n",
       "r    21.000000"
      ]
     },
     "execution_count": 39,
     "metadata": {},
     "output_type": "execute_result"
    }
   ],
   "source": [
    "# 구동방식(drv) 별 고속도로 연비(hwy)평균\n",
    "dataset.groupby('drv')[['hwy']].mean()"
   ]
  },
  {
   "cell_type": "code",
   "execution_count": 80,
   "id": "a6c717d9",
   "metadata": {},
   "outputs": [
    {
     "data": {
      "text/html": [
       "<div>\n",
       "<style scoped>\n",
       "    .dataframe tbody tr th:only-of-type {\n",
       "        vertical-align: middle;\n",
       "    }\n",
       "\n",
       "    .dataframe tbody tr th {\n",
       "        vertical-align: top;\n",
       "    }\n",
       "\n",
       "    .dataframe thead th {\n",
       "        text-align: right;\n",
       "    }\n",
       "</style>\n",
       "<table border=\"1\" class=\"dataframe\">\n",
       "  <thead>\n",
       "    <tr style=\"text-align: right;\">\n",
       "      <th></th>\n",
       "      <th>manufacturer</th>\n",
       "      <th>model</th>\n",
       "      <th>displ</th>\n",
       "      <th>year</th>\n",
       "      <th>cyl</th>\n",
       "      <th>trans</th>\n",
       "      <th>drv</th>\n",
       "      <th>cty</th>\n",
       "      <th>hwy</th>\n",
       "      <th>fl</th>\n",
       "      <th>class</th>\n",
       "    </tr>\n",
       "  </thead>\n",
       "  <tbody>\n",
       "    <tr>\n",
       "      <th>4</th>\n",
       "      <td>audi</td>\n",
       "      <td>a4</td>\n",
       "      <td>2.0</td>\n",
       "      <td>2008</td>\n",
       "      <td>4</td>\n",
       "      <td>auto(av)</td>\n",
       "      <td>f</td>\n",
       "      <td>21</td>\n",
       "      <td>NaN</td>\n",
       "      <td>p</td>\n",
       "      <td>compact</td>\n",
       "    </tr>\n",
       "    <tr>\n",
       "      <th>5</th>\n",
       "      <td>audi</td>\n",
       "      <td>a4</td>\n",
       "      <td>2.8</td>\n",
       "      <td>1999</td>\n",
       "      <td>6</td>\n",
       "      <td>auto(l5)</td>\n",
       "      <td>f</td>\n",
       "      <td>16</td>\n",
       "      <td>NaN</td>\n",
       "      <td>p</td>\n",
       "      <td>compact</td>\n",
       "    </tr>\n",
       "    <tr>\n",
       "      <th>19</th>\n",
       "      <td>chevrolet</td>\n",
       "      <td>c1500 suburban 2wd</td>\n",
       "      <td>5.3</td>\n",
       "      <td>2008</td>\n",
       "      <td>8</td>\n",
       "      <td>auto(l4)</td>\n",
       "      <td>r</td>\n",
       "      <td>14</td>\n",
       "      <td>NaN</td>\n",
       "      <td>r</td>\n",
       "      <td>suv</td>\n",
       "    </tr>\n",
       "    <tr>\n",
       "      <th>27</th>\n",
       "      <td>chevrolet</td>\n",
       "      <td>corvette</td>\n",
       "      <td>6.2</td>\n",
       "      <td>2008</td>\n",
       "      <td>8</td>\n",
       "      <td>auto(s6)</td>\n",
       "      <td>r</td>\n",
       "      <td>15</td>\n",
       "      <td>NaN</td>\n",
       "      <td>p</td>\n",
       "      <td>2seater</td>\n",
       "    </tr>\n",
       "    <tr>\n",
       "      <th>28</th>\n",
       "      <td>chevrolet</td>\n",
       "      <td>corvette</td>\n",
       "      <td>7.0</td>\n",
       "      <td>2008</td>\n",
       "      <td>8</td>\n",
       "      <td>manual(m6)</td>\n",
       "      <td>r</td>\n",
       "      <td>15</td>\n",
       "      <td>NaN</td>\n",
       "      <td>p</td>\n",
       "      <td>2seater</td>\n",
       "    </tr>\n",
       "    <tr>\n",
       "      <th>...</th>\n",
       "      <td>...</td>\n",
       "      <td>...</td>\n",
       "      <td>...</td>\n",
       "      <td>...</td>\n",
       "      <td>...</td>\n",
       "      <td>...</td>\n",
       "      <td>...</td>\n",
       "      <td>...</td>\n",
       "      <td>...</td>\n",
       "      <td>...</td>\n",
       "      <td>...</td>\n",
       "    </tr>\n",
       "    <tr>\n",
       "      <th>221</th>\n",
       "      <td>volkswagen</td>\n",
       "      <td>jetta</td>\n",
       "      <td>2.8</td>\n",
       "      <td>1999</td>\n",
       "      <td>6</td>\n",
       "      <td>manual(m5)</td>\n",
       "      <td>f</td>\n",
       "      <td>17</td>\n",
       "      <td>NaN</td>\n",
       "      <td>r</td>\n",
       "      <td>compact</td>\n",
       "    </tr>\n",
       "    <tr>\n",
       "      <th>226</th>\n",
       "      <td>volkswagen</td>\n",
       "      <td>new beetle</td>\n",
       "      <td>2.5</td>\n",
       "      <td>2008</td>\n",
       "      <td>5</td>\n",
       "      <td>manual(m5)</td>\n",
       "      <td>f</td>\n",
       "      <td>20</td>\n",
       "      <td>NaN</td>\n",
       "      <td>r</td>\n",
       "      <td>subcompact</td>\n",
       "    </tr>\n",
       "    <tr>\n",
       "      <th>228</th>\n",
       "      <td>volkswagen</td>\n",
       "      <td>passat</td>\n",
       "      <td>1.8</td>\n",
       "      <td>1999</td>\n",
       "      <td>4</td>\n",
       "      <td>manual(m5)</td>\n",
       "      <td>f</td>\n",
       "      <td>21</td>\n",
       "      <td>NaN</td>\n",
       "      <td>p</td>\n",
       "      <td>midsize</td>\n",
       "    </tr>\n",
       "    <tr>\n",
       "      <th>230</th>\n",
       "      <td>volkswagen</td>\n",
       "      <td>passat</td>\n",
       "      <td>2.0</td>\n",
       "      <td>2008</td>\n",
       "      <td>4</td>\n",
       "      <td>auto(s6)</td>\n",
       "      <td>f</td>\n",
       "      <td>19</td>\n",
       "      <td>NaN</td>\n",
       "      <td>p</td>\n",
       "      <td>midsize</td>\n",
       "    </tr>\n",
       "    <tr>\n",
       "      <th>231</th>\n",
       "      <td>volkswagen</td>\n",
       "      <td>passat</td>\n",
       "      <td>2.0</td>\n",
       "      <td>2008</td>\n",
       "      <td>4</td>\n",
       "      <td>manual(m6)</td>\n",
       "      <td>f</td>\n",
       "      <td>21</td>\n",
       "      <td>NaN</td>\n",
       "      <td>p</td>\n",
       "      <td>midsize</td>\n",
       "    </tr>\n",
       "  </tbody>\n",
       "</table>\n",
       "<p>94 rows × 11 columns</p>\n",
       "</div>"
      ],
      "text/plain": [
       "    manufacturer               model  displ  year  cyl       trans drv  cty  \\\n",
       "4           audi                  a4    2.0  2008    4    auto(av)   f   21   \n",
       "5           audi                  a4    2.8  1999    6    auto(l5)   f   16   \n",
       "19     chevrolet  c1500 suburban 2wd    5.3  2008    8    auto(l4)   r   14   \n",
       "27     chevrolet            corvette    6.2  2008    8    auto(s6)   r   15   \n",
       "28     chevrolet            corvette    7.0  2008    8  manual(m6)   r   15   \n",
       "..           ...                 ...    ...   ...  ...         ...  ..  ...   \n",
       "221   volkswagen               jetta    2.8  1999    6  manual(m5)   f   17   \n",
       "226   volkswagen          new beetle    2.5  2008    5  manual(m5)   f   20   \n",
       "228   volkswagen              passat    1.8  1999    4  manual(m5)   f   21   \n",
       "230   volkswagen              passat    2.0  2008    4    auto(s6)   f   19   \n",
       "231   volkswagen              passat    2.0  2008    4  manual(m6)   f   21   \n",
       "\n",
       "     hwy fl       class  \n",
       "4    NaN  p     compact  \n",
       "5    NaN  p     compact  \n",
       "19   NaN  r         suv  \n",
       "27   NaN  p     2seater  \n",
       "28   NaN  p     2seater  \n",
       "..   ... ..         ...  \n",
       "221  NaN  r     compact  \n",
       "226  NaN  r  subcompact  \n",
       "228  NaN  p     midsize  \n",
       "230  NaN  p     midsize  \n",
       "231  NaN  p     midsize  \n",
       "\n",
       "[94 rows x 11 columns]"
      ]
     },
     "execution_count": 80,
     "metadata": {},
     "output_type": "execute_result"
    }
   ],
   "source": [
    "dataset_na[dataset_na['hwy'].isna()]"
   ]
  },
  {
   "cell_type": "code",
   "execution_count": 145,
   "id": "6d464db8",
   "metadata": {},
   "outputs": [
    {
     "data": {
      "text/plain": [
       "<AxesSubplot:xlabel='drv'>"
      ]
     },
     "execution_count": 145,
     "metadata": {},
     "output_type": "execute_result"
    },
    {
     "data": {
      "image/png": "[encoded data removed]",
      "text/plain": [
       "<Figure size 432x288 with 1 Axes>"
      ]
     },
     "metadata": {
      "needs_background": "light"
     },
     "output_type": "display_data"
    },
    {
     "data": {
      "image/png": "[encoded data removed]",
      "text/plain": [
       "<Figure size 432x288 with 1 Axes>"
      ]
     },
     "metadata": {
      "needs_background": "light"
     },
     "output_type": "display_data"
    }
   ],
   "source": [
    "np.random.seed(100)\n",
    "# 임의적으로 결측값 처리를 위해서 더미 값을 넣어보도록 하자\n",
    "dataset_na = dataset.copy()\n",
    "dataset_na.loc[dataset_na.sample(frac=0.4).index,'hwy'] = np.nan\n",
    "\n",
    "# 데이터 전처리 과정에서 결측값 확인하기\n",
    "dataset_na['hwy'].isna().any()\n",
    "\n",
    "# hwy변수의 결측값을 제외하고, 어떤 구동방식의 고속도로평균 연비가 높은지 알아보자\n",
    "dataset_na.groupby('drv')[['hwy']].mean()\n",
    "\n",
    "# 구동방식별 연비평균을 비교하기 위한 막대 그래프로 시각화 해 보자\n",
    "# 구동방식별 고속도로, 도시연비의 평균을 구해보고 이를 데이터 프레임으로 만들어서 막대바로 시각화 해 보자\n",
    "dataset_na.groupby('drv')[['hwy']].mean().plot(kind='bar',ylim=(0,30))\n",
    "dataset_na.groupby('drv')[['cty']].mean().plot(kind='bar',ylim=(0,30))"
   ]
  },
  {
   "cell_type": "code",
   "execution_count": 132,
   "id": "c22378ee",
   "metadata": {},
   "outputs": [
    {
     "name": "stdout",
     "output_type": "stream",
     "text": [
      "class\n",
      "2seater        5\n",
      "compact       47\n",
      "midsize       41\n",
      "minivan       11\n",
      "pickup        33\n",
      "subcompact    35\n",
      "suv           62\n",
      "dtype: int64\n"
     ]
    },
    {
     "data": {
      "text/plain": [
       "<AxesSubplot:xlabel='class', ylabel='갯수'>"
      ]
     },
     "execution_count": 132,
     "metadata": {},
     "output_type": "execute_result"
    },
    {
     "data": {
      "image/png": "[encoded data removed]",
      "text/plain": [
       "<Figure size 432x288 with 1 Axes>"
      ]
     },
     "metadata": {
      "needs_background": "light"
     },
     "output_type": "display_data"
    }
   ],
   "source": [
    "# 자동차(class)중에서 어떤 자동차가 가장 많으지 알아보려고 한다.\n",
    "# 종류별 빈도를 막대바로 시각화 해 보자\n",
    "\n",
    "class_series = dataset.groupby('class').size()\n",
    "print(class_series)\n",
    "class_series.plot(kind='bar',ylabel='갯수')"
   ]
  },
  {
   "cell_type": "code",
   "execution_count": 141,
   "id": "a6a72359",
   "metadata": {},
   "outputs": [
    {
     "data": {
      "text/html": [
       "<div>\n",
       "<style scoped>\n",
       "    .dataframe tbody tr th:only-of-type {\n",
       "        vertical-align: middle;\n",
       "    }\n",
       "\n",
       "    .dataframe tbody tr th {\n",
       "        vertical-align: top;\n",
       "    }\n",
       "\n",
       "    .dataframe thead th {\n",
       "        text-align: right;\n",
       "    }\n",
       "</style>\n",
       "<table border=\"1\" class=\"dataframe\">\n",
       "  <thead>\n",
       "    <tr style=\"text-align: right;\">\n",
       "      <th></th>\n",
       "      <th>cty</th>\n",
       "    </tr>\n",
       "    <tr>\n",
       "      <th>manufacturer</th>\n",
       "      <th></th>\n",
       "    </tr>\n",
       "  </thead>\n",
       "  <tbody>\n",
       "    <tr>\n",
       "      <th>subaru</th>\n",
       "      <td>18.833333</td>\n",
       "    </tr>\n",
       "    <tr>\n",
       "      <th>toyota</th>\n",
       "      <td>14.375000</td>\n",
       "    </tr>\n",
       "    <tr>\n",
       "      <th>nissan</th>\n",
       "      <td>13.750000</td>\n",
       "    </tr>\n",
       "    <tr>\n",
       "      <th>jeep</th>\n",
       "      <td>13.500000</td>\n",
       "    </tr>\n",
       "    <tr>\n",
       "      <th>mercury</th>\n",
       "      <td>13.250000</td>\n",
       "    </tr>\n",
       "  </tbody>\n",
       "</table>\n",
       "</div>"
      ],
      "text/plain": [
       "                    cty\n",
       "manufacturer           \n",
       "subaru        18.833333\n",
       "toyota        14.375000\n",
       "nissan        13.750000\n",
       "jeep          13.500000\n",
       "mercury       13.250000"
      ]
     },
     "metadata": {},
     "output_type": "display_data"
    },
    {
     "data": {
      "text/plain": [
       "<AxesSubplot:xlabel='manufacturer', ylabel='도시 연비'>"
      ]
     },
     "execution_count": 141,
     "metadata": {},
     "output_type": "execute_result"
    },
    {
     "data": {
      "image/png": "[encoded data removed]",
      "text/plain": [
       "<Figure size 432x288 with 1 Axes>"
      ]
     },
     "metadata": {
      "needs_background": "light"
     },
     "output_type": "display_data"
    }
   ],
   "source": [
    "# 어떤 회사에서 생산한 suv 차종의 도시 엽니가 높은지를 알아보려고 한다\n",
    "# suv 차종을 대상으로 평균 도시연비가 가장 높은 회사 다섯곳을 막대 바로 시각화 해 보자\n",
    "suv_df = dataset[dataset['class']=='suv']\n",
    "display(suv_df.groupby('manufacturer')[['cty']].mean().sort_values('cty',ascending=False).head(5))\n",
    "suv_df.groupby('manufacturer')['cty'].mean().sort_values(ascending=False).head(5).plot(kind='bar',ylabel='도시 연비')"
   ]
  }
 ],
 "metadata": {
  "kernelspec": {
   "display_name": "Python 3 (ipykernel)",
   "language": "python",
   "name": "python3"
  },
  "language_info": {
   "codemirror_mode": {
    "name": "ipython",
    "version": 3
   },
   "file_extension": ".py",
   "mimetype": "text/x-python",
   "name": "python",
   "nbconvert_exporter": "python",
   "pygments_lexer": "ipython3",
   "version": "3.8.11"
  }
 },
 "nbformat": 4,
 "nbformat_minor": 5
}
