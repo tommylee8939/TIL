{
 "cells": [
  {
   "cell_type": "code",
   "execution_count": 1,
   "metadata": {},
   "outputs": [],
   "source": [
    "import pandas as pd\n",
    "import numpy as np"
   ]
  },
  {
   "cell_type": "markdown",
   "metadata": {},
   "source": [
    "- pandas의 기본객체는 Series DataFrame Index가 존재한다\n",
    "- Series와 DataFrame은 단순 정수형 인덱스가 아닌 레이블로 식별되는 배열"
   ]
  },
  {
   "cell_type": "markdown",
   "metadata": {},
   "source": [
    "### Series\n",
    "- numpy의 ndarray를 기반으로 한 인덱싱된 데이터의 1차원 배열이다\n",
    "- 일련의 값과 인덱스를 모두 포함하고있으면 => values, index속성으로 접근가능하다\n",
    "- index를 명시적으로 지정가능하다\n",
    "- index를 명시하지 않을시 ndarray와 같이 0-based 인덱스가 자동으로 생성된다\n",
    "- dtype도 명시적으로 지정 가능하다 지정해주지 않으면 알아서 들어간다\n"
   ]
  },
  {
   "cell_type": "code",
   "execution_count": 38,
   "metadata": {},
   "outputs": [
    {
     "name": "stdout",
     "output_type": "stream",
     "text": [
      "0    1\n",
      "1    2\n",
      "2    3\n",
      "3    4\n",
      "dtype: int64\n"
     ]
    }
   ],
   "source": [
    "# 간단한 예시\n",
    "series01 = pd.Series(np.array([1,2,3,4]))\n",
    "print(series01) # 왼쪽에 index와 함께 출력된다"
   ]
  },
  {
   "cell_type": "code",
   "execution_count": 7,
   "metadata": {},
   "outputs": [
    {
     "name": "stdout",
     "output_type": "stream",
     "text": [
      "0    1.0\n",
      "1    2.0\n",
      "2    3.0\n",
      "3    4.0\n",
      "dtype: float64\n"
     ]
    }
   ],
   "source": [
    "# dtype 명시적으로 지정가능\n",
    "series01 = pd.Series(np.array([1,2,3,4]),dtype=float)\n",
    "print(series01)"
   ]
  },
  {
   "cell_type": "markdown",
   "metadata": {},
   "source": [
    "- ndarray처럼 반드시 homogeneous한 배열일 필요가 없다"
   ]
  },
  {
   "cell_type": "code",
   "execution_count": 3,
   "metadata": {},
   "outputs": [
    {
     "name": "stdout",
     "output_type": "stream",
     "text": [
      "0    1\n",
      "1    2\n",
      "2    3\n",
      "3    a\n",
      "dtype: object\n"
     ]
    }
   ],
   "source": [
    "series01 = pd.Series([1,2,3,'a'])\n",
    "print(series01)"
   ]
  },
  {
   "cell_type": "markdown",
   "metadata": {},
   "source": [
    "#### series의 유용한 속성들\n",
    "- index values\n",
    "- series.items => (index,values)로 형식으로 반복문 가능\n",
    "- name : series 자체의 이름을 의미한다 => 나중에 DataFrame에서 컬럼명 역할을한다\n",
    "- index.name : 인덱스의 이름을 의미한다"
   ]
  },
  {
   "cell_type": "code",
   "execution_count": null,
   "metadata": {},
   "outputs": [],
   "source": [
    "# values index\n",
    "series01 = pd.Series(np.array([1,2,3,4]))\n",
    "print(series01.values)\n",
    "print(series01.index)  # type이 독특하다는 사실을 기억해두자"
   ]
  },
  {
   "cell_type": "code",
   "execution_count": 15,
   "metadata": {},
   "outputs": [
    {
     "name": "stdout",
     "output_type": "stream",
     "text": [
      "a 0\n",
      "b 1\n",
      "c 2\n",
      "d 3\n",
      "e 4\n"
     ]
    }
   ],
   "source": [
    "# series.items()\n",
    "series01 = pd.Series(range(5),index=['a','b','c','d','e'])\n",
    "for value,index in series01.items():\n",
    "    print(value,index)"
   ]
  },
  {
   "cell_type": "code",
   "execution_count": 24,
   "metadata": {},
   "outputs": [
    {
     "name": "stdout",
     "output_type": "stream",
     "text": [
      "a    0\n",
      "b    1\n",
      "c    2\n",
      "d    3\n",
      "e    4\n",
      "dtype: int64\n",
      "--------------------\n",
      "문자\n",
      "a    0\n",
      "b    1\n",
      "c    2\n",
      "d    3\n",
      "e    4\n",
      "Name: 숫자, dtype: int64\n"
     ]
    }
   ],
   "source": [
    "# name index.name\n",
    "ary = pd.Series(range(5),index = ['a','b','c','d','e'])\n",
    "print(ary)\n",
    "print(\"-\"*20)\n",
    "ary.name = '숫자'\n",
    "ary.index.name = '문자'\n",
    "print(ary)"
   ]
  },
  {
   "cell_type": "code",
   "execution_count": 25,
   "metadata": {},
   "outputs": [
    {
     "name": "stdout",
     "output_type": "stream",
     "text": [
      "i\n",
      "0    0\n",
      "1    1\n",
      "2    2\n",
      "3    3\n",
      "4    4\n",
      "Name: name, dtype: int64\n"
     ]
    }
   ],
   "source": [
    "# values index name index.name 한번에 creation\n",
    "series01 = pd.Series(range(5),pd.Series(range(5),name='i'),name='name')\n",
    "print(series01)"
   ]
  },
  {
   "cell_type": "markdown",
   "metadata": {},
   "source": [
    "### Series creation\n",
    "#### Series 차원에서 key값은 index다\n",
    "1. only data\n",
    "2. dict를 활용한 creation\n",
    "    - dict의 키가 index를 지칭하게 된다\n",
    "- 위에서의 data는 scalar list tuple range ndarray등이 가능하다, scalar일 경우 동일한 값들로 채워진다"
   ]
  },
  {
   "cell_type": "code",
   "execution_count": 29,
   "metadata": {},
   "outputs": [
    {
     "name": "stdout",
     "output_type": "stream",
     "text": [
      "0    1\n",
      "1    2\n",
      "2    3\n",
      "3    4\n",
      "dtype: int64\n",
      "0    1\n",
      "1    2\n",
      "2    3\n",
      "3    4\n",
      "dtype: int64\n",
      "0    1\n",
      "1    2\n",
      "2    3\n",
      "3    4\n",
      "dtype: int64\n",
      "0    1\n",
      "1    2\n",
      "2    3\n",
      "3    4\n",
      "dtype: int64\n"
     ]
    }
   ],
   "source": [
    "# only data => np.array()생성할때 data형식 거의 다 가능한거 같다\n",
    "series01 = pd.Series([1,2,3,4]) # list\n",
    "print(series01) \n",
    "series01 = pd.Series((1,2,3,4)) # tuple\n",
    "print(series01)\n",
    "series01 = pd.Series(range(1,5))# range\n",
    "print(series01)\n",
    "series01 = pd.Series(np.array([1,2,3,4])) # ndarray\n",
    "print(series01)"
   ]
  },
  {
   "cell_type": "code",
   "execution_count": 31,
   "metadata": {},
   "outputs": [
    {
     "name": "stdout",
     "output_type": "stream",
     "text": [
      "a    1\n",
      "b    2\n",
      "c    3\n",
      "d    4\n",
      "dtype: int64\n"
     ]
    }
   ],
   "source": [
    "# data + index\n",
    "series02 = pd.Series(np.array([1,2,3,4]),index =['a','b','c','d'])\n",
    "print(series02)"
   ]
  },
  {
   "cell_type": "code",
   "execution_count": 35,
   "metadata": {},
   "outputs": [
    {
     "name": "stdout",
     "output_type": "stream",
     "text": [
      "0    5\n",
      "dtype: int64\n",
      "--------------------\n",
      "a    5\n",
      "b    5\n",
      "c    5\n",
      "d    5\n",
      "dtype: int64\n"
     ]
    }
   ],
   "source": [
    "# when data is scalar \n",
    "series04 = pd.Series(5)\n",
    "print(series04)\n",
    "print(\"-\"*20)\n",
    "\n",
    "# scalar일 경우 index의 갯수에 따라 반복되는 특징이 있다\n",
    "series04 = pd.Series(5,index =['a','b','c','d'])\n",
    "print(series04)"
   ]
  },
  {
   "cell_type": "code",
   "execution_count": 36,
   "metadata": {},
   "outputs": [
    {
     "name": "stdout",
     "output_type": "stream",
     "text": [
      "a    4\n",
      "b    3\n",
      "c    2\n",
      "d    1\n",
      "dtype: int64\n"
     ]
    }
   ],
   "source": [
    "# when data is dict\n",
    "# dict의 키가 indx가 된다\n",
    "series05 = pd.Series({'a':4,\"b\":3,\"c\":2,\"d\":1})\n",
    "print(series05)"
   ]
  },
  {
   "cell_type": "markdown",
   "metadata": {},
   "source": [
    "#### ⭐️이미 index가 존재하는 경우 index를 명시적으로 주면?\n",
    "- 명시적으로 주어진 index에 해당하는 값들만 생성된다"
   ]
  },
  {
   "cell_type": "code",
   "execution_count": 56,
   "metadata": {},
   "outputs": [
    {
     "name": "stdout",
     "output_type": "stream",
     "text": [
      "a    4\n",
      "b    3\n",
      "dtype: int64\n"
     ]
    }
   ],
   "source": [
    "series05 = pd.Series({'a':4,\"b\":3,\"c\":2,\"d\":1},index =['a','b'])\n",
    "print(series05)\n"
   ]
  },
  {
   "cell_type": "markdown",
   "metadata": {},
   "source": [
    "#### ⭐️index 재사용 가능하다"
   ]
  },
  {
   "cell_type": "code",
   "execution_count": 72,
   "metadata": {},
   "outputs": [
    {
     "name": "stdout",
     "output_type": "stream",
     "text": [
      "a    1\n",
      "b    2\n",
      "c    3\n",
      "d    4\n",
      "dtype: int64\n"
     ]
    }
   ],
   "source": [
    "series01 = pd.Series(np.array([1,2,3,4]),index =['a','b','c','d'])\n",
    "series02 = pd.Series(np.array([1,2,3,4]),index=series01.index)\n",
    "print(series02)"
   ]
  },
  {
   "cell_type": "markdown",
   "metadata": {},
   "source": [
    "### series 연산\n",
    "- 벡터 연산을 지원한다\n",
    "- index를 기준으로 연산된다\n",
    "- index가 다를시 결과는 NaN이다"
   ]
  },
  {
   "cell_type": "markdown",
   "metadata": {},
   "source": [
    "#### 1.pair가 맞을시"
   ]
  },
  {
   "cell_type": "code",
   "execution_count": 75,
   "metadata": {},
   "outputs": [],
   "source": [
    "s1 = pd.Series([1,2,3,4],index=['a','b','c','d'])\n",
    "s2 = pd.Series([1,2,3,4],index=['d','c','b','a'])"
   ]
  },
  {
   "cell_type": "code",
   "execution_count": 82,
   "metadata": {},
   "outputs": [
    {
     "data": {
      "text/plain": [
       "a    2\n",
       "b    3\n",
       "c    4\n",
       "d    5\n",
       "dtype: int64"
      ]
     },
     "execution_count": 82,
     "metadata": {},
     "output_type": "execute_result"
    }
   ],
   "source": [
    "# scalar도 지원\n",
    "s1+1"
   ]
  },
  {
   "cell_type": "code",
   "execution_count": 77,
   "metadata": {},
   "outputs": [
    {
     "data": {
      "text/plain": [
       "a    5\n",
       "b    5\n",
       "c    5\n",
       "d    5\n",
       "dtype: int64"
      ]
     },
     "execution_count": 77,
     "metadata": {},
     "output_type": "execute_result"
    }
   ],
   "source": [
    "s1+s2"
   ]
  },
  {
   "cell_type": "code",
   "execution_count": 78,
   "metadata": {},
   "outputs": [
    {
     "data": {
      "text/plain": [
       "a    0.250000\n",
       "b    0.666667\n",
       "c    1.500000\n",
       "d    4.000000\n",
       "dtype: float64"
      ]
     },
     "execution_count": 78,
     "metadata": {},
     "output_type": "execute_result"
    }
   ],
   "source": [
    "s1/s2"
   ]
  },
  {
   "cell_type": "code",
   "execution_count": 79,
   "metadata": {},
   "outputs": [
    {
     "data": {
      "text/plain": [
       "a   -3\n",
       "b   -1\n",
       "c    1\n",
       "d    3\n",
       "dtype: int64"
      ]
     },
     "execution_count": 79,
     "metadata": {},
     "output_type": "execute_result"
    }
   ],
   "source": [
    "s1-s2"
   ]
  },
  {
   "cell_type": "code",
   "execution_count": 80,
   "metadata": {},
   "outputs": [
    {
     "data": {
      "text/plain": [
       "a    1\n",
       "b    2\n",
       "c    1\n",
       "d    0\n",
       "dtype: int64"
      ]
     },
     "execution_count": 80,
     "metadata": {},
     "output_type": "execute_result"
    }
   ],
   "source": [
    "s1%s2"
   ]
  },
  {
   "cell_type": "markdown",
   "metadata": {},
   "source": [
    "#### 2.pair 가 맞지 않을시"
   ]
  },
  {
   "cell_type": "code",
   "execution_count": 84,
   "metadata": {},
   "outputs": [],
   "source": [
    "s1 = pd.Series([1,2,3,4,5],index=['a','b','c','d','k'])\n",
    "s2 = pd.Series([1,2,3,4,5],index=['d','c','b','a','j'])"
   ]
  },
  {
   "cell_type": "code",
   "execution_count": 85,
   "metadata": {},
   "outputs": [
    {
     "data": {
      "text/plain": [
       "a    5.0\n",
       "b    5.0\n",
       "c    5.0\n",
       "d    5.0\n",
       "j    NaN\n",
       "k    NaN\n",
       "dtype: float64"
      ]
     },
     "execution_count": 85,
     "metadata": {},
     "output_type": "execute_result"
    }
   ],
   "source": [
    "s1+s2"
   ]
  },
  {
   "cell_type": "code",
   "execution_count": 86,
   "metadata": {},
   "outputs": [
    {
     "data": {
      "text/plain": [
       "a    0.250000\n",
       "b    0.666667\n",
       "c    1.500000\n",
       "d    4.000000\n",
       "j         NaN\n",
       "k         NaN\n",
       "dtype: float64"
      ]
     },
     "execution_count": 86,
     "metadata": {},
     "output_type": "execute_result"
    }
   ],
   "source": [
    "s1/s2"
   ]
  },
  {
   "cell_type": "code",
   "execution_count": 87,
   "metadata": {},
   "outputs": [
    {
     "data": {
      "text/plain": [
       "a   -3.0\n",
       "b   -1.0\n",
       "c    1.0\n",
       "d    3.0\n",
       "j    NaN\n",
       "k    NaN\n",
       "dtype: float64"
      ]
     },
     "execution_count": 87,
     "metadata": {},
     "output_type": "execute_result"
    }
   ],
   "source": [
    "s1-s2"
   ]
  },
  {
   "cell_type": "code",
   "execution_count": 88,
   "metadata": {},
   "outputs": [
    {
     "data": {
      "text/plain": [
       "a    4.0\n",
       "b    6.0\n",
       "c    6.0\n",
       "d    4.0\n",
       "j    NaN\n",
       "k    NaN\n",
       "dtype: float64"
      ]
     },
     "execution_count": 88,
     "metadata": {},
     "output_type": "execute_result"
    }
   ],
   "source": [
    "s1*s2"
   ]
  }
 ],
 "metadata": {
  "kernelspec": {
   "display_name": "Python 3 (ipykernel)",
   "language": "python",
   "name": "python3"
  },
  "language_info": {
   "codemirror_mode": {
    "name": "ipython",
    "version": 3
   },
   "file_extension": ".py",
   "mimetype": "text/x-python",
   "name": "python",
   "nbconvert_exporter": "python",
   "pygments_lexer": "ipython3",
   "version": "3.8.11"
  }
 },
 "nbformat": 4,
 "nbformat_minor": 4
}
