{
 "cells": [
  {
   "cell_type": "markdown",
   "id": "9c5dd40f",
   "metadata": {},
   "source": [
    "## 실습\n",
    "- www.cine21.com/rank/person\n",
    "1. 라이브러리 import \n",
    "2. db connection - db create - collection create\n",
    "3. request\n",
    "4. 현재 페이지의 배우 이름만 가져오기(특수문자 제외)\n",
    "5. 현재 페이지에서 클릭후 상세정보 가져오기; 배우이름,흥행지수,출연영화,랭킹,원어명,다른이름,직업,생년월일,성별,홈페이지,신장/체중,학교,취미,특기\n",
    "6. 배우이름,흥행지수,출연영화,랭킹 db에 저장\n",
    "7. page처리"
   ]
  },
  {
   "cell_type": "code",
   "execution_count": 4,
   "id": "3a69d9da",
   "metadata": {},
   "outputs": [],
   "source": [
    "import time\n",
    "from selenium import webdriver\n",
    "import re\n",
    "#import pymongo"
   ]
  },
  {
   "cell_type": "markdown",
   "id": "39e0be91",
   "metadata": {},
   "source": [
    "#### mongodb 연결"
   ]
  },
  {
   "cell_type": "code",
   "execution_count": 8,
   "id": "4aadc726",
   "metadata": {},
   "outputs": [
    {
     "data": {
      "text/plain": [
       "['BigData', 'admin', 'config', 'local', 'weatehr', '쥬피터에서만든db']"
      ]
     },
     "execution_count": 8,
     "metadata": {},
     "output_type": "execute_result"
    }
   ],
   "source": [
    "connection = pymongo.MongoClient(\"localhost\", 27017)\n",
    "connection.list_database_names()"
   ]
  },
  {
   "cell_type": "code",
   "execution_count": 9,
   "id": "19c960f5",
   "metadata": {},
   "outputs": [],
   "source": [
    "db = connection['cine21'] \n",
    "collection = db['cine21_collection']"
   ]
  },
  {
   "cell_type": "code",
   "execution_count": null,
   "id": "5c2b89cb",
   "metadata": {},
   "outputs": [],
   "source": []
  },
  {
   "cell_type": "code",
   "execution_count": 6,
   "id": "9691591c",
   "metadata": {},
   "outputs": [
    {
     "data": {
      "text/plain": [
       "'/Users/iganghui/TIL/Python/Python_data_science'"
      ]
     },
     "execution_count": 6,
     "metadata": {},
     "output_type": "execute_result"
    }
   ],
   "source": []
  },
  {
   "cell_type": "markdown",
   "id": "d60ed5b1",
   "metadata": {},
   "source": [
    "#### request"
   ]
  },
  {
   "cell_type": "code",
   "execution_count": 10,
   "id": "b5250c66",
   "metadata": {},
   "outputs": [],
   "source": [
    "# 요청이 잘 되는지확인해보자\n",
    "path = './driver/chromedriver_intel'\n",
    "driver = webdriver.Chrome(path)\n",
    "url = 'http://www.cine21.com/rank/person'\n",
    "driver.get(url)\n",
    "time.sleep(3)\n",
    "driver.close()"
   ]
  },
  {
   "cell_type": "code",
   "execution_count": 12,
   "id": "56f05b5d",
   "metadata": {},
   "outputs": [],
   "source": [
    "# 드라이버 띄어놓고 작업하자\n",
    "path = './driver/chromedriver_intel'\n",
    "driver = webdriver.Chrome(path)"
   ]
  },
  {
   "cell_type": "code",
   "execution_count": 13,
   "id": "44dd9c13",
   "metadata": {},
   "outputs": [
    {
     "name": "stdout",
     "output_type": "stream",
     "text": [
      "김윤석\n",
      "조인성\n",
      "허준호\n",
      "김소진\n",
      "황정민\n",
      "차승원\n",
      "김성균\n"
     ]
    }
   ],
   "source": [
    "# 배우 이름만 가져와보자\n",
    "url = 'http://www.cine21.com/rank/person'\n",
    "driver.get(url)\n",
    "name_lists = driver.find_elements_by_css_selector('#rank_holder > ul > li >div.name')\n",
    "for name in name_lists:\n",
    "    print(re.search('(\\w+)\\(.*\\)',name.text).group(1))\n",
    "    #print(name.text)"
   ]
  },
  {
   "cell_type": "code",
   "execution_count": 30,
   "id": "6dffe714",
   "metadata": {},
   "outputs": [
    {
     "name": "stdout",
     "output_type": "stream",
     "text": [
      "<a href=\"view.id?prdSeq=3209\">\n",
      "\t\t\t\t\t\t\t\t\t\t\t<span class=\"ico_type\">건강기능<br>식품</span>\n",
      "\t\t\t\t\t\t\t\t\t\t\t<span class=\"img\"><img src=\"https://admin.ildong.com/upload/2021-08-17/162916931626823885.jpg\" alt=\"\"></span><!-- 이미지 사이즈 318*300 -->\n",
      "\t\t\t\t\t\t\t\t\t\t\t<dl style=\"padding-top: 27px;\">\n",
      "\t\t\t\t\t\t\t\t\t\t\t\t\n",
      "\t\t\t\t\t\t\t\t\t\t\t\t\n",
      "\t\t\t\t\t\t\t\t\t\t\t\t\n",
      "\t\t\t\t\t\t\t\t\t\t\t\t\t<dt class=\"fMedum\">마이니 굿모닝 100억 유산균</dt>\t\t\t\t\t\t\t\t\t\t\t\t\n",
      "\t\t\t\t\t\t\t\t\t\t\t\t\n",
      "\t\t\t\t\t\t\t\t\t\t\t\t\n",
      "\t\t\t\t\t\t\t\t\t\t\t\t<dd style=\"display:none;\">기타</dd>\n",
      "\t\t\t\t\t\t\t\t\t\t\t</dl>\n",
      "\t\t\t\t\t\t\t\t\t\t\t\n",
      "\t\t\t\t\t\t\t\t\t\t</a>\n"
     ]
    }
   ],
   "source": [
    "url = f'https://www.ildong.com/kor/product/list.id?page=1&halt=&prdDisease=&prdCategory=&searchVal=&searchOption=0'\n",
    "driver.get(url)\n",
    "prList = driver.find_element_by_class_name('prList')\n",
    "a_tags = prList.find_elements_by_tag_name('a')\n",
    "print(a_tags[1].get_attribute('outerHTML'))\n",
    "a_tags[0].click()\n",
    "time.sleep(2)\n",
    "driver.back()\n",
    "\n"
   ]
  },
  {
   "cell_type": "code",
   "execution_count": 32,
   "id": "001a6bb7",
   "metadata": {},
   "outputs": [
    {
     "data": {
      "text/plain": [
       "'https://www.ildong.com/kor/product/list.id?page=1&halt=&prdDisease=&prdCategory=&searchVal=&searchOption=0'"
      ]
     },
     "execution_count": 32,
     "metadata": {},
     "output_type": "execute_result"
    }
   ],
   "source": [
    "driver.currnet"
   ]
  },
  {
   "cell_type": "code",
   "execution_count": 43,
   "id": "98a4320e",
   "metadata": {},
   "outputs": [
    {
     "name": "stdout",
     "output_type": "stream",
     "text": [
      "http://www.cine21.com/rank/person\n",
      "http://www.cine21.com/db/person/info/?person_id=57423\n",
      "http://www.cine21.com/db/person/info/?person_id=57423 김윤석 (Kim Yoonseok)\n",
      "http://www.cine21.com/rank/person\n",
      "****************************************************************************************************\n",
      "http://www.cine21.com/rank/person\n",
      "http://www.cine21.com/db/person/info/?person_id=16259\n",
      "http://www.cine21.com/db/person/info/?person_id=16259 조인성 (Jo Insung)\n",
      "http://www.cine21.com/rank/person\n",
      "****************************************************************************************************\n",
      "http://www.cine21.com/rank/person\n",
      "http://www.cine21.com/db/person/info/?person_id=2425\n",
      "http://www.cine21.com/db/person/info/?person_id=2425 허준호 (Heo Junho)\n",
      "http://www.cine21.com/rank/person\n",
      "****************************************************************************************************\n",
      "http://www.cine21.com/rank/person\n",
      "http://www.cine21.com/db/person/info/?person_id=82573\n",
      "http://www.cine21.com/db/person/info/?person_id=82573 김소진 (Kim Sojin)\n",
      "http://www.cine21.com/rank/person\n",
      "****************************************************************************************************\n",
      "http://www.cine21.com/rank/person\n",
      "http://www.cine21.com/db/person/info/?person_id=14268\n",
      "http://www.cine21.com/db/person/info/?person_id=14268 황정민 (Hwang Jungmin)\n",
      "http://www.cine21.com/rank/person\n",
      "****************************************************************************************************\n",
      "http://www.cine21.com/rank/person\n",
      "http://www.cine21.com/db/person/info/?person_id=7006\n",
      "http://www.cine21.com/db/person/info/?person_id=7006 차승원 (Cha Seungwon)\n",
      "http://www.cine21.com/rank/person\n",
      "****************************************************************************************************\n",
      "http://www.cine21.com/rank/person\n",
      "http://www.cine21.com/db/person/info/?person_id=79375\n",
      "http://www.cine21.com/db/person/info/?person_id=79375 김성균 (Kim Sungkyun)\n",
      "http://www.cine21.com/rank/person\n",
      "****************************************************************************************************\n"
     ]
    }
   ],
   "source": [
    "# 배우 이름 클릭해서 상세 정보 가져와보자\n",
    "\n",
    "url = 'http://www.cine21.com/rank/person'\n",
    "driver.get(url)\n",
    "\n",
    "\n",
    "# driver.back()할때 짜증나니깐 필요한 것들 미리 변수에 담아버리고 사용해버리자\n",
    "lists = driver.find_elements_by_css_selector('#rank_holder > ul > li')\n",
    "len_lists = len(lists)\n",
    "\n",
    "for idx in range(0,len_lists):\n",
    "    \n",
    "    lists = driver.find_elements_by_css_selector('#rank_holder > ul > li')\n",
    "\n",
    "    a_tag = lists[idx].find_element_by_css_selector('div.name > a')\n",
    "    a_href = a_tag.get_attribute('href') # 나중에 날라갈까봐 졸라 짜증나서 미리 str로 저장해두자\n",
    "    \n",
    "    name = lists[idx].find_element_by_css_selector('div.name').text\n",
    "    name_refined = re.search('(\\w+)\\(.*\\)',name).group(1) \n",
    "    print(driver.current_url)\n",
    "    a_tag.click()\n",
    "    print(driver.current_url)\n",
    "    eng_name = driver.find_element_by_css_selector('#container > div.archive_people_top_area > div > div.people_info > p.name > span').text\n",
    "    \n",
    "    print(a_href,name_refined,eng_name)\n",
    "    time.sleep(1)\n",
    "    driver.back()\n",
    "    time.sleep(1)\n",
    "    print(driver.current_url)\n",
    "    print('*'*100)"
   ]
  }
 ],
 "metadata": {
  "kernelspec": {
   "display_name": "Python 3",
   "language": "python",
   "name": "python3"
  },
  "language_info": {
   "codemirror_mode": {
    "name": "ipython",
    "version": 3
   },
   "file_extension": ".py",
   "mimetype": "text/x-python",
   "name": "python",
   "nbconvert_exporter": "python",
   "pygments_lexer": "ipython3",
   "version": "3.8.8"
  }
 },
 "nbformat": 4,
 "nbformat_minor": 5
}
