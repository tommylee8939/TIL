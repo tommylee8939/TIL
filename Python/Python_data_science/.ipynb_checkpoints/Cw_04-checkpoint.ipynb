{
 "cells": [
  {
   "cell_type": "markdown",
   "id": "3ac0f0fd",
   "metadata": {},
   "source": [
    "### scraping 데이터를 json화 해서 다루는 방법 & 정규표현식"
   ]
  }
 ],
 "metadata": {
  "kernelspec": {
   "display_name": "Python 3 (ipykernel)",
   "language": "python",
   "name": "python3"
  },
  "language_info": {
   "codemirror_mode": {
    "name": "ipython",
    "version": 3
   },
   "file_extension": ".py",
   "mimetype": "text/x-python",
   "name": "python",
   "nbconvert_exporter": "python",
   "pygments_lexer": "ipython3",
   "version": "3.8.11"
  }
 },
 "nbformat": 4,
 "nbformat_minor": 5
}
