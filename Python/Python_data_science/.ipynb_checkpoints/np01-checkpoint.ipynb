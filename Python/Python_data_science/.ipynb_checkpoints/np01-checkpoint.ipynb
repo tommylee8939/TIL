{
 "cells": [
  {
   "cell_type": "code",
   "execution_count": 1,
   "metadata": {},
   "outputs": [],
   "source": [
    "import numpy as np"
   ]
  },
  {
   "cell_type": "markdown",
   "metadata": {},
   "source": [
    "### np배열\n",
    "- homogeneous type 모든 원소가 같은 자료형\n",
    "- 원소의 갯수는 변경 불가능하다 => 차원은 변경가능하다\n",
    "- 배열의 attribute 존재 ndim shape dtype\n",
    "- vector operation가능"
   ]
  },
  {
   "cell_type": "code",
   "execution_count": 4,
   "metadata": {},
   "outputs": [],
   "source": [
    "def arrayinfo(array):\n",
    "    print('type :',type(array))\n",
    "    print('shape :',array.shape)\n",
    "    print('dimension :',array.ndim)\n",
    "    print('dtype :',array.dtype)\n",
    "    print(array)"
   ]
  },
  {
   "cell_type": "code",
   "execution_count": 5,
   "metadata": {},
   "outputs": [
    {
     "name": "stdout",
     "output_type": "stream",
     "text": [
      "type : <class 'numpy.ndarray'>\n",
      "shape : (4,)\n",
      "dimension : 1\n",
      "dtype : int64\n",
      "[1 2 3 4]\n"
     ]
    }
   ],
   "source": [
    "array01 = np.array((1,2,3,4))\n",
    "arrayinfo(array01)"
   ]
  },
  {
   "cell_type": "code",
   "execution_count": 7,
   "metadata": {},
   "outputs": [
    {
     "name": "stdout",
     "output_type": "stream",
     "text": [
      "[2, 4, 6, 8, 10]\n",
      "[ 2  4  6  8 10]\n"
     ]
    }
   ],
   "source": [
    "# 벡터 연산\n",
    "list01 = [1,2,3,4,5]\n",
    "print([e*2 for e in list01])\n",
    "\n",
    "print(np.array((1,2,3,4,5))*2)"
   ]
  },
  {
   "cell_type": "markdown",
   "metadata": {},
   "source": [
    "### 배열을 생성하는 방법\n",
    "- np.array()"
   ]
  }
 ],
 "metadata": {
  "kernelspec": {
   "display_name": "Python 3",
   "language": "python",
   "name": "python3"
  },
  "language_info": {
   "codemirror_mode": {
    "name": "ipython",
    "version": 3
   },
   "file_extension": ".py",
   "mimetype": "text/x-python",
   "name": "python",
   "nbconvert_exporter": "python",
   "pygments_lexer": "ipython3",
   "version": "3.8.5"
  }
 },
 "nbformat": 4,
 "nbformat_minor": 4
}
