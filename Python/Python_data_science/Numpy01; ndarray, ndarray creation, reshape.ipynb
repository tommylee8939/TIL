{
 "cells": [
  {
   "cell_type": "markdown",
   "metadata": {},
   "source": [
    "## Numpy01; ndarray, ndarray creation"
   ]
  },
  {
   "cell_type": "code",
   "execution_count": 6,
   "metadata": {},
   "outputs": [],
   "source": [
    "import numpy as np"
   ]
  },
  {
   "cell_type": "code",
   "execution_count": 3,
   "metadata": {},
   "outputs": [],
   "source": [
    "np?"
   ]
  },
  {
   "cell_type": "markdown",
   "metadata": {},
   "source": [
    "#### Provides\n",
    "  1. An array object of arbitrary homogeneous items\n",
    "  2. Fast mathematical operations over arrays\n",
    "  3. Linear Algebra, Fourier Transforms, Random Number Generation\n"
   ]
  },
  {
   "cell_type": "markdown",
   "metadata": {},
   "source": [
    "#### 가장 중요한 포인트는 homogeneous item이라는것이다 => 즉 파이썬의 내장 list와는 다르다. 하나의 일정한 타입을 저장한다\n",
    "- 왜 homogeneous item이 중요할까? => 속도가 빠르다\n",
    "- 동적 프로그래밍 언어인 파이썬은 동적 타이핑을 위해 부가적인 정보가 각 item에 저장이 되어있어야한다\n",
    "- 예를 들어 list안에 각 element들은 하나의 객체로 참조 값이 담겨있다. 이는 언어의 유연성은 증가시키나 많은 데이터를 저장하기에 효율적이지 않다\n",
    "- Numpy의 배열은 이를 homogeneous item 을 가는 array 객체를 제공한다. 이는 유연성은 줄어드나 데이터를 저장하고 처리하기에 더 효율적이다"
   ]
  },
  {
   "cell_type": "markdown",
   "metadata": {},
   "source": [
    "### Array module \n",
    "- 파이썬의 내장 모듈인 array도 단일타입의 배열을 만들어준다 \n",
    "- 하지만 Numpy가 더 효율적인 이유는 Fast mathematical operations over arrays, array 모듈이 못하는 연산기능이 추가로 제공된다 "
   ]
  },
  {
   "cell_type": "code",
   "execution_count": 7,
   "metadata": {},
   "outputs": [],
   "source": [
    "import array"
   ]
  },
  {
   "cell_type": "code",
   "execution_count": 14,
   "metadata": {},
   "outputs": [
    {
     "name": "stdout",
     "output_type": "stream",
     "text": [
      "array('i', [0, 1, 2, 3, 4, 5, 6, 7, 8, 9])\n",
      "array('f', [0.0, 1.0, 2.0, 3.0, 4.0, 5.0, 6.0, 7.0, 8.0, 9.0])\n"
     ]
    }
   ],
   "source": [
    "array01 = array.array('i',range(10))  # i는 정수임을 나타내는 코드\n",
    "print(array01)\n",
    "\n",
    "array01 = array.array('f',range(10))  # f는 실수임을 나타내는 코드\n",
    "print(array01)"
   ]
  },
  {
   "cell_type": "markdown",
   "metadata": {},
   "source": [
    "### Numpy\n",
    "- NumPy’s main object is the homogeneous multidimensional array\n",
    "- NumPy’s array class is called 'ndarray'"
   ]
  },
  {
   "cell_type": "markdown",
   "metadata": {},
   "source": [
    "### 📎Array creation\n",
    "- 1. python의 데이터 타입 활용\n",
    "- 2. Numpy의 내장 함수 활용 "
   ]
  },
  {
   "cell_type": "markdown",
   "metadata": {},
   "source": [
    "#### 1.python의 데이터 타입 활용\n",
    "- np.array(내장 데이터 타입) 함수를 이용한다\n",
    "- 기본적으로 list, tuple, range"
   ]
  },
  {
   "cell_type": "code",
   "execution_count": 19,
   "metadata": {},
   "outputs": [
    {
     "name": "stdout",
     "output_type": "stream",
     "text": [
      "1\n",
      "<class 'numpy.ndarray'>\n"
     ]
    }
   ],
   "source": [
    "# 차원이 없는 스칼라 값이다\n",
    "# 그냥 궁금해서 해봤다\n",
    "print(np.array(1))\n",
    "print(type(np.array(1)))\n"
   ]
  },
  {
   "cell_type": "code",
   "execution_count": 17,
   "metadata": {},
   "outputs": [
    {
     "name": "stdout",
     "output_type": "stream",
     "text": [
      "[1 2 3 4]\n",
      "<class 'numpy.ndarray'>\n"
     ]
    }
   ],
   "source": [
    "# list\n",
    "print(np.array([1,2,3,4]))\n",
    "print(type(np.array([1,2,3,4]))) # ndarray 타입이다 "
   ]
  },
  {
   "cell_type": "code",
   "execution_count": 36,
   "metadata": {},
   "outputs": [
    {
     "name": "stdout",
     "output_type": "stream",
     "text": [
      "[1 2 3 4]\n",
      "<class 'numpy.ndarray'>\n"
     ]
    }
   ],
   "source": [
    "# tuple\n",
    "# tuple을 넣어도 출력되는것은 [] 형식일거다\n",
    "print(np.array((1,2,3,4)))\n",
    "print(type(np.array((1,2,3,4))))"
   ]
  },
  {
   "cell_type": "code",
   "execution_count": 22,
   "metadata": {},
   "outputs": [
    {
     "name": "stdout",
     "output_type": "stream",
     "text": [
      "[1 2 3 4]\n",
      "<class 'numpy.ndarray'>\n"
     ]
    }
   ],
   "source": [
    "# range\n",
    "print(np.array(range(1,5)))\n",
    "print(type(np.array(range(1,5))))"
   ]
  },
  {
   "cell_type": "code",
   "execution_count": 38,
   "metadata": {},
   "outputs": [
    {
     "ename": "TypeError",
     "evalue": "array() takes from 1 to 2 positional arguments but 4 were given",
     "output_type": "error",
     "traceback": [
      "\u001b[0;31m---------------------------------------------------------------------------\u001b[0m",
      "\u001b[0;31mTypeError\u001b[0m                                 Traceback (most recent call last)",
      "\u001b[0;32m<ipython-input-38-7ed04b65a216>\u001b[0m in \u001b[0;36m<module>\u001b[0;34m\u001b[0m\n\u001b[1;32m      1\u001b[0m \u001b[0;31m# 자주 발생하는 에러 참고하자\u001b[0m\u001b[0;34m\u001b[0m\u001b[0;34m\u001b[0m\u001b[0;34m\u001b[0m\u001b[0m\n\u001b[0;32m----> 2\u001b[0;31m \u001b[0mprint\u001b[0m\u001b[0;34m(\u001b[0m\u001b[0mnp\u001b[0m\u001b[0;34m.\u001b[0m\u001b[0marray\u001b[0m\u001b[0;34m(\u001b[0m\u001b[0;36m1\u001b[0m\u001b[0;34m,\u001b[0m\u001b[0;36m2\u001b[0m\u001b[0;34m,\u001b[0m\u001b[0;36m3\u001b[0m\u001b[0;34m,\u001b[0m\u001b[0;36m4\u001b[0m\u001b[0;34m)\u001b[0m\u001b[0;34m)\u001b[0m\u001b[0;34m\u001b[0m\u001b[0;34m\u001b[0m\u001b[0m\n\u001b[0m",
      "\u001b[0;31mTypeError\u001b[0m: array() takes from 1 to 2 positional arguments but 4 were given"
     ]
    }
   ],
   "source": [
    "# 자주 발생하는 에러 참고하자\n",
    "print(np.array(1,2,3,4)) "
   ]
  },
  {
   "cell_type": "markdown",
   "metadata": {},
   "source": [
    "#### ⭐️ attributes of an ndarray object\n",
    "- ndarray객체는 배열의 크기나 차원들의 정보를 나타내는 유용한 속성들을 갖는다 "
   ]
  },
  {
   "cell_type": "code",
   "execution_count": 31,
   "metadata": {},
   "outputs": [
    {
     "name": "stdout",
     "output_type": "stream",
     "text": [
      "1\n",
      "(4,)\n",
      "4\n",
      "int64\n",
      "8\n"
     ]
    }
   ],
   "source": [
    "ndarray01 = np.array([1,2,3,4])\n",
    "print(ndarray01.ndim)     # dimension의 갯수\n",
    "print(ndarray01.shape)    # dimensions of the array ex) (n,m):nrows,mcols\n",
    "print(ndarray01.size)     # total element 갯수\n",
    "print(ndarray01.dtype)    # 저장되어있는 데이터 타입 => 강제하지 않으면 자동응로 추론한다\n",
    "print(ndarray01.itemsize) # byte size"
   ]
  },
  {
   "cell_type": "code",
   "execution_count": 48,
   "metadata": {
    "scrolled": true
   },
   "outputs": [
    {
     "name": "stdout",
     "output_type": "stream",
     "text": [
      "int64\n",
      "[1 2 3 4]\n",
      "float64\n",
      "[1. 2. 3. 4.]\n",
      "complex128\n",
      "[1.+0.j 2.+0.j 3.+0.j 4.+0.j]\n",
      "<U1\n",
      "['1' '2' '3' '4']\n"
     ]
    }
   ],
   "source": [
    "# 데이터 타입 dtype\n",
    "# 데이터 타입 강제 가능하다\n",
    "ndarray01 = np.array([1,2,3,4])\n",
    "print(ndarray01.dtype)\n",
    "print(ndarray01)\n",
    "ndarray01 = np.array([1,2,3,4],dtype=float)\n",
    "print(ndarray01.dtype)\n",
    "print(ndarray01)\n",
    "ndarray01 = np.array([1,2,3,4],dtype=complex)\n",
    "print(ndarray01.dtype)\n",
    "print(ndarray01)\n",
    "ndarray01 = np.array([1,2,3,4],dtype=str)\n",
    "print(ndarray01.dtype)\n",
    "print(ndarray01)"
   ]
  },
  {
   "cell_type": "markdown",
   "metadata": {},
   "source": [
    "#### ⭐️ dimension?\n",
    "- NumPy’s main object is the homogeneous multidimensional array\n",
    "- 위에 ndarray object들의 속성들을 보니 ndarray는 multi dimensional 한 배열이라는것을 알 수 있다\n",
    "- 사실 파이썬 내장 리스트도 2차원 혹은 3차원 리스트를 사용하면 다차원 리스트로 만들 수는 있지만 사용하기 편리하지 않다 \n",
    "- Numpy는 이를 위한 편리한 기능들을 제공한다"
   ]
  },
  {
   "cell_type": "code",
   "execution_count": 63,
   "metadata": {},
   "outputs": [
    {
     "name": "stdout",
     "output_type": "stream",
     "text": [
      "[[1 2 3 4]\n",
      " [5 6 7 8]]\n",
      "2\n",
      "(2, 4)\n"
     ]
    }
   ],
   "source": [
    "ndarray01 = np.array([[1,2,3,4],[5,6,7,8]])\n",
    "print(ndarray01)       # 출력 결과를 명식적으로 다차원으로 보여준다\n",
    "print(ndarray01.ndim)  # 자동으로 dimension 인식한다\n",
    "print(ndarray01.shape) # 2행 4열을 의미한다"
   ]
  },
  {
   "cell_type": "code",
   "execution_count": 32,
   "metadata": {},
   "outputs": [
    {
     "name": "stdout",
     "output_type": "stream",
     "text": [
      "[[ 2  3  4  5  6]\n",
      " [ 4  5  6  7  8]\n",
      " [ 6  7  8  9 10]]\n",
      "[[1 2 3]\n",
      " [4 5 6]\n",
      " [7 8 9]]\n"
     ]
    }
   ],
   "source": [
    "# nested 데이터 타입은 자동으로 다차원으로 인식한다\n",
    "ndarray01 = np.array([range(i,i+5) for i in [2,4,6]])\n",
    "print(ndarray01) \n",
    "\n",
    "ndarray02 = np.array([(1,2,3),[4,5,6],(7,8,9)])\n",
    "print(ndarray02)"
   ]
  },
  {
   "cell_type": "code",
   "execution_count": 35,
   "metadata": {},
   "outputs": [
    {
     "name": "stdout",
     "output_type": "stream",
     "text": [
      "[[1 2]\n",
      " [3 4]]\n"
     ]
    }
   ],
   "source": [
    "# 내가 직접 shape를 지정해줄수도 있다\n",
    "# reshape\n",
    "ndarray01 = np.array([1,2,3,4])\n",
    "ndarray01 = ndarray01.reshape(2,2)\n",
    "print(ndarray01)"
   ]
  },
  {
   "cell_type": "code",
   "execution_count": 68,
   "metadata": {},
   "outputs": [
    {
     "name": "stdout",
     "output_type": "stream",
     "text": [
      "[[[ 0  1  2]\n",
      "  [ 3  4  5]]\n",
      "\n",
      " [[ 6  7  8]\n",
      "  [ 9 10 11]]]\n"
     ]
    }
   ],
   "source": [
    "#3 차원 이상\n",
    "ndarray01 = np.array(range(12)).reshape(2,2,3) \n",
    "print(ndarray01) #순서를 잘 확인해보자 R이랑 조금 다르다 오히려 이게 더 좋다"
   ]
  },
  {
   "cell_type": "markdown",
   "metadata": {},
   "source": [
    "#### 2. Numpy의 내장 함수 사용"
   ]
  },
  {
   "cell_type": "markdown",
   "metadata": {},
   "source": [
    "#### np.zeors(shape), np.ones(shape), np.empty(shape), np.full(shpae,value)"
   ]
  },
  {
   "cell_type": "code",
   "execution_count": 5,
   "metadata": {},
   "outputs": [
    {
     "name": "stdout",
     "output_type": "stream",
     "text": [
      "[[0. 0. 0. 0.]\n",
      " [0. 0. 0. 0.]\n",
      " [0. 0. 0. 0.]]\n",
      "[[1. 1.]\n",
      " [1. 1.]]\n",
      "[[0. 0. 0. 0.]\n",
      " [0. 0. 0. 0.]\n",
      " [0. 0. 0. 0.]]\n",
      "[[10 10]\n",
      " [10 10]]\n"
     ]
    }
   ],
   "source": [
    "print(np.zeros((3,4)))\n",
    "print(np.ones((2,2)))  # nd array는 신기하게\n",
    "print(np.empty((3,4)))   # 1로 채운다\n",
    "print(np.full((2,2),10))"
   ]
  },
  {
   "cell_type": "markdown",
   "metadata": {},
   "source": [
    "#### np.aragne()\n",
    "-  range와 똑같이 인자를 받는다\n",
    "- 수열로 ndarray를 만든다 "
   ]
  },
  {
   "cell_type": "code",
   "execution_count": 67,
   "metadata": {},
   "outputs": [
    {
     "name": "stdout",
     "output_type": "stream",
     "text": [
      "[0 2 4 6 8]\n",
      "[0.  0.7 1.4 2.1 2.8 3.5 4.2 4.9 5.6 6.3 7.  7.7 8.4 9.1 9.8]\n"
     ]
    }
   ],
   "source": [
    "print(np.arange(0,10,2))\n",
    "print(np.arange(0,10,0.7)) # step을 float으로도 지원한다"
   ]
  },
  {
   "cell_type": "markdown",
   "metadata": {},
   "source": [
    "#### np.linspace()"
   ]
  },
  {
   "cell_type": "code",
   "execution_count": 70,
   "metadata": {},
   "outputs": [
    {
     "name": "stdout",
     "output_type": "stream",
     "text": [
      "[ 0.   2.5  5.   7.5 10. ]\n"
     ]
    }
   ],
   "source": [
    "print(np.linspace(0,10,5))"
   ]
  },
  {
   "cell_type": "markdown",
   "metadata": {},
   "source": [
    "#### ⭐️ np.random\n",
    "- random 서브 모듈이다\n",
    "- 여러 확률분포 사용 가능하다"
   ]
  },
  {
   "cell_type": "markdown",
   "metadata": {},
   "source": [
    "#### rand(axis1,aixs2,,)\n",
    " - [0, 1) 사이의 분포로 랜덤한 ndarray 생성"
   ]
  },
  {
   "cell_type": "code",
   "execution_count": 90,
   "metadata": {},
   "outputs": [
    {
     "name": "stdout",
     "output_type": "stream",
     "text": [
      "[[0.57197171 0.32330749 0.40014638]\n",
      " [0.96038835 0.62882381 0.18314451]]\n"
     ]
    }
   ],
   "source": [
    "# 이미 [0,1)가 지정되어있어서 필요한 인수는 shape뿐이다\n",
    "print(np.random.rand(2,3))"
   ]
  },
  {
   "cell_type": "markdown",
   "metadata": {},
   "source": [
    "#### randn(axis1,aixs2,,)\n",
    " - n: normal distribution(정규분포)\n",
    " - 정규분포로 샘플링된 랜덤 ndarray 생성"
   ]
  },
  {
   "cell_type": "code",
   "execution_count": 107,
   "metadata": {},
   "outputs": [
    {
     "name": "stdout",
     "output_type": "stream",
     "text": [
      "[[-0.43231462  1.99748355]\n",
      " [-0.88759403  0.56849451]]\n"
     ]
    }
   ],
   "source": [
    "# 이미 [0,1)가 지정되어있어서 필요한 인수는 shape뿐이다\n",
    "print(np.random.randn(2,2))"
   ]
  },
  {
   "cell_type": "markdown",
   "metadata": {},
   "source": [
    "#### randint(start,end,size)\n",
    " - 특정 정수 사이에서 랜덤하게 샘플링\n",
    " - 당연히 앞에꺼 포함 뒤에꺼 안포함"
   ]
  },
  {
   "cell_type": "code",
   "execution_count": 93,
   "metadata": {},
   "outputs": [
    {
     "name": "stdout",
     "output_type": "stream",
     "text": [
      "[[33 29]\n",
      " [ 3 77]]\n"
     ]
    }
   ],
   "source": [
    "# 특정 정수 두개 인자로 입력 + size = (shape)형식으로\n",
    "print(np.random.randint(0,100,size=(2,2)))"
   ]
  },
  {
   "cell_type": "markdown",
   "metadata": {},
   "source": [
    "#### seed()\n",
    " - 랜덤한 값을 동일하게 다시 생성하고자 할때 사용"
   ]
  },
  {
   "cell_type": "code",
   "execution_count": 95,
   "metadata": {},
   "outputs": [
    {
     "name": "stdout",
     "output_type": "stream",
     "text": [
      "[[ 8 24]\n",
      " [67 87]]\n",
      "[[ 8 24]\n",
      " [67 87]]\n"
     ]
    }
   ],
   "source": [
    "np.random.seed(100)\n",
    "print(np.random.randint(0,100,size=(2,2)))\n",
    "np.random.seed(100)\n",
    "print(np.random.randint(0,100,size=(2,2))) #동일한 결과 산출"
   ]
  },
  {
   "cell_type": "markdown",
   "metadata": {},
   "source": [
    "#### choice(ndarray,size,replace=False)\n",
    " - 주어진 1차원 ndarray로 부터 랜덤으로 샘플링\n",
    " - 정수가 주어진 경우, np.arange(해당숫자)로 간주"
   ]
  },
  {
   "cell_type": "code",
   "execution_count": 104,
   "metadata": {},
   "outputs": [
    {
     "name": "stdout",
     "output_type": "stream",
     "text": [
      "[[47 76 76]\n",
      " [42 55 94]\n",
      " [37 47 81]]\n"
     ]
    }
   ],
   "source": [
    "ndarray01=np.random.randint(0,100,size=100)\n",
    "print(np.random.choice(ndarray01,size=(3,3)))"
   ]
  },
  {
   "cell_type": "code",
   "execution_count": 103,
   "metadata": {},
   "outputs": [
    {
     "name": "stdout",
     "output_type": "stream",
     "text": [
      "[[49  1 57]\n",
      " [ 7 57 90]\n",
      " [49 14  1]]\n"
     ]
    }
   ],
   "source": [
    "ndarray01=np.random.randint(0,100,size=10)\n",
    "print(np.random.choice(ndarray01,size=(3,3),replace=True))"
   ]
  },
  {
   "cell_type": "code",
   "execution_count": 105,
   "metadata": {},
   "outputs": [
    {
     "name": "stdout",
     "output_type": "stream",
     "text": [
      "[[34 93 96 15]\n",
      " [82 12 85 23]\n",
      " [67 60 79  9]]\n"
     ]
    }
   ],
   "source": [
    "print(np.random.choice(100, size=(3, 4)))\n",
    "# 100을 np.arange(100)으로 가눚하고 뽑음"
   ]
  }
 ],
 "metadata": {
  "kernelspec": {
   "display_name": "Python 3",
   "language": "python",
   "name": "python3"
  },
  "language_info": {
   "codemirror_mode": {
    "name": "ipython",
    "version": 3
   },
   "file_extension": ".py",
   "mimetype": "text/x-python",
   "name": "python",
   "nbconvert_exporter": "python",
   "pygments_lexer": "ipython3",
   "version": "3.8.5"
  }
 },
 "nbformat": 4,
 "nbformat_minor": 4
}
