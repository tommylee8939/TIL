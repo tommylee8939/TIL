{
 "cells": [
  {
   "cell_type": "markdown",
   "id": "3b257263",
   "metadata": {},
   "source": [
    "### pandas07; multi index"
   ]
  },
  {
   "cell_type": "code",
   "execution_count": 1,
   "id": "da81cb6c",
   "metadata": {},
   "outputs": [],
   "source": [
    "import numpy as np\n",
    "import pandas as pd"
   ]
  },
  {
   "cell_type": "markdown",
   "id": "384fcb2b",
   "metadata": {},
   "source": [
    "### 멀티 인덱스 \n",
    "- pandas mutli index지원 \n",
    "- index 방향 column 방향 모두 multi 가능하다"
   ]
  },
  {
   "cell_type": "markdown",
   "id": "943ec46c",
   "metadata": {},
   "source": [
    "#### 다중 인덱스의 좋지 않은 형태 "
   ]
  },
  {
   "cell_type": "code",
   "execution_count": 4,
   "id": "b3518840",
   "metadata": {},
   "outputs": [
    {
     "data": {
      "text/html": [
       "<div>\n",
       "<style scoped>\n",
       "    .dataframe tbody tr th:only-of-type {\n",
       "        vertical-align: middle;\n",
       "    }\n",
       "\n",
       "    .dataframe tbody tr th {\n",
       "        vertical-align: top;\n",
       "    }\n",
       "\n",
       "    .dataframe thead th {\n",
       "        text-align: right;\n",
       "    }\n",
       "</style>\n",
       "<table border=\"1\" class=\"dataframe\">\n",
       "  <thead>\n",
       "    <tr style=\"text-align: right;\">\n",
       "      <th></th>\n",
       "      <th>0</th>\n",
       "      <th>1</th>\n",
       "      <th>2</th>\n",
       "      <th>3</th>\n",
       "    </tr>\n",
       "  </thead>\n",
       "  <tbody>\n",
       "    <tr>\n",
       "      <th>(Group01, col01)</th>\n",
       "      <td>0.149436</td>\n",
       "      <td>-0.126465</td>\n",
       "      <td>-0.106692</td>\n",
       "      <td>1.327128</td>\n",
       "    </tr>\n",
       "    <tr>\n",
       "      <th>(Group02, col02)</th>\n",
       "      <td>-1.225975</td>\n",
       "      <td>-0.828206</td>\n",
       "      <td>1.326796</td>\n",
       "      <td>0.056881</td>\n",
       "    </tr>\n",
       "    <tr>\n",
       "      <th>(Group03, col03)</th>\n",
       "      <td>0.120482</td>\n",
       "      <td>-0.190184</td>\n",
       "      <td>-1.792524</td>\n",
       "      <td>0.499005</td>\n",
       "    </tr>\n",
       "    <tr>\n",
       "      <th>(Group04, col04)</th>\n",
       "      <td>0.182951</td>\n",
       "      <td>-0.513043</td>\n",
       "      <td>0.359277</td>\n",
       "      <td>-1.357466</td>\n",
       "    </tr>\n",
       "  </tbody>\n",
       "</table>\n",
       "</div>"
      ],
      "text/plain": [
       "                         0         1         2         3\n",
       "(Group01, col01)  0.149436 -0.126465 -0.106692  1.327128\n",
       "(Group02, col02) -1.225975 -0.828206  1.326796  0.056881\n",
       "(Group03, col03)  0.120482 -0.190184 -1.792524  0.499005\n",
       "(Group04, col04)  0.182951 -0.513043  0.359277 -1.357466"
      ]
     },
     "metadata": {},
     "output_type": "display_data"
    }
   ],
   "source": [
    "multi_df = pd.DataFrame(np.random.randn(4,4),index=[('Group01','col01'),('Group02','col02'),('Group03','col03'),('Group04','col04')])\n",
    "display(multi_df)"
   ]
  }
 ],
 "metadata": {
  "kernelspec": {
   "display_name": "Python 3 (ipykernel)",
   "language": "python",
   "name": "python3"
  },
  "language_info": {
   "codemirror_mode": {
    "name": "ipython",
    "version": 3
   },
   "file_extension": ".py",
   "mimetype": "text/x-python",
   "name": "python",
   "nbconvert_exporter": "python",
   "pygments_lexer": "ipython3",
   "version": "3.8.11"
  }
 },
 "nbformat": 4,
 "nbformat_minor": 5
}
