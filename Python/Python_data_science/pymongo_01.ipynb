{
 "cells": [
  {
   "cell_type": "markdown",
   "id": "279148e3",
   "metadata": {},
   "source": [
    "### 비정형 데이터를 이용한 몽고디비\n",
    "- not only SQL(NoSql)\n",
    "- 정해진 규칙이 없음을 의미함 (스키마 없다)\n",
    "- 관계형 DB가 아니기 때문에 join 등 불가능\n",
    "- key : value 형식으로 데이터를 담는다\n",
    "\n",
    "#### 저장하는 형식\n",
    "- 다른 언어들과 불리는 이름이 조금 다르다\n",
    "- Database - Collection(table) - Document(row)"
   ]
  },
  {
   "cell_type": "code",
   "execution_count": 1,
   "id": "d9b5b57d",
   "metadata": {},
   "outputs": [],
   "source": [
    "import pymongo"
   ]
  },
  {
   "cell_type": "markdown",
   "id": "6d2f1452",
   "metadata": {},
   "source": [
    "### 1. 접속"
   ]
  },
  {
   "cell_type": "code",
   "execution_count": 2,
   "id": "429a7eda",
   "metadata": {},
   "outputs": [],
   "source": [
    "connection = pymongo.MongoClient(\"localhost\", 27017)"
   ]
  },
  {
   "cell_type": "code",
   "execution_count": 3,
   "id": "b1dd4678",
   "metadata": {},
   "outputs": [],
   "source": [
    "# default 값으로 들어갈거다 \"localhost\" 27017\n",
    "connection = pymongo.MongoClient()"
   ]
  },
  {
   "cell_type": "markdown",
   "id": "6f1f13e5",
   "metadata": {},
   "source": [
    "#### a) Database들을 보고싶을때"
   ]
  },
  {
   "cell_type": "code",
   "execution_count": 4,
   "id": "805ea3d2",
   "metadata": {},
   "outputs": [
    {
     "data": {
      "text/plain": [
       "['BigData',\n",
       " 'admin',\n",
       " 'config',\n",
       " 'local',\n",
       " 'mydatabase',\n",
       " 'test',\n",
       " 'weatehr',\n",
       " '쥬피터에서만든db']"
      ]
     },
     "execution_count": 4,
     "metadata": {},
     "output_type": "execute_result"
    }
   ],
   "source": [
    "connection.list_database_names()"
   ]
  },
  {
   "cell_type": "markdown",
   "id": "c0ed1d8b",
   "metadata": {},
   "source": [
    "#### b) Database 생성 및 선택\n",
    "- 존재하는 데이터베이스는 .을 이용해 속성 처럼 부를수있다\n",
    "- 새로 생성할땐 []을 이용해서 key value로 새로운 데이터 베이스 생성\n",
    "    > 새로 생성시 이미 존재하는 db이면 해당 db가 선택된다\n",
    "- pymongo통해 db 생성시 => database is not created until it gets content!"
   ]
  },
  {
   "cell_type": "code",
   "execution_count": 9,
   "id": "ce542cbe",
   "metadata": {},
   "outputs": [
    {
     "data": {
      "text/plain": [
       "Database(MongoClient(host=['localhost:27017'], document_class=dict, tz_aware=False, connect=True), 'BigData')"
      ]
     },
     "execution_count": 9,
     "metadata": {},
     "output_type": "execute_result"
    }
   ],
   "source": [
    "BigData_db = connection.BigData\n",
    "BigData_db"
   ]
  },
  {
   "cell_type": "code",
   "execution_count": 13,
   "id": "b0e8d3c3",
   "metadata": {},
   "outputs": [
    {
     "data": {
      "text/plain": [
       "Database(MongoClient(host=['localhost:27017'], document_class=dict, tz_aware=False, connect=True), '쥬피터에서만든db')"
      ]
     },
     "execution_count": 13,
     "metadata": {},
     "output_type": "execute_result"
    }
   ],
   "source": [
    "db = connection['쥬피터에서만든db'] \n",
    "db"
   ]
  },
  {
   "cell_type": "markdown",
   "id": "f0057b8a",
   "metadata": {},
   "source": [
    "#### c) Collection들을 보고싶을때"
   ]
  },
  {
   "cell_type": "code",
   "execution_count": 15,
   "id": "7a02c1ae",
   "metadata": {},
   "outputs": [
    {
     "name": "stdout",
     "output_type": "stream",
     "text": [
      "['sleepdata']\n"
     ]
    }
   ],
   "source": [
    "print(BigData_db.list_collection_names())"
   ]
  },
  {
   "cell_type": "markdown",
   "id": "4ad49efa",
   "metadata": {},
   "source": [
    "#### d) Collection 생성 및 선택\n",
    "- Database 생성 및 선택과 동일한 방식으로\n",
    "- pymongo통해 db 생성시 => database is not created until it gets content!"
   ]
  },
  {
   "cell_type": "code",
   "execution_count": 16,
   "id": "20204fb7",
   "metadata": {},
   "outputs": [
    {
     "data": {
      "text/plain": [
       "Collection(Database(MongoClient(host=['localhost:27017'], document_class=dict, tz_aware=False, connect=True), '쥬피터에서만든db'), '쥬피터에서만든collection')"
      ]
     },
     "execution_count": 16,
     "metadata": {},
     "output_type": "execute_result"
    }
   ],
   "source": [
    "collection = db['쥬피터에서만든collection']\n",
    "collection"
   ]
  },
  {
   "cell_type": "markdown",
   "id": "40558486",
   "metadata": {},
   "source": [
    "### 2. CRUD (create, read, update, delete)\n"
   ]
  },
  {
   "cell_type": "markdown",
   "id": "99b49ffb",
   "metadata": {},
   "source": [
    "#### a) 데이터 삽입\n",
    "- insert_one(dict형식) : 한개의 document \n",
    "- insert_many([dict,dict,,,]) : 여러개의 document\n",
    "- 구체적인 schema가 없기 때문에 형식이 자유롭다 넣고 싶은대로 넣어라 => 다만 dict(json)형식만 유지해서"
   ]
  },
  {
   "cell_type": "code",
   "execution_count": 57,
   "id": "0d681a8b",
   "metadata": {},
   "outputs": [
    {
     "data": {
      "text/plain": [
       "<pymongo.results.InsertOneResult at 0x7fa1c1164d40>"
      ]
     },
     "execution_count": 57,
     "metadata": {},
     "output_type": "execute_result"
    }
   ],
   "source": [
    "# insert_one()\n",
    "collection.insert_one({\n",
    "    'author' : 'kanghee01',\n",
    "    'subject' : 'mongodb',\n",
    "    'int_value' : 10,\n",
    "    'list_value' : [1,2,3]\n",
    "})"
   ]
  },
  {
   "cell_type": "code",
   "execution_count": 19,
   "id": "d6b360d1",
   "metadata": {},
   "outputs": [
    {
     "name": "stdout",
     "output_type": "stream",
     "text": [
      "{'_id': ObjectId('61422c39b973c29ff223fc7f'), 'author': 'kanghee01', 'subject': 'mongodb', 'int_value': 10, 'list_value': [1, 2, 3]}\n"
     ]
    }
   ],
   "source": [
    "# read 미리 맞만 보자\n",
    "# documet를 한줄씩 출력하는 코드\n",
    "for i in collection.find():\n",
    "    print(i)"
   ]
  },
  {
   "cell_type": "code",
   "execution_count": 21,
   "id": "e2ebdf86",
   "metadata": {},
   "outputs": [
    {
     "data": {
      "text/plain": [
       "<pymongo.results.InsertManyResult at 0x7fa1c1162cc0>"
      ]
     },
     "execution_count": 21,
     "metadata": {},
     "output_type": "execute_result"
    }
   ],
   "source": [
    "# insert_many()\n",
    "collection.insert_many(\n",
    "    [\n",
    "        {\n",
    "            'author' : 'kanghee02',\n",
    "            'subject' : 'mongodb',\n",
    "            'int_value' : 8,\n",
    "            'dict_value' : {'a':1,'b':2}\n",
    "        } ,\n",
    "        {\n",
    "            'author' : 'kanghee03',\n",
    "            'subject' : 'mongodb',\n",
    "            'int_value' : 8,\n",
    "            'dict_value' : {'a':1,'b':2,'c':3}\n",
    "        }\n",
    "    ]\n",
    ")"
   ]
  },
  {
   "cell_type": "code",
   "execution_count": 22,
   "id": "7af274eb",
   "metadata": {},
   "outputs": [
    {
     "name": "stdout",
     "output_type": "stream",
     "text": [
      "{'_id': ObjectId('61422c39b973c29ff223fc7f'), 'author': 'kanghee01', 'subject': 'mongodb', 'int_value': 10, 'list_value': [1, 2, 3]}\n",
      "{'_id': ObjectId('61422cfeb973c29ff223fc80'), 'author': 'kanghee02', 'subject': 'mongodb', 'int_value': 8, 'dict_value': {'a': 1, 'b': 2}}\n",
      "{'_id': ObjectId('61422cfeb973c29ff223fc81'), 'author': 'kanghee03', 'subject': 'mongodb', 'int_value': 8, 'dict_value': {'a': 1, 'b': 2, 'c': 3}}\n"
     ]
    }
   ],
   "source": [
    "for i in collection.find():\n",
    "    print(i)"
   ]
  },
  {
   "cell_type": "markdown",
   "id": "1baeb543",
   "metadata": {},
   "source": [
    "#### 주의! duplicate keyerror"
   ]
  },
  {
   "cell_type": "code",
   "execution_count": 24,
   "id": "9f91af42",
   "metadata": {},
   "outputs": [
    {
     "data": {
      "text/plain": [
       "<pymongo.results.InsertOneResult at 0x7fa1c11649c0>"
      ]
     },
     "execution_count": 24,
     "metadata": {},
     "output_type": "execute_result"
    }
   ],
   "source": [
    "document01 = {'dummy':'dummy value'}\n",
    "collection.insert_one(document01)"
   ]
  },
  {
   "cell_type": "code",
   "execution_count": 34,
   "id": "3ee6f917",
   "metadata": {
    "collapsed": true
   },
   "outputs": [
    {
     "ename": "DuplicateKeyError",
     "evalue": "E11000 duplicate key error collection: 쥬피터에서만든db.쥬피터에서만든collection index: _id_ dup key: { _id: ObjectId('61422d3bb973c29ff223fc82') }, full error: {'index': 0, 'code': 11000, 'keyPattern': {'_id': 1}, 'keyValue': {'_id': ObjectId('61422d3bb973c29ff223fc82')}, 'errmsg': \"E11000 duplicate key error collection: 쥬피터에서만든db.쥬피터에서만든collection index: _id_ dup key: { _id: ObjectId('61422d3bb973c29ff223fc82') }\"}",
     "output_type": "error",
     "traceback": [
      "\u001b[0;31m---------------------------------------------------------------------------\u001b[0m",
      "\u001b[0;31mDuplicateKeyError\u001b[0m                         Traceback (most recent call last)",
      "\u001b[0;32m/var/folders/v3/m9cgmw1d3qs7ppj4ltvx26pc0000gn/T/ipykernel_91627/3155331446.py\u001b[0m in \u001b[0;36m<module>\u001b[0;34m\u001b[0m\n\u001b[1;32m      1\u001b[0m \u001b[0;31m# 변수로 저장되어 있는 document01을 동일하게 한번 더 넣으려고 하면 duplicate keyerror난다\u001b[0m\u001b[0;34m\u001b[0m\u001b[0;34m\u001b[0m\u001b[0;34m\u001b[0m\u001b[0m\n\u001b[1;32m      2\u001b[0m \u001b[0;31m# 이렇게 사용하지 말자\u001b[0m\u001b[0;34m\u001b[0m\u001b[0;34m\u001b[0m\u001b[0;34m\u001b[0m\u001b[0m\n\u001b[0;32m----> 3\u001b[0;31m \u001b[0mcollection\u001b[0m\u001b[0;34m.\u001b[0m\u001b[0minsert_one\u001b[0m\u001b[0;34m(\u001b[0m\u001b[0mdocument01\u001b[0m\u001b[0;34m.\u001b[0m\u001b[0mcopy\u001b[0m\u001b[0;34m(\u001b[0m\u001b[0;34m)\u001b[0m\u001b[0;34m)\u001b[0m\u001b[0;34m\u001b[0m\u001b[0;34m\u001b[0m\u001b[0m\n\u001b[0m",
      "\u001b[0;32m~/opt/anaconda3/lib/python3.8/site-packages/pymongo/collection.py\u001b[0m in \u001b[0;36minsert_one\u001b[0;34m(self, document, bypass_document_validation, session)\u001b[0m\n\u001b[1;32m    703\u001b[0m         \u001b[0mwrite_concern\u001b[0m \u001b[0;34m=\u001b[0m \u001b[0mself\u001b[0m\u001b[0;34m.\u001b[0m\u001b[0m_write_concern_for\u001b[0m\u001b[0;34m(\u001b[0m\u001b[0msession\u001b[0m\u001b[0;34m)\u001b[0m\u001b[0;34m\u001b[0m\u001b[0;34m\u001b[0m\u001b[0m\n\u001b[1;32m    704\u001b[0m         return InsertOneResult(\n\u001b[0;32m--> 705\u001b[0;31m             self._insert(document,\n\u001b[0m\u001b[1;32m    706\u001b[0m                          \u001b[0mwrite_concern\u001b[0m\u001b[0;34m=\u001b[0m\u001b[0mwrite_concern\u001b[0m\u001b[0;34m,\u001b[0m\u001b[0;34m\u001b[0m\u001b[0;34m\u001b[0m\u001b[0m\n\u001b[1;32m    707\u001b[0m                          \u001b[0mbypass_doc_val\u001b[0m\u001b[0;34m=\u001b[0m\u001b[0mbypass_document_validation\u001b[0m\u001b[0;34m,\u001b[0m\u001b[0;34m\u001b[0m\u001b[0;34m\u001b[0m\u001b[0m\n",
      "\u001b[0;32m~/opt/anaconda3/lib/python3.8/site-packages/pymongo/collection.py\u001b[0m in \u001b[0;36m_insert\u001b[0;34m(self, docs, ordered, check_keys, manipulate, write_concern, op_id, bypass_doc_val, session)\u001b[0m\n\u001b[1;32m    618\u001b[0m         \u001b[0;34m\"\"\"Internal insert helper.\"\"\"\u001b[0m\u001b[0;34m\u001b[0m\u001b[0;34m\u001b[0m\u001b[0m\n\u001b[1;32m    619\u001b[0m         \u001b[0;32mif\u001b[0m \u001b[0misinstance\u001b[0m\u001b[0;34m(\u001b[0m\u001b[0mdocs\u001b[0m\u001b[0;34m,\u001b[0m \u001b[0mabc\u001b[0m\u001b[0;34m.\u001b[0m\u001b[0mMapping\u001b[0m\u001b[0;34m)\u001b[0m\u001b[0;34m:\u001b[0m\u001b[0;34m\u001b[0m\u001b[0;34m\u001b[0m\u001b[0m\n\u001b[0;32m--> 620\u001b[0;31m             return self._insert_one(\n\u001b[0m\u001b[1;32m    621\u001b[0m                 \u001b[0mdocs\u001b[0m\u001b[0;34m,\u001b[0m \u001b[0mordered\u001b[0m\u001b[0;34m,\u001b[0m \u001b[0mcheck_keys\u001b[0m\u001b[0;34m,\u001b[0m \u001b[0mmanipulate\u001b[0m\u001b[0;34m,\u001b[0m \u001b[0mwrite_concern\u001b[0m\u001b[0;34m,\u001b[0m \u001b[0mop_id\u001b[0m\u001b[0;34m,\u001b[0m\u001b[0;34m\u001b[0m\u001b[0;34m\u001b[0m\u001b[0m\n\u001b[1;32m    622\u001b[0m                 bypass_doc_val, session)\n",
      "\u001b[0;32m~/opt/anaconda3/lib/python3.8/site-packages/pymongo/collection.py\u001b[0m in \u001b[0;36m_insert_one\u001b[0;34m(self, doc, ordered, check_keys, manipulate, write_concern, op_id, bypass_doc_val, session)\u001b[0m\n\u001b[1;32m    607\u001b[0m             \u001b[0m_check_write_command_response\u001b[0m\u001b[0;34m(\u001b[0m\u001b[0mresult\u001b[0m\u001b[0;34m)\u001b[0m\u001b[0;34m\u001b[0m\u001b[0;34m\u001b[0m\u001b[0m\n\u001b[1;32m    608\u001b[0m \u001b[0;34m\u001b[0m\u001b[0m\n\u001b[0;32m--> 609\u001b[0;31m         self.__database.client._retryable_write(\n\u001b[0m\u001b[1;32m    610\u001b[0m             acknowledged, _insert_command, session)\n\u001b[1;32m    611\u001b[0m \u001b[0;34m\u001b[0m\u001b[0m\n",
      "\u001b[0;32m~/opt/anaconda3/lib/python3.8/site-packages/pymongo/mongo_client.py\u001b[0m in \u001b[0;36m_retryable_write\u001b[0;34m(self, retryable, func, session)\u001b[0m\n\u001b[1;32m   1550\u001b[0m         \u001b[0;34m\"\"\"Internal retryable write helper.\"\"\"\u001b[0m\u001b[0;34m\u001b[0m\u001b[0;34m\u001b[0m\u001b[0m\n\u001b[1;32m   1551\u001b[0m         \u001b[0;32mwith\u001b[0m \u001b[0mself\u001b[0m\u001b[0;34m.\u001b[0m\u001b[0m_tmp_session\u001b[0m\u001b[0;34m(\u001b[0m\u001b[0msession\u001b[0m\u001b[0;34m)\u001b[0m \u001b[0;32mas\u001b[0m \u001b[0ms\u001b[0m\u001b[0;34m:\u001b[0m\u001b[0;34m\u001b[0m\u001b[0;34m\u001b[0m\u001b[0m\n\u001b[0;32m-> 1552\u001b[0;31m             \u001b[0;32mreturn\u001b[0m \u001b[0mself\u001b[0m\u001b[0;34m.\u001b[0m\u001b[0m_retry_with_session\u001b[0m\u001b[0;34m(\u001b[0m\u001b[0mretryable\u001b[0m\u001b[0;34m,\u001b[0m \u001b[0mfunc\u001b[0m\u001b[0;34m,\u001b[0m \u001b[0ms\u001b[0m\u001b[0;34m,\u001b[0m \u001b[0;32mNone\u001b[0m\u001b[0;34m)\u001b[0m\u001b[0;34m\u001b[0m\u001b[0;34m\u001b[0m\u001b[0m\n\u001b[0m\u001b[1;32m   1553\u001b[0m \u001b[0;34m\u001b[0m\u001b[0m\n\u001b[1;32m   1554\u001b[0m     \u001b[0;32mdef\u001b[0m \u001b[0m_handle_getlasterror\u001b[0m\u001b[0;34m(\u001b[0m\u001b[0mself\u001b[0m\u001b[0;34m,\u001b[0m \u001b[0maddress\u001b[0m\u001b[0;34m,\u001b[0m \u001b[0merror_msg\u001b[0m\u001b[0;34m)\u001b[0m\u001b[0;34m:\u001b[0m\u001b[0;34m\u001b[0m\u001b[0;34m\u001b[0m\u001b[0m\n",
      "\u001b[0;32m~/opt/anaconda3/lib/python3.8/site-packages/pymongo/mongo_client.py\u001b[0m in \u001b[0;36m_retry_with_session\u001b[0;34m(self, retryable, func, session, bulk)\u001b[0m\n\u001b[1;32m   1436\u001b[0m         retryable = (retryable and self.retry_writes\n\u001b[1;32m   1437\u001b[0m                      and session and not session.in_transaction)\n\u001b[0;32m-> 1438\u001b[0;31m         \u001b[0;32mreturn\u001b[0m \u001b[0mself\u001b[0m\u001b[0;34m.\u001b[0m\u001b[0m_retry_internal\u001b[0m\u001b[0;34m(\u001b[0m\u001b[0mretryable\u001b[0m\u001b[0;34m,\u001b[0m \u001b[0mfunc\u001b[0m\u001b[0;34m,\u001b[0m \u001b[0msession\u001b[0m\u001b[0;34m,\u001b[0m \u001b[0mbulk\u001b[0m\u001b[0;34m)\u001b[0m\u001b[0;34m\u001b[0m\u001b[0;34m\u001b[0m\u001b[0m\n\u001b[0m\u001b[1;32m   1439\u001b[0m \u001b[0;34m\u001b[0m\u001b[0m\n\u001b[1;32m   1440\u001b[0m     \u001b[0;32mdef\u001b[0m \u001b[0m_retry_internal\u001b[0m\u001b[0;34m(\u001b[0m\u001b[0mself\u001b[0m\u001b[0;34m,\u001b[0m \u001b[0mretryable\u001b[0m\u001b[0;34m,\u001b[0m \u001b[0mfunc\u001b[0m\u001b[0;34m,\u001b[0m \u001b[0msession\u001b[0m\u001b[0;34m,\u001b[0m \u001b[0mbulk\u001b[0m\u001b[0;34m)\u001b[0m\u001b[0;34m:\u001b[0m\u001b[0;34m\u001b[0m\u001b[0;34m\u001b[0m\u001b[0m\n",
      "\u001b[0;32m~/opt/anaconda3/lib/python3.8/site-packages/pymongo/mongo_client.py\u001b[0m in \u001b[0;36m_retry_internal\u001b[0;34m(self, retryable, func, session, bulk)\u001b[0m\n\u001b[1;32m   1468\u001b[0m                             \u001b[0;32mraise\u001b[0m \u001b[0mlast_error\u001b[0m\u001b[0;34m\u001b[0m\u001b[0;34m\u001b[0m\u001b[0m\n\u001b[1;32m   1469\u001b[0m                         \u001b[0mretryable\u001b[0m \u001b[0;34m=\u001b[0m \u001b[0;32mFalse\u001b[0m\u001b[0;34m\u001b[0m\u001b[0;34m\u001b[0m\u001b[0m\n\u001b[0;32m-> 1470\u001b[0;31m                     \u001b[0;32mreturn\u001b[0m \u001b[0mfunc\u001b[0m\u001b[0;34m(\u001b[0m\u001b[0msession\u001b[0m\u001b[0;34m,\u001b[0m \u001b[0msock_info\u001b[0m\u001b[0;34m,\u001b[0m \u001b[0mretryable\u001b[0m\u001b[0;34m)\u001b[0m\u001b[0;34m\u001b[0m\u001b[0;34m\u001b[0m\u001b[0m\n\u001b[0m\u001b[1;32m   1471\u001b[0m             \u001b[0;32mexcept\u001b[0m \u001b[0mServerSelectionTimeoutError\u001b[0m\u001b[0;34m:\u001b[0m\u001b[0;34m\u001b[0m\u001b[0;34m\u001b[0m\u001b[0m\n\u001b[1;32m   1472\u001b[0m                 \u001b[0;32mif\u001b[0m \u001b[0mis_retrying\u001b[0m\u001b[0;34m(\u001b[0m\u001b[0;34m)\u001b[0m\u001b[0;34m:\u001b[0m\u001b[0;34m\u001b[0m\u001b[0;34m\u001b[0m\u001b[0m\n",
      "\u001b[0;32m~/opt/anaconda3/lib/python3.8/site-packages/pymongo/collection.py\u001b[0m in \u001b[0;36m_insert_command\u001b[0;34m(session, sock_info, retryable_write)\u001b[0m\n\u001b[1;32m    605\u001b[0m                 retryable_write=retryable_write)\n\u001b[1;32m    606\u001b[0m \u001b[0;34m\u001b[0m\u001b[0m\n\u001b[0;32m--> 607\u001b[0;31m             \u001b[0m_check_write_command_response\u001b[0m\u001b[0;34m(\u001b[0m\u001b[0mresult\u001b[0m\u001b[0;34m)\u001b[0m\u001b[0;34m\u001b[0m\u001b[0;34m\u001b[0m\u001b[0m\n\u001b[0m\u001b[1;32m    608\u001b[0m \u001b[0;34m\u001b[0m\u001b[0m\n\u001b[1;32m    609\u001b[0m         self.__database.client._retryable_write(\n",
      "\u001b[0;32m~/opt/anaconda3/lib/python3.8/site-packages/pymongo/helpers.py\u001b[0m in \u001b[0;36m_check_write_command_response\u001b[0;34m(result)\u001b[0m\n\u001b[1;32m    227\u001b[0m     \u001b[0mwrite_errors\u001b[0m \u001b[0;34m=\u001b[0m \u001b[0mresult\u001b[0m\u001b[0;34m.\u001b[0m\u001b[0mget\u001b[0m\u001b[0;34m(\u001b[0m\u001b[0;34m\"writeErrors\"\u001b[0m\u001b[0;34m)\u001b[0m\u001b[0;34m\u001b[0m\u001b[0;34m\u001b[0m\u001b[0m\n\u001b[1;32m    228\u001b[0m     \u001b[0;32mif\u001b[0m \u001b[0mwrite_errors\u001b[0m\u001b[0;34m:\u001b[0m\u001b[0;34m\u001b[0m\u001b[0;34m\u001b[0m\u001b[0m\n\u001b[0;32m--> 229\u001b[0;31m         \u001b[0m_raise_last_write_error\u001b[0m\u001b[0;34m(\u001b[0m\u001b[0mwrite_errors\u001b[0m\u001b[0;34m)\u001b[0m\u001b[0;34m\u001b[0m\u001b[0;34m\u001b[0m\u001b[0m\n\u001b[0m\u001b[1;32m    230\u001b[0m \u001b[0;34m\u001b[0m\u001b[0m\n\u001b[1;32m    231\u001b[0m     \u001b[0merror\u001b[0m \u001b[0;34m=\u001b[0m \u001b[0mresult\u001b[0m\u001b[0;34m.\u001b[0m\u001b[0mget\u001b[0m\u001b[0;34m(\u001b[0m\u001b[0;34m\"writeConcernError\"\u001b[0m\u001b[0;34m)\u001b[0m\u001b[0;34m\u001b[0m\u001b[0;34m\u001b[0m\u001b[0m\n",
      "\u001b[0;32m~/opt/anaconda3/lib/python3.8/site-packages/pymongo/helpers.py\u001b[0m in \u001b[0;36m_raise_last_write_error\u001b[0;34m(write_errors)\u001b[0m\n\u001b[1;32m    208\u001b[0m     \u001b[0merror\u001b[0m \u001b[0;34m=\u001b[0m \u001b[0mwrite_errors\u001b[0m\u001b[0;34m[\u001b[0m\u001b[0;34m-\u001b[0m\u001b[0;36m1\u001b[0m\u001b[0;34m]\u001b[0m\u001b[0;34m\u001b[0m\u001b[0;34m\u001b[0m\u001b[0m\n\u001b[1;32m    209\u001b[0m     \u001b[0;32mif\u001b[0m \u001b[0merror\u001b[0m\u001b[0;34m.\u001b[0m\u001b[0mget\u001b[0m\u001b[0;34m(\u001b[0m\u001b[0;34m\"code\"\u001b[0m\u001b[0;34m)\u001b[0m \u001b[0;34m==\u001b[0m \u001b[0;36m11000\u001b[0m\u001b[0;34m:\u001b[0m\u001b[0;34m\u001b[0m\u001b[0;34m\u001b[0m\u001b[0m\n\u001b[0;32m--> 210\u001b[0;31m         \u001b[0;32mraise\u001b[0m \u001b[0mDuplicateKeyError\u001b[0m\u001b[0;34m(\u001b[0m\u001b[0merror\u001b[0m\u001b[0;34m.\u001b[0m\u001b[0mget\u001b[0m\u001b[0;34m(\u001b[0m\u001b[0;34m\"errmsg\"\u001b[0m\u001b[0;34m)\u001b[0m\u001b[0;34m,\u001b[0m \u001b[0;36m11000\u001b[0m\u001b[0;34m,\u001b[0m \u001b[0merror\u001b[0m\u001b[0;34m)\u001b[0m\u001b[0;34m\u001b[0m\u001b[0;34m\u001b[0m\u001b[0m\n\u001b[0m\u001b[1;32m    211\u001b[0m     \u001b[0;32mraise\u001b[0m \u001b[0mWriteError\u001b[0m\u001b[0;34m(\u001b[0m\u001b[0merror\u001b[0m\u001b[0;34m.\u001b[0m\u001b[0mget\u001b[0m\u001b[0;34m(\u001b[0m\u001b[0;34m\"errmsg\"\u001b[0m\u001b[0;34m)\u001b[0m\u001b[0;34m,\u001b[0m \u001b[0merror\u001b[0m\u001b[0;34m.\u001b[0m\u001b[0mget\u001b[0m\u001b[0;34m(\u001b[0m\u001b[0;34m\"code\"\u001b[0m\u001b[0;34m)\u001b[0m\u001b[0;34m,\u001b[0m \u001b[0merror\u001b[0m\u001b[0;34m)\u001b[0m\u001b[0;34m\u001b[0m\u001b[0;34m\u001b[0m\u001b[0m\n\u001b[1;32m    212\u001b[0m \u001b[0;34m\u001b[0m\u001b[0m\n",
      "\u001b[0;31mDuplicateKeyError\u001b[0m: E11000 duplicate key error collection: 쥬피터에서만든db.쥬피터에서만든collection index: _id_ dup key: { _id: ObjectId('61422d3bb973c29ff223fc82') }, full error: {'index': 0, 'code': 11000, 'keyPattern': {'_id': 1}, 'keyValue': {'_id': ObjectId('61422d3bb973c29ff223fc82')}, 'errmsg': \"E11000 duplicate key error collection: 쥬피터에서만든db.쥬피터에서만든collection index: _id_ dup key: { _id: ObjectId('61422d3bb973c29ff223fc82') }\"}"
     ]
    }
   ],
   "source": [
    "# 변수로 저장되어 있는 document01을 동일하게 한번 더 넣으려고 하면 duplicate keyerror난다 \n",
    "# 이렇게 사용하지 말자\n",
    "collection.insert_one(document01.copy()) # 에러코드"
   ]
  },
  {
   "cell_type": "markdown",
   "id": "f1642623",
   "metadata": {},
   "source": [
    "#### b) 데이터 읽기\n",
    "- find_one()\n",
    "- find() => 반환타입이 Cursor다, 즉 쉽게말해 for문으로 document를 꺼내야한다\n",
    "    - find({select쿼리} {프로젝션})\n",
    "    - 비교문법\n",
    "        - \\$gt >\n",
    "        - \\$gte >=\n",
    "        - \\$lt <\n",
    "        - \\$lte <=\n",
    "        - \\$ne !=\n",
    "        - \\$eq ==\n",
    "        - \\$in in"
   ]
  },
  {
   "cell_type": "code",
   "execution_count": 37,
   "id": "2e9a2d7e",
   "metadata": {},
   "outputs": [
    {
     "data": {
      "text/plain": [
       "{'_id': ObjectId('61422c39b973c29ff223fc7f'),\n",
       " 'author': 'kanghee01',\n",
       " 'subject': 'mongodb',\n",
       " 'int_value': 10,\n",
       " 'list_value': [1, 2, 3]}"
      ]
     },
     "execution_count": 37,
     "metadata": {},
     "output_type": "execute_result"
    }
   ],
   "source": [
    "# find_one \n",
    "collection.find_one() # 첫번째 document 꺼내온다"
   ]
  },
  {
   "cell_type": "code",
   "execution_count": 35,
   "id": "f081593c",
   "metadata": {},
   "outputs": [
    {
     "data": {
      "text/plain": [
       "<pymongo.cursor.Cursor at 0x7fa1c14c25e0>"
      ]
     },
     "execution_count": 35,
     "metadata": {},
     "output_type": "execute_result"
    }
   ],
   "source": [
    "collection.find() # 타입에 주의하자"
   ]
  },
  {
   "cell_type": "code",
   "execution_count": 38,
   "id": "9eaf600d",
   "metadata": {},
   "outputs": [
    {
     "name": "stdout",
     "output_type": "stream",
     "text": [
      "{'_id': ObjectId('61422c39b973c29ff223fc7f'), 'author': 'kanghee01', 'subject': 'mongodb', 'int_value': 10, 'list_value': [1, 2, 3]}\n",
      "{'_id': ObjectId('61422cfeb973c29ff223fc80'), 'author': 'kanghee02', 'subject': 'mongodb', 'int_value': 8, 'dict_value': {'a': 1, 'b': 2}}\n",
      "{'_id': ObjectId('61422cfeb973c29ff223fc81'), 'author': 'kanghee03', 'subject': 'mongodb', 'int_value': 8, 'dict_value': {'a': 1, 'b': 2, 'c': 3}}\n",
      "{'_id': ObjectId('61422d3bb973c29ff223fc82'), 'dummy': 'dummy value'}\n"
     ]
    }
   ],
   "source": [
    "for i in collection.find():\n",
    "    print(i)"
   ]
  },
  {
   "cell_type": "code",
   "execution_count": 40,
   "id": "cf52559e",
   "metadata": {},
   "outputs": [
    {
     "name": "stdout",
     "output_type": "stream",
     "text": [
      "{'_id': ObjectId('61422c39b973c29ff223fc7f'), 'author': 'kanghee01', 'subject': 'mongodb', 'int_value': 10, 'list_value': [1, 2, 3]}\n",
      "{'_id': ObjectId('61422cfeb973c29ff223fc80'), 'author': 'kanghee02', 'subject': 'mongodb', 'int_value': 8, 'dict_value': {'a': 1, 'b': 2}}\n",
      "{'_id': ObjectId('61422cfeb973c29ff223fc81'), 'author': 'kanghee03', 'subject': 'mongodb', 'int_value': 8, 'dict_value': {'a': 1, 'b': 2, 'c': 3}}\n",
      "{'_id': ObjectId('61422d3bb973c29ff223fc82'), 'dummy': 'dummy value'}\n"
     ]
    }
   ],
   "source": [
    "# 위와 동일한 값이다\n",
    "for i in collection.find({}):\n",
    "    print(i)"
   ]
  },
  {
   "cell_type": "code",
   "execution_count": 41,
   "id": "b6389056",
   "metadata": {},
   "outputs": [
    {
     "data": {
      "text/plain": [
       "<pymongo.results.InsertManyResult at 0x7fa1c0f2d540>"
      ]
     },
     "execution_count": 41,
     "metadata": {},
     "output_type": "execute_result"
    }
   ],
   "source": [
    "# 실습을 위해 데이터를 더 집어넣어보자\n",
    "collection.insert_many(\n",
    "    [\n",
    "        {\n",
    "            'author' : 'kanghee04',\n",
    "            'subject' : 'mongodb',\n",
    "            'int_value' : 9,\n",
    "            'dict_value' : {'a':1,'b':2}\n",
    "        } ,\n",
    "        {\n",
    "            'author' : 'kanghee04',\n",
    "            'subject' : 'mongodb',\n",
    "            'int_value' : 10,\n",
    "            'dict_value' : {'a':1,'b':2,'c':3}\n",
    "        }\n",
    "    ]\n",
    ")"
   ]
  },
  {
   "cell_type": "code",
   "execution_count": 45,
   "id": "d6859122",
   "metadata": {},
   "outputs": [
    {
     "name": "stdout",
     "output_type": "stream",
     "text": [
      "{'_id': ObjectId('61423285b973c29ff223fc83'), 'author': 'kanghee04', 'subject': 'mongodb', 'int_value': 9, 'dict_value': {'a': 1, 'b': 2}}\n",
      "{'_id': ObjectId('61423285b973c29ff223fc84'), 'author': 'kanghee04', 'subject': 'mongodb', 'int_value': 10, 'dict_value': {'a': 1, 'b': 2, 'c': 3}}\n"
     ]
    }
   ],
   "source": [
    "# find_one 쿼리\n",
    "# select * from table wher author =='kanghee04'\n",
    "for i in collection.find({'author':'kanghee04'}):\n",
    "    print(i)"
   ]
  },
  {
   "cell_type": "code",
   "execution_count": 46,
   "id": "9f12f76c",
   "metadata": {},
   "outputs": [
    {
     "name": "stdout",
     "output_type": "stream",
     "text": [
      "{'_id': ObjectId('61422c39b973c29ff223fc7f'), 'author': 'kanghee01', 'subject': 'mongodb', 'int_value': 10, 'list_value': [1, 2, 3]}\n",
      "{'_id': ObjectId('61423285b973c29ff223fc83'), 'author': 'kanghee04', 'subject': 'mongodb', 'int_value': 9, 'dict_value': {'a': 1, 'b': 2}}\n",
      "{'_id': ObjectId('61423285b973c29ff223fc84'), 'author': 'kanghee04', 'subject': 'mongodb', 'int_value': 10, 'dict_value': {'a': 1, 'b': 2, 'c': 3}}\n"
     ]
    }
   ],
   "source": [
    "# 비교문법을 사용한 쿼리문\n",
    "for i in collection.find({'int_value':{'$gt':8}}):\n",
    "    print(i)\n"
   ]
  },
  {
   "cell_type": "code",
   "execution_count": 49,
   "id": "93ccfe25",
   "metadata": {},
   "outputs": [
    {
     "name": "stdout",
     "output_type": "stream",
     "text": [
      "{'_id': ObjectId('61422cfeb973c29ff223fc80'), 'author': 'kanghee02', 'subject': 'mongodb', 'int_value': 8, 'dict_value': {'a': 1, 'b': 2}}\n",
      "{'_id': ObjectId('61422cfeb973c29ff223fc81'), 'author': 'kanghee03', 'subject': 'mongodb', 'int_value': 8, 'dict_value': {'a': 1, 'b': 2, 'c': 3}}\n"
     ]
    }
   ],
   "source": [
    "for i in collection.find({'int_value':{'$lte':8}}):\n",
    "    print(i)\n"
   ]
  },
  {
   "cell_type": "code",
   "execution_count": 50,
   "id": "a349d70d",
   "metadata": {},
   "outputs": [
    {
     "name": "stdout",
     "output_type": "stream",
     "text": [
      "{'_id': ObjectId('61422c39b973c29ff223fc7f'), 'author': 'kanghee01', 'subject': 'mongodb', 'int_value': 10, 'list_value': [1, 2, 3]}\n",
      "{'_id': ObjectId('61423285b973c29ff223fc83'), 'author': 'kanghee04', 'subject': 'mongodb', 'int_value': 9, 'dict_value': {'a': 1, 'b': 2}}\n",
      "{'_id': ObjectId('61423285b973c29ff223fc84'), 'author': 'kanghee04', 'subject': 'mongodb', 'int_value': 10, 'dict_value': {'a': 1, 'b': 2, 'c': 3}}\n"
     ]
    }
   ],
   "source": [
    "for i in collection.find({'int_value':{'$in':[9,10]}}):\n",
    "    print(i)"
   ]
  },
  {
   "cell_type": "code",
   "execution_count": 54,
   "id": "6cd28b84",
   "metadata": {},
   "outputs": [
    {
     "name": "stdout",
     "output_type": "stream",
     "text": [
      "{'_id': ObjectId('61423285b973c29ff223fc83'), 'author': 'kanghee04', 'subject': 'mongodb', 'int_value': 9, 'dict_value': {'a': 1, 'b': 2}}\n",
      "{'_id': ObjectId('61423285b973c29ff223fc84'), 'author': 'kanghee04', 'subject': 'mongodb', 'int_value': 10, 'dict_value': {'a': 1, 'b': 2, 'c': 3}}\n"
     ]
    }
   ],
   "source": [
    "# 두개 이상의 조건도 가능하다\n",
    "for i in collection.find({'int_value':{'$in':[9,10]},'author':'kanghee04'}):\n",
    "    print(i)"
   ]
  },
  {
   "cell_type": "code",
   "execution_count": 52,
   "id": "4df686fe",
   "metadata": {},
   "outputs": [
    {
     "name": "stdout",
     "output_type": "stream",
     "text": [
      "{'_id': ObjectId('61422c39b973c29ff223fc7f'), 'int_value': 10}\n",
      "{'_id': ObjectId('61423285b973c29ff223fc83'), 'int_value': 9}\n",
      "{'_id': ObjectId('61423285b973c29ff223fc84'), 'int_value': 10}\n"
     ]
    }
   ],
   "source": [
    "# 프로젝션\n",
    "# 원하는 fild명에 1을 준다\n",
    "# 다만 _id는 무조건 나오기때문에 다시 설정 필요\n",
    "for i in collection.find({'int_value':{'$in':[9,10]}},{'int_value':1}):\n",
    "    print(i)"
   ]
  },
  {
   "cell_type": "code",
   "execution_count": 53,
   "id": "c01b2607",
   "metadata": {},
   "outputs": [
    {
     "name": "stdout",
     "output_type": "stream",
     "text": [
      "{'author': 'kanghee01', 'int_value': 10}\n",
      "{'author': 'kanghee04', 'int_value': 9}\n",
      "{'author': 'kanghee04', 'int_value': 10}\n"
     ]
    }
   ],
   "source": [
    "for i in collection.find({'int_value':{'$in':[9,10]}},{'int_value':1,'_id':0,'author':1}):\n",
    "    print(i)"
   ]
  },
  {
   "cell_type": "markdown",
   "id": "1fffe8b0",
   "metadata": {},
   "source": [
    "#### 추가적인 find옵션\n",
    "- find().limit()\n",
    "- find().sort()"
   ]
  },
  {
   "cell_type": "code",
   "execution_count": 68,
   "id": "6b6f6aa7",
   "metadata": {},
   "outputs": [
    {
     "name": "stdout",
     "output_type": "stream",
     "text": [
      "{'_id': ObjectId('61422cfeb973c29ff223fc80'), 'author': 'kanghee02', 'subject': 'mongodb', 'int_value': 8, 'dict_value': {'a': 1, 'b': 2}}\n",
      "{'_id': ObjectId('61422cfeb973c29ff223fc81'), 'author': 'kanghee03', 'subject': 'mongodb', 'int_value': 8, 'dict_value': {'a': 1, 'b': 2, 'c': 3}}\n",
      "{'_id': ObjectId('61422d3bb973c29ff223fc82'), 'dummy': 'dummy value'}\n"
     ]
    }
   ],
   "source": [
    "# head와 비슷한 역할\n",
    "for i in collection.find().limit(3):\n",
    "    print(i)"
   ]
  },
  {
   "cell_type": "code",
   "execution_count": 72,
   "id": "af390525",
   "metadata": {},
   "outputs": [
    {
     "name": "stdout",
     "output_type": "stream",
     "text": [
      "{'_id': ObjectId('61422d3bb973c29ff223fc82'), 'dummy': 'dummy value'}\n",
      "{'_id': ObjectId('61422cfeb973c29ff223fc80'), 'author': 'kanghee02', 'subject': 'mongodb', 'int_value': 8, 'dict_value': {'a': 1, 'b': 2}}\n",
      "{'_id': ObjectId('61422cfeb973c29ff223fc81'), 'author': 'kanghee03', 'subject': 'mongodb', 'int_value': 8, 'dict_value': {'a': 1, 'b': 2, 'c': 3}}\n",
      "{'_id': ObjectId('6142350eb973c29ff223fc85'), 'author': 'kanghee01', 'subject': 'mysql', 'int_value': 10, 'list_value': [1, 2, 3]}\n",
      "{'_id': ObjectId('61423285b973c29ff223fc83'), 'author': 'kanghee04', 'subject': 'mongodb', 'int_value': 100, 'dict_value': {'a': 1, 'b': 2}}\n",
      "{'_id': ObjectId('61423285b973c29ff223fc84'), 'author': 'kanghee04', 'subject': 'mongodb', 'int_value': 100, 'dict_value': {'a': 1, 'b': 2, 'c': 3}}\n"
     ]
    }
   ],
   "source": [
    "# sort 1은 ascending =True\n",
    "for i in collection.find().sort('int_value',1):\n",
    "    print(i)"
   ]
  },
  {
   "cell_type": "code",
   "execution_count": 73,
   "id": "8d13c64d",
   "metadata": {},
   "outputs": [
    {
     "name": "stdout",
     "output_type": "stream",
     "text": [
      "{'_id': ObjectId('61423285b973c29ff223fc83'), 'author': 'kanghee04', 'subject': 'mongodb', 'int_value': 100, 'dict_value': {'a': 1, 'b': 2}}\n",
      "{'_id': ObjectId('61423285b973c29ff223fc84'), 'author': 'kanghee04', 'subject': 'mongodb', 'int_value': 100, 'dict_value': {'a': 1, 'b': 2, 'c': 3}}\n",
      "{'_id': ObjectId('6142350eb973c29ff223fc85'), 'author': 'kanghee01', 'subject': 'mysql', 'int_value': 10, 'list_value': [1, 2, 3]}\n",
      "{'_id': ObjectId('61422cfeb973c29ff223fc80'), 'author': 'kanghee02', 'subject': 'mongodb', 'int_value': 8, 'dict_value': {'a': 1, 'b': 2}}\n",
      "{'_id': ObjectId('61422cfeb973c29ff223fc81'), 'author': 'kanghee03', 'subject': 'mongodb', 'int_value': 8, 'dict_value': {'a': 1, 'b': 2, 'c': 3}}\n",
      "{'_id': ObjectId('61422d3bb973c29ff223fc82'), 'dummy': 'dummy value'}\n"
     ]
    }
   ],
   "source": [
    "# sort -1은 ascending =False\n",
    "for i in collection.find().sort('int_value',-1):\n",
    "    print(i)"
   ]
  },
  {
   "cell_type": "markdown",
   "id": "b9762b85",
   "metadata": {},
   "source": [
    "#### c) update\n",
    "- update() 명령어는 depreciated \n",
    "- update_one({select쿼리}{update쿼리})\n",
    "- update_many({select쿼리}{update쿼리})\n",
    "#####  update 주로 사용하는 operator\n",
    "- \\$set : 필드값을 수정 => `{ $set: { <field1>: <value1>, ... } }`\n",
    "- \\$unset : 필들를 삭제 => `{ $unset: { <field1>: \"\", ... } }`"
   ]
  },
  {
   "cell_type": "code",
   "execution_count": 62,
   "id": "11a3b983",
   "metadata": {},
   "outputs": [
    {
     "name": "stdout",
     "output_type": "stream",
     "text": [
      "{'_id': ObjectId('61422cfeb973c29ff223fc80'), 'author': 'kanghee02', 'subject': 'mongodb', 'int_value': 8, 'dict_value': {'a': 1, 'b': 2}}\n",
      "{'_id': ObjectId('61422cfeb973c29ff223fc81'), 'author': 'kanghee03', 'subject': 'mongodb', 'int_value': 8, 'dict_value': {'a': 1, 'b': 2, 'c': 3}}\n",
      "{'_id': ObjectId('61422d3bb973c29ff223fc82'), 'dummy': 'dummy value'}\n",
      "{'_id': ObjectId('61423285b973c29ff223fc83'), 'author': 'kanghee04', 'subject': 'mongodb', 'int_value': 9, 'dict_value': {'a': 1, 'b': 2}}\n",
      "{'_id': ObjectId('61423285b973c29ff223fc84'), 'author': 'kanghee04', 'subject': 'mongodb', 'int_value': 10, 'dict_value': {'a': 1, 'b': 2, 'c': 3}}\n",
      "{'_id': ObjectId('6142350eb973c29ff223fc85'), 'author': 'kanghee01', 'subject': 'mysql', 'int_value': 10, 'list_value': [1, 2, 3]}\n"
     ]
    }
   ],
   "source": [
    "collection.update_one({'author':'kanghee01'},{'$set':{'subject':'mysql'}})\n",
    "for i in collection.find():\n",
    "    print(i)"
   ]
  },
  {
   "cell_type": "code",
   "execution_count": 66,
   "id": "c2bc2c98",
   "metadata": {},
   "outputs": [
    {
     "name": "stdout",
     "output_type": "stream",
     "text": [
      "{'_id': ObjectId('61422cfeb973c29ff223fc80'), 'author': 'kanghee02', 'subject': 'mongodb', 'int_value': 8, 'dict_value': {'a': 1, 'b': 2}}\n",
      "{'_id': ObjectId('61422cfeb973c29ff223fc81'), 'author': 'kanghee03', 'subject': 'mongodb', 'int_value': 8, 'dict_value': {'a': 1, 'b': 2, 'c': 3}}\n",
      "{'_id': ObjectId('61422d3bb973c29ff223fc82'), 'dummy': 'dummy value'}\n",
      "{'_id': ObjectId('61423285b973c29ff223fc83'), 'author': 'kanghee04', 'subject': 'mongodb', 'int_value': 100, 'dict_value': {'a': 1, 'b': 2}}\n",
      "{'_id': ObjectId('61423285b973c29ff223fc84'), 'author': 'kanghee04', 'subject': 'mongodb', 'int_value': 100, 'dict_value': {'a': 1, 'b': 2, 'c': 3}}\n",
      "{'_id': ObjectId('6142350eb973c29ff223fc85'), 'author': 'kanghee01', 'subject': 'mysql', 'int_value': 10, 'list_value': [1, 2, 3]}\n"
     ]
    }
   ],
   "source": [
    "collection.update_many({'author':'kanghee04'},{'$set':{'int_value':100}})\n",
    "for i in collection.find():\n",
    "    print(i)"
   ]
  },
  {
   "cell_type": "code",
   "execution_count": 76,
   "id": "c79d5e75",
   "metadata": {},
   "outputs": [
    {
     "name": "stdout",
     "output_type": "stream",
     "text": [
      "{'_id': ObjectId('61422cfeb973c29ff223fc80'), 'author': 'kanghee02', 'subject': 'mongodb', 'int_value': 8, 'dict_value': {'a': 1, 'b': 2}}\n",
      "{'_id': ObjectId('61422cfeb973c29ff223fc81'), 'author': 'kanghee03', 'int_value': 8, 'dict_value': {'a': 1, 'b': 2, 'c': 3}}\n",
      "{'_id': ObjectId('61422d3bb973c29ff223fc82'), 'dummy': 'dummy value'}\n",
      "{'_id': ObjectId('61423285b973c29ff223fc83'), 'author': 'kanghee04', 'subject': 'mongodb', 'int_value': 100, 'dict_value': {'a': 1, 'b': 2}}\n",
      "{'_id': ObjectId('61423285b973c29ff223fc84'), 'author': 'kanghee04', 'subject': 'mongodb', 'int_value': 100, 'dict_value': {'a': 1, 'b': 2, 'c': 3}}\n",
      "{'_id': ObjectId('6142350eb973c29ff223fc85'), 'author': 'kanghee01', 'subject': 'psql', 'int_value': None, 'list_value': [1, 2, 3]}\n"
     ]
    }
   ],
   "source": [
    "# 동시에 여러개 수정도 가능하다\n",
    "collection.update_many({'author':'kanghee01'},{'$set':{'subject':'psql','int_value':None}})\n",
    "for i in collection.find():\n",
    "    print(i)"
   ]
  },
  {
   "cell_type": "code",
   "execution_count": 75,
   "id": "72c683e4",
   "metadata": {},
   "outputs": [
    {
     "name": "stdout",
     "output_type": "stream",
     "text": [
      "{'_id': ObjectId('61422cfeb973c29ff223fc80'), 'author': 'kanghee02', 'subject': 'mongodb', 'int_value': 8, 'dict_value': {'a': 1, 'b': 2}}\n",
      "{'_id': ObjectId('61422cfeb973c29ff223fc81'), 'author': 'kanghee03', 'int_value': 8, 'dict_value': {'a': 1, 'b': 2, 'c': 3}}\n",
      "{'_id': ObjectId('61422d3bb973c29ff223fc82'), 'dummy': 'dummy value'}\n",
      "{'_id': ObjectId('61423285b973c29ff223fc83'), 'author': 'kanghee04', 'subject': 'mongodb', 'int_value': 100, 'dict_value': {'a': 1, 'b': 2}}\n",
      "{'_id': ObjectId('61423285b973c29ff223fc84'), 'author': 'kanghee04', 'subject': 'mongodb', 'int_value': 100, 'dict_value': {'a': 1, 'b': 2, 'c': 3}}\n",
      "{'_id': ObjectId('6142350eb973c29ff223fc85'), 'author': 'kanghee01', 'subject': 'mysql', 'int_value': 10, 'list_value': [1, 2, 3]}\n"
     ]
    }
   ],
   "source": [
    "# 필드를 지워보자\n",
    "# author가 kanghee03인 document의 subjec필드를 지워버렸다\n",
    "collection.update_one({'author':'kanghee03'},{'$unset':{'subject':''}})\n",
    "for i in collection.find():\n",
    "    print(i)"
   ]
  },
  {
   "cell_type": "markdown",
   "id": "6ff6270d",
   "metadata": {},
   "source": [
    "#### d) delete\n",
    "- delete_one({select쿼리})\n",
    "- delete_many({select쿼리})\n"
   ]
  },
  {
   "cell_type": "code",
   "execution_count": 60,
   "id": "b9773fb5",
   "metadata": {},
   "outputs": [
    {
     "data": {
      "text/plain": [
       "<pymongo.results.DeleteResult at 0x7fa1c113f640>"
      ]
     },
     "execution_count": 60,
     "metadata": {},
     "output_type": "execute_result"
    }
   ],
   "source": [
    "collection.delete_one({'subject':'mysql'})\n",
    "for i in collection.fine():\n",
    "    print(i)"
   ]
  },
  {
   "cell_type": "code",
   "execution_count": null,
   "id": "3e0d454f",
   "metadata": {},
   "outputs": [],
   "source": [
    "collection.delete_many({'int_value':8})\n",
    "for i in collection.fine():\n",
    "    print(i)"
   ]
  },
  {
   "cell_type": "markdown",
   "id": "84076a71",
   "metadata": {},
   "source": [
    "#### e) db 및 collection drop"
   ]
  },
  {
   "cell_type": "code",
   "execution_count": 79,
   "id": "bc481faf",
   "metadata": {},
   "outputs": [
    {
     "data": {
      "text/plain": [
       "['BigData',\n",
       " 'admin',\n",
       " 'config',\n",
       " 'local',\n",
       " 'mydatabase',\n",
       " 'test',\n",
       " 'weatehr',\n",
       " '쥬피터에서만든db']"
      ]
     },
     "execution_count": 79,
     "metadata": {},
     "output_type": "execute_result"
    }
   ],
   "source": [
    "connection.list_database_names()"
   ]
  },
  {
   "cell_type": "code",
   "execution_count": 81,
   "id": "ab2e3a22",
   "metadata": {},
   "outputs": [
    {
     "data": {
      "text/plain": [
       "['BigData', 'admin', 'config', 'local', 'mydatabase', 'weatehr', '쥬피터에서만든db']"
      ]
     },
     "execution_count": 81,
     "metadata": {},
     "output_type": "execute_result"
    }
   ],
   "source": [
    "# db 지우기\n",
    "connection.drop_database('test')\n",
    "connection.list_database_names()"
   ]
  },
  {
   "cell_type": "code",
   "execution_count": 82,
   "id": "bb0aa8b3",
   "metadata": {},
   "outputs": [
    {
     "data": {
      "text/plain": [
       "['collection']"
      ]
     },
     "execution_count": 82,
     "metadata": {},
     "output_type": "execute_result"
    }
   ],
   "source": [
    "drop_db = connection['mydatabase']\n",
    "drop_db.list_collection_names()"
   ]
  },
  {
   "cell_type": "code",
   "execution_count": 83,
   "id": "41b4c40b",
   "metadata": {},
   "outputs": [
    {
     "data": {
      "text/plain": [
       "[]"
      ]
     },
     "execution_count": 83,
     "metadata": {},
     "output_type": "execute_result"
    }
   ],
   "source": [
    "# collection 지우기\n",
    "drop_collection = drop_db['collection']\n",
    "drop_collection.drop()\n",
    "drop_db.list_collection_names()"
   ]
  }
 ],
 "metadata": {
  "kernelspec": {
   "display_name": "Python 3 (ipykernel)",
   "language": "python",
   "name": "python3"
  },
  "language_info": {
   "codemirror_mode": {
    "name": "ipython",
    "version": 3
   },
   "file_extension": ".py",
   "mimetype": "text/x-python",
   "name": "python",
   "nbconvert_exporter": "python",
   "pygments_lexer": "ipython3",
   "version": "3.8.11"
  }
 },
 "nbformat": 4,
 "nbformat_minor": 5
}
