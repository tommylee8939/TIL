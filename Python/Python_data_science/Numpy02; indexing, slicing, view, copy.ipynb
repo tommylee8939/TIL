{
 "cells": [
  {
   "cell_type": "markdown",
   "metadata": {},
   "source": [
    "## Numpy02; indexing, slicing, view, copy"
   ]
  },
  {
   "cell_type": "code",
   "execution_count": 70,
   "metadata": {},
   "outputs": [],
   "source": [
    "import numpy as np"
   ]
  },
  {
   "cell_type": "code",
   "execution_count": 1,
   "metadata": {},
   "outputs": [],
   "source": [
    "def arrayinfo(array):\n",
    "    print('type :',type(array))\n",
    "    print('shape :',array.shape)\n",
    "    print('dimension :',array.ndim)\n",
    "    print('dtype :',array.dtype)\n",
    "    print(array)"
   ]
  },
  {
   "cell_type": "markdown",
   "metadata": {},
   "source": [
    "### 배열 사용시 주의점\n",
    "- 차원에대한 주의가 필요함\n",
    "    - [1,2,3,4,5] : 1차원이다\n",
    "    - [[1,2,3,4,5]] : 2차원이다\n",
    "    - 비슷해보이지만 다르다 1차원의 shape은 (,5) 2차원의 shape은 (1,5)\n",
    "    \n",
    "- R과다르게 (axis1,aixs2,axis3,,) 순이다\n",
    "    - 예를 들어 3차원 데이터라면 => (3차원,행,렬)"
   ]
  },
  {
   "cell_type": "code",
   "execution_count": 4,
   "metadata": {
    "scrolled": true
   },
   "outputs": [
    {
     "name": "stdout",
     "output_type": "stream",
     "text": [
      "type : <class 'numpy.ndarray'>\n",
      "shape : (10,)\n",
      "dimension : 1\n",
      "dtype : int64\n",
      "[0 1 2 3 4 5 6 7 8 9]\n",
      "type : <class 'numpy.ndarray'>\n",
      "shape : (1, 10)\n",
      "dimension : 2\n",
      "dtype : int64\n",
      "[[0 1 2 3 4 5 6 7 8 9]]\n"
     ]
    }
   ],
   "source": [
    "array01 = np.arange(10)\n",
    "arrayinfo(array01)\n",
    "\n",
    "array02 = np.arange(10).reshape(1,10)\n",
    "arrayinfo(array02)"
   ]
  },
  {
   "cell_type": "markdown",
   "metadata": {},
   "source": [
    "### Indexing\n",
    "- 파이썬 내장 배열과 달리 [axis1,axis2,,,]를 지원 => 여러차원에 대해 인덱싱 가능\n",
    "- 순서에 유념\n",
    "- indexing을 통한 값 update가능\n",
    "- ndarray는 homogeneous 한 배열임을 유념"
   ]
  },
  {
   "cell_type": "markdown",
   "metadata": {},
   "source": [
    "#### 1차원 벡터"
   ]
  },
  {
   "cell_type": "code",
   "execution_count": 18,
   "metadata": {},
   "outputs": [
    {
     "name": "stdout",
     "output_type": "stream",
     "text": [
      "0\n",
      "11\n"
     ]
    }
   ],
   "source": [
    "ndarray01 = np.arange(12)\n",
    "print(ndarray01[0])\n",
    "print(ndarray01[-1])"
   ]
  },
  {
   "cell_type": "markdown",
   "metadata": {},
   "source": [
    "#### 2차원 벡터"
   ]
  },
  {
   "cell_type": "code",
   "execution_count": 10,
   "metadata": {},
   "outputs": [
    {
     "name": "stdout",
     "output_type": "stream",
     "text": [
      "[[1. 2. 3. 4.]\n",
      " [1. 2. 3. 4.]]\n",
      "[1. 2. 3. 4.]\n",
      "[1. 1.]\n",
      "2\n",
      "4\n",
      "4\n"
     ]
    }
   ],
   "source": [
    "array02 = np.array([[1,2,3,4],[1,2,3,4]],dtype=np.float)\n",
    "print(array02)\n",
    "print(array02[0])      #행\n",
    "print(array02[:,0])    #열"
   ]
  },
  {
   "cell_type": "markdown",
   "metadata": {},
   "source": [
    "#### ⭐️ len함수\n",
    "- 차원의 길이를 반환한다고 생각하자\n",
    "- len(행) => 열의 갯수  (1차원 축의 길이)\n",
    "- len(행렬) => 행의 갯수  (2차원 축의 길이)\n",
    "- len(3차원) => 3차원 축의 길이"
   ]
  },
  {
   "cell_type": "code",
   "execution_count": 15,
   "metadata": {},
   "outputs": [
    {
     "name": "stdout",
     "output_type": "stream",
     "text": [
      "[[1. 2. 3. 4.]\n",
      " [1. 2. 3. 4.]]\n",
      "2\n",
      "4\n",
      "4\n"
     ]
    }
   ],
   "source": [
    "array02 = np.array([[1,2,3,4],[1,2,3,4]],dtype=np.float)\n",
    "print(array02)\n",
    "print(len(array02))    # 행의 갯수\n",
    "print(len(array02[0])) # 열의 갯수\n",
    "print(len(array02[1])) # 열의 갯수"
   ]
  },
  {
   "cell_type": "markdown",
   "metadata": {},
   "source": [
    "#### 3차원 벡터"
   ]
  },
  {
   "cell_type": "code",
   "execution_count": 23,
   "metadata": {},
   "outputs": [
    {
     "name": "stdout",
     "output_type": "stream",
     "text": [
      "[[[ 0  1  2]\n",
      "  [ 3  4  5]]\n",
      "\n",
      " [[ 6  7  8]\n",
      "  [ 9 10 11]]]\n",
      "[[0 1 2]\n",
      " [3 4 5]]\n",
      "[0 1 2]\n",
      "0\n"
     ]
    }
   ],
   "source": [
    "ndarray03 = np.arange(12).reshape(2,2,3)\n",
    "print(ndarray03)\n",
    "print(ndarray03[0])\n",
    "print(ndarray03[0,0])\n",
    "print(ndarray03[0,0,0])"
   ]
  },
  {
   "cell_type": "code",
   "execution_count": 28,
   "metadata": {},
   "outputs": [
    {
     "name": "stdout",
     "output_type": "stream",
     "text": [
      "[[[ 0  1  2]\n",
      "  [ 3  4  5]]\n",
      "\n",
      " [[ 6  7  8]\n",
      "  [ 9 10 11]]]\n",
      "2\n",
      "2\n",
      "3\n"
     ]
    }
   ],
   "source": [
    "array03 = np.arange(12).reshape(2,2,3)\n",
    "print(array03)\n",
    "print(len(array03))    # 3차원 축의 길이\n",
    "print(len(array03[0])) # 행의 갯수(2차원 축)\n",
    "print(len(array03[0,0])) # 열의 갯수(1차원 축)\n"
   ]
  },
  {
   "cell_type": "markdown",
   "metadata": {},
   "source": [
    "### Slicing\n",
    "- i:j:k 기본 원리는 파이썬과 동일하다\n",
    "- 각 차원별 슬라이싱이 가능하다 [i:j:k,i:j:k,,,,]\n",
    "- 모든 차원을 명시해줄 필요 없다 => 2차원데이터도 [1] 이런식으로 하나의 차원으로 슬라이싱 가능\n",
    "- 아무것도 값을 넣지 않고 [,,,,] 이건 에러난다 => ::라도 최소한으로 넣어주어야 한다"
   ]
  },
  {
   "cell_type": "code",
   "execution_count": 4,
   "metadata": {},
   "outputs": [
    {
     "ename": "SyntaxError",
     "evalue": "invalid syntax (<ipython-input-4-4a3e1bb7befa>, line 3)",
     "output_type": "error",
     "traceback": [
      "\u001b[0;36m  File \u001b[0;32m\"<ipython-input-4-4a3e1bb7befa>\"\u001b[0;36m, line \u001b[0;32m3\u001b[0m\n\u001b[0;31m    print(ndarray01[,1,])\u001b[0m\n\u001b[0m                    ^\u001b[0m\n\u001b[0;31mSyntaxError\u001b[0m\u001b[0;31m:\u001b[0m invalid syntax\n"
     ]
    }
   ],
   "source": [
    "# 에러\n",
    "ndarray01 = np.arange(12).reshape(2,2,3)\n",
    "print(ndarray01[,1,])"
   ]
  },
  {
   "cell_type": "markdown",
   "metadata": {},
   "source": [
    "#### 1차원\n"
   ]
  },
  {
   "cell_type": "code",
   "execution_count": 26,
   "metadata": {},
   "outputs": [
    {
     "name": "stdout",
     "output_type": "stream",
     "text": [
      "[ 0  1  2  3  4  5  6  7  8  9 10 11]\n",
      "[8 7 6 5 4 3 2 1 0]\n"
     ]
    }
   ],
   "source": [
    "ndarray01 = np.arange(12)\n",
    "# 파이썬 리스트처럼 원하는대로 가능하다\n",
    "print(ndarray01[0:])\n",
    "print(ndarray01[-4::-1])"
   ]
  },
  {
   "cell_type": "markdown",
   "metadata": {},
   "source": [
    "#### 2차원"
   ]
  },
  {
   "cell_type": "code",
   "execution_count": 10,
   "metadata": {},
   "outputs": [
    {
     "name": "stdout",
     "output_type": "stream",
     "text": [
      "[[ 0  1  2  3  4]\n",
      " [ 5  6  7  8  9]\n",
      " [10 11 12 13 14]\n",
      " [15 16 17 18 19]]\n",
      "--------------------\n",
      "[[10 11 12 13 14]\n",
      " [ 5  6  7  8  9]\n",
      " [ 0  1  2  3  4]]\n",
      "--------------------\n",
      "[[10 12 14]\n",
      " [ 5  7  9]\n",
      " [ 0  2  4]]\n"
     ]
    }
   ],
   "source": [
    "ndarray01 = np.arange(20).reshape(4,5)\n",
    "print(ndarray01)\n",
    "print('-'*20)\n",
    "print(ndarray01[-2::-1])\n",
    "print('-'*20)\n",
    "print(ndarray01[-2::-1,::2])"
   ]
  },
  {
   "cell_type": "markdown",
   "metadata": {},
   "source": [
    "#### 3차원"
   ]
  },
  {
   "cell_type": "code",
   "execution_count": 23,
   "metadata": {},
   "outputs": [
    {
     "name": "stdout",
     "output_type": "stream",
     "text": [
      "[[[ 0  1  2]\n",
      "  [ 3  4  5]]\n",
      "\n",
      " [[ 6  7  8]\n",
      "  [ 9 10 11]]]\n",
      "--------------------\n",
      "[[0 3]\n",
      " [6 9]]\n",
      "--------------------\n",
      "[[0 1]\n",
      " [6 7]]\n",
      "--------------------\n",
      "[[[ 0  1]\n",
      "  [ 3  4]]\n",
      "\n",
      " [[ 6  7]\n",
      "  [ 9 10]]]\n"
     ]
    }
   ],
   "source": [
    "ndarray01 = np.arange(12).reshape(2,2,3)\n",
    "print(ndarray01)\n",
    "print(\"-\"*20)\n",
    "print(ndarray01[::,::,0])\n",
    "print(\"-\"*20)\n",
    "print(ndarray01[::,0,0:2])\n",
    "print(\"-\"*20)\n",
    "print(ndarray01[::,::,0:2])"
   ]
  },
  {
   "cell_type": "markdown",
   "metadata": {},
   "source": [
    "#### ⭐️차원의 축소\n",
    "- Ex) 1차원 데이터에서 인덱싱을 했을때는 => 차원이 0차원이된다 스칼라값이다\n",
    "- Ex) 다차원 데이터에서 인덱싱이 된 차원의 경계는 허물어진다 => 차원의 축소\n",
    "- Ex) slicing이 된 차원은 경계가 허물어지지 않는다"
   ]
  },
  {
   "cell_type": "code",
   "execution_count": 16,
   "metadata": {},
   "outputs": [
    {
     "name": "stdout",
     "output_type": "stream",
     "text": [
      "<class 'numpy.int64'>\n"
     ]
    }
   ],
   "source": [
    "# 1차원\n",
    "ndarray01 = np.arange(12)\n",
    "print(type(ndarray01[0])) # 더이상 ndarray 객체가 아니다"
   ]
  },
  {
   "cell_type": "code",
   "execution_count": 30,
   "metadata": {},
   "outputs": [
    {
     "name": "stdout",
     "output_type": "stream",
     "text": [
      "[[[ 0  1  2]\n",
      "  [ 3  4  5]]\n",
      "\n",
      " [[ 6  7  8]\n",
      "  [ 9 10 11]]]\n",
      "--------------------\n",
      "[[0 3]\n",
      " [6 9]]\n",
      "<class 'numpy.ndarray'>\n",
      "2\n"
     ]
    }
   ],
   "source": [
    "# 다차원\n",
    "ndarray01 = np.arange(12).reshape(2,2,3)\n",
    "print(ndarray01)\n",
    "print(\"-\"*20)\n",
    "print(ndarray01[::,::,0])\n",
    "# 마지막 컬럼 차원의 경계가 허물이지기 때문에 0과3이 같은 차원으로 들어가고 6과 9과 같은 차원\n",
    "# 으로 들어갔다. 그렇지만 바깥쪽에 2개의 차원이 아직 경계가 허물어지지 않았다\n",
    "# 따라서 [[0,3] [6,9]] 이런식의 결과가 출력될거다\n",
    "print(type(ndarray01[::,::,0]))\n",
    "print(ndarray01[::,::,0].ndim) # 2차원"
   ]
  },
  {
   "cell_type": "markdown",
   "metadata": {},
   "source": [
    "### bool indexing\n",
    "- R처럼 boolean 값을 이용해서 indexing이 가능하다\n",
    "- python list []형식만 가능한것 아니다 => 당연히 ndarray형식으로 집어넣을 수도 있는거다"
   ]
  },
  {
   "cell_type": "code",
   "execution_count": 4,
   "metadata": {},
   "outputs": [
    {
     "data": {
      "text/plain": [
       "array([0, 3, 4])"
      ]
     },
     "execution_count": 4,
     "metadata": {},
     "output_type": "execute_result"
    }
   ],
   "source": [
    "array01 = np.arange(5)\n",
    "bool_index = [True,False,False,True,True]\n",
    "array01[bool_index]"
   ]
  },
  {
   "cell_type": "code",
   "execution_count": 26,
   "metadata": {},
   "outputs": [
    {
     "data": {
      "text/plain": [
       "array([3, 4])"
      ]
     },
     "execution_count": 26,
     "metadata": {},
     "output_type": "execute_result"
    }
   ],
   "source": [
    "array01 = np.arange(5)\n",
    "bool_index = array01>2\n",
    "array01[bool_index]"
   ]
  },
  {
   "cell_type": "code",
   "execution_count": 30,
   "metadata": {},
   "outputs": [
    {
     "name": "stdout",
     "output_type": "stream",
     "text": [
      "[ 0  1 20 30  4]\n"
     ]
    }
   ],
   "source": [
    "array01 = np.arange(5)\n",
    "array01[[2,3]] = [20,30]\n",
    "\n",
    "print(array01) \n",
    "\n"
   ]
  },
  {
   "cell_type": "markdown",
   "metadata": {},
   "source": [
    "### facny indexing\n",
    "- 정수 배열을 인덱스로 사용해서 해당하는 index값들만 indexing할수 있다\n",
    "- 다차원 "
   ]
  },
  {
   "cell_type": "code",
   "execution_count": 9,
   "metadata": {},
   "outputs": [
    {
     "data": {
      "text/plain": [
       "array([100, 103, 104])"
      ]
     },
     "execution_count": 9,
     "metadata": {},
     "output_type": "execute_result"
    }
   ],
   "source": [
    "array01 = np.arange(100,200)\n",
    "array01[[0,3,4]]"
   ]
  },
  {
   "cell_type": "code",
   "execution_count": 11,
   "metadata": {},
   "outputs": [
    {
     "data": {
      "text/plain": [
       "array([110, 101, 126, 124])"
      ]
     },
     "execution_count": 11,
     "metadata": {},
     "output_type": "execute_result"
    }
   ],
   "source": [
    "# 순서는 무관하다\n",
    "array01 = np.arange(100,200)\n",
    "array01[[10,1,26,24]]"
   ]
  },
  {
   "cell_type": "code",
   "execution_count": 18,
   "metadata": {},
   "outputs": [
    {
     "name": "stdout",
     "output_type": "stream",
     "text": [
      "[[ 0  1  2  3  4]\n",
      " [ 5  6  7  8  9]\n",
      " [10 11 12 13 14]\n",
      " [15 16 17 18 19]]\n",
      "[0 7]\n",
      "[[0 2]\n",
      " [5 7]]\n"
     ]
    }
   ],
   "source": [
    "## 다차원 배열에서는 조금 주의가 필요하다\n",
    "array01 = np.arange(20).reshape(4,5)\n",
    "print(array01)\n",
    "\n",
    "# [[0 2]\n",
    "#   5 7]] 의 형태를 출력하려고 한다\n",
    "\n",
    "print(array01[[0,1],[0,2]]) # => 이상하다 R에서는 분명히 되는거 같은데 파이썬에선 이게 불가능하다\n",
    "print(array01[[0,1],:][:,[0,2]]) # 두번의 과정으로 나눠서 해주면 가능하다"
   ]
  },
  {
   "cell_type": "code",
   "execution_count": 79,
   "metadata": {},
   "outputs": [
    {
     "name": "stdout",
     "output_type": "stream",
     "text": [
      "[[ 0  1  2  3  4]\n",
      " [ 5  6  7  8  9]\n",
      " [10 11 12 13 14]\n",
      " [15 16 17 18 19]]\n",
      "[0 7]\n"
     ]
    }
   ],
   "source": [
    "# ndarray[[행좌표],[열좌표]]로 인식한다\n",
    "array01 = np.arange(20).reshape(4,5)\n",
    "print(array01)\n",
    "print(array01[[0,1],[0,2]])"
   ]
  },
  {
   "cell_type": "code",
   "execution_count": 21,
   "metadata": {},
   "outputs": [
    {
     "name": "stdout",
     "output_type": "stream",
     "text": [
      "[[ 0  1  2  3  4]\n",
      " [ 5  6  7  8  9]\n",
      " [10 11 12 13 14]\n",
      " [15 16 17 18 19]]\n",
      "[[0 2]\n",
      " [5 7]]\n",
      "[[0 2]\n",
      " [5 7]]\n"
     ]
    }
   ],
   "source": [
    "# np.ix_([row index],[col index])를 사용해서 보다 직관적으로 가능하다\n",
    "array01 = np.arange(20).reshape(4,5)\n",
    "print(array01)\n",
    "print(array01[[0,1],:][:,[0,2]])\n",
    "print(array01[np.ix_([0,1],[0,2])])"
   ]
  },
  {
   "cell_type": "markdown",
   "metadata": {},
   "source": [
    "### Indexing과 slicing 통한 값을 update\n",
    "- homogeneous type의 array이기 때문에 당연히 타입이 같거나 자동 형변환 가능해야한다\n",
    "- 그렇지 않으면 에러발생한다"
   ]
  },
  {
   "cell_type": "code",
   "execution_count": 63,
   "metadata": {},
   "outputs": [
    {
     "name": "stdout",
     "output_type": "stream",
     "text": [
      "[[[ 0  1  2]\n",
      "  [ 3  4  5]]\n",
      "\n",
      " [[ 6  7  8]\n",
      "  [ 9 10 11]]]\n",
      "---------------\n",
      "[[[ 0 10  2]\n",
      "  [ 3  4  5]]\n",
      "\n",
      " [[ 6  7  8]\n",
      "  [ 9 10 11]]]\n"
     ]
    }
   ],
   "source": [
    "# update value by basic indexing\n",
    "ndarray01 = np.arange(12).reshape(2,2,3)\n",
    "print(ndarray01)\n",
    "print('-'*15)\n",
    "ndarray01[0,0,1]=10\n",
    "print(ndarray01)"
   ]
  },
  {
   "cell_type": "code",
   "execution_count": 64,
   "metadata": {},
   "outputs": [
    {
     "name": "stdout",
     "output_type": "stream",
     "text": [
      "[[[ 0  1  2]\n",
      "  [ 3  4  5]]\n",
      "\n",
      " [[ 6  7  8]\n",
      "  [ 9 10 11]]]\n",
      "int64\n",
      "[[[ 0 10  2]\n",
      "  [ 3  4  5]]\n",
      "\n",
      " [[ 6  7  8]\n",
      "  [ 9 10 11]]]\n"
     ]
    }
   ],
   "source": [
    "ndarray01 = np.arange(12).reshape(2,2,3)\n",
    "print(ndarray01)\n",
    "print(ndarray01.dtype) # int다\n",
    "ndarray01[0,0,1]=10.1314341341341341341341341\n",
    "print(ndarray01) # 자동적으로 형 변환한다"
   ]
  },
  {
   "cell_type": "code",
   "execution_count": 15,
   "metadata": {},
   "outputs": [
    {
     "name": "stdout",
     "output_type": "stream",
     "text": [
      "[[[ 0  1  2]\n",
      "  [ 3  4  5]]\n",
      "\n",
      " [[ 6  7  8]\n",
      "  [ 9 10 11]]]\n",
      "int64\n"
     ]
    },
    {
     "ename": "ValueError",
     "evalue": "invalid literal for int() with base 10: 'hello python'",
     "output_type": "error",
     "traceback": [
      "\u001b[0;31m---------------------------------------------------------------------------\u001b[0m",
      "\u001b[0;31mValueError\u001b[0m                                Traceback (most recent call last)",
      "\u001b[0;32m<ipython-input-15-7dbf5567da37>\u001b[0m in \u001b[0;36m<module>\u001b[0;34m\u001b[0m\n\u001b[1;32m      2\u001b[0m \u001b[0mprint\u001b[0m\u001b[0;34m(\u001b[0m\u001b[0mndarray01\u001b[0m\u001b[0;34m)\u001b[0m\u001b[0;34m\u001b[0m\u001b[0;34m\u001b[0m\u001b[0m\n\u001b[1;32m      3\u001b[0m \u001b[0mprint\u001b[0m\u001b[0;34m(\u001b[0m\u001b[0mndarray01\u001b[0m\u001b[0;34m.\u001b[0m\u001b[0mdtype\u001b[0m\u001b[0;34m)\u001b[0m \u001b[0;31m# int다\u001b[0m\u001b[0;34m\u001b[0m\u001b[0;34m\u001b[0m\u001b[0m\n\u001b[0;32m----> 4\u001b[0;31m \u001b[0mndarray01\u001b[0m\u001b[0;34m[\u001b[0m\u001b[0;36m0\u001b[0m\u001b[0;34m,\u001b[0m\u001b[0;36m0\u001b[0m\u001b[0;34m,\u001b[0m\u001b[0;36m1\u001b[0m\u001b[0;34m]\u001b[0m\u001b[0;34m=\u001b[0m\u001b[0;34m'hello python'\u001b[0m \u001b[0;31m# 당연히 type 에러난다\u001b[0m\u001b[0;34m\u001b[0m\u001b[0;34m\u001b[0m\u001b[0m\n\u001b[0m",
      "\u001b[0;31mValueError\u001b[0m: invalid literal for int() with base 10: 'hello python'"
     ]
    }
   ],
   "source": [
    "ndarray01 = np.arange(12).reshape(2,2,3)\n",
    "print(ndarray01)\n",
    "print(ndarray01.dtype) # int다\n",
    "ndarray01[0,0,1]='hello python' # 당연히 type 에러난다"
   ]
  },
  {
   "cell_type": "code",
   "execution_count": 65,
   "metadata": {},
   "outputs": [
    {
     "name": "stdout",
     "output_type": "stream",
     "text": [
      "[[ 1  2  3  4]\n",
      " [ 5  6  7  8]\n",
      " [ 9 10 11 12]]\n",
      "[[10 20 30 40]\n",
      " [50 60 70 80]\n",
      " [ 9 10 11 12]]\n"
     ]
    }
   ],
   "source": [
    "# slicing을 통해서도 당연히 가능하다\n",
    "ndarray01 = np.arange(1,13).reshape(3,4)\n",
    "print(ndarray01)\n",
    "ndarray01[[0,1],:] = [[10,20,30,40],[50,60,70,80]]\n",
    "print(ndarray01)"
   ]
  },
  {
   "cell_type": "markdown",
   "metadata": {},
   "source": [
    "### Copy ndarray\n",
    "- indexing 과 slicing을 통한 복사는 view의 개념이다\n",
    "    - 즉, 원본 배열에 영향을 미친다\n",
    "    - 강제적으로 view가 아닌 deep copy로 값만을 복사하고싶으면 np.copy()를 사용하자\n",
    "- bool indexing 과 fancy indexing을 통한 복사는 copy의 개념이다"
   ]
  },
  {
   "cell_type": "code",
   "execution_count": 62,
   "metadata": {},
   "outputs": [
    {
     "name": "stdout",
     "output_type": "stream",
     "text": [
      "[[10  2  3  4]\n",
      " [ 5  6  7  8]\n",
      " [ 9 10 11 12]]\n"
     ]
    }
   ],
   "source": [
    "# copy(indexig) => view\n",
    "ndarray01 = np.arange(1,13).reshape(3,4)\n",
    "copy = ndarray01[0]\n",
    "copy[0] = 10\n",
    "print(ndarray01)"
   ]
  },
  {
   "cell_type": "code",
   "execution_count": 60,
   "metadata": {
    "scrolled": true
   },
   "outputs": [
    {
     "name": "stdout",
     "output_type": "stream",
     "text": [
      "[[ 1  2  3  4]\n",
      " [ 5  6  7  8]\n",
      " [ 9 10 11 12]]\n",
      "[[10 20 30 40]\n",
      " [50 60 70 80]]\n",
      "[[10 20 30 40]\n",
      " [50 60 70 80]\n",
      " [ 9 10 11 12]]\n"
     ]
    }
   ],
   "source": [
    "# copy(slicing) => view\n",
    "ndarray01 = np.arange(1,13).reshape(3,4)\n",
    "print(ndarray01)\n",
    "copy = ndarray01[0:2,:]\n",
    "copy[:] = [[10,20,30,40],[50,60,70,80]]\n",
    "print(copy)\n",
    "print(ndarray01)"
   ]
  },
  {
   "cell_type": "code",
   "execution_count": 69,
   "metadata": {},
   "outputs": [
    {
     "name": "stdout",
     "output_type": "stream",
     "text": [
      "[[ 1  2  3  4]\n",
      " [ 5  6  7  8]\n",
      " [ 9 10 11 12]]\n",
      "[[10 20 30 40]\n",
      " [50 60 70 80]]\n",
      "[[ 1  2  3  4]\n",
      " [ 5  6  7  8]\n",
      " [ 9 10 11 12]]\n"
     ]
    }
   ],
   "source": [
    "# ndarray.copy는 deepcopy다 => 원본 배열에 영향을 미치지 않는다\n",
    "ndarray01 = np.arange(1,13).reshape(3,4)\n",
    "print(ndarray01)\n",
    "copy = ndarray01[0:2,:].copy()\n",
    "copy[:] = [[10,20,30,40],[50,60,70,80]]\n",
    "print(copy)\n",
    "print(ndarray01)\n"
   ]
  },
  {
   "cell_type": "code",
   "execution_count": 67,
   "metadata": {},
   "outputs": [
    {
     "name": "stdout",
     "output_type": "stream",
     "text": [
      "[[[ 0  1  2]\n",
      "  [ 3  4  5]]\n",
      "\n",
      " [[ 6  7  8]\n",
      "  [ 9 10 11]]]\n"
     ]
    }
   ],
   "source": [
    "# view말고 deep copy가 필요하다면\n",
    "# ndarray.copy를 활용하자\n",
    "ndarray01 = np.arange(12).reshape(2,2,3)\n",
    "ndarray02 = ndarray01.copy()\n",
    "ndarray02[::,::,0] = np.arange(100,104).reshape(2,2) # 값이 바뀌지 않음\n",
    "\n",
    "print(ndarray01)\n"
   ]
  },
  {
   "cell_type": "code",
   "execution_count": 58,
   "metadata": {
    "scrolled": true
   },
   "outputs": [
    {
     "name": "stdout",
     "output_type": "stream",
     "text": [
      "[[ 1  2  3  4]\n",
      " [ 5  6  7  8]\n",
      " [ 9 10 11 12]]\n",
      "[[10 20 30 40]\n",
      " [50 60 70 80]]\n",
      "[[ 1  2  3  4]\n",
      " [ 5  6  7  8]\n",
      " [ 9 10 11 12]]\n"
     ]
    }
   ],
   "source": [
    "# copy(fancy indexig) => copy\n",
    "ndarray01 = np.arange(1,13).reshape(3,4)\n",
    "print(ndarray01)\n",
    "copy = ndarray01[[0,1],:]\n",
    "copy[:] = [[10,20,30,40],[50,60,70,80]]\n",
    "print(copy)\n",
    "print(ndarray01)"
   ]
  },
  {
   "cell_type": "code",
   "execution_count": 59,
   "metadata": {
    "scrolled": true
   },
   "outputs": [
    {
     "name": "stdout",
     "output_type": "stream",
     "text": [
      "[[ 1  2  3  4]\n",
      " [ 5  6  7  8]\n",
      " [ 9 10 11 12]]\n",
      "[[10 20 30 40]\n",
      " [50 60 70 80]]\n",
      "[[ 1  2  3  4]\n",
      " [ 5  6  7  8]\n",
      " [ 9 10 11 12]]\n"
     ]
    }
   ],
   "source": [
    "# bool indexing => copy\n",
    "ndarray01 = np.arange(1,13).reshape(3,4)\n",
    "print(ndarray01)\n",
    "copy = ndarray01[[True,True,False],:]\n",
    "copy[:] = [[10,20,30,40],[50,60,70,80]]\n",
    "print(copy)\n",
    "print(ndarray01)"
   ]
  }
 ],
 "metadata": {
  "kernelspec": {
   "display_name": "Python 3",
   "language": "python",
   "name": "python3"
  },
  "language_info": {
   "codemirror_mode": {
    "name": "ipython",
    "version": 3
   },
   "file_extension": ".py",
   "mimetype": "text/x-python",
   "name": "python",
   "nbconvert_exporter": "python",
   "pygments_lexer": "ipython3",
   "version": "3.8.5"
  }
 },
 "nbformat": 4,
 "nbformat_minor": 4
}
