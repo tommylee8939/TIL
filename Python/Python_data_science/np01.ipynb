{
 "cells": [
  {
   "cell_type": "code",
   "execution_count": 1,
   "metadata": {},
   "outputs": [],
   "source": [
    "import numpy as np"
   ]
  },
  {
   "cell_type": "markdown",
   "metadata": {},
   "source": [
    "### np배열\n",
    "- homogeneous type 모든 원소가 같은 자료형\n",
    "- 원소의 갯수는 변경 불가능하다 => 차원은 변경가능하다\n",
    "- 배열의 attribute 존재 ndim shape dtype\n",
    "- vector operation가능"
   ]
  },
  {
   "cell_type": "code",
   "execution_count": 4,
   "metadata": {},
   "outputs": [],
   "source": [
    "def arrayinfo(array):\n",
    "    print('type :',type(array))\n",
    "    print('shape :',array.shape)\n",
    "    print('dimension :',array.ndim)\n",
    "    print('dtype :',array.dtype)\n",
    "    print(array)"
   ]
  },
  {
   "cell_type": "code",
   "execution_count": 5,
   "metadata": {},
   "outputs": [
    {
     "name": "stdout",
     "output_type": "stream",
     "text": [
      "type : <class 'numpy.ndarray'>\n",
      "shape : (4,)\n",
      "dimension : 1\n",
      "dtype : int64\n",
      "[1 2 3 4]\n"
     ]
    }
   ],
   "source": [
    "array01 = np.array((1,2,3,4))\n",
    "arrayinfo(array01)"
   ]
  },
  {
   "cell_type": "code",
   "execution_count": 7,
   "metadata": {},
   "outputs": [
    {
     "name": "stdout",
     "output_type": "stream",
     "text": [
      "[2, 4, 6, 8, 10]\n",
      "[ 2  4  6  8 10]\n"
     ]
    }
   ],
   "source": [
    "# 벡터 연산\n",
    "list01 = [1,2,3,4,5]\n",
    "print([e*2 for e in list01])\n",
    "\n",
    "print(np.array((1,2,3,4,5))*2)"
   ]
  },
  {
   "cell_type": "markdown",
   "metadata": {},
   "source": [
    "### 배열을 생성하는 방법\n",
    "- np.array()"
   ]
  },
  {
   "cell_type": "code",
   "execution_count": 17,
   "metadata": {},
   "outputs": [
    {
     "name": "stdout",
     "output_type": "stream",
     "text": [
      "type : <class 'numpy.ndarray'>\n",
      "shape : (4,)\n",
      "dimension : 1\n",
      "dtype : int64\n",
      "[1 2 3 4]\n",
      "[1 2 3 4 5]\n",
      "[1 2 3 4]\n"
     ]
    }
   ],
   "source": [
    "array01 = np.array([1,2,3,4])\n",
    "arrayinfo(array01)\n",
    "\n",
    "# resizing 크기는 변경 불가능하다\n",
    "print(np.append(array01,5)) # 새로운 객체다\n",
    "print(array01)"
   ]
  },
  {
   "cell_type": "markdown",
   "metadata": {},
   "source": [
    "- 요소의 타입을 변경 "
   ]
  },
  {
   "cell_type": "code",
   "execution_count": 36,
   "metadata": {},
   "outputs": [
    {
     "name": "stdout",
     "output_type": "stream",
     "text": [
      "type : <class 'numpy.ndarray'>\n",
      "shape : (4,)\n",
      "dimension : 1\n",
      "dtype : float64\n",
      "[1. 2. 3. 4.]\n"
     ]
    }
   ],
   "source": [
    "array01 = np.array([1,2,3,4])\n",
    "array01 = array01.astype(np.float)\n",
    "arrayinfo(array01)"
   ]
  },
  {
   "cell_type": "code",
   "execution_count": 163,
   "metadata": {},
   "outputs": [
    {
     "name": "stdout",
     "output_type": "stream",
     "text": [
      "type : <class 'numpy.ndarray'>\n",
      "shape : (4,)\n",
      "dimension : 1\n",
      "dtype : int64\n",
      "[1 2 3 4]\n",
      "type : <class 'numpy.ndarray'>\n",
      "shape : (1, 4)\n",
      "dimension : 2\n",
      "dtype : int64\n",
      "[[1 2 3 4]]\n"
     ]
    }
   ],
   "source": [
    "# shape(4,)는 shpae(4,1)과 다르다\n",
    "# demension도 다르고 shape도 다르다\n",
    "array01 = np.array([1,2,3,4])   # 1차원 벡터 \n",
    "arrayinfo(array01)\n",
    "\n",
    "array01 = np.array([[1,2,3,4]]) # 2차원 행렬이다\n",
    "arrayinfo(array01)"
   ]
  },
  {
   "cell_type": "markdown",
   "metadata": {},
   "source": [
    "### 2차원 배열"
   ]
  },
  {
   "cell_type": "code",
   "execution_count": 10,
   "metadata": {},
   "outputs": [
    {
     "name": "stdout",
     "output_type": "stream",
     "text": [
      "type : <class 'numpy.ndarray'>\n",
      "shape : (2, 4)\n",
      "dimension : 2\n",
      "dtype : float64\n",
      "[[1. 2. 3. 4.]\n",
      " [1. 2. 3. 4.]]\n"
     ]
    }
   ],
   "source": [
    "array02 = np.array([[1,2,3,4],[1,2,3,4]],dtype=np.float)\n",
    "arrayinfo(array02)"
   ]
  },
  {
   "cell_type": "code",
   "execution_count": 19,
   "metadata": {},
   "outputs": [
    {
     "name": "stdout",
     "output_type": "stream",
     "text": [
      "[[1. 2. 3. 4.]\n",
      " [1. 2. 3. 4.]]\n",
      "2\n",
      "4\n",
      "4\n"
     ]
    }
   ],
   "source": [
    "## len()\n",
    "array02 = np.array([[1,2,3,4],[1,2,3,4]],dtype=np.float)\n",
    "print(array02)\n",
    "print(len(array02))\n",
    "print(len(array02[0])) # 행\n",
    "print(len(array02[1])) # 열"
   ]
  },
  {
   "cell_type": "markdown",
   "metadata": {},
   "source": [
    "### 3차원 배열"
   ]
  },
  {
   "cell_type": "code",
   "execution_count": 27,
   "metadata": {},
   "outputs": [
    {
     "name": "stdout",
     "output_type": "stream",
     "text": [
      "[ 1  2  3  4  5  6  7  8  9 10 11 12]\n",
      "[[ 1  2  3  4  5  6]\n",
      " [ 7  8  9 10 11 12]]\n",
      "[[[ 1  2]\n",
      "  [ 3  4]]\n",
      "\n",
      " [[ 5  6]\n",
      "  [ 7  8]]\n",
      "\n",
      " [[ 9 10]\n",
      "  [11 12]]]\n"
     ]
    }
   ],
   "source": [
    "array03 = np.array([1,2,3,4,5,6,7,8,9,10,11,12])\n",
    "print(array03)\n",
    "print(array03.reshape(2,6))\n",
    "print(array03.reshape(3,2,2))"
   ]
  },
  {
   "cell_type": "code",
   "execution_count": 35,
   "metadata": {},
   "outputs": [
    {
     "name": "stdout",
     "output_type": "stream",
     "text": [
      "3\n",
      "2\n",
      "2\n"
     ]
    }
   ],
   "source": [
    "##len()\n",
    "print(len(array03.reshape(3,2,2)))      # 3차원\n",
    "print(len(array03.reshape(3,2,2)[0]))   # 2차원 (행)\n",
    "print(len(array03.reshape(3,2,2)[0][0]))# 1차원 (열) "
   ]
  },
  {
   "cell_type": "markdown",
   "metadata": {},
   "source": [
    "### 배열의 인덱싱"
   ]
  },
  {
   "cell_type": "code",
   "execution_count": 42,
   "metadata": {},
   "outputs": [
    {
     "name": "stdout",
     "output_type": "stream",
     "text": [
      "10\n"
     ]
    }
   ],
   "source": [
    "# 1차원\n",
    "array01 = np.array(10)\n",
    "print(array01)"
   ]
  },
  {
   "cell_type": "code",
   "execution_count": 40,
   "metadata": {},
   "outputs": [
    {
     "name": "stdout",
     "output_type": "stream",
     "text": [
      "[[1. 2. 3. 4.]\n",
      " [5. 6. 7. 8.]]\n",
      "1.0\n",
      "7.0\n",
      "8.0\n"
     ]
    }
   ],
   "source": [
    "# 2차원 인덱싱도 가능하다\n",
    "array02 = np.array([[1,2,3,4],[5,6,7,8]],dtype=np.float)\n",
    "print(array02)\n",
    "\n",
    "# 1행 1열\n",
    "print(array02[0,0])\n",
    "\n",
    "# 2행 3열\n",
    "print(array02[1,2])\n",
    "\n",
    "# 마지막 행의 마지막 열\n",
    "print(array02[-1,-1])"
   ]
  },
  {
   "cell_type": "markdown",
   "metadata": {},
   "source": [
    "### 배열의 인덱싱"
   ]
  },
  {
   "cell_type": "code",
   "execution_count": 46,
   "metadata": {},
   "outputs": [
    {
     "name": "stdout",
     "output_type": "stream",
     "text": [
      "[0 1 2 3 4 5 6 7 8 9]\n",
      "[1 2 3 4]\n"
     ]
    }
   ],
   "source": [
    "array01 = np.arange(10)\n",
    "print(array01)\n",
    "print(array01[1:5])"
   ]
  },
  {
   "cell_type": "code",
   "execution_count": 50,
   "metadata": {},
   "outputs": [
    {
     "name": "stdout",
     "output_type": "stream",
     "text": [
      "[[1. 2. 3. 4.]\n",
      " [5. 6. 7. 8.]]\n",
      "[1. 2. 3. 4.]\n",
      "[2. 6.]\n",
      "[6.]\n"
     ]
    }
   ],
   "source": [
    "array02 = np.array([[1,2,3,4],[5,6,7,8]],dtype=np.float)\n",
    "print(array02)\n",
    "\n",
    "# 첫번재행의 전체\n",
    "print(array02[0,:])\n",
    "\n",
    "# 두번째열의 전체\n",
    "print(array02[:,1])\n",
    "\n",
    "# 두번째 열이 두번째부터 끝까지\n",
    "print(array02[1:,1])\n"
   ]
  },
  {
   "cell_type": "code",
   "execution_count": 63,
   "metadata": {},
   "outputs": [
    {
     "name": "stdout",
     "output_type": "stream",
     "text": [
      "[[ 0  1  2  3  4]\n",
      " [ 5  6  7  8  9]\n",
      " [10 11 12 13 14]]\n"
     ]
    },
    {
     "data": {
      "text/plain": [
       "array([[3, 4],\n",
       "       [8, 9]])"
      ]
     },
     "execution_count": 63,
     "metadata": {},
     "output_type": "execute_result"
    }
   ],
   "source": [
    "array01 = np.arange(15).reshape(3,5)\n",
    "print(array01)\n",
    "# 이 행렬에서 값 7 을 인덱싱한다.\n",
    "array01[1,2]\n",
    "# 이 행렬에서 값 14 을 인덱싱한다.\n",
    "array01[-1,-1]\n",
    "# 이 행렬에서 배열 [6, 7] 을 슬라이싱한다.\n",
    "array01[1,1:3]\n",
    "# 이 행렬에서 배열 [7, 12] 을 슬라이싱한다.\n",
    "array01[1:3,2]\n",
    "# 이 행렬에서 배열 [[3, 4], [8, 9]] 을 슬라이싱한다.\n",
    "array01[0:2,3:5]"
   ]
  },
  {
   "cell_type": "markdown",
   "metadata": {},
   "source": [
    "- ### fancy indexing  \n",
    "    - integer list indexing (정수 배열 인덱싱)\n",
    "- ### bool indexing\n",
    "    - boolean mask indexing\n"
   ]
  },
  {
   "cell_type": "code",
   "execution_count": 73,
   "metadata": {},
   "outputs": [
    {
     "name": "stdout",
     "output_type": "stream",
     "text": [
      "[ True False  True False  True False  True False  True False]\n"
     ]
    },
    {
     "data": {
      "text/plain": [
       "array([0, 2, 4, 6, 8])"
      ]
     },
     "execution_count": 73,
     "metadata": {},
     "output_type": "execute_result"
    }
   ],
   "source": [
    "# 짝수만\n",
    "ary=np.arange(10)\n",
    "print(ary%2==0)\n",
    "ary[ary%2==0]"
   ]
  },
  {
   "cell_type": "code",
   "execution_count": 72,
   "metadata": {},
   "outputs": [
    {
     "name": "stdout",
     "output_type": "stream",
     "text": [
      "[0 2]\n",
      "[0 2]\n"
     ]
    }
   ],
   "source": [
    "ary = np.arange(4)\n",
    "print(ary[[True,False,True,False]])\n",
    "print(ary[np.array([True,False,True,False])])"
   ]
  },
  {
   "cell_type": "code",
   "execution_count": 76,
   "metadata": {},
   "outputs": [
    {
     "name": "stdout",
     "output_type": "stream",
     "text": [
      "[1 3 5 7 9]\n",
      "[1 3 5 7 9]\n"
     ]
    }
   ],
   "source": [
    "# 홀수만\n",
    "ary=np.arange(10)\n",
    "print(ary[ary%2==1])\n",
    "print(ary[[1,3,5,7,9]])"
   ]
  },
  {
   "cell_type": "code",
   "execution_count": 112,
   "metadata": {},
   "outputs": [
    {
     "name": "stdout",
     "output_type": "stream",
     "text": [
      "[[ 1  2  3  4]\n",
      " [ 5  6  7  8]\n",
      " [ 9 10 11 12]]\n",
      "[[ 1  3]\n",
      " [ 9 11]]\n",
      "[[ 1  3]\n",
      " [ 9 11]]\n",
      "[[ 1  3]\n",
      " [ 9 11]]\n"
     ]
    }
   ],
   "source": [
    "# 2차원에서도 fancy indexing 당연히 가능하다\n",
    "array01=np.array([1,2,3,4,5,6,7,8,9,10,11,12]).reshape(3,4)\n",
    "print(array01)\n",
    "array01[[0,2],1]\n",
    "array01[[0,2],1:2]\n",
    "\n",
    "\n",
    "# [[1,3] [9,11]]로 꺼내보자 \n",
    "array01[[0,2],[0,2]] # 얘는 이상하게 잘 안된다 브로드캐스팅 문제인거 같다\n",
    "\n",
    "print(array01[[0,2],0:3:2])\n",
    "\n",
    "print(array01[[0,2],:][:,[0,2]])\n",
    "\n",
    "print(array01[[0,2]][:,[0,2]])\n",
    "\n"
   ]
  },
  {
   "cell_type": "code",
   "execution_count": 211,
   "metadata": {},
   "outputs": [
    {
     "name": "stdout",
     "output_type": "stream",
     "text": [
      "[[0 1 2 3 4]\n",
      " [5 6 7 8 9]]\n"
     ]
    },
    {
     "data": {
      "text/plain": [
       "0"
      ]
     },
     "execution_count": 211,
     "metadata": {},
     "output_type": "execute_result"
    }
   ],
   "source": [
    "a= np.arange(10).reshape(2,5)\n",
    "print(a)\n",
    "type(a[1,1])#=>ndarray도 아니고\n",
    "a[1,1].ndim #=>0차원이다 "
   ]
  },
  {
   "cell_type": "code",
   "execution_count": 87,
   "metadata": {},
   "outputs": [
    {
     "name": "stdout",
     "output_type": "stream",
     "text": [
      "[[[ 0  1  2]\n",
      "  [ 3  4  5]]\n",
      "\n",
      " [[ 6  7  8]\n",
      "  [ 9 10 11]]]\n",
      "--------------------\n",
      "[[0 3]\n",
      " [6 9]]\n",
      "<class 'numpy.ndarray'>\n",
      "2\n"
     ]
    }
   ],
   "source": [
    "## 인덱싱하면 차원의 허물어진다\n",
    "# slicing하면 차원이 유지된다\n",
    "# 재밌는 사실은 R에서는 1차원이나 0차원이나 사실은 동일하다\n",
    "# 기본적으로 스칼라도 벡터 취급하기 때문\n",
    "ndarray01 = np.arange(12).reshape(2,2,3)\n",
    "print(ndarray01)\n",
    "print(\"-\"*20)\n",
    "print(ndarray01[::,::,0]) # 마지막 컬럼 차원의 경계가 허물이고 차원이 2차원으로 줄었다\n",
    "print(type(ndarray01[::,::,0]))\n",
    "print(ndarray01[::,::,0].ndim) # 2차원\n"
   ]
  },
  {
   "cell_type": "code",
   "execution_count": null,
   "metadata": {},
   "outputs": [],
   "source": []
  },
  {
   "cell_type": "markdown",
   "metadata": {},
   "source": [
    "### 넘파이 변수타입\n",
    "- dtype: 'b'->boolean 'i'->integer 'f'->float 'U'->문자열..."
   ]
  },
  {
   "cell_type": "code",
   "execution_count": 118,
   "metadata": {},
   "outputs": [
    {
     "name": "stdout",
     "output_type": "stream",
     "text": [
      "['1' '2' '3' '4']\n",
      "[1 2 3 4]\n",
      "[1. 2. 3. 4.]\n",
      "[1 2 3 4]\n"
     ]
    }
   ],
   "source": [
    "print(np.array([1,2,3,4],dtype='U'))\n",
    "print(np.array([1,2,3,4],dtype='i'))\n",
    "print(np.array([1,2,3,4],dtype='f'))\n",
    "print(np.array([1,2,3,4],dtype='b'))"
   ]
  },
  {
   "cell_type": "markdown",
   "metadata": {},
   "source": [
    "### inf & Not a Number"
   ]
  },
  {
   "cell_type": "code",
   "execution_count": 119,
   "metadata": {},
   "outputs": [
    {
     "name": "stderr",
     "output_type": "stream",
     "text": [
      "<ipython-input-119-dc768ac6b521>:1: RuntimeWarning: divide by zero encountered in true_divide\n",
      "  np.array([0,1,-1,0])/np.array([1,0,0,0])\n",
      "<ipython-input-119-dc768ac6b521>:1: RuntimeWarning: invalid value encountered in true_divide\n",
      "  np.array([0,1,-1,0])/np.array([1,0,0,0])\n"
     ]
    },
    {
     "data": {
      "text/plain": [
       "array([  0.,  inf, -inf,  nan])"
      ]
     },
     "execution_count": 119,
     "metadata": {},
     "output_type": "execute_result"
    }
   ],
   "source": [
    "np.array([0,1,-1,0])/np.array([1,0,0,0])"
   ]
  },
  {
   "cell_type": "markdown",
   "metadata": {},
   "source": [
    "### 배열 생성 함수\n",
    "- np.array()\n",
    "- np.arange()\n",
    "- zeros() ones() empty() zeros_like() ones_like() linespace() logspace()"
   ]
  },
  {
   "cell_type": "code",
   "execution_count": 140,
   "metadata": {},
   "outputs": [
    {
     "name": "stdout",
     "output_type": "stream",
     "text": [
      "type : <class 'numpy.ndarray'>\n",
      "shape : (15,)\n",
      "dimension : 1\n",
      "dtype : int64\n",
      "[ 0  1  2  3  4  5  6  7  8  9 10 11 12 13 14]\n",
      "type : <class 'numpy.ndarray'>\n",
      "shape : (7,)\n",
      "dimension : 1\n",
      "dtype : int64\n",
      "[ 1  3  5  7  9 11 13]\n",
      "type : <class 'numpy.ndarray'>\n",
      "shape : (3, 5)\n",
      "dimension : 2\n",
      "dtype : int64\n",
      "[[ 0  1  2  3  4]\n",
      " [ 5  6  7  8  9]\n",
      " [10 11 12 13 14]]\n"
     ]
    }
   ],
   "source": [
    "arrayinfo(np.arange(15))\n",
    "arrayinfo(np.arange(1,15,2))\n",
    "arrayinfo(np.arange(15).reshape(3,5))"
   ]
  },
  {
   "cell_type": "code",
   "execution_count": 127,
   "metadata": {},
   "outputs": [
    {
     "name": "stdout",
     "output_type": "stream",
     "text": [
      "type : <class 'numpy.ndarray'>\n",
      "shape : (10,)\n",
      "dimension : 1\n",
      "dtype : float64\n",
      "[0. 0. 0. 0. 0. 0. 0. 0. 0. 0.]\n",
      "type : <class 'numpy.ndarray'>\n",
      "shape : (10,)\n",
      "dimension : 1\n",
      "dtype : <U1\n",
      "['' '' '' '' '' '' '' '' '' '']\n",
      "type : <class 'numpy.ndarray'>\n",
      "shape : (2, 5)\n",
      "dimension : 2\n",
      "dtype : float64\n",
      "[[0. 0. 0. 0. 0.]\n",
      " [0. 0. 0. 0. 0.]]\n"
     ]
    }
   ],
   "source": [
    "arrayinfo(np.zeros(10))\n",
    "arrayinfo(np.zeros(10,dtype='U'))\n",
    "arrayinfo(np.zeros(shape=(2,5)))"
   ]
  },
  {
   "cell_type": "code",
   "execution_count": 129,
   "metadata": {},
   "outputs": [
    {
     "name": "stdout",
     "output_type": "stream",
     "text": [
      "type : <class 'numpy.ndarray'>\n",
      "shape : (10,)\n",
      "dimension : 1\n",
      "dtype : float64\n",
      "[1. 1. 1. 1. 1. 1. 1. 1. 1. 1.]\n",
      "type : <class 'numpy.ndarray'>\n",
      "shape : (2, 5)\n",
      "dimension : 2\n",
      "dtype : float64\n",
      "[[1. 1. 1. 1. 1.]\n",
      " [1. 1. 1. 1. 1.]]\n"
     ]
    }
   ],
   "source": [
    "arrayinfo(np.ones(10))\n",
    "arrayinfo(np.ones(shape=(2,5)))"
   ]
  },
  {
   "cell_type": "code",
   "execution_count": 133,
   "metadata": {},
   "outputs": [
    {
     "name": "stdout",
     "output_type": "stream",
     "text": [
      "type : <class 'numpy.ndarray'>\n",
      "shape : (10,)\n",
      "dimension : 1\n",
      "dtype : float64\n",
      "[0. 0. 0. 0. 0. 0. 0. 0. 0. 0.]\n",
      "type : <class 'numpy.ndarray'>\n",
      "shape : (2, 5)\n",
      "dimension : 2\n",
      "dtype : int64\n",
      "[[1 1 1 1 1]\n",
      " [1 1 1 1 1]]\n"
     ]
    }
   ],
   "source": [
    "# like 크기를 배낀다고 생각하자\n",
    "arrayinfo(np.zeros_like(np.ones(10)))\n",
    "arrayinfo(np.ones_like(np.arange(10).reshape(2,5)))"
   ]
  },
  {
   "cell_type": "code",
   "execution_count": 135,
   "metadata": {},
   "outputs": [
    {
     "name": "stdout",
     "output_type": "stream",
     "text": [
      "type : <class 'numpy.ndarray'>\n",
      "shape : (4, 3)\n",
      "dimension : 2\n",
      "dtype : float64\n",
      "[[4.9e-324 9.9e-324 1.5e-323]\n",
      " [2.0e-323 2.5e-323 3.0e-323]\n",
      " [3.5e-323 4.0e-323 4.4e-323]\n",
      " [4.9e-323 5.4e-323 5.9e-323]]\n",
      "type : <class 'numpy.ndarray'>\n",
      "shape : (4, 3)\n",
      "dimension : 2\n",
      "dtype : <U1\n",
      "[['' '' '']\n",
      " ['' '' '']\n",
      " ['' '' '']\n",
      " ['' '' '']]\n"
     ]
    }
   ],
   "source": [
    "arrayinfo(np.empty(shape=(4,3)))\n",
    "arrayinfo(np.empty(shape=(4,3),dtype='U'))"
   ]
  },
  {
   "cell_type": "code",
   "execution_count": 143,
   "metadata": {},
   "outputs": [
    {
     "name": "stdout",
     "output_type": "stream",
     "text": [
      "type : <class 'numpy.ndarray'>\n",
      "shape : (3,)\n",
      "dimension : 1\n",
      "dtype : float64\n",
      "[  0.  50. 100.]\n"
     ]
    }
   ],
   "source": [
    "arrayinfo(np.linspace(0,100,3))"
   ]
  },
  {
   "cell_type": "markdown",
   "metadata": {},
   "source": [
    "### 전치행렬\n",
    "- T \n",
    "- np.transpose"
   ]
  },
  {
   "cell_type": "code",
   "execution_count": 146,
   "metadata": {},
   "outputs": [
    {
     "data": {
      "text/plain": [
       "array([[ 0,  5, 10],\n",
       "       [ 1,  6, 11],\n",
       "       [ 2,  7, 12],\n",
       "       [ 3,  8, 13],\n",
       "       [ 4,  9, 14]])"
      ]
     },
     "execution_count": 146,
     "metadata": {},
     "output_type": "execute_result"
    }
   ],
   "source": [
    "np.arange(15).reshape(3,5).T"
   ]
  },
  {
   "cell_type": "code",
   "execution_count": 148,
   "metadata": {},
   "outputs": [
    {
     "data": {
      "text/plain": [
       "array([[ 0,  5, 10],\n",
       "       [ 1,  6, 11],\n",
       "       [ 2,  7, 12],\n",
       "       [ 3,  8, 13],\n",
       "       [ 4,  9, 14]])"
      ]
     },
     "execution_count": 148,
     "metadata": {},
     "output_type": "execute_result"
    }
   ],
   "source": [
    "np.transpose(np.arange(15).reshape(3,5))"
   ]
  },
  {
   "cell_type": "code",
   "execution_count": 161,
   "metadata": {},
   "outputs": [
    {
     "name": "stdout",
     "output_type": "stream",
     "text": [
      "[0 1 2 3 4 5 6 7 8 9]\n",
      "1\n",
      "[[0]\n",
      " [1]\n",
      " [2]\n",
      " [3]\n",
      " [4]\n",
      " [5]\n",
      " [6]\n",
      " [7]\n",
      " [8]\n",
      " [9]]\n",
      "2\n"
     ]
    }
   ],
   "source": [
    "# 1차원 배열에서는 의미가 없다\n",
    "\n",
    "vec = np.arange(10)\n",
    "print(vec.T)\n",
    "print(vec.ndim)\n",
    "\n",
    "np.arange(10).reshape(1,10).T\n",
    "print(vec.reshape(1,10).T)\n",
    "print(vec.reshape(1,10).ndim)"
   ]
  },
  {
   "cell_type": "markdown",
   "metadata": {},
   "source": [
    "### 다차원을 1차원으로 만들어야 한다면?\n",
    "- flatten\n",
    "- ravel np.ravel"
   ]
  },
  {
   "cell_type": "code",
   "execution_count": 170,
   "metadata": {},
   "outputs": [
    {
     "data": {
      "text/plain": [
       "array([0, 1, 2, 3, 4, 5, 6, 7, 8, 9])"
      ]
     },
     "execution_count": 170,
     "metadata": {},
     "output_type": "execute_result"
    }
   ],
   "source": [
    "array01 = np.arange(10).reshape(2,5)\n",
    "array01.flatten()"
   ]
  },
  {
   "cell_type": "markdown",
   "metadata": {},
   "source": [
    "### 배열 사용시 주의점\n",
    "- 차원에대한 주의가 필요함"
   ]
  },
  {
   "cell_type": "code",
   "execution_count": 173,
   "metadata": {},
   "outputs": [
    {
     "name": "stdout",
     "output_type": "stream",
     "text": [
      "type : <class 'numpy.ndarray'>\n",
      "shape : (10,)\n",
      "dimension : 1\n",
      "dtype : int64\n",
      "[0 1 2 3 4 5 6 7 8 9]\n",
      "type : <class 'numpy.ndarray'>\n",
      "shape : (1, 10)\n",
      "dimension : 2\n",
      "dtype : int64\n",
      "[[0 1 2 3 4 5 6 7 8 9]]\n"
     ]
    }
   ],
   "source": [
    "array01 = np.arange(10)\n",
    "arrayinfo(array01)\n",
    "\n",
    "array02 = np.arange(10).reshape(1,10)\n",
    "arrayinfo(array02)"
   ]
  },
  {
   "cell_type": "markdown",
   "metadata": {},
   "source": [
    "- newaxis"
   ]
  },
  {
   "cell_type": "code",
   "execution_count": 180,
   "metadata": {},
   "outputs": [
    {
     "name": "stdout",
     "output_type": "stream",
     "text": [
      "[[0]\n",
      " [1]\n",
      " [2]\n",
      " [3]\n",
      " [4]\n",
      " [5]\n",
      " [6]\n",
      " [7]\n",
      " [8]\n",
      " [9]]\n",
      "[[0 1 2 3 4 5 6 7 8 9]]\n"
     ]
    }
   ],
   "source": [
    "array01 = np.arange(10)\n",
    "print(array01[:,np.newaxis])\n",
    "print(array01[np.newaxis])"
   ]
  },
  {
   "cell_type": "markdown",
   "metadata": {},
   "source": [
    "### 모든 원소에대해 순차적으로 접근\n",
    "- iternext(), finished"
   ]
  },
  {
   "cell_type": "code",
   "execution_count": 184,
   "metadata": {},
   "outputs": [
    {
     "name": "stdout",
     "output_type": "stream",
     "text": [
      "0 1 2 3 4 5 6 7 8 9 "
     ]
    }
   ],
   "source": [
    "ary = np.arange(10)\n",
    "for i in ary:\n",
    "    print(i,end=\" \")"
   ]
  },
  {
   "cell_type": "code",
   "execution_count": 191,
   "metadata": {},
   "outputs": [
    {
     "name": "stdout",
     "output_type": "stream",
     "text": [
      "0 1 2 3 4 5 6 7 8 9 "
     ]
    }
   ],
   "source": [
    "# 이게 더 빠르다\n",
    "ite = np.nditer(ary,flags=['c_index'])\n",
    "while not ite.finished:\n",
    "    idx = ite.index\n",
    "    print(ary[idx],end=' ')\n",
    "    ite.iternext()"
   ]
  },
  {
   "cell_type": "code",
   "execution_count": 201,
   "metadata": {},
   "outputs": [
    {
     "name": "stdout",
     "output_type": "stream",
     "text": [
      "0 1 2 3 4 5 6 7 8 9 "
     ]
    }
   ],
   "source": [
    "# 2차원은 어떻게 처리할까?\n",
    "ary = np.arange(10).reshape(2,5)\n",
    "for i in range(ary.shape[0]):\n",
    "    for j in range(ary.shape[1]):\n",
    "        print(ary[i][j],end=' ')"
   ]
  },
  {
   "cell_type": "code",
   "execution_count": 200,
   "metadata": {},
   "outputs": [
    {
     "name": "stdout",
     "output_type": "stream",
     "text": [
      "0 1 2 3 4 5 6 7 8 9 "
     ]
    }
   ],
   "source": [
    "ite = np.nditer(ary,flags=['multi_index'])\n",
    "while not ite.finished:\n",
    "    idx = ite.multi_index\n",
    "    print(ary[idx],end=' ')\n",
    "    ite.iternext()"
   ]
  }
 ],
 "metadata": {
  "kernelspec": {
   "display_name": "Python 3",
   "language": "python",
   "name": "python3"
  },
  "language_info": {
   "codemirror_mode": {
    "name": "ipython",
    "version": 3
   },
   "file_extension": ".py",
   "mimetype": "text/x-python",
   "name": "python",
   "nbconvert_exporter": "python",
   "pygments_lexer": "ipython3",
   "version": "3.8.5"
  }
 },
 "nbformat": 4,
 "nbformat_minor": 4
}
