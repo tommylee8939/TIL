{
 "cells": [
  {
   "cell_type": "markdown",
   "id": "14cc8d31",
   "metadata": {},
   "source": [
    "# 2022 Data Wrangling Project"
   ]
  },
  {
   "cell_type": "markdown",
   "id": "25eecf28",
   "metadata": {},
   "source": [
    "- Name : Kanghee Lee(kle510)\n",
    "- Name : "
   ]
  },
  {
   "cell_type": "markdown",
   "id": "4a8ed374",
   "metadata": {},
   "source": [
    "### Contents\n",
    "- 1. Introduction\n",
    "- 2. Datasets used\n",
    "- 3. Proprocessing dataset\n",
    "- 4. Validation\n",
    "- 5. Data Analytics\n",
    "- 6. Conclusion"
   ]
  },
  {
   "cell_type": "markdown",
   "id": "b26437b5",
   "metadata": {},
   "source": [
    "### Packaes used"
   ]
  },
  {
   "cell_type": "code",
   "execution_count": 1,
   "id": "1a5aabae",
   "metadata": {},
   "outputs": [],
   "source": [
    "import numpy as np\n",
    "import pandas as pd\n",
    "import scipy\n",
    "pd.set_option('display.max_columns', None)\n",
    "%matplotlib inline\n",
    "\n",
    "import re\n",
    "\n",
    "import seaborn as sns\n",
    "import matplotlib.pyplot as plt\n",
    "from matplotlib import rc\n",
    "rc('font', family='AppleGothic')\n",
    "plt.rcParams['axes.unicode_minus'] = False\n",
    "import seaborn as sns\n",
    "\n",
    "from bs4 import BeautifulSoup\n",
    "from urllib.request import urlopen\n",
    "from urllib.error   import HTTPError\n",
    "from urllib.error   import URLError\n",
    "\n",
    "import requests\n",
    "import csv"
   ]
  },
  {
   "cell_type": "markdown",
   "id": "af762173",
   "metadata": {},
   "source": [
    "## 1. Introduction"
   ]
  },
  {
   "cell_type": "markdown",
   "id": "bb74d0af",
   "metadata": {},
   "source": [
    "The question that we want to address in this project is that “Which league is the best soccer league according to the FIFA22 dataset”. There are 5 major leagues in Europe which are Spain, England, France, Germany, and Italy. Before we mention sub-questions, we had to check whether we can trust the data from FIFA22. There are no such real-life digitized data. So, we must confirm that there is a correlation between “overall” and real-life data such as the league table of 5 major leagues from last season, or even FIFA International Ranking.\n",
    "After confirming the correlation, we want to approach it from multiple points of view. In the aspect of value, potential, BMI, nationality, and international reputation, we want to find out which league is the best."
   ]
  },
  {
   "cell_type": "markdown",
   "id": "b3e446f3",
   "metadata": {},
   "source": [
    "<hr style=\"border:1.5px solid gray\"> </hr>"
   ]
  },
  {
   "cell_type": "markdown",
   "id": "b71d6db0",
   "metadata": {},
   "source": [
    "## 2. Dataset\n",
    "- totally three different type of datset\n",
    "    - a. FIFA2022(game) dataset from the game in beginning of 2022(This dataset is based on the results from 2021)\n",
    "    - b. League table of 5 best leagues in Europe 2021\n",
    "    - c. FIFA world ranking by nation"
   ]
  },
  {
   "cell_type": "markdown",
   "id": "f51a9d51",
   "metadata": {},
   "source": [
    "### 2.a. Crawling the FIFA2022(game) datset from www.sofifa.com\n",
    "- we only extract the columns that we need\n",
    "- and save it as csv file with appropriate column names"
   ]
  },
  {
   "cell_type": "code",
   "execution_count": 2,
   "id": "68dd460e",
   "metadata": {},
   "outputs": [],
   "source": [
    "# f = open('fifa2022.csv','w', newline='')\n",
    "# wr = csv.writer(f)\n",
    "\n",
    "# wr.writerow(['Id','Name','Age','Nationality','Team','Height','Weight',\n",
    "#              'Overall','Potential','Best position','Value','Wage',\n",
    "#              'International Reputation'])\n",
    "\n",
    "# for offset in range(0,319):\n",
    "#     url = 'https://sofifa.com/players?type=all&r=220001&set=true&showCol%5B%5D=pi&showCol%5B%5D=ae&showCol%5B%5D=hi&showCol%5B%5D=wi&showCol%5B%5D=pf&showCol%5B%5D=oa&showCol%5B%5D=pt&showCol%5B%5D=bo&showCol%5B%5D=bp&showCol%5B%5D=gu&showCol%5B%5D=jt&showCol%5B%5D=le&showCol%5B%5D=vl&showCol%5B%5D=wg&showCol%5B%5D=tt&showCol%5B%5D=bs&showCol%5B%5D=ir&offset='\n",
    "#     url += str(offset*60) \n",
    "    \n",
    "#     webpage = requests.get(url, headers={\"User-Agent\": \"Mozilla/5.0\"})\n",
    "#     soup = BeautifulSoup(webpage.text,'html.parser')\n",
    "#     trs = soup.select('tbody>tr')\n",
    "#     for tr in trs:\n",
    "#         player_id = tr.select('td.col-pi')[0].text\n",
    "#         name = tr.select('.ellipsis')[0].text\n",
    "#         team = tr.select('td.col-name')[1].select('a')[0].text\n",
    "#         contract = tr.select('td.col-name')[1].select('.sub')[0].text\n",
    "#         nationality = tr.select('td.col-name > img')[0]['title']\n",
    "#         age = tr.select('td.col.col-ae')[0].text\n",
    "#         height = tr.select('td.col.col-hi')[0].text\n",
    "#         weight = tr.select('td.col.col-wi')[0].text\n",
    "#         ova = tr.select('td.col.col-oa')[0].text\n",
    "#         potential = tr.select('td.col.col-pt')[0].text\n",
    "#         best_position = tr.select('td.col.col-bp')[0].text\n",
    "#         value = tr.select('td.col.col-vl')[0].text\n",
    "#         wage = tr.select('td.col.col-wg')[0].text\n",
    "#         international_ranking = tr.select('td.col.col-ir')[0].text\n",
    "#         wr.writerow([player_id,name,age,nationality,team,height,\n",
    "#                     weight,ova,potential,best_position,\n",
    "#                     value,wage,international_ranking])\n",
    "# f.close()"
   ]
  },
  {
   "cell_type": "code",
   "execution_count": 3,
   "id": "ea969f5f",
   "metadata": {},
   "outputs": [
    {
     "data": {
      "text/html": [
       "<div>\n",
       "<style scoped>\n",
       "    .dataframe tbody tr th:only-of-type {\n",
       "        vertical-align: middle;\n",
       "    }\n",
       "\n",
       "    .dataframe tbody tr th {\n",
       "        vertical-align: top;\n",
       "    }\n",
       "\n",
       "    .dataframe thead th {\n",
       "        text-align: right;\n",
       "    }\n",
       "</style>\n",
       "<table border=\"1\" class=\"dataframe\">\n",
       "  <thead>\n",
       "    <tr style=\"text-align: right;\">\n",
       "      <th></th>\n",
       "      <th>Id</th>\n",
       "      <th>Name</th>\n",
       "      <th>Age</th>\n",
       "      <th>Nationality</th>\n",
       "      <th>Team</th>\n",
       "      <th>Height</th>\n",
       "      <th>Weight</th>\n",
       "      <th>Overall</th>\n",
       "      <th>Potential</th>\n",
       "      <th>Best position</th>\n",
       "      <th>Value</th>\n",
       "      <th>Wage</th>\n",
       "      <th>International Reputation</th>\n",
       "    </tr>\n",
       "  </thead>\n",
       "  <tbody>\n",
       "    <tr>\n",
       "      <th>0</th>\n",
       "      <td>158023</td>\n",
       "      <td>L. Messi</td>\n",
       "      <td>34</td>\n",
       "      <td>Argentina</td>\n",
       "      <td>Paris Saint-Germain</td>\n",
       "      <td>170cm</td>\n",
       "      <td>72kg</td>\n",
       "      <td>93</td>\n",
       "      <td>93</td>\n",
       "      <td>RW</td>\n",
       "      <td>€78M</td>\n",
       "      <td>€320K</td>\n",
       "      <td>5</td>\n",
       "    </tr>\n",
       "    <tr>\n",
       "      <th>1</th>\n",
       "      <td>188545</td>\n",
       "      <td>R. Lewandowski</td>\n",
       "      <td>32</td>\n",
       "      <td>Poland</td>\n",
       "      <td>FC Bayern München</td>\n",
       "      <td>185cm</td>\n",
       "      <td>81kg</td>\n",
       "      <td>92</td>\n",
       "      <td>92</td>\n",
       "      <td>ST</td>\n",
       "      <td>€119.5M</td>\n",
       "      <td>€270K</td>\n",
       "      <td>5</td>\n",
       "    </tr>\n",
       "    <tr>\n",
       "      <th>2</th>\n",
       "      <td>231747</td>\n",
       "      <td>K. Mbappé</td>\n",
       "      <td>22</td>\n",
       "      <td>France</td>\n",
       "      <td>Paris Saint-Germain</td>\n",
       "      <td>182cm</td>\n",
       "      <td>73kg</td>\n",
       "      <td>91</td>\n",
       "      <td>95</td>\n",
       "      <td>ST</td>\n",
       "      <td>€194M</td>\n",
       "      <td>€230K</td>\n",
       "      <td>4</td>\n",
       "    </tr>\n",
       "    <tr>\n",
       "      <th>3</th>\n",
       "      <td>200389</td>\n",
       "      <td>J. Oblak</td>\n",
       "      <td>28</td>\n",
       "      <td>Slovenia</td>\n",
       "      <td>Atlético de Madrid</td>\n",
       "      <td>188cm</td>\n",
       "      <td>87kg</td>\n",
       "      <td>91</td>\n",
       "      <td>93</td>\n",
       "      <td>GK</td>\n",
       "      <td>€112M</td>\n",
       "      <td>€130K</td>\n",
       "      <td>5</td>\n",
       "    </tr>\n",
       "    <tr>\n",
       "      <th>4</th>\n",
       "      <td>192985</td>\n",
       "      <td>K. De Bruyne</td>\n",
       "      <td>30</td>\n",
       "      <td>Belgium</td>\n",
       "      <td>Manchester City</td>\n",
       "      <td>181cm</td>\n",
       "      <td>70kg</td>\n",
       "      <td>91</td>\n",
       "      <td>91</td>\n",
       "      <td>CM</td>\n",
       "      <td>€125.5M</td>\n",
       "      <td>€350K</td>\n",
       "      <td>4</td>\n",
       "    </tr>\n",
       "  </tbody>\n",
       "</table>\n",
       "</div>"
      ],
      "text/plain": [
       "       Id            Name  Age Nationality                 Team Height Weight  \\\n",
       "0  158023        L. Messi   34   Argentina  Paris Saint-Germain  170cm   72kg   \n",
       "1  188545  R. Lewandowski   32      Poland    FC Bayern München  185cm   81kg   \n",
       "2  231747       K. Mbappé   22      France  Paris Saint-Germain  182cm   73kg   \n",
       "3  200389        J. Oblak   28    Slovenia   Atlético de Madrid  188cm   87kg   \n",
       "4  192985    K. De Bruyne   30     Belgium      Manchester City  181cm   70kg   \n",
       "\n",
       "   Overall  Potential Best position    Value   Wage  International Reputation  \n",
       "0       93         93            RW     €78M  €320K                         5  \n",
       "1       92         92            ST  €119.5M  €270K                         5  \n",
       "2       91         95            ST    €194M  €230K                         4  \n",
       "3       91         93            GK    €112M  €130K                         5  \n",
       "4       91         91            CM  €125.5M  €350K                         4  "
      ]
     },
     "execution_count": 3,
     "metadata": {},
     "output_type": "execute_result"
    }
   ],
   "source": [
    "# load datset fifa.csv\n",
    "fifa = pd.read_csv('fifa2022.csv')\n",
    "\n",
    "# display first 5 of fifa datset\n",
    "fifa.head()"
   ]
  },
  {
   "cell_type": "markdown",
   "id": "b792b2bb",
   "metadata": {},
   "source": [
    "### 2.b. Downloading league table of 5 best leagues in Europe 2021 from www.sofifa.com\n",
    "- used read_html\n",
    "- just extract rename some columns because all of the dataset except the 'Team name' is integer\n"
   ]
  },
  {
   "cell_type": "code",
   "execution_count": 4,
   "id": "984db320",
   "metadata": {
    "scrolled": true
   },
   "outputs": [
    {
     "name": "stdout",
     "output_type": "stream",
     "text": [
      "https://sofifa.com/team/21/fc-bayern-munchen/live?r=210064&set=true\n",
      "https://sofifa.com/team/1/arsenal/live?r=210064&set=true\n",
      "https://sofifa.com/team/241/fc-barcelona/live?r=210064&set=true\n",
      "https://sofifa.com/team/47/ac-milan/live?r=210064&set=true\n",
      "https://sofifa.com/team/73/paris-saint-germain/live?r=210064&set=true\n"
     ]
    }
   ],
   "source": [
    "url_list = {'Germany':'https://sofifa.com/team/21/fc-bayern-munchen/live?r=210064&set=true',\n",
    "            'England':'https://sofifa.com/team/1/arsenal/live?r=210064&set=true',\n",
    "            'Spain':'https://sofifa.com/team/241/fc-barcelona/live?r=210064&set=true',\n",
    "            'Italy':'https://sofifa.com/team/47/ac-milan/live?r=210064&set=true',\n",
    "            'France':'https://sofifa.com/team/73/paris-saint-germain/live?r=210064&set=true'}\n",
    "\n",
    "league_table = {}\n",
    "\n",
    "for league,url in url_list.items():\n",
    "    print(url)\n",
    "    webpage = requests.get(url, headers={'User-Agent':'Chrome/66.0.3359.181'})\n",
    "    tables = pd.read_html(webpage.content,encoding='UTF-8')\n",
    "    league_table[league] = tables[0]\n",
    "    \n",
    "def extract_and_rename_column(x):\n",
    "    table = x.droplevel(level=0,axis=1)\n",
    "    table.columns = range(table.columns.size)\n",
    "    table = table[[0,2,3,4,6,7,8,9,10,11]]\n",
    "    table.columns = ['Rank','Team','Points','GD','Match','Win','Draw','Loss','GF','GA']\n",
    "    return table\n",
    "\n",
    "for country,table in league_table.items():\n",
    "    league_table[country] = extract_and_rename_column(table)"
   ]
  },
  {
   "cell_type": "code",
   "execution_count": 5,
   "id": "9f67dbeb",
   "metadata": {},
   "outputs": [
    {
     "data": {
      "text/html": [
       "<div>\n",
       "<style scoped>\n",
       "    .dataframe tbody tr th:only-of-type {\n",
       "        vertical-align: middle;\n",
       "    }\n",
       "\n",
       "    .dataframe tbody tr th {\n",
       "        vertical-align: top;\n",
       "    }\n",
       "\n",
       "    .dataframe thead th {\n",
       "        text-align: right;\n",
       "    }\n",
       "</style>\n",
       "<table border=\"1\" class=\"dataframe\">\n",
       "  <thead>\n",
       "    <tr style=\"text-align: right;\">\n",
       "      <th></th>\n",
       "      <th>Rank</th>\n",
       "      <th>Team</th>\n",
       "      <th>Points</th>\n",
       "      <th>GD</th>\n",
       "      <th>Match</th>\n",
       "      <th>Win</th>\n",
       "      <th>Draw</th>\n",
       "      <th>Loss</th>\n",
       "      <th>GF</th>\n",
       "      <th>GA</th>\n",
       "    </tr>\n",
       "  </thead>\n",
       "  <tbody>\n",
       "    <tr>\n",
       "      <th>0</th>\n",
       "      <td>1</td>\n",
       "      <td>FC Bayern München</td>\n",
       "      <td>78</td>\n",
       "      <td>55</td>\n",
       "      <td>34</td>\n",
       "      <td>24</td>\n",
       "      <td>6</td>\n",
       "      <td>4</td>\n",
       "      <td>99</td>\n",
       "      <td>44</td>\n",
       "    </tr>\n",
       "    <tr>\n",
       "      <th>1</th>\n",
       "      <td>2</td>\n",
       "      <td>RB Leipzig</td>\n",
       "      <td>65</td>\n",
       "      <td>28</td>\n",
       "      <td>34</td>\n",
       "      <td>19</td>\n",
       "      <td>8</td>\n",
       "      <td>7</td>\n",
       "      <td>60</td>\n",
       "      <td>32</td>\n",
       "    </tr>\n",
       "    <tr>\n",
       "      <th>2</th>\n",
       "      <td>3</td>\n",
       "      <td>Borussia Dortmund</td>\n",
       "      <td>64</td>\n",
       "      <td>29</td>\n",
       "      <td>34</td>\n",
       "      <td>20</td>\n",
       "      <td>4</td>\n",
       "      <td>10</td>\n",
       "      <td>75</td>\n",
       "      <td>46</td>\n",
       "    </tr>\n",
       "    <tr>\n",
       "      <th>3</th>\n",
       "      <td>4</td>\n",
       "      <td>VfL Wolfsburg</td>\n",
       "      <td>61</td>\n",
       "      <td>24</td>\n",
       "      <td>34</td>\n",
       "      <td>17</td>\n",
       "      <td>10</td>\n",
       "      <td>7</td>\n",
       "      <td>61</td>\n",
       "      <td>37</td>\n",
       "    </tr>\n",
       "    <tr>\n",
       "      <th>4</th>\n",
       "      <td>5</td>\n",
       "      <td>Eintracht Frankfurt</td>\n",
       "      <td>60</td>\n",
       "      <td>16</td>\n",
       "      <td>34</td>\n",
       "      <td>16</td>\n",
       "      <td>12</td>\n",
       "      <td>6</td>\n",
       "      <td>69</td>\n",
       "      <td>53</td>\n",
       "    </tr>\n",
       "  </tbody>\n",
       "</table>\n",
       "</div>"
      ],
      "text/plain": [
       "   Rank                 Team  Points  GD  Match  Win  Draw  Loss  GF  GA\n",
       "0     1    FC Bayern München      78  55     34   24     6     4  99  44\n",
       "1     2           RB Leipzig      65  28     34   19     8     7  60  32\n",
       "2     3    Borussia Dortmund      64  29     34   20     4    10  75  46\n",
       "3     4        VfL Wolfsburg      61  24     34   17    10     7  61  37\n",
       "4     5  Eintracht Frankfurt      60  16     34   16    12     6  69  53"
      ]
     },
     "metadata": {},
     "output_type": "display_data"
    },
    {
     "name": "stdout",
     "output_type": "stream",
     "text": [
      "<class 'pandas.core.frame.DataFrame'>\n",
      "RangeIndex: 18 entries, 0 to 17\n",
      "Data columns (total 10 columns):\n",
      " #   Column  Non-Null Count  Dtype \n",
      "---  ------  --------------  ----- \n",
      " 0   Rank    18 non-null     int64 \n",
      " 1   Team    18 non-null     object\n",
      " 2   Points  18 non-null     int64 \n",
      " 3   GD      18 non-null     int64 \n",
      " 4   Match   18 non-null     int64 \n",
      " 5   Win     18 non-null     int64 \n",
      " 6   Draw    18 non-null     int64 \n",
      " 7   Loss    18 non-null     int64 \n",
      " 8   GF      18 non-null     int64 \n",
      " 9   GA      18 non-null     int64 \n",
      "dtypes: int64(9), object(1)\n",
      "memory usage: 1.5+ KB\n"
     ]
    }
   ],
   "source": [
    "# display league table\n",
    "display(league_table['Germany'].head())\n",
    "league_table['Germany'].info()"
   ]
  },
  {
   "cell_type": "markdown",
   "id": "c9d5ec36",
   "metadata": {},
   "source": [
    "### 2.c. Downloading FIFA nation ranking dataset from www.football-ranking.com \n",
    "- used read_html\n",
    "- only need two columns indicating ranking and name of the nation\n",
    "- rename column names"
   ]
  },
  {
   "cell_type": "code",
   "execution_count": 6,
   "id": "ff456b21",
   "metadata": {},
   "outputs": [],
   "source": [
    "tables = pd.read_html('http://www.football-rankings.info/2021/09/fifa-ranking-september-2021-final.html')\n",
    "fifa_ranking = tables[1].drop(0)[[0,1]]\n",
    "fifa_ranking.columns = ['Rank','Nationality']\n",
    "fifa_ranking['Rank'] = fifa_ranking['Rank'].astype(float)"
   ]
  },
  {
   "cell_type": "code",
   "execution_count": 7,
   "id": "ea77e578",
   "metadata": {},
   "outputs": [
    {
     "data": {
      "text/html": [
       "<div>\n",
       "<style scoped>\n",
       "    .dataframe tbody tr th:only-of-type {\n",
       "        vertical-align: middle;\n",
       "    }\n",
       "\n",
       "    .dataframe tbody tr th {\n",
       "        vertical-align: top;\n",
       "    }\n",
       "\n",
       "    .dataframe thead th {\n",
       "        text-align: right;\n",
       "    }\n",
       "</style>\n",
       "<table border=\"1\" class=\"dataframe\">\n",
       "  <thead>\n",
       "    <tr style=\"text-align: right;\">\n",
       "      <th></th>\n",
       "      <th>Rank</th>\n",
       "      <th>Nationality</th>\n",
       "    </tr>\n",
       "  </thead>\n",
       "  <tbody>\n",
       "    <tr>\n",
       "      <th>1</th>\n",
       "      <td>1.0</td>\n",
       "      <td>Belgium</td>\n",
       "    </tr>\n",
       "    <tr>\n",
       "      <th>2</th>\n",
       "      <td>2.0</td>\n",
       "      <td>Brazil</td>\n",
       "    </tr>\n",
       "    <tr>\n",
       "      <th>3</th>\n",
       "      <td>3.0</td>\n",
       "      <td>England</td>\n",
       "    </tr>\n",
       "    <tr>\n",
       "      <th>4</th>\n",
       "      <td>4.0</td>\n",
       "      <td>France</td>\n",
       "    </tr>\n",
       "    <tr>\n",
       "      <th>5</th>\n",
       "      <td>5.0</td>\n",
       "      <td>Italy</td>\n",
       "    </tr>\n",
       "  </tbody>\n",
       "</table>\n",
       "</div>"
      ],
      "text/plain": [
       "   Rank Nationality\n",
       "1   1.0     Belgium\n",
       "2   2.0      Brazil\n",
       "3   3.0     England\n",
       "4   4.0      France\n",
       "5   5.0       Italy"
      ]
     },
     "metadata": {},
     "output_type": "display_data"
    },
    {
     "name": "stdout",
     "output_type": "stream",
     "text": [
      "<class 'pandas.core.frame.DataFrame'>\n",
      "Int64Index: 210 entries, 1 to 210\n",
      "Data columns (total 2 columns):\n",
      " #   Column       Non-Null Count  Dtype  \n",
      "---  ------       --------------  -----  \n",
      " 0   Rank         210 non-null    float64\n",
      " 1   Nationality  210 non-null    object \n",
      "dtypes: float64(1), object(1)\n",
      "memory usage: 4.9+ KB\n"
     ]
    }
   ],
   "source": [
    "# display FIFA nation ranking \n",
    "display(fifa_ranking.head())\n",
    "fifa_ranking.info()"
   ]
  },
  {
   "cell_type": "markdown",
   "id": "e603358c",
   "metadata": {},
   "source": [
    "<hr style=\"border:1.5px solid gray\"> </hr>"
   ]
  },
  {
   "cell_type": "markdown",
   "id": "ce19299e",
   "metadata": {},
   "source": [
    "## 3. Preprocessing FIFA2022 dataset\n",
    "- Two other datset,League table of Best 5 European League and FIFA nation ranking, needs no more preprocessing"
   ]
  },
  {
   "cell_type": "markdown",
   "id": "faa504f0",
   "metadata": {},
   "source": [
    "### 3.a. NA values\n",
    "- There are few players who did not succefully make a contract when the FIFA2022 was released"
   ]
  },
  {
   "cell_type": "code",
   "execution_count": 8,
   "id": "e2f6bd87",
   "metadata": {},
   "outputs": [
    {
     "data": {
      "text/plain": [
       "Id                           0\n",
       "Name                         0\n",
       "Age                          0\n",
       "Nationality                  0\n",
       "Team                        78\n",
       "Height                       0\n",
       "Weight                       0\n",
       "Overall                      0\n",
       "Potential                    0\n",
       "Best position                0\n",
       "Value                        0\n",
       "Wage                         0\n",
       "International Reputation     0\n",
       "dtype: int64"
      ]
     },
     "execution_count": 8,
     "metadata": {},
     "output_type": "execute_result"
    }
   ],
   "source": [
    "# check missing data\n",
    "fifa.isna().sum()"
   ]
  },
  {
   "cell_type": "code",
   "execution_count": 9,
   "id": "7e25d3ad",
   "metadata": {},
   "outputs": [
    {
     "data": {
      "text/html": [
       "<div>\n",
       "<style scoped>\n",
       "    .dataframe tbody tr th:only-of-type {\n",
       "        vertical-align: middle;\n",
       "    }\n",
       "\n",
       "    .dataframe tbody tr th {\n",
       "        vertical-align: top;\n",
       "    }\n",
       "\n",
       "    .dataframe thead th {\n",
       "        text-align: right;\n",
       "    }\n",
       "</style>\n",
       "<table border=\"1\" class=\"dataframe\">\n",
       "  <thead>\n",
       "    <tr style=\"text-align: right;\">\n",
       "      <th></th>\n",
       "      <th>Id</th>\n",
       "      <th>Name</th>\n",
       "      <th>Age</th>\n",
       "      <th>Nationality</th>\n",
       "      <th>Team</th>\n",
       "      <th>Height</th>\n",
       "      <th>Weight</th>\n",
       "      <th>Overall</th>\n",
       "      <th>Potential</th>\n",
       "      <th>Best position</th>\n",
       "      <th>Value</th>\n",
       "      <th>Wage</th>\n",
       "      <th>International Reputation</th>\n",
       "    </tr>\n",
       "  </thead>\n",
       "  <tbody>\n",
       "    <tr>\n",
       "      <th>191</th>\n",
       "      <td>184087</td>\n",
       "      <td>T. Alderweireld</td>\n",
       "      <td>32</td>\n",
       "      <td>Belgium</td>\n",
       "      <td>NaN</td>\n",
       "      <td>186cm</td>\n",
       "      <td>81kg</td>\n",
       "      <td>83</td>\n",
       "      <td>83</td>\n",
       "      <td>CB</td>\n",
       "      <td>€0</td>\n",
       "      <td>€0</td>\n",
       "      <td>3</td>\n",
       "    </tr>\n",
       "    <tr>\n",
       "      <th>482</th>\n",
       "      <td>197242</td>\n",
       "      <td>G. Krychowiak</td>\n",
       "      <td>31</td>\n",
       "      <td>Poland</td>\n",
       "      <td>NaN</td>\n",
       "      <td>187cm</td>\n",
       "      <td>84kg</td>\n",
       "      <td>80</td>\n",
       "      <td>80</td>\n",
       "      <td>CDM</td>\n",
       "      <td>€0</td>\n",
       "      <td>€0</td>\n",
       "      <td>3</td>\n",
       "    </tr>\n",
       "    <tr>\n",
       "      <th>832</th>\n",
       "      <td>187607</td>\n",
       "      <td>A. Dzyuba</td>\n",
       "      <td>32</td>\n",
       "      <td>Russia</td>\n",
       "      <td>NaN</td>\n",
       "      <td>196cm</td>\n",
       "      <td>91kg</td>\n",
       "      <td>78</td>\n",
       "      <td>78</td>\n",
       "      <td>ST</td>\n",
       "      <td>€0</td>\n",
       "      <td>€0</td>\n",
       "      <td>2</td>\n",
       "    </tr>\n",
       "    <tr>\n",
       "      <th>1076</th>\n",
       "      <td>200094</td>\n",
       "      <td>M. Ozdoev</td>\n",
       "      <td>28</td>\n",
       "      <td>Russia</td>\n",
       "      <td>NaN</td>\n",
       "      <td>184cm</td>\n",
       "      <td>78kg</td>\n",
       "      <td>77</td>\n",
       "      <td>78</td>\n",
       "      <td>CDM</td>\n",
       "      <td>€0</td>\n",
       "      <td>€0</td>\n",
       "      <td>1</td>\n",
       "    </tr>\n",
       "    <tr>\n",
       "      <th>1282</th>\n",
       "      <td>222404</td>\n",
       "      <td>M. Normann</td>\n",
       "      <td>25</td>\n",
       "      <td>Norway</td>\n",
       "      <td>NaN</td>\n",
       "      <td>179cm</td>\n",
       "      <td>75kg</td>\n",
       "      <td>76</td>\n",
       "      <td>82</td>\n",
       "      <td>CDM</td>\n",
       "      <td>€0</td>\n",
       "      <td>€0</td>\n",
       "      <td>1</td>\n",
       "    </tr>\n",
       "    <tr>\n",
       "      <th>...</th>\n",
       "      <td>...</td>\n",
       "      <td>...</td>\n",
       "      <td>...</td>\n",
       "      <td>...</td>\n",
       "      <td>...</td>\n",
       "      <td>...</td>\n",
       "      <td>...</td>\n",
       "      <td>...</td>\n",
       "      <td>...</td>\n",
       "      <td>...</td>\n",
       "      <td>...</td>\n",
       "      <td>...</td>\n",
       "      <td>...</td>\n",
       "    </tr>\n",
       "    <tr>\n",
       "      <th>16561</th>\n",
       "      <td>263316</td>\n",
       "      <td>C. Chatzigavriel</td>\n",
       "      <td>17</td>\n",
       "      <td>Cyprus</td>\n",
       "      <td>NaN</td>\n",
       "      <td>185cm</td>\n",
       "      <td>80kg</td>\n",
       "      <td>58</td>\n",
       "      <td>84</td>\n",
       "      <td>GK</td>\n",
       "      <td>€0</td>\n",
       "      <td>€0</td>\n",
       "      <td>1</td>\n",
       "    </tr>\n",
       "    <tr>\n",
       "      <th>17081</th>\n",
       "      <td>262563</td>\n",
       "      <td>M. Kokkinoftas</td>\n",
       "      <td>18</td>\n",
       "      <td>Cyprus</td>\n",
       "      <td>NaN</td>\n",
       "      <td>179cm</td>\n",
       "      <td>73kg</td>\n",
       "      <td>57</td>\n",
       "      <td>70</td>\n",
       "      <td>CB</td>\n",
       "      <td>€0</td>\n",
       "      <td>€0</td>\n",
       "      <td>1</td>\n",
       "    </tr>\n",
       "    <tr>\n",
       "      <th>17711</th>\n",
       "      <td>263251</td>\n",
       "      <td>N. Dimitriou</td>\n",
       "      <td>19</td>\n",
       "      <td>Cyprus</td>\n",
       "      <td>NaN</td>\n",
       "      <td>176cm</td>\n",
       "      <td>69kg</td>\n",
       "      <td>55</td>\n",
       "      <td>69</td>\n",
       "      <td>RM</td>\n",
       "      <td>€0</td>\n",
       "      <td>€0</td>\n",
       "      <td>1</td>\n",
       "    </tr>\n",
       "    <tr>\n",
       "      <th>17897</th>\n",
       "      <td>263388</td>\n",
       "      <td>P. Polykarpou</td>\n",
       "      <td>20</td>\n",
       "      <td>Cyprus</td>\n",
       "      <td>NaN</td>\n",
       "      <td>182cm</td>\n",
       "      <td>74kg</td>\n",
       "      <td>55</td>\n",
       "      <td>69</td>\n",
       "      <td>CB</td>\n",
       "      <td>€0</td>\n",
       "      <td>€0</td>\n",
       "      <td>1</td>\n",
       "    </tr>\n",
       "    <tr>\n",
       "      <th>18281</th>\n",
       "      <td>262175</td>\n",
       "      <td>M. Abbas</td>\n",
       "      <td>18</td>\n",
       "      <td>United Arab Emirates</td>\n",
       "      <td>NaN</td>\n",
       "      <td>174cm</td>\n",
       "      <td>60kg</td>\n",
       "      <td>53</td>\n",
       "      <td>72</td>\n",
       "      <td>CAM</td>\n",
       "      <td>€0</td>\n",
       "      <td>€0</td>\n",
       "      <td>1</td>\n",
       "    </tr>\n",
       "  </tbody>\n",
       "</table>\n",
       "<p>78 rows × 13 columns</p>\n",
       "</div>"
      ],
      "text/plain": [
       "           Id              Name  Age           Nationality Team Height Weight  \\\n",
       "191    184087   T. Alderweireld   32               Belgium  NaN  186cm   81kg   \n",
       "482    197242     G. Krychowiak   31                Poland  NaN  187cm   84kg   \n",
       "832    187607         A. Dzyuba   32                Russia  NaN  196cm   91kg   \n",
       "1076   200094         M. Ozdoev   28                Russia  NaN  184cm   78kg   \n",
       "1282   222404        M. Normann   25                Norway  NaN  179cm   75kg   \n",
       "...       ...               ...  ...                   ...  ...    ...    ...   \n",
       "16561  263316  C. Chatzigavriel   17                Cyprus  NaN  185cm   80kg   \n",
       "17081  262563    M. Kokkinoftas   18                Cyprus  NaN  179cm   73kg   \n",
       "17711  263251      N. Dimitriou   19                Cyprus  NaN  176cm   69kg   \n",
       "17897  263388     P. Polykarpou   20                Cyprus  NaN  182cm   74kg   \n",
       "18281  262175          M. Abbas   18  United Arab Emirates  NaN  174cm   60kg   \n",
       "\n",
       "       Overall  Potential Best position Value Wage  International Reputation  \n",
       "191         83         83            CB    €0   €0                         3  \n",
       "482         80         80           CDM    €0   €0                         3  \n",
       "832         78         78            ST    €0   €0                         2  \n",
       "1076        77         78           CDM    €0   €0                         1  \n",
       "1282        76         82           CDM    €0   €0                         1  \n",
       "...        ...        ...           ...   ...  ...                       ...  \n",
       "16561       58         84            GK    €0   €0                         1  \n",
       "17081       57         70            CB    €0   €0                         1  \n",
       "17711       55         69            RM    €0   €0                         1  \n",
       "17897       55         69            CB    €0   €0                         1  \n",
       "18281       53         72           CAM    €0   €0                         1  \n",
       "\n",
       "[78 rows x 13 columns]"
      ]
     },
     "execution_count": 9,
     "metadata": {},
     "output_type": "execute_result"
    }
   ],
   "source": [
    "fifa[fifa['Team'].isna()]"
   ]
  },
  {
   "cell_type": "code",
   "execution_count": 10,
   "id": "2b01fbc9",
   "metadata": {},
   "outputs": [
    {
     "data": {
      "text/plain": [
       "Id                          0\n",
       "Name                        0\n",
       "Age                         0\n",
       "Nationality                 0\n",
       "Team                        0\n",
       "Height                      0\n",
       "Weight                      0\n",
       "Overall                     0\n",
       "Potential                   0\n",
       "Best position               0\n",
       "Value                       0\n",
       "Wage                        0\n",
       "International Reputation    0\n",
       "dtype: int64"
      ]
     },
     "execution_count": 10,
     "metadata": {},
     "output_type": "execute_result"
    }
   ],
   "source": [
    "# remove the records that include missing dataset\n",
    "fifa.dropna(axis=0,inplace=True)\n",
    "fifa.isna().sum()"
   ]
  },
  {
   "cell_type": "markdown",
   "id": "6911f75c",
   "metadata": {},
   "source": [
    "### 3.b. Height and  Weight columns\n",
    "- Height and Weight column are in String format with its own unit"
   ]
  },
  {
   "cell_type": "code",
   "execution_count": 11,
   "id": "8cad6be6",
   "metadata": {},
   "outputs": [
    {
     "data": {
      "text/html": [
       "<div>\n",
       "<style scoped>\n",
       "    .dataframe tbody tr th:only-of-type {\n",
       "        vertical-align: middle;\n",
       "    }\n",
       "\n",
       "    .dataframe tbody tr th {\n",
       "        vertical-align: top;\n",
       "    }\n",
       "\n",
       "    .dataframe thead th {\n",
       "        text-align: right;\n",
       "    }\n",
       "</style>\n",
       "<table border=\"1\" class=\"dataframe\">\n",
       "  <thead>\n",
       "    <tr style=\"text-align: right;\">\n",
       "      <th></th>\n",
       "      <th>Height</th>\n",
       "      <th>Weight</th>\n",
       "    </tr>\n",
       "  </thead>\n",
       "  <tbody>\n",
       "    <tr>\n",
       "      <th>0</th>\n",
       "      <td>170cm</td>\n",
       "      <td>72kg</td>\n",
       "    </tr>\n",
       "    <tr>\n",
       "      <th>1</th>\n",
       "      <td>185cm</td>\n",
       "      <td>81kg</td>\n",
       "    </tr>\n",
       "    <tr>\n",
       "      <th>2</th>\n",
       "      <td>182cm</td>\n",
       "      <td>73kg</td>\n",
       "    </tr>\n",
       "    <tr>\n",
       "      <th>3</th>\n",
       "      <td>188cm</td>\n",
       "      <td>87kg</td>\n",
       "    </tr>\n",
       "    <tr>\n",
       "      <th>4</th>\n",
       "      <td>181cm</td>\n",
       "      <td>70kg</td>\n",
       "    </tr>\n",
       "  </tbody>\n",
       "</table>\n",
       "</div>"
      ],
      "text/plain": [
       "  Height Weight\n",
       "0  170cm   72kg\n",
       "1  185cm   81kg\n",
       "2  182cm   73kg\n",
       "3  188cm   87kg\n",
       "4  181cm   70kg"
      ]
     },
     "metadata": {},
     "output_type": "display_data"
    },
    {
     "name": "stdout",
     "output_type": "stream",
     "text": [
      "<class 'pandas.core.frame.DataFrame'>\n",
      "Int64Index: 19020 entries, 0 to 19097\n",
      "Data columns (total 2 columns):\n",
      " #   Column  Non-Null Count  Dtype \n",
      "---  ------  --------------  ----- \n",
      " 0   Height  19020 non-null  object\n",
      " 1   Weight  19020 non-null  object\n",
      "dtypes: object(2)\n",
      "memory usage: 445.8+ KB\n"
     ]
    }
   ],
   "source": [
    "display(fifa[['Height','Weight']].head())\n",
    "fifa[['Height','Weight']].info()"
   ]
  },
  {
   "cell_type": "code",
   "execution_count": 12,
   "id": "53b5c855",
   "metadata": {},
   "outputs": [
    {
     "data": {
      "text/html": [
       "<div>\n",
       "<style scoped>\n",
       "    .dataframe tbody tr th:only-of-type {\n",
       "        vertical-align: middle;\n",
       "    }\n",
       "\n",
       "    .dataframe tbody tr th {\n",
       "        vertical-align: top;\n",
       "    }\n",
       "\n",
       "    .dataframe thead th {\n",
       "        text-align: right;\n",
       "    }\n",
       "</style>\n",
       "<table border=\"1\" class=\"dataframe\">\n",
       "  <thead>\n",
       "    <tr style=\"text-align: right;\">\n",
       "      <th></th>\n",
       "      <th>Height(cm)</th>\n",
       "    </tr>\n",
       "  </thead>\n",
       "  <tbody>\n",
       "    <tr>\n",
       "      <th>0</th>\n",
       "      <td>170</td>\n",
       "    </tr>\n",
       "    <tr>\n",
       "      <th>1</th>\n",
       "      <td>185</td>\n",
       "    </tr>\n",
       "    <tr>\n",
       "      <th>2</th>\n",
       "      <td>182</td>\n",
       "    </tr>\n",
       "    <tr>\n",
       "      <th>3</th>\n",
       "      <td>188</td>\n",
       "    </tr>\n",
       "    <tr>\n",
       "      <th>4</th>\n",
       "      <td>181</td>\n",
       "    </tr>\n",
       "  </tbody>\n",
       "</table>\n",
       "</div>"
      ],
      "text/plain": [
       "   Height(cm)\n",
       "0         170\n",
       "1         185\n",
       "2         182\n",
       "3         188\n",
       "4         181"
      ]
     },
     "execution_count": 12,
     "metadata": {},
     "output_type": "execute_result"
    }
   ],
   "source": [
    "# Height\n",
    "# get rid of unit string with 'str.replace'\n",
    "# And change type into int\n",
    "fifa['Height'] = fifa['Height'].str.replace('cm','').astype(int)\n",
    "\n",
    "# To clearly show the data, change the column name to Height(cm)\n",
    "fifa['Height(cm)'] = fifa['Height']\n",
    "fifa.drop(columns=['Height'],inplace=True)\n",
    "fifa[['Height(cm)']].head()"
   ]
  },
  {
   "cell_type": "code",
   "execution_count": 13,
   "id": "0fb83911",
   "metadata": {},
   "outputs": [
    {
     "data": {
      "text/html": [
       "<div>\n",
       "<style scoped>\n",
       "    .dataframe tbody tr th:only-of-type {\n",
       "        vertical-align: middle;\n",
       "    }\n",
       "\n",
       "    .dataframe tbody tr th {\n",
       "        vertical-align: top;\n",
       "    }\n",
       "\n",
       "    .dataframe thead th {\n",
       "        text-align: right;\n",
       "    }\n",
       "</style>\n",
       "<table border=\"1\" class=\"dataframe\">\n",
       "  <thead>\n",
       "    <tr style=\"text-align: right;\">\n",
       "      <th></th>\n",
       "      <th>Weight(kg)</th>\n",
       "    </tr>\n",
       "  </thead>\n",
       "  <tbody>\n",
       "    <tr>\n",
       "      <th>0</th>\n",
       "      <td>72</td>\n",
       "    </tr>\n",
       "    <tr>\n",
       "      <th>1</th>\n",
       "      <td>81</td>\n",
       "    </tr>\n",
       "    <tr>\n",
       "      <th>2</th>\n",
       "      <td>73</td>\n",
       "    </tr>\n",
       "    <tr>\n",
       "      <th>3</th>\n",
       "      <td>87</td>\n",
       "    </tr>\n",
       "    <tr>\n",
       "      <th>4</th>\n",
       "      <td>70</td>\n",
       "    </tr>\n",
       "  </tbody>\n",
       "</table>\n",
       "</div>"
      ],
      "text/plain": [
       "   Weight(kg)\n",
       "0          72\n",
       "1          81\n",
       "2          73\n",
       "3          87\n",
       "4          70"
      ]
     },
     "execution_count": 13,
     "metadata": {},
     "output_type": "execute_result"
    }
   ],
   "source": [
    "# weight\n",
    "# get rid of unit string with 'str.replace'\n",
    "# And change type into int\n",
    "fifa['Weight'] = fifa['Weight'].str.replace('kg','').astype(int)\n",
    "\n",
    "# To clearly show the data, change the column name to Weight(kg)\n",
    "fifa['Weight(kg)'] = fifa['Weight']\n",
    "fifa.drop(columns=['Weight'],inplace=True)\n",
    "fifa[['Weight(kg)']].head()"
   ]
  },
  {
   "cell_type": "markdown",
   "id": "e8ef4f35",
   "metadata": {},
   "source": [
    "### 3.c. Value and Wage columns\n",
    "- Value and Wage columns are in string format with its own currency and unit\n",
    "- Unit is not uniform; some values with unit 'M', some values with unit 'K', some values with no unit\n",
    "- M means million\n",
    "- K means thousand"
   ]
  },
  {
   "cell_type": "code",
   "execution_count": 14,
   "id": "57f97789",
   "metadata": {},
   "outputs": [
    {
     "data": {
      "text/html": [
       "<div>\n",
       "<style scoped>\n",
       "    .dataframe tbody tr th:only-of-type {\n",
       "        vertical-align: middle;\n",
       "    }\n",
       "\n",
       "    .dataframe tbody tr th {\n",
       "        vertical-align: top;\n",
       "    }\n",
       "\n",
       "    .dataframe thead th {\n",
       "        text-align: right;\n",
       "    }\n",
       "</style>\n",
       "<table border=\"1\" class=\"dataframe\">\n",
       "  <thead>\n",
       "    <tr style=\"text-align: right;\">\n",
       "      <th></th>\n",
       "      <th>Value</th>\n",
       "      <th>Wage</th>\n",
       "    </tr>\n",
       "  </thead>\n",
       "  <tbody>\n",
       "    <tr>\n",
       "      <th>0</th>\n",
       "      <td>€78M</td>\n",
       "      <td>€320K</td>\n",
       "    </tr>\n",
       "    <tr>\n",
       "      <th>1</th>\n",
       "      <td>€119.5M</td>\n",
       "      <td>€270K</td>\n",
       "    </tr>\n",
       "    <tr>\n",
       "      <th>2</th>\n",
       "      <td>€194M</td>\n",
       "      <td>€230K</td>\n",
       "    </tr>\n",
       "    <tr>\n",
       "      <th>3</th>\n",
       "      <td>€112M</td>\n",
       "      <td>€130K</td>\n",
       "    </tr>\n",
       "    <tr>\n",
       "      <th>4</th>\n",
       "      <td>€125.5M</td>\n",
       "      <td>€350K</td>\n",
       "    </tr>\n",
       "  </tbody>\n",
       "</table>\n",
       "</div>"
      ],
      "text/plain": [
       "     Value   Wage\n",
       "0     €78M  €320K\n",
       "1  €119.5M  €270K\n",
       "2    €194M  €230K\n",
       "3    €112M  €130K\n",
       "4  €125.5M  €350K"
      ]
     },
     "metadata": {},
     "output_type": "display_data"
    },
    {
     "data": {
      "text/html": [
       "<div>\n",
       "<style scoped>\n",
       "    .dataframe tbody tr th:only-of-type {\n",
       "        vertical-align: middle;\n",
       "    }\n",
       "\n",
       "    .dataframe tbody tr th {\n",
       "        vertical-align: top;\n",
       "    }\n",
       "\n",
       "    .dataframe thead th {\n",
       "        text-align: right;\n",
       "    }\n",
       "</style>\n",
       "<table border=\"1\" class=\"dataframe\">\n",
       "  <thead>\n",
       "    <tr style=\"text-align: right;\">\n",
       "      <th></th>\n",
       "      <th>Value</th>\n",
       "    </tr>\n",
       "  </thead>\n",
       "  <tbody>\n",
       "    <tr>\n",
       "      <th>19093</th>\n",
       "      <td>€110K</td>\n",
       "    </tr>\n",
       "    <tr>\n",
       "      <th>19094</th>\n",
       "      <td>€110K</td>\n",
       "    </tr>\n",
       "    <tr>\n",
       "      <th>19095</th>\n",
       "      <td>€90K</td>\n",
       "    </tr>\n",
       "    <tr>\n",
       "      <th>19096</th>\n",
       "      <td>€110K</td>\n",
       "    </tr>\n",
       "    <tr>\n",
       "      <th>19097</th>\n",
       "      <td>€100K</td>\n",
       "    </tr>\n",
       "  </tbody>\n",
       "</table>\n",
       "</div>"
      ],
      "text/plain": [
       "       Value\n",
       "19093  €110K\n",
       "19094  €110K\n",
       "19095   €90K\n",
       "19096  €110K\n",
       "19097  €100K"
      ]
     },
     "metadata": {},
     "output_type": "display_data"
    },
    {
     "name": "stdout",
     "output_type": "stream",
     "text": [
      "<class 'pandas.core.frame.DataFrame'>\n",
      "Int64Index: 19020 entries, 0 to 19097\n",
      "Data columns (total 2 columns):\n",
      " #   Column  Non-Null Count  Dtype \n",
      "---  ------  --------------  ----- \n",
      " 0   Value   19020 non-null  object\n",
      " 1   Wage    19020 non-null  object\n",
      "dtypes: object(2)\n",
      "memory usage: 445.8+ KB\n"
     ]
    }
   ],
   "source": [
    "display(fifa[['Value','Wage']].head())\n",
    "display(fifa[['Value']].tail())\n",
    "fifa[['Value','Wage']].info()"
   ]
  },
  {
   "cell_type": "code",
   "execution_count": 15,
   "id": "47314ce6",
   "metadata": {},
   "outputs": [
    {
     "data": {
      "text/html": [
       "<div>\n",
       "<style scoped>\n",
       "    .dataframe tbody tr th:only-of-type {\n",
       "        vertical-align: middle;\n",
       "    }\n",
       "\n",
       "    .dataframe tbody tr th {\n",
       "        vertical-align: top;\n",
       "    }\n",
       "\n",
       "    .dataframe thead th {\n",
       "        text-align: right;\n",
       "    }\n",
       "</style>\n",
       "<table border=\"1\" class=\"dataframe\">\n",
       "  <thead>\n",
       "    <tr style=\"text-align: right;\">\n",
       "      <th></th>\n",
       "      <th>Value</th>\n",
       "    </tr>\n",
       "  </thead>\n",
       "  <tbody>\n",
       "    <tr>\n",
       "      <th>0</th>\n",
       "      <td>78000000.0</td>\n",
       "    </tr>\n",
       "    <tr>\n",
       "      <th>1</th>\n",
       "      <td>119500000.0</td>\n",
       "    </tr>\n",
       "    <tr>\n",
       "      <th>2</th>\n",
       "      <td>194000000.0</td>\n",
       "    </tr>\n",
       "    <tr>\n",
       "      <th>3</th>\n",
       "      <td>112000000.0</td>\n",
       "    </tr>\n",
       "    <tr>\n",
       "      <th>4</th>\n",
       "      <td>125500000.0</td>\n",
       "    </tr>\n",
       "  </tbody>\n",
       "</table>\n",
       "</div>"
      ],
      "text/plain": [
       "         Value\n",
       "0   78000000.0\n",
       "1  119500000.0\n",
       "2  194000000.0\n",
       "3  112000000.0\n",
       "4  125500000.0"
      ]
     },
     "metadata": {},
     "output_type": "display_data"
    }
   ],
   "source": [
    "# Value \n",
    "# It is possible to extract string without currency using 'str.extract' and regular expression\n",
    "# And using 'apply' function, we apply function 'calc_value' to extracted string without currency\n",
    "# 'calc_value' can calculate the value(float) by unit behind it from the string input.\n",
    "# For example, if 100M is input, the function returns 100*1,000,000\n",
    "\n",
    "def calc_value(x):\n",
    "    if x[-1] == 'M':\n",
    "        return float(x[:-1])*1000000\n",
    "    elif x[-1] =='K':\n",
    "        return float(x[:-1])*1000\n",
    "    else:\n",
    "        return float(x)\n",
    "    \n",
    "fifa['Value'] = fifa['Value'].str.extract(r'(\\d+\\.?\\d?K?M?)')[0].apply(calc_value)\n",
    "display(fifa[['Value']].head())"
   ]
  },
  {
   "cell_type": "code",
   "execution_count": 16,
   "id": "c6a71ccd",
   "metadata": {},
   "outputs": [
    {
     "data": {
      "text/html": [
       "<div>\n",
       "<style scoped>\n",
       "    .dataframe tbody tr th:only-of-type {\n",
       "        vertical-align: middle;\n",
       "    }\n",
       "\n",
       "    .dataframe tbody tr th {\n",
       "        vertical-align: top;\n",
       "    }\n",
       "\n",
       "    .dataframe thead th {\n",
       "        text-align: right;\n",
       "    }\n",
       "</style>\n",
       "<table border=\"1\" class=\"dataframe\">\n",
       "  <thead>\n",
       "    <tr style=\"text-align: right;\">\n",
       "      <th></th>\n",
       "      <th>Wage</th>\n",
       "    </tr>\n",
       "  </thead>\n",
       "  <tbody>\n",
       "    <tr>\n",
       "      <th>0</th>\n",
       "      <td>320000.0</td>\n",
       "    </tr>\n",
       "    <tr>\n",
       "      <th>1</th>\n",
       "      <td>270000.0</td>\n",
       "    </tr>\n",
       "    <tr>\n",
       "      <th>2</th>\n",
       "      <td>230000.0</td>\n",
       "    </tr>\n",
       "    <tr>\n",
       "      <th>3</th>\n",
       "      <td>130000.0</td>\n",
       "    </tr>\n",
       "    <tr>\n",
       "      <th>4</th>\n",
       "      <td>350000.0</td>\n",
       "    </tr>\n",
       "  </tbody>\n",
       "</table>\n",
       "</div>"
      ],
      "text/plain": [
       "       Wage\n",
       "0  320000.0\n",
       "1  270000.0\n",
       "2  230000.0\n",
       "3  130000.0\n",
       "4  350000.0"
      ]
     },
     "execution_count": 16,
     "metadata": {},
     "output_type": "execute_result"
    }
   ],
   "source": [
    "# Wage\n",
    "# Followed excatly same procedure as above for 'Value' column\n",
    "def calc_wage(x):\n",
    "    if x[-1] == 'K':\n",
    "        return float(x[:-1])*1000\n",
    "    else:\n",
    "        return float(x)\n",
    "fifa['Wage'] = fifa['Wage'].str.extract(r'(\\d+\\.?\\d?K?)')[0].apply(calc_wage)\n",
    "fifa[['Wage']].head()"
   ]
  },
  {
   "cell_type": "markdown",
   "id": "24074063",
   "metadata": {},
   "source": [
    "### 3.e Age columns\n",
    "- make new column for distinguishing young and old players\n",
    "- FIFA officially consider players below 23 as 'young' players"
   ]
  },
  {
   "cell_type": "code",
   "execution_count": 17,
   "id": "3a91ec68",
   "metadata": {},
   "outputs": [],
   "source": [
    "# using apply funciton and lambda expression\n",
    "fifa['Young Player'] = fifa['Age'].apply(lambda x: 'Young' if x<=23 else 'Old' )"
   ]
  },
  {
   "cell_type": "markdown",
   "id": "2b39a3d9",
   "metadata": {},
   "source": [
    "### 3.d Add League column to FIFA2022\n",
    "- In the original dataset FIFA2022, there is no column indicating which league the player is in\n",
    "- Add the column called 'League' using league table of 5 Best Leagues in Europe 2021\n",
    "- The 'League' column will be categorized by name of the country\n",
    "- If the player is not in 5 best European leagues, it will be assigned 'Else'\n",
    "\n",
    "##### This column plays import role because we can simply extract playes from 5 best Eruopean Leage except the 'Else' leagues"
   ]
  },
  {
   "cell_type": "code",
   "execution_count": 18,
   "id": "8c6cc400",
   "metadata": {},
   "outputs": [
    {
     "data": {
      "text/html": [
       "<div>\n",
       "<style scoped>\n",
       "    .dataframe tbody tr th:only-of-type {\n",
       "        vertical-align: middle;\n",
       "    }\n",
       "\n",
       "    .dataframe tbody tr th {\n",
       "        vertical-align: top;\n",
       "    }\n",
       "\n",
       "    .dataframe thead th {\n",
       "        text-align: right;\n",
       "    }\n",
       "</style>\n",
       "<table border=\"1\" class=\"dataframe\">\n",
       "  <thead>\n",
       "    <tr style=\"text-align: right;\">\n",
       "      <th></th>\n",
       "      <th>Team</th>\n",
       "      <th>League</th>\n",
       "    </tr>\n",
       "  </thead>\n",
       "  <tbody>\n",
       "    <tr>\n",
       "      <th>0</th>\n",
       "      <td>Paris Saint-Germain</td>\n",
       "      <td>France</td>\n",
       "    </tr>\n",
       "    <tr>\n",
       "      <th>1</th>\n",
       "      <td>FC Bayern München</td>\n",
       "      <td>Germany</td>\n",
       "    </tr>\n",
       "    <tr>\n",
       "      <th>2</th>\n",
       "      <td>Paris Saint-Germain</td>\n",
       "      <td>France</td>\n",
       "    </tr>\n",
       "    <tr>\n",
       "      <th>3</th>\n",
       "      <td>Atlético de Madrid</td>\n",
       "      <td>Spain</td>\n",
       "    </tr>\n",
       "    <tr>\n",
       "      <th>4</th>\n",
       "      <td>Manchester City</td>\n",
       "      <td>England</td>\n",
       "    </tr>\n",
       "    <tr>\n",
       "      <th>...</th>\n",
       "      <td>...</td>\n",
       "      <td>...</td>\n",
       "    </tr>\n",
       "    <tr>\n",
       "      <th>19093</th>\n",
       "      <td>Derry City</td>\n",
       "      <td>Else</td>\n",
       "    </tr>\n",
       "    <tr>\n",
       "      <th>19094</th>\n",
       "      <td>Finn Harps</td>\n",
       "      <td>Else</td>\n",
       "    </tr>\n",
       "    <tr>\n",
       "      <th>19095</th>\n",
       "      <td>Chennaiyin FC</td>\n",
       "      <td>Else</td>\n",
       "    </tr>\n",
       "    <tr>\n",
       "      <th>19096</th>\n",
       "      <td>Finn Harps</td>\n",
       "      <td>Else</td>\n",
       "    </tr>\n",
       "    <tr>\n",
       "      <th>19097</th>\n",
       "      <td>Jamshedpur FC</td>\n",
       "      <td>Else</td>\n",
       "    </tr>\n",
       "  </tbody>\n",
       "</table>\n",
       "<p>19020 rows × 2 columns</p>\n",
       "</div>"
      ],
      "text/plain": [
       "                      Team   League\n",
       "0      Paris Saint-Germain   France\n",
       "1        FC Bayern München  Germany\n",
       "2      Paris Saint-Germain   France\n",
       "3       Atlético de Madrid    Spain\n",
       "4          Manchester City  England\n",
       "...                    ...      ...\n",
       "19093           Derry City     Else\n",
       "19094           Finn Harps     Else\n",
       "19095        Chennaiyin FC     Else\n",
       "19096           Finn Harps     Else\n",
       "19097        Jamshedpur FC     Else\n",
       "\n",
       "[19020 rows x 2 columns]"
      ]
     },
     "metadata": {},
     "output_type": "display_data"
    }
   ],
   "source": [
    "# Using 'apply' funtion, we apply 'find_leauge' function to column called 'Team'\n",
    "# 'find_league' function returns country of the League if the team exist in each league table\n",
    "# If the team does not exist in either of the league tables, the function return 'Else'\n",
    "\n",
    "def find_league(x):\n",
    "    if x in league_table['Germany']['Team'].to_list():\n",
    "        return 'Germany'\n",
    "    elif x in league_table['England']['Team'].to_list():\n",
    "        return 'England'\n",
    "    elif x in league_table['France']['Team'].to_list():\n",
    "        return 'France'\n",
    "    elif x in league_table['Spain']['Team'].to_list():\n",
    "        return 'Spain'\n",
    "    elif x in league_table['Italy']['Team'].to_list():\n",
    "        return 'Italy'\n",
    "    else: \n",
    "        return 'Else'\n",
    "\n",
    "# add league column    \n",
    "fifa['League'] = fifa['Team'].apply(find_league)\n",
    "display(fifa[['Team','League']])"
   ]
  },
  {
   "cell_type": "markdown",
   "id": "01a4355c",
   "metadata": {},
   "source": [
    "<hr style=\"border:1.5px solid gray\"> </hr>"
   ]
  },
  {
   "cell_type": "markdown",
   "id": "8f5653f8",
   "metadata": {},
   "source": [
    "## 4. Validate FIFA2022 dataset\n",
    "- The most important column in the FIFA2022 is 'Overall'\n",
    "- 'Overall' column shows the indiviual ability for each player\n",
    "- Can validate the whether 'Overall' is realistic by using the dataset from the real world"
   ]
  },
  {
   "cell_type": "markdown",
   "id": "65abe9f9",
   "metadata": {},
   "source": [
    "### 4.a.(1) Rank correlation between average overall and each league table \n",
    "- Using FIFA2022 and each League Table dataset\n",
    "- Using 'groupby' function, possible to calculate average overall for each team in each league\n",
    "- Using 'merge' function, possible to add average overall of team for each team in each league\n",
    "- Using 'Rank' function, possible to make an order of rank for aveage overall\n",
    "- Using spearman rank correlation test from scipy, possible to calculate rank correlation between them"
   ]
  },
  {
   "cell_type": "code",
   "execution_count": 19,
   "id": "dd32d35f",
   "metadata": {},
   "outputs": [],
   "source": [
    "# codes for check whether the team name is in same string in both FIFA2022 and League table\n",
    "def check_team_name(x):\n",
    "    for coutry,league in league_table.items():\n",
    "        for name in league['Team'].values:\n",
    "            result = (x['Team']==name).sum()\n",
    "            if result==0:\n",
    "                print(name,result)\n",
    "            \n",
    "check_team_name(fifa) "
   ]
  },
  {
   "cell_type": "code",
   "execution_count": 20,
   "id": "020792ad",
   "metadata": {},
   "outputs": [
    {
     "data": {
      "text/html": [
       "<div>\n",
       "<style scoped>\n",
       "    .dataframe tbody tr th:only-of-type {\n",
       "        vertical-align: middle;\n",
       "    }\n",
       "\n",
       "    .dataframe tbody tr th {\n",
       "        vertical-align: top;\n",
       "    }\n",
       "\n",
       "    .dataframe thead th {\n",
       "        text-align: right;\n",
       "    }\n",
       "</style>\n",
       "<table border=\"1\" class=\"dataframe\">\n",
       "  <thead>\n",
       "    <tr style=\"text-align: right;\">\n",
       "      <th></th>\n",
       "      <th>Team</th>\n",
       "      <th>Overall</th>\n",
       "      <th>Rank</th>\n",
       "      <th>Points</th>\n",
       "      <th>GD</th>\n",
       "      <th>Match</th>\n",
       "      <th>Win</th>\n",
       "      <th>Draw</th>\n",
       "      <th>Loss</th>\n",
       "      <th>GF</th>\n",
       "      <th>GA</th>\n",
       "      <th>Overall_Rank</th>\n",
       "    </tr>\n",
       "  </thead>\n",
       "  <tbody>\n",
       "    <tr>\n",
       "      <th>0</th>\n",
       "      <td>FC Bayern München</td>\n",
       "      <td>78.214286</td>\n",
       "      <td>1</td>\n",
       "      <td>78</td>\n",
       "      <td>55</td>\n",
       "      <td>34</td>\n",
       "      <td>24</td>\n",
       "      <td>6</td>\n",
       "      <td>4</td>\n",
       "      <td>99</td>\n",
       "      <td>44</td>\n",
       "      <td>1.0</td>\n",
       "    </tr>\n",
       "    <tr>\n",
       "      <th>1</th>\n",
       "      <td>Borussia Dortmund</td>\n",
       "      <td>76.096774</td>\n",
       "      <td>3</td>\n",
       "      <td>64</td>\n",
       "      <td>29</td>\n",
       "      <td>34</td>\n",
       "      <td>20</td>\n",
       "      <td>4</td>\n",
       "      <td>10</td>\n",
       "      <td>75</td>\n",
       "      <td>46</td>\n",
       "      <td>2.0</td>\n",
       "    </tr>\n",
       "    <tr>\n",
       "      <th>2</th>\n",
       "      <td>Bayer 04 Leverkusen</td>\n",
       "      <td>74.821429</td>\n",
       "      <td>6</td>\n",
       "      <td>52</td>\n",
       "      <td>14</td>\n",
       "      <td>34</td>\n",
       "      <td>14</td>\n",
       "      <td>10</td>\n",
       "      <td>10</td>\n",
       "      <td>53</td>\n",
       "      <td>39</td>\n",
       "      <td>3.0</td>\n",
       "    </tr>\n",
       "    <tr>\n",
       "      <th>3</th>\n",
       "      <td>RB Leipzig</td>\n",
       "      <td>74.705882</td>\n",
       "      <td>2</td>\n",
       "      <td>65</td>\n",
       "      <td>28</td>\n",
       "      <td>34</td>\n",
       "      <td>19</td>\n",
       "      <td>8</td>\n",
       "      <td>7</td>\n",
       "      <td>60</td>\n",
       "      <td>32</td>\n",
       "      <td>4.0</td>\n",
       "    </tr>\n",
       "    <tr>\n",
       "      <th>4</th>\n",
       "      <td>Eintracht Frankfurt</td>\n",
       "      <td>73.000000</td>\n",
       "      <td>5</td>\n",
       "      <td>60</td>\n",
       "      <td>16</td>\n",
       "      <td>34</td>\n",
       "      <td>16</td>\n",
       "      <td>12</td>\n",
       "      <td>6</td>\n",
       "      <td>69</td>\n",
       "      <td>53</td>\n",
       "      <td>5.0</td>\n",
       "    </tr>\n",
       "  </tbody>\n",
       "</table>\n",
       "</div>"
      ],
      "text/plain": [
       "                  Team    Overall  Rank  Points  GD  Match  Win  Draw  Loss  \\\n",
       "0    FC Bayern München  78.214286     1      78  55     34   24     6     4   \n",
       "1    Borussia Dortmund  76.096774     3      64  29     34   20     4    10   \n",
       "2  Bayer 04 Leverkusen  74.821429     6      52  14     34   14    10    10   \n",
       "3           RB Leipzig  74.705882     2      65  28     34   19     8     7   \n",
       "4  Eintracht Frankfurt  73.000000     5      60  16     34   16    12     6   \n",
       "\n",
       "   GF  GA  Overall_Rank  \n",
       "0  99  44           1.0  \n",
       "1  75  46           2.0  \n",
       "2  53  39           3.0  \n",
       "3  60  32           4.0  \n",
       "4  69  53           5.0  "
      ]
     },
     "execution_count": 20,
     "metadata": {},
     "output_type": "execute_result"
    }
   ],
   "source": [
    "# Examples to show merging\n",
    "data_fifa = fifa[fifa['League'] == 'Germany'].groupby('Team')['Overall'].mean().sort_values(ascending=False).to_frame().reset_index()\n",
    "data_real = league_table['Germany']\n",
    "result = pd.merge(data_fifa,data_real)\n",
    "result['Overall_Rank'] = result['Overall'].rank(ascending=False) # Overall_Rank column is addded(see below)\n",
    "result.head()"
   ]
  },
  {
   "cell_type": "code",
   "execution_count": 21,
   "id": "04925ad3",
   "metadata": {},
   "outputs": [
    {
     "name": "stdout",
     "output_type": "stream",
     "text": [
      "Germany League\n",
      "SpearmanrResult(correlation=0.8555211558307534, pvalue=6.005632918162668e-06)\n",
      "\n",
      "England League\n",
      "SpearmanrResult(correlation=0.8240601503759398, pvalue=7.946551309934546e-06)\n",
      "\n",
      "Spain League\n",
      "SpearmanrResult(correlation=0.8180451127819548, pvalue=1.0505529225549313e-05)\n",
      "\n",
      "Italy League\n",
      "SpearmanrResult(correlation=0.8679955484085836, pvalue=7.088814886383863e-07)\n",
      "\n",
      "France League\n",
      "SpearmanrResult(correlation=0.8165413533834586, pvalue=1.1247209263971732e-05)\n",
      "\n"
     ]
    },
    {
     "data": {
      "image/png": "[encoded data removed]",
      "text/plain": [
       "<Figure size 432x288 with 1 Axes>"
      ]
     },
     "metadata": {
      "needs_background": "light"
     },
     "output_type": "display_data"
    },
    {
     "data": {
      "image/png": "[encoded data removed]",
      "text/plain": [
       "<Figure size 432x288 with 1 Axes>"
      ]
     },
     "metadata": {
      "needs_background": "light"
     },
     "output_type": "display_data"
    },
    {
     "data": {
      "image/png": "[encoded data removed]",
      "text/plain": [
       "<Figure size 432x288 with 1 Axes>"
      ]
     },
     "metadata": {
      "needs_background": "light"
     },
     "output_type": "display_data"
    },
    {
     "data": {
      "image/png": "[encoded data removed]",
      "text/plain": [
       "<Figure size 432x288 with 1 Axes>"
      ]
     },
     "metadata": {
      "needs_background": "light"
     },
     "output_type": "display_data"
    },
    {
     "data": {
      "image/png": "[encoded data removed]",
      "text/plain": [
       "<Figure size 432x288 with 1 Axes>"
      ]
     },
     "metadata": {
      "needs_background": "light"
     },
     "output_type": "display_data"
    }
   ],
   "source": [
    "# rank correlation between average overall and each league table\n",
    "for country,table in league_table.items():\n",
    "    data_fifa = fifa[fifa['League'] == country].groupby('Team')['Overall'].mean().sort_values(ascending=False).to_frame().reset_index()\n",
    "    data_real = table\n",
    "    result = pd.merge(data_fifa,data_real)\n",
    "    result['Overall_Rank'] = result['Overall'].rank(ascending=False)\n",
    "    plt.figure()\n",
    "    plt.scatter(result['Rank'],result['Overall_Rank'],)\n",
    "    plt.title(country+' league')\n",
    "    plt.xlabel('League rank')\n",
    "    plt.ylabel('Average overall rank')\n",
    "    print(f'{country} League')\n",
    "    print(scipy.stats.spearmanr(result['Rank'],result['Overall_Rank']))\n",
    "    print()"
   ]
  },
  {
   "cell_type": "markdown",
   "id": "60a9cb5d",
   "metadata": {},
   "source": [
    "### Insight from 4.a.(1)\n",
    "- Correlation between each league table and average overall per team \n",
    "- As we can see from below, all 5 correlation is above 0.8 which is pretty strong enough to convince that there is correlation between league table and overall"
   ]
  },
  {
   "cell_type": "markdown",
   "id": "6ac8e59f",
   "metadata": {},
   "source": [
    "### 4.a.(2) Rank correlation between average overall and FIFA nation ranking\n",
    "- First check whether the country name is in same string\n",
    "- There are some records in FIFA nation ranking dataset which does not have same country name\n",
    "- 'Merge' function will handle it by setting how parameter as inner. This will only show results having same country name\n",
    "- Exactly same procedure as we did in section 4.a.(1)\n",
    "\n",
    "- When calcuating average overall of each nation, only consider the nations which has more than 23 playes\n",
    "- Only 23 players are chosen for official match between nations"
   ]
  },
  {
   "cell_type": "code",
   "execution_count": 22,
   "id": "8bae57df",
   "metadata": {},
   "outputs": [
    {
     "name": "stdout",
     "output_type": "stream",
     "text": [
      "54\n"
     ]
    }
   ],
   "source": [
    "# codes for check whether the team name is in same string in both FIFA2022 and League table\n",
    "def check_national_name(x): \n",
    "    c = 0\n",
    "    for name in fifa_ranking['Nationality'].values:\n",
    "        result = (x['Nationality']==name).sum()\n",
    "        if result==0:\n",
    "            c+=1\n",
    "    print(c)\n",
    "    \n",
    "check_national_name(fifa)    \n",
    "\n",
    "# totally 54 country names are different"
   ]
  },
  {
   "cell_type": "code",
   "execution_count": 23,
   "id": "f47f09d9",
   "metadata": {},
   "outputs": [
    {
     "data": {
      "text/html": [
       "<div>\n",
       "<style scoped>\n",
       "    .dataframe tbody tr th:only-of-type {\n",
       "        vertical-align: middle;\n",
       "    }\n",
       "\n",
       "    .dataframe tbody tr th {\n",
       "        vertical-align: top;\n",
       "    }\n",
       "\n",
       "    .dataframe thead th {\n",
       "        text-align: right;\n",
       "    }\n",
       "</style>\n",
       "<table border=\"1\" class=\"dataframe\">\n",
       "  <thead>\n",
       "    <tr style=\"text-align: right;\">\n",
       "      <th></th>\n",
       "      <th>Nationality</th>\n",
       "      <th>Rank</th>\n",
       "      <th>Overall</th>\n",
       "      <th>Overall_Rank</th>\n",
       "    </tr>\n",
       "  </thead>\n",
       "  <tbody>\n",
       "    <tr>\n",
       "      <th>1</th>\n",
       "      <td>Albania</td>\n",
       "      <td>56.0</td>\n",
       "      <td>72.000000</td>\n",
       "      <td>48.0</td>\n",
       "    </tr>\n",
       "    <tr>\n",
       "      <th>2</th>\n",
       "      <td>Algeria</td>\n",
       "      <td>28.0</td>\n",
       "      <td>76.565217</td>\n",
       "      <td>24.0</td>\n",
       "    </tr>\n",
       "    <tr>\n",
       "      <th>6</th>\n",
       "      <td>Argentina</td>\n",
       "      <td>6.0</td>\n",
       "      <td>83.304348</td>\n",
       "      <td>6.0</td>\n",
       "    </tr>\n",
       "    <tr>\n",
       "      <th>8</th>\n",
       "      <td>Australia</td>\n",
       "      <td>30.0</td>\n",
       "      <td>71.695652</td>\n",
       "      <td>49.0</td>\n",
       "    </tr>\n",
       "    <tr>\n",
       "      <th>9</th>\n",
       "      <td>Austria</td>\n",
       "      <td>27.0</td>\n",
       "      <td>77.565217</td>\n",
       "      <td>19.0</td>\n",
       "    </tr>\n",
       "  </tbody>\n",
       "</table>\n",
       "</div>"
      ],
      "text/plain": [
       "  Nationality  Rank    Overall  Overall_Rank\n",
       "1     Albania  56.0  72.000000          48.0\n",
       "2     Algeria  28.0  76.565217          24.0\n",
       "6   Argentina   6.0  83.304348           6.0\n",
       "8   Australia  30.0  71.695652          49.0\n",
       "9     Austria  27.0  77.565217          19.0"
      ]
     },
     "execution_count": 23,
     "metadata": {},
     "output_type": "execute_result"
    }
   ],
   "source": [
    "# Show merging\n",
    "temp = fifa.groupby('Nationality').apply(lambda x:x['Overall'].sort_values(ascending=False)[0:23].mean() if x['Overall'].size>23 else 0).to_frame()\n",
    "temp = temp.reset_index()\n",
    "temp.dropna(inplace=True)\n",
    "temp.columns = ['Nationality','Overall']\n",
    "\n",
    "result = pd.merge(temp,fifa_ranking,how='inner')\n",
    "result = result[result['Overall']!=0]\n",
    "result['Rank'] = result['Rank'].rank()\n",
    "result['Overall_Rank'] = result['Overall'].rank(ascending=False)\n",
    "result = result[['Nationality','Rank','Overall','Overall_Rank']]\n",
    "result.head()\n"
   ]
  },
  {
   "cell_type": "code",
   "execution_count": 24,
   "id": "75bbe7c1",
   "metadata": {},
   "outputs": [
    {
     "data": {
      "text/plain": [
       "SpearmanrResult(correlation=0.867259993971173, pvalue=2.318824162092276e-21)"
      ]
     },
     "execution_count": 24,
     "metadata": {},
     "output_type": "execute_result"
    },
    {
     "data": {
      "image/png": "[encoded data removed]",
      "text/plain": [
       "<Figure size 432x288 with 1 Axes>"
      ]
     },
     "metadata": {
      "needs_background": "light"
     },
     "output_type": "display_data"
    }
   ],
   "source": [
    "# rank correlation between fifa ranking and average overall \n",
    "import scipy\n",
    "plt.scatter(result['Rank'],result['Overall_Rank'])\n",
    "plt.xlabel('FIFA ranking')\n",
    "plt.ylabel('Average overall rank')\n",
    "scipy.stats.spearmanr(result['Rank'],result['Overall_Rank'])"
   ]
  },
  {
   "cell_type": "markdown",
   "id": "0472adcd",
   "metadata": {},
   "source": [
    "### Insight from 4.a.(2)\n",
    "- Also has very strong correlation which is about 0.87"
   ]
  },
  {
   "cell_type": "markdown",
   "id": "8068b736",
   "metadata": {},
   "source": [
    "### Troughout the section 4, it seems that the FIFA2022 dataset reflect the real world"
   ]
  },
  {
   "cell_type": "markdown",
   "id": "20f2ffac",
   "metadata": {},
   "source": [
    "<hr style=\"border:1.5px solid gray\"> </hr>"
   ]
  },
  {
   "cell_type": "markdown",
   "id": "bc4b6ff4",
   "metadata": {},
   "source": [
    "## 5. Analytics\n",
    "- a. Best league by overall\n",
    "- b. Best league by financial state\n",
    "- c. Best league by fostering young players"
   ]
  },
  {
   "cell_type": "markdown",
   "id": "ea30e398",
   "metadata": {},
   "source": [
    "### 5.a. Best league by overall"
   ]
  },
  {
   "cell_type": "markdown",
   "id": "cb5f7fdd",
   "metadata": {},
   "source": [
    "#### 5.a.(1) Top-N analysis\n",
    "- Sorted top 30 teams with highest average overall among 5 major leagues"
   ]
  },
  {
   "cell_type": "code",
   "execution_count": 25,
   "id": "bf16298b",
   "metadata": {
    "scrolled": true
   },
   "outputs": [
    {
     "data": {
      "text/plain": [
       "<AxesSubplot:xlabel='League', ylabel='count'>"
      ]
     },
     "execution_count": 25,
     "metadata": {},
     "output_type": "execute_result"
    },
    {
     "data": {
      "image/png": "[encoded data removed]",
      "text/plain": [
       "<Figure size 432x288 with 1 Axes>"
      ]
     },
     "metadata": {
      "needs_background": "light"
     },
     "output_type": "display_data"
    }
   ],
   "source": [
    "# top 30 highest average overall team distribution\n",
    "\n",
    "import seaborn as sns\n",
    "df = fifa[fifa['League']!='Else'].groupby('Team')['Overall'].mean().sort_values(ascending=False).to_frame().reset_index()\n",
    "df['League']= df['Team'].apply(find_league)\n",
    "\n",
    "sns.countplot(data = df[1:30],x='League',order=df[1:30]['League'].value_counts().index)"
   ]
  },
  {
   "cell_type": "markdown",
   "id": "91d8a24c",
   "metadata": {},
   "source": [
    "#### Insight from 5.a.(1)\n",
    "- Spain, England and Italy takes a large part of top 30 teams."
   ]
  },
  {
   "cell_type": "markdown",
   "id": "988c2640",
   "metadata": {},
   "source": [
    "#### 5.a.(2) Distribution of overall by league\n",
    "- Using 'groupby', possible to calculate aveage overall by each league\n",
    "- Draw distribution of overall in each league using seaborn\n",
    "- T-test by using scipy module"
   ]
  },
  {
   "cell_type": "code",
   "execution_count": 26,
   "id": "a3a4b354",
   "metadata": {},
   "outputs": [
    {
     "data": {
      "text/html": [
       "<div>\n",
       "<style scoped>\n",
       "    .dataframe tbody tr th:only-of-type {\n",
       "        vertical-align: middle;\n",
       "    }\n",
       "\n",
       "    .dataframe tbody tr th {\n",
       "        vertical-align: top;\n",
       "    }\n",
       "\n",
       "    .dataframe thead th {\n",
       "        text-align: right;\n",
       "    }\n",
       "</style>\n",
       "<table border=\"1\" class=\"dataframe\">\n",
       "  <thead>\n",
       "    <tr style=\"text-align: right;\">\n",
       "      <th></th>\n",
       "      <th>Overall</th>\n",
       "    </tr>\n",
       "    <tr>\n",
       "      <th>League</th>\n",
       "      <th></th>\n",
       "    </tr>\n",
       "  </thead>\n",
       "  <tbody>\n",
       "    <tr>\n",
       "      <th>England</th>\n",
       "      <td>73.007800</td>\n",
       "    </tr>\n",
       "    <tr>\n",
       "      <th>France</th>\n",
       "      <td>70.807229</td>\n",
       "    </tr>\n",
       "    <tr>\n",
       "      <th>Germany</th>\n",
       "      <td>71.742230</td>\n",
       "    </tr>\n",
       "    <tr>\n",
       "      <th>Italy</th>\n",
       "      <td>72.042088</td>\n",
       "    </tr>\n",
       "    <tr>\n",
       "      <th>Spain</th>\n",
       "      <td>73.086751</td>\n",
       "    </tr>\n",
       "  </tbody>\n",
       "</table>\n",
       "</div>"
      ],
      "text/plain": [
       "           Overall\n",
       "League            \n",
       "England  73.007800\n",
       "France   70.807229\n",
       "Germany  71.742230\n",
       "Italy    72.042088\n",
       "Spain    73.086751"
      ]
     },
     "execution_count": 26,
     "metadata": {},
     "output_type": "execute_result"
    }
   ],
   "source": [
    "fifa[fifa['League']!='Else'].groupby('League')[['Overall']].mean()"
   ]
  },
  {
   "cell_type": "code",
   "execution_count": 27,
   "id": "bba0cdaa",
   "metadata": {
    "scrolled": false
   },
   "outputs": [
    {
     "data": {
      "image/png": "[encoded data removed]",
      "text/plain": [
       "<Figure size 438.5x360 with 1 Axes>"
      ]
     },
     "metadata": {
      "needs_background": "light"
     },
     "output_type": "display_data"
    }
   ],
   "source": [
    "# distribution of overall by league\n",
    "sns.displot(fifa[fifa['League']!='Else'],x='Overall',hue='League',kind='kde')\n",
    "plt.title('Distribution of overall age by each league')\n",
    "plt.show()\n",
    "\n",
    "\n",
    "# Compare Enalgnd and Spain\n",
    "# The reason why Spain has the aveage overall in the above table is that- \n",
    "# -England has high density for low overall playes. "
   ]
  },
  {
   "cell_type": "markdown",
   "id": "3b5947b0",
   "metadata": {},
   "source": [
    "#### T tset\n",
    "- We removed the missing values above for playes who did not get a contract yet\n",
    "- There could be 2nd team players for each team\n",
    "- Therefore, we cna consider the FIFA2022 dataset as sample dataset from the population of real world"
   ]
  },
  {
   "cell_type": "code",
   "execution_count": 28,
   "id": "afaf95cd",
   "metadata": {},
   "outputs": [
    {
     "name": "stdout",
     "output_type": "stream",
     "text": [
      "T test of average overall between England and Italy\n",
      "Ttest_indResult(statistic=2.2024718111827712, pvalue=0.013908264616499117)\n",
      "Alternative hyphothesis is that average overall of England is greater than Italy. And p-value is less than 0.05 .\n",
      "Therefore, average overall of Engalnd is larger than Italy\n",
      "\n",
      "T test of average overall between England and Spain\n",
      "Ttest_indResult(statistic=-0.18446238102347323, pvalue=0.8536801167760014)\n",
      "Alternative hyphothesis is that average overall of England is same as Spain. And p-value is larger than 0.05, failing to reject null hyphothesis .\n",
      "Therefore, average overall of Engalnd is same as Spain\n",
      "\n"
     ]
    }
   ],
   "source": [
    "import scipy\n",
    "print('T test of average overall between England and Italy')\n",
    "print(scipy.stats.ttest_ind(fifa['Overall'][fifa['League']=='England'],fifa['Overall'][fifa['League']=='Italy'],alternative='greater'))\n",
    "print('Alternative hyphothesis is that average overall of England is greater than Italy. And p-value is less than 0.05 .\\nTherefore, average overall of Engalnd is larger than Italy')\n",
    "print()\n",
    "\n",
    "print('T test of average overall between England and Spain')\n",
    "print(scipy.stats.ttest_ind(fifa['Overall'][fifa['League']=='England'],fifa['Overall'][fifa['League']=='Spain']))\n",
    "print('Alternative hyphothesis is that average overall of England is same as Spain. And p-value is larger than 0.05, failing to reject null hyphothesis .\\nTherefore, average overall of Engalnd is same as Spain')\n",
    "print()"
   ]
  },
  {
   "cell_type": "markdown",
   "id": "f9c1bbaf",
   "metadata": {},
   "source": [
    "#### Insight from 5.a.(2)\n",
    "- From the table and the graph, Spain and England has the higest average overall\n",
    "- But from the t-test, it seems both league have similar average overall"
   ]
  },
  {
   "cell_type": "markdown",
   "id": "f61db2f4",
   "metadata": {},
   "source": [
    "#### 5.a.(3) Average Overall by position and league\n",
    "- Competitive league shoud have good balance between offense and defense abilities\n",
    "- We simply categorize positions into two tategories; 'Offense' and 'Defense'"
   ]
  },
  {
   "cell_type": "code",
   "execution_count": 29,
   "id": "e6bd38d0",
   "metadata": {},
   "outputs": [
    {
     "data": {
      "text/html": [
       "<div>\n",
       "<style scoped>\n",
       "    .dataframe tbody tr th:only-of-type {\n",
       "        vertical-align: middle;\n",
       "    }\n",
       "\n",
       "    .dataframe tbody tr th {\n",
       "        vertical-align: top;\n",
       "    }\n",
       "\n",
       "    .dataframe thead th {\n",
       "        text-align: right;\n",
       "    }\n",
       "</style>\n",
       "<table border=\"1\" class=\"dataframe\">\n",
       "  <thead>\n",
       "    <tr style=\"text-align: right;\">\n",
       "      <th></th>\n",
       "      <th>Best position</th>\n",
       "      <th>Offense-Defense</th>\n",
       "    </tr>\n",
       "  </thead>\n",
       "  <tbody>\n",
       "    <tr>\n",
       "      <th>0</th>\n",
       "      <td>RW</td>\n",
       "      <td>Offense</td>\n",
       "    </tr>\n",
       "    <tr>\n",
       "      <th>1</th>\n",
       "      <td>ST</td>\n",
       "      <td>Offense</td>\n",
       "    </tr>\n",
       "    <tr>\n",
       "      <th>2</th>\n",
       "      <td>ST</td>\n",
       "      <td>Offense</td>\n",
       "    </tr>\n",
       "    <tr>\n",
       "      <th>3</th>\n",
       "      <td>GK</td>\n",
       "      <td>Defense</td>\n",
       "    </tr>\n",
       "    <tr>\n",
       "      <th>4</th>\n",
       "      <td>CM</td>\n",
       "      <td>Offense</td>\n",
       "    </tr>\n",
       "  </tbody>\n",
       "</table>\n",
       "</div>"
      ],
      "text/plain": [
       "  Best position Offense-Defense\n",
       "0            RW         Offense\n",
       "1            ST         Offense\n",
       "2            ST         Offense\n",
       "3            GK         Defense\n",
       "4            CM         Offense"
      ]
     },
     "execution_count": 29,
     "metadata": {},
     "output_type": "execute_result"
    }
   ],
   "source": [
    "position_dic = {'Offense':['RW', 'ST','CM','LW','CF','CAM','RM'],'Defense':['GK','CB','CDM','RB','LB','RWB','LWB']}\n",
    "def offense_defense(x):\n",
    "    if x in position_dic['Offense']:\n",
    "        return 'Offense'\n",
    "    else: return 'Defense'\n",
    "fifa['Offense-Defense'] = fifa['Best position'].apply(offense_defense)\n",
    "\n",
    "fifa[['Best position','Offense-Defense']].head()"
   ]
  },
  {
   "cell_type": "code",
   "execution_count": 30,
   "id": "dc5ead25",
   "metadata": {},
   "outputs": [
    {
     "data": {
      "text/html": [
       "<div>\n",
       "<style scoped>\n",
       "    .dataframe tbody tr th:only-of-type {\n",
       "        vertical-align: middle;\n",
       "    }\n",
       "\n",
       "    .dataframe tbody tr th {\n",
       "        vertical-align: top;\n",
       "    }\n",
       "\n",
       "    .dataframe thead th {\n",
       "        text-align: right;\n",
       "    }\n",
       "</style>\n",
       "<table border=\"1\" class=\"dataframe\">\n",
       "  <thead>\n",
       "    <tr style=\"text-align: right;\">\n",
       "      <th></th>\n",
       "      <th>League</th>\n",
       "      <th>Offense-Defense</th>\n",
       "      <th>Overall</th>\n",
       "    </tr>\n",
       "  </thead>\n",
       "  <tbody>\n",
       "    <tr>\n",
       "      <th>0</th>\n",
       "      <td>England</td>\n",
       "      <td>Defense</td>\n",
       "      <td>73.383978</td>\n",
       "    </tr>\n",
       "    <tr>\n",
       "      <th>1</th>\n",
       "      <td>England</td>\n",
       "      <td>Offense</td>\n",
       "      <td>72.519713</td>\n",
       "    </tr>\n",
       "    <tr>\n",
       "      <th>2</th>\n",
       "      <td>France</td>\n",
       "      <td>Defense</td>\n",
       "      <td>70.726415</td>\n",
       "    </tr>\n",
       "    <tr>\n",
       "      <th>3</th>\n",
       "      <td>France</td>\n",
       "      <td>Offense</td>\n",
       "      <td>70.904943</td>\n",
       "    </tr>\n",
       "    <tr>\n",
       "      <th>4</th>\n",
       "      <td>Germany</td>\n",
       "      <td>Defense</td>\n",
       "      <td>72.059406</td>\n",
       "    </tr>\n",
       "    <tr>\n",
       "      <th>5</th>\n",
       "      <td>Germany</td>\n",
       "      <td>Offense</td>\n",
       "      <td>71.348361</td>\n",
       "    </tr>\n",
       "    <tr>\n",
       "      <th>6</th>\n",
       "      <td>Italy</td>\n",
       "      <td>Defense</td>\n",
       "      <td>72.232704</td>\n",
       "    </tr>\n",
       "    <tr>\n",
       "      <th>7</th>\n",
       "      <td>Italy</td>\n",
       "      <td>Offense</td>\n",
       "      <td>71.822464</td>\n",
       "    </tr>\n",
       "    <tr>\n",
       "      <th>8</th>\n",
       "      <td>Spain</td>\n",
       "      <td>Defense</td>\n",
       "      <td>73.014085</td>\n",
       "    </tr>\n",
       "    <tr>\n",
       "      <th>9</th>\n",
       "      <td>Spain</td>\n",
       "      <td>Offense</td>\n",
       "      <td>73.179211</td>\n",
       "    </tr>\n",
       "  </tbody>\n",
       "</table>\n",
       "</div>"
      ],
      "text/plain": [
       "    League Offense-Defense    Overall\n",
       "0  England         Defense  73.383978\n",
       "1  England         Offense  72.519713\n",
       "2   France         Defense  70.726415\n",
       "3   France         Offense  70.904943\n",
       "4  Germany         Defense  72.059406\n",
       "5  Germany         Offense  71.348361\n",
       "6    Italy         Defense  72.232704\n",
       "7    Italy         Offense  71.822464\n",
       "8    Spain         Defense  73.014085\n",
       "9    Spain         Offense  73.179211"
      ]
     },
     "metadata": {},
     "output_type": "display_data"
    },
    {
     "data": {
      "text/plain": [
       "(0.0, 150.0)"
      ]
     },
     "execution_count": 30,
     "metadata": {},
     "output_type": "execute_result"
    },
    {
     "data": {
      "image/png": "[encoded data removed]",
      "text/plain": [
       "<Figure size 432x288 with 1 Axes>"
      ]
     },
     "metadata": {
      "needs_background": "light"
     },
     "output_type": "display_data"
    }
   ],
   "source": [
    "data = fifa[fifa['League']!='Else'].groupby(['League','Offense-Defense'])['Overall'].mean().reset_index()\n",
    "display(data)\n",
    "\n",
    "sns.barplot(data=data,x='League',y='Overall',hue='Offense-Defense')\n",
    "plt.title('Average offense and defense ability by league')\n",
    "plt.ylim(0,150)"
   ]
  },
  {
   "cell_type": "markdown",
   "id": "838f20a9",
   "metadata": {},
   "source": [
    "#### Insight from 5.a.(3)\n",
    "- Still, England and Spain has high average Defense and Offense abilities. \n",
    "- And both league have good balance between Defense and Offense abilities."
   ]
  },
  {
   "cell_type": "markdown",
   "id": "ccb44924",
   "metadata": {},
   "source": [
    "### 5.b. Best league by financial state\n",
    "- based on how much wage the league pays for playes"
   ]
  },
  {
   "cell_type": "code",
   "execution_count": 31,
   "id": "895ed176",
   "metadata": {},
   "outputs": [
    {
     "data": {
      "text/plain": [
       "<AxesSubplot:xlabel='Wage', ylabel='League'>"
      ]
     },
     "execution_count": 31,
     "metadata": {},
     "output_type": "execute_result"
    },
    {
     "data": {
      "image/png": "[encoded data removed]",
      "text/plain": [
       "<Figure size 432x288 with 1 Axes>"
      ]
     },
     "metadata": {
      "needs_background": "light"
     },
     "output_type": "display_data"
    }
   ],
   "source": [
    "data = fifa[fifa['League']!='Else'].groupby('League')[['Wage']].sum().reset_index()\n",
    "sns.barplot(data=data,x='Wage',y='League')"
   ]
  },
  {
   "cell_type": "markdown",
   "id": "05f93e2b",
   "metadata": {},
   "source": [
    "#### Insight from 5.b. \n",
    "- England pays the most to the players overwhelmingly"
   ]
  },
  {
   "cell_type": "markdown",
   "id": "592d6dba",
   "metadata": {},
   "source": [
    "### 5.c. Best league by fostering young players"
   ]
  },
  {
   "cell_type": "markdown",
   "id": "b89afb40",
   "metadata": {},
   "source": [
    "#### 5.c.(1) Distribution of potential of young players"
   ]
  },
  {
   "cell_type": "code",
   "execution_count": 32,
   "id": "6130767a",
   "metadata": {},
   "outputs": [
    {
     "data": {
      "text/plain": [
       "League\n",
       "England    78.957364\n",
       "France     77.347973\n",
       "Germany    78.470356\n",
       "Italy      77.160000\n",
       "Spain      78.334764\n",
       "Name: Potential, dtype: float64"
      ]
     },
     "execution_count": 32,
     "metadata": {},
     "output_type": "execute_result"
    }
   ],
   "source": [
    "fifa[(fifa['League']!='Else')&(fifa['Young Player']=='Young')].groupby('League')['Potential'].mean()"
   ]
  },
  {
   "cell_type": "code",
   "execution_count": 33,
   "id": "fe2a1634",
   "metadata": {},
   "outputs": [
    {
     "data": {
      "image/png": "[encoded data removed]",
      "text/plain": [
       "<Figure size 438.5x360 with 1 Axes>"
      ]
     },
     "metadata": {
      "needs_background": "light"
     },
     "output_type": "display_data"
    }
   ],
   "source": [
    "sns.displot(fifa[(fifa['League']!='Else')&(fifa['Young Player']=='Young')],x='Potential',hue='League',kind='kde')\n",
    "plt.title('Distribution of potentail of young players')\n",
    "plt.show()"
   ]
  },
  {
   "cell_type": "markdown",
   "id": "799005e2",
   "metadata": {},
   "source": [
    "#### Insight from 5.c.(1)\n",
    "- England and Spain has high potential average among 5 leagues.\n",
    "- But \"potential\" is very subjective, it is hard to predict their future. \n",
    "- We need to dive more into it"
   ]
  },
  {
   "cell_type": "markdown",
   "id": "9daf861f",
   "metadata": {},
   "source": [
    "#### 5.c.(2) Average wage for young players by league"
   ]
  },
  {
   "cell_type": "code",
   "execution_count": 34,
   "id": "f4e965a0",
   "metadata": {},
   "outputs": [
    {
     "data": {
      "text/html": [
       "<div>\n",
       "<style scoped>\n",
       "    .dataframe tbody tr th:only-of-type {\n",
       "        vertical-align: middle;\n",
       "    }\n",
       "\n",
       "    .dataframe tbody tr th {\n",
       "        vertical-align: top;\n",
       "    }\n",
       "\n",
       "    .dataframe thead th {\n",
       "        text-align: right;\n",
       "    }\n",
       "</style>\n",
       "<table border=\"1\" class=\"dataframe\">\n",
       "  <thead>\n",
       "    <tr style=\"text-align: right;\">\n",
       "      <th></th>\n",
       "      <th>Wage</th>\n",
       "    </tr>\n",
       "    <tr>\n",
       "      <th>League</th>\n",
       "      <th></th>\n",
       "    </tr>\n",
       "  </thead>\n",
       "  <tbody>\n",
       "    <tr>\n",
       "      <th>England</th>\n",
       "      <td>25066.666667</td>\n",
       "    </tr>\n",
       "    <tr>\n",
       "      <th>France</th>\n",
       "      <td>12308.614865</td>\n",
       "    </tr>\n",
       "    <tr>\n",
       "      <th>Germany</th>\n",
       "      <td>14261.857708</td>\n",
       "    </tr>\n",
       "    <tr>\n",
       "      <th>Italy</th>\n",
       "      <td>14884.250000</td>\n",
       "    </tr>\n",
       "    <tr>\n",
       "      <th>Spain</th>\n",
       "      <td>15997.854077</td>\n",
       "    </tr>\n",
       "  </tbody>\n",
       "</table>\n",
       "</div>"
      ],
      "text/plain": [
       "                 Wage\n",
       "League               \n",
       "England  25066.666667\n",
       "France   12308.614865\n",
       "Germany  14261.857708\n",
       "Italy    14884.250000\n",
       "Spain    15997.854077"
      ]
     },
     "metadata": {},
     "output_type": "display_data"
    }
   ],
   "source": [
    "display(fifa[(fifa['League']!='Else')&(fifa['Young Player']=='Young')].groupby(['League'])[['Wage']].mean())"
   ]
  },
  {
   "cell_type": "markdown",
   "id": "46f0651a",
   "metadata": {},
   "source": [
    "#### 5.c.(3) Average overall of young players by league"
   ]
  },
  {
   "cell_type": "code",
   "execution_count": 35,
   "id": "807e2187",
   "metadata": {},
   "outputs": [
    {
     "data": {
      "text/html": [
       "<div>\n",
       "<style scoped>\n",
       "    .dataframe tbody tr th:only-of-type {\n",
       "        vertical-align: middle;\n",
       "    }\n",
       "\n",
       "    .dataframe tbody tr th {\n",
       "        vertical-align: top;\n",
       "    }\n",
       "\n",
       "    .dataframe thead th {\n",
       "        text-align: right;\n",
       "    }\n",
       "</style>\n",
       "<table border=\"1\" class=\"dataframe\">\n",
       "  <thead>\n",
       "    <tr style=\"text-align: right;\">\n",
       "      <th></th>\n",
       "      <th>Overall</th>\n",
       "    </tr>\n",
       "    <tr>\n",
       "      <th>League</th>\n",
       "      <th></th>\n",
       "    </tr>\n",
       "  </thead>\n",
       "  <tbody>\n",
       "    <tr>\n",
       "      <th>England</th>\n",
       "      <td>66.860465</td>\n",
       "    </tr>\n",
       "    <tr>\n",
       "      <th>France</th>\n",
       "      <td>67.489865</td>\n",
       "    </tr>\n",
       "    <tr>\n",
       "      <th>Germany</th>\n",
       "      <td>67.699605</td>\n",
       "    </tr>\n",
       "    <tr>\n",
       "      <th>Italy</th>\n",
       "      <td>67.020000</td>\n",
       "    </tr>\n",
       "    <tr>\n",
       "      <th>Spain</th>\n",
       "      <td>67.519313</td>\n",
       "    </tr>\n",
       "  </tbody>\n",
       "</table>\n",
       "</div>"
      ],
      "text/plain": [
       "           Overall\n",
       "League            \n",
       "England  66.860465\n",
       "France   67.489865\n",
       "Germany  67.699605\n",
       "Italy    67.020000\n",
       "Spain    67.519313"
      ]
     },
     "metadata": {},
     "output_type": "display_data"
    }
   ],
   "source": [
    "display(fifa[(fifa['League']!='Else')&(fifa['Young Player']=='Young')].groupby(['League'])[['Overall']].mean())"
   ]
  },
  {
   "cell_type": "markdown",
   "id": "22b9b671",
   "metadata": {},
   "source": [
    "#### Insight from 5.c.(2) and 5.c.(3)\n",
    "- England pays overwhelmingly for the young players\n",
    "- But average overall of young players in England league is the lowest\n",
    "- Rest of the laegus have somewhat similar average overall and wage"
   ]
  },
  {
   "cell_type": "markdown",
   "id": "a9658584",
   "metadata": {},
   "source": [
    "#### 5.c.(4) Distribution of age of young players by league"
   ]
  },
  {
   "cell_type": "code",
   "execution_count": 36,
   "id": "0d83a416",
   "metadata": {},
   "outputs": [
    {
     "data": {
      "image/png": "[encoded data removed]",
      "text/plain": [
       "<Figure size 438.5x360 with 1 Axes>"
      ]
     },
     "metadata": {
      "needs_background": "light"
     },
     "output_type": "display_data"
    }
   ],
   "source": [
    "sns.displot(fifa[(fifa['League']!='Else')&(fifa['Young Player']=='Young')],x='Age',hue='League',kind='kde')\n",
    "plt.title('Distribution of age of young players by league')\n",
    "plt.show()"
   ]
  },
  {
   "cell_type": "markdown",
   "id": "8fd82b51",
   "metadata": {},
   "source": [
    "#### Insight from 5.c.(4)\n",
    "- We alreday saw average overall of young players in England is the lowest, even though England pays the most\n",
    "- The reason is that Englad has high the density for the palyes below 20s.\n",
    "- The Enlgand league invest in the players who are very young and talentd"
   ]
  },
  {
   "cell_type": "markdown",
   "id": "acc23cc0",
   "metadata": {},
   "source": [
    "Throughout section 5.c., England league has the higest average potential for young players and pays the most for them.\\n But the average overall of young players in England leaguep is the lowest. This is because England league invest in lots of very young playes below 20s"
   ]
  }
 ],
 "metadata": {
  "kernelspec": {
   "display_name": "Python 3 (ipykernel)",
   "language": "python",
   "name": "python3"
  },
  "language_info": {
   "codemirror_mode": {
    "name": "ipython",
    "version": 3
   },
   "file_extension": ".py",
   "mimetype": "text/x-python",
   "name": "python",
   "nbconvert_exporter": "python",
   "pygments_lexer": "ipython3",
   "version": "3.8.2"
  }
 },
 "nbformat": 4,
 "nbformat_minor": 5
}
