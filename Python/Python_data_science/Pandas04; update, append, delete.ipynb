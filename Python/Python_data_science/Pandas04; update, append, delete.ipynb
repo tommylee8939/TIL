{
 "cells": [
  {
   "cell_type": "code",
   "execution_count": 1,
   "id": "ac0c6384",
   "metadata": {},
   "outputs": [],
   "source": [
    "import numpy as np\n",
    "import pandas as pd"
   ]
  },
  {
   "cell_type": "markdown",
   "id": "7275c909",
   "metadata": {},
   "source": [
    "### Series\n",
    "- series는 암묵적, 명시적 인덱스 편하게 사용가능하다\n",
    "- iloc loc으로 보다 직관적으로 인덱스 가능"
   ]
  },
  {
   "cell_type": "markdown",
   "id": "5bb1a057",
   "metadata": {},
   "source": [
    "#### update\n",
    "- indexing, slicing 편하게 사용 가능 (loc iloc 포함)"
   ]
  },
  {
   "cell_type": "code",
   "execution_count": 3,
   "id": "e38a3a96",
   "metadata": {},
   "outputs": [
    {
     "data": {
      "text/plain": [
       "a    0\n",
       "b    1\n",
       "c    2\n",
       "d    3\n",
       "e    4\n",
       "dtype: int64"
      ]
     },
     "execution_count": 3,
     "metadata": {},
     "output_type": "execute_result"
    }
   ],
   "source": [
    "series01 = pd.Series(range(5),index=['a','b','c','d','e'])\n",
    "series01"
   ]
  },
  {
   "cell_type": "code",
   "execution_count": 5,
   "id": "c27178bf",
   "metadata": {},
   "outputs": [
    {
     "name": "stdout",
     "output_type": "stream",
     "text": [
      "a    100\n",
      "b      1\n",
      "c      2\n",
      "d    300\n",
      "e      4\n",
      "dtype: int64\n",
      "a    100\n",
      "b      1\n",
      "c      2\n",
      "d    300\n",
      "e      4\n",
      "dtype: int64\n"
     ]
    }
   ],
   "source": [
    "# indexing 을 통한 update\n",
    "series01[0] = 100    # 암묵적 정수\n",
    "print(series01) \n",
    "series01['d'] = 300  # 명시적 라벨링\n",
    "print(series01)"
   ]
  },
  {
   "cell_type": "code",
   "execution_count": 14,
   "id": "0b7ec6c4",
   "metadata": {},
   "outputs": [
    {
     "name": "stdout",
     "output_type": "stream",
     "text": [
      "a    1000\n",
      "b    2000\n",
      "c     300\n",
      "d    3000\n",
      "e     500\n",
      "dtype: int64\n",
      "a    1000\n",
      "b    2000\n",
      "c     300\n",
      "d    3000\n",
      "e     500\n",
      "dtype: int64\n"
     ]
    }
   ],
   "source": [
    "# loc iloc도 동일한 매커니즘이다\n",
    "series01.iloc[0] = 1000    # 암묵적 정수\n",
    "print(series01) \n",
    "series01.loc['d'] = 3000  # 명시적 라벨링\n",
    "print(series01)"
   ]
  },
  {
   "cell_type": "code",
   "execution_count": 10,
   "id": "557110b6",
   "metadata": {},
   "outputs": [
    {
     "name": "stdout",
     "output_type": "stream",
     "text": [
      "a    1000\n",
      "b    2000\n",
      "c     300\n",
      "d     400\n",
      "e     500\n",
      "dtype: int64\n",
      "a    1000\n",
      "b    2000\n",
      "c     300\n",
      "d     400\n",
      "e     500\n",
      "dtype: int64\n"
     ]
    }
   ],
   "source": [
    "# slicing 을 통한 update\n",
    "series01[0:2] = [1000,2000]\n",
    "print(series01)\n",
    "series01['c':'e'] = [300,400,500]\n",
    "print(series01)"
   ]
  },
  {
   "cell_type": "markdown",
   "id": "83fd1bd7",
   "metadata": {},
   "source": [
    "#### append\n",
    "- append할때는 반드시 label을 이용한 명시적 인덱스를 사용한다"
   ]
  },
  {
   "cell_type": "code",
   "execution_count": 18,
   "id": "1df91488",
   "metadata": {},
   "outputs": [
    {
     "name": "stdout",
     "output_type": "stream",
     "text": [
      "a     1000\n",
      "b     2000\n",
      "c      300\n",
      "d     3000\n",
      "e      500\n",
      "f    new01\n",
      "dtype: object\n",
      "a     1000\n",
      "b     2000\n",
      "c      300\n",
      "d     3000\n",
      "e      500\n",
      "f    new01\n",
      "g    new02\n",
      "dtype: object\n"
     ]
    }
   ],
   "source": [
    "# indexing을 통한 append\n",
    "series01['f'] = 'new01'\n",
    "print(series01)\n",
    "series01.loc['g'] = 'new02'\n",
    "print(series01)"
   ]
  },
  {
   "cell_type": "markdown",
   "id": "21e6163d",
   "metadata": {},
   "source": [
    "#### delete\n",
    "- del 사용\n",
    "- series.drop([labels],inplace=) 사용\n",
    "    - drop함수는 label을 찾아서 지운다 => 정수 index하면 에러남\n",
    "    - dataframe 에도 동일하게 label을 찾아가느데,축이 두개 이기 때문에 row indexd인지 column index 축 설정이 필요"
   ]
  },
  {
   "cell_type": "code",
   "execution_count": 24,
   "id": "f9cfe90a",
   "metadata": {},
   "outputs": [
    {
     "data": {
      "text/plain": [
       "b     2000\n",
       "c      300\n",
       "d     3000\n",
       "e      500\n",
       "f    new01\n",
       "g    new02\n",
       "dtype: object"
      ]
     },
     "execution_count": 24,
     "metadata": {},
     "output_type": "execute_result"
    }
   ],
   "source": [
    "# 'a' 하나만 지우기\n",
    "series01.drop('a')"
   ]
  },
  {
   "cell_type": "code",
   "execution_count": 25,
   "id": "99c40e04",
   "metadata": {},
   "outputs": [
    {
     "data": {
      "text/plain": [
       "c      300\n",
       "d     3000\n",
       "e      500\n",
       "f    new01\n",
       "g    new02\n",
       "dtype: object"
      ]
     },
     "execution_count": 25,
     "metadata": {},
     "output_type": "execute_result"
    }
   ],
   "source": [
    "# 'a' 'b' 지우기\n",
    "series01.drop(['a','b'])"
   ]
  },
  {
   "cell_type": "code",
   "execution_count": 26,
   "id": "ccc3582e",
   "metadata": {},
   "outputs": [
    {
     "data": {
      "text/plain": [
       "a    1000\n",
       "b    2000\n",
       "c     300\n",
       "d    3000\n",
       "e     500\n",
       "dtype: object"
      ]
     },
     "execution_count": 26,
     "metadata": {},
     "output_type": "execute_result"
    }
   ],
   "source": [
    "series01.drop(['f','g'],inplace=True)\n",
    "series01"
   ]
  },
  {
   "cell_type": "markdown",
   "id": "d3bd36d8",
   "metadata": {},
   "source": [
    "### DataFrame"
   ]
  },
  {
   "cell_type": "code",
   "execution_count": 27,
   "id": "370a90cf",
   "metadata": {},
   "outputs": [
    {
     "data": {
      "text/html": [
       "<div>\n",
       "<style scoped>\n",
       "    .dataframe tbody tr th:only-of-type {\n",
       "        vertical-align: middle;\n",
       "    }\n",
       "\n",
       "    .dataframe tbody tr th {\n",
       "        vertical-align: top;\n",
       "    }\n",
       "\n",
       "    .dataframe thead th {\n",
       "        text-align: right;\n",
       "    }\n",
       "</style>\n",
       "<table border=\"1\" class=\"dataframe\">\n",
       "  <thead>\n",
       "    <tr style=\"text-align: right;\">\n",
       "      <th></th>\n",
       "      <th>kor</th>\n",
       "      <th>eng</th>\n",
       "      <th>math</th>\n",
       "    </tr>\n",
       "  </thead>\n",
       "  <tbody>\n",
       "    <tr>\n",
       "      <th>김지은</th>\n",
       "      <td>80</td>\n",
       "      <td>90</td>\n",
       "      <td>90</td>\n",
       "    </tr>\n",
       "    <tr>\n",
       "      <th>황인범</th>\n",
       "      <td>90</td>\n",
       "      <td>70</td>\n",
       "      <td>60</td>\n",
       "    </tr>\n",
       "    <tr>\n",
       "      <th>김정수</th>\n",
       "      <td>70</td>\n",
       "      <td>60</td>\n",
       "      <td>90</td>\n",
       "    </tr>\n",
       "    <tr>\n",
       "      <th>최호진</th>\n",
       "      <td>30</td>\n",
       "      <td>40</td>\n",
       "      <td>70</td>\n",
       "    </tr>\n",
       "  </tbody>\n",
       "</table>\n",
       "</div>"
      ],
      "text/plain": [
       "     kor  eng  math\n",
       "김지은   80   90    90\n",
       "황인범   90   70    60\n",
       "김정수   70   60    90\n",
       "최호진   30   40    70"
      ]
     },
     "metadata": {},
     "output_type": "display_data"
    }
   ],
   "source": [
    "score_data = {\n",
    "    'kor'  : [80,90,70,30],\n",
    "    'eng'  : [90,70,60,40],\n",
    "    'math' : [90,60,90,70] \n",
    "}\n",
    "\n",
    "index   = ['김지은', '황인범', '김정수', '최호진']\n",
    "df01 = pd.DataFrame(score_data,index=index)\n",
    "display(df01)"
   ]
  },
  {
   "cell_type": "markdown",
   "id": "6cde42c0",
   "metadata": {},
   "source": [
    "#### update\n",
    "- indeixng slincg 편하게 하면 된다 (loc iloc 포함)\n",
    "- 다만 return type이 몇차원인지 Series인지 Df인지 형태를 잘 파악할 필요가 있다"
   ]
  },
  {
   "cell_type": "code",
   "execution_count": 28,
   "id": "aad50cd7",
   "metadata": {},
   "outputs": [
    {
     "data": {
      "text/html": [
       "<div>\n",
       "<style scoped>\n",
       "    .dataframe tbody tr th:only-of-type {\n",
       "        vertical-align: middle;\n",
       "    }\n",
       "\n",
       "    .dataframe tbody tr th {\n",
       "        vertical-align: top;\n",
       "    }\n",
       "\n",
       "    .dataframe thead th {\n",
       "        text-align: right;\n",
       "    }\n",
       "</style>\n",
       "<table border=\"1\" class=\"dataframe\">\n",
       "  <thead>\n",
       "    <tr style=\"text-align: right;\">\n",
       "      <th></th>\n",
       "      <th>kor</th>\n",
       "      <th>eng</th>\n",
       "      <th>math</th>\n",
       "    </tr>\n",
       "  </thead>\n",
       "  <tbody>\n",
       "    <tr>\n",
       "      <th>김지은</th>\n",
       "      <td>100</td>\n",
       "      <td>90</td>\n",
       "      <td>90</td>\n",
       "    </tr>\n",
       "    <tr>\n",
       "      <th>황인범</th>\n",
       "      <td>90</td>\n",
       "      <td>70</td>\n",
       "      <td>60</td>\n",
       "    </tr>\n",
       "    <tr>\n",
       "      <th>김정수</th>\n",
       "      <td>70</td>\n",
       "      <td>60</td>\n",
       "      <td>90</td>\n",
       "    </tr>\n",
       "    <tr>\n",
       "      <th>최호진</th>\n",
       "      <td>30</td>\n",
       "      <td>40</td>\n",
       "      <td>70</td>\n",
       "    </tr>\n",
       "  </tbody>\n",
       "</table>\n",
       "</div>"
      ],
      "text/plain": [
       "     kor  eng  math\n",
       "김지은  100   90    90\n",
       "황인범   90   70    60\n",
       "김정수   70   60    90\n",
       "최호진   30   40    70"
      ]
     },
     "metadata": {},
     "output_type": "display_data"
    }
   ],
   "source": [
    "# 김지은 kor 점수 변경\n",
    "df01.loc['김지은','kor'] = 100\n",
    "display(df01)"
   ]
  },
  {
   "cell_type": "code",
   "execution_count": 29,
   "id": "303722c7",
   "metadata": {},
   "outputs": [
    {
     "data": {
      "text/html": [
       "<div>\n",
       "<style scoped>\n",
       "    .dataframe tbody tr th:only-of-type {\n",
       "        vertical-align: middle;\n",
       "    }\n",
       "\n",
       "    .dataframe tbody tr th {\n",
       "        vertical-align: top;\n",
       "    }\n",
       "\n",
       "    .dataframe thead th {\n",
       "        text-align: right;\n",
       "    }\n",
       "</style>\n",
       "<table border=\"1\" class=\"dataframe\">\n",
       "  <thead>\n",
       "    <tr style=\"text-align: right;\">\n",
       "      <th></th>\n",
       "      <th>kor</th>\n",
       "      <th>eng</th>\n",
       "      <th>math</th>\n",
       "    </tr>\n",
       "  </thead>\n",
       "  <tbody>\n",
       "    <tr>\n",
       "      <th>김지은</th>\n",
       "      <td>100</td>\n",
       "      <td>90</td>\n",
       "      <td>90</td>\n",
       "    </tr>\n",
       "    <tr>\n",
       "      <th>황인범</th>\n",
       "      <td>80</td>\n",
       "      <td>70</td>\n",
       "      <td>60</td>\n",
       "    </tr>\n",
       "    <tr>\n",
       "      <th>김정수</th>\n",
       "      <td>70</td>\n",
       "      <td>60</td>\n",
       "      <td>90</td>\n",
       "    </tr>\n",
       "    <tr>\n",
       "      <th>최호진</th>\n",
       "      <td>30</td>\n",
       "      <td>40</td>\n",
       "      <td>70</td>\n",
       "    </tr>\n",
       "  </tbody>\n",
       "</table>\n",
       "</div>"
      ],
      "text/plain": [
       "     kor  eng  math\n",
       "김지은  100   90    90\n",
       "황인범   80   70    60\n",
       "김정수   70   60    90\n",
       "최호진   30   40    70"
      ]
     },
     "metadata": {},
     "output_type": "display_data"
    }
   ],
   "source": [
    "# 황인범 kor eng 변경\n",
    "df01.loc['황인범','kor':'eng'] = [80,70]\n",
    "display(df01)"
   ]
  },
  {
   "cell_type": "code",
   "execution_count": 31,
   "id": "4025fdd9",
   "metadata": {},
   "outputs": [
    {
     "data": {
      "text/html": [
       "<div>\n",
       "<style scoped>\n",
       "    .dataframe tbody tr th:only-of-type {\n",
       "        vertical-align: middle;\n",
       "    }\n",
       "\n",
       "    .dataframe tbody tr th {\n",
       "        vertical-align: top;\n",
       "    }\n",
       "\n",
       "    .dataframe thead th {\n",
       "        text-align: right;\n",
       "    }\n",
       "</style>\n",
       "<table border=\"1\" class=\"dataframe\">\n",
       "  <thead>\n",
       "    <tr style=\"text-align: right;\">\n",
       "      <th></th>\n",
       "      <th>kor</th>\n",
       "      <th>eng</th>\n",
       "      <th>math</th>\n",
       "    </tr>\n",
       "  </thead>\n",
       "  <tbody>\n",
       "    <tr>\n",
       "      <th>김지은</th>\n",
       "      <td>30</td>\n",
       "      <td>90</td>\n",
       "      <td>90</td>\n",
       "    </tr>\n",
       "    <tr>\n",
       "      <th>황인범</th>\n",
       "      <td>30</td>\n",
       "      <td>70</td>\n",
       "      <td>60</td>\n",
       "    </tr>\n",
       "    <tr>\n",
       "      <th>김정수</th>\n",
       "      <td>30</td>\n",
       "      <td>60</td>\n",
       "      <td>90</td>\n",
       "    </tr>\n",
       "    <tr>\n",
       "      <th>최호진</th>\n",
       "      <td>30</td>\n",
       "      <td>40</td>\n",
       "      <td>70</td>\n",
       "    </tr>\n",
       "  </tbody>\n",
       "</table>\n",
       "</div>"
      ],
      "text/plain": [
       "     kor  eng  math\n",
       "김지은   30   90    90\n",
       "황인범   30   70    60\n",
       "김정수   30   60    90\n",
       "최호진   30   40    70"
      ]
     },
     "metadata": {},
     "output_type": "display_data"
    }
   ],
   "source": [
    "# kor 성적을 싹다 변경\n",
    "df01['kor'] = [30,30,30,30]\n",
    "display(df01)"
   ]
  },
  {
   "cell_type": "code",
   "execution_count": 32,
   "id": "df51c5a1",
   "metadata": {},
   "outputs": [
    {
     "data": {
      "text/html": [
       "<div>\n",
       "<style scoped>\n",
       "    .dataframe tbody tr th:only-of-type {\n",
       "        vertical-align: middle;\n",
       "    }\n",
       "\n",
       "    .dataframe tbody tr th {\n",
       "        vertical-align: top;\n",
       "    }\n",
       "\n",
       "    .dataframe thead th {\n",
       "        text-align: right;\n",
       "    }\n",
       "</style>\n",
       "<table border=\"1\" class=\"dataframe\">\n",
       "  <thead>\n",
       "    <tr style=\"text-align: right;\">\n",
       "      <th></th>\n",
       "      <th>kor</th>\n",
       "      <th>eng</th>\n",
       "      <th>math</th>\n",
       "    </tr>\n",
       "  </thead>\n",
       "  <tbody>\n",
       "    <tr>\n",
       "      <th>김지은</th>\n",
       "      <td>20</td>\n",
       "      <td>20</td>\n",
       "      <td>90</td>\n",
       "    </tr>\n",
       "    <tr>\n",
       "      <th>황인범</th>\n",
       "      <td>20</td>\n",
       "      <td>20</td>\n",
       "      <td>60</td>\n",
       "    </tr>\n",
       "    <tr>\n",
       "      <th>김정수</th>\n",
       "      <td>20</td>\n",
       "      <td>20</td>\n",
       "      <td>90</td>\n",
       "    </tr>\n",
       "    <tr>\n",
       "      <th>최호진</th>\n",
       "      <td>20</td>\n",
       "      <td>20</td>\n",
       "      <td>70</td>\n",
       "    </tr>\n",
       "  </tbody>\n",
       "</table>\n",
       "</div>"
      ],
      "text/plain": [
       "     kor  eng  math\n",
       "김지은   20   20    90\n",
       "황인범   20   20    60\n",
       "김정수   20   20    90\n",
       "최호진   20   20    70"
      ]
     },
     "metadata": {},
     "output_type": "display_data"
    }
   ],
   "source": [
    "# kor eng 성적을 싹다 변경\n",
    "df01[['kor','eng']] = [[20,20],[20,20],[20,20],[20,20]]\n",
    "display(df01)"
   ]
  },
  {
   "cell_type": "markdown",
   "id": "623a2560",
   "metadata": {},
   "source": [
    "#### append \n",
    "- df['col01'] => column 단위 인덱스\n",
    "- df.loc['row01'] => row 단위 인덱스"
   ]
  },
  {
   "cell_type": "code",
   "execution_count": 33,
   "id": "7072cb10",
   "metadata": {},
   "outputs": [
    {
     "data": {
      "text/html": [
       "<div>\n",
       "<style scoped>\n",
       "    .dataframe tbody tr th:only-of-type {\n",
       "        vertical-align: middle;\n",
       "    }\n",
       "\n",
       "    .dataframe tbody tr th {\n",
       "        vertical-align: top;\n",
       "    }\n",
       "\n",
       "    .dataframe thead th {\n",
       "        text-align: right;\n",
       "    }\n",
       "</style>\n",
       "<table border=\"1\" class=\"dataframe\">\n",
       "  <thead>\n",
       "    <tr style=\"text-align: right;\">\n",
       "      <th></th>\n",
       "      <th>kor</th>\n",
       "      <th>eng</th>\n",
       "      <th>math</th>\n",
       "    </tr>\n",
       "  </thead>\n",
       "  <tbody>\n",
       "    <tr>\n",
       "      <th>김지은</th>\n",
       "      <td>20</td>\n",
       "      <td>20</td>\n",
       "      <td>90</td>\n",
       "    </tr>\n",
       "    <tr>\n",
       "      <th>황인범</th>\n",
       "      <td>20</td>\n",
       "      <td>20</td>\n",
       "      <td>60</td>\n",
       "    </tr>\n",
       "    <tr>\n",
       "      <th>김정수</th>\n",
       "      <td>20</td>\n",
       "      <td>20</td>\n",
       "      <td>90</td>\n",
       "    </tr>\n",
       "    <tr>\n",
       "      <th>최호진</th>\n",
       "      <td>20</td>\n",
       "      <td>20</td>\n",
       "      <td>70</td>\n",
       "    </tr>\n",
       "    <tr>\n",
       "      <th>이강희</th>\n",
       "      <td>100</td>\n",
       "      <td>100</td>\n",
       "      <td>100</td>\n",
       "    </tr>\n",
       "  </tbody>\n",
       "</table>\n",
       "</div>"
      ],
      "text/plain": [
       "     kor  eng  math\n",
       "김지은   20   20    90\n",
       "황인범   20   20    60\n",
       "김정수   20   20    90\n",
       "최호진   20   20    70\n",
       "이강희  100  100   100"
      ]
     },
     "metadata": {},
     "output_type": "display_data"
    }
   ],
   "source": [
    "# 행 추가\n",
    "df01.loc['이강희'] = [100,100,100]\n",
    "display(df01)"
   ]
  },
  {
   "cell_type": "code",
   "execution_count": 34,
   "id": "d53b03af",
   "metadata": {},
   "outputs": [
    {
     "data": {
      "text/html": [
       "<div>\n",
       "<style scoped>\n",
       "    .dataframe tbody tr th:only-of-type {\n",
       "        vertical-align: middle;\n",
       "    }\n",
       "\n",
       "    .dataframe tbody tr th {\n",
       "        vertical-align: top;\n",
       "    }\n",
       "\n",
       "    .dataframe thead th {\n",
       "        text-align: right;\n",
       "    }\n",
       "</style>\n",
       "<table border=\"1\" class=\"dataframe\">\n",
       "  <thead>\n",
       "    <tr style=\"text-align: right;\">\n",
       "      <th></th>\n",
       "      <th>kor</th>\n",
       "      <th>eng</th>\n",
       "      <th>math</th>\n",
       "      <th>his</th>\n",
       "    </tr>\n",
       "  </thead>\n",
       "  <tbody>\n",
       "    <tr>\n",
       "      <th>김지은</th>\n",
       "      <td>20</td>\n",
       "      <td>20</td>\n",
       "      <td>90</td>\n",
       "      <td>50</td>\n",
       "    </tr>\n",
       "    <tr>\n",
       "      <th>황인범</th>\n",
       "      <td>20</td>\n",
       "      <td>20</td>\n",
       "      <td>60</td>\n",
       "      <td>50</td>\n",
       "    </tr>\n",
       "    <tr>\n",
       "      <th>김정수</th>\n",
       "      <td>20</td>\n",
       "      <td>20</td>\n",
       "      <td>90</td>\n",
       "      <td>50</td>\n",
       "    </tr>\n",
       "    <tr>\n",
       "      <th>최호진</th>\n",
       "      <td>20</td>\n",
       "      <td>20</td>\n",
       "      <td>70</td>\n",
       "      <td>50</td>\n",
       "    </tr>\n",
       "    <tr>\n",
       "      <th>이강희</th>\n",
       "      <td>100</td>\n",
       "      <td>100</td>\n",
       "      <td>100</td>\n",
       "      <td>50</td>\n",
       "    </tr>\n",
       "  </tbody>\n",
       "</table>\n",
       "</div>"
      ],
      "text/plain": [
       "     kor  eng  math  his\n",
       "김지은   20   20    90   50\n",
       "황인범   20   20    60   50\n",
       "김정수   20   20    90   50\n",
       "최호진   20   20    70   50\n",
       "이강희  100  100   100   50"
      ]
     },
     "metadata": {},
     "output_type": "display_data"
    }
   ],
   "source": [
    "# 열 추가\n",
    "df01['his'] = [50,50,50,50,50]\n",
    "display(df01)"
   ]
  },
  {
   "cell_type": "markdown",
   "id": "f80f1e03",
   "metadata": {},
   "source": [
    "#### delete\n",
    "- del 함수\n",
    "    - 열만 지울수 있다 inplace=True로 실행된다\n",
    "- DataFrame.drop(axis=,[labels],inplace=)\n",
    "    - labels에 명시적 라벨을 사용한다 \n",
    "    - axis=0 일때 행방향으로 라벨 찾아 행 지운다\n",
    "    - axis=1 일때 열방향으로 라벨 찾아 열 지운다    "
   ]
  },
  {
   "cell_type": "code",
   "execution_count": 36,
   "id": "dfc7f456",
   "metadata": {},
   "outputs": [
    {
     "data": {
      "text/html": [
       "<div>\n",
       "<style scoped>\n",
       "    .dataframe tbody tr th:only-of-type {\n",
       "        vertical-align: middle;\n",
       "    }\n",
       "\n",
       "    .dataframe tbody tr th {\n",
       "        vertical-align: top;\n",
       "    }\n",
       "\n",
       "    .dataframe thead th {\n",
       "        text-align: right;\n",
       "    }\n",
       "</style>\n",
       "<table border=\"1\" class=\"dataframe\">\n",
       "  <thead>\n",
       "    <tr style=\"text-align: right;\">\n",
       "      <th></th>\n",
       "      <th>kor</th>\n",
       "      <th>eng</th>\n",
       "      <th>math</th>\n",
       "      <th>his</th>\n",
       "    </tr>\n",
       "  </thead>\n",
       "  <tbody>\n",
       "    <tr>\n",
       "      <th>김지은</th>\n",
       "      <td>20</td>\n",
       "      <td>20</td>\n",
       "      <td>90</td>\n",
       "      <td>50</td>\n",
       "    </tr>\n",
       "    <tr>\n",
       "      <th>황인범</th>\n",
       "      <td>20</td>\n",
       "      <td>20</td>\n",
       "      <td>60</td>\n",
       "      <td>50</td>\n",
       "    </tr>\n",
       "    <tr>\n",
       "      <th>김정수</th>\n",
       "      <td>20</td>\n",
       "      <td>20</td>\n",
       "      <td>90</td>\n",
       "      <td>50</td>\n",
       "    </tr>\n",
       "    <tr>\n",
       "      <th>최호진</th>\n",
       "      <td>20</td>\n",
       "      <td>20</td>\n",
       "      <td>70</td>\n",
       "      <td>50</td>\n",
       "    </tr>\n",
       "    <tr>\n",
       "      <th>이강희</th>\n",
       "      <td>100</td>\n",
       "      <td>100</td>\n",
       "      <td>100</td>\n",
       "      <td>50</td>\n",
       "    </tr>\n",
       "  </tbody>\n",
       "</table>\n",
       "</div>"
      ],
      "text/plain": [
       "     kor  eng  math  his\n",
       "김지은   20   20    90   50\n",
       "황인범   20   20    60   50\n",
       "김정수   20   20    90   50\n",
       "최호진   20   20    70   50\n",
       "이강희  100  100   100   50"
      ]
     },
     "metadata": {},
     "output_type": "display_data"
    }
   ],
   "source": [
    "display(df01)"
   ]
  },
  {
   "cell_type": "code",
   "execution_count": 38,
   "id": "7cfec3e7",
   "metadata": {},
   "outputs": [
    {
     "data": {
      "text/html": [
       "<div>\n",
       "<style scoped>\n",
       "    .dataframe tbody tr th:only-of-type {\n",
       "        vertical-align: middle;\n",
       "    }\n",
       "\n",
       "    .dataframe tbody tr th {\n",
       "        vertical-align: top;\n",
       "    }\n",
       "\n",
       "    .dataframe thead th {\n",
       "        text-align: right;\n",
       "    }\n",
       "</style>\n",
       "<table border=\"1\" class=\"dataframe\">\n",
       "  <thead>\n",
       "    <tr style=\"text-align: right;\">\n",
       "      <th></th>\n",
       "      <th>kor</th>\n",
       "      <th>eng</th>\n",
       "      <th>math</th>\n",
       "    </tr>\n",
       "  </thead>\n",
       "  <tbody>\n",
       "    <tr>\n",
       "      <th>김지은</th>\n",
       "      <td>20</td>\n",
       "      <td>20</td>\n",
       "      <td>90</td>\n",
       "    </tr>\n",
       "    <tr>\n",
       "      <th>황인범</th>\n",
       "      <td>20</td>\n",
       "      <td>20</td>\n",
       "      <td>60</td>\n",
       "    </tr>\n",
       "    <tr>\n",
       "      <th>김정수</th>\n",
       "      <td>20</td>\n",
       "      <td>20</td>\n",
       "      <td>90</td>\n",
       "    </tr>\n",
       "    <tr>\n",
       "      <th>최호진</th>\n",
       "      <td>20</td>\n",
       "      <td>20</td>\n",
       "      <td>70</td>\n",
       "    </tr>\n",
       "    <tr>\n",
       "      <th>이강희</th>\n",
       "      <td>100</td>\n",
       "      <td>100</td>\n",
       "      <td>100</td>\n",
       "    </tr>\n",
       "  </tbody>\n",
       "</table>\n",
       "</div>"
      ],
      "text/plain": [
       "     kor  eng  math\n",
       "김지은   20   20    90\n",
       "황인범   20   20    60\n",
       "김정수   20   20    90\n",
       "최호진   20   20    70\n",
       "이강희  100  100   100"
      ]
     },
     "metadata": {},
     "output_type": "display_data"
    }
   ],
   "source": [
    "# 열지우기\n",
    "del df01['his']\n",
    "display(df01)"
   ]
  },
  {
   "cell_type": "code",
   "execution_count": 40,
   "id": "d3abfe24",
   "metadata": {},
   "outputs": [
    {
     "data": {
      "text/html": [
       "<div>\n",
       "<style scoped>\n",
       "    .dataframe tbody tr th:only-of-type {\n",
       "        vertical-align: middle;\n",
       "    }\n",
       "\n",
       "    .dataframe tbody tr th {\n",
       "        vertical-align: top;\n",
       "    }\n",
       "\n",
       "    .dataframe thead th {\n",
       "        text-align: right;\n",
       "    }\n",
       "</style>\n",
       "<table border=\"1\" class=\"dataframe\">\n",
       "  <thead>\n",
       "    <tr style=\"text-align: right;\">\n",
       "      <th></th>\n",
       "      <th>kor</th>\n",
       "      <th>eng</th>\n",
       "      <th>math</th>\n",
       "    </tr>\n",
       "  </thead>\n",
       "  <tbody>\n",
       "    <tr>\n",
       "      <th>김지은</th>\n",
       "      <td>20</td>\n",
       "      <td>20</td>\n",
       "      <td>90</td>\n",
       "    </tr>\n",
       "    <tr>\n",
       "      <th>황인범</th>\n",
       "      <td>20</td>\n",
       "      <td>20</td>\n",
       "      <td>60</td>\n",
       "    </tr>\n",
       "    <tr>\n",
       "      <th>김정수</th>\n",
       "      <td>20</td>\n",
       "      <td>20</td>\n",
       "      <td>90</td>\n",
       "    </tr>\n",
       "    <tr>\n",
       "      <th>최호진</th>\n",
       "      <td>20</td>\n",
       "      <td>20</td>\n",
       "      <td>70</td>\n",
       "    </tr>\n",
       "  </tbody>\n",
       "</table>\n",
       "</div>"
      ],
      "text/plain": [
       "     kor  eng  math\n",
       "김지은   20   20    90\n",
       "황인범   20   20    60\n",
       "김정수   20   20    90\n",
       "최호진   20   20    70"
      ]
     },
     "metadata": {},
     "output_type": "display_data"
    }
   ],
   "source": [
    "# 행 지우기\n",
    "df01.drop('이강희',axis=0,inplace=True)\n",
    "display(df01)"
   ]
  },
  {
   "cell_type": "code",
   "execution_count": 41,
   "id": "c423bfcc",
   "metadata": {},
   "outputs": [
    {
     "data": {
      "text/html": [
       "<div>\n",
       "<style scoped>\n",
       "    .dataframe tbody tr th:only-of-type {\n",
       "        vertical-align: middle;\n",
       "    }\n",
       "\n",
       "    .dataframe tbody tr th {\n",
       "        vertical-align: top;\n",
       "    }\n",
       "\n",
       "    .dataframe thead th {\n",
       "        text-align: right;\n",
       "    }\n",
       "</style>\n",
       "<table border=\"1\" class=\"dataframe\">\n",
       "  <thead>\n",
       "    <tr style=\"text-align: right;\">\n",
       "      <th></th>\n",
       "      <th>kor</th>\n",
       "      <th>eng</th>\n",
       "    </tr>\n",
       "  </thead>\n",
       "  <tbody>\n",
       "    <tr>\n",
       "      <th>김지은</th>\n",
       "      <td>20</td>\n",
       "      <td>20</td>\n",
       "    </tr>\n",
       "    <tr>\n",
       "      <th>황인범</th>\n",
       "      <td>20</td>\n",
       "      <td>20</td>\n",
       "    </tr>\n",
       "    <tr>\n",
       "      <th>김정수</th>\n",
       "      <td>20</td>\n",
       "      <td>20</td>\n",
       "    </tr>\n",
       "    <tr>\n",
       "      <th>최호진</th>\n",
       "      <td>20</td>\n",
       "      <td>20</td>\n",
       "    </tr>\n",
       "  </tbody>\n",
       "</table>\n",
       "</div>"
      ],
      "text/plain": [
       "     kor  eng\n",
       "김지은   20   20\n",
       "황인범   20   20\n",
       "김정수   20   20\n",
       "최호진   20   20"
      ]
     },
     "metadata": {},
     "output_type": "display_data"
    }
   ],
   "source": [
    "# 열 지우기\n",
    "df01.drop('math',axis=1,inplace=True)\n",
    "display(df01)"
   ]
  },
  {
   "cell_type": "code",
   "execution_count": 42,
   "id": "71da7387",
   "metadata": {},
   "outputs": [
    {
     "data": {
      "text/html": [
       "<div>\n",
       "<style scoped>\n",
       "    .dataframe tbody tr th:only-of-type {\n",
       "        vertical-align: middle;\n",
       "    }\n",
       "\n",
       "    .dataframe tbody tr th {\n",
       "        vertical-align: top;\n",
       "    }\n",
       "\n",
       "    .dataframe thead th {\n",
       "        text-align: right;\n",
       "    }\n",
       "</style>\n",
       "<table border=\"1\" class=\"dataframe\">\n",
       "  <thead>\n",
       "    <tr style=\"text-align: right;\">\n",
       "      <th></th>\n",
       "      <th>kor</th>\n",
       "      <th>eng</th>\n",
       "    </tr>\n",
       "  </thead>\n",
       "  <tbody>\n",
       "    <tr>\n",
       "      <th>김정수</th>\n",
       "      <td>20</td>\n",
       "      <td>20</td>\n",
       "    </tr>\n",
       "    <tr>\n",
       "      <th>최호진</th>\n",
       "      <td>20</td>\n",
       "      <td>20</td>\n",
       "    </tr>\n",
       "  </tbody>\n",
       "</table>\n",
       "</div>"
      ],
      "text/plain": [
       "     kor  eng\n",
       "김정수   20   20\n",
       "최호진   20   20"
      ]
     },
     "metadata": {},
     "output_type": "display_data"
    }
   ],
   "source": [
    "# 여러개 동시에 지우기\n",
    "df01.drop(['김지은','황인범'],axis=0,inplace=True)\n",
    "display(df01)"
   ]
  },
  {
   "cell_type": "markdown",
   "id": "92912d7b",
   "metadata": {},
   "source": [
    "### Index는 보존된다\n",
    "- 주로 datafarme의 열로 series 추가할때 이용된다"
   ]
  },
  {
   "cell_type": "code",
   "execution_count": 70,
   "id": "32751019",
   "metadata": {},
   "outputs": [
    {
     "data": {
      "text/html": [
       "<div>\n",
       "<style scoped>\n",
       "    .dataframe tbody tr th:only-of-type {\n",
       "        vertical-align: middle;\n",
       "    }\n",
       "\n",
       "    .dataframe tbody tr th {\n",
       "        vertical-align: top;\n",
       "    }\n",
       "\n",
       "    .dataframe thead th {\n",
       "        text-align: right;\n",
       "    }\n",
       "</style>\n",
       "<table border=\"1\" class=\"dataframe\">\n",
       "  <thead>\n",
       "    <tr style=\"text-align: right;\">\n",
       "      <th></th>\n",
       "      <th>kor</th>\n",
       "      <th>eng</th>\n",
       "      <th>math</th>\n",
       "    </tr>\n",
       "  </thead>\n",
       "  <tbody>\n",
       "    <tr>\n",
       "      <th>김지은</th>\n",
       "      <td>80</td>\n",
       "      <td>90</td>\n",
       "      <td>90</td>\n",
       "    </tr>\n",
       "    <tr>\n",
       "      <th>황인범</th>\n",
       "      <td>90</td>\n",
       "      <td>70</td>\n",
       "      <td>60</td>\n",
       "    </tr>\n",
       "    <tr>\n",
       "      <th>김정수</th>\n",
       "      <td>70</td>\n",
       "      <td>60</td>\n",
       "      <td>90</td>\n",
       "    </tr>\n",
       "    <tr>\n",
       "      <th>최호진</th>\n",
       "      <td>30</td>\n",
       "      <td>40</td>\n",
       "      <td>70</td>\n",
       "    </tr>\n",
       "  </tbody>\n",
       "</table>\n",
       "</div>"
      ],
      "text/plain": [
       "     kor  eng  math\n",
       "김지은   80   90    90\n",
       "황인범   90   70    60\n",
       "김정수   70   60    90\n",
       "최호진   30   40    70"
      ]
     },
     "metadata": {},
     "output_type": "display_data"
    }
   ],
   "source": [
    "score_data = {\n",
    "    'kor'  : [80,90,70,30],\n",
    "    'eng'  : [90,70,60,40],\n",
    "    'math' : [90,60,90,70] \n",
    "}\n",
    "\n",
    "index   = ['김지은', '황인범', '김정수', '최호진']\n",
    "df01 = pd.DataFrame(score_data,index=index)\n",
    "display(df01)"
   ]
  },
  {
   "cell_type": "code",
   "execution_count": 71,
   "id": "43fd10a6",
   "metadata": {},
   "outputs": [
    {
     "data": {
      "text/html": [
       "<div>\n",
       "<style scoped>\n",
       "    .dataframe tbody tr th:only-of-type {\n",
       "        vertical-align: middle;\n",
       "    }\n",
       "\n",
       "    .dataframe tbody tr th {\n",
       "        vertical-align: top;\n",
       "    }\n",
       "\n",
       "    .dataframe thead th {\n",
       "        text-align: right;\n",
       "    }\n",
       "</style>\n",
       "<table border=\"1\" class=\"dataframe\">\n",
       "  <thead>\n",
       "    <tr style=\"text-align: right;\">\n",
       "      <th></th>\n",
       "      <th>kor</th>\n",
       "      <th>eng</th>\n",
       "      <th>math</th>\n",
       "    </tr>\n",
       "  </thead>\n",
       "  <tbody>\n",
       "    <tr>\n",
       "      <th>김지은</th>\n",
       "      <td>80</td>\n",
       "      <td>90</td>\n",
       "      <td>100</td>\n",
       "    </tr>\n",
       "    <tr>\n",
       "      <th>황인범</th>\n",
       "      <td>90</td>\n",
       "      <td>70</td>\n",
       "      <td>60</td>\n",
       "    </tr>\n",
       "    <tr>\n",
       "      <th>김정수</th>\n",
       "      <td>70</td>\n",
       "      <td>60</td>\n",
       "      <td>90</td>\n",
       "    </tr>\n",
       "    <tr>\n",
       "      <th>최호진</th>\n",
       "      <td>30</td>\n",
       "      <td>40</td>\n",
       "      <td>70</td>\n",
       "    </tr>\n",
       "  </tbody>\n",
       "</table>\n",
       "</div>"
      ],
      "text/plain": [
       "     kor  eng  math\n",
       "김지은   80   90   100\n",
       "황인범   90   70    60\n",
       "김정수   70   60    90\n",
       "최호진   30   40    70"
      ]
     },
     "metadata": {},
     "output_type": "display_data"
    }
   ],
   "source": [
    "# index에 맞춰서 값이 들어간다\n",
    "df01.loc['김지은'] = pd.Series([100,90,80],index = ['math','eng','kor'])\n",
    "display(df01)"
   ]
  },
  {
   "cell_type": "code",
   "execution_count": 72,
   "id": "e1f51e36",
   "metadata": {},
   "outputs": [
    {
     "data": {
      "text/html": [
       "<div>\n",
       "<style scoped>\n",
       "    .dataframe tbody tr th:only-of-type {\n",
       "        vertical-align: middle;\n",
       "    }\n",
       "\n",
       "    .dataframe tbody tr th {\n",
       "        vertical-align: top;\n",
       "    }\n",
       "\n",
       "    .dataframe thead th {\n",
       "        text-align: right;\n",
       "    }\n",
       "</style>\n",
       "<table border=\"1\" class=\"dataframe\">\n",
       "  <thead>\n",
       "    <tr style=\"text-align: right;\">\n",
       "      <th></th>\n",
       "      <th>kor</th>\n",
       "      <th>eng</th>\n",
       "      <th>math</th>\n",
       "      <th>his</th>\n",
       "    </tr>\n",
       "  </thead>\n",
       "  <tbody>\n",
       "    <tr>\n",
       "      <th>김지은</th>\n",
       "      <td>80</td>\n",
       "      <td>90</td>\n",
       "      <td>100</td>\n",
       "      <td>80</td>\n",
       "    </tr>\n",
       "    <tr>\n",
       "      <th>황인범</th>\n",
       "      <td>90</td>\n",
       "      <td>70</td>\n",
       "      <td>60</td>\n",
       "      <td>90</td>\n",
       "    </tr>\n",
       "    <tr>\n",
       "      <th>김정수</th>\n",
       "      <td>70</td>\n",
       "      <td>60</td>\n",
       "      <td>90</td>\n",
       "      <td>70</td>\n",
       "    </tr>\n",
       "    <tr>\n",
       "      <th>최호진</th>\n",
       "      <td>30</td>\n",
       "      <td>40</td>\n",
       "      <td>70</td>\n",
       "      <td>100</td>\n",
       "    </tr>\n",
       "  </tbody>\n",
       "</table>\n",
       "</div>"
      ],
      "text/plain": [
       "     kor  eng  math  his\n",
       "김지은   80   90   100   80\n",
       "황인범   90   70    60   90\n",
       "김정수   70   60    90   70\n",
       "최호진   30   40    70  100"
      ]
     },
     "metadata": {},
     "output_type": "display_data"
    }
   ],
   "source": [
    "# index에 맞춰서 값이 들어간다\n",
    "df01['his'] = pd.Series([100,90,80,70],index = ['최호진','황인범','김지은','김정수'])\n",
    "display(df01)\n"
   ]
  },
  {
   "cell_type": "code",
   "execution_count": 73,
   "id": "e057de0a",
   "metadata": {},
   "outputs": [
    {
     "data": {
      "text/plain": [
       "김지은     80\n",
       "황인범     90\n",
       "김정수     70\n",
       "최호진    100\n",
       "Name: his, dtype: int64"
      ]
     },
     "execution_count": 73,
     "metadata": {},
     "output_type": "execute_result"
    }
   ],
   "source": [
    "# 인덱스의 개념이 여기서 좀 헷갈릴수 있는데 들어가는 위치를 잘 생각해보면 되낟\n",
    "df01['his']\n",
    "\n",
    "# 결과를 보면 index의 사람 이름이 있다 => 즉 index를 사람 이름으로 한 Series가 들어오면 알아서 맞게 들어간다"
   ]
  }
 ],
 "metadata": {
  "kernelspec": {
   "display_name": "Python 3 (ipykernel)",
   "language": "python",
   "name": "python3"
  },
  "language_info": {
   "codemirror_mode": {
    "name": "ipython",
    "version": 3
   },
   "file_extension": ".py",
   "mimetype": "text/x-python",
   "name": "python",
   "nbconvert_exporter": "python",
   "pygments_lexer": "ipython3",
   "version": "3.8.11"
  }
 },
 "nbformat": 4,
 "nbformat_minor": 5
}
