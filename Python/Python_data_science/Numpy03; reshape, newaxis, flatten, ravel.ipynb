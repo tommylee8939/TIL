{
 "cells": [
  {
   "cell_type": "markdown",
   "metadata": {},
   "source": [
    "## Numpy03; reshape,flatten,ravel"
   ]
  },
  {
   "cell_type": "code",
   "execution_count": 4,
   "metadata": {},
   "outputs": [],
   "source": [
    "import numpy as np"
   ]
  },
  {
   "cell_type": "markdown",
   "metadata": {},
   "source": [
    "### reshape(), np.reshape()\n",
    "- 제 1장에서 본적이있다. => 차원의 형태를 원하는 형식으로 지정해준다\n",
    "- 단 배수가 맞지 않으면 에러난다\n",
    "- R처럼 나머지 차원들은 알아서 유추 가능하다 => -1 을 인자로 넣어주자\n",
    "- ndarray.shape 혹은 ndarray.dim 속성을 활용해 확인 가능하다"
   ]
  },
  {
   "cell_type": "code",
   "execution_count": 3,
   "metadata": {},
   "outputs": [
    {
     "name": "stdout",
     "output_type": "stream",
     "text": [
      "[[ 0  1  2  3  4]\n",
      " [ 5  6  7  8  9]\n",
      " [10 11 12 13 14]]\n"
     ]
    }
   ],
   "source": [
    "ndarray01 = np.arange(15)\n",
    "print(ndarray01.reshape(3,5))"
   ]
  },
  {
   "cell_type": "code",
   "execution_count": 21,
   "metadata": {},
   "outputs": [
    {
     "data": {
      "text/plain": [
       "array([[ 0,  1,  2,  3,  4],\n",
       "       [ 5,  6,  7,  8,  9],\n",
       "       [10, 11, 12, 13, 14]])"
      ]
     },
     "execution_count": 21,
     "metadata": {},
     "output_type": "execute_result"
    }
   ],
   "source": [
    "ndarray01.reshape(3,5,order='F')\n",
    "np.reshape(ndarray01,(3,5),order='F')"
   ]
  },
  {
   "cell_type": "code",
   "execution_count": 27,
   "metadata": {
    "scrolled": true
   },
   "outputs": [
    {
     "name": "stdout",
     "output_type": "stream",
     "text": [
      "[[ 0  1  2  3  4]\n",
      " [ 5  6  7  8  9]\n",
      " [10 11 12 13 14]]\n",
      "--------------------\n",
      "[[ 0  1  2]\n",
      " [ 3  4  5]\n",
      " [ 6  7  8]\n",
      " [ 9 10 11]\n",
      " [12 13 14]]\n"
     ]
    }
   ],
   "source": [
    "ndarray01 = np.arange(15).reshape(3,5)\n",
    "print(ndarray01)\n",
    "print('-'*20)\n",
    "print(ndarray01.reshape(5,-1))"
   ]
  },
  {
   "cell_type": "markdown",
   "metadata": {},
   "source": [
    "#### ⭐️어떤 순서로 reshape이 일어나는지 궁금하다\n",
    "- 우선 1차원 데이터 형태로 자료들이 펼쳐진다\n",
    "- option을 통해 우선순위 설정 가능\n",
    "    1. order = 'C' (default) : row 우선 변경\n",
    "    2. order = 'F' : column 우선 변경"
   ]
  },
  {
   "cell_type": "code",
   "execution_count": 33,
   "metadata": {},
   "outputs": [
    {
     "name": "stdout",
     "output_type": "stream",
     "text": [
      "[[ 0  1  2  3  4]\n",
      " [ 5  6  7  8  9]\n",
      " [10 11 12 13 14]]\n",
      "[[ 0  1  2  3  4]\n",
      " [ 5  6  7  8  9]\n",
      " [10 11 12 13 14]]\n"
     ]
    }
   ],
   "source": [
    "ndarray01 = np.arange(15)\n",
    "print(ndarray01.reshape(3,5))\n",
    "ndarray01 = np.arange(15)\n",
    "print(ndarray01.reshape(3,5,order='C'))"
   ]
  },
  {
   "cell_type": "code",
   "execution_count": 34,
   "metadata": {},
   "outputs": [
    {
     "name": "stdout",
     "output_type": "stream",
     "text": [
      "[[ 0  3  6  9 12]\n",
      " [ 1  4  7 10 13]\n",
      " [ 2  5  8 11 14]]\n"
     ]
    }
   ],
   "source": [
    "ndarray01 = np.arange(15)\n",
    "print(ndarray01.reshape(3,5,order='F'))"
   ]
  },
  {
   "cell_type": "markdown",
   "metadata": {},
   "source": [
    "### newaxis\n",
    "- 1D 의 ndarray를 row_vector col_vector로 사용하기 싶을때 자주 사용된다\n",
    "\n",
    "- newaxis를 shape(,,,) 안에서 추가하고싶은 차원에 쓰자 => 그럼 차원이 추간된다"
   ]
  },
  {
   "cell_type": "code",
   "execution_count": 23,
   "metadata": {},
   "outputs": [
    {
     "name": "stdout",
     "output_type": "stream",
     "text": [
      "[[1 2 3]]\n",
      "[[1]\n",
      " [2]\n",
      " [3]]\n"
     ]
    }
   ],
   "source": [
    "x = np.array([1,2,3])\n",
    "# (,3) => (1,3)\n",
    "print(x[np.newaxis,:])\n",
    "\n",
    "# (,3) => (3,1)\n",
    "print(x[:,np.newaxis])"
   ]
  },
  {
   "cell_type": "code",
   "execution_count": 24,
   "metadata": {},
   "outputs": [
    {
     "name": "stdout",
     "output_type": "stream",
     "text": [
      "[[[1 2 3]\n",
      "  [4 5 6]]]\n",
      "[[[1 2 3]]\n",
      "\n",
      " [[4 5 6]]]\n",
      "[[[1]\n",
      "  [2]\n",
      "  [3]]\n",
      "\n",
      " [[4]\n",
      "  [5]\n",
      "  [6]]]\n"
     ]
    }
   ],
   "source": [
    "x = np.array([[1,2,3],[4,5,6]])\n",
    "\n",
    "# (2,3) => (1,2,3)\n",
    "print(x[np.newaxis,:]) \n",
    "\n",
    "# (2,3) => (2,1,3)\n",
    "print(x[:,np.newaxis])\n",
    "\n",
    "# (2,3) => (2,3,1)\n",
    "print(x[:,:,np.newaxis])"
   ]
  },
  {
   "cell_type": "markdown",
   "metadata": {},
   "source": [
    "### ravel(), np.ravel()\n",
    "- 다차원의 데이터를 1차원으로 변경\n",
    "- order option 가능\n",
    "    1. order = 'C' (default) : row 우선 변경\n",
    "    2. order = 'F' : column 우선 변경"
   ]
  },
  {
   "cell_type": "code",
   "execution_count": 39,
   "metadata": {},
   "outputs": [
    {
     "name": "stdout",
     "output_type": "stream",
     "text": [
      "[[ 0  1  2  3  4]\n",
      " [ 5  6  7  8  9]\n",
      " [10 11 12 13 14]]\n",
      "\n",
      "[ 0  1  2  3  4  5  6  7  8  9 10 11 12 13 14]\n"
     ]
    }
   ],
   "source": [
    "ndarray01 = np.arange(15).reshape(3,5)\n",
    "print(ndarray01)\n",
    "print()\n",
    "print(ndarray01.ravel())  # default: order = 'C'"
   ]
  },
  {
   "cell_type": "code",
   "execution_count": 40,
   "metadata": {},
   "outputs": [
    {
     "name": "stdout",
     "output_type": "stream",
     "text": [
      "[[ 0  1  2  3  4]\n",
      " [ 5  6  7  8  9]\n",
      " [10 11 12 13 14]]\n",
      "\n",
      "[ 0  5 10  1  6 11  2  7 12  3  8 13  4  9 14]\n"
     ]
    }
   ],
   "source": [
    "ndarray01 = np.arange(15).reshape(3,5)\n",
    "print(ndarray01)\n",
    "print()\n",
    "print(ndarray01.ravel(order='F'))"
   ]
  },
  {
   "cell_type": "markdown",
   "metadata": {},
   "source": [
    "### flatten()\n",
    "- 다차원의 데이터를 1차원으로 변경\n",
    "- order option 가능\n",
    "    1. order = 'C' (default) : row 우선 변경\n",
    "    2. order = 'F' : column 우선 변경"
   ]
  },
  {
   "cell_type": "code",
   "execution_count": 43,
   "metadata": {},
   "outputs": [
    {
     "name": "stdout",
     "output_type": "stream",
     "text": [
      "[[ 0  1  2  3  4]\n",
      " [ 5  6  7  8  9]\n",
      " [10 11 12 13 14]]\n",
      "\n",
      "[ 0  1  2  3  4  5  6  7  8  9 10 11 12 13 14]\n"
     ]
    }
   ],
   "source": [
    "ndarray01 = np.arange(15).reshape(3,5)\n",
    "print(ndarray01)\n",
    "print()\n",
    "print(ndarray01.flatten()) # defualt: order='C'\n"
   ]
  },
  {
   "cell_type": "code",
   "execution_count": 42,
   "metadata": {},
   "outputs": [
    {
     "name": "stdout",
     "output_type": "stream",
     "text": [
      "[[ 0  1  2  3  4]\n",
      " [ 5  6  7  8  9]\n",
      " [10 11 12 13 14]]\n",
      "\n",
      "[ 0  5 10  1  6 11  2  7 12  3  8 13  4  9 14]\n"
     ]
    }
   ],
   "source": [
    "ndarray01 = np.arange(15).reshape(3,5)\n",
    "print(ndarray01)\n",
    "print()\n",
    "print(ndarray01.flatten(order='F'))"
   ]
  },
  {
   "cell_type": "markdown",
   "metadata": {},
   "source": [
    "### ⭐️ravel vs flatten\n",
    "- ravel 은 view의 개념이다 => 원본 데이터 영향 o\n",
    "- flatten 은 copy다 => 원본 데이터 영향 x"
   ]
  },
  {
   "cell_type": "code",
   "execution_count": 47,
   "metadata": {},
   "outputs": [
    {
     "name": "stdout",
     "output_type": "stream",
     "text": [
      "[1000    1    2    3    4    5    6    7    8    9   10   11   12   13\n",
      "   14]\n",
      "[[1000    1    2    3    4]\n",
      " [   5    6    7    8    9]\n",
      " [  10   11   12   13   14]]\n"
     ]
    }
   ],
   "source": [
    "ndarray01 = np.arange(15).reshape(3,5)\n",
    "temp = ndarray01.ravel()\n",
    "temp[0]=1000\n",
    "print(temp)\n",
    "print(ndarray01)"
   ]
  },
  {
   "cell_type": "code",
   "execution_count": 3,
   "metadata": {},
   "outputs": [
    {
     "name": "stdout",
     "output_type": "stream",
     "text": [
      "[1000    1    2    3    4    5    6    7    8    9   10   11   12   13\n",
      "   14]\n",
      "[[ 0  1  2  3  4]\n",
      " [ 5  6  7  8  9]\n",
      " [10 11 12 13 14]]\n"
     ]
    }
   ],
   "source": [
    "ndarray01 = np.arange(15).reshape(3,5)\n",
    "temp = ndarray01.flatten()\n",
    "temp[0]=1000\n",
    "print(temp)\n",
    "print(ndarray01)"
   ]
  }
 ],
 "metadata": {
  "kernelspec": {
   "display_name": "Python 3",
   "language": "python",
   "name": "python3"
  },
  "language_info": {
   "codemirror_mode": {
    "name": "ipython",
    "version": 3
   },
   "file_extension": ".py",
   "mimetype": "text/x-python",
   "name": "python",
   "nbconvert_exporter": "python",
   "pygments_lexer": "ipython3",
   "version": "3.8.5"
  }
 },
 "nbformat": 4,
 "nbformat_minor": 4
}
