{
 "cells": [
  {
   "cell_type": "code",
   "execution_count": 3,
   "metadata": {},
   "outputs": [],
   "source": [
    "import pandas as pd\n",
    "import numpy as np"
   ]
  },
  {
   "cell_type": "markdown",
   "metadata": {},
   "source": [
    "### Data.Frmae\n",
    "- Series가 명시적 인덱슬를 가질수 있는 1차원 배열이었다면 Data.Frame은 2차원 배열을 의미한다\n",
    "- Data.Frame은 행 인덱스(index)와 열 인덱스(columns)가 모두 존재한다"
   ]
  },
  {
   "cell_type": "code",
   "execution_count": 70,
   "metadata": {},
   "outputs": [
    {
     "ename": "NameError",
     "evalue": "name 'asdf' is not defined",
     "output_type": "error",
     "traceback": [
      "\u001b[0;31m---------------------------------------------------------------------------\u001b[0m",
      "\u001b[0;31mNameError\u001b[0m                                 Traceback (most recent call last)",
      "\u001b[0;32m<ipython-input-70-7d97e98f8af7>\u001b[0m in \u001b[0;36m<module>\u001b[0;34m\u001b[0m\n\u001b[0;32m----> 1\u001b[0;31m \u001b[0masdf\u001b[0m\u001b[0;34m\u001b[0m\u001b[0;34m\u001b[0m\u001b[0m\n\u001b[0m",
      "\u001b[0;31mNameError\u001b[0m: name 'asdf' is not defined"
     ]
    }
   ],
   "source": [
    "asdf"
   ]
  },
  {
   "cell_type": "code",
   "execution_count": 48,
   "metadata": {},
   "outputs": [
    {
     "name": "stdout",
     "output_type": "stream",
     "text": [
      "   0\n",
      "a  1\n",
      "b  2\n",
      "c  3\n",
      "d  4\n"
     ]
    }
   ],
   "source": [
    "# 간단한 예시\n",
    "df01 = pd.DataFrame([1,2,3,4],index = ['a','b','c','d'])\n",
    "print(df01)"
   ]
  },
  {
   "cell_type": "code",
   "execution_count": 53,
   "metadata": {},
   "outputs": [
    {
     "name": "stdout",
     "output_type": "stream",
     "text": [
      "   first\n",
      "a      1\n",
      "b      2\n",
      "c      3\n",
      "d      4\n",
      "Index(['a', 'b', 'c', 'd'], dtype='object')\n",
      "Index(['first'], dtype='object')\n"
     ]
    }
   ],
   "source": [
    "# 행과 열 인덱스 모두 존재\n",
    "df01 = pd.DataFrame([1,2,3,4],index = ['a','b','c','d'],columns=['first'])\n",
    "print(df01)\n",
    "print(df01.index)\n",
    "print(df01.columns)  # index와 columns둘다 index객체이다"
   ]
  },
  {
   "cell_type": "markdown",
   "metadata": {},
   "source": [
    "#### ⭐️index 객체?\n",
    "- index객체는 불변의 배열(ndarray)이다\n",
    "- 정렬된 집합이다"
   ]
  },
  {
   "cell_type": "code",
   "execution_count": 56,
   "metadata": {},
   "outputs": [
    {
     "name": "stdout",
     "output_type": "stream",
     "text": [
      "<class 'pandas.core.indexes.base.Index'>\n"
     ]
    }
   ],
   "source": [
    "df01 = pd.DataFrame([1,2,3,4],index = ['a','b','c','d'],columns=['first'])\n",
    "idx = df01.index\n",
    "print(type(idx))"
   ]
  },
  {
   "cell_type": "code",
   "execution_count": 60,
   "metadata": {},
   "outputs": [
    {
     "name": "stdout",
     "output_type": "stream",
     "text": [
      "object\n",
      "(4,)\n",
      "4\n",
      "1\n"
     ]
    }
   ],
   "source": [
    "# 어느정도 ndarray 속성을 갖고 있지만 수정할수 없다\n",
    "df01 = pd.DataFrame([1,2,3,4],index = ['a','b','c','d'],columns=['first'])\n",
    "idx = df01.index\n",
    "print(idx.dtype)\n",
    "print(idx.shape)\n",
    "print(idx.size)\n",
    "print(idx.ndim)"
   ]
  },
  {
   "cell_type": "code",
   "execution_count": 63,
   "metadata": {
    "scrolled": true
   },
   "outputs": [
    {
     "name": "stdout",
     "output_type": "stream",
     "text": [
      "Index(['a', 'b', 'c', 'c'], dtype='object')\n"
     ]
    }
   ],
   "source": [
    "# 기술적으로는 index는 중복된 값이 들어갈 수는 있다\n",
    "# 근데 누가 index를 중복된 값을 쓰겠는가\n",
    "df01 = pd.DataFrame([1,2,3,4],index = ['a','b','c','c'])\n",
    "print(df01.index)"
   ]
  },
  {
   "cell_type": "code",
   "execution_count": 69,
   "metadata": {},
   "outputs": [
    {
     "name": "stdout",
     "output_type": "stream",
     "text": [
      "Index(['b', 'c', 'd'], dtype='object')\n",
      "Index(['a', 'b', 'c', 'd', 'e'], dtype='object')\n",
      "Index(['a', 'e'], dtype='object')\n"
     ]
    }
   ],
   "source": [
    "# 중복된 값이 안들어왔다는 사실을 가정하고 집합의 특징을 갖느다\n",
    "df01 = pd.DataFrame([1,2,3,4],index = ['a','b','c','d'])\n",
    "df02 = pd.DataFrame([1,2,3,4],index = ['b','c','d','e'])\n",
    "idx01 = df01.index\n",
    "idx02 = df02.index\n",
    "print(idx01&idx02) # 교\n",
    "print(idx01|idx02) # 합\n",
    "print(idx01^idx02) # 대칭 차집합"
   ]
  },
  {
   "cell_type": "markdown",
   "metadata": {},
   "source": [
    "### Data Frame creation \n",
    "- Series\n",
    "- dict : dict의 key=> column 이름이 된다\n",
    "    - {'key':scalar,'key2':scalar,,,}\n",
    "    - {'key':[,,,],'key2':[,,,],,,}\n",
    "    - {'key':ndarray,'key2':ndarray2,,,}\n",
    "    - {'key':Series,'key2':Series02,,,}\n",
    "- list of dict => 한줄씩 들어간다고 생각하자\n",
    "    - [{'key':value},{'key2:value2,'key3':value3},,,]\n",
    "- 2차원 ndarray\n"
   ]
  },
  {
   "cell_type": "code",
   "execution_count": 6,
   "metadata": {},
   "outputs": [
    {
     "name": "stdout",
     "output_type": "stream",
     "text": [
      "   number\n",
      "0     0.0\n",
      "1     1.0\n",
      "2     2.0\n",
      "3     3.0\n",
      "4     4.0\n"
     ]
    }
   ],
   "source": [
    "# Series\n",
    "series01 = pd.Series(np.arange(5),name = 'number',dtype=float)\n",
    "print(pd.DataFrame(series01))"
   ]
  },
  {
   "cell_type": "code",
   "execution_count": 10,
   "metadata": {},
   "outputs": [
    {
     "name": "stdout",
     "output_type": "stream",
     "text": [
      "   a  b\n",
      "0  1  2\n",
      "1  1  2\n",
      "2  1  2\n"
     ]
    }
   ],
   "source": [
    "# {'key':scalar,'key2':scalar,,,}\n",
    "# 이경우에는 index를 명시해 주지 않으면 에러난다\n",
    "# 상식적으로 몇줄(행)인지 모르기 때문\n",
    "print(pd.DataFrame({'a':1,'b':2},index=[0,1,2])) "
   ]
  },
  {
   "cell_type": "code",
   "execution_count": 36,
   "metadata": {},
   "outputs": [
    {
     "name": "stdout",
     "output_type": "stream",
     "text": [
      "   a   b\n",
      "0  1   6\n",
      "1  2   3\n",
      "2  3   7\n",
      "3  4  20\n",
      "   a   b\n",
      "0  0  10\n",
      "1  1  11\n",
      "2  2  12\n",
      "3  3  13\n",
      "4  4  14\n"
     ]
    }
   ],
   "source": [
    "# {'key':[,,,],'key2':[,,,],,,}\n",
    "# {'key':ndarray,'key2':ndarray2,,,}\n",
    "# 길이를 맞춰줘야지 에러가 나지 않는다\n",
    "\n",
    "print(pd.DataFrame({'a':[1,2,3,4],'b':[6,3,7,20]}))\n",
    "print(pd.DataFrame({'a':np.arange(5),'b':np.arange(10,15)}))"
   ]
  },
  {
   "cell_type": "code",
   "execution_count": 37,
   "metadata": {},
   "outputs": [
    {
     "name": "stdout",
     "output_type": "stream",
     "text": [
      "     c  d\n",
      "0  0.0  0\n",
      "1  1.0  1\n",
      "2  2.0  2\n",
      "3  3.0  3\n",
      "4  4.0  4\n",
      "5  NaN  5\n"
     ]
    }
   ],
   "source": [
    "# {'key':Series,'key2':Series02,,,}\n",
    "series01 = pd.Series(np.arange(5))\n",
    "series02 = pd.Series(np.arange(6))\n",
    "print(pd.DataFrame({'c':series01,'d':series02}))"
   ]
  },
  {
   "cell_type": "markdown",
   "metadata": {},
   "source": [
    "#### ⭐️index가 다르면 어떻게 될까?"
   ]
  },
  {
   "cell_type": "code",
   "execution_count": 20,
   "metadata": {},
   "outputs": [
    {
     "name": "stdout",
     "output_type": "stream",
     "text": [
      "     c    d\n",
      "a  0.0  NaN\n",
      "b  1.0  NaN\n",
      "c  2.0  NaN\n",
      "d  3.0  NaN\n",
      "e  4.0  NaN\n",
      "0  NaN  0.0\n",
      "1  NaN  1.0\n",
      "2  NaN  2.0\n",
      "3  NaN  3.0\n",
      "4  NaN  4.0\n"
     ]
    }
   ],
   "source": [
    "# {'key':Series,'key2':Series02,,,}\n",
    "series01 = pd.Series(np.arange(5),index = ['a','b','c','d','e'])\n",
    "series02 = pd.Series(np.arange(5))\n",
    "print(pd.DataFrame({'c':series01,'d':series02}))"
   ]
  },
  {
   "cell_type": "code",
   "execution_count": 39,
   "metadata": {},
   "outputs": [
    {
     "name": "stdout",
     "output_type": "stream",
     "text": [
      "     a  b    c\n",
      "0  1.0  2  NaN\n",
      "1  NaN  2  NaN\n",
      "2  1.0  2  3.0\n"
     ]
    }
   ],
   "source": [
    "# list of dict\n",
    "print(pd.DataFrame([ {'a':1,'b':2},{'b':2},{'a':1,'b':2,'c':3} ]))"
   ]
  },
  {
   "cell_type": "code",
   "execution_count": 44,
   "metadata": {},
   "outputs": [
    {
     "name": "stdout",
     "output_type": "stream",
     "text": [
      "    a   b   c\n",
      "0   0   1   2\n",
      "1   3   4   5\n",
      "2   6   7   8\n",
      "3   9  10  11\n",
      "4  12  13  14\n"
     ]
    }
   ],
   "source": [
    "# 2차원 ndarray\n",
    "print(pd.DataFrame(np.arange(15).reshape(5,3),columns=['a','b','c']))"
   ]
  }
 ],
 "metadata": {
  "kernelspec": {
   "display_name": "Python 3",
   "language": "python",
   "name": "python3"
  },
  "language_info": {
   "codemirror_mode": {
    "name": "ipython",
    "version": 3
   },
   "file_extension": ".py",
   "mimetype": "text/x-python",
   "name": "python",
   "nbconvert_exporter": "python",
   "pygments_lexer": "ipython3",
   "version": "3.8.5"
  }
 },
 "nbformat": 4,
 "nbformat_minor": 4
}
