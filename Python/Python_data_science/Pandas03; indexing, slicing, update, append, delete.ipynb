{
 "cells": [
  {
   "cell_type": "markdown",
   "id": "0540ef50",
   "metadata": {},
   "source": [
    "## Pandas03; indexing, slicing, update, append, delete "
   ]
  },
  {
   "cell_type": "code",
   "execution_count": 2,
   "id": "7f019a8d",
   "metadata": {},
   "outputs": [],
   "source": [
    "import numpy as np\n",
    "import pandas as pd"
   ]
  },
  {
   "cell_type": "markdown",
   "id": "b8fbc050",
   "metadata": {},
   "source": [
    "### Series\n",
    "- index를 갖는 1차원 배열이다\n",
    "- index를 key값으로 갖는 딕셔너리 처럼 동작한다\n",
    "- indexing, slicing, masking, fancy indexing 다 가능하다"
   ]
  },
  {
   "cell_type": "code",
   "execution_count": 3,
   "id": "af91d63e",
   "metadata": {},
   "outputs": [
    {
     "data": {
      "text/plain": [
       "a    1\n",
       "b    2\n",
       "c    3\n",
       "d    4\n",
       "dtype: int64"
      ]
     },
     "metadata": {},
     "output_type": "display_data"
    }
   ],
   "source": [
    "s1 = pd.Series([1,2,3,4],index=['a','b','c','d'])\n",
    "display(s1)"
   ]
  },
  {
   "cell_type": "markdown",
   "id": "8dbdda7f",
   "metadata": {},
   "source": [
    "- 1. indexing"
   ]
  },
  {
   "cell_type": "code",
   "execution_count": 5,
   "id": "072adbbf",
   "metadata": {},
   "outputs": [
    {
     "name": "stdout",
     "output_type": "stream",
     "text": [
      "1\n",
      "1\n"
     ]
    }
   ],
   "source": [
    "print(s1[0])   # 암묵적 정수 인덱싱 \n",
    "print(s1['a']) # 명시적 인덱싱"
   ]
  },
  {
   "cell_type": "markdown",
   "id": "4b777afe",
   "metadata": {},
   "source": [
    "- 2. slicing \n",
    "    - 명시적 인덱스로 슬라이싱을 하면 최종 인덱스도 포함된다"
   ]
  },
  {
   "cell_type": "code",
   "execution_count": 9,
   "id": "e49e5690",
   "metadata": {},
   "outputs": [
    {
     "name": "stdout",
     "output_type": "stream",
     "text": [
      "a    1\n",
      "b    2\n",
      "dtype: int64\n",
      "a    1\n",
      "b    2\n",
      "c    3\n",
      "dtype: int64\n"
     ]
    }
   ],
   "source": [
    "print(s1[0:2])    # 암묵적 정수 슬라이싱\n",
    "print(s1['a':'c'])# 명시적 인덱스로 슬라이싱"
   ]
  },
  {
   "cell_type": "markdown",
   "id": "6df8285a",
   "metadata": {},
   "source": [
    "- 3. masking(boolean indexing) "
   ]
  },
  {
   "cell_type": "code",
   "execution_count": 11,
   "id": "30ac61af",
   "metadata": {},
   "outputs": [
    {
     "name": "stdout",
     "output_type": "stream",
     "text": [
      "c    3\n",
      "d    4\n",
      "dtype: int64\n"
     ]
    }
   ],
   "source": [
    "print(s1[s1>2])"
   ]
  },
  {
   "cell_type": "markdown",
   "id": "de99378f",
   "metadata": {},
   "source": [
    "- 4. fancy indexing\n",
    "    - 리스트 형식으로 인덱스를 넣어주면 된다"
   ]
  },
  {
   "cell_type": "code",
   "execution_count": 14,
   "id": "316a79d2",
   "metadata": {},
   "outputs": [
    {
     "name": "stdout",
     "output_type": "stream",
     "text": [
      "a    1\n",
      "d    4\n",
      "dtype: int64\n",
      "a    1\n",
      "b    2\n",
      "dtype: int64\n"
     ]
    }
   ],
   "source": [
    "print(s1[[0,3]])     # 암묵적 정수 \n",
    "print(s1[['a','b']]) # 명시적 인덱스"
   ]
  },
  {
   "cell_type": "markdown",
   "id": "0d0b324e",
   "metadata": {},
   "source": [
    "#### 만약에 암묵적 인덱스와 명시적 인덱스가 같으면?"
   ]
  },
  {
   "cell_type": "code",
   "execution_count": 21,
   "id": "7ba4ac81",
   "metadata": {},
   "outputs": [
    {
     "name": "stdout",
     "output_type": "stream",
     "text": [
      "2    20\n",
      "3    30\n",
      "dtype: int64\n",
      "10\n"
     ]
    }
   ],
   "source": [
    "s2 = pd.Series([10,20,30,40],index=[1,2,3,4])\n",
    "print(s2[1:3]) # 암묵적 인덱스를 사용한다\n",
    "print(s2[1])   # 명시적 인덱스를 사용한다"
   ]
  },
  {
   "cell_type": "markdown",
   "id": "3feb3d24",
   "metadata": {},
   "source": [
    "### Indexer\n",
    "- 인덱서 속성을 제공해 보다 명확하게 명시적 혹은 암무적 인덱싱을 가능하게 해준다 \n",
    "    - iloc : 암묵적 정수 인덱스를 이용 \n",
    "    - loc  : 명시적 인덱스를 사용"
   ]
  },
  {
   "cell_type": "code",
   "execution_count": 25,
   "id": "e19a8c4e",
   "metadata": {},
   "outputs": [
    {
     "data": {
      "text/plain": [
       "2    20\n",
       "3    30\n",
       "dtype: int64"
      ]
     },
     "execution_count": 25,
     "metadata": {},
     "output_type": "execute_result"
    }
   ],
   "source": [
    "s2 = pd.Series([10,20,30,40],index=[1,2,3,4])\n",
    "s2.iloc[1:3]"
   ]
  },
  {
   "cell_type": "code",
   "execution_count": 35,
   "id": "ffe28c32",
   "metadata": {},
   "outputs": [
    {
     "data": {
      "text/plain": [
       "1    10\n",
       "2    20\n",
       "3    30\n",
       "dtype: int64"
      ]
     },
     "execution_count": 35,
     "metadata": {},
     "output_type": "execute_result"
    }
   ],
   "source": [
    "s2 = pd.Series([10,20,30,40],index=[1,2,3,4])\n",
    "s2.loc[1:3]"
   ]
  },
  {
   "cell_type": "markdown",
   "id": "ee303079",
   "metadata": {},
   "source": [
    "### DataFrame\n",
    "- index와 column을 갖는 2차원 배열이다\n",
    "- column을 key값으로 갖는 딕셔너리 처럼 동작한다\n",
    "- indexing, slicing, masking, fancy indexing 다 가능하다\n",
    "- 다만 2차원 배열이기 때문에 추가적인 부분 존재"
   ]
  },
  {
   "cell_type": "code",
   "execution_count": null,
   "id": "706909ee",
   "metadata": {},
   "outputs": [],
   "source": []
  }
 ],
 "metadata": {
  "kernelspec": {
   "display_name": "Python 3 (ipykernel)",
   "language": "python",
   "name": "python3"
  },
  "language_info": {
   "codemirror_mode": {
    "name": "ipython",
    "version": 3
   },
   "file_extension": ".py",
   "mimetype": "text/x-python",
   "name": "python",
   "nbconvert_exporter": "python",
   "pygments_lexer": "ipython3",
   "version": "3.8.11"
  }
 },
 "nbformat": 4,
 "nbformat_minor": 5
}
