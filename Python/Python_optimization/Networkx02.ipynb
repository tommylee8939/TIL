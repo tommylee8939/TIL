{
 "cells": [
  {
   "cell_type": "code",
   "execution_count": 1,
   "id": "33bf03d5",
   "metadata": {},
   "outputs": [],
   "source": [
    "import networkx as nx"
   ]
  },
  {
   "cell_type": "markdown",
   "id": "9e9d3c2d",
   "metadata": {},
   "source": [
    "### acessing edges and neighbors\n",
    "- 아래 두가지 방법으로 가능하다\n",
    "- G.edges[node,node]\n",
    "- G[Node][Node]"
   ]
  },
  {
   "cell_type": "code",
   "execution_count": 23,
   "id": "39bbe3b2",
   "metadata": {},
   "outputs": [
    {
     "data": {
      "image/png": "[encoded data removed]",
      "text/plain": [
       "<Figure size 432x288 with 1 Axes>"
      ]
     },
     "metadata": {},
     "output_type": "display_data"
    }
   ],
   "source": [
    "G = nx.Graph([(1, 2)])\n",
    "G.add_edges_from([(3,4),(5,6),(2,4)])\n",
    "nx.draw(G,with_labels=True)"
   ]
  },
  {
   "cell_type": "code",
   "execution_count": 26,
   "id": "8d353415",
   "metadata": {},
   "outputs": [
    {
     "data": {
      "text/plain": [
       "networkx.classes.reportviews.EdgeView"
      ]
     },
     "execution_count": 26,
     "metadata": {},
     "output_type": "execute_result"
    }
   ],
   "source": [
    "type(G.edges)"
   ]
  },
  {
   "cell_type": "code",
   "execution_count": 32,
   "id": "1722fc1b",
   "metadata": {},
   "outputs": [],
   "source": [
    "# G.edges[1] 이건 에러 발생한다"
   ]
  },
  {
   "cell_type": "code",
   "execution_count": 27,
   "id": "837e4797",
   "metadata": {},
   "outputs": [
    {
     "data": {
      "text/plain": [
       "{}"
      ]
     },
     "execution_count": 27,
     "metadata": {},
     "output_type": "execute_result"
    }
   ],
   "source": [
    "G.edges[1,2] # 몬가 비어있는것처럼 보인다 => 뒤에 attibute를 이해하면 더 명확하게 보일거다"
   ]
  },
  {
   "cell_type": "code",
   "execution_count": 31,
   "id": "d4cc7e7d",
   "metadata": {},
   "outputs": [
    {
     "data": {
      "text/plain": [
       "EdgeDataView([(2, 1), (2, 4)])"
      ]
     },
     "execution_count": 31,
     "metadata": {},
     "output_type": "execute_result"
    }
   ],
   "source": [
    "# 하나 헷갈릴수 있는게\n",
    "# G.edges 는 func로도 사용가능했다 => specify할때\n",
    "G.edges([2]) # 2와 연결된 edge들"
   ]
  },
  {
   "cell_type": "code",
   "execution_count": 33,
   "id": "dbaa0580",
   "metadata": {},
   "outputs": [
    {
     "data": {
      "text/plain": [
       "AtlasView({2: {}})"
      ]
     },
     "execution_count": 33,
     "metadata": {},
     "output_type": "execute_result"
    }
   ],
   "source": [
    "G[1]"
   ]
  },
  {
   "cell_type": "code",
   "execution_count": 34,
   "id": "21901111",
   "metadata": {},
   "outputs": [
    {
     "data": {
      "text/plain": [
       "{}"
      ]
     },
     "execution_count": 34,
     "metadata": {},
     "output_type": "execute_result"
    }
   ],
   "source": [
    "G[1][2]"
   ]
  },
  {
   "cell_type": "code",
   "execution_count": null,
   "id": "b0cc9509",
   "metadata": {},
   "outputs": [],
   "source": []
  },
  {
   "cell_type": "markdown",
   "id": "15c3c73c",
   "metadata": {},
   "source": [
    "### Attributes to graphs, nodes, edges"
   ]
  },
  {
   "cell_type": "code",
   "execution_count": 46,
   "id": "236e2b4b",
   "metadata": {},
   "outputs": [
    {
     "name": "stdout",
     "output_type": "stream",
     "text": [
      "{'day': 'Friday'}\n",
      "Friday\n"
     ]
    }
   ],
   "source": [
    "# grpah attribute\n",
    "G = nx.Graph(day=\"Friday\")\n",
    "print(G.graph)\n",
    "print(G.graph['day'])"
   ]
  },
  {
   "cell_type": "code",
   "execution_count": 41,
   "id": "353d386c",
   "metadata": {},
   "outputs": [
    {
     "name": "stdout",
     "output_type": "stream",
     "text": [
      "{'demand': 10}\n",
      "{'demand': 10}\n",
      "{'demand': 5}\n"
     ]
    }
   ],
   "source": [
    "# node attribute\n",
    "G = nx.Graph()\n",
    "G.add_nodes_from([1,2,3],demand=10)\n",
    "G.add_node(4,demand = 5)\n",
    "print(G.nodes[2])\n",
    "print(G.nodes[1])\n",
    "print(G.nodes[4])"
   ]
  },
  {
   "cell_type": "code",
   "execution_count": 47,
   "id": "c2c243f7",
   "metadata": {},
   "outputs": [
    {
     "name": "stdout",
     "output_type": "stream",
     "text": [
      "10\n",
      "20\n",
      "30\n"
     ]
    }
   ],
   "source": [
    "# node attribute\n",
    "G = nx.Graph()\n",
    "G.add_nodes_from([(1,{'demand':10}),(2,{'demand':20}),(3,{'demand':30})])\n",
    "print(G.nodes[1]['demand'])\n",
    "print(G.nodes[2]['demand'])\n",
    "print(G.nodes[3]['demand'])"
   ]
  },
  {
   "cell_type": "code",
   "execution_count": 54,
   "id": "d97d0aea",
   "metadata": {},
   "outputs": [
    {
     "name": "stdout",
     "output_type": "stream",
     "text": [
      "{'weight': 4.7, 'color': 'blue'}\n",
      "red\n",
      "{2: {'weight': 4.7, 'color': 'blue'}}\n",
      "{'weight': 4.7, 'color': 'blue'}\n",
      "4.7\n"
     ]
    }
   ],
   "source": [
    "# edge attribute\n",
    "G = nx.Graph()\n",
    "G.add_edge(1, 2, weight=4.7 )\n",
    "G.add_edges_from([(3, 4), (4, 5)], color='red')\n",
    "G.add_edges_from([(1, 2, {'color': 'blue'}), (2, 3, {'weight': 8})])\n",
    "print(G.edges[1,2])\n",
    "print(G.edges[3,4]['color'])\n",
    "print(G[1])\n",
    "print(G[1][2])\n",
    "print(G[1][2]['weight'])"
   ]
  },
  {
   "cell_type": "markdown",
   "id": "a6018594",
   "metadata": {},
   "source": [
    "### weight를 포함시킨 network 그래프를 그려보자"
   ]
  },
  {
   "cell_type": "code",
   "execution_count": 71,
   "id": "43b79dc5",
   "metadata": {},
   "outputs": [
    {
     "data": {
      "image/png": "[encoded data removed]",
      "text/plain": [
       "<Figure size 432x288 with 1 Axes>"
      ]
     },
     "metadata": {},
     "output_type": "display_data"
    }
   ],
   "source": [
    "G = nx.Graph()\n",
    "G.add_edges_from([(1,2,{'weight':10}),(2,3,{'weight':10}),(3,1,{'weight':10})])\n",
    "pos = nx.spring_layout(G)\n",
    "nx.draw(G,pos=pos,with_labels=True) \n",
    "\n",
    "\n",
    "labels = nx.get_edge_attributes(G,'weight') # dictionary형태로 반환\n",
    "nx.draw_networkx_edge_labels(G, pos, edge_labels = labels);"
   ]
  }
 ],
 "metadata": {
  "kernelspec": {
   "display_name": "Python 3",
   "language": "python",
   "name": "python3"
  },
  "language_info": {
   "codemirror_mode": {
    "name": "ipython",
    "version": 3
   },
   "file_extension": ".py",
   "mimetype": "text/x-python",
   "name": "python",
   "nbconvert_exporter": "python",
   "pygments_lexer": "ipython3",
   "version": "3.8.8"
  }
 },
 "nbformat": 4,
 "nbformat_minor": 5
}
