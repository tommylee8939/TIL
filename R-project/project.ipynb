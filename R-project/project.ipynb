{
 "cells": [
  {
   "cell_type": "code",
   "execution_count": 3,
   "metadata": {},
   "outputs": [
    {
     "name": "stderr",
     "output_type": "stream",
     "text": [
      "\n",
      "다음의 패키지를 부착합니다: ‘dplyr’\n",
      "\n",
      "\n",
      "The following objects are masked from ‘package:stats’:\n",
      "\n",
      "    filter, lag\n",
      "\n",
      "\n",
      "The following objects are masked from ‘package:base’:\n",
      "\n",
      "    intersect, setdiff, setequal, union\n",
      "\n",
      "\n"
     ]
    }
   ],
   "source": [
    "library(dplyr)"
   ]
  },
  {
   "cell_type": "code",
   "execution_count": 73,
   "metadata": {},
   "outputs": [
    {
     "data": {
      "text/html": [
       "<table class=\"dataframe\">\n",
       "<caption>A data.frame: 6 × 24</caption>\n",
       "<thead>\n",
       "\t<tr><th></th><th scope=col>날짜</th><th scope=col>호선</th><th scope=col>역번호</th><th scope=col>역명</th><th scope=col>구분</th><th scope=col>-06</th><th scope=col>06-07</th><th scope=col>07-08</th><th scope=col>08-09</th><th scope=col>09-10</th><th scope=col>⋯</th><th scope=col>14-15</th><th scope=col>15-16</th><th scope=col>16-17</th><th scope=col>17-18</th><th scope=col>18-19</th><th scope=col>19-20</th><th scope=col>20-21</th><th scope=col>21-22</th><th scope=col>22-23</th><th scope=col>23-</th></tr>\n",
       "\t<tr><th></th><th scope=col>&lt;date&gt;</th><th scope=col>&lt;chr&gt;</th><th scope=col>&lt;int&gt;</th><th scope=col>&lt;chr&gt;</th><th scope=col>&lt;chr&gt;</th><th scope=col>&lt;int&gt;</th><th scope=col>&lt;int&gt;</th><th scope=col>&lt;int&gt;</th><th scope=col>&lt;int&gt;</th><th scope=col>&lt;int&gt;</th><th scope=col>⋯</th><th scope=col>&lt;int&gt;</th><th scope=col>&lt;int&gt;</th><th scope=col>&lt;int&gt;</th><th scope=col>&lt;int&gt;</th><th scope=col>&lt;int&gt;</th><th scope=col>&lt;int&gt;</th><th scope=col>&lt;int&gt;</th><th scope=col>&lt;int&gt;</th><th scope=col>&lt;int&gt;</th><th scope=col>&lt;int&gt;</th></tr>\n",
       "</thead>\n",
       "<tbody>\n",
       "\t<tr><th scope=row>1</th><td>2019-01-01</td><td>1호선</td><td>150</td><td>서울역</td><td>승차</td><td>348</td><td>321</td><td>348</td><td>741</td><td> 940</td><td>⋯</td><td>2341</td><td>3370</td><td>3226</td><td>3447</td><td>3277</td><td>2898</td><td>2590</td><td>3004</td><td>2234</td><td>1008</td></tr>\n",
       "\t<tr><th scope=row>2</th><td>2019-01-01</td><td>1호선</td><td>150</td><td>서울역</td><td>하차</td><td>222</td><td>821</td><td>808</td><td>961</td><td>1472</td><td>⋯</td><td>2360</td><td>2743</td><td>2491</td><td>2572</td><td>2060</td><td>1991</td><td>1683</td><td>1217</td><td> 764</td><td> 605</td></tr>\n",
       "\t<tr><th scope=row>3</th><td>2019-01-01</td><td>1호선</td><td>151</td><td>시청  </td><td>승차</td><td> 87</td><td> 98</td><td>143</td><td>206</td><td> 280</td><td>⋯</td><td> 868</td><td> 946</td><td> 958</td><td>1062</td><td>1146</td><td>1119</td><td> 992</td><td> 904</td><td> 570</td><td> 217</td></tr>\n",
       "\t<tr><th scope=row>4</th><td>2019-01-01</td><td>1호선</td><td>151</td><td>시청  </td><td>하차</td><td> 48</td><td>237</td><td>323</td><td>571</td><td> 577</td><td>⋯</td><td> 875</td><td> 964</td><td> 733</td><td> 746</td><td> 606</td><td> 374</td><td> 311</td><td> 268</td><td> 177</td><td> 201</td></tr>\n",
       "\t<tr><th scope=row>5</th><td>2019-01-01</td><td>1호선</td><td>152</td><td>종각  </td><td>승차</td><td>669</td><td>318</td><td>217</td><td>203</td><td> 333</td><td>⋯</td><td>1294</td><td>1843</td><td>1870</td><td>2129</td><td>2024</td><td>1806</td><td>1796</td><td>1780</td><td>1296</td><td> 528</td></tr>\n",
       "\t<tr><th scope=row>6</th><td>2019-01-01</td><td>1호선</td><td>152</td><td>종각  </td><td>하차</td><td> 68</td><td>179</td><td>293</td><td>546</td><td> 926</td><td>⋯</td><td>1771</td><td>1654</td><td>1379</td><td>1420</td><td>1050</td><td> 685</td><td> 431</td><td> 315</td><td> 237</td><td> 201</td></tr>\n",
       "</tbody>\n",
       "</table>\n"
      ],
      "text/latex": [
       "A data.frame: 6 × 24\n",
       "\\begin{tabular}{r|lllllllllllllllllllll}\n",
       "  & 날짜 & 호선 & 역번호 & 역명 & 구분 & -06 & 06-07 & 07-08 & 08-09 & 09-10 & ⋯ & 14-15 & 15-16 & 16-17 & 17-18 & 18-19 & 19-20 & 20-21 & 21-22 & 22-23 & 23-\\\\\n",
       "  & <date> & <chr> & <int> & <chr> & <chr> & <int> & <int> & <int> & <int> & <int> & ⋯ & <int> & <int> & <int> & <int> & <int> & <int> & <int> & <int> & <int> & <int>\\\\\n",
       "\\hline\n",
       "\t1 & 2019-01-01 & 1호선 & 150 & 서울역 & 승차 & 348 & 321 & 348 & 741 &  940 & ⋯ & 2341 & 3370 & 3226 & 3447 & 3277 & 2898 & 2590 & 3004 & 2234 & 1008\\\\\n",
       "\t2 & 2019-01-01 & 1호선 & 150 & 서울역 & 하차 & 222 & 821 & 808 & 961 & 1472 & ⋯ & 2360 & 2743 & 2491 & 2572 & 2060 & 1991 & 1683 & 1217 &  764 &  605\\\\\n",
       "\t3 & 2019-01-01 & 1호선 & 151 & 시청   & 승차 &  87 &  98 & 143 & 206 &  280 & ⋯ &  868 &  946 &  958 & 1062 & 1146 & 1119 &  992 &  904 &  570 &  217\\\\\n",
       "\t4 & 2019-01-01 & 1호선 & 151 & 시청   & 하차 &  48 & 237 & 323 & 571 &  577 & ⋯ &  875 &  964 &  733 &  746 &  606 &  374 &  311 &  268 &  177 &  201\\\\\n",
       "\t5 & 2019-01-01 & 1호선 & 152 & 종각   & 승차 & 669 & 318 & 217 & 203 &  333 & ⋯ & 1294 & 1843 & 1870 & 2129 & 2024 & 1806 & 1796 & 1780 & 1296 &  528\\\\\n",
       "\t6 & 2019-01-01 & 1호선 & 152 & 종각   & 하차 &  68 & 179 & 293 & 546 &  926 & ⋯ & 1771 & 1654 & 1379 & 1420 & 1050 &  685 &  431 &  315 &  237 &  201\\\\\n",
       "\\end{tabular}\n"
      ],
      "text/markdown": [
       "\n",
       "A data.frame: 6 × 24\n",
       "\n",
       "| <!--/--> | 날짜 &lt;date&gt; | 호선 &lt;chr&gt; | 역번호 &lt;int&gt; | 역명 &lt;chr&gt; | 구분 &lt;chr&gt; | -06 &lt;int&gt; | 06-07 &lt;int&gt; | 07-08 &lt;int&gt; | 08-09 &lt;int&gt; | 09-10 &lt;int&gt; | ⋯ ⋯ | 14-15 &lt;int&gt; | 15-16 &lt;int&gt; | 16-17 &lt;int&gt; | 17-18 &lt;int&gt; | 18-19 &lt;int&gt; | 19-20 &lt;int&gt; | 20-21 &lt;int&gt; | 21-22 &lt;int&gt; | 22-23 &lt;int&gt; | 23- &lt;int&gt; |\n",
       "|---|---|---|---|---|---|---|---|---|---|---|---|---|---|---|---|---|---|---|---|---|---|\n",
       "| 1 | 2019-01-01 | 1호선 | 150 | 서울역 | 승차 | 348 | 321 | 348 | 741 |  940 | ⋯ | 2341 | 3370 | 3226 | 3447 | 3277 | 2898 | 2590 | 3004 | 2234 | 1008 |\n",
       "| 2 | 2019-01-01 | 1호선 | 150 | 서울역 | 하차 | 222 | 821 | 808 | 961 | 1472 | ⋯ | 2360 | 2743 | 2491 | 2572 | 2060 | 1991 | 1683 | 1217 |  764 |  605 |\n",
       "| 3 | 2019-01-01 | 1호선 | 151 | 시청   | 승차 |  87 |  98 | 143 | 206 |  280 | ⋯ |  868 |  946 |  958 | 1062 | 1146 | 1119 |  992 |  904 |  570 |  217 |\n",
       "| 4 | 2019-01-01 | 1호선 | 151 | 시청   | 하차 |  48 | 237 | 323 | 571 |  577 | ⋯ |  875 |  964 |  733 |  746 |  606 |  374 |  311 |  268 |  177 |  201 |\n",
       "| 5 | 2019-01-01 | 1호선 | 152 | 종각   | 승차 | 669 | 318 | 217 | 203 |  333 | ⋯ | 1294 | 1843 | 1870 | 2129 | 2024 | 1806 | 1796 | 1780 | 1296 |  528 |\n",
       "| 6 | 2019-01-01 | 1호선 | 152 | 종각   | 하차 |  68 | 179 | 293 | 546 |  926 | ⋯ | 1771 | 1654 | 1379 | 1420 | 1050 |  685 |  431 |  315 |  237 |  201 |\n",
       "\n"
      ],
      "text/plain": [
       "  날짜       호선  역번호 역명   구분 -06 06-07 07-08 08-09 09-10 ⋯ 14-15 15-16\n",
       "1 2019-01-01 1호선 150    서울역 승차 348 321   348   741    940  ⋯ 2341  3370 \n",
       "2 2019-01-01 1호선 150    서울역 하차 222 821   808   961   1472  ⋯ 2360  2743 \n",
       "3 2019-01-01 1호선 151    시청   승차  87  98   143   206    280  ⋯  868   946 \n",
       "4 2019-01-01 1호선 151    시청   하차  48 237   323   571    577  ⋯  875   964 \n",
       "5 2019-01-01 1호선 152    종각   승차 669 318   217   203    333  ⋯ 1294  1843 \n",
       "6 2019-01-01 1호선 152    종각   하차  68 179   293   546    926  ⋯ 1771  1654 \n",
       "  16-17 17-18 18-19 19-20 20-21 21-22 22-23 23- \n",
       "1 3226  3447  3277  2898  2590  3004  2234  1008\n",
       "2 2491  2572  2060  1991  1683  1217   764   605\n",
       "3  958  1062  1146  1119   992   904   570   217\n",
       "4  733   746   606   374   311   268   177   201\n",
       "5 1870  2129  2024  1806  1796  1780  1296   528\n",
       "6 1379  1420  1050   685   431   315   237   201"
      ]
     },
     "metadata": {},
     "output_type": "display_data"
    }
   ],
   "source": [
    "data_2019<-read.csv('data/2019.csv',header = T)\n",
    "colnames(data_2019)<-c('날짜','호선','역번호','역명','구분','-06','06-07','07-08','08-09','09-10','10-11','11-12','12-13','13-14','14-15','15-16','16-17','17-18','18-19','19-20','20-21','21-22','22-23','23-24','24-','합계')\n",
    "data_2019$`날짜`<-as.Date(data_2019$`날짜`,format='%Y.%m.%d')\n",
    "#data_2019$요일 <- weekdays(data_2019$날짜)\n",
    "data_2019$`23-`<-data_2019$`23-24`+data_2019$`24-`\n",
    "data_2019 <- data_2019[,-(24:26)]\n",
    "head(data_2019)"
   ]
  },
  {
   "cell_type": "code",
   "execution_count": 77,
   "metadata": {},
   "outputs": [
    {
     "data": {
      "text/html": [
       "<table class=\"dataframe\">\n",
       "<caption>A data.frame: 6 × 24</caption>\n",
       "<thead>\n",
       "\t<tr><th></th><th scope=col>날짜</th><th scope=col>호선</th><th scope=col>역번호</th><th scope=col>역명</th><th scope=col>구분</th><th scope=col>-06</th><th scope=col>06-07</th><th scope=col>07-08</th><th scope=col>08-09</th><th scope=col>09-10</th><th scope=col>⋯</th><th scope=col>14-15</th><th scope=col>15-16</th><th scope=col>16-17</th><th scope=col>17-18</th><th scope=col>18-19</th><th scope=col>19-20</th><th scope=col>20-21</th><th scope=col>21-22</th><th scope=col>22-23</th><th scope=col>23-</th></tr>\n",
       "\t<tr><th></th><th scope=col>&lt;date&gt;</th><th scope=col>&lt;chr&gt;</th><th scope=col>&lt;int&gt;</th><th scope=col>&lt;chr&gt;</th><th scope=col>&lt;chr&gt;</th><th scope=col>&lt;int&gt;</th><th scope=col>&lt;int&gt;</th><th scope=col>&lt;int&gt;</th><th scope=col>&lt;int&gt;</th><th scope=col>&lt;int&gt;</th><th scope=col>⋯</th><th scope=col>&lt;int&gt;</th><th scope=col>&lt;int&gt;</th><th scope=col>&lt;int&gt;</th><th scope=col>&lt;int&gt;</th><th scope=col>&lt;int&gt;</th><th scope=col>&lt;int&gt;</th><th scope=col>&lt;int&gt;</th><th scope=col>&lt;int&gt;</th><th scope=col>&lt;int&gt;</th><th scope=col>&lt;int&gt;</th></tr>\n",
       "</thead>\n",
       "<tbody>\n",
       "\t<tr><th scope=row>1</th><td>2020-01-01</td><td>1호선</td><td>150</td><td>서울역</td><td>승차</td><td>356</td><td>280</td><td>313</td><td> 774</td><td> 923</td><td>⋯</td><td>2065</td><td>2972</td><td>3194</td><td>3342</td><td>3002</td><td>2857</td><td>2311</td><td>2523</td><td>1830</td><td>1012</td></tr>\n",
       "\t<tr><th scope=row>2</th><td>2020-01-01</td><td>1호선</td><td>150</td><td>서울역</td><td>하차</td><td>235</td><td>952</td><td>828</td><td>1043</td><td>1694</td><td>⋯</td><td>2308</td><td>2286</td><td>2354</td><td>2261</td><td>1922</td><td>1696</td><td>1620</td><td>1181</td><td> 768</td><td> 503</td></tr>\n",
       "\t<tr><th scope=row>3</th><td>2020-01-01</td><td>1호선</td><td>151</td><td>시청  </td><td>승차</td><td>105</td><td>118</td><td>123</td><td> 206</td><td> 318</td><td>⋯</td><td> 763</td><td> 873</td><td>1019</td><td>1234</td><td>1383</td><td>1271</td><td>1061</td><td> 991</td><td> 572</td><td> 219</td></tr>\n",
       "\t<tr><th scope=row>4</th><td>2020-01-01</td><td>1호선</td><td>151</td><td>시청  </td><td>하차</td><td> 81</td><td>223</td><td>334</td><td> 570</td><td> 611</td><td>⋯</td><td>1021</td><td> 885</td><td> 783</td><td> 849</td><td> 602</td><td> 435</td><td> 293</td><td> 273</td><td> 174</td><td> 175</td></tr>\n",
       "\t<tr><th scope=row>5</th><td>2020-01-01</td><td>1호선</td><td>152</td><td>종각  </td><td>승차</td><td>798</td><td>366</td><td>198</td><td> 236</td><td> 310</td><td>⋯</td><td>1190</td><td>1636</td><td>1748</td><td>1890</td><td>1879</td><td>1827</td><td>1955</td><td>1800</td><td>1259</td><td> 412</td></tr>\n",
       "\t<tr><th scope=row>6</th><td>2020-01-01</td><td>1호선</td><td>152</td><td>종각  </td><td>하차</td><td> 71</td><td>191</td><td>295</td><td> 511</td><td> 855</td><td>⋯</td><td>1439</td><td>1610</td><td>1450</td><td>1352</td><td>1132</td><td> 725</td><td> 545</td><td> 344</td><td> 225</td><td> 171</td></tr>\n",
       "</tbody>\n",
       "</table>\n"
      ],
      "text/latex": [
       "A data.frame: 6 × 24\n",
       "\\begin{tabular}{r|lllllllllllllllllllll}\n",
       "  & 날짜 & 호선 & 역번호 & 역명 & 구분 & -06 & 06-07 & 07-08 & 08-09 & 09-10 & ⋯ & 14-15 & 15-16 & 16-17 & 17-18 & 18-19 & 19-20 & 20-21 & 21-22 & 22-23 & 23-\\\\\n",
       "  & <date> & <chr> & <int> & <chr> & <chr> & <int> & <int> & <int> & <int> & <int> & ⋯ & <int> & <int> & <int> & <int> & <int> & <int> & <int> & <int> & <int> & <int>\\\\\n",
       "\\hline\n",
       "\t1 & 2020-01-01 & 1호선 & 150 & 서울역 & 승차 & 356 & 280 & 313 &  774 &  923 & ⋯ & 2065 & 2972 & 3194 & 3342 & 3002 & 2857 & 2311 & 2523 & 1830 & 1012\\\\\n",
       "\t2 & 2020-01-01 & 1호선 & 150 & 서울역 & 하차 & 235 & 952 & 828 & 1043 & 1694 & ⋯ & 2308 & 2286 & 2354 & 2261 & 1922 & 1696 & 1620 & 1181 &  768 &  503\\\\\n",
       "\t3 & 2020-01-01 & 1호선 & 151 & 시청   & 승차 & 105 & 118 & 123 &  206 &  318 & ⋯ &  763 &  873 & 1019 & 1234 & 1383 & 1271 & 1061 &  991 &  572 &  219\\\\\n",
       "\t4 & 2020-01-01 & 1호선 & 151 & 시청   & 하차 &  81 & 223 & 334 &  570 &  611 & ⋯ & 1021 &  885 &  783 &  849 &  602 &  435 &  293 &  273 &  174 &  175\\\\\n",
       "\t5 & 2020-01-01 & 1호선 & 152 & 종각   & 승차 & 798 & 366 & 198 &  236 &  310 & ⋯ & 1190 & 1636 & 1748 & 1890 & 1879 & 1827 & 1955 & 1800 & 1259 &  412\\\\\n",
       "\t6 & 2020-01-01 & 1호선 & 152 & 종각   & 하차 &  71 & 191 & 295 &  511 &  855 & ⋯ & 1439 & 1610 & 1450 & 1352 & 1132 &  725 &  545 &  344 &  225 &  171\\\\\n",
       "\\end{tabular}\n"
      ],
      "text/markdown": [
       "\n",
       "A data.frame: 6 × 24\n",
       "\n",
       "| <!--/--> | 날짜 &lt;date&gt; | 호선 &lt;chr&gt; | 역번호 &lt;int&gt; | 역명 &lt;chr&gt; | 구분 &lt;chr&gt; | -06 &lt;int&gt; | 06-07 &lt;int&gt; | 07-08 &lt;int&gt; | 08-09 &lt;int&gt; | 09-10 &lt;int&gt; | ⋯ ⋯ | 14-15 &lt;int&gt; | 15-16 &lt;int&gt; | 16-17 &lt;int&gt; | 17-18 &lt;int&gt; | 18-19 &lt;int&gt; | 19-20 &lt;int&gt; | 20-21 &lt;int&gt; | 21-22 &lt;int&gt; | 22-23 &lt;int&gt; | 23- &lt;int&gt; |\n",
       "|---|---|---|---|---|---|---|---|---|---|---|---|---|---|---|---|---|---|---|---|---|---|\n",
       "| 1 | 2020-01-01 | 1호선 | 150 | 서울역 | 승차 | 356 | 280 | 313 |  774 |  923 | ⋯ | 2065 | 2972 | 3194 | 3342 | 3002 | 2857 | 2311 | 2523 | 1830 | 1012 |\n",
       "| 2 | 2020-01-01 | 1호선 | 150 | 서울역 | 하차 | 235 | 952 | 828 | 1043 | 1694 | ⋯ | 2308 | 2286 | 2354 | 2261 | 1922 | 1696 | 1620 | 1181 |  768 |  503 |\n",
       "| 3 | 2020-01-01 | 1호선 | 151 | 시청   | 승차 | 105 | 118 | 123 |  206 |  318 | ⋯ |  763 |  873 | 1019 | 1234 | 1383 | 1271 | 1061 |  991 |  572 |  219 |\n",
       "| 4 | 2020-01-01 | 1호선 | 151 | 시청   | 하차 |  81 | 223 | 334 |  570 |  611 | ⋯ | 1021 |  885 |  783 |  849 |  602 |  435 |  293 |  273 |  174 |  175 |\n",
       "| 5 | 2020-01-01 | 1호선 | 152 | 종각   | 승차 | 798 | 366 | 198 |  236 |  310 | ⋯ | 1190 | 1636 | 1748 | 1890 | 1879 | 1827 | 1955 | 1800 | 1259 |  412 |\n",
       "| 6 | 2020-01-01 | 1호선 | 152 | 종각   | 하차 |  71 | 191 | 295 |  511 |  855 | ⋯ | 1439 | 1610 | 1450 | 1352 | 1132 |  725 |  545 |  344 |  225 |  171 |\n",
       "\n"
      ],
      "text/plain": [
       "  날짜       호선  역번호 역명   구분 -06 06-07 07-08 08-09 09-10 ⋯ 14-15 15-16\n",
       "1 2020-01-01 1호선 150    서울역 승차 356 280   313    774   923  ⋯ 2065  2972 \n",
       "2 2020-01-01 1호선 150    서울역 하차 235 952   828   1043  1694  ⋯ 2308  2286 \n",
       "3 2020-01-01 1호선 151    시청   승차 105 118   123    206   318  ⋯  763   873 \n",
       "4 2020-01-01 1호선 151    시청   하차  81 223   334    570   611  ⋯ 1021   885 \n",
       "5 2020-01-01 1호선 152    종각   승차 798 366   198    236   310  ⋯ 1190  1636 \n",
       "6 2020-01-01 1호선 152    종각   하차  71 191   295    511   855  ⋯ 1439  1610 \n",
       "  16-17 17-18 18-19 19-20 20-21 21-22 22-23 23- \n",
       "1 3194  3342  3002  2857  2311  2523  1830  1012\n",
       "2 2354  2261  1922  1696  1620  1181   768   503\n",
       "3 1019  1234  1383  1271  1061   991   572   219\n",
       "4  783   849   602   435   293   273   174   175\n",
       "5 1748  1890  1879  1827  1955  1800  1259   412\n",
       "6 1450  1352  1132   725   545   344   225   171"
      ]
     },
     "metadata": {},
     "output_type": "display_data"
    }
   ],
   "source": [
    "# 24이후 column 버린다\n",
    "data_2020<-read.csv('data/2020.csv',header = T,encoding = 'UTF-8')\n",
    "colnames(data_2020)<-c('날짜','호선','역번호','역명','구분','-06','06-07','07-08','08-09','09-10','10-11','11-12','12-13','13-14','14-15','15-16','16-17','17-18','18-19','19-20','20-21','21-22','22-23','23-24','24-')\n",
    "data_2020$`날짜`<-as.Date(data_2020$`날짜`,format='%Y.%m.%d')\n",
    "data_2020$`23-`<-data_2020$`23-24`+data_2020$`24-`\n",
    "data_2020<-data_2020[,-(24:25)]\n",
    "head(data_2020)"
   ]
  },
  {
   "cell_type": "code",
   "execution_count": 78,
   "metadata": {},
   "outputs": [
    {
     "data": {
      "text/html": [
       "<table class=\"dataframe\">\n",
       "<caption>A data.frame: 6 × 24</caption>\n",
       "<thead>\n",
       "\t<tr><th></th><th scope=col>날짜</th><th scope=col>호선</th><th scope=col>역번호</th><th scope=col>역명</th><th scope=col>구분</th><th scope=col>-06</th><th scope=col>06-07</th><th scope=col>07-08</th><th scope=col>08-09</th><th scope=col>09-10</th><th scope=col>⋯</th><th scope=col>14-15</th><th scope=col>15-16</th><th scope=col>16-17</th><th scope=col>17-18</th><th scope=col>18-19</th><th scope=col>19-20</th><th scope=col>20-21</th><th scope=col>21-22</th><th scope=col>22-23</th><th scope=col>23-</th></tr>\n",
       "\t<tr><th></th><th scope=col>&lt;date&gt;</th><th scope=col>&lt;chr&gt;</th><th scope=col>&lt;int&gt;</th><th scope=col>&lt;chr&gt;</th><th scope=col>&lt;chr&gt;</th><th scope=col>&lt;int&gt;</th><th scope=col>&lt;int&gt;</th><th scope=col>&lt;int&gt;</th><th scope=col>&lt;int&gt;</th><th scope=col>&lt;int&gt;</th><th scope=col>⋯</th><th scope=col>&lt;int&gt;</th><th scope=col>&lt;int&gt;</th><th scope=col>&lt;int&gt;</th><th scope=col>&lt;int&gt;</th><th scope=col>&lt;int&gt;</th><th scope=col>&lt;int&gt;</th><th scope=col>&lt;int&gt;</th><th scope=col>&lt;int&gt;</th><th scope=col>&lt;int&gt;</th><th scope=col>&lt;int&gt;</th></tr>\n",
       "</thead>\n",
       "<tbody>\n",
       "\t<tr><th scope=row>1</th><td>2021-01-01</td><td>1호선</td><td>150</td><td>서울역</td><td>승차</td><td>86</td><td>111</td><td>157</td><td>306</td><td>333</td><td>⋯</td><td>674</td><td>837</td><td>796</td><td>839</td><td>658</td><td>579</td><td>479</td><td>510</td><td>445</td><td>101</td></tr>\n",
       "\t<tr><th scope=row>2</th><td>2021-01-01</td><td>1호선</td><td>150</td><td>서울역</td><td>하차</td><td>85</td><td>355</td><td>438</td><td>592</td><td>841</td><td>⋯</td><td>791</td><td>781</td><td>710</td><td>626</td><td>437</td><td>425</td><td>354</td><td>307</td><td>134</td><td> 77</td></tr>\n",
       "\t<tr><th scope=row>3</th><td>2021-01-01</td><td>1호선</td><td>151</td><td>시청  </td><td>승차</td><td>43</td><td> 45</td><td> 75</td><td>111</td><td> 95</td><td>⋯</td><td>189</td><td>227</td><td>233</td><td>347</td><td>294</td><td>186</td><td>216</td><td>204</td><td>110</td><td> 29</td></tr>\n",
       "\t<tr><th scope=row>4</th><td>2021-01-01</td><td>1호선</td><td>151</td><td>시청  </td><td>하차</td><td>40</td><td>145</td><td>176</td><td>312</td><td>223</td><td>⋯</td><td>200</td><td>158</td><td>140</td><td>152</td><td>121</td><td> 57</td><td> 54</td><td> 64</td><td> 23</td><td> 17</td></tr>\n",
       "\t<tr><th scope=row>5</th><td>2021-01-01</td><td>1호선</td><td>152</td><td>종각  </td><td>승차</td><td>49</td><td> 59</td><td> 89</td><td>126</td><td>125</td><td>⋯</td><td>398</td><td>513</td><td>548</td><td>504</td><td>572</td><td>492</td><td>593</td><td>513</td><td>130</td><td> 31</td></tr>\n",
       "\t<tr><th scope=row>6</th><td>2021-01-01</td><td>1호선</td><td>152</td><td>종각  </td><td>하차</td><td>34</td><td>116</td><td>178</td><td>304</td><td>391</td><td>⋯</td><td>480</td><td>432</td><td>478</td><td>415</td><td>274</td><td>117</td><td> 75</td><td> 72</td><td> 29</td><td> 19</td></tr>\n",
       "</tbody>\n",
       "</table>\n"
      ],
      "text/latex": [
       "A data.frame: 6 × 24\n",
       "\\begin{tabular}{r|lllllllllllllllllllll}\n",
       "  & 날짜 & 호선 & 역번호 & 역명 & 구분 & -06 & 06-07 & 07-08 & 08-09 & 09-10 & ⋯ & 14-15 & 15-16 & 16-17 & 17-18 & 18-19 & 19-20 & 20-21 & 21-22 & 22-23 & 23-\\\\\n",
       "  & <date> & <chr> & <int> & <chr> & <chr> & <int> & <int> & <int> & <int> & <int> & ⋯ & <int> & <int> & <int> & <int> & <int> & <int> & <int> & <int> & <int> & <int>\\\\\n",
       "\\hline\n",
       "\t1 & 2021-01-01 & 1호선 & 150 & 서울역 & 승차 & 86 & 111 & 157 & 306 & 333 & ⋯ & 674 & 837 & 796 & 839 & 658 & 579 & 479 & 510 & 445 & 101\\\\\n",
       "\t2 & 2021-01-01 & 1호선 & 150 & 서울역 & 하차 & 85 & 355 & 438 & 592 & 841 & ⋯ & 791 & 781 & 710 & 626 & 437 & 425 & 354 & 307 & 134 &  77\\\\\n",
       "\t3 & 2021-01-01 & 1호선 & 151 & 시청   & 승차 & 43 &  45 &  75 & 111 &  95 & ⋯ & 189 & 227 & 233 & 347 & 294 & 186 & 216 & 204 & 110 &  29\\\\\n",
       "\t4 & 2021-01-01 & 1호선 & 151 & 시청   & 하차 & 40 & 145 & 176 & 312 & 223 & ⋯ & 200 & 158 & 140 & 152 & 121 &  57 &  54 &  64 &  23 &  17\\\\\n",
       "\t5 & 2021-01-01 & 1호선 & 152 & 종각   & 승차 & 49 &  59 &  89 & 126 & 125 & ⋯ & 398 & 513 & 548 & 504 & 572 & 492 & 593 & 513 & 130 &  31\\\\\n",
       "\t6 & 2021-01-01 & 1호선 & 152 & 종각   & 하차 & 34 & 116 & 178 & 304 & 391 & ⋯ & 480 & 432 & 478 & 415 & 274 & 117 &  75 &  72 &  29 &  19\\\\\n",
       "\\end{tabular}\n"
      ],
      "text/markdown": [
       "\n",
       "A data.frame: 6 × 24\n",
       "\n",
       "| <!--/--> | 날짜 &lt;date&gt; | 호선 &lt;chr&gt; | 역번호 &lt;int&gt; | 역명 &lt;chr&gt; | 구분 &lt;chr&gt; | -06 &lt;int&gt; | 06-07 &lt;int&gt; | 07-08 &lt;int&gt; | 08-09 &lt;int&gt; | 09-10 &lt;int&gt; | ⋯ ⋯ | 14-15 &lt;int&gt; | 15-16 &lt;int&gt; | 16-17 &lt;int&gt; | 17-18 &lt;int&gt; | 18-19 &lt;int&gt; | 19-20 &lt;int&gt; | 20-21 &lt;int&gt; | 21-22 &lt;int&gt; | 22-23 &lt;int&gt; | 23- &lt;int&gt; |\n",
       "|---|---|---|---|---|---|---|---|---|---|---|---|---|---|---|---|---|---|---|---|---|---|\n",
       "| 1 | 2021-01-01 | 1호선 | 150 | 서울역 | 승차 | 86 | 111 | 157 | 306 | 333 | ⋯ | 674 | 837 | 796 | 839 | 658 | 579 | 479 | 510 | 445 | 101 |\n",
       "| 2 | 2021-01-01 | 1호선 | 150 | 서울역 | 하차 | 85 | 355 | 438 | 592 | 841 | ⋯ | 791 | 781 | 710 | 626 | 437 | 425 | 354 | 307 | 134 |  77 |\n",
       "| 3 | 2021-01-01 | 1호선 | 151 | 시청   | 승차 | 43 |  45 |  75 | 111 |  95 | ⋯ | 189 | 227 | 233 | 347 | 294 | 186 | 216 | 204 | 110 |  29 |\n",
       "| 4 | 2021-01-01 | 1호선 | 151 | 시청   | 하차 | 40 | 145 | 176 | 312 | 223 | ⋯ | 200 | 158 | 140 | 152 | 121 |  57 |  54 |  64 |  23 |  17 |\n",
       "| 5 | 2021-01-01 | 1호선 | 152 | 종각   | 승차 | 49 |  59 |  89 | 126 | 125 | ⋯ | 398 | 513 | 548 | 504 | 572 | 492 | 593 | 513 | 130 |  31 |\n",
       "| 6 | 2021-01-01 | 1호선 | 152 | 종각   | 하차 | 34 | 116 | 178 | 304 | 391 | ⋯ | 480 | 432 | 478 | 415 | 274 | 117 |  75 |  72 |  29 |  19 |\n",
       "\n"
      ],
      "text/plain": [
       "  날짜       호선  역번호 역명   구분 -06 06-07 07-08 08-09 09-10 ⋯ 14-15 15-16\n",
       "1 2021-01-01 1호선 150    서울역 승차 86  111   157   306   333   ⋯ 674   837  \n",
       "2 2021-01-01 1호선 150    서울역 하차 85  355   438   592   841   ⋯ 791   781  \n",
       "3 2021-01-01 1호선 151    시청   승차 43   45    75   111    95   ⋯ 189   227  \n",
       "4 2021-01-01 1호선 151    시청   하차 40  145   176   312   223   ⋯ 200   158  \n",
       "5 2021-01-01 1호선 152    종각   승차 49   59    89   126   125   ⋯ 398   513  \n",
       "6 2021-01-01 1호선 152    종각   하차 34  116   178   304   391   ⋯ 480   432  \n",
       "  16-17 17-18 18-19 19-20 20-21 21-22 22-23 23-\n",
       "1 796   839   658   579   479   510   445   101\n",
       "2 710   626   437   425   354   307   134    77\n",
       "3 233   347   294   186   216   204   110    29\n",
       "4 140   152   121    57    54    64    23    17\n",
       "5 548   504   572   492   593   513   130    31\n",
       "6 478   415   274   117    75    72    29    19"
      ]
     },
     "metadata": {},
     "output_type": "display_data"
    }
   ],
   "source": [
    "data_2021<-read.csv('data/2021.csv',header = T,encoding = 'UFF-8')\n",
    "colnames(data)<-c('날짜','호선','역번호','역명','구분','-06','06-07','07-08','08-09','09-10','10-11','11-12','12-13','13-14','14-15','15-16','16-17','17-18','18-19','19-20','20-21','21-22','22-23','23-','요일')\n",
    "data_2021$`날짜`<-as.Date(data_2021$`날짜`,format='%Y.%m.%d')\n",
    "head(data_2021)"
   ]
  },
  {
   "cell_type": "code",
   "execution_count": 90,
   "metadata": {},
   "outputs": [
    {
     "data": {
      "text/html": [
       "<table class=\"dataframe\">\n",
       "<caption>A data.frame: 6 × 25</caption>\n",
       "<thead>\n",
       "\t<tr><th></th><th scope=col>날짜</th><th scope=col>호선</th><th scope=col>역번호</th><th scope=col>역명</th><th scope=col>구분</th><th scope=col>-06</th><th scope=col>06-07</th><th scope=col>07-08</th><th scope=col>08-09</th><th scope=col>09-10</th><th scope=col>⋯</th><th scope=col>15-16</th><th scope=col>16-17</th><th scope=col>17-18</th><th scope=col>18-19</th><th scope=col>19-20</th><th scope=col>20-21</th><th scope=col>21-22</th><th scope=col>22-23</th><th scope=col>23-</th><th scope=col>요일</th></tr>\n",
       "\t<tr><th></th><th scope=col>&lt;date&gt;</th><th scope=col>&lt;chr&gt;</th><th scope=col>&lt;int&gt;</th><th scope=col>&lt;chr&gt;</th><th scope=col>&lt;chr&gt;</th><th scope=col>&lt;int&gt;</th><th scope=col>&lt;int&gt;</th><th scope=col>&lt;int&gt;</th><th scope=col>&lt;int&gt;</th><th scope=col>&lt;int&gt;</th><th scope=col>⋯</th><th scope=col>&lt;int&gt;</th><th scope=col>&lt;int&gt;</th><th scope=col>&lt;int&gt;</th><th scope=col>&lt;int&gt;</th><th scope=col>&lt;int&gt;</th><th scope=col>&lt;int&gt;</th><th scope=col>&lt;int&gt;</th><th scope=col>&lt;int&gt;</th><th scope=col>&lt;int&gt;</th><th scope=col>&lt;chr&gt;</th></tr>\n",
       "</thead>\n",
       "<tbody>\n",
       "\t<tr><th scope=row>1</th><td>2019-01-01</td><td>1호선</td><td>150</td><td>서울역</td><td>승차</td><td>348</td><td>321</td><td>348</td><td>741</td><td> 940</td><td>⋯</td><td>3370</td><td>3226</td><td>3447</td><td>3277</td><td>2898</td><td>2590</td><td>3004</td><td>2234</td><td>1008</td><td>화요일</td></tr>\n",
       "\t<tr><th scope=row>2</th><td>2019-01-01</td><td>1호선</td><td>150</td><td>서울역</td><td>하차</td><td>222</td><td>821</td><td>808</td><td>961</td><td>1472</td><td>⋯</td><td>2743</td><td>2491</td><td>2572</td><td>2060</td><td>1991</td><td>1683</td><td>1217</td><td> 764</td><td> 605</td><td>화요일</td></tr>\n",
       "\t<tr><th scope=row>3</th><td>2019-01-01</td><td>1호선</td><td>151</td><td>시청  </td><td>승차</td><td> 87</td><td> 98</td><td>143</td><td>206</td><td> 280</td><td>⋯</td><td> 946</td><td> 958</td><td>1062</td><td>1146</td><td>1119</td><td> 992</td><td> 904</td><td> 570</td><td> 217</td><td>화요일</td></tr>\n",
       "\t<tr><th scope=row>4</th><td>2019-01-01</td><td>1호선</td><td>151</td><td>시청  </td><td>하차</td><td> 48</td><td>237</td><td>323</td><td>571</td><td> 577</td><td>⋯</td><td> 964</td><td> 733</td><td> 746</td><td> 606</td><td> 374</td><td> 311</td><td> 268</td><td> 177</td><td> 201</td><td>화요일</td></tr>\n",
       "\t<tr><th scope=row>5</th><td>2019-01-01</td><td>1호선</td><td>152</td><td>종각  </td><td>승차</td><td>669</td><td>318</td><td>217</td><td>203</td><td> 333</td><td>⋯</td><td>1843</td><td>1870</td><td>2129</td><td>2024</td><td>1806</td><td>1796</td><td>1780</td><td>1296</td><td> 528</td><td>화요일</td></tr>\n",
       "\t<tr><th scope=row>6</th><td>2019-01-01</td><td>1호선</td><td>152</td><td>종각  </td><td>하차</td><td> 68</td><td>179</td><td>293</td><td>546</td><td> 926</td><td>⋯</td><td>1654</td><td>1379</td><td>1420</td><td>1050</td><td> 685</td><td> 431</td><td> 315</td><td> 237</td><td> 201</td><td>화요일</td></tr>\n",
       "</tbody>\n",
       "</table>\n"
      ],
      "text/latex": [
       "A data.frame: 6 × 25\n",
       "\\begin{tabular}{r|lllllllllllllllllllll}\n",
       "  & 날짜 & 호선 & 역번호 & 역명 & 구분 & -06 & 06-07 & 07-08 & 08-09 & 09-10 & ⋯ & 15-16 & 16-17 & 17-18 & 18-19 & 19-20 & 20-21 & 21-22 & 22-23 & 23- & 요일\\\\\n",
       "  & <date> & <chr> & <int> & <chr> & <chr> & <int> & <int> & <int> & <int> & <int> & ⋯ & <int> & <int> & <int> & <int> & <int> & <int> & <int> & <int> & <int> & <chr>\\\\\n",
       "\\hline\n",
       "\t1 & 2019-01-01 & 1호선 & 150 & 서울역 & 승차 & 348 & 321 & 348 & 741 &  940 & ⋯ & 3370 & 3226 & 3447 & 3277 & 2898 & 2590 & 3004 & 2234 & 1008 & 화요일\\\\\n",
       "\t2 & 2019-01-01 & 1호선 & 150 & 서울역 & 하차 & 222 & 821 & 808 & 961 & 1472 & ⋯ & 2743 & 2491 & 2572 & 2060 & 1991 & 1683 & 1217 &  764 &  605 & 화요일\\\\\n",
       "\t3 & 2019-01-01 & 1호선 & 151 & 시청   & 승차 &  87 &  98 & 143 & 206 &  280 & ⋯ &  946 &  958 & 1062 & 1146 & 1119 &  992 &  904 &  570 &  217 & 화요일\\\\\n",
       "\t4 & 2019-01-01 & 1호선 & 151 & 시청   & 하차 &  48 & 237 & 323 & 571 &  577 & ⋯ &  964 &  733 &  746 &  606 &  374 &  311 &  268 &  177 &  201 & 화요일\\\\\n",
       "\t5 & 2019-01-01 & 1호선 & 152 & 종각   & 승차 & 669 & 318 & 217 & 203 &  333 & ⋯ & 1843 & 1870 & 2129 & 2024 & 1806 & 1796 & 1780 & 1296 &  528 & 화요일\\\\\n",
       "\t6 & 2019-01-01 & 1호선 & 152 & 종각   & 하차 &  68 & 179 & 293 & 546 &  926 & ⋯ & 1654 & 1379 & 1420 & 1050 &  685 &  431 &  315 &  237 &  201 & 화요일\\\\\n",
       "\\end{tabular}\n"
      ],
      "text/markdown": [
       "\n",
       "A data.frame: 6 × 25\n",
       "\n",
       "| <!--/--> | 날짜 &lt;date&gt; | 호선 &lt;chr&gt; | 역번호 &lt;int&gt; | 역명 &lt;chr&gt; | 구분 &lt;chr&gt; | -06 &lt;int&gt; | 06-07 &lt;int&gt; | 07-08 &lt;int&gt; | 08-09 &lt;int&gt; | 09-10 &lt;int&gt; | ⋯ ⋯ | 15-16 &lt;int&gt; | 16-17 &lt;int&gt; | 17-18 &lt;int&gt; | 18-19 &lt;int&gt; | 19-20 &lt;int&gt; | 20-21 &lt;int&gt; | 21-22 &lt;int&gt; | 22-23 &lt;int&gt; | 23- &lt;int&gt; | 요일 &lt;chr&gt; |\n",
       "|---|---|---|---|---|---|---|---|---|---|---|---|---|---|---|---|---|---|---|---|---|---|\n",
       "| 1 | 2019-01-01 | 1호선 | 150 | 서울역 | 승차 | 348 | 321 | 348 | 741 |  940 | ⋯ | 3370 | 3226 | 3447 | 3277 | 2898 | 2590 | 3004 | 2234 | 1008 | 화요일 |\n",
       "| 2 | 2019-01-01 | 1호선 | 150 | 서울역 | 하차 | 222 | 821 | 808 | 961 | 1472 | ⋯ | 2743 | 2491 | 2572 | 2060 | 1991 | 1683 | 1217 |  764 |  605 | 화요일 |\n",
       "| 3 | 2019-01-01 | 1호선 | 151 | 시청   | 승차 |  87 |  98 | 143 | 206 |  280 | ⋯ |  946 |  958 | 1062 | 1146 | 1119 |  992 |  904 |  570 |  217 | 화요일 |\n",
       "| 4 | 2019-01-01 | 1호선 | 151 | 시청   | 하차 |  48 | 237 | 323 | 571 |  577 | ⋯ |  964 |  733 |  746 |  606 |  374 |  311 |  268 |  177 |  201 | 화요일 |\n",
       "| 5 | 2019-01-01 | 1호선 | 152 | 종각   | 승차 | 669 | 318 | 217 | 203 |  333 | ⋯ | 1843 | 1870 | 2129 | 2024 | 1806 | 1796 | 1780 | 1296 |  528 | 화요일 |\n",
       "| 6 | 2019-01-01 | 1호선 | 152 | 종각   | 하차 |  68 | 179 | 293 | 546 |  926 | ⋯ | 1654 | 1379 | 1420 | 1050 |  685 |  431 |  315 |  237 |  201 | 화요일 |\n",
       "\n"
      ],
      "text/plain": [
       "  날짜       호선  역번호 역명   구분 -06 06-07 07-08 08-09 09-10 ⋯ 15-16 16-17\n",
       "1 2019-01-01 1호선 150    서울역 승차 348 321   348   741    940  ⋯ 3370  3226 \n",
       "2 2019-01-01 1호선 150    서울역 하차 222 821   808   961   1472  ⋯ 2743  2491 \n",
       "3 2019-01-01 1호선 151    시청   승차  87  98   143   206    280  ⋯  946   958 \n",
       "4 2019-01-01 1호선 151    시청   하차  48 237   323   571    577  ⋯  964   733 \n",
       "5 2019-01-01 1호선 152    종각   승차 669 318   217   203    333  ⋯ 1843  1870 \n",
       "6 2019-01-01 1호선 152    종각   하차  68 179   293   546    926  ⋯ 1654  1379 \n",
       "  17-18 18-19 19-20 20-21 21-22 22-23 23-  요일  \n",
       "1 3447  3277  2898  2590  3004  2234  1008 화요일\n",
       "2 2572  2060  1991  1683  1217   764   605 화요일\n",
       "3 1062  1146  1119   992   904   570   217 화요일\n",
       "4  746   606   374   311   268   177   201 화요일\n",
       "5 2129  2024  1806  1796  1780  1296   528 화요일\n",
       "6 1420  1050   685   431   315   237   201 화요일"
      ]
     },
     "metadata": {},
     "output_type": "display_data"
    }
   ],
   "source": [
    "data_all <- rbind(data_2019,data_2020,data_2021)\n",
    "data_all$요일 <- weekdays(data_all$날짜)\n",
    "head(data_all)"
   ]
  },
  {
   "cell_type": "code",
   "execution_count": 137,
   "metadata": {},
   "outputs": [],
   "source": [
    "write.csv(data_all,'data/data.csv',row.names=F)"
   ]
  },
  {
   "cell_type": "code",
   "execution_count": null,
   "metadata": {},
   "outputs": [],
   "source": []
  },
  {
   "cell_type": "code",
   "execution_count": null,
   "metadata": {},
   "outputs": [],
   "source": []
  },
  {
   "cell_type": "code",
   "execution_count": null,
   "metadata": {},
   "outputs": [],
   "source": []
  },
  {
   "cell_type": "code",
   "execution_count": null,
   "metadata": {},
   "outputs": [],
   "source": []
  },
  {
   "cell_type": "code",
   "execution_count": 8,
   "metadata": {},
   "outputs": [
    {
     "name": "stdout",
     "output_type": "stream",
     "text": [
      "'data.frame':\t487334 obs. of  26 variables:\n",
      " $ 날짜  : chr  \"2019-01-01\" \"2019-01-01\" \"2019-01-01\" \"2019-01-01\" ...\n",
      " $ 호선  : chr  \"1호선\" \"1호선\" \"1호선\" \"1호선\" ...\n",
      " $ 역번호: int  150 150 151 151 152 152 153 153 154 154 ...\n",
      " $ 역명  : chr  \"서울역\" \"서울역\" \"시청\" \"시청\" ...\n",
      " $ 구분  : chr  \"승차\" \"하차\" \"승차\" \"하차\" ...\n",
      " $ -06   : int  348 222 87 48 669 68 227 38 48 25 ...\n",
      " $ 06-07 : int  321 821 98 237 318 179 198 180 80 102 ...\n",
      " $ 07-08 : int  348 808 143 323 217 293 148 261 67 140 ...\n",
      " $ 08-09 : int  741 961 206 571 203 546 205 424 138 296 ...\n",
      " $ 09-10 : int  940 1472 280 577 333 926 347 703 207 509 ...\n",
      " $ 10-11 : int  1401 1737 395 648 365 945 479 961 362 763 ...\n",
      " $ 11-12 : int  2166 1917 500 744 666 1334 933 1595 686 974 ...\n",
      " $ 12-13 : int  2844 2316 672 960 802 1566 1184 1977 991 1717 ...\n",
      " $ 13-14 : int  3055 2539 673 996 1103 1750 1228 2040 1364 1875 ...\n",
      " $ 14-15 : int  2341 2360 868 875 1294 1771 1636 2038 1537 1773 ...\n",
      " $ 15-16 : int  3370 2743 946 964 1843 1654 1604 1447 1449 1413 ...\n",
      " $ 16-17 : int  3226 2491 958 733 1870 1379 1948 1209 1409 1163 ...\n",
      " $ 17-18 : int  3447 2572 1062 746 2129 1420 1850 884 1553 946 ...\n",
      " $ 18-19 : int  3277 2060 1146 606 2024 1050 1529 722 1121 623 ...\n",
      " $ 19-20 : int  2898 1991 1119 374 1806 685 1292 487 843 345 ...\n",
      " $ 20-21 : int  2590 1683 992 311 1796 431 1149 262 841 246 ...\n",
      " $ 21-22 : int  3004 1217 904 268 1780 315 1004 249 546 209 ...\n",
      " $ 22-23 : int  2234 764 570 177 1296 237 724 209 313 113 ...\n",
      " $ 23-   : int  1008 605 217 201 528 201 281 230 90 116 ...\n",
      " $ 요일  : chr  \"화요일\" \"화요일\" \"화요일\" \"화요일\" ...\n",
      " $ 합계  : int  39559 31279 11836 10359 21042 16750 17966 15916 13645 13348 ...\n"
     ]
    },
    {
     "data": {
      "text/html": [
       "<table class=\"dataframe\">\n",
       "<caption>A data.frame: 17640 × 26</caption>\n",
       "<thead>\n",
       "\t<tr><th></th><th scope=col>날짜</th><th scope=col>호선</th><th scope=col>역번호</th><th scope=col>역명</th><th scope=col>구분</th><th scope=col>-06</th><th scope=col>06-07</th><th scope=col>07-08</th><th scope=col>08-09</th><th scope=col>09-10</th><th scope=col>⋯</th><th scope=col>16-17</th><th scope=col>17-18</th><th scope=col>18-19</th><th scope=col>19-20</th><th scope=col>20-21</th><th scope=col>21-22</th><th scope=col>22-23</th><th scope=col>23-</th><th scope=col>요일</th><th scope=col>합계</th></tr>\n",
       "\t<tr><th></th><th scope=col>&lt;chr&gt;</th><th scope=col>&lt;chr&gt;</th><th scope=col>&lt;int&gt;</th><th scope=col>&lt;chr&gt;</th><th scope=col>&lt;chr&gt;</th><th scope=col>&lt;int&gt;</th><th scope=col>&lt;int&gt;</th><th scope=col>&lt;int&gt;</th><th scope=col>&lt;int&gt;</th><th scope=col>&lt;int&gt;</th><th scope=col>⋯</th><th scope=col>&lt;int&gt;</th><th scope=col>&lt;int&gt;</th><th scope=col>&lt;int&gt;</th><th scope=col>&lt;int&gt;</th><th scope=col>&lt;int&gt;</th><th scope=col>&lt;int&gt;</th><th scope=col>&lt;int&gt;</th><th scope=col>&lt;int&gt;</th><th scope=col>&lt;chr&gt;</th><th scope=col>&lt;int&gt;</th></tr>\n",
       "</thead>\n",
       "<tbody>\n",
       "\t<tr><th scope=row>1</th><td>2019-01-01</td><td>1호선</td><td>150</td><td>서울역                </td><td>승차</td><td>348</td><td> 321</td><td> 348</td><td>  741</td><td> 940</td><td>⋯</td><td>3226</td><td>3447</td><td> 3277</td><td>2898</td><td>2590</td><td>3004</td><td>2234</td><td>1008</td><td>화요일</td><td>39559</td></tr>\n",
       "\t<tr><th scope=row>2</th><td>2019-01-01</td><td>1호선</td><td>150</td><td>서울역                </td><td>하차</td><td>222</td><td> 821</td><td> 808</td><td>  961</td><td>1472</td><td>⋯</td><td>2491</td><td>2572</td><td> 2060</td><td>1991</td><td>1683</td><td>1217</td><td> 764</td><td> 605</td><td>화요일</td><td>31279</td></tr>\n",
       "\t<tr><th scope=row>3</th><td>2019-01-01</td><td>1호선</td><td>151</td><td>시청                  </td><td>승차</td><td> 87</td><td>  98</td><td> 143</td><td>  206</td><td> 280</td><td>⋯</td><td> 958</td><td>1062</td><td> 1146</td><td>1119</td><td> 992</td><td> 904</td><td> 570</td><td> 217</td><td>화요일</td><td>11836</td></tr>\n",
       "\t<tr><th scope=row>4</th><td>2019-01-01</td><td>1호선</td><td>151</td><td>시청                  </td><td>하차</td><td> 48</td><td> 237</td><td> 323</td><td>  571</td><td> 577</td><td>⋯</td><td> 733</td><td> 746</td><td>  606</td><td> 374</td><td> 311</td><td> 268</td><td> 177</td><td> 201</td><td>화요일</td><td>10359</td></tr>\n",
       "\t<tr><th scope=row>5</th><td>2019-01-01</td><td>1호선</td><td>152</td><td>종각                  </td><td>승차</td><td>669</td><td> 318</td><td> 217</td><td>  203</td><td> 333</td><td>⋯</td><td>1870</td><td>2129</td><td> 2024</td><td>1806</td><td>1796</td><td>1780</td><td>1296</td><td> 528</td><td>화요일</td><td>21042</td></tr>\n",
       "\t<tr><th scope=row>6</th><td>2019-01-01</td><td>1호선</td><td>152</td><td>종각                  </td><td>하차</td><td> 68</td><td> 179</td><td> 293</td><td>  546</td><td> 926</td><td>⋯</td><td>1379</td><td>1420</td><td> 1050</td><td> 685</td><td> 431</td><td> 315</td><td> 237</td><td> 201</td><td>화요일</td><td>16750</td></tr>\n",
       "\t<tr><th scope=row>7</th><td>2019-01-01</td><td>1호선</td><td>153</td><td>종로3가               </td><td>승차</td><td>227</td><td> 198</td><td> 148</td><td>  205</td><td> 347</td><td>⋯</td><td>1948</td><td>1850</td><td> 1529</td><td>1292</td><td>1149</td><td>1004</td><td> 724</td><td> 281</td><td>화요일</td><td>17966</td></tr>\n",
       "\t<tr><th scope=row>8</th><td>2019-01-01</td><td>1호선</td><td>153</td><td>종로3가               </td><td>하차</td><td> 38</td><td> 180</td><td> 261</td><td>  424</td><td> 703</td><td>⋯</td><td>1209</td><td> 884</td><td>  722</td><td> 487</td><td> 262</td><td> 249</td><td> 209</td><td> 230</td><td>화요일</td><td>15916</td></tr>\n",
       "\t<tr><th scope=row>9</th><td>2019-01-01</td><td>1호선</td><td>154</td><td>종로5가               </td><td>승차</td><td> 48</td><td>  80</td><td>  67</td><td>  138</td><td> 207</td><td>⋯</td><td>1409</td><td>1553</td><td> 1121</td><td> 843</td><td> 841</td><td> 546</td><td> 313</td><td>  90</td><td>화요일</td><td>13645</td></tr>\n",
       "\t<tr><th scope=row>10</th><td>2019-01-01</td><td>1호선</td><td>154</td><td>종로5가               </td><td>하차</td><td> 25</td><td> 102</td><td> 140</td><td>  296</td><td> 509</td><td>⋯</td><td>1163</td><td> 946</td><td>  623</td><td> 345</td><td> 246</td><td> 209</td><td> 113</td><td> 116</td><td>화요일</td><td>13348</td></tr>\n",
       "\t<tr><th scope=row>11</th><td>2019-01-01</td><td>1호선</td><td>155</td><td>동대문                </td><td>승차</td><td>138</td><td> 117</td><td> 159</td><td>  259</td><td> 429</td><td>⋯</td><td> 859</td><td> 894</td><td>  667</td><td> 468</td><td> 348</td><td> 290</td><td> 214</td><td> 147</td><td>화요일</td><td> 9392</td></tr>\n",
       "\t<tr><th scope=row>12</th><td>2019-01-01</td><td>1호선</td><td>155</td><td>동대문                </td><td>하차</td><td> 36</td><td> 109</td><td> 109</td><td>  187</td><td> 310</td><td>⋯</td><td> 853</td><td> 732</td><td>  666</td><td> 507</td><td> 482</td><td> 437</td><td> 372</td><td> 337</td><td>화요일</td><td>10522</td></tr>\n",
       "\t<tr><th scope=row>13</th><td>2019-01-01</td><td>1호선</td><td>156</td><td>신설동                </td><td>승차</td><td>143</td><td> 144</td><td> 155</td><td>  217</td><td> 349</td><td>⋯</td><td> 524</td><td> 585</td><td>  472</td><td> 331</td><td> 246</td><td> 228</td><td> 158</td><td>  89</td><td>화요일</td><td> 6898</td></tr>\n",
       "\t<tr><th scope=row>14</th><td>2019-01-01</td><td>1호선</td><td>156</td><td>신설동                </td><td>하차</td><td> 37</td><td> 126</td><td> 131</td><td>  152</td><td> 241</td><td>⋯</td><td> 514</td><td> 566</td><td>  502</td><td> 389</td><td> 427</td><td> 489</td><td> 387</td><td> 360</td><td>화요일</td><td> 7022</td></tr>\n",
       "\t<tr><th scope=row>15</th><td>2019-01-01</td><td>1호선</td><td>157</td><td>제기동                </td><td>승차</td><td>272</td><td> 168</td><td> 153</td><td>  220</td><td> 324</td><td>⋯</td><td>1245</td><td> 924</td><td>  651</td><td> 514</td><td> 339</td><td> 232</td><td> 117</td><td>  49</td><td>화요일</td><td>10269</td></tr>\n",
       "\t<tr><th scope=row>16</th><td>2019-01-01</td><td>1호선</td><td>157</td><td>제기동                </td><td>하차</td><td> 40</td><td> 118</td><td> 155</td><td>  180</td><td> 307</td><td>⋯</td><td> 633</td><td> 627</td><td>  417</td><td> 338</td><td> 322</td><td> 281</td><td> 299</td><td> 233</td><td>화요일</td><td>10268</td></tr>\n",
       "\t<tr><th scope=row>17</th><td>2019-01-01</td><td>1호선</td><td>158</td><td>청량리(서울시립대입구)</td><td>승차</td><td>211</td><td> 212</td><td> 253</td><td>  398</td><td> 607</td><td>⋯</td><td>1707</td><td>1415</td><td> 1029</td><td> 770</td><td> 675</td><td> 486</td><td> 309</td><td> 177</td><td>화요일</td><td>15064</td></tr>\n",
       "\t<tr><th scope=row>18</th><td>2019-01-01</td><td>1호선</td><td>158</td><td>청량리(서울시립대입구)</td><td>하차</td><td> 84</td><td> 235</td><td> 217</td><td>  308</td><td> 527</td><td>⋯</td><td>1212</td><td>1129</td><td>  907</td><td> 669</td><td> 598</td><td> 515</td><td> 651</td><td> 488</td><td>화요일</td><td>15491</td></tr>\n",
       "\t<tr><th scope=row>19</th><td>2019-01-01</td><td>1호선</td><td>159</td><td>동묘앞                </td><td>승차</td><td> 65</td><td>  51</td><td>  46</td><td>   87</td><td> 182</td><td>⋯</td><td>1150</td><td> 974</td><td>  406</td><td> 224</td><td> 152</td><td> 107</td><td>  96</td><td>  49</td><td>화요일</td><td> 8114</td></tr>\n",
       "\t<tr><th scope=row>20</th><td>2019-01-01</td><td>1호선</td><td>159</td><td>동묘앞                </td><td>하차</td><td> 24</td><td>  58</td><td>  90</td><td>  159</td><td> 230</td><td>⋯</td><td> 605</td><td> 389</td><td>  233</td><td> 172</td><td> 152</td><td> 156</td><td> 202</td><td> 292</td><td>화요일</td><td> 8593</td></tr>\n",
       "\t<tr><th scope=row>551</th><td>2019-01-02</td><td>1호선</td><td>150</td><td>서울역                </td><td>승차</td><td>353</td><td> 502</td><td>1764</td><td> 3650</td><td>2165</td><td>⋯</td><td>3758</td><td>5373</td><td> 9855</td><td>5040</td><td>3090</td><td>3108</td><td>1936</td><td>1117</td><td>수요일</td><td>58592</td></tr>\n",
       "\t<tr><th scope=row>552</th><td>2019-01-02</td><td>1호선</td><td>150</td><td>서울역                </td><td>하차</td><td>380</td><td>2023</td><td>4280</td><td>10071</td><td>5905</td><td>⋯</td><td>2553</td><td>2618</td><td> 3238</td><td>2249</td><td>1531</td><td>1266</td><td> 881</td><td> 677</td><td>수요일</td><td>52933</td></tr>\n",
       "\t<tr><th scope=row>553</th><td>2019-01-02</td><td>1호선</td><td>151</td><td>시청                  </td><td>승차</td><td> 78</td><td> 133</td><td> 242</td><td>  387</td><td> 512</td><td>⋯</td><td>1640</td><td>2678</td><td> 7492</td><td>3084</td><td>2049</td><td>1982</td><td>1263</td><td> 427</td><td>수요일</td><td>27872</td></tr>\n",
       "\t<tr><th scope=row>554</th><td>2019-01-02</td><td>1호선</td><td>151</td><td>시청                  </td><td>하차</td><td>166</td><td> 760</td><td>3293</td><td> 9345</td><td>3252</td><td>⋯</td><td> 853</td><td> 768</td><td>  840</td><td> 491</td><td> 278</td><td> 293</td><td> 202</td><td> 183</td><td>수요일</td><td>27614</td></tr>\n",
       "\t<tr><th scope=row>555</th><td>2019-01-02</td><td>1호선</td><td>152</td><td>종각                  </td><td>승차</td><td> 95</td><td> 142</td><td> 228</td><td>  410</td><td> 546</td><td>⋯</td><td>3079</td><td>5096</td><td>11093</td><td>5368</td><td>4306</td><td>4499</td><td>3365</td><td>1714</td><td>수요일</td><td>50039</td></tr>\n",
       "\t<tr><th scope=row>556</th><td>2019-01-02</td><td>1호선</td><td>152</td><td>종각                  </td><td>하차</td><td>207</td><td>1079</td><td>5126</td><td>12946</td><td>6478</td><td>⋯</td><td>1579</td><td>1809</td><td> 2431</td><td>1529</td><td> 653</td><td> 351</td><td> 253</td><td> 220</td><td>수요일</td><td>47842</td></tr>\n",
       "\t<tr><th scope=row>557</th><td>2019-01-02</td><td>1호선</td><td>153</td><td>종로3가               </td><td>승차</td><td>152</td><td> 121</td><td> 215</td><td>  304</td><td> 475</td><td>⋯</td><td>3403</td><td>3519</td><td> 4690</td><td>3290</td><td>2142</td><td>2539</td><td>1749</td><td> 748</td><td>수요일</td><td>35803</td></tr>\n",
       "\t<tr><th scope=row>558</th><td>2019-01-02</td><td>1호선</td><td>153</td><td>종로3가               </td><td>하차</td><td> 87</td><td> 477</td><td>1194</td><td> 3572</td><td>4002</td><td>⋯</td><td>1757</td><td>1524</td><td> 2004</td><td>1143</td><td> 370</td><td> 322</td><td> 238</td><td> 237</td><td>수요일</td><td>33906</td></tr>\n",
       "\t<tr><th scope=row>559</th><td>2019-01-02</td><td>1호선</td><td>154</td><td>종로5가               </td><td>승차</td><td> 53</td><td>  85</td><td> 206</td><td>  289</td><td> 459</td><td>⋯</td><td>2369</td><td>3199</td><td> 5213</td><td>2571</td><td>1607</td><td>1295</td><td> 921</td><td> 420</td><td>수요일</td><td>28271</td></tr>\n",
       "\t<tr><th scope=row>560</th><td>2019-01-02</td><td>1호선</td><td>154</td><td>종로5가               </td><td>하차</td><td>145</td><td> 656</td><td>1691</td><td> 5603</td><td>2906</td><td>⋯</td><td>1449</td><td>1201</td><td> 1161</td><td> 697</td><td> 343</td><td> 245</td><td> 135</td><td> 150</td><td>수요일</td><td>28418</td></tr>\n",
       "\t<tr><th scope=row>⋮</th><td>⋮</td><td>⋮</td><td>⋮</td><td>⋮</td><td>⋮</td><td>⋮</td><td>⋮</td><td>⋮</td><td>⋮</td><td>⋮</td><td>⋱</td><td>⋮</td><td>⋮</td><td>⋮</td><td>⋮</td><td>⋮</td><td>⋮</td><td>⋮</td><td>⋮</td><td>⋮</td><td>⋮</td></tr>\n",
       "\t<tr><th scope=row>486223</th><td>2021-05-30</td><td>1호선</td><td>155</td><td>동대문                </td><td>승차</td><td>122</td><td> 109</td><td> 140</td><td> 289</td><td> 403</td><td>⋯</td><td> 878</td><td> 725</td><td> 604</td><td> 526</td><td> 327</td><td> 309</td><td> 207</td><td> 47</td><td>일요일</td><td> 9615</td></tr>\n",
       "\t<tr><th scope=row>486224</th><td>2021-05-30</td><td>1호선</td><td>155</td><td>동대문                </td><td>하차</td><td> 13</td><td>  99</td><td> 140</td><td> 287</td><td> 527</td><td>⋯</td><td> 584</td><td> 526</td><td> 394</td><td> 536</td><td> 413</td><td> 269</td><td> 290</td><td>334</td><td>일요일</td><td> 9994</td></tr>\n",
       "\t<tr><th scope=row>486225</th><td>2021-05-30</td><td>1호선</td><td>156</td><td>신설동                </td><td>승차</td><td>125</td><td> 132</td><td> 156</td><td> 250</td><td> 365</td><td>⋯</td><td> 661</td><td> 642</td><td> 493</td><td> 300</td><td> 197</td><td> 173</td><td> 138</td><td> 34</td><td>일요일</td><td> 7162</td></tr>\n",
       "\t<tr><th scope=row>486226</th><td>2021-05-30</td><td>1호선</td><td>156</td><td>신설동                </td><td>하차</td><td> 51</td><td> 131</td><td> 161</td><td> 251</td><td> 356</td><td>⋯</td><td> 477</td><td> 484</td><td> 368</td><td> 348</td><td> 320</td><td> 269</td><td> 290</td><td>177</td><td>일요일</td><td> 7286</td></tr>\n",
       "\t<tr><th scope=row>486227</th><td>2021-05-30</td><td>1호선</td><td>157</td><td>제기동                </td><td>승차</td><td> 80</td><td> 130</td><td> 184</td><td> 305</td><td> 490</td><td>⋯</td><td> 906</td><td> 724</td><td> 503</td><td> 282</td><td> 183</td><td> 141</td><td> 112</td><td> 43</td><td>일요일</td><td> 9630</td></tr>\n",
       "\t<tr><th scope=row>486228</th><td>2021-05-30</td><td>1호선</td><td>157</td><td>제기동                </td><td>하차</td><td> 30</td><td> 128</td><td> 164</td><td> 295</td><td> 517</td><td>⋯</td><td> 806</td><td> 626</td><td> 483</td><td> 405</td><td> 316</td><td> 276</td><td> 328</td><td>139</td><td>일요일</td><td>10343</td></tr>\n",
       "\t<tr><th scope=row>486229</th><td>2021-05-30</td><td>1호선</td><td>158</td><td>청량리(서울시립대입구)</td><td>승차</td><td>153</td><td> 155</td><td> 235</td><td> 461</td><td> 627</td><td>⋯</td><td>1128</td><td> 983</td><td> 988</td><td> 607</td><td> 427</td><td> 342</td><td> 205</td><td> 63</td><td>일요일</td><td>12847</td></tr>\n",
       "\t<tr><th scope=row>486230</th><td>2021-05-30</td><td>1호선</td><td>158</td><td>청량리(서울시립대입구)</td><td>하차</td><td> 50</td><td> 209</td><td> 234</td><td> 395</td><td> 623</td><td>⋯</td><td>1076</td><td> 942</td><td> 784</td><td> 586</td><td> 472</td><td> 411</td><td> 365</td><td>198</td><td>일요일</td><td>12991</td></tr>\n",
       "\t<tr><th scope=row>486231</th><td>2021-05-30</td><td>1호선</td><td>159</td><td>동묘앞                </td><td>승차</td><td> 59</td><td>  60</td><td>  59</td><td> 142</td><td> 254</td><td>⋯</td><td>1764</td><td>1360</td><td>1067</td><td> 409</td><td> 146</td><td> 113</td><td>  56</td><td> 27</td><td>일요일</td><td>13440</td></tr>\n",
       "\t<tr><th scope=row>486232</th><td>2021-05-30</td><td>1호선</td><td>159</td><td>동묘앞                </td><td>하차</td><td> 38</td><td> 120</td><td> 164</td><td> 348</td><td> 739</td><td>⋯</td><td> 820</td><td> 513</td><td> 262</td><td> 142</td><td> 135</td><td> 118</td><td> 144</td><td> 88</td><td>일요일</td><td>13544</td></tr>\n",
       "\t<tr><th scope=row>486773</th><td>2021-05-31</td><td>1호선</td><td>150</td><td>서울역                </td><td>승차</td><td>347</td><td> 493</td><td>1801</td><td>2520</td><td>1717</td><td>⋯</td><td>2366</td><td>4259</td><td>7326</td><td>3288</td><td>2164</td><td>2139</td><td>1389</td><td>323</td><td>월요일</td><td>40373</td></tr>\n",
       "\t<tr><th scope=row>486774</th><td>2021-05-31</td><td>1호선</td><td>150</td><td>서울역                </td><td>하차</td><td>254</td><td>1601</td><td>3964</td><td>8244</td><td>4318</td><td>⋯</td><td>1605</td><td>1917</td><td>2325</td><td>1361</td><td> 850</td><td> 771</td><td> 570</td><td>273</td><td>월요일</td><td>37761</td></tr>\n",
       "\t<tr><th scope=row>486775</th><td>2021-05-31</td><td>1호선</td><td>151</td><td>시청                  </td><td>승차</td><td> 60</td><td> 140</td><td> 223</td><td> 285</td><td> 286</td><td>⋯</td><td>1217</td><td>2564</td><td>5808</td><td>2070</td><td>1589</td><td>1523</td><td>1010</td><td>180</td><td>월요일</td><td>20791</td></tr>\n",
       "\t<tr><th scope=row>486776</th><td>2021-05-31</td><td>1호선</td><td>151</td><td>시청                  </td><td>하차</td><td>190</td><td> 865</td><td>2733</td><td>7643</td><td>2862</td><td>⋯</td><td> 456</td><td> 521</td><td> 552</td><td> 286</td><td> 176</td><td> 118</td><td>  93</td><td> 49</td><td>월요일</td><td>21145</td></tr>\n",
       "\t<tr><th scope=row>486777</th><td>2021-05-31</td><td>1호선</td><td>152</td><td>종각                  </td><td>승차</td><td> 73</td><td>  99</td><td> 192</td><td> 324</td><td> 424</td><td>⋯</td><td>1972</td><td>4523</td><td>8284</td><td>3369</td><td>2452</td><td>2911</td><td>2113</td><td>252</td><td>월요일</td><td>33496</td></tr>\n",
       "\t<tr><th scope=row>486778</th><td>2021-05-31</td><td>1호선</td><td>152</td><td>종각                  </td><td>하차</td><td>172</td><td> 922</td><td>4704</td><td>9928</td><td>5302</td><td>⋯</td><td> 903</td><td> 900</td><td>1144</td><td> 554</td><td> 235</td><td> 151</td><td> 109</td><td> 53</td><td>월요일</td><td>32805</td></tr>\n",
       "\t<tr><th scope=row>486779</th><td>2021-05-31</td><td>1호선</td><td>153</td><td>종로3가               </td><td>승차</td><td>133</td><td> 112</td><td> 156</td><td> 255</td><td> 358</td><td>⋯</td><td>1997</td><td>2521</td><td>3819</td><td>2223</td><td>1519</td><td>1612</td><td>1385</td><td>208</td><td>월요일</td><td>23920</td></tr>\n",
       "\t<tr><th scope=row>486780</th><td>2021-05-31</td><td>1호선</td><td>153</td><td>종로3가               </td><td>하차</td><td>129</td><td> 459</td><td>1022</td><td>2976</td><td>2688</td><td>⋯</td><td>1126</td><td> 962</td><td>1039</td><td> 519</td><td> 157</td><td> 146</td><td> 136</td><td>100</td><td>월요일</td><td>21669</td></tr>\n",
       "\t<tr><th scope=row>486781</th><td>2021-05-31</td><td>1호선</td><td>154</td><td>종로5가               </td><td>승차</td><td> 44</td><td>  72</td><td> 182</td><td> 265</td><td> 395</td><td>⋯</td><td>2001</td><td>2729</td><td>4082</td><td>1816</td><td>1163</td><td> 946</td><td> 618</td><td>108</td><td>월요일</td><td>21824</td></tr>\n",
       "\t<tr><th scope=row>486782</th><td>2021-05-31</td><td>1호선</td><td>154</td><td>종로5가               </td><td>하차</td><td>149</td><td> 663</td><td>1745</td><td>4684</td><td>2430</td><td>⋯</td><td> 932</td><td> 755</td><td> 663</td><td> 362</td><td> 181</td><td> 140</td><td> 104</td><td> 49</td><td>월요일</td><td>21814</td></tr>\n",
       "\t<tr><th scope=row>486783</th><td>2021-05-31</td><td>1호선</td><td>155</td><td>동대문                </td><td>승차</td><td>500</td><td> 331</td><td> 585</td><td> 723</td><td> 580</td><td>⋯</td><td> 771</td><td> 772</td><td> 837</td><td> 576</td><td> 496</td><td> 486</td><td> 369</td><td>112</td><td>월요일</td><td>10986</td></tr>\n",
       "\t<tr><th scope=row>486784</th><td>2021-05-31</td><td>1호선</td><td>155</td><td>동대문                </td><td>하차</td><td> 85</td><td> 262</td><td> 485</td><td> 944</td><td> 869</td><td>⋯</td><td> 601</td><td> 582</td><td> 670</td><td> 770</td><td> 463</td><td> 380</td><td> 372</td><td>335</td><td>월요일</td><td>10655</td></tr>\n",
       "\t<tr><th scope=row>486785</th><td>2021-05-31</td><td>1호선</td><td>156</td><td>신설동                </td><td>승차</td><td>301</td><td> 312</td><td> 710</td><td> 999</td><td> 568</td><td>⋯</td><td>1054</td><td>1441</td><td>2524</td><td> 880</td><td> 631</td><td> 531</td><td> 368</td><td> 71</td><td>월요일</td><td>13972</td></tr>\n",
       "\t<tr><th scope=row>486786</th><td>2021-05-31</td><td>1호선</td><td>156</td><td>신설동                </td><td>하차</td><td>125</td><td> 427</td><td>1098</td><td>2727</td><td>1359</td><td>⋯</td><td> 586</td><td> 740</td><td> 979</td><td> 670</td><td> 447</td><td> 342</td><td> 343</td><td>193</td><td>월요일</td><td>13665</td></tr>\n",
       "\t<tr><th scope=row>486787</th><td>2021-05-31</td><td>1호선</td><td>157</td><td>제기동                </td><td>승차</td><td>209</td><td> 346</td><td> 899</td><td>1204</td><td> 733</td><td>⋯</td><td>1362</td><td>1506</td><td>1531</td><td> 666</td><td> 429</td><td> 314</td><td> 297</td><td> 86</td><td>월요일</td><td>16987</td></tr>\n",
       "\t<tr><th scope=row>486788</th><td>2021-05-31</td><td>1호선</td><td>157</td><td>제기동                </td><td>하차</td><td> 91</td><td> 334</td><td> 758</td><td>1731</td><td>1355</td><td>⋯</td><td> 981</td><td> 838</td><td>1037</td><td> 679</td><td> 418</td><td> 353</td><td> 369</td><td>197</td><td>월요일</td><td>17378</td></tr>\n",
       "\t<tr><th scope=row>486789</th><td>2021-05-31</td><td>1호선</td><td>158</td><td>청량리(서울시립대입구)</td><td>승차</td><td>442</td><td> 617</td><td>1491</td><td>1833</td><td>1118</td><td>⋯</td><td>1642</td><td>1573</td><td>1543</td><td> 776</td><td> 568</td><td> 424</td><td> 342</td><td> 77</td><td>월요일</td><td>19780</td></tr>\n",
       "\t<tr><th scope=row>486790</th><td>2021-05-31</td><td>1호선</td><td>158</td><td>청량리(서울시립대입구)</td><td>하차</td><td>186</td><td> 753</td><td> 696</td><td>1525</td><td>1140</td><td>⋯</td><td>1272</td><td>1302</td><td>1769</td><td>1145</td><td> 699</td><td> 579</td><td> 549</td><td>256</td><td>월요일</td><td>19710</td></tr>\n",
       "\t<tr><th scope=row>486791</th><td>2021-05-31</td><td>1호선</td><td>159</td><td>동묘앞                </td><td>승차</td><td>128</td><td> 147</td><td> 260</td><td> 335</td><td> 237</td><td>⋯</td><td> 886</td><td> 859</td><td> 828</td><td> 404</td><td> 226</td><td> 162</td><td> 129</td><td> 40</td><td>월요일</td><td> 7780</td></tr>\n",
       "\t<tr><th scope=row>486792</th><td>2021-05-31</td><td>1호선</td><td>159</td><td>동묘앞                </td><td>하차</td><td> 45</td><td> 175</td><td> 366</td><td> 939</td><td> 486</td><td>⋯</td><td> 537</td><td> 495</td><td> 401</td><td> 244</td><td> 139</td><td> 132</td><td> 181</td><td>131</td><td>월요일</td><td> 8112</td></tr>\n",
       "</tbody>\n",
       "</table>\n"
      ],
      "text/latex": [
       "A data.frame: 17640 × 26\n",
       "\\begin{tabular}{r|lllllllllllllllllllll}\n",
       "  & 날짜 & 호선 & 역번호 & 역명 & 구분 & -06 & 06-07 & 07-08 & 08-09 & 09-10 & ⋯ & 16-17 & 17-18 & 18-19 & 19-20 & 20-21 & 21-22 & 22-23 & 23- & 요일 & 합계\\\\\n",
       "  & <chr> & <chr> & <int> & <chr> & <chr> & <int> & <int> & <int> & <int> & <int> & ⋯ & <int> & <int> & <int> & <int> & <int> & <int> & <int> & <int> & <chr> & <int>\\\\\n",
       "\\hline\n",
       "\t1 & 2019-01-01 & 1호선 & 150 & 서울역                 & 승차 & 348 &  321 &  348 &   741 &  940 & ⋯ & 3226 & 3447 &  3277 & 2898 & 2590 & 3004 & 2234 & 1008 & 화요일 & 39559\\\\\n",
       "\t2 & 2019-01-01 & 1호선 & 150 & 서울역                 & 하차 & 222 &  821 &  808 &   961 & 1472 & ⋯ & 2491 & 2572 &  2060 & 1991 & 1683 & 1217 &  764 &  605 & 화요일 & 31279\\\\\n",
       "\t3 & 2019-01-01 & 1호선 & 151 & 시청                   & 승차 &  87 &   98 &  143 &   206 &  280 & ⋯ &  958 & 1062 &  1146 & 1119 &  992 &  904 &  570 &  217 & 화요일 & 11836\\\\\n",
       "\t4 & 2019-01-01 & 1호선 & 151 & 시청                   & 하차 &  48 &  237 &  323 &   571 &  577 & ⋯ &  733 &  746 &   606 &  374 &  311 &  268 &  177 &  201 & 화요일 & 10359\\\\\n",
       "\t5 & 2019-01-01 & 1호선 & 152 & 종각                   & 승차 & 669 &  318 &  217 &   203 &  333 & ⋯ & 1870 & 2129 &  2024 & 1806 & 1796 & 1780 & 1296 &  528 & 화요일 & 21042\\\\\n",
       "\t6 & 2019-01-01 & 1호선 & 152 & 종각                   & 하차 &  68 &  179 &  293 &   546 &  926 & ⋯ & 1379 & 1420 &  1050 &  685 &  431 &  315 &  237 &  201 & 화요일 & 16750\\\\\n",
       "\t7 & 2019-01-01 & 1호선 & 153 & 종로3가                & 승차 & 227 &  198 &  148 &   205 &  347 & ⋯ & 1948 & 1850 &  1529 & 1292 & 1149 & 1004 &  724 &  281 & 화요일 & 17966\\\\\n",
       "\t8 & 2019-01-01 & 1호선 & 153 & 종로3가                & 하차 &  38 &  180 &  261 &   424 &  703 & ⋯ & 1209 &  884 &   722 &  487 &  262 &  249 &  209 &  230 & 화요일 & 15916\\\\\n",
       "\t9 & 2019-01-01 & 1호선 & 154 & 종로5가                & 승차 &  48 &   80 &   67 &   138 &  207 & ⋯ & 1409 & 1553 &  1121 &  843 &  841 &  546 &  313 &   90 & 화요일 & 13645\\\\\n",
       "\t10 & 2019-01-01 & 1호선 & 154 & 종로5가                & 하차 &  25 &  102 &  140 &   296 &  509 & ⋯ & 1163 &  946 &   623 &  345 &  246 &  209 &  113 &  116 & 화요일 & 13348\\\\\n",
       "\t11 & 2019-01-01 & 1호선 & 155 & 동대문                 & 승차 & 138 &  117 &  159 &   259 &  429 & ⋯ &  859 &  894 &   667 &  468 &  348 &  290 &  214 &  147 & 화요일 &  9392\\\\\n",
       "\t12 & 2019-01-01 & 1호선 & 155 & 동대문                 & 하차 &  36 &  109 &  109 &   187 &  310 & ⋯ &  853 &  732 &   666 &  507 &  482 &  437 &  372 &  337 & 화요일 & 10522\\\\\n",
       "\t13 & 2019-01-01 & 1호선 & 156 & 신설동                 & 승차 & 143 &  144 &  155 &   217 &  349 & ⋯ &  524 &  585 &   472 &  331 &  246 &  228 &  158 &   89 & 화요일 &  6898\\\\\n",
       "\t14 & 2019-01-01 & 1호선 & 156 & 신설동                 & 하차 &  37 &  126 &  131 &   152 &  241 & ⋯ &  514 &  566 &   502 &  389 &  427 &  489 &  387 &  360 & 화요일 &  7022\\\\\n",
       "\t15 & 2019-01-01 & 1호선 & 157 & 제기동                 & 승차 & 272 &  168 &  153 &   220 &  324 & ⋯ & 1245 &  924 &   651 &  514 &  339 &  232 &  117 &   49 & 화요일 & 10269\\\\\n",
       "\t16 & 2019-01-01 & 1호선 & 157 & 제기동                 & 하차 &  40 &  118 &  155 &   180 &  307 & ⋯ &  633 &  627 &   417 &  338 &  322 &  281 &  299 &  233 & 화요일 & 10268\\\\\n",
       "\t17 & 2019-01-01 & 1호선 & 158 & 청량리(서울시립대입구) & 승차 & 211 &  212 &  253 &   398 &  607 & ⋯ & 1707 & 1415 &  1029 &  770 &  675 &  486 &  309 &  177 & 화요일 & 15064\\\\\n",
       "\t18 & 2019-01-01 & 1호선 & 158 & 청량리(서울시립대입구) & 하차 &  84 &  235 &  217 &   308 &  527 & ⋯ & 1212 & 1129 &   907 &  669 &  598 &  515 &  651 &  488 & 화요일 & 15491\\\\\n",
       "\t19 & 2019-01-01 & 1호선 & 159 & 동묘앞                 & 승차 &  65 &   51 &   46 &    87 &  182 & ⋯ & 1150 &  974 &   406 &  224 &  152 &  107 &   96 &   49 & 화요일 &  8114\\\\\n",
       "\t20 & 2019-01-01 & 1호선 & 159 & 동묘앞                 & 하차 &  24 &   58 &   90 &   159 &  230 & ⋯ &  605 &  389 &   233 &  172 &  152 &  156 &  202 &  292 & 화요일 &  8593\\\\\n",
       "\t551 & 2019-01-02 & 1호선 & 150 & 서울역                 & 승차 & 353 &  502 & 1764 &  3650 & 2165 & ⋯ & 3758 & 5373 &  9855 & 5040 & 3090 & 3108 & 1936 & 1117 & 수요일 & 58592\\\\\n",
       "\t552 & 2019-01-02 & 1호선 & 150 & 서울역                 & 하차 & 380 & 2023 & 4280 & 10071 & 5905 & ⋯ & 2553 & 2618 &  3238 & 2249 & 1531 & 1266 &  881 &  677 & 수요일 & 52933\\\\\n",
       "\t553 & 2019-01-02 & 1호선 & 151 & 시청                   & 승차 &  78 &  133 &  242 &   387 &  512 & ⋯ & 1640 & 2678 &  7492 & 3084 & 2049 & 1982 & 1263 &  427 & 수요일 & 27872\\\\\n",
       "\t554 & 2019-01-02 & 1호선 & 151 & 시청                   & 하차 & 166 &  760 & 3293 &  9345 & 3252 & ⋯ &  853 &  768 &   840 &  491 &  278 &  293 &  202 &  183 & 수요일 & 27614\\\\\n",
       "\t555 & 2019-01-02 & 1호선 & 152 & 종각                   & 승차 &  95 &  142 &  228 &   410 &  546 & ⋯ & 3079 & 5096 & 11093 & 5368 & 4306 & 4499 & 3365 & 1714 & 수요일 & 50039\\\\\n",
       "\t556 & 2019-01-02 & 1호선 & 152 & 종각                   & 하차 & 207 & 1079 & 5126 & 12946 & 6478 & ⋯ & 1579 & 1809 &  2431 & 1529 &  653 &  351 &  253 &  220 & 수요일 & 47842\\\\\n",
       "\t557 & 2019-01-02 & 1호선 & 153 & 종로3가                & 승차 & 152 &  121 &  215 &   304 &  475 & ⋯ & 3403 & 3519 &  4690 & 3290 & 2142 & 2539 & 1749 &  748 & 수요일 & 35803\\\\\n",
       "\t558 & 2019-01-02 & 1호선 & 153 & 종로3가                & 하차 &  87 &  477 & 1194 &  3572 & 4002 & ⋯ & 1757 & 1524 &  2004 & 1143 &  370 &  322 &  238 &  237 & 수요일 & 33906\\\\\n",
       "\t559 & 2019-01-02 & 1호선 & 154 & 종로5가                & 승차 &  53 &   85 &  206 &   289 &  459 & ⋯ & 2369 & 3199 &  5213 & 2571 & 1607 & 1295 &  921 &  420 & 수요일 & 28271\\\\\n",
       "\t560 & 2019-01-02 & 1호선 & 154 & 종로5가                & 하차 & 145 &  656 & 1691 &  5603 & 2906 & ⋯ & 1449 & 1201 &  1161 &  697 &  343 &  245 &  135 &  150 & 수요일 & 28418\\\\\n",
       "\t⋮ & ⋮ & ⋮ & ⋮ & ⋮ & ⋮ & ⋮ & ⋮ & ⋮ & ⋮ & ⋮ & ⋱ & ⋮ & ⋮ & ⋮ & ⋮ & ⋮ & ⋮ & ⋮ & ⋮ & ⋮ & ⋮\\\\\n",
       "\t486223 & 2021-05-30 & 1호선 & 155 & 동대문                 & 승차 & 122 &  109 &  140 &  289 &  403 & ⋯ &  878 &  725 &  604 &  526 &  327 &  309 &  207 &  47 & 일요일 &  9615\\\\\n",
       "\t486224 & 2021-05-30 & 1호선 & 155 & 동대문                 & 하차 &  13 &   99 &  140 &  287 &  527 & ⋯ &  584 &  526 &  394 &  536 &  413 &  269 &  290 & 334 & 일요일 &  9994\\\\\n",
       "\t486225 & 2021-05-30 & 1호선 & 156 & 신설동                 & 승차 & 125 &  132 &  156 &  250 &  365 & ⋯ &  661 &  642 &  493 &  300 &  197 &  173 &  138 &  34 & 일요일 &  7162\\\\\n",
       "\t486226 & 2021-05-30 & 1호선 & 156 & 신설동                 & 하차 &  51 &  131 &  161 &  251 &  356 & ⋯ &  477 &  484 &  368 &  348 &  320 &  269 &  290 & 177 & 일요일 &  7286\\\\\n",
       "\t486227 & 2021-05-30 & 1호선 & 157 & 제기동                 & 승차 &  80 &  130 &  184 &  305 &  490 & ⋯ &  906 &  724 &  503 &  282 &  183 &  141 &  112 &  43 & 일요일 &  9630\\\\\n",
       "\t486228 & 2021-05-30 & 1호선 & 157 & 제기동                 & 하차 &  30 &  128 &  164 &  295 &  517 & ⋯ &  806 &  626 &  483 &  405 &  316 &  276 &  328 & 139 & 일요일 & 10343\\\\\n",
       "\t486229 & 2021-05-30 & 1호선 & 158 & 청량리(서울시립대입구) & 승차 & 153 &  155 &  235 &  461 &  627 & ⋯ & 1128 &  983 &  988 &  607 &  427 &  342 &  205 &  63 & 일요일 & 12847\\\\\n",
       "\t486230 & 2021-05-30 & 1호선 & 158 & 청량리(서울시립대입구) & 하차 &  50 &  209 &  234 &  395 &  623 & ⋯ & 1076 &  942 &  784 &  586 &  472 &  411 &  365 & 198 & 일요일 & 12991\\\\\n",
       "\t486231 & 2021-05-30 & 1호선 & 159 & 동묘앞                 & 승차 &  59 &   60 &   59 &  142 &  254 & ⋯ & 1764 & 1360 & 1067 &  409 &  146 &  113 &   56 &  27 & 일요일 & 13440\\\\\n",
       "\t486232 & 2021-05-30 & 1호선 & 159 & 동묘앞                 & 하차 &  38 &  120 &  164 &  348 &  739 & ⋯ &  820 &  513 &  262 &  142 &  135 &  118 &  144 &  88 & 일요일 & 13544\\\\\n",
       "\t486773 & 2021-05-31 & 1호선 & 150 & 서울역                 & 승차 & 347 &  493 & 1801 & 2520 & 1717 & ⋯ & 2366 & 4259 & 7326 & 3288 & 2164 & 2139 & 1389 & 323 & 월요일 & 40373\\\\\n",
       "\t486774 & 2021-05-31 & 1호선 & 150 & 서울역                 & 하차 & 254 & 1601 & 3964 & 8244 & 4318 & ⋯ & 1605 & 1917 & 2325 & 1361 &  850 &  771 &  570 & 273 & 월요일 & 37761\\\\\n",
       "\t486775 & 2021-05-31 & 1호선 & 151 & 시청                   & 승차 &  60 &  140 &  223 &  285 &  286 & ⋯ & 1217 & 2564 & 5808 & 2070 & 1589 & 1523 & 1010 & 180 & 월요일 & 20791\\\\\n",
       "\t486776 & 2021-05-31 & 1호선 & 151 & 시청                   & 하차 & 190 &  865 & 2733 & 7643 & 2862 & ⋯ &  456 &  521 &  552 &  286 &  176 &  118 &   93 &  49 & 월요일 & 21145\\\\\n",
       "\t486777 & 2021-05-31 & 1호선 & 152 & 종각                   & 승차 &  73 &   99 &  192 &  324 &  424 & ⋯ & 1972 & 4523 & 8284 & 3369 & 2452 & 2911 & 2113 & 252 & 월요일 & 33496\\\\\n",
       "\t486778 & 2021-05-31 & 1호선 & 152 & 종각                   & 하차 & 172 &  922 & 4704 & 9928 & 5302 & ⋯ &  903 &  900 & 1144 &  554 &  235 &  151 &  109 &  53 & 월요일 & 32805\\\\\n",
       "\t486779 & 2021-05-31 & 1호선 & 153 & 종로3가                & 승차 & 133 &  112 &  156 &  255 &  358 & ⋯ & 1997 & 2521 & 3819 & 2223 & 1519 & 1612 & 1385 & 208 & 월요일 & 23920\\\\\n",
       "\t486780 & 2021-05-31 & 1호선 & 153 & 종로3가                & 하차 & 129 &  459 & 1022 & 2976 & 2688 & ⋯ & 1126 &  962 & 1039 &  519 &  157 &  146 &  136 & 100 & 월요일 & 21669\\\\\n",
       "\t486781 & 2021-05-31 & 1호선 & 154 & 종로5가                & 승차 &  44 &   72 &  182 &  265 &  395 & ⋯ & 2001 & 2729 & 4082 & 1816 & 1163 &  946 &  618 & 108 & 월요일 & 21824\\\\\n",
       "\t486782 & 2021-05-31 & 1호선 & 154 & 종로5가                & 하차 & 149 &  663 & 1745 & 4684 & 2430 & ⋯ &  932 &  755 &  663 &  362 &  181 &  140 &  104 &  49 & 월요일 & 21814\\\\\n",
       "\t486783 & 2021-05-31 & 1호선 & 155 & 동대문                 & 승차 & 500 &  331 &  585 &  723 &  580 & ⋯ &  771 &  772 &  837 &  576 &  496 &  486 &  369 & 112 & 월요일 & 10986\\\\\n",
       "\t486784 & 2021-05-31 & 1호선 & 155 & 동대문                 & 하차 &  85 &  262 &  485 &  944 &  869 & ⋯ &  601 &  582 &  670 &  770 &  463 &  380 &  372 & 335 & 월요일 & 10655\\\\\n",
       "\t486785 & 2021-05-31 & 1호선 & 156 & 신설동                 & 승차 & 301 &  312 &  710 &  999 &  568 & ⋯ & 1054 & 1441 & 2524 &  880 &  631 &  531 &  368 &  71 & 월요일 & 13972\\\\\n",
       "\t486786 & 2021-05-31 & 1호선 & 156 & 신설동                 & 하차 & 125 &  427 & 1098 & 2727 & 1359 & ⋯ &  586 &  740 &  979 &  670 &  447 &  342 &  343 & 193 & 월요일 & 13665\\\\\n",
       "\t486787 & 2021-05-31 & 1호선 & 157 & 제기동                 & 승차 & 209 &  346 &  899 & 1204 &  733 & ⋯ & 1362 & 1506 & 1531 &  666 &  429 &  314 &  297 &  86 & 월요일 & 16987\\\\\n",
       "\t486788 & 2021-05-31 & 1호선 & 157 & 제기동                 & 하차 &  91 &  334 &  758 & 1731 & 1355 & ⋯ &  981 &  838 & 1037 &  679 &  418 &  353 &  369 & 197 & 월요일 & 17378\\\\\n",
       "\t486789 & 2021-05-31 & 1호선 & 158 & 청량리(서울시립대입구) & 승차 & 442 &  617 & 1491 & 1833 & 1118 & ⋯ & 1642 & 1573 & 1543 &  776 &  568 &  424 &  342 &  77 & 월요일 & 19780\\\\\n",
       "\t486790 & 2021-05-31 & 1호선 & 158 & 청량리(서울시립대입구) & 하차 & 186 &  753 &  696 & 1525 & 1140 & ⋯ & 1272 & 1302 & 1769 & 1145 &  699 &  579 &  549 & 256 & 월요일 & 19710\\\\\n",
       "\t486791 & 2021-05-31 & 1호선 & 159 & 동묘앞                 & 승차 & 128 &  147 &  260 &  335 &  237 & ⋯ &  886 &  859 &  828 &  404 &  226 &  162 &  129 &  40 & 월요일 &  7780\\\\\n",
       "\t486792 & 2021-05-31 & 1호선 & 159 & 동묘앞                 & 하차 &  45 &  175 &  366 &  939 &  486 & ⋯ &  537 &  495 &  401 &  244 &  139 &  132 &  181 & 131 & 월요일 &  8112\\\\\n",
       "\\end{tabular}\n"
      ],
      "text/markdown": [
       "\n",
       "A data.frame: 17640 × 26\n",
       "\n",
       "| <!--/--> | 날짜 &lt;chr&gt; | 호선 &lt;chr&gt; | 역번호 &lt;int&gt; | 역명 &lt;chr&gt; | 구분 &lt;chr&gt; | -06 &lt;int&gt; | 06-07 &lt;int&gt; | 07-08 &lt;int&gt; | 08-09 &lt;int&gt; | 09-10 &lt;int&gt; | ⋯ ⋯ | 16-17 &lt;int&gt; | 17-18 &lt;int&gt; | 18-19 &lt;int&gt; | 19-20 &lt;int&gt; | 20-21 &lt;int&gt; | 21-22 &lt;int&gt; | 22-23 &lt;int&gt; | 23- &lt;int&gt; | 요일 &lt;chr&gt; | 합계 &lt;int&gt; |\n",
       "|---|---|---|---|---|---|---|---|---|---|---|---|---|---|---|---|---|---|---|---|---|---|\n",
       "| 1 | 2019-01-01 | 1호선 | 150 | 서울역                 | 승차 | 348 |  321 |  348 |   741 |  940 | ⋯ | 3226 | 3447 |  3277 | 2898 | 2590 | 3004 | 2234 | 1008 | 화요일 | 39559 |\n",
       "| 2 | 2019-01-01 | 1호선 | 150 | 서울역                 | 하차 | 222 |  821 |  808 |   961 | 1472 | ⋯ | 2491 | 2572 |  2060 | 1991 | 1683 | 1217 |  764 |  605 | 화요일 | 31279 |\n",
       "| 3 | 2019-01-01 | 1호선 | 151 | 시청                   | 승차 |  87 |   98 |  143 |   206 |  280 | ⋯ |  958 | 1062 |  1146 | 1119 |  992 |  904 |  570 |  217 | 화요일 | 11836 |\n",
       "| 4 | 2019-01-01 | 1호선 | 151 | 시청                   | 하차 |  48 |  237 |  323 |   571 |  577 | ⋯ |  733 |  746 |   606 |  374 |  311 |  268 |  177 |  201 | 화요일 | 10359 |\n",
       "| 5 | 2019-01-01 | 1호선 | 152 | 종각                   | 승차 | 669 |  318 |  217 |   203 |  333 | ⋯ | 1870 | 2129 |  2024 | 1806 | 1796 | 1780 | 1296 |  528 | 화요일 | 21042 |\n",
       "| 6 | 2019-01-01 | 1호선 | 152 | 종각                   | 하차 |  68 |  179 |  293 |   546 |  926 | ⋯ | 1379 | 1420 |  1050 |  685 |  431 |  315 |  237 |  201 | 화요일 | 16750 |\n",
       "| 7 | 2019-01-01 | 1호선 | 153 | 종로3가                | 승차 | 227 |  198 |  148 |   205 |  347 | ⋯ | 1948 | 1850 |  1529 | 1292 | 1149 | 1004 |  724 |  281 | 화요일 | 17966 |\n",
       "| 8 | 2019-01-01 | 1호선 | 153 | 종로3가                | 하차 |  38 |  180 |  261 |   424 |  703 | ⋯ | 1209 |  884 |   722 |  487 |  262 |  249 |  209 |  230 | 화요일 | 15916 |\n",
       "| 9 | 2019-01-01 | 1호선 | 154 | 종로5가                | 승차 |  48 |   80 |   67 |   138 |  207 | ⋯ | 1409 | 1553 |  1121 |  843 |  841 |  546 |  313 |   90 | 화요일 | 13645 |\n",
       "| 10 | 2019-01-01 | 1호선 | 154 | 종로5가                | 하차 |  25 |  102 |  140 |   296 |  509 | ⋯ | 1163 |  946 |   623 |  345 |  246 |  209 |  113 |  116 | 화요일 | 13348 |\n",
       "| 11 | 2019-01-01 | 1호선 | 155 | 동대문                 | 승차 | 138 |  117 |  159 |   259 |  429 | ⋯ |  859 |  894 |   667 |  468 |  348 |  290 |  214 |  147 | 화요일 |  9392 |\n",
       "| 12 | 2019-01-01 | 1호선 | 155 | 동대문                 | 하차 |  36 |  109 |  109 |   187 |  310 | ⋯ |  853 |  732 |   666 |  507 |  482 |  437 |  372 |  337 | 화요일 | 10522 |\n",
       "| 13 | 2019-01-01 | 1호선 | 156 | 신설동                 | 승차 | 143 |  144 |  155 |   217 |  349 | ⋯ |  524 |  585 |   472 |  331 |  246 |  228 |  158 |   89 | 화요일 |  6898 |\n",
       "| 14 | 2019-01-01 | 1호선 | 156 | 신설동                 | 하차 |  37 |  126 |  131 |   152 |  241 | ⋯ |  514 |  566 |   502 |  389 |  427 |  489 |  387 |  360 | 화요일 |  7022 |\n",
       "| 15 | 2019-01-01 | 1호선 | 157 | 제기동                 | 승차 | 272 |  168 |  153 |   220 |  324 | ⋯ | 1245 |  924 |   651 |  514 |  339 |  232 |  117 |   49 | 화요일 | 10269 |\n",
       "| 16 | 2019-01-01 | 1호선 | 157 | 제기동                 | 하차 |  40 |  118 |  155 |   180 |  307 | ⋯ |  633 |  627 |   417 |  338 |  322 |  281 |  299 |  233 | 화요일 | 10268 |\n",
       "| 17 | 2019-01-01 | 1호선 | 158 | 청량리(서울시립대입구) | 승차 | 211 |  212 |  253 |   398 |  607 | ⋯ | 1707 | 1415 |  1029 |  770 |  675 |  486 |  309 |  177 | 화요일 | 15064 |\n",
       "| 18 | 2019-01-01 | 1호선 | 158 | 청량리(서울시립대입구) | 하차 |  84 |  235 |  217 |   308 |  527 | ⋯ | 1212 | 1129 |   907 |  669 |  598 |  515 |  651 |  488 | 화요일 | 15491 |\n",
       "| 19 | 2019-01-01 | 1호선 | 159 | 동묘앞                 | 승차 |  65 |   51 |   46 |    87 |  182 | ⋯ | 1150 |  974 |   406 |  224 |  152 |  107 |   96 |   49 | 화요일 |  8114 |\n",
       "| 20 | 2019-01-01 | 1호선 | 159 | 동묘앞                 | 하차 |  24 |   58 |   90 |   159 |  230 | ⋯ |  605 |  389 |   233 |  172 |  152 |  156 |  202 |  292 | 화요일 |  8593 |\n",
       "| 551 | 2019-01-02 | 1호선 | 150 | 서울역                 | 승차 | 353 |  502 | 1764 |  3650 | 2165 | ⋯ | 3758 | 5373 |  9855 | 5040 | 3090 | 3108 | 1936 | 1117 | 수요일 | 58592 |\n",
       "| 552 | 2019-01-02 | 1호선 | 150 | 서울역                 | 하차 | 380 | 2023 | 4280 | 10071 | 5905 | ⋯ | 2553 | 2618 |  3238 | 2249 | 1531 | 1266 |  881 |  677 | 수요일 | 52933 |\n",
       "| 553 | 2019-01-02 | 1호선 | 151 | 시청                   | 승차 |  78 |  133 |  242 |   387 |  512 | ⋯ | 1640 | 2678 |  7492 | 3084 | 2049 | 1982 | 1263 |  427 | 수요일 | 27872 |\n",
       "| 554 | 2019-01-02 | 1호선 | 151 | 시청                   | 하차 | 166 |  760 | 3293 |  9345 | 3252 | ⋯ |  853 |  768 |   840 |  491 |  278 |  293 |  202 |  183 | 수요일 | 27614 |\n",
       "| 555 | 2019-01-02 | 1호선 | 152 | 종각                   | 승차 |  95 |  142 |  228 |   410 |  546 | ⋯ | 3079 | 5096 | 11093 | 5368 | 4306 | 4499 | 3365 | 1714 | 수요일 | 50039 |\n",
       "| 556 | 2019-01-02 | 1호선 | 152 | 종각                   | 하차 | 207 | 1079 | 5126 | 12946 | 6478 | ⋯ | 1579 | 1809 |  2431 | 1529 |  653 |  351 |  253 |  220 | 수요일 | 47842 |\n",
       "| 557 | 2019-01-02 | 1호선 | 153 | 종로3가                | 승차 | 152 |  121 |  215 |   304 |  475 | ⋯ | 3403 | 3519 |  4690 | 3290 | 2142 | 2539 | 1749 |  748 | 수요일 | 35803 |\n",
       "| 558 | 2019-01-02 | 1호선 | 153 | 종로3가                | 하차 |  87 |  477 | 1194 |  3572 | 4002 | ⋯ | 1757 | 1524 |  2004 | 1143 |  370 |  322 |  238 |  237 | 수요일 | 33906 |\n",
       "| 559 | 2019-01-02 | 1호선 | 154 | 종로5가                | 승차 |  53 |   85 |  206 |   289 |  459 | ⋯ | 2369 | 3199 |  5213 | 2571 | 1607 | 1295 |  921 |  420 | 수요일 | 28271 |\n",
       "| 560 | 2019-01-02 | 1호선 | 154 | 종로5가                | 하차 | 145 |  656 | 1691 |  5603 | 2906 | ⋯ | 1449 | 1201 |  1161 |  697 |  343 |  245 |  135 |  150 | 수요일 | 28418 |\n",
       "| ⋮ | ⋮ | ⋮ | ⋮ | ⋮ | ⋮ | ⋮ | ⋮ | ⋮ | ⋮ | ⋮ | ⋱ | ⋮ | ⋮ | ⋮ | ⋮ | ⋮ | ⋮ | ⋮ | ⋮ | ⋮ | ⋮ |\n",
       "| 486223 | 2021-05-30 | 1호선 | 155 | 동대문                 | 승차 | 122 |  109 |  140 |  289 |  403 | ⋯ |  878 |  725 |  604 |  526 |  327 |  309 |  207 |  47 | 일요일 |  9615 |\n",
       "| 486224 | 2021-05-30 | 1호선 | 155 | 동대문                 | 하차 |  13 |   99 |  140 |  287 |  527 | ⋯ |  584 |  526 |  394 |  536 |  413 |  269 |  290 | 334 | 일요일 |  9994 |\n",
       "| 486225 | 2021-05-30 | 1호선 | 156 | 신설동                 | 승차 | 125 |  132 |  156 |  250 |  365 | ⋯ |  661 |  642 |  493 |  300 |  197 |  173 |  138 |  34 | 일요일 |  7162 |\n",
       "| 486226 | 2021-05-30 | 1호선 | 156 | 신설동                 | 하차 |  51 |  131 |  161 |  251 |  356 | ⋯ |  477 |  484 |  368 |  348 |  320 |  269 |  290 | 177 | 일요일 |  7286 |\n",
       "| 486227 | 2021-05-30 | 1호선 | 157 | 제기동                 | 승차 |  80 |  130 |  184 |  305 |  490 | ⋯ |  906 |  724 |  503 |  282 |  183 |  141 |  112 |  43 | 일요일 |  9630 |\n",
       "| 486228 | 2021-05-30 | 1호선 | 157 | 제기동                 | 하차 |  30 |  128 |  164 |  295 |  517 | ⋯ |  806 |  626 |  483 |  405 |  316 |  276 |  328 | 139 | 일요일 | 10343 |\n",
       "| 486229 | 2021-05-30 | 1호선 | 158 | 청량리(서울시립대입구) | 승차 | 153 |  155 |  235 |  461 |  627 | ⋯ | 1128 |  983 |  988 |  607 |  427 |  342 |  205 |  63 | 일요일 | 12847 |\n",
       "| 486230 | 2021-05-30 | 1호선 | 158 | 청량리(서울시립대입구) | 하차 |  50 |  209 |  234 |  395 |  623 | ⋯ | 1076 |  942 |  784 |  586 |  472 |  411 |  365 | 198 | 일요일 | 12991 |\n",
       "| 486231 | 2021-05-30 | 1호선 | 159 | 동묘앞                 | 승차 |  59 |   60 |   59 |  142 |  254 | ⋯ | 1764 | 1360 | 1067 |  409 |  146 |  113 |   56 |  27 | 일요일 | 13440 |\n",
       "| 486232 | 2021-05-30 | 1호선 | 159 | 동묘앞                 | 하차 |  38 |  120 |  164 |  348 |  739 | ⋯ |  820 |  513 |  262 |  142 |  135 |  118 |  144 |  88 | 일요일 | 13544 |\n",
       "| 486773 | 2021-05-31 | 1호선 | 150 | 서울역                 | 승차 | 347 |  493 | 1801 | 2520 | 1717 | ⋯ | 2366 | 4259 | 7326 | 3288 | 2164 | 2139 | 1389 | 323 | 월요일 | 40373 |\n",
       "| 486774 | 2021-05-31 | 1호선 | 150 | 서울역                 | 하차 | 254 | 1601 | 3964 | 8244 | 4318 | ⋯ | 1605 | 1917 | 2325 | 1361 |  850 |  771 |  570 | 273 | 월요일 | 37761 |\n",
       "| 486775 | 2021-05-31 | 1호선 | 151 | 시청                   | 승차 |  60 |  140 |  223 |  285 |  286 | ⋯ | 1217 | 2564 | 5808 | 2070 | 1589 | 1523 | 1010 | 180 | 월요일 | 20791 |\n",
       "| 486776 | 2021-05-31 | 1호선 | 151 | 시청                   | 하차 | 190 |  865 | 2733 | 7643 | 2862 | ⋯ |  456 |  521 |  552 |  286 |  176 |  118 |   93 |  49 | 월요일 | 21145 |\n",
       "| 486777 | 2021-05-31 | 1호선 | 152 | 종각                   | 승차 |  73 |   99 |  192 |  324 |  424 | ⋯ | 1972 | 4523 | 8284 | 3369 | 2452 | 2911 | 2113 | 252 | 월요일 | 33496 |\n",
       "| 486778 | 2021-05-31 | 1호선 | 152 | 종각                   | 하차 | 172 |  922 | 4704 | 9928 | 5302 | ⋯ |  903 |  900 | 1144 |  554 |  235 |  151 |  109 |  53 | 월요일 | 32805 |\n",
       "| 486779 | 2021-05-31 | 1호선 | 153 | 종로3가                | 승차 | 133 |  112 |  156 |  255 |  358 | ⋯ | 1997 | 2521 | 3819 | 2223 | 1519 | 1612 | 1385 | 208 | 월요일 | 23920 |\n",
       "| 486780 | 2021-05-31 | 1호선 | 153 | 종로3가                | 하차 | 129 |  459 | 1022 | 2976 | 2688 | ⋯ | 1126 |  962 | 1039 |  519 |  157 |  146 |  136 | 100 | 월요일 | 21669 |\n",
       "| 486781 | 2021-05-31 | 1호선 | 154 | 종로5가                | 승차 |  44 |   72 |  182 |  265 |  395 | ⋯ | 2001 | 2729 | 4082 | 1816 | 1163 |  946 |  618 | 108 | 월요일 | 21824 |\n",
       "| 486782 | 2021-05-31 | 1호선 | 154 | 종로5가                | 하차 | 149 |  663 | 1745 | 4684 | 2430 | ⋯ |  932 |  755 |  663 |  362 |  181 |  140 |  104 |  49 | 월요일 | 21814 |\n",
       "| 486783 | 2021-05-31 | 1호선 | 155 | 동대문                 | 승차 | 500 |  331 |  585 |  723 |  580 | ⋯ |  771 |  772 |  837 |  576 |  496 |  486 |  369 | 112 | 월요일 | 10986 |\n",
       "| 486784 | 2021-05-31 | 1호선 | 155 | 동대문                 | 하차 |  85 |  262 |  485 |  944 |  869 | ⋯ |  601 |  582 |  670 |  770 |  463 |  380 |  372 | 335 | 월요일 | 10655 |\n",
       "| 486785 | 2021-05-31 | 1호선 | 156 | 신설동                 | 승차 | 301 |  312 |  710 |  999 |  568 | ⋯ | 1054 | 1441 | 2524 |  880 |  631 |  531 |  368 |  71 | 월요일 | 13972 |\n",
       "| 486786 | 2021-05-31 | 1호선 | 156 | 신설동                 | 하차 | 125 |  427 | 1098 | 2727 | 1359 | ⋯ |  586 |  740 |  979 |  670 |  447 |  342 |  343 | 193 | 월요일 | 13665 |\n",
       "| 486787 | 2021-05-31 | 1호선 | 157 | 제기동                 | 승차 | 209 |  346 |  899 | 1204 |  733 | ⋯ | 1362 | 1506 | 1531 |  666 |  429 |  314 |  297 |  86 | 월요일 | 16987 |\n",
       "| 486788 | 2021-05-31 | 1호선 | 157 | 제기동                 | 하차 |  91 |  334 |  758 | 1731 | 1355 | ⋯ |  981 |  838 | 1037 |  679 |  418 |  353 |  369 | 197 | 월요일 | 17378 |\n",
       "| 486789 | 2021-05-31 | 1호선 | 158 | 청량리(서울시립대입구) | 승차 | 442 |  617 | 1491 | 1833 | 1118 | ⋯ | 1642 | 1573 | 1543 |  776 |  568 |  424 |  342 |  77 | 월요일 | 19780 |\n",
       "| 486790 | 2021-05-31 | 1호선 | 158 | 청량리(서울시립대입구) | 하차 | 186 |  753 |  696 | 1525 | 1140 | ⋯ | 1272 | 1302 | 1769 | 1145 |  699 |  579 |  549 | 256 | 월요일 | 19710 |\n",
       "| 486791 | 2021-05-31 | 1호선 | 159 | 동묘앞                 | 승차 | 128 |  147 |  260 |  335 |  237 | ⋯ |  886 |  859 |  828 |  404 |  226 |  162 |  129 |  40 | 월요일 |  7780 |\n",
       "| 486792 | 2021-05-31 | 1호선 | 159 | 동묘앞                 | 하차 |  45 |  175 |  366 |  939 |  486 | ⋯ |  537 |  495 |  401 |  244 |  139 |  132 |  181 | 131 | 월요일 |  8112 |\n",
       "\n"
      ],
      "text/plain": [
       "       날짜       호선  역번호 역명                   구분 -06 06-07 07-08\n",
       "1      2019-01-01 1호선 150    서울역                 승차 348  321   348 \n",
       "2      2019-01-01 1호선 150    서울역                 하차 222  821   808 \n",
       "3      2019-01-01 1호선 151    시청                   승차  87   98   143 \n",
       "4      2019-01-01 1호선 151    시청                   하차  48  237   323 \n",
       "5      2019-01-01 1호선 152    종각                   승차 669  318   217 \n",
       "6      2019-01-01 1호선 152    종각                   하차  68  179   293 \n",
       "7      2019-01-01 1호선 153    종로3가                승차 227  198   148 \n",
       "8      2019-01-01 1호선 153    종로3가                하차  38  180   261 \n",
       "9      2019-01-01 1호선 154    종로5가                승차  48   80    67 \n",
       "10     2019-01-01 1호선 154    종로5가                하차  25  102   140 \n",
       "11     2019-01-01 1호선 155    동대문                 승차 138  117   159 \n",
       "12     2019-01-01 1호선 155    동대문                 하차  36  109   109 \n",
       "13     2019-01-01 1호선 156    신설동                 승차 143  144   155 \n",
       "14     2019-01-01 1호선 156    신설동                 하차  37  126   131 \n",
       "15     2019-01-01 1호선 157    제기동                 승차 272  168   153 \n",
       "16     2019-01-01 1호선 157    제기동                 하차  40  118   155 \n",
       "17     2019-01-01 1호선 158    청량리(서울시립대입구) 승차 211  212   253 \n",
       "18     2019-01-01 1호선 158    청량리(서울시립대입구) 하차  84  235   217 \n",
       "19     2019-01-01 1호선 159    동묘앞                 승차  65   51    46 \n",
       "20     2019-01-01 1호선 159    동묘앞                 하차  24   58    90 \n",
       "551    2019-01-02 1호선 150    서울역                 승차 353  502  1764 \n",
       "552    2019-01-02 1호선 150    서울역                 하차 380 2023  4280 \n",
       "553    2019-01-02 1호선 151    시청                   승차  78  133   242 \n",
       "554    2019-01-02 1호선 151    시청                   하차 166  760  3293 \n",
       "555    2019-01-02 1호선 152    종각                   승차  95  142   228 \n",
       "556    2019-01-02 1호선 152    종각                   하차 207 1079  5126 \n",
       "557    2019-01-02 1호선 153    종로3가                승차 152  121   215 \n",
       "558    2019-01-02 1호선 153    종로3가                하차  87  477  1194 \n",
       "559    2019-01-02 1호선 154    종로5가                승차  53   85   206 \n",
       "560    2019-01-02 1호선 154    종로5가                하차 145  656  1691 \n",
       "⋮      ⋮          ⋮     ⋮      ⋮                      ⋮    ⋮   ⋮     ⋮    \n",
       "486223 2021-05-30 1호선 155    동대문                 승차 122  109   140 \n",
       "486224 2021-05-30 1호선 155    동대문                 하차  13   99   140 \n",
       "486225 2021-05-30 1호선 156    신설동                 승차 125  132   156 \n",
       "486226 2021-05-30 1호선 156    신설동                 하차  51  131   161 \n",
       "486227 2021-05-30 1호선 157    제기동                 승차  80  130   184 \n",
       "486228 2021-05-30 1호선 157    제기동                 하차  30  128   164 \n",
       "486229 2021-05-30 1호선 158    청량리(서울시립대입구) 승차 153  155   235 \n",
       "486230 2021-05-30 1호선 158    청량리(서울시립대입구) 하차  50  209   234 \n",
       "486231 2021-05-30 1호선 159    동묘앞                 승차  59   60    59 \n",
       "486232 2021-05-30 1호선 159    동묘앞                 하차  38  120   164 \n",
       "486773 2021-05-31 1호선 150    서울역                 승차 347  493  1801 \n",
       "486774 2021-05-31 1호선 150    서울역                 하차 254 1601  3964 \n",
       "486775 2021-05-31 1호선 151    시청                   승차  60  140   223 \n",
       "486776 2021-05-31 1호선 151    시청                   하차 190  865  2733 \n",
       "486777 2021-05-31 1호선 152    종각                   승차  73   99   192 \n",
       "486778 2021-05-31 1호선 152    종각                   하차 172  922  4704 \n",
       "486779 2021-05-31 1호선 153    종로3가                승차 133  112   156 \n",
       "486780 2021-05-31 1호선 153    종로3가                하차 129  459  1022 \n",
       "486781 2021-05-31 1호선 154    종로5가                승차  44   72   182 \n",
       "486782 2021-05-31 1호선 154    종로5가                하차 149  663  1745 \n",
       "486783 2021-05-31 1호선 155    동대문                 승차 500  331   585 \n",
       "486784 2021-05-31 1호선 155    동대문                 하차  85  262   485 \n",
       "486785 2021-05-31 1호선 156    신설동                 승차 301  312   710 \n",
       "486786 2021-05-31 1호선 156    신설동                 하차 125  427  1098 \n",
       "486787 2021-05-31 1호선 157    제기동                 승차 209  346   899 \n",
       "486788 2021-05-31 1호선 157    제기동                 하차  91  334   758 \n",
       "486789 2021-05-31 1호선 158    청량리(서울시립대입구) 승차 442  617  1491 \n",
       "486790 2021-05-31 1호선 158    청량리(서울시립대입구) 하차 186  753   696 \n",
       "486791 2021-05-31 1호선 159    동묘앞                 승차 128  147   260 \n",
       "486792 2021-05-31 1호선 159    동묘앞                 하차  45  175   366 \n",
       "       08-09 09-10 ⋯ 16-17 17-18 18-19 19-20 20-21 21-22 22-23 23-  요일  \n",
       "1        741  940  ⋯ 3226  3447   3277 2898  2590  3004  2234  1008 화요일\n",
       "2        961 1472  ⋯ 2491  2572   2060 1991  1683  1217   764   605 화요일\n",
       "3        206  280  ⋯  958  1062   1146 1119   992   904   570   217 화요일\n",
       "4        571  577  ⋯  733   746    606  374   311   268   177   201 화요일\n",
       "5        203  333  ⋯ 1870  2129   2024 1806  1796  1780  1296   528 화요일\n",
       "6        546  926  ⋯ 1379  1420   1050  685   431   315   237   201 화요일\n",
       "7        205  347  ⋯ 1948  1850   1529 1292  1149  1004   724   281 화요일\n",
       "8        424  703  ⋯ 1209   884    722  487   262   249   209   230 화요일\n",
       "9        138  207  ⋯ 1409  1553   1121  843   841   546   313    90 화요일\n",
       "10       296  509  ⋯ 1163   946    623  345   246   209   113   116 화요일\n",
       "11       259  429  ⋯  859   894    667  468   348   290   214   147 화요일\n",
       "12       187  310  ⋯  853   732    666  507   482   437   372   337 화요일\n",
       "13       217  349  ⋯  524   585    472  331   246   228   158    89 화요일\n",
       "14       152  241  ⋯  514   566    502  389   427   489   387   360 화요일\n",
       "15       220  324  ⋯ 1245   924    651  514   339   232   117    49 화요일\n",
       "16       180  307  ⋯  633   627    417  338   322   281   299   233 화요일\n",
       "17       398  607  ⋯ 1707  1415   1029  770   675   486   309   177 화요일\n",
       "18       308  527  ⋯ 1212  1129    907  669   598   515   651   488 화요일\n",
       "19        87  182  ⋯ 1150   974    406  224   152   107    96    49 화요일\n",
       "20       159  230  ⋯  605   389    233  172   152   156   202   292 화요일\n",
       "551     3650 2165  ⋯ 3758  5373   9855 5040  3090  3108  1936  1117 수요일\n",
       "552    10071 5905  ⋯ 2553  2618   3238 2249  1531  1266   881   677 수요일\n",
       "553      387  512  ⋯ 1640  2678   7492 3084  2049  1982  1263   427 수요일\n",
       "554     9345 3252  ⋯  853   768    840  491   278   293   202   183 수요일\n",
       "555      410  546  ⋯ 3079  5096  11093 5368  4306  4499  3365  1714 수요일\n",
       "556    12946 6478  ⋯ 1579  1809   2431 1529   653   351   253   220 수요일\n",
       "557      304  475  ⋯ 3403  3519   4690 3290  2142  2539  1749   748 수요일\n",
       "558     3572 4002  ⋯ 1757  1524   2004 1143   370   322   238   237 수요일\n",
       "559      289  459  ⋯ 2369  3199   5213 2571  1607  1295   921   420 수요일\n",
       "560     5603 2906  ⋯ 1449  1201   1161  697   343   245   135   150 수요일\n",
       "⋮      ⋮     ⋮     ⋱ ⋮     ⋮     ⋮     ⋮     ⋮     ⋮     ⋮     ⋮    ⋮     \n",
       "486223  289   403  ⋯  878   725   604   526   327   309   207   47  일요일\n",
       "486224  287   527  ⋯  584   526   394   536   413   269   290  334  일요일\n",
       "486225  250   365  ⋯  661   642   493   300   197   173   138   34  일요일\n",
       "486226  251   356  ⋯  477   484   368   348   320   269   290  177  일요일\n",
       "486227  305   490  ⋯  906   724   503   282   183   141   112   43  일요일\n",
       "486228  295   517  ⋯  806   626   483   405   316   276   328  139  일요일\n",
       "486229  461   627  ⋯ 1128   983   988   607   427   342   205   63  일요일\n",
       "486230  395   623  ⋯ 1076   942   784   586   472   411   365  198  일요일\n",
       "486231  142   254  ⋯ 1764  1360  1067   409   146   113    56   27  일요일\n",
       "486232  348   739  ⋯  820   513   262   142   135   118   144   88  일요일\n",
       "486773 2520  1717  ⋯ 2366  4259  7326  3288  2164  2139  1389  323  월요일\n",
       "486774 8244  4318  ⋯ 1605  1917  2325  1361   850   771   570  273  월요일\n",
       "486775  285   286  ⋯ 1217  2564  5808  2070  1589  1523  1010  180  월요일\n",
       "486776 7643  2862  ⋯  456   521   552   286   176   118    93   49  월요일\n",
       "486777  324   424  ⋯ 1972  4523  8284  3369  2452  2911  2113  252  월요일\n",
       "486778 9928  5302  ⋯  903   900  1144   554   235   151   109   53  월요일\n",
       "486779  255   358  ⋯ 1997  2521  3819  2223  1519  1612  1385  208  월요일\n",
       "486780 2976  2688  ⋯ 1126   962  1039   519   157   146   136  100  월요일\n",
       "486781  265   395  ⋯ 2001  2729  4082  1816  1163   946   618  108  월요일\n",
       "486782 4684  2430  ⋯  932   755   663   362   181   140   104   49  월요일\n",
       "486783  723   580  ⋯  771   772   837   576   496   486   369  112  월요일\n",
       "486784  944   869  ⋯  601   582   670   770   463   380   372  335  월요일\n",
       "486785  999   568  ⋯ 1054  1441  2524   880   631   531   368   71  월요일\n",
       "486786 2727  1359  ⋯  586   740   979   670   447   342   343  193  월요일\n",
       "486787 1204   733  ⋯ 1362  1506  1531   666   429   314   297   86  월요일\n",
       "486788 1731  1355  ⋯  981   838  1037   679   418   353   369  197  월요일\n",
       "486789 1833  1118  ⋯ 1642  1573  1543   776   568   424   342   77  월요일\n",
       "486790 1525  1140  ⋯ 1272  1302  1769  1145   699   579   549  256  월요일\n",
       "486791  335   237  ⋯  886   859   828   404   226   162   129   40  월요일\n",
       "486792  939   486  ⋯  537   495   401   244   139   132   181  131  월요일\n",
       "       합계 \n",
       "1      39559\n",
       "2      31279\n",
       "3      11836\n",
       "4      10359\n",
       "5      21042\n",
       "6      16750\n",
       "7      17966\n",
       "8      15916\n",
       "9      13645\n",
       "10     13348\n",
       "11      9392\n",
       "12     10522\n",
       "13      6898\n",
       "14      7022\n",
       "15     10269\n",
       "16     10268\n",
       "17     15064\n",
       "18     15491\n",
       "19      8114\n",
       "20      8593\n",
       "551    58592\n",
       "552    52933\n",
       "553    27872\n",
       "554    27614\n",
       "555    50039\n",
       "556    47842\n",
       "557    35803\n",
       "558    33906\n",
       "559    28271\n",
       "560    28418\n",
       "⋮      ⋮    \n",
       "486223  9615\n",
       "486224  9994\n",
       "486225  7162\n",
       "486226  7286\n",
       "486227  9630\n",
       "486228 10343\n",
       "486229 12847\n",
       "486230 12991\n",
       "486231 13440\n",
       "486232 13544\n",
       "486773 40373\n",
       "486774 37761\n",
       "486775 20791\n",
       "486776 21145\n",
       "486777 33496\n",
       "486778 32805\n",
       "486779 23920\n",
       "486780 21669\n",
       "486781 21824\n",
       "486782 21814\n",
       "486783 10986\n",
       "486784 10655\n",
       "486785 13972\n",
       "486786 13665\n",
       "486787 16987\n",
       "486788 17378\n",
       "486789 19780\n",
       "486790 19710\n",
       "486791  7780\n",
       "486792  8112"
      ]
     },
     "metadata": {},
     "output_type": "display_data"
    }
   ],
   "source": [
    "data<- read.csv('data/data.csv',encoding = 'UTF-8')\n",
    "colnames(data)<-c('날짜','호선','역번호','역명','구분','-06','06-07','07-08','08-09','09-10','10-11','11-12','12-13','13-14','14-15','15-16','16-17','17-18','18-19','19-20','20-21','21-22','22-23','23-','요일')\n",
    "data$합계 <-apply(data[,6:24],1,sum)\n",
    "str(data)\n",
    "data[data$호선=='1호선',]"
   ]
  },
  {
   "cell_type": "code",
   "execution_count": 3,
   "metadata": {},
   "outputs": [
    {
     "data": {
      "text/html": [
       "<table class=\"dataframe\">\n",
       "<caption>A data.frame: 6 × 2</caption>\n",
       "<thead>\n",
       "\t<tr><th></th><th scope=col>자치구.기준일</th><th scope=col>합계</th></tr>\n",
       "\t<tr><th></th><th scope=col>&lt;date&gt;</th><th scope=col>&lt;int&gt;</th></tr>\n",
       "</thead>\n",
       "<tbody>\n",
       "\t<tr><th scope=row>1</th><td>2020-02-28</td><td> 9</td></tr>\n",
       "\t<tr><th scope=row>2</th><td>2020-02-29</td><td>12</td></tr>\n",
       "\t<tr><th scope=row>3</th><td>2020-03-01</td><td> 5</td></tr>\n",
       "\t<tr><th scope=row>4</th><td>2020-03-02</td><td> 5</td></tr>\n",
       "\t<tr><th scope=row>5</th><td>2020-03-03</td><td> 6</td></tr>\n",
       "\t<tr><th scope=row>6</th><td>2020-03-04</td><td> 0</td></tr>\n",
       "</tbody>\n",
       "</table>\n"
      ],
      "text/latex": [
       "A data.frame: 6 × 2\n",
       "\\begin{tabular}{r|ll}\n",
       "  & 자치구.기준일 & 합계\\\\\n",
       "  & <date> & <int>\\\\\n",
       "\\hline\n",
       "\t1 & 2020-02-28 &  9\\\\\n",
       "\t2 & 2020-02-29 & 12\\\\\n",
       "\t3 & 2020-03-01 &  5\\\\\n",
       "\t4 & 2020-03-02 &  5\\\\\n",
       "\t5 & 2020-03-03 &  6\\\\\n",
       "\t6 & 2020-03-04 &  0\\\\\n",
       "\\end{tabular}\n"
      ],
      "text/markdown": [
       "\n",
       "A data.frame: 6 × 2\n",
       "\n",
       "| <!--/--> | 자치구.기준일 &lt;date&gt; | 합계 &lt;int&gt; |\n",
       "|---|---|---|\n",
       "| 1 | 2020-02-28 |  9 |\n",
       "| 2 | 2020-02-29 | 12 |\n",
       "| 3 | 2020-03-01 |  5 |\n",
       "| 4 | 2020-03-02 |  5 |\n",
       "| 5 | 2020-03-03 |  6 |\n",
       "| 6 | 2020-03-04 |  0 |\n",
       "\n"
      ],
      "text/plain": [
       "  자치구.기준일 합계\n",
       "1 2020-02-28     9  \n",
       "2 2020-02-29    12  \n",
       "3 2020-03-01     5  \n",
       "4 2020-03-02     5  \n",
       "5 2020-03-03     6  \n",
       "6 2020-03-04     0  "
      ]
     },
     "metadata": {},
     "output_type": "display_data"
    }
   ],
   "source": [
    "corona <- read.csv('data/코로나동향.csv',header = T)\n",
    "\n",
    "corona_new <- corona[,seq(1,53,2)]\n",
    "corona_new$합계 <- apply(corona_new[,-1],1,sum)\n",
    "corona_new$`자치구.기준일`<- as.Date(corona_new$`자치구.기준일`,format = '%Y.%m.%d')\n",
    "corona_new <- corona_new[,c(1,28)]\n",
    "\n",
    "corona_new <- corona_new[seq(519,1,-1),]\n",
    "row.names(corona_new) <- c()\n",
    "head(corona_new)"
   ]
  },
  {
   "cell_type": "code",
   "execution_count": 45,
   "metadata": {},
   "outputs": [
    {
     "data": {
      "text/html": [
       "<table class=\"dataframe\">\n",
       "<caption>A data.frame: 6 × 28</caption>\n",
       "<thead>\n",
       "\t<tr><th></th><th scope=col>자치구 기준일</th><th scope=col>종로구 추가</th><th scope=col>중구 추가</th><th scope=col>용산구 추가</th><th scope=col>성동구 추가</th><th scope=col>광진구 추가</th><th scope=col>동대문구 추가</th><th scope=col>중랑구 추가</th><th scope=col>성북구 추가</th><th scope=col>강북구 추가</th><th scope=col>⋯</th><th scope=col>금천구 추가</th><th scope=col>영등포구 추가</th><th scope=col>동작구 추가</th><th scope=col>관악구 추가</th><th scope=col>서추구 추가</th><th scope=col>강남구 추가</th><th scope=col>송파구 추가</th><th scope=col>강동구 추가</th><th scope=col>기타 추가</th><th scope=col>합계</th></tr>\n",
       "\t<tr><th></th><th scope=col>&lt;chr&gt;</th><th scope=col>&lt;int&gt;</th><th scope=col>&lt;int&gt;</th><th scope=col>&lt;int&gt;</th><th scope=col>&lt;int&gt;</th><th scope=col>&lt;int&gt;</th><th scope=col>&lt;int&gt;</th><th scope=col>&lt;int&gt;</th><th scope=col>&lt;int&gt;</th><th scope=col>&lt;int&gt;</th><th scope=col>⋯</th><th scope=col>&lt;int&gt;</th><th scope=col>&lt;int&gt;</th><th scope=col>&lt;int&gt;</th><th scope=col>&lt;int&gt;</th><th scope=col>&lt;int&gt;</th><th scope=col>&lt;int&gt;</th><th scope=col>&lt;int&gt;</th><th scope=col>&lt;int&gt;</th><th scope=col>&lt;int&gt;</th><th scope=col>&lt;int&gt;</th></tr>\n",
       "</thead>\n",
       "<tbody>\n",
       "\t<tr><th scope=row>1</th><td>2021.07.29.00</td><td> 5</td><td>11</td><td> 7</td><td>10</td><td>17</td><td>10</td><td>12</td><td>17</td><td> 8</td><td>⋯</td><td> 6</td><td>32</td><td>36</td><td>61</td><td>37</td><td>32</td><td>27</td><td>18</td><td>22</td><td>515</td></tr>\n",
       "\t<tr><th scope=row>2</th><td>2021.07.28.00</td><td> 6</td><td> 9</td><td>14</td><td> 9</td><td>25</td><td>12</td><td>21</td><td>16</td><td>12</td><td>⋯</td><td>19</td><td>27</td><td>35</td><td>55</td><td>19</td><td>39</td><td>34</td><td>27</td><td>32</td><td>573</td></tr>\n",
       "\t<tr><th scope=row>3</th><td>2021.07.27.00</td><td> 2</td><td> 5</td><td>13</td><td>13</td><td> 8</td><td> 7</td><td>12</td><td>13</td><td> 5</td><td>⋯</td><td>15</td><td>16</td><td>30</td><td>31</td><td> 8</td><td>19</td><td>18</td><td>16</td><td>13</td><td>351</td></tr>\n",
       "\t<tr><th scope=row>4</th><td>2021.07.26.00</td><td> 4</td><td> 7</td><td> 7</td><td>14</td><td>12</td><td> 8</td><td> 6</td><td>11</td><td>12</td><td>⋯</td><td>11</td><td>22</td><td>15</td><td>30</td><td>13</td><td>24</td><td>13</td><td>20</td><td>14</td><td>341</td></tr>\n",
       "\t<tr><th scope=row>5</th><td>2021.07.25.00</td><td>10</td><td> 7</td><td>12</td><td> 6</td><td>14</td><td> 7</td><td>18</td><td>17</td><td>12</td><td>⋯</td><td>10</td><td>27</td><td>33</td><td>52</td><td>26</td><td>32</td><td>22</td><td>22</td><td>23</td><td>489</td></tr>\n",
       "\t<tr><th scope=row>6</th><td>2021.07.24.00</td><td> 4</td><td> 9</td><td>15</td><td>16</td><td>18</td><td> 8</td><td>25</td><td> 8</td><td>17</td><td>⋯</td><td>13</td><td>13</td><td>30</td><td>40</td><td>21</td><td>32</td><td>34</td><td>18</td><td>24</td><td>465</td></tr>\n",
       "</tbody>\n",
       "</table>\n"
      ],
      "text/latex": [
       "A data.frame: 6 × 28\n",
       "\\begin{tabular}{r|lllllllllllllllllllll}\n",
       "  & 자치구 기준일 & 종로구 추가 & 중구 추가 & 용산구 추가 & 성동구 추가 & 광진구 추가 & 동대문구 추가 & 중랑구 추가 & 성북구 추가 & 강북구 추가 & ⋯ & 금천구 추가 & 영등포구 추가 & 동작구 추가 & 관악구 추가 & 서추구 추가 & 강남구 추가 & 송파구 추가 & 강동구 추가 & 기타 추가 & 합계\\\\\n",
       "  & <chr> & <int> & <int> & <int> & <int> & <int> & <int> & <int> & <int> & <int> & ⋯ & <int> & <int> & <int> & <int> & <int> & <int> & <int> & <int> & <int> & <int>\\\\\n",
       "\\hline\n",
       "\t1 & 2021.07.29.00 &  5 & 11 &  7 & 10 & 17 & 10 & 12 & 17 &  8 & ⋯ &  6 & 32 & 36 & 61 & 37 & 32 & 27 & 18 & 22 & 515\\\\\n",
       "\t2 & 2021.07.28.00 &  6 &  9 & 14 &  9 & 25 & 12 & 21 & 16 & 12 & ⋯ & 19 & 27 & 35 & 55 & 19 & 39 & 34 & 27 & 32 & 573\\\\\n",
       "\t3 & 2021.07.27.00 &  2 &  5 & 13 & 13 &  8 &  7 & 12 & 13 &  5 & ⋯ & 15 & 16 & 30 & 31 &  8 & 19 & 18 & 16 & 13 & 351\\\\\n",
       "\t4 & 2021.07.26.00 &  4 &  7 &  7 & 14 & 12 &  8 &  6 & 11 & 12 & ⋯ & 11 & 22 & 15 & 30 & 13 & 24 & 13 & 20 & 14 & 341\\\\\n",
       "\t5 & 2021.07.25.00 & 10 &  7 & 12 &  6 & 14 &  7 & 18 & 17 & 12 & ⋯ & 10 & 27 & 33 & 52 & 26 & 32 & 22 & 22 & 23 & 489\\\\\n",
       "\t6 & 2021.07.24.00 &  4 &  9 & 15 & 16 & 18 &  8 & 25 &  8 & 17 & ⋯ & 13 & 13 & 30 & 40 & 21 & 32 & 34 & 18 & 24 & 465\\\\\n",
       "\\end{tabular}\n"
      ],
      "text/markdown": [
       "\n",
       "A data.frame: 6 × 28\n",
       "\n",
       "| <!--/--> | 자치구 기준일 &lt;chr&gt; | 종로구 추가 &lt;int&gt; | 중구 추가 &lt;int&gt; | 용산구 추가 &lt;int&gt; | 성동구 추가 &lt;int&gt; | 광진구 추가 &lt;int&gt; | 동대문구 추가 &lt;int&gt; | 중랑구 추가 &lt;int&gt; | 성북구 추가 &lt;int&gt; | 강북구 추가 &lt;int&gt; | ⋯ ⋯ | 금천구 추가 &lt;int&gt; | 영등포구 추가 &lt;int&gt; | 동작구 추가 &lt;int&gt; | 관악구 추가 &lt;int&gt; | 서추구 추가 &lt;int&gt; | 강남구 추가 &lt;int&gt; | 송파구 추가 &lt;int&gt; | 강동구 추가 &lt;int&gt; | 기타 추가 &lt;int&gt; | 합계 &lt;int&gt; |\n",
       "|---|---|---|---|---|---|---|---|---|---|---|---|---|---|---|---|---|---|---|---|---|---|\n",
       "| 1 | 2021.07.29.00 |  5 | 11 |  7 | 10 | 17 | 10 | 12 | 17 |  8 | ⋯ |  6 | 32 | 36 | 61 | 37 | 32 | 27 | 18 | 22 | 515 |\n",
       "| 2 | 2021.07.28.00 |  6 |  9 | 14 |  9 | 25 | 12 | 21 | 16 | 12 | ⋯ | 19 | 27 | 35 | 55 | 19 | 39 | 34 | 27 | 32 | 573 |\n",
       "| 3 | 2021.07.27.00 |  2 |  5 | 13 | 13 |  8 |  7 | 12 | 13 |  5 | ⋯ | 15 | 16 | 30 | 31 |  8 | 19 | 18 | 16 | 13 | 351 |\n",
       "| 4 | 2021.07.26.00 |  4 |  7 |  7 | 14 | 12 |  8 |  6 | 11 | 12 | ⋯ | 11 | 22 | 15 | 30 | 13 | 24 | 13 | 20 | 14 | 341 |\n",
       "| 5 | 2021.07.25.00 | 10 |  7 | 12 |  6 | 14 |  7 | 18 | 17 | 12 | ⋯ | 10 | 27 | 33 | 52 | 26 | 32 | 22 | 22 | 23 | 489 |\n",
       "| 6 | 2021.07.24.00 |  4 |  9 | 15 | 16 | 18 |  8 | 25 |  8 | 17 | ⋯ | 13 | 13 | 30 | 40 | 21 | 32 | 34 | 18 | 24 | 465 |\n",
       "\n"
      ],
      "text/plain": [
       "  자치구 기준일 종로구 추가 중구 추가 용산구 추가 성동구 추가 광진구 추가\n",
       "1 2021.07.29.00  5          11         7          10          17         \n",
       "2 2021.07.28.00  6           9        14           9          25         \n",
       "3 2021.07.27.00  2           5        13          13           8         \n",
       "4 2021.07.26.00  4           7         7          14          12         \n",
       "5 2021.07.25.00 10           7        12           6          14         \n",
       "6 2021.07.24.00  4           9        15          16          18         \n",
       "  동대문구 추가 중랑구 추가 성북구 추가 강북구 추가 ⋯ 금천구 추가 영등포구 추가\n",
       "1 10            12          17           8          ⋯  6          32           \n",
       "2 12            21          16          12          ⋯ 19          27           \n",
       "3  7            12          13           5          ⋯ 15          16           \n",
       "4  8             6          11          12          ⋯ 11          22           \n",
       "5  7            18          17          12          ⋯ 10          27           \n",
       "6  8            25           8          17          ⋯ 13          13           \n",
       "  동작구 추가 관악구 추가 서추구 추가 강남구 추가 송파구 추가 강동구 추가\n",
       "1 36          61          37          32          27          18         \n",
       "2 35          55          19          39          34          27         \n",
       "3 30          31           8          19          18          16         \n",
       "4 15          30          13          24          13          20         \n",
       "5 33          52          26          32          22          22         \n",
       "6 30          40          21          32          34          18         \n",
       "  기타 추가 합계\n",
       "1 22        515 \n",
       "2 32        573 \n",
       "3 13        351 \n",
       "4 14        341 \n",
       "5 23        489 \n",
       "6 24        465 "
      ]
     },
     "metadata": {},
     "output_type": "display_data"
    },
    {
     "name": "stdout",
     "output_type": "stream",
     "text": [
      "'data.frame':\t487334 obs. of  26 variables:\n",
      " $ 날짜  : Date, format: \"2019-01-01\" \"2019-01-01\" ...\n",
      " $ 호선  : chr  \"1호선\" \"1호선\" \"1호선\" \"1호선\" ...\n",
      " $ 역번호: int  150 150 151 151 152 152 153 153 154 154 ...\n",
      " $ 역명  : chr  \"서울역\" \"서울역\" \"시청\" \"시청\" ...\n",
      " $ 구분  : chr  \"승차\" \"하차\" \"승차\" \"하차\" ...\n",
      " $ -06   : int  348 222 87 48 669 68 227 38 48 25 ...\n",
      " $ 06-07 : int  321 821 98 237 318 179 198 180 80 102 ...\n",
      " $ 07-08 : int  348 808 143 323 217 293 148 261 67 140 ...\n",
      " $ 08-09 : int  741 961 206 571 203 546 205 424 138 296 ...\n",
      " $ 09-10 : int  940 1472 280 577 333 926 347 703 207 509 ...\n",
      " $ 10-11 : int  1401 1737 395 648 365 945 479 961 362 763 ...\n",
      " $ 11-12 : int  2166 1917 500 744 666 1334 933 1595 686 974 ...\n",
      " $ 12-13 : int  2844 2316 672 960 802 1566 1184 1977 991 1717 ...\n",
      " $ 13-14 : int  3055 2539 673 996 1103 1750 1228 2040 1364 1875 ...\n",
      " $ 14-15 : int  2341 2360 868 875 1294 1771 1636 2038 1537 1773 ...\n",
      " $ 15-16 : int  3370 2743 946 964 1843 1654 1604 1447 1449 1413 ...\n",
      " $ 16-17 : int  3226 2491 958 733 1870 1379 1948 1209 1409 1163 ...\n",
      " $ 17-18 : int  3447 2572 1062 746 2129 1420 1850 884 1553 946 ...\n",
      " $ 18-19 : int  3277 2060 1146 606 2024 1050 1529 722 1121 623 ...\n",
      " $ 19-20 : int  2898 1991 1119 374 1806 685 1292 487 843 345 ...\n",
      " $ 20-21 : int  2590 1683 992 311 1796 431 1149 262 841 246 ...\n",
      " $ 21-22 : int  3004 1217 904 268 1780 315 1004 249 546 209 ...\n",
      " $ 22-23 : int  2234 764 570 177 1296 237 724 209 313 113 ...\n",
      " $ 23-   : int  1008 605 217 201 528 201 281 230 90 116 ...\n",
      " $ 요일  : chr  \"화요일\" \"화요일\" \"화요일\" \"화요일\" ...\n",
      " $ 합계  : int  39559 31279 11836 10359 21042 16750 17966 15916 13645 13348 ...\n"
     ]
    }
   ],
   "source": [
    "## 2020년 11월 24일 처음으로 9시 이후 영업 금지가 실행됨\n",
    "\n",
    "corona <- read.csv('data/코로나동향.csv',header = T)\n",
    "colnames(corona)<- gsub('\\\\.',' ',colnames(corona))\n",
    "corona_new <- corona[,seq(1,53,2)]\n",
    "corona_new$합계 <- apply(corona_new[,-1],1,sum)\n",
    "head(corona_new)\n",
    "\n",
    "\n",
    "data<- read.csv('data/data.csv',encoding = 'UTF-8')\n",
    "colnames(data)<-c('날짜','호선','역번호','역명','구분','-06','06-07','07-08','08-09','09-10','10-11','11-12','12-13','13-14','14-15','15-16','16-17','17-18','18-19','19-20','20-21','21-22','22-23','23-','요일')\n",
    "data$날짜 <- as.Date(data$날짜, format = '%Y-%m-%d')\n",
    "data$합계 <-apply(data[,6:24],1,sum)\n",
    "str(data)"
   ]
  },
  {
   "cell_type": "code",
   "execution_count": 79,
   "metadata": {},
   "outputs": [
    {
     "data": {
      "text/plain": [
       "\n",
       "\tWilcoxon rank sum test with continuity correction\n",
       "\n",
       "data:  apply(b[, 5:9], 1, sum) and apply(c[, 5:9], 1, sum)\n",
       "W = 112741414, p-value < 2.2e-16\n",
       "alternative hypothesis: true location shift is less than 0\n"
      ]
     },
     "metadata": {},
     "output_type": "display_data"
    },
    {
     "data": {
      "text/plain": [
       "\n",
       "\tWilcoxon rank sum test with continuity correction\n",
       "\n",
       "data:  apply(a[, 5:9], 1, sum) and apply(b[, 5:9], 1, sum)\n",
       "W = 118169909, p-value < 2.2e-16\n",
       "alternative hypothesis: true location shift is less than 0\n"
      ]
     },
     "metadata": {},
     "output_type": "display_data"
    }
   ],
   "source": [
    "data_after6<-data[,c('날짜','호선','역명','구분','18-19','19-20','20-21','21-22','22-23','23-')]\n",
    "b<-data_after6[data_after6$날짜 %in% c(as.Date('2020-11-24')-30:1),]\n",
    "c<-data_after6[data_after6$날짜 %in% c(as.Date('2019-11-24')-30:1),]\n",
    "a<-data_after6[data_after6$날짜 %in% c(as.Date('2020-11-24')+1:30),]\n",
    "\n",
    "wilcox.test(apply(b[,5:9],1,sum),apply(c[,5:9],1,sum),alternative = 'less')\n",
    "wilcox.test(apply(a[,5:9],1,sum),apply(b[,5:9],1,sum),alternative = 'less')"
   ]
  },
  {
   "cell_type": "code",
   "execution_count": 78,
   "metadata": {},
   "outputs": [
    {
     "data": {
      "image/png": "[encoded data removed]",
      "text/plain": [
       "Plot with title “Histogram of apply(b[, 5:9], 1, sum)”"
      ]
     },
     "metadata": {
      "image/png": {
       "height": 420,
       "width": 420
      }
     },
     "output_type": "display_data"
    },
    {
     "data": {
      "text/plain": [
       "\n",
       "\tWilcoxon rank sum test with continuity correction\n",
       "\n",
       "data:  apply(b[, 5:9], 1, sum) and apply(c[, 5:9], 1, sum)\n",
       "W = 112741414, p-value < 2.2e-16\n",
       "alternative hypothesis: true location shift is less than 0\n"
      ]
     },
     "metadata": {},
     "output_type": "display_data"
    },
    {
     "data": {
      "image/png": "[encoded data removed]",
      "text/plain": [
       "Plot with title “Histogram of apply(c[, 5:9], 1, sum)”"
      ]
     },
     "metadata": {
      "image/png": {
       "height": 420,
       "width": 420
      }
     },
     "output_type": "display_data"
    }
   ],
   "source": [
    "hist(apply(b[,5:9],1,sum))\n",
    "hist(apply(c[,5:9],1,sum))\n",
    "wilcox.test(apply(b[,5:9],1,sum),apply(c[,5:9],1,sum),alt='less')"
   ]
  },
  {
   "cell_type": "code",
   "execution_count": 82,
   "metadata": {},
   "outputs": [
    {
     "data": {
      "text/html": [
       "519"
      ],
      "text/latex": [
       "519"
      ],
      "text/markdown": [
       "519"
      ],
      "text/plain": [
       "[1] 519"
      ]
     },
     "metadata": {},
     "output_type": "display_data"
    },
    {
     "data": {
      "text/html": [
       "487334"
      ],
      "text/latex": [
       "487334"
      ],
      "text/markdown": [
       "487334"
      ],
      "text/plain": [
       "[1] 487334"
      ]
     },
     "metadata": {},
     "output_type": "display_data"
    },
    {
     "ename": "ERROR",
     "evalue": "Error in cor(corona_new$합계, data$합계): 호환되지 않는 차원들입니다\n",
     "output_type": "error",
     "traceback": [
      "Error in cor(corona_new$합계, data$합계): 호환되지 않는 차원들입니다\nTraceback:\n",
      "1. cor(corona_new$합계, data$합계)"
     ]
    }
   ],
   "source": [
    "# 코로나 발생 동향 지하철 유동인구 상관관계\n",
    "length(corona_new$합계)\n",
    "\n",
    "\n",
    "length(data$합계)\n",
    "\n",
    "data$날짜>=as.Date('2020-02-28') & \n"
   ]
  }
 ],
 "metadata": {
  "kernelspec": {
   "display_name": "R",
   "language": "R",
   "name": "ir"
  },
  "language_info": {
   "codemirror_mode": "r",
   "file_extension": ".r",
   "mimetype": "text/x-r-source",
   "name": "R",
   "pygments_lexer": "r",
   "version": "4.1.0"
  }
 },
 "nbformat": 4,
 "nbformat_minor": 4
}
