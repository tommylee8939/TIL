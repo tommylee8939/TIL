{
 "cells": [
  {
   "cell_type": "code",
   "execution_count": 2,
   "id": "ffc5c6a8",
   "metadata": {},
   "outputs": [],
   "source": [
    "import numpy as np"
   ]
  },
  {
   "cell_type": "code",
   "execution_count": 3,
   "id": "c4a5dedf",
   "metadata": {},
   "outputs": [],
   "source": [
    "def sigmoid(x):\n",
    "    sig = 1 / (1 + numpy.exp(-x))\n",
    "    return sig"
   ]
  },
  {
   "cell_type": "code",
   "execution_count": 5,
   "id": "b90b13c0",
   "metadata": {},
   "outputs": [],
   "source": [
    "def sigmoid_derivative(x):\n",
    "    return x * (1 - x)"
   ]
  },
  {
   "cell_type": "code",
   "execution_count": null,
   "id": "feeadfad",
   "metadata": {},
   "outputs": [],
   "source": [
    "def error_derivative(x):\n",
    "    return 2*np.sqrt(x)"
   ]
  },
  {
   "cell_type": "code",
   "execution_count": null,
   "id": "9159abfe",
   "metadata": {},
   "outputs": [],
   "source": [
    "target layer\n",
    "\n",
    "hidden layer\n",
    "\n",
    "input layer"
   ]
  },
  {
   "cell_type": "code",
   "execution_count": 11,
   "id": "85fa2d1c",
   "metadata": {},
   "outputs": [],
   "source": [
    "input = np.array([1,2,3])\n",
    "input = "
   ]
  },
  {
   "cell_type": "code",
   "execution_count": 10,
   "id": "899f9f79",
   "metadata": {},
   "outputs": [],
   "source": [
    "hidden_layer = np.array([4,5])"
   ]
  },
  {
   "cell_type": "code",
   "execution_count": null,
   "id": "647fe764",
   "metadata": {},
   "outputs": [],
   "source": [
    "w11 w21\n",
    "w12 w22"
   ]
  },
  {
   "cell_type": "code",
   "execution_count": 8,
   "id": "556e772b",
   "metadata": {},
   "outputs": [
    {
     "data": {
      "text/plain": [
       "2.0"
      ]
     },
     "execution_count": 8,
     "metadata": {},
     "output_type": "execute_result"
    }
   ],
   "source": [
    "np.sqrt(4)"
   ]
  }
 ],
 "metadata": {
  "kernelspec": {
   "display_name": "Python 3 (ipykernel)",
   "language": "python",
   "name": "python3"
  },
  "language_info": {
   "codemirror_mode": {
    "name": "ipython",
    "version": 3
   },
   "file_extension": ".py",
   "mimetype": "text/x-python",
   "name": "python",
   "nbconvert_exporter": "python",
   "pygments_lexer": "ipython3",
   "version": "3.8.2"
  }
 },
 "nbformat": 4,
 "nbformat_minor": 5
}
