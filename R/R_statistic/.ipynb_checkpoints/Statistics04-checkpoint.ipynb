{
 "cells": [
  {
   "cell_type": "markdown",
   "id": "worst-update",
   "metadata": {},
   "source": [
    "### Gof : Goodness of fit test\n",
    "-[]**location scale** =>qqnorm\n",
    "\n",
    "-[]**shapiro test** =>shapiro.test\n",
    "\n",
    "-[]**Kolmogorov-Smirnov tests** =>ks.test\n",
    "\n",
    "-[]**chisquare test** =>chisq.test \n",
    "#### 정규성을 평가할때는 location scale이랑 shapiro test가 가장 강력하다 나머지는 정규성 평가할때는 그렇게 강력하지 않다고 한다\n",
    "\n"
   ]
  },
  {
   "cell_type": "code",
   "execution_count": null,
   "id": "identified-average",
   "metadata": {},
   "outputs": [],
   "source": [
    "# lcoation scale은 statistics03에서 다뤘다"
   ]
  },
  {
   "cell_type": "markdown",
   "id": "logical-carolina",
   "metadata": {},
   "source": [
    "### ks.test\n",
    "- 비모수적 방법이다\n",
    "- 검정 통계량이 D:길이이다\n",
    "- 중요한건 누적분포 그래프에서 확인한다는 사실이다"
   ]
  },
  {
   "cell_type": "code",
   "execution_count": 37,
   "id": "intermediate-teach",
   "metadata": {},
   "outputs": [
    {
     "data": {
      "text/plain": [
       "\n",
       "\tOne-sample Kolmogorov-Smirnov test\n",
       "\n",
       "data:  sample\n",
       "D = 0.030277, p-value = 0.3184\n",
       "alternative hypothesis: two-sided\n"
      ]
     },
     "metadata": {},
     "output_type": "display_data"
    }
   ],
   "source": [
    "sample<-rgamma(1000,shape = 1,scale = 2)\n",
    "\n",
    "ks.test(sample,pgamma,shape = 1,scale =2)\n",
    "# fail to reject => 분포를 따른다"
   ]
  },
  {
   "cell_type": "markdown",
   "id": "balanced-philippines",
   "metadata": {},
   "source": [
    "### shapiro test\n",
    "- 정규성을 검사하기 가장 간편한 방법이다\n",
    "- 그냥 numeric vector만 집어 넣기만하면 된다\n",
    "- H0:Normal vs H1: Not normal\n"
   ]
  },
  {
   "cell_type": "code",
   "execution_count": 1,
   "id": "ultimate-affiliation",
   "metadata": {},
   "outputs": [
    {
     "data": {
      "text/plain": [
       "\n",
       "\tShapiro-Wilk normality test\n",
       "\n",
       "data:  sampleNormal\n",
       "W = 0.98347, p-value = 0.2449\n"
      ]
     },
     "metadata": {},
     "output_type": "display_data"
    },
    {
     "data": {
      "text/plain": [
       "\n",
       "\tShapiro-Wilk normality test\n",
       "\n",
       "data:  sampleNotNormal\n",
       "W = 0.86553, p-value = 4.649e-08\n"
      ]
     },
     "metadata": {},
     "output_type": "display_data"
    }
   ],
   "source": [
    "sampleNormal <- rnorm(100)\n",
    "sampleNotNormal <-rexp(100)\n",
    "\n",
    "shapiro.test(sampleNormal) # p-value >>>0.05 fail to reject, follows normal\n",
    "shapiro.test(sampleNotNormal) # p-value <<<0.05 reject Null hyphothesis"
   ]
  },
  {
   "cell_type": "markdown",
   "id": "breeding-bulletin",
   "metadata": {},
   "source": [
    "### Chisquare test\n",
    "- 카이제곱 검정 => one sided test\n",
    "- 1.적합도 검정 (다항분포 검정)\n",
    "- 2.독립성 검정(분할표)"
   ]
  },
  {
   "cell_type": "code",
   "execution_count": 107,
   "id": "strategic-light",
   "metadata": {},
   "outputs": [
    {
     "data": {
      "text/html": [
       "<ol class=list-inline>\n",
       "\t<li>'statistic'</li>\n",
       "\t<li>'parameter'</li>\n",
       "\t<li>'p.value'</li>\n",
       "\t<li>'method'</li>\n",
       "\t<li>'data.name'</li>\n",
       "\t<li>'observed'</li>\n",
       "\t<li>'expected'</li>\n",
       "\t<li>'residuals'</li>\n",
       "\t<li>'stdres'</li>\n",
       "</ol>\n"
      ],
      "text/latex": [
       "\\begin{enumerate*}\n",
       "\\item 'statistic'\n",
       "\\item 'parameter'\n",
       "\\item 'p.value'\n",
       "\\item 'method'\n",
       "\\item 'data.name'\n",
       "\\item 'observed'\n",
       "\\item 'expected'\n",
       "\\item 'residuals'\n",
       "\\item 'stdres'\n",
       "\\end{enumerate*}\n"
      ],
      "text/markdown": [
       "1. 'statistic'\n",
       "2. 'parameter'\n",
       "3. 'p.value'\n",
       "4. 'method'\n",
       "5. 'data.name'\n",
       "6. 'observed'\n",
       "7. 'expected'\n",
       "8. 'residuals'\n",
       "9. 'stdres'\n",
       "\n",
       "\n"
      ],
      "text/plain": [
       "[1] \"statistic\" \"parameter\" \"p.value\"   \"method\"    \"data.name\" \"observed\" \n",
       "[7] \"expected\"  \"residuals\" \"stdres\"   "
      ]
     },
     "metadata": {},
     "output_type": "display_data"
    },
    {
     "data": {
      "text/html": [
       "0.047755231078827"
      ],
      "text/latex": [
       "0.047755231078827"
      ],
      "text/markdown": [
       "0.047755231078827"
      ],
      "text/plain": [
       "[1] 0.04775523"
      ]
     },
     "metadata": {},
     "output_type": "display_data"
    },
    {
     "data": {
      "text/html": [
       "<ol class=list-inline>\n",
       "\t<li>19</li>\n",
       "\t<li>41</li>\n",
       "\t<li>40</li>\n",
       "</ol>\n"
      ],
      "text/latex": [
       "\\begin{enumerate*}\n",
       "\\item 19\n",
       "\\item 41\n",
       "\\item 40\n",
       "\\end{enumerate*}\n"
      ],
      "text/markdown": [
       "1. 19\n",
       "2. 41\n",
       "3. 40\n",
       "\n",
       "\n"
      ],
      "text/plain": [
       "[1] 19 41 40"
      ]
     },
     "metadata": {},
     "output_type": "display_data"
    },
    {
     "data": {
      "text/html": [
       "<ol class=list-inline>\n",
       "\t<li>20</li>\n",
       "\t<li>30</li>\n",
       "\t<li>50</li>\n",
       "</ol>\n"
      ],
      "text/latex": [
       "\\begin{enumerate*}\n",
       "\\item 20\n",
       "\\item 30\n",
       "\\item 50\n",
       "\\end{enumerate*}\n"
      ],
      "text/markdown": [
       "1. 20\n",
       "2. 30\n",
       "3. 50\n",
       "\n",
       "\n"
      ],
      "text/plain": [
       "[1] 20 30 50"
      ]
     },
     "metadata": {},
     "output_type": "display_data"
    },
    {
     "data": {
      "text/html": [
       "<strong>X-squared:</strong> 6.08333333333333"
      ],
      "text/latex": [
       "\\textbf{X-squared:} 6.08333333333333"
      ],
      "text/markdown": [
       "**X-squared:** 6.08333333333333"
      ],
      "text/plain": [
       "X-squared \n",
       " 6.083333 "
      ]
     },
     "metadata": {},
     "output_type": "display_data"
    }
   ],
   "source": [
    "## 독립성 검정은 나중에 살표보고 여기서는 적합도 검정을 살펴보겠다\n",
    "# 카이제곱 적합도 검정에서 key는 (k-1)의 자유도를 가지는 카이제곱 검정 통계량이다\n",
    "# k가 의미하는것은 나올수 있는 배반이고 포괄인 사건의 갯수다\n",
    "# chisq.test(x=,p=) 명시안해주면 다른 검정 추정할수 있다\n",
    "\n",
    "# 가장 간단한 예시\n",
    "# 멘델의 유전법칙\n",
    "# 멘델의 유전법칙\n",
    "# A : B : C = 2 : 3 : 5 \n",
    "# A형 19개, B형 41개, C형 40개였다\n",
    "n<-19+41+40\n",
    "\n",
    "fi<-c(19,41,40)\n",
    "prob<-c(0.2,0.3,0.5)\n",
    "chi<-chisq.test(x=fi,p = prob)\n",
    "names(chi) # 모가 디게 많이 들어있다\n",
    "chi$p.value # 0.05보다 작아서 기각 => 따르지 않음\n",
    "chi$observed\n",
    "chi$expected\n",
    "chi$statistic\n"
   ]
  },
  {
   "cell_type": "markdown",
   "id": "lonely-liberal",
   "metadata": {},
   "source": [
    "- 위의 멘델의 법칙 예시에서는 모든 것이 주어져 있다\n",
    "- fi pi가 다 주어져있다\n",
    "- 조금 더 카이제곱 적합도 검정을 확장시켜보자"
   ]
  },
  {
   "cell_type": "code",
   "execution_count": 189,
   "id": "opposite-diary",
   "metadata": {},
   "outputs": [
    {
     "data": {
      "text/plain": [
       "\n",
       "   (-Inf,-3.76]   (-3.76,-3.11]   (-3.11,-2.68]   (-2.68,-2.35]   (-2.35,-2.07] \n",
       "             41              24              35              26              34 \n",
       "  (-2.07,-1.83]   (-1.83,-1.61]   (-1.61,-1.41]   (-1.41,-1.23]   (-1.23,-1.05] \n",
       "             37              21              26              34              20 \n",
       "  (-1.05,-0.88]  (-0.88,-0.717] (-0.717,-0.559] (-0.559,-0.404] (-0.404,-0.251] \n",
       "             25              41              40              24              32 \n",
       "  (-0.251,-0.1]   (-0.1,0.0501]  (0.0501,0.201]   (0.201,0.353]   (0.353,0.507] \n",
       "             31              36              21              26              27 \n",
       "  (0.507,0.664]   (0.664,0.825]   (0.825,0.992]    (0.992,1.17]     (1.17,1.35] \n",
       "             21              35              27              33              25 \n",
       "    (1.35,1.54]     (1.54,1.76]     (1.76,1.99]     (1.99,2.25]     (2.25,2.56] \n",
       "             38              24              36              30              22 \n",
       "    (2.56,2.95]      (2.95,3.5]      (3.5,4.65] \n",
       "             30              28              41 "
      ]
     },
     "metadata": {},
     "output_type": "display_data"
    },
    {
     "data": {
      "text/html": [
       "<ol class=list-inline>\n",
       "\t<li>41</li>\n",
       "\t<li>24</li>\n",
       "\t<li>35</li>\n",
       "\t<li>26</li>\n",
       "\t<li>34</li>\n",
       "\t<li>37</li>\n",
       "\t<li>21</li>\n",
       "\t<li>26</li>\n",
       "\t<li>34</li>\n",
       "\t<li>20</li>\n",
       "\t<li>25</li>\n",
       "\t<li>41</li>\n",
       "\t<li>40</li>\n",
       "\t<li>24</li>\n",
       "\t<li>32</li>\n",
       "\t<li>31</li>\n",
       "\t<li>36</li>\n",
       "\t<li>21</li>\n",
       "\t<li>26</li>\n",
       "\t<li>27</li>\n",
       "\t<li>21</li>\n",
       "\t<li>35</li>\n",
       "\t<li>27</li>\n",
       "\t<li>33</li>\n",
       "\t<li>25</li>\n",
       "\t<li>38</li>\n",
       "\t<li>24</li>\n",
       "\t<li>36</li>\n",
       "\t<li>30</li>\n",
       "\t<li>22</li>\n",
       "\t<li>30</li>\n",
       "\t<li>28</li>\n",
       "\t<li>41</li>\n",
       "</ol>\n"
      ],
      "text/latex": [
       "\\begin{enumerate*}\n",
       "\\item 41\n",
       "\\item 24\n",
       "\\item 35\n",
       "\\item 26\n",
       "\\item 34\n",
       "\\item 37\n",
       "\\item 21\n",
       "\\item 26\n",
       "\\item 34\n",
       "\\item 20\n",
       "\\item 25\n",
       "\\item 41\n",
       "\\item 40\n",
       "\\item 24\n",
       "\\item 32\n",
       "\\item 31\n",
       "\\item 36\n",
       "\\item 21\n",
       "\\item 26\n",
       "\\item 27\n",
       "\\item 21\n",
       "\\item 35\n",
       "\\item 27\n",
       "\\item 33\n",
       "\\item 25\n",
       "\\item 38\n",
       "\\item 24\n",
       "\\item 36\n",
       "\\item 30\n",
       "\\item 22\n",
       "\\item 30\n",
       "\\item 28\n",
       "\\item 41\n",
       "\\end{enumerate*}\n"
      ],
      "text/markdown": [
       "1. 41\n",
       "2. 24\n",
       "3. 35\n",
       "4. 26\n",
       "5. 34\n",
       "6. 37\n",
       "7. 21\n",
       "8. 26\n",
       "9. 34\n",
       "10. 20\n",
       "11. 25\n",
       "12. 41\n",
       "13. 40\n",
       "14. 24\n",
       "15. 32\n",
       "16. 31\n",
       "17. 36\n",
       "18. 21\n",
       "19. 26\n",
       "20. 27\n",
       "21. 21\n",
       "22. 35\n",
       "23. 27\n",
       "24. 33\n",
       "25. 25\n",
       "26. 38\n",
       "27. 24\n",
       "28. 36\n",
       "29. 30\n",
       "30. 22\n",
       "31. 30\n",
       "32. 28\n",
       "33. 41\n",
       "\n",
       "\n"
      ],
      "text/plain": [
       " [1] 41 24 35 26 34 37 21 26 34 20 25 41 40 24 32 31 36 21 26 27 21 35 27 33 25\n",
       "[26] 38 24 36 30 22 30 28 41"
      ]
     },
     "metadata": {},
     "output_type": "display_data"
    },
    {
     "data": {
      "text/html": [
       "<ol class=list-inline>\n",
       "\t<li>0.0303030303030303</li>\n",
       "\t<li>0.0303030303030303</li>\n",
       "\t<li>0.0303030303030303</li>\n",
       "\t<li>0.0303030303030303</li>\n",
       "\t<li>0.0303030303030303</li>\n",
       "\t<li>0.0303030303030303</li>\n",
       "\t<li>0.0303030303030303</li>\n",
       "\t<li>0.0303030303030303</li>\n",
       "\t<li>0.0303030303030303</li>\n",
       "\t<li>0.0303030303030303</li>\n",
       "\t<li>0.0303030303030303</li>\n",
       "\t<li>0.0303030303030303</li>\n",
       "\t<li>0.0303030303030303</li>\n",
       "\t<li>0.0303030303030303</li>\n",
       "\t<li>0.0303030303030303</li>\n",
       "\t<li>0.0303030303030303</li>\n",
       "\t<li>0.0303030303030303</li>\n",
       "\t<li>0.0303030303030303</li>\n",
       "\t<li>0.0303030303030303</li>\n",
       "\t<li>0.0303030303030303</li>\n",
       "\t<li>0.0303030303030303</li>\n",
       "\t<li>0.0303030303030303</li>\n",
       "\t<li>0.0303030303030303</li>\n",
       "\t<li>0.0303030303030303</li>\n",
       "\t<li>0.0303030303030303</li>\n",
       "\t<li>0.0303030303030303</li>\n",
       "\t<li>0.0303030303030303</li>\n",
       "\t<li>0.0303030303030303</li>\n",
       "\t<li>0.0303030303030303</li>\n",
       "\t<li>0.0303030303030303</li>\n",
       "\t<li>0.0303030303030303</li>\n",
       "\t<li>0.0303030303030303</li>\n",
       "\t<li>0.0303030303030303</li>\n",
       "</ol>\n"
      ],
      "text/latex": [
       "\\begin{enumerate*}\n",
       "\\item 0.0303030303030303\n",
       "\\item 0.0303030303030303\n",
       "\\item 0.0303030303030303\n",
       "\\item 0.0303030303030303\n",
       "\\item 0.0303030303030303\n",
       "\\item 0.0303030303030303\n",
       "\\item 0.0303030303030303\n",
       "\\item 0.0303030303030303\n",
       "\\item 0.0303030303030303\n",
       "\\item 0.0303030303030303\n",
       "\\item 0.0303030303030303\n",
       "\\item 0.0303030303030303\n",
       "\\item 0.0303030303030303\n",
       "\\item 0.0303030303030303\n",
       "\\item 0.0303030303030303\n",
       "\\item 0.0303030303030303\n",
       "\\item 0.0303030303030303\n",
       "\\item 0.0303030303030303\n",
       "\\item 0.0303030303030303\n",
       "\\item 0.0303030303030303\n",
       "\\item 0.0303030303030303\n",
       "\\item 0.0303030303030303\n",
       "\\item 0.0303030303030303\n",
       "\\item 0.0303030303030303\n",
       "\\item 0.0303030303030303\n",
       "\\item 0.0303030303030303\n",
       "\\item 0.0303030303030303\n",
       "\\item 0.0303030303030303\n",
       "\\item 0.0303030303030303\n",
       "\\item 0.0303030303030303\n",
       "\\item 0.0303030303030303\n",
       "\\item 0.0303030303030303\n",
       "\\item 0.0303030303030303\n",
       "\\end{enumerate*}\n"
      ],
      "text/markdown": [
       "1. 0.0303030303030303\n",
       "2. 0.0303030303030303\n",
       "3. 0.0303030303030303\n",
       "4. 0.0303030303030303\n",
       "5. 0.0303030303030303\n",
       "6. 0.0303030303030303\n",
       "7. 0.0303030303030303\n",
       "8. 0.0303030303030303\n",
       "9. 0.0303030303030303\n",
       "10. 0.0303030303030303\n",
       "11. 0.0303030303030303\n",
       "12. 0.0303030303030303\n",
       "13. 0.0303030303030303\n",
       "14. 0.0303030303030303\n",
       "15. 0.0303030303030303\n",
       "16. 0.0303030303030303\n",
       "17. 0.0303030303030303\n",
       "18. 0.0303030303030303\n",
       "19. 0.0303030303030303\n",
       "20. 0.0303030303030303\n",
       "21. 0.0303030303030303\n",
       "22. 0.0303030303030303\n",
       "23. 0.0303030303030303\n",
       "24. 0.0303030303030303\n",
       "25. 0.0303030303030303\n",
       "26. 0.0303030303030303\n",
       "27. 0.0303030303030303\n",
       "28. 0.0303030303030303\n",
       "29. 0.0303030303030303\n",
       "30. 0.0303030303030303\n",
       "31. 0.0303030303030303\n",
       "32. 0.0303030303030303\n",
       "33. 0.0303030303030303\n",
       "\n",
       "\n"
      ],
      "text/plain": [
       " [1] 0.03030303 0.03030303 0.03030303 0.03030303 0.03030303 0.03030303\n",
       " [7] 0.03030303 0.03030303 0.03030303 0.03030303 0.03030303 0.03030303\n",
       "[13] 0.03030303 0.03030303 0.03030303 0.03030303 0.03030303 0.03030303\n",
       "[19] 0.03030303 0.03030303 0.03030303 0.03030303 0.03030303 0.03030303\n",
       "[25] 0.03030303 0.03030303 0.03030303 0.03030303 0.03030303 0.03030303\n",
       "[31] 0.03030303 0.03030303 0.03030303"
      ]
     },
     "metadata": {},
     "output_type": "display_data"
    },
    {
     "data": {
      "text/plain": [
       "\n",
       "\tChi-squared test for given probabilities\n",
       "\n",
       "data:  freq\n",
       "X-squared = 45.919, df = 32, p-value = 0.05285\n"
      ]
     },
     "metadata": {},
     "output_type": "display_data"
    }
   ],
   "source": [
    "#실제 연속분포를 따른다는 적합도 검정은 어케할수 있을가?\n",
    "\n",
    "# 내가 임의로 데이터를 만들어보자\n",
    "set.seed(1)\n",
    "sample<-rnorm(1000,0,2)\n",
    "\n",
    "# 실제 데이터가 N(0,2^2)을 따른다고 할수 있는지 말해보자\n",
    "# 구간 설정이 중요하다\n",
    "# 구간을 일정하게 설정해서 npi>=5 다 동일하게 5가 넘게 조작가능하다\n",
    "x<-seq(0,1,0.03)\n",
    "interval<-qnorm(x,0,2)\n",
    "table(cut(sample,interval))\n",
    "freq<-as.numeric(table(cut(sample,interval)))\n",
    "prob<-rep(1/(length(interval)-1),length(interval)-1)\n",
    "chisq.test(x=freq,p = prob)"
   ]
  },
  {
   "cell_type": "code",
   "execution_count": 35,
   "id": "scenic-testament",
   "metadata": {},
   "outputs": [
    {
     "data": {
      "text/plain": [
       "sample\n",
       " 0  1  2  3  4  5  6  7  8 10 \n",
       " 1  5 11 24 17 22 12  6  1  1 "
      ]
     },
     "metadata": {},
     "output_type": "display_data"
    },
    {
     "name": "stderr",
     "output_type": "stream",
     "text": [
      "Warning message in chisq.test(x = fi, p = prob, rescale.p = T):\n",
      "“Chi-squared approximation may be incorrect”"
     ]
    },
    {
     "data": {
      "text/plain": [
       "\n",
       "\tChi-squared test for given probabilities\n",
       "\n",
       "data:  fi\n",
       "X-squared = 7.0712, df = 9, p-value = 0.6297\n"
      ]
     },
     "metadata": {},
     "output_type": "display_data"
    }
   ],
   "source": [
    "## 데이터가 포아송 분포를 따르는지 알고싶다\n",
    "set.seed(1)\n",
    "sample<-rpois(100,4)\n",
    "\n",
    "#포아송 분포만 주어졌지 어떤 모수를 따르는지 알수가 없기때문에 여기서 lambda는 추정값을 사용한다\n",
    "#포아송 분포에서 람다는 결국 평균을 의미하기때문에 표본평균을 람다의 추정값으로 사용하자 \n",
    "lambda<-mean(sample)\n",
    "\n",
    "#머릿속에 테이블을 한번 그려보자\n",
    "table(sample)\n",
    "fi<-as.numeric(table(sample))\n",
    "\n",
    "prob<-dpois(as.numeric(names(table(sample))),lambda)\n",
    "chisq.test(x=fi,p=prob,rescale.p = T)\n"
   ]
  },
  {
   "cell_type": "code",
   "execution_count": 36,
   "id": "recent-cover",
   "metadata": {},
   "outputs": [
    {
     "data": {
      "text/plain": [
       "\n",
       "\tChi-squared test for given probabilities\n",
       "\n",
       "data:  fi\n",
       "X-squared = 5.7143, df = 6, p-value = 0.4559\n"
      ]
     },
     "metadata": {},
     "output_type": "display_data"
    }
   ],
   "source": [
    "#위의 포아송 분포 예시에서 두가지 문제가 발견될수 있다\n",
    "#1.sum(probability)가 1이 안되는 것과 =>rescale.p =T\n",
    "#2.warning message가 계속 뜬다 =>bin을 합칠거다\n",
    "set.seed(1)\n",
    "sample<-rpois(100,4)\n",
    "lambda<-mean(sample)\n",
    "fi<-as.numeric(table(sample))\n",
    "prob<-dpois(as.numeric(names(table(sample))),lambda)\n",
    "\n",
    "# Ei 기대값을 한번 보자\n",
    "# 앞에 두개의 bin을 묵고 뒤에 3개의 bin을 묶으면 될거 같다 => 0-1,2,3,4,5,6,7-8-10 \n",
    "fi[2]<-fi[1]+fi[2]\n",
    "fi<-fi[-1]\n",
    "fi[7]<-fi[7]+fi[8]+fi[9]\n",
    "fi<-fi[-c(8,9)]\n",
    "\n",
    "prob[2]<-prob[1]+prob[2]\n",
    "prob<-prob[-1]\n",
    "prob[7]<-prob[7]+prob[8]+prob[9]\n",
    "prob<-prob[-c(8,9)]\n",
    "\n",
    "chisq.test(x=fi,p=prob,rescale.p = T)\n",
    "\n",
    "# 이제 깔금하게 Warning message띄지 않을거다"
   ]
  },
  {
   "cell_type": "markdown",
   "id": "dying-office",
   "metadata": {},
   "source": [
    "#### 위에서 bin을 합치는걸 조금 깔금하게 할 수는 없을까?"
   ]
  },
  {
   "cell_type": "code",
   "execution_count": null,
   "id": "refined-canal",
   "metadata": {},
   "outputs": [],
   "source": [
    "# 요건 나중에 생각해보자"
   ]
  },
  {
   "cell_type": "markdown",
   "id": "pharmaceutical-macedonia",
   "metadata": {},
   "source": [
    "### table함수 cut함수 정말 편하다\n",
    "- 특히 연속분포에 적합도를 조사할때 bin 쪼개는걸 쉽게 도와준다"
   ]
  },
  {
   "cell_type": "code",
   "execution_count": 198,
   "id": "auburn-philippines",
   "metadata": {},
   "outputs": [
    {
     "data": {
      "text/html": [
       "<ol class=list-inline>\n",
       "\t<li>(0,2]</li>\n",
       "\t<li>(0,2]</li>\n",
       "\t<li>(0,2]</li>\n",
       "\t<li>(2,10]</li>\n",
       "\t<li>(2,10]</li>\n",
       "\t<li>(10,40]</li>\n",
       "\t<li>(2,10]</li>\n",
       "\t<li>(10,40]</li>\n",
       "\t<li>(2,10]</li>\n",
       "</ol>\n",
       "\n",
       "<details>\n",
       "\t<summary style=display:list-item;cursor:pointer>\n",
       "\t\t<strong>Levels</strong>:\n",
       "\t</summary>\n",
       "\t<ol class=list-inline>\n",
       "\t\t<li>'(0,2]'</li>\n",
       "\t\t<li>'(2,10]'</li>\n",
       "\t\t<li>'(10,40]'</li>\n",
       "\t</ol>\n",
       "</details>"
      ],
      "text/latex": [
       "\\begin{enumerate*}\n",
       "\\item (0,2{]}\n",
       "\\item (0,2{]}\n",
       "\\item (0,2{]}\n",
       "\\item (2,10{]}\n",
       "\\item (2,10{]}\n",
       "\\item (10,40{]}\n",
       "\\item (2,10{]}\n",
       "\\item (10,40{]}\n",
       "\\item (2,10{]}\n",
       "\\end{enumerate*}\n",
       "\n",
       "\\emph{Levels}: \\begin{enumerate*}\n",
       "\\item '(0,2{]}'\n",
       "\\item '(2,10{]}'\n",
       "\\item '(10,40{]}'\n",
       "\\end{enumerate*}\n"
      ],
      "text/markdown": [
       "1. (0,2]\n",
       "2. (0,2]\n",
       "3. (0,2]\n",
       "4. (2,10]\n",
       "5. (2,10]\n",
       "6. (10,40]\n",
       "7. (2,10]\n",
       "8. (10,40]\n",
       "9. (2,10]\n",
       "\n",
       "\n",
       "\n",
       "**Levels**: 1. '(0,2]'\n",
       "2. '(2,10]'\n",
       "3. '(10,40]'\n",
       "\n",
       "\n"
      ],
      "text/plain": [
       "[1] (0,2]   (0,2]   (0,2]   (2,10]  (2,10]  (10,40] (2,10]  (10,40] (2,10] \n",
       "Levels: (0,2] (2,10] (10,40]"
      ]
     },
     "metadata": {},
     "output_type": "display_data"
    },
    {
     "data": {
      "text/html": [
       "<ol class=list-inline>\n",
       "\t<li>1</li>\n",
       "\t<li>2</li>\n",
       "\t<li>2</li>\n",
       "</ol>\n"
      ],
      "text/latex": [
       "\\begin{enumerate*}\n",
       "\\item 1\n",
       "\\item 2\n",
       "\\item 2\n",
       "\\end{enumerate*}\n"
      ],
      "text/markdown": [
       "1. 1\n",
       "2. 2\n",
       "3. 2\n",
       "\n",
       "\n"
      ],
      "text/plain": [
       "[1] 1 2 2"
      ]
     },
     "metadata": {},
     "output_type": "display_data"
    },
    {
     "data": {
      "text/plain": [
       "\n",
       "  (0,2]  (2,10] (10,40] \n",
       "      3       4       2 "
      ]
     },
     "metadata": {},
     "output_type": "display_data"
    }
   ],
   "source": [
    "a<-c(1,2,2,3,3,38,3,36,3)\n",
    "x<-c(0,2,10,40)\n",
    "b<-cut(a,x) # 각 데이터가 속하는 범위를 factor의 형태로 가지고 있는다\n",
    "b\n",
    "a[cut(a,x)==\"(0,2]\"] # 내가 우너하는 범위에 속하는 값들만 뽑아낼수도 있다\n",
    "table(cut(a,x))      # factor를 태이블 함수의변수에 집언넣으면 해당하는 level에 frequency를 돌려준다"
   ]
  },
  {
   "cell_type": "code",
   "execution_count": 233,
   "id": "toxic-formula",
   "metadata": {
    "scrolled": true
   },
   "outputs": [
    {
     "data": {
      "text/plain": [
       "\n",
       "  (0,2]  (2,10] (10,40] \n",
       "      4       5       3 "
      ]
     },
     "metadata": {},
     "output_type": "display_data"
    },
    {
     "data": {
      "text/html": [
       "<ol class=list-inline>\n",
       "\t<li>3</li>\n",
       "\t<li>4</li>\n",
       "\t<li>2</li>\n",
       "</ol>\n"
      ],
      "text/latex": [
       "\\begin{enumerate*}\n",
       "\\item 3\n",
       "\\item 4\n",
       "\\item 2\n",
       "\\end{enumerate*}\n"
      ],
      "text/markdown": [
       "1. 3\n",
       "2. 4\n",
       "3. 2\n",
       "\n",
       "\n"
      ],
      "text/plain": [
       "[1] 3 4 2"
      ]
     },
     "metadata": {},
     "output_type": "display_data"
    },
    {
     "data": {
      "text/html": [
       "<ol class=list-inline>\n",
       "\t<li>'(0,2]'</li>\n",
       "\t<li>'(2,10]'</li>\n",
       "\t<li>'(10,40]'</li>\n",
       "</ol>\n"
      ],
      "text/latex": [
       "\\begin{enumerate*}\n",
       "\\item '(0,2{]}'\n",
       "\\item '(2,10{]}'\n",
       "\\item '(10,40{]}'\n",
       "\\end{enumerate*}\n"
      ],
      "text/markdown": [
       "1. '(0,2]'\n",
       "2. '(2,10]'\n",
       "3. '(10,40]'\n",
       "\n",
       "\n"
      ],
      "text/plain": [
       "[1] \"(0,2]\"   \"(2,10]\"  \"(10,40]\""
      ]
     },
     "metadata": {},
     "output_type": "display_data"
    },
    {
     "data": {
      "text/html": [
       "3"
      ],
      "text/latex": [
       "3"
      ],
      "text/markdown": [
       "3"
      ],
      "text/plain": [
       "[1] 3"
      ]
     },
     "metadata": {},
     "output_type": "display_data"
    },
    {
     "data": {
      "text/html": [
       "<strong>(0,2]:</strong> 5"
      ],
      "text/latex": [
       "\\textbf{(0,2\\{{]}\\}:} 5"
      ],
      "text/markdown": [
       "**(0,2]:** 5"
      ],
      "text/plain": [
       "(0,2] \n",
       "    5 "
      ]
     },
     "metadata": {},
     "output_type": "display_data"
    }
   ],
   "source": [
    "a<-c(1,2,2,3,3,38,3,36,3)\n",
    "x<-c(0,2,10,40)\n",
    "t<-table(cut(a,x)) \n",
    "\n",
    "# Useage\n",
    "t+1 # freq부분 벡터 연산 가능\n",
    "as.numeric(t) # freq만 numeric vector로 뽑아준다\n",
    "names(t) \n",
    "length(t)"
   ]
  }
 ],
 "metadata": {
  "kernelspec": {
   "display_name": "R",
   "language": "R",
   "name": "ir"
  },
  "language_info": {
   "codemirror_mode": "r",
   "file_extension": ".r",
   "mimetype": "text/x-r-source",
   "name": "R",
   "pygments_lexer": "r",
   "version": "3.6.1"
  }
 },
 "nbformat": 4,
 "nbformat_minor": 5
}
