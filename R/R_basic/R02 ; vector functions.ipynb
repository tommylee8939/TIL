{
 "cells": [
  {
   "cell_type": "markdown",
   "id": "flush-florence",
   "metadata": {},
   "source": [
    "### R02 ; vector functions\n",
    "- Print 와 관련된 함수들\n",
    "- 수학 함수\n",
    "- 그 외 유용한 함수들"
   ]
  },
  {
   "cell_type": "markdown",
   "id": "enhanced-wrong",
   "metadata": {},
   "source": [
    "### print와 관련된 함수들\n",
    "1. print() \n",
    "2. paste()\n",
    "3. sprintf()\n",
    "4. cat()"
   ]
  },
  {
   "cell_type": "markdown",
   "id": "scheduled-terror",
   "metadata": {},
   "source": [
    "#### 1.print() \n",
    "- 가장 기본적인 출력함수다\n",
    "- 파이썬이랑 다르게 print(a,b,c) 여러개 출력 안된다\n",
    "- vector matrix list 다 객체주소가 아니라 실제 값들 출력된다"
   ]
  },
  {
   "cell_type": "code",
   "execution_count": 12,
   "id": "boring-command",
   "metadata": {},
   "outputs": [
    {
     "name": "stdout",
     "output_type": "stream",
     "text": [
      "$a\n",
      "[1] 1 2 3\n",
      "\n"
     ]
    },
    {
     "ename": "ERROR",
     "evalue": "Error in print.default(1, 2, 3, 4): 유효하지 않은 'na.print' 지정입니다\n",
     "output_type": "error",
     "traceback": [
      "Error in print.default(1, 2, 3, 4): 유효하지 않은 'na.print' 지정입니다\nTraceback:\n",
      "1. print(1, 2, 3, 4)",
      "2. print.default(1, 2, 3, 4)"
     ]
    }
   ],
   "source": [
    "a <- list(a=c(1,2,3))\n",
    "print(a)\n",
    "\n",
    "# error\n",
    "print(1,2,3,4)\n"
   ]
  },
  {
   "cell_type": "markdown",
   "id": "later-allowance",
   "metadata": {},
   "source": [
    "#### 2.sprinf()\n",
    "- formating 을 위한 함수다 \n",
    "- %d : integer\n",
    "- %f : float\n",
    "- %s : character"
   ]
  },
  {
   "cell_type": "code",
   "execution_count": 13,
   "id": "chinese-finnish",
   "metadata": {},
   "outputs": [
    {
     "data": {
      "text/html": [
       "'123'"
      ],
      "text/latex": [
       "'123'"
      ],
      "text/markdown": [
       "'123'"
      ],
      "text/plain": [
       "[1] \"123\""
      ]
     },
     "metadata": {},
     "output_type": "display_data"
    },
    {
     "data": {
      "text/html": [
       "'Number : 123'"
      ],
      "text/latex": [
       "'Number : 123'"
      ],
      "text/markdown": [
       "'Number : 123'"
      ],
      "text/plain": [
       "[1] \"Number : 123\""
      ]
     },
     "metadata": {},
     "output_type": "display_data"
    },
    {
     "data": {
      "text/html": [
       "'Number : 123.000000'"
      ],
      "text/latex": [
       "'Number : 123.000000'"
      ],
      "text/markdown": [
       "'Number : 123.000000'"
      ],
      "text/plain": [
       "[1] \"Number : 123.000000\""
      ]
     },
     "metadata": {},
     "output_type": "display_data"
    },
    {
     "data": {
      "text/html": [
       "'String :123'"
      ],
      "text/latex": [
       "'String :123'"
      ],
      "text/markdown": [
       "'String :123'"
      ],
      "text/plain": [
       "[1] \"String :123\""
      ]
     },
     "metadata": {},
     "output_type": "display_data"
    },
    {
     "data": {
      "text/html": [
       "'Number :123, String:123'"
      ],
      "text/latex": [
       "'Number :123, String:123'"
      ],
      "text/markdown": [
       "'Number :123, String:123'"
      ],
      "text/plain": [
       "[1] \"Number :123, String:123\""
      ]
     },
     "metadata": {},
     "output_type": "display_data"
    }
   ],
   "source": [
    "sprintf(\"%d\",123)\n",
    "sprintf(\"Number : %d\",123)\n",
    "sprintf(\"Number : %f\",123)\n",
    "sprintf(\"String :%s\",123)\n",
    "sprintf(\"Number :%d, String:%s\",123,\"123\")"
   ]
  },
  {
   "cell_type": "markdown",
   "id": "otherwise-digest",
   "metadata": {},
   "source": [
    "#### 3.paste()\n",
    "- 출력함수라기 보다 굉장히 유요한 문자열 concatenate 함수다\n",
    "- paste(...,sep=\" \",collapse=NULL)\n",
    "- paste0(...,collapse=NULL)"
   ]
  },
  {
   "cell_type": "code",
   "execution_count": 7,
   "id": "0aae9d10",
   "metadata": {},
   "outputs": [
    {
     "data": {
      "text/html": [
       "<style>\n",
       ".list-inline {list-style: none; margin:0; padding: 0}\n",
       ".list-inline>li {display: inline-block}\n",
       ".list-inline>li:not(:last-child)::after {content: \"\\00b7\"; padding: 0 .5ex}\n",
       "</style>\n",
       "<ol class=list-inline><li>'kanghee ( 2020 )'</li><li>'soojin ( 2021 )'</li></ol>\n"
      ],
      "text/latex": [
       "\\begin{enumerate*}\n",
       "\\item 'kanghee ( 2020 )'\n",
       "\\item 'soojin ( 2021 )'\n",
       "\\end{enumerate*}\n"
      ],
      "text/markdown": [
       "1. 'kanghee ( 2020 )'\n",
       "2. 'soojin ( 2021 )'\n",
       "\n",
       "\n"
      ],
      "text/plain": [
       "[1] \"kanghee ( 2020 )\" \"soojin ( 2021 )\" "
      ]
     },
     "metadata": {},
     "output_type": "display_data"
    }
   ],
   "source": [
    "year = c(2020,2021)\n",
    "name = c('kanghee','soojin')\n",
    "paste(name,'(',year,')')"
   ]
  },
  {
   "cell_type": "code",
   "execution_count": 18,
   "id": "italic-farmer",
   "metadata": {},
   "outputs": [
    {
     "data": {
      "text/html": [
       "'a,b'"
      ],
      "text/latex": [
       "'a,b'"
      ],
      "text/markdown": [
       "'a,b'"
      ],
      "text/plain": [
       "[1] \"a,b\""
      ]
     },
     "metadata": {},
     "output_type": "display_data"
    },
    {
     "data": {
      "text/html": [
       "'a,b'"
      ],
      "text/latex": [
       "'a,b'"
      ],
      "text/markdown": [
       "'a,b'"
      ],
      "text/plain": [
       "[1] \"a,b\""
      ]
     },
     "metadata": {},
     "output_type": "display_data"
    },
    {
     "data": {
      "text/html": [
       "'a,b'"
      ],
      "text/latex": [
       "'a,b'"
      ],
      "text/markdown": [
       "'a,b'"
      ],
      "text/plain": [
       "[1] \"a,b\""
      ]
     },
     "metadata": {},
     "output_type": "display_data"
    }
   ],
   "source": [
    "#charater vs character\n",
    "paste(\"a\",\"b\",sep=\",\") #default 구분자 \" \"로 두 단어 합쳐준다\n",
    "paste(\"a\",\"b\",sep=\",\") #구분자를 ,로 두 단어를 더해준다\n",
    "paste(\"a\",\"b\",sep=\",\",collapse=\";\") #=> 단어 1개 단어 1개 결합에서는 collapse가 의미없다"
   ]
  },
  {
   "cell_type": "code",
   "execution_count": 37,
   "id": "available-pepper",
   "metadata": {},
   "outputs": [
    {
     "data": {
      "text/html": [
       "<ol class=list-inline>\n",
       "\t<li>'1 st'</li>\n",
       "\t<li>'2 nd'</li>\n",
       "\t<li>'3 rd'</li>\n",
       "\t<li>'4 th'</li>\n",
       "\t<li>'5 th'</li>\n",
       "\t<li>'6 th'</li>\n",
       "\t<li>'7 th'</li>\n",
       "\t<li>'8 th'</li>\n",
       "\t<li>'9 th'</li>\n",
       "\t<li>'10 th'</li>\n",
       "\t<li>'11 th'</li>\n",
       "\t<li>'12 th'</li>\n",
       "</ol>\n"
      ],
      "text/latex": [
       "\\begin{enumerate*}\n",
       "\\item '1 st'\n",
       "\\item '2 nd'\n",
       "\\item '3 rd'\n",
       "\\item '4 th'\n",
       "\\item '5 th'\n",
       "\\item '6 th'\n",
       "\\item '7 th'\n",
       "\\item '8 th'\n",
       "\\item '9 th'\n",
       "\\item '10 th'\n",
       "\\item '11 th'\n",
       "\\item '12 th'\n",
       "\\end{enumerate*}\n"
      ],
      "text/markdown": [
       "1. '1 st'\n",
       "2. '2 nd'\n",
       "3. '3 rd'\n",
       "4. '4 th'\n",
       "5. '5 th'\n",
       "6. '6 th'\n",
       "7. '7 th'\n",
       "8. '8 th'\n",
       "9. '9 th'\n",
       "10. '10 th'\n",
       "11. '11 th'\n",
       "12. '12 th'\n",
       "\n",
       "\n"
      ],
      "text/plain": [
       " [1] \"1 st\"  \"2 nd\"  \"3 rd\"  \"4 th\"  \"5 th\"  \"6 th\"  \"7 th\"  \"8 th\"  \"9 th\" \n",
       "[10] \"10 th\" \"11 th\" \"12 th\""
      ]
     },
     "metadata": {},
     "output_type": "display_data"
    },
    {
     "data": {
      "text/html": [
       "<ol class=list-inline>\n",
       "\t<li>'1st'</li>\n",
       "\t<li>'2nd'</li>\n",
       "\t<li>'3rd'</li>\n",
       "\t<li>'4th'</li>\n",
       "\t<li>'5th'</li>\n",
       "\t<li>'6th'</li>\n",
       "\t<li>'7th'</li>\n",
       "\t<li>'8th'</li>\n",
       "\t<li>'9th'</li>\n",
       "\t<li>'10th'</li>\n",
       "\t<li>'11th'</li>\n",
       "\t<li>'12th'</li>\n",
       "</ol>\n"
      ],
      "text/latex": [
       "\\begin{enumerate*}\n",
       "\\item '1st'\n",
       "\\item '2nd'\n",
       "\\item '3rd'\n",
       "\\item '4th'\n",
       "\\item '5th'\n",
       "\\item '6th'\n",
       "\\item '7th'\n",
       "\\item '8th'\n",
       "\\item '9th'\n",
       "\\item '10th'\n",
       "\\item '11th'\n",
       "\\item '12th'\n",
       "\\end{enumerate*}\n"
      ],
      "text/markdown": [
       "1. '1st'\n",
       "2. '2nd'\n",
       "3. '3rd'\n",
       "4. '4th'\n",
       "5. '5th'\n",
       "6. '6th'\n",
       "7. '7th'\n",
       "8. '8th'\n",
       "9. '9th'\n",
       "10. '10th'\n",
       "11. '11th'\n",
       "12. '12th'\n",
       "\n",
       "\n"
      ],
      "text/plain": [
       " [1] \"1st\"  \"2nd\"  \"3rd\"  \"4th\"  \"5th\"  \"6th\"  \"7th\"  \"8th\"  \"9th\"  \"10th\"\n",
       "[11] \"11th\" \"12th\""
      ]
     },
     "metadata": {},
     "output_type": "display_data"
    },
    {
     "data": {
      "text/html": [
       "<ol class=list-inline>\n",
       "\t<li>'1st'</li>\n",
       "\t<li>'2nd'</li>\n",
       "\t<li>'3rd'</li>\n",
       "\t<li>'4th'</li>\n",
       "\t<li>'5th'</li>\n",
       "\t<li>'6th'</li>\n",
       "\t<li>'7th'</li>\n",
       "\t<li>'8th'</li>\n",
       "\t<li>'9th'</li>\n",
       "\t<li>'10th'</li>\n",
       "\t<li>'11th'</li>\n",
       "\t<li>'12th'</li>\n",
       "</ol>\n"
      ],
      "text/latex": [
       "\\begin{enumerate*}\n",
       "\\item '1st'\n",
       "\\item '2nd'\n",
       "\\item '3rd'\n",
       "\\item '4th'\n",
       "\\item '5th'\n",
       "\\item '6th'\n",
       "\\item '7th'\n",
       "\\item '8th'\n",
       "\\item '9th'\n",
       "\\item '10th'\n",
       "\\item '11th'\n",
       "\\item '12th'\n",
       "\\end{enumerate*}\n"
      ],
      "text/markdown": [
       "1. '1st'\n",
       "2. '2nd'\n",
       "3. '3rd'\n",
       "4. '4th'\n",
       "5. '5th'\n",
       "6. '6th'\n",
       "7. '7th'\n",
       "8. '8th'\n",
       "9. '9th'\n",
       "10. '10th'\n",
       "11. '11th'\n",
       "12. '12th'\n",
       "\n",
       "\n"
      ],
      "text/plain": [
       " [1] \"1st\"  \"2nd\"  \"3rd\"  \"4th\"  \"5th\"  \"6th\"  \"7th\"  \"8th\"  \"9th\"  \"10th\"\n",
       "[11] \"11th\" \"12th\""
      ]
     },
     "metadata": {},
     "output_type": "display_data"
    },
    {
     "data": {
      "text/html": [
       "'1st;2nd;3rd;4th;5th;6th;7th;8th;9th;10th;11th;12th'"
      ],
      "text/latex": [
       "'1st;2nd;3rd;4th;5th;6th;7th;8th;9th;10th;11th;12th'"
      ],
      "text/markdown": [
       "'1st;2nd;3rd;4th;5th;6th;7th;8th;9th;10th;11th;12th'"
      ],
      "text/plain": [
       "[1] \"1st;2nd;3rd;4th;5th;6th;7th;8th;9th;10th;11th;12th\""
      ]
     },
     "metadata": {},
     "output_type": "display_data"
    }
   ],
   "source": [
    "# vector vs vector\n",
    "# paste의 진가가 발휘되는 순간이다\n",
    "number <- 1:12\n",
    "str<-c(\"st\",\"nd\",\"rd\",rep(\"th\",9))\n",
    "paste(number,str)  #원소 대 원소로 결합한다\n",
    "paste(number,str,sep=\"\")\n",
    "paste0(number,str) #paste0는 paste에서 sep =\"\" 하고 같다\n",
    "paste(number,str,sep=\"\",collapse=\";\") #각각의 결과값들을 나누는 경계가 허물어졌다고 생각하자=>하나의 문자열이 됬다"
   ]
  },
  {
   "cell_type": "markdown",
   "id": "arctic-final",
   "metadata": {},
   "source": [
    "#### 4.cat()\n",
    "- 새로운 행을 개행하지 않고 한줄에 같이 출력해준다\n",
    "- cat(1,2,3,,,,,) 여러개 동시 출력 가능\n",
    "- cat(,,,sep=\" \") 구분자 옵션 줄수 있다"
   ]
  },
  {
   "cell_type": "code",
   "execution_count": 36,
   "id": "quiet-bulletin",
   "metadata": {},
   "outputs": [
    {
     "name": "stdout",
     "output_type": "stream",
     "text": [
      "a b c \n",
      "a,b,c"
     ]
    }
   ],
   "source": [
    "cat(\"a\",\"b\",\"c\",\"\\n\")\n",
    "cat(\"a\",\"b\",\"c\",sep=\",\")"
   ]
  },
  {
   "cell_type": "markdown",
   "id": "agreed-pierre",
   "metadata": {},
   "source": [
    "### R에서는 유용한 수학적 함수들을 내장함수로 제공한다\n",
    "- 당연히 벡터를 인수를 호출 가능하다\n",
    "- sqrt() abs() log() exp() factorial() choose() options() round() floor() ceiling()\n",
    "- min() max() sum() meidan() range() sd()\n",
    "- cusum() diff()"
   ]
  },
  {
   "cell_type": "code",
   "execution_count": 44,
   "id": "induced-annotation",
   "metadata": {},
   "outputs": [
    {
     "data": {
      "text/html": [
       "1.4142135623731"
      ],
      "text/latex": [
       "1.4142135623731"
      ],
      "text/markdown": [
       "1.4142135623731"
      ],
      "text/plain": [
       "[1] 1.414214"
      ]
     },
     "metadata": {},
     "output_type": "display_data"
    },
    {
     "data": {
      "text/html": [
       "2"
      ],
      "text/latex": [
       "2"
      ],
      "text/markdown": [
       "2"
      ],
      "text/plain": [
       "[1] 2"
      ]
     },
     "metadata": {},
     "output_type": "display_data"
    },
    {
     "data": {
      "text/html": [
       "FALSE"
      ],
      "text/latex": [
       "FALSE"
      ],
      "text/markdown": [
       "FALSE"
      ],
      "text/plain": [
       "[1] FALSE"
      ]
     },
     "metadata": {},
     "output_type": "display_data"
    },
    {
     "data": {
      "text/html": [
       "FALSE"
      ],
      "text/latex": [
       "FALSE"
      ],
      "text/markdown": [
       "FALSE"
      ],
      "text/plain": [
       "[1] FALSE"
      ]
     },
     "metadata": {},
     "output_type": "display_data"
    },
    {
     "data": {
      "text/html": [
       "TRUE"
      ],
      "text/latex": [
       "TRUE"
      ],
      "text/markdown": [
       "TRUE"
      ],
      "text/plain": [
       "[1] TRUE"
      ]
     },
     "metadata": {},
     "output_type": "display_data"
    }
   ],
   "source": [
    "#sqrt() identical() all.equal()\n",
    "\n",
    "sqrt(2)\n",
    "sqrt(2)^2\n",
    "sqrt(2)^2==2 # 이거 상식적으로 True 나와야 한다 => 아닌 이유는 매우 작지만 부동소수점에 의해 오차가 있다\n",
    "identical(sqrt(2)^2,2) # False다\n",
    "\n",
    "# 아주 미세한 오차를 무시해줄때는\n",
    "all.equal(sqrt(2)^2,2) # True값이 반환된다"
   ]
  },
  {
   "cell_type": "code",
   "execution_count": 46,
   "id": "shaped-compatibility",
   "metadata": {},
   "outputs": [
    {
     "data": {
      "text/html": [
       "2"
      ],
      "text/latex": [
       "2"
      ],
      "text/markdown": [
       "2"
      ],
      "text/plain": [
       "[1] 2"
      ]
     },
     "metadata": {},
     "output_type": "display_data"
    },
    {
     "data": {
      "text/html": [
       "<ol class=list-inline>\n",
       "\t<li>3</li>\n",
       "\t<li>2</li>\n",
       "\t<li>1</li>\n",
       "\t<li>0</li>\n",
       "\t<li>1</li>\n",
       "\t<li>2</li>\n",
       "\t<li>3</li>\n",
       "</ol>\n"
      ],
      "text/latex": [
       "\\begin{enumerate*}\n",
       "\\item 3\n",
       "\\item 2\n",
       "\\item 1\n",
       "\\item 0\n",
       "\\item 1\n",
       "\\item 2\n",
       "\\item 3\n",
       "\\end{enumerate*}\n"
      ],
      "text/markdown": [
       "1. 3\n",
       "2. 2\n",
       "3. 1\n",
       "4. 0\n",
       "5. 1\n",
       "6. 2\n",
       "7. 3\n",
       "\n",
       "\n"
      ],
      "text/plain": [
       "[1] 3 2 1 0 1 2 3"
      ]
     },
     "metadata": {},
     "output_type": "display_data"
    }
   ],
   "source": [
    "#abs()\n",
    "abs(-2)\n",
    "abs(-3:3)"
   ]
  },
  {
   "cell_type": "code",
   "execution_count": 53,
   "id": "raising-eligibility",
   "metadata": {},
   "outputs": [
    {
     "data": {
      "text/html": [
       "<ol class=list-inline>\n",
       "\t<li>0</li>\n",
       "\t<li>0.693147180559945</li>\n",
       "\t<li>1.09861228866811</li>\n",
       "\t<li>1.38629436111989</li>\n",
       "\t<li>1.6094379124341</li>\n",
       "</ol>\n"
      ],
      "text/latex": [
       "\\begin{enumerate*}\n",
       "\\item 0\n",
       "\\item 0.693147180559945\n",
       "\\item 1.09861228866811\n",
       "\\item 1.38629436111989\n",
       "\\item 1.6094379124341\n",
       "\\end{enumerate*}\n"
      ],
      "text/markdown": [
       "1. 0\n",
       "2. 0.693147180559945\n",
       "3. 1.09861228866811\n",
       "4. 1.38629436111989\n",
       "5. 1.6094379124341\n",
       "\n",
       "\n"
      ],
      "text/plain": [
       "[1] 0.0000000 0.6931472 1.0986123 1.3862944 1.6094379"
      ]
     },
     "metadata": {},
     "output_type": "display_data"
    },
    {
     "data": {
      "text/html": [
       "<ol class=list-inline>\n",
       "\t<li>0</li>\n",
       "\t<li>0.301029995663981</li>\n",
       "\t<li>0.477121254719662</li>\n",
       "\t<li>0.602059991327962</li>\n",
       "\t<li>0.698970004336019</li>\n",
       "</ol>\n"
      ],
      "text/latex": [
       "\\begin{enumerate*}\n",
       "\\item 0\n",
       "\\item 0.301029995663981\n",
       "\\item 0.477121254719662\n",
       "\\item 0.602059991327962\n",
       "\\item 0.698970004336019\n",
       "\\end{enumerate*}\n"
      ],
      "text/markdown": [
       "1. 0\n",
       "2. 0.301029995663981\n",
       "3. 0.477121254719662\n",
       "4. 0.602059991327962\n",
       "5. 0.698970004336019\n",
       "\n",
       "\n"
      ],
      "text/plain": [
       "[1] 0.0000000 0.3010300 0.4771213 0.6020600 0.6989700"
      ]
     },
     "metadata": {},
     "output_type": "display_data"
    },
    {
     "data": {
      "text/html": [
       "<ol class=list-inline>\n",
       "\t<li>0</li>\n",
       "\t<li>1</li>\n",
       "\t<li>1.58496250072116</li>\n",
       "\t<li>2</li>\n",
       "\t<li>2.32192809488736</li>\n",
       "</ol>\n"
      ],
      "text/latex": [
       "\\begin{enumerate*}\n",
       "\\item 0\n",
       "\\item 1\n",
       "\\item 1.58496250072116\n",
       "\\item 2\n",
       "\\item 2.32192809488736\n",
       "\\end{enumerate*}\n"
      ],
      "text/markdown": [
       "1. 0\n",
       "2. 1\n",
       "3. 1.58496250072116\n",
       "4. 2\n",
       "5. 2.32192809488736\n",
       "\n",
       "\n"
      ],
      "text/plain": [
       "[1] 0.000000 1.000000 1.584963 2.000000 2.321928"
      ]
     },
     "metadata": {},
     "output_type": "display_data"
    },
    {
     "data": {
      "text/html": [
       "<ol class=list-inline>\n",
       "\t<li>0</li>\n",
       "\t<li>0.301029995663981</li>\n",
       "\t<li>0.477121254719662</li>\n",
       "\t<li>0.602059991327962</li>\n",
       "\t<li>0.698970004336019</li>\n",
       "</ol>\n"
      ],
      "text/latex": [
       "\\begin{enumerate*}\n",
       "\\item 0\n",
       "\\item 0.301029995663981\n",
       "\\item 0.477121254719662\n",
       "\\item 0.602059991327962\n",
       "\\item 0.698970004336019\n",
       "\\end{enumerate*}\n"
      ],
      "text/markdown": [
       "1. 0\n",
       "2. 0.301029995663981\n",
       "3. 0.477121254719662\n",
       "4. 0.602059991327962\n",
       "5. 0.698970004336019\n",
       "\n",
       "\n"
      ],
      "text/plain": [
       "[1] 0.0000000 0.3010300 0.4771213 0.6020600 0.6989700"
      ]
     },
     "metadata": {},
     "output_type": "display_data"
    },
    {
     "data": {
      "text/html": [
       "<ol class=list-inline>\n",
       "\t<li>2.71828182845905</li>\n",
       "\t<li>7.38905609893065</li>\n",
       "\t<li>20.0855369231877</li>\n",
       "\t<li>54.5981500331442</li>\n",
       "\t<li>148.413159102577</li>\n",
       "</ol>\n"
      ],
      "text/latex": [
       "\\begin{enumerate*}\n",
       "\\item 2.71828182845905\n",
       "\\item 7.38905609893065\n",
       "\\item 20.0855369231877\n",
       "\\item 54.5981500331442\n",
       "\\item 148.413159102577\n",
       "\\end{enumerate*}\n"
      ],
      "text/markdown": [
       "1. 2.71828182845905\n",
       "2. 7.38905609893065\n",
       "3. 20.0855369231877\n",
       "4. 54.5981500331442\n",
       "5. 148.413159102577\n",
       "\n",
       "\n"
      ],
      "text/plain": [
       "[1]   2.718282   7.389056  20.085537  54.598150 148.413159"
      ]
     },
     "metadata": {},
     "output_type": "display_data"
    },
    {
     "data": {
      "text/html": [
       "<ol class=list-inline>\n",
       "\t<li>1</li>\n",
       "\t<li>2</li>\n",
       "\t<li>3</li>\n",
       "\t<li>4</li>\n",
       "\t<li>5</li>\n",
       "</ol>\n"
      ],
      "text/latex": [
       "\\begin{enumerate*}\n",
       "\\item 1\n",
       "\\item 2\n",
       "\\item 3\n",
       "\\item 4\n",
       "\\item 5\n",
       "\\end{enumerate*}\n"
      ],
      "text/markdown": [
       "1. 1\n",
       "2. 2\n",
       "3. 3\n",
       "4. 4\n",
       "5. 5\n",
       "\n",
       "\n"
      ],
      "text/plain": [
       "[1] 1 2 3 4 5"
      ]
     },
     "metadata": {},
     "output_type": "display_data"
    }
   ],
   "source": [
    "#log()\n",
    "log(1:5) # base지정 안하면 ln이다 \n",
    "log(1:5,base=10)\n",
    "#자주 사용되는 log들은 함수 따로 존재\n",
    "log2(1:5)\n",
    "log10(1:5)\n",
    "\n",
    "#exp()\n",
    "exp(1:5)\n",
    "log(exp(1:5))"
   ]
  },
  {
   "cell_type": "code",
   "execution_count": 57,
   "id": "dedicated-chester",
   "metadata": {},
   "outputs": [
    {
     "data": {
      "text/html": [
       "<ol class=list-inline>\n",
       "\t<li>1</li>\n",
       "\t<li>2</li>\n",
       "\t<li>6</li>\n",
       "\t<li>24</li>\n",
       "\t<li>120</li>\n",
       "</ol>\n"
      ],
      "text/latex": [
       "\\begin{enumerate*}\n",
       "\\item 1\n",
       "\\item 2\n",
       "\\item 6\n",
       "\\item 24\n",
       "\\item 120\n",
       "\\end{enumerate*}\n"
      ],
      "text/markdown": [
       "1. 1\n",
       "2. 2\n",
       "3. 6\n",
       "4. 24\n",
       "5. 120\n",
       "\n",
       "\n"
      ],
      "text/plain": [
       "[1]   1   2   6  24 120"
      ]
     },
     "metadata": {},
     "output_type": "display_data"
    },
    {
     "data": {
      "text/html": [
       "10"
      ],
      "text/latex": [
       "10"
      ],
      "text/markdown": [
       "10"
      ],
      "text/plain": [
       "[1] 10"
      ]
     },
     "metadata": {},
     "output_type": "display_data"
    },
    {
     "data": {
      "text/html": [
       "<ol class=list-inline>\n",
       "\t<li>10</li>\n",
       "\t<li>15</li>\n",
       "</ol>\n"
      ],
      "text/latex": [
       "\\begin{enumerate*}\n",
       "\\item 10\n",
       "\\item 15\n",
       "\\end{enumerate*}\n"
      ],
      "text/markdown": [
       "1. 10\n",
       "2. 15\n",
       "\n",
       "\n"
      ],
      "text/plain": [
       "[1] 10 15"
      ]
     },
     "metadata": {},
     "output_type": "display_data"
    }
   ],
   "source": [
    "# factorial\n",
    "factorial(1:5) # 1! 2! 3! 4! 5!\n",
    "\n",
    "#choose Combination\n",
    "choose(5,2)\n",
    "choose(5:6,2)"
   ]
  },
  {
   "cell_type": "code",
   "execution_count": 75,
   "id": "random-cowboy",
   "metadata": {},
   "outputs": [
    {
     "data": {
      "text/html": [
       "191.132"
      ],
      "text/latex": [
       "191.132"
      ],
      "text/markdown": [
       "191.132"
      ],
      "text/plain": [
       "[1] 191.132"
      ]
     },
     "metadata": {},
     "output_type": "display_data"
    },
    {
     "data": {
      "text/html": [
       "191"
      ],
      "text/latex": [
       "191"
      ],
      "text/markdown": [
       "191"
      ],
      "text/plain": [
       "[1] 191"
      ]
     },
     "metadata": {},
     "output_type": "display_data"
    },
    {
     "data": {
      "text/html": [
       "192"
      ],
      "text/latex": [
       "192"
      ],
      "text/markdown": [
       "192"
      ],
      "text/plain": [
       "[1] 192"
      ]
     },
     "metadata": {},
     "output_type": "display_data"
    },
    {
     "data": {
      "text/html": [
       "191"
      ],
      "text/latex": [
       "191"
      ],
      "text/markdown": [
       "191"
      ],
      "text/plain": [
       "[1] 191"
      ]
     },
     "metadata": {},
     "output_type": "display_data"
    }
   ],
   "source": [
    "# round(): 음수 양수 상관없이 지정한 위치에서 반올림 \n",
    "round(191.1323,3) #소숫점 3번째 자리 까지\n",
    "\n",
    "# floor():내림 ; 인수보다 작은 가장 가까운 정수\n",
    "floor(191.1323)\n",
    "# ceiling():올림  ; 인수보다 큰 가장 가까운 정수\n",
    "ceiling(191.1323)\n",
    "# trunc(): 음수 양수 상관없이 버림\n",
    "trunc(191.1323)\n",
    "\n",
    "\n",
    "#아래 결과값들 확인해보자\n",
    "#round(-421.3) \n",
    "#round(-421.5)\n",
    "#floor(-421.3)\n",
    "#floor(-421.5)\n",
    "#ceiling(-421.3)\n",
    "#ceiling(-421.5)\n",
    "#trunc(-421.3)\n",
    "#trunc(-421.5)\n"
   ]
  },
  {
   "cell_type": "code",
   "execution_count": 81,
   "id": "gentle-sight",
   "metadata": {},
   "outputs": [
    {
     "data": {
      "text/html": [
       "<ol class=list-inline>\n",
       "\t<li>1</li>\n",
       "\t<li>3</li>\n",
       "\t<li>6</li>\n",
       "\t<li>10</li>\n",
       "\t<li>15</li>\n",
       "\t<li>21</li>\n",
       "\t<li>28</li>\n",
       "\t<li>36</li>\n",
       "\t<li>45</li>\n",
       "\t<li>55</li>\n",
       "</ol>\n"
      ],
      "text/latex": [
       "\\begin{enumerate*}\n",
       "\\item 1\n",
       "\\item 3\n",
       "\\item 6\n",
       "\\item 10\n",
       "\\item 15\n",
       "\\item 21\n",
       "\\item 28\n",
       "\\item 36\n",
       "\\item 45\n",
       "\\item 55\n",
       "\\end{enumerate*}\n"
      ],
      "text/markdown": [
       "1. 1\n",
       "2. 3\n",
       "3. 6\n",
       "4. 10\n",
       "5. 15\n",
       "6. 21\n",
       "7. 28\n",
       "8. 36\n",
       "9. 45\n",
       "10. 55\n",
       "\n",
       "\n"
      ],
      "text/plain": [
       " [1]  1  3  6 10 15 21 28 36 45 55"
      ]
     },
     "metadata": {},
     "output_type": "display_data"
    },
    {
     "data": {
      "text/html": [
       "<ol class=list-inline>\n",
       "\t<li>2</li>\n",
       "\t<li>2</li>\n",
       "\t<li>2</li>\n",
       "\t<li>2</li>\n",
       "</ol>\n"
      ],
      "text/latex": [
       "\\begin{enumerate*}\n",
       "\\item 2\n",
       "\\item 2\n",
       "\\item 2\n",
       "\\item 2\n",
       "\\end{enumerate*}\n"
      ],
      "text/markdown": [
       "1. 2\n",
       "2. 2\n",
       "3. 2\n",
       "4. 2\n",
       "\n",
       "\n"
      ],
      "text/plain": [
       "[1] 2 2 2 2"
      ]
     },
     "metadata": {},
     "output_type": "display_data"
    }
   ],
   "source": [
    "# cumsum() => 누적 합\n",
    "a<-1:10\n",
    "cumsum(a)\n",
    "\n",
    "# diff()\n",
    "b<-seq(1,10,2)\n",
    "diff(b) # 원소들끼리의 차이=> a[2]-a[1] a[3]-a[2] ,,, a[5]-a[1]"
   ]
  }
 ],
 "metadata": {
  "kernelspec": {
   "display_name": "R",
   "language": "R",
   "name": "ir"
  },
  "language_info": {
   "codemirror_mode": "r",
   "file_extension": ".r",
   "mimetype": "text/x-r-source",
   "name": "R",
   "pygments_lexer": "r",
   "version": "4.1.0"
  }
 },
 "nbformat": 4,
 "nbformat_minor": 5
}
