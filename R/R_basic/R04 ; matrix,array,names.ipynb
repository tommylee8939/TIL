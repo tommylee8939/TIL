{
 "cells": [
  {
   "cell_type": "markdown",
   "metadata": {},
   "source": [
    "## R04 ; 행렬 , 배열\n",
    "- 벡터와 마찬가지로 하나의 데이터 타입만 저장할 수 있다\n",
    "- 같은 데이터 타입의 열벡터 여러개가 합쳐진 형태라고 이해하자"
   ]
  },
  {
   "cell_type": "markdown",
   "metadata": {},
   "source": [
    "### 행렬 생성하는 방법\n",
    "- 기본적으로 열중심으로 갑이 채워진다\n",
    "    1. dim()\n",
    "    2. matrix()\n",
    "    3. rbind() , cbind()"
   ]
  },
  {
   "cell_type": "markdown",
   "metadata": {},
   "source": [
    "#### 1.dim() \n",
    "- 벡터의 차원은 1차원이었다\n",
    "- 행렬의 차원은 2차원이다"
   ]
  },
  {
   "cell_type": "code",
   "execution_count": 1,
   "metadata": {},
   "outputs": [
    {
     "data": {
      "text/html": [
       "<table>\n",
       "<tbody>\n",
       "\t<tr><td>1 </td><td>3 </td><td>5 </td><td>7 </td><td> 9</td></tr>\n",
       "\t<tr><td>2 </td><td>4 </td><td>6 </td><td>8 </td><td>10</td></tr>\n",
       "</tbody>\n",
       "</table>\n"
      ],
      "text/latex": [
       "\\begin{tabular}{lllll}\n",
       "\t 1  & 3  & 5  & 7  &  9\\\\\n",
       "\t 2  & 4  & 6  & 8  & 10\\\\\n",
       "\\end{tabular}\n"
      ],
      "text/markdown": [
       "\n",
       "| 1  | 3  | 5  | 7  |  9 |\n",
       "| 2  | 4  | 6  | 8  | 10 |\n",
       "\n"
      ],
      "text/plain": [
       "     [,1] [,2] [,3] [,4] [,5]\n",
       "[1,] 1    3    5    7     9  \n",
       "[2,] 2    4    6    8    10  "
      ]
     },
     "metadata": {},
     "output_type": "display_data"
    }
   ],
   "source": [
    "a <- 1:10\n",
    "dim(a)<-c(2,5)\n",
    "a"
   ]
  },
  {
   "cell_type": "markdown",
   "metadata": {},
   "source": [
    "#### 2.matrix(x,nrow,ncol,dimnames=NULL,byrow=F)\n",
    "- 행과 열에 대한 아무 명시 없으면 기본은 1열짜리 매트릭스를 생성한다\n",
    "- nrow ncol 지정가능 => 하나만 지정해도 자동계산\n",
    "- dimnames 옵션으로 각 행과 열에 이름 추가 가능 => list로 넣어줘야 한다\n",
    "- byrow=T 로 주면 행기준으로 값을 채운다"
   ]
  },
  {
   "cell_type": "code",
   "execution_count": 4,
   "metadata": {},
   "outputs": [
    {
     "data": {
      "text/html": [
       "<table>\n",
       "<tbody>\n",
       "\t<tr><td> 1</td></tr>\n",
       "\t<tr><td> 2</td></tr>\n",
       "\t<tr><td> 3</td></tr>\n",
       "\t<tr><td> 4</td></tr>\n",
       "\t<tr><td> 5</td></tr>\n",
       "\t<tr><td> 6</td></tr>\n",
       "\t<tr><td> 7</td></tr>\n",
       "\t<tr><td> 8</td></tr>\n",
       "\t<tr><td> 9</td></tr>\n",
       "\t<tr><td>10</td></tr>\n",
       "</tbody>\n",
       "</table>\n"
      ],
      "text/latex": [
       "\\begin{tabular}{l}\n",
       "\t  1\\\\\n",
       "\t  2\\\\\n",
       "\t  3\\\\\n",
       "\t  4\\\\\n",
       "\t  5\\\\\n",
       "\t  6\\\\\n",
       "\t  7\\\\\n",
       "\t  8\\\\\n",
       "\t  9\\\\\n",
       "\t 10\\\\\n",
       "\\end{tabular}\n"
      ],
      "text/markdown": [
       "\n",
       "|  1 |\n",
       "|  2 |\n",
       "|  3 |\n",
       "|  4 |\n",
       "|  5 |\n",
       "|  6 |\n",
       "|  7 |\n",
       "|  8 |\n",
       "|  9 |\n",
       "| 10 |\n",
       "\n"
      ],
      "text/plain": [
       "      [,1]\n",
       " [1,]  1  \n",
       " [2,]  2  \n",
       " [3,]  3  \n",
       " [4,]  4  \n",
       " [5,]  5  \n",
       " [6,]  6  \n",
       " [7,]  7  \n",
       " [8,]  8  \n",
       " [9,]  9  \n",
       "[10,] 10  "
      ]
     },
     "metadata": {},
     "output_type": "display_data"
    }
   ],
   "source": [
    "mat01<-matrix(1:10)\n",
    "mat01"
   ]
  },
  {
   "cell_type": "code",
   "execution_count": 6,
   "metadata": {},
   "outputs": [
    {
     "data": {
      "text/html": [
       "<table>\n",
       "<tbody>\n",
       "\t<tr><td>1 </td><td>3 </td><td>5 </td><td>7 </td><td> 9</td></tr>\n",
       "\t<tr><td>2 </td><td>4 </td><td>6 </td><td>8 </td><td>10</td></tr>\n",
       "</tbody>\n",
       "</table>\n"
      ],
      "text/latex": [
       "\\begin{tabular}{lllll}\n",
       "\t 1  & 3  & 5  & 7  &  9\\\\\n",
       "\t 2  & 4  & 6  & 8  & 10\\\\\n",
       "\\end{tabular}\n"
      ],
      "text/markdown": [
       "\n",
       "| 1  | 3  | 5  | 7  |  9 |\n",
       "| 2  | 4  | 6  | 8  | 10 |\n",
       "\n"
      ],
      "text/plain": [
       "     [,1] [,2] [,3] [,4] [,5]\n",
       "[1,] 1    3    5    7     9  \n",
       "[2,] 2    4    6    8    10  "
      ]
     },
     "metadata": {},
     "output_type": "display_data"
    },
    {
     "data": {
      "text/html": [
       "<table>\n",
       "<tbody>\n",
       "\t<tr><td>1 </td><td>2 </td><td>3 </td><td>4 </td><td> 5</td></tr>\n",
       "\t<tr><td>6 </td><td>7 </td><td>8 </td><td>9 </td><td>10</td></tr>\n",
       "</tbody>\n",
       "</table>\n"
      ],
      "text/latex": [
       "\\begin{tabular}{lllll}\n",
       "\t 1  & 2  & 3  & 4  &  5\\\\\n",
       "\t 6  & 7  & 8  & 9  & 10\\\\\n",
       "\\end{tabular}\n"
      ],
      "text/markdown": [
       "\n",
       "| 1  | 2  | 3  | 4  |  5 |\n",
       "| 6  | 7  | 8  | 9  | 10 |\n",
       "\n"
      ],
      "text/plain": [
       "     [,1] [,2] [,3] [,4] [,5]\n",
       "[1,] 1    2    3    4     5  \n",
       "[2,] 6    7    8    9    10  "
      ]
     },
     "metadata": {},
     "output_type": "display_data"
    }
   ],
   "source": [
    "mat02<-matrix(1:10,2,5)\n",
    "mat02\n",
    "mat02<-matrix(1:10,2,5,byrow = T)\n",
    "mat02"
   ]
  },
  {
   "cell_type": "code",
   "execution_count": 7,
   "metadata": {},
   "outputs": [
    {
     "data": {
      "text/html": [
       "<table>\n",
       "<thead><tr><th></th><th scope=col>col1</th><th scope=col>col2</th><th scope=col>col3</th></tr></thead>\n",
       "<tbody>\n",
       "\t<tr><th scope=row>row1</th><td>1</td><td>4</td><td>7</td></tr>\n",
       "\t<tr><th scope=row>row2</th><td>2</td><td>5</td><td>8</td></tr>\n",
       "\t<tr><th scope=row>row3</th><td>3</td><td>6</td><td>9</td></tr>\n",
       "</tbody>\n",
       "</table>\n"
      ],
      "text/latex": [
       "\\begin{tabular}{r|lll}\n",
       "  & col1 & col2 & col3\\\\\n",
       "\\hline\n",
       "\trow1 & 1 & 4 & 7\\\\\n",
       "\trow2 & 2 & 5 & 8\\\\\n",
       "\trow3 & 3 & 6 & 9\\\\\n",
       "\\end{tabular}\n"
      ],
      "text/markdown": [
       "\n",
       "| <!--/--> | col1 | col2 | col3 |\n",
       "|---|---|---|---|\n",
       "| row1 | 1 | 4 | 7 |\n",
       "| row2 | 2 | 5 | 8 |\n",
       "| row3 | 3 | 6 | 9 |\n",
       "\n"
      ],
      "text/plain": [
       "     col1 col2 col3\n",
       "row1 1    4    7   \n",
       "row2 2    5    8   \n",
       "row3 3    6    9   "
      ]
     },
     "metadata": {},
     "output_type": "display_data"
    }
   ],
   "source": [
    "mat03<-matrix(c(1:9),nrow=3,dimnames = list(c(\"row1\",\"row2\",\"row3\"),c(\"col1\",\"col2\",\"col3\")))\n",
    "mat03"
   ]
  },
  {
   "cell_type": "code",
   "execution_count": 11,
   "metadata": {},
   "outputs": [
    {
     "data": {
      "text/html": [
       "<table>\n",
       "<thead><tr><th></th><th scope=col>col1</th><th scope=col>col2</th><th scope=col>col3</th></tr></thead>\n",
       "<tbody>\n",
       "\t<tr><th scope=row>row1</th><td>1</td><td>4</td><td>7</td></tr>\n",
       "\t<tr><th scope=row>row2</th><td>2</td><td>5</td><td>8</td></tr>\n",
       "\t<tr><th scope=row>row3</th><td>3</td><td>6</td><td>9</td></tr>\n",
       "</tbody>\n",
       "</table>\n"
      ],
      "text/latex": [
       "\\begin{tabular}{r|lll}\n",
       "  & col1 & col2 & col3\\\\\n",
       "\\hline\n",
       "\trow1 & 1 & 4 & 7\\\\\n",
       "\trow2 & 2 & 5 & 8\\\\\n",
       "\trow3 & 3 & 6 & 9\\\\\n",
       "\\end{tabular}\n"
      ],
      "text/markdown": [
       "\n",
       "| <!--/--> | col1 | col2 | col3 |\n",
       "|---|---|---|---|\n",
       "| row1 | 1 | 4 | 7 |\n",
       "| row2 | 2 | 5 | 8 |\n",
       "| row3 | 3 | 6 | 9 |\n",
       "\n"
      ],
      "text/plain": [
       "     col1 col2 col3\n",
       "row1 1    4    7   \n",
       "row2 2    5    8   \n",
       "row3 3    6    9   "
      ]
     },
     "metadata": {},
     "output_type": "display_data"
    }
   ],
   "source": [
    "#직접 이름을 추가해줄 수도 있다\n",
    "mat04<-matrix(1:9,ncol=3)\n",
    "rownames(mat04)<-c(\"row1\",\"row2\",\"row3\")\n",
    "colnames(mat04)<-c(\"col1\",\"col2\",\"col3\")\n",
    "mat04"
   ]
  },
  {
   "cell_type": "markdown",
   "metadata": {},
   "source": [
    "####  3.rbind() , cbind()"
   ]
  },
  {
   "cell_type": "code",
   "execution_count": 12,
   "metadata": {},
   "outputs": [
    {
     "data": {
      "text/html": [
       "<table>\n",
       "<tbody>\n",
       "\t<tr><td>1</td><td>2</td><td>3</td></tr>\n",
       "\t<tr><td>4</td><td>5</td><td>6</td></tr>\n",
       "</tbody>\n",
       "</table>\n"
      ],
      "text/latex": [
       "\\begin{tabular}{lll}\n",
       "\t 1 & 2 & 3\\\\\n",
       "\t 4 & 5 & 6\\\\\n",
       "\\end{tabular}\n"
      ],
      "text/markdown": [
       "\n",
       "| 1 | 2 | 3 |\n",
       "| 4 | 5 | 6 |\n",
       "\n"
      ],
      "text/plain": [
       "     [,1] [,2] [,3]\n",
       "[1,] 1    2    3   \n",
       "[2,] 4    5    6   "
      ]
     },
     "metadata": {},
     "output_type": "display_data"
    },
    {
     "data": {
      "text/html": [
       "<table>\n",
       "<tbody>\n",
       "\t<tr><td>1</td><td>4</td></tr>\n",
       "\t<tr><td>2</td><td>5</td></tr>\n",
       "\t<tr><td>3</td><td>6</td></tr>\n",
       "</tbody>\n",
       "</table>\n"
      ],
      "text/latex": [
       "\\begin{tabular}{ll}\n",
       "\t 1 & 4\\\\\n",
       "\t 2 & 5\\\\\n",
       "\t 3 & 6\\\\\n",
       "\\end{tabular}\n"
      ],
      "text/markdown": [
       "\n",
       "| 1 | 4 |\n",
       "| 2 | 5 |\n",
       "| 3 | 6 |\n",
       "\n"
      ],
      "text/plain": [
       "     [,1] [,2]\n",
       "[1,] 1    4   \n",
       "[2,] 2    5   \n",
       "[3,] 3    6   "
      ]
     },
     "metadata": {},
     "output_type": "display_data"
    }
   ],
   "source": [
    "mat05<-rbind(c(1,2,3),c(4,5,6))\n",
    "mat05\n",
    "mat06<-cbind(c(1,2,3),c(4,5,6))\n",
    "mat06\n"
   ]
  },
  {
   "cell_type": "markdown",
   "metadata": {},
   "source": [
    "#### rbind() cbind()를 통해 벡터와 행렬, 행렬과 행렬도 결합할수 있다"
   ]
  },
  {
   "cell_type": "code",
   "execution_count": 30,
   "metadata": {},
   "outputs": [
    {
     "data": {
      "text/html": [
       "<table>\n",
       "<tbody>\n",
       "\t<tr><td>1</td><td>4</td><td>1</td><td>4</td></tr>\n",
       "\t<tr><td>2</td><td>5</td><td>2</td><td>5</td></tr>\n",
       "\t<tr><td>3</td><td>6</td><td>3</td><td>6</td></tr>\n",
       "</tbody>\n",
       "</table>\n"
      ],
      "text/latex": [
       "\\begin{tabular}{llll}\n",
       "\t 1 & 4 & 1 & 4\\\\\n",
       "\t 2 & 5 & 2 & 5\\\\\n",
       "\t 3 & 6 & 3 & 6\\\\\n",
       "\\end{tabular}\n"
      ],
      "text/markdown": [
       "\n",
       "| 1 | 4 | 1 | 4 |\n",
       "| 2 | 5 | 2 | 5 |\n",
       "| 3 | 6 | 3 | 6 |\n",
       "\n"
      ],
      "text/plain": [
       "     [,1] [,2] [,3] [,4]\n",
       "[1,] 1    4    1    4   \n",
       "[2,] 2    5    2    5   \n",
       "[3,] 3    6    3    6   "
      ]
     },
     "metadata": {},
     "output_type": "display_data"
    },
    {
     "data": {
      "text/html": [
       "<table>\n",
       "<tbody>\n",
       "\t<tr><td>1</td><td>4</td></tr>\n",
       "\t<tr><td>2</td><td>5</td></tr>\n",
       "\t<tr><td>3</td><td>6</td></tr>\n",
       "\t<tr><td>1</td><td>4</td></tr>\n",
       "\t<tr><td>2</td><td>5</td></tr>\n",
       "\t<tr><td>3</td><td>6</td></tr>\n",
       "</tbody>\n",
       "</table>\n"
      ],
      "text/latex": [
       "\\begin{tabular}{ll}\n",
       "\t 1 & 4\\\\\n",
       "\t 2 & 5\\\\\n",
       "\t 3 & 6\\\\\n",
       "\t 1 & 4\\\\\n",
       "\t 2 & 5\\\\\n",
       "\t 3 & 6\\\\\n",
       "\\end{tabular}\n"
      ],
      "text/markdown": [
       "\n",
       "| 1 | 4 |\n",
       "| 2 | 5 |\n",
       "| 3 | 6 |\n",
       "| 1 | 4 |\n",
       "| 2 | 5 |\n",
       "| 3 | 6 |\n",
       "\n"
      ],
      "text/plain": [
       "     [,1] [,2]\n",
       "[1,] 1    4   \n",
       "[2,] 2    5   \n",
       "[3,] 3    6   \n",
       "[4,] 1    4   \n",
       "[5,] 2    5   \n",
       "[6,] 3    6   "
      ]
     },
     "metadata": {},
     "output_type": "display_data"
    }
   ],
   "source": [
    "cbind(1:3,4:6,matrix(1:6,3,2))\n",
    "rbind(matrix(1:6,3,2),matrix(1:6,3,2))"
   ]
  },
  {
   "cell_type": "markdown",
   "metadata": {},
   "source": [
    "#### 단일 값으로 행렬을 다 채울 수도 있다"
   ]
  },
  {
   "cell_type": "code",
   "execution_count": 25,
   "metadata": {},
   "outputs": [
    {
     "data": {
      "text/html": [
       "<table>\n",
       "<tbody>\n",
       "\t<tr><td>0</td><td>0</td><td>0</td></tr>\n",
       "\t<tr><td>0</td><td>0</td><td>0</td></tr>\n",
       "\t<tr><td>0</td><td>0</td><td>0</td></tr>\n",
       "\t<tr><td>0</td><td>0</td><td>0</td></tr>\n",
       "</tbody>\n",
       "</table>\n"
      ],
      "text/latex": [
       "\\begin{tabular}{lll}\n",
       "\t 0 & 0 & 0\\\\\n",
       "\t 0 & 0 & 0\\\\\n",
       "\t 0 & 0 & 0\\\\\n",
       "\t 0 & 0 & 0\\\\\n",
       "\\end{tabular}\n"
      ],
      "text/markdown": [
       "\n",
       "| 0 | 0 | 0 |\n",
       "| 0 | 0 | 0 |\n",
       "| 0 | 0 | 0 |\n",
       "| 0 | 0 | 0 |\n",
       "\n"
      ],
      "text/plain": [
       "     [,1] [,2] [,3]\n",
       "[1,] 0    0    0   \n",
       "[2,] 0    0    0   \n",
       "[3,] 0    0    0   \n",
       "[4,] 0    0    0   "
      ]
     },
     "metadata": {},
     "output_type": "display_data"
    },
    {
     "data": {
      "text/html": [
       "<table>\n",
       "<tbody>\n",
       "\t<tr><td>NA</td><td>NA</td><td>NA</td></tr>\n",
       "\t<tr><td>NA</td><td>NA</td><td>NA</td></tr>\n",
       "\t<tr><td>NA</td><td>NA</td><td>NA</td></tr>\n",
       "\t<tr><td>NA</td><td>NA</td><td>NA</td></tr>\n",
       "</tbody>\n",
       "</table>\n"
      ],
      "text/latex": [
       "\\begin{tabular}{lll}\n",
       "\t NA & NA & NA\\\\\n",
       "\t NA & NA & NA\\\\\n",
       "\t NA & NA & NA\\\\\n",
       "\t NA & NA & NA\\\\\n",
       "\\end{tabular}\n"
      ],
      "text/markdown": [
       "\n",
       "| NA | NA | NA |\n",
       "| NA | NA | NA |\n",
       "| NA | NA | NA |\n",
       "| NA | NA | NA |\n",
       "\n"
      ],
      "text/plain": [
       "     [,1] [,2] [,3]\n",
       "[1,] NA   NA   NA  \n",
       "[2,] NA   NA   NA  \n",
       "[3,] NA   NA   NA  \n",
       "[4,] NA   NA   NA  "
      ]
     },
     "metadata": {},
     "output_type": "display_data"
    }
   ],
   "source": [
    "matrix(0,4,3)\n",
    "matrix(NA,4,3)"
   ]
  },
  {
   "cell_type": "markdown",
   "metadata": {},
   "source": [
    "### 행렬의 인덱싱\n",
    "- 기본적으로 vector와 동일하다\n",
    "- 다만 [,] 차원이 하나 더 존재할 뿐이다\n",
    "- 행 또는 열에 해당하는 인덱스가 비어있으면 전체를 의미한다"
   ]
  },
  {
   "cell_type": "code",
   "execution_count": 17,
   "metadata": {},
   "outputs": [
    {
     "data": {
      "text/html": [
       "<table>\n",
       "<tbody>\n",
       "\t<tr><td>1</td><td>4</td><td>7</td></tr>\n",
       "\t<tr><td>2</td><td>5</td><td>8</td></tr>\n",
       "\t<tr><td>3</td><td>6</td><td>9</td></tr>\n",
       "</tbody>\n",
       "</table>\n"
      ],
      "text/latex": [
       "\\begin{tabular}{lll}\n",
       "\t 1 & 4 & 7\\\\\n",
       "\t 2 & 5 & 8\\\\\n",
       "\t 3 & 6 & 9\\\\\n",
       "\\end{tabular}\n"
      ],
      "text/markdown": [
       "\n",
       "| 1 | 4 | 7 |\n",
       "| 2 | 5 | 8 |\n",
       "| 3 | 6 | 9 |\n",
       "\n"
      ],
      "text/plain": [
       "     [,1] [,2] [,3]\n",
       "[1,] 1    4    7   \n",
       "[2,] 2    5    8   \n",
       "[3,] 3    6    9   "
      ]
     },
     "metadata": {},
     "output_type": "display_data"
    },
    {
     "data": {
      "text/html": [
       "<ol class=list-inline>\n",
       "\t<li>4</li>\n",
       "\t<li>5</li>\n",
       "</ol>\n"
      ],
      "text/latex": [
       "\\begin{enumerate*}\n",
       "\\item 4\n",
       "\\item 5\n",
       "\\end{enumerate*}\n"
      ],
      "text/markdown": [
       "1. 4\n",
       "2. 5\n",
       "\n",
       "\n"
      ],
      "text/plain": [
       "[1] 4 5"
      ]
     },
     "metadata": {},
     "output_type": "display_data"
    },
    {
     "data": {
      "text/html": [
       "<table>\n",
       "<tbody>\n",
       "\t<tr><td>2</td><td>8</td></tr>\n",
       "\t<tr><td>3</td><td>9</td></tr>\n",
       "</tbody>\n",
       "</table>\n"
      ],
      "text/latex": [
       "\\begin{tabular}{ll}\n",
       "\t 2 & 8\\\\\n",
       "\t 3 & 9\\\\\n",
       "\\end{tabular}\n"
      ],
      "text/markdown": [
       "\n",
       "| 2 | 8 |\n",
       "| 3 | 9 |\n",
       "\n"
      ],
      "text/plain": [
       "     [,1] [,2]\n",
       "[1,] 2    8   \n",
       "[2,] 3    9   "
      ]
     },
     "metadata": {},
     "output_type": "display_data"
    },
    {
     "data": {
      "text/html": [
       "<table>\n",
       "<tbody>\n",
       "\t<tr><td>1</td><td>4</td></tr>\n",
       "\t<tr><td>2</td><td>5</td></tr>\n",
       "\t<tr><td>3</td><td>6</td></tr>\n",
       "</tbody>\n",
       "</table>\n"
      ],
      "text/latex": [
       "\\begin{tabular}{ll}\n",
       "\t 1 & 4\\\\\n",
       "\t 2 & 5\\\\\n",
       "\t 3 & 6\\\\\n",
       "\\end{tabular}\n"
      ],
      "text/markdown": [
       "\n",
       "| 1 | 4 |\n",
       "| 2 | 5 |\n",
       "| 3 | 6 |\n",
       "\n"
      ],
      "text/plain": [
       "     [,1] [,2]\n",
       "[1,] 1    4   \n",
       "[2,] 2    5   \n",
       "[3,] 3    6   "
      ]
     },
     "metadata": {},
     "output_type": "display_data"
    },
    {
     "data": {
      "text/html": [
       "<table>\n",
       "<tbody>\n",
       "\t<tr><td>1</td><td>4</td><td>7</td></tr>\n",
       "\t<tr><td>2</td><td>5</td><td>8</td></tr>\n",
       "</tbody>\n",
       "</table>\n"
      ],
      "text/latex": [
       "\\begin{tabular}{lll}\n",
       "\t 1 & 4 & 7\\\\\n",
       "\t 2 & 5 & 8\\\\\n",
       "\\end{tabular}\n"
      ],
      "text/markdown": [
       "\n",
       "| 1 | 4 | 7 |\n",
       "| 2 | 5 | 8 |\n",
       "\n"
      ],
      "text/plain": [
       "     [,1] [,2] [,3]\n",
       "[1,] 1    4    7   \n",
       "[2,] 2    5    8   "
      ]
     },
     "metadata": {},
     "output_type": "display_data"
    }
   ],
   "source": [
    "mat<-matrix(1:9,nrow=3,ncol=3)\n",
    "mat\n",
    "mat[c(1:2),2]\n",
    "mat[-1,c(1,3)]\n",
    "mat[,1:2]\n",
    "mat[1:2,]"
   ]
  },
  {
   "cell_type": "markdown",
   "metadata": {},
   "source": [
    "#### 인덱싱을 일차원의 데이터는 벡터로 출력된다\n",
    "- drop option을 통해 matrix의 형태를 유지시킬수 있다"
   ]
  },
  {
   "cell_type": "code",
   "execution_count": 22,
   "metadata": {},
   "outputs": [
    {
     "data": {
      "text/html": [
       "<ol class=list-inline>\n",
       "\t<li>4</li>\n",
       "\t<li>5</li>\n",
       "\t<li>6</li>\n",
       "</ol>\n"
      ],
      "text/latex": [
       "\\begin{enumerate*}\n",
       "\\item 4\n",
       "\\item 5\n",
       "\\item 6\n",
       "\\end{enumerate*}\n"
      ],
      "text/markdown": [
       "1. 4\n",
       "2. 5\n",
       "3. 6\n",
       "\n",
       "\n"
      ],
      "text/plain": [
       "[1] 4 5 6"
      ]
     },
     "metadata": {},
     "output_type": "display_data"
    },
    {
     "data": {
      "text/html": [
       "'integer'"
      ],
      "text/latex": [
       "'integer'"
      ],
      "text/markdown": [
       "'integer'"
      ],
      "text/plain": [
       "[1] \"integer\""
      ]
     },
     "metadata": {},
     "output_type": "display_data"
    },
    {
     "data": {
      "text/html": [
       "'matrix'"
      ],
      "text/latex": [
       "'matrix'"
      ],
      "text/markdown": [
       "'matrix'"
      ],
      "text/plain": [
       "[1] \"matrix\""
      ]
     },
     "metadata": {},
     "output_type": "display_data"
    }
   ],
   "source": [
    "mat<-matrix(1:9,nrow=3,ncol=3)\n",
    "mat[,2]\n",
    "class(mat[,2])       #vector\n",
    "class(mat[,2,drop=F])#matrix"
   ]
  },
  {
   "cell_type": "markdown",
   "metadata": {},
   "source": [
    "### 행렬의 연산\n",
    "- 벡터와 행렬의 연산도 가능하다\n",
    "- 벡터와 동일하게 원소 대 원소의 연산이다\n",
    "- 벡터는 길이가 다를때 자동으로 rep해줬지만 matrix ncol nrow에 민감하다 \n",
    "- t() 전치함수 transpose\n",
    "- apply(matrix,1또는2,함수명) \n",
    "    - 특정 행 또는 열 기준으로 원하는 함수 사용 가능\n",
    "    - 1:행 2:열\n",
    "- rowSums() colSums() rowMeans() colMeans()\n",
    "    - 자주 사용되는 함수들은 굳이 apply함수 없이 이미 내장되어있다\n",
    "- order(vector,decrasing=F) \n",
    "    - 인자가 벡터다\n",
    "    - decreaing 옵션으로 오름차순 내림차순 선택가능"
   ]
  },
  {
   "cell_type": "code",
   "execution_count": 32,
   "metadata": {},
   "outputs": [
    {
     "data": {
      "text/html": [
       "<table>\n",
       "<tbody>\n",
       "\t<tr><td>2 </td><td>5 </td><td> 8</td></tr>\n",
       "\t<tr><td>4 </td><td>7 </td><td>10</td></tr>\n",
       "\t<tr><td>6 </td><td>9 </td><td>12</td></tr>\n",
       "</tbody>\n",
       "</table>\n"
      ],
      "text/latex": [
       "\\begin{tabular}{lll}\n",
       "\t 2  & 5  &  8\\\\\n",
       "\t 4  & 7  & 10\\\\\n",
       "\t 6  & 9  & 12\\\\\n",
       "\\end{tabular}\n"
      ],
      "text/markdown": [
       "\n",
       "| 2  | 5  |  8 |\n",
       "| 4  | 7  | 10 |\n",
       "| 6  | 9  | 12 |\n",
       "\n"
      ],
      "text/plain": [
       "     [,1] [,2] [,3]\n",
       "[1,] 2    5     8  \n",
       "[2,] 4    7    10  \n",
       "[3,] 6    9    12  "
      ]
     },
     "metadata": {},
     "output_type": "display_data"
    },
    {
     "data": {
      "text/html": [
       "<table>\n",
       "<tbody>\n",
       "\t<tr><td>1 </td><td> 4</td><td> 7</td></tr>\n",
       "\t<tr><td>4 </td><td>10</td><td>16</td></tr>\n",
       "\t<tr><td>9 </td><td>18</td><td>27</td></tr>\n",
       "</tbody>\n",
       "</table>\n"
      ],
      "text/latex": [
       "\\begin{tabular}{lll}\n",
       "\t 1  &  4 &  7\\\\\n",
       "\t 4  & 10 & 16\\\\\n",
       "\t 9  & 18 & 27\\\\\n",
       "\\end{tabular}\n"
      ],
      "text/markdown": [
       "\n",
       "| 1  |  4 |  7 |\n",
       "| 4  | 10 | 16 |\n",
       "| 9  | 18 | 27 |\n",
       "\n"
      ],
      "text/plain": [
       "     [,1] [,2] [,3]\n",
       "[1,] 1     4    7  \n",
       "[2,] 4    10   16  \n",
       "[3,] 9    18   27  "
      ]
     },
     "metadata": {},
     "output_type": "display_data"
    }
   ],
   "source": [
    "mat01<-matrix(1:9,nrow=3,ncol=3)\n",
    "vec01<-c(1,2,3)\n",
    "mat01+vec01 #=> c(1,2,3) 각 열에 다 더해진다\n",
    "mat01*vec01 #=> c(1,2,3) 각 열에 다 곱해진다\n"
   ]
  },
  {
   "cell_type": "code",
   "execution_count": 35,
   "metadata": {},
   "outputs": [
    {
     "data": {
      "text/html": [
       "<table>\n",
       "<tbody>\n",
       "\t<tr><td>2 </td><td> 8</td><td>14</td></tr>\n",
       "\t<tr><td>4 </td><td>10</td><td>16</td></tr>\n",
       "\t<tr><td>6 </td><td>12</td><td>18</td></tr>\n",
       "</tbody>\n",
       "</table>\n"
      ],
      "text/latex": [
       "\\begin{tabular}{lll}\n",
       "\t 2  &  8 & 14\\\\\n",
       "\t 4  & 10 & 16\\\\\n",
       "\t 6  & 12 & 18\\\\\n",
       "\\end{tabular}\n"
      ],
      "text/markdown": [
       "\n",
       "| 2  |  8 | 14 |\n",
       "| 4  | 10 | 16 |\n",
       "| 6  | 12 | 18 |\n",
       "\n"
      ],
      "text/plain": [
       "     [,1] [,2] [,3]\n",
       "[1,] 2     8   14  \n",
       "[2,] 4    10   16  \n",
       "[3,] 6    12   18  "
      ]
     },
     "metadata": {},
     "output_type": "display_data"
    },
    {
     "data": {
      "text/html": [
       "<table>\n",
       "<tbody>\n",
       "\t<tr><td>0</td><td>0</td><td>0</td></tr>\n",
       "\t<tr><td>0</td><td>0</td><td>0</td></tr>\n",
       "\t<tr><td>0</td><td>0</td><td>0</td></tr>\n",
       "</tbody>\n",
       "</table>\n"
      ],
      "text/latex": [
       "\\begin{tabular}{lll}\n",
       "\t 0 & 0 & 0\\\\\n",
       "\t 0 & 0 & 0\\\\\n",
       "\t 0 & 0 & 0\\\\\n",
       "\\end{tabular}\n"
      ],
      "text/markdown": [
       "\n",
       "| 0 | 0 | 0 |\n",
       "| 0 | 0 | 0 |\n",
       "| 0 | 0 | 0 |\n",
       "\n"
      ],
      "text/plain": [
       "     [,1] [,2] [,3]\n",
       "[1,] 0    0    0   \n",
       "[2,] 0    0    0   \n",
       "[3,] 0    0    0   "
      ]
     },
     "metadata": {},
     "output_type": "display_data"
    },
    {
     "data": {
      "text/html": [
       "<table>\n",
       "<tbody>\n",
       "\t<tr><td>1 </td><td>16</td><td>49</td></tr>\n",
       "\t<tr><td>4 </td><td>25</td><td>64</td></tr>\n",
       "\t<tr><td>9 </td><td>36</td><td>81</td></tr>\n",
       "</tbody>\n",
       "</table>\n"
      ],
      "text/latex": [
       "\\begin{tabular}{lll}\n",
       "\t 1  & 16 & 49\\\\\n",
       "\t 4  & 25 & 64\\\\\n",
       "\t 9  & 36 & 81\\\\\n",
       "\\end{tabular}\n"
      ],
      "text/markdown": [
       "\n",
       "| 1  | 16 | 49 |\n",
       "| 4  | 25 | 64 |\n",
       "| 9  | 36 | 81 |\n",
       "\n"
      ],
      "text/plain": [
       "     [,1] [,2] [,3]\n",
       "[1,] 1    16   49  \n",
       "[2,] 4    25   64  \n",
       "[3,] 9    36   81  "
      ]
     },
     "metadata": {},
     "output_type": "display_data"
    },
    {
     "data": {
      "text/html": [
       "<table>\n",
       "<tbody>\n",
       "\t<tr><td>1</td><td>1</td><td>1</td></tr>\n",
       "\t<tr><td>1</td><td>1</td><td>1</td></tr>\n",
       "\t<tr><td>1</td><td>1</td><td>1</td></tr>\n",
       "</tbody>\n",
       "</table>\n"
      ],
      "text/latex": [
       "\\begin{tabular}{lll}\n",
       "\t 1 & 1 & 1\\\\\n",
       "\t 1 & 1 & 1\\\\\n",
       "\t 1 & 1 & 1\\\\\n",
       "\\end{tabular}\n"
      ],
      "text/markdown": [
       "\n",
       "| 1 | 1 | 1 |\n",
       "| 1 | 1 | 1 |\n",
       "| 1 | 1 | 1 |\n",
       "\n"
      ],
      "text/plain": [
       "     [,1] [,2] [,3]\n",
       "[1,] 1    1    1   \n",
       "[2,] 1    1    1   \n",
       "[3,] 1    1    1   "
      ]
     },
     "metadata": {},
     "output_type": "display_data"
    }
   ],
   "source": [
    "mat01<-matrix(1:9,nrow=3,ncol=3)\n",
    "mat02<-matrix(1:9,nrow=3,ncol=3)\n",
    "mat01+mat01\n",
    "mat01-mat01\n",
    "mat01*mat01\n",
    "mat01/mat01"
   ]
  },
  {
   "cell_type": "code",
   "execution_count": 34,
   "metadata": {},
   "outputs": [
    {
     "data": {
      "text/html": [
       "<table>\n",
       "<tbody>\n",
       "\t<tr><td>30 </td><td>66 </td><td>102</td></tr>\n",
       "\t<tr><td>36 </td><td>81 </td><td>126</td></tr>\n",
       "\t<tr><td>42 </td><td>96 </td><td>150</td></tr>\n",
       "</tbody>\n",
       "</table>\n"
      ],
      "text/latex": [
       "\\begin{tabular}{lll}\n",
       "\t 30  & 66  & 102\\\\\n",
       "\t 36  & 81  & 126\\\\\n",
       "\t 42  & 96  & 150\\\\\n",
       "\\end{tabular}\n"
      ],
      "text/markdown": [
       "\n",
       "| 30  | 66  | 102 |\n",
       "| 36  | 81  | 126 |\n",
       "| 42  | 96  | 150 |\n",
       "\n"
      ],
      "text/plain": [
       "     [,1] [,2] [,3]\n",
       "[1,] 30   66   102 \n",
       "[2,] 36   81   126 \n",
       "[3,] 42   96   150 "
      ]
     },
     "metadata": {},
     "output_type": "display_data"
    }
   ],
   "source": [
    "mat01<-matrix(1:9,nrow=3,ncol=3)\n",
    "mat02<-matrix(1:9,nrow=3,ncol=3)\n",
    "mat01 %*% mat02 #행렬 * 행렬의 곱셈하느법"
   ]
  },
  {
   "cell_type": "code",
   "execution_count": 37,
   "metadata": {},
   "outputs": [
    {
     "data": {
      "text/html": [
       "<ol class=list-inline>\n",
       "\t<li>12</li>\n",
       "\t<li>15</li>\n",
       "\t<li>18</li>\n",
       "</ol>\n"
      ],
      "text/latex": [
       "\\begin{enumerate*}\n",
       "\\item 12\n",
       "\\item 15\n",
       "\\item 18\n",
       "\\end{enumerate*}\n"
      ],
      "text/markdown": [
       "1. 12\n",
       "2. 15\n",
       "3. 18\n",
       "\n",
       "\n"
      ],
      "text/plain": [
       "[1] 12 15 18"
      ]
     },
     "metadata": {},
     "output_type": "display_data"
    },
    {
     "data": {
      "text/html": [
       "<ol class=list-inline>\n",
       "\t<li>1</li>\n",
       "\t<li>2</li>\n",
       "\t<li>3</li>\n",
       "</ol>\n"
      ],
      "text/latex": [
       "\\begin{enumerate*}\n",
       "\\item 1\n",
       "\\item 2\n",
       "\\item 3\n",
       "\\end{enumerate*}\n"
      ],
      "text/markdown": [
       "1. 1\n",
       "2. 2\n",
       "3. 3\n",
       "\n",
       "\n"
      ],
      "text/plain": [
       "[1] 1 2 3"
      ]
     },
     "metadata": {},
     "output_type": "display_data"
    },
    {
     "data": {
      "text/html": [
       "<ol class=list-inline>\n",
       "\t<li>3</li>\n",
       "\t<li>6</li>\n",
       "\t<li>9</li>\n",
       "</ol>\n"
      ],
      "text/latex": [
       "\\begin{enumerate*}\n",
       "\\item 3\n",
       "\\item 6\n",
       "\\item 9\n",
       "\\end{enumerate*}\n"
      ],
      "text/markdown": [
       "1. 3\n",
       "2. 6\n",
       "3. 9\n",
       "\n",
       "\n"
      ],
      "text/plain": [
       "[1] 3 6 9"
      ]
     },
     "metadata": {},
     "output_type": "display_data"
    }
   ],
   "source": [
    "#apply함수\n",
    "mat01<-matrix(1:9,nrow=3,ncol=3)\n",
    "apply(mat01,1,sum)\n",
    "apply(mat01,1,min)\n",
    "apply(mat01,2,max)"
   ]
  },
  {
   "cell_type": "code",
   "execution_count": 42,
   "metadata": {},
   "outputs": [
    {
     "data": {
      "text/html": [
       "<ol class=list-inline>\n",
       "\t<li>14</li>\n",
       "\t<li>9</li>\n",
       "\t<li>39</li>\n",
       "\t<li>43</li>\n",
       "\t<li>42</li>\n",
       "\t<li>4</li>\n",
       "\t<li>7</li>\n",
       "\t<li>23</li>\n",
       "\t<li>48</li>\n",
       "\t<li>3</li>\n",
       "\t<li>30</li>\n",
       "\t<li>12</li>\n",
       "\t<li>13</li>\n",
       "\t<li>25</li>\n",
       "\t<li>31</li>\n",
       "\t<li>46</li>\n",
       "\t<li>2</li>\n",
       "\t<li>10</li>\n",
       "\t<li>35</li>\n",
       "\t<li>38</li>\n",
       "\t<li>58</li>\n",
       "\t<li>107</li>\n",
       "\t<li>5</li>\n",
       "\t<li>8</li>\n",
       "\t<li>26</li>\n",
       "\t<li>27</li>\n",
       "\t<li>36</li>\n",
       "\t<li>41</li>\n",
       "\t<li>44</li>\n",
       "\t<li>50</li>\n",
       "\t<li>61</li>\n",
       "\t<li>94</li>\n",
       "\t<li>1</li>\n",
       "\t<li>18</li>\n",
       "\t<li>20</li>\n",
       "\t<li>22</li>\n",
       "\t<li>24</li>\n",
       "\t<li>40</li>\n",
       "\t<li>45</li>\n",
       "\t<li>47</li>\n",
       "\t<li>99</li>\n",
       "\t<li>28</li>\n",
       "\t<li>29</li>\n",
       "\t<li>33</li>\n",
       "\t<li>60</li>\n",
       "\t<li>49</li>\n",
       "\t<li>6</li>\n",
       "\t<li>11</li>\n",
       "\t<li>17</li>\n",
       "\t<li>21</li>\n",
       "\t<li>32</li>\n",
       "\t<li>85</li>\n",
       "\t<li>34</li>\n",
       "\t<li>37</li>\n",
       "\t<li>54</li>\n",
       "\t<li>81</li>\n",
       "\t<li>82</li>\n",
       "\t<li>90</li>\n",
       "\t<li>91</li>\n",
       "\t<li>65</li>\n",
       "\t<li>67</li>\n",
       "\t<li>70</li>\n",
       "\t<li>89</li>\n",
       "\t<li>95</li>\n",
       "\t<li>122</li>\n",
       "\t<li>16</li>\n",
       "\t<li>19</li>\n",
       "\t<li>56</li>\n",
       "\t<li>80</li>\n",
       "\t<li>96</li>\n",
       "\t<li>97</li>\n",
       "\t<li>100</li>\n",
       "\t<li>114</li>\n",
       "\t<li>15</li>\n",
       "\t<li>68</li>\n",
       "\t<li>83</li>\n",
       "\t<li>93</li>\n",
       "\t<li>102</li>\n",
       "\t<li>115</li>\n",
       "\t<li>143</li>\n",
       "\t<li>62</li>\n",
       "\t<li>71</li>\n",
       "\t<li>150</li>\n",
       "\t<li>63</li>\n",
       "\t<li>79</li>\n",
       "\t<li>84</li>\n",
       "\t<li>86</li>\n",
       "\t<li>120</li>\n",
       "\t<li>139</li>\n",
       "\t<li>64</li>\n",
       "\t<li>72</li>\n",
       "\t<li>74</li>\n",
       "\t<li>92</li>\n",
       "\t<li>128</li>\n",
       "\t<li>135</li>\n",
       "\t<li>69</li>\n",
       "\t<li>98</li>\n",
       "\t<li>127</li>\n",
       "\t<li>149</li>\n",
       "\t<li>57</li>\n",
       "\t<li>73</li>\n",
       "\t<li>88</li>\n",
       "\t<li>101</li>\n",
       "\t<li>104</li>\n",
       "\t<li>124</li>\n",
       "\t<li>134</li>\n",
       "\t<li>137</li>\n",
       "\t<li>147</li>\n",
       "\t<li>52</li>\n",
       "\t<li>75</li>\n",
       "\t<li>112</li>\n",
       "\t<li>116</li>\n",
       "\t<li>129</li>\n",
       "\t<li>133</li>\n",
       "\t<li>138</li>\n",
       "\t<li>55</li>\n",
       "\t<li>105</li>\n",
       "\t<li>111</li>\n",
       "\t<li>117</li>\n",
       "\t<li>148</li>\n",
       "\t<li>59</li>\n",
       "\t<li>76</li>\n",
       "\t<li>66</li>\n",
       "\t<li>78</li>\n",
       "\t<li>87</li>\n",
       "\t<li>109</li>\n",
       "\t<li>125</li>\n",
       "\t<li>141</li>\n",
       "\t<li>145</li>\n",
       "\t<li>146</li>\n",
       "\t<li>77</li>\n",
       "\t<li>113</li>\n",
       "\t<li>144</li>\n",
       "\t<li>53</li>\n",
       "\t<li>121</li>\n",
       "\t<li>140</li>\n",
       "\t<li>142</li>\n",
       "\t<li>51</li>\n",
       "\t<li>103</li>\n",
       "\t<li>110</li>\n",
       "\t<li>126</li>\n",
       "\t<li>130</li>\n",
       "\t<li>108</li>\n",
       "\t<li>131</li>\n",
       "\t<li>106</li>\n",
       "\t<li>118</li>\n",
       "\t<li>119</li>\n",
       "\t<li>123</li>\n",
       "\t<li>136</li>\n",
       "\t<li>132</li>\n",
       "</ol>\n"
      ],
      "text/latex": [
       "\\begin{enumerate*}\n",
       "\\item 14\n",
       "\\item 9\n",
       "\\item 39\n",
       "\\item 43\n",
       "\\item 42\n",
       "\\item 4\n",
       "\\item 7\n",
       "\\item 23\n",
       "\\item 48\n",
       "\\item 3\n",
       "\\item 30\n",
       "\\item 12\n",
       "\\item 13\n",
       "\\item 25\n",
       "\\item 31\n",
       "\\item 46\n",
       "\\item 2\n",
       "\\item 10\n",
       "\\item 35\n",
       "\\item 38\n",
       "\\item 58\n",
       "\\item 107\n",
       "\\item 5\n",
       "\\item 8\n",
       "\\item 26\n",
       "\\item 27\n",
       "\\item 36\n",
       "\\item 41\n",
       "\\item 44\n",
       "\\item 50\n",
       "\\item 61\n",
       "\\item 94\n",
       "\\item 1\n",
       "\\item 18\n",
       "\\item 20\n",
       "\\item 22\n",
       "\\item 24\n",
       "\\item 40\n",
       "\\item 45\n",
       "\\item 47\n",
       "\\item 99\n",
       "\\item 28\n",
       "\\item 29\n",
       "\\item 33\n",
       "\\item 60\n",
       "\\item 49\n",
       "\\item 6\n",
       "\\item 11\n",
       "\\item 17\n",
       "\\item 21\n",
       "\\item 32\n",
       "\\item 85\n",
       "\\item 34\n",
       "\\item 37\n",
       "\\item 54\n",
       "\\item 81\n",
       "\\item 82\n",
       "\\item 90\n",
       "\\item 91\n",
       "\\item 65\n",
       "\\item 67\n",
       "\\item 70\n",
       "\\item 89\n",
       "\\item 95\n",
       "\\item 122\n",
       "\\item 16\n",
       "\\item 19\n",
       "\\item 56\n",
       "\\item 80\n",
       "\\item 96\n",
       "\\item 97\n",
       "\\item 100\n",
       "\\item 114\n",
       "\\item 15\n",
       "\\item 68\n",
       "\\item 83\n",
       "\\item 93\n",
       "\\item 102\n",
       "\\item 115\n",
       "\\item 143\n",
       "\\item 62\n",
       "\\item 71\n",
       "\\item 150\n",
       "\\item 63\n",
       "\\item 79\n",
       "\\item 84\n",
       "\\item 86\n",
       "\\item 120\n",
       "\\item 139\n",
       "\\item 64\n",
       "\\item 72\n",
       "\\item 74\n",
       "\\item 92\n",
       "\\item 128\n",
       "\\item 135\n",
       "\\item 69\n",
       "\\item 98\n",
       "\\item 127\n",
       "\\item 149\n",
       "\\item 57\n",
       "\\item 73\n",
       "\\item 88\n",
       "\\item 101\n",
       "\\item 104\n",
       "\\item 124\n",
       "\\item 134\n",
       "\\item 137\n",
       "\\item 147\n",
       "\\item 52\n",
       "\\item 75\n",
       "\\item 112\n",
       "\\item 116\n",
       "\\item 129\n",
       "\\item 133\n",
       "\\item 138\n",
       "\\item 55\n",
       "\\item 105\n",
       "\\item 111\n",
       "\\item 117\n",
       "\\item 148\n",
       "\\item 59\n",
       "\\item 76\n",
       "\\item 66\n",
       "\\item 78\n",
       "\\item 87\n",
       "\\item 109\n",
       "\\item 125\n",
       "\\item 141\n",
       "\\item 145\n",
       "\\item 146\n",
       "\\item 77\n",
       "\\item 113\n",
       "\\item 144\n",
       "\\item 53\n",
       "\\item 121\n",
       "\\item 140\n",
       "\\item 142\n",
       "\\item 51\n",
       "\\item 103\n",
       "\\item 110\n",
       "\\item 126\n",
       "\\item 130\n",
       "\\item 108\n",
       "\\item 131\n",
       "\\item 106\n",
       "\\item 118\n",
       "\\item 119\n",
       "\\item 123\n",
       "\\item 136\n",
       "\\item 132\n",
       "\\end{enumerate*}\n"
      ],
      "text/markdown": [
       "1. 14\n",
       "2. 9\n",
       "3. 39\n",
       "4. 43\n",
       "5. 42\n",
       "6. 4\n",
       "7. 7\n",
       "8. 23\n",
       "9. 48\n",
       "10. 3\n",
       "11. 30\n",
       "12. 12\n",
       "13. 13\n",
       "14. 25\n",
       "15. 31\n",
       "16. 46\n",
       "17. 2\n",
       "18. 10\n",
       "19. 35\n",
       "20. 38\n",
       "21. 58\n",
       "22. 107\n",
       "23. 5\n",
       "24. 8\n",
       "25. 26\n",
       "26. 27\n",
       "27. 36\n",
       "28. 41\n",
       "29. 44\n",
       "30. 50\n",
       "31. 61\n",
       "32. 94\n",
       "33. 1\n",
       "34. 18\n",
       "35. 20\n",
       "36. 22\n",
       "37. 24\n",
       "38. 40\n",
       "39. 45\n",
       "40. 47\n",
       "41. 99\n",
       "42. 28\n",
       "43. 29\n",
       "44. 33\n",
       "45. 60\n",
       "46. 49\n",
       "47. 6\n",
       "48. 11\n",
       "49. 17\n",
       "50. 21\n",
       "51. 32\n",
       "52. 85\n",
       "53. 34\n",
       "54. 37\n",
       "55. 54\n",
       "56. 81\n",
       "57. 82\n",
       "58. 90\n",
       "59. 91\n",
       "60. 65\n",
       "61. 67\n",
       "62. 70\n",
       "63. 89\n",
       "64. 95\n",
       "65. 122\n",
       "66. 16\n",
       "67. 19\n",
       "68. 56\n",
       "69. 80\n",
       "70. 96\n",
       "71. 97\n",
       "72. 100\n",
       "73. 114\n",
       "74. 15\n",
       "75. 68\n",
       "76. 83\n",
       "77. 93\n",
       "78. 102\n",
       "79. 115\n",
       "80. 143\n",
       "81. 62\n",
       "82. 71\n",
       "83. 150\n",
       "84. 63\n",
       "85. 79\n",
       "86. 84\n",
       "87. 86\n",
       "88. 120\n",
       "89. 139\n",
       "90. 64\n",
       "91. 72\n",
       "92. 74\n",
       "93. 92\n",
       "94. 128\n",
       "95. 135\n",
       "96. 69\n",
       "97. 98\n",
       "98. 127\n",
       "99. 149\n",
       "100. 57\n",
       "101. 73\n",
       "102. 88\n",
       "103. 101\n",
       "104. 104\n",
       "105. 124\n",
       "106. 134\n",
       "107. 137\n",
       "108. 147\n",
       "109. 52\n",
       "110. 75\n",
       "111. 112\n",
       "112. 116\n",
       "113. 129\n",
       "114. 133\n",
       "115. 138\n",
       "116. 55\n",
       "117. 105\n",
       "118. 111\n",
       "119. 117\n",
       "120. 148\n",
       "121. 59\n",
       "122. 76\n",
       "123. 66\n",
       "124. 78\n",
       "125. 87\n",
       "126. 109\n",
       "127. 125\n",
       "128. 141\n",
       "129. 145\n",
       "130. 146\n",
       "131. 77\n",
       "132. 113\n",
       "133. 144\n",
       "134. 53\n",
       "135. 121\n",
       "136. 140\n",
       "137. 142\n",
       "138. 51\n",
       "139. 103\n",
       "140. 110\n",
       "141. 126\n",
       "142. 130\n",
       "143. 108\n",
       "144. 131\n",
       "145. 106\n",
       "146. 118\n",
       "147. 119\n",
       "148. 123\n",
       "149. 136\n",
       "150. 132\n",
       "\n",
       "\n"
      ],
      "text/plain": [
       "  [1]  14   9  39  43  42   4   7  23  48   3  30  12  13  25  31  46   2  10\n",
       " [19]  35  38  58 107   5   8  26  27  36  41  44  50  61  94   1  18  20  22\n",
       " [37]  24  40  45  47  99  28  29  33  60  49   6  11  17  21  32  85  34  37\n",
       " [55]  54  81  82  90  91  65  67  70  89  95 122  16  19  56  80  96  97 100\n",
       " [73] 114  15  68  83  93 102 115 143  62  71 150  63  79  84  86 120 139  64\n",
       " [91]  72  74  92 128 135  69  98 127 149  57  73  88 101 104 124 134 137 147\n",
       "[109]  52  75 112 116 129 133 138  55 105 111 117 148  59  76  66  78  87 109\n",
       "[127] 125 141 145 146  77 113 144  53 121 140 142  51 103 110 126 130 108 131\n",
       "[145] 106 118 119 123 136 132"
      ]
     },
     "metadata": {},
     "output_type": "display_data"
    },
    {
     "data": {
      "text/html": [
       "<table>\n",
       "<thead><tr><th></th><th scope=col>Sepal.Length</th><th scope=col>Sepal.Width</th><th scope=col>Petal.Length</th><th scope=col>Petal.Width</th><th scope=col>Species</th></tr></thead>\n",
       "<tbody>\n",
       "\t<tr><th scope=row>132</th><td>7.9       </td><td>3.8       </td><td>6.4       </td><td>2.0       </td><td>virginica </td></tr>\n",
       "\t<tr><th scope=row>118</th><td>7.7       </td><td>3.8       </td><td>6.7       </td><td>2.2       </td><td>virginica </td></tr>\n",
       "\t<tr><th scope=row>119</th><td>7.7       </td><td>2.6       </td><td>6.9       </td><td>2.3       </td><td>virginica </td></tr>\n",
       "\t<tr><th scope=row>123</th><td>7.7       </td><td>2.8       </td><td>6.7       </td><td>2.0       </td><td>virginica </td></tr>\n",
       "\t<tr><th scope=row>136</th><td>7.7       </td><td>3.0       </td><td>6.1       </td><td>2.3       </td><td>virginica </td></tr>\n",
       "\t<tr><th scope=row>106</th><td>7.6       </td><td>3.0       </td><td>6.6       </td><td>2.1       </td><td>virginica </td></tr>\n",
       "\t<tr><th scope=row>131</th><td>7.4       </td><td>2.8       </td><td>6.1       </td><td>1.9       </td><td>virginica </td></tr>\n",
       "\t<tr><th scope=row>108</th><td>7.3       </td><td>2.9       </td><td>6.3       </td><td>1.8       </td><td>virginica </td></tr>\n",
       "\t<tr><th scope=row>110</th><td>7.2       </td><td>3.6       </td><td>6.1       </td><td>2.5       </td><td>virginica </td></tr>\n",
       "\t<tr><th scope=row>126</th><td>7.2       </td><td>3.2       </td><td>6.0       </td><td>1.8       </td><td>virginica </td></tr>\n",
       "\t<tr><th scope=row>130</th><td>7.2       </td><td>3.0       </td><td>5.8       </td><td>1.6       </td><td>virginica </td></tr>\n",
       "\t<tr><th scope=row>103</th><td>7.1       </td><td>3.0       </td><td>5.9       </td><td>2.1       </td><td>virginica </td></tr>\n",
       "\t<tr><th scope=row>51</th><td>7.0       </td><td>3.2       </td><td>4.7       </td><td>1.4       </td><td>versicolor</td></tr>\n",
       "\t<tr><th scope=row>53</th><td>6.9       </td><td>3.1       </td><td>4.9       </td><td>1.5       </td><td>versicolor</td></tr>\n",
       "\t<tr><th scope=row>121</th><td>6.9       </td><td>3.2       </td><td>5.7       </td><td>2.3       </td><td>virginica </td></tr>\n",
       "\t<tr><th scope=row>140</th><td>6.9       </td><td>3.1       </td><td>5.4       </td><td>2.1       </td><td>virginica </td></tr>\n",
       "\t<tr><th scope=row>142</th><td>6.9       </td><td>3.1       </td><td>5.1       </td><td>2.3       </td><td>virginica </td></tr>\n",
       "\t<tr><th scope=row>77</th><td>6.8       </td><td>2.8       </td><td>4.8       </td><td>1.4       </td><td>versicolor</td></tr>\n",
       "\t<tr><th scope=row>113</th><td>6.8       </td><td>3.0       </td><td>5.5       </td><td>2.1       </td><td>virginica </td></tr>\n",
       "\t<tr><th scope=row>144</th><td>6.8       </td><td>3.2       </td><td>5.9       </td><td>2.3       </td><td>virginica </td></tr>\n",
       "\t<tr><th scope=row>66</th><td>6.7       </td><td>3.1       </td><td>4.4       </td><td>1.4       </td><td>versicolor</td></tr>\n",
       "\t<tr><th scope=row>78</th><td>6.7       </td><td>3.0       </td><td>5.0       </td><td>1.7       </td><td>versicolor</td></tr>\n",
       "\t<tr><th scope=row>87</th><td>6.7       </td><td>3.1       </td><td>4.7       </td><td>1.5       </td><td>versicolor</td></tr>\n",
       "\t<tr><th scope=row>109</th><td>6.7       </td><td>2.5       </td><td>5.8       </td><td>1.8       </td><td>virginica </td></tr>\n",
       "\t<tr><th scope=row>125</th><td>6.7       </td><td>3.3       </td><td>5.7       </td><td>2.1       </td><td>virginica </td></tr>\n",
       "\t<tr><th scope=row>141</th><td>6.7       </td><td>3.1       </td><td>5.6       </td><td>2.4       </td><td>virginica </td></tr>\n",
       "\t<tr><th scope=row>145</th><td>6.7       </td><td>3.3       </td><td>5.7       </td><td>2.5       </td><td>virginica </td></tr>\n",
       "\t<tr><th scope=row>146</th><td>6.7       </td><td>3.0       </td><td>5.2       </td><td>2.3       </td><td>virginica </td></tr>\n",
       "\t<tr><th scope=row>59</th><td>6.6       </td><td>2.9       </td><td>4.6       </td><td>1.3       </td><td>versicolor</td></tr>\n",
       "\t<tr><th scope=row>76</th><td>6.6       </td><td>3.0       </td><td>4.4       </td><td>1.4       </td><td>versicolor</td></tr>\n",
       "\t<tr><th scope=row>...</th><td>...</td><td>...</td><td>...</td><td>...</td><td>...</td></tr>\n",
       "\t<tr><th scope=row>26</th><td>5.0       </td><td>3.0       </td><td>1.6       </td><td>0.2       </td><td>setosa    </td></tr>\n",
       "\t<tr><th scope=row>27</th><td>5.0       </td><td>3.4       </td><td>1.6       </td><td>0.4       </td><td>setosa    </td></tr>\n",
       "\t<tr><th scope=row>36</th><td>5.0       </td><td>3.2       </td><td>1.2       </td><td>0.2       </td><td>setosa    </td></tr>\n",
       "\t<tr><th scope=row>41</th><td>5.0       </td><td>3.5       </td><td>1.3       </td><td>0.3       </td><td>setosa    </td></tr>\n",
       "\t<tr><th scope=row>44</th><td>5.0       </td><td>3.5       </td><td>1.6       </td><td>0.6       </td><td>setosa    </td></tr>\n",
       "\t<tr><th scope=row>50</th><td>5.0       </td><td>3.3       </td><td>1.4       </td><td>0.2       </td><td>setosa    </td></tr>\n",
       "\t<tr><th scope=row>61</th><td>5.0       </td><td>2.0       </td><td>3.5       </td><td>1.0       </td><td>versicolor</td></tr>\n",
       "\t<tr><th scope=row>94</th><td>5.0       </td><td>2.3       </td><td>3.3       </td><td>1.0       </td><td>versicolor</td></tr>\n",
       "\t<tr><th scope=row>2</th><td>4.9       </td><td>3.0       </td><td>1.4       </td><td>0.2       </td><td>setosa    </td></tr>\n",
       "\t<tr><th scope=row>10</th><td>4.9       </td><td>3.1       </td><td>1.5       </td><td>0.1       </td><td>setosa    </td></tr>\n",
       "\t<tr><th scope=row>35</th><td>4.9       </td><td>3.1       </td><td>1.5       </td><td>0.2       </td><td>setosa    </td></tr>\n",
       "\t<tr><th scope=row>38</th><td>4.9       </td><td>3.6       </td><td>1.4       </td><td>0.1       </td><td>setosa    </td></tr>\n",
       "\t<tr><th scope=row>58</th><td>4.9       </td><td>2.4       </td><td>3.3       </td><td>1.0       </td><td>versicolor</td></tr>\n",
       "\t<tr><th scope=row>107</th><td>4.9       </td><td>2.5       </td><td>4.5       </td><td>1.7       </td><td>virginica </td></tr>\n",
       "\t<tr><th scope=row>12</th><td>4.8       </td><td>3.4       </td><td>1.6       </td><td>0.2       </td><td>setosa    </td></tr>\n",
       "\t<tr><th scope=row>13</th><td>4.8       </td><td>3.0       </td><td>1.4       </td><td>0.1       </td><td>setosa    </td></tr>\n",
       "\t<tr><th scope=row>25</th><td>4.8       </td><td>3.4       </td><td>1.9       </td><td>0.2       </td><td>setosa    </td></tr>\n",
       "\t<tr><th scope=row>31</th><td>4.8       </td><td>3.1       </td><td>1.6       </td><td>0.2       </td><td>setosa    </td></tr>\n",
       "\t<tr><th scope=row>46</th><td>4.8       </td><td>3.0       </td><td>1.4       </td><td>0.3       </td><td>setosa    </td></tr>\n",
       "\t<tr><th scope=row>3</th><td>4.7       </td><td>3.2       </td><td>1.3       </td><td>0.2       </td><td>setosa    </td></tr>\n",
       "\t<tr><th scope=row>30</th><td>4.7       </td><td>3.2       </td><td>1.6       </td><td>0.2       </td><td>setosa    </td></tr>\n",
       "\t<tr><th scope=row>4</th><td>4.6       </td><td>3.1       </td><td>1.5       </td><td>0.2       </td><td>setosa    </td></tr>\n",
       "\t<tr><th scope=row>7</th><td>4.6       </td><td>3.4       </td><td>1.4       </td><td>0.3       </td><td>setosa    </td></tr>\n",
       "\t<tr><th scope=row>23</th><td>4.6       </td><td>3.6       </td><td>1.0       </td><td>0.2       </td><td>setosa    </td></tr>\n",
       "\t<tr><th scope=row>48</th><td>4.6       </td><td>3.2       </td><td>1.4       </td><td>0.2       </td><td>setosa    </td></tr>\n",
       "\t<tr><th scope=row>42</th><td>4.5       </td><td>2.3       </td><td>1.3       </td><td>0.3       </td><td>setosa    </td></tr>\n",
       "\t<tr><th scope=row>9</th><td>4.4       </td><td>2.9       </td><td>1.4       </td><td>0.2       </td><td>setosa    </td></tr>\n",
       "\t<tr><th scope=row>39</th><td>4.4       </td><td>3.0       </td><td>1.3       </td><td>0.2       </td><td>setosa    </td></tr>\n",
       "\t<tr><th scope=row>43</th><td>4.4       </td><td>3.2       </td><td>1.3       </td><td>0.2       </td><td>setosa    </td></tr>\n",
       "\t<tr><th scope=row>14</th><td>4.3       </td><td>3.0       </td><td>1.1       </td><td>0.1       </td><td>setosa    </td></tr>\n",
       "</tbody>\n",
       "</table>\n"
      ],
      "text/latex": [
       "\\begin{tabular}{r|lllll}\n",
       "  & Sepal.Length & Sepal.Width & Petal.Length & Petal.Width & Species\\\\\n",
       "\\hline\n",
       "\t132 & 7.9        & 3.8        & 6.4        & 2.0        & virginica \\\\\n",
       "\t118 & 7.7        & 3.8        & 6.7        & 2.2        & virginica \\\\\n",
       "\t119 & 7.7        & 2.6        & 6.9        & 2.3        & virginica \\\\\n",
       "\t123 & 7.7        & 2.8        & 6.7        & 2.0        & virginica \\\\\n",
       "\t136 & 7.7        & 3.0        & 6.1        & 2.3        & virginica \\\\\n",
       "\t106 & 7.6        & 3.0        & 6.6        & 2.1        & virginica \\\\\n",
       "\t131 & 7.4        & 2.8        & 6.1        & 1.9        & virginica \\\\\n",
       "\t108 & 7.3        & 2.9        & 6.3        & 1.8        & virginica \\\\\n",
       "\t110 & 7.2        & 3.6        & 6.1        & 2.5        & virginica \\\\\n",
       "\t126 & 7.2        & 3.2        & 6.0        & 1.8        & virginica \\\\\n",
       "\t130 & 7.2        & 3.0        & 5.8        & 1.6        & virginica \\\\\n",
       "\t103 & 7.1        & 3.0        & 5.9        & 2.1        & virginica \\\\\n",
       "\t51 & 7.0        & 3.2        & 4.7        & 1.4        & versicolor\\\\\n",
       "\t53 & 6.9        & 3.1        & 4.9        & 1.5        & versicolor\\\\\n",
       "\t121 & 6.9        & 3.2        & 5.7        & 2.3        & virginica \\\\\n",
       "\t140 & 6.9        & 3.1        & 5.4        & 2.1        & virginica \\\\\n",
       "\t142 & 6.9        & 3.1        & 5.1        & 2.3        & virginica \\\\\n",
       "\t77 & 6.8        & 2.8        & 4.8        & 1.4        & versicolor\\\\\n",
       "\t113 & 6.8        & 3.0        & 5.5        & 2.1        & virginica \\\\\n",
       "\t144 & 6.8        & 3.2        & 5.9        & 2.3        & virginica \\\\\n",
       "\t66 & 6.7        & 3.1        & 4.4        & 1.4        & versicolor\\\\\n",
       "\t78 & 6.7        & 3.0        & 5.0        & 1.7        & versicolor\\\\\n",
       "\t87 & 6.7        & 3.1        & 4.7        & 1.5        & versicolor\\\\\n",
       "\t109 & 6.7        & 2.5        & 5.8        & 1.8        & virginica \\\\\n",
       "\t125 & 6.7        & 3.3        & 5.7        & 2.1        & virginica \\\\\n",
       "\t141 & 6.7        & 3.1        & 5.6        & 2.4        & virginica \\\\\n",
       "\t145 & 6.7        & 3.3        & 5.7        & 2.5        & virginica \\\\\n",
       "\t146 & 6.7        & 3.0        & 5.2        & 2.3        & virginica \\\\\n",
       "\t59 & 6.6        & 2.9        & 4.6        & 1.3        & versicolor\\\\\n",
       "\t76 & 6.6        & 3.0        & 4.4        & 1.4        & versicolor\\\\\n",
       "\t... & ... & ... & ... & ... & ...\\\\\n",
       "\t26 & 5.0        & 3.0        & 1.6        & 0.2        & setosa    \\\\\n",
       "\t27 & 5.0        & 3.4        & 1.6        & 0.4        & setosa    \\\\\n",
       "\t36 & 5.0        & 3.2        & 1.2        & 0.2        & setosa    \\\\\n",
       "\t41 & 5.0        & 3.5        & 1.3        & 0.3        & setosa    \\\\\n",
       "\t44 & 5.0        & 3.5        & 1.6        & 0.6        & setosa    \\\\\n",
       "\t50 & 5.0        & 3.3        & 1.4        & 0.2        & setosa    \\\\\n",
       "\t61 & 5.0        & 2.0        & 3.5        & 1.0        & versicolor\\\\\n",
       "\t94 & 5.0        & 2.3        & 3.3        & 1.0        & versicolor\\\\\n",
       "\t2 & 4.9        & 3.0        & 1.4        & 0.2        & setosa    \\\\\n",
       "\t10 & 4.9        & 3.1        & 1.5        & 0.1        & setosa    \\\\\n",
       "\t35 & 4.9        & 3.1        & 1.5        & 0.2        & setosa    \\\\\n",
       "\t38 & 4.9        & 3.6        & 1.4        & 0.1        & setosa    \\\\\n",
       "\t58 & 4.9        & 2.4        & 3.3        & 1.0        & versicolor\\\\\n",
       "\t107 & 4.9        & 2.5        & 4.5        & 1.7        & virginica \\\\\n",
       "\t12 & 4.8        & 3.4        & 1.6        & 0.2        & setosa    \\\\\n",
       "\t13 & 4.8        & 3.0        & 1.4        & 0.1        & setosa    \\\\\n",
       "\t25 & 4.8        & 3.4        & 1.9        & 0.2        & setosa    \\\\\n",
       "\t31 & 4.8        & 3.1        & 1.6        & 0.2        & setosa    \\\\\n",
       "\t46 & 4.8        & 3.0        & 1.4        & 0.3        & setosa    \\\\\n",
       "\t3 & 4.7        & 3.2        & 1.3        & 0.2        & setosa    \\\\\n",
       "\t30 & 4.7        & 3.2        & 1.6        & 0.2        & setosa    \\\\\n",
       "\t4 & 4.6        & 3.1        & 1.5        & 0.2        & setosa    \\\\\n",
       "\t7 & 4.6        & 3.4        & 1.4        & 0.3        & setosa    \\\\\n",
       "\t23 & 4.6        & 3.6        & 1.0        & 0.2        & setosa    \\\\\n",
       "\t48 & 4.6        & 3.2        & 1.4        & 0.2        & setosa    \\\\\n",
       "\t42 & 4.5        & 2.3        & 1.3        & 0.3        & setosa    \\\\\n",
       "\t9 & 4.4        & 2.9        & 1.4        & 0.2        & setosa    \\\\\n",
       "\t39 & 4.4        & 3.0        & 1.3        & 0.2        & setosa    \\\\\n",
       "\t43 & 4.4        & 3.2        & 1.3        & 0.2        & setosa    \\\\\n",
       "\t14 & 4.3        & 3.0        & 1.1        & 0.1        & setosa    \\\\\n",
       "\\end{tabular}\n"
      ],
      "text/markdown": [
       "\n",
       "| <!--/--> | Sepal.Length | Sepal.Width | Petal.Length | Petal.Width | Species |\n",
       "|---|---|---|---|---|---|\n",
       "| 132 | 7.9        | 3.8        | 6.4        | 2.0        | virginica  |\n",
       "| 118 | 7.7        | 3.8        | 6.7        | 2.2        | virginica  |\n",
       "| 119 | 7.7        | 2.6        | 6.9        | 2.3        | virginica  |\n",
       "| 123 | 7.7        | 2.8        | 6.7        | 2.0        | virginica  |\n",
       "| 136 | 7.7        | 3.0        | 6.1        | 2.3        | virginica  |\n",
       "| 106 | 7.6        | 3.0        | 6.6        | 2.1        | virginica  |\n",
       "| 131 | 7.4        | 2.8        | 6.1        | 1.9        | virginica  |\n",
       "| 108 | 7.3        | 2.9        | 6.3        | 1.8        | virginica  |\n",
       "| 110 | 7.2        | 3.6        | 6.1        | 2.5        | virginica  |\n",
       "| 126 | 7.2        | 3.2        | 6.0        | 1.8        | virginica  |\n",
       "| 130 | 7.2        | 3.0        | 5.8        | 1.6        | virginica  |\n",
       "| 103 | 7.1        | 3.0        | 5.9        | 2.1        | virginica  |\n",
       "| 51 | 7.0        | 3.2        | 4.7        | 1.4        | versicolor |\n",
       "| 53 | 6.9        | 3.1        | 4.9        | 1.5        | versicolor |\n",
       "| 121 | 6.9        | 3.2        | 5.7        | 2.3        | virginica  |\n",
       "| 140 | 6.9        | 3.1        | 5.4        | 2.1        | virginica  |\n",
       "| 142 | 6.9        | 3.1        | 5.1        | 2.3        | virginica  |\n",
       "| 77 | 6.8        | 2.8        | 4.8        | 1.4        | versicolor |\n",
       "| 113 | 6.8        | 3.0        | 5.5        | 2.1        | virginica  |\n",
       "| 144 | 6.8        | 3.2        | 5.9        | 2.3        | virginica  |\n",
       "| 66 | 6.7        | 3.1        | 4.4        | 1.4        | versicolor |\n",
       "| 78 | 6.7        | 3.0        | 5.0        | 1.7        | versicolor |\n",
       "| 87 | 6.7        | 3.1        | 4.7        | 1.5        | versicolor |\n",
       "| 109 | 6.7        | 2.5        | 5.8        | 1.8        | virginica  |\n",
       "| 125 | 6.7        | 3.3        | 5.7        | 2.1        | virginica  |\n",
       "| 141 | 6.7        | 3.1        | 5.6        | 2.4        | virginica  |\n",
       "| 145 | 6.7        | 3.3        | 5.7        | 2.5        | virginica  |\n",
       "| 146 | 6.7        | 3.0        | 5.2        | 2.3        | virginica  |\n",
       "| 59 | 6.6        | 2.9        | 4.6        | 1.3        | versicolor |\n",
       "| 76 | 6.6        | 3.0        | 4.4        | 1.4        | versicolor |\n",
       "| ... | ... | ... | ... | ... | ... |\n",
       "| 26 | 5.0        | 3.0        | 1.6        | 0.2        | setosa     |\n",
       "| 27 | 5.0        | 3.4        | 1.6        | 0.4        | setosa     |\n",
       "| 36 | 5.0        | 3.2        | 1.2        | 0.2        | setosa     |\n",
       "| 41 | 5.0        | 3.5        | 1.3        | 0.3        | setosa     |\n",
       "| 44 | 5.0        | 3.5        | 1.6        | 0.6        | setosa     |\n",
       "| 50 | 5.0        | 3.3        | 1.4        | 0.2        | setosa     |\n",
       "| 61 | 5.0        | 2.0        | 3.5        | 1.0        | versicolor |\n",
       "| 94 | 5.0        | 2.3        | 3.3        | 1.0        | versicolor |\n",
       "| 2 | 4.9        | 3.0        | 1.4        | 0.2        | setosa     |\n",
       "| 10 | 4.9        | 3.1        | 1.5        | 0.1        | setosa     |\n",
       "| 35 | 4.9        | 3.1        | 1.5        | 0.2        | setosa     |\n",
       "| 38 | 4.9        | 3.6        | 1.4        | 0.1        | setosa     |\n",
       "| 58 | 4.9        | 2.4        | 3.3        | 1.0        | versicolor |\n",
       "| 107 | 4.9        | 2.5        | 4.5        | 1.7        | virginica  |\n",
       "| 12 | 4.8        | 3.4        | 1.6        | 0.2        | setosa     |\n",
       "| 13 | 4.8        | 3.0        | 1.4        | 0.1        | setosa     |\n",
       "| 25 | 4.8        | 3.4        | 1.9        | 0.2        | setosa     |\n",
       "| 31 | 4.8        | 3.1        | 1.6        | 0.2        | setosa     |\n",
       "| 46 | 4.8        | 3.0        | 1.4        | 0.3        | setosa     |\n",
       "| 3 | 4.7        | 3.2        | 1.3        | 0.2        | setosa     |\n",
       "| 30 | 4.7        | 3.2        | 1.6        | 0.2        | setosa     |\n",
       "| 4 | 4.6        | 3.1        | 1.5        | 0.2        | setosa     |\n",
       "| 7 | 4.6        | 3.4        | 1.4        | 0.3        | setosa     |\n",
       "| 23 | 4.6        | 3.6        | 1.0        | 0.2        | setosa     |\n",
       "| 48 | 4.6        | 3.2        | 1.4        | 0.2        | setosa     |\n",
       "| 42 | 4.5        | 2.3        | 1.3        | 0.3        | setosa     |\n",
       "| 9 | 4.4        | 2.9        | 1.4        | 0.2        | setosa     |\n",
       "| 39 | 4.4        | 3.0        | 1.3        | 0.2        | setosa     |\n",
       "| 43 | 4.4        | 3.2        | 1.3        | 0.2        | setosa     |\n",
       "| 14 | 4.3        | 3.0        | 1.1        | 0.1        | setosa     |\n",
       "\n"
      ],
      "text/plain": [
       "    Sepal.Length Sepal.Width Petal.Length Petal.Width Species   \n",
       "132 7.9          3.8         6.4          2.0         virginica \n",
       "118 7.7          3.8         6.7          2.2         virginica \n",
       "119 7.7          2.6         6.9          2.3         virginica \n",
       "123 7.7          2.8         6.7          2.0         virginica \n",
       "136 7.7          3.0         6.1          2.3         virginica \n",
       "106 7.6          3.0         6.6          2.1         virginica \n",
       "131 7.4          2.8         6.1          1.9         virginica \n",
       "108 7.3          2.9         6.3          1.8         virginica \n",
       "110 7.2          3.6         6.1          2.5         virginica \n",
       "126 7.2          3.2         6.0          1.8         virginica \n",
       "130 7.2          3.0         5.8          1.6         virginica \n",
       "103 7.1          3.0         5.9          2.1         virginica \n",
       "51  7.0          3.2         4.7          1.4         versicolor\n",
       "53  6.9          3.1         4.9          1.5         versicolor\n",
       "121 6.9          3.2         5.7          2.3         virginica \n",
       "140 6.9          3.1         5.4          2.1         virginica \n",
       "142 6.9          3.1         5.1          2.3         virginica \n",
       "77  6.8          2.8         4.8          1.4         versicolor\n",
       "113 6.8          3.0         5.5          2.1         virginica \n",
       "144 6.8          3.2         5.9          2.3         virginica \n",
       "66  6.7          3.1         4.4          1.4         versicolor\n",
       "78  6.7          3.0         5.0          1.7         versicolor\n",
       "87  6.7          3.1         4.7          1.5         versicolor\n",
       "109 6.7          2.5         5.8          1.8         virginica \n",
       "125 6.7          3.3         5.7          2.1         virginica \n",
       "141 6.7          3.1         5.6          2.4         virginica \n",
       "145 6.7          3.3         5.7          2.5         virginica \n",
       "146 6.7          3.0         5.2          2.3         virginica \n",
       "59  6.6          2.9         4.6          1.3         versicolor\n",
       "76  6.6          3.0         4.4          1.4         versicolor\n",
       "... ...          ...         ...          ...         ...       \n",
       "26  5.0          3.0         1.6          0.2         setosa    \n",
       "27  5.0          3.4         1.6          0.4         setosa    \n",
       "36  5.0          3.2         1.2          0.2         setosa    \n",
       "41  5.0          3.5         1.3          0.3         setosa    \n",
       "44  5.0          3.5         1.6          0.6         setosa    \n",
       "50  5.0          3.3         1.4          0.2         setosa    \n",
       "61  5.0          2.0         3.5          1.0         versicolor\n",
       "94  5.0          2.3         3.3          1.0         versicolor\n",
       "2   4.9          3.0         1.4          0.2         setosa    \n",
       "10  4.9          3.1         1.5          0.1         setosa    \n",
       "35  4.9          3.1         1.5          0.2         setosa    \n",
       "38  4.9          3.6         1.4          0.1         setosa    \n",
       "58  4.9          2.4         3.3          1.0         versicolor\n",
       "107 4.9          2.5         4.5          1.7         virginica \n",
       "12  4.8          3.4         1.6          0.2         setosa    \n",
       "13  4.8          3.0         1.4          0.1         setosa    \n",
       "25  4.8          3.4         1.9          0.2         setosa    \n",
       "31  4.8          3.1         1.6          0.2         setosa    \n",
       "46  4.8          3.0         1.4          0.3         setosa    \n",
       "3   4.7          3.2         1.3          0.2         setosa    \n",
       "30  4.7          3.2         1.6          0.2         setosa    \n",
       "4   4.6          3.1         1.5          0.2         setosa    \n",
       "7   4.6          3.4         1.4          0.3         setosa    \n",
       "23  4.6          3.6         1.0          0.2         setosa    \n",
       "48  4.6          3.2         1.4          0.2         setosa    \n",
       "42  4.5          2.3         1.3          0.3         setosa    \n",
       "9   4.4          2.9         1.4          0.2         setosa    \n",
       "39  4.4          3.0         1.3          0.2         setosa    \n",
       "43  4.4          3.2         1.3          0.2         setosa    \n",
       "14  4.3          3.0         1.1          0.1         setosa    "
      ]
     },
     "metadata": {},
     "output_type": "display_data"
    }
   ],
   "source": [
    "#order(vector,decrasing=F\n",
    "order(iris[,1]) # index 반환해준다 => 정확히 행 index다\n",
    "iris[order(iris[,1],decreasing = T),] # 첫번째 열 기준으로 내림차순 정렬"
   ]
  },
  {
   "cell_type": "markdown",
   "metadata": {},
   "source": [
    "### R에서 배열은 크게 중요하지 않다"
   ]
  },
  {
   "cell_type": "markdown",
   "metadata": {},
   "source": [
    "### 배열 생성하는 법 \n",
    "- 1. dim(,,) 3차원 이다\n",
    "- 2. array()"
   ]
  },
  {
   "cell_type": "code",
   "execution_count": 1,
   "metadata": {},
   "outputs": [
    {
     "name": "stdout",
     "output_type": "stream",
     "text": [
      ", , 1\n",
      "\n",
      "     [,1] [,2] [,3] [,4]\n",
      "[1,]    1    4    7   10\n",
      "[2,]    2    5    8   11\n",
      "[3,]    3    6    9   12\n",
      "\n",
      ", , 2\n",
      "\n",
      "     [,1] [,2] [,3] [,4]\n",
      "[1,]   13   16   19   22\n",
      "[2,]   14   17   20   23\n",
      "[3,]   15   18   21   24\n",
      "\n",
      ", , 1\n",
      "\n",
      "     [,1] [,2] [,3] [,4]\n",
      "[1,]    1    4    7   10\n",
      "[2,]    2    5    8   11\n",
      "[3,]    3    6    9   12\n",
      "\n",
      ", , 2\n",
      "\n",
      "     [,1] [,2] [,3] [,4]\n",
      "[1,]   13   16   19   22\n",
      "[2,]   14   17   20   23\n",
      "[3,]   15   18   21   24\n",
      "\n"
     ]
    }
   ],
   "source": [
    "#jupyter notebook에서 표현이 안되네 ㅎ\n",
    "arr01<-c(1:24)\n",
    "dim(arr01)<-c(3,4,2)\n",
    "print(arr01)\n",
    "arr02<-array(1:24,dim=c(3,4,2))\n",
    "print(arr02)"
   ]
  },
  {
   "cell_type": "markdown",
   "metadata": {},
   "source": [
    "### Names 함수들\n",
    "- names dimnames colnames rownames\n",
    "- 위의 쓰여져 있는 함수들이 굉장히 헷갈릴 수 있다\n",
    "    - 그냥 열벡터는 => names\n",
    "    - 기본적으로 행과 열 단위의 데이터 들은 => dimnames colnames rownames 사용가능 (matrix,array,data.frame)\n",
    "    - dimnames는 값을 list의형태로 넣어준다\n",
    "    - key값을 가지고있는 경우(\\$로 접근 가능한 경우) names 호출시 => key값으로 돌려줌\n",
    "    - 아무리 matrix or array여도 dimension이 강제로 변경된 경우는 예외다 (차원이 1인 매트릭스, 차원이 1인 배열..)\n",
    "    "
   ]
  },
  {
   "cell_type": "code",
   "execution_count": 5,
   "metadata": {},
   "outputs": [
    {
     "name": "stdout",
     "output_type": "stream",
     "text": [
      " int [1:3, 1:3] 1 2 3 4 5 6 7 8 9\n",
      " int [1:3, 1:4, 1:2] 1 2 3 4 5 6 7 8 9 10 ...\n"
     ]
    }
   ],
   "source": [
    "#먼저 구조를 한번 비교해보자\n",
    "mat01<-matrix(1:9,3)\n",
    "str(mat01) # [1:3,1:3] \n",
    "arr02<-array(1:24,dim=c(3,4,2))\n",
    "str(arr02) # [1:3,1:4,1:2]"
   ]
  },
  {
   "cell_type": "code",
   "execution_count": 45,
   "metadata": {},
   "outputs": [
    {
     "name": "stdout",
     "output_type": "stream",
     "text": [
      " Named int [1:4] 1 2 3 4\n",
      " - attr(*, \"names\")= chr [1:4] \"a\" \"b\" \"c\" \"d\"\n",
      " int [1:3, 1:3] 1 2 3 4 5 6 7 8 9\n",
      " - attr(*, \"dimnames\")=List of 2\n",
      "  ..$ row   : chr [1:3] \"a\" \"b\" \"c\"\n",
      "  ..$ column: chr [1:3] \"A\" \"B\" \"C\"\n"
     ]
    },
    {
     "data": {
      "text/html": [
       "<dl>\n",
       "\t<dt>$row</dt>\n",
       "\t\t<dd><ol class=list-inline>\n",
       "\t<li>'a'</li>\n",
       "\t<li>'b'</li>\n",
       "\t<li>'c'</li>\n",
       "</ol>\n",
       "</dd>\n",
       "\t<dt>$column</dt>\n",
       "\t\t<dd><ol class=list-inline>\n",
       "\t<li>'A'</li>\n",
       "\t<li>'B'</li>\n",
       "\t<li>'C'</li>\n",
       "</ol>\n",
       "</dd>\n",
       "</dl>\n"
      ],
      "text/latex": [
       "\\begin{description}\n",
       "\\item[\\$row] \\begin{enumerate*}\n",
       "\\item 'a'\n",
       "\\item 'b'\n",
       "\\item 'c'\n",
       "\\end{enumerate*}\n",
       "\n",
       "\\item[\\$column] \\begin{enumerate*}\n",
       "\\item 'A'\n",
       "\\item 'B'\n",
       "\\item 'C'\n",
       "\\end{enumerate*}\n",
       "\n",
       "\\end{description}\n"
      ],
      "text/markdown": [
       "$row\n",
       ":   1. 'a'\n",
       "2. 'b'\n",
       "3. 'c'\n",
       "\n",
       "\n",
       "\n",
       "$column\n",
       ":   1. 'A'\n",
       "2. 'B'\n",
       "3. 'C'\n",
       "\n",
       "\n",
       "\n",
       "\n",
       "\n"
      ],
      "text/plain": [
       "$row\n",
       "[1] \"a\" \"b\" \"c\"\n",
       "\n",
       "$column\n",
       "[1] \"A\" \"B\" \"C\"\n"
      ]
     },
     "metadata": {},
     "output_type": "display_data"
    },
    {
     "data": {
      "text/html": [
       "<ol class=list-inline>\n",
       "\t<li>'a'</li>\n",
       "\t<li>'b'</li>\n",
       "\t<li>'c'</li>\n",
       "</ol>\n"
      ],
      "text/latex": [
       "\\begin{enumerate*}\n",
       "\\item 'a'\n",
       "\\item 'b'\n",
       "\\item 'c'\n",
       "\\end{enumerate*}\n"
      ],
      "text/markdown": [
       "1. 'a'\n",
       "2. 'b'\n",
       "3. 'c'\n",
       "\n",
       "\n"
      ],
      "text/plain": [
       "[1] \"a\" \"b\" \"c\""
      ]
     },
     "metadata": {},
     "output_type": "display_data"
    }
   ],
   "source": [
    "#각 차원 이름\n",
    "vec01<-1:4\n",
    "names(vec01)<-c(\"a\",\"b\",\"c\",\"d\")\n",
    "#dimnames(vec01) 열벡터는 차원이 의미가 없다\n",
    "str(vec01)\n",
    "\n",
    "mat01<-matrix(1:9,3)\n",
    "#rownames(mat01)<-c(\"a\",\"b\",\"c\")\n",
    "#colnames(mat01)<-c(\"A\",\"B\",\"C\")\n",
    "dimnames(mat01)<-list(row = c(\"a\",\"b\",\"c\"),column = c(\"A\",\"B\",\"C\"))\n",
    "#row column이라고 key 값을 준다고 저걸 mat01자체를 인덱싱할때 사용은 불가능하다\n",
    "#다만 나중에 row name만들 다 추출하고싶을때 rownames(mat01) 혹은 dimnames(mat01)$row\n",
    "str(mat01)\n",
    "dimnames(mat01)\n",
    "dimnames(mat01)$row\n"
   ]
  },
  {
   "cell_type": "code",
   "execution_count": 59,
   "metadata": {},
   "outputs": [
    {
     "name": "stdout",
     "output_type": "stream",
     "text": [
      "List of 2\n",
      " $ a: num [1:3] 1 2 3\n",
      " $ b: num [1:2] 4 5\n"
     ]
    },
    {
     "data": {
      "text/html": [
       "<ol class=list-inline>\n",
       "\t<li>'a'</li>\n",
       "\t<li>'b'</li>\n",
       "</ol>\n"
      ],
      "text/latex": [
       "\\begin{enumerate*}\n",
       "\\item 'a'\n",
       "\\item 'b'\n",
       "\\end{enumerate*}\n"
      ],
      "text/markdown": [
       "1. 'a'\n",
       "2. 'b'\n",
       "\n",
       "\n"
      ],
      "text/plain": [
       "[1] \"a\" \"b\""
      ]
     },
     "metadata": {},
     "output_type": "display_data"
    },
    {
     "data": {
      "text/plain": [
       "NULL"
      ]
     },
     "metadata": {},
     "output_type": "display_data"
    },
    {
     "name": "stdout",
     "output_type": "stream",
     "text": [
      "'data.frame':\t3 obs. of  2 variables:\n",
      " $ a: num  1 2 3\n",
      " $ b: num  4 5 6\n"
     ]
    },
    {
     "data": {
      "text/html": [
       "<ol class=list-inline>\n",
       "\t<li>'a'</li>\n",
       "\t<li>'b'</li>\n",
       "</ol>\n"
      ],
      "text/latex": [
       "\\begin{enumerate*}\n",
       "\\item 'a'\n",
       "\\item 'b'\n",
       "\\end{enumerate*}\n"
      ],
      "text/markdown": [
       "1. 'a'\n",
       "2. 'b'\n",
       "\n",
       "\n"
      ],
      "text/plain": [
       "[1] \"a\" \"b\""
      ]
     },
     "metadata": {},
     "output_type": "display_data"
    },
    {
     "data": {
      "text/html": [
       "<ol class=list-inline>\n",
       "\t<li>'1'</li>\n",
       "\t<li>'2'</li>\n",
       "\t<li>'3'</li>\n",
       "</ol>\n"
      ],
      "text/latex": [
       "\\begin{enumerate*}\n",
       "\\item '1'\n",
       "\\item '2'\n",
       "\\item '3'\n",
       "\\end{enumerate*}\n"
      ],
      "text/markdown": [
       "1. '1'\n",
       "2. '2'\n",
       "3. '3'\n",
       "\n",
       "\n"
      ],
      "text/plain": [
       "[1] \"1\" \"2\" \"3\""
      ]
     },
     "metadata": {},
     "output_type": "display_data"
    },
    {
     "data": {
      "text/html": [
       "<ol class=list-inline>\n",
       "\t<li>'a'</li>\n",
       "\t<li>'b'</li>\n",
       "</ol>\n"
      ],
      "text/latex": [
       "\\begin{enumerate*}\n",
       "\\item 'a'\n",
       "\\item 'b'\n",
       "\\end{enumerate*}\n"
      ],
      "text/markdown": [
       "1. 'a'\n",
       "2. 'b'\n",
       "\n",
       "\n"
      ],
      "text/plain": [
       "[1] \"a\" \"b\""
      ]
     },
     "metadata": {},
     "output_type": "display_data"
    },
    {
     "data": {
      "text/html": [
       "<ol>\n",
       "\t<li><ol class=list-inline>\n",
       "\t<li>'1'</li>\n",
       "\t<li>'2'</li>\n",
       "\t<li>'3'</li>\n",
       "</ol>\n",
       "</li>\n",
       "\t<li><ol class=list-inline>\n",
       "\t<li>'a'</li>\n",
       "\t<li>'b'</li>\n",
       "</ol>\n",
       "</li>\n",
       "</ol>\n"
      ],
      "text/latex": [
       "\\begin{enumerate}\n",
       "\\item \\begin{enumerate*}\n",
       "\\item '1'\n",
       "\\item '2'\n",
       "\\item '3'\n",
       "\\end{enumerate*}\n",
       "\n",
       "\\item \\begin{enumerate*}\n",
       "\\item 'a'\n",
       "\\item 'b'\n",
       "\\end{enumerate*}\n",
       "\n",
       "\\end{enumerate}\n"
      ],
      "text/markdown": [
       "1. 1. '1'\n",
       "2. '2'\n",
       "3. '3'\n",
       "\n",
       "\n",
       "\n",
       "2. 1. 'a'\n",
       "2. 'b'\n",
       "\n",
       "\n",
       "\n",
       "\n",
       "\n"
      ],
      "text/plain": [
       "[[1]]\n",
       "[1] \"1\" \"2\" \"3\"\n",
       "\n",
       "[[2]]\n",
       "[1] \"a\" \"b\"\n"
      ]
     },
     "metadata": {},
     "output_type": "display_data"
    }
   ],
   "source": [
    "lst01<-list(a=c(1,2,3),b=c(4,5))\n",
    "str(lst01)\n",
    "names(lst01)\n",
    "dimnames(lst01) # NULL이다\n",
    "\n",
    "df01<-data.frame(a=c(1,2,3),b=c(4,5,6))\n",
    "str(df01)\n",
    "names(df01) # colnames랑 동일 key값\n",
    "rownames(df01)\n",
    "colnames(df01)\n",
    "dimnames(df01)"
   ]
  },
  {
   "cell_type": "markdown",
   "metadata": {},
   "source": [
    "####  dimension이 강제로 변경된 경우\n",
    "- str()를 꼭 살펴보자\n",
    "- (1d) 이런식으로 표현이 되있을거다\n",
    "- indexing까지 문제를 일으킨다\n",
    "    - ex) 배열인데도 (1d)인 경우 arr[] 인덱싱에서 ,를 사용하면 incorrect number of dimensions 에러난다"
   ]
  },
  {
   "cell_type": "code",
   "execution_count": 54,
   "metadata": {},
   "outputs": [
    {
     "name": "stdout",
     "output_type": "stream",
     "text": [
      " int [1:3, 1] 1 2 3\n"
     ]
    },
    {
     "data": {
      "text/html": [
       "<dl>\n",
       "\t<dt>$row</dt>\n",
       "\t\t<dd><ol class=list-inline>\n",
       "\t<li>'a'</li>\n",
       "\t<li>'b'</li>\n",
       "\t<li>'c'</li>\n",
       "</ol>\n",
       "</dd>\n",
       "\t<dt>$column</dt>\n",
       "\t\t<dd>'A'</dd>\n",
       "</dl>\n"
      ],
      "text/latex": [
       "\\begin{description}\n",
       "\\item[\\$row] \\begin{enumerate*}\n",
       "\\item 'a'\n",
       "\\item 'b'\n",
       "\\item 'c'\n",
       "\\end{enumerate*}\n",
       "\n",
       "\\item[\\$column] 'A'\n",
       "\\end{description}\n"
      ],
      "text/markdown": [
       "$row\n",
       ":   1. 'a'\n",
       "2. 'b'\n",
       "3. 'c'\n",
       "\n",
       "\n",
       "\n",
       "$column\n",
       ":   'A'\n",
       "\n",
       "\n"
      ],
      "text/plain": [
       "$row\n",
       "[1] \"a\" \"b\" \"c\"\n",
       "\n",
       "$column\n",
       "[1] \"A\"\n"
      ]
     },
     "metadata": {},
     "output_type": "display_data"
    },
    {
     "data": {
      "text/plain": [
       "NULL"
      ]
     },
     "metadata": {},
     "output_type": "display_data"
    },
    {
     "name": "stdout",
     "output_type": "stream",
     "text": [
      " int [1:3(1d)] 1 2 3\n"
     ]
    },
    {
     "data": {
      "text/html": [
       "<strong>$row</strong> = <ol class=list-inline>\n",
       "\t<li>'a'</li>\n",
       "\t<li>'b'</li>\n",
       "\t<li>'c'</li>\n",
       "</ol>\n"
      ],
      "text/latex": [
       "\\textbf{\\$row} = \\begin{enumerate*}\n",
       "\\item 'a'\n",
       "\\item 'b'\n",
       "\\item 'c'\n",
       "\\end{enumerate*}\n"
      ],
      "text/markdown": [
       "**$row** = 1. 'a'\n",
       "2. 'b'\n",
       "3. 'c'\n",
       "\n",
       "\n"
      ],
      "text/plain": [
       "$row\n",
       "[1] \"a\" \"b\" \"c\"\n"
      ]
     },
     "metadata": {},
     "output_type": "display_data"
    },
    {
     "data": {
      "text/html": [
       "<ol class=list-inline>\n",
       "\t<li>'a'</li>\n",
       "\t<li>'b'</li>\n",
       "\t<li>'c'</li>\n",
       "</ol>\n"
      ],
      "text/latex": [
       "\\begin{enumerate*}\n",
       "\\item 'a'\n",
       "\\item 'b'\n",
       "\\item 'c'\n",
       "\\end{enumerate*}\n"
      ],
      "text/markdown": [
       "1. 'a'\n",
       "2. 'b'\n",
       "3. 'c'\n",
       "\n",
       "\n"
      ],
      "text/plain": [
       "[1] \"a\" \"b\" \"c\""
      ]
     },
     "metadata": {},
     "output_type": "display_data"
    }
   ],
   "source": [
    "#매트릭스에서 예시\n",
    "mat01<-matrix(1:3)\n",
    "str(mat01)\n",
    "dimnames(mat01)<-list(row = c(\"a\",\"b\",\"c\"),column = c(\"A\"))\n",
    "dimnames(mat01)\n",
    "names(mat01) # 여기서는 NULL이다 matrix니깐\n",
    "\n",
    "#강제로 dimension을 1차원으로 => vector비스무리 하네?\n",
    "dim(mat01)<-3\n",
    "str(mat01)\n",
    "dimnames(mat01)<-list(row = c(\"a\",\"b\",\"c\"))\n",
    "dimnames(mat01)\n",
    "names(mat01) # 지금은 NULL 이 아니다"
   ]
  },
  {
   "cell_type": "code",
   "execution_count": 58,
   "metadata": {},
   "outputs": [
    {
     "name": "stdout",
     "output_type": "stream",
     "text": [
      " int [1:3(1d)] 1 2 3\n"
     ]
    },
    {
     "data": {
      "text/html": [
       "<ol class=list-inline>\n",
       "\t<li>'1'</li>\n",
       "\t<li>'2'</li>\n",
       "\t<li>'3'</li>\n",
       "</ol>\n"
      ],
      "text/latex": [
       "\\begin{enumerate*}\n",
       "\\item '1'\n",
       "\\item '2'\n",
       "\\item '3'\n",
       "\\end{enumerate*}\n"
      ],
      "text/markdown": [
       "1. '1'\n",
       "2. '2'\n",
       "3. '3'\n",
       "\n",
       "\n"
      ],
      "text/plain": [
       "[1] \"1\" \"2\" \"3\""
      ]
     },
     "metadata": {},
     "output_type": "display_data"
    },
    {
     "data": {
      "text/html": [
       "<ol>\n",
       "\t<li><ol class=list-inline>\n",
       "\t<li>'1'</li>\n",
       "\t<li>'2'</li>\n",
       "\t<li>'3'</li>\n",
       "</ol>\n",
       "</li>\n",
       "</ol>\n"
      ],
      "text/latex": [
       "\\begin{enumerate}\n",
       "\\item \\begin{enumerate*}\n",
       "\\item '1'\n",
       "\\item '2'\n",
       "\\item '3'\n",
       "\\end{enumerate*}\n",
       "\n",
       "\\end{enumerate}\n"
      ],
      "text/markdown": [
       "1. 1. '1'\n",
       "2. '2'\n",
       "3. '3'\n",
       "\n",
       "\n",
       "\n",
       "\n",
       "\n"
      ],
      "text/plain": [
       "[[1]]\n",
       "[1] \"1\" \"2\" \"3\"\n"
      ]
     },
     "metadata": {},
     "output_type": "display_data"
    },
    {
     "data": {
      "text/html": [
       "<strong>1:</strong> 1"
      ],
      "text/latex": [
       "\\textbf{1:} 1"
      ],
      "text/markdown": [
       "**1:** 1"
      ],
      "text/plain": [
       "1 \n",
       "1 "
      ]
     },
     "metadata": {},
     "output_type": "display_data"
    }
   ],
   "source": [
    "#배열에서 예시\n",
    "arr01<-array(1:3,dim = c(3))\n",
    "str(arr01)\n",
    "dimnames(arr01)<-list(c(\"1\",\"2\",\"3\")) \n",
    "names(arr01)\n",
    "dimnames(arr01)\n",
    "\n",
    "#arr01[,] 에러\n",
    "arr01['1']"
   ]
  }
 ],
 "metadata": {
  "kernelspec": {
   "display_name": "R",
   "language": "R",
   "name": "ir"
  },
  "language_info": {
   "codemirror_mode": "r",
   "file_extension": ".r",
   "mimetype": "text/x-r-source",
   "name": "R",
   "pygments_lexer": "r",
   "version": "4.1.0"
  }
 },
 "nbformat": 4,
 "nbformat_minor": 5
}
