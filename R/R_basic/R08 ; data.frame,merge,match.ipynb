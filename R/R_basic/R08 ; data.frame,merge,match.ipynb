{
 "cells": [
  {
   "cell_type": "markdown",
   "id": "bottom-concrete",
   "metadata": {},
   "source": [
    "## R08 ; 데이터 프레임\n",
    "- R에서 가장 많이 다루게 될 자료구조다\n",
    "- 외형상 열과 행이 존재하는 행렬과 비슷하다\n",
    "- 동일한 길이의 벡터가 리스트형식(key값 존재)으로 존재하는 데이터 구조라고 생각하자"
   ]
  },
  {
   "cell_type": "markdown",
   "id": "appointed-intake",
   "metadata": {},
   "source": [
    "#### 데이터 프레임 생성하는 법"
   ]
  },
  {
   "cell_type": "code",
   "execution_count": 2,
   "id": "handmade-sheriff",
   "metadata": {},
   "outputs": [
    {
     "data": {
      "text/html": [
       "<table>\n",
       "<thead><tr><th scope=col>id</th><th scope=col>name</th><th scope=col>salary</th></tr></thead>\n",
       "<tbody>\n",
       "\t<tr><td>100   </td><td>이철수</td><td>1e+05 </td></tr>\n",
       "\t<tr><td>200   </td><td>이순신</td><td>2e+05 </td></tr>\n",
       "\t<tr><td>300   </td><td>홍길동</td><td>3e+05 </td></tr>\n",
       "</tbody>\n",
       "</table>\n"
      ],
      "text/latex": [
       "\\begin{tabular}{r|lll}\n",
       " id & name & salary\\\\\n",
       "\\hline\n",
       "\t 100    & 이철수 & 1e+05 \\\\\n",
       "\t 200    & 이순신 & 2e+05 \\\\\n",
       "\t 300    & 홍길동 & 3e+05 \\\\\n",
       "\\end{tabular}\n"
      ],
      "text/markdown": [
       "\n",
       "| id | name | salary |\n",
       "|---|---|---|\n",
       "| 100    | 이철수 | 1e+05  |\n",
       "| 200    | 이순신 | 2e+05  |\n",
       "| 300    | 홍길동 | 3e+05  |\n",
       "\n"
      ],
      "text/plain": [
       "  id  name   salary\n",
       "1 100 이철수 1e+05 \n",
       "2 200 이순신 2e+05 \n",
       "3 300 홍길동 3e+05 "
      ]
     },
     "metadata": {},
     "output_type": "display_data"
    }
   ],
   "source": [
    "id <- c(100,200,300)\n",
    "name<-c(\"이철수\",\"이순신\",\"홍길동\")\n",
    "salary<-c(100000,200000,300000)\n",
    "\n",
    "df01 <- data.frame(id,name,salary)\n",
    "df01"
   ]
  },
  {
   "cell_type": "code",
   "execution_count": 4,
   "id": "changed-brighton",
   "metadata": {},
   "outputs": [
    {
     "data": {
      "text/html": [
       "<table>\n",
       "<thead><tr><th scope=col>아이디</th><th scope=col>이름</th><th scope=col>연봉</th></tr></thead>\n",
       "<tbody>\n",
       "\t<tr><td>100   </td><td>이철수</td><td>1e+05 </td></tr>\n",
       "\t<tr><td>200   </td><td>이순신</td><td>2e+05 </td></tr>\n",
       "\t<tr><td>300   </td><td>홍길동</td><td>3e+05 </td></tr>\n",
       "</tbody>\n",
       "</table>\n"
      ],
      "text/latex": [
       "\\begin{tabular}{r|lll}\n",
       " 아이디 & 이름 & 연봉\\\\\n",
       "\\hline\n",
       "\t 100    & 이철수 & 1e+05 \\\\\n",
       "\t 200    & 이순신 & 2e+05 \\\\\n",
       "\t 300    & 홍길동 & 3e+05 \\\\\n",
       "\\end{tabular}\n"
      ],
      "text/markdown": [
       "\n",
       "| 아이디 | 이름 | 연봉 |\n",
       "|---|---|---|\n",
       "| 100    | 이철수 | 1e+05  |\n",
       "| 200    | 이순신 | 2e+05  |\n",
       "| 300    | 홍길동 | 3e+05  |\n",
       "\n"
      ],
      "text/plain": [
       "  아이디 이름   연봉 \n",
       "1 100    이철수 1e+05\n",
       "2 200    이순신 2e+05\n",
       "3 300    홍길동 3e+05"
      ]
     },
     "metadata": {},
     "output_type": "display_data"
    }
   ],
   "source": [
    "#key값을 줄수도 있다\n",
    "id <- c(100,200,300)\n",
    "name<-c(\"이철수\",\"이순신\",\"홍길동\")\n",
    "salary<-c(100000,200000,300000)\n",
    "\n",
    "df01 <- data.frame(아이디=id,이름=name,연봉=salary)\n",
    "df01"
   ]
  },
  {
   "cell_type": "code",
   "execution_count": 24,
   "id": "conceptual-christianity",
   "metadata": {},
   "outputs": [
    {
     "data": {
      "text/html": [
       "<table>\n",
       "<thead><tr><th></th><th scope=col>a</th><th scope=col>b</th><th scope=col>c</th></tr></thead>\n",
       "<tbody>\n",
       "\t<tr><th scope=row>일</th><td>1</td><td>4</td><td>7</td></tr>\n",
       "\t<tr><th scope=row>이</th><td>2</td><td>5</td><td>8</td></tr>\n",
       "\t<tr><th scope=row>삼</th><td>3</td><td>6</td><td>9</td></tr>\n",
       "</tbody>\n",
       "</table>\n"
      ],
      "text/latex": [
       "\\begin{tabular}{r|lll}\n",
       "  & a & b & c\\\\\n",
       "\\hline\n",
       "\t일 & 1 & 4 & 7\\\\\n",
       "\t이 & 2 & 5 & 8\\\\\n",
       "\t삼 & 3 & 6 & 9\\\\\n",
       "\\end{tabular}\n"
      ],
      "text/markdown": [
       "\n",
       "| <!--/--> | a | b | c |\n",
       "|---|---|---|---|\n",
       "| 일 | 1 | 4 | 7 |\n",
       "| 이 | 2 | 5 | 8 |\n",
       "| 삼 | 3 | 6 | 9 |\n",
       "\n"
      ],
      "text/plain": [
       "   a b c\n",
       "일 1 4 7\n",
       "이 2 5 8\n",
       "삼 3 6 9"
      ]
     },
     "metadata": {},
     "output_type": "display_data"
    }
   ],
   "source": [
    "#matrix를 통해서도 만들수 있다\n",
    "df01<-data.frame(matrix(1:9,3))\n",
    "colnames(df01)<-c(\"a\",\"b\",\"c\")\n",
    "rownames(df01)<-c(\"일\",\"이\",\"삼\")\n",
    "df01"
   ]
  },
  {
   "cell_type": "code",
   "execution_count": 36,
   "id": "executed-azerbaijan",
   "metadata": {
    "scrolled": true
   },
   "outputs": [
    {
     "data": {
      "text/html": [
       "<table>\n",
       "<thead><tr><th scope=col>V1</th><th scope=col>V2</th><th scope=col>V3</th></tr></thead>\n",
       "<tbody>\n",
       "\t<tr><td>1</td><td>4</td><td>7</td></tr>\n",
       "\t<tr><td>2</td><td>5</td><td>8</td></tr>\n",
       "\t<tr><td>3</td><td>6</td><td>9</td></tr>\n",
       "</tbody>\n",
       "</table>\n"
      ],
      "text/latex": [
       "\\begin{tabular}{r|lll}\n",
       " V1 & V2 & V3\\\\\n",
       "\\hline\n",
       "\t 1 & 4 & 7\\\\\n",
       "\t 2 & 5 & 8\\\\\n",
       "\t 3 & 6 & 9\\\\\n",
       "\\end{tabular}\n"
      ],
      "text/markdown": [
       "\n",
       "| V1 | V2 | V3 |\n",
       "|---|---|---|\n",
       "| 1 | 4 | 7 |\n",
       "| 2 | 5 | 8 |\n",
       "| 3 | 6 | 9 |\n",
       "\n"
      ],
      "text/plain": [
       "  V1 V2 V3\n",
       "1 1  4  7 \n",
       "2 2  5  8 \n",
       "3 3  6  9 "
      ]
     },
     "metadata": {},
     "output_type": "display_data"
    },
    {
     "data": {
      "text/html": [
       "<table>\n",
       "<thead><tr><th scope=col>a</th><th scope=col>b</th></tr></thead>\n",
       "<tbody>\n",
       "\t<tr><td>1</td><td>4</td></tr>\n",
       "\t<tr><td>2</td><td>5</td></tr>\n",
       "\t<tr><td>3</td><td>6</td></tr>\n",
       "</tbody>\n",
       "</table>\n"
      ],
      "text/latex": [
       "\\begin{tabular}{r|ll}\n",
       " a & b\\\\\n",
       "\\hline\n",
       "\t 1 & 4\\\\\n",
       "\t 2 & 5\\\\\n",
       "\t 3 & 6\\\\\n",
       "\\end{tabular}\n"
      ],
      "text/markdown": [
       "\n",
       "| a | b |\n",
       "|---|---|\n",
       "| 1 | 4 |\n",
       "| 2 | 5 |\n",
       "| 3 | 6 |\n",
       "\n"
      ],
      "text/plain": [
       "  a b\n",
       "1 1 4\n",
       "2 2 5\n",
       "3 3 6"
      ]
     },
     "metadata": {},
     "output_type": "display_data"
    }
   ],
   "source": [
    "# as.dataframe도 가능\n",
    "as.data.frame(matrix(1:9,3))\n",
    "as.data.frame(list(a=c(1,2,3),b=c(4,5,6)))\n",
    "# as.data.frame(list(a=c(1,2,3),b=c(4,5))) Error=> 데이터 프레임의 정의 : 각 컬럼 벡터가 동일한 길이"
   ]
  },
  {
   "cell_type": "markdown",
   "id": "minimal-evidence",
   "metadata": {},
   "source": [
    "#### 반대로 데이터 프레임을 리스트로 만들때 헷갈리는 경우 있다"
   ]
  },
  {
   "cell_type": "code",
   "execution_count": 40,
   "id": "pointed-fairy",
   "metadata": {},
   "outputs": [
    {
     "name": "stdout",
     "output_type": "stream",
     "text": [
      "[[1]]\n",
      "  X1 X2 X3\n",
      "1  1  4  7\n",
      "2  2  5  8\n",
      "3  3  6  9\n",
      "\n",
      "$X1\n",
      "[1] 1 2 3\n",
      "\n",
      "$X2\n",
      "[1] 4 5 6\n",
      "\n",
      "$X3\n",
      "[1] 7 8 9\n",
      "\n"
     ]
    }
   ],
   "source": [
    "lst01<-list(data.frame(matrix(1:9,3))) #하나의 데이터 프레임 전체가 리스트 1개의원소로 들어감\n",
    "print(lst01)\n",
    "lst02<-as.list(data.frame(matrix(1:9,3)))#각 컬럼이 리스트 원소로 들어감\n",
    "print(lst02)"
   ]
  },
  {
   "cell_type": "markdown",
   "id": "increased-watch",
   "metadata": {},
   "source": [
    "#### 헷갈리는 함수들\n",
    "- 1. dimnames, rownames, colnames\n",
    "- 2. length nrow ncol"
   ]
  },
  {
   "cell_type": "markdown",
   "id": "endless-florist",
   "metadata": {},
   "source": [
    "#### 1. 데이터 프레임도 외형상 행렬 => dimnames 존재, 리스트에선 존재 안했었지"
   ]
  },
  {
   "cell_type": "code",
   "execution_count": 44,
   "id": "whole-background",
   "metadata": {},
   "outputs": [
    {
     "name": "stdout",
     "output_type": "stream",
     "text": [
      "[[1]]\n",
      "[1] \"1\" \"2\" \"3\"\n",
      "\n",
      "[[2]]\n",
      "[1] \"id\"     \"name\"   \"salary\"\n",
      "\n",
      "[1] \"id\"     \"name\"   \"salary\"\n"
     ]
    }
   ],
   "source": [
    "id <- c(100,200,300)\n",
    "name<-c(\"이철수\",\"이순신\",\"홍길동\")\n",
    "salary<-c(100000,200000,300000)\n",
    "df01 <- data.frame(id,name,salary)\n",
    "print(dimnames(df01))\n",
    "#rownames colnames 당여히 존재\n",
    "print(names(df01)) # colnames와 동일하다"
   ]
  },
  {
   "cell_type": "markdown",
   "id": "overhead-calendar",
   "metadata": {},
   "source": [
    "#### 2. length = ncol"
   ]
  },
  {
   "cell_type": "code",
   "execution_count": 46,
   "id": "individual-contrary",
   "metadata": {},
   "outputs": [
    {
     "name": "stdout",
     "output_type": "stream",
     "text": [
      "'data.frame':\t3 obs. of  3 variables:\n",
      " $ id    : num  100 200 300\n",
      " $ name  : Factor w/ 3 levels \"이순신\",\"이철수\",..: 2 1 3\n",
      " $ salary: num  1e+05 2e+05 3e+05\n"
     ]
    },
    {
     "data": {
      "text/html": [
       "TRUE"
      ],
      "text/latex": [
       "TRUE"
      ],
      "text/markdown": [
       "TRUE"
      ],
      "text/plain": [
       "[1] TRUE"
      ]
     },
     "metadata": {},
     "output_type": "display_data"
    },
    {
     "data": {
      "text/html": [
       "3"
      ],
      "text/latex": [
       "3"
      ],
      "text/markdown": [
       "3"
      ],
      "text/plain": [
       "[1] 3"
      ]
     },
     "metadata": {},
     "output_type": "display_data"
    }
   ],
   "source": [
    "id <- c(100,200,300)\n",
    "name<-c(\"이철수\",\"이순신\",\"홍길동\")\n",
    "salary<-c(100000,200000,300000)\n",
    "df01 <- data.frame(id,name,salary)\n",
    "str(df01)\n",
    "ncol(df01)==length(df01)\n",
    "nrow(df01)"
   ]
  },
  {
   "cell_type": "markdown",
   "id": "marine-mexico",
   "metadata": {},
   "source": [
    "#### index column도 정의해줄수 있다\n",
    "- 인덱스는 자동으로 1 2 3 ... 생성된다\n",
    "- row.names or rownames 통해 가능 "
   ]
  },
  {
   "cell_type": "code",
   "execution_count": 31,
   "id": "metropolitan-circumstances",
   "metadata": {},
   "outputs": [
    {
     "data": {
      "text/html": [
       "<table>\n",
       "<thead><tr><th></th><th scope=col>name</th><th scope=col>salary</th></tr></thead>\n",
       "<tbody>\n",
       "\t<tr><th scope=row>100</th><td>이철수</td><td>1e+05 </td></tr>\n",
       "\t<tr><th scope=row>200</th><td>이순신</td><td>2e+05 </td></tr>\n",
       "\t<tr><th scope=row>300</th><td>홍길동</td><td>3e+05 </td></tr>\n",
       "</tbody>\n",
       "</table>\n"
      ],
      "text/latex": [
       "\\begin{tabular}{r|ll}\n",
       "  & name & salary\\\\\n",
       "\\hline\n",
       "\t100 & 이철수 & 1e+05 \\\\\n",
       "\t200 & 이순신 & 2e+05 \\\\\n",
       "\t300 & 홍길동 & 3e+05 \\\\\n",
       "\\end{tabular}\n"
      ],
      "text/markdown": [
       "\n",
       "| <!--/--> | name | salary |\n",
       "|---|---|---|\n",
       "| 100 | 이철수 | 1e+05  |\n",
       "| 200 | 이순신 | 2e+05  |\n",
       "| 300 | 홍길동 | 3e+05  |\n",
       "\n"
      ],
      "text/plain": [
       "    name   salary\n",
       "100 이철수 1e+05 \n",
       "200 이순신 2e+05 \n",
       "300 홍길동 3e+05 "
      ]
     },
     "metadata": {},
     "output_type": "display_data"
    },
    {
     "data": {
      "text/html": [
       "<ol class=list-inline>\n",
       "\t<li>'100'</li>\n",
       "\t<li>'200'</li>\n",
       "\t<li>'300'</li>\n",
       "</ol>\n"
      ],
      "text/latex": [
       "\\begin{enumerate*}\n",
       "\\item '100'\n",
       "\\item '200'\n",
       "\\item '300'\n",
       "\\end{enumerate*}\n"
      ],
      "text/markdown": [
       "1. '100'\n",
       "2. '200'\n",
       "3. '300'\n",
       "\n",
       "\n"
      ],
      "text/plain": [
       "[1] \"100\" \"200\" \"300\""
      ]
     },
     "metadata": {},
     "output_type": "display_data"
    },
    {
     "data": {
      "text/html": [
       "<ol class=list-inline>\n",
       "\t<li>'1'</li>\n",
       "\t<li>'2'</li>\n",
       "\t<li>'3'</li>\n",
       "</ol>\n"
      ],
      "text/latex": [
       "\\begin{enumerate*}\n",
       "\\item '1'\n",
       "\\item '2'\n",
       "\\item '3'\n",
       "\\end{enumerate*}\n"
      ],
      "text/markdown": [
       "1. '1'\n",
       "2. '2'\n",
       "3. '3'\n",
       "\n",
       "\n"
      ],
      "text/plain": [
       "[1] \"1\" \"2\" \"3\""
      ]
     },
     "metadata": {},
     "output_type": "display_data"
    }
   ],
   "source": [
    "id <- c(100,200,300)\n",
    "name<-c(\"이철수\",\"이순신\",\"홍길동\")\n",
    "salary<-c(100000,200000,300000)\n",
    "df01 <- data.frame(name,salary,row.names =id )\n",
    "df01\n",
    "# id가 더이상 컬럼이 아니다\n",
    "rownames(df01)\n",
    "rownames(df01)<- c(1,2,3) # 중간에 rowname 변경\n",
    "row.names(df01)"
   ]
  },
  {
   "cell_type": "markdown",
   "id": "forward-tourism",
   "metadata": {},
   "source": [
    "### 데이터 프레임 인덱싱\n",
    "- 외형상 행렬 => 행렬 인덱싱 사용 가능 [,] 2차원 \n",
    "- 내용상 리스트 => 리스트 인덱싱 사용 가능 [[]], \\$\\ , []\n",
    "    - [[ ]] \\$\\ : 원소 자체 데이터 구조 반환\n",
    "    - [ ] : 데이터 프레임 반환\n",
    "- 열벡터 추출시 벡터로 인식 가능 => drop option"
   ]
  },
  {
   "cell_type": "code",
   "execution_count": 56,
   "id": "continental-chick",
   "metadata": {},
   "outputs": [
    {
     "data": {
      "text/html": [
       "1"
      ],
      "text/latex": [
       "1"
      ],
      "text/markdown": [
       "1"
      ],
      "text/plain": [
       "[1] 1"
      ]
     },
     "metadata": {},
     "output_type": "display_data"
    },
    {
     "data": {
      "text/html": [
       "<table>\n",
       "<thead><tr><th scope=col>x</th><th scope=col>y</th></tr></thead>\n",
       "<tbody>\n",
       "\t<tr><td>1</td><td>2</td></tr>\n",
       "</tbody>\n",
       "</table>\n"
      ],
      "text/latex": [
       "\\begin{tabular}{r|ll}\n",
       " x & y\\\\\n",
       "\\hline\n",
       "\t 1 & 2\\\\\n",
       "\\end{tabular}\n"
      ],
      "text/markdown": [
       "\n",
       "| x | y |\n",
       "|---|---|\n",
       "| 1 | 2 |\n",
       "\n"
      ],
      "text/plain": [
       "  x y\n",
       "1 1 2"
      ]
     },
     "metadata": {},
     "output_type": "display_data"
    },
    {
     "data": {
      "text/html": [
       "<ol class=list-inline>\n",
       "\t<li>1</li>\n",
       "\t<li>2</li>\n",
       "\t<li>3</li>\n",
       "\t<li>4</li>\n",
       "\t<li>5</li>\n",
       "</ol>\n"
      ],
      "text/latex": [
       "\\begin{enumerate*}\n",
       "\\item 1\n",
       "\\item 2\n",
       "\\item 3\n",
       "\\item 4\n",
       "\\item 5\n",
       "\\end{enumerate*}\n"
      ],
      "text/markdown": [
       "1. 1\n",
       "2. 2\n",
       "3. 3\n",
       "4. 4\n",
       "5. 5\n",
       "\n",
       "\n"
      ],
      "text/plain": [
       "[1] 1 2 3 4 5"
      ]
     },
     "metadata": {},
     "output_type": "display_data"
    },
    {
     "data": {
      "text/html": [
       "<table>\n",
       "<thead><tr><th scope=col>x</th></tr></thead>\n",
       "<tbody>\n",
       "\t<tr><td>1</td></tr>\n",
       "\t<tr><td>2</td></tr>\n",
       "\t<tr><td>3</td></tr>\n",
       "\t<tr><td>4</td></tr>\n",
       "\t<tr><td>5</td></tr>\n",
       "</tbody>\n",
       "</table>\n"
      ],
      "text/latex": [
       "\\begin{tabular}{r|l}\n",
       " x\\\\\n",
       "\\hline\n",
       "\t 1\\\\\n",
       "\t 2\\\\\n",
       "\t 3\\\\\n",
       "\t 4\\\\\n",
       "\t 5\\\\\n",
       "\\end{tabular}\n"
      ],
      "text/markdown": [
       "\n",
       "| x |\n",
       "|---|\n",
       "| 1 |\n",
       "| 2 |\n",
       "| 3 |\n",
       "| 4 |\n",
       "| 5 |\n",
       "\n"
      ],
      "text/plain": [
       "  x\n",
       "1 1\n",
       "2 2\n",
       "3 3\n",
       "4 4\n",
       "5 5"
      ]
     },
     "metadata": {},
     "output_type": "display_data"
    },
    {
     "data": {
      "text/html": [
       "<table>\n",
       "<thead><tr><th scope=col>x</th><th scope=col>y</th></tr></thead>\n",
       "<tbody>\n",
       "\t<tr><td>1</td><td>2</td></tr>\n",
       "\t<tr><td>2</td><td>4</td></tr>\n",
       "\t<tr><td>3</td><td>6</td></tr>\n",
       "</tbody>\n",
       "</table>\n"
      ],
      "text/latex": [
       "\\begin{tabular}{r|ll}\n",
       " x & y\\\\\n",
       "\\hline\n",
       "\t 1 & 2\\\\\n",
       "\t 2 & 4\\\\\n",
       "\t 3 & 6\\\\\n",
       "\\end{tabular}\n"
      ],
      "text/markdown": [
       "\n",
       "| x | y |\n",
       "|---|---|\n",
       "| 1 | 2 |\n",
       "| 2 | 4 |\n",
       "| 3 | 6 |\n",
       "\n"
      ],
      "text/plain": [
       "  x y\n",
       "1 1 2\n",
       "2 2 4\n",
       "3 3 6"
      ]
     },
     "metadata": {},
     "output_type": "display_data"
    }
   ],
   "source": [
    "df02<- data.frame(x = c(1,2,3,4,5),\n",
    "                      y = c(2,4,6,8,10))\n",
    "\n",
    "df02[1,1]\n",
    "df02[1,]\n",
    "df02[,\"x\"]\n",
    "df02[,1,drop=F] # 열벡터 => 데이터 프레임 유지\n",
    "df02[1:3,c(\"x\",\"y\")]"
   ]
  },
  {
   "cell_type": "code",
   "execution_count": 60,
   "id": "dietary-bahrain",
   "metadata": {},
   "outputs": [
    {
     "data": {
      "text/html": [
       "<ol class=list-inline>\n",
       "\t<li>1</li>\n",
       "\t<li>2</li>\n",
       "\t<li>3</li>\n",
       "\t<li>4</li>\n",
       "\t<li>5</li>\n",
       "</ol>\n"
      ],
      "text/latex": [
       "\\begin{enumerate*}\n",
       "\\item 1\n",
       "\\item 2\n",
       "\\item 3\n",
       "\\item 4\n",
       "\\item 5\n",
       "\\end{enumerate*}\n"
      ],
      "text/markdown": [
       "1. 1\n",
       "2. 2\n",
       "3. 3\n",
       "4. 4\n",
       "5. 5\n",
       "\n",
       "\n"
      ],
      "text/plain": [
       "[1] 1 2 3 4 5"
      ]
     },
     "metadata": {},
     "output_type": "display_data"
    },
    {
     "data": {
      "text/html": [
       "<ol class=list-inline>\n",
       "\t<li>1</li>\n",
       "\t<li>2</li>\n",
       "\t<li>3</li>\n",
       "\t<li>4</li>\n",
       "\t<li>5</li>\n",
       "</ol>\n"
      ],
      "text/latex": [
       "\\begin{enumerate*}\n",
       "\\item 1\n",
       "\\item 2\n",
       "\\item 3\n",
       "\\item 4\n",
       "\\item 5\n",
       "\\end{enumerate*}\n"
      ],
      "text/markdown": [
       "1. 1\n",
       "2. 2\n",
       "3. 3\n",
       "4. 4\n",
       "5. 5\n",
       "\n",
       "\n"
      ],
      "text/plain": [
       "[1] 1 2 3 4 5"
      ]
     },
     "metadata": {},
     "output_type": "display_data"
    },
    {
     "data": {
      "text/html": [
       "<ol class=list-inline>\n",
       "\t<li>2</li>\n",
       "\t<li>4</li>\n",
       "\t<li>6</li>\n",
       "\t<li>8</li>\n",
       "\t<li>10</li>\n",
       "</ol>\n"
      ],
      "text/latex": [
       "\\begin{enumerate*}\n",
       "\\item 2\n",
       "\\item 4\n",
       "\\item 6\n",
       "\\item 8\n",
       "\\item 10\n",
       "\\end{enumerate*}\n"
      ],
      "text/markdown": [
       "1. 2\n",
       "2. 4\n",
       "3. 6\n",
       "4. 8\n",
       "5. 10\n",
       "\n",
       "\n"
      ],
      "text/plain": [
       "[1]  2  4  6  8 10"
      ]
     },
     "metadata": {},
     "output_type": "display_data"
    },
    {
     "data": {
      "text/html": [
       "<table>\n",
       "<thead><tr><th scope=col>x</th></tr></thead>\n",
       "<tbody>\n",
       "\t<tr><td>1</td></tr>\n",
       "\t<tr><td>2</td></tr>\n",
       "\t<tr><td>3</td></tr>\n",
       "\t<tr><td>4</td></tr>\n",
       "\t<tr><td>5</td></tr>\n",
       "</tbody>\n",
       "</table>\n"
      ],
      "text/latex": [
       "\\begin{tabular}{r|l}\n",
       " x\\\\\n",
       "\\hline\n",
       "\t 1\\\\\n",
       "\t 2\\\\\n",
       "\t 3\\\\\n",
       "\t 4\\\\\n",
       "\t 5\\\\\n",
       "\\end{tabular}\n"
      ],
      "text/markdown": [
       "\n",
       "| x |\n",
       "|---|\n",
       "| 1 |\n",
       "| 2 |\n",
       "| 3 |\n",
       "| 4 |\n",
       "| 5 |\n",
       "\n"
      ],
      "text/plain": [
       "  x\n",
       "1 1\n",
       "2 2\n",
       "3 3\n",
       "4 4\n",
       "5 5"
      ]
     },
     "metadata": {},
     "output_type": "display_data"
    }
   ],
   "source": [
    "df02<- data.frame(x = c(1,2,3,4,5),\n",
    "                      y = c(2,4,6,8,10))\n",
    "df02[[1]]\n",
    "df02[[\"x\"]]\n",
    "df02$y\n",
    "df02[1]"
   ]
  },
  {
   "cell_type": "markdown",
   "id": "oriental-stewart",
   "metadata": {},
   "source": [
    "#### 데이터 프레임 행 또는 열 추가\n",
    "- cbind rbind\n",
    "- \\$\\ 이용"
   ]
  },
  {
   "cell_type": "code",
   "execution_count": 71,
   "id": "greater-clone",
   "metadata": {},
   "outputs": [
    {
     "data": {
      "text/html": [
       "<table>\n",
       "<thead><tr><th scope=col>x</th><th scope=col>y</th><th scope=col>z</th><th scope=col>w</th><th scope=col>t</th></tr></thead>\n",
       "<tbody>\n",
       "\t<tr><td>1 </td><td> 2</td><td> 3</td><td> 4</td><td> 5</td></tr>\n",
       "\t<tr><td>2 </td><td> 4</td><td> 6</td><td> 8</td><td>10</td></tr>\n",
       "\t<tr><td>3 </td><td> 6</td><td> 9</td><td>12</td><td>15</td></tr>\n",
       "\t<tr><td>4 </td><td> 8</td><td>12</td><td>16</td><td>20</td></tr>\n",
       "\t<tr><td>5 </td><td>10</td><td>15</td><td>20</td><td>25</td></tr>\n",
       "</tbody>\n",
       "</table>\n"
      ],
      "text/latex": [
       "\\begin{tabular}{r|lllll}\n",
       " x & y & z & w & t\\\\\n",
       "\\hline\n",
       "\t 1  &  2 &  3 &  4 &  5\\\\\n",
       "\t 2  &  4 &  6 &  8 & 10\\\\\n",
       "\t 3  &  6 &  9 & 12 & 15\\\\\n",
       "\t 4  &  8 & 12 & 16 & 20\\\\\n",
       "\t 5  & 10 & 15 & 20 & 25\\\\\n",
       "\\end{tabular}\n"
      ],
      "text/markdown": [
       "\n",
       "| x | y | z | w | t |\n",
       "|---|---|---|---|---|\n",
       "| 1  |  2 |  3 |  4 |  5 |\n",
       "| 2  |  4 |  6 |  8 | 10 |\n",
       "| 3  |  6 |  9 | 12 | 15 |\n",
       "| 4  |  8 | 12 | 16 | 20 |\n",
       "| 5  | 10 | 15 | 20 | 25 |\n",
       "\n"
      ],
      "text/plain": [
       "  x y  z  w  t \n",
       "1 1  2  3  4  5\n",
       "2 2  4  6  8 10\n",
       "3 3  6  9 12 15\n",
       "4 4  8 12 16 20\n",
       "5 5 10 15 20 25"
      ]
     },
     "metadata": {},
     "output_type": "display_data"
    },
    {
     "data": {
      "text/html": [
       "<table>\n",
       "<thead><tr><th scope=col>x</th><th scope=col>y</th><th scope=col>z</th><th scope=col>w</th><th scope=col>t</th></tr></thead>\n",
       "<tbody>\n",
       "\t<tr><td>1 </td><td> 2</td><td> 3</td><td> 4</td><td> 5</td></tr>\n",
       "\t<tr><td>2 </td><td> 4</td><td> 6</td><td> 8</td><td>10</td></tr>\n",
       "\t<tr><td>3 </td><td> 6</td><td> 9</td><td>12</td><td>15</td></tr>\n",
       "\t<tr><td>4 </td><td> 8</td><td>12</td><td>16</td><td>20</td></tr>\n",
       "\t<tr><td>5 </td><td>10</td><td>15</td><td>20</td><td>25</td></tr>\n",
       "\t<tr><td>6 </td><td>12</td><td>18</td><td>24</td><td>30</td></tr>\n",
       "</tbody>\n",
       "</table>\n"
      ],
      "text/latex": [
       "\\begin{tabular}{r|lllll}\n",
       " x & y & z & w & t\\\\\n",
       "\\hline\n",
       "\t 1  &  2 &  3 &  4 &  5\\\\\n",
       "\t 2  &  4 &  6 &  8 & 10\\\\\n",
       "\t 3  &  6 &  9 & 12 & 15\\\\\n",
       "\t 4  &  8 & 12 & 16 & 20\\\\\n",
       "\t 5  & 10 & 15 & 20 & 25\\\\\n",
       "\t 6  & 12 & 18 & 24 & 30\\\\\n",
       "\\end{tabular}\n"
      ],
      "text/markdown": [
       "\n",
       "| x | y | z | w | t |\n",
       "|---|---|---|---|---|\n",
       "| 1  |  2 |  3 |  4 |  5 |\n",
       "| 2  |  4 |  6 |  8 | 10 |\n",
       "| 3  |  6 |  9 | 12 | 15 |\n",
       "| 4  |  8 | 12 | 16 | 20 |\n",
       "| 5  | 10 | 15 | 20 | 25 |\n",
       "| 6  | 12 | 18 | 24 | 30 |\n",
       "\n"
      ],
      "text/plain": [
       "  x y  z  w  t \n",
       "1 1  2  3  4  5\n",
       "2 2  4  6  8 10\n",
       "3 3  6  9 12 15\n",
       "4 4  8 12 16 20\n",
       "5 5 10 15 20 25\n",
       "6 6 12 18 24 30"
      ]
     },
     "metadata": {},
     "output_type": "display_data"
    }
   ],
   "source": [
    "# rbind cbind 이용해서 data.frame + vector\n",
    "sampleDF<- data.frame(x = c(1,2,3,4,5),\n",
    "                      y = c(2,4,6,8,10))\n",
    "\n",
    "sampleDF$z <- c(3,6,9,12,15)\n",
    "w<-c(4,8,12,16,20)\n",
    "sampleDF<-cbind(sampleDF,w)\n",
    "sampleDF<-cbind(sampleDF,t=c(5,10,15,20,25))\n",
    "sampleDF\n",
    "sampleDF<-rbind(sampleDF,c(6,12,18,24,30,36))\n",
    "sampleDF"
   ]
  },
  {
   "cell_type": "code",
   "execution_count": 74,
   "id": "social-heritage",
   "metadata": {},
   "outputs": [
    {
     "data": {
      "text/html": [
       "<table>\n",
       "<thead><tr><th scope=col>x</th><th scope=col>y</th><th scope=col>z</th></tr></thead>\n",
       "<tbody>\n",
       "\t<tr><td>1 </td><td> 2</td><td> 3</td></tr>\n",
       "\t<tr><td>2 </td><td> 4</td><td> 6</td></tr>\n",
       "\t<tr><td>3 </td><td> 6</td><td> 9</td></tr>\n",
       "\t<tr><td>4 </td><td> 8</td><td>12</td></tr>\n",
       "\t<tr><td>5 </td><td>10</td><td>15</td></tr>\n",
       "</tbody>\n",
       "</table>\n"
      ],
      "text/latex": [
       "\\begin{tabular}{r|lll}\n",
       " x & y & z\\\\\n",
       "\\hline\n",
       "\t 1  &  2 &  3\\\\\n",
       "\t 2  &  4 &  6\\\\\n",
       "\t 3  &  6 &  9\\\\\n",
       "\t 4  &  8 & 12\\\\\n",
       "\t 5  & 10 & 15\\\\\n",
       "\\end{tabular}\n"
      ],
      "text/markdown": [
       "\n",
       "| x | y | z |\n",
       "|---|---|---|\n",
       "| 1  |  2 |  3 |\n",
       "| 2  |  4 |  6 |\n",
       "| 3  |  6 |  9 |\n",
       "| 4  |  8 | 12 |\n",
       "| 5  | 10 | 15 |\n",
       "\n"
      ],
      "text/plain": [
       "  x y  z \n",
       "1 1  2  3\n",
       "2 2  4  6\n",
       "3 3  6  9\n",
       "4 4  8 12\n",
       "5 5 10 15"
      ]
     },
     "metadata": {},
     "output_type": "display_data"
    },
    {
     "data": {
      "text/html": [
       "<table>\n",
       "<thead><tr><th scope=col>x</th><th scope=col>y</th></tr></thead>\n",
       "<tbody>\n",
       "\t<tr><td>1 </td><td> 2</td></tr>\n",
       "\t<tr><td>2 </td><td> 4</td></tr>\n",
       "\t<tr><td>3 </td><td> 6</td></tr>\n",
       "\t<tr><td>4 </td><td> 8</td></tr>\n",
       "\t<tr><td>5 </td><td>10</td></tr>\n",
       "\t<tr><td>6 </td><td>12</td></tr>\n",
       "</tbody>\n",
       "</table>\n"
      ],
      "text/latex": [
       "\\begin{tabular}{r|ll}\n",
       " x & y\\\\\n",
       "\\hline\n",
       "\t 1  &  2\\\\\n",
       "\t 2  &  4\\\\\n",
       "\t 3  &  6\\\\\n",
       "\t 4  &  8\\\\\n",
       "\t 5  & 10\\\\\n",
       "\t 6  & 12\\\\\n",
       "\\end{tabular}\n"
      ],
      "text/markdown": [
       "\n",
       "| x | y |\n",
       "|---|---|\n",
       "| 1  |  2 |\n",
       "| 2  |  4 |\n",
       "| 3  |  6 |\n",
       "| 4  |  8 |\n",
       "| 5  | 10 |\n",
       "| 6  | 12 |\n",
       "\n"
      ],
      "text/plain": [
       "  x y \n",
       "1 1  2\n",
       "2 2  4\n",
       "3 3  6\n",
       "4 4  8\n",
       "5 5 10\n",
       "6 6 12"
      ]
     },
     "metadata": {},
     "output_type": "display_data"
    }
   ],
   "source": [
    "# rbind cbind 이용해서 data.frame + data.frame 도 가능하다\n",
    "sampleDF<- data.frame(x = c(1,2,3,4,5),\n",
    "                      y = c(2,4,6,8,10))\n",
    "new.col <- data.frame(z=c(3,6,9,12,15))\n",
    "cbind(sampleDF,new.col)\n",
    "\n",
    "#rbind는 colname 동일해야 한다\n",
    "new.row <-data.frame(x=6,y=12)\n",
    "rbind(sampleDF,new.row)"
   ]
  },
  {
   "cell_type": "code",
   "execution_count": 77,
   "id": "supreme-classroom",
   "metadata": {},
   "outputs": [
    {
     "data": {
      "text/html": [
       "<table>\n",
       "<thead><tr><th scope=col>x</th><th scope=col>y</th><th scope=col>z</th><th scope=col>w</th></tr></thead>\n",
       "<tbody>\n",
       "\t<tr><td>1 </td><td> 2</td><td> 3</td><td> 4</td></tr>\n",
       "\t<tr><td>2 </td><td> 4</td><td> 6</td><td> 8</td></tr>\n",
       "\t<tr><td>3 </td><td> 6</td><td> 9</td><td>12</td></tr>\n",
       "\t<tr><td>4 </td><td> 8</td><td>12</td><td>16</td></tr>\n",
       "\t<tr><td>5 </td><td>10</td><td>15</td><td>20</td></tr>\n",
       "</tbody>\n",
       "</table>\n"
      ],
      "text/latex": [
       "\\begin{tabular}{r|llll}\n",
       " x & y & z & w\\\\\n",
       "\\hline\n",
       "\t 1  &  2 &  3 &  4\\\\\n",
       "\t 2  &  4 &  6 &  8\\\\\n",
       "\t 3  &  6 &  9 & 12\\\\\n",
       "\t 4  &  8 & 12 & 16\\\\\n",
       "\t 5  & 10 & 15 & 20\\\\\n",
       "\\end{tabular}\n"
      ],
      "text/markdown": [
       "\n",
       "| x | y | z | w |\n",
       "|---|---|---|---|\n",
       "| 1  |  2 |  3 |  4 |\n",
       "| 2  |  4 |  6 |  8 |\n",
       "| 3  |  6 |  9 | 12 |\n",
       "| 4  |  8 | 12 | 16 |\n",
       "| 5  | 10 | 15 | 20 |\n",
       "\n"
      ],
      "text/plain": [
       "  x y  z  w \n",
       "1 1  2  3  4\n",
       "2 2  4  6  8\n",
       "3 3  6  9 12\n",
       "4 4  8 12 16\n",
       "5 5 10 15 20"
      ]
     },
     "metadata": {},
     "output_type": "display_data"
    },
    {
     "data": {
      "text/html": [
       "<table>\n",
       "<thead><tr><th scope=col>x</th><th scope=col>y</th></tr></thead>\n",
       "<tbody>\n",
       "\t<tr><td>1 </td><td> 2</td></tr>\n",
       "\t<tr><td>2 </td><td> 4</td></tr>\n",
       "\t<tr><td>3 </td><td> 6</td></tr>\n",
       "\t<tr><td>4 </td><td> 8</td></tr>\n",
       "\t<tr><td>5 </td><td>10</td></tr>\n",
       "\t<tr><td>6 </td><td>12</td></tr>\n",
       "\t<tr><td>7 </td><td>14</td></tr>\n",
       "</tbody>\n",
       "</table>\n"
      ],
      "text/latex": [
       "\\begin{tabular}{r|ll}\n",
       " x & y\\\\\n",
       "\\hline\n",
       "\t 1  &  2\\\\\n",
       "\t 2  &  4\\\\\n",
       "\t 3  &  6\\\\\n",
       "\t 4  &  8\\\\\n",
       "\t 5  & 10\\\\\n",
       "\t 6  & 12\\\\\n",
       "\t 7  & 14\\\\\n",
       "\\end{tabular}\n"
      ],
      "text/markdown": [
       "\n",
       "| x | y |\n",
       "|---|---|\n",
       "| 1  |  2 |\n",
       "| 2  |  4 |\n",
       "| 3  |  6 |\n",
       "| 4  |  8 |\n",
       "| 5  | 10 |\n",
       "| 6  | 12 |\n",
       "| 7  | 14 |\n",
       "\n"
      ],
      "text/plain": [
       "  x y \n",
       "1 1  2\n",
       "2 2  4\n",
       "3 3  6\n",
       "4 4  8\n",
       "5 5 10\n",
       "6 6 12\n",
       "7 7 14"
      ]
     },
     "metadata": {},
     "output_type": "display_data"
    }
   ],
   "source": [
    "#여러개 동시에도 당연히 가능하다\n",
    "sampleDF<- data.frame(x = c(1,2,3,4,5),\n",
    "                      y = c(2,4,6,8,10))\n",
    "new.cols <- data.frame(z=c(3,6,9,12,15),w=c(4,8,12,16,20))\n",
    "cbind(sampleDF,new.cols)\n",
    "\n",
    "new.rows <-data.frame(x=c(6,7),y=c(12,14))\n",
    "rbind(sampleDF,new.rows)"
   ]
  },
  {
   "cell_type": "markdown",
   "id": "positive-preservation",
   "metadata": {},
   "source": [
    "#### merge 함수 (sql에서  join)\n",
    "- cbind 가 의미없는 데이터 프레임을 생성하거나\n",
    "- rbind 자체가 불가능한 경우가 분명히 존재한다\n",
    "- default 값으로 by = by = intersect(names(x), names(y)) 컬럼 이름 같은거 찾는다\n",
    "- 컬럼 이름이 같아도 내부적으로 데이터가 반드시 동일한건 아니다=> inner join 수행 (다른 데이터는 버린다)\n",
    "- 컬럼 이름이 다를땐 by.x = \"\" by.y=\"\" 직접 두 컬럼이 같은 컬럼이라고 연결시켜줄수 있다\n",
    "- all.x =T : left join , all.y=F : right join , all=T full outer join 가능"
   ]
  },
  {
   "cell_type": "code",
   "execution_count": 3,
   "id": "mexican-cookie",
   "metadata": {},
   "outputs": [
    {
     "data": {
      "text/html": [
       "<table>\n",
       "<thead><tr><th scope=col>name</th><th scope=col>math</th><th scope=col>name</th><th scope=col>eng</th></tr></thead>\n",
       "<tbody>\n",
       "\t<tr><td>이순신</td><td>100   </td><td>이순신</td><td> 95   </td></tr>\n",
       "\t<tr><td>강감찬</td><td> 60   </td><td>강감찬</td><td> 80   </td></tr>\n",
       "\t<tr><td>이성계</td><td>100   </td><td>이성계</td><td>100   </td></tr>\n",
       "</tbody>\n",
       "</table>\n"
      ],
      "text/latex": [
       "\\begin{tabular}{r|llll}\n",
       " name & math & name & eng\\\\\n",
       "\\hline\n",
       "\t 이순신 & 100    & 이순신 &  95   \\\\\n",
       "\t 강감찬 &  60    & 강감찬 &  80   \\\\\n",
       "\t 이성계 & 100    & 이성계 & 100   \\\\\n",
       "\\end{tabular}\n"
      ],
      "text/markdown": [
       "\n",
       "| name | math | name | eng |\n",
       "|---|---|---|---|\n",
       "| 이순신 | 100    | 이순신 |  95    |\n",
       "| 강감찬 |  60    | 강감찬 |  80    |\n",
       "| 이성계 | 100    | 이성계 | 100    |\n",
       "\n"
      ],
      "text/plain": [
       "  name   math name   eng\n",
       "1 이순신 100  이순신  95\n",
       "2 강감찬  60  강감찬  80\n",
       "3 이성계 100  이성계 100"
      ]
     },
     "metadata": {},
     "output_type": "display_data"
    },
    {
     "ename": "ERROR",
     "evalue": "Error in match.names(clabs, names(xi)): names do not match previous names\n",
     "output_type": "error",
     "traceback": [
      "Error in match.names(clabs, names(xi)): names do not match previous names\nTraceback:\n",
      "1. rbind(tmp.df01, tmp.df02)",
      "2. rbind(deparse.level, ...)",
      "3. match.names(clabs, names(xi))",
      "4. stop(\"names do not match previous names\")"
     ]
    }
   ],
   "source": [
    "tmp.df01<-data.frame(name = c(\"이순신\",\"강감찬\",\"이성계\"),\n",
    "                     math = c(100,60,100))\n",
    "tmp.df02<-data.frame(name = c(\"이순신\",\"강감찬\",\"이성계\"),\n",
    "                     eng = c(95,80,100))\n",
    "cbind(tmp.df01,tmp.df02)\n",
    "rbind(tmp.df01,tmp.df02) # math eng 다르니깐 rbind 안되지"
   ]
  },
  {
   "cell_type": "code",
   "execution_count": 4,
   "id": "equivalent-ticket",
   "metadata": {},
   "outputs": [
    {
     "data": {
      "text/html": [
       "<table>\n",
       "<thead><tr><th scope=col>name</th><th scope=col>math</th><th scope=col>eng</th></tr></thead>\n",
       "<tbody>\n",
       "\t<tr><td>강감찬</td><td> 60   </td><td> 80   </td></tr>\n",
       "\t<tr><td>이성계</td><td>100   </td><td>100   </td></tr>\n",
       "\t<tr><td>이순신</td><td>100   </td><td> 95   </td></tr>\n",
       "</tbody>\n",
       "</table>\n"
      ],
      "text/latex": [
       "\\begin{tabular}{r|lll}\n",
       " name & math & eng\\\\\n",
       "\\hline\n",
       "\t 강감찬 &  60    &  80   \\\\\n",
       "\t 이성계 & 100    & 100   \\\\\n",
       "\t 이순신 & 100    &  95   \\\\\n",
       "\\end{tabular}\n"
      ],
      "text/markdown": [
       "\n",
       "| name | math | eng |\n",
       "|---|---|---|\n",
       "| 강감찬 |  60    |  80    |\n",
       "| 이성계 | 100    | 100    |\n",
       "| 이순신 | 100    |  95    |\n",
       "\n"
      ],
      "text/plain": [
       "  name   math eng\n",
       "1 강감찬  60   80\n",
       "2 이성계 100  100\n",
       "3 이순신 100   95"
      ]
     },
     "metadata": {},
     "output_type": "display_data"
    }
   ],
   "source": [
    "tmp.df01<-data.frame(name = c(\"이순신\",\"강감찬\",\"이성계\"),\n",
    "                     math = c(100,60,100))\n",
    "tmp.df02<-data.frame(name = c(\"이순신\",\"강감찬\",\"이성계\"),\n",
    "                     eng = c(95,80,100))\n",
    "merge(tmp.df01,tmp.df02)"
   ]
  },
  {
   "cell_type": "code",
   "execution_count": 6,
   "id": "amateur-reservation",
   "metadata": {},
   "outputs": [
    {
     "data": {
      "text/html": [
       "<table>\n",
       "<thead><tr><th scope=col>name</th><th scope=col>math</th><th scope=col>eng</th></tr></thead>\n",
       "<tbody>\n",
       "\t<tr><td>강감찬</td><td> 60   </td><td> 80   </td></tr>\n",
       "\t<tr><td>이성계</td><td>100   </td><td>100   </td></tr>\n",
       "\t<tr><td>이순신</td><td>100   </td><td> 95   </td></tr>\n",
       "</tbody>\n",
       "</table>\n"
      ],
      "text/latex": [
       "\\begin{tabular}{r|lll}\n",
       " name & math & eng\\\\\n",
       "\\hline\n",
       "\t 강감찬 &  60    &  80   \\\\\n",
       "\t 이성계 & 100    & 100   \\\\\n",
       "\t 이순신 & 100    &  95   \\\\\n",
       "\\end{tabular}\n"
      ],
      "text/markdown": [
       "\n",
       "| name | math | eng |\n",
       "|---|---|---|\n",
       "| 강감찬 |  60    |  80    |\n",
       "| 이성계 | 100    | 100    |\n",
       "| 이순신 | 100    |  95    |\n",
       "\n"
      ],
      "text/plain": [
       "  name   math eng\n",
       "1 강감찬  60   80\n",
       "2 이성계 100  100\n",
       "3 이순신 100   95"
      ]
     },
     "metadata": {},
     "output_type": "display_data"
    },
    {
     "data": {
      "text/html": [
       "<table>\n",
       "<thead><tr><th scope=col>name</th><th scope=col>math</th><th scope=col>eng</th></tr></thead>\n",
       "<tbody>\n",
       "\t<tr><td>강감찬</td><td> 60   </td><td> 80   </td></tr>\n",
       "\t<tr><td>이성계</td><td>100   </td><td>100   </td></tr>\n",
       "\t<tr><td>이순신</td><td>100   </td><td> 95   </td></tr>\n",
       "\t<tr><td>이승만</td><td> 70   </td><td> NA   </td></tr>\n",
       "</tbody>\n",
       "</table>\n"
      ],
      "text/latex": [
       "\\begin{tabular}{r|lll}\n",
       " name & math & eng\\\\\n",
       "\\hline\n",
       "\t 강감찬 &  60    &  80   \\\\\n",
       "\t 이성계 & 100    & 100   \\\\\n",
       "\t 이순신 & 100    &  95   \\\\\n",
       "\t 이승만 &  70    &  NA   \\\\\n",
       "\\end{tabular}\n"
      ],
      "text/markdown": [
       "\n",
       "| name | math | eng |\n",
       "|---|---|---|\n",
       "| 강감찬 |  60    |  80    |\n",
       "| 이성계 | 100    | 100    |\n",
       "| 이순신 | 100    |  95    |\n",
       "| 이승만 |  70    |  NA    |\n",
       "\n"
      ],
      "text/plain": [
       "  name   math eng\n",
       "1 강감찬  60   80\n",
       "2 이성계 100  100\n",
       "3 이순신 100   95\n",
       "4 이승만  70   NA"
      ]
     },
     "metadata": {},
     "output_type": "display_data"
    }
   ],
   "source": [
    "tmp.df01<-data.frame(name = c(\"이순신\",\"강감찬\",\"이성계\",\"이승만\"),\n",
    "                     math = c(100,60,100,70))\n",
    "tmp.df02<-data.frame(name = c(\"이순신\",\"강감찬\",\"이성계\"),\n",
    "                     eng = c(95,80,100))\n",
    "merge(tmp.df01,tmp.df02) # inner join\n",
    "merge(tmp.df01,tmp.df02,all.x=T) # left join"
   ]
  },
  {
   "cell_type": "code",
   "execution_count": 7,
   "id": "cleared-pottery",
   "metadata": {},
   "outputs": [
    {
     "data": {
      "text/html": [
       "<table>\n",
       "<thead><tr><th scope=col>name1</th><th scope=col>math</th><th scope=col>eng</th></tr></thead>\n",
       "<tbody>\n",
       "\t<tr><td>강감찬</td><td> 60   </td><td> 80   </td></tr>\n",
       "\t<tr><td>이성계</td><td>100   </td><td>100   </td></tr>\n",
       "\t<tr><td>이순신</td><td>100   </td><td> 95   </td></tr>\n",
       "</tbody>\n",
       "</table>\n"
      ],
      "text/latex": [
       "\\begin{tabular}{r|lll}\n",
       " name1 & math & eng\\\\\n",
       "\\hline\n",
       "\t 강감찬 &  60    &  80   \\\\\n",
       "\t 이성계 & 100    & 100   \\\\\n",
       "\t 이순신 & 100    &  95   \\\\\n",
       "\\end{tabular}\n"
      ],
      "text/markdown": [
       "\n",
       "| name1 | math | eng |\n",
       "|---|---|---|\n",
       "| 강감찬 |  60    |  80    |\n",
       "| 이성계 | 100    | 100    |\n",
       "| 이순신 | 100    |  95    |\n",
       "\n"
      ],
      "text/plain": [
       "  name1  math eng\n",
       "1 강감찬  60   80\n",
       "2 이성계 100  100\n",
       "3 이순신 100   95"
      ]
     },
     "metadata": {},
     "output_type": "display_data"
    }
   ],
   "source": [
    "tmp.df01<-data.frame(name1 = c(\"이순신\",\"강감찬\",\"이성계\",\"이승만\"),\n",
    "                     math = c(100,60,100,70))\n",
    "tmp.df02<-data.frame(name2 = c(\"이순신\",\"강감찬\",\"이성계\"),\n",
    "                     eng = c(95,80,100))\n",
    "merge(tmp.df01,tmp.df02,by.x='name1',by.y='name2')"
   ]
  },
  {
   "cell_type": "code",
   "execution_count": 19,
   "id": "psychological-terrace",
   "metadata": {},
   "outputs": [
    {
     "data": {
      "text/html": [
       "<table>\n",
       "<thead><tr><th></th><th scope=col>name</th><th scope=col>math</th><th scope=col>eng</th></tr></thead>\n",
       "<tbody>\n",
       "\t<tr><th scope=row>1</th><td>이순신</td><td>100   </td><td> 95   </td></tr>\n",
       "\t<tr><th scope=row>3</th><td>이성계</td><td>100   </td><td>100   </td></tr>\n",
       "</tbody>\n",
       "</table>\n"
      ],
      "text/latex": [
       "\\begin{tabular}{r|lll}\n",
       "  & name & math & eng\\\\\n",
       "\\hline\n",
       "\t1 & 이순신 & 100    &  95   \\\\\n",
       "\t3 & 이성계 & 100    & 100   \\\\\n",
       "\\end{tabular}\n"
      ],
      "text/markdown": [
       "\n",
       "| <!--/--> | name | math | eng |\n",
       "|---|---|---|---|\n",
       "| 1 | 이순신 | 100    |  95    |\n",
       "| 3 | 이성계 | 100    | 100    |\n",
       "\n"
      ],
      "text/plain": [
       "  name   math eng\n",
       "1 이순신 100   95\n",
       "3 이성계 100  100"
      ]
     },
     "metadata": {},
     "output_type": "display_data"
    },
    {
     "data": {
      "text/html": [
       "<table>\n",
       "<thead><tr><th></th><th scope=col>name</th><th scope=col>math</th><th scope=col>eng</th></tr></thead>\n",
       "<tbody>\n",
       "\t<tr><th scope=row>3</th><td>이성계</td><td>100   </td><td>100   </td></tr>\n",
       "</tbody>\n",
       "</table>\n"
      ],
      "text/latex": [
       "\\begin{tabular}{r|lll}\n",
       "  & name & math & eng\\\\\n",
       "\\hline\n",
       "\t3 & 이성계 & 100    & 100   \\\\\n",
       "\\end{tabular}\n"
      ],
      "text/markdown": [
       "\n",
       "| <!--/--> | name | math | eng |\n",
       "|---|---|---|---|\n",
       "| 3 | 이성계 | 100    | 100    |\n",
       "\n"
      ],
      "text/plain": [
       "  name   math eng\n",
       "3 이성계 100  100"
      ]
     },
     "metadata": {},
     "output_type": "display_data"
    },
    {
     "data": {
      "text/html": [
       "<table>\n",
       "<thead><tr><th scope=col>name</th><th scope=col>math</th><th scope=col>eng</th></tr></thead>\n",
       "<tbody>\n",
       "\t<tr><td>이성계</td><td>100   </td><td>100   </td></tr>\n",
       "</tbody>\n",
       "</table>\n"
      ],
      "text/latex": [
       "\\begin{tabular}{r|lll}\n",
       " name & math & eng\\\\\n",
       "\\hline\n",
       "\t 이성계 & 100    & 100   \\\\\n",
       "\\end{tabular}\n"
      ],
      "text/markdown": [
       "\n",
       "| name | math | eng |\n",
       "|---|---|---|\n",
       "| 이성계 | 100    | 100    |\n",
       "\n"
      ],
      "text/plain": [
       "  name   math eng\n",
       "1 이성계 100  100"
      ]
     },
     "metadata": {},
     "output_type": "display_data"
    }
   ],
   "source": [
    "#수학 100점 이면서 동시에 영어 100점\n",
    "df01<-data.frame(name = c(\"이순신\",\"강감찬\",\"이성계\"),\n",
    "                     math = c(100,60,100),\n",
    "                     eng = c(95,80,100))\n",
    "df01.math100 <- df01[df01$math==100,]\n",
    "df01.math100\n",
    "df01.eng100 <- df01[df01$eng==100,]\n",
    "df01.eng100\n",
    "\n",
    "merge(df01.math100,df01.eng100)"
   ]
  },
  {
   "cell_type": "markdown",
   "id": "toxic-brooklyn",
   "metadata": {},
   "source": [
    "#### match\n",
    "- match를 이용해서 merge 구현 해볼 수 있다\n",
    "- 두 벡터의 원소가 일치하는 위치 인덱스 반환 "
   ]
  },
  {
   "cell_type": "code",
   "execution_count": 32,
   "id": "funky-throw",
   "metadata": {},
   "outputs": [
    {
     "data": {
      "text/html": [
       "1"
      ],
      "text/latex": [
       "1"
      ],
      "text/markdown": [
       "1"
      ],
      "text/plain": [
       "[1] 1"
      ]
     },
     "metadata": {},
     "output_type": "display_data"
    },
    {
     "data": {
      "text/html": [
       "4"
      ],
      "text/latex": [
       "4"
      ],
      "text/markdown": [
       "4"
      ],
      "text/plain": [
       "[1] 4"
      ]
     },
     "metadata": {},
     "output_type": "display_data"
    }
   ],
   "source": [
    "x<-c(1,2,3,4,4)\n",
    "match(1,x)\n",
    "match(4,x) # 처음꺼네"
   ]
  },
  {
   "cell_type": "code",
   "execution_count": 30,
   "id": "auburn-potter",
   "metadata": {},
   "outputs": [
    {
     "data": {
      "text/html": [
       "<table>\n",
       "<thead><tr><th></th><th scope=col>name</th><th scope=col>math</th><th scope=col>eng</th></tr></thead>\n",
       "<tbody>\n",
       "\t<tr><th scope=row>1</th><td>이순신</td><td>100   </td><td> 95   </td></tr>\n",
       "\t<tr><th scope=row>3</th><td>이성계</td><td>100   </td><td>100   </td></tr>\n",
       "</tbody>\n",
       "</table>\n"
      ],
      "text/latex": [
       "\\begin{tabular}{r|lll}\n",
       "  & name & math & eng\\\\\n",
       "\\hline\n",
       "\t1 & 이순신 & 100    &  95   \\\\\n",
       "\t3 & 이성계 & 100    & 100   \\\\\n",
       "\\end{tabular}\n"
      ],
      "text/markdown": [
       "\n",
       "| <!--/--> | name | math | eng |\n",
       "|---|---|---|---|\n",
       "| 1 | 이순신 | 100    |  95    |\n",
       "| 3 | 이성계 | 100    | 100    |\n",
       "\n"
      ],
      "text/plain": [
       "  name   math eng\n",
       "1 이순신 100   95\n",
       "3 이성계 100  100"
      ]
     },
     "metadata": {},
     "output_type": "display_data"
    },
    {
     "data": {
      "text/html": [
       "<table>\n",
       "<thead><tr><th></th><th scope=col>name</th><th scope=col>math</th><th scope=col>eng</th></tr></thead>\n",
       "<tbody>\n",
       "\t<tr><th scope=row>3</th><td>이성계</td><td>100   </td><td>100   </td></tr>\n",
       "</tbody>\n",
       "</table>\n"
      ],
      "text/latex": [
       "\\begin{tabular}{r|lll}\n",
       "  & name & math & eng\\\\\n",
       "\\hline\n",
       "\t3 & 이성계 & 100    & 100   \\\\\n",
       "\\end{tabular}\n"
      ],
      "text/markdown": [
       "\n",
       "| <!--/--> | name | math | eng |\n",
       "|---|---|---|---|\n",
       "| 3 | 이성계 | 100    | 100    |\n",
       "\n"
      ],
      "text/plain": [
       "  name   math eng\n",
       "3 이성계 100  100"
      ]
     },
     "metadata": {},
     "output_type": "display_data"
    },
    {
     "data": {
      "text/html": [
       "<ol class=list-inline>\n",
       "\t<li>&lt;NA&gt;</li>\n",
       "\t<li>1</li>\n",
       "</ol>\n"
      ],
      "text/latex": [
       "\\begin{enumerate*}\n",
       "\\item <NA>\n",
       "\\item 1\n",
       "\\end{enumerate*}\n"
      ],
      "text/markdown": [
       "1. &lt;NA&gt;\n",
       "2. 1\n",
       "\n",
       "\n"
      ],
      "text/plain": [
       "[1] NA  1"
      ]
     },
     "metadata": {},
     "output_type": "display_data"
    },
    {
     "data": {
      "text/html": [
       "<table>\n",
       "<thead><tr><th></th><th scope=col>name</th><th scope=col>math</th><th scope=col>eng</th></tr></thead>\n",
       "<tbody>\n",
       "\t<tr><th scope=row>3</th><td>이성계</td><td>100   </td><td>100   </td></tr>\n",
       "</tbody>\n",
       "</table>\n"
      ],
      "text/latex": [
       "\\begin{tabular}{r|lll}\n",
       "  & name & math & eng\\\\\n",
       "\\hline\n",
       "\t3 & 이성계 & 100    & 100   \\\\\n",
       "\\end{tabular}\n"
      ],
      "text/markdown": [
       "\n",
       "| <!--/--> | name | math | eng |\n",
       "|---|---|---|---|\n",
       "| 3 | 이성계 | 100    | 100    |\n",
       "\n"
      ],
      "text/plain": [
       "  name   math eng\n",
       "3 이성계 100  100"
      ]
     },
     "metadata": {},
     "output_type": "display_data"
    }
   ],
   "source": [
    "df01<-data.frame(name = c(\"이순신\",\"강감찬\",\"이성계\"),\n",
    "                     math = c(100,60,100),\n",
    "                     eng = c(95,80,100))\n",
    "df01.math100 <- df01[df01$math==100,]\n",
    "df01.math100\n",
    "df01.eng100 <- df01[df01$eng==100,]\n",
    "df01.eng100\n",
    "\n",
    "index<-match(row.names(df01.math100),row.names(df01.eng100))\n",
    "index\n",
    "df01.eng100[na.omit(index),]"
   ]
  },
  {
   "cell_type": "markdown",
   "id": "urban-suffering",
   "metadata": {},
   "source": [
    "#### 데이터 프레임에서 factor \n",
    "- R 버전 3. 에서는 character vecter 는 자동으로 factor 처리\n",
    "- R 버전 4. 에서는 아니다"
   ]
  },
  {
   "cell_type": "code",
   "execution_count": 67,
   "id": "described-mechanics",
   "metadata": {},
   "outputs": [
    {
     "name": "stdout",
     "output_type": "stream",
     "text": [
      "'data.frame':\t3 obs. of  3 variables:\n",
      " $ id    : num  100 200 300\n",
      " $ name  : Factor w/ 3 levels \"이순신\",\"이철수\",..: 2 1 3\n",
      " $ salary: num  1e+05 2e+05 3e+05\n",
      "'data.frame':\t3 obs. of  3 variables:\n",
      " $ id    : num  100 200 300\n",
      " $ name  : chr  \"이철수\" \"이순신\" \"홍길동\"\n",
      " $ salary: num  1e+05 2e+05 3e+05\n"
     ]
    }
   ],
   "source": [
    "id <- c(100,200,300)\n",
    "name<-c(\"이철수\",\"이순신\",\"홍길동\")\n",
    "salary<-c(100000,200000,300000)\n",
    "df01 <- data.frame(id,name,salary)\n",
    "str(df01)\n",
    "\n",
    "df01 <- data.frame(id,name,salary,stringsAsFactors = F)\n",
    "str(df01)"
   ]
  },
  {
   "cell_type": "code",
   "execution_count": 70,
   "id": "planned-algebra",
   "metadata": {},
   "outputs": [
    {
     "name": "stdout",
     "output_type": "stream",
     "text": [
      "'data.frame':\t3 obs. of  3 variables:\n",
      " $ id    : num  100 200 300\n",
      " $ name  : Factor w/ 3 levels \"이순신\",\"이철수\",..: 2 1 3\n",
      " $ salary: num  1e+05 2e+05 3e+05\n"
     ]
    }
   ],
   "source": [
    "# column 을 factor update \n",
    "df01 <- data.frame(id,name,salary,stringsAsFactors = F)\n",
    "df01$name <- as.factor(df01$name)\n",
    "str(df01)"
   ]
  }
 ],
 "metadata": {
  "kernelspec": {
   "display_name": "R",
   "language": "R",
   "name": "ir"
  },
  "language_info": {
   "codemirror_mode": "r",
   "file_extension": ".r",
   "mimetype": "text/x-r-source",
   "name": "R",
   "pygments_lexer": "r",
   "version": "3.6.1"
  }
 },
 "nbformat": 4,
 "nbformat_minor": 5
}
