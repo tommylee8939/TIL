{
 "cells": [
  {
   "cell_type": "markdown",
   "id": "efficient-month",
   "metadata": {},
   "source": [
    "## R07 ; list\n",
    "- 리스트는 벡터나 행렬과 달리 서로 다른 데이터의 유형을 수용 가능"
   ]
  },
  {
   "cell_type": "markdown",
   "id": "royal-reset",
   "metadata": {},
   "source": [
    "#### list 생성\n",
    "- list()"
   ]
  },
  {
   "cell_type": "code",
   "execution_count": 1,
   "id": "frequent-davis",
   "metadata": {},
   "outputs": [
    {
     "name": "stdout",
     "output_type": "stream",
     "text": [
      "[[1]]\n",
      "[1] 1.23\n",
      "\n",
      "[[2]]\n",
      "[1] \"Apple\"\n",
      "\n",
      "[[3]]\n",
      "[1] 2 3 4\n",
      "\n",
      "[[4]]\n",
      "     [,1] [,2]\n",
      "[1,]    1    4\n",
      "[2,]    2    5\n",
      "[3,]    3    6\n",
      "\n",
      "[[5]]\n",
      "function (x, ...) \n",
      "UseMethod(\"mean\")\n",
      "<bytecode: 0x7fc1580c3958>\n",
      "<environment: namespace:base>\n",
      "\n"
     ]
    }
   ],
   "source": [
    "# scalar vector matrix array function 다된다\n",
    "lst01<- list(1.23,\"Apple\",c(2,3,4),matrix(1:6,3),mean)\n",
    "print(lst01)\n"
   ]
  },
  {
   "cell_type": "code",
   "execution_count": 3,
   "id": "lyric-welcome",
   "metadata": {},
   "outputs": [
    {
     "name": "stdout",
     "output_type": "stream",
     "text": [
      "$a\n",
      "[1] 1.23\n",
      "\n",
      "$b\n",
      "[1] \"Apple\"\n",
      "\n",
      "$c\n",
      "[1] 2 3 4\n",
      "\n",
      "$d\n",
      "     [,1] [,2]\n",
      "[1,]    1    4\n",
      "[2,]    2    5\n",
      "[3,]    3    6\n",
      "\n",
      "$e\n",
      "function (x, ...) \n",
      "UseMethod(\"mean\")\n",
      "<bytecode: 0x7fc1580c3958>\n",
      "<environment: namespace:base>\n",
      "\n"
     ]
    }
   ],
   "source": [
    "lst02<- list(a=1.23,b=\"Apple\",c=c(2,3,4),d=matrix(1:6,3),e=mean)\n",
    "print(lst02)"
   ]
  },
  {
   "cell_type": "code",
   "execution_count": 4,
   "id": "drawn-metallic",
   "metadata": {},
   "outputs": [
    {
     "name": "stdout",
     "output_type": "stream",
     "text": [
      "[[1]]\n",
      "[1] 1 2 3\n",
      "\n",
      "[[2]]\n",
      "     [,1] [,2] [,3]\n",
      "[1,]    1    4    7\n",
      "[2,]    2    5    8\n",
      "[3,]    3    6    9\n",
      "\n",
      "$c\n",
      "$c[[1]]\n",
      "$c[[1]]$a\n",
      "[1] 1.23\n",
      "\n",
      "$c[[1]]$b\n",
      "[1] \"Apple\"\n",
      "\n",
      "$c[[1]]$c\n",
      "[1] 2 3 4\n",
      "\n",
      "$c[[1]]$d\n",
      "     [,1] [,2]\n",
      "[1,]    1    4\n",
      "[2,]    2    5\n",
      "[3,]    3    6\n",
      "\n",
      "$c[[1]]$e\n",
      "function (x, ...) \n",
      "UseMethod(\"mean\")\n",
      "<bytecode: 0x7fc1580c3958>\n",
      "<environment: namespace:base>\n",
      "\n",
      "\n",
      "\n"
     ]
    }
   ],
   "source": [
    "lst03 <-list()\n",
    "lst03[[1]]<-c(1,2,3)\n",
    "lst03[[2]]<-matrix(1:9,3)\n",
    "lst03$c <- list(lst02)\n",
    "print(lst03)"
   ]
  },
  {
   "cell_type": "markdown",
   "id": "atmospheric-split",
   "metadata": {},
   "source": [
    "#### List 결합\n",
    "- c 함수 이용"
   ]
  },
  {
   "cell_type": "code",
   "execution_count": 36,
   "id": "understanding-xerox",
   "metadata": {},
   "outputs": [
    {
     "name": "stdout",
     "output_type": "stream",
     "text": [
      "List of 4\n",
      " $ a: int [1:10] 1 2 3 4 5 6 7 8 9 10\n",
      " $ b: int [1:10] 1 2 3 4 5 6 7 8 9 10\n",
      " $ c: int [1:10] 1 2 3 4 5 6 7 8 9 10\n",
      " $ d: int [1:10] 1 2 3 4 5 6 7 8 9 10\n"
     ]
    }
   ],
   "source": [
    "lst01<-list(a=1:10,b=1:10)\n",
    "lst02<-list(c=1:10,d=1:10)\n",
    "lst03<-c(lst01,lst02)\n",
    "str(lst03)"
   ]
  },
  {
   "cell_type": "markdown",
   "id": "identical-fishing",
   "metadata": {},
   "source": [
    "#### List indexing ; 벡터 행렬과 다르다\n",
    "- 1.  [[ ]]            ; 원소 자체의 형식 반환 \n",
    "- 2.  \\$               ; 원소 자체의 형식 반환\n",
    "- 3.  \\[ \\]            ; list 반환\n",
    "- 4.  [\"element_name\"] ; list 반환"
   ]
  },
  {
   "cell_type": "code",
   "execution_count": 13,
   "id": "fifth-indonesian",
   "metadata": {},
   "outputs": [
    {
     "data": {
      "text/html": [
       "<ol class=list-inline>\n",
       "\t<li>'이강희'</li>\n",
       "\t<li>'kangheelee'</li>\n",
       "</ol>\n"
      ],
      "text/latex": [
       "\\begin{enumerate*}\n",
       "\\item '이강희'\n",
       "\\item 'kangheelee'\n",
       "\\end{enumerate*}\n"
      ],
      "text/markdown": [
       "1. '이강희'\n",
       "2. 'kangheelee'\n",
       "\n",
       "\n"
      ],
      "text/plain": [
       "[1] \"이강희\"     \"kangheelee\""
      ]
     },
     "metadata": {},
     "output_type": "display_data"
    },
    {
     "data": {
      "text/html": [
       "'character'"
      ],
      "text/latex": [
       "'character'"
      ],
      "text/markdown": [
       "'character'"
      ],
      "text/plain": [
       "[1] \"character\""
      ]
     },
     "metadata": {},
     "output_type": "display_data"
    },
    {
     "data": {
      "text/html": [
       "<ol class=list-inline>\n",
       "\t<li>'이강희'</li>\n",
       "\t<li>'kangheelee'</li>\n",
       "</ol>\n"
      ],
      "text/latex": [
       "\\begin{enumerate*}\n",
       "\\item '이강희'\n",
       "\\item 'kangheelee'\n",
       "\\end{enumerate*}\n"
      ],
      "text/markdown": [
       "1. '이강희'\n",
       "2. 'kangheelee'\n",
       "\n",
       "\n"
      ],
      "text/plain": [
       "[1] \"이강희\"     \"kangheelee\""
      ]
     },
     "metadata": {},
     "output_type": "display_data"
    },
    {
     "data": {
      "text/html": [
       "'character'"
      ],
      "text/latex": [
       "'character'"
      ],
      "text/markdown": [
       "'character'"
      ],
      "text/plain": [
       "[1] \"character\""
      ]
     },
     "metadata": {},
     "output_type": "display_data"
    },
    {
     "data": {
      "text/html": [
       "<ol class=list-inline>\n",
       "\t<li>'이강희'</li>\n",
       "\t<li>'kangheelee'</li>\n",
       "</ol>\n"
      ],
      "text/latex": [
       "\\begin{enumerate*}\n",
       "\\item '이강희'\n",
       "\\item 'kangheelee'\n",
       "\\end{enumerate*}\n"
      ],
      "text/markdown": [
       "1. '이강희'\n",
       "2. 'kangheelee'\n",
       "\n",
       "\n"
      ],
      "text/plain": [
       "[1] \"이강희\"     \"kangheelee\""
      ]
     },
     "metadata": {},
     "output_type": "display_data"
    },
    {
     "data": {
      "text/html": [
       "'character'"
      ],
      "text/latex": [
       "'character'"
      ],
      "text/markdown": [
       "'character'"
      ],
      "text/plain": [
       "[1] \"character\""
      ]
     },
     "metadata": {},
     "output_type": "display_data"
    }
   ],
   "source": [
    "# 1.[[]] 2. $\n",
    "userInfo <- list(name     = c('이강희','kangheelee')  , \n",
    "                 address  = c('seoul', 'seoul') ,\n",
    "                 tel      = c('010-1111-2222','010-3333-4444') , \n",
    "                 age      = c(20, 30) , \n",
    "                 marriage = c(F,T) )\n",
    "\n",
    "userInfo[[1]]\n",
    "class(userInfo[[1]])\n",
    "userInfo[[\"name\"]]\n",
    "class(userInfo[[\"name\"]])\n",
    "userInfo$name\n",
    "class(userInfo$name)"
   ]
  },
  {
   "cell_type": "code",
   "execution_count": 6,
   "id": "cubic-paintball",
   "metadata": {},
   "outputs": [
    {
     "name": "stdout",
     "output_type": "stream",
     "text": [
      "$name\n",
      "[1] \"이강희\"     \"kangheelee\"\n",
      "\n"
     ]
    },
    {
     "data": {
      "text/html": [
       "'list'"
      ],
      "text/latex": [
       "'list'"
      ],
      "text/markdown": [
       "'list'"
      ],
      "text/plain": [
       "[1] \"list\""
      ]
     },
     "metadata": {},
     "output_type": "display_data"
    },
    {
     "name": "stdout",
     "output_type": "stream",
     "text": [
      "$name\n",
      "[1] \"이강희\"     \"kangheelee\"\n",
      "\n"
     ]
    },
    {
     "data": {
      "text/html": [
       "'list'"
      ],
      "text/latex": [
       "'list'"
      ],
      "text/markdown": [
       "'list'"
      ],
      "text/plain": [
       "[1] \"list\""
      ]
     },
     "metadata": {},
     "output_type": "display_data"
    }
   ],
   "source": [
    "# 3. [] 4.[\"element name\"]\n",
    "userInfo <- list(name     = c('이강희','kangheelee')  , \n",
    "                 address  = c('seoul', 'seoul') ,\n",
    "                 tel      = c('010-1111-2222','010-3333-4444') , \n",
    "                 age      = c(20, 30) , \n",
    "                 marriage = c(F,T) )\n",
    "\n",
    "print(userInfo[1])\n",
    "class(userInfo[1])\n",
    "print(userInfo[\"name\"])\n",
    "class(userInfo[\"name\"])\n"
   ]
  },
  {
   "cell_type": "markdown",
   "id": "atmospheric-facial",
   "metadata": {},
   "source": [
    "#### 리스트의 원소 변경\n",
    "- 어떻게 indexing 으로 접근하냐에 따라 방법이 다 다르다"
   ]
  },
  {
   "cell_type": "code",
   "execution_count": 26,
   "id": "increased-savannah",
   "metadata": {},
   "outputs": [
    {
     "data": {
      "text/html": [
       "<ol class=list-inline>\n",
       "\t<li>'이'</li>\n",
       "\t<li>'kangheelee'</li>\n",
       "</ol>\n"
      ],
      "text/latex": [
       "\\begin{enumerate*}\n",
       "\\item '이'\n",
       "\\item 'kangheelee'\n",
       "\\end{enumerate*}\n"
      ],
      "text/markdown": [
       "1. '이'\n",
       "2. 'kangheelee'\n",
       "\n",
       "\n"
      ],
      "text/plain": [
       "[1] \"이\"         \"kangheelee\""
      ]
     },
     "metadata": {},
     "output_type": "display_data"
    },
    {
     "data": {
      "text/html": [
       "<ol class=list-inline>\n",
       "\t<li>'강'</li>\n",
       "\t<li>'kangheelee'</li>\n",
       "</ol>\n"
      ],
      "text/latex": [
       "\\begin{enumerate*}\n",
       "\\item '강'\n",
       "\\item 'kangheelee'\n",
       "\\end{enumerate*}\n"
      ],
      "text/markdown": [
       "1. '강'\n",
       "2. 'kangheelee'\n",
       "\n",
       "\n"
      ],
      "text/plain": [
       "[1] \"강\"         \"kangheelee\""
      ]
     },
     "metadata": {},
     "output_type": "display_data"
    },
    {
     "data": {
      "text/html": [
       "<ol class=list-inline>\n",
       "\t<li>'희'</li>\n",
       "\t<li>'kangheelee'</li>\n",
       "</ol>\n"
      ],
      "text/latex": [
       "\\begin{enumerate*}\n",
       "\\item '희'\n",
       "\\item 'kangheelee'\n",
       "\\end{enumerate*}\n"
      ],
      "text/markdown": [
       "1. '희'\n",
       "2. 'kangheelee'\n",
       "\n",
       "\n"
      ],
      "text/plain": [
       "[1] \"희\"         \"kangheelee\""
      ]
     },
     "metadata": {},
     "output_type": "display_data"
    }
   ],
   "source": [
    "userInfo <- list(name     = c('이강희','kangheelee')  , \n",
    "                 address  = c('seoul', 'seoul') )\n",
    "#밑에 3가지 방법 다 동일\n",
    "userInfo[[1]][1]<-\"이\"\n",
    "userInfo$name\n",
    "userInfo[[\"name\"]][1]<-\"강\"\n",
    "userInfo$name\n",
    "userInfo$name[1]<-\"희\"\n",
    "userInfo$name"
   ]
  },
  {
   "cell_type": "code",
   "execution_count": 30,
   "id": "trying-rough",
   "metadata": {},
   "outputs": [
    {
     "data": {
      "text/html": [
       "<ol class=list-inline>\n",
       "\t<li>'이'</li>\n",
       "\t<li>'kangheelee'</li>\n",
       "</ol>\n"
      ],
      "text/latex": [
       "\\begin{enumerate*}\n",
       "\\item '이'\n",
       "\\item 'kangheelee'\n",
       "\\end{enumerate*}\n"
      ],
      "text/markdown": [
       "1. '이'\n",
       "2. 'kangheelee'\n",
       "\n",
       "\n"
      ],
      "text/plain": [
       "[1] \"이\"         \"kangheelee\""
      ]
     },
     "metadata": {},
     "output_type": "display_data"
    },
    {
     "data": {
      "text/html": [
       "<ol class=list-inline>\n",
       "\t<li>'이'</li>\n",
       "\t<li>'kangheelee'</li>\n",
       "</ol>\n"
      ],
      "text/latex": [
       "\\begin{enumerate*}\n",
       "\\item '이'\n",
       "\\item 'kangheelee'\n",
       "\\end{enumerate*}\n"
      ],
      "text/markdown": [
       "1. '이'\n",
       "2. 'kangheelee'\n",
       "\n",
       "\n"
      ],
      "text/plain": [
       "[1] \"이\"         \"kangheelee\""
      ]
     },
     "metadata": {},
     "output_type": "display_data"
    }
   ],
   "source": [
    "userInfo <- list(name     = c('이강희','kangheelee')  , \n",
    "                 address  = c('seoul', 'seoul') )\n",
    "#리스트 차원에서의 접근\n",
    "userInfo[1] <- list(name =c(\"이\",\"kangheelee\"))\n",
    "userInfo$name\n",
    "userInfo[\"name\"]<-list(name =c(\"이\",\"kangheelee\"))\n",
    "userInfo$name"
   ]
  },
  {
   "cell_type": "code",
   "execution_count": 7,
   "id": "interesting-senator",
   "metadata": {},
   "outputs": [
    {
     "name": "stdout",
     "output_type": "stream",
     "text": [
      "$name\n",
      "[1] \"이\"         \"kangheelee\"\n",
      "\n",
      "$address\n",
      "[1] \"경기\"  \"seoul\"\n",
      "\n",
      "$name\n",
      "[1] \"이\"         \"kangheelee\"\n",
      "\n",
      "$address\n",
      "[1] \"경기\"  \"seoul\"\n",
      "\n"
     ]
    }
   ],
   "source": [
    "# 두개이상의 원소 동시변경\n",
    "userInfo <- list(name     = c('이강희','kangheelee')  , \n",
    "                 address  = c('seoul', 'seoul') )\n",
    "userInfo[1:2] <- list(name = c('이','kangheelee')  , \n",
    "                 address  = c('경기', 'seoul') )\n",
    "print(userInfo)\n",
    "userInfo[1:2] <- c(list(name = c('이','kangheelee')), \n",
    "                 list(address  = c('경기', 'seoul')))\n",
    "print(userInfo)"
   ]
  },
  {
   "cell_type": "markdown",
   "id": "sweet-fifth",
   "metadata": {},
   "source": [
    "#### 원소 key 이름 변경"
   ]
  },
  {
   "cell_type": "code",
   "execution_count": 35,
   "id": "incident-minimum",
   "metadata": {},
   "outputs": [
    {
     "data": {
      "text/html": [
       "<ol class=list-inline>\n",
       "\t<li>'name'</li>\n",
       "\t<li>'address'</li>\n",
       "</ol>\n"
      ],
      "text/latex": [
       "\\begin{enumerate*}\n",
       "\\item 'name'\n",
       "\\item 'address'\n",
       "\\end{enumerate*}\n"
      ],
      "text/markdown": [
       "1. 'name'\n",
       "2. 'address'\n",
       "\n",
       "\n"
      ],
      "text/plain": [
       "[1] \"name\"    \"address\""
      ]
     },
     "metadata": {},
     "output_type": "display_data"
    },
    {
     "data": {
      "text/html": [
       "<ol class=list-inline>\n",
       "\t<li>'이름'</li>\n",
       "\t<li>'주소'</li>\n",
       "</ol>\n"
      ],
      "text/latex": [
       "\\begin{enumerate*}\n",
       "\\item '이름'\n",
       "\\item '주소'\n",
       "\\end{enumerate*}\n"
      ],
      "text/markdown": [
       "1. '이름'\n",
       "2. '주소'\n",
       "\n",
       "\n"
      ],
      "text/plain": [
       "[1] \"이름\" \"주소\""
      ]
     },
     "metadata": {},
     "output_type": "display_data"
    }
   ],
   "source": [
    "userInfo <- list(name     = c('이강희','kangheelee')  , \n",
    "                 address  = c('seoul', 'seoul') )\n",
    "names(userInfo)\n",
    "names(userInfo)<-c(\"이름\",\"주소\")\n",
    "names(userInfo)"
   ]
  },
  {
   "cell_type": "markdown",
   "id": "solid-housing",
   "metadata": {},
   "source": [
    "#### 새로운 값을 추가 제거\n",
    "- $ 이용해서 쉽게 가능"
   ]
  },
  {
   "cell_type": "code",
   "execution_count": 8,
   "id": "coastal-cemetery",
   "metadata": {},
   "outputs": [
    {
     "name": "stdout",
     "output_type": "stream",
     "text": [
      "$name\n",
      "[1] \"이강희\"     \"kangheelee\"\n",
      "\n",
      "$address\n",
      "[1] \"seoul\" \"seoul\"\n",
      "\n",
      "$tel\n",
      "[1] \"010-1111-2222\" \"010-3333-4444\"\n",
      "\n",
      "$age\n",
      "[1] 20 30\n",
      "\n",
      "$marriage\n",
      "[1] FALSE  TRUE\n",
      "\n",
      "$id\n",
      "[1] \"show3305\" \"show9033\"\n",
      "\n"
     ]
    }
   ],
   "source": [
    "#추가\n",
    "userInfo <- list(name     = c('이강희','kangheelee')  , \n",
    "                 address  = c('seoul', 'seoul') ,\n",
    "                 tel      = c('010-1111-2222','010-3333-4444') , \n",
    "                 age      = c(20, 30) , \n",
    "                 marriage = c(F,T) )\n",
    "userInfo$id <- c('show3305',\"show9033\")\n",
    "print(userInfo)"
   ]
  },
  {
   "cell_type": "code",
   "execution_count": 9,
   "id": "characteristic-fetish",
   "metadata": {},
   "outputs": [
    {
     "name": "stdout",
     "output_type": "stream",
     "text": [
      "$name\n",
      "[1] \"이강희\"     \"kangheelee\"\n",
      "\n",
      "$address\n",
      "[1] \"seoul\" \"seoul\"\n",
      "\n",
      "$tel\n",
      "[1] \"010-1111-2222\" \"010-3333-4444\"\n",
      "\n",
      "$age\n",
      "[1] 20 30\n",
      "\n",
      "$marriage\n",
      "[1] FALSE  TRUE\n",
      "\n"
     ]
    }
   ],
   "source": [
    "#삭제\n",
    "userInfo <- list(name     = c('이강희','kangheelee')  , \n",
    "                 address  = c('seoul', 'seoul') ,\n",
    "                 tel      = c('010-1111-2222','010-3333-4444') , \n",
    "                 age      = c(20, 30) , \n",
    "                 marriage = c(F,T) )\n",
    "userInfo$id <- NULL\n",
    "print(userInfo)"
   ]
  },
  {
   "cell_type": "markdown",
   "id": "noted-leader",
   "metadata": {},
   "source": [
    "#### 다양한 데이터 타입 담을때 헷갈릴수 있다"
   ]
  },
  {
   "cell_type": "code",
   "execution_count": 23,
   "id": "strong-alarm",
   "metadata": {},
   "outputs": [
    {
     "name": "stdout",
     "output_type": "stream",
     "text": [
      "List of 6\n",
      " $      : num 1\n",
      " $      : num 2\n",
      " $      :List of 3\n",
      "  ..$ one  : chr [1:3] \"one\" \"two\" \"three\"\n",
      "  ..$ two  : int [1:3, 1:3] 1 2 3 4 5 6 7 8 9\n",
      "  ..$ three: int [1:2, 1:3, 1:2] 1 2 3 4 5 6 7 8 9 10 ...\n",
      " $ one  : chr [1:3] \"one\" \"two\" \"three\"\n",
      " $ two  : int [1:3, 1:3] 1 2 3 4 5 6 7 8 9\n",
      " $ three: int [1:2, 1:3, 1:2] 1 2 3 4 5 6 7 8 9 10 ...\n"
     ]
    }
   ],
   "source": [
    "lst01 <- list(one=c(\"one\",\"two\",\"three\"),\n",
    "              two = matrix(1:9,ncol=3),\n",
    "              three = array(1:12,dim=c(2,3,2)))\n",
    "\n",
    "newList <- c(list(1,2,lst01),lst01)\n",
    "str(newList)"
   ]
  }
 ],
 "metadata": {
  "kernelspec": {
   "display_name": "R",
   "language": "R",
   "name": "ir"
  },
  "language_info": {
   "codemirror_mode": "r",
   "file_extension": ".r",
   "mimetype": "text/x-r-source",
   "name": "R",
   "pygments_lexer": "r",
   "version": "3.6.1"
  }
 },
 "nbformat": 4,
 "nbformat_minor": 5
}
