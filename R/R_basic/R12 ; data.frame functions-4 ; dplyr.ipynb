{
 "cells": [
  {
   "cell_type": "markdown",
   "id": "minute-financing",
   "metadata": {},
   "source": [
    "## R12 ; data.frame functions-4 ; dplyr"
   ]
  },
  {
   "cell_type": "markdown",
   "id": "compatible-industry",
   "metadata": {},
   "source": [
    "#### 대표적인 함수들\n",
    "- filter() : 지정한 조건식에 맞는 데이터 추출\n",
    "- select() : 열 추출\n",
    "- mutate() : 열 추가 \n",
    "- arrange(): 정렬\n",
    "- group_by() : 그룹\n",
    "- summarise(): 집계"
   ]
  },
  {
   "cell_type": "markdown",
   "id": "rapid-navigation",
   "metadata": {},
   "source": [
    "- 데이터 전처리의 대부분은 주어진 데이터를 분할하고 , 함수를 적용하고 , 결과들을 다시 결합하는 일련의 과정으로 이루어진다. 이러한 일련의 과정을 SAC(Split Apply Combine) 이라고 한다. \n",
    "- dplyr 패키지 에서는 이러한 계산의 과정을 보다 간략하게 처리하기 위해서 pipe operator  %>% 을 제공한다. 파이프 연산자를 통해 출력 결과 혹은 데이터를 변수 값에 저장할 필요없이 다음 함수의 첫번째 인수로 전달한다\n",
    "- dply 패키지는 tbl_df() 함수를 통해 데이터 프레임을 tbl 객체로 변환할 수 있다. tibble 객체는 내부에 데이터 프레임을 품고있음으로 동일하게 취급해도 좋다\n",
    "- tbl 객체를 사용하는 이유는 열이 너무 많을시 구조나 출력값을 확인하기 힘들 수 있다. 이때 tbl 객체는 한 콘솔 화면에 데이터가 잘 식별되게 보여준다"
   ]
  },
  {
   "cell_type": "code",
   "execution_count": 67,
   "id": "revised-detection",
   "metadata": {},
   "outputs": [
    {
     "name": "stdout",
     "output_type": "stream",
     "text": [
      "# A tibble: 150 x 5\n",
      "   Sepal.Length Sepal.Width Petal.Length Petal.Width Species\n",
      "          <dbl>       <dbl>        <dbl>       <dbl> <fct>  \n",
      " 1          5.1         3.5          1.4         0.2 setosa \n",
      " 2          4.9         3            1.4         0.2 setosa \n",
      " 3          4.7         3.2          1.3         0.2 setosa \n",
      " 4          4.6         3.1          1.5         0.2 setosa \n",
      " 5          5           3.6          1.4         0.2 setosa \n",
      " 6          5.4         3.9          1.7         0.4 setosa \n",
      " 7          4.6         3.4          1.4         0.3 setosa \n",
      " 8          5           3.4          1.5         0.2 setosa \n",
      " 9          4.4         2.9          1.4         0.2 setosa \n",
      "10          4.9         3.1          1.5         0.1 setosa \n",
      "# … with 140 more rows\n"
     ]
    },
    {
     "data": {
      "text/html": [
       "<ol class=list-inline>\n",
       "\t<li>'tbl_df'</li>\n",
       "\t<li>'tbl'</li>\n",
       "\t<li>'data.frame'</li>\n",
       "</ol>\n"
      ],
      "text/latex": [
       "\\begin{enumerate*}\n",
       "\\item 'tbl\\_df'\n",
       "\\item 'tbl'\n",
       "\\item 'data.frame'\n",
       "\\end{enumerate*}\n"
      ],
      "text/markdown": [
       "1. 'tbl_df'\n",
       "2. 'tbl'\n",
       "3. 'data.frame'\n",
       "\n",
       "\n"
      ],
      "text/plain": [
       "[1] \"tbl_df\"     \"tbl\"        \"data.frame\""
      ]
     },
     "metadata": {},
     "output_type": "display_data"
    }
   ],
   "source": [
    "#tbl_df\n",
    "print(tbl_df(iris))\n",
    "class(tbl_df(iris))\n",
    "#as.data.frame 통해 다시 원상복구 가능하다"
   ]
  },
  {
   "cell_type": "code",
   "execution_count": 1,
   "id": "discrete-provision",
   "metadata": {},
   "outputs": [
    {
     "name": "stderr",
     "output_type": "stream",
     "text": [
      "\n",
      "Attaching package: ‘dplyr’\n",
      "\n",
      "The following objects are masked from ‘package:stats’:\n",
      "\n",
      "    filter, lag\n",
      "\n",
      "The following objects are masked from ‘package:base’:\n",
      "\n",
      "    intersect, setdiff, setequal, union\n",
      "\n"
     ]
    }
   ],
   "source": [
    "library(dplyr)"
   ]
  },
  {
   "cell_type": "markdown",
   "id": "generous-mistake",
   "metadata": {},
   "source": [
    "#### 1. filter()\n",
    "- 조건에 충족하는 행들을 추출한다\n",
    "- data.frame or tibble에 사용 가능\n",
    "- 가변인자를 통해 여러 logical conditon 줄 수 있다\n",
    "- R에서 기본 제공하는 subset 함수와 동일하다"
   ]
  },
  {
   "cell_type": "code",
   "execution_count": 7,
   "id": "moving-ordinary",
   "metadata": {
    "scrolled": false
   },
   "outputs": [
    {
     "data": {
      "text/html": [
       "<table>\n",
       "<thead><tr><th scope=col>Year</th><th scope=col>Month</th><th scope=col>DayofMonth</th><th scope=col>DayOfWeek</th><th scope=col>DepTime</th><th scope=col>ArrTime</th><th scope=col>UniqueCarrier</th><th scope=col>FlightNum</th><th scope=col>TailNum</th><th scope=col>ActualElapsedTime</th><th scope=col>...</th><th scope=col>ArrDelay</th><th scope=col>DepDelay</th><th scope=col>Origin</th><th scope=col>Dest</th><th scope=col>Distance</th><th scope=col>TaxiIn</th><th scope=col>TaxiOut</th><th scope=col>Cancelled</th><th scope=col>CancellationCode</th><th scope=col>Diverted</th></tr></thead>\n",
       "<tbody>\n",
       "\t<tr><td>2011  </td><td>1     </td><td>1     </td><td>6     </td><td>1400  </td><td>1500  </td><td>AA    </td><td> 428  </td><td>N576AA</td><td> 60   </td><td>...   </td><td>-10   </td><td> 0    </td><td>IAH   </td><td>DFW   </td><td>224   </td><td> 7    </td><td>13    </td><td>0     </td><td>      </td><td>0     </td></tr>\n",
       "\t<tr><td>2011  </td><td>1     </td><td>1     </td><td>6     </td><td> 728  </td><td> 840  </td><td>AA    </td><td> 460  </td><td>N520AA</td><td> 72   </td><td>...   </td><td>  5   </td><td> 8    </td><td>IAH   </td><td>DFW   </td><td>224   </td><td> 6    </td><td>25    </td><td>0     </td><td>      </td><td>0     </td></tr>\n",
       "\t<tr><td>2011  </td><td>1     </td><td>1     </td><td>6     </td><td>1631  </td><td>1736  </td><td>AA    </td><td>1121  </td><td>N4WVAA</td><td> 65   </td><td>...   </td><td> -9   </td><td> 1    </td><td>IAH   </td><td>DFW   </td><td>224   </td><td>16    </td><td>12    </td><td>0     </td><td>      </td><td>0     </td></tr>\n",
       "\t<tr><td>2011  </td><td>1     </td><td>1     </td><td>6     </td><td>1756  </td><td>2112  </td><td>AA    </td><td>1294  </td><td>N3DGAA</td><td>136   </td><td>...   </td><td> -3   </td><td> 1    </td><td>IAH   </td><td>MIA   </td><td>964   </td><td> 9    </td><td>14    </td><td>0     </td><td>      </td><td>0     </td></tr>\n",
       "\t<tr><td>2011  </td><td>1     </td><td>1     </td><td>6     </td><td>1012  </td><td>1347  </td><td>AA    </td><td>1700  </td><td>N3DAAA</td><td>155   </td><td>...   </td><td>  7   </td><td>-8    </td><td>IAH   </td><td>MIA   </td><td>964   </td><td>12    </td><td>26    </td><td>0     </td><td>      </td><td>0     </td></tr>\n",
       "\t<tr><td>2011  </td><td>1     </td><td>1     </td><td>6     </td><td>1211  </td><td>1325  </td><td>AA    </td><td>1820  </td><td>N593AA</td><td> 74   </td><td>...   </td><td> 15   </td><td> 6    </td><td>IAH   </td><td>DFW   </td><td>224   </td><td> 6    </td><td>29    </td><td>0     </td><td>      </td><td>0     </td></tr>\n",
       "</tbody>\n",
       "</table>\n"
      ],
      "text/latex": [
       "\\begin{tabular}{r|lllllllllllllllllllll}\n",
       " Year & Month & DayofMonth & DayOfWeek & DepTime & ArrTime & UniqueCarrier & FlightNum & TailNum & ActualElapsedTime & ... & ArrDelay & DepDelay & Origin & Dest & Distance & TaxiIn & TaxiOut & Cancelled & CancellationCode & Diverted\\\\\n",
       "\\hline\n",
       "\t 2011   & 1      & 1      & 6      & 1400   & 1500   & AA     &  428   & N576AA &  60    & ...    & -10    &  0     & IAH    & DFW    & 224    &  7     & 13     & 0      &        & 0     \\\\\n",
       "\t 2011   & 1      & 1      & 6      &  728   &  840   & AA     &  460   & N520AA &  72    & ...    &   5    &  8     & IAH    & DFW    & 224    &  6     & 25     & 0      &        & 0     \\\\\n",
       "\t 2011   & 1      & 1      & 6      & 1631   & 1736   & AA     & 1121   & N4WVAA &  65    & ...    &  -9    &  1     & IAH    & DFW    & 224    & 16     & 12     & 0      &        & 0     \\\\\n",
       "\t 2011   & 1      & 1      & 6      & 1756   & 2112   & AA     & 1294   & N3DGAA & 136    & ...    &  -3    &  1     & IAH    & MIA    & 964    &  9     & 14     & 0      &        & 0     \\\\\n",
       "\t 2011   & 1      & 1      & 6      & 1012   & 1347   & AA     & 1700   & N3DAAA & 155    & ...    &   7    & -8     & IAH    & MIA    & 964    & 12     & 26     & 0      &        & 0     \\\\\n",
       "\t 2011   & 1      & 1      & 6      & 1211   & 1325   & AA     & 1820   & N593AA &  74    & ...    &  15    &  6     & IAH    & DFW    & 224    &  6     & 29     & 0      &        & 0     \\\\\n",
       "\\end{tabular}\n"
      ],
      "text/markdown": [
       "\n",
       "| Year | Month | DayofMonth | DayOfWeek | DepTime | ArrTime | UniqueCarrier | FlightNum | TailNum | ActualElapsedTime | ... | ArrDelay | DepDelay | Origin | Dest | Distance | TaxiIn | TaxiOut | Cancelled | CancellationCode | Diverted |\n",
       "|---|---|---|---|---|---|---|---|---|---|---|---|---|---|---|---|---|---|---|---|---|\n",
       "| 2011   | 1      | 1      | 6      | 1400   | 1500   | AA     |  428   | N576AA |  60    | ...    | -10    |  0     | IAH    | DFW    | 224    |  7     | 13     | 0      |        | 0      |\n",
       "| 2011   | 1      | 1      | 6      |  728   |  840   | AA     |  460   | N520AA |  72    | ...    |   5    |  8     | IAH    | DFW    | 224    |  6     | 25     | 0      |        | 0      |\n",
       "| 2011   | 1      | 1      | 6      | 1631   | 1736   | AA     | 1121   | N4WVAA |  65    | ...    |  -9    |  1     | IAH    | DFW    | 224    | 16     | 12     | 0      |        | 0      |\n",
       "| 2011   | 1      | 1      | 6      | 1756   | 2112   | AA     | 1294   | N3DGAA | 136    | ...    |  -3    |  1     | IAH    | MIA    | 964    |  9     | 14     | 0      |        | 0      |\n",
       "| 2011   | 1      | 1      | 6      | 1012   | 1347   | AA     | 1700   | N3DAAA | 155    | ...    |   7    | -8     | IAH    | MIA    | 964    | 12     | 26     | 0      |        | 0      |\n",
       "| 2011   | 1      | 1      | 6      | 1211   | 1325   | AA     | 1820   | N593AA |  74    | ...    |  15    |  6     | IAH    | DFW    | 224    |  6     | 29     | 0      |        | 0      |\n",
       "\n"
      ],
      "text/plain": [
       "  Year Month DayofMonth DayOfWeek DepTime ArrTime UniqueCarrier FlightNum\n",
       "1 2011 1     1          6         1400    1500    AA             428     \n",
       "2 2011 1     1          6          728     840    AA             460     \n",
       "3 2011 1     1          6         1631    1736    AA            1121     \n",
       "4 2011 1     1          6         1756    2112    AA            1294     \n",
       "5 2011 1     1          6         1012    1347    AA            1700     \n",
       "6 2011 1     1          6         1211    1325    AA            1820     \n",
       "  TailNum ActualElapsedTime ... ArrDelay DepDelay Origin Dest Distance TaxiIn\n",
       "1 N576AA   60               ... -10       0       IAH    DFW  224       7    \n",
       "2 N520AA   72               ...   5       8       IAH    DFW  224       6    \n",
       "3 N4WVAA   65               ...  -9       1       IAH    DFW  224      16    \n",
       "4 N3DGAA  136               ...  -3       1       IAH    MIA  964       9    \n",
       "5 N3DAAA  155               ...   7      -8       IAH    MIA  964      12    \n",
       "6 N593AA   74               ...  15       6       IAH    DFW  224       6    \n",
       "  TaxiOut Cancelled CancellationCode Diverted\n",
       "1 13      0                          0       \n",
       "2 25      0                          0       \n",
       "3 12      0                          0       \n",
       "4 14      0                          0       \n",
       "5 26      0                          0       \n",
       "6 29      0                          0       "
      ]
     },
     "metadata": {},
     "output_type": "display_data"
    },
    {
     "data": {
      "text/html": [
       "<table>\n",
       "<thead><tr><th scope=col>Year</th><th scope=col>Month</th><th scope=col>DayofMonth</th><th scope=col>DayOfWeek</th><th scope=col>DepTime</th><th scope=col>ArrTime</th><th scope=col>UniqueCarrier</th><th scope=col>FlightNum</th><th scope=col>TailNum</th><th scope=col>ActualElapsedTime</th><th scope=col>...</th><th scope=col>ArrDelay</th><th scope=col>DepDelay</th><th scope=col>Origin</th><th scope=col>Dest</th><th scope=col>Distance</th><th scope=col>TaxiIn</th><th scope=col>TaxiOut</th><th scope=col>Cancelled</th><th scope=col>CancellationCode</th><th scope=col>Diverted</th></tr></thead>\n",
       "<tbody>\n",
       "\t<tr><td>2011  </td><td>1     </td><td>1     </td><td>6     </td><td>1400  </td><td>1500  </td><td>AA    </td><td> 428  </td><td>N576AA</td><td> 60   </td><td>...   </td><td>-10   </td><td> 0    </td><td>IAH   </td><td>DFW   </td><td>224   </td><td> 7    </td><td>13    </td><td>0     </td><td>      </td><td>0     </td></tr>\n",
       "\t<tr><td>2011  </td><td>1     </td><td>1     </td><td>6     </td><td> 728  </td><td> 840  </td><td>AA    </td><td> 460  </td><td>N520AA</td><td> 72   </td><td>...   </td><td>  5   </td><td> 8    </td><td>IAH   </td><td>DFW   </td><td>224   </td><td> 6    </td><td>25    </td><td>0     </td><td>      </td><td>0     </td></tr>\n",
       "\t<tr><td>2011  </td><td>1     </td><td>1     </td><td>6     </td><td>1631  </td><td>1736  </td><td>AA    </td><td>1121  </td><td>N4WVAA</td><td> 65   </td><td>...   </td><td> -9   </td><td> 1    </td><td>IAH   </td><td>DFW   </td><td>224   </td><td>16    </td><td>12    </td><td>0     </td><td>      </td><td>0     </td></tr>\n",
       "\t<tr><td>2011  </td><td>1     </td><td>1     </td><td>6     </td><td>1756  </td><td>2112  </td><td>AA    </td><td>1294  </td><td>N3DGAA</td><td>136   </td><td>...   </td><td> -3   </td><td> 1    </td><td>IAH   </td><td>MIA   </td><td>964   </td><td> 9    </td><td>14    </td><td>0     </td><td>      </td><td>0     </td></tr>\n",
       "\t<tr><td>2011  </td><td>1     </td><td>1     </td><td>6     </td><td>1012  </td><td>1347  </td><td>AA    </td><td>1700  </td><td>N3DAAA</td><td>155   </td><td>...   </td><td>  7   </td><td>-8    </td><td>IAH   </td><td>MIA   </td><td>964   </td><td>12    </td><td>26    </td><td>0     </td><td>      </td><td>0     </td></tr>\n",
       "\t<tr><td>2011  </td><td>1     </td><td>1     </td><td>6     </td><td>1211  </td><td>1325  </td><td>AA    </td><td>1820  </td><td>N593AA</td><td> 74   </td><td>...   </td><td> 15   </td><td> 6    </td><td>IAH   </td><td>DFW   </td><td>224   </td><td> 6    </td><td>29    </td><td>0     </td><td>      </td><td>0     </td></tr>\n",
       "</tbody>\n",
       "</table>\n"
      ],
      "text/latex": [
       "\\begin{tabular}{r|lllllllllllllllllllll}\n",
       " Year & Month & DayofMonth & DayOfWeek & DepTime & ArrTime & UniqueCarrier & FlightNum & TailNum & ActualElapsedTime & ... & ArrDelay & DepDelay & Origin & Dest & Distance & TaxiIn & TaxiOut & Cancelled & CancellationCode & Diverted\\\\\n",
       "\\hline\n",
       "\t 2011   & 1      & 1      & 6      & 1400   & 1500   & AA     &  428   & N576AA &  60    & ...    & -10    &  0     & IAH    & DFW    & 224    &  7     & 13     & 0      &        & 0     \\\\\n",
       "\t 2011   & 1      & 1      & 6      &  728   &  840   & AA     &  460   & N520AA &  72    & ...    &   5    &  8     & IAH    & DFW    & 224    &  6     & 25     & 0      &        & 0     \\\\\n",
       "\t 2011   & 1      & 1      & 6      & 1631   & 1736   & AA     & 1121   & N4WVAA &  65    & ...    &  -9    &  1     & IAH    & DFW    & 224    & 16     & 12     & 0      &        & 0     \\\\\n",
       "\t 2011   & 1      & 1      & 6      & 1756   & 2112   & AA     & 1294   & N3DGAA & 136    & ...    &  -3    &  1     & IAH    & MIA    & 964    &  9     & 14     & 0      &        & 0     \\\\\n",
       "\t 2011   & 1      & 1      & 6      & 1012   & 1347   & AA     & 1700   & N3DAAA & 155    & ...    &   7    & -8     & IAH    & MIA    & 964    & 12     & 26     & 0      &        & 0     \\\\\n",
       "\t 2011   & 1      & 1      & 6      & 1211   & 1325   & AA     & 1820   & N593AA &  74    & ...    &  15    &  6     & IAH    & DFW    & 224    &  6     & 29     & 0      &        & 0     \\\\\n",
       "\\end{tabular}\n"
      ],
      "text/markdown": [
       "\n",
       "| Year | Month | DayofMonth | DayOfWeek | DepTime | ArrTime | UniqueCarrier | FlightNum | TailNum | ActualElapsedTime | ... | ArrDelay | DepDelay | Origin | Dest | Distance | TaxiIn | TaxiOut | Cancelled | CancellationCode | Diverted |\n",
       "|---|---|---|---|---|---|---|---|---|---|---|---|---|---|---|---|---|---|---|---|---|\n",
       "| 2011   | 1      | 1      | 6      | 1400   | 1500   | AA     |  428   | N576AA |  60    | ...    | -10    |  0     | IAH    | DFW    | 224    |  7     | 13     | 0      |        | 0      |\n",
       "| 2011   | 1      | 1      | 6      |  728   |  840   | AA     |  460   | N520AA |  72    | ...    |   5    |  8     | IAH    | DFW    | 224    |  6     | 25     | 0      |        | 0      |\n",
       "| 2011   | 1      | 1      | 6      | 1631   | 1736   | AA     | 1121   | N4WVAA |  65    | ...    |  -9    |  1     | IAH    | DFW    | 224    | 16     | 12     | 0      |        | 0      |\n",
       "| 2011   | 1      | 1      | 6      | 1756   | 2112   | AA     | 1294   | N3DGAA | 136    | ...    |  -3    |  1     | IAH    | MIA    | 964    |  9     | 14     | 0      |        | 0      |\n",
       "| 2011   | 1      | 1      | 6      | 1012   | 1347   | AA     | 1700   | N3DAAA | 155    | ...    |   7    | -8     | IAH    | MIA    | 964    | 12     | 26     | 0      |        | 0      |\n",
       "| 2011   | 1      | 1      | 6      | 1211   | 1325   | AA     | 1820   | N593AA |  74    | ...    |  15    |  6     | IAH    | DFW    | 224    |  6     | 29     | 0      |        | 0      |\n",
       "\n"
      ],
      "text/plain": [
       "  Year Month DayofMonth DayOfWeek DepTime ArrTime UniqueCarrier FlightNum\n",
       "1 2011 1     1          6         1400    1500    AA             428     \n",
       "2 2011 1     1          6          728     840    AA             460     \n",
       "3 2011 1     1          6         1631    1736    AA            1121     \n",
       "4 2011 1     1          6         1756    2112    AA            1294     \n",
       "5 2011 1     1          6         1012    1347    AA            1700     \n",
       "6 2011 1     1          6         1211    1325    AA            1820     \n",
       "  TailNum ActualElapsedTime ... ArrDelay DepDelay Origin Dest Distance TaxiIn\n",
       "1 N576AA   60               ... -10       0       IAH    DFW  224       7    \n",
       "2 N520AA   72               ...   5       8       IAH    DFW  224       6    \n",
       "3 N4WVAA   65               ...  -9       1       IAH    DFW  224      16    \n",
       "4 N3DGAA  136               ...  -3       1       IAH    MIA  964       9    \n",
       "5 N3DAAA  155               ...   7      -8       IAH    MIA  964      12    \n",
       "6 N593AA   74               ...  15       6       IAH    DFW  224       6    \n",
       "  TaxiOut Cancelled CancellationCode Diverted\n",
       "1 13      0                          0       \n",
       "2 25      0                          0       \n",
       "3 12      0                          0       \n",
       "4 14      0                          0       \n",
       "5 26      0                          0       \n",
       "6 29      0                          0       "
      ]
     },
     "metadata": {},
     "output_type": "display_data"
    },
    {
     "data": {
      "text/html": [
       "<table>\n",
       "<thead><tr><th></th><th scope=col>Year</th><th scope=col>Month</th><th scope=col>DayofMonth</th><th scope=col>DayOfWeek</th><th scope=col>DepTime</th><th scope=col>ArrTime</th><th scope=col>UniqueCarrier</th><th scope=col>FlightNum</th><th scope=col>TailNum</th><th scope=col>ActualElapsedTime</th><th scope=col>...</th><th scope=col>ArrDelay</th><th scope=col>DepDelay</th><th scope=col>Origin</th><th scope=col>Dest</th><th scope=col>Distance</th><th scope=col>TaxiIn</th><th scope=col>TaxiOut</th><th scope=col>Cancelled</th><th scope=col>CancellationCode</th><th scope=col>Diverted</th></tr></thead>\n",
       "<tbody>\n",
       "\t<tr><th scope=row>5424</th><td>2011  </td><td>1     </td><td>1     </td><td>6     </td><td>1400  </td><td>1500  </td><td>AA    </td><td> 428  </td><td>N576AA</td><td> 60   </td><td>...   </td><td>-10   </td><td> 0    </td><td>IAH   </td><td>DFW   </td><td>224   </td><td> 7    </td><td>13    </td><td>0     </td><td>      </td><td>0     </td></tr>\n",
       "\t<tr><th scope=row>6343</th><td>2011  </td><td>1     </td><td>1     </td><td>6     </td><td> 728  </td><td> 840  </td><td>AA    </td><td> 460  </td><td>N520AA</td><td> 72   </td><td>...   </td><td>  5   </td><td> 8    </td><td>IAH   </td><td>DFW   </td><td>224   </td><td> 6    </td><td>25    </td><td>0     </td><td>      </td><td>0     </td></tr>\n",
       "\t<tr><th scope=row>19266</th><td>2011  </td><td>1     </td><td>1     </td><td>6     </td><td>1631  </td><td>1736  </td><td>AA    </td><td>1121  </td><td>N4WVAA</td><td> 65   </td><td>...   </td><td> -9   </td><td> 1    </td><td>IAH   </td><td>DFW   </td><td>224   </td><td>16    </td><td>12    </td><td>0     </td><td>      </td><td>0     </td></tr>\n",
       "\t<tr><th scope=row>23655</th><td>2011  </td><td>1     </td><td>1     </td><td>6     </td><td>1756  </td><td>2112  </td><td>AA    </td><td>1294  </td><td>N3DGAA</td><td>136   </td><td>...   </td><td> -3   </td><td> 1    </td><td>IAH   </td><td>MIA   </td><td>964   </td><td> 9    </td><td>14    </td><td>0     </td><td>      </td><td>0     </td></tr>\n",
       "\t<tr><th scope=row>33051</th><td>2011  </td><td>1     </td><td>1     </td><td>6     </td><td>1012  </td><td>1347  </td><td>AA    </td><td>1700  </td><td>N3DAAA</td><td>155   </td><td>...   </td><td>  7   </td><td>-8    </td><td>IAH   </td><td>MIA   </td><td>964   </td><td>12    </td><td>26    </td><td>0     </td><td>      </td><td>0     </td></tr>\n",
       "\t<tr><th scope=row>35256</th><td>2011  </td><td>1     </td><td>1     </td><td>6     </td><td>1211  </td><td>1325  </td><td>AA    </td><td>1820  </td><td>N593AA</td><td> 74   </td><td>...   </td><td> 15   </td><td> 6    </td><td>IAH   </td><td>DFW   </td><td>224   </td><td> 6    </td><td>29    </td><td>0     </td><td>      </td><td>0     </td></tr>\n",
       "</tbody>\n",
       "</table>\n"
      ],
      "text/latex": [
       "\\begin{tabular}{r|lllllllllllllllllllll}\n",
       "  & Year & Month & DayofMonth & DayOfWeek & DepTime & ArrTime & UniqueCarrier & FlightNum & TailNum & ActualElapsedTime & ... & ArrDelay & DepDelay & Origin & Dest & Distance & TaxiIn & TaxiOut & Cancelled & CancellationCode & Diverted\\\\\n",
       "\\hline\n",
       "\t5424 & 2011   & 1      & 1      & 6      & 1400   & 1500   & AA     &  428   & N576AA &  60    & ...    & -10    &  0     & IAH    & DFW    & 224    &  7     & 13     & 0      &        & 0     \\\\\n",
       "\t6343 & 2011   & 1      & 1      & 6      &  728   &  840   & AA     &  460   & N520AA &  72    & ...    &   5    &  8     & IAH    & DFW    & 224    &  6     & 25     & 0      &        & 0     \\\\\n",
       "\t19266 & 2011   & 1      & 1      & 6      & 1631   & 1736   & AA     & 1121   & N4WVAA &  65    & ...    &  -9    &  1     & IAH    & DFW    & 224    & 16     & 12     & 0      &        & 0     \\\\\n",
       "\t23655 & 2011   & 1      & 1      & 6      & 1756   & 2112   & AA     & 1294   & N3DGAA & 136    & ...    &  -3    &  1     & IAH    & MIA    & 964    &  9     & 14     & 0      &        & 0     \\\\\n",
       "\t33051 & 2011   & 1      & 1      & 6      & 1012   & 1347   & AA     & 1700   & N3DAAA & 155    & ...    &   7    & -8     & IAH    & MIA    & 964    & 12     & 26     & 0      &        & 0     \\\\\n",
       "\t35256 & 2011   & 1      & 1      & 6      & 1211   & 1325   & AA     & 1820   & N593AA &  74    & ...    &  15    &  6     & IAH    & DFW    & 224    &  6     & 29     & 0      &        & 0     \\\\\n",
       "\\end{tabular}\n"
      ],
      "text/markdown": [
       "\n",
       "| <!--/--> | Year | Month | DayofMonth | DayOfWeek | DepTime | ArrTime | UniqueCarrier | FlightNum | TailNum | ActualElapsedTime | ... | ArrDelay | DepDelay | Origin | Dest | Distance | TaxiIn | TaxiOut | Cancelled | CancellationCode | Diverted |\n",
       "|---|---|---|---|---|---|---|---|---|---|---|---|---|---|---|---|---|---|---|---|---|---|\n",
       "| 5424 | 2011   | 1      | 1      | 6      | 1400   | 1500   | AA     |  428   | N576AA |  60    | ...    | -10    |  0     | IAH    | DFW    | 224    |  7     | 13     | 0      |        | 0      |\n",
       "| 6343 | 2011   | 1      | 1      | 6      |  728   |  840   | AA     |  460   | N520AA |  72    | ...    |   5    |  8     | IAH    | DFW    | 224    |  6     | 25     | 0      |        | 0      |\n",
       "| 19266 | 2011   | 1      | 1      | 6      | 1631   | 1736   | AA     | 1121   | N4WVAA |  65    | ...    |  -9    |  1     | IAH    | DFW    | 224    | 16     | 12     | 0      |        | 0      |\n",
       "| 23655 | 2011   | 1      | 1      | 6      | 1756   | 2112   | AA     | 1294   | N3DGAA | 136    | ...    |  -3    |  1     | IAH    | MIA    | 964    |  9     | 14     | 0      |        | 0      |\n",
       "| 33051 | 2011   | 1      | 1      | 6      | 1012   | 1347   | AA     | 1700   | N3DAAA | 155    | ...    |   7    | -8     | IAH    | MIA    | 964    | 12     | 26     | 0      |        | 0      |\n",
       "| 35256 | 2011   | 1      | 1      | 6      | 1211   | 1325   | AA     | 1820   | N593AA |  74    | ...    |  15    |  6     | IAH    | DFW    | 224    |  6     | 29     | 0      |        | 0      |\n",
       "\n"
      ],
      "text/plain": [
       "      Year Month DayofMonth DayOfWeek DepTime ArrTime UniqueCarrier FlightNum\n",
       "5424  2011 1     1          6         1400    1500    AA             428     \n",
       "6343  2011 1     1          6          728     840    AA             460     \n",
       "19266 2011 1     1          6         1631    1736    AA            1121     \n",
       "23655 2011 1     1          6         1756    2112    AA            1294     \n",
       "33051 2011 1     1          6         1012    1347    AA            1700     \n",
       "35256 2011 1     1          6         1211    1325    AA            1820     \n",
       "      TailNum ActualElapsedTime ... ArrDelay DepDelay Origin Dest Distance\n",
       "5424  N576AA   60               ... -10       0       IAH    DFW  224     \n",
       "6343  N520AA   72               ...   5       8       IAH    DFW  224     \n",
       "19266 N4WVAA   65               ...  -9       1       IAH    DFW  224     \n",
       "23655 N3DGAA  136               ...  -3       1       IAH    MIA  964     \n",
       "33051 N3DAAA  155               ...   7      -8       IAH    MIA  964     \n",
       "35256 N593AA   74               ...  15       6       IAH    DFW  224     \n",
       "      TaxiIn TaxiOut Cancelled CancellationCode Diverted\n",
       "5424   7     13      0                          0       \n",
       "6343   6     25      0                          0       \n",
       "19266 16     12      0                          0       \n",
       "23655  9     14      0                          0       \n",
       "33051 12     26      0                          0       \n",
       "35256  6     29      0                          0       "
      ]
     },
     "metadata": {},
     "output_type": "display_data"
    }
   ],
   "source": [
    "library(hflights)\n",
    "flight.df <- hflights\n",
    "flight.tbl <- hflights\n",
    "head(filter(flight.df,Month==1,DayofMonth==1)) #반환값은 data로 들어간 class에 맞춰 나온다\n",
    "head(filter(flight.tbl,Month==1&DayofMonth==1))#여기선 tbl로 나오는게 맞다\n",
    "\n",
    "head(subset(flight.df,subset = Month==1&DayofMonth==1)) #차이점은 row.names가 초기화 되어있지 않다\n",
    "# 잠깐 출력 값들의 차이를 보면"
   ]
  },
  {
   "cell_type": "markdown",
   "id": "tender-tuition",
   "metadata": {},
   "source": [
    "#### 2. slice()\n",
    "- 단순히 특정 위치의 행을 추출"
   ]
  },
  {
   "cell_type": "code",
   "execution_count": 15,
   "id": "outdoor-touch",
   "metadata": {},
   "outputs": [
    {
     "data": {
      "text/html": [
       "<table>\n",
       "<thead><tr><th scope=col>Sepal.Length</th><th scope=col>Sepal.Width</th><th scope=col>Petal.Length</th><th scope=col>Petal.Width</th><th scope=col>Species</th></tr></thead>\n",
       "<tbody>\n",
       "\t<tr><td>4.9   </td><td>3.1   </td><td>1.5   </td><td>0.1   </td><td>setosa</td></tr>\n",
       "\t<tr><td>5.4   </td><td>3.7   </td><td>1.5   </td><td>0.2   </td><td>setosa</td></tr>\n",
       "\t<tr><td>4.8   </td><td>3.4   </td><td>1.6   </td><td>0.2   </td><td>setosa</td></tr>\n",
       "\t<tr><td>4.8   </td><td>3.0   </td><td>1.4   </td><td>0.1   </td><td>setosa</td></tr>\n",
       "\t<tr><td>4.3   </td><td>3.0   </td><td>1.1   </td><td>0.1   </td><td>setosa</td></tr>\n",
       "\t<tr><td>5.8   </td><td>4.0   </td><td>1.2   </td><td>0.2   </td><td>setosa</td></tr>\n",
       "</tbody>\n",
       "</table>\n"
      ],
      "text/latex": [
       "\\begin{tabular}{r|lllll}\n",
       " Sepal.Length & Sepal.Width & Petal.Length & Petal.Width & Species\\\\\n",
       "\\hline\n",
       "\t 4.9    & 3.1    & 1.5    & 0.1    & setosa\\\\\n",
       "\t 5.4    & 3.7    & 1.5    & 0.2    & setosa\\\\\n",
       "\t 4.8    & 3.4    & 1.6    & 0.2    & setosa\\\\\n",
       "\t 4.8    & 3.0    & 1.4    & 0.1    & setosa\\\\\n",
       "\t 4.3    & 3.0    & 1.1    & 0.1    & setosa\\\\\n",
       "\t 5.8    & 4.0    & 1.2    & 0.2    & setosa\\\\\n",
       "\\end{tabular}\n"
      ],
      "text/markdown": [
       "\n",
       "| Sepal.Length | Sepal.Width | Petal.Length | Petal.Width | Species |\n",
       "|---|---|---|---|---|\n",
       "| 4.9    | 3.1    | 1.5    | 0.1    | setosa |\n",
       "| 5.4    | 3.7    | 1.5    | 0.2    | setosa |\n",
       "| 4.8    | 3.4    | 1.6    | 0.2    | setosa |\n",
       "| 4.8    | 3.0    | 1.4    | 0.1    | setosa |\n",
       "| 4.3    | 3.0    | 1.1    | 0.1    | setosa |\n",
       "| 5.8    | 4.0    | 1.2    | 0.2    | setosa |\n",
       "\n"
      ],
      "text/plain": [
       "  Sepal.Length Sepal.Width Petal.Length Petal.Width Species\n",
       "1 4.9          3.1         1.5          0.1         setosa \n",
       "2 5.4          3.7         1.5          0.2         setosa \n",
       "3 4.8          3.4         1.6          0.2         setosa \n",
       "4 4.8          3.0         1.4          0.1         setosa \n",
       "5 4.3          3.0         1.1          0.1         setosa \n",
       "6 5.8          4.0         1.2          0.2         setosa "
      ]
     },
     "metadata": {},
     "output_type": "display_data"
    }
   ],
   "source": [
    "slice(iris,10:15)"
   ]
  },
  {
   "cell_type": "markdown",
   "id": "plastic-english",
   "metadata": {},
   "source": [
    "#### 3. select()\n",
    "- 열을 선택한다\n",
    "- 가변 인자를 통해 여러 열 추출 가능\n",
    "- : 을 통해 슬라이싱이 가능하다\n",
    "- - 빼기 기호 통해 뺄수도 있다\n",
    "- 열의 이름을 변경도 가능\n",
    "- R에서 기본 제공하는 subset도 동일한 기능 수행"
   ]
  },
  {
   "cell_type": "code",
   "execution_count": 18,
   "id": "forward-backing",
   "metadata": {},
   "outputs": [
    {
     "data": {
      "text/html": [
       "<table>\n",
       "<thead><tr><th></th><th scope=col>Year</th><th scope=col>Month</th><th scope=col>Day</th></tr></thead>\n",
       "<tbody>\n",
       "\t<tr><th scope=row>5424</th><td>2011</td><td>1   </td><td>1   </td></tr>\n",
       "\t<tr><th scope=row>5425</th><td>2011</td><td>1   </td><td>2   </td></tr>\n",
       "\t<tr><th scope=row>5426</th><td>2011</td><td>1   </td><td>3   </td></tr>\n",
       "\t<tr><th scope=row>5427</th><td>2011</td><td>1   </td><td>4   </td></tr>\n",
       "\t<tr><th scope=row>5428</th><td>2011</td><td>1   </td><td>5   </td></tr>\n",
       "\t<tr><th scope=row>5429</th><td>2011</td><td>1   </td><td>6   </td></tr>\n",
       "</tbody>\n",
       "</table>\n"
      ],
      "text/latex": [
       "\\begin{tabular}{r|lll}\n",
       "  & Year & Month & Day\\\\\n",
       "\\hline\n",
       "\t5424 & 2011 & 1    & 1   \\\\\n",
       "\t5425 & 2011 & 1    & 2   \\\\\n",
       "\t5426 & 2011 & 1    & 3   \\\\\n",
       "\t5427 & 2011 & 1    & 4   \\\\\n",
       "\t5428 & 2011 & 1    & 5   \\\\\n",
       "\t5429 & 2011 & 1    & 6   \\\\\n",
       "\\end{tabular}\n"
      ],
      "text/markdown": [
       "\n",
       "| <!--/--> | Year | Month | Day |\n",
       "|---|---|---|---|\n",
       "| 5424 | 2011 | 1    | 1    |\n",
       "| 5425 | 2011 | 1    | 2    |\n",
       "| 5426 | 2011 | 1    | 3    |\n",
       "| 5427 | 2011 | 1    | 4    |\n",
       "| 5428 | 2011 | 1    | 5    |\n",
       "| 5429 | 2011 | 1    | 6    |\n",
       "\n"
      ],
      "text/plain": [
       "     Year Month Day\n",
       "5424 2011 1     1  \n",
       "5425 2011 1     2  \n",
       "5426 2011 1     3  \n",
       "5427 2011 1     4  \n",
       "5428 2011 1     5  \n",
       "5429 2011 1     6  "
      ]
     },
     "metadata": {},
     "output_type": "display_data"
    },
    {
     "data": {
      "text/html": [
       "<table>\n",
       "<thead><tr><th></th><th scope=col>Year</th><th scope=col>Month</th><th scope=col>DayofMonth</th></tr></thead>\n",
       "<tbody>\n",
       "\t<tr><th scope=row>5424</th><td>2011</td><td>1   </td><td>1   </td></tr>\n",
       "\t<tr><th scope=row>5425</th><td>2011</td><td>1   </td><td>2   </td></tr>\n",
       "\t<tr><th scope=row>5426</th><td>2011</td><td>1   </td><td>3   </td></tr>\n",
       "\t<tr><th scope=row>5427</th><td>2011</td><td>1   </td><td>4   </td></tr>\n",
       "\t<tr><th scope=row>5428</th><td>2011</td><td>1   </td><td>5   </td></tr>\n",
       "\t<tr><th scope=row>5429</th><td>2011</td><td>1   </td><td>6   </td></tr>\n",
       "</tbody>\n",
       "</table>\n"
      ],
      "text/latex": [
       "\\begin{tabular}{r|lll}\n",
       "  & Year & Month & DayofMonth\\\\\n",
       "\\hline\n",
       "\t5424 & 2011 & 1    & 1   \\\\\n",
       "\t5425 & 2011 & 1    & 2   \\\\\n",
       "\t5426 & 2011 & 1    & 3   \\\\\n",
       "\t5427 & 2011 & 1    & 4   \\\\\n",
       "\t5428 & 2011 & 1    & 5   \\\\\n",
       "\t5429 & 2011 & 1    & 6   \\\\\n",
       "\\end{tabular}\n"
      ],
      "text/markdown": [
       "\n",
       "| <!--/--> | Year | Month | DayofMonth |\n",
       "|---|---|---|---|\n",
       "| 5424 | 2011 | 1    | 1    |\n",
       "| 5425 | 2011 | 1    | 2    |\n",
       "| 5426 | 2011 | 1    | 3    |\n",
       "| 5427 | 2011 | 1    | 4    |\n",
       "| 5428 | 2011 | 1    | 5    |\n",
       "| 5429 | 2011 | 1    | 6    |\n",
       "\n"
      ],
      "text/plain": [
       "     Year Month DayofMonth\n",
       "5424 2011 1     1         \n",
       "5425 2011 1     2         \n",
       "5426 2011 1     3         \n",
       "5427 2011 1     4         \n",
       "5428 2011 1     5         \n",
       "5429 2011 1     6         "
      ]
     },
     "metadata": {},
     "output_type": "display_data"
    }
   ],
   "source": [
    "library(hflights)\n",
    "flight.df <- hflights\n",
    "flight.tbl <- hflights\n",
    "head(select(flight.tbl,Year,Month,Day=DayofMonth))\n",
    "head(select(flight.tbl,Year:DayofMonth))"
   ]
  },
  {
   "cell_type": "code",
   "execution_count": 12,
   "id": "entertaining-atlanta",
   "metadata": {},
   "outputs": [
    {
     "data": {
      "text/html": [
       "<table>\n",
       "<thead><tr><th></th><th scope=col>DayOfWeek</th><th scope=col>DepTime</th><th scope=col>ArrTime</th><th scope=col>UniqueCarrier</th><th scope=col>FlightNum</th><th scope=col>TailNum</th><th scope=col>ActualElapsedTime</th><th scope=col>AirTime</th><th scope=col>ArrDelay</th><th scope=col>DepDelay</th><th scope=col>Origin</th><th scope=col>Dest</th><th scope=col>Distance</th><th scope=col>TaxiIn</th><th scope=col>TaxiOut</th><th scope=col>Cancelled</th><th scope=col>CancellationCode</th><th scope=col>Diverted</th></tr></thead>\n",
       "<tbody>\n",
       "\t<tr><th scope=row>5424</th><td>6     </td><td>1400  </td><td>1500  </td><td>AA    </td><td>428   </td><td>N576AA</td><td>60    </td><td>40    </td><td>-10   </td><td> 0    </td><td>IAH   </td><td>DFW   </td><td>224   </td><td>7     </td><td>13    </td><td>0     </td><td>      </td><td>0     </td></tr>\n",
       "\t<tr><th scope=row>5425</th><td>7     </td><td>1401  </td><td>1501  </td><td>AA    </td><td>428   </td><td>N557AA</td><td>60    </td><td>45    </td><td> -9   </td><td> 1    </td><td>IAH   </td><td>DFW   </td><td>224   </td><td>6     </td><td> 9    </td><td>0     </td><td>      </td><td>0     </td></tr>\n",
       "\t<tr><th scope=row>5426</th><td>1     </td><td>1352  </td><td>1502  </td><td>AA    </td><td>428   </td><td>N541AA</td><td>70    </td><td>48    </td><td> -8   </td><td>-8    </td><td>IAH   </td><td>DFW   </td><td>224   </td><td>5     </td><td>17    </td><td>0     </td><td>      </td><td>0     </td></tr>\n",
       "\t<tr><th scope=row>5427</th><td>2     </td><td>1403  </td><td>1513  </td><td>AA    </td><td>428   </td><td>N403AA</td><td>70    </td><td>39    </td><td>  3   </td><td> 3    </td><td>IAH   </td><td>DFW   </td><td>224   </td><td>9     </td><td>22    </td><td>0     </td><td>      </td><td>0     </td></tr>\n",
       "\t<tr><th scope=row>5428</th><td>3     </td><td>1405  </td><td>1507  </td><td>AA    </td><td>428   </td><td>N492AA</td><td>62    </td><td>44    </td><td> -3   </td><td> 5    </td><td>IAH   </td><td>DFW   </td><td>224   </td><td>9     </td><td> 9    </td><td>0     </td><td>      </td><td>0     </td></tr>\n",
       "\t<tr><th scope=row>5429</th><td>4     </td><td>1359  </td><td>1503  </td><td>AA    </td><td>428   </td><td>N262AA</td><td>64    </td><td>45    </td><td> -7   </td><td>-1    </td><td>IAH   </td><td>DFW   </td><td>224   </td><td>6     </td><td>13    </td><td>0     </td><td>      </td><td>0     </td></tr>\n",
       "</tbody>\n",
       "</table>\n"
      ],
      "text/latex": [
       "\\begin{tabular}{r|llllllllllllllllll}\n",
       "  & DayOfWeek & DepTime & ArrTime & UniqueCarrier & FlightNum & TailNum & ActualElapsedTime & AirTime & ArrDelay & DepDelay & Origin & Dest & Distance & TaxiIn & TaxiOut & Cancelled & CancellationCode & Diverted\\\\\n",
       "\\hline\n",
       "\t5424 & 6      & 1400   & 1500   & AA     & 428    & N576AA & 60     & 40     & -10    &  0     & IAH    & DFW    & 224    & 7      & 13     & 0      &        & 0     \\\\\n",
       "\t5425 & 7      & 1401   & 1501   & AA     & 428    & N557AA & 60     & 45     &  -9    &  1     & IAH    & DFW    & 224    & 6      &  9     & 0      &        & 0     \\\\\n",
       "\t5426 & 1      & 1352   & 1502   & AA     & 428    & N541AA & 70     & 48     &  -8    & -8     & IAH    & DFW    & 224    & 5      & 17     & 0      &        & 0     \\\\\n",
       "\t5427 & 2      & 1403   & 1513   & AA     & 428    & N403AA & 70     & 39     &   3    &  3     & IAH    & DFW    & 224    & 9      & 22     & 0      &        & 0     \\\\\n",
       "\t5428 & 3      & 1405   & 1507   & AA     & 428    & N492AA & 62     & 44     &  -3    &  5     & IAH    & DFW    & 224    & 9      &  9     & 0      &        & 0     \\\\\n",
       "\t5429 & 4      & 1359   & 1503   & AA     & 428    & N262AA & 64     & 45     &  -7    & -1     & IAH    & DFW    & 224    & 6      & 13     & 0      &        & 0     \\\\\n",
       "\\end{tabular}\n"
      ],
      "text/markdown": [
       "\n",
       "| <!--/--> | DayOfWeek | DepTime | ArrTime | UniqueCarrier | FlightNum | TailNum | ActualElapsedTime | AirTime | ArrDelay | DepDelay | Origin | Dest | Distance | TaxiIn | TaxiOut | Cancelled | CancellationCode | Diverted |\n",
       "|---|---|---|---|---|---|---|---|---|---|---|---|---|---|---|---|---|---|---|\n",
       "| 5424 | 6      | 1400   | 1500   | AA     | 428    | N576AA | 60     | 40     | -10    |  0     | IAH    | DFW    | 224    | 7      | 13     | 0      |        | 0      |\n",
       "| 5425 | 7      | 1401   | 1501   | AA     | 428    | N557AA | 60     | 45     |  -9    |  1     | IAH    | DFW    | 224    | 6      |  9     | 0      |        | 0      |\n",
       "| 5426 | 1      | 1352   | 1502   | AA     | 428    | N541AA | 70     | 48     |  -8    | -8     | IAH    | DFW    | 224    | 5      | 17     | 0      |        | 0      |\n",
       "| 5427 | 2      | 1403   | 1513   | AA     | 428    | N403AA | 70     | 39     |   3    |  3     | IAH    | DFW    | 224    | 9      | 22     | 0      |        | 0      |\n",
       "| 5428 | 3      | 1405   | 1507   | AA     | 428    | N492AA | 62     | 44     |  -3    |  5     | IAH    | DFW    | 224    | 9      |  9     | 0      |        | 0      |\n",
       "| 5429 | 4      | 1359   | 1503   | AA     | 428    | N262AA | 64     | 45     |  -7    | -1     | IAH    | DFW    | 224    | 6      | 13     | 0      |        | 0      |\n",
       "\n"
      ],
      "text/plain": [
       "     DayOfWeek DepTime ArrTime UniqueCarrier FlightNum TailNum\n",
       "5424 6         1400    1500    AA            428       N576AA \n",
       "5425 7         1401    1501    AA            428       N557AA \n",
       "5426 1         1352    1502    AA            428       N541AA \n",
       "5427 2         1403    1513    AA            428       N403AA \n",
       "5428 3         1405    1507    AA            428       N492AA \n",
       "5429 4         1359    1503    AA            428       N262AA \n",
       "     ActualElapsedTime AirTime ArrDelay DepDelay Origin Dest Distance TaxiIn\n",
       "5424 60                40      -10       0       IAH    DFW  224      7     \n",
       "5425 60                45       -9       1       IAH    DFW  224      6     \n",
       "5426 70                48       -8      -8       IAH    DFW  224      5     \n",
       "5427 70                39        3       3       IAH    DFW  224      9     \n",
       "5428 62                44       -3       5       IAH    DFW  224      9     \n",
       "5429 64                45       -7      -1       IAH    DFW  224      6     \n",
       "     TaxiOut Cancelled CancellationCode Diverted\n",
       "5424 13      0                          0       \n",
       "5425  9      0                          0       \n",
       "5426 17      0                          0       \n",
       "5427 22      0                          0       \n",
       "5428  9      0                          0       \n",
       "5429 13      0                          0       "
      ]
     },
     "metadata": {},
     "output_type": "display_data"
    },
    {
     "data": {
      "text/html": [
       "<table>\n",
       "<thead><tr><th></th><th scope=col>DayOfWeek</th><th scope=col>DepTime</th><th scope=col>ArrTime</th><th scope=col>UniqueCarrier</th><th scope=col>FlightNum</th><th scope=col>TailNum</th><th scope=col>ActualElapsedTime</th><th scope=col>AirTime</th><th scope=col>ArrDelay</th><th scope=col>DepDelay</th><th scope=col>Origin</th><th scope=col>Dest</th><th scope=col>Distance</th><th scope=col>TaxiIn</th><th scope=col>TaxiOut</th><th scope=col>Cancelled</th><th scope=col>CancellationCode</th><th scope=col>Diverted</th></tr></thead>\n",
       "<tbody>\n",
       "\t<tr><th scope=row>5424</th><td>6     </td><td>1400  </td><td>1500  </td><td>AA    </td><td>428   </td><td>N576AA</td><td>60    </td><td>40    </td><td>-10   </td><td> 0    </td><td>IAH   </td><td>DFW   </td><td>224   </td><td>7     </td><td>13    </td><td>0     </td><td>      </td><td>0     </td></tr>\n",
       "\t<tr><th scope=row>5425</th><td>7     </td><td>1401  </td><td>1501  </td><td>AA    </td><td>428   </td><td>N557AA</td><td>60    </td><td>45    </td><td> -9   </td><td> 1    </td><td>IAH   </td><td>DFW   </td><td>224   </td><td>6     </td><td> 9    </td><td>0     </td><td>      </td><td>0     </td></tr>\n",
       "\t<tr><th scope=row>5426</th><td>1     </td><td>1352  </td><td>1502  </td><td>AA    </td><td>428   </td><td>N541AA</td><td>70    </td><td>48    </td><td> -8   </td><td>-8    </td><td>IAH   </td><td>DFW   </td><td>224   </td><td>5     </td><td>17    </td><td>0     </td><td>      </td><td>0     </td></tr>\n",
       "\t<tr><th scope=row>5427</th><td>2     </td><td>1403  </td><td>1513  </td><td>AA    </td><td>428   </td><td>N403AA</td><td>70    </td><td>39    </td><td>  3   </td><td> 3    </td><td>IAH   </td><td>DFW   </td><td>224   </td><td>9     </td><td>22    </td><td>0     </td><td>      </td><td>0     </td></tr>\n",
       "\t<tr><th scope=row>5428</th><td>3     </td><td>1405  </td><td>1507  </td><td>AA    </td><td>428   </td><td>N492AA</td><td>62    </td><td>44    </td><td> -3   </td><td> 5    </td><td>IAH   </td><td>DFW   </td><td>224   </td><td>9     </td><td> 9    </td><td>0     </td><td>      </td><td>0     </td></tr>\n",
       "\t<tr><th scope=row>5429</th><td>4     </td><td>1359  </td><td>1503  </td><td>AA    </td><td>428   </td><td>N262AA</td><td>64    </td><td>45    </td><td> -7   </td><td>-1    </td><td>IAH   </td><td>DFW   </td><td>224   </td><td>6     </td><td>13    </td><td>0     </td><td>      </td><td>0     </td></tr>\n",
       "</tbody>\n",
       "</table>\n"
      ],
      "text/latex": [
       "\\begin{tabular}{r|llllllllllllllllll}\n",
       "  & DayOfWeek & DepTime & ArrTime & UniqueCarrier & FlightNum & TailNum & ActualElapsedTime & AirTime & ArrDelay & DepDelay & Origin & Dest & Distance & TaxiIn & TaxiOut & Cancelled & CancellationCode & Diverted\\\\\n",
       "\\hline\n",
       "\t5424 & 6      & 1400   & 1500   & AA     & 428    & N576AA & 60     & 40     & -10    &  0     & IAH    & DFW    & 224    & 7      & 13     & 0      &        & 0     \\\\\n",
       "\t5425 & 7      & 1401   & 1501   & AA     & 428    & N557AA & 60     & 45     &  -9    &  1     & IAH    & DFW    & 224    & 6      &  9     & 0      &        & 0     \\\\\n",
       "\t5426 & 1      & 1352   & 1502   & AA     & 428    & N541AA & 70     & 48     &  -8    & -8     & IAH    & DFW    & 224    & 5      & 17     & 0      &        & 0     \\\\\n",
       "\t5427 & 2      & 1403   & 1513   & AA     & 428    & N403AA & 70     & 39     &   3    &  3     & IAH    & DFW    & 224    & 9      & 22     & 0      &        & 0     \\\\\n",
       "\t5428 & 3      & 1405   & 1507   & AA     & 428    & N492AA & 62     & 44     &  -3    &  5     & IAH    & DFW    & 224    & 9      &  9     & 0      &        & 0     \\\\\n",
       "\t5429 & 4      & 1359   & 1503   & AA     & 428    & N262AA & 64     & 45     &  -7    & -1     & IAH    & DFW    & 224    & 6      & 13     & 0      &        & 0     \\\\\n",
       "\\end{tabular}\n"
      ],
      "text/markdown": [
       "\n",
       "| <!--/--> | DayOfWeek | DepTime | ArrTime | UniqueCarrier | FlightNum | TailNum | ActualElapsedTime | AirTime | ArrDelay | DepDelay | Origin | Dest | Distance | TaxiIn | TaxiOut | Cancelled | CancellationCode | Diverted |\n",
       "|---|---|---|---|---|---|---|---|---|---|---|---|---|---|---|---|---|---|---|\n",
       "| 5424 | 6      | 1400   | 1500   | AA     | 428    | N576AA | 60     | 40     | -10    |  0     | IAH    | DFW    | 224    | 7      | 13     | 0      |        | 0      |\n",
       "| 5425 | 7      | 1401   | 1501   | AA     | 428    | N557AA | 60     | 45     |  -9    |  1     | IAH    | DFW    | 224    | 6      |  9     | 0      |        | 0      |\n",
       "| 5426 | 1      | 1352   | 1502   | AA     | 428    | N541AA | 70     | 48     |  -8    | -8     | IAH    | DFW    | 224    | 5      | 17     | 0      |        | 0      |\n",
       "| 5427 | 2      | 1403   | 1513   | AA     | 428    | N403AA | 70     | 39     |   3    |  3     | IAH    | DFW    | 224    | 9      | 22     | 0      |        | 0      |\n",
       "| 5428 | 3      | 1405   | 1507   | AA     | 428    | N492AA | 62     | 44     |  -3    |  5     | IAH    | DFW    | 224    | 9      |  9     | 0      |        | 0      |\n",
       "| 5429 | 4      | 1359   | 1503   | AA     | 428    | N262AA | 64     | 45     |  -7    | -1     | IAH    | DFW    | 224    | 6      | 13     | 0      |        | 0      |\n",
       "\n"
      ],
      "text/plain": [
       "     DayOfWeek DepTime ArrTime UniqueCarrier FlightNum TailNum\n",
       "5424 6         1400    1500    AA            428       N576AA \n",
       "5425 7         1401    1501    AA            428       N557AA \n",
       "5426 1         1352    1502    AA            428       N541AA \n",
       "5427 2         1403    1513    AA            428       N403AA \n",
       "5428 3         1405    1507    AA            428       N492AA \n",
       "5429 4         1359    1503    AA            428       N262AA \n",
       "     ActualElapsedTime AirTime ArrDelay DepDelay Origin Dest Distance TaxiIn\n",
       "5424 60                40      -10       0       IAH    DFW  224      7     \n",
       "5425 60                45       -9       1       IAH    DFW  224      6     \n",
       "5426 70                48       -8      -8       IAH    DFW  224      5     \n",
       "5427 70                39        3       3       IAH    DFW  224      9     \n",
       "5428 62                44       -3       5       IAH    DFW  224      9     \n",
       "5429 64                45       -7      -1       IAH    DFW  224      6     \n",
       "     TaxiOut Cancelled CancellationCode Diverted\n",
       "5424 13      0                          0       \n",
       "5425  9      0                          0       \n",
       "5426 17      0                          0       \n",
       "5427 22      0                          0       \n",
       "5428  9      0                          0       \n",
       "5429 13      0                          0       "
      ]
     },
     "metadata": {},
     "output_type": "display_data"
    },
    {
     "data": {
      "text/html": [
       "<table>\n",
       "<thead><tr><th></th><th scope=col>DayOfWeek</th><th scope=col>DepTime</th><th scope=col>ArrTime</th><th scope=col>UniqueCarrier</th><th scope=col>FlightNum</th><th scope=col>TailNum</th><th scope=col>ActualElapsedTime</th><th scope=col>AirTime</th><th scope=col>ArrDelay</th><th scope=col>DepDelay</th><th scope=col>Origin</th><th scope=col>Dest</th><th scope=col>Distance</th><th scope=col>TaxiIn</th><th scope=col>TaxiOut</th><th scope=col>Cancelled</th><th scope=col>CancellationCode</th><th scope=col>Diverted</th></tr></thead>\n",
       "<tbody>\n",
       "\t<tr><th scope=row>5424</th><td>6     </td><td>1400  </td><td>1500  </td><td>AA    </td><td>428   </td><td>N576AA</td><td>60    </td><td>40    </td><td>-10   </td><td> 0    </td><td>IAH   </td><td>DFW   </td><td>224   </td><td>7     </td><td>13    </td><td>0     </td><td>      </td><td>0     </td></tr>\n",
       "\t<tr><th scope=row>5425</th><td>7     </td><td>1401  </td><td>1501  </td><td>AA    </td><td>428   </td><td>N557AA</td><td>60    </td><td>45    </td><td> -9   </td><td> 1    </td><td>IAH   </td><td>DFW   </td><td>224   </td><td>6     </td><td> 9    </td><td>0     </td><td>      </td><td>0     </td></tr>\n",
       "\t<tr><th scope=row>5426</th><td>1     </td><td>1352  </td><td>1502  </td><td>AA    </td><td>428   </td><td>N541AA</td><td>70    </td><td>48    </td><td> -8   </td><td>-8    </td><td>IAH   </td><td>DFW   </td><td>224   </td><td>5     </td><td>17    </td><td>0     </td><td>      </td><td>0     </td></tr>\n",
       "\t<tr><th scope=row>5427</th><td>2     </td><td>1403  </td><td>1513  </td><td>AA    </td><td>428   </td><td>N403AA</td><td>70    </td><td>39    </td><td>  3   </td><td> 3    </td><td>IAH   </td><td>DFW   </td><td>224   </td><td>9     </td><td>22    </td><td>0     </td><td>      </td><td>0     </td></tr>\n",
       "\t<tr><th scope=row>5428</th><td>3     </td><td>1405  </td><td>1507  </td><td>AA    </td><td>428   </td><td>N492AA</td><td>62    </td><td>44    </td><td> -3   </td><td> 5    </td><td>IAH   </td><td>DFW   </td><td>224   </td><td>9     </td><td> 9    </td><td>0     </td><td>      </td><td>0     </td></tr>\n",
       "\t<tr><th scope=row>5429</th><td>4     </td><td>1359  </td><td>1503  </td><td>AA    </td><td>428   </td><td>N262AA</td><td>64    </td><td>45    </td><td> -7   </td><td>-1    </td><td>IAH   </td><td>DFW   </td><td>224   </td><td>6     </td><td>13    </td><td>0     </td><td>      </td><td>0     </td></tr>\n",
       "</tbody>\n",
       "</table>\n"
      ],
      "text/latex": [
       "\\begin{tabular}{r|llllllllllllllllll}\n",
       "  & DayOfWeek & DepTime & ArrTime & UniqueCarrier & FlightNum & TailNum & ActualElapsedTime & AirTime & ArrDelay & DepDelay & Origin & Dest & Distance & TaxiIn & TaxiOut & Cancelled & CancellationCode & Diverted\\\\\n",
       "\\hline\n",
       "\t5424 & 6      & 1400   & 1500   & AA     & 428    & N576AA & 60     & 40     & -10    &  0     & IAH    & DFW    & 224    & 7      & 13     & 0      &        & 0     \\\\\n",
       "\t5425 & 7      & 1401   & 1501   & AA     & 428    & N557AA & 60     & 45     &  -9    &  1     & IAH    & DFW    & 224    & 6      &  9     & 0      &        & 0     \\\\\n",
       "\t5426 & 1      & 1352   & 1502   & AA     & 428    & N541AA & 70     & 48     &  -8    & -8     & IAH    & DFW    & 224    & 5      & 17     & 0      &        & 0     \\\\\n",
       "\t5427 & 2      & 1403   & 1513   & AA     & 428    & N403AA & 70     & 39     &   3    &  3     & IAH    & DFW    & 224    & 9      & 22     & 0      &        & 0     \\\\\n",
       "\t5428 & 3      & 1405   & 1507   & AA     & 428    & N492AA & 62     & 44     &  -3    &  5     & IAH    & DFW    & 224    & 9      &  9     & 0      &        & 0     \\\\\n",
       "\t5429 & 4      & 1359   & 1503   & AA     & 428    & N262AA & 64     & 45     &  -7    & -1     & IAH    & DFW    & 224    & 6      & 13     & 0      &        & 0     \\\\\n",
       "\\end{tabular}\n"
      ],
      "text/markdown": [
       "\n",
       "| <!--/--> | DayOfWeek | DepTime | ArrTime | UniqueCarrier | FlightNum | TailNum | ActualElapsedTime | AirTime | ArrDelay | DepDelay | Origin | Dest | Distance | TaxiIn | TaxiOut | Cancelled | CancellationCode | Diverted |\n",
       "|---|---|---|---|---|---|---|---|---|---|---|---|---|---|---|---|---|---|---|\n",
       "| 5424 | 6      | 1400   | 1500   | AA     | 428    | N576AA | 60     | 40     | -10    |  0     | IAH    | DFW    | 224    | 7      | 13     | 0      |        | 0      |\n",
       "| 5425 | 7      | 1401   | 1501   | AA     | 428    | N557AA | 60     | 45     |  -9    |  1     | IAH    | DFW    | 224    | 6      |  9     | 0      |        | 0      |\n",
       "| 5426 | 1      | 1352   | 1502   | AA     | 428    | N541AA | 70     | 48     |  -8    | -8     | IAH    | DFW    | 224    | 5      | 17     | 0      |        | 0      |\n",
       "| 5427 | 2      | 1403   | 1513   | AA     | 428    | N403AA | 70     | 39     |   3    |  3     | IAH    | DFW    | 224    | 9      | 22     | 0      |        | 0      |\n",
       "| 5428 | 3      | 1405   | 1507   | AA     | 428    | N492AA | 62     | 44     |  -3    |  5     | IAH    | DFW    | 224    | 9      |  9     | 0      |        | 0      |\n",
       "| 5429 | 4      | 1359   | 1503   | AA     | 428    | N262AA | 64     | 45     |  -7    | -1     | IAH    | DFW    | 224    | 6      | 13     | 0      |        | 0      |\n",
       "\n"
      ],
      "text/plain": [
       "     DayOfWeek DepTime ArrTime UniqueCarrier FlightNum TailNum\n",
       "5424 6         1400    1500    AA            428       N576AA \n",
       "5425 7         1401    1501    AA            428       N557AA \n",
       "5426 1         1352    1502    AA            428       N541AA \n",
       "5427 2         1403    1513    AA            428       N403AA \n",
       "5428 3         1405    1507    AA            428       N492AA \n",
       "5429 4         1359    1503    AA            428       N262AA \n",
       "     ActualElapsedTime AirTime ArrDelay DepDelay Origin Dest Distance TaxiIn\n",
       "5424 60                40      -10       0       IAH    DFW  224      7     \n",
       "5425 60                45       -9       1       IAH    DFW  224      6     \n",
       "5426 70                48       -8      -8       IAH    DFW  224      5     \n",
       "5427 70                39        3       3       IAH    DFW  224      9     \n",
       "5428 62                44       -3       5       IAH    DFW  224      9     \n",
       "5429 64                45       -7      -1       IAH    DFW  224      6     \n",
       "     TaxiOut Cancelled CancellationCode Diverted\n",
       "5424 13      0                          0       \n",
       "5425  9      0                          0       \n",
       "5426 17      0                          0       \n",
       "5427 22      0                          0       \n",
       "5428  9      0                          0       \n",
       "5429 13      0                          0       "
      ]
     },
     "metadata": {},
     "output_type": "display_data"
    }
   ],
   "source": [
    "library(hflights)\n",
    "flight.df <- hflights\n",
    "flight.tbl <- hflights\n",
    "head(select(flight.tbl,-c(Year,Month,DayofMonth)))\n",
    "head(select(flight.tbl,-(Year:DayofMonth)))\n",
    "head(subset(flight.df,select = -c(Year,Month,DayofMonth)))"
   ]
  },
  {
   "cell_type": "markdown",
   "id": "deadly-zambia",
   "metadata": {},
   "source": [
    "#### 4. rename()\n",
    "- new_name = old_name 의 순서를 기억하자"
   ]
  },
  {
   "cell_type": "code",
   "execution_count": 23,
   "id": "split-platinum",
   "metadata": {},
   "outputs": [
    {
     "data": {
      "text/html": [
       "<table>\n",
       "<thead><tr><th scope=col>S.Length</th><th scope=col>Sepal.Width</th><th scope=col>P.Length</th><th scope=col>Petal.Width</th><th scope=col>Species</th></tr></thead>\n",
       "<tbody>\n",
       "\t<tr><td>5.1   </td><td>3.5   </td><td>1.4   </td><td>0.2   </td><td>setosa</td></tr>\n",
       "\t<tr><td>4.9   </td><td>3.0   </td><td>1.4   </td><td>0.2   </td><td>setosa</td></tr>\n",
       "\t<tr><td>4.7   </td><td>3.2   </td><td>1.3   </td><td>0.2   </td><td>setosa</td></tr>\n",
       "\t<tr><td>4.6   </td><td>3.1   </td><td>1.5   </td><td>0.2   </td><td>setosa</td></tr>\n",
       "\t<tr><td>5.0   </td><td>3.6   </td><td>1.4   </td><td>0.2   </td><td>setosa</td></tr>\n",
       "\t<tr><td>5.4   </td><td>3.9   </td><td>1.7   </td><td>0.4   </td><td>setosa</td></tr>\n",
       "</tbody>\n",
       "</table>\n"
      ],
      "text/latex": [
       "\\begin{tabular}{r|lllll}\n",
       " S.Length & Sepal.Width & P.Length & Petal.Width & Species\\\\\n",
       "\\hline\n",
       "\t 5.1    & 3.5    & 1.4    & 0.2    & setosa\\\\\n",
       "\t 4.9    & 3.0    & 1.4    & 0.2    & setosa\\\\\n",
       "\t 4.7    & 3.2    & 1.3    & 0.2    & setosa\\\\\n",
       "\t 4.6    & 3.1    & 1.5    & 0.2    & setosa\\\\\n",
       "\t 5.0    & 3.6    & 1.4    & 0.2    & setosa\\\\\n",
       "\t 5.4    & 3.9    & 1.7    & 0.4    & setosa\\\\\n",
       "\\end{tabular}\n"
      ],
      "text/markdown": [
       "\n",
       "| S.Length | Sepal.Width | P.Length | Petal.Width | Species |\n",
       "|---|---|---|---|---|\n",
       "| 5.1    | 3.5    | 1.4    | 0.2    | setosa |\n",
       "| 4.9    | 3.0    | 1.4    | 0.2    | setosa |\n",
       "| 4.7    | 3.2    | 1.3    | 0.2    | setosa |\n",
       "| 4.6    | 3.1    | 1.5    | 0.2    | setosa |\n",
       "| 5.0    | 3.6    | 1.4    | 0.2    | setosa |\n",
       "| 5.4    | 3.9    | 1.7    | 0.4    | setosa |\n",
       "\n"
      ],
      "text/plain": [
       "  S.Length Sepal.Width P.Length Petal.Width Species\n",
       "1 5.1      3.5         1.4      0.2         setosa \n",
       "2 4.9      3.0         1.4      0.2         setosa \n",
       "3 4.7      3.2         1.3      0.2         setosa \n",
       "4 4.6      3.1         1.5      0.2         setosa \n",
       "5 5.0      3.6         1.4      0.2         setosa \n",
       "6 5.4      3.9         1.7      0.4         setosa "
      ]
     },
     "metadata": {},
     "output_type": "display_data"
    }
   ],
   "source": [
    "head(rename(iris,S.Length=Sepal.Length,P.Length=Petal.Length))"
   ]
  },
  {
   "cell_type": "markdown",
   "id": "timely-charter",
   "metadata": {},
   "source": [
    "#### 5. arrange()\n",
    "- 소팅 기준 열을 지정\n",
    "- 가변인자를 통해 소팅 기준을 위한 열을 여러개 지정가능\n",
    "- desc()를 통해 내림차순 사용 가능\n",
    "- R에서 기본 제공하는 order함수도 동일한 기능 가능"
   ]
  },
  {
   "cell_type": "code",
   "execution_count": 17,
   "id": "greek-burning",
   "metadata": {},
   "outputs": [
    {
     "data": {
      "text/html": [
       "<table>\n",
       "<thead><tr><th scope=col>Year</th><th scope=col>Month</th><th scope=col>DayofMonth</th><th scope=col>DayOfWeek</th><th scope=col>DepTime</th><th scope=col>ArrTime</th><th scope=col>UniqueCarrier</th><th scope=col>FlightNum</th><th scope=col>TailNum</th><th scope=col>ActualElapsedTime</th><th scope=col>...</th><th scope=col>ArrDelay</th><th scope=col>DepDelay</th><th scope=col>Origin</th><th scope=col>Dest</th><th scope=col>Distance</th><th scope=col>TaxiIn</th><th scope=col>TaxiOut</th><th scope=col>Cancelled</th><th scope=col>CancellationCode</th><th scope=col>Diverted</th></tr></thead>\n",
       "<tbody>\n",
       "\t<tr><td>2011  </td><td>1     </td><td> 1    </td><td>6     </td><td>1400  </td><td>1500  </td><td>AA    </td><td>428   </td><td>N576AA</td><td>60    </td><td>...   </td><td>-10   </td><td> 0    </td><td>IAH   </td><td>DFW   </td><td>224   </td><td> 7    </td><td>13    </td><td>0     </td><td>      </td><td>0     </td></tr>\n",
       "\t<tr><td>2011  </td><td>1     </td><td> 2    </td><td>7     </td><td>1401  </td><td>1501  </td><td>AA    </td><td>428   </td><td>N557AA</td><td>60    </td><td>...   </td><td> -9   </td><td> 1    </td><td>IAH   </td><td>DFW   </td><td>224   </td><td> 6    </td><td> 9    </td><td>0     </td><td>      </td><td>0     </td></tr>\n",
       "\t<tr><td>2011  </td><td>1     </td><td> 3    </td><td>1     </td><td>1352  </td><td>1502  </td><td>AA    </td><td>428   </td><td>N541AA</td><td>70    </td><td>...   </td><td> -8   </td><td>-8    </td><td>IAH   </td><td>DFW   </td><td>224   </td><td> 5    </td><td>17    </td><td>0     </td><td>      </td><td>0     </td></tr>\n",
       "\t<tr><td>2011  </td><td>1     </td><td> 4    </td><td>2     </td><td>1403  </td><td>1513  </td><td>AA    </td><td>428   </td><td>N403AA</td><td>70    </td><td>...   </td><td>  3   </td><td> 3    </td><td>IAH   </td><td>DFW   </td><td>224   </td><td> 9    </td><td>22    </td><td>0     </td><td>      </td><td>0     </td></tr>\n",
       "\t<tr><td>2011  </td><td>1     </td><td> 5    </td><td>3     </td><td>1405  </td><td>1507  </td><td>AA    </td><td>428   </td><td>N492AA</td><td>62    </td><td>...   </td><td> -3   </td><td> 5    </td><td>IAH   </td><td>DFW   </td><td>224   </td><td> 9    </td><td> 9    </td><td>0     </td><td>      </td><td>0     </td></tr>\n",
       "\t<tr><td>2011  </td><td>1     </td><td> 6    </td><td>4     </td><td>1359  </td><td>1503  </td><td>AA    </td><td>428   </td><td>N262AA</td><td>64    </td><td>...   </td><td> -7   </td><td>-1    </td><td>IAH   </td><td>DFW   </td><td>224   </td><td> 6    </td><td>13    </td><td>0     </td><td>      </td><td>0     </td></tr>\n",
       "\t<tr><td>2011  </td><td>1     </td><td> 7    </td><td>5     </td><td>1359  </td><td>1509  </td><td>AA    </td><td>428   </td><td>N493AA</td><td>70    </td><td>...   </td><td> -1   </td><td>-1    </td><td>IAH   </td><td>DFW   </td><td>224   </td><td>12    </td><td>15    </td><td>0     </td><td>      </td><td>0     </td></tr>\n",
       "\t<tr><td>2011  </td><td>1     </td><td> 8    </td><td>6     </td><td>1355  </td><td>1454  </td><td>AA    </td><td>428   </td><td>N477AA</td><td>59    </td><td>...   </td><td>-16   </td><td>-5    </td><td>IAH   </td><td>DFW   </td><td>224   </td><td> 7    </td><td>12    </td><td>0     </td><td>      </td><td>0     </td></tr>\n",
       "\t<tr><td>2011  </td><td>1     </td><td> 9    </td><td>7     </td><td>1443  </td><td>1554  </td><td>AA    </td><td>428   </td><td>N476AA</td><td>71    </td><td>...   </td><td> 44   </td><td>43    </td><td>IAH   </td><td>DFW   </td><td>224   </td><td> 8    </td><td>22    </td><td>0     </td><td>      </td><td>0     </td></tr>\n",
       "\t<tr><td>2011  </td><td>1     </td><td>10    </td><td>1     </td><td>1443  </td><td>1553  </td><td>AA    </td><td>428   </td><td>N504AA</td><td>70    </td><td>...   </td><td> 43   </td><td>43    </td><td>IAH   </td><td>DFW   </td><td>224   </td><td> 6    </td><td>19    </td><td>0     </td><td>      </td><td>0     </td></tr>\n",
       "\t<tr><td>2011  </td><td>1     </td><td>11    </td><td>2     </td><td>1429  </td><td>1539  </td><td>AA    </td><td>428   </td><td>N565AA</td><td>70    </td><td>...   </td><td> 29   </td><td>29    </td><td>IAH   </td><td>DFW   </td><td>224   </td><td> 8    </td><td>20    </td><td>0     </td><td>      </td><td>0     </td></tr>\n",
       "\t<tr><td>2011  </td><td>1     </td><td>12    </td><td>3     </td><td>1419  </td><td>1515  </td><td>AA    </td><td>428   </td><td>N577AA</td><td>56    </td><td>...   </td><td>  5   </td><td>19    </td><td>IAH   </td><td>DFW   </td><td>224   </td><td> 4    </td><td>11    </td><td>0     </td><td>      </td><td>0     </td></tr>\n",
       "\t<tr><td>2011  </td><td>1     </td><td>13    </td><td>4     </td><td>1358  </td><td>1501  </td><td>AA    </td><td>428   </td><td>N476AA</td><td>63    </td><td>...   </td><td> -9   </td><td>-2    </td><td>IAH   </td><td>DFW   </td><td>224   </td><td> 6    </td><td>13    </td><td>0     </td><td>      </td><td>0     </td></tr>\n",
       "\t<tr><td>2011  </td><td>1     </td><td>14    </td><td>5     </td><td>1357  </td><td>1504  </td><td>AA    </td><td>428   </td><td>N552AA</td><td>67    </td><td>...   </td><td> -6   </td><td>-3    </td><td>IAH   </td><td>DFW   </td><td>224   </td><td> 5    </td><td>15    </td><td>0     </td><td>      </td><td>0     </td></tr>\n",
       "\t<tr><td>2011  </td><td>1     </td><td>15    </td><td>6     </td><td>1359  </td><td>1459  </td><td>AA    </td><td>428   </td><td>N462AA</td><td>60    </td><td>...   </td><td>-11   </td><td>-1    </td><td>IAH   </td><td>DFW   </td><td>224   </td><td> 6    </td><td>10    </td><td>0     </td><td>      </td><td>0     </td></tr>\n",
       "\t<tr><td>2011  </td><td>1     </td><td>16    </td><td>7     </td><td>1359  </td><td>1509  </td><td>AA    </td><td>428   </td><td>N555AA</td><td>70    </td><td>...   </td><td> -1   </td><td>-1    </td><td>IAH   </td><td>DFW   </td><td>224   </td><td>12    </td><td>17    </td><td>0     </td><td>      </td><td>0     </td></tr>\n",
       "\t<tr><td>2011  </td><td>1     </td><td>17    </td><td>1     </td><td>1530  </td><td>1634  </td><td>AA    </td><td>428   </td><td>N518AA</td><td>64    </td><td>...   </td><td> 84   </td><td>90    </td><td>IAH   </td><td>DFW   </td><td>224   </td><td> 8    </td><td> 8    </td><td>0     </td><td>      </td><td>0     </td></tr>\n",
       "\t<tr><td>2011  </td><td>1     </td><td>18    </td><td>2     </td><td>1408  </td><td>1508  </td><td>AA    </td><td>428   </td><td>N507AA</td><td>60    </td><td>...   </td><td> -2   </td><td> 8    </td><td>IAH   </td><td>DFW   </td><td>224   </td><td> 7    </td><td>11    </td><td>0     </td><td>      </td><td>0     </td></tr>\n",
       "\t<tr><td>2011  </td><td>1     </td><td>19    </td><td>3     </td><td>1356  </td><td>1503  </td><td>AA    </td><td>428   </td><td>N523AA</td><td>67    </td><td>...   </td><td> -7   </td><td>-4    </td><td>IAH   </td><td>DFW   </td><td>224   </td><td>10    </td><td>11    </td><td>0     </td><td>      </td><td>0     </td></tr>\n",
       "\t<tr><td>2011  </td><td>1     </td><td>20    </td><td>4     </td><td>1507  </td><td>1622  </td><td>AA    </td><td>428   </td><td>N425AA</td><td>75    </td><td>...   </td><td> 72   </td><td>67    </td><td>IAH   </td><td>DFW   </td><td>224   </td><td> 9    </td><td>24    </td><td>0     </td><td>      </td><td>0     </td></tr>\n",
       "\t<tr><td>2011  </td><td>1     </td><td>21    </td><td>5     </td><td>1357  </td><td>1459  </td><td>AA    </td><td>428   </td><td>N251AA</td><td>62    </td><td>...   </td><td>-11   </td><td>-3    </td><td>IAH   </td><td>DFW   </td><td>224   </td><td> 6    </td><td> 9    </td><td>0     </td><td>      </td><td>0     </td></tr>\n",
       "\t<tr><td>2011  </td><td>1     </td><td>22    </td><td>6     </td><td>1355  </td><td>1456  </td><td>AA    </td><td>428   </td><td>N551AA</td><td>61    </td><td>...   </td><td>-14   </td><td>-5    </td><td>IAH   </td><td>DFW   </td><td>224   </td><td> 9    </td><td> 8    </td><td>0     </td><td>      </td><td>0     </td></tr>\n",
       "\t<tr><td>2011  </td><td>1     </td><td>23    </td><td>7     </td><td>1356  </td><td>1501  </td><td>AA    </td><td>428   </td><td>N479AA</td><td>65    </td><td>...   </td><td> -9   </td><td>-4    </td><td>IAH   </td><td>DFW   </td><td>224   </td><td> 7    </td><td>18    </td><td>0     </td><td>      </td><td>0     </td></tr>\n",
       "\t<tr><td>2011  </td><td>1     </td><td>24    </td><td>1     </td><td>1356  </td><td>1513  </td><td>AA    </td><td>428   </td><td>N531AA</td><td>77    </td><td>...   </td><td>  3   </td><td>-4    </td><td>IAH   </td><td>DFW   </td><td>224   </td><td> 6    </td><td>28    </td><td>0     </td><td>      </td><td>0     </td></tr>\n",
       "\t<tr><td>2011  </td><td>1     </td><td>25    </td><td>2     </td><td>1352  </td><td>1452  </td><td>AA    </td><td>428   </td><td>N561AA</td><td>60    </td><td>...   </td><td>-18   </td><td>-8    </td><td>IAH   </td><td>DFW   </td><td>224   </td><td> 7    </td><td>13    </td><td>0     </td><td>      </td><td>0     </td></tr>\n",
       "\t<tr><td>2011  </td><td>1     </td><td>26    </td><td>3     </td><td>1353  </td><td>1455  </td><td>AA    </td><td>428   </td><td>N541AA</td><td>62    </td><td>...   </td><td>-15   </td><td>-7    </td><td>IAH   </td><td>DFW   </td><td>224   </td><td> 8    </td><td>14    </td><td>0     </td><td>      </td><td>0     </td></tr>\n",
       "\t<tr><td>2011  </td><td>1     </td><td>27    </td><td>4     </td><td>1356  </td><td>1458  </td><td>AA    </td><td>428   </td><td>N512AA</td><td>62    </td><td>...   </td><td>-12   </td><td>-4    </td><td>IAH   </td><td>DFW   </td><td>224   </td><td>12    </td><td>10    </td><td>0     </td><td>      </td><td>0     </td></tr>\n",
       "\t<tr><td>2011  </td><td>1     </td><td>28    </td><td>5     </td><td>1359  </td><td>1505  </td><td>AA    </td><td>428   </td><td>N4UBAA</td><td>66    </td><td>...   </td><td> -5   </td><td>-1    </td><td>IAH   </td><td>DFW   </td><td>224   </td><td> 8    </td><td>12    </td><td>0     </td><td>      </td><td>0     </td></tr>\n",
       "\t<tr><td>2011  </td><td>1     </td><td>29    </td><td>6     </td><td>1355  </td><td>1455  </td><td>AA    </td><td>428   </td><td>N491AA</td><td>60    </td><td>...   </td><td>-15   </td><td>-5    </td><td>IAH   </td><td>DFW   </td><td>224   </td><td> 7    </td><td> 7    </td><td>0     </td><td>      </td><td>0     </td></tr>\n",
       "\t<tr><td>2011  </td><td>1     </td><td>30    </td><td>7     </td><td>1359  </td><td>1456  </td><td>AA    </td><td>428   </td><td>N561AA</td><td>57    </td><td>...   </td><td>-14   </td><td>-1    </td><td>IAH   </td><td>DFW   </td><td>224   </td><td> 7    </td><td>11    </td><td>0     </td><td>      </td><td>0     </td></tr>\n",
       "\t<tr><td>...</td><td>...</td><td>...</td><td>...</td><td>...</td><td>...</td><td>...</td><td>...</td><td>...</td><td>...</td><td>   </td><td>...</td><td>...</td><td>...</td><td>...</td><td>...</td><td>...</td><td>...</td><td>...</td><td>...</td><td>...</td></tr>\n",
       "\t<tr><td>2011  </td><td>12    </td><td>6     </td><td>2     </td><td> 752  </td><td> 857  </td><td>WN    </td><td>1628  </td><td>N435WN</td><td> 65   </td><td>...   </td><td>  2   </td><td>-3    </td><td>HOU   </td><td>MSY   </td><td> 302  </td><td> 4    </td><td>11    </td><td>0     </td><td>      </td><td>0     </td></tr>\n",
       "\t<tr><td>2011  </td><td>12    </td><td>6     </td><td>2     </td><td> 651  </td><td> 746  </td><td>WN    </td><td>2534  </td><td>N232WN</td><td> 55   </td><td>...   </td><td> -9   </td><td>-4    </td><td>HOU   </td><td>MSY   </td><td> 302  </td><td> 5    </td><td> 7    </td><td>0     </td><td>      </td><td>0     </td></tr>\n",
       "\t<tr><td>2011  </td><td>12    </td><td>6     </td><td>2     </td><td>1728  </td><td>1932  </td><td>WN    </td><td> 902  </td><td>N724SW</td><td>244   </td><td>...   </td><td>  7   </td><td>23    </td><td>HOU   </td><td>OAK   </td><td>1642  </td><td> 5    </td><td> 8    </td><td>0     </td><td>      </td><td>0     </td></tr>\n",
       "\t<tr><td>2011  </td><td>12    </td><td>6     </td><td>2     </td><td>1115  </td><td>1315  </td><td>WN    </td><td>1167  </td><td>N455WN</td><td>240   </td><td>...   </td><td>-15   </td><td> 5    </td><td>HOU   </td><td>OAK   </td><td>1642  </td><td> 6    </td><td> 9    </td><td>0     </td><td>      </td><td>0     </td></tr>\n",
       "\t<tr><td>2011  </td><td>12    </td><td>6     </td><td>2     </td><td>1753  </td><td>1911  </td><td>WN    </td><td> 513  </td><td>N362SW</td><td> 78   </td><td>...   </td><td> 31   </td><td>33    </td><td>HOU   </td><td>OKC   </td><td> 419  </td><td> 4    </td><td>15    </td><td>0     </td><td>      </td><td>0     </td></tr>\n",
       "\t<tr><td>2011  </td><td>12    </td><td>6     </td><td>2     </td><td>1222  </td><td>1335  </td><td>WN    </td><td> 581  </td><td>N646SW</td><td> 73   </td><td>...   </td><td>-10   </td><td>-3    </td><td>HOU   </td><td>OKC   </td><td> 419  </td><td> 3    </td><td> 9    </td><td>0     </td><td>      </td><td>0     </td></tr>\n",
       "\t<tr><td>2011  </td><td>12    </td><td>6     </td><td>2     </td><td> 836  </td><td> 946  </td><td>WN    </td><td>1223  </td><td>N394SW</td><td> 70   </td><td>...   </td><td> -9   </td><td> 1    </td><td>HOU   </td><td>OKC   </td><td> 419  </td><td> 4    </td><td> 8    </td><td>0     </td><td>      </td><td>0     </td></tr>\n",
       "\t<tr><td>2011  </td><td>12    </td><td>6     </td><td>2     </td><td>1352  </td><td>1749  </td><td>WN    </td><td>3085  </td><td>N510SW</td><td>177   </td><td>...   </td><td> 59   </td><td>72    </td><td>HOU   </td><td>PHL   </td><td>1336  </td><td> 5    </td><td> 9    </td><td>0     </td><td>      </td><td>0     </td></tr>\n",
       "\t<tr><td>2011  </td><td>12    </td><td>6     </td><td>2     </td><td>1850  </td><td>2046  </td><td>WN    </td><td>  39  </td><td>N754SW</td><td>176   </td><td>...   </td><td> 71   </td><td>70    </td><td>HOU   </td><td>PHX   </td><td>1020  </td><td> 4    </td><td>15    </td><td>0     </td><td>      </td><td>0     </td></tr>\n",
       "\t<tr><td>2011  </td><td>12    </td><td>6     </td><td>2     </td><td> 707  </td><td> 903  </td><td>WN    </td><td> 424  </td><td>N769SW</td><td>176   </td><td>...   </td><td> -2   </td><td>-3    </td><td>HOU   </td><td>PHX   </td><td>1020  </td><td> 4    </td><td>10    </td><td>0     </td><td>      </td><td>0     </td></tr>\n",
       "\t<tr><td>2011  </td><td>12    </td><td>6     </td><td>2     </td><td>1335  </td><td>1528  </td><td>WN    </td><td>1098  </td><td>N448WN</td><td>173   </td><td>...   </td><td> 18   </td><td>20    </td><td>HOU   </td><td>PHX   </td><td>1020  </td><td> 4    </td><td>10    </td><td>0     </td><td>      </td><td>0     </td></tr>\n",
       "\t<tr><td>2011  </td><td>12    </td><td>6     </td><td>2     </td><td>1005  </td><td>1158  </td><td>WN    </td><td>1403  </td><td>N430WN</td><td>173   </td><td>...   </td><td> 13   </td><td>15    </td><td>HOU   </td><td>PHX   </td><td>1020  </td><td> 3    </td><td> 7    </td><td>0     </td><td>      </td><td>0     </td></tr>\n",
       "\t<tr><td>2011  </td><td>12    </td><td>6     </td><td>2     </td><td>1723  </td><td>1845  </td><td>WN    </td><td>  33  </td><td>N698SW</td><td>202   </td><td>...   </td><td> 70   </td><td>78    </td><td>HOU   </td><td>SAN   </td><td>1313  </td><td> 3    </td><td> 7    </td><td>0     </td><td>      </td><td>0     </td></tr>\n",
       "\t<tr><td>2011  </td><td>12    </td><td>6     </td><td>2     </td><td>1139  </td><td>1304  </td><td>WN    </td><td>1212  </td><td>N226WN</td><td>205   </td><td>...   </td><td> -6   </td><td>-1    </td><td>HOU   </td><td>SAN   </td><td>1313  </td><td> 2    </td><td>10    </td><td>0     </td><td>      </td><td>0     </td></tr>\n",
       "\t<tr><td>2011  </td><td>12    </td><td>6     </td><td>2     </td><td>2023  </td><td>2109  </td><td>WN    </td><td> 207  </td><td>N354SW</td><td> 46   </td><td>...   </td><td> 29   </td><td>43    </td><td>HOU   </td><td>SAT   </td><td> 192  </td><td> 4    </td><td> 4    </td><td>0     </td><td>      </td><td>0     </td></tr>\n",
       "\t<tr><td>2011  </td><td>12    </td><td>6     </td><td>2     </td><td>1542  </td><td>1637  </td><td>WN    </td><td> 405  </td><td>N617SW</td><td> 55   </td><td>...   </td><td> 12   </td><td>12    </td><td>HOU   </td><td>SAT   </td><td> 192  </td><td> 4    </td><td> 8    </td><td>0     </td><td>      </td><td>0     </td></tr>\n",
       "\t<tr><td>2011  </td><td>12    </td><td>6     </td><td>2     </td><td>1728  </td><td>1825  </td><td>WN    </td><td> 628  </td><td>N389SW</td><td> 57   </td><td>...   </td><td>  5   </td><td> 3    </td><td>HOU   </td><td>SAT   </td><td> 192  </td><td> 4    </td><td>14    </td><td>0     </td><td>      </td><td>0     </td></tr>\n",
       "\t<tr><td>2011  </td><td>12    </td><td>6     </td><td>2     </td><td>1252  </td><td>1349  </td><td>WN    </td><td> 994  </td><td>N713SW</td><td> 57   </td><td>...   </td><td>  9   </td><td> 7    </td><td>HOU   </td><td>SAT   </td><td> 192  </td><td> 5    </td><td> 9    </td><td>0     </td><td>      </td><td>0     </td></tr>\n",
       "\t<tr><td>2011  </td><td>12    </td><td>6     </td><td>2     </td><td> 857  </td><td> 955  </td><td>WN    </td><td>1231  </td><td>N284WN</td><td> 58   </td><td>...   </td><td>  0   </td><td>-3    </td><td>HOU   </td><td>SAT   </td><td> 192  </td><td> 5    </td><td> 9    </td><td>0     </td><td>      </td><td>0     </td></tr>\n",
       "\t<tr><td>2011  </td><td>12    </td><td>6     </td><td>2     </td><td>1939  </td><td>2119  </td><td>WN    </td><td> 124  </td><td>N522SW</td><td>100   </td><td>...   </td><td> 14   </td><td>39    </td><td>HOU   </td><td>STL   </td><td> 687  </td><td> 4    </td><td>15    </td><td>0     </td><td>      </td><td>0     </td></tr>\n",
       "\t<tr><td>2011  </td><td>12    </td><td>6     </td><td>2     </td><td> 556  </td><td> 745  </td><td>WN    </td><td> 280  </td><td>N728SW</td><td>109   </td><td>...   </td><td>-10   </td><td>-4    </td><td>HOU   </td><td>STL   </td><td> 687  </td><td>13    </td><td> 9    </td><td>0     </td><td>      </td><td>0     </td></tr>\n",
       "\t<tr><td>2011  </td><td>12    </td><td>6     </td><td>2     </td><td>1026  </td><td>1208  </td><td>WN    </td><td> 782  </td><td>N476WN</td><td>102   </td><td>...   </td><td>-12   </td><td> 1    </td><td>HOU   </td><td>STL   </td><td> 687  </td><td> 4    </td><td>12    </td><td>0     </td><td>      </td><td>0     </td></tr>\n",
       "\t<tr><td>2011  </td><td>12    </td><td>6     </td><td>2     </td><td>1611  </td><td>1746  </td><td>WN    </td><td>1050  </td><td>N655WN</td><td> 95   </td><td>...   </td><td> -9   </td><td>16    </td><td>HOU   </td><td>STL   </td><td> 687  </td><td> 3    </td><td> 9    </td><td>0     </td><td>      </td><td>0     </td></tr>\n",
       "\t<tr><td>2011  </td><td>12    </td><td>6     </td><td>2     </td><td> 758  </td><td>1051  </td><td>WN    </td><td> 201  </td><td>N903WN</td><td>113   </td><td>...   </td><td> -4   </td><td>-2    </td><td>HOU   </td><td>TPA   </td><td> 781  </td><td> 3    </td><td>10    </td><td>0     </td><td>      </td><td>0     </td></tr>\n",
       "\t<tr><td>2011  </td><td>12    </td><td>6     </td><td>2     </td><td>1307  </td><td>1600  </td><td>WN    </td><td> 471  </td><td>N632SW</td><td>113   </td><td>...   </td><td>  0   </td><td> 7    </td><td>HOU   </td><td>TPA   </td><td> 781  </td><td> 5    </td><td>10    </td><td>0     </td><td>      </td><td>0     </td></tr>\n",
       "\t<tr><td>2011  </td><td>12    </td><td>6     </td><td>2     </td><td>1818  </td><td>2111  </td><td>WN    </td><td>1191  </td><td>N284WN</td><td>113   </td><td>...   </td><td> -9   </td><td> 8    </td><td>HOU   </td><td>TPA   </td><td> 781  </td><td> 5    </td><td>11    </td><td>0     </td><td>      </td><td>0     </td></tr>\n",
       "\t<tr><td>2011  </td><td>12    </td><td>6     </td><td>2     </td><td>2047  </td><td>2334  </td><td>WN    </td><td>1674  </td><td>N366SW</td><td>107   </td><td>...   </td><td>  4   </td><td> 7    </td><td>HOU   </td><td>TPA   </td><td> 781  </td><td> 4    </td><td> 9    </td><td>0     </td><td>      </td><td>0     </td></tr>\n",
       "\t<tr><td>2011  </td><td>12    </td><td>6     </td><td>2     </td><td> 912  </td><td>1031  </td><td>WN    </td><td> 127  </td><td>N777QC</td><td> 79   </td><td>...   </td><td> -4   </td><td>-3    </td><td>HOU   </td><td>TUL   </td><td> 453  </td><td> 4    </td><td>14    </td><td>0     </td><td>      </td><td>0     </td></tr>\n",
       "\t<tr><td>2011  </td><td>12    </td><td>6     </td><td>2     </td><td> 656  </td><td> 812  </td><td>WN    </td><td> 621  </td><td>N727SW</td><td> 76   </td><td>...   </td><td>-13   </td><td>-4    </td><td>HOU   </td><td>TUL   </td><td> 453  </td><td> 3    </td><td> 9    </td><td>0     </td><td>      </td><td>0     </td></tr>\n",
       "\t<tr><td>2011  </td><td>12    </td><td>6     </td><td>2     </td><td>1600  </td><td>1713  </td><td>WN    </td><td>1597  </td><td>N745SW</td><td> 73   </td><td>...   </td><td>-12   </td><td> 0    </td><td>HOU   </td><td>TUL   </td><td> 453  </td><td> 3    </td><td>11    </td><td>0     </td><td>      </td><td>0     </td></tr>\n",
       "</tbody>\n",
       "</table>\n"
      ],
      "text/latex": [
       "\\begin{tabular}{r|lllllllllllllllllllll}\n",
       " Year & Month & DayofMonth & DayOfWeek & DepTime & ArrTime & UniqueCarrier & FlightNum & TailNum & ActualElapsedTime & ... & ArrDelay & DepDelay & Origin & Dest & Distance & TaxiIn & TaxiOut & Cancelled & CancellationCode & Diverted\\\\\n",
       "\\hline\n",
       "\t 2011   & 1      &  1     & 6      & 1400   & 1500   & AA     & 428    & N576AA & 60     & ...    & -10    &  0     & IAH    & DFW    & 224    &  7     & 13     & 0      &        & 0     \\\\\n",
       "\t 2011   & 1      &  2     & 7      & 1401   & 1501   & AA     & 428    & N557AA & 60     & ...    &  -9    &  1     & IAH    & DFW    & 224    &  6     &  9     & 0      &        & 0     \\\\\n",
       "\t 2011   & 1      &  3     & 1      & 1352   & 1502   & AA     & 428    & N541AA & 70     & ...    &  -8    & -8     & IAH    & DFW    & 224    &  5     & 17     & 0      &        & 0     \\\\\n",
       "\t 2011   & 1      &  4     & 2      & 1403   & 1513   & AA     & 428    & N403AA & 70     & ...    &   3    &  3     & IAH    & DFW    & 224    &  9     & 22     & 0      &        & 0     \\\\\n",
       "\t 2011   & 1      &  5     & 3      & 1405   & 1507   & AA     & 428    & N492AA & 62     & ...    &  -3    &  5     & IAH    & DFW    & 224    &  9     &  9     & 0      &        & 0     \\\\\n",
       "\t 2011   & 1      &  6     & 4      & 1359   & 1503   & AA     & 428    & N262AA & 64     & ...    &  -7    & -1     & IAH    & DFW    & 224    &  6     & 13     & 0      &        & 0     \\\\\n",
       "\t 2011   & 1      &  7     & 5      & 1359   & 1509   & AA     & 428    & N493AA & 70     & ...    &  -1    & -1     & IAH    & DFW    & 224    & 12     & 15     & 0      &        & 0     \\\\\n",
       "\t 2011   & 1      &  8     & 6      & 1355   & 1454   & AA     & 428    & N477AA & 59     & ...    & -16    & -5     & IAH    & DFW    & 224    &  7     & 12     & 0      &        & 0     \\\\\n",
       "\t 2011   & 1      &  9     & 7      & 1443   & 1554   & AA     & 428    & N476AA & 71     & ...    &  44    & 43     & IAH    & DFW    & 224    &  8     & 22     & 0      &        & 0     \\\\\n",
       "\t 2011   & 1      & 10     & 1      & 1443   & 1553   & AA     & 428    & N504AA & 70     & ...    &  43    & 43     & IAH    & DFW    & 224    &  6     & 19     & 0      &        & 0     \\\\\n",
       "\t 2011   & 1      & 11     & 2      & 1429   & 1539   & AA     & 428    & N565AA & 70     & ...    &  29    & 29     & IAH    & DFW    & 224    &  8     & 20     & 0      &        & 0     \\\\\n",
       "\t 2011   & 1      & 12     & 3      & 1419   & 1515   & AA     & 428    & N577AA & 56     & ...    &   5    & 19     & IAH    & DFW    & 224    &  4     & 11     & 0      &        & 0     \\\\\n",
       "\t 2011   & 1      & 13     & 4      & 1358   & 1501   & AA     & 428    & N476AA & 63     & ...    &  -9    & -2     & IAH    & DFW    & 224    &  6     & 13     & 0      &        & 0     \\\\\n",
       "\t 2011   & 1      & 14     & 5      & 1357   & 1504   & AA     & 428    & N552AA & 67     & ...    &  -6    & -3     & IAH    & DFW    & 224    &  5     & 15     & 0      &        & 0     \\\\\n",
       "\t 2011   & 1      & 15     & 6      & 1359   & 1459   & AA     & 428    & N462AA & 60     & ...    & -11    & -1     & IAH    & DFW    & 224    &  6     & 10     & 0      &        & 0     \\\\\n",
       "\t 2011   & 1      & 16     & 7      & 1359   & 1509   & AA     & 428    & N555AA & 70     & ...    &  -1    & -1     & IAH    & DFW    & 224    & 12     & 17     & 0      &        & 0     \\\\\n",
       "\t 2011   & 1      & 17     & 1      & 1530   & 1634   & AA     & 428    & N518AA & 64     & ...    &  84    & 90     & IAH    & DFW    & 224    &  8     &  8     & 0      &        & 0     \\\\\n",
       "\t 2011   & 1      & 18     & 2      & 1408   & 1508   & AA     & 428    & N507AA & 60     & ...    &  -2    &  8     & IAH    & DFW    & 224    &  7     & 11     & 0      &        & 0     \\\\\n",
       "\t 2011   & 1      & 19     & 3      & 1356   & 1503   & AA     & 428    & N523AA & 67     & ...    &  -7    & -4     & IAH    & DFW    & 224    & 10     & 11     & 0      &        & 0     \\\\\n",
       "\t 2011   & 1      & 20     & 4      & 1507   & 1622   & AA     & 428    & N425AA & 75     & ...    &  72    & 67     & IAH    & DFW    & 224    &  9     & 24     & 0      &        & 0     \\\\\n",
       "\t 2011   & 1      & 21     & 5      & 1357   & 1459   & AA     & 428    & N251AA & 62     & ...    & -11    & -3     & IAH    & DFW    & 224    &  6     &  9     & 0      &        & 0     \\\\\n",
       "\t 2011   & 1      & 22     & 6      & 1355   & 1456   & AA     & 428    & N551AA & 61     & ...    & -14    & -5     & IAH    & DFW    & 224    &  9     &  8     & 0      &        & 0     \\\\\n",
       "\t 2011   & 1      & 23     & 7      & 1356   & 1501   & AA     & 428    & N479AA & 65     & ...    &  -9    & -4     & IAH    & DFW    & 224    &  7     & 18     & 0      &        & 0     \\\\\n",
       "\t 2011   & 1      & 24     & 1      & 1356   & 1513   & AA     & 428    & N531AA & 77     & ...    &   3    & -4     & IAH    & DFW    & 224    &  6     & 28     & 0      &        & 0     \\\\\n",
       "\t 2011   & 1      & 25     & 2      & 1352   & 1452   & AA     & 428    & N561AA & 60     & ...    & -18    & -8     & IAH    & DFW    & 224    &  7     & 13     & 0      &        & 0     \\\\\n",
       "\t 2011   & 1      & 26     & 3      & 1353   & 1455   & AA     & 428    & N541AA & 62     & ...    & -15    & -7     & IAH    & DFW    & 224    &  8     & 14     & 0      &        & 0     \\\\\n",
       "\t 2011   & 1      & 27     & 4      & 1356   & 1458   & AA     & 428    & N512AA & 62     & ...    & -12    & -4     & IAH    & DFW    & 224    & 12     & 10     & 0      &        & 0     \\\\\n",
       "\t 2011   & 1      & 28     & 5      & 1359   & 1505   & AA     & 428    & N4UBAA & 66     & ...    &  -5    & -1     & IAH    & DFW    & 224    &  8     & 12     & 0      &        & 0     \\\\\n",
       "\t 2011   & 1      & 29     & 6      & 1355   & 1455   & AA     & 428    & N491AA & 60     & ...    & -15    & -5     & IAH    & DFW    & 224    &  7     &  7     & 0      &        & 0     \\\\\n",
       "\t 2011   & 1      & 30     & 7      & 1359   & 1456   & AA     & 428    & N561AA & 57     & ...    & -14    & -1     & IAH    & DFW    & 224    &  7     & 11     & 0      &        & 0     \\\\\n",
       "\t ... & ... & ... & ... & ... & ... & ... & ... & ... & ... &     & ... & ... & ... & ... & ... & ... & ... & ... & ... & ...\\\\\n",
       "\t 2011   & 12     & 6      & 2      &  752   &  857   & WN     & 1628   & N435WN &  65    & ...    &   2    & -3     & HOU    & MSY    &  302   &  4     & 11     & 0      &        & 0     \\\\\n",
       "\t 2011   & 12     & 6      & 2      &  651   &  746   & WN     & 2534   & N232WN &  55    & ...    &  -9    & -4     & HOU    & MSY    &  302   &  5     &  7     & 0      &        & 0     \\\\\n",
       "\t 2011   & 12     & 6      & 2      & 1728   & 1932   & WN     &  902   & N724SW & 244    & ...    &   7    & 23     & HOU    & OAK    & 1642   &  5     &  8     & 0      &        & 0     \\\\\n",
       "\t 2011   & 12     & 6      & 2      & 1115   & 1315   & WN     & 1167   & N455WN & 240    & ...    & -15    &  5     & HOU    & OAK    & 1642   &  6     &  9     & 0      &        & 0     \\\\\n",
       "\t 2011   & 12     & 6      & 2      & 1753   & 1911   & WN     &  513   & N362SW &  78    & ...    &  31    & 33     & HOU    & OKC    &  419   &  4     & 15     & 0      &        & 0     \\\\\n",
       "\t 2011   & 12     & 6      & 2      & 1222   & 1335   & WN     &  581   & N646SW &  73    & ...    & -10    & -3     & HOU    & OKC    &  419   &  3     &  9     & 0      &        & 0     \\\\\n",
       "\t 2011   & 12     & 6      & 2      &  836   &  946   & WN     & 1223   & N394SW &  70    & ...    &  -9    &  1     & HOU    & OKC    &  419   &  4     &  8     & 0      &        & 0     \\\\\n",
       "\t 2011   & 12     & 6      & 2      & 1352   & 1749   & WN     & 3085   & N510SW & 177    & ...    &  59    & 72     & HOU    & PHL    & 1336   &  5     &  9     & 0      &        & 0     \\\\\n",
       "\t 2011   & 12     & 6      & 2      & 1850   & 2046   & WN     &   39   & N754SW & 176    & ...    &  71    & 70     & HOU    & PHX    & 1020   &  4     & 15     & 0      &        & 0     \\\\\n",
       "\t 2011   & 12     & 6      & 2      &  707   &  903   & WN     &  424   & N769SW & 176    & ...    &  -2    & -3     & HOU    & PHX    & 1020   &  4     & 10     & 0      &        & 0     \\\\\n",
       "\t 2011   & 12     & 6      & 2      & 1335   & 1528   & WN     & 1098   & N448WN & 173    & ...    &  18    & 20     & HOU    & PHX    & 1020   &  4     & 10     & 0      &        & 0     \\\\\n",
       "\t 2011   & 12     & 6      & 2      & 1005   & 1158   & WN     & 1403   & N430WN & 173    & ...    &  13    & 15     & HOU    & PHX    & 1020   &  3     &  7     & 0      &        & 0     \\\\\n",
       "\t 2011   & 12     & 6      & 2      & 1723   & 1845   & WN     &   33   & N698SW & 202    & ...    &  70    & 78     & HOU    & SAN    & 1313   &  3     &  7     & 0      &        & 0     \\\\\n",
       "\t 2011   & 12     & 6      & 2      & 1139   & 1304   & WN     & 1212   & N226WN & 205    & ...    &  -6    & -1     & HOU    & SAN    & 1313   &  2     & 10     & 0      &        & 0     \\\\\n",
       "\t 2011   & 12     & 6      & 2      & 2023   & 2109   & WN     &  207   & N354SW &  46    & ...    &  29    & 43     & HOU    & SAT    &  192   &  4     &  4     & 0      &        & 0     \\\\\n",
       "\t 2011   & 12     & 6      & 2      & 1542   & 1637   & WN     &  405   & N617SW &  55    & ...    &  12    & 12     & HOU    & SAT    &  192   &  4     &  8     & 0      &        & 0     \\\\\n",
       "\t 2011   & 12     & 6      & 2      & 1728   & 1825   & WN     &  628   & N389SW &  57    & ...    &   5    &  3     & HOU    & SAT    &  192   &  4     & 14     & 0      &        & 0     \\\\\n",
       "\t 2011   & 12     & 6      & 2      & 1252   & 1349   & WN     &  994   & N713SW &  57    & ...    &   9    &  7     & HOU    & SAT    &  192   &  5     &  9     & 0      &        & 0     \\\\\n",
       "\t 2011   & 12     & 6      & 2      &  857   &  955   & WN     & 1231   & N284WN &  58    & ...    &   0    & -3     & HOU    & SAT    &  192   &  5     &  9     & 0      &        & 0     \\\\\n",
       "\t 2011   & 12     & 6      & 2      & 1939   & 2119   & WN     &  124   & N522SW & 100    & ...    &  14    & 39     & HOU    & STL    &  687   &  4     & 15     & 0      &        & 0     \\\\\n",
       "\t 2011   & 12     & 6      & 2      &  556   &  745   & WN     &  280   & N728SW & 109    & ...    & -10    & -4     & HOU    & STL    &  687   & 13     &  9     & 0      &        & 0     \\\\\n",
       "\t 2011   & 12     & 6      & 2      & 1026   & 1208   & WN     &  782   & N476WN & 102    & ...    & -12    &  1     & HOU    & STL    &  687   &  4     & 12     & 0      &        & 0     \\\\\n",
       "\t 2011   & 12     & 6      & 2      & 1611   & 1746   & WN     & 1050   & N655WN &  95    & ...    &  -9    & 16     & HOU    & STL    &  687   &  3     &  9     & 0      &        & 0     \\\\\n",
       "\t 2011   & 12     & 6      & 2      &  758   & 1051   & WN     &  201   & N903WN & 113    & ...    &  -4    & -2     & HOU    & TPA    &  781   &  3     & 10     & 0      &        & 0     \\\\\n",
       "\t 2011   & 12     & 6      & 2      & 1307   & 1600   & WN     &  471   & N632SW & 113    & ...    &   0    &  7     & HOU    & TPA    &  781   &  5     & 10     & 0      &        & 0     \\\\\n",
       "\t 2011   & 12     & 6      & 2      & 1818   & 2111   & WN     & 1191   & N284WN & 113    & ...    &  -9    &  8     & HOU    & TPA    &  781   &  5     & 11     & 0      &        & 0     \\\\\n",
       "\t 2011   & 12     & 6      & 2      & 2047   & 2334   & WN     & 1674   & N366SW & 107    & ...    &   4    &  7     & HOU    & TPA    &  781   &  4     &  9     & 0      &        & 0     \\\\\n",
       "\t 2011   & 12     & 6      & 2      &  912   & 1031   & WN     &  127   & N777QC &  79    & ...    &  -4    & -3     & HOU    & TUL    &  453   &  4     & 14     & 0      &        & 0     \\\\\n",
       "\t 2011   & 12     & 6      & 2      &  656   &  812   & WN     &  621   & N727SW &  76    & ...    & -13    & -4     & HOU    & TUL    &  453   &  3     &  9     & 0      &        & 0     \\\\\n",
       "\t 2011   & 12     & 6      & 2      & 1600   & 1713   & WN     & 1597   & N745SW &  73    & ...    & -12    &  0     & HOU    & TUL    &  453   &  3     & 11     & 0      &        & 0     \\\\\n",
       "\\end{tabular}\n"
      ],
      "text/markdown": [
       "\n",
       "| Year | Month | DayofMonth | DayOfWeek | DepTime | ArrTime | UniqueCarrier | FlightNum | TailNum | ActualElapsedTime | ... | ArrDelay | DepDelay | Origin | Dest | Distance | TaxiIn | TaxiOut | Cancelled | CancellationCode | Diverted |\n",
       "|---|---|---|---|---|---|---|---|---|---|---|---|---|---|---|---|---|---|---|---|---|\n",
       "| 2011   | 1      |  1     | 6      | 1400   | 1500   | AA     | 428    | N576AA | 60     | ...    | -10    |  0     | IAH    | DFW    | 224    |  7     | 13     | 0      |        | 0      |\n",
       "| 2011   | 1      |  2     | 7      | 1401   | 1501   | AA     | 428    | N557AA | 60     | ...    |  -9    |  1     | IAH    | DFW    | 224    |  6     |  9     | 0      |        | 0      |\n",
       "| 2011   | 1      |  3     | 1      | 1352   | 1502   | AA     | 428    | N541AA | 70     | ...    |  -8    | -8     | IAH    | DFW    | 224    |  5     | 17     | 0      |        | 0      |\n",
       "| 2011   | 1      |  4     | 2      | 1403   | 1513   | AA     | 428    | N403AA | 70     | ...    |   3    |  3     | IAH    | DFW    | 224    |  9     | 22     | 0      |        | 0      |\n",
       "| 2011   | 1      |  5     | 3      | 1405   | 1507   | AA     | 428    | N492AA | 62     | ...    |  -3    |  5     | IAH    | DFW    | 224    |  9     |  9     | 0      |        | 0      |\n",
       "| 2011   | 1      |  6     | 4      | 1359   | 1503   | AA     | 428    | N262AA | 64     | ...    |  -7    | -1     | IAH    | DFW    | 224    |  6     | 13     | 0      |        | 0      |\n",
       "| 2011   | 1      |  7     | 5      | 1359   | 1509   | AA     | 428    | N493AA | 70     | ...    |  -1    | -1     | IAH    | DFW    | 224    | 12     | 15     | 0      |        | 0      |\n",
       "| 2011   | 1      |  8     | 6      | 1355   | 1454   | AA     | 428    | N477AA | 59     | ...    | -16    | -5     | IAH    | DFW    | 224    |  7     | 12     | 0      |        | 0      |\n",
       "| 2011   | 1      |  9     | 7      | 1443   | 1554   | AA     | 428    | N476AA | 71     | ...    |  44    | 43     | IAH    | DFW    | 224    |  8     | 22     | 0      |        | 0      |\n",
       "| 2011   | 1      | 10     | 1      | 1443   | 1553   | AA     | 428    | N504AA | 70     | ...    |  43    | 43     | IAH    | DFW    | 224    |  6     | 19     | 0      |        | 0      |\n",
       "| 2011   | 1      | 11     | 2      | 1429   | 1539   | AA     | 428    | N565AA | 70     | ...    |  29    | 29     | IAH    | DFW    | 224    |  8     | 20     | 0      |        | 0      |\n",
       "| 2011   | 1      | 12     | 3      | 1419   | 1515   | AA     | 428    | N577AA | 56     | ...    |   5    | 19     | IAH    | DFW    | 224    |  4     | 11     | 0      |        | 0      |\n",
       "| 2011   | 1      | 13     | 4      | 1358   | 1501   | AA     | 428    | N476AA | 63     | ...    |  -9    | -2     | IAH    | DFW    | 224    |  6     | 13     | 0      |        | 0      |\n",
       "| 2011   | 1      | 14     | 5      | 1357   | 1504   | AA     | 428    | N552AA | 67     | ...    |  -6    | -3     | IAH    | DFW    | 224    |  5     | 15     | 0      |        | 0      |\n",
       "| 2011   | 1      | 15     | 6      | 1359   | 1459   | AA     | 428    | N462AA | 60     | ...    | -11    | -1     | IAH    | DFW    | 224    |  6     | 10     | 0      |        | 0      |\n",
       "| 2011   | 1      | 16     | 7      | 1359   | 1509   | AA     | 428    | N555AA | 70     | ...    |  -1    | -1     | IAH    | DFW    | 224    | 12     | 17     | 0      |        | 0      |\n",
       "| 2011   | 1      | 17     | 1      | 1530   | 1634   | AA     | 428    | N518AA | 64     | ...    |  84    | 90     | IAH    | DFW    | 224    |  8     |  8     | 0      |        | 0      |\n",
       "| 2011   | 1      | 18     | 2      | 1408   | 1508   | AA     | 428    | N507AA | 60     | ...    |  -2    |  8     | IAH    | DFW    | 224    |  7     | 11     | 0      |        | 0      |\n",
       "| 2011   | 1      | 19     | 3      | 1356   | 1503   | AA     | 428    | N523AA | 67     | ...    |  -7    | -4     | IAH    | DFW    | 224    | 10     | 11     | 0      |        | 0      |\n",
       "| 2011   | 1      | 20     | 4      | 1507   | 1622   | AA     | 428    | N425AA | 75     | ...    |  72    | 67     | IAH    | DFW    | 224    |  9     | 24     | 0      |        | 0      |\n",
       "| 2011   | 1      | 21     | 5      | 1357   | 1459   | AA     | 428    | N251AA | 62     | ...    | -11    | -3     | IAH    | DFW    | 224    |  6     |  9     | 0      |        | 0      |\n",
       "| 2011   | 1      | 22     | 6      | 1355   | 1456   | AA     | 428    | N551AA | 61     | ...    | -14    | -5     | IAH    | DFW    | 224    |  9     |  8     | 0      |        | 0      |\n",
       "| 2011   | 1      | 23     | 7      | 1356   | 1501   | AA     | 428    | N479AA | 65     | ...    |  -9    | -4     | IAH    | DFW    | 224    |  7     | 18     | 0      |        | 0      |\n",
       "| 2011   | 1      | 24     | 1      | 1356   | 1513   | AA     | 428    | N531AA | 77     | ...    |   3    | -4     | IAH    | DFW    | 224    |  6     | 28     | 0      |        | 0      |\n",
       "| 2011   | 1      | 25     | 2      | 1352   | 1452   | AA     | 428    | N561AA | 60     | ...    | -18    | -8     | IAH    | DFW    | 224    |  7     | 13     | 0      |        | 0      |\n",
       "| 2011   | 1      | 26     | 3      | 1353   | 1455   | AA     | 428    | N541AA | 62     | ...    | -15    | -7     | IAH    | DFW    | 224    |  8     | 14     | 0      |        | 0      |\n",
       "| 2011   | 1      | 27     | 4      | 1356   | 1458   | AA     | 428    | N512AA | 62     | ...    | -12    | -4     | IAH    | DFW    | 224    | 12     | 10     | 0      |        | 0      |\n",
       "| 2011   | 1      | 28     | 5      | 1359   | 1505   | AA     | 428    | N4UBAA | 66     | ...    |  -5    | -1     | IAH    | DFW    | 224    |  8     | 12     | 0      |        | 0      |\n",
       "| 2011   | 1      | 29     | 6      | 1355   | 1455   | AA     | 428    | N491AA | 60     | ...    | -15    | -5     | IAH    | DFW    | 224    |  7     |  7     | 0      |        | 0      |\n",
       "| 2011   | 1      | 30     | 7      | 1359   | 1456   | AA     | 428    | N561AA | 57     | ...    | -14    | -1     | IAH    | DFW    | 224    |  7     | 11     | 0      |        | 0      |\n",
       "| ... | ... | ... | ... | ... | ... | ... | ... | ... | ... |     | ... | ... | ... | ... | ... | ... | ... | ... | ... | ... |\n",
       "| 2011   | 12     | 6      | 2      |  752   |  857   | WN     | 1628   | N435WN |  65    | ...    |   2    | -3     | HOU    | MSY    |  302   |  4     | 11     | 0      |        | 0      |\n",
       "| 2011   | 12     | 6      | 2      |  651   |  746   | WN     | 2534   | N232WN |  55    | ...    |  -9    | -4     | HOU    | MSY    |  302   |  5     |  7     | 0      |        | 0      |\n",
       "| 2011   | 12     | 6      | 2      | 1728   | 1932   | WN     |  902   | N724SW | 244    | ...    |   7    | 23     | HOU    | OAK    | 1642   |  5     |  8     | 0      |        | 0      |\n",
       "| 2011   | 12     | 6      | 2      | 1115   | 1315   | WN     | 1167   | N455WN | 240    | ...    | -15    |  5     | HOU    | OAK    | 1642   |  6     |  9     | 0      |        | 0      |\n",
       "| 2011   | 12     | 6      | 2      | 1753   | 1911   | WN     |  513   | N362SW |  78    | ...    |  31    | 33     | HOU    | OKC    |  419   |  4     | 15     | 0      |        | 0      |\n",
       "| 2011   | 12     | 6      | 2      | 1222   | 1335   | WN     |  581   | N646SW |  73    | ...    | -10    | -3     | HOU    | OKC    |  419   |  3     |  9     | 0      |        | 0      |\n",
       "| 2011   | 12     | 6      | 2      |  836   |  946   | WN     | 1223   | N394SW |  70    | ...    |  -9    |  1     | HOU    | OKC    |  419   |  4     |  8     | 0      |        | 0      |\n",
       "| 2011   | 12     | 6      | 2      | 1352   | 1749   | WN     | 3085   | N510SW | 177    | ...    |  59    | 72     | HOU    | PHL    | 1336   |  5     |  9     | 0      |        | 0      |\n",
       "| 2011   | 12     | 6      | 2      | 1850   | 2046   | WN     |   39   | N754SW | 176    | ...    |  71    | 70     | HOU    | PHX    | 1020   |  4     | 15     | 0      |        | 0      |\n",
       "| 2011   | 12     | 6      | 2      |  707   |  903   | WN     |  424   | N769SW | 176    | ...    |  -2    | -3     | HOU    | PHX    | 1020   |  4     | 10     | 0      |        | 0      |\n",
       "| 2011   | 12     | 6      | 2      | 1335   | 1528   | WN     | 1098   | N448WN | 173    | ...    |  18    | 20     | HOU    | PHX    | 1020   |  4     | 10     | 0      |        | 0      |\n",
       "| 2011   | 12     | 6      | 2      | 1005   | 1158   | WN     | 1403   | N430WN | 173    | ...    |  13    | 15     | HOU    | PHX    | 1020   |  3     |  7     | 0      |        | 0      |\n",
       "| 2011   | 12     | 6      | 2      | 1723   | 1845   | WN     |   33   | N698SW | 202    | ...    |  70    | 78     | HOU    | SAN    | 1313   |  3     |  7     | 0      |        | 0      |\n",
       "| 2011   | 12     | 6      | 2      | 1139   | 1304   | WN     | 1212   | N226WN | 205    | ...    |  -6    | -1     | HOU    | SAN    | 1313   |  2     | 10     | 0      |        | 0      |\n",
       "| 2011   | 12     | 6      | 2      | 2023   | 2109   | WN     |  207   | N354SW |  46    | ...    |  29    | 43     | HOU    | SAT    |  192   |  4     |  4     | 0      |        | 0      |\n",
       "| 2011   | 12     | 6      | 2      | 1542   | 1637   | WN     |  405   | N617SW |  55    | ...    |  12    | 12     | HOU    | SAT    |  192   |  4     |  8     | 0      |        | 0      |\n",
       "| 2011   | 12     | 6      | 2      | 1728   | 1825   | WN     |  628   | N389SW |  57    | ...    |   5    |  3     | HOU    | SAT    |  192   |  4     | 14     | 0      |        | 0      |\n",
       "| 2011   | 12     | 6      | 2      | 1252   | 1349   | WN     |  994   | N713SW |  57    | ...    |   9    |  7     | HOU    | SAT    |  192   |  5     |  9     | 0      |        | 0      |\n",
       "| 2011   | 12     | 6      | 2      |  857   |  955   | WN     | 1231   | N284WN |  58    | ...    |   0    | -3     | HOU    | SAT    |  192   |  5     |  9     | 0      |        | 0      |\n",
       "| 2011   | 12     | 6      | 2      | 1939   | 2119   | WN     |  124   | N522SW | 100    | ...    |  14    | 39     | HOU    | STL    |  687   |  4     | 15     | 0      |        | 0      |\n",
       "| 2011   | 12     | 6      | 2      |  556   |  745   | WN     |  280   | N728SW | 109    | ...    | -10    | -4     | HOU    | STL    |  687   | 13     |  9     | 0      |        | 0      |\n",
       "| 2011   | 12     | 6      | 2      | 1026   | 1208   | WN     |  782   | N476WN | 102    | ...    | -12    |  1     | HOU    | STL    |  687   |  4     | 12     | 0      |        | 0      |\n",
       "| 2011   | 12     | 6      | 2      | 1611   | 1746   | WN     | 1050   | N655WN |  95    | ...    |  -9    | 16     | HOU    | STL    |  687   |  3     |  9     | 0      |        | 0      |\n",
       "| 2011   | 12     | 6      | 2      |  758   | 1051   | WN     |  201   | N903WN | 113    | ...    |  -4    | -2     | HOU    | TPA    |  781   |  3     | 10     | 0      |        | 0      |\n",
       "| 2011   | 12     | 6      | 2      | 1307   | 1600   | WN     |  471   | N632SW | 113    | ...    |   0    |  7     | HOU    | TPA    |  781   |  5     | 10     | 0      |        | 0      |\n",
       "| 2011   | 12     | 6      | 2      | 1818   | 2111   | WN     | 1191   | N284WN | 113    | ...    |  -9    |  8     | HOU    | TPA    |  781   |  5     | 11     | 0      |        | 0      |\n",
       "| 2011   | 12     | 6      | 2      | 2047   | 2334   | WN     | 1674   | N366SW | 107    | ...    |   4    |  7     | HOU    | TPA    |  781   |  4     |  9     | 0      |        | 0      |\n",
       "| 2011   | 12     | 6      | 2      |  912   | 1031   | WN     |  127   | N777QC |  79    | ...    |  -4    | -3     | HOU    | TUL    |  453   |  4     | 14     | 0      |        | 0      |\n",
       "| 2011   | 12     | 6      | 2      |  656   |  812   | WN     |  621   | N727SW |  76    | ...    | -13    | -4     | HOU    | TUL    |  453   |  3     |  9     | 0      |        | 0      |\n",
       "| 2011   | 12     | 6      | 2      | 1600   | 1713   | WN     | 1597   | N745SW |  73    | ...    | -12    |  0     | HOU    | TUL    |  453   |  3     | 11     | 0      |        | 0      |\n",
       "\n"
      ],
      "text/plain": [
       "       Year Month DayofMonth DayOfWeek DepTime ArrTime UniqueCarrier FlightNum\n",
       "1      2011 1      1         6         1400    1500    AA            428      \n",
       "2      2011 1      2         7         1401    1501    AA            428      \n",
       "3      2011 1      3         1         1352    1502    AA            428      \n",
       "4      2011 1      4         2         1403    1513    AA            428      \n",
       "5      2011 1      5         3         1405    1507    AA            428      \n",
       "6      2011 1      6         4         1359    1503    AA            428      \n",
       "7      2011 1      7         5         1359    1509    AA            428      \n",
       "8      2011 1      8         6         1355    1454    AA            428      \n",
       "9      2011 1      9         7         1443    1554    AA            428      \n",
       "10     2011 1     10         1         1443    1553    AA            428      \n",
       "11     2011 1     11         2         1429    1539    AA            428      \n",
       "12     2011 1     12         3         1419    1515    AA            428      \n",
       "13     2011 1     13         4         1358    1501    AA            428      \n",
       "14     2011 1     14         5         1357    1504    AA            428      \n",
       "15     2011 1     15         6         1359    1459    AA            428      \n",
       "16     2011 1     16         7         1359    1509    AA            428      \n",
       "17     2011 1     17         1         1530    1634    AA            428      \n",
       "18     2011 1     18         2         1408    1508    AA            428      \n",
       "19     2011 1     19         3         1356    1503    AA            428      \n",
       "20     2011 1     20         4         1507    1622    AA            428      \n",
       "21     2011 1     21         5         1357    1459    AA            428      \n",
       "22     2011 1     22         6         1355    1456    AA            428      \n",
       "23     2011 1     23         7         1356    1501    AA            428      \n",
       "24     2011 1     24         1         1356    1513    AA            428      \n",
       "25     2011 1     25         2         1352    1452    AA            428      \n",
       "26     2011 1     26         3         1353    1455    AA            428      \n",
       "27     2011 1     27         4         1356    1458    AA            428      \n",
       "28     2011 1     28         5         1359    1505    AA            428      \n",
       "29     2011 1     29         6         1355    1455    AA            428      \n",
       "30     2011 1     30         7         1359    1456    AA            428      \n",
       "...    ...  ...   ...        ...       ...     ...     ...           ...      \n",
       "227467 2011 12    6          2          752     857    WN            1628     \n",
       "227468 2011 12    6          2          651     746    WN            2534     \n",
       "227469 2011 12    6          2         1728    1932    WN             902     \n",
       "227470 2011 12    6          2         1115    1315    WN            1167     \n",
       "227471 2011 12    6          2         1753    1911    WN             513     \n",
       "227472 2011 12    6          2         1222    1335    WN             581     \n",
       "227473 2011 12    6          2          836     946    WN            1223     \n",
       "227474 2011 12    6          2         1352    1749    WN            3085     \n",
       "227475 2011 12    6          2         1850    2046    WN              39     \n",
       "227476 2011 12    6          2          707     903    WN             424     \n",
       "227477 2011 12    6          2         1335    1528    WN            1098     \n",
       "227478 2011 12    6          2         1005    1158    WN            1403     \n",
       "227479 2011 12    6          2         1723    1845    WN              33     \n",
       "227480 2011 12    6          2         1139    1304    WN            1212     \n",
       "227481 2011 12    6          2         2023    2109    WN             207     \n",
       "227482 2011 12    6          2         1542    1637    WN             405     \n",
       "227483 2011 12    6          2         1728    1825    WN             628     \n",
       "227484 2011 12    6          2         1252    1349    WN             994     \n",
       "227485 2011 12    6          2          857     955    WN            1231     \n",
       "227486 2011 12    6          2         1939    2119    WN             124     \n",
       "227487 2011 12    6          2          556     745    WN             280     \n",
       "227488 2011 12    6          2         1026    1208    WN             782     \n",
       "227489 2011 12    6          2         1611    1746    WN            1050     \n",
       "227490 2011 12    6          2          758    1051    WN             201     \n",
       "227491 2011 12    6          2         1307    1600    WN             471     \n",
       "227492 2011 12    6          2         1818    2111    WN            1191     \n",
       "227493 2011 12    6          2         2047    2334    WN            1674     \n",
       "227494 2011 12    6          2          912    1031    WN             127     \n",
       "227495 2011 12    6          2          656     812    WN             621     \n",
       "227496 2011 12    6          2         1600    1713    WN            1597     \n",
       "       TailNum ActualElapsedTime ... ArrDelay DepDelay Origin Dest Distance\n",
       "1      N576AA  60                ... -10       0       IAH    DFW  224     \n",
       "2      N557AA  60                ...  -9       1       IAH    DFW  224     \n",
       "3      N541AA  70                ...  -8      -8       IAH    DFW  224     \n",
       "4      N403AA  70                ...   3       3       IAH    DFW  224     \n",
       "5      N492AA  62                ...  -3       5       IAH    DFW  224     \n",
       "6      N262AA  64                ...  -7      -1       IAH    DFW  224     \n",
       "7      N493AA  70                ...  -1      -1       IAH    DFW  224     \n",
       "8      N477AA  59                ... -16      -5       IAH    DFW  224     \n",
       "9      N476AA  71                ...  44      43       IAH    DFW  224     \n",
       "10     N504AA  70                ...  43      43       IAH    DFW  224     \n",
       "11     N565AA  70                ...  29      29       IAH    DFW  224     \n",
       "12     N577AA  56                ...   5      19       IAH    DFW  224     \n",
       "13     N476AA  63                ...  -9      -2       IAH    DFW  224     \n",
       "14     N552AA  67                ...  -6      -3       IAH    DFW  224     \n",
       "15     N462AA  60                ... -11      -1       IAH    DFW  224     \n",
       "16     N555AA  70                ...  -1      -1       IAH    DFW  224     \n",
       "17     N518AA  64                ...  84      90       IAH    DFW  224     \n",
       "18     N507AA  60                ...  -2       8       IAH    DFW  224     \n",
       "19     N523AA  67                ...  -7      -4       IAH    DFW  224     \n",
       "20     N425AA  75                ...  72      67       IAH    DFW  224     \n",
       "21     N251AA  62                ... -11      -3       IAH    DFW  224     \n",
       "22     N551AA  61                ... -14      -5       IAH    DFW  224     \n",
       "23     N479AA  65                ...  -9      -4       IAH    DFW  224     \n",
       "24     N531AA  77                ...   3      -4       IAH    DFW  224     \n",
       "25     N561AA  60                ... -18      -8       IAH    DFW  224     \n",
       "26     N541AA  62                ... -15      -7       IAH    DFW  224     \n",
       "27     N512AA  62                ... -12      -4       IAH    DFW  224     \n",
       "28     N4UBAA  66                ...  -5      -1       IAH    DFW  224     \n",
       "29     N491AA  60                ... -15      -5       IAH    DFW  224     \n",
       "30     N561AA  57                ... -14      -1       IAH    DFW  224     \n",
       "...    ...     ...                   ...      ...      ...    ...  ...     \n",
       "227467 N435WN   65               ...   2      -3       HOU    MSY   302    \n",
       "227468 N232WN   55               ...  -9      -4       HOU    MSY   302    \n",
       "227469 N724SW  244               ...   7      23       HOU    OAK  1642    \n",
       "227470 N455WN  240               ... -15       5       HOU    OAK  1642    \n",
       "227471 N362SW   78               ...  31      33       HOU    OKC   419    \n",
       "227472 N646SW   73               ... -10      -3       HOU    OKC   419    \n",
       "227473 N394SW   70               ...  -9       1       HOU    OKC   419    \n",
       "227474 N510SW  177               ...  59      72       HOU    PHL  1336    \n",
       "227475 N754SW  176               ...  71      70       HOU    PHX  1020    \n",
       "227476 N769SW  176               ...  -2      -3       HOU    PHX  1020    \n",
       "227477 N448WN  173               ...  18      20       HOU    PHX  1020    \n",
       "227478 N430WN  173               ...  13      15       HOU    PHX  1020    \n",
       "227479 N698SW  202               ...  70      78       HOU    SAN  1313    \n",
       "227480 N226WN  205               ...  -6      -1       HOU    SAN  1313    \n",
       "227481 N354SW   46               ...  29      43       HOU    SAT   192    \n",
       "227482 N617SW   55               ...  12      12       HOU    SAT   192    \n",
       "227483 N389SW   57               ...   5       3       HOU    SAT   192    \n",
       "227484 N713SW   57               ...   9       7       HOU    SAT   192    \n",
       "227485 N284WN   58               ...   0      -3       HOU    SAT   192    \n",
       "227486 N522SW  100               ...  14      39       HOU    STL   687    \n",
       "227487 N728SW  109               ... -10      -4       HOU    STL   687    \n",
       "227488 N476WN  102               ... -12       1       HOU    STL   687    \n",
       "227489 N655WN   95               ...  -9      16       HOU    STL   687    \n",
       "227490 N903WN  113               ...  -4      -2       HOU    TPA   781    \n",
       "227491 N632SW  113               ...   0       7       HOU    TPA   781    \n",
       "227492 N284WN  113               ...  -9       8       HOU    TPA   781    \n",
       "227493 N366SW  107               ...   4       7       HOU    TPA   781    \n",
       "227494 N777QC   79               ...  -4      -3       HOU    TUL   453    \n",
       "227495 N727SW   76               ... -13      -4       HOU    TUL   453    \n",
       "227496 N745SW   73               ... -12       0       HOU    TUL   453    \n",
       "       TaxiIn TaxiOut Cancelled CancellationCode Diverted\n",
       "1       7     13      0                          0       \n",
       "2       6      9      0                          0       \n",
       "3       5     17      0                          0       \n",
       "4       9     22      0                          0       \n",
       "5       9      9      0                          0       \n",
       "6       6     13      0                          0       \n",
       "7      12     15      0                          0       \n",
       "8       7     12      0                          0       \n",
       "9       8     22      0                          0       \n",
       "10      6     19      0                          0       \n",
       "11      8     20      0                          0       \n",
       "12      4     11      0                          0       \n",
       "13      6     13      0                          0       \n",
       "14      5     15      0                          0       \n",
       "15      6     10      0                          0       \n",
       "16     12     17      0                          0       \n",
       "17      8      8      0                          0       \n",
       "18      7     11      0                          0       \n",
       "19     10     11      0                          0       \n",
       "20      9     24      0                          0       \n",
       "21      6      9      0                          0       \n",
       "22      9      8      0                          0       \n",
       "23      7     18      0                          0       \n",
       "24      6     28      0                          0       \n",
       "25      7     13      0                          0       \n",
       "26      8     14      0                          0       \n",
       "27     12     10      0                          0       \n",
       "28      8     12      0                          0       \n",
       "29      7      7      0                          0       \n",
       "30      7     11      0                          0       \n",
       "...    ...    ...     ...       ...              ...     \n",
       "227467  4     11      0                          0       \n",
       "227468  5      7      0                          0       \n",
       "227469  5      8      0                          0       \n",
       "227470  6      9      0                          0       \n",
       "227471  4     15      0                          0       \n",
       "227472  3      9      0                          0       \n",
       "227473  4      8      0                          0       \n",
       "227474  5      9      0                          0       \n",
       "227475  4     15      0                          0       \n",
       "227476  4     10      0                          0       \n",
       "227477  4     10      0                          0       \n",
       "227478  3      7      0                          0       \n",
       "227479  3      7      0                          0       \n",
       "227480  2     10      0                          0       \n",
       "227481  4      4      0                          0       \n",
       "227482  4      8      0                          0       \n",
       "227483  4     14      0                          0       \n",
       "227484  5      9      0                          0       \n",
       "227485  5      9      0                          0       \n",
       "227486  4     15      0                          0       \n",
       "227487 13      9      0                          0       \n",
       "227488  4     12      0                          0       \n",
       "227489  3      9      0                          0       \n",
       "227490  3     10      0                          0       \n",
       "227491  5     10      0                          0       \n",
       "227492  5     11      0                          0       \n",
       "227493  4      9      0                          0       \n",
       "227494  4     14      0                          0       \n",
       "227495  3      9      0                          0       \n",
       "227496  3     11      0                          0       "
      ]
     },
     "metadata": {},
     "output_type": "display_data"
    },
    {
     "data": {
      "text/html": [
       "<table>\n",
       "<thead><tr><th scope=col>Year</th><th scope=col>Month</th><th scope=col>DayofMonth</th><th scope=col>DayOfWeek</th><th scope=col>DepTime</th><th scope=col>ArrTime</th><th scope=col>UniqueCarrier</th><th scope=col>FlightNum</th><th scope=col>TailNum</th><th scope=col>ActualElapsedTime</th><th scope=col>...</th><th scope=col>ArrDelay</th><th scope=col>DepDelay</th><th scope=col>Origin</th><th scope=col>Dest</th><th scope=col>Distance</th><th scope=col>TaxiIn</th><th scope=col>TaxiOut</th><th scope=col>Cancelled</th><th scope=col>CancellationCode</th><th scope=col>Diverted</th></tr></thead>\n",
       "<tbody>\n",
       "\t<tr><td>2011  </td><td>12    </td><td>15    </td><td>4     </td><td>2113  </td><td>2217  </td><td>AA    </td><td>426   </td><td>N433AA</td><td> 64   </td><td>...   </td><td> 47   </td><td>63    </td><td>IAH   </td><td>DFW   </td><td>224   </td><td> 6    </td><td>14    </td><td>0     </td><td>      </td><td>0     </td></tr>\n",
       "\t<tr><td>2011  </td><td>12    </td><td>16    </td><td>5     </td><td>2004  </td><td>2128  </td><td>AA    </td><td>426   </td><td>N588AA</td><td> 84   </td><td>...   </td><td> -2   </td><td>-6    </td><td>IAH   </td><td>DFW   </td><td>224   </td><td> 8    </td><td>37    </td><td>0     </td><td>      </td><td>0     </td></tr>\n",
       "\t<tr><td>2011  </td><td>12    </td><td>18    </td><td>7     </td><td>2007  </td><td>2113  </td><td>AA    </td><td>426   </td><td>N4XHAA</td><td> 66   </td><td>...   </td><td>-17   </td><td>-3    </td><td>IAH   </td><td>DFW   </td><td>224   </td><td> 7    </td><td>13    </td><td>0     </td><td>      </td><td>0     </td></tr>\n",
       "\t<tr><td>2011  </td><td>12    </td><td>19    </td><td>1     </td><td>2108  </td><td>2223  </td><td>AA    </td><td>426   </td><td>N4YDAA</td><td> 75   </td><td>...   </td><td> 53   </td><td>58    </td><td>IAH   </td><td>DFW   </td><td>224   </td><td>11    </td><td>10    </td><td>0     </td><td>      </td><td>0     </td></tr>\n",
       "\t<tr><td>2011  </td><td>12    </td><td>20    </td><td>2     </td><td>2008  </td><td>2107  </td><td>AA    </td><td>426   </td><td>N434AA</td><td> 59   </td><td>...   </td><td>-23   </td><td>-2    </td><td>IAH   </td><td>DFW   </td><td>224   </td><td> 6    </td><td>12    </td><td>0     </td><td>      </td><td>0     </td></tr>\n",
       "\t<tr><td>2011  </td><td>12    </td><td>21    </td><td>3     </td><td>2025  </td><td>2124  </td><td>AA    </td><td>426   </td><td>N589AA</td><td> 59   </td><td>...   </td><td> -6   </td><td>15    </td><td>IAH   </td><td>DFW   </td><td>224   </td><td> 5    </td><td>11    </td><td>0     </td><td>      </td><td>0     </td></tr>\n",
       "\t<tr><td>2011  </td><td>12    </td><td>22    </td><td>4     </td><td>2021  </td><td>2118  </td><td>AA    </td><td>426   </td><td>N4YCAA</td><td> 57   </td><td>...   </td><td>-12   </td><td>11    </td><td>IAH   </td><td>DFW   </td><td>224   </td><td> 6    </td><td>12    </td><td>0     </td><td>      </td><td>0     </td></tr>\n",
       "\t<tr><td>2011  </td><td>12    </td><td>23    </td><td>5     </td><td>2015  </td><td>2118  </td><td>AA    </td><td>426   </td><td>N510AA</td><td> 63   </td><td>...   </td><td>-12   </td><td> 5    </td><td>IAH   </td><td>DFW   </td><td>224   </td><td> 6    </td><td>21    </td><td>0     </td><td>      </td><td>0     </td></tr>\n",
       "\t<tr><td>2011  </td><td>12    </td><td>26    </td><td>1     </td><td>2013  </td><td>2118  </td><td>AA    </td><td>426   </td><td>N4YLAA</td><td> 65   </td><td>...   </td><td>-12   </td><td> 3    </td><td>IAH   </td><td>DFW   </td><td>224   </td><td> 8    </td><td>14    </td><td>0     </td><td>      </td><td>0     </td></tr>\n",
       "\t<tr><td>2011  </td><td>12    </td><td>27    </td><td>2     </td><td>2007  </td><td>2123  </td><td>AA    </td><td>426   </td><td>N4YTAA</td><td> 76   </td><td>...   </td><td> -7   </td><td>-3    </td><td>IAH   </td><td>DFW   </td><td>224   </td><td> 4    </td><td>19    </td><td>0     </td><td>      </td><td>0     </td></tr>\n",
       "\t<tr><td>2011  </td><td>12    </td><td>28    </td><td>3     </td><td>2009  </td><td>2114  </td><td>AA    </td><td>426   </td><td>N514AA</td><td> 65   </td><td>...   </td><td>-16   </td><td>-1    </td><td>IAH   </td><td>DFW   </td><td>224   </td><td> 4    </td><td>13    </td><td>0     </td><td>      </td><td>0     </td></tr>\n",
       "\t<tr><td>2011  </td><td>12    </td><td>29    </td><td>4     </td><td>2003  </td><td>2111  </td><td>AA    </td><td>426   </td><td>N578AA</td><td> 68   </td><td>...   </td><td>-19   </td><td>-7    </td><td>IAH   </td><td>DFW   </td><td>224   </td><td>10    </td><td>13    </td><td>0     </td><td>      </td><td>0     </td></tr>\n",
       "\t<tr><td>2011  </td><td>12    </td><td>30    </td><td>5     </td><td>2015  </td><td>2110  </td><td>AA    </td><td>426   </td><td>N593AA</td><td> 55   </td><td>...   </td><td>-20   </td><td> 5    </td><td>IAH   </td><td>DFW   </td><td>224   </td><td> 8    </td><td> 8    </td><td>0     </td><td>      </td><td>0     </td></tr>\n",
       "\t<tr><td>2011  </td><td>12    </td><td> 1    </td><td>4     </td><td> 558  </td><td> 905  </td><td>AA    </td><td>466   </td><td>N3CTAA</td><td>127   </td><td>...   </td><td>-15   </td><td>-2    </td><td>IAH   </td><td>MIA   </td><td>964   </td><td> 6    </td><td>10    </td><td>0     </td><td>      </td><td>0     </td></tr>\n",
       "\t<tr><td>2011  </td><td>12    </td><td> 2    </td><td>5     </td><td> 558  </td><td> 922  </td><td>AA    </td><td>466   </td><td>N3GEAA</td><td>144   </td><td>...   </td><td>  2   </td><td>-2    </td><td>IAH   </td><td>MIA   </td><td>964   </td><td>11    </td><td>17    </td><td>0     </td><td>      </td><td>0     </td></tr>\n",
       "\t<tr><td>2011  </td><td>12    </td><td> 3    </td><td>6     </td><td> 556  </td><td> 911  </td><td>AA    </td><td>466   </td><td>N3DUAA</td><td>135   </td><td>...   </td><td> -9   </td><td>-4    </td><td>IAH   </td><td>MIA   </td><td>964   </td><td> 9    </td><td>10    </td><td>0     </td><td>      </td><td>0     </td></tr>\n",
       "\t<tr><td>2011  </td><td>12    </td><td> 4    </td><td>7     </td><td> 553  </td><td> 906  </td><td>AA    </td><td>466   </td><td>N3CKAA</td><td>133   </td><td>...   </td><td>-14   </td><td>-7    </td><td>IAH   </td><td>MIA   </td><td>964   </td><td> 6    </td><td>12    </td><td>0     </td><td>      </td><td>0     </td></tr>\n",
       "\t<tr><td>2011  </td><td>12    </td><td> 5    </td><td>1     </td><td> 558  </td><td> 926  </td><td>AA    </td><td>466   </td><td>N3CTAA</td><td>148   </td><td>...   </td><td>  6   </td><td>-2    </td><td>IAH   </td><td>MIA   </td><td>964   </td><td>11    </td><td>21    </td><td>0     </td><td>      </td><td>0     </td></tr>\n",
       "\t<tr><td>2011  </td><td>12    </td><td> 6    </td><td>2     </td><td> 557  </td><td> 919  </td><td>AA    </td><td>466   </td><td>N3EEAA</td><td>142   </td><td>...   </td><td> -1   </td><td>-3    </td><td>IAH   </td><td>MIA   </td><td>964   </td><td> 9    </td><td>19    </td><td>0     </td><td>      </td><td>0     </td></tr>\n",
       "\t<tr><td>2011  </td><td>12    </td><td> 7    </td><td>3     </td><td> 600  </td><td> 911  </td><td>AA    </td><td>466   </td><td>N3GKAA</td><td>131   </td><td>...   </td><td> -9   </td><td> 0    </td><td>IAH   </td><td>MIA   </td><td>964   </td><td> 5    </td><td>10    </td><td>0     </td><td>      </td><td>0     </td></tr>\n",
       "\t<tr><td>2011  </td><td>12    </td><td> 8    </td><td>4     </td><td> 555  </td><td> 912  </td><td>AA    </td><td>466   </td><td>N3FSAA</td><td>137   </td><td>...   </td><td> -8   </td><td>-5    </td><td>IAH   </td><td>MIA   </td><td>964   </td><td> 6    </td><td>13    </td><td>0     </td><td>      </td><td>0     </td></tr>\n",
       "\t<tr><td>2011  </td><td>12    </td><td> 9    </td><td>5     </td><td> 605  </td><td> 916  </td><td>AA    </td><td>466   </td><td>N3EAAA</td><td>131   </td><td>...   </td><td> -4   </td><td> 5    </td><td>IAH   </td><td>MIA   </td><td>964   </td><td> 6    </td><td>11    </td><td>0     </td><td>      </td><td>0     </td></tr>\n",
       "\t<tr><td>2011  </td><td>12    </td><td>10    </td><td>6     </td><td> 606  </td><td> 919  </td><td>AA    </td><td>466   </td><td>N3ENAA</td><td>133   </td><td>...   </td><td> -1   </td><td> 6    </td><td>IAH   </td><td>MIA   </td><td>964   </td><td>12    </td><td>10    </td><td>0     </td><td>      </td><td>0     </td></tr>\n",
       "\t<tr><td>2011  </td><td>12    </td><td>11    </td><td>7     </td><td> 554  </td><td> 856  </td><td>AA    </td><td>466   </td><td>N3EVAA</td><td>122   </td><td>...   </td><td>-24   </td><td>-6    </td><td>IAH   </td><td>MIA   </td><td>964   </td><td> 4    </td><td> 7    </td><td>0     </td><td>      </td><td>0     </td></tr>\n",
       "\t<tr><td>2011  </td><td>12    </td><td>12    </td><td>1     </td><td> 609  </td><td> 921  </td><td>AA    </td><td>466   </td><td>N3CEAA</td><td>132   </td><td>...   </td><td>  1   </td><td> 9    </td><td>IAH   </td><td>MIA   </td><td>964   </td><td>10    </td><td> 9    </td><td>0     </td><td>      </td><td>0     </td></tr>\n",
       "\t<tr><td>2011  </td><td>12    </td><td>13    </td><td>2     </td><td> 557  </td><td> 918  </td><td>AA    </td><td>466   </td><td>N3BJAA</td><td>141   </td><td>...   </td><td> -2   </td><td>-3    </td><td>IAH   </td><td>MIA   </td><td>964   </td><td> 9    </td><td>16    </td><td>0     </td><td>      </td><td>0     </td></tr>\n",
       "\t<tr><td>2011  </td><td>12    </td><td>14    </td><td>3     </td><td> 557  </td><td> 910  </td><td>AA    </td><td>466   </td><td>N3FAAA</td><td>133   </td><td>...   </td><td>-10   </td><td>-3    </td><td>IAH   </td><td>MIA   </td><td>964   </td><td> 8    </td><td> 9    </td><td>0     </td><td>      </td><td>0     </td></tr>\n",
       "\t<tr><td>2011  </td><td>12    </td><td>15    </td><td>4     </td><td> 601  </td><td> 917  </td><td>AA    </td><td>466   </td><td>N3BSAA</td><td>136   </td><td>...   </td><td> -3   </td><td> 1    </td><td>IAH   </td><td>MIA   </td><td>964   </td><td> 6    </td><td>14    </td><td>0     </td><td>      </td><td>0     </td></tr>\n",
       "\t<tr><td>2011  </td><td>12    </td><td>16    </td><td>5     </td><td> 558  </td><td> 922  </td><td>AA    </td><td>466   </td><td>N3EUAA</td><td>144   </td><td>...   </td><td>  2   </td><td>-2    </td><td>IAH   </td><td>MIA   </td><td>964   </td><td> 5    </td><td>23    </td><td>0     </td><td>      </td><td>0     </td></tr>\n",
       "\t<tr><td>2011  </td><td>12    </td><td>17    </td><td>6     </td><td> 557  </td><td> 916  </td><td>AA    </td><td>466   </td><td>N3FEAA</td><td>139   </td><td>...   </td><td> -4   </td><td>-3    </td><td>IAH   </td><td>MIA   </td><td>964   </td><td>12    </td><td>16    </td><td>0     </td><td>      </td><td>0     </td></tr>\n",
       "\t<tr><td>...</td><td>...</td><td>...</td><td>...</td><td>...</td><td>...</td><td>...</td><td>...</td><td>...</td><td>...</td><td>   </td><td>...</td><td>...</td><td>...</td><td>...</td><td>...</td><td>...</td><td>...</td><td>...</td><td>...</td><td>...</td></tr>\n",
       "\t<tr><td>2011  </td><td>1     </td><td>1     </td><td>6     </td><td>1118  </td><td>1221  </td><td>XE    </td><td>3041  </td><td>N12142</td><td> 63   </td><td>...   </td><td> 60   </td><td>58    </td><td>IAH   </td><td>CRP   </td><td>201   </td><td> 3    </td><td>20    </td><td>0     </td><td>      </td><td>0     </td></tr>\n",
       "\t<tr><td>2011  </td><td>1     </td><td>1     </td><td>6     </td><td>1956  </td><td>2247  </td><td>XE    </td><td>3050  </td><td>N14203</td><td>111   </td><td>...   </td><td>  8   </td><td>11    </td><td>IAH   </td><td>JAX   </td><td>817   </td><td> 5    </td><td>12    </td><td>0     </td><td>      </td><td>0     </td></tr>\n",
       "\t<tr><td>2011  </td><td>1     </td><td>1     </td><td>6     </td><td>1642  </td><td>1728  </td><td>XE    </td><td>3053  </td><td>N17928</td><td> 46   </td><td>...   </td><td> 40   </td><td>57    </td><td>IAH   </td><td>SHV   </td><td>192   </td><td> 8    </td><td> 9    </td><td>0     </td><td>      </td><td>0     </td></tr>\n",
       "\t<tr><td>2011  </td><td>1     </td><td>1     </td><td>6     </td><td>1126  </td><td>1306  </td><td>XE    </td><td>3054  </td><td>N21154</td><td>160   </td><td>...   </td><td> 30   </td><td> 1    </td><td>IAH   </td><td>ABQ   </td><td>744   </td><td> 4    </td><td>16    </td><td>0     </td><td>      </td><td>0     </td></tr>\n",
       "\t<tr><td>2011  </td><td>1     </td><td>1     </td><td>6     </td><td>1257  </td><td>1430  </td><td>XE    </td><td>3056  </td><td>N14993</td><td> 93   </td><td>...   </td><td>  7   </td><td>-3    </td><td>IAH   </td><td>VPS   </td><td>528   </td><td> 8    </td><td>15    </td><td>0     </td><td>      </td><td>0     </td></tr>\n",
       "\t<tr><td>2011  </td><td>1     </td><td>1     </td><td>6     </td><td>1013  </td><td>1124  </td><td>XE    </td><td>3060  </td><td>N18556</td><td> 71   </td><td>...   </td><td>-11   </td><td>-7    </td><td>IAH   </td><td>OKC   </td><td>395   </td><td> 3    </td><td>12    </td><td>0     </td><td>      </td><td>0     </td></tr>\n",
       "\t<tr><td>2011  </td><td>1     </td><td>1     </td><td>6     </td><td>1806  </td><td>1854  </td><td>XE    </td><td>3071  </td><td>N13997</td><td> 48   </td><td>...   </td><td> 19   </td><td>36    </td><td>IAH   </td><td>AEX   </td><td>190   </td><td> 5    </td><td>13    </td><td>0     </td><td>      </td><td>0     </td></tr>\n",
       "\t<tr><td>2011  </td><td>1     </td><td>1     </td><td>6     </td><td>1828  </td><td>1934  </td><td>XE    </td><td>3078  </td><td>N14998</td><td>126   </td><td>...   </td><td>  8   </td><td> 3    </td><td>IAH   </td><td>ELP   </td><td>667   </td><td> 2    </td><td>18    </td><td>0     </td><td>      </td><td>0     </td></tr>\n",
       "\t<tr><td>2011  </td><td>1     </td><td>1     </td><td>6     </td><td>1356  </td><td>1648  </td><td>XE    </td><td>3082  </td><td>N18556</td><td>112   </td><td>...   </td><td>-13   </td><td>-4    </td><td>IAH   </td><td>SDF   </td><td>788   </td><td> 6    </td><td>12    </td><td>0     </td><td>      </td><td>0     </td></tr>\n",
       "\t<tr><td>2011  </td><td>1     </td><td>1     </td><td>6     </td><td> 849  </td><td>1103  </td><td>XE    </td><td>3083  </td><td>N14902</td><td>134   </td><td>...   </td><td> 52   </td><td>64    </td><td>IAH   </td><td>MKE   </td><td>984   </td><td> 4    </td><td>16    </td><td>0     </td><td>      </td><td>0     </td></tr>\n",
       "\t<tr><td>2011  </td><td>1     </td><td>1     </td><td>6     </td><td>1017  </td><td>1324  </td><td>XE    </td><td>3086  </td><td>N17115</td><td>127   </td><td>...   </td><td> 16   </td><td> 2    </td><td>IAH   </td><td>JAX   </td><td>817   </td><td> 4    </td><td>23    </td><td>0     </td><td>      </td><td>0     </td></tr>\n",
       "\t<tr><td>2011  </td><td>1     </td><td>1     </td><td>6     </td><td>1438  </td><td>1601  </td><td>XE    </td><td>3087  </td><td>N11193</td><td> 83   </td><td>...   </td><td> -3   </td><td>-5    </td><td>IAH   </td><td>TUL   </td><td>429   </td><td> 5    </td><td>20    </td><td>0     </td><td>      </td><td>0     </td></tr>\n",
       "\t<tr><td>2011  </td><td>1     </td><td>1     </td><td>6     </td><td> 942  </td><td>1136  </td><td>XE    </td><td>3088  </td><td>N13979</td><td>114   </td><td>...   </td><td> 15   </td><td>12    </td><td>IAH   </td><td>MCI   </td><td>643   </td><td> 4    </td><td>25    </td><td>0     </td><td>      </td><td>0     </td></tr>\n",
       "\t<tr><td>2011  </td><td>1     </td><td>1     </td><td>6     </td><td>1223  </td><td>1710  </td><td>XE    </td><td>3092  </td><td>N11181</td><td> NA   </td><td>...   </td><td> NA   </td><td>33    </td><td>IAH   </td><td>MCI   </td><td>643   </td><td> 6    </td><td>16    </td><td>0     </td><td>      </td><td>1     </td></tr>\n",
       "\t<tr><td>2011  </td><td>1     </td><td>1     </td><td>6     </td><td>1055  </td><td>1414  </td><td>XE    </td><td>3094  </td><td>N12552</td><td>139   </td><td>...   </td><td> 18   </td><td> 0    </td><td>IAH   </td><td>GSP   </td><td>838   </td><td> 5    </td><td>31    </td><td>0     </td><td>      </td><td>0     </td></tr>\n",
       "\t<tr><td>2011  </td><td>1     </td><td>1     </td><td>6     </td><td>1041  </td><td>1413  </td><td>XE    </td><td>3101  </td><td>N17108</td><td>152   </td><td>...   </td><td> 10   </td><td> 1    </td><td>IAH   </td><td>CMH   </td><td>986   </td><td>13    </td><td>22    </td><td>0     </td><td>      </td><td>0     </td></tr>\n",
       "\t<tr><td>2011  </td><td>1     </td><td>1     </td><td>6     </td><td> 934  </td><td>1049  </td><td>XE    </td><td>3103  </td><td>N16976</td><td> 75   </td><td>...   </td><td> 24   </td><td>14    </td><td>IAH   </td><td>DFW   </td><td>224   </td><td> 5    </td><td>28    </td><td>0     </td><td>      </td><td>0     </td></tr>\n",
       "\t<tr><td>2011  </td><td>1     </td><td>1     </td><td>6     </td><td>1916  </td><td>2029  </td><td>XE    </td><td>3105  </td><td>N14930</td><td> 73   </td><td>...   </td><td> -9   </td><td>-4    </td><td>IAH   </td><td>LIT   </td><td>374   </td><td> 4    </td><td>17    </td><td>0     </td><td>      </td><td>0     </td></tr>\n",
       "\t<tr><td>2011  </td><td>1     </td><td>1     </td><td>6     </td><td> 858  </td><td>1043  </td><td>XE    </td><td>3108  </td><td>N41104</td><td>105   </td><td>...   </td><td>-18   </td><td>-2    </td><td>IAH   </td><td>STL   </td><td>668   </td><td> 3    </td><td>20    </td><td>0     </td><td>      </td><td>0     </td></tr>\n",
       "\t<tr><td>2011  </td><td>1     </td><td>1     </td><td>6     </td><td>2131  </td><td>2235  </td><td>XE    </td><td>3111  </td><td>N12195</td><td>124   </td><td>...   </td><td> 22   </td><td>11    </td><td>IAH   </td><td>ELP   </td><td>667   </td><td> 4    </td><td>14    </td><td>0     </td><td>      </td><td>0     </td></tr>\n",
       "\t<tr><td>2011  </td><td>1     </td><td>1     </td><td>6     </td><td>1256  </td><td>1404  </td><td>XE    </td><td>3120  </td><td>N14943</td><td> 68   </td><td>...   </td><td> -6   </td><td>-4    </td><td>IAH   </td><td>LIT   </td><td>374   </td><td> 5    </td><td>14    </td><td>0     </td><td>      </td><td>0     </td></tr>\n",
       "\t<tr><td>2011  </td><td>1     </td><td>1     </td><td>6     </td><td>1822  </td><td>1959  </td><td>XE    </td><td>3127  </td><td>N14943</td><td> 97   </td><td>...   </td><td> -4   </td><td>-3    </td><td>IAH   </td><td>LBB   </td><td>458   </td><td> 5    </td><td>22    </td><td>0     </td><td>      </td><td>0     </td></tr>\n",
       "\t<tr><td>2011  </td><td>1     </td><td>1     </td><td>6     </td><td>1533  </td><td>1718  </td><td>XE    </td><td>3129  </td><td>N41104</td><td>105   </td><td>...   </td><td>-10   </td><td>-2    </td><td>IAH   </td><td>STL   </td><td>668   </td><td> 5    </td><td>17    </td><td>0     </td><td>      </td><td>0     </td></tr>\n",
       "\t<tr><td>2011  </td><td>1     </td><td>1     </td><td>6     </td><td>1645  </td><td>1941  </td><td>XE    </td><td>3132  </td><td>N22971</td><td>116   </td><td>...   </td><td>  3   </td><td> 0    </td><td>IAH   </td><td>JAX   </td><td>817   </td><td> 4    </td><td>13    </td><td>0     </td><td>      </td><td>0     </td></tr>\n",
       "\t<tr><td>2011  </td><td>1     </td><td>1     </td><td>6     </td><td>1032  </td><td>1335  </td><td>XE    </td><td>3135  </td><td>N13958</td><td>123   </td><td>...   </td><td>  1   </td><td> 2    </td><td>IAH   </td><td>IND   </td><td>845   </td><td> 4    </td><td>21    </td><td>0     </td><td>      </td><td>0     </td></tr>\n",
       "\t<tr><td>2011  </td><td>1     </td><td>1     </td><td>6     </td><td>2030  </td><td>2325  </td><td>XE    </td><td>3137  </td><td>N27190</td><td>115   </td><td>...   </td><td> 25   </td><td>35    </td><td>IAH   </td><td>LEX   </td><td>828   </td><td> 7    </td><td>12    </td><td>0     </td><td>      </td><td>0     </td></tr>\n",
       "\t<tr><td>2011  </td><td>1     </td><td>1     </td><td>6     </td><td>1024  </td><td>1133  </td><td>XE    </td><td>3138  </td><td>N14977</td><td> 69   </td><td>...   </td><td>  7   </td><td>-1    </td><td>IAH   </td><td>SAT   </td><td>191   </td><td> 4    </td><td>26    </td><td>0     </td><td>      </td><td>0     </td></tr>\n",
       "\t<tr><td>2011  </td><td>1     </td><td>1     </td><td>6     </td><td>1120  </td><td>1254  </td><td>XE    </td><td>3152  </td><td>N14945</td><td> 94   </td><td>...   </td><td> -1   </td><td> 0    </td><td>IAH   </td><td>AMA   </td><td>519   </td><td> 4    </td><td>11    </td><td>0     </td><td>      </td><td>0     </td></tr>\n",
       "\t<tr><td>2011  </td><td>1     </td><td>1     </td><td>6     </td><td>1052  </td><td>1346  </td><td>XE    </td><td>3155  </td><td>N27962</td><td>114   </td><td>...   </td><td>-17   </td><td>-3    </td><td>IAH   </td><td>SDF   </td><td>788   </td><td> 5    </td><td>15    </td><td>0     </td><td>      </td><td>0     </td></tr>\n",
       "\t<tr><td>2011  </td><td>1     </td><td>1     </td><td>6     </td><td>1436  </td><td>1548  </td><td>XE    </td><td>3157  </td><td>N17196</td><td>132   </td><td>...   </td><td> -1   </td><td>-4    </td><td>IAH   </td><td>ABQ   </td><td>744   </td><td> 3    </td><td>13    </td><td>0     </td><td>      </td><td>0     </td></tr>\n",
       "</tbody>\n",
       "</table>\n"
      ],
      "text/latex": [
       "\\begin{tabular}{r|lllllllllllllllllllll}\n",
       " Year & Month & DayofMonth & DayOfWeek & DepTime & ArrTime & UniqueCarrier & FlightNum & TailNum & ActualElapsedTime & ... & ArrDelay & DepDelay & Origin & Dest & Distance & TaxiIn & TaxiOut & Cancelled & CancellationCode & Diverted\\\\\n",
       "\\hline\n",
       "\t 2011   & 12     & 15     & 4      & 2113   & 2217   & AA     & 426    & N433AA &  64    & ...    &  47    & 63     & IAH    & DFW    & 224    &  6     & 14     & 0      &        & 0     \\\\\n",
       "\t 2011   & 12     & 16     & 5      & 2004   & 2128   & AA     & 426    & N588AA &  84    & ...    &  -2    & -6     & IAH    & DFW    & 224    &  8     & 37     & 0      &        & 0     \\\\\n",
       "\t 2011   & 12     & 18     & 7      & 2007   & 2113   & AA     & 426    & N4XHAA &  66    & ...    & -17    & -3     & IAH    & DFW    & 224    &  7     & 13     & 0      &        & 0     \\\\\n",
       "\t 2011   & 12     & 19     & 1      & 2108   & 2223   & AA     & 426    & N4YDAA &  75    & ...    &  53    & 58     & IAH    & DFW    & 224    & 11     & 10     & 0      &        & 0     \\\\\n",
       "\t 2011   & 12     & 20     & 2      & 2008   & 2107   & AA     & 426    & N434AA &  59    & ...    & -23    & -2     & IAH    & DFW    & 224    &  6     & 12     & 0      &        & 0     \\\\\n",
       "\t 2011   & 12     & 21     & 3      & 2025   & 2124   & AA     & 426    & N589AA &  59    & ...    &  -6    & 15     & IAH    & DFW    & 224    &  5     & 11     & 0      &        & 0     \\\\\n",
       "\t 2011   & 12     & 22     & 4      & 2021   & 2118   & AA     & 426    & N4YCAA &  57    & ...    & -12    & 11     & IAH    & DFW    & 224    &  6     & 12     & 0      &        & 0     \\\\\n",
       "\t 2011   & 12     & 23     & 5      & 2015   & 2118   & AA     & 426    & N510AA &  63    & ...    & -12    &  5     & IAH    & DFW    & 224    &  6     & 21     & 0      &        & 0     \\\\\n",
       "\t 2011   & 12     & 26     & 1      & 2013   & 2118   & AA     & 426    & N4YLAA &  65    & ...    & -12    &  3     & IAH    & DFW    & 224    &  8     & 14     & 0      &        & 0     \\\\\n",
       "\t 2011   & 12     & 27     & 2      & 2007   & 2123   & AA     & 426    & N4YTAA &  76    & ...    &  -7    & -3     & IAH    & DFW    & 224    &  4     & 19     & 0      &        & 0     \\\\\n",
       "\t 2011   & 12     & 28     & 3      & 2009   & 2114   & AA     & 426    & N514AA &  65    & ...    & -16    & -1     & IAH    & DFW    & 224    &  4     & 13     & 0      &        & 0     \\\\\n",
       "\t 2011   & 12     & 29     & 4      & 2003   & 2111   & AA     & 426    & N578AA &  68    & ...    & -19    & -7     & IAH    & DFW    & 224    & 10     & 13     & 0      &        & 0     \\\\\n",
       "\t 2011   & 12     & 30     & 5      & 2015   & 2110   & AA     & 426    & N593AA &  55    & ...    & -20    &  5     & IAH    & DFW    & 224    &  8     &  8     & 0      &        & 0     \\\\\n",
       "\t 2011   & 12     &  1     & 4      &  558   &  905   & AA     & 466    & N3CTAA & 127    & ...    & -15    & -2     & IAH    & MIA    & 964    &  6     & 10     & 0      &        & 0     \\\\\n",
       "\t 2011   & 12     &  2     & 5      &  558   &  922   & AA     & 466    & N3GEAA & 144    & ...    &   2    & -2     & IAH    & MIA    & 964    & 11     & 17     & 0      &        & 0     \\\\\n",
       "\t 2011   & 12     &  3     & 6      &  556   &  911   & AA     & 466    & N3DUAA & 135    & ...    &  -9    & -4     & IAH    & MIA    & 964    &  9     & 10     & 0      &        & 0     \\\\\n",
       "\t 2011   & 12     &  4     & 7      &  553   &  906   & AA     & 466    & N3CKAA & 133    & ...    & -14    & -7     & IAH    & MIA    & 964    &  6     & 12     & 0      &        & 0     \\\\\n",
       "\t 2011   & 12     &  5     & 1      &  558   &  926   & AA     & 466    & N3CTAA & 148    & ...    &   6    & -2     & IAH    & MIA    & 964    & 11     & 21     & 0      &        & 0     \\\\\n",
       "\t 2011   & 12     &  6     & 2      &  557   &  919   & AA     & 466    & N3EEAA & 142    & ...    &  -1    & -3     & IAH    & MIA    & 964    &  9     & 19     & 0      &        & 0     \\\\\n",
       "\t 2011   & 12     &  7     & 3      &  600   &  911   & AA     & 466    & N3GKAA & 131    & ...    &  -9    &  0     & IAH    & MIA    & 964    &  5     & 10     & 0      &        & 0     \\\\\n",
       "\t 2011   & 12     &  8     & 4      &  555   &  912   & AA     & 466    & N3FSAA & 137    & ...    &  -8    & -5     & IAH    & MIA    & 964    &  6     & 13     & 0      &        & 0     \\\\\n",
       "\t 2011   & 12     &  9     & 5      &  605   &  916   & AA     & 466    & N3EAAA & 131    & ...    &  -4    &  5     & IAH    & MIA    & 964    &  6     & 11     & 0      &        & 0     \\\\\n",
       "\t 2011   & 12     & 10     & 6      &  606   &  919   & AA     & 466    & N3ENAA & 133    & ...    &  -1    &  6     & IAH    & MIA    & 964    & 12     & 10     & 0      &        & 0     \\\\\n",
       "\t 2011   & 12     & 11     & 7      &  554   &  856   & AA     & 466    & N3EVAA & 122    & ...    & -24    & -6     & IAH    & MIA    & 964    &  4     &  7     & 0      &        & 0     \\\\\n",
       "\t 2011   & 12     & 12     & 1      &  609   &  921   & AA     & 466    & N3CEAA & 132    & ...    &   1    &  9     & IAH    & MIA    & 964    & 10     &  9     & 0      &        & 0     \\\\\n",
       "\t 2011   & 12     & 13     & 2      &  557   &  918   & AA     & 466    & N3BJAA & 141    & ...    &  -2    & -3     & IAH    & MIA    & 964    &  9     & 16     & 0      &        & 0     \\\\\n",
       "\t 2011   & 12     & 14     & 3      &  557   &  910   & AA     & 466    & N3FAAA & 133    & ...    & -10    & -3     & IAH    & MIA    & 964    &  8     &  9     & 0      &        & 0     \\\\\n",
       "\t 2011   & 12     & 15     & 4      &  601   &  917   & AA     & 466    & N3BSAA & 136    & ...    &  -3    &  1     & IAH    & MIA    & 964    &  6     & 14     & 0      &        & 0     \\\\\n",
       "\t 2011   & 12     & 16     & 5      &  558   &  922   & AA     & 466    & N3EUAA & 144    & ...    &   2    & -2     & IAH    & MIA    & 964    &  5     & 23     & 0      &        & 0     \\\\\n",
       "\t 2011   & 12     & 17     & 6      &  557   &  916   & AA     & 466    & N3FEAA & 139    & ...    &  -4    & -3     & IAH    & MIA    & 964    & 12     & 16     & 0      &        & 0     \\\\\n",
       "\t ... & ... & ... & ... & ... & ... & ... & ... & ... & ... &     & ... & ... & ... & ... & ... & ... & ... & ... & ... & ...\\\\\n",
       "\t 2011   & 1      & 1      & 6      & 1118   & 1221   & XE     & 3041   & N12142 &  63    & ...    &  60    & 58     & IAH    & CRP    & 201    &  3     & 20     & 0      &        & 0     \\\\\n",
       "\t 2011   & 1      & 1      & 6      & 1956   & 2247   & XE     & 3050   & N14203 & 111    & ...    &   8    & 11     & IAH    & JAX    & 817    &  5     & 12     & 0      &        & 0     \\\\\n",
       "\t 2011   & 1      & 1      & 6      & 1642   & 1728   & XE     & 3053   & N17928 &  46    & ...    &  40    & 57     & IAH    & SHV    & 192    &  8     &  9     & 0      &        & 0     \\\\\n",
       "\t 2011   & 1      & 1      & 6      & 1126   & 1306   & XE     & 3054   & N21154 & 160    & ...    &  30    &  1     & IAH    & ABQ    & 744    &  4     & 16     & 0      &        & 0     \\\\\n",
       "\t 2011   & 1      & 1      & 6      & 1257   & 1430   & XE     & 3056   & N14993 &  93    & ...    &   7    & -3     & IAH    & VPS    & 528    &  8     & 15     & 0      &        & 0     \\\\\n",
       "\t 2011   & 1      & 1      & 6      & 1013   & 1124   & XE     & 3060   & N18556 &  71    & ...    & -11    & -7     & IAH    & OKC    & 395    &  3     & 12     & 0      &        & 0     \\\\\n",
       "\t 2011   & 1      & 1      & 6      & 1806   & 1854   & XE     & 3071   & N13997 &  48    & ...    &  19    & 36     & IAH    & AEX    & 190    &  5     & 13     & 0      &        & 0     \\\\\n",
       "\t 2011   & 1      & 1      & 6      & 1828   & 1934   & XE     & 3078   & N14998 & 126    & ...    &   8    &  3     & IAH    & ELP    & 667    &  2     & 18     & 0      &        & 0     \\\\\n",
       "\t 2011   & 1      & 1      & 6      & 1356   & 1648   & XE     & 3082   & N18556 & 112    & ...    & -13    & -4     & IAH    & SDF    & 788    &  6     & 12     & 0      &        & 0     \\\\\n",
       "\t 2011   & 1      & 1      & 6      &  849   & 1103   & XE     & 3083   & N14902 & 134    & ...    &  52    & 64     & IAH    & MKE    & 984    &  4     & 16     & 0      &        & 0     \\\\\n",
       "\t 2011   & 1      & 1      & 6      & 1017   & 1324   & XE     & 3086   & N17115 & 127    & ...    &  16    &  2     & IAH    & JAX    & 817    &  4     & 23     & 0      &        & 0     \\\\\n",
       "\t 2011   & 1      & 1      & 6      & 1438   & 1601   & XE     & 3087   & N11193 &  83    & ...    &  -3    & -5     & IAH    & TUL    & 429    &  5     & 20     & 0      &        & 0     \\\\\n",
       "\t 2011   & 1      & 1      & 6      &  942   & 1136   & XE     & 3088   & N13979 & 114    & ...    &  15    & 12     & IAH    & MCI    & 643    &  4     & 25     & 0      &        & 0     \\\\\n",
       "\t 2011   & 1      & 1      & 6      & 1223   & 1710   & XE     & 3092   & N11181 &  NA    & ...    &  NA    & 33     & IAH    & MCI    & 643    &  6     & 16     & 0      &        & 1     \\\\\n",
       "\t 2011   & 1      & 1      & 6      & 1055   & 1414   & XE     & 3094   & N12552 & 139    & ...    &  18    &  0     & IAH    & GSP    & 838    &  5     & 31     & 0      &        & 0     \\\\\n",
       "\t 2011   & 1      & 1      & 6      & 1041   & 1413   & XE     & 3101   & N17108 & 152    & ...    &  10    &  1     & IAH    & CMH    & 986    & 13     & 22     & 0      &        & 0     \\\\\n",
       "\t 2011   & 1      & 1      & 6      &  934   & 1049   & XE     & 3103   & N16976 &  75    & ...    &  24    & 14     & IAH    & DFW    & 224    &  5     & 28     & 0      &        & 0     \\\\\n",
       "\t 2011   & 1      & 1      & 6      & 1916   & 2029   & XE     & 3105   & N14930 &  73    & ...    &  -9    & -4     & IAH    & LIT    & 374    &  4     & 17     & 0      &        & 0     \\\\\n",
       "\t 2011   & 1      & 1      & 6      &  858   & 1043   & XE     & 3108   & N41104 & 105    & ...    & -18    & -2     & IAH    & STL    & 668    &  3     & 20     & 0      &        & 0     \\\\\n",
       "\t 2011   & 1      & 1      & 6      & 2131   & 2235   & XE     & 3111   & N12195 & 124    & ...    &  22    & 11     & IAH    & ELP    & 667    &  4     & 14     & 0      &        & 0     \\\\\n",
       "\t 2011   & 1      & 1      & 6      & 1256   & 1404   & XE     & 3120   & N14943 &  68    & ...    &  -6    & -4     & IAH    & LIT    & 374    &  5     & 14     & 0      &        & 0     \\\\\n",
       "\t 2011   & 1      & 1      & 6      & 1822   & 1959   & XE     & 3127   & N14943 &  97    & ...    &  -4    & -3     & IAH    & LBB    & 458    &  5     & 22     & 0      &        & 0     \\\\\n",
       "\t 2011   & 1      & 1      & 6      & 1533   & 1718   & XE     & 3129   & N41104 & 105    & ...    & -10    & -2     & IAH    & STL    & 668    &  5     & 17     & 0      &        & 0     \\\\\n",
       "\t 2011   & 1      & 1      & 6      & 1645   & 1941   & XE     & 3132   & N22971 & 116    & ...    &   3    &  0     & IAH    & JAX    & 817    &  4     & 13     & 0      &        & 0     \\\\\n",
       "\t 2011   & 1      & 1      & 6      & 1032   & 1335   & XE     & 3135   & N13958 & 123    & ...    &   1    &  2     & IAH    & IND    & 845    &  4     & 21     & 0      &        & 0     \\\\\n",
       "\t 2011   & 1      & 1      & 6      & 2030   & 2325   & XE     & 3137   & N27190 & 115    & ...    &  25    & 35     & IAH    & LEX    & 828    &  7     & 12     & 0      &        & 0     \\\\\n",
       "\t 2011   & 1      & 1      & 6      & 1024   & 1133   & XE     & 3138   & N14977 &  69    & ...    &   7    & -1     & IAH    & SAT    & 191    &  4     & 26     & 0      &        & 0     \\\\\n",
       "\t 2011   & 1      & 1      & 6      & 1120   & 1254   & XE     & 3152   & N14945 &  94    & ...    &  -1    &  0     & IAH    & AMA    & 519    &  4     & 11     & 0      &        & 0     \\\\\n",
       "\t 2011   & 1      & 1      & 6      & 1052   & 1346   & XE     & 3155   & N27962 & 114    & ...    & -17    & -3     & IAH    & SDF    & 788    &  5     & 15     & 0      &        & 0     \\\\\n",
       "\t 2011   & 1      & 1      & 6      & 1436   & 1548   & XE     & 3157   & N17196 & 132    & ...    &  -1    & -4     & IAH    & ABQ    & 744    &  3     & 13     & 0      &        & 0     \\\\\n",
       "\\end{tabular}\n"
      ],
      "text/markdown": [
       "\n",
       "| Year | Month | DayofMonth | DayOfWeek | DepTime | ArrTime | UniqueCarrier | FlightNum | TailNum | ActualElapsedTime | ... | ArrDelay | DepDelay | Origin | Dest | Distance | TaxiIn | TaxiOut | Cancelled | CancellationCode | Diverted |\n",
       "|---|---|---|---|---|---|---|---|---|---|---|---|---|---|---|---|---|---|---|---|---|\n",
       "| 2011   | 12     | 15     | 4      | 2113   | 2217   | AA     | 426    | N433AA |  64    | ...    |  47    | 63     | IAH    | DFW    | 224    |  6     | 14     | 0      |        | 0      |\n",
       "| 2011   | 12     | 16     | 5      | 2004   | 2128   | AA     | 426    | N588AA |  84    | ...    |  -2    | -6     | IAH    | DFW    | 224    |  8     | 37     | 0      |        | 0      |\n",
       "| 2011   | 12     | 18     | 7      | 2007   | 2113   | AA     | 426    | N4XHAA |  66    | ...    | -17    | -3     | IAH    | DFW    | 224    |  7     | 13     | 0      |        | 0      |\n",
       "| 2011   | 12     | 19     | 1      | 2108   | 2223   | AA     | 426    | N4YDAA |  75    | ...    |  53    | 58     | IAH    | DFW    | 224    | 11     | 10     | 0      |        | 0      |\n",
       "| 2011   | 12     | 20     | 2      | 2008   | 2107   | AA     | 426    | N434AA |  59    | ...    | -23    | -2     | IAH    | DFW    | 224    |  6     | 12     | 0      |        | 0      |\n",
       "| 2011   | 12     | 21     | 3      | 2025   | 2124   | AA     | 426    | N589AA |  59    | ...    |  -6    | 15     | IAH    | DFW    | 224    |  5     | 11     | 0      |        | 0      |\n",
       "| 2011   | 12     | 22     | 4      | 2021   | 2118   | AA     | 426    | N4YCAA |  57    | ...    | -12    | 11     | IAH    | DFW    | 224    |  6     | 12     | 0      |        | 0      |\n",
       "| 2011   | 12     | 23     | 5      | 2015   | 2118   | AA     | 426    | N510AA |  63    | ...    | -12    |  5     | IAH    | DFW    | 224    |  6     | 21     | 0      |        | 0      |\n",
       "| 2011   | 12     | 26     | 1      | 2013   | 2118   | AA     | 426    | N4YLAA |  65    | ...    | -12    |  3     | IAH    | DFW    | 224    |  8     | 14     | 0      |        | 0      |\n",
       "| 2011   | 12     | 27     | 2      | 2007   | 2123   | AA     | 426    | N4YTAA |  76    | ...    |  -7    | -3     | IAH    | DFW    | 224    |  4     | 19     | 0      |        | 0      |\n",
       "| 2011   | 12     | 28     | 3      | 2009   | 2114   | AA     | 426    | N514AA |  65    | ...    | -16    | -1     | IAH    | DFW    | 224    |  4     | 13     | 0      |        | 0      |\n",
       "| 2011   | 12     | 29     | 4      | 2003   | 2111   | AA     | 426    | N578AA |  68    | ...    | -19    | -7     | IAH    | DFW    | 224    | 10     | 13     | 0      |        | 0      |\n",
       "| 2011   | 12     | 30     | 5      | 2015   | 2110   | AA     | 426    | N593AA |  55    | ...    | -20    |  5     | IAH    | DFW    | 224    |  8     |  8     | 0      |        | 0      |\n",
       "| 2011   | 12     |  1     | 4      |  558   |  905   | AA     | 466    | N3CTAA | 127    | ...    | -15    | -2     | IAH    | MIA    | 964    |  6     | 10     | 0      |        | 0      |\n",
       "| 2011   | 12     |  2     | 5      |  558   |  922   | AA     | 466    | N3GEAA | 144    | ...    |   2    | -2     | IAH    | MIA    | 964    | 11     | 17     | 0      |        | 0      |\n",
       "| 2011   | 12     |  3     | 6      |  556   |  911   | AA     | 466    | N3DUAA | 135    | ...    |  -9    | -4     | IAH    | MIA    | 964    |  9     | 10     | 0      |        | 0      |\n",
       "| 2011   | 12     |  4     | 7      |  553   |  906   | AA     | 466    | N3CKAA | 133    | ...    | -14    | -7     | IAH    | MIA    | 964    |  6     | 12     | 0      |        | 0      |\n",
       "| 2011   | 12     |  5     | 1      |  558   |  926   | AA     | 466    | N3CTAA | 148    | ...    |   6    | -2     | IAH    | MIA    | 964    | 11     | 21     | 0      |        | 0      |\n",
       "| 2011   | 12     |  6     | 2      |  557   |  919   | AA     | 466    | N3EEAA | 142    | ...    |  -1    | -3     | IAH    | MIA    | 964    |  9     | 19     | 0      |        | 0      |\n",
       "| 2011   | 12     |  7     | 3      |  600   |  911   | AA     | 466    | N3GKAA | 131    | ...    |  -9    |  0     | IAH    | MIA    | 964    |  5     | 10     | 0      |        | 0      |\n",
       "| 2011   | 12     |  8     | 4      |  555   |  912   | AA     | 466    | N3FSAA | 137    | ...    |  -8    | -5     | IAH    | MIA    | 964    |  6     | 13     | 0      |        | 0      |\n",
       "| 2011   | 12     |  9     | 5      |  605   |  916   | AA     | 466    | N3EAAA | 131    | ...    |  -4    |  5     | IAH    | MIA    | 964    |  6     | 11     | 0      |        | 0      |\n",
       "| 2011   | 12     | 10     | 6      |  606   |  919   | AA     | 466    | N3ENAA | 133    | ...    |  -1    |  6     | IAH    | MIA    | 964    | 12     | 10     | 0      |        | 0      |\n",
       "| 2011   | 12     | 11     | 7      |  554   |  856   | AA     | 466    | N3EVAA | 122    | ...    | -24    | -6     | IAH    | MIA    | 964    |  4     |  7     | 0      |        | 0      |\n",
       "| 2011   | 12     | 12     | 1      |  609   |  921   | AA     | 466    | N3CEAA | 132    | ...    |   1    |  9     | IAH    | MIA    | 964    | 10     |  9     | 0      |        | 0      |\n",
       "| 2011   | 12     | 13     | 2      |  557   |  918   | AA     | 466    | N3BJAA | 141    | ...    |  -2    | -3     | IAH    | MIA    | 964    |  9     | 16     | 0      |        | 0      |\n",
       "| 2011   | 12     | 14     | 3      |  557   |  910   | AA     | 466    | N3FAAA | 133    | ...    | -10    | -3     | IAH    | MIA    | 964    |  8     |  9     | 0      |        | 0      |\n",
       "| 2011   | 12     | 15     | 4      |  601   |  917   | AA     | 466    | N3BSAA | 136    | ...    |  -3    |  1     | IAH    | MIA    | 964    |  6     | 14     | 0      |        | 0      |\n",
       "| 2011   | 12     | 16     | 5      |  558   |  922   | AA     | 466    | N3EUAA | 144    | ...    |   2    | -2     | IAH    | MIA    | 964    |  5     | 23     | 0      |        | 0      |\n",
       "| 2011   | 12     | 17     | 6      |  557   |  916   | AA     | 466    | N3FEAA | 139    | ...    |  -4    | -3     | IAH    | MIA    | 964    | 12     | 16     | 0      |        | 0      |\n",
       "| ... | ... | ... | ... | ... | ... | ... | ... | ... | ... |     | ... | ... | ... | ... | ... | ... | ... | ... | ... | ... |\n",
       "| 2011   | 1      | 1      | 6      | 1118   | 1221   | XE     | 3041   | N12142 |  63    | ...    |  60    | 58     | IAH    | CRP    | 201    |  3     | 20     | 0      |        | 0      |\n",
       "| 2011   | 1      | 1      | 6      | 1956   | 2247   | XE     | 3050   | N14203 | 111    | ...    |   8    | 11     | IAH    | JAX    | 817    |  5     | 12     | 0      |        | 0      |\n",
       "| 2011   | 1      | 1      | 6      | 1642   | 1728   | XE     | 3053   | N17928 |  46    | ...    |  40    | 57     | IAH    | SHV    | 192    |  8     |  9     | 0      |        | 0      |\n",
       "| 2011   | 1      | 1      | 6      | 1126   | 1306   | XE     | 3054   | N21154 | 160    | ...    |  30    |  1     | IAH    | ABQ    | 744    |  4     | 16     | 0      |        | 0      |\n",
       "| 2011   | 1      | 1      | 6      | 1257   | 1430   | XE     | 3056   | N14993 |  93    | ...    |   7    | -3     | IAH    | VPS    | 528    |  8     | 15     | 0      |        | 0      |\n",
       "| 2011   | 1      | 1      | 6      | 1013   | 1124   | XE     | 3060   | N18556 |  71    | ...    | -11    | -7     | IAH    | OKC    | 395    |  3     | 12     | 0      |        | 0      |\n",
       "| 2011   | 1      | 1      | 6      | 1806   | 1854   | XE     | 3071   | N13997 |  48    | ...    |  19    | 36     | IAH    | AEX    | 190    |  5     | 13     | 0      |        | 0      |\n",
       "| 2011   | 1      | 1      | 6      | 1828   | 1934   | XE     | 3078   | N14998 | 126    | ...    |   8    |  3     | IAH    | ELP    | 667    |  2     | 18     | 0      |        | 0      |\n",
       "| 2011   | 1      | 1      | 6      | 1356   | 1648   | XE     | 3082   | N18556 | 112    | ...    | -13    | -4     | IAH    | SDF    | 788    |  6     | 12     | 0      |        | 0      |\n",
       "| 2011   | 1      | 1      | 6      |  849   | 1103   | XE     | 3083   | N14902 | 134    | ...    |  52    | 64     | IAH    | MKE    | 984    |  4     | 16     | 0      |        | 0      |\n",
       "| 2011   | 1      | 1      | 6      | 1017   | 1324   | XE     | 3086   | N17115 | 127    | ...    |  16    |  2     | IAH    | JAX    | 817    |  4     | 23     | 0      |        | 0      |\n",
       "| 2011   | 1      | 1      | 6      | 1438   | 1601   | XE     | 3087   | N11193 |  83    | ...    |  -3    | -5     | IAH    | TUL    | 429    |  5     | 20     | 0      |        | 0      |\n",
       "| 2011   | 1      | 1      | 6      |  942   | 1136   | XE     | 3088   | N13979 | 114    | ...    |  15    | 12     | IAH    | MCI    | 643    |  4     | 25     | 0      |        | 0      |\n",
       "| 2011   | 1      | 1      | 6      | 1223   | 1710   | XE     | 3092   | N11181 |  NA    | ...    |  NA    | 33     | IAH    | MCI    | 643    |  6     | 16     | 0      |        | 1      |\n",
       "| 2011   | 1      | 1      | 6      | 1055   | 1414   | XE     | 3094   | N12552 | 139    | ...    |  18    |  0     | IAH    | GSP    | 838    |  5     | 31     | 0      |        | 0      |\n",
       "| 2011   | 1      | 1      | 6      | 1041   | 1413   | XE     | 3101   | N17108 | 152    | ...    |  10    |  1     | IAH    | CMH    | 986    | 13     | 22     | 0      |        | 0      |\n",
       "| 2011   | 1      | 1      | 6      |  934   | 1049   | XE     | 3103   | N16976 |  75    | ...    |  24    | 14     | IAH    | DFW    | 224    |  5     | 28     | 0      |        | 0      |\n",
       "| 2011   | 1      | 1      | 6      | 1916   | 2029   | XE     | 3105   | N14930 |  73    | ...    |  -9    | -4     | IAH    | LIT    | 374    |  4     | 17     | 0      |        | 0      |\n",
       "| 2011   | 1      | 1      | 6      |  858   | 1043   | XE     | 3108   | N41104 | 105    | ...    | -18    | -2     | IAH    | STL    | 668    |  3     | 20     | 0      |        | 0      |\n",
       "| 2011   | 1      | 1      | 6      | 2131   | 2235   | XE     | 3111   | N12195 | 124    | ...    |  22    | 11     | IAH    | ELP    | 667    |  4     | 14     | 0      |        | 0      |\n",
       "| 2011   | 1      | 1      | 6      | 1256   | 1404   | XE     | 3120   | N14943 |  68    | ...    |  -6    | -4     | IAH    | LIT    | 374    |  5     | 14     | 0      |        | 0      |\n",
       "| 2011   | 1      | 1      | 6      | 1822   | 1959   | XE     | 3127   | N14943 |  97    | ...    |  -4    | -3     | IAH    | LBB    | 458    |  5     | 22     | 0      |        | 0      |\n",
       "| 2011   | 1      | 1      | 6      | 1533   | 1718   | XE     | 3129   | N41104 | 105    | ...    | -10    | -2     | IAH    | STL    | 668    |  5     | 17     | 0      |        | 0      |\n",
       "| 2011   | 1      | 1      | 6      | 1645   | 1941   | XE     | 3132   | N22971 | 116    | ...    |   3    |  0     | IAH    | JAX    | 817    |  4     | 13     | 0      |        | 0      |\n",
       "| 2011   | 1      | 1      | 6      | 1032   | 1335   | XE     | 3135   | N13958 | 123    | ...    |   1    |  2     | IAH    | IND    | 845    |  4     | 21     | 0      |        | 0      |\n",
       "| 2011   | 1      | 1      | 6      | 2030   | 2325   | XE     | 3137   | N27190 | 115    | ...    |  25    | 35     | IAH    | LEX    | 828    |  7     | 12     | 0      |        | 0      |\n",
       "| 2011   | 1      | 1      | 6      | 1024   | 1133   | XE     | 3138   | N14977 |  69    | ...    |   7    | -1     | IAH    | SAT    | 191    |  4     | 26     | 0      |        | 0      |\n",
       "| 2011   | 1      | 1      | 6      | 1120   | 1254   | XE     | 3152   | N14945 |  94    | ...    |  -1    |  0     | IAH    | AMA    | 519    |  4     | 11     | 0      |        | 0      |\n",
       "| 2011   | 1      | 1      | 6      | 1052   | 1346   | XE     | 3155   | N27962 | 114    | ...    | -17    | -3     | IAH    | SDF    | 788    |  5     | 15     | 0      |        | 0      |\n",
       "| 2011   | 1      | 1      | 6      | 1436   | 1548   | XE     | 3157   | N17196 | 132    | ...    |  -1    | -4     | IAH    | ABQ    | 744    |  3     | 13     | 0      |        | 0      |\n",
       "\n"
      ],
      "text/plain": [
       "       Year Month DayofMonth DayOfWeek DepTime ArrTime UniqueCarrier FlightNum\n",
       "1      2011 12    15         4         2113    2217    AA            426      \n",
       "2      2011 12    16         5         2004    2128    AA            426      \n",
       "3      2011 12    18         7         2007    2113    AA            426      \n",
       "4      2011 12    19         1         2108    2223    AA            426      \n",
       "5      2011 12    20         2         2008    2107    AA            426      \n",
       "6      2011 12    21         3         2025    2124    AA            426      \n",
       "7      2011 12    22         4         2021    2118    AA            426      \n",
       "8      2011 12    23         5         2015    2118    AA            426      \n",
       "9      2011 12    26         1         2013    2118    AA            426      \n",
       "10     2011 12    27         2         2007    2123    AA            426      \n",
       "11     2011 12    28         3         2009    2114    AA            426      \n",
       "12     2011 12    29         4         2003    2111    AA            426      \n",
       "13     2011 12    30         5         2015    2110    AA            426      \n",
       "14     2011 12     1         4          558     905    AA            466      \n",
       "15     2011 12     2         5          558     922    AA            466      \n",
       "16     2011 12     3         6          556     911    AA            466      \n",
       "17     2011 12     4         7          553     906    AA            466      \n",
       "18     2011 12     5         1          558     926    AA            466      \n",
       "19     2011 12     6         2          557     919    AA            466      \n",
       "20     2011 12     7         3          600     911    AA            466      \n",
       "21     2011 12     8         4          555     912    AA            466      \n",
       "22     2011 12     9         5          605     916    AA            466      \n",
       "23     2011 12    10         6          606     919    AA            466      \n",
       "24     2011 12    11         7          554     856    AA            466      \n",
       "25     2011 12    12         1          609     921    AA            466      \n",
       "26     2011 12    13         2          557     918    AA            466      \n",
       "27     2011 12    14         3          557     910    AA            466      \n",
       "28     2011 12    15         4          601     917    AA            466      \n",
       "29     2011 12    16         5          558     922    AA            466      \n",
       "30     2011 12    17         6          557     916    AA            466      \n",
       "...    ...  ...   ...        ...       ...     ...     ...           ...      \n",
       "227467 2011 1     1          6         1118    1221    XE            3041     \n",
       "227468 2011 1     1          6         1956    2247    XE            3050     \n",
       "227469 2011 1     1          6         1642    1728    XE            3053     \n",
       "227470 2011 1     1          6         1126    1306    XE            3054     \n",
       "227471 2011 1     1          6         1257    1430    XE            3056     \n",
       "227472 2011 1     1          6         1013    1124    XE            3060     \n",
       "227473 2011 1     1          6         1806    1854    XE            3071     \n",
       "227474 2011 1     1          6         1828    1934    XE            3078     \n",
       "227475 2011 1     1          6         1356    1648    XE            3082     \n",
       "227476 2011 1     1          6          849    1103    XE            3083     \n",
       "227477 2011 1     1          6         1017    1324    XE            3086     \n",
       "227478 2011 1     1          6         1438    1601    XE            3087     \n",
       "227479 2011 1     1          6          942    1136    XE            3088     \n",
       "227480 2011 1     1          6         1223    1710    XE            3092     \n",
       "227481 2011 1     1          6         1055    1414    XE            3094     \n",
       "227482 2011 1     1          6         1041    1413    XE            3101     \n",
       "227483 2011 1     1          6          934    1049    XE            3103     \n",
       "227484 2011 1     1          6         1916    2029    XE            3105     \n",
       "227485 2011 1     1          6          858    1043    XE            3108     \n",
       "227486 2011 1     1          6         2131    2235    XE            3111     \n",
       "227487 2011 1     1          6         1256    1404    XE            3120     \n",
       "227488 2011 1     1          6         1822    1959    XE            3127     \n",
       "227489 2011 1     1          6         1533    1718    XE            3129     \n",
       "227490 2011 1     1          6         1645    1941    XE            3132     \n",
       "227491 2011 1     1          6         1032    1335    XE            3135     \n",
       "227492 2011 1     1          6         2030    2325    XE            3137     \n",
       "227493 2011 1     1          6         1024    1133    XE            3138     \n",
       "227494 2011 1     1          6         1120    1254    XE            3152     \n",
       "227495 2011 1     1          6         1052    1346    XE            3155     \n",
       "227496 2011 1     1          6         1436    1548    XE            3157     \n",
       "       TailNum ActualElapsedTime ... ArrDelay DepDelay Origin Dest Distance\n",
       "1      N433AA   64               ...  47      63       IAH    DFW  224     \n",
       "2      N588AA   84               ...  -2      -6       IAH    DFW  224     \n",
       "3      N4XHAA   66               ... -17      -3       IAH    DFW  224     \n",
       "4      N4YDAA   75               ...  53      58       IAH    DFW  224     \n",
       "5      N434AA   59               ... -23      -2       IAH    DFW  224     \n",
       "6      N589AA   59               ...  -6      15       IAH    DFW  224     \n",
       "7      N4YCAA   57               ... -12      11       IAH    DFW  224     \n",
       "8      N510AA   63               ... -12       5       IAH    DFW  224     \n",
       "9      N4YLAA   65               ... -12       3       IAH    DFW  224     \n",
       "10     N4YTAA   76               ...  -7      -3       IAH    DFW  224     \n",
       "11     N514AA   65               ... -16      -1       IAH    DFW  224     \n",
       "12     N578AA   68               ... -19      -7       IAH    DFW  224     \n",
       "13     N593AA   55               ... -20       5       IAH    DFW  224     \n",
       "14     N3CTAA  127               ... -15      -2       IAH    MIA  964     \n",
       "15     N3GEAA  144               ...   2      -2       IAH    MIA  964     \n",
       "16     N3DUAA  135               ...  -9      -4       IAH    MIA  964     \n",
       "17     N3CKAA  133               ... -14      -7       IAH    MIA  964     \n",
       "18     N3CTAA  148               ...   6      -2       IAH    MIA  964     \n",
       "19     N3EEAA  142               ...  -1      -3       IAH    MIA  964     \n",
       "20     N3GKAA  131               ...  -9       0       IAH    MIA  964     \n",
       "21     N3FSAA  137               ...  -8      -5       IAH    MIA  964     \n",
       "22     N3EAAA  131               ...  -4       5       IAH    MIA  964     \n",
       "23     N3ENAA  133               ...  -1       6       IAH    MIA  964     \n",
       "24     N3EVAA  122               ... -24      -6       IAH    MIA  964     \n",
       "25     N3CEAA  132               ...   1       9       IAH    MIA  964     \n",
       "26     N3BJAA  141               ...  -2      -3       IAH    MIA  964     \n",
       "27     N3FAAA  133               ... -10      -3       IAH    MIA  964     \n",
       "28     N3BSAA  136               ...  -3       1       IAH    MIA  964     \n",
       "29     N3EUAA  144               ...   2      -2       IAH    MIA  964     \n",
       "30     N3FEAA  139               ...  -4      -3       IAH    MIA  964     \n",
       "...    ...     ...                   ...      ...      ...    ...  ...     \n",
       "227467 N12142   63               ...  60      58       IAH    CRP  201     \n",
       "227468 N14203  111               ...   8      11       IAH    JAX  817     \n",
       "227469 N17928   46               ...  40      57       IAH    SHV  192     \n",
       "227470 N21154  160               ...  30       1       IAH    ABQ  744     \n",
       "227471 N14993   93               ...   7      -3       IAH    VPS  528     \n",
       "227472 N18556   71               ... -11      -7       IAH    OKC  395     \n",
       "227473 N13997   48               ...  19      36       IAH    AEX  190     \n",
       "227474 N14998  126               ...   8       3       IAH    ELP  667     \n",
       "227475 N18556  112               ... -13      -4       IAH    SDF  788     \n",
       "227476 N14902  134               ...  52      64       IAH    MKE  984     \n",
       "227477 N17115  127               ...  16       2       IAH    JAX  817     \n",
       "227478 N11193   83               ...  -3      -5       IAH    TUL  429     \n",
       "227479 N13979  114               ...  15      12       IAH    MCI  643     \n",
       "227480 N11181   NA               ...  NA      33       IAH    MCI  643     \n",
       "227481 N12552  139               ...  18       0       IAH    GSP  838     \n",
       "227482 N17108  152               ...  10       1       IAH    CMH  986     \n",
       "227483 N16976   75               ...  24      14       IAH    DFW  224     \n",
       "227484 N14930   73               ...  -9      -4       IAH    LIT  374     \n",
       "227485 N41104  105               ... -18      -2       IAH    STL  668     \n",
       "227486 N12195  124               ...  22      11       IAH    ELP  667     \n",
       "227487 N14943   68               ...  -6      -4       IAH    LIT  374     \n",
       "227488 N14943   97               ...  -4      -3       IAH    LBB  458     \n",
       "227489 N41104  105               ... -10      -2       IAH    STL  668     \n",
       "227490 N22971  116               ...   3       0       IAH    JAX  817     \n",
       "227491 N13958  123               ...   1       2       IAH    IND  845     \n",
       "227492 N27190  115               ...  25      35       IAH    LEX  828     \n",
       "227493 N14977   69               ...   7      -1       IAH    SAT  191     \n",
       "227494 N14945   94               ...  -1       0       IAH    AMA  519     \n",
       "227495 N27962  114               ... -17      -3       IAH    SDF  788     \n",
       "227496 N17196  132               ...  -1      -4       IAH    ABQ  744     \n",
       "       TaxiIn TaxiOut Cancelled CancellationCode Diverted\n",
       "1       6     14      0                          0       \n",
       "2       8     37      0                          0       \n",
       "3       7     13      0                          0       \n",
       "4      11     10      0                          0       \n",
       "5       6     12      0                          0       \n",
       "6       5     11      0                          0       \n",
       "7       6     12      0                          0       \n",
       "8       6     21      0                          0       \n",
       "9       8     14      0                          0       \n",
       "10      4     19      0                          0       \n",
       "11      4     13      0                          0       \n",
       "12     10     13      0                          0       \n",
       "13      8      8      0                          0       \n",
       "14      6     10      0                          0       \n",
       "15     11     17      0                          0       \n",
       "16      9     10      0                          0       \n",
       "17      6     12      0                          0       \n",
       "18     11     21      0                          0       \n",
       "19      9     19      0                          0       \n",
       "20      5     10      0                          0       \n",
       "21      6     13      0                          0       \n",
       "22      6     11      0                          0       \n",
       "23     12     10      0                          0       \n",
       "24      4      7      0                          0       \n",
       "25     10      9      0                          0       \n",
       "26      9     16      0                          0       \n",
       "27      8      9      0                          0       \n",
       "28      6     14      0                          0       \n",
       "29      5     23      0                          0       \n",
       "30     12     16      0                          0       \n",
       "...    ...    ...     ...       ...              ...     \n",
       "227467  3     20      0                          0       \n",
       "227468  5     12      0                          0       \n",
       "227469  8      9      0                          0       \n",
       "227470  4     16      0                          0       \n",
       "227471  8     15      0                          0       \n",
       "227472  3     12      0                          0       \n",
       "227473  5     13      0                          0       \n",
       "227474  2     18      0                          0       \n",
       "227475  6     12      0                          0       \n",
       "227476  4     16      0                          0       \n",
       "227477  4     23      0                          0       \n",
       "227478  5     20      0                          0       \n",
       "227479  4     25      0                          0       \n",
       "227480  6     16      0                          1       \n",
       "227481  5     31      0                          0       \n",
       "227482 13     22      0                          0       \n",
       "227483  5     28      0                          0       \n",
       "227484  4     17      0                          0       \n",
       "227485  3     20      0                          0       \n",
       "227486  4     14      0                          0       \n",
       "227487  5     14      0                          0       \n",
       "227488  5     22      0                          0       \n",
       "227489  5     17      0                          0       \n",
       "227490  4     13      0                          0       \n",
       "227491  4     21      0                          0       \n",
       "227492  7     12      0                          0       \n",
       "227493  4     26      0                          0       \n",
       "227494  4     11      0                          0       \n",
       "227495  5     15      0                          0       \n",
       "227496  3     13      0                          0       "
      ]
     },
     "metadata": {},
     "output_type": "display_data"
    }
   ],
   "source": [
    "library(hflights)\n",
    "flight.df <- hflights\n",
    "flight.tbl <- hflights\n",
    "arrange(flight.tbl,Month)\n",
    "arrange(flight.tbl,desc(Month),Year)"
   ]
  },
  {
   "cell_type": "markdown",
   "id": "outer-utility",
   "metadata": {},
   "source": [
    "#### 6. distinct()\n",
    "- select와 같이 사용하면 특정 열에 중복되지 않은 값 추출 가능\n",
    "- unique 와 유사하지만 데이터 프레임 형식으로 돌려준다"
   ]
  },
  {
   "cell_type": "code",
   "execution_count": 29,
   "id": "fitted-shift",
   "metadata": {},
   "outputs": [
    {
     "data": {
      "text/html": [
       "<table>\n",
       "<thead><tr><th scope=col>Type</th></tr></thead>\n",
       "<tbody>\n",
       "\t<tr><td>Small  </td></tr>\n",
       "\t<tr><td>Midsize</td></tr>\n",
       "\t<tr><td>Compact</td></tr>\n",
       "\t<tr><td>Large  </td></tr>\n",
       "\t<tr><td>Sporty </td></tr>\n",
       "\t<tr><td>Van    </td></tr>\n",
       "</tbody>\n",
       "</table>\n"
      ],
      "text/latex": [
       "\\begin{tabular}{r|l}\n",
       " Type\\\\\n",
       "\\hline\n",
       "\t Small  \\\\\n",
       "\t Midsize\\\\\n",
       "\t Compact\\\\\n",
       "\t Large  \\\\\n",
       "\t Sporty \\\\\n",
       "\t Van    \\\\\n",
       "\\end{tabular}\n"
      ],
      "text/markdown": [
       "\n",
       "| Type |\n",
       "|---|\n",
       "| Small   |\n",
       "| Midsize |\n",
       "| Compact |\n",
       "| Large   |\n",
       "| Sporty  |\n",
       "| Van     |\n",
       "\n"
      ],
      "text/plain": [
       "  Type   \n",
       "1 Small  \n",
       "2 Midsize\n",
       "3 Compact\n",
       "4 Large  \n",
       "5 Sporty \n",
       "6 Van    "
      ]
     },
     "metadata": {},
     "output_type": "display_data"
    }
   ],
   "source": [
    "library(MASS)\n",
    "Cars93 %>% dplyr::select(Type) %>% distinct()"
   ]
  },
  {
   "cell_type": "markdown",
   "id": "architectural-enzyme",
   "metadata": {},
   "source": [
    "#### 7. mutate\n",
    "- transform 함수와 다른점은 새롭게 생성한 열을 동일한 함수 내에서 바로 사용 가능"
   ]
  },
  {
   "cell_type": "code",
   "execution_count": 41,
   "id": "level-music",
   "metadata": {},
   "outputs": [
    {
     "data": {
      "text/html": [
       "<table>\n",
       "<thead><tr><th scope=col>Sepal.Length</th><th scope=col>Sepal.Width</th><th scope=col>Petal.Length</th><th scope=col>Petal.Width</th><th scope=col>Species</th><th scope=col>sepal.5.setosa</th></tr></thead>\n",
       "<tbody>\n",
       "\t<tr><td>5.1   </td><td>3.5   </td><td>1.4   </td><td>0.2   </td><td>setosa</td><td> TRUE </td></tr>\n",
       "\t<tr><td>4.9   </td><td>3.0   </td><td>1.4   </td><td>0.2   </td><td>setosa</td><td>FALSE </td></tr>\n",
       "\t<tr><td>4.7   </td><td>3.2   </td><td>1.3   </td><td>0.2   </td><td>setosa</td><td>FALSE </td></tr>\n",
       "\t<tr><td>4.6   </td><td>3.1   </td><td>1.5   </td><td>0.2   </td><td>setosa</td><td>FALSE </td></tr>\n",
       "\t<tr><td>5.0   </td><td>3.6   </td><td>1.4   </td><td>0.2   </td><td>setosa</td><td> TRUE </td></tr>\n",
       "\t<tr><td>5.4   </td><td>3.9   </td><td>1.7   </td><td>0.4   </td><td>setosa</td><td> TRUE </td></tr>\n",
       "</tbody>\n",
       "</table>\n"
      ],
      "text/latex": [
       "\\begin{tabular}{r|llllll}\n",
       " Sepal.Length & Sepal.Width & Petal.Length & Petal.Width & Species & sepal.5.setosa\\\\\n",
       "\\hline\n",
       "\t 5.1    & 3.5    & 1.4    & 0.2    & setosa &  TRUE \\\\\n",
       "\t 4.9    & 3.0    & 1.4    & 0.2    & setosa & FALSE \\\\\n",
       "\t 4.7    & 3.2    & 1.3    & 0.2    & setosa & FALSE \\\\\n",
       "\t 4.6    & 3.1    & 1.5    & 0.2    & setosa & FALSE \\\\\n",
       "\t 5.0    & 3.6    & 1.4    & 0.2    & setosa &  TRUE \\\\\n",
       "\t 5.4    & 3.9    & 1.7    & 0.4    & setosa &  TRUE \\\\\n",
       "\\end{tabular}\n"
      ],
      "text/markdown": [
       "\n",
       "| Sepal.Length | Sepal.Width | Petal.Length | Petal.Width | Species | sepal.5.setosa |\n",
       "|---|---|---|---|---|---|\n",
       "| 5.1    | 3.5    | 1.4    | 0.2    | setosa |  TRUE  |\n",
       "| 4.9    | 3.0    | 1.4    | 0.2    | setosa | FALSE  |\n",
       "| 4.7    | 3.2    | 1.3    | 0.2    | setosa | FALSE  |\n",
       "| 4.6    | 3.1    | 1.5    | 0.2    | setosa | FALSE  |\n",
       "| 5.0    | 3.6    | 1.4    | 0.2    | setosa |  TRUE  |\n",
       "| 5.4    | 3.9    | 1.7    | 0.4    | setosa |  TRUE  |\n",
       "\n"
      ],
      "text/plain": [
       "  Sepal.Length Sepal.Width Petal.Length Petal.Width Species sepal.5.setosa\n",
       "1 5.1          3.5         1.4          0.2         setosa   TRUE         \n",
       "2 4.9          3.0         1.4          0.2         setosa  FALSE         \n",
       "3 4.7          3.2         1.3          0.2         setosa  FALSE         \n",
       "4 4.6          3.1         1.5          0.2         setosa  FALSE         \n",
       "5 5.0          3.6         1.4          0.2         setosa   TRUE         \n",
       "6 5.4          3.9         1.7          0.4         setosa   TRUE         "
      ]
     },
     "metadata": {},
     "output_type": "display_data"
    },
    {
     "data": {
      "text/html": [
       "<table>\n",
       "<thead><tr><th scope=col>Sepal.Length</th><th scope=col>Sepal.Width</th><th scope=col>Petal.Length</th><th scope=col>Petal.Width</th><th scope=col>Species</th></tr></thead>\n",
       "<tbody>\n",
       "\t<tr><td>5     </td><td>3.5   </td><td>1.4   </td><td>0.2   </td><td>setosa</td></tr>\n",
       "\t<tr><td>5     </td><td>3.0   </td><td>1.4   </td><td>0.2   </td><td>setosa</td></tr>\n",
       "\t<tr><td>5     </td><td>3.2   </td><td>1.3   </td><td>0.2   </td><td>setosa</td></tr>\n",
       "\t<tr><td>5     </td><td>3.1   </td><td>1.5   </td><td>0.2   </td><td>setosa</td></tr>\n",
       "\t<tr><td>5     </td><td>3.6   </td><td>1.4   </td><td>0.2   </td><td>setosa</td></tr>\n",
       "\t<tr><td>5     </td><td>3.9   </td><td>1.7   </td><td>0.4   </td><td>setosa</td></tr>\n",
       "</tbody>\n",
       "</table>\n"
      ],
      "text/latex": [
       "\\begin{tabular}{r|lllll}\n",
       " Sepal.Length & Sepal.Width & Petal.Length & Petal.Width & Species\\\\\n",
       "\\hline\n",
       "\t 5      & 3.5    & 1.4    & 0.2    & setosa\\\\\n",
       "\t 5      & 3.0    & 1.4    & 0.2    & setosa\\\\\n",
       "\t 5      & 3.2    & 1.3    & 0.2    & setosa\\\\\n",
       "\t 5      & 3.1    & 1.5    & 0.2    & setosa\\\\\n",
       "\t 5      & 3.6    & 1.4    & 0.2    & setosa\\\\\n",
       "\t 5      & 3.9    & 1.7    & 0.4    & setosa\\\\\n",
       "\\end{tabular}\n"
      ],
      "text/markdown": [
       "\n",
       "| Sepal.Length | Sepal.Width | Petal.Length | Petal.Width | Species |\n",
       "|---|---|---|---|---|\n",
       "| 5      | 3.5    | 1.4    | 0.2    | setosa |\n",
       "| 5      | 3.0    | 1.4    | 0.2    | setosa |\n",
       "| 5      | 3.2    | 1.3    | 0.2    | setosa |\n",
       "| 5      | 3.1    | 1.5    | 0.2    | setosa |\n",
       "| 5      | 3.6    | 1.4    | 0.2    | setosa |\n",
       "| 5      | 3.9    | 1.7    | 0.4    | setosa |\n",
       "\n"
      ],
      "text/plain": [
       "  Sepal.Length Sepal.Width Petal.Length Petal.Width Species\n",
       "1 5            3.5         1.4          0.2         setosa \n",
       "2 5            3.0         1.4          0.2         setosa \n",
       "3 5            3.2         1.3          0.2         setosa \n",
       "4 5            3.1         1.5          0.2         setosa \n",
       "5 5            3.6         1.4          0.2         setosa \n",
       "6 5            3.9         1.7          0.4         setosa "
      ]
     },
     "metadata": {},
     "output_type": "display_data"
    },
    {
     "data": {
      "text/html": [
       "<table>\n",
       "<thead><tr><th scope=col>Sepal.Length</th><th scope=col>Sepal.Width</th><th scope=col>Petal.Length</th><th scope=col>Petal.Width</th><th scope=col>Species</th></tr></thead>\n",
       "<tbody>\n",
       "\t<tr><td>5     </td><td>3.5   </td><td>1.4   </td><td>0.2   </td><td>setosa</td></tr>\n",
       "\t<tr><td>5     </td><td>3.0   </td><td>1.4   </td><td>0.2   </td><td>setosa</td></tr>\n",
       "\t<tr><td>5     </td><td>3.2   </td><td>1.3   </td><td>0.2   </td><td>setosa</td></tr>\n",
       "\t<tr><td>5     </td><td>3.1   </td><td>1.5   </td><td>0.2   </td><td>setosa</td></tr>\n",
       "\t<tr><td>5     </td><td>3.6   </td><td>1.4   </td><td>0.2   </td><td>setosa</td></tr>\n",
       "\t<tr><td>5     </td><td>3.9   </td><td>1.7   </td><td>0.4   </td><td>setosa</td></tr>\n",
       "</tbody>\n",
       "</table>\n"
      ],
      "text/latex": [
       "\\begin{tabular}{r|lllll}\n",
       " Sepal.Length & Sepal.Width & Petal.Length & Petal.Width & Species\\\\\n",
       "\\hline\n",
       "\t 5      & 3.5    & 1.4    & 0.2    & setosa\\\\\n",
       "\t 5      & 3.0    & 1.4    & 0.2    & setosa\\\\\n",
       "\t 5      & 3.2    & 1.3    & 0.2    & setosa\\\\\n",
       "\t 5      & 3.1    & 1.5    & 0.2    & setosa\\\\\n",
       "\t 5      & 3.6    & 1.4    & 0.2    & setosa\\\\\n",
       "\t 5      & 3.9    & 1.7    & 0.4    & setosa\\\\\n",
       "\\end{tabular}\n"
      ],
      "text/markdown": [
       "\n",
       "| Sepal.Length | Sepal.Width | Petal.Length | Petal.Width | Species |\n",
       "|---|---|---|---|---|\n",
       "| 5      | 3.5    | 1.4    | 0.2    | setosa |\n",
       "| 5      | 3.0    | 1.4    | 0.2    | setosa |\n",
       "| 5      | 3.2    | 1.3    | 0.2    | setosa |\n",
       "| 5      | 3.1    | 1.5    | 0.2    | setosa |\n",
       "| 5      | 3.6    | 1.4    | 0.2    | setosa |\n",
       "| 5      | 3.9    | 1.7    | 0.4    | setosa |\n",
       "\n"
      ],
      "text/plain": [
       "  Sepal.Length Sepal.Width Petal.Length Petal.Width Species\n",
       "1 5            3.5         1.4          0.2         setosa \n",
       "2 5            3.0         1.4          0.2         setosa \n",
       "3 5            3.2         1.3          0.2         setosa \n",
       "4 5            3.1         1.5          0.2         setosa \n",
       "5 5            3.6         1.4          0.2         setosa \n",
       "6 5            3.9         1.7          0.4         setosa "
      ]
     },
     "metadata": {},
     "output_type": "display_data"
    }
   ],
   "source": [
    "iris %>%\n",
    "mutate(sepal.5.setosa=ifelse(Sepal.Length>=5.0&Species=='setosa',T,F)) %>% head()\n",
    "head(mutate(iris,Sepal.Length=round(Sepal.Length)))\n",
    "head(transform(iris,Sepal.Length=round(Sepal.Length)))"
   ]
  },
  {
   "cell_type": "code",
   "execution_count": 35,
   "id": "artistic-hollow",
   "metadata": {},
   "outputs": [
    {
     "data": {
      "text/html": [
       "<table>\n",
       "<thead><tr><th scope=col>Year</th><th scope=col>Month</th><th scope=col>DayofMonth</th><th scope=col>DayOfWeek</th><th scope=col>DepTime</th><th scope=col>ArrTime</th><th scope=col>UniqueCarrier</th><th scope=col>FlightNum</th><th scope=col>TailNum</th><th scope=col>ActualElapsedTime</th><th scope=col>...</th><th scope=col>Origin</th><th scope=col>Dest</th><th scope=col>Distance</th><th scope=col>TaxiIn</th><th scope=col>TaxiOut</th><th scope=col>Cancelled</th><th scope=col>CancellationCode</th><th scope=col>Diverted</th><th scope=col>gain</th><th scope=col>gain.per.hour</th></tr></thead>\n",
       "<tbody>\n",
       "\t<tr><td>2011     </td><td>1        </td><td>1        </td><td>6        </td><td>1400     </td><td>1500     </td><td>AA       </td><td>428      </td><td>N576AA   </td><td>60       </td><td>...      </td><td>IAH      </td><td>DFW      </td><td>224      </td><td>7        </td><td>13       </td><td>0        </td><td>         </td><td>0        </td><td>-10      </td><td>-15.00000</td></tr>\n",
       "\t<tr><td>2011     </td><td>1        </td><td>2        </td><td>7        </td><td>1401     </td><td>1501     </td><td>AA       </td><td>428      </td><td>N557AA   </td><td>60       </td><td>...      </td><td>IAH      </td><td>DFW      </td><td>224      </td><td>6        </td><td> 9       </td><td>0        </td><td>         </td><td>0        </td><td>-10      </td><td>-13.33333</td></tr>\n",
       "\t<tr><td>2011     </td><td>1        </td><td>3        </td><td>1        </td><td>1352     </td><td>1502     </td><td>AA       </td><td>428      </td><td>N541AA   </td><td>70       </td><td>...      </td><td>IAH      </td><td>DFW      </td><td>224      </td><td>5        </td><td>17       </td><td>0        </td><td>         </td><td>0        </td><td>  0      </td><td>  0.00000</td></tr>\n",
       "\t<tr><td>2011     </td><td>1        </td><td>4        </td><td>2        </td><td>1403     </td><td>1513     </td><td>AA       </td><td>428      </td><td>N403AA   </td><td>70       </td><td>...      </td><td>IAH      </td><td>DFW      </td><td>224      </td><td>9        </td><td>22       </td><td>0        </td><td>         </td><td>0        </td><td>  0      </td><td>  0.00000</td></tr>\n",
       "\t<tr><td>2011     </td><td>1        </td><td>5        </td><td>3        </td><td>1405     </td><td>1507     </td><td>AA       </td><td>428      </td><td>N492AA   </td><td>62       </td><td>...      </td><td>IAH      </td><td>DFW      </td><td>224      </td><td>9        </td><td> 9       </td><td>0        </td><td>         </td><td>0        </td><td> -8      </td><td>-10.90909</td></tr>\n",
       "\t<tr><td>2011     </td><td>1        </td><td>6        </td><td>4        </td><td>1359     </td><td>1503     </td><td>AA       </td><td>428      </td><td>N262AA   </td><td>64       </td><td>...      </td><td>IAH      </td><td>DFW      </td><td>224      </td><td>6        </td><td>13       </td><td>0        </td><td>         </td><td>0        </td><td> -6      </td><td> -8.00000</td></tr>\n",
       "</tbody>\n",
       "</table>\n"
      ],
      "text/latex": [
       "\\begin{tabular}{r|lllllllllllllllllllllll}\n",
       " Year & Month & DayofMonth & DayOfWeek & DepTime & ArrTime & UniqueCarrier & FlightNum & TailNum & ActualElapsedTime & ... & Origin & Dest & Distance & TaxiIn & TaxiOut & Cancelled & CancellationCode & Diverted & gain & gain.per.hour\\\\\n",
       "\\hline\n",
       "\t 2011      & 1         & 1         & 6         & 1400      & 1500      & AA        & 428       & N576AA    & 60        & ...       & IAH       & DFW       & 224       & 7         & 13        & 0         &           & 0         & -10       & -15.00000\\\\\n",
       "\t 2011      & 1         & 2         & 7         & 1401      & 1501      & AA        & 428       & N557AA    & 60        & ...       & IAH       & DFW       & 224       & 6         &  9        & 0         &           & 0         & -10       & -13.33333\\\\\n",
       "\t 2011      & 1         & 3         & 1         & 1352      & 1502      & AA        & 428       & N541AA    & 70        & ...       & IAH       & DFW       & 224       & 5         & 17        & 0         &           & 0         &   0       &   0.00000\\\\\n",
       "\t 2011      & 1         & 4         & 2         & 1403      & 1513      & AA        & 428       & N403AA    & 70        & ...       & IAH       & DFW       & 224       & 9         & 22        & 0         &           & 0         &   0       &   0.00000\\\\\n",
       "\t 2011      & 1         & 5         & 3         & 1405      & 1507      & AA        & 428       & N492AA    & 62        & ...       & IAH       & DFW       & 224       & 9         &  9        & 0         &           & 0         &  -8       & -10.90909\\\\\n",
       "\t 2011      & 1         & 6         & 4         & 1359      & 1503      & AA        & 428       & N262AA    & 64        & ...       & IAH       & DFW       & 224       & 6         & 13        & 0         &           & 0         &  -6       &  -8.00000\\\\\n",
       "\\end{tabular}\n"
      ],
      "text/markdown": [
       "\n",
       "| Year | Month | DayofMonth | DayOfWeek | DepTime | ArrTime | UniqueCarrier | FlightNum | TailNum | ActualElapsedTime | ... | Origin | Dest | Distance | TaxiIn | TaxiOut | Cancelled | CancellationCode | Diverted | gain | gain.per.hour |\n",
       "|---|---|---|---|---|---|---|---|---|---|---|---|---|---|---|---|---|---|---|---|---|\n",
       "| 2011      | 1         | 1         | 6         | 1400      | 1500      | AA        | 428       | N576AA    | 60        | ...       | IAH       | DFW       | 224       | 7         | 13        | 0         |           | 0         | -10       | -15.00000 |\n",
       "| 2011      | 1         | 2         | 7         | 1401      | 1501      | AA        | 428       | N557AA    | 60        | ...       | IAH       | DFW       | 224       | 6         |  9        | 0         |           | 0         | -10       | -13.33333 |\n",
       "| 2011      | 1         | 3         | 1         | 1352      | 1502      | AA        | 428       | N541AA    | 70        | ...       | IAH       | DFW       | 224       | 5         | 17        | 0         |           | 0         |   0       |   0.00000 |\n",
       "| 2011      | 1         | 4         | 2         | 1403      | 1513      | AA        | 428       | N403AA    | 70        | ...       | IAH       | DFW       | 224       | 9         | 22        | 0         |           | 0         |   0       |   0.00000 |\n",
       "| 2011      | 1         | 5         | 3         | 1405      | 1507      | AA        | 428       | N492AA    | 62        | ...       | IAH       | DFW       | 224       | 9         |  9        | 0         |           | 0         |  -8       | -10.90909 |\n",
       "| 2011      | 1         | 6         | 4         | 1359      | 1503      | AA        | 428       | N262AA    | 64        | ...       | IAH       | DFW       | 224       | 6         | 13        | 0         |           | 0         |  -6       |  -8.00000 |\n",
       "\n"
      ],
      "text/plain": [
       "  Year Month DayofMonth DayOfWeek DepTime ArrTime UniqueCarrier FlightNum\n",
       "1 2011 1     1          6         1400    1500    AA            428      \n",
       "2 2011 1     2          7         1401    1501    AA            428      \n",
       "3 2011 1     3          1         1352    1502    AA            428      \n",
       "4 2011 1     4          2         1403    1513    AA            428      \n",
       "5 2011 1     5          3         1405    1507    AA            428      \n",
       "6 2011 1     6          4         1359    1503    AA            428      \n",
       "  TailNum ActualElapsedTime ... Origin Dest Distance TaxiIn TaxiOut Cancelled\n",
       "1 N576AA  60                ... IAH    DFW  224      7      13      0        \n",
       "2 N557AA  60                ... IAH    DFW  224      6       9      0        \n",
       "3 N541AA  70                ... IAH    DFW  224      5      17      0        \n",
       "4 N403AA  70                ... IAH    DFW  224      9      22      0        \n",
       "5 N492AA  62                ... IAH    DFW  224      9       9      0        \n",
       "6 N262AA  64                ... IAH    DFW  224      6      13      0        \n",
       "  CancellationCode Diverted gain gain.per.hour\n",
       "1                  0        -10  -15.00000    \n",
       "2                  0        -10  -13.33333    \n",
       "3                  0          0    0.00000    \n",
       "4                  0          0    0.00000    \n",
       "5                  0         -8  -10.90909    \n",
       "6                  0         -6   -8.00000    "
      ]
     },
     "metadata": {},
     "output_type": "display_data"
    }
   ],
   "source": [
    "library(hflights)\n",
    "flight.df <- hflights\n",
    "flight.tbl <- hflights\n",
    "#transform 쓰면 에러난다\n",
    "flight.tbl<-mutate(flight.tbl,\n",
    "                   gain = ArrDelay - DepDelay,\n",
    "                   gain.per.hour = gain/(AirTime/60))\n",
    "head(flight.tbl)"
   ]
  },
  {
   "cell_type": "markdown",
   "id": "private-stable",
   "metadata": {},
   "source": [
    "#### 8. summarise()\n",
    "- 요약 통계량을 단일 행으로 이루어진 데이터 프레임으로\n",
    "- R에서 기본 제공하는 요약 통계량 이외에 추가적인 dplyr에서 제공하는 함수들\n",
    "    - n()          : 데이터 셋의 행의 갯수\n",
    "    - n_distinct() : x에 포함된 중복되지 않은 고유값의 갯수\n",
    "    - fisrt(x)     : x[1]\n",
    "    - last(x)      : x[length(x)]\n",
    "    - nth(x)       : x[n]"
   ]
  },
  {
   "cell_type": "code",
   "execution_count": 44,
   "id": "completed-yellow",
   "metadata": {},
   "outputs": [
    {
     "data": {
      "text/html": [
       "<table>\n",
       "<thead><tr><th scope=col>mean(Petal.Length)</th></tr></thead>\n",
       "<tbody>\n",
       "\t<tr><td>3.758</td></tr>\n",
       "</tbody>\n",
       "</table>\n"
      ],
      "text/latex": [
       "\\begin{tabular}{r|l}\n",
       " mean(Petal.Length)\\\\\n",
       "\\hline\n",
       "\t 3.758\\\\\n",
       "\\end{tabular}\n"
      ],
      "text/markdown": [
       "\n",
       "| mean(Petal.Length) |\n",
       "|---|\n",
       "| 3.758 |\n",
       "\n"
      ],
      "text/plain": [
       "  mean(Petal.Length)\n",
       "1 3.758             "
      ]
     },
     "metadata": {},
     "output_type": "display_data"
    },
    {
     "data": {
      "text/html": [
       "<table>\n",
       "<thead><tr><th scope=col>s.length.mean</th></tr></thead>\n",
       "<tbody>\n",
       "\t<tr><td>5.843333</td></tr>\n",
       "</tbody>\n",
       "</table>\n"
      ],
      "text/latex": [
       "\\begin{tabular}{r|l}\n",
       " s.length.mean\\\\\n",
       "\\hline\n",
       "\t 5.843333\\\\\n",
       "\\end{tabular}\n"
      ],
      "text/markdown": [
       "\n",
       "| s.length.mean |\n",
       "|---|\n",
       "| 5.843333 |\n",
       "\n"
      ],
      "text/plain": [
       "  s.length.mean\n",
       "1 5.843333     "
      ]
     },
     "metadata": {},
     "output_type": "display_data"
    }
   ],
   "source": [
    "iris %>% summarise(mean(Petal.Length))\n",
    "iris %>% summarise(s.length.mean=mean(Sepal.Length))"
   ]
  },
  {
   "cell_type": "code",
   "execution_count": 53,
   "id": "several-turkish",
   "metadata": {},
   "outputs": [
    {
     "data": {
      "text/html": [
       "<table>\n",
       "<thead><tr><th scope=col>n()</th><th scope=col>n_distinct(Manufacturer)</th><th scope=col>nth(Manufacturer, 5)</th></tr></thead>\n",
       "<tbody>\n",
       "\t<tr><td>93 </td><td>32 </td><td>BMW</td></tr>\n",
       "</tbody>\n",
       "</table>\n"
      ],
      "text/latex": [
       "\\begin{tabular}{r|lll}\n",
       " n() & n\\_distinct(Manufacturer) & nth(Manufacturer, 5)\\\\\n",
       "\\hline\n",
       "\t 93  & 32  & BMW\\\\\n",
       "\\end{tabular}\n"
      ],
      "text/markdown": [
       "\n",
       "| n() | n_distinct(Manufacturer) | nth(Manufacturer, 5) |\n",
       "|---|---|---|\n",
       "| 93  | 32  | BMW |\n",
       "\n"
      ],
      "text/plain": [
       "  n() n_distinct(Manufacturer) nth(Manufacturer, 5)\n",
       "1 93  32                       BMW                 "
      ]
     },
     "metadata": {},
     "output_type": "display_data"
    },
    {
     "data": {
      "text/html": [
       "<table>\n",
       "<thead><tr><th scope=col>total</th><th scope=col>distinct</th><th scope=col>nth</th></tr></thead>\n",
       "<tbody>\n",
       "\t<tr><td>93 </td><td>32 </td><td>BMW</td></tr>\n",
       "</tbody>\n",
       "</table>\n"
      ],
      "text/latex": [
       "\\begin{tabular}{r|lll}\n",
       " total & distinct & nth\\\\\n",
       "\\hline\n",
       "\t 93  & 32  & BMW\\\\\n",
       "\\end{tabular}\n"
      ],
      "text/markdown": [
       "\n",
       "| total | distinct | nth |\n",
       "|---|---|---|\n",
       "| 93  | 32  | BMW |\n",
       "\n"
      ],
      "text/plain": [
       "  total distinct nth\n",
       "1 93    32       BMW"
      ]
     },
     "metadata": {},
     "output_type": "display_data"
    }
   ],
   "source": [
    "library(MASS)\n",
    "Cars93 %>% dplyr::select(Model,Type,Manufacturer) %>% summarise(n(),n_distinct(Manufacturer),nth(Manufacturer,5))\n",
    "Cars93 %>%\n",
    "dplyr::select(Model,Type,Manufacturer) %>%\n",
    "summarise(total=n(),distinct=n_distinct(Manufacturer),nth=nth(Manufacturer,5))"
   ]
  },
  {
   "cell_type": "markdown",
   "id": "sealed-suite",
   "metadata": {},
   "source": [
    "#### 9.groupby()\n",
    "- 첫번째 인수에 데이터 프레임 두번째 인수에 집단 변수\n",
    "- 집단변수의 레벨별로 분할된 객체를 생성한다"
   ]
  },
  {
   "cell_type": "code",
   "execution_count": 46,
   "id": "differential-reflection",
   "metadata": {},
   "outputs": [
    {
     "data": {
      "text/html": [
       "<table>\n",
       "<thead><tr><th scope=col>Sepal.Length</th><th scope=col>Sepal.Width</th><th scope=col>Petal.Length</th><th scope=col>Petal.Width</th><th scope=col>Species</th></tr></thead>\n",
       "<tbody>\n",
       "\t<tr><td>5.1   </td><td>3.5   </td><td>1.4   </td><td>0.2   </td><td>setosa</td></tr>\n",
       "\t<tr><td>4.9   </td><td>3.0   </td><td>1.4   </td><td>0.2   </td><td>setosa</td></tr>\n",
       "\t<tr><td>4.7   </td><td>3.2   </td><td>1.3   </td><td>0.2   </td><td>setosa</td></tr>\n",
       "\t<tr><td>4.6   </td><td>3.1   </td><td>1.5   </td><td>0.2   </td><td>setosa</td></tr>\n",
       "\t<tr><td>5.0   </td><td>3.6   </td><td>1.4   </td><td>0.2   </td><td>setosa</td></tr>\n",
       "\t<tr><td>5.4   </td><td>3.9   </td><td>1.7   </td><td>0.4   </td><td>setosa</td></tr>\n",
       "</tbody>\n",
       "</table>\n"
      ],
      "text/latex": [
       "\\begin{tabular}{r|lllll}\n",
       " Sepal.Length & Sepal.Width & Petal.Length & Petal.Width & Species\\\\\n",
       "\\hline\n",
       "\t 5.1    & 3.5    & 1.4    & 0.2    & setosa\\\\\n",
       "\t 4.9    & 3.0    & 1.4    & 0.2    & setosa\\\\\n",
       "\t 4.7    & 3.2    & 1.3    & 0.2    & setosa\\\\\n",
       "\t 4.6    & 3.1    & 1.5    & 0.2    & setosa\\\\\n",
       "\t 5.0    & 3.6    & 1.4    & 0.2    & setosa\\\\\n",
       "\t 5.4    & 3.9    & 1.7    & 0.4    & setosa\\\\\n",
       "\\end{tabular}\n"
      ],
      "text/markdown": [
       "\n",
       "| Sepal.Length | Sepal.Width | Petal.Length | Petal.Width | Species |\n",
       "|---|---|---|---|---|\n",
       "| 5.1    | 3.5    | 1.4    | 0.2    | setosa |\n",
       "| 4.9    | 3.0    | 1.4    | 0.2    | setosa |\n",
       "| 4.7    | 3.2    | 1.3    | 0.2    | setosa |\n",
       "| 4.6    | 3.1    | 1.5    | 0.2    | setosa |\n",
       "| 5.0    | 3.6    | 1.4    | 0.2    | setosa |\n",
       "| 5.4    | 3.9    | 1.7    | 0.4    | setosa |\n",
       "\n"
      ],
      "text/plain": [
       "  Sepal.Length Sepal.Width Petal.Length Petal.Width Species\n",
       "1 5.1          3.5         1.4          0.2         setosa \n",
       "2 4.9          3.0         1.4          0.2         setosa \n",
       "3 4.7          3.2         1.3          0.2         setosa \n",
       "4 4.6          3.1         1.5          0.2         setosa \n",
       "5 5.0          3.6         1.4          0.2         setosa \n",
       "6 5.4          3.9         1.7          0.4         setosa "
      ]
     },
     "metadata": {},
     "output_type": "display_data"
    },
    {
     "data": {
      "text/html": [
       "<ol class=list-inline>\n",
       "\t<li>'grouped_df'</li>\n",
       "\t<li>'tbl_df'</li>\n",
       "\t<li>'tbl'</li>\n",
       "\t<li>'data.frame'</li>\n",
       "</ol>\n"
      ],
      "text/latex": [
       "\\begin{enumerate*}\n",
       "\\item 'grouped\\_df'\n",
       "\\item 'tbl\\_df'\n",
       "\\item 'tbl'\n",
       "\\item 'data.frame'\n",
       "\\end{enumerate*}\n"
      ],
      "text/markdown": [
       "1. 'grouped_df'\n",
       "2. 'tbl_df'\n",
       "3. 'tbl'\n",
       "4. 'data.frame'\n",
       "\n",
       "\n"
      ],
      "text/plain": [
       "[1] \"grouped_df\" \"tbl_df\"     \"tbl\"        \"data.frame\""
      ]
     },
     "metadata": {},
     "output_type": "display_data"
    }
   ],
   "source": [
    "head(group_by(iris,Species))\n",
    "class(group_by(iris,Species))"
   ]
  },
  {
   "cell_type": "code",
   "execution_count": 54,
   "id": "amino-contractor",
   "metadata": {},
   "outputs": [
    {
     "data": {
      "text/html": [
       "<table>\n",
       "<thead><tr><th scope=col>Species</th><th scope=col>s.length.mean</th></tr></thead>\n",
       "<tbody>\n",
       "\t<tr><td>setosa    </td><td>5.006     </td></tr>\n",
       "\t<tr><td>versicolor</td><td>5.936     </td></tr>\n",
       "\t<tr><td>virginica </td><td>6.588     </td></tr>\n",
       "</tbody>\n",
       "</table>\n"
      ],
      "text/latex": [
       "\\begin{tabular}{r|ll}\n",
       " Species & s.length.mean\\\\\n",
       "\\hline\n",
       "\t setosa     & 5.006     \\\\\n",
       "\t versicolor & 5.936     \\\\\n",
       "\t virginica  & 6.588     \\\\\n",
       "\\end{tabular}\n"
      ],
      "text/markdown": [
       "\n",
       "| Species | s.length.mean |\n",
       "|---|---|\n",
       "| setosa     | 5.006      |\n",
       "| versicolor | 5.936      |\n",
       "| virginica  | 6.588      |\n",
       "\n"
      ],
      "text/plain": [
       "  Species    s.length.mean\n",
       "1 setosa     5.006        \n",
       "2 versicolor 5.936        \n",
       "3 virginica  6.588        "
      ]
     },
     "metadata": {},
     "output_type": "display_data"
    }
   ],
   "source": [
    "iris  %>% group_by(Species) %>% summarise(s.length.mean=mean(Sepal.Length))"
   ]
  },
  {
   "cell_type": "code",
   "execution_count": 5,
   "id": "caroline-beaver",
   "metadata": {},
   "outputs": [
    {
     "data": {
      "text/html": [
       "<table>\n",
       "<thead><tr><th scope=col>displ &gt; 4</th><th scope=col>mean</th></tr></thead>\n",
       "<tbody>\n",
       "\t<tr><td>FALSE   </td><td>25.96319</td></tr>\n",
       "\t<tr><td> TRUE   </td><td>17.64789</td></tr>\n",
       "</tbody>\n",
       "</table>\n"
      ],
      "text/latex": [
       "\\begin{tabular}{r|ll}\n",
       " displ > 4 & mean\\\\\n",
       "\\hline\n",
       "\t FALSE    & 25.96319\\\\\n",
       "\t  TRUE    & 17.64789\\\\\n",
       "\\end{tabular}\n"
      ],
      "text/markdown": [
       "\n",
       "| displ > 4 | mean |\n",
       "|---|---|\n",
       "| FALSE    | 25.96319 |\n",
       "|  TRUE    | 17.64789 |\n",
       "\n"
      ],
      "text/plain": [
       "  displ > 4 mean    \n",
       "1 FALSE     25.96319\n",
       "2  TRUE     17.64789"
      ]
     },
     "metadata": {},
     "output_type": "display_data"
    },
    {
     "data": {
      "text/html": [
       "<table>\n",
       "<thead><tr><th scope=col>displ_over_4</th><th scope=col>hwy</th></tr></thead>\n",
       "<tbody>\n",
       "\t<tr><td>FALSE   </td><td>25.96319</td></tr>\n",
       "\t<tr><td> TRUE   </td><td>17.64789</td></tr>\n",
       "</tbody>\n",
       "</table>\n"
      ],
      "text/latex": [
       "\\begin{tabular}{r|ll}\n",
       " displ\\_over\\_4 & hwy\\\\\n",
       "\\hline\n",
       "\t FALSE    & 25.96319\\\\\n",
       "\t  TRUE    & 17.64789\\\\\n",
       "\\end{tabular}\n"
      ],
      "text/markdown": [
       "\n",
       "| displ_over_4 | hwy |\n",
       "|---|---|\n",
       "| FALSE    | 25.96319 |\n",
       "|  TRUE    | 17.64789 |\n",
       "\n"
      ],
      "text/plain": [
       "  displ_over_4 hwy     \n",
       "1 FALSE        25.96319\n",
       "2  TRUE        17.64789"
      ]
     },
     "metadata": {},
     "output_type": "display_data"
    },
    {
     "data": {
      "text/html": [
       "<table>\n",
       "<thead><tr><th scope=col>displ_over_4</th><th scope=col>hwy</th></tr></thead>\n",
       "<tbody>\n",
       "\t<tr><td>FALSE   </td><td>25.96319</td></tr>\n",
       "\t<tr><td> TRUE   </td><td>17.64789</td></tr>\n",
       "</tbody>\n",
       "</table>\n"
      ],
      "text/latex": [
       "\\begin{tabular}{r|ll}\n",
       " displ\\_over\\_4 & hwy\\\\\n",
       "\\hline\n",
       "\t FALSE    & 25.96319\\\\\n",
       "\t  TRUE    & 17.64789\\\\\n",
       "\\end{tabular}\n"
      ],
      "text/markdown": [
       "\n",
       "| displ_over_4 | hwy |\n",
       "|---|---|\n",
       "| FALSE    | 25.96319 |\n",
       "|  TRUE    | 17.64789 |\n",
       "\n"
      ],
      "text/plain": [
       "  displ_over_4 hwy     \n",
       "1 FALSE        25.96319\n",
       "2  TRUE        17.64789"
      ]
     },
     "metadata": {},
     "output_type": "display_data"
    }
   ],
   "source": [
    "# group_by 안에 인자로 조건식을 넣어도 된다=> 논리식 T F를 factor처럼 이요할수 잇기 때문\n",
    "library(dplyr)\n",
    "library(ggplot2)\n",
    "mpg.df<-as.data.frame(mpg)\n",
    "mpg %>% group_by(displ>4) %>% summarise(mean=mean(hwy))\n",
    "with(mpg.df,aggregate(mpg.df['hwy'],list(displ_over_4=(displ>4)),mean))\n",
    "aggregate(mpg.df['hwy'],list(displ_over_4=(mpg$displ>4)),mean) # with가 없으니깐 조건식에 mpg$displ>4 이렇게 적어야한다"
   ]
  },
  {
   "cell_type": "markdown",
   "id": "synthetic-velvet",
   "metadata": {},
   "source": [
    "#### 10. join\n",
    "- 기본적으로 data.frame name 공통인걸로 join한다\n",
    "- 직접 연결시켜줄때 는 by = c(\"a\" = \"b\") will match x.a to y.b."
   ]
  },
  {
   "cell_type": "code",
   "execution_count": 58,
   "id": "minimal-solid",
   "metadata": {},
   "outputs": [
    {
     "name": "stderr",
     "output_type": "stream",
     "text": [
      "Joining, by = \"id\"\n"
     ]
    },
    {
     "data": {
      "text/html": [
       "<table>\n",
       "<thead><tr><th scope=col>id</th><th scope=col>height</th><th scope=col>weight</th></tr></thead>\n",
       "<tbody>\n",
       "\t<tr><td>1  </td><td>160</td><td>94 </td></tr>\n",
       "\t<tr><td>2  </td><td>175</td><td>77 </td></tr>\n",
       "\t<tr><td>3  </td><td>180</td><td>80 </td></tr>\n",
       "\t<tr><td>4  </td><td>177</td><td>75 </td></tr>\n",
       "</tbody>\n",
       "</table>\n"
      ],
      "text/latex": [
       "\\begin{tabular}{r|lll}\n",
       " id & height & weight\\\\\n",
       "\\hline\n",
       "\t 1   & 160 & 94 \\\\\n",
       "\t 2   & 175 & 77 \\\\\n",
       "\t 3   & 180 & 80 \\\\\n",
       "\t 4   & 177 & 75 \\\\\n",
       "\\end{tabular}\n"
      ],
      "text/markdown": [
       "\n",
       "| id | height | weight |\n",
       "|---|---|---|\n",
       "| 1   | 160 | 94  |\n",
       "| 2   | 175 | 77  |\n",
       "| 3   | 180 | 80  |\n",
       "| 4   | 177 | 75  |\n",
       "\n"
      ],
      "text/plain": [
       "  id height weight\n",
       "1 1  160    94    \n",
       "2 2  175    77    \n",
       "3 3  180    80    \n",
       "4 4  177    75    "
      ]
     },
     "metadata": {},
     "output_type": "display_data"
    },
    {
     "name": "stderr",
     "output_type": "stream",
     "text": [
      "Joining, by = \"id\"\n"
     ]
    },
    {
     "data": {
      "text/html": [
       "<table>\n",
       "<thead><tr><th scope=col>id</th><th scope=col>height</th><th scope=col>weight</th></tr></thead>\n",
       "<tbody>\n",
       "\t<tr><td>5  </td><td> NA</td><td>60 </td></tr>\n",
       "\t<tr><td>4  </td><td>177</td><td>75 </td></tr>\n",
       "\t<tr><td>3  </td><td>180</td><td>80 </td></tr>\n",
       "\t<tr><td>2  </td><td>175</td><td>77 </td></tr>\n",
       "\t<tr><td>1  </td><td>160</td><td>94 </td></tr>\n",
       "</tbody>\n",
       "</table>\n"
      ],
      "text/latex": [
       "\\begin{tabular}{r|lll}\n",
       " id & height & weight\\\\\n",
       "\\hline\n",
       "\t 5   &  NA & 60 \\\\\n",
       "\t 4   & 177 & 75 \\\\\n",
       "\t 3   & 180 & 80 \\\\\n",
       "\t 2   & 175 & 77 \\\\\n",
       "\t 1   & 160 & 94 \\\\\n",
       "\\end{tabular}\n"
      ],
      "text/markdown": [
       "\n",
       "| id | height | weight |\n",
       "|---|---|---|\n",
       "| 5   |  NA | 60  |\n",
       "| 4   | 177 | 75  |\n",
       "| 3   | 180 | 80  |\n",
       "| 2   | 175 | 77  |\n",
       "| 1   | 160 | 94  |\n",
       "\n"
      ],
      "text/plain": [
       "  id height weight\n",
       "1 5   NA    60    \n",
       "2 4  177    75    \n",
       "3 3  180    80    \n",
       "4 2  175    77    \n",
       "5 1  160    94    "
      ]
     },
     "metadata": {},
     "output_type": "display_data"
    },
    {
     "name": "stderr",
     "output_type": "stream",
     "text": [
      "Joining, by = \"id\"\n"
     ]
    },
    {
     "data": {
      "text/html": [
       "<table>\n",
       "<thead><tr><th scope=col>id</th><th scope=col>height</th><th scope=col>weight</th></tr></thead>\n",
       "<tbody>\n",
       "\t<tr><td>1  </td><td>160</td><td>94 </td></tr>\n",
       "\t<tr><td>2  </td><td>175</td><td>77 </td></tr>\n",
       "\t<tr><td>3  </td><td>180</td><td>80 </td></tr>\n",
       "\t<tr><td>4  </td><td>177</td><td>75 </td></tr>\n",
       "\t<tr><td>6  </td><td>194</td><td>NA </td></tr>\n",
       "</tbody>\n",
       "</table>\n"
      ],
      "text/latex": [
       "\\begin{tabular}{r|lll}\n",
       " id & height & weight\\\\\n",
       "\\hline\n",
       "\t 1   & 160 & 94 \\\\\n",
       "\t 2   & 175 & 77 \\\\\n",
       "\t 3   & 180 & 80 \\\\\n",
       "\t 4   & 177 & 75 \\\\\n",
       "\t 6   & 194 & NA \\\\\n",
       "\\end{tabular}\n"
      ],
      "text/markdown": [
       "\n",
       "| id | height | weight |\n",
       "|---|---|---|\n",
       "| 1   | 160 | 94  |\n",
       "| 2   | 175 | 77  |\n",
       "| 3   | 180 | 80  |\n",
       "| 4   | 177 | 75  |\n",
       "| 6   | 194 | NA  |\n",
       "\n"
      ],
      "text/plain": [
       "  id height weight\n",
       "1 1  160    94    \n",
       "2 2  175    77    \n",
       "3 3  180    80    \n",
       "4 4  177    75    \n",
       "5 6  194    NA    "
      ]
     },
     "metadata": {},
     "output_type": "display_data"
    },
    {
     "name": "stderr",
     "output_type": "stream",
     "text": [
      "Joining, by = \"id\"\n"
     ]
    },
    {
     "data": {
      "text/html": [
       "<table>\n",
       "<thead><tr><th scope=col>id</th><th scope=col>height</th><th scope=col>weight</th></tr></thead>\n",
       "<tbody>\n",
       "\t<tr><td>1  </td><td>160</td><td>94 </td></tr>\n",
       "\t<tr><td>2  </td><td>175</td><td>77 </td></tr>\n",
       "\t<tr><td>3  </td><td>180</td><td>80 </td></tr>\n",
       "\t<tr><td>4  </td><td>177</td><td>75 </td></tr>\n",
       "\t<tr><td>6  </td><td>194</td><td>NA </td></tr>\n",
       "\t<tr><td>5  </td><td> NA</td><td>60 </td></tr>\n",
       "</tbody>\n",
       "</table>\n"
      ],
      "text/latex": [
       "\\begin{tabular}{r|lll}\n",
       " id & height & weight\\\\\n",
       "\\hline\n",
       "\t 1   & 160 & 94 \\\\\n",
       "\t 2   & 175 & 77 \\\\\n",
       "\t 3   & 180 & 80 \\\\\n",
       "\t 4   & 177 & 75 \\\\\n",
       "\t 6   & 194 & NA \\\\\n",
       "\t 5   &  NA & 60 \\\\\n",
       "\\end{tabular}\n"
      ],
      "text/markdown": [
       "\n",
       "| id | height | weight |\n",
       "|---|---|---|\n",
       "| 1   | 160 | 94  |\n",
       "| 2   | 175 | 77  |\n",
       "| 3   | 180 | 80  |\n",
       "| 4   | 177 | 75  |\n",
       "| 6   | 194 | NA  |\n",
       "| 5   |  NA | 60  |\n",
       "\n"
      ],
      "text/plain": [
       "  id height weight\n",
       "1 1  160    94    \n",
       "2 2  175    77    \n",
       "3 3  180    80    \n",
       "4 4  177    75    \n",
       "5 6  194    NA    \n",
       "6 5   NA    60    "
      ]
     },
     "metadata": {},
     "output_type": "display_data"
    }
   ],
   "source": [
    "tmp.x.df <- data.frame(\n",
    "  id = c(1,2,3,4,6),\n",
    "  height = c(160,175,180,177,194)\n",
    ")\n",
    "tmp.y.df <- data.frame(\n",
    "  id = c(5,4,3,2,1),\n",
    "  weight = c(60,75,80,77,94)\n",
    ")\n",
    "inner_join(tmp.x.df,tmp.y.df)\n",
    "right_join(tmp.x.df,tmp.y.df)\n",
    "left_join(tmp.x.df,tmp.y.df)\n",
    "full_join(tmp.x.df,tmp.y.df)"
   ]
  },
  {
   "cell_type": "code",
   "execution_count": 57,
   "id": "sporting-accommodation",
   "metadata": {},
   "outputs": [
    {
     "data": {
      "text/html": [
       "<table>\n",
       "<thead><tr><th scope=col>id</th><th scope=col>height</th><th scope=col>weight</th></tr></thead>\n",
       "<tbody>\n",
       "\t<tr><td>1  </td><td>160</td><td>94 </td></tr>\n",
       "\t<tr><td>2  </td><td>175</td><td>77 </td></tr>\n",
       "\t<tr><td>3  </td><td>180</td><td>80 </td></tr>\n",
       "\t<tr><td>4  </td><td>177</td><td>75 </td></tr>\n",
       "\t<tr><td>6  </td><td>194</td><td>NA </td></tr>\n",
       "</tbody>\n",
       "</table>\n"
      ],
      "text/latex": [
       "\\begin{tabular}{r|lll}\n",
       " id & height & weight\\\\\n",
       "\\hline\n",
       "\t 1   & 160 & 94 \\\\\n",
       "\t 2   & 175 & 77 \\\\\n",
       "\t 3   & 180 & 80 \\\\\n",
       "\t 4   & 177 & 75 \\\\\n",
       "\t 6   & 194 & NA \\\\\n",
       "\\end{tabular}\n"
      ],
      "text/markdown": [
       "\n",
       "| id | height | weight |\n",
       "|---|---|---|\n",
       "| 1   | 160 | 94  |\n",
       "| 2   | 175 | 77  |\n",
       "| 3   | 180 | 80  |\n",
       "| 4   | 177 | 75  |\n",
       "| 6   | 194 | NA  |\n",
       "\n"
      ],
      "text/plain": [
       "  id height weight\n",
       "1 1  160    94    \n",
       "2 2  175    77    \n",
       "3 3  180    80    \n",
       "4 4  177    75    \n",
       "5 6  194    NA    "
      ]
     },
     "metadata": {},
     "output_type": "display_data"
    }
   ],
   "source": [
    "tmp.x.df <- data.frame(\n",
    "  id = c(1,2,3,4,6),\n",
    "  height = c(160,175,180,177,194)\n",
    ")\n",
    "tmp.y.df <- data.frame(\n",
    "  id2 = c(5,4,3,2,1),\n",
    "  weight = c(60,75,80,77,94)\n",
    ")\n",
    "\n",
    "left_join(tmp.x.df,tmp.y.df,by=c('id'='id2'))"
   ]
  },
  {
   "cell_type": "markdown",
   "id": "adverse-spring",
   "metadata": {},
   "source": [
    "#### 11. sample_n( ) sample_frac( )\n",
    "- R 내장 sample 함수보다 좀더 간편하다 => data.frame에서 sample함수를 쓰려면 행을 무작위 추출한뒤 다시 인덱스로 사용해야 하기 때문"
   ]
  },
  {
   "cell_type": "code",
   "execution_count": 61,
   "id": "humanitarian-monkey",
   "metadata": {},
   "outputs": [
    {
     "data": {
      "text/html": [
       "<table>\n",
       "<thead><tr><th></th><th scope=col>Manufacturer</th><th scope=col>Model</th><th scope=col>Type</th><th scope=col>Min.Price</th><th scope=col>Price</th></tr></thead>\n",
       "<tbody>\n",
       "\t<tr><th scope=row>15</th><td>Chevrolet    </td><td>Lumina       </td><td>Midsize      </td><td>13.4         </td><td>15.9         </td></tr>\n",
       "\t<tr><th scope=row>10</th><td>Cadillac     </td><td>DeVille      </td><td>Large        </td><td>33.0         </td><td>34.7         </td></tr>\n",
       "\t<tr><th scope=row>58</th><td>Mercedes-Benz</td><td>190E         </td><td>Compact      </td><td>29.0         </td><td>31.9         </td></tr>\n",
       "\t<tr><th scope=row>50</th><td>Lexus        </td><td>SC300        </td><td>Midsize      </td><td>34.7         </td><td>35.2         </td></tr>\n",
       "\t<tr><th scope=row>49</th><td>Lexus        </td><td>ES300        </td><td>Midsize      </td><td>27.5         </td><td>28.0         </td></tr>\n",
       "\t<tr><th scope=row>53</th><td>Mazda        </td><td>323          </td><td>Small        </td><td> 7.4         </td><td> 8.3         </td></tr>\n",
       "\t<tr><th scope=row>16</th><td>Chevrolet    </td><td>Lumina_APV   </td><td>Van          </td><td>14.7         </td><td>16.3         </td></tr>\n",
       "\t<tr><th scope=row>42</th><td>Honda        </td><td>Civic        </td><td>Small        </td><td> 8.4         </td><td>12.1         </td></tr>\n",
       "\t<tr><th scope=row>3</th><td>Audi         </td><td>90           </td><td>Compact      </td><td>25.9         </td><td>29.1         </td></tr>\n",
       "\t<tr><th scope=row>11</th><td>Cadillac     </td><td>Seville      </td><td>Midsize      </td><td>37.5         </td><td>40.1         </td></tr>\n",
       "</tbody>\n",
       "</table>\n"
      ],
      "text/latex": [
       "\\begin{tabular}{r|lllll}\n",
       "  & Manufacturer & Model & Type & Min.Price & Price\\\\\n",
       "\\hline\n",
       "\t15 & Chevrolet     & Lumina        & Midsize       & 13.4          & 15.9         \\\\\n",
       "\t10 & Cadillac      & DeVille       & Large         & 33.0          & 34.7         \\\\\n",
       "\t58 & Mercedes-Benz & 190E          & Compact       & 29.0          & 31.9         \\\\\n",
       "\t50 & Lexus         & SC300         & Midsize       & 34.7          & 35.2         \\\\\n",
       "\t49 & Lexus         & ES300         & Midsize       & 27.5          & 28.0         \\\\\n",
       "\t53 & Mazda         & 323           & Small         &  7.4          &  8.3         \\\\\n",
       "\t16 & Chevrolet     & Lumina\\_APV  & Van           & 14.7          & 16.3         \\\\\n",
       "\t42 & Honda         & Civic         & Small         &  8.4          & 12.1         \\\\\n",
       "\t3 & Audi          & 90            & Compact       & 25.9          & 29.1         \\\\\n",
       "\t11 & Cadillac      & Seville       & Midsize       & 37.5          & 40.1         \\\\\n",
       "\\end{tabular}\n"
      ],
      "text/markdown": [
       "\n",
       "| <!--/--> | Manufacturer | Model | Type | Min.Price | Price |\n",
       "|---|---|---|---|---|---|\n",
       "| 15 | Chevrolet     | Lumina        | Midsize       | 13.4          | 15.9          |\n",
       "| 10 | Cadillac      | DeVille       | Large         | 33.0          | 34.7          |\n",
       "| 58 | Mercedes-Benz | 190E          | Compact       | 29.0          | 31.9          |\n",
       "| 50 | Lexus         | SC300         | Midsize       | 34.7          | 35.2          |\n",
       "| 49 | Lexus         | ES300         | Midsize       | 27.5          | 28.0          |\n",
       "| 53 | Mazda         | 323           | Small         |  7.4          |  8.3          |\n",
       "| 16 | Chevrolet     | Lumina_APV    | Van           | 14.7          | 16.3          |\n",
       "| 42 | Honda         | Civic         | Small         |  8.4          | 12.1          |\n",
       "| 3 | Audi          | 90            | Compact       | 25.9          | 29.1          |\n",
       "| 11 | Cadillac      | Seville       | Midsize       | 37.5          | 40.1          |\n",
       "\n"
      ],
      "text/plain": [
       "   Manufacturer  Model      Type    Min.Price Price\n",
       "15 Chevrolet     Lumina     Midsize 13.4      15.9 \n",
       "10 Cadillac      DeVille    Large   33.0      34.7 \n",
       "58 Mercedes-Benz 190E       Compact 29.0      31.9 \n",
       "50 Lexus         SC300      Midsize 34.7      35.2 \n",
       "49 Lexus         ES300      Midsize 27.5      28.0 \n",
       "53 Mazda         323        Small    7.4       8.3 \n",
       "16 Chevrolet     Lumina_APV Van     14.7      16.3 \n",
       "42 Honda         Civic      Small    8.4      12.1 \n",
       "3  Audi          90         Compact 25.9      29.1 \n",
       "11 Cadillac      Seville    Midsize 37.5      40.1 "
      ]
     },
     "metadata": {},
     "output_type": "display_data"
    }
   ],
   "source": [
    "Cars93[1:5][sample(1:nrow(Cars93),10),]"
   ]
  },
  {
   "cell_type": "code",
   "execution_count": 59,
   "id": "together-barcelona",
   "metadata": {},
   "outputs": [
    {
     "data": {
      "text/html": [
       "<table>\n",
       "<thead><tr><th scope=col>Manufacturer</th><th scope=col>Model</th><th scope=col>Type</th><th scope=col>Min.Price</th><th scope=col>Price</th></tr></thead>\n",
       "<tbody>\n",
       "\t<tr><td>Plymouth  </td><td>Laser     </td><td>Sporty    </td><td>11.4      </td><td>14.4      </td></tr>\n",
       "\t<tr><td>Saturn    </td><td>SL        </td><td>Small     </td><td> 9.2      </td><td>11.1      </td></tr>\n",
       "\t<tr><td>Saturn    </td><td>SL        </td><td>Small     </td><td> 9.2      </td><td>11.1      </td></tr>\n",
       "\t<tr><td>Toyota    </td><td>Tercel    </td><td>Small     </td><td> 7.8      </td><td> 9.8      </td></tr>\n",
       "\t<tr><td>Mitsubishi</td><td>Mirage    </td><td>Small     </td><td> 7.7      </td><td>10.3      </td></tr>\n",
       "\t<tr><td>Mazda     </td><td>RX-7      </td><td>Sporty    </td><td>32.5      </td><td>32.5      </td></tr>\n",
       "\t<tr><td>Mazda     </td><td>626       </td><td>Compact   </td><td>14.3      </td><td>16.5      </td></tr>\n",
       "\t<tr><td>Chevrolet </td><td>Astro     </td><td>Van       </td><td>14.7      </td><td>16.6      </td></tr>\n",
       "\t<tr><td>Ford      </td><td>Probe     </td><td>Sporty    </td><td>12.8      </td><td>14.0      </td></tr>\n",
       "\t<tr><td>Buick     </td><td>Riviera   </td><td>Midsize   </td><td>26.3      </td><td>26.3      </td></tr>\n",
       "</tbody>\n",
       "</table>\n"
      ],
      "text/latex": [
       "\\begin{tabular}{r|lllll}\n",
       " Manufacturer & Model & Type & Min.Price & Price\\\\\n",
       "\\hline\n",
       "\t Plymouth   & Laser      & Sporty     & 11.4       & 14.4      \\\\\n",
       "\t Saturn     & SL         & Small      &  9.2       & 11.1      \\\\\n",
       "\t Saturn     & SL         & Small      &  9.2       & 11.1      \\\\\n",
       "\t Toyota     & Tercel     & Small      &  7.8       &  9.8      \\\\\n",
       "\t Mitsubishi & Mirage     & Small      &  7.7       & 10.3      \\\\\n",
       "\t Mazda      & RX-7       & Sporty     & 32.5       & 32.5      \\\\\n",
       "\t Mazda      & 626        & Compact    & 14.3       & 16.5      \\\\\n",
       "\t Chevrolet  & Astro      & Van        & 14.7       & 16.6      \\\\\n",
       "\t Ford       & Probe      & Sporty     & 12.8       & 14.0      \\\\\n",
       "\t Buick      & Riviera    & Midsize    & 26.3       & 26.3      \\\\\n",
       "\\end{tabular}\n"
      ],
      "text/markdown": [
       "\n",
       "| Manufacturer | Model | Type | Min.Price | Price |\n",
       "|---|---|---|---|---|\n",
       "| Plymouth   | Laser      | Sporty     | 11.4       | 14.4       |\n",
       "| Saturn     | SL         | Small      |  9.2       | 11.1       |\n",
       "| Saturn     | SL         | Small      |  9.2       | 11.1       |\n",
       "| Toyota     | Tercel     | Small      |  7.8       |  9.8       |\n",
       "| Mitsubishi | Mirage     | Small      |  7.7       | 10.3       |\n",
       "| Mazda      | RX-7       | Sporty     | 32.5       | 32.5       |\n",
       "| Mazda      | 626        | Compact    | 14.3       | 16.5       |\n",
       "| Chevrolet  | Astro      | Van        | 14.7       | 16.6       |\n",
       "| Ford       | Probe      | Sporty     | 12.8       | 14.0       |\n",
       "| Buick      | Riviera    | Midsize    | 26.3       | 26.3       |\n",
       "\n"
      ],
      "text/plain": [
       "   Manufacturer Model   Type    Min.Price Price\n",
       "1  Plymouth     Laser   Sporty  11.4      14.4 \n",
       "2  Saturn       SL      Small    9.2      11.1 \n",
       "3  Saturn       SL      Small    9.2      11.1 \n",
       "4  Toyota       Tercel  Small    7.8       9.8 \n",
       "5  Mitsubishi   Mirage  Small    7.7      10.3 \n",
       "6  Mazda        RX-7    Sporty  32.5      32.5 \n",
       "7  Mazda        626     Compact 14.3      16.5 \n",
       "8  Chevrolet    Astro   Van     14.7      16.6 \n",
       "9  Ford         Probe   Sporty  12.8      14.0 \n",
       "10 Buick        Riviera Midsize 26.3      26.3 "
      ]
     },
     "metadata": {},
     "output_type": "display_data"
    }
   ],
   "source": [
    "sample_n(Cars93[1:5],10,replace = T)"
   ]
  },
  {
   "cell_type": "code",
   "execution_count": 60,
   "id": "specified-personality",
   "metadata": {},
   "outputs": [
    {
     "data": {
      "text/html": [
       "<table>\n",
       "<thead><tr><th scope=col>Manufacturer</th><th scope=col>Model</th><th scope=col>Type</th><th scope=col>Min.Price</th><th scope=col>Price</th></tr></thead>\n",
       "<tbody>\n",
       "\t<tr><td>Chevrolet    </td><td>Corvette     </td><td>Sporty       </td><td>34.6         </td><td>38.0         </td></tr>\n",
       "\t<tr><td>Oldsmobile   </td><td>Achieva      </td><td>Compact      </td><td>13.0         </td><td>13.5         </td></tr>\n",
       "\t<tr><td>Mercury      </td><td>Capri        </td><td>Sporty       </td><td>13.3         </td><td>14.1         </td></tr>\n",
       "\t<tr><td>Hyundai      </td><td>Scoupe       </td><td>Sporty       </td><td> 9.1         </td><td>10.0         </td></tr>\n",
       "\t<tr><td>Mazda        </td><td>323          </td><td>Small        </td><td> 7.4         </td><td> 8.3         </td></tr>\n",
       "\t<tr><td>Hyundai      </td><td>Excel        </td><td>Small        </td><td> 6.8         </td><td> 8.0         </td></tr>\n",
       "\t<tr><td>Eagle        </td><td>Summit       </td><td>Small        </td><td> 7.9         </td><td>12.2         </td></tr>\n",
       "\t<tr><td>Mercedes-Benz</td><td>190E         </td><td>Compact      </td><td>29.0         </td><td>31.9         </td></tr>\n",
       "\t<tr><td>BMW          </td><td>535i         </td><td>Midsize      </td><td>23.7         </td><td>30.0         </td></tr>\n",
       "</tbody>\n",
       "</table>\n"
      ],
      "text/latex": [
       "\\begin{tabular}{r|lllll}\n",
       " Manufacturer & Model & Type & Min.Price & Price\\\\\n",
       "\\hline\n",
       "\t Chevrolet     & Corvette      & Sporty        & 34.6          & 38.0         \\\\\n",
       "\t Oldsmobile    & Achieva       & Compact       & 13.0          & 13.5         \\\\\n",
       "\t Mercury       & Capri         & Sporty        & 13.3          & 14.1         \\\\\n",
       "\t Hyundai       & Scoupe        & Sporty        &  9.1          & 10.0         \\\\\n",
       "\t Mazda         & 323           & Small         &  7.4          &  8.3         \\\\\n",
       "\t Hyundai       & Excel         & Small         &  6.8          &  8.0         \\\\\n",
       "\t Eagle         & Summit        & Small         &  7.9          & 12.2         \\\\\n",
       "\t Mercedes-Benz & 190E          & Compact       & 29.0          & 31.9         \\\\\n",
       "\t BMW           & 535i          & Midsize       & 23.7          & 30.0         \\\\\n",
       "\\end{tabular}\n"
      ],
      "text/markdown": [
       "\n",
       "| Manufacturer | Model | Type | Min.Price | Price |\n",
       "|---|---|---|---|---|\n",
       "| Chevrolet     | Corvette      | Sporty        | 34.6          | 38.0          |\n",
       "| Oldsmobile    | Achieva       | Compact       | 13.0          | 13.5          |\n",
       "| Mercury       | Capri         | Sporty        | 13.3          | 14.1          |\n",
       "| Hyundai       | Scoupe        | Sporty        |  9.1          | 10.0          |\n",
       "| Mazda         | 323           | Small         |  7.4          |  8.3          |\n",
       "| Hyundai       | Excel         | Small         |  6.8          |  8.0          |\n",
       "| Eagle         | Summit        | Small         |  7.9          | 12.2          |\n",
       "| Mercedes-Benz | 190E          | Compact       | 29.0          | 31.9          |\n",
       "| BMW           | 535i          | Midsize       | 23.7          | 30.0          |\n",
       "\n"
      ],
      "text/plain": [
       "  Manufacturer  Model    Type    Min.Price Price\n",
       "1 Chevrolet     Corvette Sporty  34.6      38.0 \n",
       "2 Oldsmobile    Achieva  Compact 13.0      13.5 \n",
       "3 Mercury       Capri    Sporty  13.3      14.1 \n",
       "4 Hyundai       Scoupe   Sporty   9.1      10.0 \n",
       "5 Mazda         323      Small    7.4       8.3 \n",
       "6 Hyundai       Excel    Small    6.8       8.0 \n",
       "7 Eagle         Summit   Small    7.9      12.2 \n",
       "8 Mercedes-Benz 190E     Compact 29.0      31.9 \n",
       "9 BMW           535i     Midsize 23.7      30.0 "
      ]
     },
     "metadata": {},
     "output_type": "display_data"
    }
   ],
   "source": [
    "sample_frac(Cars93[1:5],0.1)"
   ]
  }
 ],
 "metadata": {
  "kernelspec": {
   "display_name": "R",
   "language": "R",
   "name": "ir"
  },
  "language_info": {
   "codemirror_mode": "r",
   "file_extension": ".r",
   "mimetype": "text/x-r-source",
   "name": "R",
   "pygments_lexer": "r",
   "version": "3.6.1"
  }
 },
 "nbformat": 4,
 "nbformat_minor": 5
}
