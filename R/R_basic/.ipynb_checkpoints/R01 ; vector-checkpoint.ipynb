{
 "cells": [
  {
   "cell_type": "markdown",
   "metadata": {},
   "source": [
    "# R01-벡터"
   ]
  },
  {
   "cell_type": "markdown",
   "metadata": {},
   "source": [
    "### R 은 하나의 데이터도 vector로 취급한다\n",
    "- R에서 가장 큰 특징이다\n",
    "- 숫자형 문자형 논리형 등의 데이터를 가지고 있는 1차원 집합이다\n",
    "- 하나의 벡터는 하나의 데이터 타입을 가진다 => 이를 위반시 R 내부적으로 강제로 맞춘다\n",
    "\n"
   ]
  },
  {
   "cell_type": "code",
   "execution_count": 7,
   "metadata": {},
   "outputs": [
    {
     "name": "stdout",
     "output_type": "stream",
     "text": [
      "[1] 3\n",
      "[1] TRUE\n"
     ]
    }
   ],
   "source": [
    "a <- 3\n",
    "print(a[1]) # 하나의 값을 넣어도 인덱싱이 가능하다는것이 a가 벡터라는것을 보여준다\n",
    "print(is.vector(a))\n"
   ]
  },
  {
   "cell_type": "markdown",
   "metadata": {},
   "source": [
    "### 벡터를 생성하는 방법\n",
    "1. c()\n",
    "2. :\n",
    "3. seq()\n",
    "4. rep()"
   ]
  },
  {
   "cell_type": "markdown",
   "metadata": {},
   "source": [
    "#### 1. c => 벡터를 생성하는 가장 기본적인 방법이다 \n",
    "- 벡터 안에 벡터가 중첩될수 있다"
   ]
  },
  {
   "cell_type": "code",
   "execution_count": 6,
   "metadata": {},
   "outputs": [
    {
     "name": "stdout",
     "output_type": "stream",
     "text": [
      "[1] \"numeric\"\n",
      "[1] \"double\"\n",
      "[1] 1 2 3 4\n"
     ]
    }
   ],
   "source": [
    "a<-c(1,2,3,4)\n",
    "print(mode(a))\n",
    "print(typeof(a))\n",
    "b<-c(1,3,4,\"a\")\n",
    "c<-c(T,F,T)\n",
    "print(c(c(1,2,3),4))"
   ]
  },
  {
   "cell_type": "markdown",
   "metadata": {},
   "source": [
    "#### 2. : => 연속적인 수치형 데이터를 생성할때 주로 사용한다 (1씩 증가 또는 감소하는 벡터만을 생성할 수 있다)"
   ]
  },
  {
   "cell_type": "code",
   "execution_count": 5,
   "metadata": {},
   "outputs": [
    {
     "name": "stdout",
     "output_type": "stream",
     "text": [
      " [1]  1  2  3  4  5  6  7  8  9 10 11 12 13 14 15 16 17 18 19 20\n",
      " [1]  2  3  4  5  6  7  8  9 10 11 12 13 14 15 16 17 18 19 20 21\n",
      " [1]   1   0  -1  -2  -3  -4  -5  -6  -7  -8  -9 -10\n",
      "[1]  0 -1 -2 -3 -4 -5\n"
     ]
    }
   ],
   "source": [
    "# : 연속적인 수치형 데이터를 생성할때 주로 사용한다\n",
    "# :는 1씩 증가 또는 감소하는 벡터만 가능\n",
    "a<-1:20\n",
    "print(a)\n",
    "b<-2:21\n",
    "print(b)\n",
    "# 역순으로도 가능하다 \n",
    "c<-1:-10\n",
    "d<-0:-5\n",
    "print(c)\n",
    "print(d)"
   ]
  },
  {
   "cell_type": "markdown",
   "metadata": {},
   "source": [
    "#### 3. seq  => seq(from,to,by)의 형태를 가지고 by를 통해 증가하는 크기를 설정할수 있게 해준다\n",
    "- length.out 옵션을 통해 간격을 자동으로 조절할 수도 있다"
   ]
  },
  {
   "cell_type": "code",
   "execution_count": 4,
   "metadata": {},
   "outputs": [
    {
     "name": "stdout",
     "output_type": "stream",
     "text": [
      "[1] 1 2 3 4 5\n",
      "[1] 1 3 5 7 9\n",
      "[1]  1  4  7 10\n"
     ]
    }
   ],
   "source": [
    "print(seq(1,5))\n",
    "print(seq(1,10,2)) # 홀수\n",
    "print(seq(1,10,length.out=4))"
   ]
  },
  {
   "cell_type": "markdown",
   "metadata": {},
   "source": [
    "#### 4. rep => 주어진 값을 반복하여 벡터를 생성한다"
   ]
  },
  {
   "cell_type": "code",
   "execution_count": 3,
   "metadata": {},
   "outputs": [
    {
     "name": "stdout",
     "output_type": "stream",
     "text": [
      "[1] 1 1 1\n",
      "[1] 1 2 3 1 2 3 1 2 3\n",
      "[1] 1 1 1 2 2 2 3 3 3\n",
      " [1] 1 2 3 1 2 3 1 2 3 1\n"
     ]
    }
   ],
   "source": [
    "#각 parameter에 따른 결과값들을 비교해보자\n",
    "print(rep(1,times=3))\n",
    "print(rep(c(1,2,3),times=3))\n",
    "print(rep(c(1,2,3),each=3))\n",
    "print(rep(1:3,length.out=10))"
   ]
  },
  {
   "cell_type": "markdown",
   "metadata": {},
   "source": [
    "### 벡터의 길이를 확인하는 방법\n",
    "- length()\n",
    "- NROW() => 대문자임을 명심해야 한다"
   ]
  },
  {
   "cell_type": "code",
   "execution_count": 2,
   "metadata": {},
   "outputs": [
    {
     "name": "stdout",
     "output_type": "stream",
     "text": [
      "[1] 4\n",
      "[1] 1002\n",
      "[1] 1002\n"
     ]
    }
   ],
   "source": [
    "a <- c(1,2,3,4)\n",
    "print(length(a))\n",
    "b<-1:1002\n",
    "print(length(b))\n",
    "print(NROW(b))"
   ]
  },
  {
   "cell_type": "markdown",
   "metadata": {},
   "source": [
    "### 벡터의 각 셀에 이름을 부여할 수 있다\n",
    "- names(x)\n",
    "- names (x) <- c()"
   ]
  },
  {
   "cell_type": "code",
   "execution_count": 8,
   "metadata": {},
   "outputs": [
    {
     "name": "stdout",
     "output_type": "stream",
     "text": [
      "NULL\n",
      "[1] \"a\" \"b\" \"c\" \"d\"\n"
     ]
    }
   ],
   "source": [
    "a<-c(1,2,3,4)\n",
    "print(names(a)) # null 이다\n",
    "names(a) <- c(\"a\",\"b\",\"c\",\"d\")\n",
    "print(names(a))"
   ]
  },
  {
   "cell_type": "markdown",
   "metadata": {},
   "source": [
    "### 벡터의 연산은 원소 대 원소 단위로 연산을 수행"
   ]
  },
  {
   "cell_type": "markdown",
   "metadata": {},
   "source": [
    "#### 1.기본적인 사칙 연산 수행 가능"
   ]
  },
  {
   "cell_type": "code",
   "execution_count": 9,
   "metadata": {},
   "outputs": [
    {
     "name": "stdout",
     "output_type": "stream",
     "text": [
      "[1] 2 3 4 5\n",
      "[1] 2 3 4 7\n",
      "[1] 0 1 2 1\n",
      "[1]  1  2  3 12\n",
      "[1] 1.000000 2.000000 3.000000 1.333333\n"
     ]
    }
   ],
   "source": [
    "a<-c(1,2,3,4)\n",
    "b<-c(1,1,1,3)\n",
    "print(a+1) # scalar sum\n",
    "print(a+b) # vector + vector\n",
    "print(a-b)\n",
    "print(a*b) \n",
    "print(a/b)"
   ]
  },
  {
   "cell_type": "markdown",
   "metadata": {},
   "source": [
    "#### 2.벡터의 길이가 다를때의 연산"
   ]
  },
  {
   "cell_type": "code",
   "execution_count": 10,
   "metadata": {},
   "outputs": [
    {
     "name": "stdout",
     "output_type": "stream",
     "text": [
      "[1] 2 3 4 5\n",
      "[1]  11 102  13 104\n"
     ]
    },
    {
     "name": "stderr",
     "output_type": "stream",
     "text": [
      "Warning message in a + c:\n",
      "“두 객체의 길이가 서로 배수관계에 있지 않습니다”\n"
     ]
    },
    {
     "name": "stdout",
     "output_type": "stream",
     "text": [
      "[1]   11  102 1003   14\n"
     ]
    }
   ],
   "source": [
    "a<-c(1,2,3,4)\n",
    "print(a+1) # 원소가 한개인 벡터 일때는 무조건 긴 벡터의 배수이다\n",
    "\n",
    "b<-c(10,100)\n",
    "print(a+b) # 차례대로 1+10 2+100 3+10 4+100 이 되었다\n",
    "\n",
    "c<-c(10,100,1000)\n",
    "print(a+c) # warning message : longer object is not multiple of shorter object lenth\n",
    "    # 그렇다고 수행이 안되는건 아니고 차례대로 재사용하여 실행된다 10+1 100+2 1000+3 10+4"
   ]
  },
  {
   "cell_type": "markdown",
   "metadata": {},
   "source": [
    "#### 3.벡터끼리 논리 연산도 가능하다 => 원소 대 원소의 연산임을 꼭 기억"
   ]
  },
  {
   "cell_type": "code",
   "execution_count": 21,
   "metadata": {},
   "outputs": [
    {
     "name": "stdout",
     "output_type": "stream",
     "text": [
      "[1]  TRUE  TRUE FALSE FALSE\n",
      "[1] FALSE  TRUE FALSE FALSE\n",
      "[1]  TRUE FALSE FALSE FALSE\n",
      "[1] TRUE\n",
      "[1] TRUE\n"
     ]
    }
   ],
   "source": [
    "a <- c(1,2,3,4)\n",
    "print(a<3)\n",
    "\n",
    "b<-c(1,3,2,1) # 원소 대 원소\n",
    "print(a<b)\n",
    "print(a==b)\n",
    "\n",
    "c<-c(1,2,3,4)\n",
    "\n",
    "print(identical(a,c)) # 객체가 동일한지 비교할때는 identical 을 이용하자\n",
    "\n",
    "print(1 %in% a) # 어떤값이 벡터에 포함되어있는지 알려주는 연산자다"
   ]
  },
  {
   "cell_type": "code",
   "execution_count": 19,
   "metadata": {},
   "outputs": [
    {
     "name": "stdout",
     "output_type": "stream",
     "text": [
      "[1]  TRUE FALSE  TRUE\n",
      "[1] TRUE TRUE TRUE\n",
      "[1] FALSE  TRUE  TRUE\n"
     ]
    }
   ],
   "source": [
    "# &, |, !(not), xor\n",
    "# 특별히 xor은 두 논리값이 같으면 TRUE 다르면 FALSE를 준다\n",
    "print(c(T,F,T) & c(TRUE,TRUE,TRUE))\n",
    "print(c(T,F,T) | c(TRUE,TRUE,TRUE))\n",
    "print(xor(c(T,F,T),c(T,T,F)))"
   ]
  },
  {
   "cell_type": "code",
   "execution_count": 18,
   "metadata": {},
   "outputs": [
    {
     "name": "stdout",
     "output_type": "stream",
     "text": [
      "[1] TRUE\n",
      "[1] FALSE\n"
     ]
    }
   ],
   "source": [
    "# any or\n",
    "a <- c(1,2,3,4)\n",
    "print(any(a>3)) # 하나라도 3보다 크면 True\n",
    "print(all(a>3)) # 벡터내의 모든 논리값이 True 일때만 True를 돌려준다"
   ]
  },
  {
   "cell_type": "markdown",
   "metadata": {},
   "source": [
    "#### 4.set operator 도 가능하다 => set은 중복 허용하지 않는다"
   ]
  },
  {
   "cell_type": "code",
   "execution_count": 17,
   "metadata": {},
   "outputs": [
    {
     "name": "stdout",
     "output_type": "stream",
     "text": [
      "[1] \"a\"\n",
      "[1] \"a\" \"b\" \"c\" \"d\"\n",
      "[1] \"a\" \"b\"\n",
      "[1] \"b\" \"c\"\n",
      "[1] FALSE\n"
     ]
    }
   ],
   "source": [
    "print(setdiff(c(\"a\",\"b\",\"c\"),c(\"b\",\"c\",\"d\")))\n",
    "print(union(c(\"a\",\"b\",\"c\"),c(\"b\",\"c\",\"d\")))\n",
    "print(union(c(\"a\",\"a\",\"a\"),c(\"b\",\"b\",\"b\"))) \n",
    "print(intersect(c(\"a\",\"b\",\"c\"),c(\"b\",\"c\",\"d\")))\n",
    "print(setequal(c(\"a\",\"b\",\"c\"),c(\"b\",\"c\",\"d\")))"
   ]
  },
  {
   "cell_type": "markdown",
   "metadata": {},
   "source": [
    "### 벡터 indexing , slicing"
   ]
  },
  {
   "cell_type": "markdown",
   "metadata": {},
   "source": [
    "#### 1. 기본적인 indexing ,slicing\n",
    "- 1부터 시작\n",
    "- 인덱싱 [ ] 안에 벡터 형태가 들어갈 수 있다 {c, :, rep, seq} 다 가능하다\n",
    "- 인덱싱을 통해 값에 접근 또는 업데이트 할 수 있다\n",
    "- 각 셀의 name도 index로 사용할 수 있다 이때 slicing은 사용불가하다\n",
    "- 음수 인덱싱은 해당 값을 제외한다"
   ]
  },
  {
   "cell_type": "code",
   "execution_count": 16,
   "metadata": {},
   "outputs": [
    {
     "name": "stdout",
     "output_type": "stream",
     "text": [
      "[1] 1\n",
      "[1] 1 2\n",
      "[1] 1 3\n",
      "[1] 1 2 3\n",
      " [1]  1  3  5  7  9 11 13 15 17 19 21 23 25 27 29 31 33 35 37 39 41 43 45 47 49\n",
      "a \n",
      "1 \n",
      "a c \n",
      "1 3 \n"
     ]
    }
   ],
   "source": [
    "a<-c(1,2,3)\n",
    "print(a[1])\n",
    "print(a[c(1,2)])\n",
    "print(a[c(1,3)])\n",
    "print(a[1:3])\n",
    "\n",
    "b<-seq(1,50)\n",
    "print(b[seq(1,50,2)]) # 홀수만 출력\n",
    "\n",
    "names(a) <-c(\"a\",\"b\",\"c\")\n",
    "print(a[c(\"a\")])\n",
    "print(a[c(\"a\",\"c\")])\n"
   ]
  },
  {
   "cell_type": "code",
   "execution_count": 15,
   "metadata": {},
   "outputs": [
    {
     "name": "stdout",
     "output_type": "stream",
     "text": [
      "[1]  4  5  6  7  8  9 10\n",
      "[1]  4  5  6  7  8  9 10\n",
      "[1]  4  5  6  7  8  9 10\n",
      "[1] 2 3 4 5 6 7 8 9\n",
      "[1] 1 2 3 4 5 6 7 8 9\n",
      "[1] 1 2 3 4 5 6 7 8 9\n"
     ]
    }
   ],
   "source": [
    "#음수 인덱싱은 해당 값을 제외한다\n",
    "c <- 1:10\n",
    "print(c[-3:-1])\n",
    "print(c[-1:-3])\n",
    "print(c[-(1:3)])\n",
    "print(c[-c(1,10)])\n",
    "print(c[-length(c)])\n",
    "print(c[1:length(c)-1])"
   ]
  },
  {
   "cell_type": "markdown",
   "metadata": {},
   "source": [
    "#### 2.벡터 값 업데이트 또는 벡터의 확장"
   ]
  },
  {
   "cell_type": "code",
   "execution_count": 14,
   "metadata": {},
   "outputs": [
    {
     "name": "stdout",
     "output_type": "stream",
     "text": [
      " [1] 10  2 30  4  5  6  7  8  9 10\n",
      " [1] 10  2 30  4  5  6  7  8  9 10 NA NA NA NA 15\n"
     ]
    }
   ],
   "source": [
    "a <- 1:10\n",
    "a[c(1,3)]<-c(10,30)\n",
    "print(a)\n",
    "\n",
    "a[15] <- 15 # 값이 지정이 안된 위치에는 NA값이 채워진다 \n",
    "print(a)"
   ]
  },
  {
   "cell_type": "markdown",
   "metadata": {},
   "source": [
    "#### 3.logial indexing\n",
    "- True 값인 index만 return한다\n",
    "- 인덱스 [ ] logical operator을 활용하여 원하는 값만 출력할 수 있다 ex)3의배수만 출력"
   ]
  },
  {
   "cell_type": "code",
   "execution_count": 13,
   "metadata": {},
   "outputs": [
    {
     "name": "stdout",
     "output_type": "stream",
     "text": [
      "[1] 1 2 3\n",
      "[1] 1 3\n",
      "[1] 2 3\n",
      " [1] 101 103 105 107 109 111 113 115 117 119 121 123 125 127 129 131 133 135 137\n",
      "[20] 139 141 143 145 147 149 151 153 155 157 159 161 163 165 167 169 171 173 175\n",
      "[39] 177 179 181 183 185 187 189 191 193 195 197 199\n",
      " [1] 102 105 108 111 114 117 120 123 126 129 132 135 138 141 144 147 150 153 156\n",
      "[20] 159 162 165 168 171 174 177 180 183 186 189 192 195 198\n"
     ]
    }
   ],
   "source": [
    "a<-c(1,2,3)\n",
    "print(a[c(T,T,T)])\n",
    "print(a[c(T,F,T)])\n",
    "print(a[a>1]) # a가 1보다 큰 값만 반환\n",
    "sample_vec = 100:200\n",
    "print(sample_vec[sample_vec%%2==1]) # 홀수\n",
    "print(sample_vec[sample_vec%%3==0]) # 3의 배수"
   ]
  },
  {
   "cell_type": "markdown",
   "metadata": {},
   "source": [
    "#### 4. 인덱싱 할때 유용한 함수들\n",
    "- which() 논리값(벡터)을 인수로 받아서 TRUE의 위치를 반환\n",
    "- which.max() 최댓값의 위치를 반환\n",
    "- which.min() 최솟값의 위치를 반환"
   ]
  },
  {
   "cell_type": "code",
   "execution_count": 11,
   "metadata": {},
   "outputs": [
    {
     "name": "stdout",
     "output_type": "stream",
     "text": [
      "[1] 4 6\n",
      "[1] 6\n",
      "[1] 7\n"
     ]
    }
   ],
   "source": [
    "rainfall <- c(21.6,22.6,45,102, 53,242,21,21)\n",
    "print(which(rainfall>100))\n",
    "print(which.max(rainfall))\n",
    "print(which.min(rainfall)) # 최솟값 두개 존재  => 첫번째꺼 인덱스를 가져온다"
   ]
  },
  {
   "cell_type": "code",
   "execution_count": 12,
   "metadata": {},
   "outputs": [
    {
     "name": "stdout",
     "output_type": "stream",
     "text": [
      "[1] 102 242\n"
     ]
    }
   ],
   "source": [
    "rainfall <- c(21.6,22.6,45,102, 53,242,21,21)\n",
    "print(rainfall[which(rainfall>100)] )"
   ]
  }
 ],
 "metadata": {
  "kernelspec": {
   "display_name": "R",
   "language": "R",
   "name": "ir"
  },
  "language_info": {
   "codemirror_mode": "r",
   "file_extension": ".r",
   "mimetype": "text/x-r-source",
   "name": "R",
   "pygments_lexer": "r",
   "version": "4.1.0"
  }
 },
 "nbformat": 4,
 "nbformat_minor": 5
}
