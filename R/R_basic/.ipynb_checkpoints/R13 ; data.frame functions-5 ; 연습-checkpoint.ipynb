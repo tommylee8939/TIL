{
 "cells": [
  {
   "cell_type": "markdown",
   "id": "metropolitan-clarity",
   "metadata": {},
   "source": [
    "## R13 ; data.frame functions-5 ; practice data processing"
   ]
  },
  {
   "cell_type": "code",
   "execution_count": 2,
   "id": "future-vermont",
   "metadata": {},
   "outputs": [
    {
     "name": "stderr",
     "output_type": "stream",
     "text": [
      "\n",
      "Attaching package: ‘dplyr’\n",
      "\n",
      "The following objects are masked from ‘package:stats’:\n",
      "\n",
      "    filter, lag\n",
      "\n",
      "The following objects are masked from ‘package:base’:\n",
      "\n",
      "    intersect, setdiff, setequal, union\n",
      "\n",
      "Registered S3 methods overwritten by 'ggplot2':\n",
      "  method         from \n",
      "  [.quosures     rlang\n",
      "  c.quosures     rlang\n",
      "  print.quosures rlang\n"
     ]
    }
   ],
   "source": [
    "library(dplyr)\n",
    "library(ggplot2)\n",
    "mpg.df<-as.data.frame(mpg)"
   ]
  },
  {
   "cell_type": "code",
   "execution_count": 4,
   "id": "atlantic-desert",
   "metadata": {},
   "outputs": [
    {
     "data": {
      "text/html": [
       "<table>\n",
       "<thead><tr><th scope=col>displ &gt; 4</th><th scope=col>mean</th></tr></thead>\n",
       "<tbody>\n",
       "\t<tr><td>FALSE   </td><td>25.96319</td></tr>\n",
       "\t<tr><td> TRUE   </td><td>17.64789</td></tr>\n",
       "</tbody>\n",
       "</table>\n"
      ],
      "text/latex": [
       "\\begin{tabular}{r|ll}\n",
       " displ > 4 & mean\\\\\n",
       "\\hline\n",
       "\t FALSE    & 25.96319\\\\\n",
       "\t  TRUE    & 17.64789\\\\\n",
       "\\end{tabular}\n"
      ],
      "text/markdown": [
       "\n",
       "| displ > 4 | mean |\n",
       "|---|---|\n",
       "| FALSE    | 25.96319 |\n",
       "|  TRUE    | 17.64789 |\n",
       "\n"
      ],
      "text/plain": [
       "  displ > 4 mean    \n",
       "1 FALSE     25.96319\n",
       "2  TRUE     17.64789"
      ]
     },
     "metadata": {},
     "output_type": "display_data"
    },
    {
     "data": {
      "text/html": [
       "<table>\n",
       "<thead><tr><th scope=col>displ_over_4</th><th scope=col>hwy</th></tr></thead>\n",
       "<tbody>\n",
       "\t<tr><td>FALSE   </td><td>25.96319</td></tr>\n",
       "\t<tr><td> TRUE   </td><td>17.64789</td></tr>\n",
       "</tbody>\n",
       "</table>\n"
      ],
      "text/latex": [
       "\\begin{tabular}{r|ll}\n",
       " displ\\_over\\_4 & hwy\\\\\n",
       "\\hline\n",
       "\t FALSE    & 25.96319\\\\\n",
       "\t  TRUE    & 17.64789\\\\\n",
       "\\end{tabular}\n"
      ],
      "text/markdown": [
       "\n",
       "| displ_over_4 | hwy |\n",
       "|---|---|\n",
       "| FALSE    | 25.96319 |\n",
       "|  TRUE    | 17.64789 |\n",
       "\n"
      ],
      "text/plain": [
       "  displ_over_4 hwy     \n",
       "1 FALSE        25.96319\n",
       "2  TRUE        17.64789"
      ]
     },
     "metadata": {},
     "output_type": "display_data"
    },
    {
     "data": {
      "text/html": [
       "<table>\n",
       "<thead><tr><th scope=col>displ_over_4</th><th scope=col>hwy</th></tr></thead>\n",
       "<tbody>\n",
       "\t<tr><td>FALSE   </td><td>25.96319</td></tr>\n",
       "\t<tr><td> TRUE   </td><td>17.64789</td></tr>\n",
       "</tbody>\n",
       "</table>\n"
      ],
      "text/latex": [
       "\\begin{tabular}{r|ll}\n",
       " displ\\_over\\_4 & hwy\\\\\n",
       "\\hline\n",
       "\t FALSE    & 25.96319\\\\\n",
       "\t  TRUE    & 17.64789\\\\\n",
       "\\end{tabular}\n"
      ],
      "text/markdown": [
       "\n",
       "| displ_over_4 | hwy |\n",
       "|---|---|\n",
       "| FALSE    | 25.96319 |\n",
       "|  TRUE    | 17.64789 |\n",
       "\n"
      ],
      "text/plain": [
       "  displ_over_4 hwy     \n",
       "1 FALSE        25.96319\n",
       "2  TRUE        17.64789"
      ]
     },
     "metadata": {},
     "output_type": "display_data"
    }
   ],
   "source": [
    "# 1. 자동차 배기량에 따라 고속도로 연비가 다른지 알아보려 한다. \n",
    "# displ(배기량)이 4 이하인 자동차와 4 초과인 자동차 중 \n",
    "# 어떤 자동차의 hwy(고속도로 연비)가 평균적으로 더 높은지 확인하세요.\n",
    "mpg %>% group_by(displ>4) %>% summarise(mean=mean(hwy))\n",
    "with(mpg.df,aggregate(mpg.df['hwy'],list(displ_over_4=(displ>4)),mean))\n",
    "aggregate(mpg.df['hwy'],list(displ_over_4=(mpg$displ>4)),mean)"
   ]
  },
  {
   "cell_type": "code",
   "execution_count": 5,
   "id": "sunrise-bunch",
   "metadata": {},
   "outputs": [
    {
     "data": {
      "text/html": [
       "<table>\n",
       "<thead><tr><th scope=col>manufacturer</th><th scope=col>mean</th></tr></thead>\n",
       "<tbody>\n",
       "\t<tr><td>audi    </td><td>26.44444</td></tr>\n",
       "\t<tr><td>toyota  </td><td>24.91176</td></tr>\n",
       "</tbody>\n",
       "</table>\n"
      ],
      "text/latex": [
       "\\begin{tabular}{r|ll}\n",
       " manufacturer & mean\\\\\n",
       "\\hline\n",
       "\t audi     & 26.44444\\\\\n",
       "\t toyota   & 24.91176\\\\\n",
       "\\end{tabular}\n"
      ],
      "text/markdown": [
       "\n",
       "| manufacturer | mean |\n",
       "|---|---|\n",
       "| audi     | 26.44444 |\n",
       "| toyota   | 24.91176 |\n",
       "\n"
      ],
      "text/plain": [
       "  manufacturer mean    \n",
       "1 audi         26.44444\n",
       "2 toyota       24.91176"
      ]
     },
     "metadata": {},
     "output_type": "display_data"
    }
   ],
   "source": [
    "# 2. 자동차 제조 회사에 따라 도시 연비가 다른지 알아보려고 한다. \n",
    "# \"audi\"와 \"toyota\" 중 어느 manufacturer(제조회사)의 cty(도시 연비)가 \n",
    "# 평균적으로 더 높은지 확인하세요.\n",
    "mpg %>%\n",
    "  filter(manufacturer=='audi'|manufacturer=='toyota') %>% \n",
    "  group_by(manufacturer) %>% \n",
    "  summarize(mean=mean(hwy))"
   ]
  },
  {
   "cell_type": "code",
   "execution_count": 6,
   "id": "latin-offense",
   "metadata": {},
   "outputs": [
    {
     "data": {
      "text/html": [
       "<table>\n",
       "<thead><tr><th scope=col>manufacturer</th><th scope=col>mean</th></tr></thead>\n",
       "<tbody>\n",
       "\t<tr><td>chevrolet</td><td>21.89474 </td></tr>\n",
       "\t<tr><td>ford     </td><td>19.36000 </td></tr>\n",
       "\t<tr><td>honda    </td><td>32.55556 </td></tr>\n",
       "</tbody>\n",
       "</table>\n"
      ],
      "text/latex": [
       "\\begin{tabular}{r|ll}\n",
       " manufacturer & mean\\\\\n",
       "\\hline\n",
       "\t chevrolet & 21.89474 \\\\\n",
       "\t ford      & 19.36000 \\\\\n",
       "\t honda     & 32.55556 \\\\\n",
       "\\end{tabular}\n"
      ],
      "text/markdown": [
       "\n",
       "| manufacturer | mean |\n",
       "|---|---|\n",
       "| chevrolet | 21.89474  |\n",
       "| ford      | 19.36000  |\n",
       "| honda     | 32.55556  |\n",
       "\n"
      ],
      "text/plain": [
       "  manufacturer mean    \n",
       "1 chevrolet    21.89474\n",
       "2 ford         19.36000\n",
       "3 honda        32.55556"
      ]
     },
     "metadata": {},
     "output_type": "display_data"
    }
   ],
   "source": [
    "# 3. \"chevrolet\", \"ford\", \"honda\" 자동차의 고속도로 연비 평균을 알아보려고 한다. \n",
    "# 이 회사들의 데이터를 추출한 후 hwy(고속도로 연비) 전체 평균을 구하세요.\n",
    "mpg %>%\n",
    "  filter(manufacturer=='chevrolet'|manufacturer=='ford'|manufacturer=='honda') %>% \n",
    "  group_by(manufacturer) %>% \n",
    "  summarize(mean=mean(hwy))"
   ]
  },
  {
   "cell_type": "code",
   "execution_count": 7,
   "id": "diverse-plane",
   "metadata": {},
   "outputs": [
    {
     "data": {
      "text/html": [
       "<table>\n",
       "<thead><tr><th scope=col>manufacturer</th><th scope=col>model</th><th scope=col>displ</th><th scope=col>year</th><th scope=col>cyl</th><th scope=col>trans</th><th scope=col>drv</th><th scope=col>cty</th><th scope=col>hwy</th><th scope=col>fl</th><th scope=col>class</th></tr></thead>\n",
       "<tbody>\n",
       "\t<tr><td>audi      </td><td>a4        </td><td>2.0       </td><td>2008      </td><td>4         </td><td>manual(m6)</td><td>f         </td><td>20        </td><td>31        </td><td>p         </td><td>compact   </td></tr>\n",
       "\t<tr><td>audi      </td><td>a4        </td><td>2.0       </td><td>2008      </td><td>4         </td><td>auto(av)  </td><td>f         </td><td>21        </td><td>30        </td><td>p         </td><td>compact   </td></tr>\n",
       "\t<tr><td>audi      </td><td>a4        </td><td>1.8       </td><td>1999      </td><td>4         </td><td>auto(l5)  </td><td>f         </td><td>18        </td><td>29        </td><td>p         </td><td>compact   </td></tr>\n",
       "\t<tr><td>audi      </td><td>a4        </td><td>1.8       </td><td>1999      </td><td>4         </td><td>manual(m5)</td><td>f         </td><td>21        </td><td>29        </td><td>p         </td><td>compact   </td></tr>\n",
       "\t<tr><td>audi      </td><td>a4 quattro</td><td>2.0       </td><td>2008      </td><td>4         </td><td>manual(m6)</td><td>4         </td><td>20        </td><td>28        </td><td>p         </td><td>compact   </td></tr>\n",
       "</tbody>\n",
       "</table>\n"
      ],
      "text/latex": [
       "\\begin{tabular}{r|lllllllllll}\n",
       " manufacturer & model & displ & year & cyl & trans & drv & cty & hwy & fl & class\\\\\n",
       "\\hline\n",
       "\t audi       & a4         & 2.0        & 2008       & 4          & manual(m6) & f          & 20         & 31         & p          & compact   \\\\\n",
       "\t audi       & a4         & 2.0        & 2008       & 4          & auto(av)   & f          & 21         & 30         & p          & compact   \\\\\n",
       "\t audi       & a4         & 1.8        & 1999       & 4          & auto(l5)   & f          & 18         & 29         & p          & compact   \\\\\n",
       "\t audi       & a4         & 1.8        & 1999       & 4          & manual(m5) & f          & 21         & 29         & p          & compact   \\\\\n",
       "\t audi       & a4 quattro & 2.0        & 2008       & 4          & manual(m6) & 4          & 20         & 28         & p          & compact   \\\\\n",
       "\\end{tabular}\n"
      ],
      "text/markdown": [
       "\n",
       "| manufacturer | model | displ | year | cyl | trans | drv | cty | hwy | fl | class |\n",
       "|---|---|---|---|---|---|---|---|---|---|---|\n",
       "| audi       | a4         | 2.0        | 2008       | 4          | manual(m6) | f          | 20         | 31         | p          | compact    |\n",
       "| audi       | a4         | 2.0        | 2008       | 4          | auto(av)   | f          | 21         | 30         | p          | compact    |\n",
       "| audi       | a4         | 1.8        | 1999       | 4          | auto(l5)   | f          | 18         | 29         | p          | compact    |\n",
       "| audi       | a4         | 1.8        | 1999       | 4          | manual(m5) | f          | 21         | 29         | p          | compact    |\n",
       "| audi       | a4 quattro | 2.0        | 2008       | 4          | manual(m6) | 4          | 20         | 28         | p          | compact    |\n",
       "\n"
      ],
      "text/plain": [
       "  manufacturer model      displ year cyl trans      drv cty hwy fl class  \n",
       "1 audi         a4         2.0   2008 4   manual(m6) f   20  31  p  compact\n",
       "2 audi         a4         2.0   2008 4   auto(av)   f   21  30  p  compact\n",
       "3 audi         a4         1.8   1999 4   auto(l5)   f   18  29  p  compact\n",
       "4 audi         a4         1.8   1999 4   manual(m5) f   21  29  p  compact\n",
       "5 audi         a4 quattro 2.0   2008 4   manual(m6) 4   20  28  p  compact"
      ]
     },
     "metadata": {},
     "output_type": "display_data"
    }
   ],
   "source": [
    "# 4. \"audi\"에서 생산한 자동차 중에 어떤 자동차 모델의 hwy(고속도로 연비)가 \n",
    "# 높은지 알아보려고 한다. \"audi\"에서 생산한 자동차 중 hwy가 1~5위에 해당하는 \n",
    "# 자동차의 데이터를 출력하세요.\n",
    "mpg %>% \n",
    "  filter(manufacturer=='audi') %>% \n",
    "  arrange(desc(hwy)) %>% \n",
    "  head(5)"
   ]
  },
  {
   "cell_type": "code",
   "execution_count": 8,
   "id": "artistic-regulation",
   "metadata": {},
   "outputs": [
    {
     "data": {
      "text/html": [
       "<table>\n",
       "<thead><tr><th scope=col>manufacturer</th><th scope=col>integrate_mean</th></tr></thead>\n",
       "<tbody>\n",
       "\t<tr><td>subaru  </td><td>43.83333</td></tr>\n",
       "\t<tr><td>toyota  </td><td>32.62500</td></tr>\n",
       "\t<tr><td>nissan  </td><td>31.75000</td></tr>\n",
       "\t<tr><td>mercury </td><td>31.25000</td></tr>\n",
       "\t<tr><td>jeep    </td><td>31.12500</td></tr>\n",
       "</tbody>\n",
       "</table>\n"
      ],
      "text/latex": [
       "\\begin{tabular}{r|ll}\n",
       " manufacturer & integrate\\_mean\\\\\n",
       "\\hline\n",
       "\t subaru   & 43.83333\\\\\n",
       "\t toyota   & 32.62500\\\\\n",
       "\t nissan   & 31.75000\\\\\n",
       "\t mercury  & 31.25000\\\\\n",
       "\t jeep     & 31.12500\\\\\n",
       "\\end{tabular}\n"
      ],
      "text/markdown": [
       "\n",
       "| manufacturer | integrate_mean |\n",
       "|---|---|\n",
       "| subaru   | 43.83333 |\n",
       "| toyota   | 32.62500 |\n",
       "| nissan   | 31.75000 |\n",
       "| mercury  | 31.25000 |\n",
       "| jeep     | 31.12500 |\n",
       "\n"
      ],
      "text/plain": [
       "  manufacturer integrate_mean\n",
       "1 subaru       43.83333      \n",
       "2 toyota       32.62500      \n",
       "3 nissan       31.75000      \n",
       "4 mercury      31.25000      \n",
       "5 jeep         31.12500      "
      ]
     },
     "metadata": {},
     "output_type": "display_data"
    }
   ],
   "source": [
    "# 5. mpg 데이터는 연비를 나타내는 변수가 2개입니다. \n",
    "# 두 변수를 각각 활용하는 대신 하나의 통합 연비 변수를 만들어 사용하려 합니다. \n",
    "# 평균 연비 변수는 두 연비(고속도로와 도시)의 평균을 이용합니다. \n",
    "# 회사별로 \"suv\" 자동차의 평균 연비를 구한후 내림차순으로 정렬한 후 1~5위까지 데이터를 출력하세요.\n",
    "mpg %>% \n",
    "  filter(class=='suv') %>% \n",
    "  group_by(manufacturer) %>% \n",
    "  mutate(integrate=cty+hwy) %>% \n",
    "  summarize(integrate_mean=mean(integrate)) %>% \n",
    "  arrange(desc(integrate_mean)) %>% \n",
    "  head(5)\n"
   ]
  },
  {
   "cell_type": "code",
   "execution_count": 9,
   "id": "according-study",
   "metadata": {},
   "outputs": [
    {
     "data": {
      "text/html": [
       "<table>\n",
       "<thead><tr><th scope=col>class</th><th scope=col>cty_mean</th></tr></thead>\n",
       "<tbody>\n",
       "\t<tr><td>subcompact</td><td>20.37143  </td></tr>\n",
       "\t<tr><td>compact   </td><td>20.12766  </td></tr>\n",
       "\t<tr><td>midsize   </td><td>18.75610  </td></tr>\n",
       "\t<tr><td>minivan   </td><td>15.81818  </td></tr>\n",
       "\t<tr><td>2seater   </td><td>15.40000  </td></tr>\n",
       "\t<tr><td>suv       </td><td>13.50000  </td></tr>\n",
       "\t<tr><td>pickup    </td><td>13.00000  </td></tr>\n",
       "</tbody>\n",
       "</table>\n"
      ],
      "text/latex": [
       "\\begin{tabular}{r|ll}\n",
       " class & cty\\_mean\\\\\n",
       "\\hline\n",
       "\t subcompact & 20.37143  \\\\\n",
       "\t compact    & 20.12766  \\\\\n",
       "\t midsize    & 18.75610  \\\\\n",
       "\t minivan    & 15.81818  \\\\\n",
       "\t 2seater    & 15.40000  \\\\\n",
       "\t suv        & 13.50000  \\\\\n",
       "\t pickup     & 13.00000  \\\\\n",
       "\\end{tabular}\n"
      ],
      "text/markdown": [
       "\n",
       "| class | cty_mean |\n",
       "|---|---|\n",
       "| subcompact | 20.37143   |\n",
       "| compact    | 20.12766   |\n",
       "| midsize    | 18.75610   |\n",
       "| minivan    | 15.81818   |\n",
       "| 2seater    | 15.40000   |\n",
       "| suv        | 13.50000   |\n",
       "| pickup     | 13.00000   |\n",
       "\n"
      ],
      "text/plain": [
       "  class      cty_mean\n",
       "1 subcompact 20.37143\n",
       "2 compact    20.12766\n",
       "3 midsize    18.75610\n",
       "4 minivan    15.81818\n",
       "5 2seater    15.40000\n",
       "6 suv        13.50000\n",
       "7 pickup     13.00000"
      ]
     },
     "metadata": {},
     "output_type": "display_data"
    }
   ],
   "source": [
    "# 6. mpg 데이터의 class는 \"suv\", \"compact\" 등 자동차의 특징에 따라 \n",
    "# 일곱 종류로 분류한 변수입니다. 어떤 차종의 도시 연비가 높은지 비교하려 합니다. \n",
    "# class별 cty 평균을 구하고 cty 평균이 높은 순으로 정렬해 출력하세요.\n",
    "mpg %>%\n",
    "  group_by(class) %>% \n",
    "  summarize(cty_mean=mean(cty)) %>% \n",
    "  arrange(desc(cty_mean))"
   ]
  },
  {
   "cell_type": "code",
   "execution_count": 10,
   "id": "supposed-million",
   "metadata": {},
   "outputs": [
    {
     "data": {
      "text/html": [
       "<table>\n",
       "<thead><tr><th scope=col>manufacturer</th><th scope=col>hwy_mean</th></tr></thead>\n",
       "<tbody>\n",
       "\t<tr><td>honda     </td><td>32.55556  </td></tr>\n",
       "\t<tr><td>volkswagen</td><td>29.22222  </td></tr>\n",
       "\t<tr><td>hyundai   </td><td>26.85714  </td></tr>\n",
       "</tbody>\n",
       "</table>\n"
      ],
      "text/latex": [
       "\\begin{tabular}{r|ll}\n",
       " manufacturer & hwy\\_mean\\\\\n",
       "\\hline\n",
       "\t honda      & 32.55556  \\\\\n",
       "\t volkswagen & 29.22222  \\\\\n",
       "\t hyundai    & 26.85714  \\\\\n",
       "\\end{tabular}\n"
      ],
      "text/markdown": [
       "\n",
       "| manufacturer | hwy_mean |\n",
       "|---|---|\n",
       "| honda      | 32.55556   |\n",
       "| volkswagen | 29.22222   |\n",
       "| hyundai    | 26.85714   |\n",
       "\n"
      ],
      "text/plain": [
       "  manufacturer hwy_mean\n",
       "1 honda        32.55556\n",
       "2 volkswagen   29.22222\n",
       "3 hyundai      26.85714"
      ]
     },
     "metadata": {},
     "output_type": "display_data"
    }
   ],
   "source": [
    "# 7. 어떤 회사 자동차의 hwy(고속도로 연비)가 가장 높은지 알아보려 합니다. \n",
    "# hwy(고속도로 연비) 평균이 가장 높은 회사 세 곳을 출력하세요.\n",
    "mpg %>%\n",
    "  group_by(manufacturer) %>% \n",
    "  summarize(hwy_mean=mean(hwy)) %>% \n",
    "  arrange(desc(hwy_mean)) %>% \n",
    "  head(3)"
   ]
  },
  {
   "cell_type": "code",
   "execution_count": 11,
   "id": "billion-webcam",
   "metadata": {},
   "outputs": [
    {
     "data": {
      "text/html": [
       "<table>\n",
       "<thead><tr><th scope=col>manufacturer</th><th scope=col>cnt</th></tr></thead>\n",
       "<tbody>\n",
       "\t<tr><td>audi      </td><td>15        </td></tr>\n",
       "\t<tr><td>volkswagen</td><td>14        </td></tr>\n",
       "\t<tr><td>toyota    </td><td>12        </td></tr>\n",
       "\t<tr><td>subaru    </td><td> 4        </td></tr>\n",
       "\t<tr><td>nissan    </td><td> 2        </td></tr>\n",
       "</tbody>\n",
       "</table>\n"
      ],
      "text/latex": [
       "\\begin{tabular}{r|ll}\n",
       " manufacturer & cnt\\\\\n",
       "\\hline\n",
       "\t audi       & 15        \\\\\n",
       "\t volkswagen & 14        \\\\\n",
       "\t toyota     & 12        \\\\\n",
       "\t subaru     &  4        \\\\\n",
       "\t nissan     &  2        \\\\\n",
       "\\end{tabular}\n"
      ],
      "text/markdown": [
       "\n",
       "| manufacturer | cnt |\n",
       "|---|---|\n",
       "| audi       | 15         |\n",
       "| volkswagen | 14         |\n",
       "| toyota     | 12         |\n",
       "| subaru     |  4         |\n",
       "| nissan     |  2         |\n",
       "\n"
      ],
      "text/plain": [
       "  manufacturer cnt\n",
       "1 audi         15 \n",
       "2 volkswagen   14 \n",
       "3 toyota       12 \n",
       "4 subaru        4 \n",
       "5 nissan        2 "
      ]
     },
     "metadata": {},
     "output_type": "display_data"
    }
   ],
   "source": [
    "# 8. 어떤 회사에서 \"compact\" 차종을 가장 많이 생산하는지 알아보려고 합니다. \n",
    "# 각 회사별 \"compact\" 차종 수를 내림차순으로 정렬해 출력하세요\n",
    "mpg %>% \n",
    "  filter(class=='compact') %>% \n",
    "  group_by(manufacturer) %>% \n",
    "  summarise(cnt=n()) %>% \n",
    "  arrange(desc(cnt))"
   ]
  }
 ],
 "metadata": {
  "kernelspec": {
   "display_name": "R",
   "language": "R",
   "name": "ir"
  },
  "language_info": {
   "codemirror_mode": "r",
   "file_extension": ".r",
   "mimetype": "text/x-r-source",
   "name": "R",
   "pygments_lexer": "r",
   "version": "3.6.1"
  }
 },
 "nbformat": 4,
 "nbformat_minor": 5
}
