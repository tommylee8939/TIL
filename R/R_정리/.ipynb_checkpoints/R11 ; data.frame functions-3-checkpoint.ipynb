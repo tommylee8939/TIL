{
 "cells": [
  {
   "cell_type": "markdown",
   "id": "wireless-invalid",
   "metadata": {},
   "source": [
    "## R11 ; data.frame functions-3"
   ]
  },
  {
   "cell_type": "markdown",
   "id": "heavy-benjamin",
   "metadata": {},
   "source": [
    "- 대표적인 package \n",
    "    - doBy\n",
    "    - ddplyr"
   ]
  },
  {
   "cell_type": "markdown",
   "id": "amber-mobile",
   "metadata": {},
   "source": [
    "### doBy\n",
    "- summaryBy( )\n",
    "- orderBy( )\n",
    "- sampleBy( )"
   ]
  },
  {
   "cell_type": "code",
   "execution_count": null,
   "id": "painted-edmonton",
   "metadata": {},
   "outputs": [],
   "source": []
  }
 ],
 "metadata": {
  "kernelspec": {
   "display_name": "R",
   "language": "R",
   "name": "ir"
  },
  "language_info": {
   "codemirror_mode": "r",
   "file_extension": ".r",
   "mimetype": "text/x-r-source",
   "name": "R",
   "pygments_lexer": "r",
   "version": "3.6.1"
  }
 },
 "nbformat": 4,
 "nbformat_minor": 5
}
