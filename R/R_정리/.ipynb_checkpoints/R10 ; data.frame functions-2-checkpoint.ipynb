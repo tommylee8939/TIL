{
 "cells": [
  {
   "cell_type": "markdown",
   "id": "expanded-revolution",
   "metadata": {},
   "source": [
    "## R10 ; data.frame functions-2\n",
    "- 필수적인 package 위주의 함수들을 알아보자\n",
    "- 대표적인 package \n",
    "    - doBy\n",
    "    - ddplyr"
   ]
  },
  {
   "cell_type": "markdown",
   "id": "conceptual-whole",
   "metadata": {},
   "source": [
    "### Sorting \n",
    "- 1.order \n",
    "- 2.sort\n",
    "- 3.orderBy\n"
   ]
  },
  {
   "cell_type": "markdown",
   "id": "thermal-station",
   "metadata": {},
   "source": [
    "#### 1.order\n"
   ]
  },
  {
   "cell_type": "code",
   "execution_count": null,
   "id": "protective-standard",
   "metadata": {},
   "outputs": [],
   "source": []
  },
  {
   "cell_type": "markdown",
   "id": "aging-nickel",
   "metadata": {},
   "source": [
    "#### 2.sort"
   ]
  },
  {
   "cell_type": "code",
   "execution_count": null,
   "id": "everyday-merchant",
   "metadata": {},
   "outputs": [],
   "source": []
  },
  {
   "cell_type": "code",
   "execution_count": null,
   "id": "ancient-heating",
   "metadata": {},
   "outputs": [],
   "source": [
    "sorta order doBy package(summaryBy orderBy sampleBy) ddplyr"
   ]
  },
  {
   "cell_type": "code",
   "execution_count": null,
   "id": "maritime-amateur",
   "metadata": {},
   "outputs": [],
   "source": []
  },
  {
   "cell_type": "code",
   "execution_count": null,
   "id": "radical-massachusetts",
   "metadata": {},
   "outputs": [],
   "source": []
  },
  {
   "cell_type": "code",
   "execution_count": null,
   "id": "duplicate-funeral",
   "metadata": {},
   "outputs": [],
   "source": []
  },
  {
   "cell_type": "code",
   "execution_count": null,
   "id": "velvet-reservoir",
   "metadata": {},
   "outputs": [],
   "source": []
  }
 ],
 "metadata": {
  "kernelspec": {
   "display_name": "R",
   "language": "R",
   "name": "ir"
  },
  "language_info": {
   "codemirror_mode": "r",
   "file_extension": ".r",
   "mimetype": "text/x-r-source",
   "name": "R",
   "pygments_lexer": "r",
   "version": "3.6.1"
  }
 },
 "nbformat": 4,
 "nbformat_minor": 5
}
