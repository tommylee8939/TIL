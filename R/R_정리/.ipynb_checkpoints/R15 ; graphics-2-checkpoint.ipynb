{
 "cells": [
  {
   "cell_type": "markdown",
   "id": "established-principle",
   "metadata": {},
   "source": [
    "## R 기본제공 graphics-2"
   ]
  },
  {
   "cell_type": "markdown",
   "id": "wrapped-participant",
   "metadata": {},
   "source": [
    "### 그래프 유형"
   ]
  }
 ],
 "metadata": {
  "kernelspec": {
   "display_name": "R",
   "language": "R",
   "name": "ir"
  },
  "language_info": {
   "codemirror_mode": "r",
   "file_extension": ".r",
   "mimetype": "text/x-r-source",
   "name": "R",
   "pygments_lexer": "r",
   "version": "3.6.1"
  }
 },
 "nbformat": 4,
 "nbformat_minor": 5
}
