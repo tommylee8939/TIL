{
 "cells": [
  {
   "cell_type": "markdown",
   "id": "psychological-training",
   "metadata": {},
   "source": [
    "## R05 ; mode,typeof,class,as.fuctions"
   ]
  },
  {
   "cell_type": "markdown",
   "id": "intensive-enough",
   "metadata": {},
   "source": [
    "#### mode\n",
    "- R의 모든 객체는 모드(mode)를 가지고 있음\n",
    "- 일반적으로 메모리에 물리적으로 저장되는 형태를 의미함\n",
    "- 가장 분류의 기준이 약하다고 생각하자\n",
    "- => numeric character logical list function etc... 이중에 반드시 하나가 할당됨"
   ]
  },
  {
   "cell_type": "markdown",
   "id": "exposed-transcript",
   "metadata": {},
   "source": [
    "#### typeof\n",
    "- mode 와 비슷한 역할이다\n",
    "- 하지만 조금 더 구체적인 분류가 가능 => mode는 조금 outdated\n",
    "- => integer double complex logial list.."
   ]
  },
  {
   "cell_type": "markdown",
   "id": "perfect-pressing",
   "metadata": {},
   "source": [
    "#### class \n",
    "- mode와 typeof가 객체의 물리적인 저장 방식을 의미했다면 class는 추상적인 형태를 의미한다\n",
    "- R이 갖는 데이터 구조가 이에 해당한다\n",
    "- numeric character matrix array list data.frame "
   ]
  },
  {
   "cell_type": "markdown",
   "id": "southwest-dealer",
   "metadata": {},
   "source": [
    "#### str \n",
    "- 각 데이터 구조에 따른 class 보여준다\n",
    "- 데이터도 함께 찔금 보여줌 => 유용하다"
   ]
  },
  {
   "cell_type": "markdown",
   "id": "elder-stations",
   "metadata": {},
   "source": [
    "#### 아래의 예시들을 통해 간략하게 이해해보자 => 절대 이부분을 암기하려 할 필요는 없다"
   ]
  },
  {
   "cell_type": "code",
   "execution_count": 21,
   "id": "blind-detector",
   "metadata": {},
   "outputs": [
    {
     "data": {
      "text/html": [
       "'numeric'"
      ],
      "text/latex": [
       "'numeric'"
      ],
      "text/markdown": [
       "'numeric'"
      ],
      "text/plain": [
       "[1] \"numeric\""
      ]
     },
     "metadata": {},
     "output_type": "display_data"
    },
    {
     "data": {
      "text/html": [
       "'double'"
      ],
      "text/latex": [
       "'double'"
      ],
      "text/markdown": [
       "'double'"
      ],
      "text/plain": [
       "[1] \"double\""
      ]
     },
     "metadata": {},
     "output_type": "display_data"
    },
    {
     "data": {
      "text/html": [
       "'numeric'"
      ],
      "text/latex": [
       "'numeric'"
      ],
      "text/markdown": [
       "'numeric'"
      ],
      "text/plain": [
       "[1] \"numeric\""
      ]
     },
     "metadata": {},
     "output_type": "display_data"
    }
   ],
   "source": [
    "# vector\n",
    "a<-c(1.1111,2.1111)\n",
    "class(a)\n",
    "typeof(a) # 보다 자세하게 double이라고 보여준다\n",
    "mode(a)"
   ]
  },
  {
   "cell_type": "code",
   "execution_count": 29,
   "id": "tough-requirement",
   "metadata": {},
   "outputs": [
    {
     "data": {
      "text/html": [
       "'factor'"
      ],
      "text/latex": [
       "'factor'"
      ],
      "text/markdown": [
       "'factor'"
      ],
      "text/plain": [
       "[1] \"factor\""
      ]
     },
     "metadata": {},
     "output_type": "display_data"
    },
    {
     "data": {
      "text/html": [
       "'integer'"
      ],
      "text/latex": [
       "'integer'"
      ],
      "text/markdown": [
       "'integer'"
      ],
      "text/plain": [
       "[1] \"integer\""
      ]
     },
     "metadata": {},
     "output_type": "display_data"
    },
    {
     "data": {
      "text/html": [
       "'numeric'"
      ],
      "text/latex": [
       "'numeric'"
      ],
      "text/markdown": [
       "'numeric'"
      ],
      "text/plain": [
       "[1] \"numeric\""
      ]
     },
     "metadata": {},
     "output_type": "display_data"
    }
   ],
   "source": [
    "# factor\n",
    "a<-factor(c('1','2','2','1','1'))\n",
    "class(a) \n",
    "typeof(a) # 내부저그로 물리적인 형태는 숫자를 가르킨다 이게 신기함\n",
    "mode(a)"
   ]
  },
  {
   "cell_type": "code",
   "execution_count": 25,
   "id": "express-catch",
   "metadata": {},
   "outputs": [
    {
     "data": {
      "text/html": [
       "'matrix'"
      ],
      "text/latex": [
       "'matrix'"
      ],
      "text/markdown": [
       "'matrix'"
      ],
      "text/plain": [
       "[1] \"matrix\""
      ]
     },
     "metadata": {},
     "output_type": "display_data"
    },
    {
     "data": {
      "text/html": [
       "'integer'"
      ],
      "text/latex": [
       "'integer'"
      ],
      "text/markdown": [
       "'integer'"
      ],
      "text/plain": [
       "[1] \"integer\""
      ]
     },
     "metadata": {},
     "output_type": "display_data"
    },
    {
     "data": {
      "text/html": [
       "'numeric'"
      ],
      "text/latex": [
       "'numeric'"
      ],
      "text/markdown": [
       "'numeric'"
      ],
      "text/plain": [
       "[1] \"numeric\""
      ]
     },
     "metadata": {},
     "output_type": "display_data"
    }
   ],
   "source": [
    "# matrix\n",
    "a <- matrix(1:9,3)\n",
    "class(a) # matrix는 R의 데이터 구조를 알고싶으면 당연히 class 함수 사용해하는거다\n",
    "typeof(a)\n",
    "mode(a)"
   ]
  },
  {
   "cell_type": "code",
   "execution_count": 24,
   "id": "young-taiwan",
   "metadata": {},
   "outputs": [
    {
     "data": {
      "text/html": [
       "'data.frame'"
      ],
      "text/latex": [
       "'data.frame'"
      ],
      "text/markdown": [
       "'data.frame'"
      ],
      "text/plain": [
       "[1] \"data.frame\""
      ]
     },
     "metadata": {},
     "output_type": "display_data"
    },
    {
     "data": {
      "text/html": [
       "'list'"
      ],
      "text/latex": [
       "'list'"
      ],
      "text/markdown": [
       "'list'"
      ],
      "text/plain": [
       "[1] \"list\""
      ]
     },
     "metadata": {},
     "output_type": "display_data"
    },
    {
     "data": {
      "text/html": [
       "'list'"
      ],
      "text/latex": [
       "'list'"
      ],
      "text/markdown": [
       "'list'"
      ],
      "text/plain": [
       "[1] \"list\""
      ]
     },
     "metadata": {},
     "output_type": "display_data"
    },
    {
     "name": "stdout",
     "output_type": "stream",
     "text": [
      "'data.frame':\t3 obs. of  2 variables:\n",
      " $ a: num  1 2 3\n",
      " $ b: Factor w/ 3 levels \"a\",\"b\",\"c\": 1 2 3\n"
     ]
    }
   ],
   "source": [
    "# data.frame\n",
    "a<-data.frame(a=c(1,2,3),b=c(\"a\",\"b\",\"c\"))\n",
    "class(a)\n",
    "typeof(a)\n",
    "mode(a)\n",
    "str(a)"
   ]
  },
  {
   "cell_type": "code",
   "execution_count": null,
   "id": "macro-glenn",
   "metadata": {},
   "outputs": [],
   "source": []
  }
 ],
 "metadata": {
  "kernelspec": {
   "display_name": "R",
   "language": "R",
   "name": "ir"
  },
  "language_info": {
   "codemirror_mode": "r",
   "file_extension": ".r",
   "mimetype": "text/x-r-source",
   "name": "R",
   "pygments_lexer": "r",
   "version": "3.6.1"
  }
 },
 "nbformat": 4,
 "nbformat_minor": 5
}
