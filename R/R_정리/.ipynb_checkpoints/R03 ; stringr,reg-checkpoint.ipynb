{
 "cells": [
  {
   "cell_type": "markdown",
   "id": "expensive-conflict",
   "metadata": {},
   "source": [
    "## R03 정규표현식, stringr 패키지"
   ]
  },
  {
   "cell_type": "markdown",
   "id": "accomplished-acceptance",
   "metadata": {},
   "source": [
    "#### 핵심 정규표현식 규칙\n",
    "- 특정 문자열 표현을 도와주는 일종의 pattern이다\n",
    "- 정규표현식을 통해 특정 문자열을 반환,삭제,수정 등의 작업을 수월하게 할수 있다"
   ]
  },
  {
   "cell_type": "code",
   "execution_count": 2,
   "id": "electrical-european",
   "metadata": {},
   "outputs": [],
   "source": [
    "# [정규표현식(regular expression)]\n",
    "# *  0 or more.\n",
    "# +  1 or more.\n",
    "# ?  0 or 1.\n",
    "# .  무엇이든 한 글자를 의미\n",
    "# ^  시작 문자 지정 \n",
    "# ex) ^[abc] abc중 한 단어 포함한 것으로 시작\n",
    "# [^] 해당 문자를 제외한 모든 것 ex) [^abc] a,b,c 는 빼고\n",
    "# $  끝 문자 지정\n",
    "# [a-z] 알파벳 소문자 중 1개\n",
    "# [A-Z] 알파벳 대문자 중 1개\n",
    "# [0-9] 모든 숫자 중 1개\n",
    "# [a-zA-Z] 모든 알파벳 중 1개\n",
    "# [가-힣] 모든 한글 중 1개\n",
    "# [^가-힣] 모든 한글을 제외한 모든 것\n",
    "# ㄷ[:punct:] 구두점 문자, ! \" # $ % & ’ ( ) * + , - . / : ; < = > ? @ [ ] ^ _ ` { | } ~.\n",
    "# [:alpha:] 알파벳 대소문자, 동등한 표현 [A-z]\n",
    "# [:lower:] 영문 소문자, 동등한 표현 [a-z]\n",
    "# [:upper:] 영문 대문자, 동등한 표현 [A-Z].\n",
    "# [:digit:] 숫자, 0,1,2,3,4,5,6,7,8,9,\n",
    "# [:xdigit:] 16진수  [0-9A-Fa-f]\n",
    "# [:alnum:] 알파벳 숫자 문자, 동등한 표현[A-z0-9].\n",
    "# [:cntrl:] \\n, \\r 같은 제어문자, 동등한 표현[\\x00-\\x1F\\x7F].\n",
    "# [:graph:] 그래픽 (사람이 읽을 수 있는) 문자, 동등한 표현\n",
    "# [:print:] 출력가능한 문자, 동등한 표현\n",
    "# [:space:] 공백 문자: 탭, 개행문자, 수직탭, 공백, 복귀문자, 서식이송\n",
    "# [:blank:] 간격 문자, 즉 스페이스와 탭.\n"
   ]
  },
  {
   "cell_type": "markdown",
   "id": "interior-taste",
   "metadata": {},
   "source": [
    "#### Built in Pattern Matching and Replacement\n",
    "- grep() \n",
    "    - 패턴에 해당하는\n",
    "- sub() gsub()\n"
   ]
  },
  {
   "cell_type": "code",
   "execution_count": 3,
   "id": "frank-economy",
   "metadata": {},
   "outputs": [],
   "source": [
    "# grep(pattern ,x , ignore.case =FALSE,value=FALSE)\n"
   ]
  }
 ],
 "metadata": {
  "kernelspec": {
   "display_name": "R",
   "language": "R",
   "name": "ir"
  },
  "language_info": {
   "codemirror_mode": "r",
   "file_extension": ".r",
   "mimetype": "text/x-r-source",
   "name": "R",
   "pygments_lexer": "r",
   "version": "3.6.1"
  }
 },
 "nbformat": 4,
 "nbformat_minor": 5
}
