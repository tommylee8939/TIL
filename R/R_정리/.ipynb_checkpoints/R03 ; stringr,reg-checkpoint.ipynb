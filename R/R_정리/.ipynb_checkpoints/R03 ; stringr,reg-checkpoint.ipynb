{
 "cells": [
  {
   "cell_type": "markdown",
   "id": "limited-pizza",
   "metadata": {},
   "source": [
    "## R03 정규표현식, stringr 패키지"
   ]
  },
  {
   "cell_type": "markdown",
   "id": "eligible-exclusion",
   "metadata": {},
   "source": [
    "#### 핵심 정규표현식 규칙\n",
    "- 특정 문자열 표현을 도와주는 일종의 pattern이다\n",
    "- 정규표현식을 통해 특정 문자열을 반환,삭제,수정 등의 작업을 수월하게 할수 있다"
   ]
  },
  {
   "cell_type": "code",
   "execution_count": 2,
   "id": "subtle-movie",
   "metadata": {},
   "outputs": [],
   "source": [
    "# [정규표현식(regular expression)]\n",
    "# *  0 or more.\n",
    "# +  1 or more.\n",
    "# ?  0 or 1.\n",
    "# .  무엇이든 한 글자를 의미\n",
    "# ^  시작 문자 지정 \n",
    "# ex) ^[abc] abc중 한 단어 포함한 것으로 시작\n",
    "# [^] 해당 문자를 제외한 모든 것 ex) [^abc] a,b,c 는 빼고\n",
    "# $  끝 문자 지정\n",
    "# [a-z] 알파벳 소문자 중 1개\n",
    "# [A-Z] 알파벳 대문자 중 1개\n",
    "# [0-9] 모든 숫자 중 1개\n",
    "# [a-zA-Z] 모든 알파벳 중 1개\n",
    "# [가-힣] 모든 한글 중 1개\n",
    "# [^가-힣] 모든 한글을 제외한 모든 것\n",
    "# ㄷ[:punct:] 구두점 문자, ! \" # $ % & ’ ( ) * + , - . / : ; < = > ? @ [ ] ^ _ ` { | } ~.\n",
    "# [:alpha:] 알파벳 대소문자, 동등한 표현 [A-z]\n",
    "# [:lower:] 영문 소문자, 동등한 표현 [a-z]\n",
    "# [:upper:] 영문 대문자, 동등한 표현 [A-Z].\n",
    "# [:digit:] 숫자, 0,1,2,3,4,5,6,7,8,9,\n",
    "# [:xdigit:] 16진수  [0-9A-Fa-f]\n",
    "# [:alnum:] 알파벳 숫자 문자, 동등한 표현[A-z0-9].\n",
    "# [:cntrl:] \\n, \\r 같은 제어문자, 동등한 표현[\\x00-\\x1F\\x7F].\n",
    "# [:graph:] 그래픽 (사람이 읽을 수 있는) 문자, 동등한 표현\n",
    "# [:print:] 출력가능한 문자, 동등한 표현\n",
    "# [:space:] 공백 문자: 탭, 개행문자, 수직탭, 공백, 복귀문자, 서식이송\n",
    "# [:blank:] 간격 문자, 즉 스페이스와 탭.\n"
   ]
  },
  {
   "cell_type": "markdown",
   "id": "civil-inquiry",
   "metadata": {},
   "source": [
    "#### Built-in character functions\n",
    "- substr(str,start,end)\n",
    "- strplit(str,split=\" \")"
   ]
  },
  {
   "cell_type": "code",
   "execution_count": 10,
   "id": "least-swaziland",
   "metadata": {},
   "outputs": [],
   "source": [
    "msg <- \"Bigdata is very important subject\""
   ]
  },
  {
   "cell_type": "code",
   "execution_count": 13,
   "id": "polar-denmark",
   "metadata": {},
   "outputs": [
    {
     "data": {
      "text/html": [
       "'Bigdata'"
      ],
      "text/latex": [
       "'Bigdata'"
      ],
      "text/markdown": [
       "'Bigdata'"
      ],
      "text/plain": [
       "[1] \"Bigdata\""
      ]
     },
     "metadata": {},
     "output_type": "display_data"
    },
    {
     "data": {
      "text/html": [
       "<ol>\n",
       "\t<li><ol class=list-inline>\n",
       "\t<li>'Bigdata '</li>\n",
       "\t<li>' very important subject'</li>\n",
       "</ol>\n",
       "</li>\n",
       "</ol>\n"
      ],
      "text/latex": [
       "\\begin{enumerate}\n",
       "\\item \\begin{enumerate*}\n",
       "\\item 'Bigdata '\n",
       "\\item ' very important subject'\n",
       "\\end{enumerate*}\n",
       "\n",
       "\\end{enumerate}\n"
      ],
      "text/markdown": [
       "1. 1. 'Bigdata '\n",
       "2. ' very important subject'\n",
       "\n",
       "\n",
       "\n",
       "\n",
       "\n"
      ],
      "text/plain": [
       "[[1]]\n",
       "[1] \"Bigdata \"                \" very important subject\"\n"
      ]
     },
     "metadata": {},
     "output_type": "display_data"
    }
   ],
   "source": [
    "substr(msg,1,7)\n",
    "strsplit(msg,split=\"is\")"
   ]
  },
  {
   "cell_type": "markdown",
   "id": "satisfied-compromise",
   "metadata": {},
   "source": [
    "#### Built-in Pattern Matching and Replacement\n",
    "- grep(attern, x, ignore.case = FALSE,value = FALSE,) \n",
    "    - global regular expression print\n",
    "    - 패턴에 해당하는 문자열 모두 보여준다\n",
    "    - 벡터에 담아서 return한다\n",
    "    - value = T 설정을 하면 index 값이 아닌 실제 문자열을 반환\n",
    "    - ignore.case = T 설정을 하면 대소문자 구분 없이 찾는다\n",
    "    \n",
    "- sub(pattern, replacement, x, ignore.case = FALSE)\n",
    "    - sub는 패턴과 일치하는 첫번째 문자열을 바꾼다\n",
    "- gsub(pattern, replacement, x, ignore.case = FALSE)\n",
    "    - gsub는 패턴과 일치하는 모든 문자열 바꾼다\n"
   ]
  },
  {
   "cell_type": "code",
   "execution_count": 3,
   "id": "plastic-plymouth",
   "metadata": {},
   "outputs": [
    {
     "data": {
      "text/html": [
       "5"
      ],
      "text/latex": [
       "5"
      ],
      "text/markdown": [
       "5"
      ],
      "text/plain": [
       "[1] 5"
      ]
     },
     "metadata": {},
     "output_type": "display_data"
    },
    {
     "data": {
      "text/html": [
       "'eight'"
      ],
      "text/latex": [
       "'eight'"
      ],
      "text/markdown": [
       "'eight'"
      ],
      "text/plain": [
       "[1] \"eight\""
      ]
     },
     "metadata": {},
     "output_type": "display_data"
    },
    {
     "data": {
      "text/html": [
       "<ol class=list-inline>\n",
       "\t<li>'eight'</li>\n",
       "\t<li>'Eight'</li>\n",
       "</ol>\n"
      ],
      "text/latex": [
       "\\begin{enumerate*}\n",
       "\\item 'eight'\n",
       "\\item 'Eight'\n",
       "\\end{enumerate*}\n"
      ],
      "text/markdown": [
       "1. 'eight'\n",
       "2. 'Eight'\n",
       "\n",
       "\n"
      ],
      "text/plain": [
       "[1] \"eight\" \"Eight\""
      ]
     },
     "metadata": {},
     "output_type": "display_data"
    }
   ],
   "source": [
    "# grep(pattern ,x , ignore.case =FALSE,value=FALSE)\n",
    "\n",
    "strvec <- c(\"gender\",\"height cm\",\"age\",\"weight\",\"eight\",\"Eight\")\n",
    "\n",
    "grep('^ei',strvec) # index로 돌려준다\n",
    "grep('^ei',strvec,value = T) # value로 돌려준다\n",
    "grep('^ei',strvec,value = T,ignore.case = TRUE) # 대소문자 무시해라\n",
    "\n"
   ]
  },
  {
   "cell_type": "code",
   "execution_count": 4,
   "id": "molecular-terminology",
   "metadata": {},
   "outputs": [
    {
     "data": {
      "text/html": [
       "<ol class=list-inline>\n",
       "\t<li>'BigData'</li>\n",
       "\t<li>'Bigdata'</li>\n",
       "\t<li>'biggerdatabigger'</li>\n",
       "\t<li>'Data'</li>\n",
       "\t<li>'dataMining'</li>\n",
       "\t<li>'class1'</li>\n",
       "\t<li>'class2'</li>\n",
       "</ol>\n"
      ],
      "text/latex": [
       "\\begin{enumerate*}\n",
       "\\item 'BigData'\n",
       "\\item 'Bigdata'\n",
       "\\item 'biggerdatabigger'\n",
       "\\item 'Data'\n",
       "\\item 'dataMining'\n",
       "\\item 'class1'\n",
       "\\item 'class2'\n",
       "\\end{enumerate*}\n"
      ],
      "text/markdown": [
       "1. 'BigData'\n",
       "2. 'Bigdata'\n",
       "3. 'biggerdatabigger'\n",
       "4. 'Data'\n",
       "5. 'dataMining'\n",
       "6. 'class1'\n",
       "7. 'class2'\n",
       "\n",
       "\n"
      ],
      "text/plain": [
       "[1] \"BigData\"          \"Bigdata\"          \"biggerdatabigger\" \"Data\"            \n",
       "[5] \"dataMining\"       \"class1\"           \"class2\"          "
      ]
     },
     "metadata": {},
     "output_type": "display_data"
    },
    {
     "data": {
      "text/html": [
       "<ol class=list-inline>\n",
       "\t<li>'BigData'</li>\n",
       "\t<li>'Bigdata'</li>\n",
       "\t<li>'biggerdatabig'</li>\n",
       "\t<li>'Data'</li>\n",
       "\t<li>'dataMining'</li>\n",
       "\t<li>'class1'</li>\n",
       "\t<li>'class2'</li>\n",
       "</ol>\n"
      ],
      "text/latex": [
       "\\begin{enumerate*}\n",
       "\\item 'BigData'\n",
       "\\item 'Bigdata'\n",
       "\\item 'biggerdatabig'\n",
       "\\item 'Data'\n",
       "\\item 'dataMining'\n",
       "\\item 'class1'\n",
       "\\item 'class2'\n",
       "\\end{enumerate*}\n"
      ],
      "text/markdown": [
       "1. 'BigData'\n",
       "2. 'Bigdata'\n",
       "3. 'biggerdatabig'\n",
       "4. 'Data'\n",
       "5. 'dataMining'\n",
       "6. 'class1'\n",
       "7. 'class2'\n",
       "\n",
       "\n"
      ],
      "text/plain": [
       "[1] \"BigData\"       \"Bigdata\"       \"biggerdatabig\" \"Data\"         \n",
       "[5] \"dataMining\"    \"class1\"        \"class2\"       "
      ]
     },
     "metadata": {},
     "output_type": "display_data"
    }
   ],
   "source": [
    "# sub(pattern, replacement, x, ignore.case = FALSE)\n",
    "# gsub(pattern, replacement, x, ignore.case = FALSE)\n",
    "\n",
    "txtVec <- c(\"BigData\",\"Bigdata\",\"bigdatabig\",\"Data\",\"dataMining\",\"class1\",\"class2\")\n",
    "gsub('+big+',\"bigger\",txtVec) # 두번 나오는것도 둘다 바뀐다\n",
    "sub('big+',\"bigger\",txtVec) #  처음 하나만 바꾼다"
   ]
  },
  {
   "cell_type": "markdown",
   "id": "private-kingston",
   "metadata": {},
   "source": [
    "#### 문자열의 길이 구하기"
   ]
  },
  {
   "cell_type": "code",
   "execution_count": 6,
   "id": "increasing-karaoke",
   "metadata": {},
   "outputs": [
    {
     "data": {
      "text/html": [
       "7"
      ],
      "text/latex": [
       "7"
      ],
      "text/markdown": [
       "7"
      ],
      "text/plain": [
       "[1] 7"
      ]
     },
     "metadata": {},
     "output_type": "display_data"
    },
    {
     "data": {
      "text/html": [
       "<ol class=list-inline>\n",
       "\t<li>7</li>\n",
       "\t<li>7</li>\n",
       "\t<li>7</li>\n",
       "\t<li>4</li>\n",
       "\t<li>10</li>\n",
       "\t<li>6</li>\n",
       "\t<li>6</li>\n",
       "</ol>\n"
      ],
      "text/latex": [
       "\\begin{enumerate*}\n",
       "\\item 7\n",
       "\\item 7\n",
       "\\item 7\n",
       "\\item 4\n",
       "\\item 10\n",
       "\\item 6\n",
       "\\item 6\n",
       "\\end{enumerate*}\n"
      ],
      "text/markdown": [
       "1. 7\n",
       "2. 7\n",
       "3. 7\n",
       "4. 4\n",
       "5. 10\n",
       "6. 6\n",
       "7. 6\n",
       "\n",
       "\n"
      ],
      "text/plain": [
       "[1]  7  7  7  4 10  6  6"
      ]
     },
     "metadata": {},
     "output_type": "display_data"
    }
   ],
   "source": [
    "txtVec <- c(\"BigData\",\"Bigdata\",\"bigdata\",\"Data\",\"dataMining\",\"class1\",\"class2\")\n",
    "length(txtVec) # 원소의 갯수다\n",
    "nchar(txtVec) # 각 원소의 문자열의 길이를 반환해준다\n",
    "#stringr package를 사용할 수도 있다"
   ]
  },
  {
   "cell_type": "markdown",
   "id": "filled-height",
   "metadata": {},
   "source": [
    "### stringr 패키지\n",
    "- 문자열 추출하거나 정규표현식 추출에 용이한 패키지다\n",
    "- str_extract() str_extract_all()\n",
    "- str_locate() str_locate_all()\n",
    "- str_sub()\n",
    "- str_replace() str_replace_all()\n",
    "- str_remove() str_remove_all()"
   ]
  },
  {
   "cell_type": "code",
   "execution_count": 7,
   "id": "alone-engineer",
   "metadata": {},
   "outputs": [],
   "source": [
    "library(stringr)"
   ]
  },
  {
   "cell_type": "code",
   "execution_count": 8,
   "id": "breeding-bottom",
   "metadata": {},
   "outputs": [],
   "source": [
    "msg <- \"Bigdata is very important subject\""
   ]
  },
  {
   "cell_type": "code",
   "execution_count": 15,
   "id": "infrared-example",
   "metadata": {},
   "outputs": [
    {
     "data": {
      "text/html": [
       "'abc'"
      ],
      "text/latex": [
       "'abc'"
      ],
      "text/markdown": [
       "'abc'"
      ],
      "text/plain": [
       "[1] \"abc\""
      ]
     },
     "metadata": {},
     "output_type": "display_data"
    },
    {
     "data": {
      "text/html": [
       "<ol>\n",
       "\t<li><ol class=list-inline>\n",
       "\t<li>'abc'</li>\n",
       "\t<li>'def'</li>\n",
       "</ol>\n",
       "</li>\n",
       "</ol>\n"
      ],
      "text/latex": [
       "\\begin{enumerate}\n",
       "\\item \\begin{enumerate*}\n",
       "\\item 'abc'\n",
       "\\item 'def'\n",
       "\\end{enumerate*}\n",
       "\n",
       "\\end{enumerate}\n"
      ],
      "text/markdown": [
       "1. 1. 'abc'\n",
       "2. 'def'\n",
       "\n",
       "\n",
       "\n",
       "\n",
       "\n"
      ],
      "text/plain": [
       "[[1]]\n",
       "[1] \"abc\" \"def\"\n"
      ]
     },
     "metadata": {},
     "output_type": "display_data"
    }
   ],
   "source": [
    "#str_extract() str_extract_all()\n",
    "str_extract(\"abc123def456\",'[a-zA-Z]+')\n",
    "str_extract_all(\"abc123def456\",'[a-zA-Z]+')"
   ]
  },
  {
   "cell_type": "code",
   "execution_count": 19,
   "id": "fatal-update",
   "metadata": {},
   "outputs": [
    {
     "data": {
      "text/html": [
       "<table>\n",
       "<thead><tr><th scope=col>start</th><th scope=col>end</th></tr></thead>\n",
       "<tbody>\n",
       "\t<tr><td>1</td><td>2</td></tr>\n",
       "</tbody>\n",
       "</table>\n"
      ],
      "text/latex": [
       "\\begin{tabular}{ll}\n",
       " start & end\\\\\n",
       "\\hline\n",
       "\t 1 & 2\\\\\n",
       "\\end{tabular}\n"
      ],
      "text/markdown": [
       "\n",
       "| start | end |\n",
       "|---|---|\n",
       "| 1 | 2 |\n",
       "\n"
      ],
      "text/plain": [
       "     start end\n",
       "[1,] 1     2  "
      ]
     },
     "metadata": {},
     "output_type": "display_data"
    },
    {
     "data": {
      "text/html": [
       "'matrix'"
      ],
      "text/latex": [
       "'matrix'"
      ],
      "text/markdown": [
       "'matrix'"
      ],
      "text/plain": [
       "[1] \"matrix\""
      ]
     },
     "metadata": {},
     "output_type": "display_data"
    },
    {
     "data": {
      "text/html": [
       "<ol>\n",
       "\t<li><table>\n",
       "<thead><tr><th scope=col>start</th><th scope=col>end</th></tr></thead>\n",
       "<tbody>\n",
       "\t<tr><td> 1</td><td> 2</td></tr>\n",
       "\t<tr><td>22</td><td>23</td></tr>\n",
       "</tbody>\n",
       "</table>\n",
       "</li>\n",
       "</ol>\n"
      ],
      "text/latex": [
       "\\begin{enumerate}\n",
       "\\item \\begin{tabular}{ll}\n",
       " start & end\\\\\n",
       "\\hline\n",
       "\t  1 &  2\\\\\n",
       "\t 22 & 23\\\\\n",
       "\\end{tabular}\n",
       "\n",
       "\\end{enumerate}\n"
      ],
      "text/markdown": [
       "1. \n",
       "| start | end |\n",
       "|---|---|\n",
       "|  1 |  2 |\n",
       "| 22 | 23 |\n",
       "\n",
       "\n",
       "\n",
       "\n"
      ],
      "text/plain": [
       "[[1]]\n",
       "     start end\n",
       "[1,]     1   2\n",
       "[2,]    22  23\n"
      ]
     },
     "metadata": {},
     "output_type": "display_data"
    },
    {
     "data": {
      "text/html": [
       "'list'"
      ],
      "text/latex": [
       "'list'"
      ],
      "text/markdown": [
       "'list'"
      ],
      "text/plain": [
       "[1] \"list\""
      ]
     },
     "metadata": {},
     "output_type": "display_data"
    }
   ],
   "source": [
    "#str_locate() str_locate_all()\n",
    "msg <- \"Hi, Nice to meet you Hi\"\n",
    "str_locate(msg,\"Hi\")\n",
    "class(str_locate(msg,\"Hi\"))\n",
    "str_locate_all(msg,\"Hi\")\n",
    "class(str_locate_all(msg,\"Hi\"))"
   ]
  },
  {
   "cell_type": "code",
   "execution_count": 22,
   "id": "accurate-amber",
   "metadata": {},
   "outputs": [
    {
     "data": {
      "text/html": [
       "'Ji, Nice to meet you Hi'"
      ],
      "text/latex": [
       "'Ji, Nice to meet you Hi'"
      ],
      "text/markdown": [
       "'Ji, Nice to meet you Hi'"
      ],
      "text/plain": [
       "[1] \"Ji, Nice to meet you Hi\""
      ]
     },
     "metadata": {},
     "output_type": "display_data"
    },
    {
     "data": {
      "text/html": [
       "'Ji, Nice to meet you Ji'"
      ],
      "text/latex": [
       "'Ji, Nice to meet you Ji'"
      ],
      "text/markdown": [
       "'Ji, Nice to meet you Ji'"
      ],
      "text/plain": [
       "[1] \"Ji, Nice to meet you Ji\""
      ]
     },
     "metadata": {},
     "output_type": "display_data"
    }
   ],
   "source": [
    "# str_replace() str_replace_all()\n",
    "msg <- \"Hi, Nice to meet you Hi\"\n",
    "str_replace(msg,\"Hi\",\"Ji\")\n",
    "str_replace_all(msg,\"Hi\",\"Ji\")"
   ]
  },
  {
   "cell_type": "code",
   "execution_count": 31,
   "id": "worldwide-saskatchewan",
   "metadata": {},
   "outputs": [
    {
     "data": {
      "text/html": [
       "' Nice to meet you Hi'"
      ],
      "text/latex": [
       "' Nice to meet you Hi'"
      ],
      "text/markdown": [
       "' Nice to meet you Hi'"
      ],
      "text/plain": [
       "[1] \" Nice to meet you Hi\""
      ]
     },
     "metadata": {},
     "output_type": "display_data"
    },
    {
     "data": {
      "text/html": [
       "' Nice to meet you Hi'"
      ],
      "text/latex": [
       "' Nice to meet you Hi'"
      ],
      "text/markdown": [
       "' Nice to meet you Hi'"
      ],
      "text/plain": [
       "[1] \" Nice to meet you Hi\""
      ]
     },
     "metadata": {},
     "output_type": "display_data"
    },
    {
     "data": {
      "text/html": [
       "'Hi, Nice to meet you Hi'"
      ],
      "text/latex": [
       "'Hi, Nice to meet you Hi'"
      ],
      "text/markdown": [
       "'Hi, Nice to meet you Hi'"
      ],
      "text/plain": [
       "[1] \"Hi, Nice to meet you Hi\""
      ]
     },
     "metadata": {},
     "output_type": "display_data"
    }
   ],
   "source": [
    "# str_remove() str_remove_all()\n",
    "msg <- \"Hi, Nice to meet you Hi\"\n",
    "str_remove(msg,\"Hi,\")\n",
    "str_remove_all(msg,\"Hi,\")\n",
    "\n",
    "msg2<- \"Hi2, Nice2 2to2 meet you Hi\"\n",
    "str_remove_all(msg,\"[0-9]+\") # 숫자 다 지워버려!"
   ]
  },
  {
   "cell_type": "code",
   "execution_count": 26,
   "id": "operating-internship",
   "metadata": {},
   "outputs": [
    {
     "data": {
      "text/html": [
       "'Hi'"
      ],
      "text/latex": [
       "'Hi'"
      ],
      "text/markdown": [
       "'Hi'"
      ],
      "text/plain": [
       "[1] \"Hi\""
      ]
     },
     "metadata": {},
     "output_type": "display_data"
    }
   ],
   "source": [
    "# str_sub()\n",
    "msg <- \"Hi, Nice to meet you Hi\"\n",
    "str_sub(msg,1,2)"
   ]
  },
  {
   "cell_type": "markdown",
   "id": "homeless-party",
   "metadata": {},
   "source": [
    "#### 정규표현식 연습"
   ]
  },
  {
   "cell_type": "code",
   "execution_count": 29,
   "id": "opened-greensboro",
   "metadata": {},
   "outputs": [
    {
     "data": {
      "text/html": [
       "<ol>\n",
       "\t<li>'jslim9413@naver.com'</li>\n",
       "</ol>\n"
      ],
      "text/latex": [
       "\\begin{enumerate}\n",
       "\\item 'jslim9413@naver.com'\n",
       "\\end{enumerate}\n"
      ],
      "text/markdown": [
       "1. 'jslim9413@naver.com'\n",
       "\n",
       "\n"
      ],
      "text/plain": [
       "[[1]]\n",
       "[1] \"jslim9413@naver.com\"\n"
      ]
     },
     "metadata": {},
     "output_type": "display_data"
    },
    {
     "data": {
      "text/html": [
       "<ol>\n",
       "\t<li></li>\n",
       "</ol>\n"
      ],
      "text/latex": [
       "\\begin{enumerate}\n",
       "\\item \n",
       "\\end{enumerate}\n"
      ],
      "text/markdown": [
       "1. \n",
       "\n",
       "\n"
      ],
      "text/plain": [
       "[[1]]\n",
       "character(0)\n"
      ]
     },
     "metadata": {},
     "output_type": "display_data"
    },
    {
     "data": {
      "text/html": [
       "<ol>\n",
       "\t<li>'jslim9413@naver.com'</li>\n",
       "</ol>\n"
      ],
      "text/latex": [
       "\\begin{enumerate}\n",
       "\\item 'jslim9413@naver.com'\n",
       "\\end{enumerate}\n"
      ],
      "text/markdown": [
       "1. 'jslim9413@naver.com'\n",
       "\n",
       "\n"
      ],
      "text/plain": [
       "[[1]]\n",
       "[1] \"jslim9413@naver.com\"\n"
      ]
     },
     "metadata": {},
     "output_type": "display_data"
    },
    {
     "data": {
      "text/html": [
       "<ol>\n",
       "\t<li>'jslim9413@naver.co.kr'</li>\n",
       "</ol>\n"
      ],
      "text/latex": [
       "\\begin{enumerate}\n",
       "\\item 'jslim9413@naver.co.kr'\n",
       "\\end{enumerate}\n"
      ],
      "text/markdown": [
       "1. 'jslim9413@naver.co.kr'\n",
       "\n",
       "\n"
      ],
      "text/plain": [
       "[[1]]\n",
       "[1] \"jslim9413@naver.co.kr\"\n"
      ]
     },
     "metadata": {},
     "output_type": "display_data"
    }
   ],
   "source": [
    "email<-\"jslim9413@naver.com\"\n",
    "email2<-\"jslim9413@naver.co.kr\"\n",
    "str_extract_all(email,'[\\\\w\\\\d]+@[\\\\w\\\\d]+.com')\n",
    "str_extract_all(email2,'[\\\\w\\\\d]+@[\\\\w\\\\d]+.com') # 검색 안된다\n",
    "str_extract_all(email,'[\\\\w\\\\d]+@[\\\\w\\\\d]+.(com|co.kr)')\n",
    "str_extract_all(email2,'[\\\\w\\\\d]+@[\\\\w\\\\d]+.(com|co.kr)')"
   ]
  },
  {
   "cell_type": "code",
   "execution_count": 33,
   "id": "driven-chemistry",
   "metadata": {},
   "outputs": [
    {
     "data": {
      "text/html": [
       "<ol>\n",
       "\t<li>'970318-1234567'</li>\n",
       "</ol>\n"
      ],
      "text/latex": [
       "\\begin{enumerate}\n",
       "\\item '970318-1234567'\n",
       "\\end{enumerate}\n"
      ],
      "text/markdown": [
       "1. '970318-1234567'\n",
       "\n",
       "\n"
      ],
      "text/plain": [
       "[[1]]\n",
       "[1] \"970318-1234567\"\n"
      ]
     },
     "metadata": {},
     "output_type": "display_data"
    },
    {
     "data": {
      "text/html": [
       "<ol>\n",
       "\t<li>'970318-1234567'</li>\n",
       "</ol>\n"
      ],
      "text/latex": [
       "\\begin{enumerate}\n",
       "\\item '970318-1234567'\n",
       "\\end{enumerate}\n"
      ],
      "text/markdown": [
       "1. '970318-1234567'\n",
       "\n",
       "\n"
      ],
      "text/plain": [
       "[[1]]\n",
       "[1] \"970318-1234567\"\n"
      ]
     },
     "metadata": {},
     "output_type": "display_data"
    }
   ],
   "source": [
    "ssn<-\"970318-1234567\"\n",
    "str_extract_all(ssn,'[0-9]{6}-[1-4][0-9]{6}')\n",
    "str_extract_all(ssn,'\\\\d{6}-[1-4]\\\\d{6}')"
   ]
  }
 ],
 "metadata": {
  "kernelspec": {
   "display_name": "R",
   "language": "R",
   "name": "ir"
  },
  "language_info": {
   "codemirror_mode": "r",
   "file_extension": ".r",
   "mimetype": "text/x-r-source",
   "name": "R",
   "pygments_lexer": "r",
   "version": "3.6.1"
  }
 },
 "nbformat": 4,
 "nbformat_minor": 5
}
