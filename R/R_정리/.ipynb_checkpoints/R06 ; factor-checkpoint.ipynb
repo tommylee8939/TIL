{
 "cells": [
  {
   "cell_type": "markdown",
   "id": "designing-dylan",
   "metadata": {},
   "source": [
    "## R06 : factor\n",
    "- 범주를 구분하는 목적으로 사용되는 타입을 팩터라고 한다\n",
    "- 중복되지 않은 범주값 즉 level을 사용하여 팩터를 만든다\n",
    "- 개념적으로는 레벨을 원소로하는 벡터다\n"
   ]
  },
  {
   "cell_type": "markdown",
   "id": "ideal-failure",
   "metadata": {},
   "source": [
    "#### factor 생성\n",
    "- level을 원소로\n",
    "- 내부적으로 레벨의 순서대로 대응하는 숫자로 저장한다; 차례대로 1 2 3...\n"
   ]
  },
  {
   "cell_type": "code",
   "execution_count": 5,
   "id": "distant-insulin",
   "metadata": {},
   "outputs": [
    {
     "data": {
      "text/html": [
       "<ol class=list-inline>\n",
       "\t<li>Mon</li>\n",
       "\t<li>Sat</li>\n",
       "\t<li>Mon</li>\n",
       "\t<li>Wed</li>\n",
       "\t<li>Fri</li>\n",
       "\t<li>Thur</li>\n",
       "</ol>\n",
       "\n",
       "<details>\n",
       "\t<summary style=display:list-item;cursor:pointer>\n",
       "\t\t<strong>Levels</strong>:\n",
       "\t</summary>\n",
       "\t<ol class=list-inline>\n",
       "\t\t<li>'Fri'</li>\n",
       "\t\t<li>'Mon'</li>\n",
       "\t\t<li>'Sat'</li>\n",
       "\t\t<li>'Thur'</li>\n",
       "\t\t<li>'Wed'</li>\n",
       "\t</ol>\n",
       "</details>"
      ],
      "text/latex": [
       "\\begin{enumerate*}\n",
       "\\item Mon\n",
       "\\item Sat\n",
       "\\item Mon\n",
       "\\item Wed\n",
       "\\item Fri\n",
       "\\item Thur\n",
       "\\end{enumerate*}\n",
       "\n",
       "\\emph{Levels}: \\begin{enumerate*}\n",
       "\\item 'Fri'\n",
       "\\item 'Mon'\n",
       "\\item 'Sat'\n",
       "\\item 'Thur'\n",
       "\\item 'Wed'\n",
       "\\end{enumerate*}\n"
      ],
      "text/markdown": [
       "1. Mon\n",
       "2. Sat\n",
       "3. Mon\n",
       "4. Wed\n",
       "5. Fri\n",
       "6. Thur\n",
       "\n",
       "\n",
       "\n",
       "**Levels**: 1. 'Fri'\n",
       "2. 'Mon'\n",
       "3. 'Sat'\n",
       "4. 'Thur'\n",
       "5. 'Wed'\n",
       "\n",
       "\n"
      ],
      "text/plain": [
       "[1] Mon  Sat  Mon  Wed  Fri  Thur\n",
       "Levels: Fri Mon Sat Thur Wed"
      ]
     },
     "metadata": {},
     "output_type": "display_data"
    }
   ],
   "source": [
    "days <- c(\"Mon\",\"Sat\",\"Mon\",\"Wed\",\"Fri\",\"Thur\")\n",
    "factor(days)\n",
    "#출력된 결과를 자세히 보면 더이상 \"\"로 감싸져 있지 않다 => 즉 level을 원소로 한다"
   ]
  },
  {
   "cell_type": "code",
   "execution_count": 7,
   "id": "royal-extraction",
   "metadata": {},
   "outputs": [
    {
     "data": {
      "text/html": [
       "<ol class=list-inline>\n",
       "\t<li>2</li>\n",
       "\t<li>3</li>\n",
       "\t<li>2</li>\n",
       "\t<li>5</li>\n",
       "\t<li>1</li>\n",
       "\t<li>4</li>\n",
       "</ol>\n"
      ],
      "text/latex": [
       "\\begin{enumerate*}\n",
       "\\item 2\n",
       "\\item 3\n",
       "\\item 2\n",
       "\\item 5\n",
       "\\item 1\n",
       "\\item 4\n",
       "\\end{enumerate*}\n"
      ],
      "text/markdown": [
       "1. 2\n",
       "2. 3\n",
       "3. 2\n",
       "4. 5\n",
       "5. 1\n",
       "6. 4\n",
       "\n",
       "\n"
      ],
      "text/plain": [
       "[1] 2 3 2 5 1 4"
      ]
     },
     "metadata": {},
     "output_type": "display_data"
    }
   ],
   "source": [
    "days <- c(\"Mon\",\"Sat\",\"Mon\",\"Wed\",\"Fri\",\"Thur\")\n",
    "days.factor <- factor(days)\n",
    "as.numeric(days.factor)"
   ]
  },
  {
   "cell_type": "code",
   "execution_count": 10,
   "id": "similar-semester",
   "metadata": {},
   "outputs": [
    {
     "name": "stdout",
     "output_type": "stream",
     "text": [
      " Factor w/ 5 levels \"Fri\",\"Mon\",\"Sat\",..: 2 3 2 5 1 4\n"
     ]
    }
   ],
   "source": [
    "days <- c(\"Mon\",\"Sat\",\"Mon\",\"Wed\",\"Fri\",\"Thur\")\n",
    "days.factor <- factor(days)\n",
    "str(days.factor) # 5개의 레벨이 있다"
   ]
  },
  {
   "cell_type": "markdown",
   "id": "pharmaceutical-leather",
   "metadata": {},
   "source": [
    "#### factor 혹은 level을 확인하는 방법\n",
    "- is.factor()\n",
    "- nlevels() 레벨의 갯수를 알려준다 \n",
    "- length() 레벨의 갯수를 알려준다 *주의\n",
    "- levels()  레벨을 다 돌려준다 (이때는 문자열 벡터겠지)"
   ]
  },
  {
   "cell_type": "code",
   "execution_count": 19,
   "id": "protected-distinction",
   "metadata": {},
   "outputs": [
    {
     "data": {
      "text/html": [
       "TRUE"
      ],
      "text/latex": [
       "TRUE"
      ],
      "text/markdown": [
       "TRUE"
      ],
      "text/plain": [
       "[1] TRUE"
      ]
     },
     "metadata": {},
     "output_type": "display_data"
    },
    {
     "data": {
      "text/html": [
       "5"
      ],
      "text/latex": [
       "5"
      ],
      "text/markdown": [
       "5"
      ],
      "text/plain": [
       "[1] 5"
      ]
     },
     "metadata": {},
     "output_type": "display_data"
    },
    {
     "data": {
      "text/html": [
       "<ol class=list-inline>\n",
       "\t<li>'Fri'</li>\n",
       "\t<li>'Mon'</li>\n",
       "\t<li>'Sat'</li>\n",
       "\t<li>'Thur'</li>\n",
       "\t<li>'Wed'</li>\n",
       "</ol>\n"
      ],
      "text/latex": [
       "\\begin{enumerate*}\n",
       "\\item 'Fri'\n",
       "\\item 'Mon'\n",
       "\\item 'Sat'\n",
       "\\item 'Thur'\n",
       "\\item 'Wed'\n",
       "\\end{enumerate*}\n"
      ],
      "text/markdown": [
       "1. 'Fri'\n",
       "2. 'Mon'\n",
       "3. 'Sat'\n",
       "4. 'Thur'\n",
       "5. 'Wed'\n",
       "\n",
       "\n"
      ],
      "text/plain": [
       "[1] \"Fri\"  \"Mon\"  \"Sat\"  \"Thur\" \"Wed\" "
      ]
     },
     "metadata": {},
     "output_type": "display_data"
    }
   ],
   "source": [
    "days <- c(\"Mon\",\"Sat\",\"Mon\",\"Wed\",\"Fri\",\"Thur\")\n",
    "days.factor <- factor(days)\n",
    "is.factor(days.factor)\n",
    "nlevels(days.factor) # length 랑 동일하다 => length쓴다고 전체 갯수 안나옴\n",
    "levels(days.factor)"
   ]
  },
  {
   "cell_type": "markdown",
   "id": "advised-installation",
   "metadata": {},
   "source": [
    "#### 내가 직접 level 을 지정해 줄 수도 있다\n",
    " - 1.때로는 데이터에 실제론 정의된 범주값이 다 나타나지 않을수도 있고\n",
    " - 2.범주값으로 정의되지 않은 데이터도 들어있을수 있다\n",
    " - 3.범주의 순서가 맘에 들지 않을 수도 있다"
   ]
  },
  {
   "cell_type": "markdown",
   "id": "noble-occurrence",
   "metadata": {},
   "source": [
    "#### 1. 범주값이 빠져있는 경우"
   ]
  },
  {
   "cell_type": "code",
   "execution_count": 13,
   "id": "resistant-tucson",
   "metadata": {},
   "outputs": [
    {
     "data": {
      "text/html": [
       "<ol class=list-inline>\n",
       "\t<li>Mon</li>\n",
       "\t<li>Sat</li>\n",
       "\t<li>Mon</li>\n",
       "\t<li>Wed</li>\n",
       "\t<li>Fri</li>\n",
       "\t<li>Thur</li>\n",
       "</ol>\n",
       "\n",
       "<details>\n",
       "\t<summary style=display:list-item;cursor:pointer>\n",
       "\t\t<strong>Levels</strong>:\n",
       "\t</summary>\n",
       "\t<ol class=list-inline>\n",
       "\t\t<li>'Mon'</li>\n",
       "\t\t<li>'Tue'</li>\n",
       "\t\t<li>'Wed'</li>\n",
       "\t\t<li>'Thur'</li>\n",
       "\t\t<li>'Fri'</li>\n",
       "\t\t<li>'Sat'</li>\n",
       "\t\t<li>'Sun'</li>\n",
       "\t</ol>\n",
       "</details>"
      ],
      "text/latex": [
       "\\begin{enumerate*}\n",
       "\\item Mon\n",
       "\\item Sat\n",
       "\\item Mon\n",
       "\\item Wed\n",
       "\\item Fri\n",
       "\\item Thur\n",
       "\\end{enumerate*}\n",
       "\n",
       "\\emph{Levels}: \\begin{enumerate*}\n",
       "\\item 'Mon'\n",
       "\\item 'Tue'\n",
       "\\item 'Wed'\n",
       "\\item 'Thur'\n",
       "\\item 'Fri'\n",
       "\\item 'Sat'\n",
       "\\item 'Sun'\n",
       "\\end{enumerate*}\n"
      ],
      "text/markdown": [
       "1. Mon\n",
       "2. Sat\n",
       "3. Mon\n",
       "4. Wed\n",
       "5. Fri\n",
       "6. Thur\n",
       "\n",
       "\n",
       "\n",
       "**Levels**: 1. 'Mon'\n",
       "2. 'Tue'\n",
       "3. 'Wed'\n",
       "4. 'Thur'\n",
       "5. 'Fri'\n",
       "6. 'Sat'\n",
       "7. 'Sun'\n",
       "\n",
       "\n"
      ],
      "text/plain": [
       "[1] Mon  Sat  Mon  Wed  Fri  Thur\n",
       "Levels: Mon Tue Wed Thur Fri Sat Sun"
      ]
     },
     "metadata": {},
     "output_type": "display_data"
    }
   ],
   "source": [
    "days <- c(\"Mon\",\"Sat\",\"Mon\",\"Wed\",\"Fri\",\"Thur\")\n",
    "#가만히 보니 화요일 어디갔어 ???? 일요일 어디갔어?\n",
    "days.factor <- factor(days,levels = c(\"Mon\",\"Tue\",\"Wed\",\"Thur\",\"Fri\",\"Sat\",\"Sun\"))\n",
    "days.factor"
   ]
  },
  {
   "cell_type": "markdown",
   "id": "atlantic-leonard",
   "metadata": {},
   "source": [
    "#### 2. 정의되지 않은 범주는 NA"
   ]
  },
  {
   "cell_type": "code",
   "execution_count": 15,
   "id": "lined-detroit",
   "metadata": {},
   "outputs": [
    {
     "data": {
      "text/html": [
       "<ol class=list-inline>\n",
       "\t<li>Mon</li>\n",
       "\t<li>Sat</li>\n",
       "\t<li>Mon</li>\n",
       "\t<li>Wed</li>\n",
       "\t<li>Fri</li>\n",
       "\t<li>Thur</li>\n",
       "\t<li>&lt;NA&gt;</li>\n",
       "</ol>\n",
       "\n",
       "<details>\n",
       "\t<summary style=display:list-item;cursor:pointer>\n",
       "\t\t<strong>Levels</strong>:\n",
       "\t</summary>\n",
       "\t<ol class=list-inline>\n",
       "\t\t<li>'Mon'</li>\n",
       "\t\t<li>'Tue'</li>\n",
       "\t\t<li>'Wed'</li>\n",
       "\t\t<li>'Thur'</li>\n",
       "\t\t<li>'Fri'</li>\n",
       "\t\t<li>'Sat'</li>\n",
       "\t\t<li>'Sun'</li>\n",
       "\t</ol>\n",
       "</details>"
      ],
      "text/latex": [
       "\\begin{enumerate*}\n",
       "\\item Mon\n",
       "\\item Sat\n",
       "\\item Mon\n",
       "\\item Wed\n",
       "\\item Fri\n",
       "\\item Thur\n",
       "\\item <NA>\n",
       "\\end{enumerate*}\n",
       "\n",
       "\\emph{Levels}: \\begin{enumerate*}\n",
       "\\item 'Mon'\n",
       "\\item 'Tue'\n",
       "\\item 'Wed'\n",
       "\\item 'Thur'\n",
       "\\item 'Fri'\n",
       "\\item 'Sat'\n",
       "\\item 'Sun'\n",
       "\\end{enumerate*}\n"
      ],
      "text/markdown": [
       "1. Mon\n",
       "2. Sat\n",
       "3. Mon\n",
       "4. Wed\n",
       "5. Fri\n",
       "6. Thur\n",
       "7. &lt;NA&gt;\n",
       "\n",
       "\n",
       "\n",
       "**Levels**: 1. 'Mon'\n",
       "2. 'Tue'\n",
       "3. 'Wed'\n",
       "4. 'Thur'\n",
       "5. 'Fri'\n",
       "6. 'Sat'\n",
       "7. 'Sun'\n",
       "\n",
       "\n"
      ],
      "text/plain": [
       "[1] Mon  Sat  Mon  Wed  Fri  Thur <NA>\n",
       "Levels: Mon Tue Wed Thur Fri Sat Sun"
      ]
     },
     "metadata": {},
     "output_type": "display_data"
    }
   ],
   "source": [
    "days <- c(\"Mon\",\"Sat\",\"Mon\",\"Wed\",\"Fri\",\"Thur\",\"1999\")\n",
    "#가만히 보니 1999 너는 모니?\n",
    "days.factor <- factor(days,levels = c(\"Mon\",\"Tue\",\"Wed\",\"Thur\",\"Fri\",\"Sat\",\"Sun\"))\n",
    "days.factor"
   ]
  },
  {
   "cell_type": "markdown",
   "id": "variable-nightmare",
   "metadata": {},
   "source": [
    "#### 3. 범주의 순서 : levels 옵션을 지정해준 그대로 순서가 된다"
   ]
  },
  {
   "cell_type": "code",
   "execution_count": 18,
   "id": "pursuant-intake",
   "metadata": {},
   "outputs": [
    {
     "data": {
      "text/html": [
       "<ol class=list-inline>\n",
       "\t<li>Mon</li>\n",
       "\t<li>Sat</li>\n",
       "\t<li>Mon</li>\n",
       "\t<li>Wed</li>\n",
       "\t<li>Fri</li>\n",
       "\t<li>Thur</li>\n",
       "\t<li>Tue</li>\n",
       "\t<li>Sun</li>\n",
       "</ol>\n",
       "\n",
       "<details>\n",
       "\t<summary style=display:list-item;cursor:pointer>\n",
       "\t\t<strong>Levels</strong>:\n",
       "\t</summary>\n",
       "\t<ol class=list-inline>\n",
       "\t\t<li>'Fri'</li>\n",
       "\t\t<li>'Mon'</li>\n",
       "\t\t<li>'Sat'</li>\n",
       "\t\t<li>'Sun'</li>\n",
       "\t\t<li>'Thur'</li>\n",
       "\t\t<li>'Tue'</li>\n",
       "\t\t<li>'Wed'</li>\n",
       "\t</ol>\n",
       "</details>"
      ],
      "text/latex": [
       "\\begin{enumerate*}\n",
       "\\item Mon\n",
       "\\item Sat\n",
       "\\item Mon\n",
       "\\item Wed\n",
       "\\item Fri\n",
       "\\item Thur\n",
       "\\item Tue\n",
       "\\item Sun\n",
       "\\end{enumerate*}\n",
       "\n",
       "\\emph{Levels}: \\begin{enumerate*}\n",
       "\\item 'Fri'\n",
       "\\item 'Mon'\n",
       "\\item 'Sat'\n",
       "\\item 'Sun'\n",
       "\\item 'Thur'\n",
       "\\item 'Tue'\n",
       "\\item 'Wed'\n",
       "\\end{enumerate*}\n"
      ],
      "text/markdown": [
       "1. Mon\n",
       "2. Sat\n",
       "3. Mon\n",
       "4. Wed\n",
       "5. Fri\n",
       "6. Thur\n",
       "7. Tue\n",
       "8. Sun\n",
       "\n",
       "\n",
       "\n",
       "**Levels**: 1. 'Fri'\n",
       "2. 'Mon'\n",
       "3. 'Sat'\n",
       "4. 'Sun'\n",
       "5. 'Thur'\n",
       "6. 'Tue'\n",
       "7. 'Wed'\n",
       "\n",
       "\n"
      ],
      "text/plain": [
       "[1] Mon  Sat  Mon  Wed  Fri  Thur Tue  Sun \n",
       "Levels: Fri Mon Sat Sun Thur Tue Wed"
      ]
     },
     "metadata": {},
     "output_type": "display_data"
    },
    {
     "data": {
      "text/html": [
       "<ol class=list-inline>\n",
       "\t<li>Mon</li>\n",
       "\t<li>Sat</li>\n",
       "\t<li>Mon</li>\n",
       "\t<li>Wed</li>\n",
       "\t<li>Fri</li>\n",
       "\t<li>Thur</li>\n",
       "\t<li>Tue</li>\n",
       "\t<li>Sun</li>\n",
       "</ol>\n",
       "\n",
       "<details>\n",
       "\t<summary style=display:list-item;cursor:pointer>\n",
       "\t\t<strong>Levels</strong>:\n",
       "\t</summary>\n",
       "\t<ol class=list-inline>\n",
       "\t\t<li>'Mon'</li>\n",
       "\t\t<li>'Tue'</li>\n",
       "\t\t<li>'Wed'</li>\n",
       "\t\t<li>'Thur'</li>\n",
       "\t\t<li>'Fri'</li>\n",
       "\t\t<li>'Sat'</li>\n",
       "\t\t<li>'Sun'</li>\n",
       "\t</ol>\n",
       "</details>"
      ],
      "text/latex": [
       "\\begin{enumerate*}\n",
       "\\item Mon\n",
       "\\item Sat\n",
       "\\item Mon\n",
       "\\item Wed\n",
       "\\item Fri\n",
       "\\item Thur\n",
       "\\item Tue\n",
       "\\item Sun\n",
       "\\end{enumerate*}\n",
       "\n",
       "\\emph{Levels}: \\begin{enumerate*}\n",
       "\\item 'Mon'\n",
       "\\item 'Tue'\n",
       "\\item 'Wed'\n",
       "\\item 'Thur'\n",
       "\\item 'Fri'\n",
       "\\item 'Sat'\n",
       "\\item 'Sun'\n",
       "\\end{enumerate*}\n"
      ],
      "text/markdown": [
       "1. Mon\n",
       "2. Sat\n",
       "3. Mon\n",
       "4. Wed\n",
       "5. Fri\n",
       "6. Thur\n",
       "7. Tue\n",
       "8. Sun\n",
       "\n",
       "\n",
       "\n",
       "**Levels**: 1. 'Mon'\n",
       "2. 'Tue'\n",
       "3. 'Wed'\n",
       "4. 'Thur'\n",
       "5. 'Fri'\n",
       "6. 'Sat'\n",
       "7. 'Sun'\n",
       "\n",
       "\n"
      ],
      "text/plain": [
       "[1] Mon  Sat  Mon  Wed  Fri  Thur Tue  Sun \n",
       "Levels: Mon Tue Wed Thur Fri Sat Sun"
      ]
     },
     "metadata": {},
     "output_type": "display_data"
    }
   ],
   "source": [
    "days <- c(\"Mon\",\"Sat\",\"Mon\",\"Wed\",\"Fri\",\"Thur\",\"Tue\",\"Sun\")\n",
    "days.factor <- factor(days)\n",
    "days.factor # levels의 순서가 맘에 들지 않는다\n",
    "days.factor <- factor(days,levels = c(\"Mon\",\"Tue\",\"Wed\",\"Thur\",\"Fri\",\"Sat\",\"Sun\")) # 순서지정도 ok\n",
    "days.factor"
   ]
  },
  {
   "cell_type": "markdown",
   "id": "insured-expansion",
   "metadata": {},
   "source": [
    "#### levels의 이름을 바꿀수 있다 \n",
    "- 언제?\n",
    "    - 1.levels가 크게 의미가 없는 경우\n",
    "    - 2.맘에 들지 않는 경우\n",
    "- label 옵션을 통해 가능\n",
    "    - 기존의 levels의 순서를 반드시 고려해야한다\n",
    "    - 내부적으로 저장된 숫자는 동일하겠지만 보여지는 범주가 바뀐다"
   ]
  },
  {
   "cell_type": "code",
   "execution_count": 29,
   "id": "young-studio",
   "metadata": {},
   "outputs": [
    {
     "data": {
      "text/html": [
       "<ol class=list-inline>\n",
       "\t<li>1</li>\n",
       "\t<li>2</li>\n",
       "\t<li>1</li>\n",
       "\t<li>2</li>\n",
       "\t<li>1</li>\n",
       "\t<li>1</li>\n",
       "\t<li>1</li>\n",
       "\t<li>2</li>\n",
       "\t<li>2</li>\n",
       "</ol>\n",
       "\n",
       "<details>\n",
       "\t<summary style=display:list-item;cursor:pointer>\n",
       "\t\t<strong>Levels</strong>:\n",
       "\t</summary>\n",
       "\t<ol class=list-inline>\n",
       "\t\t<li>'1'</li>\n",
       "\t\t<li>'2'</li>\n",
       "\t</ol>\n",
       "</details>"
      ],
      "text/latex": [
       "\\begin{enumerate*}\n",
       "\\item 1\n",
       "\\item 2\n",
       "\\item 1\n",
       "\\item 2\n",
       "\\item 1\n",
       "\\item 1\n",
       "\\item 1\n",
       "\\item 2\n",
       "\\item 2\n",
       "\\end{enumerate*}\n",
       "\n",
       "\\emph{Levels}: \\begin{enumerate*}\n",
       "\\item '1'\n",
       "\\item '2'\n",
       "\\end{enumerate*}\n"
      ],
      "text/markdown": [
       "1. 1\n",
       "2. 2\n",
       "3. 1\n",
       "4. 2\n",
       "5. 1\n",
       "6. 1\n",
       "7. 1\n",
       "8. 2\n",
       "9. 2\n",
       "\n",
       "\n",
       "\n",
       "**Levels**: 1. '1'\n",
       "2. '2'\n",
       "\n",
       "\n"
      ],
      "text/plain": [
       "[1] 1 2 1 2 1 1 1 2 2\n",
       "Levels: 1 2"
      ]
     },
     "metadata": {},
     "output_type": "display_data"
    },
    {
     "data": {
      "text/html": [
       "<ol class=list-inline>\n",
       "\t<li>M</li>\n",
       "\t<li>F</li>\n",
       "\t<li>M</li>\n",
       "\t<li>F</li>\n",
       "\t<li>M</li>\n",
       "\t<li>M</li>\n",
       "\t<li>M</li>\n",
       "\t<li>F</li>\n",
       "\t<li>F</li>\n",
       "</ol>\n",
       "\n",
       "<details>\n",
       "\t<summary style=display:list-item;cursor:pointer>\n",
       "\t\t<strong>Levels</strong>:\n",
       "\t</summary>\n",
       "\t<ol class=list-inline>\n",
       "\t\t<li>'M'</li>\n",
       "\t\t<li>'F'</li>\n",
       "\t</ol>\n",
       "</details>"
      ],
      "text/latex": [
       "\\begin{enumerate*}\n",
       "\\item M\n",
       "\\item F\n",
       "\\item M\n",
       "\\item F\n",
       "\\item M\n",
       "\\item M\n",
       "\\item M\n",
       "\\item F\n",
       "\\item F\n",
       "\\end{enumerate*}\n",
       "\n",
       "\\emph{Levels}: \\begin{enumerate*}\n",
       "\\item 'M'\n",
       "\\item 'F'\n",
       "\\end{enumerate*}\n"
      ],
      "text/markdown": [
       "1. M\n",
       "2. F\n",
       "3. M\n",
       "4. F\n",
       "5. M\n",
       "6. M\n",
       "7. M\n",
       "8. F\n",
       "9. F\n",
       "\n",
       "\n",
       "\n",
       "**Levels**: 1. 'M'\n",
       "2. 'F'\n",
       "\n",
       "\n"
      ],
      "text/plain": [
       "[1] M F M F M M M F F\n",
       "Levels: M F"
      ]
     },
     "metadata": {},
     "output_type": "display_data"
    }
   ],
   "source": [
    "sex <- c(1,2,1,2,1,1,1,2,2)\n",
    "factor(sex)\n",
    "\n",
    "sex <- c(1,2,1,2,1,1,1,2,2)\n",
    "factor(sex,label=c(\"M\",\"F\"))"
   ]
  },
  {
   "cell_type": "code",
   "execution_count": 35,
   "id": "distinct-replica",
   "metadata": {},
   "outputs": [
    {
     "data": {
      "text/html": [
       "<ol class=list-inline>\n",
       "\t<li>월</li>\n",
       "\t<li>토</li>\n",
       "\t<li>월</li>\n",
       "\t<li>수</li>\n",
       "\t<li>금</li>\n",
       "\t<li>목</li>\n",
       "</ol>\n",
       "\n",
       "<details>\n",
       "\t<summary style=display:list-item;cursor:pointer>\n",
       "\t\t<strong>Levels</strong>:\n",
       "\t</summary>\n",
       "\t<ol class=list-inline>\n",
       "\t\t<li>'월'</li>\n",
       "\t\t<li>'화'</li>\n",
       "\t\t<li>'수'</li>\n",
       "\t\t<li>'목'</li>\n",
       "\t\t<li>'금'</li>\n",
       "\t\t<li>'토'</li>\n",
       "\t\t<li>'일'</li>\n",
       "\t</ol>\n",
       "</details>"
      ],
      "text/latex": [
       "\\begin{enumerate*}\n",
       "\\item 월\n",
       "\\item 토\n",
       "\\item 월\n",
       "\\item 수\n",
       "\\item 금\n",
       "\\item 목\n",
       "\\end{enumerate*}\n",
       "\n",
       "\\emph{Levels}: \\begin{enumerate*}\n",
       "\\item '월'\n",
       "\\item '화'\n",
       "\\item '수'\n",
       "\\item '목'\n",
       "\\item '금'\n",
       "\\item '토'\n",
       "\\item '일'\n",
       "\\end{enumerate*}\n"
      ],
      "text/markdown": [
       "1. 월\n",
       "2. 토\n",
       "3. 월\n",
       "4. 수\n",
       "5. 금\n",
       "6. 목\n",
       "\n",
       "\n",
       "\n",
       "**Levels**: 1. '월'\n",
       "2. '화'\n",
       "3. '수'\n",
       "4. '목'\n",
       "5. '금'\n",
       "6. '토'\n",
       "7. '일'\n",
       "\n",
       "\n"
      ],
      "text/plain": [
       "[1] 월 토 월 수 금 목\n",
       "Levels: 월 화 수 목 금 토 일"
      ]
     },
     "metadata": {},
     "output_type": "display_data"
    }
   ],
   "source": [
    "# 영어가 싫다  => 한들로 바꿔줘 \n",
    "days <- c(\"Mon\",\"Sat\",\"Mon\",\"Wed\",\"Fri\",\"Thur\")\n",
    "days.factor <- factor(days,levels = c(\"Mon\",\"Tue\",\"Wed\",\"Thur\",\"Fri\",\"Sat\",\"Sun\"),\n",
    "                     label = c(\"월\", \"화\", \"수\", \"목\", \"금\", \"토\",\"일\"))\n",
    "\n",
    "days.factor"
   ]
  },
  {
   "cell_type": "markdown",
   "id": "surprising-deadline",
   "metadata": {},
   "source": [
    "#### ordered factor (서열 팩터)\n",
    "- 팩터와 다른점이 크게 없다\n",
    "- 단지 level이 크기순으로 표현될 뿐이다\n",
    "- ordered 옵션, ordered함수로 만들수 있다"
   ]
  },
  {
   "cell_type": "code",
   "execution_count": 25,
   "id": "stupid-limit",
   "metadata": {},
   "outputs": [
    {
     "data": {
      "text/html": [
       "<ol class=list-inline>\n",
       "\t<li>s</li>\n",
       "\t<li>m</li>\n",
       "\t<li>s</li>\n",
       "\t<li>l</li>\n",
       "\t<li>s</li>\n",
       "\t<li>xl</li>\n",
       "</ol>\n",
       "\n",
       "<details>\n",
       "\t<summary style=display:list-item;cursor:pointer>\n",
       "\t\t<strong>Levels</strong>:\n",
       "\t</summary>\n",
       "\t<ol class=list-inline>\n",
       "\t\t<li>'s'</li>\n",
       "\t\t<li>'m'</li>\n",
       "\t\t<li>'l'</li>\n",
       "\t\t<li>'xl'</li>\n",
       "\t</ol>\n",
       "</details>"
      ],
      "text/latex": [
       "\\begin{enumerate*}\n",
       "\\item s\n",
       "\\item m\n",
       "\\item s\n",
       "\\item l\n",
       "\\item s\n",
       "\\item xl\n",
       "\\end{enumerate*}\n",
       "\n",
       "\\emph{Levels}: \\begin{enumerate*}\n",
       "\\item 's'\n",
       "\\item 'm'\n",
       "\\item 'l'\n",
       "\\item 'xl'\n",
       "\\end{enumerate*}\n"
      ],
      "text/markdown": [
       "1. s\n",
       "2. m\n",
       "3. s\n",
       "4. l\n",
       "5. s\n",
       "6. xl\n",
       "\n",
       "\n",
       "\n",
       "**Levels**: 1. 's'\n",
       "2. 'm'\n",
       "3. 'l'\n",
       "4. 'xl'\n",
       "\n",
       "\n"
      ],
      "text/plain": [
       "[1] s  m  s  l  s  xl\n",
       "Levels: s m l xl"
      ]
     },
     "metadata": {},
     "output_type": "display_data"
    },
    {
     "data": {
      "text/html": [
       "<ol class=list-inline>\n",
       "\t<li>s</li>\n",
       "\t<li>m</li>\n",
       "\t<li>s</li>\n",
       "\t<li>l</li>\n",
       "\t<li>s</li>\n",
       "\t<li>xl</li>\n",
       "</ol>\n",
       "\n",
       "<details>\n",
       "\t<summary style=display:list-item;cursor:pointer>\n",
       "\t\t<strong>Levels</strong>:\n",
       "\t</summary>\n",
       "\t<ol class=list-inline>\n",
       "\t\t<li>'s'</li>\n",
       "\t\t<li>'m'</li>\n",
       "\t\t<li>'l'</li>\n",
       "\t\t<li>'xl'</li>\n",
       "\t</ol>\n",
       "</details>"
      ],
      "text/latex": [
       "\\begin{enumerate*}\n",
       "\\item s\n",
       "\\item m\n",
       "\\item s\n",
       "\\item l\n",
       "\\item s\n",
       "\\item xl\n",
       "\\end{enumerate*}\n",
       "\n",
       "\\emph{Levels}: \\begin{enumerate*}\n",
       "\\item 's'\n",
       "\\item 'm'\n",
       "\\item 'l'\n",
       "\\item 'xl'\n",
       "\\end{enumerate*}\n"
      ],
      "text/markdown": [
       "1. s\n",
       "2. m\n",
       "3. s\n",
       "4. l\n",
       "5. s\n",
       "6. xl\n",
       "\n",
       "\n",
       "\n",
       "**Levels**: 1. 's'\n",
       "2. 'm'\n",
       "3. 'l'\n",
       "4. 'xl'\n",
       "\n",
       "\n"
      ],
      "text/plain": [
       "[1] s  m  s  l  s  xl\n",
       "Levels: s < m < l < xl"
      ]
     },
     "metadata": {},
     "output_type": "display_data"
    },
    {
     "data": {
      "text/html": [
       "<ol class=list-inline>\n",
       "\t<li>s</li>\n",
       "\t<li>m</li>\n",
       "\t<li>s</li>\n",
       "\t<li>l</li>\n",
       "\t<li>s</li>\n",
       "\t<li>xl</li>\n",
       "</ol>\n",
       "\n",
       "<details>\n",
       "\t<summary style=display:list-item;cursor:pointer>\n",
       "\t\t<strong>Levels</strong>:\n",
       "\t</summary>\n",
       "\t<ol class=list-inline>\n",
       "\t\t<li>'s'</li>\n",
       "\t\t<li>'m'</li>\n",
       "\t\t<li>'l'</li>\n",
       "\t\t<li>'xl'</li>\n",
       "\t</ol>\n",
       "</details>"
      ],
      "text/latex": [
       "\\begin{enumerate*}\n",
       "\\item s\n",
       "\\item m\n",
       "\\item s\n",
       "\\item l\n",
       "\\item s\n",
       "\\item xl\n",
       "\\end{enumerate*}\n",
       "\n",
       "\\emph{Levels}: \\begin{enumerate*}\n",
       "\\item 's'\n",
       "\\item 'm'\n",
       "\\item 'l'\n",
       "\\item 'xl'\n",
       "\\end{enumerate*}\n"
      ],
      "text/markdown": [
       "1. s\n",
       "2. m\n",
       "3. s\n",
       "4. l\n",
       "5. s\n",
       "6. xl\n",
       "\n",
       "\n",
       "\n",
       "**Levels**: 1. 's'\n",
       "2. 'm'\n",
       "3. 'l'\n",
       "4. 'xl'\n",
       "\n",
       "\n"
      ],
      "text/plain": [
       "[1] s  m  s  l  s  xl\n",
       "Levels: s < m < l < xl"
      ]
     },
     "metadata": {},
     "output_type": "display_data"
    }
   ],
   "source": [
    "# 쥬피터 노트북에서는 이 차이가 잘 안보이네 ㅠㅠ\n",
    "size <- c(\"s\",\"m\",\"s\",\"l\",\"s\",\"xl\")\n",
    "size.factor <- factor(size,levels = c('s','m','l','xl'))\n",
    "size.factor \n",
    "ordered(size.factor)\n",
    "size.factor <- factor(size,levels = c('s','m','l','xl'),ordered = T)\n",
    "size.factor \n"
   ]
  },
  {
   "cell_type": "markdown",
   "id": "arctic-protocol",
   "metadata": {},
   "source": [
    "#### table함수"
   ]
  },
  {
   "cell_type": "code",
   "execution_count": 1,
   "id": "expanded-feeling",
   "metadata": {},
   "outputs": [
    {
     "name": "stdout",
     "output_type": "stream",
     "text": [
      "size.factor\n",
      " s  m  l xl \n",
      " 3  1  1  1 \n",
      "size.factor.ordered\n",
      " s  m  l xl \n",
      " 3  1  1  1 \n"
     ]
    }
   ],
   "source": [
    "size <- c(\"s\",\"m\",\"s\",\"l\",\"s\",\"xl\")\n",
    "size.factor <- factor(size,levels = c('s','m','l','xl'))\n",
    "size.factor.ordered <- factor(size,levels = c('s','m','l','xl'),ordered = T)\n",
    "\n",
    "print(table(size.factor))\n",
    "print(table(size.factor.ordered))"
   ]
  }
 ],
 "metadata": {
  "kernelspec": {
   "display_name": "R",
   "language": "R",
   "name": "ir"
  },
  "language_info": {
   "codemirror_mode": "r",
   "file_extension": ".r",
   "mimetype": "text/x-r-source",
   "name": "R",
   "pygments_lexer": "r",
   "version": "3.6.1"
  }
 },
 "nbformat": 4,
 "nbformat_minor": 5
}
