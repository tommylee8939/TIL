{
 "cells": [
  {
   "cell_type": "markdown",
   "id": "found-olympus",
   "metadata": {},
   "source": [
    "## R09 ; 데이터 프레임에서 유용한 함수들"
   ]
  },
  {
   "cell_type": "markdown",
   "id": "automotive-barrier",
   "metadata": {},
   "source": [
    "#### 1. ifelse( )"
   ]
  },
  {
   "cell_type": "markdown",
   "id": "female-burke",
   "metadata": {},
   "source": [
    "#### 2. which( )"
   ]
  },
  {
   "cell_type": "markdown",
   "id": "diagnostic-preparation",
   "metadata": {},
   "source": [
    "#### 3. with( ) within()\n",
    "- \\$ 표시 많이 쓰면 손 아프다\n",
    "- with( ) : 주로 값을 읽을때\n",
    "- within( ) : 필드의 값을 수정할때"
   ]
  },
  {
   "cell_type": "markdown",
   "id": "median-theme",
   "metadata": {},
   "source": [
    "#### 4. subset( )"
   ]
  },
  {
   "cell_type": "markdown",
   "id": "sorted-grenada",
   "metadata": {},
   "source": [
    "#### 5. lapply( )"
   ]
  },
  {
   "cell_type": "markdown",
   "id": "settled-jenny",
   "metadata": {},
   "source": [
    "#### 6. sapply( )"
   ]
  },
  {
   "cell_type": "markdown",
   "id": "spare-placement",
   "metadata": {},
   "source": [
    "#### 7. tapply( )"
   ]
  },
  {
   "cell_type": "markdown",
   "id": "chinese-advocacy",
   "metadata": {},
   "source": [
    "#### 8. aggregate ( )"
   ]
  }
 ],
 "metadata": {
  "kernelspec": {
   "display_name": "R",
   "language": "R",
   "name": "ir"
  },
  "language_info": {
   "codemirror_mode": "r",
   "file_extension": ".r",
   "mimetype": "text/x-r-source",
   "name": "R",
   "pygments_lexer": "r",
   "version": "3.6.1"
  }
 },
 "nbformat": 4,
 "nbformat_minor": 5
}
