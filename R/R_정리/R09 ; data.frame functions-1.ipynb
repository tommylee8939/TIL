{
 "cells": [
  {
   "cell_type": "markdown",
   "id": "outside-skirt",
   "metadata": {},
   "source": [
    "## R09 ; 데이터 프레임에서 유용한 함수들"
   ]
  },
  {
   "cell_type": "markdown",
   "id": "coated-wrong",
   "metadata": {},
   "source": [
    "#### 1. ifelse( )"
   ]
  },
  {
   "cell_type": "code",
   "execution_count": 3,
   "id": "stone-klein",
   "metadata": {},
   "outputs": [
    {
     "data": {
      "text/html": [
       "<table>\n",
       "<thead><tr><th scope=col>val</th></tr></thead>\n",
       "<tbody>\n",
       "\t<tr><td>1</td></tr>\n",
       "\t<tr><td>2</td></tr>\n",
       "\t<tr><td>3</td></tr>\n",
       "\t<tr><td>4</td></tr>\n",
       "\t<tr><td>3</td></tr>\n",
       "\t<tr><td>5</td></tr>\n",
       "\t<tr><td>3</td></tr>\n",
       "</tbody>\n",
       "</table>\n"
      ],
      "text/latex": [
       "\\begin{tabular}{r|l}\n",
       " val\\\\\n",
       "\\hline\n",
       "\t 1\\\\\n",
       "\t 2\\\\\n",
       "\t 3\\\\\n",
       "\t 4\\\\\n",
       "\t 3\\\\\n",
       "\t 5\\\\\n",
       "\t 3\\\\\n",
       "\\end{tabular}\n"
      ],
      "text/markdown": [
       "\n",
       "| val |\n",
       "|---|\n",
       "| 1 |\n",
       "| 2 |\n",
       "| 3 |\n",
       "| 4 |\n",
       "| 3 |\n",
       "| 5 |\n",
       "| 3 |\n",
       "\n"
      ],
      "text/plain": [
       "  val\n",
       "1 1  \n",
       "2 2  \n",
       "3 3  \n",
       "4 4  \n",
       "5 3  \n",
       "6 5  \n",
       "7 3  "
      ]
     },
     "metadata": {},
     "output_type": "display_data"
    }
   ],
   "source": [
    "df01<-data.frame(val=c(1,2,3,4,NA,5,NA))\n",
    "df01$val <- ifelse(is.na(df01$val),mean(df01$val,na.rm = T),df01$val) \n",
    "#df01$val[is.na(df01$val)]<-mean(df01$val,na.rm = T)\n",
    "df01"
   ]
  },
  {
   "cell_type": "markdown",
   "id": "mexican-skill",
   "metadata": {},
   "source": [
    "#### 2. which( )"
   ]
  },
  {
   "cell_type": "code",
   "execution_count": 6,
   "id": "second-advertiser",
   "metadata": {},
   "outputs": [
    {
     "data": {
      "text/html": [
       "<table>\n",
       "<thead><tr><th scope=col>val</th><th scope=col>location</th></tr></thead>\n",
       "<tbody>\n",
       "\t<tr><td>1   </td><td>경기</td></tr>\n",
       "</tbody>\n",
       "</table>\n"
      ],
      "text/latex": [
       "\\begin{tabular}{r|ll}\n",
       " val & location\\\\\n",
       "\\hline\n",
       "\t 1    & 경기\\\\\n",
       "\\end{tabular}\n"
      ],
      "text/markdown": [
       "\n",
       "| val | location |\n",
       "|---|---|\n",
       "| 1    | 경기 |\n",
       "\n"
      ],
      "text/plain": [
       "  val location\n",
       "1 1   경기    "
      ]
     },
     "metadata": {},
     "output_type": "display_data"
    }
   ],
   "source": [
    "df01<-data.frame(val=c(1,2,3,4,NA,5,NA),location=c(\"경기\",\"서울\",\"인천\",\"대구\",\"부산\",\"대전\",\"울산\"))\n",
    "row.number <- which(df01$location==\"경기\")\n",
    "#지역이 경기인것만 출력\n",
    "df01[row.number,]"
   ]
  },
  {
   "cell_type": "code",
   "execution_count": 4,
   "id": "cellular-subject",
   "metadata": {},
   "outputs": [
    {
     "data": {
      "text/html": [
       "10"
      ],
      "text/latex": [
       "10"
      ],
      "text/markdown": [
       "10"
      ],
      "text/plain": [
       "[1] 10"
      ]
     },
     "metadata": {},
     "output_type": "display_data"
    },
    {
     "data": {
      "text/html": [
       "1"
      ],
      "text/latex": [
       "1"
      ],
      "text/markdown": [
       "1"
      ],
      "text/plain": [
       "[1] 1"
      ]
     },
     "metadata": {},
     "output_type": "display_data"
    },
    {
     "data": {
      "text/html": [
       "1"
      ],
      "text/latex": [
       "1"
      ],
      "text/markdown": [
       "1"
      ],
      "text/plain": [
       "[1] 1"
      ]
     },
     "metadata": {},
     "output_type": "display_data"
    },
    {
     "data": {
      "text/html": [
       "10"
      ],
      "text/latex": [
       "10"
      ],
      "text/markdown": [
       "10"
      ],
      "text/plain": [
       "[1] 10"
      ]
     },
     "metadata": {},
     "output_type": "display_data"
    }
   ],
   "source": [
    "# 파생적으로 which.max which.min 도 있다\n",
    "x<- c(10:1)\n",
    "which.min(x) # index \n",
    "which.max(x)\n",
    "x[which.min(x)]\n",
    "x[which.max(x)]"
   ]
  },
  {
   "cell_type": "markdown",
   "id": "through-armenia",
   "metadata": {},
   "source": [
    "#### 3. with( ) within()\n",
    "- \\$ 표시 많이 쓰면 손 아프다\n",
    "- with( ) : 주로 값을 읽을때\n",
    "- within( ) : 필드의 값을 수정할때"
   ]
  },
  {
   "cell_type": "code",
   "execution_count": 1,
   "id": "associate-science",
   "metadata": {},
   "outputs": [
    {
     "name": "stdout",
     "output_type": "stream",
     "text": [
      "[1] 5.843333\n",
      "[1] 3.057333\n"
     ]
    }
   ],
   "source": [
    "with(iris,{ \n",
    "    print(mean(Sepal.Length))\n",
    "    print(mean(Sepal.Width)) \n",
    "})"
   ]
  },
  {
   "cell_type": "code",
   "execution_count": 8,
   "id": "comprehensive-chick",
   "metadata": {},
   "outputs": [
    {
     "data": {
      "text/html": [
       "<table>\n",
       "<thead><tr><th scope=col>val</th><th scope=col>location</th></tr></thead>\n",
       "<tbody>\n",
       "\t<tr><td>1   </td><td>경기</td></tr>\n",
       "\t<tr><td>2   </td><td>서울</td></tr>\n",
       "\t<tr><td>3   </td><td>인천</td></tr>\n",
       "\t<tr><td>4   </td><td>대구</td></tr>\n",
       "\t<tr><td>3   </td><td>부산</td></tr>\n",
       "\t<tr><td>5   </td><td>대전</td></tr>\n",
       "\t<tr><td>3   </td><td>울산</td></tr>\n",
       "</tbody>\n",
       "</table>\n"
      ],
      "text/latex": [
       "\\begin{tabular}{r|ll}\n",
       " val & location\\\\\n",
       "\\hline\n",
       "\t 1    & 경기\\\\\n",
       "\t 2    & 서울\\\\\n",
       "\t 3    & 인천\\\\\n",
       "\t 4    & 대구\\\\\n",
       "\t 3    & 부산\\\\\n",
       "\t 5    & 대전\\\\\n",
       "\t 3    & 울산\\\\\n",
       "\\end{tabular}\n"
      ],
      "text/markdown": [
       "\n",
       "| val | location |\n",
       "|---|---|\n",
       "| 1    | 경기 |\n",
       "| 2    | 서울 |\n",
       "| 3    | 인천 |\n",
       "| 4    | 대구 |\n",
       "| 3    | 부산 |\n",
       "| 5    | 대전 |\n",
       "| 3    | 울산 |\n",
       "\n"
      ],
      "text/plain": [
       "  val location\n",
       "1 1   경기    \n",
       "2 2   서울    \n",
       "3 3   인천    \n",
       "4 4   대구    \n",
       "5 3   부산    \n",
       "6 5   대전    \n",
       "7 3   울산    "
      ]
     },
     "metadata": {},
     "output_type": "display_data"
    }
   ],
   "source": [
    "df01<-data.frame(val=c(1,2,3,4,NA,5,NA),location=c(\"경기\",\"서울\",\"인천\",\"대구\",\"부산\",\"대전\",\"울산\"))\n",
    "#df01$val <- ifelse(is.na(df01$val),mean(df01$val,na.rm = T),df01$val) \n",
    "within(df01,val<-ifelse(is.na(val),mean(val,na.rm = T),val)) # 좀더 간략해 보인다"
   ]
  },
  {
   "cell_type": "markdown",
   "id": "decent-spell",
   "metadata": {},
   "source": [
    "#### 4. subset(data.frame ,subset,select)\n",
    "- 조건에 부합하는 데이터 프레임을 돌려준다\n",
    "- select 에는 열의 이름 혹은 열 번호, 여러개면 벡터로\n",
    "- subset 행에 대한 논리식"
   ]
  },
  {
   "cell_type": "code",
   "execution_count": 12,
   "id": "aquatic-paragraph",
   "metadata": {},
   "outputs": [
    {
     "name": "stdout",
     "output_type": "stream",
     "text": [
      "'data.frame':\t150 obs. of  5 variables:\n",
      " $ Sepal.Length: num  5.1 4.9 4.7 4.6 5 5.4 4.6 5 4.4 4.9 ...\n",
      " $ Sepal.Width : num  3.5 3 3.2 3.1 3.6 3.9 3.4 3.4 2.9 3.1 ...\n",
      " $ Petal.Length: num  1.4 1.4 1.3 1.5 1.4 1.7 1.4 1.5 1.4 1.5 ...\n",
      " $ Petal.Width : num  0.2 0.2 0.2 0.2 0.2 0.4 0.3 0.2 0.2 0.1 ...\n",
      " $ Species     : Factor w/ 3 levels \"setosa\",\"versicolor\",..: 1 1 1 1 1 1 1 1 1 1 ...\n"
     ]
    },
    {
     "data": {
      "text/html": [
       "<table>\n",
       "<thead><tr><th scope=col>Sepal.Length</th><th scope=col>Sepal.Width</th><th scope=col>Petal.Length</th><th scope=col>Petal.Width</th><th scope=col>Species</th></tr></thead>\n",
       "<tbody>\n",
       "\t<tr><td>5.1   </td><td>3.5   </td><td>1.4   </td><td>0.2   </td><td>setosa</td></tr>\n",
       "\t<tr><td>4.9   </td><td>3.0   </td><td>1.4   </td><td>0.2   </td><td>setosa</td></tr>\n",
       "\t<tr><td>4.7   </td><td>3.2   </td><td>1.3   </td><td>0.2   </td><td>setosa</td></tr>\n",
       "\t<tr><td>4.6   </td><td>3.1   </td><td>1.5   </td><td>0.2   </td><td>setosa</td></tr>\n",
       "\t<tr><td>5.0   </td><td>3.6   </td><td>1.4   </td><td>0.2   </td><td>setosa</td></tr>\n",
       "\t<tr><td>5.4   </td><td>3.9   </td><td>1.7   </td><td>0.4   </td><td>setosa</td></tr>\n",
       "</tbody>\n",
       "</table>\n"
      ],
      "text/latex": [
       "\\begin{tabular}{r|lllll}\n",
       " Sepal.Length & Sepal.Width & Petal.Length & Petal.Width & Species\\\\\n",
       "\\hline\n",
       "\t 5.1    & 3.5    & 1.4    & 0.2    & setosa\\\\\n",
       "\t 4.9    & 3.0    & 1.4    & 0.2    & setosa\\\\\n",
       "\t 4.7    & 3.2    & 1.3    & 0.2    & setosa\\\\\n",
       "\t 4.6    & 3.1    & 1.5    & 0.2    & setosa\\\\\n",
       "\t 5.0    & 3.6    & 1.4    & 0.2    & setosa\\\\\n",
       "\t 5.4    & 3.9    & 1.7    & 0.4    & setosa\\\\\n",
       "\\end{tabular}\n"
      ],
      "text/markdown": [
       "\n",
       "| Sepal.Length | Sepal.Width | Petal.Length | Petal.Width | Species |\n",
       "|---|---|---|---|---|\n",
       "| 5.1    | 3.5    | 1.4    | 0.2    | setosa |\n",
       "| 4.9    | 3.0    | 1.4    | 0.2    | setosa |\n",
       "| 4.7    | 3.2    | 1.3    | 0.2    | setosa |\n",
       "| 4.6    | 3.1    | 1.5    | 0.2    | setosa |\n",
       "| 5.0    | 3.6    | 1.4    | 0.2    | setosa |\n",
       "| 5.4    | 3.9    | 1.7    | 0.4    | setosa |\n",
       "\n"
      ],
      "text/plain": [
       "  Sepal.Length Sepal.Width Petal.Length Petal.Width Species\n",
       "1 5.1          3.5         1.4          0.2         setosa \n",
       "2 4.9          3.0         1.4          0.2         setosa \n",
       "3 4.7          3.2         1.3          0.2         setosa \n",
       "4 4.6          3.1         1.5          0.2         setosa \n",
       "5 5.0          3.6         1.4          0.2         setosa \n",
       "6 5.4          3.9         1.7          0.4         setosa "
      ]
     },
     "metadata": {},
     "output_type": "display_data"
    },
    {
     "data": {
      "text/html": [
       "<table>\n",
       "<thead><tr><th></th><th scope=col>Sepal.Length</th><th scope=col>Sepal.Width</th><th scope=col>Petal.Length</th><th scope=col>Petal.Width</th><th scope=col>Species</th></tr></thead>\n",
       "<tbody>\n",
       "\t<tr><th scope=row>1</th><td>5.1   </td><td>3.5   </td><td>1.4   </td><td>0.2   </td><td>setosa</td></tr>\n",
       "\t<tr><th scope=row>6</th><td>5.4   </td><td>3.9   </td><td>1.7   </td><td>0.4   </td><td>setosa</td></tr>\n",
       "\t<tr><th scope=row>11</th><td>5.4   </td><td>3.7   </td><td>1.5   </td><td>0.2   </td><td>setosa</td></tr>\n",
       "\t<tr><th scope=row>15</th><td>5.8   </td><td>4.0   </td><td>1.2   </td><td>0.2   </td><td>setosa</td></tr>\n",
       "\t<tr><th scope=row>16</th><td>5.7   </td><td>4.4   </td><td>1.5   </td><td>0.4   </td><td>setosa</td></tr>\n",
       "\t<tr><th scope=row>17</th><td>5.4   </td><td>3.9   </td><td>1.3   </td><td>0.4   </td><td>setosa</td></tr>\n",
       "</tbody>\n",
       "</table>\n"
      ],
      "text/latex": [
       "\\begin{tabular}{r|lllll}\n",
       "  & Sepal.Length & Sepal.Width & Petal.Length & Petal.Width & Species\\\\\n",
       "\\hline\n",
       "\t1 & 5.1    & 3.5    & 1.4    & 0.2    & setosa\\\\\n",
       "\t6 & 5.4    & 3.9    & 1.7    & 0.4    & setosa\\\\\n",
       "\t11 & 5.4    & 3.7    & 1.5    & 0.2    & setosa\\\\\n",
       "\t15 & 5.8    & 4.0    & 1.2    & 0.2    & setosa\\\\\n",
       "\t16 & 5.7    & 4.4    & 1.5    & 0.4    & setosa\\\\\n",
       "\t17 & 5.4    & 3.9    & 1.3    & 0.4    & setosa\\\\\n",
       "\\end{tabular}\n"
      ],
      "text/markdown": [
       "\n",
       "| <!--/--> | Sepal.Length | Sepal.Width | Petal.Length | Petal.Width | Species |\n",
       "|---|---|---|---|---|---|\n",
       "| 1 | 5.1    | 3.5    | 1.4    | 0.2    | setosa |\n",
       "| 6 | 5.4    | 3.9    | 1.7    | 0.4    | setosa |\n",
       "| 11 | 5.4    | 3.7    | 1.5    | 0.2    | setosa |\n",
       "| 15 | 5.8    | 4.0    | 1.2    | 0.2    | setosa |\n",
       "| 16 | 5.7    | 4.4    | 1.5    | 0.4    | setosa |\n",
       "| 17 | 5.4    | 3.9    | 1.3    | 0.4    | setosa |\n",
       "\n"
      ],
      "text/plain": [
       "   Sepal.Length Sepal.Width Petal.Length Petal.Width Species\n",
       "1  5.1          3.5         1.4          0.2         setosa \n",
       "6  5.4          3.9         1.7          0.4         setosa \n",
       "11 5.4          3.7         1.5          0.2         setosa \n",
       "15 5.8          4.0         1.2          0.2         setosa \n",
       "16 5.7          4.4         1.5          0.4         setosa \n",
       "17 5.4          3.9         1.3          0.4         setosa "
      ]
     },
     "metadata": {},
     "output_type": "display_data"
    }
   ],
   "source": [
    "iris.df<-iris\n",
    "str(iris.df)\n",
    "head(subset(iris.df,Species=='setosa'))\n",
    "head(subset(iris.df,Sepal.Length>5))"
   ]
  },
  {
   "cell_type": "code",
   "execution_count": 10,
   "id": "civic-mason",
   "metadata": {},
   "outputs": [
    {
     "data": {
      "text/html": [
       "<table>\n",
       "<thead><tr><th scope=col>Sepal.Length</th><th scope=col>Species</th></tr></thead>\n",
       "<tbody>\n",
       "\t<tr><td>5.1   </td><td>setosa</td></tr>\n",
       "\t<tr><td>4.9   </td><td>setosa</td></tr>\n",
       "\t<tr><td>4.7   </td><td>setosa</td></tr>\n",
       "\t<tr><td>4.6   </td><td>setosa</td></tr>\n",
       "\t<tr><td>5.0   </td><td>setosa</td></tr>\n",
       "\t<tr><td>5.4   </td><td>setosa</td></tr>\n",
       "</tbody>\n",
       "</table>\n"
      ],
      "text/latex": [
       "\\begin{tabular}{r|ll}\n",
       " Sepal.Length & Species\\\\\n",
       "\\hline\n",
       "\t 5.1    & setosa\\\\\n",
       "\t 4.9    & setosa\\\\\n",
       "\t 4.7    & setosa\\\\\n",
       "\t 4.6    & setosa\\\\\n",
       "\t 5.0    & setosa\\\\\n",
       "\t 5.4    & setosa\\\\\n",
       "\\end{tabular}\n"
      ],
      "text/markdown": [
       "\n",
       "| Sepal.Length | Species |\n",
       "|---|---|\n",
       "| 5.1    | setosa |\n",
       "| 4.9    | setosa |\n",
       "| 4.7    | setosa |\n",
       "| 4.6    | setosa |\n",
       "| 5.0    | setosa |\n",
       "| 5.4    | setosa |\n",
       "\n"
      ],
      "text/plain": [
       "  Sepal.Length Species\n",
       "1 5.1          setosa \n",
       "2 4.9          setosa \n",
       "3 4.7          setosa \n",
       "4 4.6          setosa \n",
       "5 5.0          setosa \n",
       "6 5.4          setosa "
      ]
     },
     "metadata": {},
     "output_type": "display_data"
    },
    {
     "data": {
      "text/html": [
       "<table>\n",
       "<thead><tr><th scope=col>Sepal.Length</th><th scope=col>Species</th></tr></thead>\n",
       "<tbody>\n",
       "\t<tr><td>5.1   </td><td>setosa</td></tr>\n",
       "\t<tr><td>4.9   </td><td>setosa</td></tr>\n",
       "\t<tr><td>4.7   </td><td>setosa</td></tr>\n",
       "\t<tr><td>4.6   </td><td>setosa</td></tr>\n",
       "\t<tr><td>5.0   </td><td>setosa</td></tr>\n",
       "\t<tr><td>5.4   </td><td>setosa</td></tr>\n",
       "</tbody>\n",
       "</table>\n"
      ],
      "text/latex": [
       "\\begin{tabular}{r|ll}\n",
       " Sepal.Length & Species\\\\\n",
       "\\hline\n",
       "\t 5.1    & setosa\\\\\n",
       "\t 4.9    & setosa\\\\\n",
       "\t 4.7    & setosa\\\\\n",
       "\t 4.6    & setosa\\\\\n",
       "\t 5.0    & setosa\\\\\n",
       "\t 5.4    & setosa\\\\\n",
       "\\end{tabular}\n"
      ],
      "text/markdown": [
       "\n",
       "| Sepal.Length | Species |\n",
       "|---|---|\n",
       "| 5.1    | setosa |\n",
       "| 4.9    | setosa |\n",
       "| 4.7    | setosa |\n",
       "| 4.6    | setosa |\n",
       "| 5.0    | setosa |\n",
       "| 5.4    | setosa |\n",
       "\n"
      ],
      "text/plain": [
       "  Sepal.Length Species\n",
       "1 5.1          setosa \n",
       "2 4.9          setosa \n",
       "3 4.7          setosa \n",
       "4 4.6          setosa \n",
       "5 5.0          setosa \n",
       "6 5.4          setosa "
      ]
     },
     "metadata": {},
     "output_type": "display_data"
    }
   ],
   "source": [
    "iris.df<-iris\n",
    "head(subset(iris.df,select=c(Sepal.Length,Species),subset=Species=='setosa'))\n",
    "head(subset(iris.df,select=c(1,5),subset=Species=='setosa'))"
   ]
  },
  {
   "cell_type": "code",
   "execution_count": 12,
   "id": "corrected-nothing",
   "metadata": {},
   "outputs": [
    {
     "data": {
      "text/html": [
       "<table>\n",
       "<thead><tr><th scope=col>Sepal.Width</th><th scope=col>Petal.Length</th><th scope=col>Petal.Width</th><th scope=col>Species</th></tr></thead>\n",
       "<tbody>\n",
       "\t<tr><td>3.5   </td><td>1.4   </td><td>0.2   </td><td>setosa</td></tr>\n",
       "\t<tr><td>3.0   </td><td>1.4   </td><td>0.2   </td><td>setosa</td></tr>\n",
       "\t<tr><td>3.2   </td><td>1.3   </td><td>0.2   </td><td>setosa</td></tr>\n",
       "\t<tr><td>3.1   </td><td>1.5   </td><td>0.2   </td><td>setosa</td></tr>\n",
       "\t<tr><td>3.6   </td><td>1.4   </td><td>0.2   </td><td>setosa</td></tr>\n",
       "\t<tr><td>3.9   </td><td>1.7   </td><td>0.4   </td><td>setosa</td></tr>\n",
       "</tbody>\n",
       "</table>\n"
      ],
      "text/latex": [
       "\\begin{tabular}{r|llll}\n",
       " Sepal.Width & Petal.Length & Petal.Width & Species\\\\\n",
       "\\hline\n",
       "\t 3.5    & 1.4    & 0.2    & setosa\\\\\n",
       "\t 3.0    & 1.4    & 0.2    & setosa\\\\\n",
       "\t 3.2    & 1.3    & 0.2    & setosa\\\\\n",
       "\t 3.1    & 1.5    & 0.2    & setosa\\\\\n",
       "\t 3.6    & 1.4    & 0.2    & setosa\\\\\n",
       "\t 3.9    & 1.7    & 0.4    & setosa\\\\\n",
       "\\end{tabular}\n"
      ],
      "text/markdown": [
       "\n",
       "| Sepal.Width | Petal.Length | Petal.Width | Species |\n",
       "|---|---|---|---|\n",
       "| 3.5    | 1.4    | 0.2    | setosa |\n",
       "| 3.0    | 1.4    | 0.2    | setosa |\n",
       "| 3.2    | 1.3    | 0.2    | setosa |\n",
       "| 3.1    | 1.5    | 0.2    | setosa |\n",
       "| 3.6    | 1.4    | 0.2    | setosa |\n",
       "| 3.9    | 1.7    | 0.4    | setosa |\n",
       "\n"
      ],
      "text/plain": [
       "  Sepal.Width Petal.Length Petal.Width Species\n",
       "1 3.5         1.4          0.2         setosa \n",
       "2 3.0         1.4          0.2         setosa \n",
       "3 3.2         1.3          0.2         setosa \n",
       "4 3.1         1.5          0.2         setosa \n",
       "5 3.6         1.4          0.2         setosa \n",
       "6 3.9         1.7          0.4         setosa "
      ]
     },
     "metadata": {},
     "output_type": "display_data"
    }
   ],
   "source": [
    "#특정 열 제외 가능 => 컬럼 이름으로 되네 개신기\n",
    "head(subset(iris.df,select=-Sepal.Length,subset=Species=='setosa'))"
   ]
  },
  {
   "cell_type": "markdown",
   "id": "injured-crossing",
   "metadata": {},
   "source": [
    "#### 5. lapply( )\n",
    "- 인자에 리스트 또는 벡터 coerced by base::as.list.\n",
    "- return 값이 리스트\n"
   ]
  },
  {
   "cell_type": "code",
   "execution_count": 44,
   "id": "appreciated-central",
   "metadata": {},
   "outputs": [
    {
     "name": "stdout",
     "output_type": "stream",
     "text": [
      "Sepal.Length  Sepal.Width Petal.Length  Petal.Width \n",
      "    5.843333     3.057333     3.758000     1.199333 \n"
     ]
    },
    {
     "data": {
      "text/html": [
       "'numeric'"
      ],
      "text/latex": [
       "'numeric'"
      ],
      "text/markdown": [
       "'numeric'"
      ],
      "text/plain": [
       "[1] \"numeric\""
      ]
     },
     "metadata": {},
     "output_type": "display_data"
    }
   ],
   "source": [
    "# apply도 안되는건 아니다\n",
    "print(apply(iris[-5],2,mean))\n",
    "class(apply(iris[-5],2,mean))"
   ]
  },
  {
   "cell_type": "code",
   "execution_count": 45,
   "id": "valuable-beaver",
   "metadata": {},
   "outputs": [
    {
     "name": "stdout",
     "output_type": "stream",
     "text": [
      "$Sepal.Length\n",
      "[1] 5.843333\n",
      "\n",
      "$Sepal.Width\n",
      "[1] 3.057333\n",
      "\n",
      "$Petal.Length\n",
      "[1] 3.758\n",
      "\n",
      "$Petal.Width\n",
      "[1] 1.199333\n",
      "\n"
     ]
    },
    {
     "data": {
      "text/html": [
       "'list'"
      ],
      "text/latex": [
       "'list'"
      ],
      "text/markdown": [
       "'list'"
      ],
      "text/plain": [
       "[1] \"list\""
      ]
     },
     "metadata": {},
     "output_type": "display_data"
    }
   ],
   "source": [
    "print(lapply(iris[-5],mean))\n",
    "class(lapply(iris[-5],mean))"
   ]
  },
  {
   "cell_type": "code",
   "execution_count": 42,
   "id": "authorized-boost",
   "metadata": {},
   "outputs": [
    {
     "name": "stdout",
     "output_type": "stream",
     "text": [
      "$a\n",
      "[1] 2\n",
      "\n",
      "$b\n",
      "[1] 2.714286\n",
      "\n"
     ]
    },
    {
     "data": {
      "text/html": [
       "'list'"
      ],
      "text/latex": [
       "'list'"
      ],
      "text/markdown": [
       "'list'"
      ],
      "text/plain": [
       "[1] \"list\""
      ]
     },
     "metadata": {},
     "output_type": "display_data"
    }
   ],
   "source": [
    "lst01<-list(a=c(1,2,3),b=c(1,2,3,4,5,2,2))\n",
    "print(lapply(lst01,mean))\n",
    "class(lapply(lst01,mean))"
   ]
  },
  {
   "cell_type": "markdown",
   "id": "animated-spiritual",
   "metadata": {},
   "source": [
    "#### 6. sapply( )\n",
    "- 대상에 리스트 또는 벡터 coerced by base::as.list.\n",
    "- lapply( )와 동일한 기능\n",
    "- return 값이 벡터\n"
   ]
  },
  {
   "cell_type": "code",
   "execution_count": 35,
   "id": "earned-ordinance",
   "metadata": {},
   "outputs": [
    {
     "name": "stdout",
     "output_type": "stream",
     "text": [
      "Sepal.Length  Sepal.Width Petal.Length  Petal.Width \n",
      "    5.843333     3.057333     3.758000     1.199333 \n"
     ]
    },
    {
     "data": {
      "text/html": [
       "'numeric'"
      ],
      "text/latex": [
       "'numeric'"
      ],
      "text/markdown": [
       "'numeric'"
      ],
      "text/plain": [
       "[1] \"numeric\""
      ]
     },
     "metadata": {},
     "output_type": "display_data"
    }
   ],
   "source": [
    "print(sapply(iris[-5],mean))\n",
    "class(sapply(iris[-5],mean))"
   ]
  },
  {
   "cell_type": "code",
   "execution_count": 37,
   "id": "executed-beauty",
   "metadata": {},
   "outputs": [
    {
     "name": "stdout",
     "output_type": "stream",
     "text": [
      "       a        b \n",
      "2.000000 2.714286 \n"
     ]
    },
    {
     "data": {
      "text/html": [
       "'numeric'"
      ],
      "text/latex": [
       "'numeric'"
      ],
      "text/markdown": [
       "'numeric'"
      ],
      "text/plain": [
       "[1] \"numeric\""
      ]
     },
     "metadata": {},
     "output_type": "display_data"
    }
   ],
   "source": [
    "lst01<-list(a=c(1,2,3),b=c(1,2,3,4,5,2,2))\n",
    "print(sapply(lst01,mean))\n",
    "class(sapply(lst01,mean))"
   ]
  },
  {
   "cell_type": "markdown",
   "id": "consistent-penetration",
   "metadata": {},
   "source": [
    "#### 7. tapply( )\n",
    "- 기준으로 나눠서 계산한다\n",
    "- default return값은 배열이다\n",
    "- 주로 object는 vector를 사용하는게 좋다 => 안그러면 좀 복잡해짐\n",
    "- 2개이상의 집단별 조건일때는 list 사용"
   ]
  },
  {
   "cell_type": "code",
   "execution_count": 5,
   "id": "typical-comparative",
   "metadata": {},
   "outputs": [
    {
     "data": {
      "text/html": [
       "<dl class=dl-horizontal>\n",
       "\t<dt>setosa</dt>\n",
       "\t\t<dd>5.006</dd>\n",
       "\t<dt>versicolor</dt>\n",
       "\t\t<dd>5.936</dd>\n",
       "\t<dt>virginica</dt>\n",
       "\t\t<dd>6.588</dd>\n",
       "</dl>\n"
      ],
      "text/latex": [
       "\\begin{description*}\n",
       "\\item[setosa] 5.006\n",
       "\\item[versicolor] 5.936\n",
       "\\item[virginica] 6.588\n",
       "\\end{description*}\n"
      ],
      "text/markdown": [
       "setosa\n",
       ":   5.006versicolor\n",
       ":   5.936virginica\n",
       ":   6.588\n",
       "\n"
      ],
      "text/plain": [
       "    setosa versicolor  virginica \n",
       "     5.006      5.936      6.588 "
      ]
     },
     "metadata": {},
     "output_type": "display_data"
    },
    {
     "name": "stdout",
     "output_type": "stream",
     "text": [
      " num [1:3(1d)] 5.01 5.94 6.59\n",
      " - attr(*, \"dimnames\")=List of 1\n",
      "  ..$ : chr [1:3] \"setosa\" \"versicolor\" \"virginica\"\n"
     ]
    }
   ],
   "source": [
    "tapply(iris$Sepal.Length,iris$Species,mean)\n",
    "str(tapply(iris$Sepal.Length,iris$Species,mean)) # 1 dimenstion array"
   ]
  },
  {
   "cell_type": "code",
   "execution_count": 8,
   "id": "blind-organizer",
   "metadata": {},
   "outputs": [
    {
     "name": "stdout",
     "output_type": "stream",
     "text": [
      "List of 3\n",
      " $ setosa    : num 5.01\n",
      " $ versicolor: num 5.94\n",
      " $ virginica : num 6.59\n",
      " - attr(*, \"dim\")= int 3\n",
      " - attr(*, \"dimnames\")=List of 1\n",
      "  ..$ : chr [1:3] \"setosa\" \"versicolor\" \"virginica\"\n"
     ]
    }
   ],
   "source": [
    "# simplify => list로 돌려준다\n",
    "str(tapply(iris$Sepal.Length,iris$Species,mean,simplify = F)) "
   ]
  },
  {
   "cell_type": "code",
   "execution_count": 10,
   "id": "timely-plant",
   "metadata": {},
   "outputs": [
    {
     "name": "stdout",
     "output_type": "stream",
     "text": [
      "'data.frame':\t32 obs. of  11 variables:\n",
      " $ mpg : num  21 21 22.8 21.4 18.7 18.1 14.3 24.4 22.8 19.2 ...\n",
      " $ cyl : num  6 6 4 6 8 6 8 4 4 6 ...\n",
      " $ disp: num  160 160 108 258 360 ...\n",
      " $ hp  : num  110 110 93 110 175 105 245 62 95 123 ...\n",
      " $ drat: num  3.9 3.9 3.85 3.08 3.15 2.76 3.21 3.69 3.92 3.92 ...\n",
      " $ wt  : num  2.62 2.88 2.32 3.21 3.44 ...\n",
      " $ qsec: num  16.5 17 18.6 19.4 17 ...\n",
      " $ vs  : num  0 0 1 1 0 1 0 1 1 1 ...\n",
      " $ am  : num  1 1 1 0 0 0 0 0 0 0 ...\n",
      " $ gear: num  4 4 4 3 3 3 3 4 4 4 ...\n",
      " $ carb: num  4 4 1 1 2 1 4 2 2 4 ...\n"
     ]
    }
   ],
   "source": [
    "str(mtcars)"
   ]
  },
  {
   "cell_type": "code",
   "execution_count": 14,
   "id": "wrapped-delaware",
   "metadata": {},
   "outputs": [
    {
     "data": {
      "text/html": [
       "<table>\n",
       "<thead><tr><th></th><th scope=col>0</th><th scope=col>1</th></tr></thead>\n",
       "<tbody>\n",
       "\t<tr><th scope=row>4</th><td>22.900  </td><td>28.07500</td></tr>\n",
       "\t<tr><th scope=row>6</th><td>19.125  </td><td>20.56667</td></tr>\n",
       "\t<tr><th scope=row>8</th><td>15.050  </td><td>15.40000</td></tr>\n",
       "</tbody>\n",
       "</table>\n"
      ],
      "text/latex": [
       "\\begin{tabular}{r|ll}\n",
       "  & 0 & 1\\\\\n",
       "\\hline\n",
       "\t4 & 22.900   & 28.07500\\\\\n",
       "\t6 & 19.125   & 20.56667\\\\\n",
       "\t8 & 15.050   & 15.40000\\\\\n",
       "\\end{tabular}\n"
      ],
      "text/markdown": [
       "\n",
       "| <!--/--> | 0 | 1 |\n",
       "|---|---|---|\n",
       "| 4 | 22.900   | 28.07500 |\n",
       "| 6 | 19.125   | 20.56667 |\n",
       "| 8 | 15.050   | 15.40000 |\n",
       "\n"
      ],
      "text/plain": [
       "        \n",
       "Cylinder 0      1       \n",
       "       4 22.900 28.07500\n",
       "       6 19.125 20.56667\n",
       "       8 15.050 15.40000"
      ]
     },
     "metadata": {},
     "output_type": "display_data"
    }
   ],
   "source": [
    "tapply(mtcars$mpg,list(Cylinder=mtcars$cyl,mtcars$am),mean)"
   ]
  },
  {
   "cell_type": "markdown",
   "id": "built-lemon",
   "metadata": {},
   "source": [
    "#### 8. mapply()\n",
    "- 인자가 여러개 필요한 함수를 적용시켜준다\n",
    "- list로 돌려준다"
   ]
  },
  {
   "cell_type": "code",
   "execution_count": 2,
   "id": "norman-experiment",
   "metadata": {},
   "outputs": [
    {
     "name": "stdout",
     "output_type": "stream",
     "text": [
      "[[1]]\n",
      "[1] 1 1 1 1\n",
      "\n",
      "[[2]]\n",
      "[1] 2 2 2\n",
      "\n",
      "[[3]]\n",
      "[1] 3 3\n",
      "\n",
      "[[4]]\n",
      "[1] 4\n",
      "\n"
     ]
    }
   ],
   "source": [
    "print(mapply(rep,1:4,4:1))"
   ]
  },
  {
   "cell_type": "markdown",
   "id": "apart-presentation",
   "metadata": {},
   "source": [
    "#### 9. aggregate ( )\n",
    "- 쓰는 형태가 두가지다\n",
    "- by 이용 : a list of grouping elements, each as long as the variables in the data frame x. The elements are coerced to factors before use\n",
    "- formula 이용 => aggreagte(target~기준,data,FUN,subset=NULL)\n",
    "- 인자의 길이에 신경쓸 필요가 있다"
   ]
  },
  {
   "cell_type": "code",
   "execution_count": 13,
   "id": "interstate-forestry",
   "metadata": {},
   "outputs": [
    {
     "name": "stdout",
     "output_type": "stream",
     "text": [
      "'data.frame':\t32 obs. of  11 variables:\n",
      " $ mpg : num  21 21 22.8 21.4 18.7 18.1 14.3 24.4 22.8 19.2 ...\n",
      " $ cyl : num  6 6 4 6 8 6 8 4 4 6 ...\n",
      " $ disp: num  160 160 108 258 360 ...\n",
      " $ hp  : num  110 110 93 110 175 105 245 62 95 123 ...\n",
      " $ drat: num  3.9 3.9 3.85 3.08 3.15 2.76 3.21 3.69 3.92 3.92 ...\n",
      " $ wt  : num  2.62 2.88 2.32 3.21 3.44 ...\n",
      " $ qsec: num  16.5 17 18.6 19.4 17 ...\n",
      " $ vs  : num  0 0 1 1 0 1 0 1 1 1 ...\n",
      " $ am  : num  1 1 1 0 0 0 0 0 0 0 ...\n",
      " $ gear: num  4 4 4 3 3 3 3 4 4 4 ...\n",
      " $ carb: num  4 4 1 1 2 1 4 2 2 4 ...\n"
     ]
    }
   ],
   "source": [
    "car.df <- mtcars\n",
    "str(car.df)"
   ]
  },
  {
   "cell_type": "code",
   "execution_count": 26,
   "id": "cubic-dutch",
   "metadata": {},
   "outputs": [
    {
     "data": {
      "text/html": [
       "<table>\n",
       "<thead><tr><th scope=col>Group.1</th><th scope=col>x</th></tr></thead>\n",
       "<tbody>\n",
       "\t<tr><td>4       </td><td>2.285727</td></tr>\n",
       "\t<tr><td>6       </td><td>3.117143</td></tr>\n",
       "\t<tr><td>8       </td><td>3.999214</td></tr>\n",
       "</tbody>\n",
       "</table>\n"
      ],
      "text/latex": [
       "\\begin{tabular}{r|ll}\n",
       " Group.1 & x\\\\\n",
       "\\hline\n",
       "\t 4        & 2.285727\\\\\n",
       "\t 6        & 3.117143\\\\\n",
       "\t 8        & 3.999214\\\\\n",
       "\\end{tabular}\n"
      ],
      "text/markdown": [
       "\n",
       "| Group.1 | x |\n",
       "|---|---|\n",
       "| 4        | 2.285727 |\n",
       "| 6        | 3.117143 |\n",
       "| 8        | 3.999214 |\n",
       "\n"
      ],
      "text/plain": [
       "  Group.1 x       \n",
       "1 4       2.285727\n",
       "2 6       3.117143\n",
       "3 8       3.999214"
      ]
     },
     "metadata": {},
     "output_type": "display_data"
    },
    {
     "data": {
      "text/html": [
       "<table>\n",
       "<thead><tr><th scope=col>cyl</th><th scope=col>x</th></tr></thead>\n",
       "<tbody>\n",
       "\t<tr><td>4       </td><td>2.285727</td></tr>\n",
       "\t<tr><td>6       </td><td>3.117143</td></tr>\n",
       "\t<tr><td>8       </td><td>3.999214</td></tr>\n",
       "</tbody>\n",
       "</table>\n"
      ],
      "text/latex": [
       "\\begin{tabular}{r|ll}\n",
       " cyl & x\\\\\n",
       "\\hline\n",
       "\t 4        & 2.285727\\\\\n",
       "\t 6        & 3.117143\\\\\n",
       "\t 8        & 3.999214\\\\\n",
       "\\end{tabular}\n"
      ],
      "text/markdown": [
       "\n",
       "| cyl | x |\n",
       "|---|---|\n",
       "| 4        | 2.285727 |\n",
       "| 6        | 3.117143 |\n",
       "| 8        | 3.999214 |\n",
       "\n"
      ],
      "text/plain": [
       "  cyl x       \n",
       "1 4   2.285727\n",
       "2 6   3.117143\n",
       "3 8   3.999214"
      ]
     },
     "metadata": {},
     "output_type": "display_data"
    },
    {
     "data": {
      "text/html": [
       "<table>\n",
       "<thead><tr><th scope=col>cyl</th><th scope=col>wt</th></tr></thead>\n",
       "<tbody>\n",
       "\t<tr><td>4       </td><td>2.285727</td></tr>\n",
       "\t<tr><td>6       </td><td>3.117143</td></tr>\n",
       "\t<tr><td>8       </td><td>3.999214</td></tr>\n",
       "</tbody>\n",
       "</table>\n"
      ],
      "text/latex": [
       "\\begin{tabular}{r|ll}\n",
       " cyl & wt\\\\\n",
       "\\hline\n",
       "\t 4        & 2.285727\\\\\n",
       "\t 6        & 3.117143\\\\\n",
       "\t 8        & 3.999214\\\\\n",
       "\\end{tabular}\n"
      ],
      "text/markdown": [
       "\n",
       "| cyl | wt |\n",
       "|---|---|\n",
       "| 4        | 2.285727 |\n",
       "| 6        | 3.117143 |\n",
       "| 8        | 3.999214 |\n",
       "\n"
      ],
      "text/plain": [
       "  cyl wt      \n",
       "1 4   2.285727\n",
       "2 6   3.117143\n",
       "3 8   3.999214"
      ]
     },
     "metadata": {},
     "output_type": "display_data"
    }
   ],
   "source": [
    "# cyl 컬럼을 기준으로 wt 컬럼의 평균만 구하기\n",
    "with (car.df,aggregate(wt,by=list(cyl),mean))\n",
    "with (car.df,aggregate(wt,by=list(cyl=cyl),mean))\n",
    "aggregate(wt~cyl,car.df,mean)"
   ]
  },
  {
   "cell_type": "code",
   "execution_count": 28,
   "id": "killing-ethernet",
   "metadata": {},
   "outputs": [
    {
     "data": {
      "text/html": [
       "<table>\n",
       "<thead><tr><th scope=col>cyl</th><th scope=col>Group.2</th><th scope=col>x</th></tr></thead>\n",
       "<tbody>\n",
       "\t<tr><td>4       </td><td>FALSE   </td><td> 84.6000</td></tr>\n",
       "\t<tr><td>4       </td><td> TRUE   </td><td>129.7800</td></tr>\n",
       "\t<tr><td>6       </td><td> TRUE   </td><td>183.3143</td></tr>\n",
       "\t<tr><td>8       </td><td> TRUE   </td><td>353.1000</td></tr>\n",
       "</tbody>\n",
       "</table>\n"
      ],
      "text/latex": [
       "\\begin{tabular}{r|lll}\n",
       " cyl & Group.2 & x\\\\\n",
       "\\hline\n",
       "\t 4        & FALSE    &  84.6000\\\\\n",
       "\t 4        &  TRUE    & 129.7800\\\\\n",
       "\t 6        &  TRUE    & 183.3143\\\\\n",
       "\t 8        &  TRUE    & 353.1000\\\\\n",
       "\\end{tabular}\n"
      ],
      "text/markdown": [
       "\n",
       "| cyl | Group.2 | x |\n",
       "|---|---|---|\n",
       "| 4        | FALSE    |  84.6000 |\n",
       "| 4        |  TRUE    | 129.7800 |\n",
       "| 6        |  TRUE    | 183.3143 |\n",
       "| 8        |  TRUE    | 353.1000 |\n",
       "\n"
      ],
      "text/plain": [
       "  cyl Group.2 x       \n",
       "1 4   FALSE    84.6000\n",
       "2 4    TRUE   129.7800\n",
       "3 6    TRUE   183.3143\n",
       "4 8    TRUE   353.1000"
      ]
     },
     "metadata": {},
     "output_type": "display_data"
    },
    {
     "data": {
      "text/html": [
       "<table>\n",
       "<thead><tr><th scope=col>cyl</th><th scope=col>disp</th></tr></thead>\n",
       "<tbody>\n",
       "\t<tr><td>4       </td><td>129.7800</td></tr>\n",
       "\t<tr><td>6       </td><td>183.3143</td></tr>\n",
       "\t<tr><td>8       </td><td>353.1000</td></tr>\n",
       "</tbody>\n",
       "</table>\n"
      ],
      "text/latex": [
       "\\begin{tabular}{r|ll}\n",
       " cyl & disp\\\\\n",
       "\\hline\n",
       "\t 4        & 129.7800\\\\\n",
       "\t 6        & 183.3143\\\\\n",
       "\t 8        & 353.1000\\\\\n",
       "\\end{tabular}\n"
      ],
      "text/markdown": [
       "\n",
       "| cyl | disp |\n",
       "|---|---|\n",
       "| 4        | 129.7800 |\n",
       "| 6        | 183.3143 |\n",
       "| 8        | 353.1000 |\n",
       "\n"
      ],
      "text/plain": [
       "  cyl disp    \n",
       "1 4   129.7800\n",
       "2 6   183.3143\n",
       "3 8   353.1000"
      ]
     },
     "metadata": {},
     "output_type": "display_data"
    }
   ],
   "source": [
    "# 조건 추가하기 혹은 subset 활용\n",
    "# cyl 컬럼을 기준으로 disp 컬럼의 평균만 구하기 , 근데 disp>120인 경우들에서\n",
    "with (car.df,aggregate(disp,by=list(cyl=cyl,disp>120),mean))\n",
    "aggregate(disp~cyl,car.df,subset=(disp>120),mean)"
   ]
  },
  {
   "cell_type": "code",
   "execution_count": 25,
   "id": "demographic-companion",
   "metadata": {},
   "outputs": [
    {
     "data": {
      "text/html": [
       "<table>\n",
       "<thead><tr><th scope=col>carb</th><th scope=col>gear</th><th scope=col>x</th></tr></thead>\n",
       "<tbody>\n",
       "\t<tr><td>1       </td><td>3       </td><td>3.046667</td></tr>\n",
       "\t<tr><td>2       </td><td>3       </td><td>3.560000</td></tr>\n",
       "\t<tr><td>3       </td><td>3       </td><td>3.860000</td></tr>\n",
       "\t<tr><td>4       </td><td>3       </td><td>4.685800</td></tr>\n",
       "\t<tr><td>1       </td><td>4       </td><td>2.072500</td></tr>\n",
       "\t<tr><td>2       </td><td>4       </td><td>2.683750</td></tr>\n",
       "\t<tr><td>4       </td><td>4       </td><td>3.093750</td></tr>\n",
       "\t<tr><td>2       </td><td>5       </td><td>1.826500</td></tr>\n",
       "\t<tr><td>4       </td><td>5       </td><td>3.170000</td></tr>\n",
       "\t<tr><td>6       </td><td>5       </td><td>2.770000</td></tr>\n",
       "\t<tr><td>8       </td><td>5       </td><td>3.570000</td></tr>\n",
       "</tbody>\n",
       "</table>\n"
      ],
      "text/latex": [
       "\\begin{tabular}{r|lll}\n",
       " carb & gear & x\\\\\n",
       "\\hline\n",
       "\t 1        & 3        & 3.046667\\\\\n",
       "\t 2        & 3        & 3.560000\\\\\n",
       "\t 3        & 3        & 3.860000\\\\\n",
       "\t 4        & 3        & 4.685800\\\\\n",
       "\t 1        & 4        & 2.072500\\\\\n",
       "\t 2        & 4        & 2.683750\\\\\n",
       "\t 4        & 4        & 3.093750\\\\\n",
       "\t 2        & 5        & 1.826500\\\\\n",
       "\t 4        & 5        & 3.170000\\\\\n",
       "\t 6        & 5        & 2.770000\\\\\n",
       "\t 8        & 5        & 3.570000\\\\\n",
       "\\end{tabular}\n"
      ],
      "text/markdown": [
       "\n",
       "| carb | gear | x |\n",
       "|---|---|---|\n",
       "| 1        | 3        | 3.046667 |\n",
       "| 2        | 3        | 3.560000 |\n",
       "| 3        | 3        | 3.860000 |\n",
       "| 4        | 3        | 4.685800 |\n",
       "| 1        | 4        | 2.072500 |\n",
       "| 2        | 4        | 2.683750 |\n",
       "| 4        | 4        | 3.093750 |\n",
       "| 2        | 5        | 1.826500 |\n",
       "| 4        | 5        | 3.170000 |\n",
       "| 6        | 5        | 2.770000 |\n",
       "| 8        | 5        | 3.570000 |\n",
       "\n"
      ],
      "text/plain": [
       "   carb gear x       \n",
       "1  1    3    3.046667\n",
       "2  2    3    3.560000\n",
       "3  3    3    3.860000\n",
       "4  4    3    4.685800\n",
       "5  1    4    2.072500\n",
       "6  2    4    2.683750\n",
       "7  4    4    3.093750\n",
       "8  2    5    1.826500\n",
       "9  4    5    3.170000\n",
       "10 6    5    2.770000\n",
       "11 8    5    3.570000"
      ]
     },
     "metadata": {},
     "output_type": "display_data"
    },
    {
     "data": {
      "text/html": [
       "<table>\n",
       "<thead><tr><th scope=col>carb</th><th scope=col>gear</th><th scope=col>wt</th></tr></thead>\n",
       "<tbody>\n",
       "\t<tr><td>1       </td><td>3       </td><td>3.046667</td></tr>\n",
       "\t<tr><td>2       </td><td>3       </td><td>3.560000</td></tr>\n",
       "\t<tr><td>3       </td><td>3       </td><td>3.860000</td></tr>\n",
       "\t<tr><td>4       </td><td>3       </td><td>4.685800</td></tr>\n",
       "\t<tr><td>1       </td><td>4       </td><td>2.072500</td></tr>\n",
       "\t<tr><td>2       </td><td>4       </td><td>2.683750</td></tr>\n",
       "\t<tr><td>4       </td><td>4       </td><td>3.093750</td></tr>\n",
       "\t<tr><td>2       </td><td>5       </td><td>1.826500</td></tr>\n",
       "\t<tr><td>4       </td><td>5       </td><td>3.170000</td></tr>\n",
       "\t<tr><td>6       </td><td>5       </td><td>2.770000</td></tr>\n",
       "\t<tr><td>8       </td><td>5       </td><td>3.570000</td></tr>\n",
       "</tbody>\n",
       "</table>\n"
      ],
      "text/latex": [
       "\\begin{tabular}{r|lll}\n",
       " carb & gear & wt\\\\\n",
       "\\hline\n",
       "\t 1        & 3        & 3.046667\\\\\n",
       "\t 2        & 3        & 3.560000\\\\\n",
       "\t 3        & 3        & 3.860000\\\\\n",
       "\t 4        & 3        & 4.685800\\\\\n",
       "\t 1        & 4        & 2.072500\\\\\n",
       "\t 2        & 4        & 2.683750\\\\\n",
       "\t 4        & 4        & 3.093750\\\\\n",
       "\t 2        & 5        & 1.826500\\\\\n",
       "\t 4        & 5        & 3.170000\\\\\n",
       "\t 6        & 5        & 2.770000\\\\\n",
       "\t 8        & 5        & 3.570000\\\\\n",
       "\\end{tabular}\n"
      ],
      "text/markdown": [
       "\n",
       "| carb | gear | wt |\n",
       "|---|---|---|\n",
       "| 1        | 3        | 3.046667 |\n",
       "| 2        | 3        | 3.560000 |\n",
       "| 3        | 3        | 3.860000 |\n",
       "| 4        | 3        | 4.685800 |\n",
       "| 1        | 4        | 2.072500 |\n",
       "| 2        | 4        | 2.683750 |\n",
       "| 4        | 4        | 3.093750 |\n",
       "| 2        | 5        | 1.826500 |\n",
       "| 4        | 5        | 3.170000 |\n",
       "| 6        | 5        | 2.770000 |\n",
       "| 8        | 5        | 3.570000 |\n",
       "\n"
      ],
      "text/plain": [
       "   carb gear wt      \n",
       "1  1    3    3.046667\n",
       "2  2    3    3.560000\n",
       "3  3    3    3.860000\n",
       "4  4    3    4.685800\n",
       "5  1    4    2.072500\n",
       "6  2    4    2.683750\n",
       "7  4    4    3.093750\n",
       "8  2    5    1.826500\n",
       "9  4    5    3.170000\n",
       "10 6    5    2.770000\n",
       "11 8    5    3.570000"
      ]
     },
     "metadata": {},
     "output_type": "display_data"
    }
   ],
   "source": [
    "# carb , gear 컬럼 두가지를 기준으로 wt 구하기\n",
    "with (car.df,aggregate(wt,by=list(carb=carb,gear=gear),mean))\n",
    "aggregate(wt~carb+gear,data=car.df,mean)"
   ]
  },
  {
   "cell_type": "code",
   "execution_count": 24,
   "id": "going-exception",
   "metadata": {},
   "outputs": [
    {
     "data": {
      "text/html": [
       "<table>\n",
       "<thead><tr><th scope=col>gear</th><th scope=col>disp</th><th scope=col>wt</th></tr></thead>\n",
       "<tbody>\n",
       "\t<tr><td>3       </td><td>326.3000</td><td>3.892600</td></tr>\n",
       "\t<tr><td>4       </td><td>123.0167</td><td>2.616667</td></tr>\n",
       "\t<tr><td>5       </td><td>202.4800</td><td>2.632600</td></tr>\n",
       "</tbody>\n",
       "</table>\n"
      ],
      "text/latex": [
       "\\begin{tabular}{r|lll}\n",
       " gear & disp & wt\\\\\n",
       "\\hline\n",
       "\t 3        & 326.3000 & 3.892600\\\\\n",
       "\t 4        & 123.0167 & 2.616667\\\\\n",
       "\t 5        & 202.4800 & 2.632600\\\\\n",
       "\\end{tabular}\n"
      ],
      "text/markdown": [
       "\n",
       "| gear | disp | wt |\n",
       "|---|---|---|\n",
       "| 3        | 326.3000 | 3.892600 |\n",
       "| 4        | 123.0167 | 2.616667 |\n",
       "| 5        | 202.4800 | 2.632600 |\n",
       "\n"
      ],
      "text/plain": [
       "  gear disp     wt      \n",
       "1 3    326.3000 3.892600\n",
       "2 4    123.0167 2.616667\n",
       "3 5    202.4800 2.632600"
      ]
     },
     "metadata": {},
     "output_type": "display_data"
    },
    {
     "data": {
      "text/html": [
       "<table>\n",
       "<thead><tr><th scope=col>gear</th><th scope=col>disp</th><th scope=col>wt</th></tr></thead>\n",
       "<tbody>\n",
       "\t<tr><td>3       </td><td>326.3000</td><td>3.892600</td></tr>\n",
       "\t<tr><td>4       </td><td>123.0167</td><td>2.616667</td></tr>\n",
       "\t<tr><td>5       </td><td>202.4800</td><td>2.632600</td></tr>\n",
       "</tbody>\n",
       "</table>\n"
      ],
      "text/latex": [
       "\\begin{tabular}{r|lll}\n",
       " gear & disp & wt\\\\\n",
       "\\hline\n",
       "\t 3        & 326.3000 & 3.892600\\\\\n",
       "\t 4        & 123.0167 & 2.616667\\\\\n",
       "\t 5        & 202.4800 & 2.632600\\\\\n",
       "\\end{tabular}\n"
      ],
      "text/markdown": [
       "\n",
       "| gear | disp | wt |\n",
       "|---|---|---|\n",
       "| 3        | 326.3000 | 3.892600 |\n",
       "| 4        | 123.0167 | 2.616667 |\n",
       "| 5        | 202.4800 | 2.632600 |\n",
       "\n"
      ],
      "text/plain": [
       "  gear disp     wt      \n",
       "1 3    326.3000 3.892600\n",
       "2 4    123.0167 2.616667\n",
       "3 5    202.4800 2.632600"
      ]
     },
     "metadata": {},
     "output_type": "display_data"
    },
    {
     "data": {
      "text/html": [
       "<table>\n",
       "<thead><tr><th scope=col>gear</th><th scope=col>disp</th><th scope=col>wt</th></tr></thead>\n",
       "<tbody>\n",
       "\t<tr><td>3       </td><td>326.3000</td><td>3.892600</td></tr>\n",
       "\t<tr><td>4       </td><td>123.0167</td><td>2.616667</td></tr>\n",
       "\t<tr><td>5       </td><td>202.4800</td><td>2.632600</td></tr>\n",
       "</tbody>\n",
       "</table>\n"
      ],
      "text/latex": [
       "\\begin{tabular}{r|lll}\n",
       " gear & disp & wt\\\\\n",
       "\\hline\n",
       "\t 3        & 326.3000 & 3.892600\\\\\n",
       "\t 4        & 123.0167 & 2.616667\\\\\n",
       "\t 5        & 202.4800 & 2.632600\\\\\n",
       "\\end{tabular}\n"
      ],
      "text/markdown": [
       "\n",
       "| gear | disp | wt |\n",
       "|---|---|---|\n",
       "| 3        | 326.3000 | 3.892600 |\n",
       "| 4        | 123.0167 | 2.616667 |\n",
       "| 5        | 202.4800 | 2.632600 |\n",
       "\n"
      ],
      "text/plain": [
       "  gear disp     wt      \n",
       "1 3    326.3000 3.892600\n",
       "2 4    123.0167 2.616667\n",
       "3 5    202.4800 2.632600"
      ]
     },
     "metadata": {},
     "output_type": "display_data"
    },
    {
     "ename": "ERROR",
     "evalue": "Error in aggregate.data.frame(as.data.frame(x), ...): arguments must have same length\n",
     "output_type": "error",
     "traceback": [
      "Error in aggregate.data.frame(as.data.frame(x), ...): arguments must have same length\nTraceback:\n",
      "1. with(car.df, aggregate(c(disp, wt), by = list(gear = gear), mean))",
      "2. with.default(car.df, aggregate(c(disp, wt), by = list(gear = gear), \n .     mean))",
      "3. eval(substitute(expr), data, enclos = parent.frame())",
      "4. eval(substitute(expr), data, enclos = parent.frame())",
      "5. aggregate(c(disp, wt), by = list(gear = gear), mean)",
      "6. aggregate.default(c(disp, wt), by = list(gear = gear), mean)",
      "7. aggregate.data.frame(as.data.frame(x), ...)",
      "8. stop(\"arguments must have same length\")"
     ]
    }
   ],
   "source": [
    "# gear 기준으로 disp, wt 평균 구하기\n",
    "with (car.df,aggregate(car.df[c(\"disp\",\"wt\")],by=list(gear=gear),mean))\n",
    "with (car.df,aggregate(cbind(disp,wt),by=list(gear=gear),mean))\n",
    "aggregate(cbind(disp,wt)~gear,data=car.df,mean)\n",
    "with (car.df,aggregate(c(disp,wt),by=list(gear=gear),mean))\n",
    "\n",
    "\n",
    "# Error를 잘 확인하면 => aggregate(x,by=) x 와 by 인자가 같은 길이를 가져야한다ㅠ"
   ]
  },
  {
   "cell_type": "code",
   "execution_count": 23,
   "id": "sitting-portal",
   "metadata": {},
   "outputs": [
    {
     "data": {
      "text/html": [
       "<table>\n",
       "<thead><tr><th scope=col>mpg</th><th scope=col>disp</th><th scope=col>hp</th><th scope=col>drat</th><th scope=col>wt</th><th scope=col>qsec</th><th scope=col>vs</th><th scope=col>am</th><th scope=col>gear</th><th scope=col>carb</th><th scope=col>x</th></tr></thead>\n",
       "<tbody>\n",
       "\t<tr><td>21.4 </td><td>258.0</td><td>110  </td><td>3.08 </td><td>3.215</td><td>19.44</td><td>1    </td><td>0    </td><td>3    </td><td>1    </td><td>6    </td></tr>\n",
       "\t<tr><td>21.5 </td><td>120.1</td><td> 97  </td><td>3.70 </td><td>2.465</td><td>20.01</td><td>1    </td><td>0    </td><td>3    </td><td>1    </td><td>4    </td></tr>\n",
       "\t<tr><td>18.1 </td><td>225.0</td><td>105  </td><td>2.76 </td><td>3.460</td><td>20.22</td><td>1    </td><td>0    </td><td>3    </td><td>1    </td><td>6    </td></tr>\n",
       "\t<tr><td>22.8 </td><td>108.0</td><td> 93  </td><td>3.85 </td><td>2.320</td><td>18.61</td><td>1    </td><td>1    </td><td>4    </td><td>1    </td><td>4    </td></tr>\n",
       "\t<tr><td>27.3 </td><td> 79.0</td><td> 66  </td><td>4.08 </td><td>1.935</td><td>18.90</td><td>1    </td><td>1    </td><td>4    </td><td>1    </td><td>4    </td></tr>\n",
       "\t<tr><td>32.4 </td><td> 78.7</td><td> 66  </td><td>4.08 </td><td>2.200</td><td>19.47</td><td>1    </td><td>1    </td><td>4    </td><td>1    </td><td>4    </td></tr>\n",
       "\t<tr><td>33.9 </td><td> 71.1</td><td> 65  </td><td>4.22 </td><td>1.835</td><td>19.90</td><td>1    </td><td>1    </td><td>4    </td><td>1    </td><td>4    </td></tr>\n",
       "\t<tr><td>15.5 </td><td>318.0</td><td>150  </td><td>2.76 </td><td>3.520</td><td>16.87</td><td>0    </td><td>0    </td><td>3    </td><td>2    </td><td>8    </td></tr>\n",
       "\t<tr><td>18.7 </td><td>360.0</td><td>175  </td><td>3.15 </td><td>3.440</td><td>17.02</td><td>0    </td><td>0    </td><td>3    </td><td>2    </td><td>8    </td></tr>\n",
       "\t<tr><td>19.2 </td><td>400.0</td><td>175  </td><td>3.08 </td><td>3.845</td><td>17.05</td><td>0    </td><td>0    </td><td>3    </td><td>2    </td><td>8    </td></tr>\n",
       "\t<tr><td>15.2 </td><td>304.0</td><td>150  </td><td>3.15 </td><td>3.435</td><td>17.30</td><td>0    </td><td>0    </td><td>3    </td><td>2    </td><td>8    </td></tr>\n",
       "\t<tr><td>24.4 </td><td>146.7</td><td> 62  </td><td>3.69 </td><td>3.190</td><td>20.00</td><td>1    </td><td>0    </td><td>4    </td><td>2    </td><td>4    </td></tr>\n",
       "\t<tr><td>22.8 </td><td>140.8</td><td> 95  </td><td>3.92 </td><td>3.150</td><td>22.90</td><td>1    </td><td>0    </td><td>4    </td><td>2    </td><td>4    </td></tr>\n",
       "\t<tr><td>30.4 </td><td> 75.7</td><td> 52  </td><td>4.93 </td><td>1.615</td><td>18.52</td><td>1    </td><td>1    </td><td>4    </td><td>2    </td><td>4    </td></tr>\n",
       "\t<tr><td>21.4 </td><td>121.0</td><td>109  </td><td>4.11 </td><td>2.780</td><td>18.60</td><td>1    </td><td>1    </td><td>4    </td><td>2    </td><td>4    </td></tr>\n",
       "\t<tr><td>26.0 </td><td>120.3</td><td> 91  </td><td>4.43 </td><td>2.140</td><td>16.70</td><td>0    </td><td>1    </td><td>5    </td><td>2    </td><td>4    </td></tr>\n",
       "\t<tr><td>30.4 </td><td> 95.1</td><td>113  </td><td>3.77 </td><td>1.513</td><td>16.90</td><td>1    </td><td>1    </td><td>5    </td><td>2    </td><td>4    </td></tr>\n",
       "\t<tr><td>16.4 </td><td>275.8</td><td>180  </td><td>3.07 </td><td>4.070</td><td>17.40</td><td>0    </td><td>0    </td><td>3    </td><td>3    </td><td>8    </td></tr>\n",
       "\t<tr><td>17.3 </td><td>275.8</td><td>180  </td><td>3.07 </td><td>3.730</td><td>17.60</td><td>0    </td><td>0    </td><td>3    </td><td>3    </td><td>8    </td></tr>\n",
       "\t<tr><td>15.2 </td><td>275.8</td><td>180  </td><td>3.07 </td><td>3.780</td><td>18.00</td><td>0    </td><td>0    </td><td>3    </td><td>3    </td><td>8    </td></tr>\n",
       "\t<tr><td>13.3 </td><td>350.0</td><td>245  </td><td>3.73 </td><td>3.840</td><td>15.41</td><td>0    </td><td>0    </td><td>3    </td><td>4    </td><td>8    </td></tr>\n",
       "\t<tr><td>14.3 </td><td>360.0</td><td>245  </td><td>3.21 </td><td>3.570</td><td>15.84</td><td>0    </td><td>0    </td><td>3    </td><td>4    </td><td>8    </td></tr>\n",
       "\t<tr><td>14.7 </td><td>440.0</td><td>230  </td><td>3.23 </td><td>5.345</td><td>17.42</td><td>0    </td><td>0    </td><td>3    </td><td>4    </td><td>8    </td></tr>\n",
       "\t<tr><td>10.4 </td><td>460.0</td><td>215  </td><td>3.00 </td><td>5.424</td><td>17.82</td><td>0    </td><td>0    </td><td>3    </td><td>4    </td><td>8    </td></tr>\n",
       "\t<tr><td>10.4 </td><td>472.0</td><td>205  </td><td>2.93 </td><td>5.250</td><td>17.98</td><td>0    </td><td>0    </td><td>3    </td><td>4    </td><td>8    </td></tr>\n",
       "\t<tr><td>19.2 </td><td>167.6</td><td>123  </td><td>3.92 </td><td>3.440</td><td>18.30</td><td>1    </td><td>0    </td><td>4    </td><td>4    </td><td>6    </td></tr>\n",
       "\t<tr><td>17.8 </td><td>167.6</td><td>123  </td><td>3.92 </td><td>3.440</td><td>18.90</td><td>1    </td><td>0    </td><td>4    </td><td>4    </td><td>6    </td></tr>\n",
       "\t<tr><td>21.0 </td><td>160.0</td><td>110  </td><td>3.90 </td><td>2.620</td><td>16.46</td><td>0    </td><td>1    </td><td>4    </td><td>4    </td><td>6    </td></tr>\n",
       "\t<tr><td>21.0 </td><td>160.0</td><td>110  </td><td>3.90 </td><td>2.875</td><td>17.02</td><td>0    </td><td>1    </td><td>4    </td><td>4    </td><td>6    </td></tr>\n",
       "\t<tr><td>15.8 </td><td>351.0</td><td>264  </td><td>4.22 </td><td>3.170</td><td>14.50</td><td>0    </td><td>1    </td><td>5    </td><td>4    </td><td>8    </td></tr>\n",
       "\t<tr><td>19.7 </td><td>145.0</td><td>175  </td><td>3.62 </td><td>2.770</td><td>15.50</td><td>0    </td><td>1    </td><td>5    </td><td>6    </td><td>6    </td></tr>\n",
       "\t<tr><td>15.0 </td><td>301.0</td><td>335  </td><td>3.54 </td><td>3.570</td><td>14.60</td><td>0    </td><td>1    </td><td>5    </td><td>8    </td><td>8    </td></tr>\n",
       "</tbody>\n",
       "</table>\n"
      ],
      "text/latex": [
       "\\begin{tabular}{r|lllllllllll}\n",
       " mpg & disp & hp & drat & wt & qsec & vs & am & gear & carb & x\\\\\n",
       "\\hline\n",
       "\t 21.4  & 258.0 & 110   & 3.08  & 3.215 & 19.44 & 1     & 0     & 3     & 1     & 6    \\\\\n",
       "\t 21.5  & 120.1 &  97   & 3.70  & 2.465 & 20.01 & 1     & 0     & 3     & 1     & 4    \\\\\n",
       "\t 18.1  & 225.0 & 105   & 2.76  & 3.460 & 20.22 & 1     & 0     & 3     & 1     & 6    \\\\\n",
       "\t 22.8  & 108.0 &  93   & 3.85  & 2.320 & 18.61 & 1     & 1     & 4     & 1     & 4    \\\\\n",
       "\t 27.3  &  79.0 &  66   & 4.08  & 1.935 & 18.90 & 1     & 1     & 4     & 1     & 4    \\\\\n",
       "\t 32.4  &  78.7 &  66   & 4.08  & 2.200 & 19.47 & 1     & 1     & 4     & 1     & 4    \\\\\n",
       "\t 33.9  &  71.1 &  65   & 4.22  & 1.835 & 19.90 & 1     & 1     & 4     & 1     & 4    \\\\\n",
       "\t 15.5  & 318.0 & 150   & 2.76  & 3.520 & 16.87 & 0     & 0     & 3     & 2     & 8    \\\\\n",
       "\t 18.7  & 360.0 & 175   & 3.15  & 3.440 & 17.02 & 0     & 0     & 3     & 2     & 8    \\\\\n",
       "\t 19.2  & 400.0 & 175   & 3.08  & 3.845 & 17.05 & 0     & 0     & 3     & 2     & 8    \\\\\n",
       "\t 15.2  & 304.0 & 150   & 3.15  & 3.435 & 17.30 & 0     & 0     & 3     & 2     & 8    \\\\\n",
       "\t 24.4  & 146.7 &  62   & 3.69  & 3.190 & 20.00 & 1     & 0     & 4     & 2     & 4    \\\\\n",
       "\t 22.8  & 140.8 &  95   & 3.92  & 3.150 & 22.90 & 1     & 0     & 4     & 2     & 4    \\\\\n",
       "\t 30.4  &  75.7 &  52   & 4.93  & 1.615 & 18.52 & 1     & 1     & 4     & 2     & 4    \\\\\n",
       "\t 21.4  & 121.0 & 109   & 4.11  & 2.780 & 18.60 & 1     & 1     & 4     & 2     & 4    \\\\\n",
       "\t 26.0  & 120.3 &  91   & 4.43  & 2.140 & 16.70 & 0     & 1     & 5     & 2     & 4    \\\\\n",
       "\t 30.4  &  95.1 & 113   & 3.77  & 1.513 & 16.90 & 1     & 1     & 5     & 2     & 4    \\\\\n",
       "\t 16.4  & 275.8 & 180   & 3.07  & 4.070 & 17.40 & 0     & 0     & 3     & 3     & 8    \\\\\n",
       "\t 17.3  & 275.8 & 180   & 3.07  & 3.730 & 17.60 & 0     & 0     & 3     & 3     & 8    \\\\\n",
       "\t 15.2  & 275.8 & 180   & 3.07  & 3.780 & 18.00 & 0     & 0     & 3     & 3     & 8    \\\\\n",
       "\t 13.3  & 350.0 & 245   & 3.73  & 3.840 & 15.41 & 0     & 0     & 3     & 4     & 8    \\\\\n",
       "\t 14.3  & 360.0 & 245   & 3.21  & 3.570 & 15.84 & 0     & 0     & 3     & 4     & 8    \\\\\n",
       "\t 14.7  & 440.0 & 230   & 3.23  & 5.345 & 17.42 & 0     & 0     & 3     & 4     & 8    \\\\\n",
       "\t 10.4  & 460.0 & 215   & 3.00  & 5.424 & 17.82 & 0     & 0     & 3     & 4     & 8    \\\\\n",
       "\t 10.4  & 472.0 & 205   & 2.93  & 5.250 & 17.98 & 0     & 0     & 3     & 4     & 8    \\\\\n",
       "\t 19.2  & 167.6 & 123   & 3.92  & 3.440 & 18.30 & 1     & 0     & 4     & 4     & 6    \\\\\n",
       "\t 17.8  & 167.6 & 123   & 3.92  & 3.440 & 18.90 & 1     & 0     & 4     & 4     & 6    \\\\\n",
       "\t 21.0  & 160.0 & 110   & 3.90  & 2.620 & 16.46 & 0     & 1     & 4     & 4     & 6    \\\\\n",
       "\t 21.0  & 160.0 & 110   & 3.90  & 2.875 & 17.02 & 0     & 1     & 4     & 4     & 6    \\\\\n",
       "\t 15.8  & 351.0 & 264   & 4.22  & 3.170 & 14.50 & 0     & 1     & 5     & 4     & 8    \\\\\n",
       "\t 19.7  & 145.0 & 175   & 3.62  & 2.770 & 15.50 & 0     & 1     & 5     & 6     & 6    \\\\\n",
       "\t 15.0  & 301.0 & 335   & 3.54  & 3.570 & 14.60 & 0     & 1     & 5     & 8     & 8    \\\\\n",
       "\\end{tabular}\n"
      ],
      "text/markdown": [
       "\n",
       "| mpg | disp | hp | drat | wt | qsec | vs | am | gear | carb | x |\n",
       "|---|---|---|---|---|---|---|---|---|---|---|\n",
       "| 21.4  | 258.0 | 110   | 3.08  | 3.215 | 19.44 | 1     | 0     | 3     | 1     | 6     |\n",
       "| 21.5  | 120.1 |  97   | 3.70  | 2.465 | 20.01 | 1     | 0     | 3     | 1     | 4     |\n",
       "| 18.1  | 225.0 | 105   | 2.76  | 3.460 | 20.22 | 1     | 0     | 3     | 1     | 6     |\n",
       "| 22.8  | 108.0 |  93   | 3.85  | 2.320 | 18.61 | 1     | 1     | 4     | 1     | 4     |\n",
       "| 27.3  |  79.0 |  66   | 4.08  | 1.935 | 18.90 | 1     | 1     | 4     | 1     | 4     |\n",
       "| 32.4  |  78.7 |  66   | 4.08  | 2.200 | 19.47 | 1     | 1     | 4     | 1     | 4     |\n",
       "| 33.9  |  71.1 |  65   | 4.22  | 1.835 | 19.90 | 1     | 1     | 4     | 1     | 4     |\n",
       "| 15.5  | 318.0 | 150   | 2.76  | 3.520 | 16.87 | 0     | 0     | 3     | 2     | 8     |\n",
       "| 18.7  | 360.0 | 175   | 3.15  | 3.440 | 17.02 | 0     | 0     | 3     | 2     | 8     |\n",
       "| 19.2  | 400.0 | 175   | 3.08  | 3.845 | 17.05 | 0     | 0     | 3     | 2     | 8     |\n",
       "| 15.2  | 304.0 | 150   | 3.15  | 3.435 | 17.30 | 0     | 0     | 3     | 2     | 8     |\n",
       "| 24.4  | 146.7 |  62   | 3.69  | 3.190 | 20.00 | 1     | 0     | 4     | 2     | 4     |\n",
       "| 22.8  | 140.8 |  95   | 3.92  | 3.150 | 22.90 | 1     | 0     | 4     | 2     | 4     |\n",
       "| 30.4  |  75.7 |  52   | 4.93  | 1.615 | 18.52 | 1     | 1     | 4     | 2     | 4     |\n",
       "| 21.4  | 121.0 | 109   | 4.11  | 2.780 | 18.60 | 1     | 1     | 4     | 2     | 4     |\n",
       "| 26.0  | 120.3 |  91   | 4.43  | 2.140 | 16.70 | 0     | 1     | 5     | 2     | 4     |\n",
       "| 30.4  |  95.1 | 113   | 3.77  | 1.513 | 16.90 | 1     | 1     | 5     | 2     | 4     |\n",
       "| 16.4  | 275.8 | 180   | 3.07  | 4.070 | 17.40 | 0     | 0     | 3     | 3     | 8     |\n",
       "| 17.3  | 275.8 | 180   | 3.07  | 3.730 | 17.60 | 0     | 0     | 3     | 3     | 8     |\n",
       "| 15.2  | 275.8 | 180   | 3.07  | 3.780 | 18.00 | 0     | 0     | 3     | 3     | 8     |\n",
       "| 13.3  | 350.0 | 245   | 3.73  | 3.840 | 15.41 | 0     | 0     | 3     | 4     | 8     |\n",
       "| 14.3  | 360.0 | 245   | 3.21  | 3.570 | 15.84 | 0     | 0     | 3     | 4     | 8     |\n",
       "| 14.7  | 440.0 | 230   | 3.23  | 5.345 | 17.42 | 0     | 0     | 3     | 4     | 8     |\n",
       "| 10.4  | 460.0 | 215   | 3.00  | 5.424 | 17.82 | 0     | 0     | 3     | 4     | 8     |\n",
       "| 10.4  | 472.0 | 205   | 2.93  | 5.250 | 17.98 | 0     | 0     | 3     | 4     | 8     |\n",
       "| 19.2  | 167.6 | 123   | 3.92  | 3.440 | 18.30 | 1     | 0     | 4     | 4     | 6     |\n",
       "| 17.8  | 167.6 | 123   | 3.92  | 3.440 | 18.90 | 1     | 0     | 4     | 4     | 6     |\n",
       "| 21.0  | 160.0 | 110   | 3.90  | 2.620 | 16.46 | 0     | 1     | 4     | 4     | 6     |\n",
       "| 21.0  | 160.0 | 110   | 3.90  | 2.875 | 17.02 | 0     | 1     | 4     | 4     | 6     |\n",
       "| 15.8  | 351.0 | 264   | 4.22  | 3.170 | 14.50 | 0     | 1     | 5     | 4     | 8     |\n",
       "| 19.7  | 145.0 | 175   | 3.62  | 2.770 | 15.50 | 0     | 1     | 5     | 6     | 6     |\n",
       "| 15.0  | 301.0 | 335   | 3.54  | 3.570 | 14.60 | 0     | 1     | 5     | 8     | 8     |\n",
       "\n"
      ],
      "text/plain": [
       "   mpg  disp  hp  drat wt    qsec  vs am gear carb x\n",
       "1  21.4 258.0 110 3.08 3.215 19.44 1  0  3    1    6\n",
       "2  21.5 120.1  97 3.70 2.465 20.01 1  0  3    1    4\n",
       "3  18.1 225.0 105 2.76 3.460 20.22 1  0  3    1    6\n",
       "4  22.8 108.0  93 3.85 2.320 18.61 1  1  4    1    4\n",
       "5  27.3  79.0  66 4.08 1.935 18.90 1  1  4    1    4\n",
       "6  32.4  78.7  66 4.08 2.200 19.47 1  1  4    1    4\n",
       "7  33.9  71.1  65 4.22 1.835 19.90 1  1  4    1    4\n",
       "8  15.5 318.0 150 2.76 3.520 16.87 0  0  3    2    8\n",
       "9  18.7 360.0 175 3.15 3.440 17.02 0  0  3    2    8\n",
       "10 19.2 400.0 175 3.08 3.845 17.05 0  0  3    2    8\n",
       "11 15.2 304.0 150 3.15 3.435 17.30 0  0  3    2    8\n",
       "12 24.4 146.7  62 3.69 3.190 20.00 1  0  4    2    4\n",
       "13 22.8 140.8  95 3.92 3.150 22.90 1  0  4    2    4\n",
       "14 30.4  75.7  52 4.93 1.615 18.52 1  1  4    2    4\n",
       "15 21.4 121.0 109 4.11 2.780 18.60 1  1  4    2    4\n",
       "16 26.0 120.3  91 4.43 2.140 16.70 0  1  5    2    4\n",
       "17 30.4  95.1 113 3.77 1.513 16.90 1  1  5    2    4\n",
       "18 16.4 275.8 180 3.07 4.070 17.40 0  0  3    3    8\n",
       "19 17.3 275.8 180 3.07 3.730 17.60 0  0  3    3    8\n",
       "20 15.2 275.8 180 3.07 3.780 18.00 0  0  3    3    8\n",
       "21 13.3 350.0 245 3.73 3.840 15.41 0  0  3    4    8\n",
       "22 14.3 360.0 245 3.21 3.570 15.84 0  0  3    4    8\n",
       "23 14.7 440.0 230 3.23 5.345 17.42 0  0  3    4    8\n",
       "24 10.4 460.0 215 3.00 5.424 17.82 0  0  3    4    8\n",
       "25 10.4 472.0 205 2.93 5.250 17.98 0  0  3    4    8\n",
       "26 19.2 167.6 123 3.92 3.440 18.30 1  0  4    4    6\n",
       "27 17.8 167.6 123 3.92 3.440 18.90 1  0  4    4    6\n",
       "28 21.0 160.0 110 3.90 2.620 16.46 0  1  4    4    6\n",
       "29 21.0 160.0 110 3.90 2.875 17.02 0  1  4    4    6\n",
       "30 15.8 351.0 264 4.22 3.170 14.50 0  1  5    4    8\n",
       "31 19.7 145.0 175 3.62 2.770 15.50 0  1  5    6    6\n",
       "32 15.0 301.0 335 3.54 3.570 14.60 0  1  5    8    8"
      ]
     },
     "metadata": {},
     "output_type": "display_data"
    },
    {
     "data": {
      "text/html": [
       "<table>\n",
       "<thead><tr><th scope=col>mpg</th><th scope=col>disp</th><th scope=col>hp</th><th scope=col>drat</th><th scope=col>wt</th><th scope=col>qsec</th><th scope=col>vs</th><th scope=col>am</th><th scope=col>gear</th><th scope=col>carb</th><th scope=col>cyl</th></tr></thead>\n",
       "<tbody>\n",
       "\t<tr><td>21.4 </td><td>258.0</td><td>110  </td><td>3.08 </td><td>3.215</td><td>19.44</td><td>1    </td><td>0    </td><td>3    </td><td>1    </td><td>6    </td></tr>\n",
       "\t<tr><td>21.5 </td><td>120.1</td><td> 97  </td><td>3.70 </td><td>2.465</td><td>20.01</td><td>1    </td><td>0    </td><td>3    </td><td>1    </td><td>4    </td></tr>\n",
       "\t<tr><td>18.1 </td><td>225.0</td><td>105  </td><td>2.76 </td><td>3.460</td><td>20.22</td><td>1    </td><td>0    </td><td>3    </td><td>1    </td><td>6    </td></tr>\n",
       "\t<tr><td>22.8 </td><td>108.0</td><td> 93  </td><td>3.85 </td><td>2.320</td><td>18.61</td><td>1    </td><td>1    </td><td>4    </td><td>1    </td><td>4    </td></tr>\n",
       "\t<tr><td>27.3 </td><td> 79.0</td><td> 66  </td><td>4.08 </td><td>1.935</td><td>18.90</td><td>1    </td><td>1    </td><td>4    </td><td>1    </td><td>4    </td></tr>\n",
       "\t<tr><td>32.4 </td><td> 78.7</td><td> 66  </td><td>4.08 </td><td>2.200</td><td>19.47</td><td>1    </td><td>1    </td><td>4    </td><td>1    </td><td>4    </td></tr>\n",
       "\t<tr><td>33.9 </td><td> 71.1</td><td> 65  </td><td>4.22 </td><td>1.835</td><td>19.90</td><td>1    </td><td>1    </td><td>4    </td><td>1    </td><td>4    </td></tr>\n",
       "\t<tr><td>15.5 </td><td>318.0</td><td>150  </td><td>2.76 </td><td>3.520</td><td>16.87</td><td>0    </td><td>0    </td><td>3    </td><td>2    </td><td>8    </td></tr>\n",
       "\t<tr><td>18.7 </td><td>360.0</td><td>175  </td><td>3.15 </td><td>3.440</td><td>17.02</td><td>0    </td><td>0    </td><td>3    </td><td>2    </td><td>8    </td></tr>\n",
       "\t<tr><td>19.2 </td><td>400.0</td><td>175  </td><td>3.08 </td><td>3.845</td><td>17.05</td><td>0    </td><td>0    </td><td>3    </td><td>2    </td><td>8    </td></tr>\n",
       "\t<tr><td>15.2 </td><td>304.0</td><td>150  </td><td>3.15 </td><td>3.435</td><td>17.30</td><td>0    </td><td>0    </td><td>3    </td><td>2    </td><td>8    </td></tr>\n",
       "\t<tr><td>24.4 </td><td>146.7</td><td> 62  </td><td>3.69 </td><td>3.190</td><td>20.00</td><td>1    </td><td>0    </td><td>4    </td><td>2    </td><td>4    </td></tr>\n",
       "\t<tr><td>22.8 </td><td>140.8</td><td> 95  </td><td>3.92 </td><td>3.150</td><td>22.90</td><td>1    </td><td>0    </td><td>4    </td><td>2    </td><td>4    </td></tr>\n",
       "\t<tr><td>30.4 </td><td> 75.7</td><td> 52  </td><td>4.93 </td><td>1.615</td><td>18.52</td><td>1    </td><td>1    </td><td>4    </td><td>2    </td><td>4    </td></tr>\n",
       "\t<tr><td>21.4 </td><td>121.0</td><td>109  </td><td>4.11 </td><td>2.780</td><td>18.60</td><td>1    </td><td>1    </td><td>4    </td><td>2    </td><td>4    </td></tr>\n",
       "\t<tr><td>26.0 </td><td>120.3</td><td> 91  </td><td>4.43 </td><td>2.140</td><td>16.70</td><td>0    </td><td>1    </td><td>5    </td><td>2    </td><td>4    </td></tr>\n",
       "\t<tr><td>30.4 </td><td> 95.1</td><td>113  </td><td>3.77 </td><td>1.513</td><td>16.90</td><td>1    </td><td>1    </td><td>5    </td><td>2    </td><td>4    </td></tr>\n",
       "\t<tr><td>16.4 </td><td>275.8</td><td>180  </td><td>3.07 </td><td>4.070</td><td>17.40</td><td>0    </td><td>0    </td><td>3    </td><td>3    </td><td>8    </td></tr>\n",
       "\t<tr><td>17.3 </td><td>275.8</td><td>180  </td><td>3.07 </td><td>3.730</td><td>17.60</td><td>0    </td><td>0    </td><td>3    </td><td>3    </td><td>8    </td></tr>\n",
       "\t<tr><td>15.2 </td><td>275.8</td><td>180  </td><td>3.07 </td><td>3.780</td><td>18.00</td><td>0    </td><td>0    </td><td>3    </td><td>3    </td><td>8    </td></tr>\n",
       "\t<tr><td>13.3 </td><td>350.0</td><td>245  </td><td>3.73 </td><td>3.840</td><td>15.41</td><td>0    </td><td>0    </td><td>3    </td><td>4    </td><td>8    </td></tr>\n",
       "\t<tr><td>14.3 </td><td>360.0</td><td>245  </td><td>3.21 </td><td>3.570</td><td>15.84</td><td>0    </td><td>0    </td><td>3    </td><td>4    </td><td>8    </td></tr>\n",
       "\t<tr><td>14.7 </td><td>440.0</td><td>230  </td><td>3.23 </td><td>5.345</td><td>17.42</td><td>0    </td><td>0    </td><td>3    </td><td>4    </td><td>8    </td></tr>\n",
       "\t<tr><td>10.4 </td><td>460.0</td><td>215  </td><td>3.00 </td><td>5.424</td><td>17.82</td><td>0    </td><td>0    </td><td>3    </td><td>4    </td><td>8    </td></tr>\n",
       "\t<tr><td>10.4 </td><td>472.0</td><td>205  </td><td>2.93 </td><td>5.250</td><td>17.98</td><td>0    </td><td>0    </td><td>3    </td><td>4    </td><td>8    </td></tr>\n",
       "\t<tr><td>19.2 </td><td>167.6</td><td>123  </td><td>3.92 </td><td>3.440</td><td>18.30</td><td>1    </td><td>0    </td><td>4    </td><td>4    </td><td>6    </td></tr>\n",
       "\t<tr><td>17.8 </td><td>167.6</td><td>123  </td><td>3.92 </td><td>3.440</td><td>18.90</td><td>1    </td><td>0    </td><td>4    </td><td>4    </td><td>6    </td></tr>\n",
       "\t<tr><td>21.0 </td><td>160.0</td><td>110  </td><td>3.90 </td><td>2.620</td><td>16.46</td><td>0    </td><td>1    </td><td>4    </td><td>4    </td><td>6    </td></tr>\n",
       "\t<tr><td>21.0 </td><td>160.0</td><td>110  </td><td>3.90 </td><td>2.875</td><td>17.02</td><td>0    </td><td>1    </td><td>4    </td><td>4    </td><td>6    </td></tr>\n",
       "\t<tr><td>15.8 </td><td>351.0</td><td>264  </td><td>4.22 </td><td>3.170</td><td>14.50</td><td>0    </td><td>1    </td><td>5    </td><td>4    </td><td>8    </td></tr>\n",
       "\t<tr><td>19.7 </td><td>145.0</td><td>175  </td><td>3.62 </td><td>2.770</td><td>15.50</td><td>0    </td><td>1    </td><td>5    </td><td>6    </td><td>6    </td></tr>\n",
       "\t<tr><td>15.0 </td><td>301.0</td><td>335  </td><td>3.54 </td><td>3.570</td><td>14.60</td><td>0    </td><td>1    </td><td>5    </td><td>8    </td><td>8    </td></tr>\n",
       "</tbody>\n",
       "</table>\n"
      ],
      "text/latex": [
       "\\begin{tabular}{r|lllllllllll}\n",
       " mpg & disp & hp & drat & wt & qsec & vs & am & gear & carb & cyl\\\\\n",
       "\\hline\n",
       "\t 21.4  & 258.0 & 110   & 3.08  & 3.215 & 19.44 & 1     & 0     & 3     & 1     & 6    \\\\\n",
       "\t 21.5  & 120.1 &  97   & 3.70  & 2.465 & 20.01 & 1     & 0     & 3     & 1     & 4    \\\\\n",
       "\t 18.1  & 225.0 & 105   & 2.76  & 3.460 & 20.22 & 1     & 0     & 3     & 1     & 6    \\\\\n",
       "\t 22.8  & 108.0 &  93   & 3.85  & 2.320 & 18.61 & 1     & 1     & 4     & 1     & 4    \\\\\n",
       "\t 27.3  &  79.0 &  66   & 4.08  & 1.935 & 18.90 & 1     & 1     & 4     & 1     & 4    \\\\\n",
       "\t 32.4  &  78.7 &  66   & 4.08  & 2.200 & 19.47 & 1     & 1     & 4     & 1     & 4    \\\\\n",
       "\t 33.9  &  71.1 &  65   & 4.22  & 1.835 & 19.90 & 1     & 1     & 4     & 1     & 4    \\\\\n",
       "\t 15.5  & 318.0 & 150   & 2.76  & 3.520 & 16.87 & 0     & 0     & 3     & 2     & 8    \\\\\n",
       "\t 18.7  & 360.0 & 175   & 3.15  & 3.440 & 17.02 & 0     & 0     & 3     & 2     & 8    \\\\\n",
       "\t 19.2  & 400.0 & 175   & 3.08  & 3.845 & 17.05 & 0     & 0     & 3     & 2     & 8    \\\\\n",
       "\t 15.2  & 304.0 & 150   & 3.15  & 3.435 & 17.30 & 0     & 0     & 3     & 2     & 8    \\\\\n",
       "\t 24.4  & 146.7 &  62   & 3.69  & 3.190 & 20.00 & 1     & 0     & 4     & 2     & 4    \\\\\n",
       "\t 22.8  & 140.8 &  95   & 3.92  & 3.150 & 22.90 & 1     & 0     & 4     & 2     & 4    \\\\\n",
       "\t 30.4  &  75.7 &  52   & 4.93  & 1.615 & 18.52 & 1     & 1     & 4     & 2     & 4    \\\\\n",
       "\t 21.4  & 121.0 & 109   & 4.11  & 2.780 & 18.60 & 1     & 1     & 4     & 2     & 4    \\\\\n",
       "\t 26.0  & 120.3 &  91   & 4.43  & 2.140 & 16.70 & 0     & 1     & 5     & 2     & 4    \\\\\n",
       "\t 30.4  &  95.1 & 113   & 3.77  & 1.513 & 16.90 & 1     & 1     & 5     & 2     & 4    \\\\\n",
       "\t 16.4  & 275.8 & 180   & 3.07  & 4.070 & 17.40 & 0     & 0     & 3     & 3     & 8    \\\\\n",
       "\t 17.3  & 275.8 & 180   & 3.07  & 3.730 & 17.60 & 0     & 0     & 3     & 3     & 8    \\\\\n",
       "\t 15.2  & 275.8 & 180   & 3.07  & 3.780 & 18.00 & 0     & 0     & 3     & 3     & 8    \\\\\n",
       "\t 13.3  & 350.0 & 245   & 3.73  & 3.840 & 15.41 & 0     & 0     & 3     & 4     & 8    \\\\\n",
       "\t 14.3  & 360.0 & 245   & 3.21  & 3.570 & 15.84 & 0     & 0     & 3     & 4     & 8    \\\\\n",
       "\t 14.7  & 440.0 & 230   & 3.23  & 5.345 & 17.42 & 0     & 0     & 3     & 4     & 8    \\\\\n",
       "\t 10.4  & 460.0 & 215   & 3.00  & 5.424 & 17.82 & 0     & 0     & 3     & 4     & 8    \\\\\n",
       "\t 10.4  & 472.0 & 205   & 2.93  & 5.250 & 17.98 & 0     & 0     & 3     & 4     & 8    \\\\\n",
       "\t 19.2  & 167.6 & 123   & 3.92  & 3.440 & 18.30 & 1     & 0     & 4     & 4     & 6    \\\\\n",
       "\t 17.8  & 167.6 & 123   & 3.92  & 3.440 & 18.90 & 1     & 0     & 4     & 4     & 6    \\\\\n",
       "\t 21.0  & 160.0 & 110   & 3.90  & 2.620 & 16.46 & 0     & 1     & 4     & 4     & 6    \\\\\n",
       "\t 21.0  & 160.0 & 110   & 3.90  & 2.875 & 17.02 & 0     & 1     & 4     & 4     & 6    \\\\\n",
       "\t 15.8  & 351.0 & 264   & 4.22  & 3.170 & 14.50 & 0     & 1     & 5     & 4     & 8    \\\\\n",
       "\t 19.7  & 145.0 & 175   & 3.62  & 2.770 & 15.50 & 0     & 1     & 5     & 6     & 6    \\\\\n",
       "\t 15.0  & 301.0 & 335   & 3.54  & 3.570 & 14.60 & 0     & 1     & 5     & 8     & 8    \\\\\n",
       "\\end{tabular}\n"
      ],
      "text/markdown": [
       "\n",
       "| mpg | disp | hp | drat | wt | qsec | vs | am | gear | carb | cyl |\n",
       "|---|---|---|---|---|---|---|---|---|---|---|\n",
       "| 21.4  | 258.0 | 110   | 3.08  | 3.215 | 19.44 | 1     | 0     | 3     | 1     | 6     |\n",
       "| 21.5  | 120.1 |  97   | 3.70  | 2.465 | 20.01 | 1     | 0     | 3     | 1     | 4     |\n",
       "| 18.1  | 225.0 | 105   | 2.76  | 3.460 | 20.22 | 1     | 0     | 3     | 1     | 6     |\n",
       "| 22.8  | 108.0 |  93   | 3.85  | 2.320 | 18.61 | 1     | 1     | 4     | 1     | 4     |\n",
       "| 27.3  |  79.0 |  66   | 4.08  | 1.935 | 18.90 | 1     | 1     | 4     | 1     | 4     |\n",
       "| 32.4  |  78.7 |  66   | 4.08  | 2.200 | 19.47 | 1     | 1     | 4     | 1     | 4     |\n",
       "| 33.9  |  71.1 |  65   | 4.22  | 1.835 | 19.90 | 1     | 1     | 4     | 1     | 4     |\n",
       "| 15.5  | 318.0 | 150   | 2.76  | 3.520 | 16.87 | 0     | 0     | 3     | 2     | 8     |\n",
       "| 18.7  | 360.0 | 175   | 3.15  | 3.440 | 17.02 | 0     | 0     | 3     | 2     | 8     |\n",
       "| 19.2  | 400.0 | 175   | 3.08  | 3.845 | 17.05 | 0     | 0     | 3     | 2     | 8     |\n",
       "| 15.2  | 304.0 | 150   | 3.15  | 3.435 | 17.30 | 0     | 0     | 3     | 2     | 8     |\n",
       "| 24.4  | 146.7 |  62   | 3.69  | 3.190 | 20.00 | 1     | 0     | 4     | 2     | 4     |\n",
       "| 22.8  | 140.8 |  95   | 3.92  | 3.150 | 22.90 | 1     | 0     | 4     | 2     | 4     |\n",
       "| 30.4  |  75.7 |  52   | 4.93  | 1.615 | 18.52 | 1     | 1     | 4     | 2     | 4     |\n",
       "| 21.4  | 121.0 | 109   | 4.11  | 2.780 | 18.60 | 1     | 1     | 4     | 2     | 4     |\n",
       "| 26.0  | 120.3 |  91   | 4.43  | 2.140 | 16.70 | 0     | 1     | 5     | 2     | 4     |\n",
       "| 30.4  |  95.1 | 113   | 3.77  | 1.513 | 16.90 | 1     | 1     | 5     | 2     | 4     |\n",
       "| 16.4  | 275.8 | 180   | 3.07  | 4.070 | 17.40 | 0     | 0     | 3     | 3     | 8     |\n",
       "| 17.3  | 275.8 | 180   | 3.07  | 3.730 | 17.60 | 0     | 0     | 3     | 3     | 8     |\n",
       "| 15.2  | 275.8 | 180   | 3.07  | 3.780 | 18.00 | 0     | 0     | 3     | 3     | 8     |\n",
       "| 13.3  | 350.0 | 245   | 3.73  | 3.840 | 15.41 | 0     | 0     | 3     | 4     | 8     |\n",
       "| 14.3  | 360.0 | 245   | 3.21  | 3.570 | 15.84 | 0     | 0     | 3     | 4     | 8     |\n",
       "| 14.7  | 440.0 | 230   | 3.23  | 5.345 | 17.42 | 0     | 0     | 3     | 4     | 8     |\n",
       "| 10.4  | 460.0 | 215   | 3.00  | 5.424 | 17.82 | 0     | 0     | 3     | 4     | 8     |\n",
       "| 10.4  | 472.0 | 205   | 2.93  | 5.250 | 17.98 | 0     | 0     | 3     | 4     | 8     |\n",
       "| 19.2  | 167.6 | 123   | 3.92  | 3.440 | 18.30 | 1     | 0     | 4     | 4     | 6     |\n",
       "| 17.8  | 167.6 | 123   | 3.92  | 3.440 | 18.90 | 1     | 0     | 4     | 4     | 6     |\n",
       "| 21.0  | 160.0 | 110   | 3.90  | 2.620 | 16.46 | 0     | 1     | 4     | 4     | 6     |\n",
       "| 21.0  | 160.0 | 110   | 3.90  | 2.875 | 17.02 | 0     | 1     | 4     | 4     | 6     |\n",
       "| 15.8  | 351.0 | 264   | 4.22  | 3.170 | 14.50 | 0     | 1     | 5     | 4     | 8     |\n",
       "| 19.7  | 145.0 | 175   | 3.62  | 2.770 | 15.50 | 0     | 1     | 5     | 6     | 6     |\n",
       "| 15.0  | 301.0 | 335   | 3.54  | 3.570 | 14.60 | 0     | 1     | 5     | 8     | 8     |\n",
       "\n"
      ],
      "text/plain": [
       "   mpg  disp  hp  drat wt    qsec  vs am gear carb cyl\n",
       "1  21.4 258.0 110 3.08 3.215 19.44 1  0  3    1    6  \n",
       "2  21.5 120.1  97 3.70 2.465 20.01 1  0  3    1    4  \n",
       "3  18.1 225.0 105 2.76 3.460 20.22 1  0  3    1    6  \n",
       "4  22.8 108.0  93 3.85 2.320 18.61 1  1  4    1    4  \n",
       "5  27.3  79.0  66 4.08 1.935 18.90 1  1  4    1    4  \n",
       "6  32.4  78.7  66 4.08 2.200 19.47 1  1  4    1    4  \n",
       "7  33.9  71.1  65 4.22 1.835 19.90 1  1  4    1    4  \n",
       "8  15.5 318.0 150 2.76 3.520 16.87 0  0  3    2    8  \n",
       "9  18.7 360.0 175 3.15 3.440 17.02 0  0  3    2    8  \n",
       "10 19.2 400.0 175 3.08 3.845 17.05 0  0  3    2    8  \n",
       "11 15.2 304.0 150 3.15 3.435 17.30 0  0  3    2    8  \n",
       "12 24.4 146.7  62 3.69 3.190 20.00 1  0  4    2    4  \n",
       "13 22.8 140.8  95 3.92 3.150 22.90 1  0  4    2    4  \n",
       "14 30.4  75.7  52 4.93 1.615 18.52 1  1  4    2    4  \n",
       "15 21.4 121.0 109 4.11 2.780 18.60 1  1  4    2    4  \n",
       "16 26.0 120.3  91 4.43 2.140 16.70 0  1  5    2    4  \n",
       "17 30.4  95.1 113 3.77 1.513 16.90 1  1  5    2    4  \n",
       "18 16.4 275.8 180 3.07 4.070 17.40 0  0  3    3    8  \n",
       "19 17.3 275.8 180 3.07 3.730 17.60 0  0  3    3    8  \n",
       "20 15.2 275.8 180 3.07 3.780 18.00 0  0  3    3    8  \n",
       "21 13.3 350.0 245 3.73 3.840 15.41 0  0  3    4    8  \n",
       "22 14.3 360.0 245 3.21 3.570 15.84 0  0  3    4    8  \n",
       "23 14.7 440.0 230 3.23 5.345 17.42 0  0  3    4    8  \n",
       "24 10.4 460.0 215 3.00 5.424 17.82 0  0  3    4    8  \n",
       "25 10.4 472.0 205 2.93 5.250 17.98 0  0  3    4    8  \n",
       "26 19.2 167.6 123 3.92 3.440 18.30 1  0  4    4    6  \n",
       "27 17.8 167.6 123 3.92 3.440 18.90 1  0  4    4    6  \n",
       "28 21.0 160.0 110 3.90 2.620 16.46 0  1  4    4    6  \n",
       "29 21.0 160.0 110 3.90 2.875 17.02 0  1  4    4    6  \n",
       "30 15.8 351.0 264 4.22 3.170 14.50 0  1  5    4    8  \n",
       "31 19.7 145.0 175 3.62 2.770 15.50 0  1  5    6    6  \n",
       "32 15.0 301.0 335 3.54 3.570 14.60 0  1  5    8    8  "
      ]
     },
     "metadata": {},
     "output_type": "display_data"
    }
   ],
   "source": [
    "# cyl 제외한 다른 모든 컬럼을 기준으로 cyl 의 평균을 구하기\n",
    "with(car.df,aggregate(cyl,as.list(car.df[-2]),mean)) #as.list 안하면=> list(data.frame) 원소 1개다\n",
    "aggregate(cyl~.,car.df,mean)"
   ]
  }
 ],
 "metadata": {
  "kernelspec": {
   "display_name": "R",
   "language": "R",
   "name": "ir"
  },
  "language_info": {
   "codemirror_mode": "r",
   "file_extension": ".r",
   "mimetype": "text/x-r-source",
   "name": "R",
   "pygments_lexer": "r",
   "version": "3.6.1"
  }
 },
 "nbformat": 4,
 "nbformat_minor": 5
}
