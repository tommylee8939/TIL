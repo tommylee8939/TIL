{
 "cells": [
  {
   "cell_type": "markdown",
   "id": "corresponding-ghana",
   "metadata": {},
   "source": [
    "## R11 ; data.frame functions-3 ; doBy"
   ]
  },
  {
   "cell_type": "code",
   "execution_count": 2,
   "id": "activated-label",
   "metadata": {},
   "outputs": [
    {
     "name": "stderr",
     "output_type": "stream",
     "text": [
      "Warning message:\n",
      "“package ‘doBy’ was built under R version 3.6.3”Registered S3 methods overwritten by 'ggplot2':\n",
      "  method         from \n",
      "  [.quosures     rlang\n",
      "  c.quosures     rlang\n",
      "  print.quosures rlang\n"
     ]
    }
   ],
   "source": [
    "library(doBy)"
   ]
  },
  {
   "cell_type": "markdown",
   "id": "british-astronomy",
   "metadata": {},
   "source": [
    "#### 1. summaryBy(formula,data,FUN )\n",
    "- FUN 여러개 넣고 싶으면 list로\n",
    "- 원하는 컬럼의 값을 특정 조건에 따라 요약할 때 사용"
   ]
  },
  {
   "cell_type": "code",
   "execution_count": 3,
   "id": "certified-space",
   "metadata": {},
   "outputs": [
    {
     "data": {
      "text/html": [
       "<table>\n",
       "<thead><tr><th scope=col>Species</th><th scope=col>Sepal.Length.mean</th><th scope=col>Sepal.Width.mean</th><th scope=col>Petal.Length.mean</th><th scope=col>Petal.Width.mean</th></tr></thead>\n",
       "<tbody>\n",
       "\t<tr><td>setosa    </td><td>5.006     </td><td>3.428     </td><td>1.462     </td><td>0.246     </td></tr>\n",
       "\t<tr><td>versicolor</td><td>5.936     </td><td>2.770     </td><td>4.260     </td><td>1.326     </td></tr>\n",
       "\t<tr><td>virginica </td><td>6.588     </td><td>2.974     </td><td>5.552     </td><td>2.026     </td></tr>\n",
       "</tbody>\n",
       "</table>\n"
      ],
      "text/latex": [
       "\\begin{tabular}{r|lllll}\n",
       " Species & Sepal.Length.mean & Sepal.Width.mean & Petal.Length.mean & Petal.Width.mean\\\\\n",
       "\\hline\n",
       "\t setosa     & 5.006      & 3.428      & 1.462      & 0.246     \\\\\n",
       "\t versicolor & 5.936      & 2.770      & 4.260      & 1.326     \\\\\n",
       "\t virginica  & 6.588      & 2.974      & 5.552      & 2.026     \\\\\n",
       "\\end{tabular}\n"
      ],
      "text/markdown": [
       "\n",
       "| Species | Sepal.Length.mean | Sepal.Width.mean | Petal.Length.mean | Petal.Width.mean |\n",
       "|---|---|---|---|---|\n",
       "| setosa     | 5.006      | 3.428      | 1.462      | 0.246      |\n",
       "| versicolor | 5.936      | 2.770      | 4.260      | 1.326      |\n",
       "| virginica  | 6.588      | 2.974      | 5.552      | 2.026      |\n",
       "\n"
      ],
      "text/plain": [
       "  Species    Sepal.Length.mean Sepal.Width.mean Petal.Length.mean\n",
       "1 setosa     5.006             3.428            1.462            \n",
       "2 versicolor 5.936             2.770            4.260            \n",
       "3 virginica  6.588             2.974            5.552            \n",
       "  Petal.Width.mean\n",
       "1 0.246           \n",
       "2 1.326           \n",
       "3 2.026           "
      ]
     },
     "metadata": {},
     "output_type": "display_data"
    }
   ],
   "source": [
    "summaryBy(.~Species,iris)"
   ]
  },
  {
   "cell_type": "code",
   "execution_count": 4,
   "id": "suitable-appraisal",
   "metadata": {},
   "outputs": [
    {
     "data": {
      "text/html": [
       "<table>\n",
       "<thead><tr><th scope=col>Species</th><th scope=col>Sepal.Length.mean</th></tr></thead>\n",
       "<tbody>\n",
       "\t<tr><td>setosa    </td><td>5.006     </td></tr>\n",
       "\t<tr><td>versicolor</td><td>5.936     </td></tr>\n",
       "\t<tr><td>virginica </td><td>6.588     </td></tr>\n",
       "</tbody>\n",
       "</table>\n"
      ],
      "text/latex": [
       "\\begin{tabular}{r|ll}\n",
       " Species & Sepal.Length.mean\\\\\n",
       "\\hline\n",
       "\t setosa     & 5.006     \\\\\n",
       "\t versicolor & 5.936     \\\\\n",
       "\t virginica  & 6.588     \\\\\n",
       "\\end{tabular}\n"
      ],
      "text/markdown": [
       "\n",
       "| Species | Sepal.Length.mean |\n",
       "|---|---|\n",
       "| setosa     | 5.006      |\n",
       "| versicolor | 5.936      |\n",
       "| virginica  | 6.588      |\n",
       "\n"
      ],
      "text/plain": [
       "  Species    Sepal.Length.mean\n",
       "1 setosa     5.006            \n",
       "2 versicolor 5.936            \n",
       "3 virginica  6.588            "
      ]
     },
     "metadata": {},
     "output_type": "display_data"
    }
   ],
   "source": [
    "summaryBy(Sepal.Length~Species,iris)"
   ]
  },
  {
   "cell_type": "code",
   "execution_count": 6,
   "id": "fallen-family",
   "metadata": {},
   "outputs": [
    {
     "data": {
      "text/html": [
       "<table>\n",
       "<thead><tr><th scope=col>Species</th><th scope=col>Petal.Length.sd</th></tr></thead>\n",
       "<tbody>\n",
       "\t<tr><td>setosa    </td><td>0.1736640 </td></tr>\n",
       "\t<tr><td>versicolor</td><td>0.4699110 </td></tr>\n",
       "\t<tr><td>virginica </td><td>0.5518947 </td></tr>\n",
       "</tbody>\n",
       "</table>\n"
      ],
      "text/latex": [
       "\\begin{tabular}{r|ll}\n",
       " Species & Petal.Length.sd\\\\\n",
       "\\hline\n",
       "\t setosa     & 0.1736640 \\\\\n",
       "\t versicolor & 0.4699110 \\\\\n",
       "\t virginica  & 0.5518947 \\\\\n",
       "\\end{tabular}\n"
      ],
      "text/markdown": [
       "\n",
       "| Species | Petal.Length.sd |\n",
       "|---|---|\n",
       "| setosa     | 0.1736640  |\n",
       "| versicolor | 0.4699110  |\n",
       "| virginica  | 0.5518947  |\n",
       "\n"
      ],
      "text/plain": [
       "  Species    Petal.Length.sd\n",
       "1 setosa     0.1736640      \n",
       "2 versicolor 0.4699110      \n",
       "3 virginica  0.5518947      "
      ]
     },
     "metadata": {},
     "output_type": "display_data"
    }
   ],
   "source": [
    "summaryBy(Petal.Length~Species,data=iris,FUN=sd)"
   ]
  },
  {
   "cell_type": "code",
   "execution_count": 8,
   "id": "closing-hudson",
   "metadata": {},
   "outputs": [
    {
     "data": {
      "text/html": [
       "<table>\n",
       "<thead><tr><th scope=col>Species</th><th scope=col>Petal.Length.sd</th><th scope=col>Petal.Length.mean</th></tr></thead>\n",
       "<tbody>\n",
       "\t<tr><td>setosa    </td><td>0.1736640 </td><td>1.462     </td></tr>\n",
       "\t<tr><td>versicolor</td><td>0.4699110 </td><td>4.260     </td></tr>\n",
       "\t<tr><td>virginica </td><td>0.5518947 </td><td>5.552     </td></tr>\n",
       "</tbody>\n",
       "</table>\n"
      ],
      "text/latex": [
       "\\begin{tabular}{r|lll}\n",
       " Species & Petal.Length.sd & Petal.Length.mean\\\\\n",
       "\\hline\n",
       "\t setosa     & 0.1736640  & 1.462     \\\\\n",
       "\t versicolor & 0.4699110  & 4.260     \\\\\n",
       "\t virginica  & 0.5518947  & 5.552     \\\\\n",
       "\\end{tabular}\n"
      ],
      "text/markdown": [
       "\n",
       "| Species | Petal.Length.sd | Petal.Length.mean |\n",
       "|---|---|---|\n",
       "| setosa     | 0.1736640  | 1.462      |\n",
       "| versicolor | 0.4699110  | 4.260      |\n",
       "| virginica  | 0.5518947  | 5.552      |\n",
       "\n"
      ],
      "text/plain": [
       "  Species    Petal.Length.sd Petal.Length.mean\n",
       "1 setosa     0.1736640       1.462            \n",
       "2 versicolor 0.4699110       4.260            \n",
       "3 virginica  0.5518947       5.552            "
      ]
     },
     "metadata": {},
     "output_type": "display_data"
    }
   ],
   "source": [
    "summaryBy(Petal.Length~Species,data=iris,FUN=list(sd,mean))"
   ]
  },
  {
   "cell_type": "markdown",
   "id": "appropriate-madison",
   "metadata": {},
   "source": [
    "#### 2.orderBy(r_formula,data)\n",
    "- formula에는 right hand side of formula\n",
    "- (-)사용시 decreasing 의미한다"
   ]
  },
  {
   "cell_type": "code",
   "execution_count": 12,
   "id": "clean-ottawa",
   "metadata": {},
   "outputs": [
    {
     "data": {
      "text/html": [
       "<table>\n",
       "<thead><tr><th scope=col>Sepal.Length</th><th scope=col>Sepal.Width</th><th scope=col>Petal.Length</th><th scope=col>Petal.Width</th><th scope=col>Species</th></tr></thead>\n",
       "<tbody>\n",
       "\t<tr><td>5.1   </td><td>3.5   </td><td>1.4   </td><td>0.2   </td><td>setosa</td></tr>\n",
       "\t<tr><td>4.9   </td><td>3.0   </td><td>1.4   </td><td>0.2   </td><td>setosa</td></tr>\n",
       "\t<tr><td>4.7   </td><td>3.2   </td><td>1.3   </td><td>0.2   </td><td>setosa</td></tr>\n",
       "\t<tr><td>4.6   </td><td>3.1   </td><td>1.5   </td><td>0.2   </td><td>setosa</td></tr>\n",
       "\t<tr><td>5.0   </td><td>3.6   </td><td>1.4   </td><td>0.2   </td><td>setosa</td></tr>\n",
       "\t<tr><td>5.4   </td><td>3.9   </td><td>1.7   </td><td>0.4   </td><td>setosa</td></tr>\n",
       "</tbody>\n",
       "</table>\n"
      ],
      "text/latex": [
       "\\begin{tabular}{r|lllll}\n",
       " Sepal.Length & Sepal.Width & Petal.Length & Petal.Width & Species\\\\\n",
       "\\hline\n",
       "\t 5.1    & 3.5    & 1.4    & 0.2    & setosa\\\\\n",
       "\t 4.9    & 3.0    & 1.4    & 0.2    & setosa\\\\\n",
       "\t 4.7    & 3.2    & 1.3    & 0.2    & setosa\\\\\n",
       "\t 4.6    & 3.1    & 1.5    & 0.2    & setosa\\\\\n",
       "\t 5.0    & 3.6    & 1.4    & 0.2    & setosa\\\\\n",
       "\t 5.4    & 3.9    & 1.7    & 0.4    & setosa\\\\\n",
       "\\end{tabular}\n"
      ],
      "text/markdown": [
       "\n",
       "| Sepal.Length | Sepal.Width | Petal.Length | Petal.Width | Species |\n",
       "|---|---|---|---|---|\n",
       "| 5.1    | 3.5    | 1.4    | 0.2    | setosa |\n",
       "| 4.9    | 3.0    | 1.4    | 0.2    | setosa |\n",
       "| 4.7    | 3.2    | 1.3    | 0.2    | setosa |\n",
       "| 4.6    | 3.1    | 1.5    | 0.2    | setosa |\n",
       "| 5.0    | 3.6    | 1.4    | 0.2    | setosa |\n",
       "| 5.4    | 3.9    | 1.7    | 0.4    | setosa |\n",
       "\n"
      ],
      "text/plain": [
       "  Sepal.Length Sepal.Width Petal.Length Petal.Width Species\n",
       "1 5.1          3.5         1.4          0.2         setosa \n",
       "2 4.9          3.0         1.4          0.2         setosa \n",
       "3 4.7          3.2         1.3          0.2         setosa \n",
       "4 4.6          3.1         1.5          0.2         setosa \n",
       "5 5.0          3.6         1.4          0.2         setosa \n",
       "6 5.4          3.9         1.7          0.4         setosa "
      ]
     },
     "metadata": {},
     "output_type": "display_data"
    }
   ],
   "source": [
    "head(orderBy(~Species,iris))"
   ]
  },
  {
   "cell_type": "code",
   "execution_count": 11,
   "id": "monthly-america",
   "metadata": {},
   "outputs": [
    {
     "data": {
      "text/html": [
       "<table>\n",
       "<thead><tr><th></th><th scope=col>Sepal.Length</th><th scope=col>Sepal.Width</th><th scope=col>Petal.Length</th><th scope=col>Petal.Width</th><th scope=col>Species</th></tr></thead>\n",
       "<tbody>\n",
       "\t<tr><th scope=row>132</th><td>7.9      </td><td>3.8      </td><td>6.4      </td><td>2.0      </td><td>virginica</td></tr>\n",
       "\t<tr><th scope=row>118</th><td>7.7      </td><td>3.8      </td><td>6.7      </td><td>2.2      </td><td>virginica</td></tr>\n",
       "\t<tr><th scope=row>119</th><td>7.7      </td><td>2.6      </td><td>6.9      </td><td>2.3      </td><td>virginica</td></tr>\n",
       "\t<tr><th scope=row>123</th><td>7.7      </td><td>2.8      </td><td>6.7      </td><td>2.0      </td><td>virginica</td></tr>\n",
       "\t<tr><th scope=row>136</th><td>7.7      </td><td>3.0      </td><td>6.1      </td><td>2.3      </td><td>virginica</td></tr>\n",
       "\t<tr><th scope=row>106</th><td>7.6      </td><td>3.0      </td><td>6.6      </td><td>2.1      </td><td>virginica</td></tr>\n",
       "</tbody>\n",
       "</table>\n"
      ],
      "text/latex": [
       "\\begin{tabular}{r|lllll}\n",
       "  & Sepal.Length & Sepal.Width & Petal.Length & Petal.Width & Species\\\\\n",
       "\\hline\n",
       "\t132 & 7.9       & 3.8       & 6.4       & 2.0       & virginica\\\\\n",
       "\t118 & 7.7       & 3.8       & 6.7       & 2.2       & virginica\\\\\n",
       "\t119 & 7.7       & 2.6       & 6.9       & 2.3       & virginica\\\\\n",
       "\t123 & 7.7       & 2.8       & 6.7       & 2.0       & virginica\\\\\n",
       "\t136 & 7.7       & 3.0       & 6.1       & 2.3       & virginica\\\\\n",
       "\t106 & 7.6       & 3.0       & 6.6       & 2.1       & virginica\\\\\n",
       "\\end{tabular}\n"
      ],
      "text/markdown": [
       "\n",
       "| <!--/--> | Sepal.Length | Sepal.Width | Petal.Length | Petal.Width | Species |\n",
       "|---|---|---|---|---|---|\n",
       "| 132 | 7.9       | 3.8       | 6.4       | 2.0       | virginica |\n",
       "| 118 | 7.7       | 3.8       | 6.7       | 2.2       | virginica |\n",
       "| 119 | 7.7       | 2.6       | 6.9       | 2.3       | virginica |\n",
       "| 123 | 7.7       | 2.8       | 6.7       | 2.0       | virginica |\n",
       "| 136 | 7.7       | 3.0       | 6.1       | 2.3       | virginica |\n",
       "| 106 | 7.6       | 3.0       | 6.6       | 2.1       | virginica |\n",
       "\n"
      ],
      "text/plain": [
       "    Sepal.Length Sepal.Width Petal.Length Petal.Width Species  \n",
       "132 7.9          3.8         6.4          2.0         virginica\n",
       "118 7.7          3.8         6.7          2.2         virginica\n",
       "119 7.7          2.6         6.9          2.3         virginica\n",
       "123 7.7          2.8         6.7          2.0         virginica\n",
       "136 7.7          3.0         6.1          2.3         virginica\n",
       "106 7.6          3.0         6.6          2.1         virginica"
      ]
     },
     "metadata": {},
     "output_type": "display_data"
    }
   ],
   "source": [
    "head(orderBy(~-Sepal.Length,iris))"
   ]
  },
  {
   "cell_type": "code",
   "execution_count": 13,
   "id": "olympic-vector",
   "metadata": {},
   "outputs": [
    {
     "data": {
      "text/html": [
       "<table>\n",
       "<thead><tr><th></th><th scope=col>Sepal.Length</th><th scope=col>Sepal.Width</th><th scope=col>Petal.Length</th><th scope=col>Petal.Width</th><th scope=col>Species</th></tr></thead>\n",
       "<tbody>\n",
       "\t<tr><th scope=row>132</th><td>7.9      </td><td>3.8      </td><td>6.4      </td><td>2.0      </td><td>virginica</td></tr>\n",
       "\t<tr><th scope=row>136</th><td>7.7      </td><td>3.0      </td><td>6.1      </td><td>2.3      </td><td>virginica</td></tr>\n",
       "\t<tr><th scope=row>118</th><td>7.7      </td><td>3.8      </td><td>6.7      </td><td>2.2      </td><td>virginica</td></tr>\n",
       "\t<tr><th scope=row>123</th><td>7.7      </td><td>2.8      </td><td>6.7      </td><td>2.0      </td><td>virginica</td></tr>\n",
       "\t<tr><th scope=row>119</th><td>7.7      </td><td>2.6      </td><td>6.9      </td><td>2.3      </td><td>virginica</td></tr>\n",
       "\t<tr><th scope=row>106</th><td>7.6      </td><td>3.0      </td><td>6.6      </td><td>2.1      </td><td>virginica</td></tr>\n",
       "</tbody>\n",
       "</table>\n"
      ],
      "text/latex": [
       "\\begin{tabular}{r|lllll}\n",
       "  & Sepal.Length & Sepal.Width & Petal.Length & Petal.Width & Species\\\\\n",
       "\\hline\n",
       "\t132 & 7.9       & 3.8       & 6.4       & 2.0       & virginica\\\\\n",
       "\t136 & 7.7       & 3.0       & 6.1       & 2.3       & virginica\\\\\n",
       "\t118 & 7.7       & 3.8       & 6.7       & 2.2       & virginica\\\\\n",
       "\t123 & 7.7       & 2.8       & 6.7       & 2.0       & virginica\\\\\n",
       "\t119 & 7.7       & 2.6       & 6.9       & 2.3       & virginica\\\\\n",
       "\t106 & 7.6       & 3.0       & 6.6       & 2.1       & virginica\\\\\n",
       "\\end{tabular}\n"
      ],
      "text/markdown": [
       "\n",
       "| <!--/--> | Sepal.Length | Sepal.Width | Petal.Length | Petal.Width | Species |\n",
       "|---|---|---|---|---|---|\n",
       "| 132 | 7.9       | 3.8       | 6.4       | 2.0       | virginica |\n",
       "| 136 | 7.7       | 3.0       | 6.1       | 2.3       | virginica |\n",
       "| 118 | 7.7       | 3.8       | 6.7       | 2.2       | virginica |\n",
       "| 123 | 7.7       | 2.8       | 6.7       | 2.0       | virginica |\n",
       "| 119 | 7.7       | 2.6       | 6.9       | 2.3       | virginica |\n",
       "| 106 | 7.6       | 3.0       | 6.6       | 2.1       | virginica |\n",
       "\n"
      ],
      "text/plain": [
       "    Sepal.Length Sepal.Width Petal.Length Petal.Width Species  \n",
       "132 7.9          3.8         6.4          2.0         virginica\n",
       "136 7.7          3.0         6.1          2.3         virginica\n",
       "118 7.7          3.8         6.7          2.2         virginica\n",
       "123 7.7          2.8         6.7          2.0         virginica\n",
       "119 7.7          2.6         6.9          2.3         virginica\n",
       "106 7.6          3.0         6.6          2.1         virginica"
      ]
     },
     "metadata": {},
     "output_type": "display_data"
    }
   ],
   "source": [
    "head(orderBy(~-Sepal.Length+Petal.Length,iris))"
   ]
  },
  {
   "cell_type": "markdown",
   "id": "aquatic-symphony",
   "metadata": {},
   "source": [
    "#### 3. sampleBy(formula=~그룹,frac=0.1,data)"
   ]
  },
  {
   "cell_type": "code",
   "execution_count": 20,
   "id": "fifteen-gambling",
   "metadata": {},
   "outputs": [
    {
     "data": {
      "text/html": [
       "<table>\n",
       "<thead><tr><th></th><th scope=col>Sepal.Length</th><th scope=col>Sepal.Width</th><th scope=col>Petal.Length</th><th scope=col>Petal.Width</th><th scope=col>Species</th></tr></thead>\n",
       "<tbody>\n",
       "\t<tr><th scope=row>setosa.19</th><td>5.7       </td><td>3.8       </td><td>1.7       </td><td>0.3       </td><td>setosa    </td></tr>\n",
       "\t<tr><th scope=row>setosa.22</th><td>5.1       </td><td>3.7       </td><td>1.5       </td><td>0.4       </td><td>setosa    </td></tr>\n",
       "\t<tr><th scope=row>setosa.26</th><td>5.0       </td><td>3.0       </td><td>1.6       </td><td>0.2       </td><td>setosa    </td></tr>\n",
       "\t<tr><th scope=row>setosa.35</th><td>4.9       </td><td>3.1       </td><td>1.5       </td><td>0.2       </td><td>setosa    </td></tr>\n",
       "\t<tr><th scope=row>setosa.41</th><td>5.0       </td><td>3.5       </td><td>1.3       </td><td>0.3       </td><td>setosa    </td></tr>\n",
       "\t<tr><th scope=row>versicolor.69</th><td>6.2       </td><td>2.2       </td><td>4.5       </td><td>1.5       </td><td>versicolor</td></tr>\n",
       "\t<tr><th scope=row>versicolor.73</th><td>6.3       </td><td>2.5       </td><td>4.9       </td><td>1.5       </td><td>versicolor</td></tr>\n",
       "\t<tr><th scope=row>versicolor.80</th><td>5.7       </td><td>2.6       </td><td>3.5       </td><td>1.0       </td><td>versicolor</td></tr>\n",
       "\t<tr><th scope=row>versicolor.83</th><td>5.8       </td><td>2.7       </td><td>3.9       </td><td>1.2       </td><td>versicolor</td></tr>\n",
       "\t<tr><th scope=row>versicolor.99</th><td>5.1       </td><td>2.5       </td><td>3.0       </td><td>1.1       </td><td>versicolor</td></tr>\n",
       "\t<tr><th scope=row>virginica.102</th><td>5.8       </td><td>2.7       </td><td>5.1       </td><td>1.9       </td><td>virginica </td></tr>\n",
       "\t<tr><th scope=row>virginica.106</th><td>7.6       </td><td>3.0       </td><td>6.6       </td><td>2.1       </td><td>virginica </td></tr>\n",
       "\t<tr><th scope=row>virginica.131</th><td>7.4       </td><td>2.8       </td><td>6.1       </td><td>1.9       </td><td>virginica </td></tr>\n",
       "\t<tr><th scope=row>virginica.141</th><td>6.7       </td><td>3.1       </td><td>5.6       </td><td>2.4       </td><td>virginica </td></tr>\n",
       "\t<tr><th scope=row>virginica.149</th><td>6.2       </td><td>3.4       </td><td>5.4       </td><td>2.3       </td><td>virginica </td></tr>\n",
       "</tbody>\n",
       "</table>\n"
      ],
      "text/latex": [
       "\\begin{tabular}{r|lllll}\n",
       "  & Sepal.Length & Sepal.Width & Petal.Length & Petal.Width & Species\\\\\n",
       "\\hline\n",
       "\tsetosa.19 & 5.7        & 3.8        & 1.7        & 0.3        & setosa    \\\\\n",
       "\tsetosa.22 & 5.1        & 3.7        & 1.5        & 0.4        & setosa    \\\\\n",
       "\tsetosa.26 & 5.0        & 3.0        & 1.6        & 0.2        & setosa    \\\\\n",
       "\tsetosa.35 & 4.9        & 3.1        & 1.5        & 0.2        & setosa    \\\\\n",
       "\tsetosa.41 & 5.0        & 3.5        & 1.3        & 0.3        & setosa    \\\\\n",
       "\tversicolor.69 & 6.2        & 2.2        & 4.5        & 1.5        & versicolor\\\\\n",
       "\tversicolor.73 & 6.3        & 2.5        & 4.9        & 1.5        & versicolor\\\\\n",
       "\tversicolor.80 & 5.7        & 2.6        & 3.5        & 1.0        & versicolor\\\\\n",
       "\tversicolor.83 & 5.8        & 2.7        & 3.9        & 1.2        & versicolor\\\\\n",
       "\tversicolor.99 & 5.1        & 2.5        & 3.0        & 1.1        & versicolor\\\\\n",
       "\tvirginica.102 & 5.8        & 2.7        & 5.1        & 1.9        & virginica \\\\\n",
       "\tvirginica.106 & 7.6        & 3.0        & 6.6        & 2.1        & virginica \\\\\n",
       "\tvirginica.131 & 7.4        & 2.8        & 6.1        & 1.9        & virginica \\\\\n",
       "\tvirginica.141 & 6.7        & 3.1        & 5.6        & 2.4        & virginica \\\\\n",
       "\tvirginica.149 & 6.2        & 3.4        & 5.4        & 2.3        & virginica \\\\\n",
       "\\end{tabular}\n"
      ],
      "text/markdown": [
       "\n",
       "| <!--/--> | Sepal.Length | Sepal.Width | Petal.Length | Petal.Width | Species |\n",
       "|---|---|---|---|---|---|\n",
       "| setosa.19 | 5.7        | 3.8        | 1.7        | 0.3        | setosa     |\n",
       "| setosa.22 | 5.1        | 3.7        | 1.5        | 0.4        | setosa     |\n",
       "| setosa.26 | 5.0        | 3.0        | 1.6        | 0.2        | setosa     |\n",
       "| setosa.35 | 4.9        | 3.1        | 1.5        | 0.2        | setosa     |\n",
       "| setosa.41 | 5.0        | 3.5        | 1.3        | 0.3        | setosa     |\n",
       "| versicolor.69 | 6.2        | 2.2        | 4.5        | 1.5        | versicolor |\n",
       "| versicolor.73 | 6.3        | 2.5        | 4.9        | 1.5        | versicolor |\n",
       "| versicolor.80 | 5.7        | 2.6        | 3.5        | 1.0        | versicolor |\n",
       "| versicolor.83 | 5.8        | 2.7        | 3.9        | 1.2        | versicolor |\n",
       "| versicolor.99 | 5.1        | 2.5        | 3.0        | 1.1        | versicolor |\n",
       "| virginica.102 | 5.8        | 2.7        | 5.1        | 1.9        | virginica  |\n",
       "| virginica.106 | 7.6        | 3.0        | 6.6        | 2.1        | virginica  |\n",
       "| virginica.131 | 7.4        | 2.8        | 6.1        | 1.9        | virginica  |\n",
       "| virginica.141 | 6.7        | 3.1        | 5.6        | 2.4        | virginica  |\n",
       "| virginica.149 | 6.2        | 3.4        | 5.4        | 2.3        | virginica  |\n",
       "\n"
      ],
      "text/plain": [
       "              Sepal.Length Sepal.Width Petal.Length Petal.Width Species   \n",
       "setosa.19     5.7          3.8         1.7          0.3         setosa    \n",
       "setosa.22     5.1          3.7         1.5          0.4         setosa    \n",
       "setosa.26     5.0          3.0         1.6          0.2         setosa    \n",
       "setosa.35     4.9          3.1         1.5          0.2         setosa    \n",
       "setosa.41     5.0          3.5         1.3          0.3         setosa    \n",
       "versicolor.69 6.2          2.2         4.5          1.5         versicolor\n",
       "versicolor.73 6.3          2.5         4.9          1.5         versicolor\n",
       "versicolor.80 5.7          2.6         3.5          1.0         versicolor\n",
       "versicolor.83 5.8          2.7         3.9          1.2         versicolor\n",
       "versicolor.99 5.1          2.5         3.0          1.1         versicolor\n",
       "virginica.102 5.8          2.7         5.1          1.9         virginica \n",
       "virginica.106 7.6          3.0         6.6          2.1         virginica \n",
       "virginica.131 7.4          2.8         6.1          1.9         virginica \n",
       "virginica.141 6.7          3.1         5.6          2.4         virginica \n",
       "virginica.149 6.2          3.4         5.4          2.3         virginica "
      ]
     },
     "metadata": {},
     "output_type": "display_data"
    }
   ],
   "source": [
    "sampleBy(~Species,frac=0.1,data=iris) #종별 10%"
   ]
  },
  {
   "cell_type": "code",
   "execution_count": 19,
   "id": "moved-beads",
   "metadata": {},
   "outputs": [
    {
     "data": {
      "text/html": [
       "<table>\n",
       "<thead><tr><th></th><th scope=col>Sepal.Length</th><th scope=col>Sepal.Width</th><th scope=col>Petal.Length</th><th scope=col>Petal.Width</th><th scope=col>Species</th></tr></thead>\n",
       "<tbody>\n",
       "\t<tr><th scope=row>setosa.2</th><td>4.9       </td><td>3.0       </td><td>1.4       </td><td>0.2       </td><td>setosa    </td></tr>\n",
       "\t<tr><th scope=row>setosa.7</th><td>4.6       </td><td>3.4       </td><td>1.4       </td><td>0.3       </td><td>setosa    </td></tr>\n",
       "\t<tr><th scope=row>setosa.13</th><td>4.8       </td><td>3.0       </td><td>1.4       </td><td>0.1       </td><td>setosa    </td></tr>\n",
       "\t<tr><th scope=row>setosa.26</th><td>5.0       </td><td>3.0       </td><td>1.6       </td><td>0.2       </td><td>setosa    </td></tr>\n",
       "\t<tr><th scope=row>setosa.28</th><td>5.2       </td><td>3.5       </td><td>1.5       </td><td>0.2       </td><td>setosa    </td></tr>\n",
       "\t<tr><th scope=row>setosa.29</th><td>5.2       </td><td>3.4       </td><td>1.4       </td><td>0.2       </td><td>setosa    </td></tr>\n",
       "\t<tr><th scope=row>setosa.36</th><td>5.0       </td><td>3.2       </td><td>1.2       </td><td>0.2       </td><td>setosa    </td></tr>\n",
       "\t<tr><th scope=row>setosa.39</th><td>4.4       </td><td>3.0       </td><td>1.3       </td><td>0.2       </td><td>setosa    </td></tr>\n",
       "\t<tr><th scope=row>setosa.45</th><td>5.1       </td><td>3.8       </td><td>1.9       </td><td>0.4       </td><td>setosa    </td></tr>\n",
       "\t<tr><th scope=row>setosa.46</th><td>4.8       </td><td>3.0       </td><td>1.4       </td><td>0.3       </td><td>setosa    </td></tr>\n",
       "\t<tr><th scope=row>versicolor.56</th><td>5.7       </td><td>2.8       </td><td>4.5       </td><td>1.3       </td><td>versicolor</td></tr>\n",
       "\t<tr><th scope=row>versicolor.59</th><td>6.6       </td><td>2.9       </td><td>4.6       </td><td>1.3       </td><td>versicolor</td></tr>\n",
       "\t<tr><th scope=row>versicolor.62</th><td>5.9       </td><td>3.0       </td><td>4.2       </td><td>1.5       </td><td>versicolor</td></tr>\n",
       "\t<tr><th scope=row>versicolor.66</th><td>6.7       </td><td>3.1       </td><td>4.4       </td><td>1.4       </td><td>versicolor</td></tr>\n",
       "\t<tr><th scope=row>versicolor.74</th><td>6.1       </td><td>2.8       </td><td>4.7       </td><td>1.2       </td><td>versicolor</td></tr>\n",
       "\t<tr><th scope=row>versicolor.78</th><td>6.7       </td><td>3.0       </td><td>5.0       </td><td>1.7       </td><td>versicolor</td></tr>\n",
       "\t<tr><th scope=row>versicolor.83</th><td>5.8       </td><td>2.7       </td><td>3.9       </td><td>1.2       </td><td>versicolor</td></tr>\n",
       "\t<tr><th scope=row>versicolor.89</th><td>5.6       </td><td>3.0       </td><td>4.1       </td><td>1.3       </td><td>versicolor</td></tr>\n",
       "\t<tr><th scope=row>versicolor.95</th><td>5.6       </td><td>2.7       </td><td>4.2       </td><td>1.3       </td><td>versicolor</td></tr>\n",
       "\t<tr><th scope=row>versicolor.100</th><td>5.7       </td><td>2.8       </td><td>4.1       </td><td>1.3       </td><td>versicolor</td></tr>\n",
       "\t<tr><th scope=row>virginica.103</th><td>7.1       </td><td>3.0       </td><td>5.9       </td><td>2.1       </td><td>virginica </td></tr>\n",
       "\t<tr><th scope=row>virginica.104</th><td>6.3       </td><td>2.9       </td><td>5.6       </td><td>1.8       </td><td>virginica </td></tr>\n",
       "\t<tr><th scope=row>virginica.113</th><td>6.8       </td><td>3.0       </td><td>5.5       </td><td>2.1       </td><td>virginica </td></tr>\n",
       "\t<tr><th scope=row>virginica.114</th><td>5.7       </td><td>2.5       </td><td>5.0       </td><td>2.0       </td><td>virginica </td></tr>\n",
       "\t<tr><th scope=row>virginica.116</th><td>6.4       </td><td>3.2       </td><td>5.3       </td><td>2.3       </td><td>virginica </td></tr>\n",
       "\t<tr><th scope=row>virginica.120</th><td>6.0       </td><td>2.2       </td><td>5.0       </td><td>1.5       </td><td>virginica </td></tr>\n",
       "\t<tr><th scope=row>virginica.121</th><td>6.9       </td><td>3.2       </td><td>5.7       </td><td>2.3       </td><td>virginica </td></tr>\n",
       "\t<tr><th scope=row>virginica.122</th><td>5.6       </td><td>2.8       </td><td>4.9       </td><td>2.0       </td><td>virginica </td></tr>\n",
       "\t<tr><th scope=row>virginica.124</th><td>6.3       </td><td>2.7       </td><td>4.9       </td><td>1.8       </td><td>virginica </td></tr>\n",
       "\t<tr><th scope=row>virginica.148</th><td>6.5       </td><td>3.0       </td><td>5.2       </td><td>2.0       </td><td>virginica </td></tr>\n",
       "</tbody>\n",
       "</table>\n"
      ],
      "text/latex": [
       "\\begin{tabular}{r|lllll}\n",
       "  & Sepal.Length & Sepal.Width & Petal.Length & Petal.Width & Species\\\\\n",
       "\\hline\n",
       "\tsetosa.2 & 4.9        & 3.0        & 1.4        & 0.2        & setosa    \\\\\n",
       "\tsetosa.7 & 4.6        & 3.4        & 1.4        & 0.3        & setosa    \\\\\n",
       "\tsetosa.13 & 4.8        & 3.0        & 1.4        & 0.1        & setosa    \\\\\n",
       "\tsetosa.26 & 5.0        & 3.0        & 1.6        & 0.2        & setosa    \\\\\n",
       "\tsetosa.28 & 5.2        & 3.5        & 1.5        & 0.2        & setosa    \\\\\n",
       "\tsetosa.29 & 5.2        & 3.4        & 1.4        & 0.2        & setosa    \\\\\n",
       "\tsetosa.36 & 5.0        & 3.2        & 1.2        & 0.2        & setosa    \\\\\n",
       "\tsetosa.39 & 4.4        & 3.0        & 1.3        & 0.2        & setosa    \\\\\n",
       "\tsetosa.45 & 5.1        & 3.8        & 1.9        & 0.4        & setosa    \\\\\n",
       "\tsetosa.46 & 4.8        & 3.0        & 1.4        & 0.3        & setosa    \\\\\n",
       "\tversicolor.56 & 5.7        & 2.8        & 4.5        & 1.3        & versicolor\\\\\n",
       "\tversicolor.59 & 6.6        & 2.9        & 4.6        & 1.3        & versicolor\\\\\n",
       "\tversicolor.62 & 5.9        & 3.0        & 4.2        & 1.5        & versicolor\\\\\n",
       "\tversicolor.66 & 6.7        & 3.1        & 4.4        & 1.4        & versicolor\\\\\n",
       "\tversicolor.74 & 6.1        & 2.8        & 4.7        & 1.2        & versicolor\\\\\n",
       "\tversicolor.78 & 6.7        & 3.0        & 5.0        & 1.7        & versicolor\\\\\n",
       "\tversicolor.83 & 5.8        & 2.7        & 3.9        & 1.2        & versicolor\\\\\n",
       "\tversicolor.89 & 5.6        & 3.0        & 4.1        & 1.3        & versicolor\\\\\n",
       "\tversicolor.95 & 5.6        & 2.7        & 4.2        & 1.3        & versicolor\\\\\n",
       "\tversicolor.100 & 5.7        & 2.8        & 4.1        & 1.3        & versicolor\\\\\n",
       "\tvirginica.103 & 7.1        & 3.0        & 5.9        & 2.1        & virginica \\\\\n",
       "\tvirginica.104 & 6.3        & 2.9        & 5.6        & 1.8        & virginica \\\\\n",
       "\tvirginica.113 & 6.8        & 3.0        & 5.5        & 2.1        & virginica \\\\\n",
       "\tvirginica.114 & 5.7        & 2.5        & 5.0        & 2.0        & virginica \\\\\n",
       "\tvirginica.116 & 6.4        & 3.2        & 5.3        & 2.3        & virginica \\\\\n",
       "\tvirginica.120 & 6.0        & 2.2        & 5.0        & 1.5        & virginica \\\\\n",
       "\tvirginica.121 & 6.9        & 3.2        & 5.7        & 2.3        & virginica \\\\\n",
       "\tvirginica.122 & 5.6        & 2.8        & 4.9        & 2.0        & virginica \\\\\n",
       "\tvirginica.124 & 6.3        & 2.7        & 4.9        & 1.8        & virginica \\\\\n",
       "\tvirginica.148 & 6.5        & 3.0        & 5.2        & 2.0        & virginica \\\\\n",
       "\\end{tabular}\n"
      ],
      "text/markdown": [
       "\n",
       "| <!--/--> | Sepal.Length | Sepal.Width | Petal.Length | Petal.Width | Species |\n",
       "|---|---|---|---|---|---|\n",
       "| setosa.2 | 4.9        | 3.0        | 1.4        | 0.2        | setosa     |\n",
       "| setosa.7 | 4.6        | 3.4        | 1.4        | 0.3        | setosa     |\n",
       "| setosa.13 | 4.8        | 3.0        | 1.4        | 0.1        | setosa     |\n",
       "| setosa.26 | 5.0        | 3.0        | 1.6        | 0.2        | setosa     |\n",
       "| setosa.28 | 5.2        | 3.5        | 1.5        | 0.2        | setosa     |\n",
       "| setosa.29 | 5.2        | 3.4        | 1.4        | 0.2        | setosa     |\n",
       "| setosa.36 | 5.0        | 3.2        | 1.2        | 0.2        | setosa     |\n",
       "| setosa.39 | 4.4        | 3.0        | 1.3        | 0.2        | setosa     |\n",
       "| setosa.45 | 5.1        | 3.8        | 1.9        | 0.4        | setosa     |\n",
       "| setosa.46 | 4.8        | 3.0        | 1.4        | 0.3        | setosa     |\n",
       "| versicolor.56 | 5.7        | 2.8        | 4.5        | 1.3        | versicolor |\n",
       "| versicolor.59 | 6.6        | 2.9        | 4.6        | 1.3        | versicolor |\n",
       "| versicolor.62 | 5.9        | 3.0        | 4.2        | 1.5        | versicolor |\n",
       "| versicolor.66 | 6.7        | 3.1        | 4.4        | 1.4        | versicolor |\n",
       "| versicolor.74 | 6.1        | 2.8        | 4.7        | 1.2        | versicolor |\n",
       "| versicolor.78 | 6.7        | 3.0        | 5.0        | 1.7        | versicolor |\n",
       "| versicolor.83 | 5.8        | 2.7        | 3.9        | 1.2        | versicolor |\n",
       "| versicolor.89 | 5.6        | 3.0        | 4.1        | 1.3        | versicolor |\n",
       "| versicolor.95 | 5.6        | 2.7        | 4.2        | 1.3        | versicolor |\n",
       "| versicolor.100 | 5.7        | 2.8        | 4.1        | 1.3        | versicolor |\n",
       "| virginica.103 | 7.1        | 3.0        | 5.9        | 2.1        | virginica  |\n",
       "| virginica.104 | 6.3        | 2.9        | 5.6        | 1.8        | virginica  |\n",
       "| virginica.113 | 6.8        | 3.0        | 5.5        | 2.1        | virginica  |\n",
       "| virginica.114 | 5.7        | 2.5        | 5.0        | 2.0        | virginica  |\n",
       "| virginica.116 | 6.4        | 3.2        | 5.3        | 2.3        | virginica  |\n",
       "| virginica.120 | 6.0        | 2.2        | 5.0        | 1.5        | virginica  |\n",
       "| virginica.121 | 6.9        | 3.2        | 5.7        | 2.3        | virginica  |\n",
       "| virginica.122 | 5.6        | 2.8        | 4.9        | 2.0        | virginica  |\n",
       "| virginica.124 | 6.3        | 2.7        | 4.9        | 1.8        | virginica  |\n",
       "| virginica.148 | 6.5        | 3.0        | 5.2        | 2.0        | virginica  |\n",
       "\n"
      ],
      "text/plain": [
       "               Sepal.Length Sepal.Width Petal.Length Petal.Width Species   \n",
       "setosa.2       4.9          3.0         1.4          0.2         setosa    \n",
       "setosa.7       4.6          3.4         1.4          0.3         setosa    \n",
       "setosa.13      4.8          3.0         1.4          0.1         setosa    \n",
       "setosa.26      5.0          3.0         1.6          0.2         setosa    \n",
       "setosa.28      5.2          3.5         1.5          0.2         setosa    \n",
       "setosa.29      5.2          3.4         1.4          0.2         setosa    \n",
       "setosa.36      5.0          3.2         1.2          0.2         setosa    \n",
       "setosa.39      4.4          3.0         1.3          0.2         setosa    \n",
       "setosa.45      5.1          3.8         1.9          0.4         setosa    \n",
       "setosa.46      4.8          3.0         1.4          0.3         setosa    \n",
       "versicolor.56  5.7          2.8         4.5          1.3         versicolor\n",
       "versicolor.59  6.6          2.9         4.6          1.3         versicolor\n",
       "versicolor.62  5.9          3.0         4.2          1.5         versicolor\n",
       "versicolor.66  6.7          3.1         4.4          1.4         versicolor\n",
       "versicolor.74  6.1          2.8         4.7          1.2         versicolor\n",
       "versicolor.78  6.7          3.0         5.0          1.7         versicolor\n",
       "versicolor.83  5.8          2.7         3.9          1.2         versicolor\n",
       "versicolor.89  5.6          3.0         4.1          1.3         versicolor\n",
       "versicolor.95  5.6          2.7         4.2          1.3         versicolor\n",
       "versicolor.100 5.7          2.8         4.1          1.3         versicolor\n",
       "virginica.103  7.1          3.0         5.9          2.1         virginica \n",
       "virginica.104  6.3          2.9         5.6          1.8         virginica \n",
       "virginica.113  6.8          3.0         5.5          2.1         virginica \n",
       "virginica.114  5.7          2.5         5.0          2.0         virginica \n",
       "virginica.116  6.4          3.2         5.3          2.3         virginica \n",
       "virginica.120  6.0          2.2         5.0          1.5         virginica \n",
       "virginica.121  6.9          3.2         5.7          2.3         virginica \n",
       "virginica.122  5.6          2.8         4.9          2.0         virginica \n",
       "virginica.124  6.3          2.7         4.9          1.8         virginica \n",
       "virginica.148  6.5          3.0         5.2          2.0         virginica "
      ]
     },
     "metadata": {},
     "output_type": "display_data"
    }
   ],
   "source": [
    "sampleBy(~Species,frac=0.2,data=iris) #종별 20%"
   ]
  }
 ],
 "metadata": {
  "kernelspec": {
   "display_name": "R",
   "language": "R",
   "name": "ir"
  },
  "language_info": {
   "codemirror_mode": "r",
   "file_extension": ".r",
   "mimetype": "text/x-r-source",
   "name": "R",
   "pygments_lexer": "r",
   "version": "3.6.1"
  }
 },
 "nbformat": 4,
 "nbformat_minor": 5
}
