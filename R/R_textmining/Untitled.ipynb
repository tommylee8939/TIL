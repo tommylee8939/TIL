{
 "cells": [
  {
   "cell_type": "code",
   "execution_count": 1,
   "metadata": {},
   "outputs": [
    {
     "name": "stderr",
     "output_type": "stream",
     "text": [
      "Checking user defined dictionary!\n",
      "\n",
      "\n",
      "필요한 패키지를 로딩중입니다: RColorBrewer\n",
      "\n",
      "필요한 패키지를 로딩중입니다: NLP\n",
      "\n"
     ]
    }
   ],
   "source": [
    "library(rJava)\n",
    "library(KoNLP)\n",
    "library(wordcloud)\n",
    "library(tm)\n",
    "library(RColorBrewer)"
   ]
  },
  {
   "cell_type": "code",
   "execution_count": 6,
   "metadata": {},
   "outputs": [
    {
     "name": "stderr",
     "output_type": "stream",
     "text": [
      "‘htmlwidgets’(들)을 또한 설치합니다.\n",
      "\n",
      "\n"
     ]
    },
    {
     "name": "stdout",
     "output_type": "stream",
     "text": [
      "\n",
      "The downloaded binary packages are in\n",
      "\t/var/folders/v3/m9cgmw1d3qs7ppj4ltvx26pc0000gn/T//RtmpJnqHso/downloaded_packages\n"
     ]
    }
   ],
   "source": [
    "install.packages('wordcloud2')\n",
    "library(wordcloud2)"
   ]
  },
  {
   "cell_type": "code",
   "execution_count": 2,
   "metadata": {},
   "outputs": [
    {
     "name": "stdout",
     "output_type": "stream",
     "text": [
      "Backup was just finished!\n",
      "370957 words dictionary was built.\n"
     ]
    },
    {
     "data": {
      "text/html": [
       "<style>\n",
       ".list-inline {list-style: none; margin:0; padding: 0}\n",
       ".list-inline>li {display: inline-block}\n",
       ".list-inline>li:not(:last-child)::after {content: \"\\00b7\"; padding: 0 .5ex}\n",
       "</style>\n",
       "<ol class=list-inline><li>'이슈'</li><li>'빅데이터에'</li><li>'이해'</li><li>'활용'</li><li>'데이터'</li><li>'과학(Data'</li><li>'Science'</li><li>'측면'</li><li>'접근'</li><li>'빅데이터는'</li><li>'통계학'</li><li>'비롯'</li><li>'한'</li><li>'경영'</li><li>'IT'</li><li>'등'</li><li>'다양'</li><li>'한'</li><li>'분야'</li><li>'들이'</li><li>'결합'</li><li>'정의'</li><li>'다양'</li><li>'강의'</li><li>'데이터'</li><li>'분석'</li><li>'기반'</li><li>'과학'</li><li>'적'</li><li>'의사결정'</li><li>'관점'</li><li>'빅데이터에'</li><li>'이해'</li><li>'실제'</li><li>'사례'</li><li>'들'</li><li>'데이터'</li><li>'의사결정'</li><li>'유용'</li><li>'한'</li><li>'정보'</li><li>'지식'</li><li>'과정'</li><li>'이해'</li><li>'빅데이터'</li><li>'분석'</li><li>'필수'</li><li>'적'</li><li>'언급'</li><li>'R'</li><li>'통계'</li><li>'프로그램'</li><li>'소개'</li><li>'이'</li><li>'분석'</li><li>'활용'</li><li>'수'</li></ol>\n"
      ],
      "text/latex": [
       "\\begin{enumerate*}\n",
       "\\item '이슈'\n",
       "\\item '빅데이터에'\n",
       "\\item '이해'\n",
       "\\item '활용'\n",
       "\\item '데이터'\n",
       "\\item '과학(Data'\n",
       "\\item 'Science'\n",
       "\\item '측면'\n",
       "\\item '접근'\n",
       "\\item '빅데이터는'\n",
       "\\item '통계학'\n",
       "\\item '비롯'\n",
       "\\item '한'\n",
       "\\item '경영'\n",
       "\\item 'IT'\n",
       "\\item '등'\n",
       "\\item '다양'\n",
       "\\item '한'\n",
       "\\item '분야'\n",
       "\\item '들이'\n",
       "\\item '결합'\n",
       "\\item '정의'\n",
       "\\item '다양'\n",
       "\\item '강의'\n",
       "\\item '데이터'\n",
       "\\item '분석'\n",
       "\\item '기반'\n",
       "\\item '과학'\n",
       "\\item '적'\n",
       "\\item '의사결정'\n",
       "\\item '관점'\n",
       "\\item '빅데이터에'\n",
       "\\item '이해'\n",
       "\\item '실제'\n",
       "\\item '사례'\n",
       "\\item '들'\n",
       "\\item '데이터'\n",
       "\\item '의사결정'\n",
       "\\item '유용'\n",
       "\\item '한'\n",
       "\\item '정보'\n",
       "\\item '지식'\n",
       "\\item '과정'\n",
       "\\item '이해'\n",
       "\\item '빅데이터'\n",
       "\\item '분석'\n",
       "\\item '필수'\n",
       "\\item '적'\n",
       "\\item '언급'\n",
       "\\item 'R'\n",
       "\\item '통계'\n",
       "\\item '프로그램'\n",
       "\\item '소개'\n",
       "\\item '이'\n",
       "\\item '분석'\n",
       "\\item '활용'\n",
       "\\item '수'\n",
       "\\end{enumerate*}\n"
      ],
      "text/markdown": [
       "1. '이슈'\n",
       "2. '빅데이터에'\n",
       "3. '이해'\n",
       "4. '활용'\n",
       "5. '데이터'\n",
       "6. '과학(Data'\n",
       "7. 'Science'\n",
       "8. '측면'\n",
       "9. '접근'\n",
       "10. '빅데이터는'\n",
       "11. '통계학'\n",
       "12. '비롯'\n",
       "13. '한'\n",
       "14. '경영'\n",
       "15. 'IT'\n",
       "16. '등'\n",
       "17. '다양'\n",
       "18. '한'\n",
       "19. '분야'\n",
       "20. '들이'\n",
       "21. '결합'\n",
       "22. '정의'\n",
       "23. '다양'\n",
       "24. '강의'\n",
       "25. '데이터'\n",
       "26. '분석'\n",
       "27. '기반'\n",
       "28. '과학'\n",
       "29. '적'\n",
       "30. '의사결정'\n",
       "31. '관점'\n",
       "32. '빅데이터에'\n",
       "33. '이해'\n",
       "34. '실제'\n",
       "35. '사례'\n",
       "36. '들'\n",
       "37. '데이터'\n",
       "38. '의사결정'\n",
       "39. '유용'\n",
       "40. '한'\n",
       "41. '정보'\n",
       "42. '지식'\n",
       "43. '과정'\n",
       "44. '이해'\n",
       "45. '빅데이터'\n",
       "46. '분석'\n",
       "47. '필수'\n",
       "48. '적'\n",
       "49. '언급'\n",
       "50. 'R'\n",
       "51. '통계'\n",
       "52. '프로그램'\n",
       "53. '소개'\n",
       "54. '이'\n",
       "55. '분석'\n",
       "56. '활용'\n",
       "57. '수'\n",
       "\n",
       "\n"
      ],
      "text/plain": [
       " [1] \"이슈\"       \"빅데이터에\" \"이해\"       \"활용\"       \"데이터\"    \n",
       " [6] \"과학(Data\"  \"Science\"    \"측면\"       \"접근\"       \"빅데이터는\"\n",
       "[11] \"통계학\"     \"비롯\"       \"한\"         \"경영\"       \"IT\"        \n",
       "[16] \"등\"         \"다양\"       \"한\"         \"분야\"       \"들이\"      \n",
       "[21] \"결합\"       \"정의\"       \"다양\"       \"강의\"       \"데이터\"    \n",
       "[26] \"분석\"       \"기반\"       \"과학\"       \"적\"         \"의사결정\"  \n",
       "[31] \"관점\"       \"빅데이터에\" \"이해\"       \"실제\"       \"사례\"      \n",
       "[36] \"들\"         \"데이터\"     \"의사결정\"   \"유용\"       \"한\"        \n",
       "[41] \"정보\"       \"지식\"       \"과정\"       \"이해\"       \"빅데이터\"  \n",
       "[46] \"분석\"       \"필수\"       \"적\"         \"언급\"       \"R\"         \n",
       "[51] \"통계\"       \"프로그램\"   \"소개\"       \"이\"         \"분석\"      \n",
       "[56] \"활용\"       \"수\"        "
      ]
     },
     "metadata": {},
     "output_type": "display_data"
    }
   ],
   "source": [
    "useSejongDic()\n",
    "\n",
    "text <- \"최근 이슈가 되고 있는 빅데이터에 대한 이해와 활용을 위해 데이터 과학(Data Science)의 측면에서 접근한다.\n",
    "빅데이터는 통계학을 비롯한 경영, IT 등의 다양한 분야들이 서로 결합되어 있고 그 정의가 다양하지만, 본 강의는 데이터 분석을\n",
    "기반으로 하는 과학적 의사결정의 관점에서 바라보고자 한다. 빅데이터에 대한 이해를 위해 실제 사례들을 살펴보고,\n",
    "데이터를 통해 의사결정에 유용한 정보 및 지식을 찾는 과정을 이해한다. 나아가 빅데이터 분석에서 필수적으로 언급되고 있는\n",
    "R 통계프로그램을 소개하고 이를 분석에 활용할 수 있게 한다.\"\n",
    "\n",
    "extractNoun(text)"
   ]
  }
 ],
 "metadata": {
  "kernelspec": {
   "display_name": "R",
   "language": "R",
   "name": "ir"
  },
  "language_info": {
   "codemirror_mode": "r",
   "file_extension": ".r",
   "mimetype": "text/x-r-source",
   "name": "R",
   "pygments_lexer": "r",
   "version": "4.1.0"
  }
 },
 "nbformat": 4,
 "nbformat_minor": 4
}
