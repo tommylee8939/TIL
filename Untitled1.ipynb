{
 "cells": [
  {
   "cell_type": "code",
   "execution_count": 1,
   "id": "bb8ad344",
   "metadata": {},
   "outputs": [],
   "source": [
    "import numpy as np"
   ]
  },
  {
   "cell_type": "code",
   "execution_count": null,
   "id": "dcc91c97",
   "metadata": {},
   "outputs": [],
   "source": []
  },
  {
   "cell_type": "code",
   "execution_count": null,
   "id": "0d7d1b66",
   "metadata": {},
   "outputs": [],
   "source": []
  },
  {
   "cell_type": "code",
   "execution_count": null,
   "id": "deeea9e3",
   "metadata": {},
   "outputs": [],
   "source": [
    "input = np.array([])"
   ]
  },
  {
   "cell_type": "code",
   "execution_count": null,
   "id": "514cb0bd",
   "metadata": {},
   "outputs": [],
   "source": []
  },
  {
   "cell_type": "code",
   "execution_count": null,
   "id": "74621cba",
   "metadata": {},
   "outputs": [],
   "source": [
    "v1 v2 v3 "
   ]
  },
  {
   "cell_type": "code",
   "execution_count": null,
   "id": "2353f031",
   "metadata": {},
   "outputs": [],
   "source": [
    "derivative_target\n",
    "2(target - test)*h2"
   ]
  },
  {
   "cell_type": "code",
   "execution_count": null,
   "id": "9a1af5c2",
   "metadata": {},
   "outputs": [],
   "source": []
  },
  {
   "cell_type": "code",
   "execution_count": null,
   "id": "956b8244",
   "metadata": {},
   "outputs": [],
   "source": []
  },
  {
   "cell_type": "code",
   "execution_count": null,
   "id": "7f7e7b15",
   "metadata": {},
   "outputs": [],
   "source": [
    "input = np.array([1,2])\n",
    "\n",
    "target = "
   ]
  },
  {
   "cell_type": "code",
   "execution_count": null,
   "id": "fa418cbd",
   "metadata": {},
   "outputs": [],
   "source": [
    "y = v1h1 + v2h1 + v3h3"
   ]
  },
  {
   "cell_type": "code",
   "execution_count": null,
   "id": "a29c44ba",
   "metadata": {},
   "outputs": [],
   "source": [
    "h1 = sigmoid(h1)\n",
    "h1 = w11x1+w21x2\n",
    "\n",
    "h2 = sigmoid(h2)\n",
    "h2 = w12x1+w22x2\n",
    "\n",
    "h2 = sigmoid(h2)\n",
    "h2 = w13x1+w23x2"
   ]
  },
  {
   "cell_type": "code",
   "execution_count": null,
   "id": "3ce75931",
   "metadata": {},
   "outputs": [],
   "source": [
    "[w11 w21\n",
    " w12 w22\n",
    " w13 w23] "
   ]
  },
  {
   "cell_type": "code",
   "execution_count": null,
   "id": "bfe40b59",
   "metadata": {},
   "outputs": [],
   "source": [
    "w11 w12 w13\n",
    "\n",
    "w21 w22 w23"
   ]
  },
  {
   "cell_type": "code",
   "execution_count": null,
   "id": "540d79ff",
   "metadata": {},
   "outputs": [],
   "source": [
    "def backward()"
   ]
  },
  {
   "cell_type": "code",
   "execution_count": 13,
   "id": "5d49c41e",
   "metadata": {},
   "outputs": [
    {
     "data": {
      "text/plain": [
       "array([2, 4, 6])"
      ]
     },
     "execution_count": 13,
     "metadata": {},
     "output_type": "execute_result"
    }
   ],
   "source": [
    "np.array([[1,1],[2,2],[3,3]])@inputnodes"
   ]
  },
  {
   "cell_type": "code",
   "execution_count": 36,
   "id": "90ca1d3a",
   "metadata": {},
   "outputs": [
    {
     "data": {
      "text/plain": [
       "array([[1, 1],\n",
       "       [2, 2],\n",
       "       [3, 3]])"
      ]
     },
     "execution_count": 36,
     "metadata": {},
     "output_type": "execute_result"
    }
   ],
   "source": [
    "np.array([[1,1],[2,2],[3,3]])"
   ]
  },
  {
   "cell_type": "code",
   "execution_count": 41,
   "id": "0c52d5d0",
   "metadata": {},
   "outputs": [
    {
     "data": {
      "text/plain": [
       "array([3, 3, 3])"
      ]
     },
     "execution_count": 41,
     "metadata": {},
     "output_type": "execute_result"
    }
   ],
   "source": [
    "np.array([[1,1,1],[2,2,2]]).transpose()@inputnodes"
   ]
  },
  {
   "cell_type": "code",
   "execution_count": 9,
   "id": "3fd346ee",
   "metadata": {},
   "outputs": [
    {
     "data": {
      "text/plain": [
       "(2,)"
      ]
     },
     "execution_count": 9,
     "metadata": {},
     "output_type": "execute_result"
    }
   ],
   "source": [
    "inputnodes = np.array([1,1]).transpose()\n"
   ]
  },
  {
   "cell_type": "code",
   "execution_count": 29,
   "id": "7ca86a65",
   "metadata": {},
   "outputs": [
    {
     "data": {
      "text/plain": [
       "1020"
      ]
     },
     "execution_count": 29,
     "metadata": {},
     "output_type": "execute_result"
    }
   ],
   "source": [
    "inputnodes = np.array([1,1])\n",
    "hidden = (np.array([[1,1],[2,2],[3,3]])@inputnodes)\n",
    "y = np.array([10,100,100])@hidden\n",
    "y"
   ]
  },
  {
   "cell_type": "code",
   "execution_count": 34,
   "id": "a8a30260",
   "metadata": {},
   "outputs": [
    {
     "data": {
      "text/plain": [
       "array([0.88079708, 0.98201379, 0.99752738])"
      ]
     },
     "execution_count": 34,
     "metadata": {},
     "output_type": "execute_result"
    }
   ],
   "source": [
    "sigmoid(hidden)"
   ]
  },
  {
   "cell_type": "code",
   "execution_count": 33,
   "id": "fa80e345",
   "metadata": {},
   "outputs": [],
   "source": [
    "def sigmoid(x):\n",
    "    sig = 1 / (1 + np.exp(-x))\n",
    "    return sig"
   ]
  },
  {
   "cell_type": "code",
   "execution_count": 52,
   "id": "168d6dcf",
   "metadata": {},
   "outputs": [
    {
     "data": {
      "text/plain": [
       "1"
      ]
     },
     "execution_count": 52,
     "metadata": {},
     "output_type": "execute_result"
    }
   ],
   "source": [
    "v = np.array([1,2,3])\n",
    "v[1-1,]"
   ]
  },
  {
   "cell_type": "code",
   "execution_count": 44,
   "id": "4186bd73",
   "metadata": {},
   "outputs": [
    {
     "data": {
      "text/plain": [
       "(array([-0.86562594]),\n",
       " array([1.44736321]),\n",
       " array([-0.11888209]),\n",
       " array([1.24051902]),\n",
       " array([-0.91043229]),\n",
       " array([-0.28751014]),\n",
       " array([0.17742357]),\n",
       " array([2.49554172]),\n",
       " array([-0.38454412]))"
      ]
     },
     "execution_count": 44,
     "metadata": {},
     "output_type": "execute_result"
    }
   ],
   "source": [
    "import numpy as np\n",
    "\n",
    "# w is weight for connecting to hidden nodes\n",
    "# v is weight for connecting to target node\n",
    "# l is learning rate\n",
    "# b and c are bias\n",
    "# target is the label\n",
    "\n",
    "# structure of the parameters\n",
    "# features = ['x1','x2']\n",
    "# w = [['w11','w12','w13'],\n",
    "#      ['w21','w22','w33']]\n",
    "# v = ['v1','v2','v3']\n",
    "# b = ['b1','b2','b3']\n",
    "# c = ['bh']\n",
    "\n",
    "def backpropagation(features,w,v,b,c,l,target):\n",
    "    \n",
    "    # forward pass\n",
    "    hidden = (w.transpose()@features) + b\n",
    "    hidden_activation = 1 / (1 + np.exp(-hidden))\n",
    "    y = v@hidden_activation + c\n",
    "    \n",
    "    # backward pass\n",
    "    v1 = v[0] - l*2*(y-target)*hidden_activation[0] # indexing starts from 0 in python\n",
    "    v2 = v[1] - l*2*(y-target)*hidden_activation[1]\n",
    "    v3 = v[2] - l*2*(y-target)*hidden_activation[2]\n",
    "    \n",
    "    w11 = w[0,0] - l*2*(y-target)*v[0]*hidden_activation[0]*(1-hidden_activation[0])*features[0]\n",
    "    w12 = w[0,1] - l*2*(y-target)*v[1]*hidden_activation[1]*(1-hidden_activation[1])*features[0]\n",
    "    w13 = w[0,2] - l*2*(y-target)*v[2]*hidden_activation[2]*(1-hidden_activation[2])*features[0]\n",
    "    w21 = w[1,0] - l*2*(y-target)*v[0]*hidden_activation[0]*(1-hidden_activation[0])*features[1]\n",
    "    w22 = w[1,1] - l*2*(y-target)*v[1]*hidden_activation[1]*(1-hidden_activation[1])*features[1]\n",
    "    w23 = w[1,2] - l*2*(y-target)*v[2]*hidden_activation[2]*(1-hidden_activation[2])*features[1]\n",
    "        \n",
    "    return v1,v2,v3,w11,w12,w13,w21,w22,w23\n",
    "\n",
    "\n",
    "num_features = 2\n",
    "num_hidden = 3\n",
    "\n",
    "# Lets say we have 10 instances, 10 target variables\n",
    "instances = np.random.randint(1,10,(10,2))\n",
    "targets = np.random.randint(1,10,10)\n",
    "\n",
    "# First choose random weights , bias\n",
    "# Choose own learning rate l\n",
    "w = np.random.randn(num_features,num_hidden)\n",
    "v = np.random.randn(num_hidden)\n",
    "b = np.random.randn(num_hidden)\n",
    "c = np.random.randn(1)\n",
    "l = 0.05\n",
    "\n",
    "# each for loop run one instance to update the weights\n",
    "for i in range(0,instances.shape[0]):\n",
    "    v1,v2,v3,w11,w12,w13,w21,w22,w23 = backpropagation(instances[i,:],w,v,b,c,l,targets[i])\n",
    "    \n",
    "\n",
    "v1,v2,v3,w11,w12,w13,w21,w22,w23\n"
   ]
  },
  {
   "cell_type": "code",
   "execution_count": 13,
   "id": "6d2f0380",
   "metadata": {},
   "outputs": [
    {
     "data": {
      "text/plain": [
       "10"
      ]
     },
     "execution_count": 13,
     "metadata": {},
     "output_type": "execute_result"
    }
   ],
   "source": [
    "instances = np.random.randint(1,10,(10,2))\n",
    "instances.shape[0]"
   ]
  },
  {
   "cell_type": "code",
   "execution_count": 24,
   "id": "e3ac91cd",
   "metadata": {},
   "outputs": [
    {
     "data": {
      "text/plain": [
       "-1.1406333020096875"
      ]
     },
     "execution_count": 24,
     "metadata": {},
     "output_type": "execute_result"
    }
   ],
   "source": [
    "np.random.randn(2,3)[0,0] "
   ]
  },
  {
   "cell_type": "code",
   "execution_count": 107,
   "id": "884c78f2",
   "metadata": {},
   "outputs": [
    {
     "name": "stderr",
     "output_type": "stream",
     "text": [
      "/var/folders/v3/m9cgmw1d3qs7ppj4ltvx26pc0000gn/T/ipykernel_17351/1178310132.py:4: VisibleDeprecationWarning: Creating an ndarray from ragged nested sequences (which is a list-or-tuple of lists-or-tuples-or ndarrays with different lengths or shapes) is deprecated. If you meant to do this, you must specify 'dtype=object' when creating the ndarray.\n",
      "  b = np.array([[0.01,0.02,0.03],0.1])\n"
     ]
    },
    {
     "data": {
      "text/plain": [
       "(7.655103556651192,\n",
       " 7.545483338940949,\n",
       " 7.539814312410703,\n",
       " -0.10154196923242864,\n",
       " 1.9405079011252153,\n",
       " 2.9970539731074104,\n",
       " -1.2030839384648573,\n",
       " 1.8810158022504309,\n",
       " 2.994107946214821)"
      ]
     },
     "execution_count": 107,
     "metadata": {},
     "output_type": "execute_result"
    }
   ],
   "source": [
    "inputnodes = np.array([1,2])\n",
    "w = np.array([[1,2,3],[1,2,3]])\n",
    "v = np.array([10,10,10])\n",
    "b = np.array([[0.01,0.02,0.03],0.1])\n",
    "l = 0.05\n",
    "\n",
    "backpropagation(inputnodes,w,v,b,l,5)\n"
   ]
  },
  {
   "cell_type": "code",
   "execution_count": 94,
   "id": "fa33f3d8",
   "metadata": {},
   "outputs": [],
   "source": [
    "hidden = w.transpose()@input\n",
    "activation = sigmoid(hidden)"
   ]
  },
  {
   "cell_type": "code",
   "execution_count": 42,
   "id": "b39b4ebb",
   "metadata": {},
   "outputs": [
    {
     "name": "stderr",
     "output_type": "stream",
     "text": [
      "<>:23: SyntaxWarning: 'int' object is not callable; perhaps you missed a comma?\n",
      "<>:24: SyntaxWarning: 'int' object is not callable; perhaps you missed a comma?\n",
      "<>:25: SyntaxWarning: 'int' object is not callable; perhaps you missed a comma?\n",
      "<>:27: SyntaxWarning: 'int' object is not callable; perhaps you missed a comma?\n",
      "<>:28: SyntaxWarning: 'int' object is not callable; perhaps you missed a comma?\n",
      "<>:29: SyntaxWarning: 'int' object is not callable; perhaps you missed a comma?\n",
      "<>:30: SyntaxWarning: 'int' object is not callable; perhaps you missed a comma?\n",
      "<>:31: SyntaxWarning: 'int' object is not callable; perhaps you missed a comma?\n",
      "<>:32: SyntaxWarning: 'int' object is not callable; perhaps you missed a comma?\n",
      "<>:23: SyntaxWarning: 'int' object is not callable; perhaps you missed a comma?\n",
      "<>:24: SyntaxWarning: 'int' object is not callable; perhaps you missed a comma?\n",
      "<>:25: SyntaxWarning: 'int' object is not callable; perhaps you missed a comma?\n",
      "<>:27: SyntaxWarning: 'int' object is not callable; perhaps you missed a comma?\n",
      "<>:28: SyntaxWarning: 'int' object is not callable; perhaps you missed a comma?\n",
      "<>:29: SyntaxWarning: 'int' object is not callable; perhaps you missed a comma?\n",
      "<>:30: SyntaxWarning: 'int' object is not callable; perhaps you missed a comma?\n",
      "<>:31: SyntaxWarning: 'int' object is not callable; perhaps you missed a comma?\n",
      "<>:32: SyntaxWarning: 'int' object is not callable; perhaps you missed a comma?\n",
      "/var/folders/v3/m9cgmw1d3qs7ppj4ltvx26pc0000gn/T/ipykernel_17351/3718296007.py:23: SyntaxWarning: 'int' object is not callable; perhaps you missed a comma?\n",
      "  v1 = v[1-1] - l*2(y-real_target)*h[1-1] # due to the indexing of python\n",
      "/var/folders/v3/m9cgmw1d3qs7ppj4ltvx26pc0000gn/T/ipykernel_17351/3718296007.py:24: SyntaxWarning: 'int' object is not callable; perhaps you missed a comma?\n",
      "  v2 = v[2-1] - l*2(y-real_target)*h[2-1]\n",
      "/var/folders/v3/m9cgmw1d3qs7ppj4ltvx26pc0000gn/T/ipykernel_17351/3718296007.py:25: SyntaxWarning: 'int' object is not callable; perhaps you missed a comma?\n",
      "  v3 = v[3-1] - l*2(y-real_target)*h[3-1]\n",
      "/var/folders/v3/m9cgmw1d3qs7ppj4ltvx26pc0000gn/T/ipykernel_17351/3718296007.py:27: SyntaxWarning: 'int' object is not callable; perhaps you missed a comma?\n",
      "  w11 = w11 - l*2(y-real_target)*v[1-1]*hidden_activation[1-1]*(1-hidden_activation[1-1])*input[1-1]\n",
      "/var/folders/v3/m9cgmw1d3qs7ppj4ltvx26pc0000gn/T/ipykernel_17351/3718296007.py:28: SyntaxWarning: 'int' object is not callable; perhaps you missed a comma?\n",
      "  w12 = w11 - l*2(y-real_target)*v[2-1]*hidden_activation[2-1]*(1-hidden_activation[2-1])*input[1-1]\n",
      "/var/folders/v3/m9cgmw1d3qs7ppj4ltvx26pc0000gn/T/ipykernel_17351/3718296007.py:29: SyntaxWarning: 'int' object is not callable; perhaps you missed a comma?\n",
      "  w13 = w11 - l*2(y-real_target)*v[3-1]*hidden_activation[3-1]*(1-hidden_activation[3-1])*input[1-1]\n",
      "/var/folders/v3/m9cgmw1d3qs7ppj4ltvx26pc0000gn/T/ipykernel_17351/3718296007.py:30: SyntaxWarning: 'int' object is not callable; perhaps you missed a comma?\n",
      "  w21 = w21 - l*2(y-real_target)*v[1-1]*hidden_activation[1-1]*(1-hidden_activation[1-1])*input[2-1]\n",
      "/var/folders/v3/m9cgmw1d3qs7ppj4ltvx26pc0000gn/T/ipykernel_17351/3718296007.py:31: SyntaxWarning: 'int' object is not callable; perhaps you missed a comma?\n",
      "  w22 = w21 - l*2(y-real_target)*v[2-1]*hidden_activation[2-1]*(1-hidden_activation[1-1])*input[2-1]\n",
      "/var/folders/v3/m9cgmw1d3qs7ppj4ltvx26pc0000gn/T/ipykernel_17351/3718296007.py:32: SyntaxWarning: 'int' object is not callable; perhaps you missed a comma?\n",
      "  w23 = w21 - l*2(y-real_target)*v[3-1]*hidden_activation[3-1]*(1-hidden_activation[1-1])*input[2-1]\n"
     ]
    }
   ],
   "source": [
    "import numpy as np\n",
    "\n",
    "def sigmoid(x):\n",
    "    sig = 1 / (1 + np.exp(-x))\n",
    "    return sig\n",
    "\n",
    "\n",
    "# input = ['x1','x2']\n",
    "# w = [['w11','w12','w13'],\n",
    "#      ['w21','w22','w33']]\n",
    "# v = ['v1','v2','v3']\n",
    "# b = [['b1','b2','b3'],'bh']\n",
    "\n",
    "\n",
    "def backpropagation(input,w,v,b,l,real_target):\n",
    "    \n",
    "    # forward pass\n",
    "    hidden = (w.transpose()@input) + b[0]\n",
    "    hidden_activation = sigmoid(hidden)\n",
    "    y = v@hidden_activation +b[1]\n",
    "    \n",
    "    # backward pass\n",
    "    v1 = v[1-1] - l*2(y-real_target)*h[1-1] # due to the indexing of python\n",
    "    v2 = v[2-1] - l*2(y-real_target)*h[2-1]\n",
    "    v3 = v[3-1] - l*2(y-real_target)*h[3-1]\n",
    "    \n",
    "    w11 = w11 - l*2(y-real_target)*v[1-1]*hidden_activation[1-1]*(1-hidden_activation[1-1])*input[1-1]\n",
    "    w12 = w11 - l*2(y-real_target)*v[2-1]*hidden_activation[2-1]*(1-hidden_activation[2-1])*input[1-1]\n",
    "    w13 = w11 - l*2(y-real_target)*v[3-1]*hidden_activation[3-1]*(1-hidden_activation[3-1])*input[1-1]\n",
    "    w21 = w21 - l*2(y-real_target)*v[1-1]*hidden_activation[1-1]*(1-hidden_activation[1-1])*input[2-1]\n",
    "    w22 = w21 - l*2(y-real_target)*v[2-1]*hidden_activation[2-1]*(1-hidden_activation[1-1])*input[2-1]\n",
    "    w23 = w21 - l*2(y-real_target)*v[3-1]*hidden_activation[3-1]*(1-hidden_activation[1-1])*input[2-1]"
   ]
  },
  {
   "cell_type": "code",
   "execution_count": null,
   "id": "1877b5af",
   "metadata": {},
   "outputs": [],
   "source": []
  }
 ],
 "metadata": {
  "kernelspec": {
   "display_name": "Python 3 (ipykernel)",
   "language": "python",
   "name": "python3"
  },
  "language_info": {
   "codemirror_mode": {
    "name": "ipython",
    "version": 3
   },
   "file_extension": ".py",
   "mimetype": "text/x-python",
   "name": "python",
   "nbconvert_exporter": "python",
   "pygments_lexer": "ipython3",
   "version": "3.8.2"
  }
 },
 "nbformat": 4,
 "nbformat_minor": 5
}
