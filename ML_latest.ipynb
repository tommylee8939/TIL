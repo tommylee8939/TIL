{
 "cells": [
  {
   "cell_type": "code",
   "execution_count": 324,
   "id": "b748baf6",
   "metadata": {},
   "outputs": [],
   "source": [
    "import numpy as np \n",
    "import pandas as pd \n",
    "import matplotlib.pyplot as plt\n",
    "import seaborn as sns\n",
    "sns.set(rc={'figure.figsize':(17,8)})\n",
    "import sklearn\n",
    "%matplotlib inline\n",
    "\n",
    "#ignore warning\n",
    "import warnings\n",
    "warnings.filterwarnings('ignore')\n",
    "\n",
    "#Adjust the display\n",
    "pd.set_option('display.width', None)\n",
    "pd.set_option('display.max_colwidth', None)"
   ]
  },
  {
   "cell_type": "code",
   "execution_count": 88,
   "id": "7a57d2da",
   "metadata": {},
   "outputs": [],
   "source": [
    "from sklearn.model_selection import train_test_split, KFold , StratifiedKFold , cross_val_score , cross_validate , GridSearchCV ,TimeSeriesSplit\n",
    "from sklearn.tree import DecisionTreeClassifier\n",
    "from sklearn.ensemble import RandomForestClassifier\n",
    "from sklearn.neighbors import KNeighborsClassifier\n",
    "from sklearn.linear_model import LogisticRegression\n",
    "from sklearn.metrics        import classification_report, accuracy_score, precision_score, recall_score, f1_score, confusion_matrix , make_scorer , precision_recall_curve , roc_curve,roc_auc_score \n",
    "from sklearn.preprocessing   import LabelEncoder ,StandardScaler, MinMaxScaler , OrdinalEncoder , OneHotEncoder\n",
    "import statistics\n",
    "from imblearn.under_sampling import RandomUnderSampler\n",
    "from imblearn.over_sampling import SMOTE, RandomOverSampler\n",
    "from imblearn.pipeline import make_pipeline as imb_make_pipeline\n",
    "from imblearn.pipeline import Pipeline as imb_Pipeline\n",
    "from sklearn.impute import SimpleImputer\n",
    "from sklearn.decomposition import PCA\n",
    "from sklearn.neural_network import MLPClassifier\n",
    "from sklearn.pipeline import Pipeline\n",
    "from sklearn.compose import ColumnTransformer"
   ]
  },
  {
   "cell_type": "code",
   "execution_count": 4,
   "id": "ba35202c",
   "metadata": {},
   "outputs": [],
   "source": [
    "df_transaction = pd.read_csv('../ieee-fraud-detection/train_transaction.csv')"
   ]
  },
  {
   "cell_type": "code",
   "execution_count": null,
   "id": "f72c631d",
   "metadata": {},
   "outputs": [],
   "source": [
    "df_transaction = pd.read_csv('../ieee-fraud-detection/train_transaction.csv')"
   ]
  },
  {
   "cell_type": "code",
   "execution_count": null,
   "id": "c4f3554b",
   "metadata": {},
   "outputs": [],
   "source": [
    "df_transaction_test = pd.read_csv('../ieee-fraud-detection/test_transaction.csv')"
   ]
  },
  {
   "cell_type": "code",
   "execution_count": null,
   "id": "3043283c",
   "metadata": {},
   "outputs": [],
   "source": []
  },
  {
   "cell_type": "code",
   "execution_count": null,
   "id": "888f335f",
   "metadata": {},
   "outputs": [],
   "source": []
  },
  {
   "cell_type": "code",
   "execution_count": 421,
   "id": "3dc8b6c2",
   "metadata": {},
   "outputs": [],
   "source": [
    "origin_x , test_x , origin_y , test_y = train_test_split(df_transaction.drop(columns=['isFraud']),df_transaction['isFraud'],train_size=0.8)"
   ]
  },
  {
   "cell_type": "code",
   "execution_count": 422,
   "id": "5527b4f2",
   "metadata": {},
   "outputs": [],
   "source": [
    "many_null_cols = [col for col in origin_x.columns if origin_x[col].isnull().sum() / origin_x.shape[0] > 0.3]\n",
    "origin_x = origin_x.drop(columns=['TransactionID','TransactionDT']+many_null_cols)\n"
   ]
  },
  {
   "cell_type": "code",
   "execution_count": 423,
   "id": "cf7646e6",
   "metadata": {},
   "outputs": [],
   "source": [
    "# 이건 해줄수 밖에 없다\n",
    "card1_top_10 = origin_x['card1'].value_counts().iloc[0:9].index\n",
    "card2_top_10 = origin_x['card2'].value_counts().iloc[0:9].index\n",
    "card3_top_5 = origin_x['card3'].value_counts().iloc[0:5].index\n",
    "card5_top_5 = origin_x['card5'].value_counts().iloc[0:5].index\n",
    "\n",
    "origin_x['card1'] = origin_x['card1'].apply(lambda x: 'rest' if x not in card1_top_10 else x).astype(str)\n",
    "origin_x['card2'] = origin_x['card2'].apply(lambda x: 'rest' if x not in card2_top_10 else x).astype(str)\n",
    "origin_x['card3'] = origin_x['card3'].apply(lambda x: 'rest' if x not in card3_top_5 else x).astype(str)\n",
    "origin_x['card5'] = origin_x['card5'].apply(lambda x: 'rest' if x not in card5_top_5 else x).astype(str)\n",
    "\n",
    "origin_x['card4'] = origin_x['card4'].apply(lambda x: 'rest' if x not in ['mastercard','discover','visa','american express'] else x )\n",
    "origin_x['card6'] = origin_x['card6'].apply(lambda x:'rest' if x not in ['debit','credit'] else x)\n",
    "\n",
    "domain_top_5 = origin_x['P_emaildomain'].value_counts()[0:5]\n",
    "origin_x['P_emaildomain'] = origin_x['P_emaildomain'].apply(lambda x: 'rest' if x not in domain_top_5 else x)\n",
    "\n",
    "address1_top10 = origin_x['addr1'].value_counts().iloc[0:9]\n",
    "origin_x['addr1'] = origin_x['addr1'].apply(lambda x: 'rest' if x not in address1_top10 else x).astype(str)\n",
    "address2_top10 = origin_x['addr2'].value_counts().iloc[0:9]\n",
    "origin_x['addr2'] = origin_x['addr2'].apply(lambda x: 'rest' if x not in address2_top10 else x).astype(str)\n",
    "\n",
    "\n",
    "m6_imputer = SimpleImputer(strategy='most_frequent').fit(origin_x[['M6']])\n",
    "origin_x['M6'] = m6_imputer.fit_transform(origin_x[['M6']])"
   ]
  },
  {
   "cell_type": "code",
   "execution_count": 424,
   "id": "6e977140",
   "metadata": {},
   "outputs": [],
   "source": [
    "categorical_features = ['ProductCD','card1','card2','card3','card4','card5','card6','P_emaildomain','addr1','addr2','M6']\n",
    "\n",
    "categorical_transformer = OneHotEncoder()\n",
    "\n",
    "\n",
    "numeric_features = origin_x.columns.drop(categorical_features)\n",
    "\n",
    "numeric_transformer = Pipeline(\n",
    "    steps=[(\"imputer\", SimpleImputer(strategy=\"median\")), (\"scaler\", StandardScaler())]\n",
    ")\n",
    "\n",
    "preprocessor = ColumnTransformer(\n",
    "    transformers=[\n",
    "        (\"num\", numeric_transformer, numeric_features),\n",
    "        (\"cat\", categorical_transformer, categorical_features),\n",
    "    ]\n",
    ")\n",
    "clf = imb_Pipeline(\n",
    "    steps=[(\"preprocessor\", preprocessor),(\"classifier\", RandomForestClassifier(n_jobs=-1))]\n",
    ")"
   ]
  },
  {
   "cell_type": "code",
   "execution_count": 417,
   "id": "591e948c",
   "metadata": {},
   "outputs": [
    {
     "data": {
      "text/plain": [
       "array([0.91209967, 0.91329865, 0.90792042, 0.9091546 , 0.91624206])"
      ]
     },
     "execution_count": 417,
     "metadata": {},
     "output_type": "execute_result"
    }
   ],
   "source": [
    "from sklearn.model_selection import TimeSeriesSplit\n",
    "#kfold = StratifiedKFold(n_splits=5,shuffle=True)\n",
    "#kfold = TimeSeriesSplit(n_splits=5)\n",
    "kfold = KFold(n_splits=5,shuffle=False)\n",
    "cross_val_score(clf,origin_x,origin_y,cv=kfold,scoring='roc_auc',n_jobs=-1)"
   ]
  },
  {
   "cell_type": "code",
   "execution_count": 269,
   "id": "6769201a",
   "metadata": {},
   "outputs": [
    {
     "data": {
      "text/plain": [
       "array([0.91277531, 0.90965579, 0.91002018, 0.91173567, 0.91322931])"
      ]
     },
     "execution_count": 269,
     "metadata": {},
     "output_type": "execute_result"
    }
   ],
   "source": [
    "# 그렇게 차이가 나지도 않는다\n",
    "from sklearn.model_selection import TimeSeriesSplit\n",
    "kfold = StratifiedKFold(n_splits=5,shuffle=True)\n",
    "cross_val_score(clf,origin_x,origin_y,cv=kfold,scoring='roc_auc',n_jobs=-1)"
   ]
  },
  {
   "cell_type": "code",
   "execution_count": null,
   "id": "38dc962b",
   "metadata": {},
   "outputs": [],
   "source": []
  },
  {
   "cell_type": "code",
   "execution_count": 425,
   "id": "ed8b4bea",
   "metadata": {},
   "outputs": [],
   "source": [
    "test_x = test_x[origin_x.columns]\n",
    "test_x['card1'] = test_x['card1'].apply(lambda x: 'rest' if x not in card1_top_10 else x).astype(str)\n",
    "test_x['card2'] = test_x['card2'].apply(lambda x: 'rest' if x not in card2_top_10 else x).astype(str)\n",
    "test_x['card3'] = test_x['card3'].apply(lambda x: 'rest' if x not in card3_top_5 else x).astype(str)\n",
    "test_x['card5'] = test_x['card5'].apply(lambda x: 'rest' if x not in card5_top_5 else x).astype(str)\n",
    "\n",
    "test_x['card4'] = test_x['card4'].apply(lambda x: 'rest' if x not in ['mastercard','discover','visa','american express'] else x )\n",
    "test_x['card6'] = test_x['card6'].apply(lambda x:'rest' if x not in ['debit','credit'] else x)\n",
    "\n",
    "test_x['P_emaildomain'] = test_x['P_emaildomain'].apply(lambda x: 'rest' if x not in domain_top_5 else x)\n",
    "\n",
    "test_x['addr1'] = test_x['addr1'].apply(lambda x: 'rest' if x not in address1_top10 else x).astype(str)\n",
    "test_x['addr2'] = test_x['addr2'].apply(lambda x: 'rest' if x not in address2_top10 else x).astype(str)\n",
    "\n",
    "test_x['M6'] = m6_imputer.transform(test_x[['M6']])"
   ]
  },
  {
   "cell_type": "code",
   "execution_count": 426,
   "id": "8db1c717",
   "metadata": {
    "scrolled": true
   },
   "outputs": [
    {
     "data": {
      "text/plain": [
       "0.9139948908804654"
      ]
     },
     "execution_count": 426,
     "metadata": {},
     "output_type": "execute_result"
    }
   ],
   "source": [
    "clf.fit(origin_x,origin_y)\n",
    "roc_auc_score(test_y,clf.predict_proba(test_x)[:, 1])"
   ]
  },
  {
   "cell_type": "code",
   "execution_count": 336,
   "id": "00aa7499",
   "metadata": {},
   "outputs": [
    {
     "data": {
      "text/plain": [
       "0          rest\n",
       "1          rest\n",
       "2          rest\n",
       "3          rest\n",
       "4          rest\n",
       "           ... \n",
       "1097226    rest\n",
       "1097227    rest\n",
       "1097228    rest\n",
       "1097229    rest\n",
       "1097230    rest\n",
       "Name: card1, Length: 1097231, dtype: object"
      ]
     },
     "execution_count": 336,
     "metadata": {},
     "output_type": "execute_result"
    }
   ],
   "source": [
    "origin_x['card1'].append(test_x['card1'],ignore_index=True)"
   ]
  },
  {
   "cell_type": "code",
   "execution_count": 420,
   "id": "8f00915d",
   "metadata": {},
   "outputs": [],
   "source": [
    "many_null_cols = [col for col in df_transaction.columns if df_transaction[col].isnull().sum() / df_transaction.shape[0] > 0.3]\n",
    "origin_x = df_transaction.drop(columns=['isFraud','TransactionID'])\n",
    "origin_x = origin_x.drop(columns=many_null_cols)\n",
    "origin_y = df_transaction['isFraud']\n",
    "\n",
    "test_x = df_transaction_test[origin_x.columns]\n",
    "\n",
    "# categorical features engineering\n",
    "card1_top_10 = origin_x['card1'].value_counts().iloc[0:20].index\n",
    "card2_top_10 = origin_x['card2'].value_counts().iloc[0:20].index\n",
    "card3_top_5 = origin_x['card3'].value_counts().iloc[0:10].index\n",
    "card5_top_5 = origin_x['card5'].value_counts().iloc[0:10].index\n",
    "\n",
    "origin_x['card1'] = origin_x['card1'].apply(lambda x: 'rest' if x not in card1_top_10 else x).astype(str)\n",
    "origin_x['card2'] = origin_x['card2'].apply(lambda x: 'rest' if x not in card2_top_10 else x).astype(str)\n",
    "origin_x['card3'] = origin_x['card3'].apply(lambda x: 'rest' if x not in card3_top_5 else x).astype(str)\n",
    "origin_x['card5'] = origin_x['card5'].apply(lambda x: 'rest' if x not in card5_top_5 else x).astype(str)\n",
    "\n",
    "origin_x['card4'] = origin_x['card4'].apply(lambda x: 'rest' if x not in ['mastercard','discover','visa','american express'] else x )\n",
    "origin_x['card6'] = origin_x['card6'].apply(lambda x:'rest' if x not in ['debit','credit'] else x)\n",
    "\n",
    "domain_top_5 = origin_x['P_emaildomain'].value_counts()[0:10]\n",
    "origin_x['P_emaildomain'] = origin_x['P_emaildomain'].apply(lambda x: 'rest' if x not in domain_top_5 else x)\n",
    "\n",
    "address1_top10 = origin_x['addr1'].value_counts().iloc[0:20]\n",
    "origin_x['addr1'] = origin_x['addr1'].apply(lambda x: 'rest' if x not in address1_top10 else x).astype(str)\n",
    "address2_top10 = origin_x['addr2'].value_counts().iloc[0:20]\n",
    "origin_x['addr2'] = origin_x['addr2'].apply(lambda x: 'rest' if x not in address2_top10 else x).astype(str)\n",
    "\n",
    "\n",
    "m6_imputer = SimpleImputer(strategy='most_frequent').fit(origin_x[['M6']])\n",
    "origin_x['M6'] = m6_imputer.fit_transform(origin_x[['M6']])\n",
    "\n",
    "\n",
    "\n",
    "# set classifier using pipeline\n",
    "categorical_features = ['ProductCD','card1','card2','card3','card4','card5','card6','P_emaildomain','addr1','addr2','M6']\n",
    "\n",
    "categorical_transformer = OneHotEncoder(sparse=False,handle_unknown='ignore')\n",
    "\n",
    "\n",
    "numeric_features = origin_x.columns.drop(categorical_features)\n",
    "\n",
    "numeric_transformer = Pipeline(\n",
    "    steps=[(\"imputer\", SimpleImputer(strategy=\"median\")), (\"scaler\", StandardScaler())]\n",
    ")\n",
    "\n",
    "preprocessor = ColumnTransformer(\n",
    "    transformers=[\n",
    "        (\"num\", numeric_transformer, numeric_features),\n",
    "        (\"cat\", categorical_transformer, categorical_features),\n",
    "    ]\n",
    ")\n",
    "clf = imb_Pipeline(\n",
    "    steps=[(\"preprocessor\", preprocessor),(\"undersample\", RandomUnderSampler()) \n",
    "           ,(\"classifier\", RandomForestClassifier())]\n",
    ")\n",
    "\n",
    "\n",
    "# test data\n",
    "\n",
    "test_x['card1'] = test_x['card1'].apply(lambda x: 'rest' if x not in card1_top_10 else x).astype(str)\n",
    "test_x['card2'] = test_x['card2'].apply(lambda x: 'rest' if x not in card2_top_10 else x).astype(str)\n",
    "test_x['card3'] = test_x['card3'].apply(lambda x: 'rest' if x not in card3_top_5 else x).astype(str)\n",
    "test_x['card5'] = test_x['card5'].apply(lambda x: 'rest' if x not in card5_top_5 else x).astype(str)\n",
    "\n",
    "test_x['card4'] = test_x['card4'].apply(lambda x: 'rest' if x not in ['mastercard','discover','visa','american express'] else x )\n",
    "test_x['card6'] = test_x['card6'].apply(lambda x:'rest' if x not in ['debit','credit'] else x)\n",
    "\n",
    "test_x['P_emaildomain'] = test_x['P_emaildomain'].apply(lambda x: 'rest' if x not in domain_top_5 else x)\n",
    "\n",
    "test_x['addr1'] = test_x['addr1'].apply(lambda x: 'rest' if x not in address1_top10 else x).astype(str)\n",
    "test_x['addr2'] = test_x['addr2'].apply(lambda x: 'rest' if x not in address2_top10 else x).astype(str)\n",
    "\n",
    "test_x['M6'] = m6_imputer.transform(test_x[['M6']])\n",
    "\n",
    "\n",
    "\n",
    "clf.fit(origin_x,origin_y)\n",
    "predict = clf.predict(test_x)\n",
    "csv_df = pd.DataFrame({'TransactionID':df_transaction_test['TransactionID'],'isFraud':predict})\n",
    "csv_df = csv_df.set_index('TransactionID')\n",
    "csv_df.to_csv('predict.csv')"
   ]
  }
 ],
 "metadata": {
  "kernelspec": {
   "display_name": "Python 3 (ipykernel)",
   "language": "python",
   "name": "python3"
  },
  "language_info": {
   "codemirror_mode": {
    "name": "ipython",
    "version": 3
   },
   "file_extension": ".py",
   "mimetype": "text/x-python",
   "name": "python",
   "nbconvert_exporter": "python",
   "pygments_lexer": "ipython3",
   "version": "3.8.2"
  }
 },
 "nbformat": 4,
 "nbformat_minor": 5
}
